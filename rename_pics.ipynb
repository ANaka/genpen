{
 "cells": [
  {
   "cell_type": "code",
   "execution_count": 1,
   "id": "a336450c-2c9b-47a7-8317-d2ac08b94151",
   "metadata": {},
   "outputs": [],
   "source": [
    "from pathlib import Path\n",
    "import pandas as pd\n",
    "import os"
   ]
  },
  {
   "cell_type": "code",
   "execution_count": 13,
   "id": "934972bd-5c82-4f75-ad49-3e4fc3e3d4cb",
   "metadata": {},
   "outputs": [],
   "source": [
    "# dir_fp = Path('/home/naka/Videos/20210523_timelapse_2')\n",
    "# dir_fp = Path('/home/naka/art/timelapse_temp')\n",
    "\n",
    "dir_fp  = Path('/media/naka/3461-6230/DCIM/')"
   ]
  },
  {
   "cell_type": "code",
   "execution_count": 14,
   "id": "0f7cffe9-7f7d-4555-a92e-15b3f85aa14f",
   "metadata": {},
   "outputs": [],
   "source": [
    "fps = list(dir_fp.glob('**/*.JPG'))"
   ]
  },
  {
   "cell_type": "code",
   "execution_count": 15,
   "id": "cfcc96d4-4d3e-4b19-9550-db765a801a89",
   "metadata": {},
   "outputs": [],
   "source": [
    "nums = [int(fp.name.split('.')[0][-5:]) for fp in fps]"
   ]
  },
  {
   "cell_type": "code",
   "execution_count": 16,
   "id": "db031450-4f78-4589-a792-f246fdbc74d6",
   "metadata": {},
   "outputs": [],
   "source": [
    "df = pd.DataFrame({'num':nums, 'fp':fps}).sort_values('num')"
   ]
  },
  {
   "cell_type": "code",
   "execution_count": null,
   "id": "a152f95d-1f6a-4116-b252-de96f4c7b330",
   "metadata": {},
   "outputs": [],
   "source": [
    "ind"
   ]
  },
  {
   "cell_type": "code",
   "execution_count": 17,
   "id": "7a800199-f11f-412f-821b-d05418c7ce93",
   "metadata": {},
   "outputs": [],
   "source": [
    "ind = df['num'] < 8847"
   ]
  },
  {
   "cell_type": "code",
   "execution_count": 18,
   "id": "97c157ca-39cd-4cf4-858e-2f98bcca3e5f",
   "metadata": {},
   "outputs": [],
   "source": [
    "df.loc[ind, 'new_num'] = df.loc[ind, 'num'] + 9999"
   ]
  },
  {
   "cell_type": "code",
   "execution_count": 19,
   "id": "4e575a19-873c-47c0-a1de-300e41bd08dc",
   "metadata": {},
   "outputs": [],
   "source": [
    "to_rename = df.loc[ind]"
   ]
  },
  {
   "cell_type": "code",
   "execution_count": 20,
   "id": "a06fb4a8-fd80-4b2b-8679-4479f9cefd54",
   "metadata": {
    "tags": []
   },
   "outputs": [],
   "source": [
    "for i, row in to_rename.iterrows():\n",
    "    new_name = f'DSC{int(row.new_num):05}.JPG'\n",
    "    os.rename(row.fp, dir_fp.joinpath(new_name))"
   ]
  },
  {
   "cell_type": "code",
   "execution_count": 63,
   "id": "a2b3c28d-398f-40df-8864-9c5be0693fe1",
   "metadata": {},
   "outputs": [],
   "source": []
  },
  {
   "cell_type": "code",
   "execution_count": 57,
   "id": "f4800234-9df6-4a9a-881c-3d828ab218da",
   "metadata": {},
   "outputs": [
    {
     "data": {
      "text/plain": [
       "PosixPath('/home/naka/Pictures/2021/05/05/DSC10364.JPG')"
      ]
     },
     "execution_count": 57,
     "metadata": {},
     "output_type": "execute_result"
    }
   ],
   "source": [
    "new_name = f'DSC{int(row.new_num):05}.JPG'\n",
    "dir_fp.joinpath(new_name)"
   ]
  },
  {
   "cell_type": "code",
   "execution_count": 6,
   "id": "e1e83396-2d6c-452b-9727-18b245fadabb",
   "metadata": {},
   "outputs": [],
   "source": [
    "dir_fp = Path('/home/naka/Videos/pov/20210606-120336_781189-7a540-b1c6e3/')"
   ]
  },
  {
   "cell_type": "code",
   "execution_count": 3,
   "id": "7b090757-2727-451b-b3ba-88323c91ba5d",
   "metadata": {},
   "outputs": [],
   "source": [
    "import ffmpeg"
   ]
  },
  {
   "cell_type": "code",
   "execution_count": 6,
   "id": "4223b2bf-0a73-4071-b717-88e88d26d51c",
   "metadata": {},
   "outputs": [],
   "source": [
    "dir_fp = '/home/naka/art/timelapse_temp'\n",
    "# dir_fp = Path('/home/naka/art/timelapse_temp')"
   ]
  },
  {
   "cell_type": "code",
   "execution_count": 4,
   "id": "0ff2f3b2-ff8d-4d21-be22-11afcc149272",
   "metadata": {},
   "outputs": [
    {
     "data": {
      "text/plain": [
       "input(filename='/home/naka/Videos/pov/20210606-120336_781189-7a540-b1c6e3*.JPG', framerate=40, pattern_type='glob')[None] <1a23edd1671e>"
      ]
     },
     "execution_count": 4,
     "metadata": {},
     "output_type": "execute_result"
    }
   ],
   "source": [
    "ffmpeg.input(f'{dir_fp}*.jpg', pattern_type='glob', framerate=40)"
   ]
  },
  {
   "cell_type": "code",
   "execution_count": 7,
   "id": "bcc82ad1-01ca-44af-b320-36a503248151",
   "metadata": {},
   "outputs": [],
   "source": [
    "try:\n",
    "    (\n",
    "        ffmpeg\n",
    "        .input(\n",
    "            f'{dir_fp}/*.jpg', \n",
    "            pattern_type='glob', \n",
    "            framerate=35,\n",
    "            pix_fmt='yuv420p',\n",
    "            \n",
    "        )\n",
    "        .output(f'{dir_fp}/movie2.mp4', crf=25)\n",
    "        .run(capture_stdout=True, capture_stderr=True)\n",
    "    )\n",
    "except ffmpeg.Error as e:\n",
    "    print('stdout:', e.stdout.decode('utf8'))\n",
    "    print('stderr:', e.stderr.decode('utf8'))\n",
    "    raise e"
   ]
  },
  {
   "cell_type": "code",
   "execution_count": null,
   "id": "dab065d7-bf33-4233-92a8-8e63cb396fcf",
   "metadata": {},
   "outputs": [],
   "source": []
  }
 ],
 "metadata": {
  "kernelspec": {
   "display_name": "Python [conda env:genpen]",
   "language": "python",
   "name": "conda-env-genpen-py"
  },
  "language_info": {
   "codemirror_mode": {
    "name": "ipython",
    "version": 3
   },
   "file_extension": ".py",
   "mimetype": "text/x-python",
   "name": "python",
   "nbconvert_exporter": "python",
   "pygments_lexer": "ipython3",
   "version": "3.8.8"
  }
 },
 "nbformat": 4,
 "nbformat_minor": 5
}

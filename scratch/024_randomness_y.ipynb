{
 "cells": [
  {
   "cell_type": "code",
   "execution_count": null,
   "metadata": {
    "Collapsed": "false"
   },
   "outputs": [],
   "source": [
    "import itertools\n",
    "import numpy as np\n",
    "import os\n",
    "from tqdm import tqdm\n",
    "import vsketch\n",
    "import shapely.geometry as sg\n",
    "from shapely.geometry import box, MultiLineString, Point, MultiPoint, Polygon, MultiPolygon, LineString\n",
    "import shapely.affinity as sa\n",
    "import shapely.ops as so\n",
    "import matplotlib.pyplot as plt\n",
    "import pandas as pd\n",
    "import seaborn as sns\n",
    "\n",
    "from genpen import genpen as gp, utils as utils\n",
    "from scipy import stats as ss\n",
    "import geopandas\n",
    "import functools\n",
    "\n",
    "%load_ext autoreload\n",
    "%autoreload 2\n",
    "\n",
    "from genpen.utils import Paper\n",
    "import bezier\n",
    "from dataclasses import asdict, dataclass, field"
   ]
  },
  {
   "cell_type": "code",
   "execution_count": null,
   "metadata": {
    "Collapsed": "false"
   },
   "outputs": [],
   "source": [
    "# make page\n",
    "paper_size = '11x17 inches'\n",
    "border:float=35\n",
    "paper = Paper(paper_size)\n",
    "\n",
    "drawbox = paper.get_drawbox(border)"
   ]
  },
  {
   "cell_type": "code",
   "execution_count": null,
   "metadata": {
    "Collapsed": "false"
   },
   "outputs": [],
   "source": [
    "xstep = 25\n",
    "ystep = 25\n",
    "(xbins, ybins), (xs, ys) = gp.overlay_grid(drawbox, xstep=xstep, ystep=ystep, flatmesh=True)"
   ]
  },
  {
   "cell_type": "code",
   "execution_count": null,
   "metadata": {
    "Collapsed": "false"
   },
   "outputs": [],
   "source": [
    "pts = []\n",
    "for i, y in enumerate(ybins):\n",
    "    for x in xbins:\n",
    "        if (i % 2) == 0:\n",
    "            x += xstep/4\n",
    "        else:\n",
    "            x += -xstep/4\n",
    "        pts.append(Point(x,y))"
   ]
  },
  {
   "cell_type": "code",
   "execution_count": null,
   "metadata": {
    "Collapsed": "false"
   },
   "outputs": [],
   "source": [
    "pts = MultiPoint(pts)\n",
    "tris = so.triangulate(pts)\n",
    "tris = [t for t in tris if t.intersects(drawbox.buffer(-21))]"
   ]
  },
  {
   "cell_type": "code",
   "execution_count": null,
   "metadata": {
    "Collapsed": "false"
   },
   "outputs": [],
   "source": [
    "yrange = [drawbox.bounds[1]+40, drawbox.bounds[2]]"
   ]
  },
  {
   "cell_type": "code",
   "execution_count": null,
   "metadata": {
    "Collapsed": "false"
   },
   "outputs": [],
   "source": [
    "jts = []\n",
    "for t in tris:\n",
    "    y = t.centroid.y\n",
    "    angle_max = np.interp(y, yrange, [0, 10])\n",
    "    angle = np.random.uniform(-angle_max, angle_max)\n",
    "    jt = sa.rotate(t, angle)\n",
    "    \n",
    "    scale_max = np.interp(y, yrange, [0, 1.2])\n",
    "    scale = np.random.uniform(1, 1+scale_max)\n",
    "    jt = sa.scale(jt, xfact=scale, yfact=scale)\n",
    "    \n",
    "    jt = jt.buffer(-1, cap_style=2, join_style=1)\n",
    "    jts.append(jt)"
   ]
  },
  {
   "cell_type": "code",
   "execution_count": null,
   "metadata": {
    "Collapsed": "false"
   },
   "outputs": [],
   "source": [
    "boundaries = gp.merge_Polygons(jts).boundary"
   ]
  },
  {
   "cell_type": "code",
   "execution_count": null,
   "metadata": {
    "Collapsed": "false"
   },
   "outputs": [],
   "source": [
    "bbs = so.unary_union([b.buffer(0.3, cap_style=1, join_style=1) for b in boundaries])"
   ]
  },
  {
   "cell_type": "code",
   "execution_count": null,
   "metadata": {
    "Collapsed": "false"
   },
   "outputs": [],
   "source": [
    "bbbs = gp.merge_LineStrings([b.boundary for b in bbs if b.area > 1])\n",
    "bbbs = gp.merge_Polygons([Polygon(b) for b in bbbs]).buffer(-0.1)\n",
    "bbbs = so.unary_union([b.buffer(0.1, cap_style=1, join_style=1) for b in bbs.boundary])\n",
    "bbbs = gp.merge_LineStrings([b.boundary for b in bbbs if b.area < 1e2])\n",
    "bbbs = gp.merge_Polygons([Polygon(b).buffer(-0.1) for b in bbbs])"
   ]
  },
  {
   "cell_type": "code",
   "execution_count": null,
   "metadata": {
    "Collapsed": "false"
   },
   "outputs": [],
   "source": [
    "bbbs = so.unary_union(bbbs)"
   ]
  },
  {
   "cell_type": "code",
   "execution_count": null,
   "metadata": {
    "Collapsed": "false"
   },
   "outputs": [],
   "source": [
    "n_layers = 1\n",
    "all_layers = [list() for i in range(n_layers)]\n",
    "    \n",
    "layer_choices = np.random.choice(n_layers, size=len(bbbs))\n",
    "for i, lc in enumerate(layer_choices):\n",
    "    p = bbbs[i]\n",
    "    y = p.centroid.y\n",
    "    angle_max = np.interp(y, yrange, [3, 50])\n",
    "    angle = np.random.uniform(-angle_max, angle_max)\n",
    "    \n",
    "    spacing_range = np.interp(y, yrange, [0, 0.2])\n",
    "    spacing = np.random.uniform(0.7-spacing_range, 0.7 + spacing_range)\n",
    "    hatches = gp.hatchbox(p, spacing=spacing, angle=angle)\n",
    "    all_layers[lc].append(hatches)\n",
    "    \n",
    "all_hatch_layers = []\n",
    "for layer in all_layers:\n",
    "    hatch_layer = [ls for ls in layer if ls.length > 1e-2]\n",
    "    all_hatch_layers.append(gp.merge_LineStrings(hatch_layer))"
   ]
  },
  {
   "cell_type": "code",
   "execution_count": null,
   "metadata": {
    "Collapsed": "false"
   },
   "outputs": [],
   "source": [
    "sk = vsketch.Vsketch()\n",
    "sk.size(paper.page_format_mm)\n",
    "sk.scale('1mm')\n",
    "sk.penWidth('0.5mm')\n",
    "for i, layer in enumerate(all_hatch_layers):\n",
    "    sk.stroke(i+1)\n",
    "    sk.geometry(layer)\n",
    "\n",
    "for tolerance in [1.2, 1.5]:\n",
    "    sk.vpype(f'linesort linemerge --tolerance {tolerance}mm')\n",
    "sk.vpype('linesimplify -t 0.2mm')\n",
    "sk.vpype('linesort')\n",
    "sk.display(color_mode='layer')"
   ]
  },
  {
   "cell_type": "code",
   "execution_count": null,
   "metadata": {
    "Collapsed": "false"
   },
   "outputs": [],
   "source": [
    "sk.save('/mnt/c/code/side/plotter_images/oned_outputs/231_randomness_y.svg')"
   ]
  },
  {
   "cell_type": "code",
   "execution_count": null,
   "metadata": {
    "Collapsed": "false"
   },
   "outputs": [],
   "source": []
  },
  {
   "cell_type": "code",
   "execution_count": null,
   "metadata": {
    "Collapsed": "false"
   },
   "outputs": [],
   "source": [
    "# make page\n",
    "paper_size = '11x17 inches'\n",
    "border:float=35\n",
    "paper = Paper(paper_size)\n",
    "\n",
    "drawbox = paper.get_drawbox(border)"
   ]
  },
  {
   "cell_type": "code",
   "execution_count": null,
   "metadata": {
    "Collapsed": "false"
   },
   "outputs": [],
   "source": [
    "xstep = 3\n",
    "ystep = 3\n",
    "(xbins, ybins), (xs, ys) = gp.overlay_grid(drawbox, xstep=xstep, ystep=ystep, flatmesh=True)"
   ]
  },
  {
   "cell_type": "code",
   "execution_count": null,
   "metadata": {
    "Collapsed": "false"
   },
   "outputs": [],
   "source": [
    "pts = []\n",
    "for i, y in enumerate(ybins):\n",
    "    for x in xbins:\n",
    "        if (i % 2) == 0:\n",
    "            x += xstep/4\n",
    "        else:\n",
    "            x += -xstep/4\n",
    "        std = np.interp(i, [20, len(ybins)], [0, 3]) ** 2\n",
    "        coord = np.array([x,y]) + np.random.randn(2) * std\n",
    "        pts.append(Point(*coord))"
   ]
  },
  {
   "cell_type": "code",
   "execution_count": null,
   "metadata": {
    "Collapsed": "false"
   },
   "outputs": [],
   "source": [
    "pts = MultiPoint(pts)\n",
    "tris = so.triangulate(pts)\n",
    "tris = [t for t in tris if t.intersects(drawbox.buffer(-23))]"
   ]
  },
  {
   "cell_type": "code",
   "execution_count": null,
   "metadata": {
    "Collapsed": "false"
   },
   "outputs": [],
   "source": [
    "gp.merge_Polygons(tris)"
   ]
  },
  {
   "cell_type": "code",
   "execution_count": null,
   "metadata": {
    "Collapsed": "false"
   },
   "outputs": [],
   "source": [
    "jts = []\n",
    "yrange = [drawbox.bounds[1]+180, drawbox.bounds[2]]\n",
    "for t in tris:\n",
    "    y = t.centroid.y\n",
    "#     angle_max = np.interp(y, yrange, [0, 10])\n",
    "#     angle = np.random.uniform(-angle_max, angle_max)\n",
    "    jt = sa.rotate(t, 0)\n",
    "    \n",
    "    scale_max = np.interp(y, yrange, [0, 0.3])\n",
    "    scale = np.random.uniform(1, 1+scale_max)\n",
    "    jt = sa.scale(jt, xfact=scale, yfact=scale)\n",
    "    \n",
    "    jt = jt.buffer(-0.05, cap_style=2, join_style=2)\n",
    "    jts.append(jt)"
   ]
  },
  {
   "cell_type": "code",
   "execution_count": null,
   "metadata": {
    "Collapsed": "false"
   },
   "outputs": [],
   "source": [
    "morphed = gp.merge_Polygons(jts)"
   ]
  },
  {
   "cell_type": "code",
   "execution_count": null,
   "metadata": {
    "Collapsed": "false"
   },
   "outputs": [],
   "source": [
    "n_layers = 1\n",
    "all_layers = [list() for i in range(n_layers)]\n",
    "yrange = [drawbox.bounds[1]+60, drawbox.bounds[2]]    \n",
    "layer_choices = np.random.choice(n_layers, size=len(morphed))\n",
    "for i, lc in enumerate(layer_choices):\n",
    "    p = morphed[i]\n",
    "    y = p.centroid.y\n",
    "    angle_max = np.interp(y, yrange, [0, 13]) ** 2\n",
    "    angle = np.random.uniform(-angle_max, angle_max)\n",
    "    \n",
    "    spacing_range = np.interp(y, yrange, [0, 0.4])\n",
    "    spacing = np.random.uniform(0.65-spacing_range, 0.6 + spacing_range)\n",
    "    hatches = gp.hatchbox(p, spacing=spacing, angle=angle)\n",
    "    all_layers[lc].append(hatches)\n",
    "    \n",
    "all_hatch_layers = []\n",
    "for layer in all_layers:\n",
    "    hatch_layer = [ls for ls in layer if ls.length > 1e-2]\n",
    "    all_hatch_layers.append(gp.merge_LineStrings(hatch_layer))"
   ]
  },
  {
   "cell_type": "code",
   "execution_count": null,
   "metadata": {
    "Collapsed": "false"
   },
   "outputs": [],
   "source": [
    "sk = vsketch.Vsketch()\n",
    "sk.size(paper.page_format_mm)\n",
    "sk.scale('1mm')\n",
    "sk.penWidth('0.5mm')\n",
    "for i, layer in enumerate(all_hatch_layers):\n",
    "    sk.stroke(i+1)\n",
    "    sk.geometry(layer)\n",
    "\n",
    "for tolerance in [0.2, 0.5, 1, 2, 2]:\n",
    "    sk.vpype(f'linemerge --tolerance {tolerance}mm linesort ')\n",
    "sk.vpype('linesimplify -t 0.1mm')\n",
    "sk.vpype('linesort')\n",
    "sk.display(color_mode='layer')"
   ]
  },
  {
   "cell_type": "code",
   "execution_count": null,
   "metadata": {
    "Collapsed": "false"
   },
   "outputs": [],
   "source": [
    "sk.save('/mnt/c/code/side/plotter_images/oned_outputs/236_randomness_y.svg')"
   ]
  },
  {
   "cell_type": "code",
   "execution_count": null,
   "metadata": {
    "Collapsed": "false"
   },
   "outputs": [],
   "source": []
  }
 ],
 "metadata": {
  "kernelspec": {
   "display_name": "Python [conda env:genpen]",
   "language": "python",
   "name": "conda-env-genpen-py"
  },
  "language_info": {
   "codemirror_mode": {
    "name": "ipython",
    "version": 3
   },
   "file_extension": ".py",
   "mimetype": "text/x-python",
   "name": "python",
   "nbconvert_exporter": "python",
   "pygments_lexer": "ipython3",
   "version": "3.8.6"
  }
 },
 "nbformat": 4,
 "nbformat_minor": 4
}

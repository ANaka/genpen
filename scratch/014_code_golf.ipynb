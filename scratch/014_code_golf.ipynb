{
 "cells": [
  {
   "cell_type": "code",
   "execution_count": null,
   "metadata": {
    "Collapsed": "false"
   },
   "outputs": [],
   "source": [
    "import numpy as np, cmath as cm\n",
    "i = np.arange(0, np.pi*2, 1e-2)\n",
    "f = lambda x : 0.2 * (np.sin(x * 7) ** 2 + np.cos(x * 5))\n",
    "g = lambda a : [cm.rect(t,u) for t,u in zip(f(i), i * a + f(f(i)))]\n",
    "h = lambda a: np.stack([(c.real, c.imag) for c in g(a)])"
   ]
  },
  {
   "cell_type": "code",
   "execution_count": null,
   "metadata": {
    "Collapsed": "false"
   },
   "outputs": [],
   "source": [
    "from matplotlib import pyplot as plt, collections as cl\n",
    "plt.gca().add_collection(cl.LineCollection([h(3)]))\n",
    "plt.axis('square')\n",
    "plt.axis('off');"
   ]
  },
  {
   "cell_type": "code",
   "execution_count": null,
   "metadata": {
    "Collapsed": "false"
   },
   "outputs": [],
   "source": [
    "import numpy as np, cmath as cm\n",
    "i = np.arange(0, np.pi*3, 1e-2)\n",
    "f = lambda x : 0.2 * (np.sin(x * 7) ** 2 + np.cos(x * 5) )\n",
    "g = lambda a : [cm.rect(t,u) for t,u in zip(f(i), i * a + f(f(i)))]\n",
    "h = lambda a: np.stack([(c.real, c.imag) for c in g(a)])\n",
    "l = [h((0.3, 0.13) @ z + 0.5) + z for z in np.stack([_.ravel() for _ in np.mgrid[0:11,0:14]]).T]\n",
    "from matplotlib import pyplot as plt, collections as cl\n",
    "plt.gca().add_collection(cl.LineCollection(l))\n",
    "plt.axis('square')\n",
    "plt.axis('off');"
   ]
  },
  {
   "cell_type": "code",
   "execution_count": null,
   "metadata": {
    "Collapsed": "false"
   },
   "outputs": [],
   "source": [
    "# plt.gcf().savefig('/mnt/c/code/side/plotter_images/200105_code_golf.svg')"
   ]
  },
  {
   "cell_type": "code",
   "execution_count": null,
   "metadata": {
    "Collapsed": "false"
   },
   "outputs": [],
   "source": [
    "import vsketch\n",
    "from shapely.geometry import LineString\n",
    "from genpen import genpen as gp, utils as utils"
   ]
  },
  {
   "cell_type": "code",
   "execution_count": null,
   "metadata": {
    "Collapsed": "false"
   },
   "outputs": [],
   "source": [
    "# make page\n",
    "paper_size = '11x14 inches'\n",
    "paper = utils.Paper(paper_size)\n",
    "border:float=20\n",
    "drawbox = paper.get_drawbox(border)\n",
    "mls = gp.merge_LineStrings([LineString(ls) for ls in l])\n",
    "mls = gp.make_like(mls, drawbox)\n",
    "sk = vsketch.Vsketch()\n",
    "sk.size(paper.page_format_mm)\n",
    "sk.scale('1mm')\n",
    "sk.penWidth('0.1mm')\n",
    "for i, layer in enumerate(mls):\n",
    "    sk.stroke(i+1)\n",
    "    sk.geometry(LineString(layer))\n",
    "\n",
    "# tolerance=0.5\n",
    "# sk.vpype(f'linemerge --tolerance {tolerance}mm linesort')\n",
    "\n",
    "sk.display()"
   ]
  },
  {
   "cell_type": "code",
   "execution_count": null,
   "metadata": {
    "Collapsed": "false"
   },
   "outputs": [],
   "source": [
    "sk.save('/mnt/c/code/side/plotter_images/oned_outputs/0159_code_golf_many.svg')"
   ]
  },
  {
   "cell_type": "code",
   "execution_count": null,
   "metadata": {
    "Collapsed": "false"
   },
   "outputs": [],
   "source": [
    "27 * 60"
   ]
  }
 ],
 "metadata": {
  "kernelspec": {
   "display_name": "Python [conda env:genpen]",
   "language": "python",
   "name": "conda-env-genpen-py"
  },
  "language_info": {
   "codemirror_mode": {
    "name": "ipython",
    "version": 3
   },
   "file_extension": ".py",
   "mimetype": "text/x-python",
   "name": "python",
   "nbconvert_exporter": "python",
   "pygments_lexer": "ipython3",
   "version": "3.8.6"
  }
 },
 "nbformat": 4,
 "nbformat_minor": 4
}

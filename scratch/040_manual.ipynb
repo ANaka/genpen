{
 "cells": [
  {
   "cell_type": "code",
   "execution_count": null,
   "id": "ab70d2b0-960f-499b-a9cc-33aa3f41a0fa",
   "metadata": {
    "tags": []
   },
   "outputs": [],
   "source": [
    "\n",
    "import itertools\n",
    "import numpy as np\n",
    "import os\n",
    "import seaborn as sns\n",
    "from tqdm import tqdm\n",
    "from dataclasses import asdict, dataclass, field\n",
    "import vsketch\n",
    "import shapely.geometry as sg\n",
    "from shapely.geometry import box, MultiLineString, Point, MultiPoint, Polygon, MultiPolygon, LineString\n",
    "import shapely.affinity as sa\n",
    "import shapely.ops as so\n",
    "import matplotlib.pyplot as plt\n",
    "import pandas as pd\n",
    "\n",
    "import vpype_cli\n",
    "from typing import List, Generic\n",
    "from genpen import genpen as gp\n",
    "from genpen.utils import Paper\n",
    "from scipy import stats as ss\n",
    "import geopandas\n",
    "from shapely.errors import TopologicalError\n",
    "import functools\n",
    "import vpype\n",
    "from skimage import io\n",
    "from pathlib import Path\n",
    "\n",
    "from sklearn.preprocessing import minmax_scale\n",
    "from skimage import feature\n",
    "from skimage import exposure\n",
    "\n",
    "from skimage import filters\n",
    "from skimage.color import rgb2gray\n",
    "from skimage.transform import rescale, resize, downscale_local_mean\n",
    "from skimage.morphology import disk\n",
    "from pyaxidraw import axidraw   # import module\n",
    "\n",
    "from PIL import Image\n",
    "\n",
    "\n",
    "import cv2\n",
    "\n",
    "from genpen.flow.field import *\n",
    "from genpen.flow.particle import *\n",
    "\n",
    "import time\n",
    "\n",
    "%load_ext autoreload\n",
    "%autoreload 2"
   ]
  },
  {
   "cell_type": "markdown",
   "id": "f5cb76ed-d79c-46fc-8ed1-67f9ce66df83",
   "metadata": {},
   "source": [
    "# spiral start buffer shaded"
   ]
  },
  {
   "cell_type": "code",
   "execution_count": null,
   "id": "93860020-65ae-4450-a5b8-f7e68ce61905",
   "metadata": {},
   "outputs": [],
   "source": [
    "image_path= '/home/naka/art/wigglesphere.jpg'\n",
    "filename = 'vp_test29.svg'\n",
    "paper_size:str = '11x14 inches'\n",
    "border:float=20  # mm\n",
    "image_rescale_factor:float=0.04\n",
    "smooth_disk_size:int=1\n",
    "hist_clip_limit=0.1\n",
    "hist_nbins=32\n",
    "intensity_min=0.\n",
    "intensity_max=1.\n",
    "hatch_spacing_min=0.35  # mm\n",
    "hatch_spacing_max=1.1 # mm\n",
    "pixel_width=1 # mm\n",
    "pixel_height=1 # mm\n",
    "angle_jitter='ss.norm(loc=10, scale=0).rvs'  # degrees\n",
    "pixel_rotation='0'  # degrees\n",
    "merge_tolerances=[0.3, 0.4,]  # mm\n",
    "simplify_tolerances=[0.2,]  # mm\n",
    "savedir='/home/naka/art/plotter_svgs'"
   ]
  },
  {
   "cell_type": "code",
   "execution_count": null,
   "id": "a9173d40-00d6-4228-8276-9a382adafb3c",
   "metadata": {},
   "outputs": [],
   "source": [
    "# make page\n",
    "paper = Paper(paper_size)\n",
    "drawbox = paper.get_drawbox(border)\n"
   ]
  },
  {
   "cell_type": "code",
   "execution_count": null,
   "id": "51db9d0c-6edd-44ab-a4c2-d05b72cf9f58",
   "metadata": {},
   "outputs": [],
   "source": [
    "pt0 = Point(139.7, 70)"
   ]
  },
  {
   "cell_type": "code",
   "execution_count": null,
   "id": "fa302736-6bd8-4f98-92af-6218590036e9",
   "metadata": {},
   "outputs": [],
   "source": [
    "c = pt0.buffer(70, resolution=20)"
   ]
  },
  {
   "cell_type": "code",
   "execution_count": null,
   "id": "19e5c377-9a6c-47ae-b4c7-4787e81c1b01",
   "metadata": {},
   "outputs": [],
   "source": [
    "buffer_gen = ss.uniform(loc=1, scale=1.1).rvs\n",
    "d_buffer_gen = functools.partial(np.random.uniform, low=-1.3, high=-1.29)\n",
    "d_translate_factor_gen = ss.uniform(loc=0.7, scale=0.1).rvs"
   ]
  },
  {
   "cell_type": "code",
   "execution_count": null,
   "id": "c7d501df-ead6-41b4-b025-68460955b05e",
   "metadata": {},
   "outputs": [],
   "source": [
    "fills = []\n",
    "all_polys = Polygon()\n",
    "p = c.buffer(0.1, cap_style=2, join_style=3)\n",
    "p = p.buffer(buffer_gen(), cap_style=2, join_style=2)\n",
    "angles_gen = gp.make_callable(np.radians(-90))\n",
    "stp = gp.ScaleTransPrms(d_buffer=d_buffer_gen(),angles=angles_gen(),d_translate_factor=d_translate_factor_gen(), n_iters=300)\n",
    "stp.d_buffers += np.random.uniform(-0.05, 0.05, size=stp.d_buffers.shape)\n",
    "P = gp.Poly(p)\n",
    "P.fill_scale_trans(**stp.prms)\n",
    "visible_area = p.difference(all_polys)\n",
    "visible_fill = P.fill.intersection(visible_area.buffer(1e-6))\n",
    "visible_fill = gp.merge_LineStrings([g for g in reversed(visible_fill.geoms)])\n",
    "fills.append(visible_fill)\n",
    "all_polys = so.unary_union([all_polys, p])"
   ]
  },
  {
   "cell_type": "code",
   "execution_count": null,
   "id": "badadef7-b181-4340-a873-c48b99fa75ed",
   "metadata": {},
   "outputs": [],
   "source": [
    "pt1 = Point(139.7, 211)"
   ]
  },
  {
   "cell_type": "code",
   "execution_count": null,
   "id": "5b27a7a6-9971-4c4b-9603-81a4b9d22b4a",
   "metadata": {},
   "outputs": [],
   "source": [
    "c = pt1.buffer(70, cap_style=1, join_style=1, resolution=2)"
   ]
  },
  {
   "cell_type": "code",
   "execution_count": null,
   "id": "79104612-f037-4010-afd4-7444c53797f6",
   "metadata": {},
   "outputs": [],
   "source": [
    "buffer_gen = ss.uniform(loc=1, scale=1.1).rvs\n",
    "d_buffer_gen = functools.partial(np.random.uniform, low=-1.3, high=-1.29)\n",
    "d_translate_factor_gen = ss.uniform(loc=0.7, scale=0.1).rvs"
   ]
  },
  {
   "cell_type": "code",
   "execution_count": null,
   "id": "a70cb068-2e20-4c06-8238-cbbf05991b99",
   "metadata": {},
   "outputs": [],
   "source": [
    "visible_fill"
   ]
  },
  {
   "cell_type": "code",
   "execution_count": null,
   "id": "ce75eff7-ad30-4bf1-914a-0b183653f2c1",
   "metadata": {},
   "outputs": [],
   "source": [
    "\n",
    "p = c\n",
    "angles_gen = gp.make_callable(np.radians(90))\n",
    "stp = gp.ScaleTransPrms(d_buffer=d_buffer_gen(),angles=angles_gen(),d_translate_factor=d_translate_factor_gen(), n_iters=300)\n",
    "stp.d_buffers += np.random.uniform(-0.05, 0.05, size=stp.d_buffers.shape)\n",
    "P = gp.Poly(p)\n",
    "P.fill_scale_trans(**stp.prms)\n",
    "visible_area = p.difference(all_polys)\n",
    "visible_fill = P.fill.intersection(visible_area.buffer(1e-6))\n",
    "visible_fill = gp.merge_LineStrings([g for g in reversed(visible_fill.geoms)])\n",
    "fills.append(visible_fill)\n",
    "all_polys = so.unary_union([all_polys, p])"
   ]
  },
  {
   "cell_type": "code",
   "execution_count": null,
   "id": "700fcf73-8be8-4366-ae85-e67e9e041009",
   "metadata": {},
   "outputs": [],
   "source": [
    "blss = gp.merge_LineStrings([f for f in fills if f.length > 0.1])"
   ]
  },
  {
   "cell_type": "code",
   "execution_count": null,
   "id": "42c42b46-152e-4799-a9e4-1da78c674e35",
   "metadata": {},
   "outputs": [],
   "source": [
    "blss = gp.make_like(blss, drawbox)"
   ]
  },
  {
   "cell_type": "code",
   "execution_count": null,
   "id": "b7ef29d2-f52d-46a8-a482-e4ffca20bd66",
   "metadata": {},
   "outputs": [],
   "source": [
    "sk = vsketch.Vsketch()\n",
    "sk.size(paper.page_format_mm)\n",
    "sk.scale('1mm')\n",
    "# for ii, ls in enumerate(lss):\n",
    "#     sk.stroke(ii + 1)\n",
    "#     sk.geometry(ls)\n",
    "sk.stroke(1)\n",
    "sk.geometry(blss)\n",
    "    \n",
    "sk.display()"
   ]
  },
  {
   "cell_type": "code",
   "execution_count": null,
   "id": "36f8af93-d856-4916-914f-b6b2d4dad1ed",
   "metadata": {},
   "outputs": [],
   "source": []
  },
  {
   "cell_type": "code",
   "execution_count": null,
   "id": "b7e2395a-7043-41df-9ae4-f843e5ce7578",
   "metadata": {},
   "outputs": [],
   "source": [
    "\n",
    "ad = axidraw.AxiDraw()          # Initialize class\n",
    "ad.interactive()\n",
    "ad.options.units = 2\n",
    "ad.connect()                    # Open serial port to AxiDraw "
   ]
  },
  {
   "cell_type": "code",
   "execution_count": null,
   "id": "0744c21e-9454-4734-a770-0b033d60f02b",
   "metadata": {},
   "outputs": [],
   "source": [
    "ad.options.speed_pendown = 60 "
   ]
  },
  {
   "cell_type": "code",
   "execution_count": null,
   "id": "3d1ec616-10d2-4021-80e4-9e57fd5ed8b3",
   "metadata": {},
   "outputs": [],
   "source": [
    "ad.options.accel=50"
   ]
  },
  {
   "cell_type": "code",
   "execution_count": null,
   "id": "319dbf81-2f84-4f9e-95ec-65db19f1ad49",
   "metadata": {},
   "outputs": [],
   "source": [
    "ad.update()"
   ]
  },
  {
   "cell_type": "code",
   "execution_count": null,
   "id": "dab780cf-05bc-4537-8a96-9f8f7c20f560",
   "metadata": {},
   "outputs": [],
   "source": [
    "blss.bounds"
   ]
  },
  {
   "cell_type": "code",
   "execution_count": null,
   "id": "c978f1a9-3db3-4793-8647-66c616c8916a",
   "metadata": {},
   "outputs": [],
   "source": [
    "def draw_geom(axidraw_handle, geom):\n",
    "    pts = geom.coords\n",
    "    y,x = pts[0]\n",
    "    ad.moveto(x, y)\n",
    "    for pt in pts[1:]:\n",
    "        y,x = pt\n",
    "        ad.lineto(x, y)\n",
    "    ad.penup()"
   ]
  },
  {
   "cell_type": "code",
   "execution_count": null,
   "id": "612d9c33-6c55-4a26-b461-01b2337ff17c",
   "metadata": {},
   "outputs": [],
   "source": [
    "wait_time = 2"
   ]
  },
  {
   "cell_type": "code",
   "execution_count": null,
   "id": "9621ea95-4e92-4f5a-bc14-9ed9660cf290",
   "metadata": {},
   "outputs": [],
   "source": [
    "for geom in tqdm(blss):\n",
    "    draw_geom(ad, geom)\n",
    "    ad.moveto(0,0)\n",
    "    time.sleep(wait_time)"
   ]
  },
  {
   "cell_type": "code",
   "execution_count": null,
   "id": "a1ff3bce-2d2c-4a89-8ee7-371245473dfa",
   "metadata": {},
   "outputs": [],
   "source": []
  },
  {
   "cell_type": "code",
   "execution_count": null,
   "id": "27cead32-f272-43da-87ca-92a292a74d0a",
   "metadata": {},
   "outputs": [],
   "source": []
  },
  {
   "cell_type": "code",
   "execution_count": null,
   "id": "d4a3f01a-5efb-4fca-b957-a3cbfdac05ec",
   "metadata": {},
   "outputs": [],
   "source": []
  },
  {
   "cell_type": "code",
   "execution_count": null,
   "id": "f998a793-6988-48a6-bb30-4e38229b3386",
   "metadata": {},
   "outputs": [],
   "source": [
    "11 * 25.4"
   ]
  },
  {
   "cell_type": "code",
   "execution_count": null,
   "id": "3a4ca54e-fe32-45b1-b621-ddd4632b8196",
   "metadata": {},
   "outputs": [],
   "source": [
    "pt = [0]"
   ]
  },
  {
   "cell_type": "code",
   "execution_count": null,
   "id": "318971b6-a59a-4f24-9de6-681c0a85ec1f",
   "metadata": {},
   "outputs": [],
   "source": [
    "pt"
   ]
  },
  {
   "cell_type": "code",
   "execution_count": null,
   "id": "45903385-b06a-405f-a589-877421e5d44f",
   "metadata": {},
   "outputs": [],
   "source": [
    "                              # Absolute moves follow:\n",
    "ad.moveto(356, 279)                  # Pen-up move to (1 inch, 1 inch)"
   ]
  },
  {
   "cell_type": "code",
   "execution_count": null,
   "id": "71efd54e-e819-4d6f-9a1e-5c1f2d016aa4",
   "metadata": {},
   "outputs": [],
   "source": [
    "# ad.lineto(2,1)                  # Pen-down move, to (2 inch, 1 inch)\n",
    "ad.moveto(0,0)  "
   ]
  },
  {
   "cell_type": "code",
   "execution_count": null,
   "id": "61f2d578-8d6b-406a-ba7d-779d2d3fcefc",
   "metadata": {},
   "outputs": [],
   "source": [
    "                # Pen-up move, back to origin.\n",
    "ad.disconnect()                 # Close serial port to AxiDraw"
   ]
  },
  {
   "cell_type": "markdown",
   "id": "893b2f57-6053-4a49-85e6-f3d37b0d1593",
   "metadata": {},
   "source": [
    "# more complex"
   ]
  },
  {
   "cell_type": "code",
   "execution_count": null,
   "id": "f6a7f23d-f930-4f41-811a-2221ba3b5e66",
   "metadata": {},
   "outputs": [],
   "source": [
    "image_path= '/home/naka/art/wigglesphere.jpg'\n",
    "filename = 'vp_test18.svg'\n",
    "paper_size:str = '11x14 inches'\n",
    "border:float=20  # mm\n",
    "image_rescale_factor:float=0.04\n",
    "smooth_disk_size:int=1\n",
    "hist_clip_limit=0.1\n",
    "hist_nbins=32\n",
    "intensity_min=0.\n",
    "intensity_max=1.\n",
    "hatch_spacing_min=0.35  # mm\n",
    "hatch_spacing_max=1.1 # mm\n",
    "pixel_width=1 # mm\n",
    "pixel_height=1 # mm\n",
    "angle_jitter='ss.norm(loc=10, scale=0).rvs'  # degrees\n",
    "pixel_rotation='0'  # degrees\n",
    "merge_tolerances=[0.3, 0.4,]  # mm\n",
    "simplify_tolerances=[0.2,]  # mm\n",
    "savedir='/home/naka/art/plotter_svgs'"
   ]
  },
  {
   "cell_type": "code",
   "execution_count": null,
   "id": "13419d44-746f-45b7-a837-25e4490bd1ac",
   "metadata": {},
   "outputs": [],
   "source": [
    "# make page\n",
    "paper = Paper(paper_size)\n",
    "drawbox = paper.get_drawbox(border)\n"
   ]
  },
  {
   "cell_type": "code",
   "execution_count": null,
   "id": "88fe97a6-b9b3-46fc-945c-5513fc039d94",
   "metadata": {
    "Collapsed": "false"
   },
   "outputs": [],
   "source": [
    "xgen = ss.uniform(loc=0.5, scale=0.05).rvs\n",
    "split_func = functools.partial(gp.split_along_longest_side_of_min_rectangle, xgen=xgen)\n",
    "splits = gp.recursive_split_frac_buffer(\n",
    "    drawbox, \n",
    "    split_func=split_func,\n",
    "    p_continue=1, \n",
    "    depth=0, \n",
    "    depth_limit=7,\n",
    "    buffer_frac=-0.0\n",
    ")\n",
    "\n",
    "bps = MultiPolygon([p for p in splits])\n",
    "\n",
    "   \n",
    "sk = vsketch.Vsketch()\n",
    "sk.size(paper.page_format_mm)\n",
    "sk.scale('1mm')\n",
    "sk.penWidth('0.5mm')\n",
    "sk.geometry(bps.boundary)\n",
    "\n",
    "# tolerance=0.5\n",
    "\n",
    "sk.display()"
   ]
  },
  {
   "cell_type": "code",
   "execution_count": null,
   "id": "da77092a-fba3-4502-a05b-264a572d80c6",
   "metadata": {},
   "outputs": [],
   "source": [
    "all_bps = gp.Shape(bps)"
   ]
  },
  {
   "cell_type": "code",
   "execution_count": null,
   "id": "a50a32e9-d43f-4af4-b646-4d044fde7d0f",
   "metadata": {},
   "outputs": [],
   "source": [
    "# make pixel polys\n",
    "prms = []\n",
    "for bp in tqdm(bps):\n",
    "\n",
    "#     a = np.random.uniform(0, 240)\n",
    "    dist_from_center = bp.centroid.distance(bps.centroid)\n",
    "    a = np.interp(dist_from_center, [0, 150], [0, 1020])\n",
    "    prm = {\n",
    "        'geometry':bp,\n",
    "        'raw_pixel_width':pixel_width,\n",
    "        'raw_pixel_height':pixel_height,\n",
    "        'angle':a,\n",
    "        'group': 'raw_hatch_pixel',\n",
    "        'magnitude': np.random.uniform(0.3, 2),\n",
    "\n",
    "    }\n",
    "    prms.append(prm)\n",
    "raw_hatch_pixels = geopandas.GeoDataFrame(prms)"
   ]
  },
  {
   "cell_type": "code",
   "execution_count": null,
   "id": "9a473395-0f6e-49b4-a83c-4cccfee9b3e6",
   "metadata": {},
   "outputs": [],
   "source": [
    "#  rescale polys to fit in drawbox\n",
    "bbox = box(*raw_hatch_pixels.total_bounds)\n",
    "_, transform = gp.make_like(bbox, drawbox, return_transform=True)\n",
    "A = gp.AffineMatrix(**transform)\n",
    "scaled_hatch_pixels = raw_hatch_pixels.copy()\n",
    "scaled_hatch_pixels['geometry'] = scaled_hatch_pixels.affine_transform(A.A_flat)\n",
    "scaled_hatch_pixels['scaled_pixel_height'] = scaled_hatch_pixels['geometry'].apply(gp.get_height)\n",
    "scaled_hatch_pixels['scaled_pixel_width'] = scaled_hatch_pixels['geometry'].apply(gp.get_width)"
   ]
  },
  {
   "cell_type": "code",
   "execution_count": null,
   "id": "a9a5a3b6-49e4-4efa-bf2a-3052fe1fab48",
   "metadata": {},
   "outputs": [],
   "source": [
    "new_drawbox = so.unary_union(scaled_hatch_pixels.geometry)\n",
    "db = gp.Poly(new_drawbox)"
   ]
  },
  {
   "cell_type": "code",
   "execution_count": null,
   "id": "40d4c055-c125-484e-b273-99124edd46ba",
   "metadata": {},
   "outputs": [],
   "source": [
    "# scaled_hatch_pixels['angle'] = np.interp(scaled_hatch_pixels.geometry.centroid.y, [db.bottom, db.top], [0, 680]) + np.random.randn(len(scaled_hatch_pixels)) * 5"
   ]
  },
  {
   "cell_type": "code",
   "execution_count": null,
   "id": "5d95b719-9ad3-43eb-a655-45d8b006bf31",
   "metadata": {},
   "outputs": [],
   "source": [
    "scaled_hatch_pixels['angle'] = scaled_hatch_pixels['angle'] // 5 * 5"
   ]
  },
  {
   "cell_type": "code",
   "execution_count": null,
   "id": "6245903e-ff3b-4b55-91e0-6fefd4c42f67",
   "metadata": {},
   "outputs": [],
   "source": [
    "# scaled_hatch_pixels['angle'] = np.interp(scaled_hatch_pixels['angle'], xp=[0, 180], fp=[30, 150])"
   ]
  },
  {
   "cell_type": "code",
   "execution_count": null,
   "id": "f1df5e1f-dacf-4daf-83be-f9080e0a597e",
   "metadata": {},
   "outputs": [],
   "source": [
    "qpg = NoisyQuantizedPiecewiseGrid(scaled_hatch_pixels, xstep=5, ystep=5, noise_scale=0.1, noise_mult=0.5, verbose=False)\n",
    "qpg.make_grid()"
   ]
  },
  {
   "cell_type": "code",
   "execution_count": null,
   "id": "b35d8c4b-17fc-4ef3-bad9-a06ee6275508",
   "metadata": {},
   "outputs": [],
   "source": [
    "spiral_angle_max = np.pi * 200\n",
    "spiral_angle_min = 0\n",
    "spiral_angle_spacing = np.pi * 0.053\n",
    "sp_angle_range = np.arange(spiral_angle_min, spiral_angle_max, spiral_angle_spacing)\n",
    "spiral_distances = np.linspace(0, 100, len(sp_angle_range))\n",
    "\n",
    "start_points = [Point(np.cos(a) * d, np.sin(a) * d) for a, d in zip(sp_angle_range, spiral_distances)]"
   ]
  },
  {
   "cell_type": "code",
   "execution_count": null,
   "id": "f08f5029-1bb9-487c-bdad-48ad736d9e28",
   "metadata": {},
   "outputs": [],
   "source": [
    "start_points = gp.make_like(MultiPoint(start_points), db.p)"
   ]
  },
  {
   "cell_type": "code",
   "execution_count": null,
   "id": "ffb7abee-f07c-4c9f-89bc-bad605b62416",
   "metadata": {
    "tags": []
   },
   "outputs": [],
   "source": [
    "poly = new_drawbox\n",
    "pts = []\n",
    "lss = []\n",
    "n_steps = 8\n",
    "for pt in tqdm(start_points):\n",
    "    \n",
    "    vp = VectorParticle(pos=pt, grid=qpg, stepsize=1, momentum_factor=np.random.uniform(0,0))\n",
    "    for ii in range(n_steps):\n",
    "        vp.step()\n",
    "    if len(vp.pts) > 1:\n",
    "        ls = gp.merge_LineStrings([LineString(vp.pts)])\n",
    "    lss.append(ls)"
   ]
  },
  {
   "cell_type": "code",
   "execution_count": null,
   "id": "6bf912df-a729-41c1-a484-a5d0784000c7",
   "metadata": {},
   "outputs": [],
   "source": [
    "buffer_gen = ss.uniform(loc=0.5, scale=0.5).rvs\n",
    "d_buffer_gen = functools.partial(np.random.uniform, low=-0.35, high=-0.30)\n",
    "d_translate_factor_gen = ss.uniform(loc=0.6, scale=0.8).rvs"
   ]
  },
  {
   "cell_type": "code",
   "execution_count": null,
   "id": "e382024a-6f87-4f08-883d-fa0ecd233b82",
   "metadata": {},
   "outputs": [],
   "source": [
    "fills = []\n",
    "all_polys = Polygon()\n",
    "for ii, l in enumerate(tqdm(lss[:])):\n",
    "    p = l.buffer(0.5, cap_style=2, join_style=2)\n",
    "    p = p.buffer(buffer_gen(), cap_style=2, join_style=2)\n",
    "    angles_gen = gp.make_callable(sp_angle_range[ii])\n",
    "#     angles_gen = gp.make_callable(-90)\n",
    "    stp = gp.ScaleTransPrms(d_buffer=d_buffer_gen(),angles=angles_gen(),d_translate_factor=d_translate_factor_gen(), n_iters=300)\n",
    "    stp.d_buffers += np.random.uniform(-0.05, 0.05, size=stp.d_buffers.shape)\n",
    "    P = gp.Poly(p)\n",
    "    P.fill_scale_trans(**stp.prms)\n",
    "    visible_area = p.difference(all_polys)\n",
    "    visible_fill = P.fill.intersection(visible_area.buffer(1e-6))\n",
    "    \n",
    "    fills.append(visible_fill)\n",
    "    all_polys = so.unary_union([all_polys, p])"
   ]
  },
  {
   "cell_type": "code",
   "execution_count": null,
   "id": "a0d490be-a9ba-43d4-bb7e-c3cae715cdbc",
   "metadata": {},
   "outputs": [],
   "source": [
    "blss = gp.merge_LineStrings([f for f in fills if f.length > 0.1])"
   ]
  },
  {
   "cell_type": "code",
   "execution_count": null,
   "id": "069f5612-51bf-4391-adc7-454686c7f739",
   "metadata": {},
   "outputs": [],
   "source": [
    "sk = vsketch.Vsketch()\n",
    "sk.size(paper.page_format_mm)\n",
    "sk.scale('1mm')\n",
    "sk.stroke(1)\n",
    "sk.geometry(blss)\n",
    "    \n",
    "sk.display()"
   ]
  },
  {
   "cell_type": "code",
   "execution_count": null,
   "id": "d2bc7822-832a-46d4-820c-e74fbc0cf907",
   "metadata": {},
   "outputs": [],
   "source": [
    "25342 * 4 / 60 / 60"
   ]
  },
  {
   "cell_type": "code",
   "execution_count": null,
   "id": "a8ff1c58-f866-4300-ac00-a4a2a0cd37ce",
   "metadata": {},
   "outputs": [],
   "source": [
    "len(blss)"
   ]
  },
  {
   "cell_type": "code",
   "execution_count": null,
   "id": "10eda2c6-4ca8-4150-9487-9763dc415192",
   "metadata": {},
   "outputs": [],
   "source": [
    "ii = 21"
   ]
  },
  {
   "cell_type": "code",
   "execution_count": null,
   "id": "6cb8149a-baad-40f3-83b7-90c1610152eb",
   "metadata": {},
   "outputs": [],
   "source": [
    "ii % 20"
   ]
  },
  {
   "cell_type": "code",
   "execution_count": null,
   "id": "82fa846c-e9a4-4bd6-99db-a2122821578a",
   "metadata": {},
   "outputs": [],
   "source": [
    "wait_time = 2"
   ]
  },
  {
   "cell_type": "code",
   "execution_count": null,
   "id": "1fa1d97b-f403-4a0c-aa61-21729b546ffa",
   "metadata": {},
   "outputs": [],
   "source": [
    "blss"
   ]
  },
  {
   "cell_type": "code",
   "execution_count": null,
   "id": "bdb51c88-7ee2-4665-a79b-5b87ed49160f",
   "metadata": {},
   "outputs": [],
   "source": []
  },
  {
   "cell_type": "code",
   "execution_count": null,
   "id": "f65478fa-9e97-44ef-a942-a4da200f7cc8",
   "metadata": {},
   "outputs": [],
   "source": [
    "def draw_geom_offset(axidraw_handle, geom, xoff=0, yoff=0):\n",
    "    pts = geom.coords\n",
    "    y,x = pts[0]\n",
    "    ad.moveto(x+xoff, y+yoff)\n",
    "    for pt in pts[1:]:\n",
    "        y,x = pt\n",
    "        ad.lineto(x+xoff, y+yoff)\n",
    "    ad.penup()"
   ]
  },
  {
   "cell_type": "code",
   "execution_count": null,
   "id": "beceb36b-b3d3-484e-9b8f-8edff47f8ec4",
   "metadata": {},
   "outputs": [],
   "source": [
    "\n",
    "ad = axidraw.AxiDraw()          # Initialize class\n",
    "ad.interactive()\n",
    "ad.options.units = 2\n",
    "ad.connect()                    # Open serial port to AxiDraw "
   ]
  },
  {
   "cell_type": "code",
   "execution_count": null,
   "id": "ebecbc44-ea0d-4c99-915c-e33199df4bcb",
   "metadata": {},
   "outputs": [],
   "source": [
    "ad.options.speed_pendown = 60 "
   ]
  },
  {
   "cell_type": "code",
   "execution_count": null,
   "id": "522e3170-00c0-4a00-92da-f753d67e9fa6",
   "metadata": {},
   "outputs": [],
   "source": [
    "ad.options.accel=50"
   ]
  },
  {
   "cell_type": "code",
   "execution_count": null,
   "id": "6d122a0f-df25-4c04-8b29-5231a2715dd2",
   "metadata": {},
   "outputs": [],
   "source": [
    "ad.update()"
   ]
  },
  {
   "cell_type": "code",
   "execution_count": null,
   "id": "d36e00f6-c535-47c9-b58d-ccd1cae9dad7",
   "metadata": {},
   "outputs": [],
   "source": [
    "ad.moveto(0, 0)"
   ]
  },
  {
   "cell_type": "code",
   "execution_count": null,
   "id": "f644d629-5e95-4483-ba6c-8a5b3405f1e4",
   "metadata": {},
   "outputs": [],
   "source": [
    "geom.length > 0"
   ]
  },
  {
   "cell_type": "code",
   "execution_count": null,
   "id": "0113cc85-965a-4f8c-a3ca-eee71896adcc",
   "metadata": {},
   "outputs": [],
   "source": [
    "yoff = 0\n",
    "xoff = 0\n",
    "counter = 0\n",
    "for ii, geom in enumerate(tqdm(fills)):\n",
    "    try:\n",
    "        for line in geom:\n",
    "            if line.length > 0:\n",
    "                draw_geom_offset(ad, line, xoff=xoff, yoff=yoff)\n",
    "                counter += 1\n",
    "                if counter % 20 == 0:\n",
    "                    ad.moveto(xoff, yoff)\n",
    "                    time.sleep(wait_time)\n",
    "    except:\n",
    "        pass"
   ]
  },
  {
   "cell_type": "code",
   "execution_count": null,
   "id": "77908080-c693-4da8-ac91-0fd973662785",
   "metadata": {},
   "outputs": [],
   "source": [
    "yoff = 0\n",
    "xoff = 0\n",
    "counter = 0\n",
    "for ii, geom in enumerate(tqdm(fills)):\n",
    "    for line in geom:\n",
    "        if line.length > 0:\n",
    "            draw_geom_offset(ad, line, xoff=xoff, yoff=yoff)\n",
    "            counter += 1\n",
    "            if counter % 20 == 0:\n",
    "                ad.moveto(xoff, yoff)\n",
    "                time.sleep(wait_time)"
   ]
  },
  {
   "cell_type": "code",
   "execution_count": null,
   "id": "ff8a411b-6dfb-4230-a4df-1760c53db655",
   "metadata": {},
   "outputs": [],
   "source": [
    "len(fills)"
   ]
  },
  {
   "cell_type": "markdown",
   "id": "d38793dc-b5ed-4912-87f5-144686a10e44",
   "metadata": {},
   "source": [
    "# more complex"
   ]
  },
  {
   "cell_type": "code",
   "execution_count": null,
   "id": "f48556e4-ba82-4f35-a21d-996c4ba6bf57",
   "metadata": {},
   "outputs": [],
   "source": [
    "image_path= '/home/naka/art/wigglesphere.jpg'\n",
    "filename = 'vp_test18.svg'\n",
    "paper_size:str = '11x14 inches'\n",
    "border:float=20  # mm\n",
    "image_rescale_factor:float=0.04\n",
    "smooth_disk_size:int=1\n",
    "hist_clip_limit=0.1\n",
    "hist_nbins=32\n",
    "intensity_min=0.\n",
    "intensity_max=1.\n",
    "hatch_spacing_min=0.35  # mm\n",
    "hatch_spacing_max=1.1 # mm\n",
    "pixel_width=1 # mm\n",
    "pixel_height=1 # mm\n",
    "angle_jitter='ss.norm(loc=10, scale=0).rvs'  # degrees\n",
    "pixel_rotation='0'  # degrees\n",
    "merge_tolerances=[0.3, 0.4,]  # mm\n",
    "simplify_tolerances=[0.2,]  # mm\n",
    "savedir='/home/naka/art/plotter_svgs'"
   ]
  },
  {
   "cell_type": "code",
   "execution_count": null,
   "id": "2ddfd48f-125c-4934-bb22-39ba16ea394f",
   "metadata": {},
   "outputs": [],
   "source": [
    "# make page\n",
    "paper = Paper(paper_size)\n",
    "drawbox = paper.get_drawbox(border)\n"
   ]
  },
  {
   "cell_type": "code",
   "execution_count": null,
   "id": "84872ca5-ba6d-44d7-b406-4b66b2dca557",
   "metadata": {
    "Collapsed": "false"
   },
   "outputs": [],
   "source": [
    "xgen = ss.uniform(loc=0.5, scale=0.25).rvs\n",
    "split_func = functools.partial(gp.split_along_longest_side_of_min_rectangle, xgen=xgen)\n",
    "splits = gp.recursive_split_frac_buffer(\n",
    "    drawbox, \n",
    "    split_func=split_func,\n",
    "    p_continue=1, \n",
    "    depth=0, \n",
    "    depth_limit=7,\n",
    "    buffer_frac=-0.0\n",
    ")\n",
    "\n",
    "bps = MultiPolygon([p for p in splits])\n",
    "\n",
    "   \n",
    "sk = vsketch.Vsketch()\n",
    "sk.size(paper.page_format_mm)\n",
    "sk.scale('1mm')\n",
    "sk.penWidth('0.5mm')\n",
    "sk.geometry(bps.boundary)\n",
    "\n",
    "# tolerance=0.5\n",
    "\n",
    "sk.display()"
   ]
  },
  {
   "cell_type": "code",
   "execution_count": null,
   "id": "71a094b8-57a5-460b-86c4-bc430c2d9b74",
   "metadata": {},
   "outputs": [],
   "source": [
    "all_bps = gp.Shape(bps)"
   ]
  },
  {
   "cell_type": "code",
   "execution_count": null,
   "id": "90e7d361-1e04-444d-b484-51d9d750bed0",
   "metadata": {},
   "outputs": [],
   "source": [
    "# make pixel polys\n",
    "prms = []\n",
    "for bp in tqdm(bps):\n",
    "\n",
    "#     a = np.random.uniform(0, 240)\n",
    "    dist_from_center = bp.centroid.distance(bps.centroid)\n",
    "    a = np.interp(dist_from_center, [0, 150], [0, 1020])\n",
    "    prm = {\n",
    "        'geometry':bp,\n",
    "        'raw_pixel_width':pixel_width,\n",
    "        'raw_pixel_height':pixel_height,\n",
    "        'angle':a,\n",
    "        'group': 'raw_hatch_pixel',\n",
    "        'magnitude': np.random.uniform(0.3, 2),\n",
    "\n",
    "    }\n",
    "    prms.append(prm)\n",
    "raw_hatch_pixels = geopandas.GeoDataFrame(prms)"
   ]
  },
  {
   "cell_type": "code",
   "execution_count": null,
   "id": "eee93814-1f2e-413a-b4e0-97c3f747575d",
   "metadata": {},
   "outputs": [],
   "source": [
    "#  rescale polys to fit in drawbox\n",
    "bbox = box(*raw_hatch_pixels.total_bounds)\n",
    "_, transform = gp.make_like(bbox, drawbox, return_transform=True)\n",
    "A = gp.AffineMatrix(**transform)\n",
    "scaled_hatch_pixels = raw_hatch_pixels.copy()\n",
    "scaled_hatch_pixels['geometry'] = scaled_hatch_pixels.affine_transform(A.A_flat)\n",
    "scaled_hatch_pixels['scaled_pixel_height'] = scaled_hatch_pixels['geometry'].apply(gp.get_height)\n",
    "scaled_hatch_pixels['scaled_pixel_width'] = scaled_hatch_pixels['geometry'].apply(gp.get_width)"
   ]
  },
  {
   "cell_type": "code",
   "execution_count": null,
   "id": "b74890af-bfb7-499f-9317-7b861e6647a7",
   "metadata": {},
   "outputs": [],
   "source": [
    "new_drawbox = so.unary_union(scaled_hatch_pixels.geometry)\n",
    "db = gp.Poly(new_drawbox)"
   ]
  },
  {
   "cell_type": "code",
   "execution_count": null,
   "id": "02c62597-6d52-4d04-96f6-1caad4c67b81",
   "metadata": {},
   "outputs": [],
   "source": [
    "# scaled_hatch_pixels['angle'] = np.interp(scaled_hatch_pixels.geometry.centroid.y, [db.bottom, db.top], [0, 680]) + np.random.randn(len(scaled_hatch_pixels)) * 5"
   ]
  },
  {
   "cell_type": "code",
   "execution_count": null,
   "id": "eec09ca4-4fd8-426d-949c-07849c19b1ed",
   "metadata": {},
   "outputs": [],
   "source": [
    "scaled_hatch_pixels['angle'] = scaled_hatch_pixels['angle'] // 5 * 5"
   ]
  },
  {
   "cell_type": "code",
   "execution_count": null,
   "id": "76003e22-0a1e-43d7-9954-694be5489624",
   "metadata": {},
   "outputs": [],
   "source": [
    "# scaled_hatch_pixels['angle'] = np.interp(scaled_hatch_pixels['angle'], xp=[0, 180], fp=[30, 150])"
   ]
  },
  {
   "cell_type": "code",
   "execution_count": null,
   "id": "ad8bf588-85dc-42dd-b2a4-011b6287d4aa",
   "metadata": {},
   "outputs": [],
   "source": [
    "qpg = NoisyQuantizedPiecewiseGrid(scaled_hatch_pixels, xstep=5, ystep=5, noise_scale=0.1, noise_mult=0.5, verbose=False)\n",
    "qpg.make_grid()"
   ]
  },
  {
   "cell_type": "code",
   "execution_count": null,
   "id": "b7b37f0b-e9c1-4ebf-b74e-954cd7d059d4",
   "metadata": {},
   "outputs": [],
   "source": [
    "spiral_angle_max = np.pi * 200\n",
    "spiral_angle_min = 0\n",
    "spiral_angle_spacing = np.pi * 0.1\n",
    "sp_angle_range = np.arange(spiral_angle_min, spiral_angle_max, spiral_angle_spacing)\n",
    "spiral_distances = np.linspace(0, 100, len(sp_angle_range))\n",
    "\n",
    "start_points = [Point(np.cos(a) * d, np.sin(a) * d) for a, d in zip(sp_angle_range, spiral_distances)]"
   ]
  },
  {
   "cell_type": "code",
   "execution_count": null,
   "id": "1269e49f-ab2c-46f2-8232-6c92d9f57e4c",
   "metadata": {},
   "outputs": [],
   "source": [
    "start_points = gp.make_like(MultiPoint(start_points), db.p)"
   ]
  },
  {
   "cell_type": "code",
   "execution_count": null,
   "id": "cef628ee-efb0-4aa3-a4a6-916b4bd8f2d2",
   "metadata": {
    "tags": []
   },
   "outputs": [],
   "source": [
    "poly = new_drawbox\n",
    "pts = []\n",
    "lss = []\n",
    "n_steps = 14\n",
    "for pt in tqdm(start_points):\n",
    "    \n",
    "    vp = VectorParticle(pos=pt, grid=qpg, stepsize=1, momentum_factor=np.random.uniform(0,0))\n",
    "    for ii in range(n_steps):\n",
    "        vp.step()\n",
    "    if len(vp.pts) > 1:\n",
    "        ls = gp.merge_LineStrings([LineString(vp.pts)])\n",
    "    lss.append(ls)"
   ]
  },
  {
   "cell_type": "code",
   "execution_count": null,
   "id": "4f5b7cc6-1c0f-45aa-ae4c-7e3a06b0b811",
   "metadata": {},
   "outputs": [],
   "source": [
    "buffer_gen = ss.uniform(loc=0.5, scale=0.5).rvs\n",
    "d_buffer_gen = functools.partial(np.random.uniform, low=-0.4, high=-0.2)\n",
    "d_translate_factor_gen = ss.uniform(loc=0.6, scale=0.8).rvs"
   ]
  },
  {
   "cell_type": "code",
   "execution_count": null,
   "id": "d65e34d0-2962-4906-80be-c70749b44a1c",
   "metadata": {},
   "outputs": [],
   "source": [
    "fills = []\n",
    "all_polys = Polygon()\n",
    "for ii, l in enumerate(tqdm(lss[:])):\n",
    "    p = l.buffer(1.5, cap_style=2, join_style=2)\n",
    "    p = p.buffer(buffer_gen(), cap_style=2, join_style=2)\n",
    "    angles_gen = gp.make_callable(sp_angle_range[ii])\n",
    "#     angles_gen = gp.make_callable(-90)\n",
    "    stp = gp.ScaleTransPrms(d_buffer=d_buffer_gen(),angles=angles_gen(),d_translate_factor=d_translate_factor_gen(), n_iters=300)\n",
    "    stp.d_buffers += np.random.uniform(-0.05, 0.05, size=stp.d_buffers.shape)\n",
    "    P = gp.Poly(p)\n",
    "    P.fill_scale_trans(**stp.prms)\n",
    "    visible_area = p.difference(all_polys)\n",
    "    visible_fill = P.fill.intersection(visible_area.buffer(1e-6))\n",
    "    \n",
    "    fills.append(visible_fill)\n",
    "    all_polys = so.unary_union([all_polys, p])"
   ]
  },
  {
   "cell_type": "code",
   "execution_count": null,
   "id": "40268c8c-0f6c-4cf1-835c-95c9aafb4a65",
   "metadata": {},
   "outputs": [],
   "source": [
    "blss = gp.merge_LineStrings([f for f in fills if f.length > 0.1])"
   ]
  },
  {
   "cell_type": "code",
   "execution_count": null,
   "id": "fa757267-ac41-4826-95af-23de280655dd",
   "metadata": {},
   "outputs": [],
   "source": [
    "sk = vsketch.Vsketch()\n",
    "sk.size(paper.page_format_mm)\n",
    "sk.scale('1mm')\n",
    "sk.stroke(1)\n",
    "sk.geometry(blss)\n",
    "    \n",
    "sk.display()"
   ]
  },
  {
   "cell_type": "code",
   "execution_count": null,
   "id": "c34737d3-8a6d-42db-b80c-f78e9a4cfb53",
   "metadata": {},
   "outputs": [],
   "source": [
    "save"
   ]
  },
  {
   "cell_type": "code",
   "execution_count": null,
   "id": "031dc723-a470-4fd8-a8a8-4c9dd97ca974",
   "metadata": {},
   "outputs": [],
   "source": [
    "filename = 'vp_test30.svg'"
   ]
  },
  {
   "cell_type": "code",
   "execution_count": null,
   "id": "7f81bf32-61ad-4415-af6c-abcaf13a240f",
   "metadata": {},
   "outputs": [],
   "source": [
    "savepath = Path(savedir).joinpath(filename).as_posix()\n",
    "sk.save(savepath)"
   ]
  },
  {
   "cell_type": "code",
   "execution_count": null,
   "id": "435576d6-c908-4037-9dcc-fffe899df64a",
   "metadata": {},
   "outputs": [],
   "source": [
    "def draw_geom_offset(axidraw_handle, geom, xoff=0, yoff=0):\n",
    "    pts = geom.coords\n",
    "    y,x = pts[0]\n",
    "    ad.moveto(x+xoff, y+yoff)\n",
    "    for pt in pts[1:]:\n",
    "        y,x = pt\n",
    "        ad.lineto(x+xoff, y+yoff)\n",
    "    ad.penup()"
   ]
  },
  {
   "cell_type": "code",
   "execution_count": null,
   "id": "a2c31052-0e77-4e01-803e-e273aceaef54",
   "metadata": {},
   "outputs": [],
   "source": [
    "\n",
    "ad = axidraw.AxiDraw()          # Initialize class\n",
    "ad.interactive()\n",
    "ad.options.units = 2\n",
    "ad.connect()                    # Open serial port to AxiDraw "
   ]
  },
  {
   "cell_type": "code",
   "execution_count": null,
   "id": "96f60de8-964c-4224-88db-ed57ff5c0c93",
   "metadata": {},
   "outputs": [],
   "source": [
    "ad.options.speed_pendown = 60 "
   ]
  },
  {
   "cell_type": "code",
   "execution_count": null,
   "id": "df57f537-f9e9-43d5-ae54-9016ac271df6",
   "metadata": {},
   "outputs": [],
   "source": [
    "ad.options.accel=50"
   ]
  },
  {
   "cell_type": "code",
   "execution_count": null,
   "id": "d489a7dc-5b81-4b8c-9043-62f9435d2a82",
   "metadata": {},
   "outputs": [],
   "source": [
    "ad.update()"
   ]
  },
  {
   "cell_type": "code",
   "execution_count": null,
   "id": "ddc9e8f1-0cbf-4dbe-b2f3-2b35c012d081",
   "metadata": {},
   "outputs": [],
   "source": [
    "ad.moveto(0, 0)"
   ]
  },
  {
   "cell_type": "code",
   "execution_count": null,
   "id": "e95ea913-7e89-4a25-9ca3-13c5a2def578",
   "metadata": {},
   "outputs": [],
   "source": [
    "geom.length > 0"
   ]
  },
  {
   "cell_type": "code",
   "execution_count": null,
   "id": "07c7659b-fc68-4188-8465-59664c433c3b",
   "metadata": {},
   "outputs": [],
   "source": [
    "yoff = 0\n",
    "xoff = 0\n",
    "counter = 0\n",
    "for ii, geom in enumerate(tqdm(fills)):\n",
    "    try:\n",
    "        for line in geom:\n",
    "            if line.length > 0:\n",
    "                draw_geom_offset(ad, line, xoff=xoff, yoff=yoff)\n",
    "                counter += 1\n",
    "                if counter % 20 == 0:\n",
    "                    ad.moveto(xoff, yoff)\n",
    "                    time.sleep(wait_time)\n",
    "    except:\n",
    "        pass"
   ]
  },
  {
   "cell_type": "code",
   "execution_count": null,
   "id": "ab9d398f-3d7e-4438-acbf-c79fa3e2b256",
   "metadata": {},
   "outputs": [],
   "source": [
    "yoff = 0\n",
    "xoff = 0\n",
    "counter = 0\n",
    "for ii, geom in enumerate(tqdm(fills)):\n",
    "    for line in geom:\n",
    "        if line.length > 0:\n",
    "            draw_geom_offset(ad, line, xoff=xoff, yoff=yoff)\n",
    "            counter += 1\n",
    "            if counter % 20 == 0:\n",
    "                ad.moveto(xoff, yoff)\n",
    "                time.sleep(wait_time)"
   ]
  },
  {
   "cell_type": "code",
   "execution_count": null,
   "id": "f706bd4c-d0b3-40c8-9437-ccab6d978c69",
   "metadata": {},
   "outputs": [],
   "source": [
    "len(fills)"
   ]
  },
  {
   "cell_type": "markdown",
   "id": "a9cfe5fa-318b-4f3f-8dc0-c146ecc2e6f4",
   "metadata": {},
   "source": [
    "# bez shading"
   ]
  },
  {
   "cell_type": "code",
   "execution_count": null,
   "id": "7c8327bc-1aad-41b2-8ef6-2579150605fd",
   "metadata": {},
   "outputs": [],
   "source": [
    "image_path= '/home/naka/art/wigglesphere.jpg'\n",
    "filename = 'vp_test31.svg'\n",
    "paper_size:str = '11x14 inches'\n",
    "border:float=20  # mm\n",
    "image_rescale_factor:float=0.04\n",
    "smooth_disk_size:int=1\n",
    "hist_clip_limit=0.1\n",
    "hist_nbins=32\n",
    "intensity_min=0.\n",
    "intensity_max=1.\n",
    "hatch_spacing_min=0.35  # mm\n",
    "hatch_spacing_max=1.1 # mm\n",
    "pixel_width=1 # mm\n",
    "pixel_height=1 # mm\n",
    "angle_jitter='ss.norm(loc=10, scale=0).rvs'  # degrees\n",
    "pixel_rotation='0'  # degrees\n",
    "merge_tolerances=[0.3, 0.4,]  # mm\n",
    "simplify_tolerances=[0.2,]  # mm\n",
    "savedir='/home/naka/art/plotter_svgs'"
   ]
  },
  {
   "cell_type": "code",
   "execution_count": null,
   "id": "48e96379-79ff-4eb5-ab53-7248e0ca1851",
   "metadata": {},
   "outputs": [],
   "source": [
    "# make page\n",
    "paper = Paper(paper_size)\n",
    "drawbox = paper.get_drawbox(border)\n"
   ]
  },
  {
   "cell_type": "code",
   "execution_count": null,
   "id": "9078475c-cec4-4c41-855b-d9eb308d6455",
   "metadata": {
    "Collapsed": "false"
   },
   "outputs": [],
   "source": [
    "xgen = ss.uniform(loc=0.6, scale=0.1).rvs\n",
    "split_func = functools.partial(gp.split_along_longest_side_of_min_rectangle, xgen=xgen)\n",
    "splits = gp.recursive_split_frac_buffer(\n",
    "    drawbox, \n",
    "    split_func=split_func,\n",
    "    p_continue=0.7, \n",
    "    depth=0, \n",
    "    depth_limit=7,\n",
    "    buffer_frac=-0.0\n",
    ")\n",
    "\n",
    "bps = MultiPolygon([p for p in splits])\n",
    "\n",
    "   \n",
    "sk = vsketch.Vsketch()\n",
    "sk.size(paper.page_format_mm)\n",
    "sk.scale('1mm')\n",
    "sk.penWidth('0.5mm')\n",
    "sk.geometry(bps.boundary)\n",
    "\n",
    "# tolerance=0.5\n",
    "\n",
    "sk.display()"
   ]
  },
  {
   "cell_type": "code",
   "execution_count": null,
   "id": "66b3b7f0-b2f5-49f0-8d7d-2efa3c2e7d78",
   "metadata": {
    "Collapsed": "false"
   },
   "outputs": [],
   "source": [
    "n_layers = 1"
   ]
  },
  {
   "cell_type": "code",
   "execution_count": null,
   "id": "30c5df36-1ae9-4cc9-9a24-e98a4545b142",
   "metadata": {
    "Collapsed": "false"
   },
   "outputs": [],
   "source": [
    "layers = []\n",
    "for ii in range(n_layers):\n",
    "    fills = []\n",
    "    for p in bps:\n",
    "        xjitter_func = 0\n",
    "        yjitter_func = ss.norm(loc=0, scale=np.random.uniform(0.1, 1.5)).rvs\n",
    "        bhf = gp.BezierHatchFill(\n",
    "            spacing=np.random.uniform(0.25, 0.35),\n",
    "            degrees=np.random.uniform(40,60),\n",
    "            poly_to_fill=p, \n",
    "            xjitter_func=xjitter_func, \n",
    "            yjitter_func=yjitter_func,\n",
    "            fill_inscribe_buffer=1.4,\n",
    "            n_nodes_per_line=15,\n",
    "            n_eval_points=100,\n",
    "        )\n",
    "        fills.append(bhf.p)\n",
    "\n",
    "    fills = [f for f in fills if f.length > 0]\n",
    "    layer = gp.merge_LineStrings(fills)\n",
    "    layers.append(layer)"
   ]
  },
  {
   "cell_type": "code",
   "execution_count": null,
   "id": "ad7f8f4a-e126-4b4a-8c96-f5eb3bb59467",
   "metadata": {
    "Collapsed": "false"
   },
   "outputs": [],
   "source": [
    "sk = vsketch.Vsketch()\n",
    "sk.size(paper.page_format_mm)\n",
    "sk.scale('1mm')\n",
    "sk.penWidth('0.3mm')\n",
    "for i, layer in enumerate(layers):\n",
    "    sk.stroke(i+1)\n",
    "    sk.geometry(layer)\n",
    "\n",
    "# sk.penWidth('0.2')\n",
    "# for tolerance in [0.1, 0.3, 1.5]:\n",
    "#     sk.vpype(f'linemerge --tolerance {tolerance}mm')\n",
    "# sk.vpype('linesimplify --tolerance 0.1 linesort')\n",
    "\n",
    "sk.display(color_mode='layer')"
   ]
  },
  {
   "cell_type": "code",
   "execution_count": null,
   "id": "6c952a90-5651-41fe-a477-5c887cd39776",
   "metadata": {},
   "outputs": [],
   "source": []
  },
  {
   "cell_type": "code",
   "execution_count": null,
   "id": "82c25aad-9987-4948-b5b2-14b8677c43d0",
   "metadata": {},
   "outputs": [],
   "source": [
    "def draw_geom_offset(axidraw_handle, geom, xoff=0, yoff=0):\n",
    "    pts = geom.coords\n",
    "    y,x = pts[0]\n",
    "    ad.moveto(x+xoff, y+yoff)\n",
    "    for pt in pts[1:]:\n",
    "        y,x = pt\n",
    "        ad.lineto(x+xoff, y+yoff)\n",
    "    ad.penup()"
   ]
  },
  {
   "cell_type": "code",
   "execution_count": null,
   "id": "11722cb4-bdd1-4a37-9709-ac295ed2dfb3",
   "metadata": {},
   "outputs": [],
   "source": [
    "\n",
    "ad = axidraw.AxiDraw()          # Initialize class\n",
    "ad.interactive()\n",
    "ad.options.units = 2\n",
    "ad.connect()                    # Open serial port to AxiDraw "
   ]
  },
  {
   "cell_type": "code",
   "execution_count": null,
   "id": "d26a7992-6d31-450c-8862-961a15189387",
   "metadata": {},
   "outputs": [],
   "source": [
    "time.sleep(wait_time)"
   ]
  },
  {
   "cell_type": "code",
   "execution_count": null,
   "id": "f798db56-a813-43b4-99ce-026eaa6f8256",
   "metadata": {},
   "outputs": [],
   "source": [
    "ad.options.speed_pendown = 60 "
   ]
  },
  {
   "cell_type": "code",
   "execution_count": null,
   "id": "108a089e-9389-4752-9519-fc542187f16b",
   "metadata": {},
   "outputs": [],
   "source": [
    "ad.options.accel=50"
   ]
  },
  {
   "cell_type": "code",
   "execution_count": null,
   "id": "8d5fc26d-a969-4165-a968-45007f2e7435",
   "metadata": {},
   "outputs": [],
   "source": [
    "ad.update()"
   ]
  },
  {
   "cell_type": "code",
   "execution_count": null,
   "id": "c13f54d7-242a-46a6-984b-b06e6c8eb420",
   "metadata": {},
   "outputs": [],
   "source": [
    "ad.moveto(0, 150)"
   ]
  },
  {
   "cell_type": "code",
   "execution_count": null,
   "id": "76eae96e-a1a9-40bf-897d-ccf2b6abb49f",
   "metadata": {},
   "outputs": [],
   "source": [
    "geom.length > 0"
   ]
  },
  {
   "cell_type": "code",
   "execution_count": null,
   "id": "67474a38-2a6f-4458-bfad-c68729066acf",
   "metadata": {},
   "outputs": [],
   "source": [
    "ad.current_pos()"
   ]
  },
  {
   "cell_type": "code",
   "execution_count": null,
   "id": "31f88d0a-b5f0-48c8-9182-dfd45bf22c60",
   "metadata": {},
   "outputs": [],
   "source": [
    "ad.pen_lower()"
   ]
  },
  {
   "cell_type": "code",
   "execution_count": null,
   "id": "b8a08e41-e2fa-4fe7-b79d-9b5f84edbc9a",
   "metadata": {},
   "outputs": [],
   "source": [
    "ad.pen_raise()"
   ]
  },
  {
   "cell_type": "code",
   "execution_count": null,
   "id": "00f78be7-cb31-4f6b-ae22-f90c3a42de21",
   "metadata": {},
   "outputs": [],
   "source": [
    "yoff = 150\n",
    "xoff = 0\n",
    "counter = 0\n",
    "wait_time=2.1\n",
    "for ii, geom in enumerate(tqdm(fills[21:])):\n",
    "    try:\n",
    "        for line in geom:\n",
    "            if line.length > 0:\n",
    "                draw_geom_offset(ad, line, xoff=xoff, yoff=yoff)\n",
    "                counter += 1\n",
    "                if counter % 30 == 0:\n",
    "                    ad.moveto(xoff, yoff)\n",
    "                    time.sleep(wait_time)\n",
    "    except KeyboardInterrupt:\n",
    "        break\n",
    "    except:\n",
    "        pass"
   ]
  },
  {
   "cell_type": "markdown",
   "id": "e6cb5e1d-3f55-4445-a4e6-4547e925d8df",
   "metadata": {},
   "source": [
    "## testing"
   ]
  },
  {
   "cell_type": "code",
   "execution_count": null,
   "id": "8a877ac7-a2a1-4fd4-8a18-dd91173f009d",
   "metadata": {},
   "outputs": [],
   "source": [
    "image_path= '/home/naka/art/wigglesphere.jpg'\n",
    "filename = 'vp_test29.svg'\n",
    "paper_size:str = '11x14 inches'\n",
    "border:float=20  # mm\n",
    "image_rescale_factor:float=0.04\n",
    "smooth_disk_size:int=1\n",
    "hist_clip_limit=0.1\n",
    "hist_nbins=32\n",
    "intensity_min=0.\n",
    "intensity_max=1.\n",
    "hatch_spacing_min=0.35  # mm\n",
    "hatch_spacing_max=1.1 # mm\n",
    "pixel_width=1 # mm\n",
    "pixel_height=1 # mm\n",
    "angle_jitter='ss.norm(loc=10, scale=0).rvs'  # degrees\n",
    "pixel_rotation='0'  # degrees\n",
    "merge_tolerances=[0.3, 0.4,]  # mm\n",
    "simplify_tolerances=[0.2,]  # mm\n",
    "savedir='/home/naka/art/plotter_svgs'"
   ]
  },
  {
   "cell_type": "code",
   "execution_count": null,
   "id": "0000755f-3e89-4525-a34a-467e7f9ea2dd",
   "metadata": {},
   "outputs": [],
   "source": [
    "# make page\n",
    "paper = Paper(paper_size)\n",
    "drawbox = paper.get_drawbox(border)\n"
   ]
  },
  {
   "cell_type": "code",
   "execution_count": null,
   "id": "9b5a989d-1c83-456c-a6f6-8a626cd26c90",
   "metadata": {},
   "outputs": [],
   "source": [
    "drawbox.bounds"
   ]
  },
  {
   "cell_type": "code",
   "execution_count": null,
   "id": "5c600548-cd8a-4a40-a3f6-94f410b2e812",
   "metadata": {},
   "outputs": [],
   "source": [
    "p = box(110, 30 ,180 ,110)"
   ]
  },
  {
   "cell_type": "code",
   "execution_count": null,
   "id": "9029dc49-3bcd-4ffd-989f-2c3669eeae7d",
   "metadata": {},
   "outputs": [],
   "source": [
    "p.bounds"
   ]
  },
  {
   "cell_type": "code",
   "execution_count": null,
   "id": "ee201a42-f739-40b3-88f3-10cda713915d",
   "metadata": {},
   "outputs": [],
   "source": [
    "fills = []\n",
    "xjitter_func = 0\n",
    "yjitter_func = ss.norm(loc=0, scale=np.random.uniform(0.31, 0.35)).rvs\n",
    "bhf = gp.BezierHatchFill(\n",
    "    spacing=np.random.uniform(0.28, 0.3),\n",
    "    degrees=90,\n",
    "    poly_to_fill=p, \n",
    "    xjitter_func=xjitter_func, \n",
    "    yjitter_func=yjitter_func,\n",
    "    fill_inscribe_buffer=1.4,\n",
    "    n_nodes_per_line=10,\n",
    "    n_eval_points=20,\n",
    ")\n",
    "fills.append(bhf.p)"
   ]
  },
  {
   "cell_type": "code",
   "execution_count": null,
   "id": "2d4a247b-1895-4a48-9841-5646791a2974",
   "metadata": {},
   "outputs": [],
   "source": [
    "blss = gp.merge_LineStrings([f for f in fills if f.length > 0.1])"
   ]
  },
  {
   "cell_type": "code",
   "execution_count": null,
   "id": "0f4da06d-6a51-40b2-b0f4-64dfa6dadb25",
   "metadata": {},
   "outputs": [],
   "source": [
    "sk = vsketch.Vsketch()\n",
    "sk.size(paper.page_format_mm)\n",
    "sk.scale('1mm')\n",
    "sk.stroke(1)\n",
    "sk.geometry(p.boundary)\n",
    "for ii, ls in enumerate(blss):\n",
    "    sk.stroke(ii + 2)\n",
    "    sk.geometry(ls)\n",
    "# sk.stroke(1)\n",
    "# sk.geometry(blss)\n",
    "sk.stroke(1000)\n",
    "sk.geometry(drawbox.boundary)\n",
    "    \n",
    "sk.display()"
   ]
  },
  {
   "cell_type": "code",
   "execution_count": null,
   "id": "cca1f963-7f20-4ba0-9137-c003962fa360",
   "metadata": {},
   "outputs": [],
   "source": [
    "filename = 'vp_test31.svg'"
   ]
  },
  {
   "cell_type": "code",
   "execution_count": null,
   "id": "be02ccab-a1d6-4c44-8d40-2257986364cc",
   "metadata": {},
   "outputs": [],
   "source": [
    "savepath = Path(savedir).joinpath(filename).as_posix()\n",
    "sk.save(savepath)"
   ]
  },
  {
   "cell_type": "code",
   "execution_count": null,
   "id": "321a98cd-c793-4aea-84b3-dde5e2d33584",
   "metadata": {},
   "outputs": [],
   "source": [
    "wait_time = 1.1"
   ]
  },
  {
   "cell_type": "code",
   "execution_count": null,
   "id": "42083b24-dc2a-491e-9686-86c656de9e10",
   "metadata": {},
   "outputs": [],
   "source": [
    "len(blss)"
   ]
  },
  {
   "cell_type": "code",
   "execution_count": null,
   "id": "f289cbb2-643d-41f6-8db3-336cd096cc80",
   "metadata": {},
   "outputs": [],
   "source": [
    "ad = axidraw.AxiDraw()   \n",
    "ad.plot_setup(savepath)\n",
    "ad.options.mode = \"layers\""
   ]
  },
  {
   "cell_type": "code",
   "execution_count": null,
   "id": "0ec186b5-255a-4c53-a198-27a3cfdcb634",
   "metadata": {
    "tags": []
   },
   "outputs": [],
   "source": [
    "for ii in tqdm(range(len(blss))):\n",
    "    ad.options.layer = ii\n",
    "    ad.options.speed_pendown = 90\n",
    "    ad.plot_run()\n",
    "    time.sleep(wait_time)\n",
    "    "
   ]
  },
  {
   "cell_type": "code",
   "execution_count": null,
   "id": "6e5824a4-c6d5-415c-973f-ff3dae2f13b3",
   "metadata": {},
   "outputs": [],
   "source": []
  },
  {
   "cell_type": "code",
   "execution_count": null,
   "id": "e3614c8d-d7d4-4f13-bc6b-5304273ca448",
   "metadata": {},
   "outputs": [],
   "source": [
    "\n",
    "ad = axidraw.AxiDraw()          # Initialize class\n",
    "ad.interactive()\n",
    "ad.options.units = 2\n",
    "ad.connect()                    # Open serial port to AxiDraw "
   ]
  },
  {
   "cell_type": "code",
   "execution_count": null,
   "id": "39b92db0-862f-4cbf-8053-26f9e42f19db",
   "metadata": {},
   "outputs": [],
   "source": [
    "ad.options"
   ]
  },
  {
   "cell_type": "code",
   "execution_count": null,
   "id": "d7cdb9f5-1a3a-4f63-9d89-fbce62a22999",
   "metadata": {},
   "outputs": [],
   "source": [
    "ad.options.speed_pendown = 90 "
   ]
  },
  {
   "cell_type": "code",
   "execution_count": null,
   "id": "4e59f388-a6d0-468a-ac96-5630bb2fd32a",
   "metadata": {},
   "outputs": [],
   "source": [
    "ad.options.accel=90"
   ]
  },
  {
   "cell_type": "code",
   "execution_count": null,
   "id": "4f5f9c0a-0dba-4e15-b3b2-545f07a20f7e",
   "metadata": {},
   "outputs": [],
   "source": [
    "ad.update()"
   ]
  },
  {
   "cell_type": "code",
   "execution_count": null,
   "id": "845b1b41-e7fc-4f98-9ff1-d3bdb774a708",
   "metadata": {},
   "outputs": [],
   "source": [
    "def draw_geom(axidraw_handle, geom):\n",
    "    pts = geom.coords\n",
    "    y,x = pts[0]\n",
    "    ad.moveto(x, y)\n",
    "    for pt in pts[1:]:\n",
    "        y,x = pt\n",
    "        ad.lineto(x, y)\n",
    "    ad.penup()"
   ]
  },
  {
   "cell_type": "code",
   "execution_count": null,
   "id": "5918b8e3-48d9-44f8-bc5e-8b9434281a25",
   "metadata": {},
   "outputs": [],
   "source": []
  },
  {
   "cell_type": "code",
   "execution_count": null,
   "id": "7c3cb9a5-a066-4339-8b0e-e2159fe3958a",
   "metadata": {},
   "outputs": [],
   "source": [
    "ii = 2\n",
    "geom = blss[ii]"
   ]
  },
  {
   "cell_type": "code",
   "execution_count": null,
   "id": "4f472c03-69a8-491a-aa67-af93c57c87ca",
   "metadata": {},
   "outputs": [],
   "source": [
    "draw_geom(ad, geom)"
   ]
  },
  {
   "cell_type": "code",
   "execution_count": null,
   "id": "c70de926-b291-486c-8160-0c448c8ef896",
   "metadata": {},
   "outputs": [],
   "source": [
    "for geom in tqdm(blss):\n",
    "    draw_geom(ad, geom)\n",
    "#     ad.moveto(0,0)\n",
    "#     time.sleep(wait_time)"
   ]
  },
  {
   "cell_type": "code",
   "execution_count": null,
   "id": "90718c82-6579-43e6-940a-2894ea31a676",
   "metadata": {},
   "outputs": [],
   "source": []
  },
  {
   "cell_type": "code",
   "execution_count": null,
   "id": "048e1f44-f363-4534-b86a-af12156bb3f3",
   "metadata": {},
   "outputs": [],
   "source": []
  },
  {
   "cell_type": "code",
   "execution_count": null,
   "id": "a3c0c6a3-9530-4490-9a87-d0f02dd42a52",
   "metadata": {},
   "outputs": [],
   "source": []
  },
  {
   "cell_type": "code",
   "execution_count": null,
   "id": "1831eb9d-b008-4fba-99db-00b52d81ca24",
   "metadata": {},
   "outputs": [],
   "source": [
    "11 * 25.4"
   ]
  },
  {
   "cell_type": "code",
   "execution_count": null,
   "id": "fb12d982-18d9-4a7f-8475-594f7b9ebb6f",
   "metadata": {},
   "outputs": [],
   "source": [
    "pt = [0]"
   ]
  },
  {
   "cell_type": "code",
   "execution_count": null,
   "id": "e1ef1f82-53b2-4de1-b1df-5b4ec594c313",
   "metadata": {},
   "outputs": [],
   "source": [
    "ad.penup()"
   ]
  },
  {
   "cell_type": "code",
   "execution_count": null,
   "id": "32c0b346-93ec-4e2f-a516-6a74d0c1e12a",
   "metadata": {},
   "outputs": [],
   "source": []
  },
  {
   "cell_type": "code",
   "execution_count": null,
   "id": "d7e18f73-a092-416c-a8da-f474191f4070",
   "metadata": {},
   "outputs": [],
   "source": [
    "                              # Absolute moves follow:\n",
    "ad.moveto(30, 110)                  # Pen-up move to (1 inch, 1 inch)"
   ]
  },
  {
   "cell_type": "code",
   "execution_count": null,
   "id": "af688605-86e9-43b4-99bf-55345ba577d1",
   "metadata": {},
   "outputs": [],
   "source": [
    "# ad.lineto(2,1)                  # Pen-down move, to (2 inch, 1 inch)\n",
    "ad.moveto(0,0)  "
   ]
  },
  {
   "cell_type": "code",
   "execution_count": null,
   "id": "33eebe60-5bc0-4945-ac02-a63e69ffe19b",
   "metadata": {},
   "outputs": [],
   "source": [
    "                # Pen-up move, back to origin.\n",
    "ad.disconnect()                 # Close serial port to AxiDraw"
   ]
  }
 ],
 "metadata": {
  "kernelspec": {
   "display_name": "Python [conda env:genpen]",
   "language": "python",
   "name": "conda-env-genpen-py"
  },
  "language_info": {
   "codemirror_mode": {
    "name": "ipython",
    "version": 3
   },
   "file_extension": ".py",
   "mimetype": "text/x-python",
   "name": "python",
   "nbconvert_exporter": "python",
   "pygments_lexer": "ipython3",
   "version": "3.8.8"
  }
 },
 "nbformat": 4,
 "nbformat_minor": 5
}

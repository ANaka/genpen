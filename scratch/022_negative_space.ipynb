{
 "cells": [
  {
   "cell_type": "code",
   "execution_count": null,
   "metadata": {
    "Collapsed": "false"
   },
   "outputs": [],
   "source": [
    "import itertools\n",
    "import numpy as np\n",
    "import os\n",
    "import seaborn as sns\n",
    "from tqdm import tqdm\n",
    "from dataclasses import asdict, dataclass, field\n",
    "import vsketch\n",
    "import shapely.geometry as sg\n",
    "from shapely.geometry import box, MultiLineString, Point, MultiPoint, Polygon, MultiPolygon, LineString\n",
    "import shapely.affinity as sa\n",
    "import shapely.ops as so\n",
    "import matplotlib.pyplot as plt\n",
    "import pandas as pd\n",
    "\n",
    "import vpype_cli\n",
    "from typing import List, Generic\n",
    "from genpen import genpen as gp, utils as utils\n",
    "from scipy import stats as ss\n",
    "import geopandas\n",
    "from shapely.errors import TopologicalError\n",
    "import functools\n",
    "%load_ext autoreload\n",
    "%autoreload 2"
   ]
  },
  {
   "cell_type": "code",
   "execution_count": null,
   "metadata": {
    "Collapsed": "false"
   },
   "outputs": [],
   "source": [
    "page_x_inches: float = 11. # inches\n",
    "page_y_inches: float = 14 # inches\n",
    "border:float = 20.\n",
    "\n",
    "buffer_style = 2"
   ]
  },
  {
   "cell_type": "code",
   "execution_count": null,
   "metadata": {
    "Collapsed": "false"
   },
   "outputs": [],
   "source": [
    "px = utils.DistanceConverter(page_x_inches, 'inches').mm\n",
    "py = utils.DistanceConverter(page_y_inches, 'inches').mm\n",
    "page_format = f'{px}mmx{py}mm'\n",
    "drawbox = sg.box(border, border, px-border, py-border)\n",
    "\n",
    "xmin, ymin, xmax, ymax = drawbox.bounds\n"
   ]
  },
  {
   "cell_type": "code",
   "execution_count": null,
   "metadata": {
    "Collapsed": "false"
   },
   "outputs": [],
   "source": [
    "planet = Point(140,-150).buffer(250, resolution=80)\n",
    "planet_in_frame = planet.intersection(drawbox)"
   ]
  },
  {
   "cell_type": "code",
   "execution_count": null,
   "metadata": {
    "Collapsed": "false"
   },
   "outputs": [],
   "source": [
    "moon = Point(220, 120).buffer(12)\n",
    "\n",
    "space = drawbox.difference(planet).difference(moon)\n",
    "\n",
    "space"
   ]
  },
  {
   "cell_type": "code",
   "execution_count": null,
   "metadata": {
    "Collapsed": "false"
   },
   "outputs": [],
   "source": [
    "# poly = space\n",
    "\n",
    "# pts = gp.get_random_points_in_polygon(poly, n_points=600)"
   ]
  },
  {
   "cell_type": "code",
   "execution_count": null,
   "metadata": {
    "Collapsed": "false"
   },
   "outputs": [],
   "source": [
    "\n",
    "# circle_to_fill = space\n",
    "# # init\n",
    "# fc_rad = gp.get_rad(circle_to_fill)\n",
    "# x = circle_to_fill.centroid.x\n",
    "# rads = np.random.uniform(4, 5, 20)\n",
    "# circles = gp.circle_pack_within_poly(circle_to_fill, rads, progress_bar=True, max_additions=5)"
   ]
  },
  {
   "cell_type": "code",
   "execution_count": null,
   "metadata": {
    "Collapsed": "false"
   },
   "outputs": [],
   "source": [
    "(xbins, ybins), (xs, ys) = gp.overlay_grid(space, xstep=2, ystep=2, flatmesh=True)\n",
    "\n",
    "pts = [Point((x,y) + np.random.randn(2)*1) for x,y in zip(xs, ys)]"
   ]
  },
  {
   "cell_type": "code",
   "execution_count": null,
   "metadata": {
    "Collapsed": "false"
   },
   "outputs": [],
   "source": [
    "circles = MultiPolygon([p.buffer(1.2) for p in pts])"
   ]
  },
  {
   "cell_type": "code",
   "execution_count": null,
   "metadata": {
    "Collapsed": "false"
   },
   "outputs": [],
   "source": [
    "stars = []\n",
    "for c in circles:\n",
    "    d = c.distance(planet)\n",
    "    buffer_distance = np.interp(d, [0, 100], [-1.3, -0.8]) + np.random.randn()* 0.1\n",
    "    bc = c.buffer(buffer_distance)\n",
    "    stars.append(bc)\n",
    "    \n",
    "stars = MultiPolygon(stars)"
   ]
  },
  {
   "cell_type": "code",
   "execution_count": null,
   "metadata": {
    "Collapsed": "false"
   },
   "outputs": [],
   "source": [
    "negative_space = gp.robust_difference(space, stars)"
   ]
  },
  {
   "cell_type": "code",
   "execution_count": null,
   "metadata": {
    "Collapsed": "false"
   },
   "outputs": [],
   "source": [
    "fill_curve = planet.boundary.intersection(space)\n",
    "fill_curve = so.linemerge(fill_curve)"
   ]
  },
  {
   "cell_type": "code",
   "execution_count": null,
   "metadata": {
    "Collapsed": "false"
   },
   "outputs": [],
   "source": [
    "max_height = drawbox.bounds[3]"
   ]
  },
  {
   "cell_type": "code",
   "execution_count": null,
   "metadata": {
    "Collapsed": "false"
   },
   "outputs": [],
   "source": [
    "space_delta_yoff_start = 1.2\n",
    "space_delta_yoff_end = 0.6\n",
    "atmo_yoff_start = 2."
   ]
  },
  {
   "cell_type": "code",
   "execution_count": null,
   "metadata": {
    "Collapsed": "false"
   },
   "outputs": [],
   "source": [
    "atmo_delta_yoffs = np.linspace(atmo_yoff_start, space_delta_yoff_start, 9)"
   ]
  },
  {
   "cell_type": "code",
   "execution_count": null,
   "metadata": {
    "Collapsed": "false"
   },
   "outputs": [],
   "source": [
    "yoff_deltas = list(atmo_delta_yoffs) + list(np.linspace(space_delta_yoff_start, space_delta_yoff_end,140)) + [space_delta_yoff_end] * 300"
   ]
  },
  {
   "cell_type": "code",
   "execution_count": null,
   "metadata": {
    "Collapsed": "false"
   },
   "outputs": [],
   "source": [
    "yoffs = np.cumsum(yoff_deltas)"
   ]
  },
  {
   "cell_type": "code",
   "execution_count": null,
   "metadata": {
    "Collapsed": "false"
   },
   "outputs": [],
   "source": [
    "fills = []\n",
    "for i, yoff in enumerate(yoffs):\n",
    "    y_shift_curve = sa.translate(fill_curve, yoff=yoff)\n",
    "    if y_shift_curve.bounds[1] > max_height:\n",
    "        break\n",
    "        \n",
    "    y_shift_curve = y_shift_curve.intersection(negative_space)\n",
    "    \n",
    "    if y_shift_curve.type == 'MultiLineString':\n",
    "        y_shift_curves = list(y_shift_curve)\n",
    "    else:\n",
    "        y_shift_curves = [y_shift_curve]\n",
    "        \n",
    "    \n",
    "    if (i % 2) == 0:\n",
    "        x_order = np.argsort([-ysc.centroid.x for ysc in y_shift_curves])\n",
    "        y_shift_curves = [y_shift_curves[i] for i in x_order]\n",
    "        y_shift_curves = [LineString(np.flipud(np.array(ysc))) for ysc in y_shift_curves]\n",
    "    fills+= y_shift_curves\n",
    "    \n",
    "    \n"
   ]
  },
  {
   "cell_type": "code",
   "execution_count": null,
   "metadata": {
    "Collapsed": "false"
   },
   "outputs": [],
   "source": [
    "positive_space = gp.merge_LineStrings(fills)"
   ]
  },
  {
   "cell_type": "code",
   "execution_count": null,
   "metadata": {
    "Collapsed": "false"
   },
   "outputs": [],
   "source": [
    "positive_space = sa.rotate(positive_space, 180)"
   ]
  },
  {
   "cell_type": "code",
   "execution_count": null,
   "metadata": {
    "Collapsed": "false"
   },
   "outputs": [],
   "source": [
    "sk = vsketch.Vsketch()\n",
    "sk.size(page_format)\n",
    "\n",
    "sk.scale('1mm')\n",
    "# sk.stroke(1)\n",
    "# sk.geometry(stars)\n",
    "# sk.stroke(2)\n",
    "# sk.geometry(planet_in_frame)\n",
    "# sk.stroke(3)\n",
    "# sk.geometry(moon)\n",
    "sk.geometry(positive_space)\n",
    "sk.display(color_mode='none')"
   ]
  },
  {
   "cell_type": "code",
   "execution_count": null,
   "metadata": {
    "Collapsed": "false"
   },
   "outputs": [],
   "source": [
    "savepath = '/mnt/c/code/side/plotter_images/oned_outputs/225_space_is_good.svg'\n",
    "sk.vpype('linemerge --tolerance 0.1 -f')\n",
    "sk.save(savepath)"
   ]
  },
  {
   "cell_type": "markdown",
   "metadata": {
    "Collapsed": "false"
   },
   "source": [
    "# a little more license"
   ]
  },
  {
   "cell_type": "code",
   "execution_count": null,
   "metadata": {
    "Collapsed": "false"
   },
   "outputs": [],
   "source": [
    "page_x_inches: float = 11. # inches\n",
    "page_y_inches: float = 17 # inches\n",
    "border:float = 20.\n",
    "\n",
    "buffer_style = 2"
   ]
  },
  {
   "cell_type": "code",
   "execution_count": null,
   "metadata": {
    "Collapsed": "false"
   },
   "outputs": [],
   "source": [
    "px = utils.DistanceConverter(page_x_inches, 'inches').mm\n",
    "py = utils.DistanceConverter(page_y_inches, 'inches').mm\n",
    "page_format = f'{px}mmx{py}mm'\n",
    "drawbox = sg.box(border, border, px-border, py-border)\n",
    "\n",
    "xmin, ymin, xmax, ymax = drawbox.bounds\n"
   ]
  },
  {
   "cell_type": "code",
   "execution_count": null,
   "metadata": {
    "Collapsed": "false"
   },
   "outputs": [],
   "source": [
    "planet = Point(140,-150).buffer(250, resolution=80)\n",
    "planet_in_frame = planet.intersection(drawbox)"
   ]
  },
  {
   "cell_type": "code",
   "execution_count": null,
   "metadata": {
    "Collapsed": "false"
   },
   "outputs": [],
   "source": [
    "moon = Point(210, 120).buffer(15)\n",
    "\n",
    "space = drawbox.difference(planet).difference(moon)\n",
    "\n",
    "space"
   ]
  },
  {
   "cell_type": "code",
   "execution_count": null,
   "metadata": {
    "Collapsed": "false"
   },
   "outputs": [],
   "source": [
    "# poly = space\n",
    "\n",
    "# pts = gp.get_random_points_in_polygon(poly, n_points=600)"
   ]
  },
  {
   "cell_type": "code",
   "execution_count": null,
   "metadata": {
    "Collapsed": "false"
   },
   "outputs": [],
   "source": [
    "\n",
    "# circle_to_fill = space\n",
    "# # init\n",
    "# fc_rad = gp.get_rad(circle_to_fill)\n",
    "# x = circle_to_fill.centroid.x\n",
    "# rads = np.random.uniform(4, 5, 20)\n",
    "# circles = gp.circle_pack_within_poly(circle_to_fill, rads, progress_bar=True, max_additions=5)"
   ]
  },
  {
   "cell_type": "code",
   "execution_count": null,
   "metadata": {
    "Collapsed": "false"
   },
   "outputs": [],
   "source": [
    "(xbins, ybins), (xs, ys) = gp.overlay_grid(space, xstep=3., ystep=3., flatmesh=True)\n",
    "\n",
    "pts = [Point((x,y) + np.random.randn(2)*2) for x,y in zip(xs, ys)]"
   ]
  },
  {
   "cell_type": "code",
   "execution_count": null,
   "metadata": {
    "Collapsed": "false"
   },
   "outputs": [],
   "source": [
    "circles = []\n",
    "for p in pts:\n",
    "    d = p.distance(planet)\n",
    "    buffer_distance = np.interp(d, [0, 150], [-0.3, 2.5]) + np.interp(d, [350, 540], [0., 2.5])+ np.random.randn()* 0.3\n",
    "    if d > 0:\n",
    "        circles.append(p.buffer(buffer_distance))"
   ]
  },
  {
   "cell_type": "code",
   "execution_count": null,
   "metadata": {
    "Collapsed": "false"
   },
   "outputs": [],
   "source": [
    "stars = MultiPolygon(circles)"
   ]
  },
  {
   "cell_type": "code",
   "execution_count": null,
   "metadata": {
    "Collapsed": "false"
   },
   "outputs": [],
   "source": [
    "negative_space = gp.robust_difference(space, stars)"
   ]
  },
  {
   "cell_type": "code",
   "execution_count": null,
   "metadata": {
    "Collapsed": "false"
   },
   "outputs": [],
   "source": [
    "fill_curve = planet.boundary.intersection(space)\n",
    "fill_curve = so.linemerge(fill_curve)"
   ]
  },
  {
   "cell_type": "code",
   "execution_count": null,
   "metadata": {
    "Collapsed": "false"
   },
   "outputs": [],
   "source": [
    "max_height = drawbox.bounds[3]"
   ]
  },
  {
   "cell_type": "code",
   "execution_count": null,
   "metadata": {
    "Collapsed": "false"
   },
   "outputs": [],
   "source": [
    "space_delta_yoff_start = 1.2\n",
    "space_delta_yoff_end = 0.6\n",
    "atmo_yoff_start = 2.5"
   ]
  },
  {
   "cell_type": "code",
   "execution_count": null,
   "metadata": {
    "Collapsed": "false"
   },
   "outputs": [],
   "source": [
    "atmo_delta_yoffs = np.linspace(atmo_yoff_start, space_delta_yoff_start, 8)"
   ]
  },
  {
   "cell_type": "code",
   "execution_count": null,
   "metadata": {
    "Collapsed": "false"
   },
   "outputs": [],
   "source": [
    "yoff_deltas = list(atmo_delta_yoffs) + list(np.linspace(space_delta_yoff_start, space_delta_yoff_end,140)) + [space_delta_yoff_end] * 300"
   ]
  },
  {
   "cell_type": "code",
   "execution_count": null,
   "metadata": {
    "Collapsed": "false"
   },
   "outputs": [],
   "source": [
    "yoffs = np.cumsum(yoff_deltas)"
   ]
  },
  {
   "cell_type": "code",
   "execution_count": null,
   "metadata": {
    "Collapsed": "false"
   },
   "outputs": [],
   "source": [
    "fills = []\n",
    "for i, yoff in enumerate(yoffs):\n",
    "    y_shift_curve = sa.translate(fill_curve, yoff=yoff)\n",
    "    if y_shift_curve.bounds[1] > max_height:\n",
    "        break\n",
    "        \n",
    "    y_shift_curve = y_shift_curve.intersection(negative_space)\n",
    "    if y_shift_curve.length < 1e-3:\n",
    "        break\n",
    "        \n",
    "    if y_shift_curve.type == 'MultiLineString':\n",
    "        y_shift_curves = list(y_shift_curve)\n",
    "    else:\n",
    "        y_shift_curves = [y_shift_curve]\n",
    "        \n",
    "    \n",
    "    if (i % 2) == 0:\n",
    "        x_order = np.argsort([-ysc.centroid.x for ysc in y_shift_curves])\n",
    "        y_shift_curves = [y_shift_curves[i] for i in x_order]\n",
    "        y_shift_curves = [LineString(np.flipud(np.array(ysc))) for ysc in y_shift_curves]\n",
    "    fills+= y_shift_curves\n",
    "    \n",
    "    \n"
   ]
  },
  {
   "cell_type": "code",
   "execution_count": null,
   "metadata": {
    "Collapsed": "false"
   },
   "outputs": [],
   "source": [
    "positive_space = gp.merge_LineStrings(fills)"
   ]
  },
  {
   "cell_type": "code",
   "execution_count": null,
   "metadata": {
    "Collapsed": "false"
   },
   "outputs": [],
   "source": [
    "positive_space = sa.rotate(positive_space, 180)"
   ]
  },
  {
   "cell_type": "code",
   "execution_count": null,
   "metadata": {
    "Collapsed": "false"
   },
   "outputs": [],
   "source": [
    "sk = vsketch.Vsketch()\n",
    "sk.size(page_format)\n",
    "\n",
    "sk.scale('1mm')\n",
    "sk.geometry(positive_space)\n",
    "sk.display(color_mode='none')"
   ]
  },
  {
   "cell_type": "code",
   "execution_count": null,
   "metadata": {
    "Collapsed": "false"
   },
   "outputs": [],
   "source": [
    "savepath = '/mnt/c/code/side/plotter_images/oned_outputs/222_space_is_good.svg'\n",
    "sk.vpype('linemerge --tolerance 0.1 -f')\n",
    "sk.save(savepath)"
   ]
  }
 ],
 "metadata": {
  "kernelspec": {
   "display_name": "Python [conda env:genpen]",
   "language": "python",
   "name": "conda-env-genpen-py"
  },
  "language_info": {
   "codemirror_mode": {
    "name": "ipython",
    "version": 3
   },
   "file_extension": ".py",
   "mimetype": "text/x-python",
   "name": "python",
   "nbconvert_exporter": "python",
   "pygments_lexer": "ipython3",
   "version": "3.8.6"
  }
 },
 "nbformat": 4,
 "nbformat_minor": 4
}

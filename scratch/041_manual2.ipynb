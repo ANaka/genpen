{
 "cells": [
  {
   "cell_type": "code",
   "execution_count": null,
   "id": "7833dc6a-8871-44fc-b5f7-eaf1a60faaf0",
   "metadata": {
    "tags": []
   },
   "outputs": [],
   "source": [
    "\n",
    "import itertools\n",
    "import numpy as np\n",
    "import os\n",
    "import seaborn as sns\n",
    "from tqdm import tqdm\n",
    "from dataclasses import asdict, dataclass, field\n",
    "import vsketch\n",
    "import shapely.geometry as sg\n",
    "from shapely.geometry import box, MultiLineString, Point, MultiPoint, Polygon, MultiPolygon, LineString\n",
    "import shapely.affinity as sa\n",
    "import shapely.ops as so\n",
    "import matplotlib.pyplot as plt\n",
    "import pandas as pd\n",
    "\n",
    "import vpype_cli\n",
    "from typing import List, Generic\n",
    "from genpen import genpen as gp\n",
    "from genpen.utils import Paper\n",
    "from scipy import stats as ss\n",
    "import geopandas\n",
    "from shapely.errors import TopologicalError\n",
    "import functools\n",
    "import vpype\n",
    "from skimage import io\n",
    "from pathlib import Path\n",
    "\n",
    "from sklearn.preprocessing import minmax_scale\n",
    "from skimage import feature\n",
    "from skimage import exposure\n",
    "\n",
    "from skimage import filters\n",
    "from skimage.color import rgb2gray\n",
    "from skimage.transform import rescale, resize, downscale_local_mean\n",
    "from skimage.morphology import disk\n",
    "from pyaxidraw import axidraw   # import module\n",
    "\n",
    "from PIL import Image\n",
    "\n",
    "\n",
    "import cv2\n",
    "\n",
    "from genpen.flow.field import *\n",
    "from genpen.flow.particle import *\n",
    "\n",
    "import time\n",
    "from datetime import datetime\n",
    "import pytz\n",
    "tz = pytz.timezone('US/Pacific')\n",
    "\n",
    "%load_ext autoreload\n",
    "%autoreload 2"
   ]
  },
  {
   "cell_type": "code",
   "execution_count": null,
   "id": "b95f0cbc-918c-4c14-b9e9-23955faf28d8",
   "metadata": {},
   "outputs": [],
   "source": [
    "import signal\n",
    "\n",
    "class GracefulExiter():\n",
    "\n",
    "    def __init__(self):\n",
    "        self.state = False\n",
    "        signal.signal(signal.SIGINT, self.change_state)\n",
    "\n",
    "    def change_state(self, signum, frame):\n",
    "        print(\"exit flag set to True (repeat to exit now)\")\n",
    "        signal.signal(signal.SIGINT, signal.SIG_DFL)\n",
    "        self.state = True\n",
    "\n",
    "    def exit(self):\n",
    "        return self.state"
   ]
  },
  {
   "cell_type": "code",
   "execution_count": null,
   "id": "7a2cd798-e4c6-4658-a0ce-379c684dd2f8",
   "metadata": {},
   "outputs": [],
   "source": [
    "def plot_layer(ad, layer_number, wait_time=1.):\n",
    "    ad.options.layer = ii\n",
    "    t_start = datetime.now()\n",
    "    ad.plot_run()\n",
    "    t_end = datetime.now()\n",
    "    time.sleep(wait_time)\n",
    "    result = {\n",
    "        'layer': ii,\n",
    "        't_start': t_start,\n",
    "        't_end': t_end,\n",
    "    }\n",
    "    return result"
   ]
  },
  {
   "cell_type": "code",
   "execution_count": null,
   "id": "e646a83c-656e-4e1c-b50a-ecea66cf8a1a",
   "metadata": {},
   "outputs": [],
   "source": [
    "savedir = '/home/naka/art/plotter_svgs/'\n",
    "filename = '20210602-231805-7a540-c98425-machine_gun.svg'"
   ]
  },
  {
   "cell_type": "code",
   "execution_count": null,
   "id": "44a09d56-457e-434b-ae2d-4199897ac1ab",
   "metadata": {},
   "outputs": [],
   "source": [
    "vsk = vsketch.Vsketch()"
   ]
  },
  {
   "cell_type": "code",
   "execution_count": null,
   "id": "4e45e6f8-e0a2-4133-8f12-8a510f8e67ee",
   "metadata": {},
   "outputs": [],
   "source": [
    "savepath = Path(savedir).joinpath(filename).as_posix()"
   ]
  },
  {
   "cell_type": "code",
   "execution_count": null,
   "id": "6d9b223b-196c-4057-8cd3-439504ed83dc",
   "metadata": {},
   "outputs": [],
   "source": [
    "doc = vpype.read_multilayer_svg(savepath, 0.1)"
   ]
  },
  {
   "cell_type": "code",
   "execution_count": null,
   "id": "f8e28c00-a16c-4bec-bd20-0dc236a9092b",
   "metadata": {},
   "outputs": [],
   "source": [
    "n_layers = len(doc.layers)\n",
    "print(n_layers)"
   ]
  },
  {
   "cell_type": "code",
   "execution_count": null,
   "id": "a4d37ce9-2ff3-4824-ab98-995645ac57e2",
   "metadata": {},
   "outputs": [],
   "source": [
    "wait_time = 2.1"
   ]
  },
  {
   "cell_type": "code",
   "execution_count": null,
   "id": "d0ca6d8a-12ff-4917-8ba0-7f93aef45a07",
   "metadata": {},
   "outputs": [],
   "source": [
    "ad = axidraw.AxiDraw()   \n",
    "ad.plot_setup(savepath)\n",
    "ad.options.mode = \"layers\"\n",
    "ad.options.units = 2\n",
    "ad.options.speed_pendown = 70\n",
    "ad.update()"
   ]
  },
  {
   "cell_type": "code",
   "execution_count": null,
   "id": "5fe0e991-aa92-4bc0-8812-a13a662d7355",
   "metadata": {
    "tags": []
   },
   "outputs": [],
   "source": [
    "timing_info = []\n",
    "stored_exception = None\n",
    "flag = GracefulExiter()\n",
    "for ii in tqdm(range(n_layers)):\n",
    "    timing_info.append(plot_layer(ad, layer_number=ii, wait_time=2.1))\n",
    "    if flag.exit():\n",
    "        break"
   ]
  },
  {
   "cell_type": "code",
   "execution_count": null,
   "id": "a9240d4a-4db2-4842-97a2-d72d7e058308",
   "metadata": {},
   "outputs": [],
   "source": [
    "pd.DataFrame(timing_info).to_csv('/home/naka/art/axidraw_timing/test.csv')"
   ]
  },
  {
   "cell_type": "code",
   "execution_count": null,
   "id": "78025305-d2fa-4449-ae49-f970b6752135",
   "metadata": {},
   "outputs": [],
   "source": []
  }
 ],
 "metadata": {
  "kernelspec": {
   "display_name": "Python [conda env:genpen]",
   "language": "python",
   "name": "conda-env-genpen-py"
  },
  "language_info": {
   "codemirror_mode": {
    "name": "ipython",
    "version": 3
   },
   "file_extension": ".py",
   "mimetype": "text/x-python",
   "name": "python",
   "nbconvert_exporter": "python",
   "pygments_lexer": "ipython3",
   "version": "3.8.8"
  }
 },
 "nbformat": 4,
 "nbformat_minor": 5
}

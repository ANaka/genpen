{
 "cells": [
  {
   "cell_type": "code",
   "execution_count": null,
   "metadata": {
    "Collapsed": "false"
   },
   "outputs": [],
   "source": [
    "import itertools\n",
    "import numpy as np\n",
    "import os\n",
    "import seaborn as sns\n",
    "from tqdm import tqdm\n",
    "from dataclasses import asdict, dataclass, field\n",
    "import vsketch\n",
    "import shapely.geometry as sg\n",
    "from shapely.geometry import box, MultiLineString, Point, MultiPoint, Polygon, MultiPolygon, LineString\n",
    "import shapely.affinity as sa\n",
    "import shapely.ops as so\n",
    "import matplotlib.pyplot as plt\n",
    "import pandas as pd\n",
    "\n",
    "import vpype_cli\n",
    "from typing import List, Generic\n",
    "from genpen import genpen as gp, utils as utils\n",
    "from scipy import stats as ss\n",
    "import geopandas\n",
    "from shapely.errors import TopologicalError\n",
    "import functools\n",
    "%load_ext autoreload\n",
    "%autoreload 2"
   ]
  },
  {
   "cell_type": "code",
   "execution_count": null,
   "metadata": {
    "Collapsed": "false"
   },
   "outputs": [],
   "source": [
    "page_x_inches: float = 8.5 # inches\n",
    "page_y_inches: float = 11 # inches\n",
    "border:float = 0.\n",
    "\n",
    "perlin_grid_params = {\n",
    "    'xstep':1,\n",
    "    'ystep':1,\n",
    "    'lod':10,\n",
    "    'falloff':None,\n",
    "    'noise_scale':0.0063,\n",
    "    'noiseSeed':8\n",
    "}\n",
    "buffer_style = 3"
   ]
  },
  {
   "cell_type": "code",
   "execution_count": null,
   "metadata": {
    "Collapsed": "false"
   },
   "outputs": [],
   "source": [
    "@dataclass\n",
    "class ScaleTransPrms(gp.DataClassBase):\n",
    "    \n",
    "    n_iters: int = 100\n",
    "    d_buffer: float = -0.25\n",
    "    d_translate_factor: float = 0.9\n",
    "    d_translate: float = None\n",
    "    angles: float = 0.\n",
    "    d_translates: list = field(default=None, init=False)\n",
    "    def __post_init__(self):\n",
    "        self.d_buffers = np.array([self.d_buffer] * self.n_iters)\n",
    "        \n",
    "        if self.d_translates == None:\n",
    "            if self.d_translate != None:\n",
    "                self.d_translates =  np.array([self.d_translate] * self.n_iters)\n",
    "            else:\n",
    "                self.d_translates = self.d_buffers * self.d_translate_factor\n",
    "    \n",
    "    @property\n",
    "    def prms(self):\n",
    "        varnames = ['d_buffers', 'd_translates', 'angles']\n",
    "        return {var: getattr(self, var) for var in varnames}"
   ]
  },
  {
   "cell_type": "code",
   "execution_count": null,
   "metadata": {
    "Collapsed": "false"
   },
   "outputs": [],
   "source": [
    "px = utils.DistanceConverter(page_x_inches, 'inches').mm\n",
    "py = utils.DistanceConverter(page_y_inches, 'inches').mm\n",
    "page_format = f'{px}mmx{py}mm'\n",
    "drawbox = sg.box(border, border, px-border, py-border)\n",
    "\n",
    "xmin, ymin, xmax, ymax = drawbox.bounds\n",
    "brad = np.min([gp.get_width(drawbox), gp.get_height(drawbox)])\n",
    "\n",
    "start_area = drawbox.centroid.buffer(brad*0.3)"
   ]
  },
  {
   "cell_type": "code",
   "execution_count": null,
   "metadata": {
    "Collapsed": "false"
   },
   "outputs": [],
   "source": [
    "stprm = ScaleTransPrms(\n",
    "    d_buffer=-0.95,\n",
    "    d_translate_factor=0.7,\n",
    "    angles=45,\n",
    ")"
   ]
  },
  {
   "cell_type": "code",
   "execution_count": null,
   "metadata": {
    "Collapsed": "false"
   },
   "outputs": [],
   "source": [
    "stprm.d_buffers += np.random.uniform(-0.3,0.3, stprm.d_buffers.shape)"
   ]
  },
  {
   "cell_type": "code",
   "execution_count": null,
   "metadata": {
    "Collapsed": "false"
   },
   "outputs": [],
   "source": [
    "ps = gp.scale_trans(start_area, **stprm.prms)"
   ]
  },
  {
   "cell_type": "code",
   "execution_count": null,
   "metadata": {
    "Collapsed": "false"
   },
   "outputs": [],
   "source": [
    "ls = gp.merge_LineStrings([p.boundary for p in ps])"
   ]
  },
  {
   "cell_type": "code",
   "execution_count": null,
   "metadata": {
    "Collapsed": "false"
   },
   "outputs": [],
   "source": [
    "sk = vsketch.Vsketch()\n",
    "sk.size(page_format)\n",
    "sk.scale('1mm')\n",
    "sk.penWidth('0.25mm')\n",
    "sk.geometry(ls)\n",
    "sk.display(color_mode='layer')"
   ]
  },
  {
   "cell_type": "code",
   "execution_count": null,
   "metadata": {
    "Collapsed": "false"
   },
   "outputs": [],
   "source": [
    "savepath = '/mnt/c/code/side/plotter_images/oned_outputs/0089_literally_just_a_circle.svg'\n",
    "\n",
    "sk.save(savepath)\n",
    "\n",
    "vpype_commands = 'linesimplify --tolerance 0.2mm linemerge --tolerance 0.2mm reloop linesort'\n",
    "vpype_str = f'vpype read -q 0.05mm {savepath} {vpype_commands} write --page-format {page_format} {savepath}'\n",
    "\n",
    "os.system(vpype_str)"
   ]
  },
  {
   "cell_type": "code",
   "execution_count": null,
   "metadata": {
    "Collapsed": "false"
   },
   "outputs": [],
   "source": []
  },
  {
   "cell_type": "code",
   "execution_count": null,
   "metadata": {
    "Collapsed": "false"
   },
   "outputs": [],
   "source": [
    "page_x_inches: float = 6 # inches\n",
    "page_y_inches: float = 6 # inches\n",
    "border:float = 0.\n",
    "\n",
    "perlin_grid_params = {\n",
    "    'xstep':1,\n",
    "    'ystep':1,\n",
    "    'lod':10,\n",
    "    'falloff':None,\n",
    "    'noise_scale':0.0063,\n",
    "    'noiseSeed':8\n",
    "}\n",
    "buffer_style = 3"
   ]
  },
  {
   "cell_type": "code",
   "execution_count": null,
   "metadata": {
    "Collapsed": "false"
   },
   "outputs": [],
   "source": [
    "@dataclass\n",
    "class ScaleTransPrms(gp.DataClassBase):\n",
    "    \n",
    "    n_iters: int = 100\n",
    "    d_buffer: float = -0.25\n",
    "    d_translate_factor: float = 0.9\n",
    "    d_translate: float = None\n",
    "    angles: float = 0.\n",
    "    d_translates: list = field(default=None, init=False)\n",
    "    def __post_init__(self):\n",
    "        self.d_buffers = np.array([self.d_buffer] * self.n_iters)\n",
    "        \n",
    "        if self.d_translates == None:\n",
    "            if self.d_translate != None:\n",
    "                self.d_translates =  np.array([self.d_translate] * self.n_iters)\n",
    "            else:\n",
    "                self.d_translates = self.d_buffers * self.d_translate_factor\n",
    "    \n",
    "    @property\n",
    "    def prms(self):\n",
    "        varnames = ['d_buffers', 'd_translates', 'angles']\n",
    "        return {var: getattr(self, var) for var in varnames}"
   ]
  },
  {
   "cell_type": "code",
   "execution_count": null,
   "metadata": {
    "Collapsed": "false"
   },
   "outputs": [],
   "source": [
    "px = utils.DistanceConverter(page_x_inches, 'inches').mm\n",
    "py = utils.DistanceConverter(page_y_inches, 'inches').mm\n",
    "page_format = f'{px}mmx{py}mm'\n",
    "drawbox = sg.box(border, border, px-border, py-border)\n",
    "\n",
    "xmin, ymin, xmax, ymax = drawbox.bounds\n",
    "brad = np.min([gp.get_width(drawbox), gp.get_height(drawbox)])\n",
    "\n",
    "start_area = drawbox.centroid.buffer(brad*0.45)"
   ]
  },
  {
   "cell_type": "code",
   "execution_count": null,
   "metadata": {
    "Collapsed": "false"
   },
   "outputs": [],
   "source": [
    "stprm = ScaleTransPrms(\n",
    "    d_buffer=-0.25,\n",
    "    d_translate_factor=0.7,\n",
    "    angles=45,\n",
    "    n_iters=200\n",
    ")"
   ]
  },
  {
   "cell_type": "code",
   "execution_count": null,
   "metadata": {
    "Collapsed": "false"
   },
   "outputs": [],
   "source": [
    "stprm.d_buffers += np.random.uniform(-0.07,0.1, stprm.d_buffers.shape)"
   ]
  },
  {
   "cell_type": "code",
   "execution_count": null,
   "metadata": {
    "Collapsed": "false"
   },
   "outputs": [],
   "source": [
    "ps = gp.scale_trans(start_area, **stprm.prms)"
   ]
  },
  {
   "cell_type": "code",
   "execution_count": null,
   "metadata": {
    "Collapsed": "false"
   },
   "outputs": [],
   "source": [
    "ls = gp.merge_LineStrings([p.boundary for p in ps])"
   ]
  },
  {
   "cell_type": "code",
   "execution_count": null,
   "metadata": {
    "Collapsed": "false"
   },
   "outputs": [],
   "source": [
    "sk = vsketch.Vsketch()\n",
    "sk.size(page_format)\n",
    "sk.scale('1mm')\n",
    "sk.penWidth('0.25mm')\n",
    "sk.geometry(ls)\n",
    "sk.display(color_mode='layer')"
   ]
  },
  {
   "cell_type": "code",
   "execution_count": null,
   "metadata": {
    "Collapsed": "false"
   },
   "outputs": [],
   "source": [
    "savepath = '/mnt/c/code/side/plotter_images/oned_outputs/0089_literally_just_a_circle.svg'\n",
    "\n",
    "sk.save(savepath)\n",
    "\n",
    "vpype_commands = 'linesimplify --tolerance 0.05mm reloop linemerge --tolerance 0.05mm linesort'\n",
    "vpype_str = f'vpype read -q 0.05mm {savepath} {vpype_commands} write --page-format {page_format} {savepath}'\n",
    "\n",
    "os.system(vpype_str)"
   ]
  },
  {
   "cell_type": "code",
   "execution_count": null,
   "metadata": {
    "Collapsed": "false"
   },
   "outputs": [],
   "source": []
  }
 ],
 "metadata": {
  "kernelspec": {
   "display_name": "Python [conda env:genpen]",
   "language": "python",
   "name": "conda-env-genpen-py"
  },
  "language_info": {
   "codemirror_mode": {
    "name": "ipython",
    "version": 3
   },
   "file_extension": ".py",
   "mimetype": "text/x-python",
   "name": "python",
   "nbconvert_exporter": "python",
   "pygments_lexer": "ipython3",
   "version": "3.8.6"
  }
 },
 "nbformat": 4,
 "nbformat_minor": 4
}

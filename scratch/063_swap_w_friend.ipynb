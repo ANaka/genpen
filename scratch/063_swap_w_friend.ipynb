{
 "cells": [
  {
   "cell_type": "code",
   "execution_count": 1,
   "metadata": {
    "Collapsed": "false"
   },
   "outputs": [],
   "source": [
    "import itertools\n",
    "import numpy as np\n",
    "import os\n",
    "import seaborn as sns\n",
    "from tqdm import tqdm\n",
    "from dataclasses import asdict, dataclass, field\n",
    "import vsketch\n",
    "import shapely.geometry as sg\n",
    "from shapely.geometry import box, MultiLineString, Point, MultiPoint, Polygon, MultiPolygon, LineString\n",
    "import shapely.affinity as sa\n",
    "import shapely.ops as so\n",
    "import matplotlib.pyplot as plt\n",
    "import pandas as pd\n",
    "\n",
    "import vpype_cli\n",
    "from typing import List, Generic\n",
    "from genpen import genpen as gp, utils as utils\n",
    "from scipy import stats as ss\n",
    "import geopandas\n",
    "from shapely.errors import TopologicalError\n",
    "import functools\n",
    "from genpen.flow.field import PerlinGrid\n",
    "from genpen.flow.particle import VectorParticle\n",
    "%load_ext autoreload\n",
    "%autoreload 2"
   ]
  },
  {
   "cell_type": "code",
   "execution_count": 4,
   "metadata": {
    "Collapsed": "false"
   },
   "outputs": [],
   "source": [
    "paper_size = '11x14 inches'\n",
    "border:float=30\n",
    "paper = utils.Paper(paper_size)\n",
    "\n",
    "drawbox = paper.get_drawbox(border)\n",
    "buffer_style = 2"
   ]
  },
  {
   "cell_type": "code",
   "execution_count": 6,
   "metadata": {},
   "outputs": [],
   "source": [
    "db = gp.Shape(drawbox)"
   ]
  },
  {
   "cell_type": "code",
   "execution_count": 7,
   "metadata": {},
   "outputs": [
    {
     "data": {
      "text/plain": [
       "295.59999999999997"
      ]
     },
     "execution_count": 7,
     "metadata": {},
     "output_type": "execute_result"
    }
   ],
   "source": [
    "db.height"
   ]
  },
  {
   "cell_type": "code",
   "execution_count": 9,
   "metadata": {},
   "outputs": [],
   "source": [
    "rad = 60\n",
    "center = db.p.centroid"
   ]
  },
  {
   "cell_type": "code",
   "execution_count": 11,
   "metadata": {},
   "outputs": [],
   "source": [
    "circle = center.buffer(rad)"
   ]
  },
  {
   "cell_type": "code",
   "execution_count": 28,
   "metadata": {},
   "outputs": [],
   "source": [
    "y_spacing = 2\n",
    "y_spacing_delta = 0.2\n",
    "y_start = db.bottom\n",
    "y_end = db.top\n",
    "y = y_start\n",
    "ys = []\n",
    "while y < y_end:\n",
    "    y += y_spacing\n",
    "    y_spacing += y_spacing_delta\n",
    "    ys.append(y)"
   ]
  },
  {
   "cell_type": "code",
   "execution_count": 29,
   "metadata": {},
   "outputs": [
    {
     "data": {
      "text/plain": [
       "[32.0,\n",
       " 34.2,\n",
       " 36.6,\n",
       " 39.2,\n",
       " 42.0,\n",
       " 45.0,\n",
       " 48.2,\n",
       " 51.6,\n",
       " 55.2,\n",
       " 59.00000000000001,\n",
       " 63.00000000000001,\n",
       " 67.2,\n",
       " 71.60000000000001,\n",
       " 76.20000000000002,\n",
       " 81.00000000000001,\n",
       " 86.00000000000001,\n",
       " 91.20000000000002,\n",
       " 96.60000000000002,\n",
       " 102.20000000000003,\n",
       " 108.00000000000003,\n",
       " 114.00000000000003,\n",
       " 120.20000000000003,\n",
       " 126.60000000000004,\n",
       " 133.20000000000005,\n",
       " 140.00000000000006,\n",
       " 147.00000000000006,\n",
       " 154.20000000000007,\n",
       " 161.60000000000008,\n",
       " 169.20000000000007,\n",
       " 177.00000000000009,\n",
       " 185.00000000000009,\n",
       " 193.2000000000001,\n",
       " 201.6000000000001,\n",
       " 210.2000000000001,\n",
       " 219.0000000000001,\n",
       " 228.0000000000001,\n",
       " 237.2000000000001,\n",
       " 246.6000000000001,\n",
       " 256.2000000000001,\n",
       " 266.0000000000001,\n",
       " 276.0000000000001,\n",
       " 286.2000000000001,\n",
       " 296.6000000000001,\n",
       " 307.2000000000001,\n",
       " 318.0000000000001,\n",
       " 329.0000000000001]"
      ]
     },
     "execution_count": 29,
     "metadata": {},
     "output_type": "execute_result"
    }
   ],
   "source": [
    "ys"
   ]
  },
  {
   "cell_type": "code",
   "execution_count": 30,
   "metadata": {},
   "outputs": [],
   "source": [
    "x_start = db.left\n",
    "x_end = db.right\n",
    "lss = [LineString(((x_start, y), (x_end, y))) for y in ys]\n",
    "    "
   ]
  },
  {
   "cell_type": "code",
   "execution_count": 32,
   "metadata": {},
   "outputs": [],
   "source": [
    "mls = MultiLineString(lss)"
   ]
  },
  {
   "cell_type": "code",
   "execution_count": 33,
   "metadata": {},
   "outputs": [
    {
     "data": {
      "image/svg+xml": "<svg xmlns=\"http://www.w3.org/2000/svg\" xmlns:xlink=\"http://www.w3.org/1999/xlink\" width=\"129.51510880359837\" height=\"126.59371176322959\" viewBox=\"74.94244559820079 115.40314411838527 129.51510880359837 126.59371176322959\" preserveAspectRatio=\"xMinYMin meet\"><g transform=\"matrix(1,0,0,-1,0,357.40000000000015)\"><g><polyline fill=\"none\" stroke=\"#66cc99\" stroke-width=\"2.0\" points=\"123.01581123234565,120.20000000000003 156.38418876765428,120.20000000000003\" opacity=\"0.8\" /><polyline fill=\"none\" stroke=\"#66cc99\" stroke-width=\"2.0\" points=\"108.55443090675574,126.60000000000004 170.84556909324422,126.60000000000004\" opacity=\"0.8\" /><polyline fill=\"none\" stroke=\"#66cc99\" stroke-width=\"2.0\" points=\"99.67178358286831,133.20000000000005 179.72821641713168,133.20000000000005\" opacity=\"0.8\" /><polyline fill=\"none\" stroke=\"#66cc99\" stroke-width=\"2.0\" points=\"93.12387590224195,140.00000000000006 186.27612409775801,140.00000000000006\" opacity=\"0.8\" /><polyline fill=\"none\" stroke=\"#66cc99\" stroke-width=\"2.0\" points=\"88.29287385651602,147.00000000000006 191.10712614348395,147.00000000000006\" opacity=\"0.8\" /><polyline fill=\"none\" stroke=\"#66cc99\" stroke-width=\"2.0\" points=\"84.56944973080535,154.20000000000007 194.83055026919465,154.20000000000007\" opacity=\"0.8\" /><polyline fill=\"none\" stroke=\"#66cc99\" stroke-width=\"2.0\" points=\"81.97871702743153,161.60000000000008 197.42128297256846,161.60000000000008\" opacity=\"0.8\" /><polyline fill=\"none\" stroke=\"#66cc99\" stroke-width=\"2.0\" points=\"80.39223773410974,169.20000000000007 199.00776226589022,169.20000000000007\" opacity=\"0.8\" /><polyline fill=\"none\" stroke=\"#66cc99\" stroke-width=\"2.0\" points=\"79.73930147981555,177.00000000000009 199.6606985201844,177.00000000000009\" opacity=\"0.8\" /><polyline fill=\"none\" stroke=\"#66cc99\" stroke-width=\"2.0\" points=\"80.18456735155608,185.00000000000009 199.2154326484439,185.00000000000009\" opacity=\"0.8\" /><polyline fill=\"none\" stroke=\"#66cc99\" stroke-width=\"2.0\" points=\"81.77832745927851,193.2000000000001 197.62167254072145,193.2000000000001\" opacity=\"0.8\" /><polyline fill=\"none\" stroke=\"#66cc99\" stroke-width=\"2.0\" points=\"84.66404268598372,201.6000000000001 194.73595731401628,201.6000000000001\" opacity=\"0.8\" /><polyline fill=\"none\" stroke=\"#66cc99\" stroke-width=\"2.0\" points=\"89.25187695040721,210.2000000000001 190.14812304959275,210.2000000000001\" opacity=\"0.8\" /><polyline fill=\"none\" stroke=\"#66cc99\" stroke-width=\"2.0\" points=\"96.16204273303597,219.0000000000001 183.23795726696397,219.0000000000001\" opacity=\"0.8\" /><polyline fill=\"none\" stroke=\"#66cc99\" stroke-width=\"2.0\" points=\"106.88603170117256,228.0000000000001 172.51396829882748,228.0000000000001\" opacity=\"0.8\" /><polyline fill=\"none\" stroke=\"#66cc99\" stroke-width=\"2.0\" points=\"131.72181629448505,237.2000000000001 147.67818370551484,237.2000000000001\" opacity=\"0.8\" /></g></g></svg>",
      "text/plain": [
       "<shapely.geometry.multilinestring.MultiLineString at 0x7fb2808f0cd0>"
      ]
     },
     "execution_count": 33,
     "metadata": {},
     "output_type": "execute_result"
    }
   ],
   "source": [
    "mls.intersection(circle)"
   ]
  }
 ],
 "metadata": {
  "interpreter": {
   "hash": "8dd23eb8a106e10a9d6673bd6cb60486dc3129d9782f6ed87a7bc18aa7582fa4"
  },
  "kernelspec": {
   "display_name": "Python 3.8.8 64-bit ('genpen': conda)",
   "language": "python",
   "name": "python3"
  },
  "language_info": {
   "codemirror_mode": {
    "name": "ipython",
    "version": 3
   },
   "file_extension": ".py",
   "mimetype": "text/x-python",
   "name": "python",
   "nbconvert_exporter": "python",
   "pygments_lexer": "ipython3",
   "version": "3.8.10"
  },
  "orig_nbformat": 4
 },
 "nbformat": 4,
 "nbformat_minor": 2
}

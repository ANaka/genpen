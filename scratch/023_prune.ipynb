{
 "cells": [
  {
   "cell_type": "code",
   "execution_count": null,
   "metadata": {
    "Collapsed": "false"
   },
   "outputs": [],
   "source": [
    "import itertools\n",
    "import numpy as np\n",
    "import os\n",
    "from tqdm import tqdm\n",
    "import vsketch\n",
    "import shapely.geometry as sg\n",
    "from shapely.geometry import box, MultiLineString, Point, MultiPoint, Polygon, MultiPolygon, LineString\n",
    "import shapely.affinity as sa\n",
    "import shapely.ops as so\n",
    "import matplotlib.pyplot as plt\n",
    "import pandas as pd\n",
    "\n",
    "\n",
    "from genpen import genpen as gp, utils as utils\n",
    "from scipy import stats as ss\n",
    "import geopandas\n",
    "import functools\n",
    "\n",
    "%load_ext autoreload\n",
    "%autoreload 2\n",
    "\n",
    "from genpen.utils import Paper\n",
    "import bezier\n",
    "from dataclasses import asdict, dataclass, field"
   ]
  },
  {
   "cell_type": "code",
   "execution_count": null,
   "metadata": {
    "Collapsed": "false"
   },
   "outputs": [],
   "source": [
    "# make page\n",
    "paper_size = '11x14 inches'\n",
    "border:float=35\n",
    "paper = Paper(paper_size)\n",
    "\n",
    "drawbox = paper.get_drawbox(border)"
   ]
  },
  {
   "cell_type": "code",
   "execution_count": null,
   "metadata": {
    "Collapsed": "false"
   },
   "outputs": [],
   "source": [
    "@dataclass\n",
    "class CircleGrowerPruner(object):\n",
    "    start_poly: Polygon\n",
    "    rad_gen: None\n",
    "    n_growth_candidates:int = 10\n",
    "    \n",
    "    def __post_init__(self):\n",
    "        self.polys = [self.start_poly]\n",
    "        \n",
    "    @property\n",
    "    def mp(self):\n",
    "        return MultiPolygon(self.polys)\n",
    "    \n",
    "    @property\n",
    "    def current_rad(self):\n",
    "        return self.rad_gen()\n",
    "    \n",
    "    \n",
    "    \n",
    "    def get_touching_circle(\n",
    "        self,\n",
    "        max_attempts=1000,\n",
    "    ):\n",
    "        n_attempts = 0\n",
    "        rad = self.rad_gen()\n",
    "        while n_attempts < max_attempts:\n",
    "            \n",
    "            search_ring = self.mp.buffer(rad).boundary\n",
    "            search_locs = np.arange(0, search_ring.length, 2*rad) \n",
    "            scrambled_search_locs = np.random.permutation(search_locs)\n",
    "            for sl in scrambled_search_locs:\n",
    "                pt = search_ring.interpolate(sl)\n",
    "                c = pt.buffer(rad)\n",
    "                if (not c.intersects(self.mp)):\n",
    "                    return c\n",
    "                n_attempts += 1\n",
    "        \n",
    "    def make_growth_candidates(self):\n",
    "        self.growth_candidates = []\n",
    "        for i in range(self.n_growth_candidates):\n",
    "            cand = cgp.get_touching_circle()\n",
    "            if cand is not None:\n",
    "                self.growth_candidates.append(cand)\n",
    "    \n",
    "    def get_distance_from_center(self, geom):\n",
    "        return geom.distance(self.mp.centroid)\n",
    "    \n",
    "    def get_distance_from_target(self, geom):\n",
    "        return geom.distance(self.target)\n",
    "    \n",
    "    @property\n",
    "    def candidate_distances(self):\n",
    "        return [self.get_distance_from_target(gc) for gc in self.growth_candidates]\n",
    "#         return [self.get_distance_from_center(gc) for gc in self.growth_candidates]\n",
    "    \n",
    "    def grow(self):\n",
    "        self.make_growth_candidates()\n",
    "        order = np.argsort(self.candidate_distances)\n",
    "        best = self.growth_candidates[order[0]]\n",
    "        self.polys.append(best)\n",
    "        \n",
    "    def prune_other(self, other_geom):\n",
    "        distances = [p.distance(other_geom) for p in self.polys]\n",
    "        order = np.argsort(distances)\n",
    "        worst = order[0]\n",
    "        self.polys.pop(worst)\n",
    "        \n",
    "    def prune(self,):\n",
    "        distances = [p.hausdorff_distance(self.mp) for p in self.polys]\n",
    "        order = np.argsort(distances)\n",
    "        choice = order[0]\n",
    "        self.polys.pop(choice)"
   ]
  },
  {
   "cell_type": "code",
   "execution_count": null,
   "metadata": {
    "Collapsed": "false"
   },
   "outputs": [],
   "source": [
    "start_poly = Point(140,50).buffer(3)\n",
    "rad_gen = ss.uniform(loc=1, scale=5).rvs\n",
    "cgp = CircleGrowerPruner(start_poly=start_poly, rad_gen=rad_gen, n_growth_candidates=5)\n",
    "cgp.target = Point(140, 280)\n"
   ]
  },
  {
   "cell_type": "code",
   "execution_count": null,
   "metadata": {
    "Collapsed": "false"
   },
   "outputs": [],
   "source": [
    "for i in range(350):\n",
    "    cgp.grow()"
   ]
  },
  {
   "cell_type": "code",
   "execution_count": null,
   "metadata": {
    "Collapsed": "false"
   },
   "outputs": [],
   "source": [
    "for i in range(50):\n",
    "    cgp.grow()"
   ]
  },
  {
   "cell_type": "code",
   "execution_count": null,
   "metadata": {
    "Collapsed": "false"
   },
   "outputs": [],
   "source": [
    "cgp.mp"
   ]
  },
  {
   "cell_type": "code",
   "execution_count": null,
   "metadata": {
    "Collapsed": "false"
   },
   "outputs": [],
   "source": [
    "bps = []\n",
    "for p in cgp.mp:\n",
    "    d = p.centroid.y\n",
    "    buffer_dist = np.interp(d, [35, 320], [0, -2.5])\n",
    "    bp = p.buffer(buffer_dist)\n",
    "    bps.append(bp)"
   ]
  },
  {
   "cell_type": "code",
   "execution_count": null,
   "metadata": {
    "Collapsed": "false"
   },
   "outputs": [],
   "source": [
    "bps = []\n",
    "for p in cgp.mp:\n",
    "    d = p.centroid.y\n",
    "    clip_dist = np.interp(d, [35, 320], [0, gp.get_rad(p)*2])\n",
    "    bp = p.difference(sa.translate(p, xoff=clip_dist))\n",
    "    bps.append(bp)"
   ]
  },
  {
   "cell_type": "code",
   "execution_count": null,
   "metadata": {
    "Collapsed": "false"
   },
   "outputs": [],
   "source": [
    "polys = gp.merge_Polygons(bps)"
   ]
  },
  {
   "cell_type": "code",
   "execution_count": null,
   "metadata": {
    "Collapsed": "false"
   },
   "outputs": [],
   "source": [
    "\n",
    "\n",
    "fbps = []\n",
    "for _p in polys:\n",
    "    area = np.log10(_p.area)\n",
    "    p = gp.Poly(_p)\n",
    "    n_iters = int(np.interp(area, [-3, 4.3], [1, 230]))\n",
    "    stp = gp.ScaleTransPrms(n_iters = n_iters, d_buffer=-0.4, d_translate_factor=0., angles=np.random.uniform(0,np.pi*2))\n",
    "    db_mults = gp.gaussian_random_walk(n=stp.d_buffers.shape[0], step_std=6.5, step_mu=0.)\n",
    "    db_mults[db_mults<0.] = 0.05\n",
    "    stp.d_buffers *= db_mults\n",
    "#     stp.angles = np.linspace(0, np.radians(360*0.7), len(stp.d_buffers))\n",
    "    p.fill_scale_trans(**stp.prms)\n",
    "    fbps.append(p)\n",
    "\n",
    "fills = gp.merge_LineStrings([p.fill for p in fbps])"
   ]
  },
  {
   "cell_type": "code",
   "execution_count": null,
   "metadata": {
    "Collapsed": "false"
   },
   "outputs": [],
   "source": [
    "sk = vsketch.Vsketch()\n",
    "sk.size(paper.page_format_mm)\n",
    "sk.scale('1mm')\n",
    "sk.penWidth('0.5mm')\n",
    "sk.stroke(1)\n",
    "sk.geometry(polys.boundary)\n",
    "\n",
    "sk.display(color_mode='none')"
   ]
  },
  {
   "cell_type": "code",
   "execution_count": null,
   "metadata": {
    "Collapsed": "false"
   },
   "outputs": [],
   "source": []
  },
  {
   "cell_type": "code",
   "execution_count": null,
   "metadata": {
    "Collapsed": "false"
   },
   "outputs": [],
   "source": [
    "\n",
    "sk.vpype('linemerge --tolerance 0.1 linemerge --tolerance 0.1 linesimplify --tolerance 0.1 linesort')\n",
    "sk.save('/mnt/c/code/side/plotter_images/oned_outputs/227_wax_wane.svg')"
   ]
  }
 ],
 "metadata": {
  "kernelspec": {
   "display_name": "Python [conda env:genpen]",
   "language": "python",
   "name": "conda-env-genpen-py"
  },
  "language_info": {
   "codemirror_mode": {
    "name": "ipython",
    "version": 3
   },
   "file_extension": ".py",
   "mimetype": "text/x-python",
   "name": "python",
   "nbconvert_exporter": "python",
   "pygments_lexer": "ipython3",
   "version": "3.8.6"
  }
 },
 "nbformat": 4,
 "nbformat_minor": 4
}

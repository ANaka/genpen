{
 "cells": [
  {
   "cell_type": "code",
   "execution_count": null,
   "id": "e0c3c2ae-28e9-4764-ad34-b6b60e997d72",
   "metadata": {
    "Collapsed": "false"
   },
   "outputs": [],
   "source": [
    "import itertools\n",
    "import numpy as np\n",
    "import os\n",
    "import seaborn as sns\n",
    "from tqdm import tqdm\n",
    "from dataclasses import asdict, dataclass, field\n",
    "import vsketch\n",
    "import shapely.geometry as sg\n",
    "from shapely.geometry import box, MultiLineString, Point, MultiPoint, Polygon, MultiPolygon, LineString\n",
    "import shapely.affinity as sa\n",
    "import shapely.ops as so\n",
    "import matplotlib.pyplot as plt\n",
    "import pandas as pd\n",
    "\n",
    "import vpype_cli\n",
    "from typing import List, Generic\n",
    "from genpen import genpen as gp, utils as utils\n",
    "from scipy import stats as ss\n",
    "import geopandas\n",
    "from shapely.errors import TopologicalError\n",
    "import functools\n",
    "%load_ext autoreload\n",
    "%autoreload 2\n",
    "import vpype\n",
    "from skimage import io\n",
    "from pathlib import Path\n",
    "\n",
    "import bezier\n",
    "\n",
    "from sklearn.preprocessing import minmax_scale\n",
    "from skimage import feature\n",
    "from genpen.utils import Paper\n",
    "\n",
    "from scipy import spatial, stats\n",
    "from scipy.ndimage import gaussian_filter\n",
    "from scipy.integrate import odeint\n",
    "\n",
    "from genpen.grower import *"
   ]
  },
  {
   "cell_type": "code",
   "execution_count": null,
   "id": "809b4d14-9d38-4737-8f9a-c12776ca99e0",
   "metadata": {
    "Collapsed": "false"
   },
   "outputs": [],
   "source": [
    "# make page\n",
    "paper_size = '11x14 inches'\n",
    "border:float=30\n",
    "paper = Paper(paper_size)\n",
    "\n",
    "drawbox = paper.get_drawbox(border)"
   ]
  },
  {
   "cell_type": "code",
   "execution_count": null,
   "id": "6b7bd637-186e-45a3-9dcb-42fdd316e56a",
   "metadata": {
    "Collapsed": "false"
   },
   "outputs": [],
   "source": [
    "center = drawbox.centroid"
   ]
  },
  {
   "cell_type": "code",
   "execution_count": null,
   "id": "facdce3c-2254-46e3-aa8e-948ca0681ee8",
   "metadata": {
    "Collapsed": "false"
   },
   "outputs": [],
   "source": [
    "n_lines = 6421\n",
    "thetas = np.linspace(0, np.pi*24, n_lines)\n",
    "radii = np.linspace(0.8, 18, n_lines)"
   ]
  },
  {
   "cell_type": "code",
   "execution_count": null,
   "id": "76da2aae-20b2-41e5-b251-cd901b43f50b",
   "metadata": {
    "Collapsed": "false"
   },
   "outputs": [],
   "source": [
    "pts = []\n",
    "for theta, radius in zip(thetas, radii):\n",
    "    x = np.cos(theta) * radius - 0\n",
    "    y = np.sin(theta) * radius + 0.\n",
    "    pts.append(Point(x, y))"
   ]
  },
  {
   "cell_type": "code",
   "execution_count": null,
   "id": "1f27f0fa-dd81-480c-9338-0534a9e30269",
   "metadata": {},
   "outputs": [],
   "source": [
    "def ode(y, t, a, b, c, d):\n",
    "    v, u = y\n",
    "    dvdt = np.sin(b * u) + v * c\n",
    "    dudt = np.cos(a * v * u) + u  * d\n",
    "    dydt = [dvdt, dudt]\n",
    "    return dydt"
   ]
  },
  {
   "cell_type": "code",
   "execution_count": null,
   "id": "6a454747-d1ed-468e-96fa-6ec9b8cb899a",
   "metadata": {},
   "outputs": [],
   "source": [
    "\n",
    "\n",
    "t_max = 3.7\n",
    "t = np.linspace(0, t_max, 41)\n",
    "a = 0.1\n",
    "b = 0.95\n",
    "c = - 0.02\n",
    "d = -0.02\n",
    "\n",
    "all_polys = Polygon()\n",
    "\n",
    "break_dist = 0.05\n",
    "\n",
    "lines = []\n",
    "lfs = MultiLineString()\n",
    "allowed_counter = 0\n",
    "for ii, pt in enumerate(tqdm(pts)):\n",
    "    sol = odeint(ode, [pt.x, pt.y], t, args=(a, b, c, d))\n",
    "    mpt = MultiPoint(sol)\n",
    "    if ii == 0:\n",
    "        ls = LineString(mpt)\n",
    "        lfs = gp.merge_LineStrings([lfs, ls])\n",
    "        lines.append(ls)\n",
    "    else:\n",
    "        allowed_counter = 0\n",
    "        for _pt in mpt:\n",
    "            dist = _pt.distance(lfs)\n",
    "            if dist < break_dist:\n",
    "                break\n",
    "            allowed_counter += 1\n",
    "    if allowed_counter > 1:\n",
    "        ls = LineString(mpt[:allowed_counter])\n",
    "        lfs = gp.merge_LineStrings([lfs, ls])\n",
    "        lines.append(ls)\n",
    "        \n",
    "lbs0 = gp.merge_LineStrings([l for l in lines if l.length > 0.9])     \n",
    "lbs0 = gp.make_like(gp.merge_LineStrings(lbs0), drawbox)\n",
    "\n"
   ]
  },
  {
   "cell_type": "code",
   "execution_count": null,
   "id": "625b95e9-9c2f-41c0-ad2d-5ee450364497",
   "metadata": {},
   "outputs": [],
   "source": [
    "lbs0 = sa.rotate(lbs0, 90)"
   ]
  },
  {
   "cell_type": "code",
   "execution_count": null,
   "id": "7f9d8eb9-6860-40e2-97b4-574ca686a40e",
   "metadata": {
    "Collapsed": "false"
   },
   "outputs": [],
   "source": [
    "sk = vsketch.Vsketch()\n",
    "sk.size(paper.page_format_mm)\n",
    "sk.scale('1mm')\n",
    "sk.penWidth('0.3mm')\n",
    "\n",
    "sk.geometry(lbs0)\n",
    "sk.vpype('linesimplify')\n",
    "\n",
    "sk.display(color_mode='layer')"
   ]
  },
  {
   "cell_type": "code",
   "execution_count": null,
   "id": "8cacfe44-01db-4c7b-bb4c-e878c8d60986",
   "metadata": {
    "Collapsed": "false"
   },
   "outputs": [],
   "source": [
    "sk = vsketch.Vsketch()\n",
    "sk.size(paper.page_format_mm)\n",
    "sk.scale('1mm')\n",
    "sk.penWidth('0.3mm')\n",
    "\n",
    "counter = 0\n",
    "for ls in lbs0:\n",
    "    counter += 1\n",
    "    sk.stroke(counter)\n",
    "    sk.geometry(ls)\n",
    "    \n",
    "\n",
    "sk.display(color_mode='layer')"
   ]
  },
  {
   "cell_type": "code",
   "execution_count": null,
   "id": "f66fc97e-31b3-4aa3-9ef7-20f044ebc6f7",
   "metadata": {},
   "outputs": [],
   "source": [
    "import fn"
   ]
  },
  {
   "cell_type": "code",
   "execution_count": null,
   "id": "13421ad5-3b77-4930-b2db-27ff70123d49",
   "metadata": {},
   "outputs": [],
   "source": [
    "plot_id = fn.new_plot_id()"
   ]
  },
  {
   "cell_type": "code",
   "execution_count": null,
   "id": "8eb1a106-a91d-44ff-9cb5-09a28366340f",
   "metadata": {},
   "outputs": [],
   "source": [
    "savedir='/home/naka/art/plotter_svgs'"
   ]
  },
  {
   "cell_type": "code",
   "execution_count": null,
   "id": "7f3e5066-7e5d-4d9a-a7a2-d0d6b68f9e94",
   "metadata": {},
   "outputs": [],
   "source": [
    "savepath = Path(savedir).joinpath(f'{plot_id}.svg').as_posix()\n",
    "sk.save(savepath)"
   ]
  },
  {
   "cell_type": "code",
   "execution_count": null,
   "id": "6bb28a50-7c06-44d1-8fa1-e9787d5e6f17",
   "metadata": {},
   "outputs": [],
   "source": []
  },
  {
   "cell_type": "code",
   "execution_count": null,
   "id": "2fdf440b-51b8-4338-83ae-86846dc6754b",
   "metadata": {},
   "outputs": [],
   "source": [
    "from genpen.axicam import AxiCam"
   ]
  },
  {
   "cell_type": "code",
   "execution_count": null,
   "id": "397d9380-2df6-4865-82f7-81623ef7c03b",
   "metadata": {},
   "outputs": [],
   "source": [
    "ac = AxiCam(plot_id='20210607-185734_004816-7a540-45c64f')"
   ]
  },
  {
   "cell_type": "code",
   "execution_count": null,
   "id": "b7721ffe-f9cd-4403-a0ac-704e7d995b0a",
   "metadata": {},
   "outputs": [],
   "source": [
    "ac.init_cam()"
   ]
  },
  {
   "cell_type": "code",
   "execution_count": null,
   "id": "9f729479-7c91-4857-adb0-27cd4f4e1b90",
   "metadata": {},
   "outputs": [],
   "source": [
    "ac.grab_frames(wait_time=3)"
   ]
  },
  {
   "cell_type": "code",
   "execution_count": null,
   "id": "0a9b17ae-814a-41e3-950b-c38ff1db0130",
   "metadata": {},
   "outputs": [],
   "source": [
    "ac.cam.video_preview()"
   ]
  },
  {
   "cell_type": "code",
   "execution_count": null,
   "id": "51313828-2db6-4f46-bd08-93e96679dc56",
   "metadata": {},
   "outputs": [],
   "source": [
    "ac.cam.close()"
   ]
  },
  {
   "cell_type": "code",
   "execution_count": null,
   "id": "57b7fbb1-ef20-4f48-ae27-6c30629eb325",
   "metadata": {},
   "outputs": [],
   "source": [
    "ac.ad.options.speed_penup = 70"
   ]
  },
  {
   "cell_type": "code",
   "execution_count": null,
   "id": "23cab416-1a8e-45a4-abec-41031f3c63e8",
   "metadata": {},
   "outputs": [],
   "source": [
    "ac.ad.options.accel = 80\n",
    "ac.ad.options.pen_raise_rate = 85"
   ]
  },
  {
   "cell_type": "code",
   "execution_count": null,
   "id": "f53cef69-3395-4984-a7c5-37a557d5a108",
   "metadata": {},
   "outputs": [],
   "source": [
    "ac.ad.options.speed_pendown = 40\n",
    "ac.ad.update()"
   ]
  },
  {
   "cell_type": "code",
   "execution_count": null,
   "id": "9e9930b3-fbe8-4407-aa45-5a2318cb0b3e",
   "metadata": {},
   "outputs": [],
   "source": [
    "1660 + 706"
   ]
  },
  {
   "cell_type": "code",
   "execution_count": null,
   "id": "ef806f81-fdaf-4d96-a7cb-ab7e12a17515",
   "metadata": {},
   "outputs": [],
   "source": [
    "ac.plot_layers(wait_times=0.3, start_layer=1660)"
   ]
  },
  {
   "cell_type": "markdown",
   "id": "eff87d2f-b3ca-44cb-b03c-63ef152f9775",
   "metadata": {},
   "source": [
    "# circle pack"
   ]
  },
  {
   "cell_type": "code",
   "execution_count": null,
   "id": "bb116302-a614-4d2f-91e8-6a51622d3949",
   "metadata": {
    "Collapsed": "false"
   },
   "outputs": [],
   "source": [
    "# make page\n",
    "paper_size = '11x14 inches'\n",
    "border:float=30\n",
    "paper = Paper(paper_size)\n",
    "\n",
    "drawbox = paper.get_drawbox(border)"
   ]
  },
  {
   "cell_type": "code",
   "execution_count": null,
   "id": "cca9b914-230b-4dc4-a813-cbc5046a294f",
   "metadata": {
    "Collapsed": "false"
   },
   "outputs": [],
   "source": [
    "center = drawbox.centroid"
   ]
  },
  {
   "cell_type": "code",
   "execution_count": null,
   "id": "0fa50acd-eb0e-4c6d-9379-11e76208b3b4",
   "metadata": {},
   "outputs": [],
   "source": [
    "trcp = gp.RecursiveCirclePacker(drawbox, rad_seq_start=0.5,\n",
    "    rad_seq_end=0.1, min_allowed_rad=5, n_rads=10, )\n",
    "trcp.run(1)\n",
    "trcp.run(25)"
   ]
  },
  {
   "cell_type": "code",
   "execution_count": null,
   "id": "dbdb02d0-5bc2-48fc-87c6-65464fdd3f5e",
   "metadata": {},
   "outputs": [],
   "source": [
    "cbounds = sa.scale(trcp.boundary, xfact=0.1, yfact=0.1)"
   ]
  },
  {
   "cell_type": "code",
   "execution_count": null,
   "id": "77c2c5b5-7903-46d7-a76e-9650599bce09",
   "metadata": {},
   "outputs": [],
   "source": [
    "cc = cbounds.centroid"
   ]
  },
  {
   "cell_type": "code",
   "execution_count": null,
   "id": "7a3333d4-0671-40f9-a8dc-a5f20a37833c",
   "metadata": {},
   "outputs": [],
   "source": [
    "cbounds = sa.translate(cbounds, xoff=-cc.x, yoff=-cc.y)"
   ]
  },
  {
   "cell_type": "code",
   "execution_count": null,
   "id": "f0663afc-c6c7-4713-89b5-1138db31398b",
   "metadata": {},
   "outputs": [],
   "source": [
    "cbounds.bounds"
   ]
  },
  {
   "cell_type": "code",
   "execution_count": null,
   "id": "45a08daa-730e-47f6-9bc3-1761223146c8",
   "metadata": {},
   "outputs": [],
   "source": [
    "n_lines = 4421\n",
    "pts = []\n",
    "for d in tqdm(np.linspace(1, 0, n_lines)):\n",
    "    pts.append(cbounds.interpolate(d, normalized=True))"
   ]
  },
  {
   "cell_type": "code",
   "execution_count": null,
   "id": "dd6387c9-f668-46c5-88a5-e37e70c5c89b",
   "metadata": {},
   "outputs": [],
   "source": [
    "def ode(y, t, a, b, c, d):\n",
    "    v, u = y\n",
    "    dvdt = np.sin(b * u) + v * c\n",
    "    dudt = np.cos(a * v * u) + u  * d\n",
    "    dydt = [dvdt, dudt]\n",
    "    return dydt"
   ]
  },
  {
   "cell_type": "code",
   "execution_count": null,
   "id": "c552488e-4067-4cba-a31a-db742287e9b7",
   "metadata": {},
   "outputs": [],
   "source": [
    "\n",
    "\n",
    "t_max = 4.1\n",
    "t = np.linspace(0, t_max, 41)\n",
    "a = 0.1\n",
    "b = 0.95\n",
    "c = - 0.02\n",
    "d = -0.02\n",
    "\n",
    "all_polys = Polygon()\n",
    "\n",
    "break_dist = 0.05\n",
    "\n",
    "lines = []\n",
    "lfs = MultiLineString()\n",
    "allowed_counter = 0\n",
    "for ii, pt in enumerate(tqdm(pts)):\n",
    "    sol = odeint(ode, [pt.x, pt.y], t, args=(a, b, c, d))\n",
    "    mpt = MultiPoint(sol)\n",
    "    if ii == 0:\n",
    "        ls = LineString(mpt)\n",
    "        lfs = gp.merge_LineStrings([lfs, ls])\n",
    "        lines.append(ls)\n",
    "    else:\n",
    "        allowed_counter = 0\n",
    "        for _pt in mpt:\n",
    "            dist = _pt.distance(lfs)\n",
    "            if dist < break_dist:\n",
    "                break\n",
    "            allowed_counter += 1\n",
    "    if allowed_counter > 1:\n",
    "        ls = LineString(mpt[:allowed_counter])\n",
    "        lfs = gp.merge_LineStrings([lfs, ls])\n",
    "        lines.append(ls)\n",
    "lbs0 = gp.merge_LineStrings([l for l in lines if l.length > 0.1])     \n",
    "lbs0 = gp.make_like(gp.merge_LineStrings(lbs0), drawbox)\n",
    "\n"
   ]
  },
  {
   "cell_type": "code",
   "execution_count": null,
   "id": "1ed002d9-ff07-44fc-bd4f-14cbacbbde8b",
   "metadata": {
    "Collapsed": "false"
   },
   "outputs": [],
   "source": [
    "sk = vsketch.Vsketch()\n",
    "sk.size(paper.page_format_mm)\n",
    "sk.scale('1mm')\n",
    "sk.penWidth('0.3mm')\n",
    "\n",
    "sk.geometry(lbs0[:])\n",
    "sk.vpype('linesimplify')\n",
    "\n",
    "sk.display(color_mode='layer')"
   ]
  },
  {
   "cell_type": "code",
   "execution_count": null,
   "id": "595c212c-0a0b-43b5-b9bf-ecded74ff7c7",
   "metadata": {
    "Collapsed": "false"
   },
   "outputs": [],
   "source": [
    "sk = vsketch.Vsketch()\n",
    "sk.size(paper.page_format_mm)\n",
    "sk.scale('1mm')\n",
    "sk.penWidth('0.3mm')\n",
    "\n",
    "counter = 0\n",
    "for ls in lbs0:\n",
    "    counter += 1\n",
    "    sk.stroke(counter)\n",
    "    sk.geometry(ls)\n",
    "    \n",
    "\n",
    "sk.display(color_mode='layer')"
   ]
  },
  {
   "cell_type": "code",
   "execution_count": null,
   "id": "e673d42a-292f-488c-82ce-0bd4e36fe4d6",
   "metadata": {},
   "outputs": [],
   "source": [
    "import fn"
   ]
  },
  {
   "cell_type": "code",
   "execution_count": null,
   "id": "ac467f86-5051-42dc-8bc5-b79da383ffbd",
   "metadata": {},
   "outputs": [],
   "source": [
    "plot_id = fn.new_plot_id()"
   ]
  },
  {
   "cell_type": "code",
   "execution_count": null,
   "id": "ac209622-56ca-4c9f-9257-81b97951ca85",
   "metadata": {},
   "outputs": [],
   "source": [
    "savedir='/home/naka/art/plotter_svgs'"
   ]
  },
  {
   "cell_type": "code",
   "execution_count": null,
   "id": "9e56d0c6-3927-4121-a121-28820fb0ffe1",
   "metadata": {},
   "outputs": [],
   "source": [
    "savepath = Path(savedir).joinpath(f'{plot_id}.svg').as_posix()\n",
    "sk.save(savepath)"
   ]
  },
  {
   "cell_type": "code",
   "execution_count": null,
   "id": "47d3c6bc-20b0-4ed7-ae47-36aef43158a4",
   "metadata": {},
   "outputs": [],
   "source": []
  },
  {
   "cell_type": "code",
   "execution_count": null,
   "id": "d764e2de-8fd0-4ae6-9c83-0c6ad7cdb79b",
   "metadata": {},
   "outputs": [],
   "source": [
    "from genpen.axicam import AxiCam"
   ]
  },
  {
   "cell_type": "code",
   "execution_count": null,
   "id": "c498d163-3d8c-479a-a23f-ac13d1964746",
   "metadata": {},
   "outputs": [],
   "source": [
    "ac = AxiCam()"
   ]
  },
  {
   "cell_type": "code",
   "execution_count": null,
   "id": "a2e37c06-ce1d-488c-8a95-35a40392d9a8",
   "metadata": {},
   "outputs": [],
   "source": [
    "ac.init_cam()"
   ]
  },
  {
   "cell_type": "code",
   "execution_count": null,
   "id": "9494b9af-e8c0-416d-830f-4250f24e356f",
   "metadata": {},
   "outputs": [],
   "source": [
    "ac.n_layers"
   ]
  },
  {
   "cell_type": "code",
   "execution_count": null,
   "id": "e23820bc-3507-4263-bf97-ca5893f34d1b",
   "metadata": {},
   "outputs": [],
   "source": [
    "ac.cam.close()"
   ]
  },
  {
   "cell_type": "code",
   "execution_count": null,
   "id": "a2f5dcb0-e869-4599-8200-1f881aee0643",
   "metadata": {},
   "outputs": [],
   "source": [
    "ac.ad.options.speed_penup = 70"
   ]
  },
  {
   "cell_type": "code",
   "execution_count": null,
   "id": "a1077f88-d3bb-4b8d-8c10-fc544e1df9a2",
   "metadata": {},
   "outputs": [],
   "source": [
    "ac.ad.options.accel = 80\n",
    "ac.ad.options.pen_raise_rate = 85"
   ]
  },
  {
   "cell_type": "code",
   "execution_count": null,
   "id": "ee852e38-7991-4909-8ec4-3f6c59320a5f",
   "metadata": {},
   "outputs": [],
   "source": [
    "ac.ad.options.speed_pendown = 40\n",
    "ac.ad.update()"
   ]
  },
  {
   "cell_type": "code",
   "execution_count": null,
   "id": "4094a1a7-f4ef-4fce-a5fd-53549d97c670",
   "metadata": {},
   "outputs": [],
   "source": [
    "ac.ad.options.layer = 606\n",
    "ac.ad.plot_run()"
   ]
  },
  {
   "cell_type": "code",
   "execution_count": null,
   "id": "d0ae9c39-d0ef-4026-8f25-c3aa10ddf179",
   "metadata": {},
   "outputs": [],
   "source": [
    "ac.plot_layers(wait_times=0.)"
   ]
  },
  {
   "cell_type": "code",
   "execution_count": null,
   "id": "3f03d08e-36b5-4b3a-9ecf-293b69ba0a02",
   "metadata": {},
   "outputs": [],
   "source": []
  },
  {
   "cell_type": "code",
   "execution_count": null,
   "id": "99f61406-fbb4-4645-9381-6c8d986d3342",
   "metadata": {
    "Collapsed": "false"
   },
   "outputs": [],
   "source": [
    "# make page\n",
    "paper_size = '6x6 inches'\n",
    "border:float=10\n",
    "paper = Paper(paper_size)\n",
    "\n",
    "drawbox = paper.get_drawbox(border)"
   ]
  },
  {
   "cell_type": "code",
   "execution_count": null,
   "id": "21f093fb-2805-45c1-b963-e592a6f46a8c",
   "metadata": {
    "Collapsed": "false"
   },
   "outputs": [],
   "source": [
    "center = drawbox.centroid"
   ]
  },
  {
   "cell_type": "code",
   "execution_count": null,
   "id": "4fac713a-c420-48c5-8626-51f888d88eca",
   "metadata": {
    "Collapsed": "false"
   },
   "outputs": [],
   "source": [
    "n_lines = 2921\n",
    "thetas = np.linspace(0, np.pi*10, n_lines)\n",
    "radii = np.linspace(0.8, 16, n_lines)"
   ]
  },
  {
   "cell_type": "code",
   "execution_count": null,
   "id": "d244e7f3-9c30-4cf7-bf67-2a87a742f8f2",
   "metadata": {
    "Collapsed": "false"
   },
   "outputs": [],
   "source": [
    "pts = []\n",
    "for theta, radius in zip(thetas, radii):\n",
    "    x = np.cos(theta) * radius - 0\n",
    "    y = np.sin(theta) * radius + 0.\n",
    "    pts.append(Point(x, y))"
   ]
  },
  {
   "cell_type": "code",
   "execution_count": null,
   "id": "1bc30b2d-2b2a-4514-9e84-9f4947aca43d",
   "metadata": {},
   "outputs": [],
   "source": [
    "def ode(y, t, a, b, c, d):\n",
    "    v, u = y\n",
    "    dvdt = np.sin(b * u) + v * c\n",
    "    dudt = np.cos(a * v * u) + u  * d\n",
    "    dydt = [dvdt, dudt]\n",
    "    return dydt"
   ]
  },
  {
   "cell_type": "code",
   "execution_count": null,
   "id": "ffe2c81f-e1b6-4bed-929e-bc45269a8a90",
   "metadata": {},
   "outputs": [],
   "source": [
    "\n",
    "\n",
    "t_max = 12.7\n",
    "t = np.linspace(0, t_max, 61)\n",
    "a = 0.1\n",
    "b = 0.95\n",
    "c = - 0.02\n",
    "d = -0.02\n",
    "\n",
    "all_polys = Polygon()\n",
    "\n",
    "break_dist = 0.04\n",
    "\n",
    "lines = []\n",
    "lfs = MultiLineString()\n",
    "allowed_counter = 0\n",
    "for ii, pt in enumerate(tqdm(pts)):\n",
    "    sol = odeint(ode, [pt.x, pt.y], t, args=(a, b, c, d))\n",
    "    mpt = MultiPoint(sol)\n",
    "    if ii == 0:\n",
    "        ls = LineString(mpt)\n",
    "        lfs = gp.merge_LineStrings([lfs, ls])\n",
    "        lines.append(ls)\n",
    "    else:\n",
    "        allowed_counter = 0\n",
    "        for _pt in mpt:\n",
    "            dist = _pt.distance(lfs)\n",
    "            if dist < break_dist:\n",
    "                break\n",
    "            allowed_counter += 1\n",
    "    if allowed_counter > 1:\n",
    "        ls = LineString(mpt[:allowed_counter])\n",
    "        lfs = gp.merge_LineStrings([lfs, ls])\n",
    "        lines.append(ls)\n",
    "        \n",
    "lbs0 = gp.merge_LineStrings([l for l in lines if l.length > 0.9])     \n",
    "lbs0 = gp.make_like(gp.merge_LineStrings(lbs0), drawbox)\n",
    "\n"
   ]
  },
  {
   "cell_type": "code",
   "execution_count": null,
   "id": "a51814d0-c2f5-4ebb-8274-415ad741114d",
   "metadata": {},
   "outputs": [],
   "source": [
    "lbs0 = sa.rotate(lbs0, 90)"
   ]
  },
  {
   "cell_type": "code",
   "execution_count": null,
   "id": "8144c13c-02b3-42f8-9e64-cbcad78c983c",
   "metadata": {
    "Collapsed": "false"
   },
   "outputs": [],
   "source": [
    "sk = vsketch.Vsketch()\n",
    "sk.size(paper.page_format_mm)\n",
    "sk.scale('1mm')\n",
    "sk.penWidth('0.3mm')\n",
    "\n",
    "sk.geometry(lbs0)\n",
    "# sk.vpype('linesimplify')\n",
    "\n",
    "sk.display(color_mode='layer')"
   ]
  },
  {
   "cell_type": "code",
   "execution_count": null,
   "id": "16d56706-0afe-4bd8-b12d-c4af55ba7c72",
   "metadata": {
    "Collapsed": "false"
   },
   "outputs": [],
   "source": [
    "sk = vsketch.Vsketch()\n",
    "sk.size(paper.page_format_mm)\n",
    "sk.scale('1mm')\n",
    "sk.penWidth('0.3mm')\n",
    "\n",
    "counter = 0\n",
    "for ls in lbs0:\n",
    "    counter += 1\n",
    "    sk.stroke(counter)\n",
    "    sk.geometry(ls)\n",
    "    \n",
    "\n",
    "sk.display(color_mode='layer')"
   ]
  },
  {
   "cell_type": "code",
   "execution_count": null,
   "id": "8bc763db-b617-49b7-9451-17a5904e6199",
   "metadata": {},
   "outputs": [],
   "source": [
    "import fn"
   ]
  },
  {
   "cell_type": "code",
   "execution_count": null,
   "id": "7f7db2c1-870c-4b54-ab94-ec1e3f461888",
   "metadata": {},
   "outputs": [],
   "source": [
    "plot_id = fn.new_plot_id()"
   ]
  },
  {
   "cell_type": "code",
   "execution_count": null,
   "id": "4d39a0ac-81be-4ab0-ac04-1c1bb33936e3",
   "metadata": {},
   "outputs": [],
   "source": [
    "savedir='/home/naka/art/plotter_svgs'"
   ]
  },
  {
   "cell_type": "code",
   "execution_count": null,
   "id": "ff9107b2-f43d-4997-8382-88e5638d016d",
   "metadata": {},
   "outputs": [],
   "source": [
    "savepath = Path(savedir).joinpath(f'{plot_id}.svg').as_posix()\n",
    "sk.save(savepath)"
   ]
  },
  {
   "cell_type": "code",
   "execution_count": null,
   "id": "877a122c-9f58-4aed-b0aa-6214ae9ecb11",
   "metadata": {},
   "outputs": [],
   "source": [
    "blbs = lbs0.buffer(0.2)"
   ]
  },
  {
   "cell_type": "code",
   "execution_count": null,
   "id": "ab82ce85-d115-4725-a171-170b1cba8356",
   "metadata": {},
   "outputs": [],
   "source": [
    "blbs2 = lbs0.buffer(10).buffer(-9.5)"
   ]
  },
  {
   "cell_type": "code",
   "execution_count": null,
   "id": "310bf6a7-b48e-4843-81ba-aac53621a9f6",
   "metadata": {},
   "outputs": [],
   "source": [
    "not_filled = blbs2.difference(blbs)"
   ]
  },
  {
   "cell_type": "code",
   "execution_count": null,
   "id": "cb98ad17-d4ac-4964-bda8-9ead96d44e24",
   "metadata": {},
   "outputs": [],
   "source": [
    "nfp = gp.Poly(not_filled)"
   ]
  },
  {
   "cell_type": "code",
   "execution_count": null,
   "id": "db0b59cf-a6df-4ff3-b2fd-5d59429314be",
   "metadata": {},
   "outputs": [],
   "source": [
    "xjitter_func=ss.norm(loc=0, scale=0.4).rvs\n",
    "yjitter_func=ss.norm(loc=0, scale=1.4).rvs\n",
    "bhfs = gp.BezierHatchFill(not_filled, xjitter_func=xjitter_func, yjitter_func=yjitter_func, spacing=0.4, fill_inscribe_buffer=2.01)"
   ]
  },
  {
   "cell_type": "code",
   "execution_count": null,
   "id": "8a3130b1-a04c-44de-a715-440cb984e45c",
   "metadata": {},
   "outputs": [],
   "source": [
    "fills = bhfs.fill"
   ]
  },
  {
   "cell_type": "code",
   "execution_count": null,
   "id": "a64dae55-6035-46cc-8800-5d5c01035364",
   "metadata": {},
   "outputs": [],
   "source": [
    "fills = [l for l in fills if l.length>0.5]"
   ]
  },
  {
   "cell_type": "code",
   "execution_count": null,
   "id": "ed1ec7d6-c87d-4ee6-90ec-414bc90b350a",
   "metadata": {},
   "outputs": [],
   "source": [
    "sns.displot([np.log10(l.length) for l in fills])"
   ]
  },
  {
   "cell_type": "code",
   "execution_count": null,
   "id": "3c1dd798-78a0-4afa-b364-8e289a80eede",
   "metadata": {
    "Collapsed": "false"
   },
   "outputs": [],
   "source": [
    "sk = vsketch.Vsketch()\n",
    "sk.size(paper.page_format_mm)\n",
    "sk.scale('1mm')\n",
    "sk.penWidth('0.3mm')\n",
    "\n",
    "counter = 0\n",
    "for ls in fills:\n",
    "    counter += 1\n",
    "    sk.stroke(counter)\n",
    "    sk.geometry(ls)\n",
    "    \n",
    "\n",
    "sk.display(color_mode='layer')"
   ]
  },
  {
   "cell_type": "code",
   "execution_count": null,
   "id": "882f9084-4502-4881-af27-c28602bf7e6c",
   "metadata": {},
   "outputs": [],
   "source": [
    "savepath = Path(savedir).joinpath(f'{plot_id}.svg').as_posix()\n",
    "sk.save(savepath)"
   ]
  },
  {
   "cell_type": "code",
   "execution_count": null,
   "id": "e63dd35d-e01f-4be4-b927-25369aac3378",
   "metadata": {},
   "outputs": [],
   "source": [
    "from genpen.axicam import AxiCam"
   ]
  },
  {
   "cell_type": "code",
   "execution_count": null,
   "id": "de7784c3-85d7-4467-b5cf-6de3e1e6732c",
   "metadata": {},
   "outputs": [],
   "source": [
    "ac = AxiCam()"
   ]
  },
  {
   "cell_type": "code",
   "execution_count": null,
   "id": "6e98ee93-1e5f-43d3-8993-f8ffa0328545",
   "metadata": {},
   "outputs": [],
   "source": [
    "ac.init_cam()"
   ]
  },
  {
   "cell_type": "code",
   "execution_count": null,
   "id": "b17b39de-6b42-46ef-b2fb-64454ced2c8e",
   "metadata": {},
   "outputs": [],
   "source": [
    "ac.toggle_pen()"
   ]
  },
  {
   "cell_type": "code",
   "execution_count": null,
   "id": "e733afbd-133a-4f34-9c8c-ed8df40faf6f",
   "metadata": {},
   "outputs": [],
   "source": [
    "ac.cam.video_preview()"
   ]
  },
  {
   "cell_type": "code",
   "execution_count": null,
   "id": "40bf67a5-729d-40a4-bcf1-0a805721dfe5",
   "metadata": {},
   "outputs": [],
   "source": [
    "ac.cam.close()"
   ]
  },
  {
   "cell_type": "code",
   "execution_count": null,
   "id": "d4995e92-a13d-41ec-bf79-5afb7d956556",
   "metadata": {},
   "outputs": [],
   "source": [
    "ac.ad.options.speed_penup = 90"
   ]
  },
  {
   "cell_type": "code",
   "execution_count": null,
   "id": "34f12221-90f0-48fc-88bf-059cb931f997",
   "metadata": {},
   "outputs": [],
   "source": [
    "ac.ad.options.accel = 60\n",
    "ac.ad.options.pen_raise_rate = 95"
   ]
  },
  {
   "cell_type": "code",
   "execution_count": null,
   "id": "63048e4b-e9e0-4b43-9ed2-44a2495914cb",
   "metadata": {},
   "outputs": [],
   "source": [
    "ac.ad.options.speed_pendown = 30\n",
    "ac.ad.update()"
   ]
  },
  {
   "cell_type": "code",
   "execution_count": null,
   "id": "22d95130-b9a3-41b8-a4da-7e15fa1d2241",
   "metadata": {},
   "outputs": [],
   "source": [
    "ac.plot_layers(wait_times=0.3, start_layer=0)"
   ]
  },
  {
   "cell_type": "markdown",
   "id": "ad4aede6-a429-44ac-be5f-ef155dd52575",
   "metadata": {},
   "source": [
    "# thing"
   ]
  },
  {
   "cell_type": "code",
   "execution_count": null,
   "id": "3373319d-2e9e-40d1-986c-0f271c3951dd",
   "metadata": {
    "Collapsed": "false"
   },
   "outputs": [],
   "source": [
    "# make page\n",
    "paper_size = '6x6 inches'\n",
    "border:float=10\n",
    "paper = Paper(paper_size)\n",
    "\n",
    "drawbox = paper.get_drawbox(border)"
   ]
  },
  {
   "cell_type": "code",
   "execution_count": null,
   "id": "a9b45626-9698-4cec-ab51-5939b8ad4782",
   "metadata": {
    "Collapsed": "false"
   },
   "outputs": [],
   "source": [
    "center = drawbox.centroid"
   ]
  },
  {
   "cell_type": "code",
   "execution_count": null,
   "id": "d9a761f9-cbb0-443d-a09d-9c83588410b3",
   "metadata": {
    "Collapsed": "false"
   },
   "outputs": [],
   "source": [
    "n_lines = 1321\n",
    "thetas = np.linspace(0, np.pi*10, n_lines)\n",
    "radii = np.linspace(0.5, 16.5, n_lines)"
   ]
  },
  {
   "cell_type": "code",
   "execution_count": null,
   "id": "7b5fd49e-efe4-4378-bef9-a5108d4e8805",
   "metadata": {
    "Collapsed": "false"
   },
   "outputs": [],
   "source": [
    "pts = []\n",
    "for theta, radius in zip(thetas, radii):\n",
    "    x = np.cos(theta) * radius - 0\n",
    "    y = np.sin(theta) * radius + 0.\n",
    "    pts.append(Point(x, y))"
   ]
  },
  {
   "cell_type": "code",
   "execution_count": null,
   "id": "9c50aa76-6971-463a-8b2c-dd10e5b2f63f",
   "metadata": {},
   "outputs": [],
   "source": [
    "def ode(y, t, a, b, c, d):\n",
    "    v, u = y\n",
    "    dvdt = np.sin(b * u) + v * c\n",
    "    dudt = np.cos(a * v * u) + u  * d\n",
    "    dydt = [dvdt, dudt]\n",
    "    return dydt"
   ]
  },
  {
   "cell_type": "code",
   "execution_count": null,
   "id": "761b30a9-c401-4b56-9fe9-6c9badfade12",
   "metadata": {},
   "outputs": [],
   "source": [
    "\n",
    "\n",
    "t_max = 22.7\n",
    "t = np.linspace(0, t_max, 121)\n",
    "a = 0.1\n",
    "b = 0.95\n",
    "c = - 0.15\n",
    "d = -0.1\n",
    "\n",
    "all_polys = Polygon()\n",
    "\n",
    "break_dist = 0.1\n",
    "\n",
    "lines = []\n",
    "lfs = MultiLineString()\n",
    "allowed_counter = 0\n",
    "for ii, pt in enumerate(tqdm(pts)):\n",
    "    sol = odeint(ode, [pt.x, pt.y], t, args=(a, b, c, d))\n",
    "    mpt = MultiPoint(sol)\n",
    "    if ii == 0:\n",
    "        ls = LineString(mpt)\n",
    "        lfs = gp.merge_LineStrings([lfs, ls])\n",
    "        lines.append(ls)\n",
    "    else:\n",
    "        allowed_counter = 0\n",
    "        for _pt in mpt:\n",
    "            dist = _pt.distance(lfs)\n",
    "            if dist < break_dist:\n",
    "                break\n",
    "            allowed_counter += 1\n",
    "    if allowed_counter > 1:\n",
    "        ls = LineString(mpt[:allowed_counter])\n",
    "        lfs = gp.merge_LineStrings([lfs, ls])\n",
    "        lines.append(ls)\n",
    "        \n",
    "lbs0 = gp.merge_LineStrings([l for l in lines if l.length > 0.9])     \n",
    "lbs0 = gp.make_like(gp.merge_LineStrings(lbs0), drawbox)\n",
    "\n"
   ]
  },
  {
   "cell_type": "code",
   "execution_count": null,
   "id": "801d5a7a-56db-484d-81f5-8d7c1439a34a",
   "metadata": {
    "Collapsed": "false"
   },
   "outputs": [],
   "source": [
    "sk = vsketch.Vsketch()\n",
    "sk.size(paper.page_format_mm)\n",
    "sk.scale('1mm')\n",
    "sk.penWidth('0.3mm')\n",
    "\n",
    "sk.geometry(lbs0)\n",
    "# sk.vpype('linesimplify')\n",
    "\n",
    "sk.display(color_mode='layer')"
   ]
  },
  {
   "cell_type": "code",
   "execution_count": null,
   "id": "fab8b64d-5801-44c2-aca1-06f8bc7d1aab",
   "metadata": {
    "Collapsed": "false"
   },
   "outputs": [],
   "source": [
    "sk = vsketch.Vsketch()\n",
    "sk.size(paper.page_format_mm)\n",
    "sk.scale('1mm')\n",
    "sk.penWidth('0.3mm')\n",
    "\n",
    "counter = 0\n",
    "for ls in lbs0:\n",
    "    counter += 1\n",
    "    sk.stroke(counter)\n",
    "    sk.geometry(ls)\n",
    "    \n",
    "\n",
    "sk.display(color_mode='layer')"
   ]
  },
  {
   "cell_type": "code",
   "execution_count": null,
   "id": "30a4dfdd-2a5e-4cd8-8129-aed79565a6cc",
   "metadata": {},
   "outputs": [],
   "source": [
    "import fn"
   ]
  },
  {
   "cell_type": "code",
   "execution_count": null,
   "id": "7cf558c4-50ba-4c32-9cd4-a0a1d60e751a",
   "metadata": {},
   "outputs": [],
   "source": [
    "plot_id = fn.new_plot_id()"
   ]
  },
  {
   "cell_type": "code",
   "execution_count": null,
   "id": "e3b95019-deb8-4f58-9090-c72b3080ea32",
   "metadata": {},
   "outputs": [],
   "source": [
    "savedir='/home/naka/art/plotter_svgs'"
   ]
  },
  {
   "cell_type": "code",
   "execution_count": null,
   "id": "23589205-2ba0-434d-b894-d7a14490fb1f",
   "metadata": {},
   "outputs": [],
   "source": [
    "savepath = Path(savedir).joinpath(f'{plot_id}.svg').as_posix()\n",
    "sk.save(savepath)"
   ]
  },
  {
   "cell_type": "code",
   "execution_count": null,
   "id": "43547e66-ca21-47da-ac82-6bcf2a01f908",
   "metadata": {},
   "outputs": [],
   "source": [
    "from genpen.axicam import AxiCam"
   ]
  },
  {
   "cell_type": "code",
   "execution_count": null,
   "id": "454c1739-f7dd-4015-ac7f-a4fe8dc017d5",
   "metadata": {},
   "outputs": [],
   "source": [
    "ac = AxiCam()"
   ]
  },
  {
   "cell_type": "code",
   "execution_count": null,
   "id": "e63a0a22-3c0d-41e6-8b45-4968240461f5",
   "metadata": {},
   "outputs": [],
   "source": [
    "ac.init_cam()"
   ]
  },
  {
   "cell_type": "code",
   "execution_count": null,
   "id": "c65b34ba-8780-4558-8c95-9005cb53a180",
   "metadata": {},
   "outputs": [],
   "source": [
    "ac.toggle_pen()"
   ]
  },
  {
   "cell_type": "code",
   "execution_count": null,
   "id": "c9e02aba-a49f-424c-92b6-c538e6100ff8",
   "metadata": {},
   "outputs": [],
   "source": [
    "ac.cam.video_preview()"
   ]
  },
  {
   "cell_type": "code",
   "execution_count": null,
   "id": "dffb6e09-5783-4acf-a752-052c23c1d07b",
   "metadata": {},
   "outputs": [],
   "source": [
    "ac.cam.close()"
   ]
  },
  {
   "cell_type": "code",
   "execution_count": null,
   "id": "5d258aac-5db1-4b16-ab2b-324dfa83d599",
   "metadata": {},
   "outputs": [],
   "source": [
    "ac.ad.options.speed_penup = 90"
   ]
  },
  {
   "cell_type": "code",
   "execution_count": null,
   "id": "84d8ef66-ce61-4e88-b59c-3f4c0eee025d",
   "metadata": {},
   "outputs": [],
   "source": [
    "ac.ad.options.accel = 60\n",
    "ac.ad.options.pen_raise_rate = 95"
   ]
  },
  {
   "cell_type": "code",
   "execution_count": null,
   "id": "1cedd94c-0fa9-4ecf-95d2-9c5b82c096a1",
   "metadata": {},
   "outputs": [],
   "source": [
    "ac.ad.options.speed_pendown = 30\n",
    "ac.ad.update()"
   ]
  },
  {
   "cell_type": "code",
   "execution_count": null,
   "id": "64be377d-2218-40a7-8f93-7caeb5d12ab2",
   "metadata": {},
   "outputs": [],
   "source": [
    "ac.plot_layers(wait_times=0.3, start_layer=0)"
   ]
  },
  {
   "cell_type": "code",
   "execution_count": null,
   "id": "8f50b9c5-9e6c-4ebe-b7c6-eb8f7099ffc4",
   "metadata": {},
   "outputs": [],
   "source": []
  },
  {
   "cell_type": "markdown",
   "id": "788b5033-1f77-471b-8184-9371c08a7f31",
   "metadata": {},
   "source": [
    "# thing"
   ]
  },
  {
   "cell_type": "code",
   "execution_count": null,
   "id": "1153d8e6-72a1-4ee1-95e5-36581ab7d2d7",
   "metadata": {
    "Collapsed": "false"
   },
   "outputs": [],
   "source": [
    "# make page\n",
    "paper_size = '6x6 inches'\n",
    "border:float=10\n",
    "paper = Paper(paper_size)\n",
    "\n",
    "drawbox = paper.get_drawbox(border)"
   ]
  },
  {
   "cell_type": "code",
   "execution_count": null,
   "id": "b7670f57-cfa8-4df1-8185-54cb39e8a750",
   "metadata": {
    "Collapsed": "false"
   },
   "outputs": [],
   "source": [
    "center = drawbox.centroid"
   ]
  },
  {
   "cell_type": "code",
   "execution_count": null,
   "id": "70628fd0-b48f-48bc-a7d2-eee6785e64ab",
   "metadata": {
    "Collapsed": "false"
   },
   "outputs": [],
   "source": [
    "n_lines = 1521\n",
    "thetas = np.linspace(0, np.pi*10, n_lines)\n",
    "radii = np.linspace(0.5, 20.5, n_lines)"
   ]
  },
  {
   "cell_type": "code",
   "execution_count": null,
   "id": "a3d123d3-267b-4fd4-83ef-cda2066de74a",
   "metadata": {
    "Collapsed": "false"
   },
   "outputs": [],
   "source": [
    "pts = []\n",
    "for theta, radius in zip(thetas, radii):\n",
    "    x = np.cos(theta) * radius - 0\n",
    "    y = np.sin(theta) * radius + 0.\n",
    "    pts.append(Point(x, y))"
   ]
  },
  {
   "cell_type": "code",
   "execution_count": null,
   "id": "31e64f7e-b8ad-4468-b971-1934ddd20141",
   "metadata": {},
   "outputs": [],
   "source": [
    "def ode(y, t, a, b, c, d):\n",
    "    v, u = y\n",
    "    dvdt = np.sin(b * u) + v * c\n",
    "    dudt = np.cos(a * v * u) + u  * d\n",
    "    dydt = [dvdt, dudt]\n",
    "    return dydt"
   ]
  },
  {
   "cell_type": "code",
   "execution_count": null,
   "id": "fc031ece-edb7-4cad-9d45-957ca718d93e",
   "metadata": {},
   "outputs": [],
   "source": [
    "\n",
    "\n",
    "t_max = 22.7\n",
    "t = np.linspace(0, t_max, 121)\n",
    "a = 0.1\n",
    "b = 0.95\n",
    "c = - 0.15\n",
    "d = -0.1\n",
    "\n",
    "all_polys = Polygon()\n",
    "\n",
    "break_dist = 0.25\n",
    "\n",
    "lines = []\n",
    "lfs = MultiLineString()\n",
    "allowed_counter = 0\n",
    "for ii, pt in enumerate(tqdm(pts)):\n",
    "    sol = odeint(ode, [pt.x, pt.y], t, args=(a, b, c, d))\n",
    "    mpt = MultiPoint(sol)\n",
    "    if ii == 0:\n",
    "        ls = LineString(mpt)\n",
    "        lfs = gp.merge_LineStrings([lfs, ls])\n",
    "        lines.append(ls)\n",
    "    else:\n",
    "        allowed_counter = 0\n",
    "        for _pt in mpt:\n",
    "            dist = _pt.distance(lfs)\n",
    "            if dist < break_dist:\n",
    "                break\n",
    "            allowed_counter += 1\n",
    "    if allowed_counter > 1:\n",
    "        ls = LineString(mpt[:allowed_counter])\n",
    "        lfs = gp.merge_LineStrings([lfs, ls])\n",
    "        lines.append(ls)\n",
    "        \n",
    "lbs0 = gp.merge_LineStrings([l for l in lines if l.length > 0.9])     \n",
    "lbs0 = gp.make_like(gp.merge_LineStrings(lbs0), drawbox)\n",
    "\n"
   ]
  },
  {
   "cell_type": "code",
   "execution_count": null,
   "id": "7f51df7b-b7b1-4f38-9659-aba1b7ef891d",
   "metadata": {
    "Collapsed": "false"
   },
   "outputs": [],
   "source": [
    "sk = vsketch.Vsketch()\n",
    "sk.size(paper.page_format_mm)\n",
    "sk.scale('1mm')\n",
    "sk.penWidth('0.3mm')\n",
    "\n",
    "sk.geometry(lbs0)\n",
    "# sk.vpype('linesimplify')\n",
    "\n",
    "sk.display(color_mode='layer')"
   ]
  },
  {
   "cell_type": "code",
   "execution_count": null,
   "id": "027f76ad-eafd-49f2-8caa-053ab02eac7f",
   "metadata": {
    "Collapsed": "false"
   },
   "outputs": [],
   "source": [
    "sk = vsketch.Vsketch()\n",
    "sk.size(paper.page_format_mm)\n",
    "sk.scale('1mm')\n",
    "sk.penWidth('0.3mm')\n",
    "\n",
    "counter = 0\n",
    "for ls in lbs0:\n",
    "    counter += 1\n",
    "    sk.stroke(counter)\n",
    "    sk.geometry(ls)\n",
    "    \n",
    "\n",
    "sk.display(color_mode='layer')"
   ]
  },
  {
   "cell_type": "code",
   "execution_count": null,
   "id": "411ed922-1ff6-4378-ba06-457abceecd10",
   "metadata": {},
   "outputs": [],
   "source": [
    "import fn"
   ]
  },
  {
   "cell_type": "code",
   "execution_count": null,
   "id": "cf9842b3-fa1f-4e3b-8250-0a527b00cd0f",
   "metadata": {},
   "outputs": [],
   "source": [
    "plot_id = fn.new_plot_id()"
   ]
  },
  {
   "cell_type": "code",
   "execution_count": null,
   "id": "be9f5441-e2b7-4485-b0cf-ba226d1aaa40",
   "metadata": {},
   "outputs": [],
   "source": [
    "savedir='/home/naka/art/plotter_svgs'"
   ]
  },
  {
   "cell_type": "code",
   "execution_count": null,
   "id": "31e9c1f9-7887-4850-908b-3c6c9d1a97cd",
   "metadata": {},
   "outputs": [],
   "source": [
    "savepath = Path(savedir).joinpath(f'{plot_id}.svg').as_posix()\n",
    "sk.save(savepath)"
   ]
  },
  {
   "cell_type": "code",
   "execution_count": null,
   "id": "cea82511-a168-43e8-9c4d-944152edb31b",
   "metadata": {},
   "outputs": [],
   "source": [
    "from genpen.axicam import AxiCam"
   ]
  },
  {
   "cell_type": "code",
   "execution_count": null,
   "id": "6de378a1-f725-4816-8a92-fedf753146a9",
   "metadata": {},
   "outputs": [],
   "source": [
    "ac = AxiCam()"
   ]
  },
  {
   "cell_type": "code",
   "execution_count": null,
   "id": "d7cbcc3a-8b1c-47c1-8ce1-22fd9c8bfe58",
   "metadata": {},
   "outputs": [],
   "source": [
    "ac.init_cam()"
   ]
  },
  {
   "cell_type": "code",
   "execution_count": null,
   "id": "0d79ba14-7f68-47ba-b928-cf3f218ea974",
   "metadata": {},
   "outputs": [],
   "source": [
    "ac.toggle_pen()"
   ]
  },
  {
   "cell_type": "code",
   "execution_count": null,
   "id": "e586c58c-8c97-4b6e-ac26-ed45d6cdcced",
   "metadata": {},
   "outputs": [],
   "source": [
    "ac.cam.video_preview()"
   ]
  },
  {
   "cell_type": "code",
   "execution_count": null,
   "id": "67afd337-4f39-4dfc-9dd7-d152d962b34c",
   "metadata": {},
   "outputs": [],
   "source": [
    "ac.cam.close()"
   ]
  },
  {
   "cell_type": "code",
   "execution_count": null,
   "id": "9854474d-770f-4067-ba15-6473e5898961",
   "metadata": {},
   "outputs": [],
   "source": [
    "ac.ad.options.speed_penup = 90"
   ]
  },
  {
   "cell_type": "code",
   "execution_count": null,
   "id": "8f03a2c8-4811-43b1-a1e1-854ec1db33e8",
   "metadata": {},
   "outputs": [],
   "source": [
    "ac.ad.options.accel = 60\n",
    "ac.ad.options.pen_raise_rate = 95"
   ]
  },
  {
   "cell_type": "code",
   "execution_count": null,
   "id": "d43fb54a-313f-44f1-ace7-03adb799627a",
   "metadata": {},
   "outputs": [],
   "source": [
    "ac.ad.options.speed_pendown = 6\n",
    "ac.ad.update()"
   ]
  },
  {
   "cell_type": "code",
   "execution_count": null,
   "id": "6c47832d-75f2-4bab-a3bb-da9c5fc66928",
   "metadata": {},
   "outputs": [],
   "source": [
    "ac.plot_layers(wait_times=0.3, start_layer=0)"
   ]
  },
  {
   "cell_type": "code",
   "execution_count": null,
   "id": "e6f1b865-5c24-484b-86a9-5efce1eb9829",
   "metadata": {},
   "outputs": [],
   "source": []
  },
  {
   "cell_type": "code",
   "execution_count": null,
   "id": "285396c0-a79e-463f-9ec3-68d547918db9",
   "metadata": {
    "Collapsed": "false"
   },
   "outputs": [],
   "source": [
    "# make page\n",
    "paper_size = '6x6 inches'\n",
    "border:float=20\n",
    "paper = Paper(paper_size)\n",
    "\n",
    "drawbox = paper.get_drawbox(border)"
   ]
  },
  {
   "cell_type": "code",
   "execution_count": null,
   "id": "93e7bfc2-7142-436e-b5b3-1cd99c6367e3",
   "metadata": {
    "Collapsed": "false"
   },
   "outputs": [],
   "source": [
    "circ = drawbox.centroid.buffer(55)"
   ]
  },
  {
   "cell_type": "code",
   "execution_count": null,
   "id": "4351c068-0803-448f-9f4f-8b95b79be3b1",
   "metadata": {
    "Collapsed": "false"
   },
   "outputs": [],
   "source": [
    "xgen = ss.uniform(loc=0.4, scale=0.02).rvs\n",
    "split_func = functools.partial(gp.split_along_longest_side_of_min_rectangle, xgen=xgen)\n",
    "splits = gp.recursive_split_frac_buffer(\n",
    "    circ, \n",
    "    split_func=split_func,\n",
    "    p_continue=0.85, \n",
    "    depth=0, \n",
    "    depth_limit=3,\n",
    "    buffer_frac=-0.0\n",
    ")\n",
    "\n",
    "\n",
    "bps = MultiPolygon([p for p in splits])\n",
    "\n",
    "   \n",
    "sk = vsketch.Vsketch()\n",
    "sk.size(paper.page_format_mm)\n",
    "sk.scale('1mm')\n",
    "sk.penWidth('0.5mm')\n",
    "sk.geometry(bps.boundary)\n",
    "\n",
    "# tolerance=0.5\n",
    "\n",
    "sk.display()"
   ]
  },
  {
   "cell_type": "code",
   "execution_count": null,
   "id": "97618f51-8179-4d27-b22a-b30a48cc9a83",
   "metadata": {
    "Collapsed": "false"
   },
   "outputs": [],
   "source": [
    "n_layers = 1\n",
    "\n",
    "inds = np.arange(len(bps))\n",
    "split_bps = np.array_split(bps, n_layers)\n",
    "\n",
    "layers = []\n",
    "for ii in range(n_layers):\n",
    "    this_bps = split_bps[ii]\n",
    "    fills = []\n",
    "    for p in this_bps:\n",
    "        xjitter_func = 0\n",
    "        yjitter_func = ss.norm(loc=0, scale=np.random.uniform(0.2, 1.2)).rvs\n",
    "        bhf = gp.BezierHatchFill(\n",
    "            spacing=np.random.uniform(0.3, 0.8),\n",
    "            degrees=np.random.uniform(-90,90),\n",
    "            poly_to_fill=p, \n",
    "            xjitter_func=xjitter_func, \n",
    "            yjitter_func=yjitter_func,\n",
    "            fill_inscribe_buffer=1.4,\n",
    "            n_nodes_per_line=15,\n",
    "            n_eval_points=100,\n",
    "        )\n",
    "        fills.append(bhf.p)\n",
    "\n",
    "    fills = [f for f in fills if f.length > 0]\n",
    "    layer = gp.merge_LineStrings(fills)\n",
    "    layers.append(layer)"
   ]
  },
  {
   "cell_type": "code",
   "execution_count": null,
   "id": "3be849cb-3b4b-4cd8-a56b-9fe4a3c229b7",
   "metadata": {},
   "outputs": [],
   "source": [
    "sk = vsketch.Vsketch()\n",
    "sk.size(paper.page_format_mm)\n",
    "sk.scale('1mm')\n",
    "sk.penWidth('0.3mm')\n",
    "\n",
    "counter = 0\n",
    "for ls in layer:\n",
    "    counter += 1\n",
    "    sk.stroke(counter)\n",
    "    sk.geometry(ls)\n",
    "    \n",
    "\n",
    "sk.display(color_mode='layer')"
   ]
  },
  {
   "cell_type": "code",
   "execution_count": null,
   "id": "c83fd9dc-1fdb-419d-832d-98f9728932dc",
   "metadata": {},
   "outputs": [],
   "source": [
    "import fn"
   ]
  },
  {
   "cell_type": "code",
   "execution_count": null,
   "id": "b1e7995f-1819-4577-b992-daba138a9fde",
   "metadata": {},
   "outputs": [],
   "source": [
    "plot_id = fn.new_plot_id()"
   ]
  },
  {
   "cell_type": "code",
   "execution_count": null,
   "id": "f263166d-daca-4c9f-a592-0f4ddc52c6f8",
   "metadata": {},
   "outputs": [],
   "source": [
    "savedir='/home/naka/art/plotter_svgs'"
   ]
  },
  {
   "cell_type": "code",
   "execution_count": null,
   "id": "c511d010-201d-48fa-aac8-68a70f885122",
   "metadata": {},
   "outputs": [],
   "source": [
    "savepath = Path(savedir).joinpath(f'{plot_id}.svg').as_posix()\n",
    "sk.save(savepath)"
   ]
  },
  {
   "cell_type": "code",
   "execution_count": null,
   "id": "86306c4a-798a-48dd-8108-264b284a271d",
   "metadata": {},
   "outputs": [],
   "source": [
    "from genpen.axicam import AxiCam"
   ]
  },
  {
   "cell_type": "code",
   "execution_count": null,
   "id": "cbb573ea-964c-4ec0-9b2c-7c28be49e738",
   "metadata": {},
   "outputs": [],
   "source": [
    "ac = AxiCam()"
   ]
  },
  {
   "cell_type": "code",
   "execution_count": null,
   "id": "be029fe5-6e99-4f30-aa99-711663818df7",
   "metadata": {},
   "outputs": [],
   "source": [
    "ac.init_cam()"
   ]
  },
  {
   "cell_type": "code",
   "execution_count": null,
   "id": "283bb2ff-80ae-4b08-b9d3-630dbd698278",
   "metadata": {},
   "outputs": [],
   "source": [
    "ac.toggle_pen()"
   ]
  },
  {
   "cell_type": "code",
   "execution_count": null,
   "id": "25507836-931c-4a18-84bd-2d9d04213bbf",
   "metadata": {},
   "outputs": [],
   "source": [
    "ac.cam.video_preview()"
   ]
  },
  {
   "cell_type": "code",
   "execution_count": null,
   "id": "4a1a369e-5885-4e42-8ec8-11277f841b00",
   "metadata": {},
   "outputs": [],
   "source": [
    "ac.cam.close()"
   ]
  },
  {
   "cell_type": "code",
   "execution_count": null,
   "id": "1a8d482d-2d9e-4259-9834-69143536ed30",
   "metadata": {},
   "outputs": [],
   "source": [
    "ac.ad.options.speed_penup = 90"
   ]
  },
  {
   "cell_type": "code",
   "execution_count": null,
   "id": "c56e0c21-851c-4920-9446-0ab51e5be1a4",
   "metadata": {},
   "outputs": [],
   "source": [
    "ac.ad.options.accel = 60\n",
    "ac.ad.options.pen_raise_rate = 95"
   ]
  },
  {
   "cell_type": "code",
   "execution_count": null,
   "id": "0905c407-1673-496d-a18a-a7ce2767ecee",
   "metadata": {},
   "outputs": [],
   "source": [
    "ac.ad.options.speed_pendown = 50\n",
    "ac.ad.update()"
   ]
  },
  {
   "cell_type": "code",
   "execution_count": null,
   "id": "bc872072-6887-432b-a1b7-6c691212f03f",
   "metadata": {},
   "outputs": [],
   "source": [
    "ac.plot_layers(wait_times=0.3, start_layer=0)"
   ]
  },
  {
   "cell_type": "code",
   "execution_count": null,
   "id": "b68657e7-abd5-4e45-bac8-9d66640e0274",
   "metadata": {},
   "outputs": [],
   "source": []
  },
  {
   "cell_type": "markdown",
   "id": "dfcd10a0-75fe-4c06-8e2a-1700075b6c80",
   "metadata": {},
   "source": [
    "# thing"
   ]
  },
  {
   "cell_type": "code",
   "execution_count": null,
   "id": "ab0cee6d-3685-4be5-94e4-6000caa293ad",
   "metadata": {
    "Collapsed": "false"
   },
   "outputs": [],
   "source": [
    "# make page\n",
    "paper_size = '11x14 inches'\n",
    "border:float=30\n",
    "paper = Paper(paper_size)\n",
    "\n",
    "drawbox = paper.get_drawbox(border)"
   ]
  },
  {
   "cell_type": "code",
   "execution_count": null,
   "id": "2c07e381-f8a4-4f15-bd41-4071d5976a42",
   "metadata": {
    "Collapsed": "false"
   },
   "outputs": [],
   "source": [
    "center = drawbox.centroid"
   ]
  },
  {
   "cell_type": "code",
   "execution_count": null,
   "id": "a81cfc0e-e237-4676-ab70-1c03981eb02d",
   "metadata": {
    "Collapsed": "false"
   },
   "outputs": [],
   "source": [
    "n_lines = 521\n",
    "thetas = np.linspace(0, np.pi*2, n_lines)\n",
    "radii = np.linspace(14.5, 14.5, n_lines)"
   ]
  },
  {
   "cell_type": "code",
   "execution_count": null,
   "id": "4f3a2675-27fd-4df5-bbc1-d5a00acf3038",
   "metadata": {
    "Collapsed": "false"
   },
   "outputs": [],
   "source": [
    "pts = []\n",
    "for theta, radius in zip(thetas, radii):\n",
    "    x = np.cos(theta) * radius - 0\n",
    "    y = np.sin(theta) * radius + 0.\n",
    "    pts.append(Point(x, y))"
   ]
  },
  {
   "cell_type": "code",
   "execution_count": null,
   "id": "88929d0f-93fe-4173-8213-2e0dd0eca31a",
   "metadata": {},
   "outputs": [],
   "source": [
    "def ode(y, t, a, b, c, d):\n",
    "    v, u = y\n",
    "    dvdt = np.sin(b * u) + v * c\n",
    "    dudt = np.cos(a * v) + u  * d\n",
    "    dydt = [dvdt, dudt]\n",
    "    return dydt"
   ]
  },
  {
   "cell_type": "code",
   "execution_count": null,
   "id": "7816c9b3-19d3-41f2-ab0c-1543a063cefa",
   "metadata": {},
   "outputs": [],
   "source": [
    "\n",
    "\n",
    "t_max = 22.7\n",
    "t = np.linspace(0, t_max, 221)\n",
    "a = 0.4\n",
    "b = 0.3\n",
    "c = -0.2\n",
    "d = -0.1\n",
    "\n",
    "all_polys = Polygon()\n",
    "\n",
    "break_dist = 0.7\n",
    "\n",
    "lines = []\n",
    "lfs = MultiLineString()\n",
    "allowed_counter = 0\n",
    "for ii, pt in enumerate(tqdm(pts)):\n",
    "    sol = odeint(ode, [pt.x, pt.y], t, args=(a, b, c, d))\n",
    "    mpt = MultiPoint(sol)\n",
    "    if ii == 0:\n",
    "        ls = LineString(mpt)\n",
    "        lfs = gp.merge_LineStrings([lfs, ls])\n",
    "        lines.append(ls)\n",
    "    else:\n",
    "        allowed_counter = 0\n",
    "        for _pt in mpt:\n",
    "            dist = _pt.distance(lfs)\n",
    "            if dist < break_dist:\n",
    "                break\n",
    "            allowed_counter += 1\n",
    "    if allowed_counter > 1:\n",
    "        ls = LineString(mpt[:allowed_counter])\n",
    "        lfs = gp.merge_LineStrings([lfs, ls])\n",
    "        lines.append(ls)\n",
    "        \n",
    "lbs0 = gp.merge_LineStrings([l for l in lines if l.length > 0.9])     \n",
    "lbs0 = gp.make_like(gp.merge_LineStrings(lbs0), drawbox)\n",
    "\n"
   ]
  },
  {
   "cell_type": "code",
   "execution_count": null,
   "id": "075a5d57-0e24-4d69-8dfb-df2363182307",
   "metadata": {
    "Collapsed": "false"
   },
   "outputs": [],
   "source": [
    "sk = vsketch.Vsketch()\n",
    "sk.size(paper.page_format_mm)\n",
    "sk.scale('1mm')\n",
    "sk.penWidth('0.3mm')\n",
    "\n",
    "sk.geometry(lbs0)\n",
    "# sk.vpype('linesimplify')\n",
    "\n",
    "sk.display(color_mode='layer')"
   ]
  },
  {
   "cell_type": "code",
   "execution_count": null,
   "id": "a37062fe-423d-4730-b795-c989d5b503db",
   "metadata": {
    "Collapsed": "false"
   },
   "outputs": [],
   "source": [
    "sk = vsketch.Vsketch()\n",
    "sk.size(paper.page_format_mm)\n",
    "sk.scale('1mm')\n",
    "sk.penWidth('0.3mm')\n",
    "\n",
    "counter = 0\n",
    "for ls in lbs0:\n",
    "    counter += 1\n",
    "    sk.stroke(counter)\n",
    "    sk.geometry(ls)\n",
    "    \n",
    "\n",
    "sk.display(color_mode='layer')"
   ]
  },
  {
   "cell_type": "code",
   "execution_count": null,
   "id": "ef032552-7388-4813-b627-2c13a4a114ef",
   "metadata": {},
   "outputs": [],
   "source": [
    "import fn"
   ]
  },
  {
   "cell_type": "code",
   "execution_count": null,
   "id": "bb42a7a2-b298-4746-8bbe-5de830389523",
   "metadata": {},
   "outputs": [],
   "source": [
    "plot_id = fn.new_plot_id()"
   ]
  },
  {
   "cell_type": "code",
   "execution_count": null,
   "id": "95a9f554-6659-497e-93e0-fa4b2ea428f2",
   "metadata": {},
   "outputs": [],
   "source": [
    "savedir='/home/naka/art/plotter_svgs'"
   ]
  },
  {
   "cell_type": "code",
   "execution_count": null,
   "id": "44f308c1-0e08-4f5c-89b3-f53121c1d930",
   "metadata": {},
   "outputs": [],
   "source": [
    "savepath = Path(savedir).joinpath(f'{plot_id}.svg').as_posix()\n",
    "sk.save(savepath)"
   ]
  },
  {
   "cell_type": "code",
   "execution_count": null,
   "id": "cea94bff-9118-40b6-9e17-9f634e190be3",
   "metadata": {},
   "outputs": [],
   "source": [
    "from genpen.axicam import AxiCam"
   ]
  },
  {
   "cell_type": "code",
   "execution_count": null,
   "id": "0361a30e-4fb8-4083-b9f4-9ed057ee20ce",
   "metadata": {},
   "outputs": [],
   "source": [
    "ac = AxiCam()"
   ]
  },
  {
   "cell_type": "code",
   "execution_count": null,
   "id": "52cf77e3-69da-43c0-9b22-43013fb26575",
   "metadata": {},
   "outputs": [],
   "source": [
    "ac.init_cam()"
   ]
  },
  {
   "cell_type": "code",
   "execution_count": null,
   "id": "82ae4e61-8a78-40a6-9c5d-0c59ea4be183",
   "metadata": {},
   "outputs": [],
   "source": [
    "ac.toggle_pen()"
   ]
  },
  {
   "cell_type": "code",
   "execution_count": null,
   "id": "1f84c269-08f6-4410-a2c4-e383929f542c",
   "metadata": {},
   "outputs": [],
   "source": [
    "ac.cam.video_preview()"
   ]
  },
  {
   "cell_type": "code",
   "execution_count": null,
   "id": "bed8e4f7-c6c2-4cd2-94cd-6e76e88d7c3d",
   "metadata": {},
   "outputs": [],
   "source": [
    "ac.cam.close()"
   ]
  },
  {
   "cell_type": "code",
   "execution_count": null,
   "id": "282a3b1d-bf73-4108-8ff9-424b8af9d695",
   "metadata": {},
   "outputs": [],
   "source": [
    "ac.ad.options.speed_penup = 90"
   ]
  },
  {
   "cell_type": "code",
   "execution_count": null,
   "id": "566b043f-1c87-4d0b-b05f-a000db3406fa",
   "metadata": {},
   "outputs": [],
   "source": [
    "ac.ad.options.accel = 60\n",
    "ac.ad.options.pen_raise_rate = 95"
   ]
  },
  {
   "cell_type": "code",
   "execution_count": null,
   "id": "26be8779-8515-4ae1-9c57-03ed1f29c828",
   "metadata": {},
   "outputs": [],
   "source": [
    "ac.ad.options.speed_pendown = 26\n",
    "ac.ad.update()"
   ]
  },
  {
   "cell_type": "code",
   "execution_count": null,
   "id": "17cf2ac2-1085-4ccc-8fa2-443f4ef4e973",
   "metadata": {},
   "outputs": [],
   "source": [
    "ac.plot_layers(wait_times=0.3, start_layer=19)"
   ]
  },
  {
   "cell_type": "code",
   "execution_count": null,
   "id": "087979e6-071c-445b-8791-2519d862cd98",
   "metadata": {},
   "outputs": [],
   "source": []
  },
  {
   "cell_type": "code",
   "execution_count": null,
   "id": "719dea13-06a7-4230-9aa1-7962384fdbf3",
   "metadata": {
    "Collapsed": "false"
   },
   "outputs": [],
   "source": [
    "# make page\n",
    "paper_size = '11x14 inches'\n",
    "border:float=40\n",
    "paper = Paper(paper_size)\n",
    "\n",
    "drawbox = paper.get_drawbox(border)"
   ]
  },
  {
   "cell_type": "code",
   "execution_count": null,
   "id": "9b6bb9e6-901c-4e3a-8245-f12f4c11e049",
   "metadata": {
    "Collapsed": "false"
   },
   "outputs": [],
   "source": [
    "circ = drawbox.centroid.buffer(115)"
   ]
  },
  {
   "cell_type": "code",
   "execution_count": null,
   "id": "70732c5b-3d7a-44b7-a3ba-6f93056816a6",
   "metadata": {
    "Collapsed": "false"
   },
   "outputs": [],
   "source": [
    "xgen = ss.uniform(loc=0.5, scale=0.02).rvs\n",
    "split_func = functools.partial(gp.split_along_longest_side_of_min_rectangle, xgen=xgen)\n",
    "splits = gp.recursive_split_frac_buffer(\n",
    "    circ, \n",
    "    split_func=split_func,\n",
    "    p_continue=0.85, \n",
    "    depth=0, \n",
    "    depth_limit=0,\n",
    "    buffer_frac=-0.0\n",
    ")\n",
    "\n",
    "\n",
    "bps = MultiPolygon([p for p in splits])\n",
    "\n",
    "   \n",
    "sk = vsketch.Vsketch()\n",
    "sk.size(paper.page_format_mm)\n",
    "sk.scale('1mm')\n",
    "sk.penWidth('0.5mm')\n",
    "sk.geometry(bps.boundary)\n",
    "\n",
    "# tolerance=0.5\n",
    "\n",
    "sk.display()"
   ]
  },
  {
   "cell_type": "code",
   "execution_count": null,
   "id": "bf0ffc01-cd74-4ec7-b207-d4e10f188fa2",
   "metadata": {
    "Collapsed": "false"
   },
   "outputs": [],
   "source": [
    "n_layers = 1\n",
    "\n",
    "inds = np.arange(len(bps))\n",
    "split_bps = np.array_split(bps, n_layers)\n",
    "\n",
    "layers = []\n",
    "for ii in range(n_layers):\n",
    "    this_bps = split_bps[ii]\n",
    "    fills = []\n",
    "    for p in this_bps:\n",
    "        xjitter_func = 0\n",
    "        yjitter_func = ss.norm(loc=0, scale=np.random.uniform(2.2, 4.2)).rvs\n",
    "        bhf = gp.BezierHatchFill(\n",
    "            spacing=np.random.uniform(2.3, 3.8),\n",
    "            degrees=np.random.choice([-45, 45]),\n",
    "            poly_to_fill=p, \n",
    "            xjitter_func=xjitter_func, \n",
    "            yjitter_func=yjitter_func,\n",
    "            fill_inscribe_buffer=1.4,\n",
    "            n_nodes_per_line=15,\n",
    "            n_eval_points=100,\n",
    "        )\n",
    "        fills.append(bhf.p)\n",
    "\n",
    "    fills = [f for f in fills if f.length > 0]\n",
    "    layer = gp.merge_LineStrings(fills)\n",
    "    layers.append(layer)"
   ]
  },
  {
   "cell_type": "code",
   "execution_count": null,
   "id": "dc2413e3-df55-489d-8bd0-95eb39e1adbe",
   "metadata": {},
   "outputs": [],
   "source": [
    "sk = vsketch.Vsketch()\n",
    "sk.size(paper.page_format_mm)\n",
    "sk.scale('1mm')\n",
    "sk.penWidth('0.3mm')\n",
    "\n",
    "counter = 0\n",
    "for ls in layer:\n",
    "    counter += 1\n",
    "    sk.stroke(counter)\n",
    "    sk.geometry(ls)\n",
    "    \n",
    "\n",
    "sk.display(color_mode='layer')"
   ]
  },
  {
   "cell_type": "code",
   "execution_count": null,
   "id": "3bdb59c2-21a8-41b1-803e-d4461576a151",
   "metadata": {},
   "outputs": [],
   "source": [
    "import fn"
   ]
  },
  {
   "cell_type": "code",
   "execution_count": null,
   "id": "ad5647c4-25e3-4f48-a519-6ae626f8ccf5",
   "metadata": {},
   "outputs": [],
   "source": [
    "plot_id = fn.new_plot_id()"
   ]
  },
  {
   "cell_type": "code",
   "execution_count": null,
   "id": "86daceaf-e9a8-4a0a-847e-b8b234bb929d",
   "metadata": {},
   "outputs": [],
   "source": [
    "savedir='/home/naka/art/plotter_svgs'"
   ]
  },
  {
   "cell_type": "code",
   "execution_count": null,
   "id": "a7934503-2e70-4d07-9539-fd6aa762dbdd",
   "metadata": {},
   "outputs": [],
   "source": [
    "savepath = Path(savedir).joinpath(f'{plot_id}.svg').as_posix()\n",
    "sk.save(savepath)"
   ]
  },
  {
   "cell_type": "code",
   "execution_count": null,
   "id": "f3ea4b56-8a50-4663-a437-ead4cab30726",
   "metadata": {},
   "outputs": [],
   "source": [
    "from genpen.axicam import AxiCam"
   ]
  },
  {
   "cell_type": "code",
   "execution_count": null,
   "id": "e2772179-66c7-4bf9-b576-5c030e427711",
   "metadata": {},
   "outputs": [],
   "source": [
    "ac = AxiCam()"
   ]
  },
  {
   "cell_type": "code",
   "execution_count": null,
   "id": "333e0e44-fc8b-4fc3-944c-8c938b522787",
   "metadata": {},
   "outputs": [],
   "source": [
    "ac.init_cam()"
   ]
  },
  {
   "cell_type": "code",
   "execution_count": null,
   "id": "9bb2d819-7a79-4373-a6ab-56952af3b261",
   "metadata": {},
   "outputs": [],
   "source": [
    "ac.toggle_pen()"
   ]
  },
  {
   "cell_type": "code",
   "execution_count": null,
   "id": "966e4954-019d-4a9c-9b54-e9651ceeb8c4",
   "metadata": {},
   "outputs": [],
   "source": [
    "ac.cam.video_preview()"
   ]
  },
  {
   "cell_type": "code",
   "execution_count": null,
   "id": "e432dbdf-9af7-4a65-80b9-afd6a57f65eb",
   "metadata": {},
   "outputs": [],
   "source": [
    "ac.cam.close()"
   ]
  },
  {
   "cell_type": "code",
   "execution_count": null,
   "id": "c6e0abfc-a9c9-44b7-94f3-0068c7546684",
   "metadata": {},
   "outputs": [],
   "source": [
    "ac.ad.options.speed_penup = 90"
   ]
  },
  {
   "cell_type": "code",
   "execution_count": null,
   "id": "e098cdc4-0d4b-4433-807f-90f4e192c287",
   "metadata": {},
   "outputs": [],
   "source": [
    "ac.ad.options.accel = 60\n",
    "ac.ad.options.pen_raise_rate = 95"
   ]
  },
  {
   "cell_type": "code",
   "execution_count": null,
   "id": "8bedc3dd-7fd3-4673-a6ef-d8ecca6ee1b8",
   "metadata": {},
   "outputs": [],
   "source": [
    "ac.ad.options.speed_pendown = 50\n",
    "ac.ad.update()"
   ]
  },
  {
   "cell_type": "code",
   "execution_count": null,
   "id": "26877939-72d4-4b45-b3f3-5ad4f094b6a3",
   "metadata": {},
   "outputs": [],
   "source": [
    "ac.plot_layers(wait_times=0.3, start_layer=76)"
   ]
  },
  {
   "cell_type": "markdown",
   "id": "a4a422d6-747a-4df3-a9e4-c30b5a563798",
   "metadata": {},
   "source": [
    "# heart of everything"
   ]
  },
  {
   "cell_type": "code",
   "execution_count": null,
   "id": "9c82e83b-5bae-438e-a8ad-6f9f2eb586a7",
   "metadata": {},
   "outputs": [],
   "source": []
  },
  {
   "cell_type": "code",
   "execution_count": null,
   "id": "ebf9e95c-9067-4a46-a452-dae8471b8762",
   "metadata": {
    "Collapsed": "false"
   },
   "outputs": [],
   "source": [
    "# make page\n",
    "paper_size = '11x14 inches'\n",
    "border:float=50\n",
    "paper = Paper(paper_size)\n",
    "\n",
    "drawbox = paper.get_drawbox(border)"
   ]
  },
  {
   "cell_type": "code",
   "execution_count": null,
   "id": "5ecea12b-e2e7-4657-96f5-417e8513184b",
   "metadata": {
    "Collapsed": "false"
   },
   "outputs": [],
   "source": [
    "circ = drawbox.centroid.buffer(55)"
   ]
  },
  {
   "cell_type": "code",
   "execution_count": null,
   "id": "43905d7a-b513-4473-be2f-56d31d71529b",
   "metadata": {
    "Collapsed": "false"
   },
   "outputs": [],
   "source": [
    "xgen = ss.uniform(loc=0.3, scale=0.02).rvs\n",
    "split_func = functools.partial(gp.split_along_longest_side_of_min_rectangle, xgen=xgen)\n",
    "splits = gp.recursive_split_frac_buffer(\n",
    "    circ, \n",
    "    split_func=split_func,\n",
    "    p_continue=0.85, \n",
    "    depth=0, \n",
    "    depth_limit=1,\n",
    "    buffer_frac=-0.0\n",
    ")\n",
    "\n",
    "\n",
    "bps = MultiPolygon([p for p in splits])\n",
    "\n",
    "   \n",
    "sk = vsketch.Vsketch()\n",
    "sk.size(paper.page_format_mm)\n",
    "sk.scale('1mm')\n",
    "sk.penWidth('0.5mm')\n",
    "sk.geometry(bps.boundary)\n",
    "\n",
    "# tolerance=0.5\n",
    "\n",
    "sk.display()"
   ]
  },
  {
   "cell_type": "code",
   "execution_count": null,
   "id": "eb7fdb5e-b896-4f58-8361-cfc3589f906f",
   "metadata": {
    "Collapsed": "false"
   },
   "outputs": [],
   "source": [
    "n_layers = 1\n",
    "\n",
    "inds = np.arange(len(bps))\n",
    "split_bps = np.array_split(bps, n_layers)\n",
    "\n",
    "layers = []\n",
    "for ii in range(n_layers):\n",
    "    this_bps = split_bps[ii]\n",
    "    fills = []\n",
    "    for p in this_bps:\n",
    "        xjitter_func = 0\n",
    "        yjitter_func = ss.norm(loc=0, scale=np.random.uniform(0.2, 3.7)).rvs\n",
    "        bhf = gp.BezierHatchFill(\n",
    "            spacing=np.random.uniform(0.6, 0.8),\n",
    "            degrees=np.random.uniform(30, 35),\n",
    "            poly_to_fill=p, \n",
    "            xjitter_func=xjitter_func, \n",
    "            yjitter_func=yjitter_func,\n",
    "            fill_inscribe_buffer=1.4,\n",
    "            n_nodes_per_line=15,\n",
    "            n_eval_points=100,\n",
    "        )\n",
    "        fills.append(bhf.p)\n",
    "\n",
    "    fills = [f for f in fills if f.length > 0]\n",
    "    layer = gp.merge_LineStrings(fills)\n",
    "    layers.append(layer)"
   ]
  },
  {
   "cell_type": "code",
   "execution_count": null,
   "id": "8cfbe516-1c87-4bd5-95f5-27f4914dfd55",
   "metadata": {},
   "outputs": [],
   "source": [
    "sk = vsketch.Vsketch()\n",
    "sk.size(paper.page_format_mm)\n",
    "sk.scale('1mm')\n",
    "sk.penWidth('0.3mm')\n",
    "\n",
    "counter = 0\n",
    "for ls in layer:\n",
    "    counter += 1\n",
    "    sk.stroke(counter)\n",
    "    sk.geometry(ls)\n",
    "    \n",
    "\n",
    "sk.display(color_mode='layer')"
   ]
  },
  {
   "cell_type": "code",
   "execution_count": null,
   "id": "7caa7e50-39a0-4b94-872c-39bebc3089c3",
   "metadata": {},
   "outputs": [],
   "source": [
    "import fn"
   ]
  },
  {
   "cell_type": "code",
   "execution_count": null,
   "id": "b5fb752d-3e2c-484d-8ce9-23de0a37bfaf",
   "metadata": {},
   "outputs": [],
   "source": [
    "plot_id = fn.new_plot_id()"
   ]
  },
  {
   "cell_type": "code",
   "execution_count": null,
   "id": "8086457d-2f5d-4bce-8e42-fd9efcc3aaea",
   "metadata": {},
   "outputs": [],
   "source": [
    "savedir='/home/naka/art/plotter_svgs'"
   ]
  },
  {
   "cell_type": "code",
   "execution_count": null,
   "id": "8f837bf9-e0f9-46fa-b02a-452f875f5d0a",
   "metadata": {},
   "outputs": [],
   "source": [
    "savepath = Path(savedir).joinpath(f'{plot_id}.svg').as_posix()\n",
    "sk.save(savepath)"
   ]
  },
  {
   "cell_type": "code",
   "execution_count": null,
   "id": "a373a100-a332-4191-9c47-c58ea7d50b5e",
   "metadata": {},
   "outputs": [],
   "source": [
    "from genpen.axicam import AxiCam"
   ]
  },
  {
   "cell_type": "code",
   "execution_count": null,
   "id": "23d1e687-8859-4a6e-81cf-b01e3d0e6e98",
   "metadata": {},
   "outputs": [],
   "source": [
    "ac = AxiCam()"
   ]
  },
  {
   "cell_type": "code",
   "execution_count": null,
   "id": "21c0b5a7-dade-48e1-aa38-8ad585d91920",
   "metadata": {},
   "outputs": [],
   "source": [
    "ac.init_cam()"
   ]
  },
  {
   "cell_type": "code",
   "execution_count": null,
   "id": "6e963726-0866-4c33-8a21-b34f374a75ee",
   "metadata": {},
   "outputs": [],
   "source": [
    "ac.toggle_pen()"
   ]
  },
  {
   "cell_type": "code",
   "execution_count": null,
   "id": "cf4829f1-94ab-4f1b-80bf-0f87202e2120",
   "metadata": {},
   "outputs": [],
   "source": [
    "ac.cam.video_preview()"
   ]
  },
  {
   "cell_type": "code",
   "execution_count": null,
   "id": "363aced1-d3a9-4d5b-9e73-f6fde909a816",
   "metadata": {},
   "outputs": [],
   "source": [
    "ac.cam.close()"
   ]
  },
  {
   "cell_type": "code",
   "execution_count": null,
   "id": "ada973a7-a48c-49dc-8bc8-29d02dc699e4",
   "metadata": {},
   "outputs": [],
   "source": [
    "ac.ad.options.speed_penup = 90"
   ]
  },
  {
   "cell_type": "code",
   "execution_count": null,
   "id": "c287610c-308a-40d8-b2e9-1bcb67377a6e",
   "metadata": {},
   "outputs": [],
   "source": [
    "ac.ad.options.accel = 60\n",
    "ac.ad.options.pen_raise_rate = 95"
   ]
  },
  {
   "cell_type": "code",
   "execution_count": null,
   "id": "d258b289-ff9d-447a-884f-c095748161da",
   "metadata": {},
   "outputs": [],
   "source": [
    "ac.ad.options.speed_pendown = 30\n",
    "ac.ad.update()"
   ]
  },
  {
   "cell_type": "code",
   "execution_count": null,
   "id": "69592d9f-4648-4796-a237-64ced85cd748",
   "metadata": {},
   "outputs": [],
   "source": [
    "ac.plot_layers(wait_times=0.3, start_layer=0)"
   ]
  },
  {
   "cell_type": "code",
   "execution_count": null,
   "id": "cdcdec88-032a-454d-802c-71456e1388b1",
   "metadata": {},
   "outputs": [],
   "source": []
  },
  {
   "cell_type": "code",
   "execution_count": null,
   "id": "147bcc37-4441-4041-b978-7a0d9e29639d",
   "metadata": {},
   "outputs": [],
   "source": [
    "circ = drawbox.centroid.buffer(45)\n",
    "xgen = ss.uniform(loc=0.35, scale=0.02).rvs\n",
    "split_func = functools.partial(gp.split_along_longest_side_of_min_rectangle, xgen=xgen)\n",
    "splits = gp.recursive_split_frac_buffer(\n",
    "    circ, \n",
    "    split_func=split_func,\n",
    "    p_continue=0.85, \n",
    "    depth=0, \n",
    "    depth_limit=6,\n",
    "    buffer_frac=-0.0\n",
    ")\n",
    "\n",
    "\n",
    "bps = MultiPolygon([p for p in splits])"
   ]
  },
  {
   "cell_type": "code",
   "execution_count": null,
   "id": "26f7a799-6205-43bf-8b13-181f4580df98",
   "metadata": {},
   "outputs": [],
   "source": []
  },
  {
   "cell_type": "code",
   "execution_count": null,
   "id": "e68dadf4-aa63-4b90-bd3c-cca0865e041f",
   "metadata": {},
   "outputs": [],
   "source": [
    "keep_bps = np.random.choice(bps, int(len(bps)*0.6))"
   ]
  },
  {
   "cell_type": "code",
   "execution_count": null,
   "id": "f0e2ee7c-6db6-4e2b-9399-c7dcbb55915c",
   "metadata": {
    "tags": []
   },
   "outputs": [],
   "source": [
    "circs = gp.circle_pack_within_poly(poly=circ, rads=np.linspace(3, 1, 5))\n"
   ]
  },
  {
   "cell_type": "code",
   "execution_count": null,
   "id": "197f887f-403d-4225-b66b-893d078d80c1",
   "metadata": {},
   "outputs": [],
   "source": [
    "middle_circs = circs.intersection(bps.buffer(-2))\n",
    "middle_circs"
   ]
  },
  {
   "cell_type": "code",
   "execution_count": null,
   "id": "ada97af5-94e5-4058-a797-94014519dbb9",
   "metadata": {},
   "outputs": [],
   "source": [
    "len(middle_circs.boundary)"
   ]
  },
  {
   "cell_type": "code",
   "execution_count": null,
   "id": "ac0f8b12-781d-4547-b156-e94a73990377",
   "metadata": {},
   "outputs": [],
   "source": [
    "sk = vsketch.Vsketch()\n",
    "sk.size(paper.page_format_mm)\n",
    "sk.scale('1mm')\n",
    "sk.penWidth('0.3mm')\n",
    "\n",
    "counter = 0\n",
    "for ls in middle_circs.boundary:\n",
    "    counter += 1\n",
    "    sk.stroke(counter)\n",
    "    sk.geometry(ls)\n",
    "    \n",
    "\n",
    "sk.display(color_mode='layer')"
   ]
  },
  {
   "cell_type": "code",
   "execution_count": null,
   "id": "d9e03894-e1c0-47ba-8079-5e3a4eb2a8a9",
   "metadata": {},
   "outputs": [],
   "source": [
    "savepath = Path(savedir).joinpath(f'{plot_id}.svg').as_posix()\n",
    "sk.save(savepath)"
   ]
  },
  {
   "cell_type": "code",
   "execution_count": null,
   "id": "1b0c0904-26d9-4053-a61a-58384d2807ee",
   "metadata": {},
   "outputs": [],
   "source": [
    "ac = AxiCam()\n",
    "\n",
    "ac.init_cam()"
   ]
  },
  {
   "cell_type": "code",
   "execution_count": null,
   "id": "770299fa-19ca-43d1-bfc4-92cacd455cc6",
   "metadata": {},
   "outputs": [],
   "source": [
    "ac.cam.video_preview()"
   ]
  },
  {
   "cell_type": "code",
   "execution_count": null,
   "id": "8c0f53da-882d-415c-81b0-deb8858461d1",
   "metadata": {},
   "outputs": [],
   "source": [
    "ac.cam.close()"
   ]
  },
  {
   "cell_type": "code",
   "execution_count": null,
   "id": "827a6e28-f8b0-409b-9524-f44429a01e99",
   "metadata": {},
   "outputs": [],
   "source": [
    "ac.ad.options.speed_penup = 90"
   ]
  },
  {
   "cell_type": "code",
   "execution_count": null,
   "id": "c7a89b9e-1793-493d-85a7-8c68778c04e5",
   "metadata": {},
   "outputs": [],
   "source": [
    "ac.ad.options.accel = 60\n",
    "ac.ad.options.pen_raise_rate = 95"
   ]
  },
  {
   "cell_type": "code",
   "execution_count": null,
   "id": "b3524e6f-1a57-440d-8c30-c0bb4e4ea114",
   "metadata": {},
   "outputs": [],
   "source": [
    "ac.ad.options.speed_pendown = 30\n",
    "ac.ad.update()"
   ]
  },
  {
   "cell_type": "code",
   "execution_count": null,
   "id": "a78b40fb-330f-4fbf-8757-b5c51297988b",
   "metadata": {},
   "outputs": [],
   "source": [
    "ac.plot_layers(wait_times=0.3, start_layer=0)"
   ]
  },
  {
   "cell_type": "code",
   "execution_count": null,
   "id": "462dbef2-f9e3-427c-a841-91dc2422b30c",
   "metadata": {},
   "outputs": [],
   "source": []
  },
  {
   "cell_type": "code",
   "execution_count": null,
   "id": "41142fda-0a00-4a2d-b82f-ece9228a5cc5",
   "metadata": {},
   "outputs": [],
   "source": []
  },
  {
   "cell_type": "code",
   "execution_count": null,
   "id": "8a90b231-f8a5-4245-9523-7e5d2ebed1f2",
   "metadata": {},
   "outputs": [],
   "source": [
    "gs = []"
   ]
  },
  {
   "cell_type": "code",
   "execution_count": null,
   "id": "894a6451-d6e7-4d46-91ca-e24364e07977",
   "metadata": {},
   "outputs": [],
   "source": [
    "init_poly = circ"
   ]
  },
  {
   "cell_type": "code",
   "execution_count": null,
   "id": "1151807f-8e8f-4a1e-b7df-a3072b0904d4",
   "metadata": {
    "tags": []
   },
   "outputs": [],
   "source": [
    "params = GrowerParams(\n",
    "#     rad_func='loss_scaled_rad',\n",
    "#     rad_range=(4, 1),\n",
    "    rads=ss.uniform(loc=3, scale=6).rvs,\n",
    "#     rads=1,\n",
    "    n_pts_eval_per_iter=4,\n",
    "    n_pts_add_per_iter=2,\n",
    "    pt_to_poly_func='reg_poly',\n",
    "    loss_func='negative_distance_from_target',\n",
    "    rotations=ss.uniform(loc=0, scale=360).rvs,\n",
    "    loss_range=(0, 7),\n",
    "    halt_condition_func='below_loss_threshold',\n",
    "    n_corners=6,\n",
    "    loss_threshold=-120\n",
    ")\n",
    "g = Grower(poly=init_poly, params=params, target=drawbox.centroid)\n",
    "g.grow(130)\n",
    "init_poly = g.agg_poly\n",
    "gs.append(g)"
   ]
  },
  {
   "cell_type": "code",
   "execution_count": null,
   "id": "6ee7c8e9-f48c-4dfc-b32e-a05a9e5c79be",
   "metadata": {},
   "outputs": [],
   "source": [
    "g.mpoly"
   ]
  },
  {
   "cell_type": "code",
   "execution_count": null,
   "id": "971c5882-5d35-4e9f-81b0-35ce3d7c760b",
   "metadata": {},
   "outputs": [],
   "source": [
    "polys = g.polys\n",
    "_ = polys.pop(0)"
   ]
  },
  {
   "cell_type": "code",
   "execution_count": null,
   "id": "7630c793-869c-484a-bf17-b096b3445478",
   "metadata": {},
   "outputs": [],
   "source": [
    "target = Point(30, 300)"
   ]
  },
  {
   "cell_type": "code",
   "execution_count": null,
   "id": "205a1c57-0113-4bc3-9ed5-87419764b121",
   "metadata": {},
   "outputs": [],
   "source": [
    "ds = []\n",
    "for poly in polys:\n",
    "    d = poly.distance(target)\n",
    "    ds.append(d)"
   ]
  },
  {
   "cell_type": "code",
   "execution_count": null,
   "id": "fdd144f9-0738-4751-b2be-0856e75084e6",
   "metadata": {},
   "outputs": [],
   "source": [
    "fills = []\n",
    "for poly in polys:\n",
    "    d = poly.distance(target)\n",
    "    prms = gp.ScaleTransPrms(\n",
    "        n_iters=200,\n",
    "        d_buffer=np.interp(d, (50, 250), (-0.9, -0.25)),\n",
    "        d_translate_factor=0.6,\n",
    "        angles=np.pi * 3/4,\n",
    "    )\n",
    "    p = gp.Poly(poly)\n",
    "    p.fill_scale_trans(**prms.prms)\n",
    "    fills.append(p.fill)"
   ]
  },
  {
   "cell_type": "code",
   "execution_count": null,
   "id": "f797ad06-a701-4fd7-9881-c3d0918e118b",
   "metadata": {},
   "outputs": [],
   "source": []
  },
  {
   "cell_type": "code",
   "execution_count": null,
   "id": "151b038e-3ec3-4a9d-8155-811e159da077",
   "metadata": {},
   "outputs": [],
   "source": []
  },
  {
   "cell_type": "code",
   "execution_count": null,
   "id": "be9451a8-a8e8-4cc0-890d-60d6419398ef",
   "metadata": {},
   "outputs": [],
   "source": [
    "sk = vsketch.Vsketch()\n",
    "sk.size(paper.page_format_mm)\n",
    "sk.scale('1mm')\n",
    "sk.penWidth('0.3mm')\n",
    "sk.centered = False\n",
    "\n",
    "counter = 0\n",
    "\n",
    "for ls in fills:\n",
    "    counter += 1\n",
    "    sk.stroke(counter)\n",
    "    sk.geometry(ls)\n",
    "    \n",
    "\n",
    "sk.display(color_mode='layer')"
   ]
  },
  {
   "cell_type": "code",
   "execution_count": null,
   "id": "5b0bea9a-5aae-459e-86e3-cac9d1d4ba46",
   "metadata": {},
   "outputs": [],
   "source": [
    "savepath = Path(savedir).joinpath(f'{plot_id}.svg').as_posix()\n",
    "sk.save(savepath)"
   ]
  },
  {
   "cell_type": "code",
   "execution_count": null,
   "id": "9bc9fac2-7d59-4cb2-bda1-1c681f0ff7b1",
   "metadata": {},
   "outputs": [],
   "source": [
    "ac = AxiCam()\n",
    "\n",
    "ac.init_cam()"
   ]
  },
  {
   "cell_type": "code",
   "execution_count": null,
   "id": "b65124e0-f55a-43d6-be07-a61166c16259",
   "metadata": {},
   "outputs": [],
   "source": [
    "ac.cam.video_preview()"
   ]
  },
  {
   "cell_type": "code",
   "execution_count": null,
   "id": "1df5cc8c-0471-464f-94d4-d64f2d04a5c5",
   "metadata": {},
   "outputs": [],
   "source": [
    "ac.cam.close()"
   ]
  },
  {
   "cell_type": "code",
   "execution_count": null,
   "id": "37c350c0-24d5-4612-bb02-c0c01c1111b8",
   "metadata": {},
   "outputs": [],
   "source": [
    "ac.ad.options.speed_penup = 90"
   ]
  },
  {
   "cell_type": "code",
   "execution_count": null,
   "id": "bf4b9a86-d585-4917-a0a2-5d34fbfafa91",
   "metadata": {},
   "outputs": [],
   "source": [
    "ac.ad.options.accel = 60\n",
    "ac.ad.options.pen_raise_rate = 95"
   ]
  },
  {
   "cell_type": "code",
   "execution_count": null,
   "id": "2ab4c7c4-e1f3-4388-80f9-d5f5e42dcc97",
   "metadata": {},
   "outputs": [],
   "source": [
    "ac.ad.options.speed_pendown = 60\n",
    "ac.ad.update()"
   ]
  },
  {
   "cell_type": "code",
   "execution_count": null,
   "id": "2eb3762e-fa9a-4d0c-b1ee-a52ef5a50151",
   "metadata": {},
   "outputs": [],
   "source": []
  },
  {
   "cell_type": "code",
   "execution_count": null,
   "id": "c30190af-23d7-44fe-be93-68329805ceef",
   "metadata": {},
   "outputs": [],
   "source": [
    "ac.cam.get_video()"
   ]
  },
  {
   "cell_type": "code",
   "execution_count": null,
   "id": "3ae41582-2ea2-462f-bf5f-7115f5bf628e",
   "metadata": {},
   "outputs": [],
   "source": [
    "ac.plot_layers(wait_times=0.3, start_layer=126)"
   ]
  }
 ],
 "metadata": {
  "kernelspec": {
   "display_name": "Python [conda env:genpen]",
   "language": "python",
   "name": "conda-env-genpen-py"
  },
  "language_info": {
   "codemirror_mode": {
    "name": "ipython",
    "version": 3
   },
   "file_extension": ".py",
   "mimetype": "text/x-python",
   "name": "python",
   "nbconvert_exporter": "python",
   "pygments_lexer": "ipython3",
   "version": "3.8.8"
  }
 },
 "nbformat": 4,
 "nbformat_minor": 5
}

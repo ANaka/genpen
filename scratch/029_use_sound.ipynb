{
 "cells": [
  {
   "cell_type": "code",
   "execution_count": null,
   "metadata": {
    "Collapsed": "false"
   },
   "outputs": [],
   "source": [
    "import itertools\n",
    "import numpy as np\n",
    "import os\n",
    "import seaborn as sns\n",
    "from tqdm import tqdm\n",
    "from dataclasses import asdict, dataclass, field\n",
    "import vsketch\n",
    "import shapely.geometry as sg\n",
    "from shapely.geometry import box, MultiLineString, Point, MultiPoint, Polygon, MultiPolygon, LineString\n",
    "import shapely.affinity as sa\n",
    "import shapely.ops as so\n",
    "import matplotlib.pyplot as plt\n",
    "import pandas as pd\n",
    "\n",
    "import vpype_cli\n",
    "from typing import List, Generic\n",
    "from genpen import genpen as gp, utils as utils\n",
    "from scipy import stats as ss\n",
    "import geopandas\n",
    "from shapely.errors import TopologicalError\n",
    "import functools\n",
    "%load_ext autoreload\n",
    "%autoreload 2\n",
    "import vpype\n",
    "from skimage import io\n",
    "from pathlib import Path\n",
    "\n",
    "import bezier\n",
    "\n",
    "from sklearn.preprocessing import minmax_scale\n",
    "from skimage import feature\n",
    "from genpen.utils import Paper\n",
    "\n",
    "from scipy import spatial, stats\n",
    "from scipy.ndimage import gaussian_filter\n",
    "from scipy.integrate import odeint\n",
    "from scipy.signal import decimate"
   ]
  },
  {
   "cell_type": "code",
   "execution_count": null,
   "metadata": {
    "Collapsed": "false"
   },
   "outputs": [],
   "source": [
    "from scipy.io.wavfile import read\n"
   ]
  },
  {
   "cell_type": "code",
   "execution_count": null,
   "metadata": {
    "Collapsed": "false"
   },
   "outputs": [],
   "source": []
  },
  {
   "cell_type": "code",
   "execution_count": null,
   "metadata": {
    "Collapsed": "false"
   },
   "outputs": [],
   "source": [
    "# make page\n",
    "paper_size = '17x23.5 inches'\n",
    "border:float=35\n",
    "paper = Paper(paper_size)\n",
    "\n",
    "drawbox = paper.get_drawbox(border)\n",
    "layers = []"
   ]
  },
  {
   "cell_type": "code",
   "execution_count": null,
   "metadata": {
    "Collapsed": "false"
   },
   "outputs": [],
   "source": [
    "hz, a = read(\"/mnt/c/data/side/craigie.wav\")\n",
    "a = np.array(a,dtype=float)\n",
    "df = pd.DataFrame(a)\n",
    "df.index = pd.to_timedelta(df.index / hz, unit='s')\n",
    "\n",
    "df = df.rename(columns={0:'L', 1:'R'})\n",
    "dfrs = df.resample('1ms').mean()\n",
    "\n",
    "start = '170s'\n",
    "end = '260s'\n",
    "clip = dfrs.loc[start:end, :]"
   ]
  },
  {
   "cell_type": "code",
   "execution_count": null,
   "metadata": {
    "Collapsed": "false"
   },
   "outputs": [],
   "source": [
    "baseline_spiral = np.linspace(0, 1, n_samples) ** 0.5"
   ]
  },
  {
   "cell_type": "code",
   "execution_count": null,
   "metadata": {
    "Collapsed": "false"
   },
   "outputs": [],
   "source": [
    "angle_max = np.pi*40\n",
    "signal_weight = 0.008\n",
    "n_samples = len(signal)\n",
    "baseline_spiral = np.linspace(0, 1, n_samples) ** 0.5\n",
    "angles = np.linspace(0, angle_max ** 2, n_samples) ** 0.5\n",
    "\n",
    "radii = baseline_spiral + signal * signal_weight\n",
    "xs = np.cos(thetas) * radii\n",
    "ys = np.sin(thetas) * radii"
   ]
  },
  {
   "cell_type": "code",
   "execution_count": null,
   "metadata": {
    "Collapsed": "false"
   },
   "outputs": [],
   "source": [
    "\n",
    "\n",
    "signal = clip['L'].values\n",
    "signal /= signal.std()\n",
    "spiral = np.linspace(0, 1, len(signal)) ** 0.5\n",
    "thetas = np.linspace(0, (np.pi*40) ** 2 , len(signal)) ** 0.5\n",
    "scale = 0.008\n",
    "rs = spiral + signal * scale\n",
    "xs = np.cos(thetas) * rs\n",
    "ys = np.sin(thetas) * rs\n",
    "line = LineString(np.flipud(np.stack([xs, ys]).T))\n",
    "layer = gp.make_like(line, drawbox)\n",
    "layers.append(layer)\n",
    "\n",
    "signal = clip['R'].values\n",
    "signal /= signal.std()\n",
    "spiral = np.linspace(0, 1, len(signal)) ** 0.5\n",
    "thetas = np.linspace(0, (np.pi*40) ** 2 , len(signal)) ** 0.5\n",
    "scale = 0.008\n",
    "rs = spiral + signal * scale\n",
    "xs = np.cos(thetas) * rs\n",
    "ys = np.sin(thetas) * rs\n",
    "line = LineString(np.flipud(np.stack([xs, ys]).T))\n",
    "layer = gp.make_like(line, drawbox)\n",
    "layers.append(layer)"
   ]
  },
  {
   "cell_type": "code",
   "execution_count": null,
   "metadata": {
    "Collapsed": "false"
   },
   "outputs": [],
   "source": [
    "hz, a = read(\"/mnt/c/data/side/craigie.wav\")\n",
    "a = np.array(a,dtype=float)\n",
    "df = pd.DataFrame(a)\n",
    "df.index = pd.to_timedelta(df.index / hz, unit='s')\n",
    "\n",
    "df = df.rename(columns={0:'L', 1:'R'})\n",
    "dfrs = df\n",
    "\n",
    "start = '170s'\n",
    "end = '260s'\n",
    "clip = dfrs.loc[start:end, :]\n",
    "short_clip = dfrs.loc['184s':'195s', :]\n",
    "\n",
    "# signal = clip['L'].values\n",
    "# signal = decimate(signal, 5)\n",
    "# signal = decimate(signal, 5)\n",
    "# signal /= signal.std()\n",
    "# spiral = np.linspace(0, 1, len(signal)) ** 0.5\n",
    "# thetas = np.linspace(0, (np.pi*40) ** 2 , len(signal)) ** 0.5\n",
    "# scale = 0.008\n",
    "# rs = spiral + signal * scale\n",
    "# xs = np.cos(thetas) * rs\n",
    "# ys = np.sin(thetas) * rs\n",
    "# line = LineString(np.flipud(np.stack([xs, ys]).T))\n",
    "# layer = gp.make_like(line, drawbox)\n",
    "# layers.append(layer)\n",
    "\n",
    "signal = clip['R'].values\n",
    "signal = decimate(signal, 7)\n",
    "signal = decimate(signal, 7)\n",
    "signal /= signal.std()\n",
    "spiral = np.linspace(0, 1, len(signal)) ** 0.5\n",
    "thetas = np.linspace(0, (np.pi*40) ** 2 , len(signal)) ** 0.5\n",
    "scale = 0.008\n",
    "rs = spiral + signal * scale\n",
    "xs = np.cos(thetas) * rs\n",
    "ys = np.sin(thetas) * rs\n",
    "line = LineString(np.flipud(np.stack([xs, ys]).T))\n",
    "layer = gp.make_like(line, drawbox)\n",
    "layers.append(layer)"
   ]
  },
  {
   "cell_type": "code",
   "execution_count": null,
   "metadata": {
    "Collapsed": "false"
   },
   "outputs": [],
   "source": [
    "theta_max = np.pi * 40"
   ]
  },
  {
   "cell_type": "code",
   "execution_count": null,
   "metadata": {
    "Collapsed": "false"
   },
   "outputs": [],
   "source": [
    "n_samples = len(signal)\n",
    "spiral = np.linspace(0, 1, n_samples) ** 0.5\n",
    "thetas = np.linspace(0, theta_max ** 2 , n_samples) ** 0.5\n",
    "signal_weight = 0.008\n",
    "rs = spiral + signal * signal_weight\n",
    "xs = np.cos(thetas) * rs\n",
    "ys = np.sin(thetas) * rs"
   ]
  },
  {
   "cell_type": "code",
   "execution_count": null,
   "metadata": {
    "Collapsed": "false"
   },
   "outputs": [],
   "source": [
    "[len(layer.coords) for layer in layers]"
   ]
  },
  {
   "cell_type": "code",
   "execution_count": null,
   "metadata": {
    "Collapsed": "false"
   },
   "outputs": [],
   "source": [
    "sk = vsketch.Vsketch()\n",
    "sk.size(paper.page_format_mm)\n",
    "sk.scale('1mm')\n",
    "sk.penWidth('0.3mm')\n",
    "\n",
    "for i, layer in enumerate(layers):\n",
    "    sk.stroke(i+1)\n",
    "    sk.geometry(layer)\n",
    "\n",
    "sk.penWidth('0.3')\n",
    "sk.vpype('linesimplify')\n",
    "sk.vpype('linesimplify')\n",
    "# sk.vpype('linesimplify')\n",
    "# sk.vpype('linesimplify')\n",
    "\n",
    "sk.display(color_mode='layer')"
   ]
  },
  {
   "cell_type": "code",
   "execution_count": null,
   "metadata": {
    "Collapsed": "false"
   },
   "outputs": [],
   "source": [
    "sk.save('/mnt/c/code/side/plotter_images/oned_outputs/254_use_sound.svg')"
   ]
  },
  {
   "cell_type": "code",
   "execution_count": null,
   "metadata": {
    "Collapsed": "false"
   },
   "outputs": [],
   "source": []
  }
 ],
 "metadata": {
  "kernelspec": {
   "display_name": "Python [conda env:genpen]",
   "language": "python",
   "name": "conda-env-genpen-py"
  },
  "language_info": {
   "codemirror_mode": {
    "name": "ipython",
    "version": 3
   },
   "file_extension": ".py",
   "mimetype": "text/x-python",
   "name": "python",
   "nbconvert_exporter": "python",
   "pygments_lexer": "ipython3",
   "version": "3.8.6"
  }
 },
 "nbformat": 4,
 "nbformat_minor": 4
}

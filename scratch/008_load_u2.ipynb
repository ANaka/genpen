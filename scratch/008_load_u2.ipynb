{
 "cells": [
  {
   "cell_type": "code",
   "execution_count": null,
   "metadata": {
    "Collapsed": "false"
   },
   "outputs": [],
   "source": [
    "import itertools\n",
    "import numpy as np\n",
    "import os\n",
    "import seaborn as sns\n",
    "from tqdm import tqdm\n",
    "from dataclasses import asdict, dataclass, field\n",
    "import vsketch\n",
    "import shapely.geometry as sg\n",
    "from shapely.geometry import box, MultiLineString, Point, MultiPoint, Polygon, MultiPolygon, LineString\n",
    "import shapely.affinity as sa\n",
    "import shapely.ops as so\n",
    "import matplotlib.pyplot as plt\n",
    "import pandas as pd\n",
    "\n",
    "import vpype_cli\n",
    "from typing import List, Generic\n",
    "from genpen import genpen as gp, utils as utils\n",
    "from scipy import stats as ss\n",
    "import geopandas\n",
    "from shapely.errors import TopologicalError\n",
    "import functools\n",
    "%load_ext autoreload\n",
    "%autoreload 2\n",
    "import vpype"
   ]
  },
  {
   "cell_type": "code",
   "execution_count": null,
   "metadata": {
    "Collapsed": "false",
    "jupyter": {
     "outputs_hidden": true
    }
   },
   "outputs": [],
   "source": [
    "from svgpathtools import svg2paths\n"
   ]
  },
  {
   "cell_type": "markdown",
   "metadata": {
    "Collapsed": "false"
   },
   "source": [
    "# try 1"
   ]
  },
  {
   "cell_type": "code",
   "execution_count": null,
   "metadata": {
    "Collapsed": "false"
   },
   "outputs": [],
   "source": [
    "svgpath = '/mnt/c/code/side/plotter_images/u2_visor_portrait_trace.svg'\n",
    "doc = vpype.read_svg(svgpath, quantization=0.1, simplify=True, crop=True, parallel=True)"
   ]
  },
  {
   "cell_type": "code",
   "execution_count": null,
   "metadata": {
    "Collapsed": "false"
   },
   "outputs": [],
   "source": [
    "paths, attributes = svg2paths(svgpath)"
   ]
  },
  {
   "cell_type": "code",
   "execution_count": null,
   "metadata": {
    "Collapsed": "false"
   },
   "outputs": [],
   "source": []
  },
  {
   "cell_type": "code",
   "execution_count": null,
   "metadata": {
    "Collapsed": "false"
   },
   "outputs": [],
   "source": [
    "def complex_to_xy(point):\n",
    "    return point.real, point.imag"
   ]
  },
  {
   "cell_type": "code",
   "execution_count": null,
   "metadata": {
    "Collapsed": "false"
   },
   "outputs": [],
   "source": [
    "def svgLine_to_LineString(line):\n",
    "    return LineString([\n",
    "        complex_to_xy(line.start),\n",
    "        complex_to_xy(line.end),\n",
    "    ])"
   ]
  },
  {
   "cell_type": "code",
   "execution_count": null,
   "metadata": {
    "Collapsed": "false"
   },
   "outputs": [],
   "source": [
    "page_x_inches: float = 11 # inches\n",
    "page_y_inches: float = 14 # inches\n",
    "border:float = 20.\n",
    "\n",
    "buffer_style = 3"
   ]
  },
  {
   "cell_type": "code",
   "execution_count": null,
   "metadata": {
    "Collapsed": "false"
   },
   "outputs": [],
   "source": [
    "px = utils.DistanceConverter(page_x_inches, 'inches').mm\n",
    "py = utils.DistanceConverter(page_y_inches, 'inches').mm\n",
    "page_format = f'{px}mmx{py}mm'\n",
    "drawbox = sg.box(border, border, px-border, py-border)\n",
    "xmin, ymin, xmax, ymax = drawbox.bounds"
   ]
  },
  {
   "cell_type": "code",
   "execution_count": null,
   "metadata": {
    "Collapsed": "false"
   },
   "outputs": [],
   "source": [
    "mls = so.linemerge(MultiLineString([svgLine_to_LineString(line) for line in paths[1]]))\n",
    "fills = MultiPolygon([Polygon(ls) for ls in mls])\n",
    "\n",
    "lines = so.linemerge(MultiLineString([svgLine_to_LineString(line) for line in paths[0]]))"
   ]
  },
  {
   "cell_type": "code",
   "execution_count": null,
   "metadata": {
    "Collapsed": "false"
   },
   "outputs": [],
   "source": [
    "sg.GeometryCollection([fills, lines])"
   ]
  },
  {
   "cell_type": "code",
   "execution_count": null,
   "metadata": {
    "Collapsed": "false"
   },
   "outputs": [],
   "source": [
    "def consolidate_polygons2(polys):\n",
    "    '''For if polygons are inside each other '''\n",
    "    consolidated_polys = []\n",
    "    for p0 in polys:\n",
    "        other_polys = [p for p in polys if p != p0]\n",
    "        p0_contains = []\n",
    "        p0_is_within = []\n",
    "        for p1 in other_polys:\n",
    "            if p0.contains(p1):\n",
    "                p0_contains.append(p1)\n",
    "            elif p0.within(p1):\n",
    "                p0_is_within.append(p1)\n",
    "        \n",
    "        new_p = Polygon(p0)\n",
    "        if not any(p0_is_within):\n",
    "            new_p = gp.robust_difference(p0, so.unary_union(p0_contains))\n",
    "            consolidated_polys.append(new_p)\n",
    "    return consolidated_polys"
   ]
  },
  {
   "cell_type": "code",
   "execution_count": null,
   "metadata": {
    "Collapsed": "false"
   },
   "outputs": [],
   "source": [
    "mp = MultiPolygon([p for p in fills if p.area > 0])"
   ]
  },
  {
   "cell_type": "code",
   "execution_count": null,
   "metadata": {
    "Collapsed": "false"
   },
   "outputs": [],
   "source": [
    "sns.displot([np.log10(p.area) for p in fills])"
   ]
  },
  {
   "cell_type": "code",
   "execution_count": null,
   "metadata": {
    "Collapsed": "false"
   },
   "outputs": [],
   "source": [
    "small_polys = []\n",
    "large_polys = []\n",
    "thresh = 0.1\n",
    "for p in mp:\n",
    "    if p.area > thresh:\n",
    "        large_polys.append(p.buffer(1e-6))\n",
    "    else:\n",
    "        small_polys.append(p)"
   ]
  },
  {
   "cell_type": "code",
   "execution_count": null,
   "metadata": {
    "Collapsed": "false"
   },
   "outputs": [],
   "source": [
    "gp.merge_Polygons(large_polys)"
   ]
  },
  {
   "cell_type": "code",
   "execution_count": null,
   "metadata": {
    "Collapsed": "false"
   },
   "outputs": [],
   "source": [
    "lps = list(gp.merge_Polygons(large_polys))"
   ]
  },
  {
   "cell_type": "code",
   "execution_count": null,
   "metadata": {
    "Collapsed": "false"
   },
   "outputs": [],
   "source": [
    "areas = [p.area for p in lps]"
   ]
  },
  {
   "cell_type": "code",
   "execution_count": null,
   "metadata": {
    "Collapsed": "false"
   },
   "outputs": [],
   "source": [
    "sort_lps = [lps[i] for i in np.argsort(areas)]\n",
    "consolidated_ps = consolidate_polygons2(sort_lps)\n",
    "MultiPolygon(consolidated_ps)"
   ]
  },
  {
   "cell_type": "code",
   "execution_count": null,
   "metadata": {
    "Collapsed": "false"
   },
   "outputs": [],
   "source": [
    "all_polys = MultiPolygon(lps + small_polys)"
   ]
  },
  {
   "cell_type": "code",
   "execution_count": null,
   "metadata": {
    "Collapsed": "false"
   },
   "outputs": [],
   "source": [
    "scaled_geos = gp.make_like(sg.GeometryCollection([lines, all_polys]), drawbox)"
   ]
  },
  {
   "cell_type": "code",
   "execution_count": null,
   "metadata": {
    "Collapsed": "false"
   },
   "outputs": [],
   "source": [
    "traces = scaled_geos[0]\n",
    "polys = scaled_geos[1]"
   ]
  },
  {
   "cell_type": "code",
   "execution_count": null,
   "metadata": {
    "Collapsed": "false"
   },
   "outputs": [],
   "source": [
    "\n",
    "sapb = polys.buffer(1e-3)\n",
    "sapb"
   ]
  },
  {
   "cell_type": "code",
   "execution_count": null,
   "metadata": {
    "Collapsed": "false"
   },
   "outputs": [],
   "source": [
    "stp = gp.ScaleTransPrms(n_iters=100, d_buffer=-0.2, d_translate_factor=0.3, angles=np.radians(-90))\n",
    "# stp.d_buffers *= gp.gaussian_random_walk(n=stp.d_buffers.shape[0], step_std=10)"
   ]
  },
  {
   "cell_type": "code",
   "execution_count": null,
   "metadata": {
    "Collapsed": "false"
   },
   "outputs": [],
   "source": [
    "all_fills = []\n",
    "for p in sapb:\n",
    "    fills = gp.scale_trans(p, **stp.prms)\n",
    "    mfills = gp.merge_LineStrings([f.boundary for f in fills])\n",
    "    all_fills.append(mfills)"
   ]
  },
  {
   "cell_type": "code",
   "execution_count": null,
   "metadata": {
    "Collapsed": "false"
   },
   "outputs": [],
   "source": [
    "fill_layer = gp.merge_LineStrings(all_fills)"
   ]
  },
  {
   "cell_type": "code",
   "execution_count": null,
   "metadata": {
    "Collapsed": "false"
   },
   "outputs": [],
   "source": [
    "min_path_length = 5\n",
    "filter_fill_layer = MultiLineString([f for f in fill_layer if f.length>min_path_length])"
   ]
  },
  {
   "cell_type": "code",
   "execution_count": null,
   "metadata": {
    "Collapsed": "false",
    "jupyter": {
     "outputs_hidden": true
    }
   },
   "outputs": [],
   "source": [
    "sk = vsketch.Vsketch()\n",
    "sk.size(page_format)\n",
    "sk.scale('1mm')\n",
    "sk.penWidth('0.25mm')\n",
    "sk.geometry(traces)\n",
    "sk.geometry(filter_fill_layer)\n",
    "sk.geometry(traces.buffer(1, cap_style=2, join_style=2).boundary)\n",
    "sk.display(color_mode='None')"
   ]
  },
  {
   "cell_type": "code",
   "execution_count": null,
   "metadata": {
    "Collapsed": "false"
   },
   "outputs": [],
   "source": []
  },
  {
   "cell_type": "code",
   "execution_count": null,
   "metadata": {
    "Collapsed": "false"
   },
   "outputs": [],
   "source": [
    "savepath = '/mnt/c/code/side/plotter_images/oned_outputs/0110_me_trace.svg'\n",
    "\n",
    "sk.save(savepath)\n",
    "\n",
    "vpype_commands = 'reloop linesimplify --tolerance 0.05mm linemerge --tolerance 0.3mm linesort'\n",
    "vpype_str = f'vpype read -q 0.05mm {savepath} {vpype_commands} write {savepath}'\n",
    "\n",
    "os.system(vpype_str)"
   ]
  },
  {
   "cell_type": "code",
   "execution_count": null,
   "metadata": {
    "Collapsed": "false"
   },
   "outputs": [],
   "source": []
  }
 ],
 "metadata": {
  "kernelspec": {
   "display_name": "Python [conda env:genpen]",
   "language": "python",
   "name": "conda-env-genpen-py"
  },
  "language_info": {
   "codemirror_mode": {
    "name": "ipython",
    "version": 3
   },
   "file_extension": ".py",
   "mimetype": "text/x-python",
   "name": "python",
   "nbconvert_exporter": "python",
   "pygments_lexer": "ipython3",
   "version": "3.8.6"
  }
 },
 "nbformat": 4,
 "nbformat_minor": 4
}

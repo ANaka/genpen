{
 "cells": [
  {
   "cell_type": "code",
   "execution_count": null,
   "metadata": {
    "Collapsed": "false"
   },
   "outputs": [],
   "source": [
    "import itertools\n",
    "import numpy as np\n",
    "import os\n",
    "import seaborn as sns\n",
    "from tqdm import tqdm\n",
    "from dataclasses import asdict, dataclass, field\n",
    "import vsketch\n",
    "import shapely.geometry as sg\n",
    "from shapely.geometry import box, MultiLineString, Point, MultiPoint, Polygon, MultiPolygon, LineString\n",
    "import shapely.affinity as sa\n",
    "import shapely.ops as so\n",
    "import matplotlib.pyplot as plt\n",
    "import pandas as pd\n",
    "\n",
    "import vpype_cli\n",
    "from typing import List, Generic\n",
    "from genpen import genpen as gp, utils as utils\n",
    "from scipy import stats as ss\n",
    "import geopandas\n",
    "from shapely.errors import TopologicalError\n",
    "import functools\n",
    "%load_ext autoreload\n",
    "%autoreload 2\n",
    "import vpype\n",
    "from skimage import io\n",
    "from pathlib import Path\n",
    "\n",
    "from sklearn.preprocessing import minmax_scale\n",
    "from skimage import feature\n",
    "from genpen.utils import Paper\n",
    "import copy"
   ]
  },
  {
   "cell_type": "code",
   "execution_count": null,
   "metadata": {
    "Collapsed": "false"
   },
   "outputs": [],
   "source": [
    "class Turtle(object):\n",
    "    \n",
    "    def __init__(self, loc=Point(0,0), rad=0, pen='up', delta_rad=np.pi/6, parent=None):\n",
    "        self.loc = loc\n",
    "        self.rad = rad\n",
    "        self.pen = pen\n",
    "        self.tree_depth = 0\n",
    "        self.delta_rad = np.pi/6\n",
    "        self.parent = parent\n",
    "        self.alive = True\n",
    "        self.lines = MultiLineString()\n",
    "        self.pts_in_current_line = []\n",
    "        \n",
    "    def __repr__(self):\n",
    "         return f'''\n",
    "         Cowabunga it is\n",
    "         pos=({self.x}, {self.y})\n",
    "         pen={self.pen}\n",
    "         rad={self.rad}\n",
    "         tree_depth={self.tree_depth}'''\n",
    "        \n",
    "    @property\n",
    "    def x(self):\n",
    "        return self.loc.x\n",
    "    \n",
    "    @x.setter\n",
    "    def x(self, x):\n",
    "        self.loc = Point(x, self.y)\n",
    "    \n",
    "    @property\n",
    "    def y(self):\n",
    "        return self.loc.y\n",
    "    \n",
    "    @y.setter\n",
    "    def y(self, y):\n",
    "        self.loc = Point(self.x, y)\n",
    "    \n",
    "    @property\n",
    "    def degrees(self):\n",
    "        return self.rad / (np.pi * 2) * 360\n",
    "    \n",
    "    @degrees.setter\n",
    "    def degrees(self, degrees):\n",
    "        self.rad = degrees / 360 * np.pi * 2\n",
    "    \n",
    "    @property\n",
    "    def current_line(self):\n",
    "        if len(self.pts_in_current_line) > 1:\n",
    "            return LineString(self.pts_in_current_line)\n",
    "        \n",
    "    @current_line.setter\n",
    "    def current_line(self, current_line):\n",
    "        self.pts_in_current_line = [Point(p) for p in current_line]\n",
    "    \n",
    "    def add_point(self):\n",
    "        self.pts_in_current_line.append(self.loc)\n",
    "        \n",
    "    def pen_down(self):\n",
    "        self.pen = 'down'\n",
    "        self.add_point()\n",
    "        \n",
    "    def pen_up(self):\n",
    "        self.pen = 'up'\n",
    "        self.finish_line()\n",
    "        \n",
    "    def finish_line(self):\n",
    "        self.lines = gp.merge_LineStrings([self.lines, self.current_line])\n",
    "        self.pts_in_current_line = []\n",
    "        \n",
    "    def forward(self, d):\n",
    "        self.x += np.cos(self.rad) * d\n",
    "        self.y += np.sin(self.rad) * d\n",
    "        if self.pen == 'down':\n",
    "            self.add_point()\n",
    "            \n",
    "    def F(self, d=1):\n",
    "        self.pen_down()\n",
    "        self.forward(d)\n",
    "        \n",
    "    def f(self, d=1):\n",
    "        self.pen_up()\n",
    "        self.forward(d)\n",
    "            \n",
    "    def turn(self, d_angle, use_degrees=False):\n",
    "        if use_degrees:\n",
    "            new_degrees = self.degrees + d_angle\n",
    "            self.degrees = new_degrees % 360\n",
    "        else:\n",
    "            new_rad = self.rad + d_angle\n",
    "            self.rad = new_rad % (np.pi * 2)\n",
    "        \n",
    "    def plus(self):\n",
    "        self.turn(self.delta_rad)\n",
    "        \n",
    "    def minus(self):\n",
    "        self.turn(-self.delta_rad)\n",
    "    \n",
    "    def circle(self, radius, extent=(np.pi*2), n_eval_points=1000, use_degrees=False):\n",
    "        \n",
    "        d_angle = extent / n_eval_points\n",
    "        forward_d = abs(d_angle * radius)\n",
    "        if use_degrees:\n",
    "            forward_d = forward_d / 360 * (2 * np.pi)\n",
    "        for n in range(n_eval_points):\n",
    "            self.forward(forward_d)\n",
    "            self.turn(d_angle, use_degrees=use_degrees)"
   ]
  },
  {
   "cell_type": "code",
   "execution_count": null,
   "metadata": {
    "Collapsed": "false"
   },
   "outputs": [],
   "source": [
    "# make page\n",
    "paper_size = '14x11 inches'\n",
    "border:float=35\n",
    "paper = Paper(paper_size)\n",
    "\n",
    "drawbox = paper.get_drawbox(border)"
   ]
  },
  {
   "cell_type": "code",
   "execution_count": null,
   "metadata": {
    "Collapsed": "false"
   },
   "outputs": [],
   "source": [
    "start_pt = gp.get_random_point_in_polygon(drawbox)\n",
    "t = Turtle(start_pt)\n",
    "t.pen_down()\n",
    "t.circle(\n",
    "        np.random.uniform(0.3,20), \n",
    "        np.random.uniform(-120, 120), \n",
    "        use_degrees=True,\n",
    "        n_eval_points=20,\n",
    "    )\n",
    "future_turtles = [copy.deepcopy(t) for i in range(n_checks_per_iter)]\n",
    "\n",
    "for ft in future_turtles:\n",
    "    ft.circle(\n",
    "        np.random.uniform(0.3,20), \n",
    "        np.random.uniform(-120, 120), \n",
    "        use_degrees=True,\n",
    "        n_eval_points=20,\n",
    "    )"
   ]
  },
  {
   "cell_type": "code",
   "execution_count": null,
   "metadata": {
    "Collapsed": "false"
   },
   "outputs": [],
   "source": [
    "existing_line = t.current_line\n",
    "ft = copy.deepcopy(t)"
   ]
  },
  {
   "cell_type": "code",
   "execution_count": null,
   "metadata": {
    "Collapsed": "false"
   },
   "outputs": [],
   "source": [
    "n_eval_points = 40"
   ]
  },
  {
   "cell_type": "code",
   "execution_count": null,
   "metadata": {
    "Collapsed": "false"
   },
   "outputs": [],
   "source": [
    "ft.circle(\n",
    "        5, \n",
    "        290, \n",
    "        use_degrees=True,\n",
    "        n_eval_points=n_eval_points,\n",
    "    )\n",
    "# ft.forward(10)"
   ]
  },
  {
   "cell_type": "code",
   "execution_count": null,
   "metadata": {
    "Collapsed": "false"
   },
   "outputs": [],
   "source": []
  },
  {
   "cell_type": "code",
   "execution_count": null,
   "metadata": {
    "Collapsed": "false"
   },
   "outputs": [],
   "source": [
    "existing_line.buffer(0.05, cap_style=2, join_style=2)"
   ]
  },
  {
   "cell_type": "code",
   "execution_count": null,
   "metadata": {
    "Collapsed": "false"
   },
   "outputs": [],
   "source": [
    "ft.current_line[-20:].buffer(0.05, cap_style=2, join_style=2)"
   ]
  },
  {
   "cell_type": "code",
   "execution_count": null,
   "metadata": {
    "Collapsed": "false"
   },
   "outputs": [],
   "source": [
    "t.current_line[:-8]"
   ]
  },
  {
   "cell_type": "code",
   "execution_count": null,
   "metadata": {
    "Collapsed": "false"
   },
   "outputs": [],
   "source": [
    "n_checks_per_iter = 15\n",
    "n_iters = 200\n",
    "all_lines = MultiLineString()\n",
    "all_lines_buffered = Polygon()\n",
    "n_turtles = 3\n",
    "n_eval_points = 16\n",
    "for kk in range(n_turtles):\n",
    "    start_pt = gp.get_random_point_in_polygon(drawbox)\n",
    "    t = Turtle(start_pt)\n",
    "    t.pen_down()\n",
    "    t.circle(\n",
    "        np.random.uniform(0.3,20), \n",
    "        np.random.uniform(-120, 120), \n",
    "        use_degrees=True,\n",
    "        n_eval_points=20,\n",
    "    )\n",
    "    \n",
    "    for jj in tqdm(range(n_iters)):\n",
    "        existing_line = t.current_line.buffer(0.05, cap_style=2, join_style=2, resolution=1)\n",
    "        future_turtles = [copy.deepcopy(t) for i in range(n_checks_per_iter)]\n",
    "        new_lines = []\n",
    "        for ft in future_turtles:\n",
    "            ft.circle(\n",
    "                np.random.uniform(1, 10.1), \n",
    "                np.random.uniform(-120, 120), \n",
    "                use_degrees=True,\n",
    "                n_eval_points=n_eval_points,\n",
    "            )\n",
    "            new_line = LineString(ft.pts_in_current_line[-(n_eval_points)+1:]).buffer(0.05, cap_style=2, join_style=2, resolution=1)\n",
    "            new_lines.append(new_line)\n",
    "        \n",
    "        distances = np.array([ft.loc.distance(existing_line) for ft in future_turtles])\n",
    "        distance_ranks = np.argsort(distances)\n",
    "        no_cross_current = ~np.array([new_line.intersects(existing_line) for new_line in new_lines])\n",
    "        not_too_close = distances > 1\n",
    "        in_drawbox = [ft.loc.within(drawbox) for ft in future_turtles]\n",
    "        no_cross_others = ~np.array([new_line.intersects(all_lines_buffered) for new_line in new_lines])\n",
    "        okay = no_cross_current & in_drawbox & not_too_close & no_cross_others\n",
    "        if okay.sum() < 1:\n",
    "            break\n",
    "        winner = distance_ranks[okay][0]\n",
    "        t = future_turtles[winner]\n",
    "        \n",
    "    t.pen_up()\n",
    "        \n",
    "    all_lines = gp.merge_LineStrings([all_lines, t.lines])\n",
    "    all_lines_buffered = all_lines.buffer(0.05, cap_style=2, join_style=2, resolution=1)"
   ]
  },
  {
   "cell_type": "code",
   "execution_count": null,
   "metadata": {
    "Collapsed": "false"
   },
   "outputs": [],
   "source": [
    "sk = vsketch.Vsketch()\n",
    "sk.size(paper.page_format_mm)\n",
    "sk.scale('1mm')\n",
    "sk.penWidth('0.5mm')\n",
    "sk.geometry(all_lines)\n",
    "\n",
    "# tolerance=0.5\n",
    "# sk.vpype(f'linemerge --tolerance {tolerance}mm linesort')\n",
    "# sk.vpype('linesimplify --tolerance 0.1 linesimplify --tolerance 0.1 linesort')\n",
    "sk.display()"
   ]
  },
  {
   "cell_type": "markdown",
   "metadata": {
    "Collapsed": "false"
   },
   "source": [
    "# iteration not repetition"
   ]
  },
  {
   "cell_type": "code",
   "execution_count": null,
   "metadata": {
    "Collapsed": "false"
   },
   "outputs": [],
   "source": [
    "n_iters = 150\n",
    "std = 0.0008\n",
    "\n",
    "# c = Point((0,0)).buffer(20, resolution=120).boundary\n",
    "sq = Point((0,0)).buffer(20, resolution=1).boundary\n",
    "c =  Polygon([sq.interpolate(x, normalized=True) for x in np.linspace(0, 1, 200)]).boundary\n",
    "rings = [c]\n",
    "for i in range(n_iters):\n",
    "    current_ring = np.array([x for x in c.coords])\n",
    "    current_ring *= np.random.normal(loc=1, scale=std, size=current_ring.shape)\n",
    "    current_ring += np.ones_like(current_ring) * np.array([0.5, -0.1])\n",
    "    c = LineString(current_ring)\n",
    "    c = sa.rotate(c, -0.5)\n",
    "    c = sa.scale(c, xfact=1.006, yfact=1.005)\n",
    "    rings.append(c)"
   ]
  },
  {
   "cell_type": "code",
   "execution_count": null,
   "metadata": {
    "Collapsed": "false"
   },
   "outputs": [],
   "source": [
    "mls = MultiLineString([r for r in rings])\n",
    "layer = gp.make_like(mls, drawbox)"
   ]
  },
  {
   "cell_type": "code",
   "execution_count": null,
   "metadata": {
    "Collapsed": "false"
   },
   "outputs": [],
   "source": [
    "# make page\n",
    "paper_size = '14x11 inches'\n",
    "border:float=35\n",
    "paper = Paper(paper_size)\n",
    "\n",
    "drawbox = paper.get_drawbox(border)"
   ]
  },
  {
   "cell_type": "code",
   "execution_count": null,
   "metadata": {
    "Collapsed": "false"
   },
   "outputs": [],
   "source": [
    "sk = vsketch.Vsketch()\n",
    "sk.size(paper.page_format_mm)\n",
    "sk.scale('1mm')\n",
    "sk.penWidth('0.5mm')\n",
    "sk.geometry(layer)\n",
    "sk.vpype('linesort')\n",
    "sk.display()"
   ]
  },
  {
   "cell_type": "code",
   "execution_count": null,
   "metadata": {
    "Collapsed": "false"
   },
   "outputs": [],
   "source": [
    "sk.save('/mnt/c/code/side/plotter_images/oned_outputs/191_do_not_repeat.svg')"
   ]
  },
  {
   "cell_type": "markdown",
   "metadata": {
    "Collapsed": "false"
   },
   "source": [
    "## try 2"
   ]
  },
  {
   "cell_type": "code",
   "execution_count": null,
   "metadata": {
    "Collapsed": "false"
   },
   "outputs": [],
   "source": [
    "# make page\n",
    "paper_size = '17x11 inches'\n",
    "border:float=35\n",
    "paper = Paper(paper_size)\n",
    "\n",
    "drawbox = paper.get_drawbox(border)"
   ]
  },
  {
   "cell_type": "code",
   "execution_count": null,
   "metadata": {
    "Collapsed": "false"
   },
   "outputs": [],
   "source": [
    "n_iters = 250\n",
    "low = 0.9999\n",
    "high = 1.0001\n",
    "\n",
    "# c = Point((0,0)).buffer(20, resolution=120).boundary\n",
    "sq = Point((0,0)).buffer(20, resolution=1).boundary\n",
    "c =  Polygon([sq.interpolate(x, normalized=True) for x in np.linspace(0, 1, 200)]).boundary\n",
    "rings = [c]\n",
    "rands = np.random.uniform(low, high, size=current_ring.shape)\n",
    "for i in range(n_iters):\n",
    "    current_ring = np.array([x for x in c.coords])\n",
    "    current_ring *= rands\n",
    "    current_ring += np.ones_like(current_ring) * np.array([0.5, -0.2])\n",
    "    c = LineString(current_ring)\n",
    "    c = sa.rotate(c, 0.6)\n",
    "    c = sa.scale(c, xfact=1.006, yfact=1.008)\n",
    "    rings.append(c)"
   ]
  },
  {
   "cell_type": "code",
   "execution_count": null,
   "metadata": {
    "Collapsed": "false"
   },
   "outputs": [],
   "source": [
    "mls = MultiLineString([r for r in rings])\n",
    "layer = gp.make_like(mls, drawbox)"
   ]
  },
  {
   "cell_type": "code",
   "execution_count": null,
   "metadata": {
    "Collapsed": "false"
   },
   "outputs": [],
   "source": [
    "sk = vsketch.Vsketch()\n",
    "sk.size(paper.page_format_mm)\n",
    "sk.scale('1mm')\n",
    "sk.penWidth('0.5mm')\n",
    "sk.geometry(layer)\n",
    "sk.vpype('linesort')\n",
    "sk.display()"
   ]
  },
  {
   "cell_type": "code",
   "execution_count": null,
   "metadata": {
    "Collapsed": "false"
   },
   "outputs": [],
   "source": [
    "sk.save('/mnt/c/code/side/plotter_images/oned_outputs/192_do_not_repeat.svg')"
   ]
  },
  {
   "cell_type": "markdown",
   "metadata": {
    "Collapsed": "false"
   },
   "source": [
    "## try 3"
   ]
  },
  {
   "cell_type": "code",
   "execution_count": null,
   "metadata": {
    "Collapsed": "false"
   },
   "outputs": [],
   "source": [
    "# make page\n",
    "paper_size = '17x11 inches'\n",
    "border:float=35\n",
    "paper = Paper(paper_size)\n",
    "\n",
    "drawbox = paper.get_drawbox(border)"
   ]
  },
  {
   "cell_type": "code",
   "execution_count": null,
   "metadata": {
    "Collapsed": "false"
   },
   "outputs": [],
   "source": [
    "sq = Point((0,0)).buffer(20, resolution=1).boundary\n",
    "c =  Polygon([sq.interpolate(x, normalized=True) for x in np.linspace(0, 1, 200)]).boundary"
   ]
  },
  {
   "cell_type": "code",
   "execution_count": null,
   "metadata": {
    "Collapsed": "false"
   },
   "outputs": [],
   "source": [
    "mu=0\n",
    "sigma=0.01\n",
    "rands = np.random.lognormal(mean=mu, sigma=sigma, size=current_ring.shape)\n",
    "plt.plot(rands.ravel())"
   ]
  },
  {
   "cell_type": "code",
   "execution_count": null,
   "metadata": {
    "Collapsed": "false"
   },
   "outputs": [],
   "source": []
  },
  {
   "cell_type": "code",
   "execution_count": null,
   "metadata": {
    "Collapsed": "false"
   },
   "outputs": [],
   "source": [
    "n_iters = 280\n",
    "low = 0.9999\n",
    "high = 1.0002\n",
    "mu=0\n",
    "sigma=0.00015\n",
    "\n",
    "# c = Point((0,0)).buffer(20, resolution=120).boundary\n",
    "sq = Point((0,0)).buffer(20, resolution=5).boundary\n",
    "c =  Polygon([sq.interpolate(x, normalized=True) for x in np.linspace(0, 1, 80)]).boundary\n",
    "rings = [c]\n",
    "current_ring = np.array([x for x in c.coords])\n",
    "rands = np.random.uniform(low, high, size=current_ring.shape)\n",
    "# rands = np.random.lognormal(mean=mu, sigma=sigma, size=current_ring.shape)\n",
    "for i in range(n_iters):\n",
    "    current_ring = np.array([x for x in c.coords])\n",
    "    current_ring *= rands\n",
    "    current_ring += np.ones_like(current_ring) * np.array([1.7, -0.6])\n",
    "    c = LineString(current_ring)\n",
    "#     c = sa.skew(c, xs=0.1)\n",
    "    c = sa.rotate(c, 0.7)\n",
    "    c = sa.scale(c, xfact=1.004, yfact=1.014)\n",
    "    \n",
    "    rings.append(c)"
   ]
  },
  {
   "cell_type": "code",
   "execution_count": null,
   "metadata": {
    "Collapsed": "false"
   },
   "outputs": [],
   "source": [
    "mls = MultiLineString([r for r in rings])\n",
    "layer = gp.make_like(mls, drawbox)"
   ]
  },
  {
   "cell_type": "code",
   "execution_count": null,
   "metadata": {
    "Collapsed": "false"
   },
   "outputs": [],
   "source": [
    "sk = vsketch.Vsketch()\n",
    "sk.size(paper.page_format_mm)\n",
    "sk.scale('1mm')\n",
    "sk.penWidth('0.5mm')\n",
    "sk.geometry(layer)\n",
    "# sk.vpype('linesort')\n",
    "sk.display()"
   ]
  },
  {
   "cell_type": "code",
   "execution_count": null,
   "metadata": {
    "Collapsed": "false"
   },
   "outputs": [],
   "source": [
    "sk.save('/mnt/c/code/side/plotter_images/oned_outputs/194_do_not_repeat.svg')"
   ]
  },
  {
   "cell_type": "code",
   "execution_count": null,
   "metadata": {
    "Collapsed": "false"
   },
   "outputs": [],
   "source": [
    "n_iters = 480\n",
    "low = 0.9999\n",
    "high = 1.0002\n",
    "mu=0\n",
    "sigma=0.00015\n",
    "\n",
    "# c = Point((0,0)).buffer(20, resolution=120).boundary\n",
    "sq = Point((0,0)).buffer(20, resolution=1).boundary\n",
    "c =  Polygon([sq.interpolate(x, normalized=True) for x in np.linspace(0, 1, 80)]).boundary\n",
    "rings = [c]\n",
    "current_ring = np.array([x for x in c.coords])\n",
    "rands = np.random.uniform(low, high, size=current_ring.shape)\n",
    "# rands = np.random.lognormal(mean=mu, sigma=sigma, size=current_ring.shape)\n",
    "for i in range(n_iters):\n",
    "    current_ring = np.array([x for x in c.coords])\n",
    "    current_ring *= rands\n",
    "    current_ring += np.ones_like(current_ring) * np.array([0.3, -0.03])\n",
    "    c = LineString(current_ring)\n",
    "#     c = sa.skew(c, xs=0.1)\n",
    "    c = sa.rotate(c, 0.6)\n",
    "    c = sa.scale(c, xfact=1.0035, yfact=1.0)\n",
    "    \n",
    "    rings.append(c)"
   ]
  },
  {
   "cell_type": "code",
   "execution_count": null,
   "metadata": {
    "Collapsed": "false"
   },
   "outputs": [],
   "source": [
    "mls = MultiLineString([r for r in rings])\n",
    "layer = gp.make_like(mls, drawbox)"
   ]
  },
  {
   "cell_type": "code",
   "execution_count": null,
   "metadata": {
    "Collapsed": "false"
   },
   "outputs": [],
   "source": [
    "sk = vsketch.Vsketch()\n",
    "sk.size(paper.page_format_mm)\n",
    "sk.scale('1mm')\n",
    "sk.penWidth('0.5mm')\n",
    "sk.geometry(layer)\n",
    "# sk.vpype('linesort')\n",
    "sk.display()"
   ]
  },
  {
   "cell_type": "code",
   "execution_count": null,
   "metadata": {
    "Collapsed": "false"
   },
   "outputs": [],
   "source": [
    "sk.save('/mnt/c/code/side/plotter_images/oned_outputs/195_do_not_repeat.svg')"
   ]
  },
  {
   "cell_type": "code",
   "execution_count": null,
   "metadata": {
    "Collapsed": "false"
   },
   "outputs": [],
   "source": [
    "# make page\n",
    "paper_size = '14x11 inches'\n",
    "border:float=35\n",
    "paper = Paper(paper_size)\n",
    "\n",
    "drawbox = paper.get_drawbox(border)"
   ]
  },
  {
   "cell_type": "code",
   "execution_count": null,
   "metadata": {
    "Collapsed": "false"
   },
   "outputs": [],
   "source": [
    "?gp.RegPolygon"
   ]
  },
  {
   "cell_type": "code",
   "execution_count": null,
   "metadata": {
    "Collapsed": "false"
   },
   "outputs": [],
   "source": [
    "n_iters = 280\n",
    "low = 0.9999\n",
    "high = 1.0007\n",
    "mu=0\n",
    "sigma=0.00015\n",
    "\n",
    "# c = Point((0,0)).buffer(20, resolution=120).boundary\n",
    "sq = Point((0,0)).buffer(20, resolution=1).boundary\n",
    "sq = gp.RegPolygon(Point(0,0), n_corners=6).poly.boundary\n",
    "c =  Polygon([sq.interpolate(x, normalized=True) for x in np.linspace(0, 1, 80)]).boundary\n",
    "rings = [c]\n",
    "current_ring = np.array([x for x in c.coords])\n",
    "rands = np.random.uniform(low, high, size=current_ring.shape)\n",
    "# rands = np.random.lognormal(mean=mu, sigma=sigma, size=current_ring.shape)\n",
    "for i in range(n_iters):\n",
    "    current_ring = np.array([x for x in c.coords])\n",
    "    current_ring *= rands\n",
    "    current_ring += np.ones_like(current_ring) * np.array([0.05, -0.02])\n",
    "    c = LineString(current_ring)\n",
    "#     c = sa.skew(c, xs=0.1)\n",
    "    c = sa.rotate(c, 0.6)\n",
    "    c = sa.scale(c, xfact=1.0035, yfact=1.011)\n",
    "    \n",
    "    rings.append(c)"
   ]
  },
  {
   "cell_type": "code",
   "execution_count": null,
   "metadata": {
    "Collapsed": "false"
   },
   "outputs": [],
   "source": [
    "mls = MultiLineString([r for r in rings])\n",
    "layer = gp.make_like(mls, drawbox)"
   ]
  },
  {
   "cell_type": "code",
   "execution_count": null,
   "metadata": {
    "Collapsed": "false"
   },
   "outputs": [],
   "source": [
    "l = layer[0]"
   ]
  },
  {
   "cell_type": "code",
   "execution_count": null,
   "metadata": {
    "Collapsed": "false"
   },
   "outputs": [],
   "source": [
    "all_pts = [MultiPoint(l.coords) for l in layer]"
   ]
  },
  {
   "cell_type": "code",
   "execution_count": null,
   "metadata": {
    "Collapsed": "false"
   },
   "outputs": [],
   "source": [
    "ps = []\n",
    "for p in all_pts:\n",
    "    ps += list(p)"
   ]
  },
  {
   "cell_type": "code",
   "execution_count": null,
   "metadata": {
    "Collapsed": "false"
   },
   "outputs": [],
   "source": [
    "tris = so.triangulate(MultiPoint(ps))"
   ]
  },
  {
   "cell_type": "code",
   "execution_count": null,
   "metadata": {
    "Collapsed": "false"
   },
   "outputs": [],
   "source": [
    "tries = gp.merge_Polygons(tris).boundary"
   ]
  },
  {
   "cell_type": "code",
   "execution_count": null,
   "metadata": {
    "Collapsed": "false"
   },
   "outputs": [],
   "source": [
    "tries = gp.merge_LineStrings([t for t in tries if t.length < 10])"
   ]
  },
  {
   "cell_type": "code",
   "execution_count": null,
   "metadata": {
    "Collapsed": "false"
   },
   "outputs": [],
   "source": [
    "tries"
   ]
  },
  {
   "cell_type": "code",
   "execution_count": null,
   "metadata": {
    "Collapsed": "false"
   },
   "outputs": [],
   "source": [
    "sk = vsketch.Vsketch()\n",
    "sk.size(paper.page_format_mm)\n",
    "sk.scale('1mm')\n",
    "sk.penWidth('0.5mm')\n",
    "sk.geometry(tries)\n",
    "sk.vpype('splitall linemerge -t 0.3 linemerge -t 0.6 linemerge -t 0.9 linesort')\n",
    "sk.display()"
   ]
  },
  {
   "cell_type": "code",
   "execution_count": null,
   "metadata": {
    "Collapsed": "false"
   },
   "outputs": [],
   "source": []
  }
 ],
 "metadata": {
  "kernelspec": {
   "display_name": "Python [conda env:genpen]",
   "language": "python",
   "name": "conda-env-genpen-py"
  },
  "language_info": {
   "codemirror_mode": {
    "name": "ipython",
    "version": 3
   },
   "file_extension": ".py",
   "mimetype": "text/x-python",
   "name": "python",
   "nbconvert_exporter": "python",
   "pygments_lexer": "ipython3",
   "version": "3.8.6"
  }
 },
 "nbformat": 4,
 "nbformat_minor": 4
}

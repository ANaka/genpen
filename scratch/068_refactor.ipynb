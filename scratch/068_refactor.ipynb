{
 "cells": [
  {
   "cell_type": "code",
   "execution_count": 1,
   "id": "59f5e1c8-8335-43a2-be12-64bf1581343e",
   "metadata": {},
   "outputs": [],
   "source": [
    "\n",
    "import itertools\n",
    "import numpy as np\n",
    "import os\n",
    "import seaborn as sns\n",
    "from tqdm import tqdm\n",
    "from dataclasses import asdict, dataclass, field\n",
    "import vsketch\n",
    "import shapely.geometry as sg\n",
    "from shapely.geometry import box, MultiLineString, Point, MultiPoint, Polygon, MultiPolygon, LineString\n",
    "import shapely.affinity as sa\n",
    "import shapely.ops as so\n",
    "import matplotlib.pyplot as plt\n",
    "import pandas as pd\n",
    "\n",
    "import vpype_cli\n",
    "from typing import List, Generic\n",
    "from genpen import genpen as gp\n",
    "from genpen.utils import Paper\n",
    "from scipy import stats\n",
    "import geopandas\n",
    "from shapely.errors import TopologicalError\n",
    "import functools\n",
    "import vpype\n",
    "from skimage import io\n",
    "from pathlib import Path\n",
    "\n",
    "from sklearn.preprocessing import minmax_scale\n",
    "from skimage import feature\n",
    "from skimage import exposure\n",
    "from torch import Tensor\n",
    "from torch import nn\n",
    "from skimage import filters\n",
    "from skimage.color import rgb2gray\n",
    "from skimage.transform import rescale, resize, downscale_local_mean\n",
    "from skimage.morphology import disk\n",
    "from numpy.random import default_rng\n",
    "\n",
    "\n",
    "from PIL import Image\n",
    "import attr\n",
    "\n",
    "import cv2\n",
    "from rasterio import features\n",
    "import rasterio\n",
    "%load_ext autoreload\n",
    "%autoreload 2"
   ]
  },
  {
   "cell_type": "code",
   "execution_count": 2,
   "id": "7b7ad548-3d23-4200-b68d-6d16933f9b76",
   "metadata": {},
   "outputs": [],
   "source": [
    "import pydiffvg as dg\n",
    "import torch\n",
    "import skimage\n",
    "import numpy as np\n",
    "from torchvision.transforms import functional as TF\n",
    "from IPython import display\n",
    "from copy import deepcopy\n",
    "import fn\n",
    "import torch.nn.functional as F\n"
   ]
  },
  {
   "cell_type": "code",
   "execution_count": 3,
   "id": "be02fc8b",
   "metadata": {},
   "outputs": [],
   "source": [
    "\n",
    "from genpen.diffvg import diffvg as gdg"
   ]
  },
  {
   "cell_type": "code",
   "execution_count": 4,
   "id": "6d4b0498-c89b-4334-b192-ff2de57bd621",
   "metadata": {},
   "outputs": [],
   "source": [
    "# Use GPU if available\n",
    "dg.set_use_gpu(torch.cuda.is_available())"
   ]
  },
  {
   "cell_type": "code",
   "execution_count": 5,
   "id": "ae04eb12",
   "metadata": {},
   "outputs": [],
   "source": [
    "from genpen.diffvg.diffvg import ParamHead, ShapeGroupMaker, ShapeMaker, LazySigmoid, CanvasNet, LazyRelu"
   ]
  },
  {
   "cell_type": "code",
   "execution_count": 6,
   "id": "faba3b91",
   "metadata": {},
   "outputs": [],
   "source": [
    "def rescale(x, min_val, max_val):\n",
    "    min_val = torch.tensor(min_val)\n",
    "    max_val = torch.tensor(max_val)\n",
    "    return x * (max_val - min_val) + min_val"
   ]
  },
  {
   "cell_type": "code",
   "execution_count": 7,
   "id": "40bfcfbe",
   "metadata": {},
   "outputs": [],
   "source": [
    "class Reshape(nn.Module):\n",
    "    \n",
    "    def __init__(self, dims):\n",
    "        super().__init__()\n",
    "        self.dims = dims\n",
    "        \n",
    "    def forward(self, x):\n",
    "        return x.view(self.dims)"
   ]
  },
  {
   "cell_type": "code",
   "execution_count": 8,
   "id": "40f76665",
   "metadata": {},
   "outputs": [],
   "source": [
    "class SigmoidParameter(nn.Module):\n",
    "    \n",
    "    def __init__(self, n_shapes, n_params):\n",
    "        super().__init__()\n",
    "        self.n_shapes = n_shapes\n",
    "        self.n_params = n_params\n",
    "        self.net = nn.Sequential(\n",
    "            LazySigmoid(n_params*n_shapes),\n",
    "            Reshape((n_shapes, n_params)),\n",
    "        )\n",
    "        \n",
    "    def forward(self, x):\n",
    "        return self.net(x)"
   ]
  },
  {
   "cell_type": "code",
   "execution_count": 9,
   "id": "e64a2c04",
   "metadata": {},
   "outputs": [],
   "source": [
    "def train(canvas_net, optim, loss_weights=None):\n",
    "    \n",
    "    shapes, shape_groups, tensors = canvas_net.forward()\n",
    "    optim.zero_grad()\n",
    "    losses = {}\n",
    "    if loss_weights is None:\n",
    "        loss_weights = {\n",
    "            'big_rad_loss': 1,\n",
    "            'overlap_loss': 1,\n",
    "            'distance_loss': 1,\n",
    "            'out_of_bounds_loss': 1,\n",
    "            \n",
    "        }\n",
    "    overlap_buffer = 0\n",
    "    shapes_tensors = tensors['shapes_tensors']\n",
    "    # big rad \n",
    "    losses['big_rad_loss'] = shapes_tensors['radius'].exp().sum()\n",
    "\n",
    "    # prevent overlap\n",
    "    dists = torch.cdist(shapes_tensors['center'], shapes_tensors['center'])\n",
    "    upper_dists = torch.triu(dists)\n",
    "    nonzero_inds = torch.nonzero(upper_dists, as_tuple=True)\n",
    "    dists[nonzero_inds]\n",
    "    summed_rads = shapes_tensors['radius'].T + shapes_tensors['radius']\n",
    "    edge_to_edge_dists = dists[nonzero_inds] - summed_rads[nonzero_inds] - overlap_buffer\n",
    "    losses['overlap_loss'] = F.relu(-edge_to_edge_dists).pow(3).sum()\n",
    "    losses['distance_loss'] = edge_to_edge_dists.pow(2).sum()\n",
    "    scaled_losses = {key: loss*loss_weights[key] for key, loss in losses.items()}\n",
    "    loss = sum(scaled_losses.values())\n",
    "\n",
    "    loss.backward()\n",
    "    optim.step()\n",
    "    \n",
    "    scaled_losses['loss'] = loss\n",
    "    return losses, scaled_losses, shapes, shape_groups, tensors"
   ]
  },
  {
   "cell_type": "code",
   "execution_count": 10,
   "id": "fc747573",
   "metadata": {},
   "outputs": [],
   "source": [
    "def train_nima(canvas_net, optim, model_ft, canvas):\n",
    "    \n",
    "    \n",
    "    \n",
    "    \n",
    "    optim.zero_grad()\n",
    "    \n",
    "    shapes, shape_groups, tensors = canvas_net.forward()\n",
    "    img = canvas.render(shapes, shape_groups)\n",
    "\n",
    "    # transform = transforms.Compose([\n",
    "    #             transforms.Resize(224),\n",
    "    #             transforms.CenterCrop(224),\n",
    "    #         ])\n",
    "    # img = transform(img)\n",
    "    img = img.swapdims(1,3)\n",
    "    # img = img.reshape(1,3,224,224)\n",
    "    scores = model_ft(img)\n",
    "    weighted_votes = torch.arange(10, dtype=torch.float, device=device) + 1\n",
    "    loss = -torch.matmul(scores, weighted_votes)\n",
    "\n",
    "    loss.backward()\n",
    "    optim.step()\n",
    "    \n",
    "    \n",
    "    return loss, shapes, shape_groups, tensors, img"
   ]
  },
  {
   "cell_type": "code",
   "execution_count": 18,
   "id": "f51064d5",
   "metadata": {},
   "outputs": [],
   "source": [
    "from torchvision import datasets, models, transforms\n",
    "\n",
    "# Number of classes in the dataset\n",
    "num_classes = 10\n",
    "\n",
    "# Weight Path\n",
    "weight_path = '/home/naka/code/side/ML-Aesthetics-NIMA/weights/dense121_all.pt'\n",
    "\n",
    "model_ft = models.densenet121(pretrained=True)\n",
    "num_ftrs = model_ft.classifier.in_features\n",
    "model_ft.classifier = nn.Sequential(\n",
    "    nn.Linear(num_ftrs,num_classes),\n",
    "    nn.Softmax(1)\n",
    ")   \n",
    "\n",
    "# Send the model to GPU\n",
    "device = torch.device(\"cuda\" if torch.cuda.is_available() else \"cpu\")\n",
    "model_ft = model_ft.to(device)\n",
    "# for param in model_ft.parameters():\n",
    "#     param.requires_grad = False"
   ]
  },
  {
   "cell_type": "code",
   "execution_count": 25,
   "id": "f56a05a0",
   "metadata": {},
   "outputs": [
    {
     "name": "stderr",
     "output_type": "stream",
     "text": [
      "/home/naka/anaconda3/envs/genpen/lib/python3.8/site-packages/torch/nn/modules/lazy.py:178: UserWarning: Lazy modules are a new feature under heavy development so changes to the API or functionality can happen at any moment.\n",
      "  warnings.warn('Lazy modules are a new feature under heavy development '\n",
      "/home/naka/anaconda3/envs/genpen/lib/python3.8/site-packages/torch/nn/init.py:388: UserWarning: Initializing zero-element tensors is a no-op\n",
      "  warnings.warn(\"Initializing zero-element tensors is a no-op\")\n"
     ]
    }
   ],
   "source": [
    "n_shapes = 10\n",
    "shape_param_head = ParamHead(nets={\n",
    "    'center': SigmoidParameter(n_shapes, 2),\n",
    "    'radius': SigmoidParameter(n_shapes, 1),\n",
    "    'stroke_width': SigmoidParameter(n_shapes, 1),\n",
    "})\n",
    "\n",
    "param_transforms = {\n",
    "    'center': lambda x: rescale(x, 10., 214.),\n",
    "    'radius': lambda x: rescale(x, 1., 50.),\n",
    "    'stroke_width': lambda x: rescale(x, 0.1, 1.),\n",
    "}\n",
    "\n",
    "\n",
    "shape_maker = ShapeMaker(\n",
    "    shape_class=dg.Circle, \n",
    "    n_shapes=n_shapes,\n",
    "    param_transforms=param_transforms,\n",
    "    base_id=0,\n",
    "    # init_params={\n",
    "    #     'center': torch.rand(n_shapes, 2)/3,\n",
    "    #     'radius': torch.rand(n_shapes, 1)/3,\n",
    "    #     'stroke_width': torch.rand(n_shapes, 1)/3,\n",
    "    # }\n",
    "    )\n",
    "\n",
    "shape_head = nn.Sequential(shape_param_head, shape_maker)\n",
    "\n",
    "shape_groups_param_head = ParamHead(nets={\n",
    "    'stroke_color': SigmoidParameter(1, 4),  # need to do some kind of reduction across shape dim\n",
    "    'fill_color': SigmoidParameter(1, 4),\n",
    "})\n",
    "shape_groups_maker = ShapeGroupMaker(\n",
    "    shape_ids=shape_maker.ids,\n",
    "    param_transforms={\n",
    "        'stroke_color': lambda x: torch.tensor([1., 1., 1., 1.]),\n",
    "        'fill_color': lambda x: None\n",
    "        }\n",
    "    )\n",
    "shape_groups_head = nn.Sequential(shape_groups_param_head, shape_groups_maker)\n",
    "\n",
    "canvas_net = CanvasNet(\n",
    "    backbone=nn.Sequential(\n",
    "        nn.Linear(1, 128),\n",
    "        nn.ReLU(),\n",
    "        LazyRelu(128),\n",
    "        LazyRelu(128),\n",
    "        LazyRelu(128),\n",
    "    ),\n",
    "    shapes_head=shape_head,\n",
    "    shape_groups_head=shape_groups_head,\n",
    ")\n"
   ]
  },
  {
   "cell_type": "code",
   "execution_count": 26,
   "id": "7ce0b895",
   "metadata": {},
   "outputs": [],
   "source": [
    "def init_weights(m, gain=4.):\n",
    "    if isinstance(m, nn.Linear):\n",
    "        torch.nn.init.xavier_uniform_(m.weight, gain=gain)\n",
    "        m.bias.data.fill_(0.01)"
   ]
  },
  {
   "cell_type": "code",
   "execution_count": 14,
   "id": "833e1e9e",
   "metadata": {},
   "outputs": [
    {
     "data": {
      "image/png": "[encoded data removed]",
      "text/plain": [
       "<PIL.Image.Image image mode=RGB size=224x224 at 0x7F46E8F6B1C0>"
      ]
     },
     "execution_count": 14,
     "metadata": {},
     "output_type": "execute_result"
    }
   ],
   "source": [
    "shapes, shape_groups, tensors = canvas_net.forward()\n",
    "canvas_net.apply(init_weights);\n",
    "shapes, shape_groups, tensors = canvas_net.forward()\n",
    "canvas = gdg.Canvas(width=224, height=224)\n",
    "canvas.render(shapes, shape_groups, as_pil=True)"
   ]
  },
  {
   "cell_type": "code",
   "execution_count": 15,
   "id": "61b688ac",
   "metadata": {},
   "outputs": [],
   "source": [
    "optim = torch.optim.Adam(canvas_net.parameters(), lr=1e-2)"
   ]
  },
  {
   "cell_type": "code",
   "execution_count": 19,
   "id": "e07675c5",
   "metadata": {},
   "outputs": [
    {
     "ename": "RuntimeError",
     "evalue": "Function RenderFunctionBackward returned an invalid gradient at index 1 - got [] but expected shape compatible with [1]",
     "output_type": "error",
     "traceback": [
      "\u001b[0;31m---------------------------------------------------------------------------\u001b[0m",
      "\u001b[0;31mRuntimeError\u001b[0m                              Traceback (most recent call last)",
      "\u001b[1;32m/home/naka/code/side/genpen/scratch/068_refactor.ipynb Cell 16'\u001b[0m in \u001b[0;36m<cell line: 1>\u001b[0;34m()\u001b[0m\n\u001b[0;32m----> <a href='vscode-notebook-cell:/home/naka/code/side/genpen/scratch/068_refactor.ipynb#ch0000138?line=0'>1</a>\u001b[0m loss, shapes, shape_groups, tensors, img \u001b[39m=\u001b[39m train_nima(canvas_net, optim, model_ft, canvas)\n\u001b[1;32m      <a href='vscode-notebook-cell:/home/naka/code/side/genpen/scratch/068_refactor.ipynb#ch0000138?line=1'>2</a>\u001b[0m \u001b[39mprint\u001b[39m(loss)\n\u001b[1;32m      <a href='vscode-notebook-cell:/home/naka/code/side/genpen/scratch/068_refactor.ipynb#ch0000138?line=2'>3</a>\u001b[0m img\n",
      "\u001b[1;32m/home/naka/code/side/genpen/scratch/068_refactor.ipynb Cell 10'\u001b[0m in \u001b[0;36mtrain_nima\u001b[0;34m(canvas_net, optim, model_ft, canvas)\u001b[0m\n\u001b[1;32m     <a href='vscode-notebook-cell:/home/naka/code/side/genpen/scratch/068_refactor.ipynb#ch0000147?line=18'>19</a>\u001b[0m weighted_votes \u001b[39m=\u001b[39m torch\u001b[39m.\u001b[39marange(\u001b[39m10\u001b[39m, dtype\u001b[39m=\u001b[39mtorch\u001b[39m.\u001b[39mfloat, device\u001b[39m=\u001b[39mdevice) \u001b[39m+\u001b[39m \u001b[39m1\u001b[39m\n\u001b[1;32m     <a href='vscode-notebook-cell:/home/naka/code/side/genpen/scratch/068_refactor.ipynb#ch0000147?line=19'>20</a>\u001b[0m loss \u001b[39m=\u001b[39m \u001b[39m-\u001b[39mtorch\u001b[39m.\u001b[39mmatmul(scores, weighted_votes)\n\u001b[0;32m---> <a href='vscode-notebook-cell:/home/naka/code/side/genpen/scratch/068_refactor.ipynb#ch0000147?line=21'>22</a>\u001b[0m loss\u001b[39m.\u001b[39;49mbackward()\n\u001b[1;32m     <a href='vscode-notebook-cell:/home/naka/code/side/genpen/scratch/068_refactor.ipynb#ch0000147?line=22'>23</a>\u001b[0m optim\u001b[39m.\u001b[39mstep()\n\u001b[1;32m     <a href='vscode-notebook-cell:/home/naka/code/side/genpen/scratch/068_refactor.ipynb#ch0000147?line=25'>26</a>\u001b[0m \u001b[39mreturn\u001b[39;00m loss, shapes, shape_groups, tensors, img\n",
      "File \u001b[0;32m~/anaconda3/envs/genpen/lib/python3.8/site-packages/torch/_tensor.py:255\u001b[0m, in \u001b[0;36mTensor.backward\u001b[0;34m(self, gradient, retain_graph, create_graph, inputs)\u001b[0m\n\u001b[1;32m    246\u001b[0m \u001b[39mif\u001b[39;00m has_torch_function_unary(\u001b[39mself\u001b[39m):\n\u001b[1;32m    247\u001b[0m     \u001b[39mreturn\u001b[39;00m handle_torch_function(\n\u001b[1;32m    248\u001b[0m         Tensor\u001b[39m.\u001b[39mbackward,\n\u001b[1;32m    249\u001b[0m         (\u001b[39mself\u001b[39m,),\n\u001b[0;32m   (...)\u001b[0m\n\u001b[1;32m    253\u001b[0m         create_graph\u001b[39m=\u001b[39mcreate_graph,\n\u001b[1;32m    254\u001b[0m         inputs\u001b[39m=\u001b[39minputs)\n\u001b[0;32m--> 255\u001b[0m torch\u001b[39m.\u001b[39;49mautograd\u001b[39m.\u001b[39;49mbackward(\u001b[39mself\u001b[39;49m, gradient, retain_graph, create_graph, inputs\u001b[39m=\u001b[39;49minputs)\n",
      "File \u001b[0;32m~/anaconda3/envs/genpen/lib/python3.8/site-packages/torch/autograd/__init__.py:147\u001b[0m, in \u001b[0;36mbackward\u001b[0;34m(tensors, grad_tensors, retain_graph, create_graph, grad_variables, inputs)\u001b[0m\n\u001b[1;32m    144\u001b[0m \u001b[39mif\u001b[39;00m retain_graph \u001b[39mis\u001b[39;00m \u001b[39mNone\u001b[39;00m:\n\u001b[1;32m    145\u001b[0m     retain_graph \u001b[39m=\u001b[39m create_graph\n\u001b[0;32m--> 147\u001b[0m Variable\u001b[39m.\u001b[39;49m_execution_engine\u001b[39m.\u001b[39;49mrun_backward(\n\u001b[1;32m    148\u001b[0m     tensors, grad_tensors_, retain_graph, create_graph, inputs,\n\u001b[1;32m    149\u001b[0m     allow_unreachable\u001b[39m=\u001b[39;49m\u001b[39mTrue\u001b[39;49;00m, accumulate_grad\u001b[39m=\u001b[39;49m\u001b[39mTrue\u001b[39;49;00m)\n",
      "\u001b[0;31mRuntimeError\u001b[0m: Function RenderFunctionBackward returned an invalid gradient at index 1 - got [] but expected shape compatible with [1]"
     ]
    }
   ],
   "source": [
    "loss, shapes, shape_groups, tensors, img = train_nima(canvas_net, optim, model_ft, canvas)\n",
    "print(loss)\n",
    "img\n"
   ]
  },
  {
   "cell_type": "code",
   "execution_count": 76,
   "id": "46efc1cd",
   "metadata": {},
   "outputs": [
    {
     "data": {
      "image/png": "[encoded data removed]",
      "text/plain": [
       "<PIL.Image.Image image mode=RGB size=800x800 at 0x7F8AB9BA4460>"
      ]
     },
     "execution_count": 76,
     "metadata": {},
     "output_type": "execute_result"
    }
   ],
   "source": [
    "losses, scaled_losses, shapes, shape_groups, tensors = train(\n",
    "        loss_weights = {\n",
    "            'big_rad_loss': 1e-4,\n",
    "            'overlap_loss': 1,\n",
    "            'distance_loss': -1e1,\n",
    "            'out_of_bounds_loss': 1e0, \n",
    "            },\n",
    "        canvas_net=canvas_net,\n",
    "        optim=optim,\n",
    "    )\n",
    "canvas.render(shapes, shape_groups, as_pil=True)"
   ]
  },
  {
   "cell_type": "code",
   "execution_count": 23,
   "id": "45f4265f",
   "metadata": {},
   "outputs": [
    {
     "data": {
      "text/plain": [
       "tensor([[[[0., 0., 0.,  ..., 0., 0., 0.],\n",
       "          [0., 0., 0.,  ..., 0., 0., 0.],\n",
       "          [0., 0., 0.,  ..., 0., 0., 0.],\n",
       "          ...,\n",
       "          [0., 0., 0.,  ..., 0., 0., 0.],\n",
       "          [0., 0., 0.,  ..., 0., 0., 0.],\n",
       "          [0., 0., 0.,  ..., 0., 0., 0.]],\n",
       "\n",
       "         [[0., 0., 0.,  ..., 0., 0., 0.],\n",
       "          [0., 0., 0.,  ..., 0., 0., 0.],\n",
       "          [0., 0., 0.,  ..., 0., 0., 0.],\n",
       "          ...,\n",
       "          [0., 0., 0.,  ..., 0., 0., 0.],\n",
       "          [0., 0., 0.,  ..., 0., 0., 0.],\n",
       "          [0., 0., 0.,  ..., 0., 0., 0.]],\n",
       "\n",
       "         [[0., 0., 0.,  ..., 0., 0., 0.],\n",
       "          [0., 0., 0.,  ..., 0., 0., 0.],\n",
       "          [0., 0., 0.,  ..., 0., 0., 0.],\n",
       "          ...,\n",
       "          [0., 0., 0.,  ..., 0., 0., 0.],\n",
       "          [0., 0., 0.,  ..., 0., 0., 0.],\n",
       "          [0., 0., 0.,  ..., 0., 0., 0.]]]], device='cuda:0',\n",
       "       grad_fn=<PermuteBackward>)"
      ]
     },
     "execution_count": 23,
     "metadata": {},
     "output_type": "execute_result"
    }
   ],
   "source": [
    "img.permute(0,3,1,2)"
   ]
  },
  {
   "cell_type": "code",
   "execution_count": 24,
   "id": "0de21d17",
   "metadata": {},
   "outputs": [
    {
     "name": "stderr",
     "output_type": "stream",
     "text": [
      "[W accumulate_grad.h:185] Warning: grad and param do not obey the gradient layout contract. This is not an error, but may impair performance.\n",
      "grad.sizes() = [128, 992, 1, 1], strides() = [992, 1, 1, 1]\n",
      "param.sizes() = [128, 992, 1, 1], strides() = [992, 1, 992, 992] (function operator())\n"
     ]
    },
    {
     "ename": "RuntimeError",
     "evalue": "Function RenderFunctionBackward returned an invalid gradient at index 1 - got [] but expected shape compatible with [1]",
     "output_type": "error",
     "traceback": [
      "\u001b[0;31m---------------------------------------------------------------------------\u001b[0m",
      "\u001b[0;31mRuntimeError\u001b[0m                              Traceback (most recent call last)",
      "\u001b[1;32m/home/naka/code/side/genpen/scratch/068_refactor.ipynb Cell 19'\u001b[0m in \u001b[0;36m<cell line: 18>\u001b[0;34m()\u001b[0m\n\u001b[1;32m     <a href='vscode-notebook-cell:/home/naka/code/side/genpen/scratch/068_refactor.ipynb#ch0000131?line=14'>15</a>\u001b[0m weighted_votes \u001b[39m=\u001b[39m torch\u001b[39m.\u001b[39marange(\u001b[39m10\u001b[39m, dtype\u001b[39m=\u001b[39mtorch\u001b[39m.\u001b[39mfloat, device\u001b[39m=\u001b[39mdevice) \u001b[39m+\u001b[39m \u001b[39m1\u001b[39m\n\u001b[1;32m     <a href='vscode-notebook-cell:/home/naka/code/side/genpen/scratch/068_refactor.ipynb#ch0000131?line=15'>16</a>\u001b[0m loss \u001b[39m=\u001b[39m \u001b[39m-\u001b[39mtorch\u001b[39m.\u001b[39mmatmul(scores, weighted_votes)\n\u001b[0;32m---> <a href='vscode-notebook-cell:/home/naka/code/side/genpen/scratch/068_refactor.ipynb#ch0000131?line=17'>18</a>\u001b[0m loss\u001b[39m.\u001b[39;49mbackward()\n\u001b[1;32m     <a href='vscode-notebook-cell:/home/naka/code/side/genpen/scratch/068_refactor.ipynb#ch0000131?line=18'>19</a>\u001b[0m optim\u001b[39m.\u001b[39mstep()\n",
      "File \u001b[0;32m~/anaconda3/envs/genpen/lib/python3.8/site-packages/torch/_tensor.py:255\u001b[0m, in \u001b[0;36mTensor.backward\u001b[0;34m(self, gradient, retain_graph, create_graph, inputs)\u001b[0m\n\u001b[1;32m    246\u001b[0m \u001b[39mif\u001b[39;00m has_torch_function_unary(\u001b[39mself\u001b[39m):\n\u001b[1;32m    247\u001b[0m     \u001b[39mreturn\u001b[39;00m handle_torch_function(\n\u001b[1;32m    248\u001b[0m         Tensor\u001b[39m.\u001b[39mbackward,\n\u001b[1;32m    249\u001b[0m         (\u001b[39mself\u001b[39m,),\n\u001b[0;32m   (...)\u001b[0m\n\u001b[1;32m    253\u001b[0m         create_graph\u001b[39m=\u001b[39mcreate_graph,\n\u001b[1;32m    254\u001b[0m         inputs\u001b[39m=\u001b[39minputs)\n\u001b[0;32m--> 255\u001b[0m torch\u001b[39m.\u001b[39;49mautograd\u001b[39m.\u001b[39;49mbackward(\u001b[39mself\u001b[39;49m, gradient, retain_graph, create_graph, inputs\u001b[39m=\u001b[39;49minputs)\n",
      "File \u001b[0;32m~/anaconda3/envs/genpen/lib/python3.8/site-packages/torch/autograd/__init__.py:147\u001b[0m, in \u001b[0;36mbackward\u001b[0;34m(tensors, grad_tensors, retain_graph, create_graph, grad_variables, inputs)\u001b[0m\n\u001b[1;32m    144\u001b[0m \u001b[39mif\u001b[39;00m retain_graph \u001b[39mis\u001b[39;00m \u001b[39mNone\u001b[39;00m:\n\u001b[1;32m    145\u001b[0m     retain_graph \u001b[39m=\u001b[39m create_graph\n\u001b[0;32m--> 147\u001b[0m Variable\u001b[39m.\u001b[39;49m_execution_engine\u001b[39m.\u001b[39;49mrun_backward(\n\u001b[1;32m    148\u001b[0m     tensors, grad_tensors_, retain_graph, create_graph, inputs,\n\u001b[1;32m    149\u001b[0m     allow_unreachable\u001b[39m=\u001b[39;49m\u001b[39mTrue\u001b[39;49;00m, accumulate_grad\u001b[39m=\u001b[39;49m\u001b[39mTrue\u001b[39;49;00m)\n",
      "\u001b[0;31mRuntimeError\u001b[0m: Function RenderFunctionBackward returned an invalid gradient at index 1 - got [] but expected shape compatible with [1]"
     ]
    }
   ],
   "source": [
    "optim.zero_grad()\n",
    "    \n",
    "shapes, shape_groups, tensors = canvas_net.forward()\n",
    "img = canvas.render(shapes, shape_groups)\n",
    "\n",
    "# transform = transforms.Compose([\n",
    "#             transforms.Resize(224),\n",
    "#             transforms.CenterCrop(224),\n",
    "#         ])\n",
    "# img = transform(img)\n",
    "# img = img.swapdims(1,3)\n",
    "# img = img.reshape(1,3,224,224)\n",
    "img = img.permute(0,3,1,2)\n",
    "scores = model_ft(img)\n",
    "weighted_votes = torch.arange(10, dtype=torch.float, device=device) + 1\n",
    "loss = -torch.matmul(scores, weighted_votes)\n",
    "\n",
    "loss.backward()\n",
    "optim.step()"
   ]
  },
  {
   "cell_type": "code",
   "execution_count": 166,
   "id": "eecced2a",
   "metadata": {},
   "outputs": [],
   "source": [
    "img = canvas.render(shapes, shape_groups, as_pil=True)\n",
    "\n",
    "transform = transforms.Compose([\n",
    "            transforms.Resize(224),\n",
    "            transforms.CenterCrop(224),\n",
    "            transforms.ToTensor(),\n",
    "        ])\n",
    "_img = transform(img).to(device)\n",
    "\n",
    "with torch.no_grad():\n",
    "    scores = model_ft(_img.view(1,3,224,224))\n",
    "    weighted_votes = torch.arange(10, dtype=torch.float, device=device) + 1\n",
    "    mean = torch.matmul(scores, weighted_votes)"
   ]
  },
  {
   "cell_type": "code",
   "execution_count": 17,
   "id": "e03f5133",
   "metadata": {},
   "outputs": [],
   "source": [
    "img = canvas.render(shapes, shape_groups)\n",
    "\n",
    "transform = transforms.Compose([\n",
    "            transforms.Resize(224),\n",
    "            transforms.CenterCrop(224),\n",
    "        ])\n"
   ]
  },
  {
   "cell_type": "code",
   "execution_count": 21,
   "id": "8fddb887",
   "metadata": {},
   "outputs": [
    {
     "ename": "TypeError",
     "evalue": "swapdims() takes 2 positional arguments but 3 were given",
     "output_type": "error",
     "traceback": [
      "\u001b[0;31m---------------------------------------------------------------------------\u001b[0m",
      "\u001b[0;31mTypeError\u001b[0m                                 Traceback (most recent call last)",
      "\u001b[1;32m/home/naka/code/side/genpen/scratch/068_refactor.ipynb Cell 21'\u001b[0m in \u001b[0;36m<cell line: 1>\u001b[0;34m()\u001b[0m\n\u001b[0;32m----> <a href='vscode-notebook-cell:/home/naka/code/side/genpen/scratch/068_refactor.ipynb#ch0000151?line=0'>1</a>\u001b[0m img\u001b[39m.\u001b[39;49mswapdims(\u001b[39m1\u001b[39;49m,\u001b[39m2\u001b[39;49m,\u001b[39m3\u001b[39;49m)\n",
      "\u001b[0;31mTypeError\u001b[0m: swapdims() takes 2 positional arguments but 3 were given"
     ]
    }
   ],
   "source": [
    "img.swapdims(1,3)"
   ]
  },
  {
   "cell_type": "code",
   "execution_count": 18,
   "id": "dfb2ec81",
   "metadata": {},
   "outputs": [
    {
     "ename": "RuntimeError",
     "evalue": "CUDA out of memory. Tried to allocate 3.13 GiB (GPU 0; 7.79 GiB total capacity; 28.52 MiB already allocated; 2.92 GiB free; 48.00 MiB reserved in total by PyTorch)",
     "output_type": "error",
     "traceback": [
      "\u001b[0;31m---------------------------------------------------------------------------\u001b[0m",
      "\u001b[0;31mRuntimeError\u001b[0m                              Traceback (most recent call last)",
      "\u001b[1;32m/home/naka/code/side/genpen/scratch/068_refactor.ipynb Cell 21'\u001b[0m in \u001b[0;36m<cell line: 1>\u001b[0;34m()\u001b[0m\n\u001b[0;32m----> <a href='vscode-notebook-cell:/home/naka/code/side/genpen/scratch/068_refactor.ipynb#ch0000150?line=0'>1</a>\u001b[0m transform(img)\n",
      "File \u001b[0;32m~/.local/lib/python3.8/site-packages/torchvision/transforms/transforms.py:60\u001b[0m, in \u001b[0;36mCompose.__call__\u001b[0;34m(self, img)\u001b[0m\n\u001b[1;32m     58\u001b[0m \u001b[39mdef\u001b[39;00m \u001b[39m__call__\u001b[39m(\u001b[39mself\u001b[39m, img):\n\u001b[1;32m     59\u001b[0m     \u001b[39mfor\u001b[39;00m t \u001b[39min\u001b[39;00m \u001b[39mself\u001b[39m\u001b[39m.\u001b[39mtransforms:\n\u001b[0;32m---> 60\u001b[0m         img \u001b[39m=\u001b[39m t(img)\n\u001b[1;32m     61\u001b[0m     \u001b[39mreturn\u001b[39;00m img\n",
      "File \u001b[0;32m~/anaconda3/envs/genpen/lib/python3.8/site-packages/torch/nn/modules/module.py:1051\u001b[0m, in \u001b[0;36mModule._call_impl\u001b[0;34m(self, *input, **kwargs)\u001b[0m\n\u001b[1;32m   1047\u001b[0m \u001b[39m# If we don't have any hooks, we want to skip the rest of the logic in\u001b[39;00m\n\u001b[1;32m   1048\u001b[0m \u001b[39m# this function, and just call forward.\u001b[39;00m\n\u001b[1;32m   1049\u001b[0m \u001b[39mif\u001b[39;00m \u001b[39mnot\u001b[39;00m (\u001b[39mself\u001b[39m\u001b[39m.\u001b[39m_backward_hooks \u001b[39mor\u001b[39;00m \u001b[39mself\u001b[39m\u001b[39m.\u001b[39m_forward_hooks \u001b[39mor\u001b[39;00m \u001b[39mself\u001b[39m\u001b[39m.\u001b[39m_forward_pre_hooks \u001b[39mor\u001b[39;00m _global_backward_hooks\n\u001b[1;32m   1050\u001b[0m         \u001b[39mor\u001b[39;00m _global_forward_hooks \u001b[39mor\u001b[39;00m _global_forward_pre_hooks):\n\u001b[0;32m-> 1051\u001b[0m     \u001b[39mreturn\u001b[39;00m forward_call(\u001b[39m*\u001b[39;49m\u001b[39minput\u001b[39;49m, \u001b[39m*\u001b[39;49m\u001b[39m*\u001b[39;49mkwargs)\n\u001b[1;32m   1052\u001b[0m \u001b[39m# Do not call functions when jit is used\u001b[39;00m\n\u001b[1;32m   1053\u001b[0m full_backward_hooks, non_full_backward_hooks \u001b[39m=\u001b[39m [], []\n",
      "File \u001b[0;32m~/.local/lib/python3.8/site-packages/torchvision/transforms/transforms.py:297\u001b[0m, in \u001b[0;36mResize.forward\u001b[0;34m(self, img)\u001b[0m\n\u001b[1;32m    289\u001b[0m \u001b[39mdef\u001b[39;00m \u001b[39mforward\u001b[39m(\u001b[39mself\u001b[39m, img):\n\u001b[1;32m    290\u001b[0m     \u001b[39m\"\"\"\u001b[39;00m\n\u001b[1;32m    291\u001b[0m \u001b[39m    Args:\u001b[39;00m\n\u001b[1;32m    292\u001b[0m \u001b[39m        img (PIL Image or Tensor): Image to be scaled.\u001b[39;00m\n\u001b[0;32m   (...)\u001b[0m\n\u001b[1;32m    295\u001b[0m \u001b[39m        PIL Image or Tensor: Rescaled image.\u001b[39;00m\n\u001b[1;32m    296\u001b[0m \u001b[39m    \"\"\"\u001b[39;00m\n\u001b[0;32m--> 297\u001b[0m     \u001b[39mreturn\u001b[39;00m F\u001b[39m.\u001b[39;49mresize(img, \u001b[39mself\u001b[39;49m\u001b[39m.\u001b[39;49msize, \u001b[39mself\u001b[39;49m\u001b[39m.\u001b[39;49minterpolation, \u001b[39mself\u001b[39;49m\u001b[39m.\u001b[39;49mmax_size, \u001b[39mself\u001b[39;49m\u001b[39m.\u001b[39;49mantialias)\n",
      "File \u001b[0;32m~/.local/lib/python3.8/site-packages/torchvision/transforms/functional.py:403\u001b[0m, in \u001b[0;36mresize\u001b[0;34m(img, size, interpolation, max_size, antialias)\u001b[0m\n\u001b[1;32m    400\u001b[0m     pil_interpolation \u001b[39m=\u001b[39m pil_modes_mapping[interpolation]\n\u001b[1;32m    401\u001b[0m     \u001b[39mreturn\u001b[39;00m F_pil\u001b[39m.\u001b[39mresize(img, size\u001b[39m=\u001b[39msize, interpolation\u001b[39m=\u001b[39mpil_interpolation, max_size\u001b[39m=\u001b[39mmax_size)\n\u001b[0;32m--> 403\u001b[0m \u001b[39mreturn\u001b[39;00m F_t\u001b[39m.\u001b[39;49mresize(img, size\u001b[39m=\u001b[39;49msize, interpolation\u001b[39m=\u001b[39;49minterpolation\u001b[39m.\u001b[39;49mvalue, max_size\u001b[39m=\u001b[39;49mmax_size, antialias\u001b[39m=\u001b[39;49mantialias)\n",
      "File \u001b[0;32m~/.local/lib/python3.8/site-packages/torchvision/transforms/functional_tensor.py:552\u001b[0m, in \u001b[0;36mresize\u001b[0;34m(img, size, interpolation, max_size, antialias)\u001b[0m\n\u001b[1;32m    550\u001b[0m         img \u001b[39m=\u001b[39m torch\u001b[39m.\u001b[39mops\u001b[39m.\u001b[39mtorchvision\u001b[39m.\u001b[39m_interpolate_bicubic_aa(img, [new_h, new_w], align_corners\u001b[39m=\u001b[39m\u001b[39mFalse\u001b[39;00m)\n\u001b[1;32m    551\u001b[0m \u001b[39melse\u001b[39;00m:\n\u001b[0;32m--> 552\u001b[0m     img \u001b[39m=\u001b[39m interpolate(img, size\u001b[39m=\u001b[39;49m[new_h, new_w], mode\u001b[39m=\u001b[39;49minterpolation, align_corners\u001b[39m=\u001b[39;49malign_corners)\n\u001b[1;32m    554\u001b[0m \u001b[39mif\u001b[39;00m interpolation \u001b[39m==\u001b[39m \u001b[39m\"\u001b[39m\u001b[39mbicubic\u001b[39m\u001b[39m\"\u001b[39m \u001b[39mand\u001b[39;00m out_dtype \u001b[39m==\u001b[39m torch\u001b[39m.\u001b[39muint8:\n\u001b[1;32m    555\u001b[0m     img \u001b[39m=\u001b[39m img\u001b[39m.\u001b[39mclamp(\u001b[39mmin\u001b[39m\u001b[39m=\u001b[39m\u001b[39m0\u001b[39m, \u001b[39mmax\u001b[39m\u001b[39m=\u001b[39m\u001b[39m255\u001b[39m)\n",
      "File \u001b[0;32m~/anaconda3/envs/genpen/lib/python3.8/site-packages/torch/nn/functional.py:3709\u001b[0m, in \u001b[0;36minterpolate\u001b[0;34m(input, size, scale_factor, mode, align_corners, recompute_scale_factor)\u001b[0m\n\u001b[1;32m   3707\u001b[0m \u001b[39mif\u001b[39;00m \u001b[39minput\u001b[39m\u001b[39m.\u001b[39mdim() \u001b[39m==\u001b[39m \u001b[39m4\u001b[39m \u001b[39mand\u001b[39;00m mode \u001b[39m==\u001b[39m \u001b[39m\"\u001b[39m\u001b[39mbilinear\u001b[39m\u001b[39m\"\u001b[39m:\n\u001b[1;32m   3708\u001b[0m     \u001b[39massert\u001b[39;00m align_corners \u001b[39mis\u001b[39;00m \u001b[39mnot\u001b[39;00m \u001b[39mNone\u001b[39;00m\n\u001b[0;32m-> 3709\u001b[0m     \u001b[39mreturn\u001b[39;00m torch\u001b[39m.\u001b[39;49m_C\u001b[39m.\u001b[39;49m_nn\u001b[39m.\u001b[39;49mupsample_bilinear2d(\u001b[39minput\u001b[39;49m, output_size, align_corners, scale_factors)\n\u001b[1;32m   3710\u001b[0m \u001b[39mif\u001b[39;00m \u001b[39minput\u001b[39m\u001b[39m.\u001b[39mdim() \u001b[39m==\u001b[39m \u001b[39m5\u001b[39m \u001b[39mand\u001b[39;00m mode \u001b[39m==\u001b[39m \u001b[39m\"\u001b[39m\u001b[39mtrilinear\u001b[39m\u001b[39m\"\u001b[39m:\n\u001b[1;32m   3711\u001b[0m     \u001b[39massert\u001b[39;00m align_corners \u001b[39mis\u001b[39;00m \u001b[39mnot\u001b[39;00m \u001b[39mNone\u001b[39;00m\n",
      "\u001b[0;31mRuntimeError\u001b[0m: CUDA out of memory. Tried to allocate 3.13 GiB (GPU 0; 7.79 GiB total capacity; 28.52 MiB already allocated; 2.92 GiB free; 48.00 MiB reserved in total by PyTorch)"
     ]
    }
   ],
   "source": [
    "transform(img)"
   ]
  },
  {
   "cell_type": "code",
   "execution_count": null,
   "id": "cfb998df",
   "metadata": {},
   "outputs": [],
   "source": [
    "\n",
    "scores = model_ft(img.view(1,3,224,224))\n",
    "weighted_votes = torch.arange(10, dtype=torch.float, device=device) + 1\n",
    "mean = torch.matmul(scores, weighted_votes)"
   ]
  },
  {
   "cell_type": "code",
   "execution_count": 168,
   "id": "4d7df7ca",
   "metadata": {},
   "outputs": [
    {
     "data": {
      "text/plain": [
       "tensor([[0.0978, 0.0573, 0.0992, 0.0732, 0.1403, 0.0353, 0.0705, 0.0756, 0.1146,\n",
       "         0.2363]], device='cuda:0')"
      ]
     },
     "execution_count": 168,
     "metadata": {},
     "output_type": "execute_result"
    }
   ],
   "source": [
    "scores"
   ]
  },
  {
   "cell_type": "code",
   "execution_count": 33,
   "id": "d119ae1f",
   "metadata": {},
   "outputs": [
    {
     "name": "stdout",
     "output_type": "stream",
     "text": [
      "saved 20220701-161945_445387-bbd12-d39635 to s3://algorithmic-ink/current_nft_id\n"
     ]
    }
   ],
   "source": [
    "nft_id = fn.new_nft_id()\n",
    "\n",
    "raster_videos_dir = Path('/home/naka/art/raster_videos')\n",
    "nft_dir = raster_videos_dir.joinpath(nft_id)\n",
    "\n",
    "if not nft_dir.exists():\n",
    "    os.mkdir(nft_dir) "
   ]
  },
  {
   "cell_type": "code",
   "execution_count": 35,
   "id": "01674600",
   "metadata": {},
   "outputs": [
    {
     "data": {
      "image/png": "[encoded data removed]",
      "text/plain": [
       "<PIL.Image.Image image mode=RGB size=800x800 at 0x7FE60C213EB0>"
      ]
     },
     "execution_count": 35,
     "metadata": {},
     "output_type": "execute_result"
    }
   ],
   "source": []
  },
  {
   "cell_type": "code",
   "execution_count": 30,
   "id": "35283afb",
   "metadata": {},
   "outputs": [
    {
     "data": {
      "image/png": "[encoded data removed]",
      "text/plain": [
       "<IPython.core.display.Image object>"
      ]
     },
     "metadata": {},
     "output_type": "display_data"
    },
    {
     "name": "stderr",
     "output_type": "stream",
     "text": [
      "100%|██████████| 100/100 [00:00<00:00, 153.69it/s]"
     ]
    },
    {
     "name": "stdout",
     "output_type": "stream",
     "text": [
      "big_rad_loss 10701174210560.0\n",
      "overlap_loss 7308312.0\n",
      "distance_loss 133935.53125\n",
      "loss 10701181550592.0\n"
     ]
    },
    {
     "name": "stderr",
     "output_type": "stream",
     "text": [
      "\n"
     ]
    }
   ],
   "source": [
    "canvas = gdg.Canvas(width=800, height=800)\n",
    "frame_counter = 0\n",
    "display_freq = 10\n",
    "save = False\n",
    "for ii in tqdm(range(100)):\n",
    "    losses, scaled_losses, shapes, shape_groups, tensors = train(\n",
    "        loss_weights = {\n",
    "            'big_rad_loss': 1,\n",
    "            'overlap_loss': 1,\n",
    "            'distance_loss': 1,\n",
    "            'out_of_bounds_loss': 1e0, \n",
    "            },\n",
    "        canvas_net=canvas_net,\n",
    "        optim=optim,\n",
    "    )\n",
    "    if ii % display_freq == 0:\n",
    "        \n",
    "        display.clear_output(wait=True)\n",
    "        img = canvas.render(shapes, shape_groups, as_pil=True)\n",
    "\n",
    "        fp = nft_dir.joinpath(f'{frame_counter:04d}.png')\n",
    "        img.save(fp)\n",
    "        display.display(display.Image(fp))\n",
    "            \n",
    "        frame_counter += 1\n",
    "        \n",
    "for k,v in scaled_losses.items():\n",
    "    print(k, float(v))\n",
    "\n",
    "# img = render_circles(cc.to_circle_ps())\n",
    "# to_pil(img)"
   ]
  },
  {
   "cell_type": "code",
   "execution_count": 2467,
   "id": "ab6d374d",
   "metadata": {},
   "outputs": [
    {
     "data": {
      "text/plain": [
       "PosixPath('/home/naka/art/raster_videos/20220115-150952_169288-08f81-f7fd2a')"
      ]
     },
     "execution_count": 2467,
     "metadata": {},
     "output_type": "execute_result"
    }
   ],
   "source": [
    "nft_dir"
   ]
  },
  {
   "cell_type": "code",
   "execution_count": null,
   "id": "337b5fb5",
   "metadata": {},
   "outputs": [],
   "source": []
  },
  {
   "cell_type": "code",
   "execution_count": 2563,
   "id": "67631692-1a85-4877-809a-b11b1047349d",
   "metadata": {},
   "outputs": [],
   "source": [
    "filenames = sorted([fp.as_posix() for fp in nft_dir.glob('*.png')])"
   ]
  },
  {
   "cell_type": "code",
   "execution_count": 2564,
   "id": "0114e71e-caab-44f5-996a-2d978097fc0b",
   "metadata": {},
   "outputs": [],
   "source": [
    "import moviepy\n",
    "from moviepy.video.io.ImageSequenceClip import ImageSequenceClip"
   ]
  },
  {
   "cell_type": "code",
   "execution_count": 2567,
   "id": "083dc7be-03f3-43e5-a6e8-2d27ea537bec",
   "metadata": {},
   "outputs": [
    {
     "name": "stderr",
     "output_type": "stream",
     "text": [
      "t:   0%|          | 0/701 [00:00<?, ?it/s, now=None]"
     ]
    },
    {
     "name": "stdout",
     "output_type": "stream",
     "text": [
      "Moviepy - Building video /home/naka/art/raster_videos/20220115-152135_807294-08f81-a0a461/20220115-152135_807294-08f81-a0a461.mp4.\n",
      "Moviepy - Writing video /home/naka/art/raster_videos/20220115-152135_807294-08f81-a0a461/20220115-152135_807294-08f81-a0a461.mp4\n",
      "\n"
     ]
    },
    {
     "name": "stderr",
     "output_type": "stream",
     "text": [
      "                                                               \r"
     ]
    },
    {
     "name": "stdout",
     "output_type": "stream",
     "text": [
      "Moviepy - Done !\n",
      "Moviepy - video ready /home/naka/art/raster_videos/20220115-152135_807294-08f81-a0a461/20220115-152135_807294-08f81-a0a461.mp4\n"
     ]
    }
   ],
   "source": [
    "clipout = ImageSequenceClip(filenames, fps=30)\n",
    "clipout.write_videofile(nft_dir.joinpath(f'{nft_id}.mp4').as_posix())"
   ]
  },
  {
   "cell_type": "code",
   "execution_count": 2387,
   "id": "d497544d",
   "metadata": {},
   "outputs": [
    {
     "data": {
      "text/plain": [
       "550"
      ]
     },
     "execution_count": 2387,
     "metadata": {},
     "output_type": "execute_result"
    }
   ],
   "source": [
    "len(filenames)"
   ]
  },
  {
   "cell_type": "code",
   "execution_count": 1817,
   "id": "8375fac0",
   "metadata": {},
   "outputs": [
    {
     "data": {
      "text/plain": [
       "torch.Size([1, 10])"
      ]
     },
     "execution_count": 1817,
     "metadata": {},
     "output_type": "execute_result"
    }
   ],
   "source": [
    "x = model.get_net_output()\n",
    "model.get_xs(x).shape"
   ]
  },
  {
   "cell_type": "code",
   "execution_count": 1818,
   "id": "0085ccb2",
   "metadata": {},
   "outputs": [
    {
     "data": {
      "text/plain": [
       "tensor([0.0000, 0.0000, 0.0592, 0.0312, 0.0000, 0.0079, 0.0069, 0.0367, 0.0115,\n",
       "        0.0093], grad_fn=<ReluBackward0>)"
      ]
     },
     "execution_count": 1818,
     "metadata": {},
     "output_type": "execute_result"
    }
   ],
   "source": [
    "model.radius_outputs(x)"
   ]
  },
  {
   "cell_type": "code",
   "execution_count": 1565,
   "id": "bdacce15",
   "metadata": {},
   "outputs": [
    {
     "name": "stderr",
     "output_type": "stream",
     "text": [
      "/home/naka/anaconda3/envs/genpen/lib/python3.8/site-packages/torch/nn/init.py:388: UserWarning: Initializing zero-element tensors is a no-op\n",
      "  warnings.warn(\"Initializing zero-element tensors is a no-op\")\n",
      "/home/naka/anaconda3/envs/genpen/lib/python3.8/site-packages/torch/nn/modules/lazy.py:178: UserWarning: Lazy modules are a new feature under heavy development so changes to the API or functionality can happen at any moment.\n",
      "  warnings.warn('Lazy modules are a new feature under heavy development '\n"
     ]
    }
   ],
   "source": [
    "n_circles = 100\n",
    "init_rad_range = (0.001,1)\n",
    "init_x_range = (CANVAS_WIDTH*0.1, CANVAS_WIDTH*0.9)\n",
    "init_y_range = (CANVAS_HEIGHT*0.1, CANVAS_HEIGHT*0.9)\n",
    "xmin, xmax = init_x_range\n",
    "ymin, ymax = init_y_range\n",
    "\n",
    "net = nn.Sequential(\n",
    "    nn.Linear(0, n_circles),\n",
    "    nn.ReLU(),\n",
    "    nn.LazyLinear(n_circles),\n",
    "    nn.ReLU(),\n",
    "    nn.LazyLinear(n_circles),\n",
    "    nn.ReLU(),\n",
    ")\n",
    "\n",
    "xs = torch.rand(n_circles, 2) * (xmax - xmin) + xmin\n",
    "ys = torch.rand(n_circles, 2) * (ymax - ymin) + ymin\n",
    "\n",
    "centers = torch.cat([xs, ys], axis=1)\n",
    "radii = torch.rand(n_circles) * (init_rad_range[1] - init_rad_range[0]) + init_rad_range[0]\n",
    "colors = torch.ones((n_circles,4))\n",
    "stroke_widths = torch.ones((n_circles,1)) * 1\n",
    "\n",
    "cc = CircleCollection(centers=centers, radii=radii, stroke_widths=stroke_widths, colors=colors)"
   ]
  },
  {
   "cell_type": "code",
   "execution_count": 1563,
   "id": "24a212cb",
   "metadata": {},
   "outputs": [],
   "source": [
    "n_circles = 100\n",
    "init_rad_range = (0.001,1)\n",
    "init_x_range = (CANVAS_WIDTH*0.1, CANVAS_WIDTH*0.9)\n",
    "init_y_range = (CANVAS_HEIGHT*0.1, CANVAS_HEIGHT*0.9)\n",
    "xmin, xmax = init_x_range\n",
    "ymin, ymax = init_y_range\n",
    "\n",
    "xs = np.interp(np.random.rand(n_circles), [0, 1], init_x_range)\n",
    "ys = np.interp(np.random.rand(n_circles), [0, 1], init_y_range)\n",
    "centers = [(x, y) for x, y in zip(xs, ys)]\n",
    "radii = np.interp(stats.beta(a=1, b=3).rvs(n_circles), (0, 1), init_rad_range)\n",
    "colors = np.ones((n_circles,4))\n",
    "stroke_widths = np.ones((n_circles,1)) * 1\n",
    "\n",
    "cc = CircleCollection.from_arrays(centers=centers, radii=radii, stroke_widths=stroke_widths, colors=colors)"
   ]
  },
  {
   "cell_type": "code",
   "execution_count": 1612,
   "id": "33b2e79b",
   "metadata": {},
   "outputs": [
    {
     "data": {
      "image/png": "[encoded data removed]",
      "text/plain": [
       "<PIL.Image.Image image mode=RGB size=1024x1024 at 0x7FB1C053FA30>"
      ]
     },
     "execution_count": 1612,
     "metadata": {},
     "output_type": "execute_result"
    }
   ],
   "source": [
    "img = render_circles(cc)\n",
    "to_pil(img)\n"
   ]
  },
  {
   "cell_type": "code",
   "execution_count": null,
   "id": "af111d85-44fa-4c0b-afe9-9fa1e9af2088",
   "metadata": {},
   "outputs": [],
   "source": [
    "quality_val = 100\n",
    "now = fn.get_time()\n",
    "filepath = nft_dir.joinpath(f'{nft_id}_{now}_0000.jpeg')\n",
    "alpha_composite.convert('RGB').save(filepath, quality=quality_val)"
   ]
  },
  {
   "cell_type": "code",
   "execution_count": null,
   "id": "eaa7ff38",
   "metadata": {},
   "outputs": [],
   "source": []
  }
 ],
 "metadata": {
  "interpreter": {
   "hash": "8dd23eb8a106e10a9d6673bd6cb60486dc3129d9782f6ed87a7bc18aa7582fa4"
  },
  "kernelspec": {
   "display_name": "Python 3.8.8 64-bit ('genpen': conda)",
   "name": "python3"
  },
  "language_info": {
   "codemirror_mode": {
    "name": "ipython",
    "version": 3
   },
   "file_extension": ".py",
   "mimetype": "text/x-python",
   "name": "python",
   "nbconvert_exporter": "python",
   "pygments_lexer": "ipython3",
   "version": "3.8.8"
  }
 },
 "nbformat": 4,
 "nbformat_minor": 5
}

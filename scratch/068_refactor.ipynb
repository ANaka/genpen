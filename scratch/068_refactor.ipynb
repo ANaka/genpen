{
 "cells": [
  {
   "cell_type": "code",
   "execution_count": 205,
   "id": "59f5e1c8-8335-43a2-be12-64bf1581343e",
   "metadata": {},
   "outputs": [
    {
     "name": "stdout",
     "output_type": "stream",
     "text": [
      "The autoreload extension is already loaded. To reload it, use:\n",
      "  %reload_ext autoreload\n"
     ]
    }
   ],
   "source": [
    "\n",
    "import itertools\n",
    "import numpy as np\n",
    "import os\n",
    "import seaborn as sns\n",
    "from tqdm import tqdm\n",
    "from dataclasses import asdict, dataclass, field\n",
    "import vsketch\n",
    "import shapely.geometry as sg\n",
    "from shapely.geometry import box, MultiLineString, Point, MultiPoint, Polygon, MultiPolygon, LineString\n",
    "import shapely.affinity as sa\n",
    "import shapely.ops as so\n",
    "import matplotlib.pyplot as plt\n",
    "import pandas as pd\n",
    "\n",
    "import vpype_cli\n",
    "from typing import List, Generic\n",
    "from genpen import genpen as gp\n",
    "from genpen.utils import Paper\n",
    "from scipy import stats\n",
    "import geopandas\n",
    "from shapely.errors import TopologicalError\n",
    "import functools\n",
    "import vpype\n",
    "from skimage import io\n",
    "from pathlib import Path\n",
    "\n",
    "from sklearn.preprocessing import minmax_scale\n",
    "from skimage import feature\n",
    "from skimage import exposure\n",
    "from torch import Tensor\n",
    "from torch import nn\n",
    "from skimage import filters\n",
    "from skimage.color import rgb2gray\n",
    "from skimage.transform import rescale, resize, downscale_local_mean\n",
    "from skimage.morphology import disk\n",
    "from numpy.random import default_rng\n",
    "\n",
    "\n",
    "from PIL import Image\n",
    "import attr\n",
    "\n",
    "import cv2\n",
    "from rasterio import features\n",
    "import rasterio\n",
    "\n",
    "import pydiffvg as dg\n",
    "import torch\n",
    "import skimage\n",
    "import numpy as np\n",
    "from torchvision.transforms import functional as TF\n",
    "from IPython import display\n",
    "from copy import deepcopy\n",
    "import fn\n",
    "import torch.nn.functional as F\n",
    "\n",
    "from tempfile import NamedTemporaryFile\n",
    "from genpen.diffvg import diffvg as gdg\n",
    "import clip\n",
    "import copy\n",
    "\n",
    "%load_ext autoreload\n",
    "%autoreload 2"
   ]
  },
  {
   "cell_type": "code",
   "execution_count": 206,
   "id": "6d4b0498-c89b-4334-b192-ff2de57bd621",
   "metadata": {},
   "outputs": [],
   "source": [
    "# Use GPU if available\n",
    "\n",
    "device = torch.device('cuda:0' if torch.cuda.is_available() else 'cpu')\n",
    "clip_model, preprocess = clip.load(\"ViT-B/32\", device=device)\n",
    "dg.set_device(device)"
   ]
  },
  {
   "cell_type": "code",
   "execution_count": 337,
   "id": "ae04eb12",
   "metadata": {},
   "outputs": [],
   "source": [
    "from genpen.diffvg.diffvg import (\n",
    "    ParamHead, ShapeGroupMaker, \n",
    "    ShapeMaker, LazySigmoid, LazyHardsigmoid,\n",
    "    CanvasNet, LazyRelu,\n",
    "    CanvasNIMANet, CanvasCLIPNet, init_weights,\n",
    "    EdgeToEdgeDistanceLoss, OutOfBoundsLoss, TargetImageLoss,\n",
    "    NIMALoss, CLIPLoss\n",
    "    )\n",
    "\n",
    "def rescale(x, min_val, max_val):\n",
    "    min_val = torch.tensor(min_val)\n",
    "    max_val = torch.tensor(max_val)\n",
    "    return x * (max_val - min_val) + min_val\n",
    "\n",
    "class Rescaler(nn.Module):\n",
    "    def __init__(self, min_val, max_val):\n",
    "        super().__init__()\n",
    "        self.min_val = min_val\n",
    "        self.max_val = max_val\n",
    "        \n",
    "    def forward(self, x):\n",
    "        return x * (self.max_val - self.min_val) + self.min_val\n",
    "\n",
    "class Reshape(nn.Module):\n",
    "    \n",
    "    def __init__(self, dims):\n",
    "        super().__init__()\n",
    "        self.dims = dims\n",
    "        \n",
    "    def forward(self, x):\n",
    "        return x.view(self.dims)\n",
    "    \n",
    "class SigmoidParameter(nn.Module):\n",
    "    \n",
    "    def __init__(self, n_shapes, n_params):\n",
    "        super().__init__()\n",
    "        self.n_shapes = n_shapes\n",
    "        self.n_params = n_params\n",
    "        self.net = nn.Sequential(\n",
    "            LazyHardsigmoid(n_params*n_shapes),\n",
    "            Reshape((n_shapes, n_params)),\n",
    "        )\n",
    "        \n",
    "    def forward(self, x):\n",
    "        return self.net(x)\n",
    "    \n",
    "class Squeezer(nn.Module):\n",
    "    \n",
    "    def forward(self, x):\n",
    "        return x.squeeze()\n",
    "    \n",
    "def train(canvas_net, optim, loss_weights=None):\n",
    "    \n",
    "    outputs = canvas_net.forward()\n",
    "    tensors = outputs['tensors']\n",
    "    shapes = outputs['shapes']\n",
    "    shape_groups = outputs['shape_groups']\n",
    "    optim.zero_grad()\n",
    "    losses = {}\n",
    "    if loss_weights is None:\n",
    "        loss_weights = {\n",
    "            'big_rad_loss': 1,\n",
    "            'overlap_loss': 1,\n",
    "            'distance_loss': 1,\n",
    "            'out_of_bounds_loss': 1,\n",
    "            \n",
    "        }\n",
    "    overlap_buffer = 0\n",
    "    shapes_tensors = tensors['shapes_tensors']\n",
    "    # big rad \n",
    "    losses['big_rad_loss'] = shapes_tensors['radius'].exp().sum()\n",
    "\n",
    "    # prevent overlap\n",
    "    dists = torch.cdist(shapes_tensors['center'], shapes_tensors['center'])\n",
    "    upper_dists = torch.triu(dists)\n",
    "    nonzero_inds = torch.nonzero(upper_dists, as_tuple=True)\n",
    "    dists[nonzero_inds]\n",
    "    summed_rads = torch.atleast_2d(shapes_tensors['radius']).T + torch.atleast_2d(shapes_tensors['radius'])\n",
    "    edge_to_edge_dists = dists[nonzero_inds] - summed_rads[nonzero_inds] - overlap_buffer\n",
    "    losses['overlap_loss'] = F.relu(-edge_to_edge_dists).pow(3).sum()\n",
    "    losses['distance_loss'] = edge_to_edge_dists.pow(2).sum()\n",
    "    scaled_losses = {key: loss*loss_weights[key] for key, loss in losses.items()}\n",
    "    loss = sum(scaled_losses.values())\n",
    "\n",
    "    loss.backward()\n",
    "    optim.step()\n",
    "    \n",
    "    scaled_losses['loss'] = loss\n",
    "    return losses, scaled_losses, shapes, shape_groups, tensors\n",
    "\n",
    "def train_nima(canvas_nima_net, optim, model_ft, canvas):\n",
    "    \n",
    "    optim.zero_grad()\n",
    "    \n",
    "    shapes, shape_groups, tensors, img = canvas_nima_net.forward()\n",
    "    loss = canvas_nima_net.nima_loss(img)\n",
    "\n",
    "    loss.backward()\n",
    "    optim.step()\n",
    "    \n",
    "    return loss, shapes, shape_groups, tensors, img\n",
    "\n",
    "def train_clip(canvas_clip_net, optim):\n",
    "    \n",
    "    optim.zero_grad()\n",
    "    \n",
    "    shapes, shape_groups, tensors, img = canvas_clip_net.forward()\n",
    "    img.retain_grad()\n",
    "    losses = canvas_clip_net.get_clip_losses(img)\n",
    "    loss = torch.sum(*losses)\n",
    "\n",
    "    loss.backward()\n",
    "    optim.step()\n",
    "    \n",
    "    \n",
    "    return loss, losses, shapes, shape_groups, tensors, img\n",
    "\n",
    "def train_img(canvas_net, optim, target_img):\n",
    "    \n",
    "    optim.zero_grad()\n",
    "    \n",
    "    shapes, shape_groups, tensors, img = canvas_net.forward(torch.tensor([0.5], device=canvas_net.device))\n",
    "    \n",
    "    loss = ((target_img - img) ** 2).mean()\n",
    "\n",
    "    loss.backward(retain_graph=True)\n",
    "    optim.step()\n",
    "    \n",
    "    \n",
    "    return loss, shapes, shape_groups, tensors, img"
   ]
  },
  {
   "cell_type": "code",
   "execution_count": 338,
   "id": "da42d057",
   "metadata": {},
   "outputs": [],
   "source": [
    "def train_flex(canvas_net, optim, loss_funcs, loss_weights=None, clipping_value=1):\n",
    "    outputs = canvas_net.forward()\n",
    "    optim.zero_grad()\n",
    "    if loss_weights is None:\n",
    "        loss_weights = {key:1. for key in loss_funcs.keys()}\n",
    "        \n",
    "    losses = {key: torch.atleast_1d(loss_func.forward(outputs)) for key, loss_func in loss_funcs.items()}\n",
    "    scaled_losses = {key: loss*loss_weights[key] for key, loss in losses.items()}\n",
    "    loss = sum(scaled_losses.values())\n",
    "    loss.backward()\n",
    "    \n",
    "     # arbitrary value of your choosing\n",
    "    torch.nn.utils.clip_grad_norm(canvas_net.parameters(), clipping_value)\n",
    "    \n",
    "    optim.step()\n",
    "    return outputs, losses, scaled_losses, loss"
   ]
  },
  {
   "cell_type": "code",
   "execution_count": null,
   "id": "7cd66efd",
   "metadata": {},
   "outputs": [],
   "source": []
  },
  {
   "cell_type": "code",
   "execution_count": 339,
   "id": "f56a05a0",
   "metadata": {},
   "outputs": [
    {
     "name": "stderr",
     "output_type": "stream",
     "text": [
      "/home/naka/anaconda3/envs/genpen/lib/python3.8/site-packages/torch/nn/modules/lazy.py:178: UserWarning: Lazy modules are a new feature under heavy development so changes to the API or functionality can happen at any moment.\n",
      "  warnings.warn('Lazy modules are a new feature under heavy development '\n"
     ]
    }
   ],
   "source": [
    "n_shapes = 1400\n",
    "shape_param_head = ParamHead(nets={\n",
    "    'center': SigmoidParameter(n_shapes, 2),\n",
    "    'radius': nn.Sequential(SigmoidParameter(n_shapes, 1), Squeezer()),\n",
    "    'stroke_width': nn.Sequential(SigmoidParameter(n_shapes, 1), Squeezer()),\n",
    "})\n",
    "\n",
    "param_transforms = {\n",
    "    'center': Rescaler(0., 224.),\n",
    "    'radius': Rescaler(0.2, 10.1),\n",
    "    'stroke_width': Rescaler( 1., 2.1),\n",
    "}\n",
    "\n",
    "\n",
    "shape_maker = ShapeMaker(\n",
    "    shape_class=dg.Circle, \n",
    "    n_shapes=n_shapes,\n",
    "    param_transforms=param_transforms,\n",
    "    base_id=0,\n",
    "    )\n",
    "\n",
    "shape_head = nn.Sequential(shape_param_head, shape_maker)\n",
    "\n",
    "shape_groups_param_head = ParamHead(nets={\n",
    "    'stroke_color': nn.Sequential(SigmoidParameter(1, 4), Squeezer()),  \n",
    "    'fill_color': nn.Sequential(SigmoidParameter(1, 4), Squeezer()),  \n",
    "})\n",
    "shape_groups_maker = ShapeGroupMaker(\n",
    "    shape_ids=shape_maker.ids,\n",
    "    param_transforms={\n",
    "        'stroke_color': lambda x: torch.tensor([0., 0., 0., 1.]),\n",
    "        'fill_color': lambda x: torch.tensor([1., 1., 1., 1.]),\n",
    "        }\n",
    "    )\n",
    "shape_groups_head = nn.Sequential(shape_groups_param_head, shape_groups_maker)\n",
    "\n",
    "canvas = gdg.Canvas(width=224, height=224, draw_white_background=True)\n",
    "canvas_net = CanvasNet(\n",
    "    backbone=nn.Sequential(\n",
    "        nn.Linear(1, 256),\n",
    "        nn.ReLU(),\n",
    "        LazyRelu(512),\n",
    "        LazyRelu(512),\n",
    "        LazyRelu(512),\n",
    "    ),\n",
    "    shapes_head=shape_head,\n",
    "    shape_groups_head=shape_groups_head,\n",
    "    canvas=canvas,\n",
    ").to(device)\n",
    "canvas_clip_net = CanvasCLIPNet(canvas_net, perceptor=clip_model).to(device)"
   ]
  },
  {
   "cell_type": "code",
   "execution_count": 64,
   "id": "99dc64a2",
   "metadata": {},
   "outputs": [],
   "source": [
    "upscaler = copy.deepcopy(shape_maker)"
   ]
  },
  {
   "cell_type": "code",
   "execution_count": 112,
   "id": "8acc593b",
   "metadata": {},
   "outputs": [],
   "source": []
  },
  {
   "cell_type": "code",
   "execution_count": 126,
   "id": "6c2fcbbc",
   "metadata": {},
   "outputs": [],
   "source": [
    "\n",
    "shape_groups = outputs['shape_groups']\n",
    "with torch.no_grad():\n",
    "    shapes_tensors = outputs['tensors']['shapes_tensors']\n",
    "    upscaled_shapes_tensors = {key: tensor.clone() for key, tensor in shapes_tensors.items()}\n",
    "    shapes, upscaled_tensors = upscaler.forward(upscaled_shapes_tensors)\n",
    "canvas = gdg.Canvas(width=int(224*upscale_factor), height=int(224*upscale_factor), draw_white_background=True)\n",
    "canvas.render(shapes, shape_groups, as_pil=True)\n",
    "gdg.to_pil(nn.functional.interpolate(img, size=(600, 600), mode='nearest-exact'))"
   ]
  },
  {
   "cell_type": "code",
   "execution_count": 340,
   "id": "fd73668b",
   "metadata": {},
   "outputs": [
    {
     "data": {
      "image/png": "[encoded data removed]",
      "text/plain": [
       "<PIL.Image.Image image mode=RGB size=224x224 at 0x7FB1C9D022E0>"
      ]
     },
     "execution_count": 340,
     "metadata": {},
     "output_type": "execute_result"
    }
   ],
   "source": [
    "outputs = canvas_clip_net.forward()\n",
    "canvas_clip_net.canvas_net.apply(init_weights);\n",
    "outputs = canvas_clip_net.forward()\n",
    "\n",
    "gdg.to_pil(outputs['img'])"
   ]
  },
  {
   "cell_type": "code",
   "execution_count": 421,
   "id": "9740c467",
   "metadata": {},
   "outputs": [
    {
     "name": "stdout",
     "output_type": "stream",
     "text": [
      "tensor([0.0006], device='cuda:0', grad_fn=<AddBackward0>)\n",
      "{'overlap_loss': 0.00057, 'out_of_bounds_loss': 0.0}\n"
     ]
    },
    {
     "name": "stderr",
     "output_type": "stream",
     "text": [
      "/tmp/ipykernel_894935/1966351761.py:13: UserWarning: torch.nn.utils.clip_grad_norm is now deprecated in favor of torch.nn.utils.clip_grad_norm_.\n",
      "  torch.nn.utils.clip_grad_norm(canvas_net.parameters(), clipping_value)\n"
     ]
    },
    {
     "data": {
      "image/png": "[encoded data removed]",
      "text/plain": [
       "<PIL.Image.Image image mode=RGB size=224x224 at 0x7FDF955BA460>"
      ]
     },
     "execution_count": 421,
     "metadata": {},
     "output_type": "execute_result"
    }
   ],
   "source": [
    "optim = torch.optim.Adam(canvas_net.parameters(), lr=3e-4)\n",
    "loss_funcs = {\n",
    "    'overlap_loss': EdgeToEdgeDistanceLoss(safe_distance=1),\n",
    "    'out_of_bounds_loss': OutOfBoundsLoss(left=24,right=200, bottom=24, top=200),\n",
    "    }\n",
    "loss_weights = {\n",
    "    'overlap_loss': 1e-1,\n",
    "    'out_of_bounds_loss': 1e-1,\n",
    "}\n",
    "outputs, losses, scaled_losses, loss = train_flex(\n",
    "    canvas_net=canvas_net, \n",
    "    optim=optim, \n",
    "    loss_funcs=loss_funcs,\n",
    "    loss_weights=loss_weights,\n",
    "    )\n",
    "print(loss)\n",
    "print({k: np.round(float(v),5) for k, v in scaled_losses.items()})\n",
    "img = outputs['img']\n",
    "gdg.to_pil(img)"
   ]
  },
  {
   "cell_type": "code",
   "execution_count": 41,
   "id": "2e001e50",
   "metadata": {},
   "outputs": [],
   "source": [
    "target_img = img.clone()"
   ]
  },
  {
   "cell_type": "code",
   "execution_count": 35,
   "id": "c5e08497",
   "metadata": {},
   "outputs": [],
   "source": []
  },
  {
   "cell_type": "code",
   "execution_count": 75,
   "id": "b2bc9b40",
   "metadata": {},
   "outputs": [],
   "source": [
    "optim = torch.optim.Adam(canvas_net.parameters(), lr=3e-3)\n",
    "target_img_loss = TargetImageLoss(target_img=target_img)\n",
    "loss_funcs = {\n",
    "    'target_img_loss': target_img_loss,\n",
    "    'overlap_loss': EdgeToEdgeDistanceLoss(safe_distance=1),\n",
    "    'out_of_bounds_loss': OutOfBoundsLoss(left=24,right=200, bottom=24, top=200),\n",
    "    'nima_loss': NIMALoss()\n",
    "    }\n",
    "loss_weights = {\n",
    "    'target_img_loss': 1e0,\n",
    "    'overlap_loss': 1e-1,\n",
    "    'out_of_bounds_loss': 1e-2,\n",
    "    'nima_loss': 1e-6,\n",
    "}"
   ]
  },
  {
   "cell_type": "code",
   "execution_count": 94,
   "id": "e3f99485",
   "metadata": {},
   "outputs": [
    {
     "name": "stdout",
     "output_type": "stream",
     "text": [
      "tensor([55.0737], device='cuda:0', grad_fn=<AddBackward0>)\n",
      "{'target_img_loss': 0.06522, 'overlap_loss': 54.87096, 'out_of_bounds_loss': 0.13757, 'nima_loss': -1e-05}\n"
     ]
    },
    {
     "data": {
      "image/png": "[encoded data removed]",
      "text/plain": [
       "<PIL.Image.Image image mode=RGB size=448x224 at 0x7FADC09B53D0>"
      ]
     },
     "execution_count": 94,
     "metadata": {},
     "output_type": "execute_result"
    }
   ],
   "source": [
    "outputs, losses, scaled_losses, loss = train_flex(\n",
    "    canvas_net=canvas_net, \n",
    "    optim=optim, \n",
    "    loss_funcs=loss_funcs,\n",
    "    loss_weights=loss_weights,\n",
    "    )\n",
    "print(loss)\n",
    "print({k: np.round(float(v),5) for k, v in scaled_losses.items()})\n",
    "img = outputs['img']\n",
    "gdg.to_pil(torch.cat((img, target_img), dim=3))"
   ]
  },
  {
   "cell_type": "code",
   "execution_count": 485,
   "id": "498ee29c",
   "metadata": {},
   "outputs": [
    {
     "name": "stderr",
     "output_type": "stream",
     "text": [
      "  1%|          | 8/1000 [00:00<00:27, 35.66it/s]"
     ]
    },
    {
     "name": "stdout",
     "output_type": "stream",
     "text": [
      "tensor([0.0840], device='cuda:0', grad_fn=<AddBackward0>)\n"
     ]
    },
    {
     "name": "stderr",
     "output_type": "stream",
     "text": [
      " 10%|█         | 105/1000 [00:02<00:23, 38.33it/s]"
     ]
    },
    {
     "name": "stdout",
     "output_type": "stream",
     "text": [
      "tensor([0.0804], device='cuda:0', grad_fn=<AddBackward0>)\n"
     ]
    },
    {
     "name": "stderr",
     "output_type": "stream",
     "text": [
      " 21%|██        | 206/1000 [00:05<00:22, 35.78it/s]"
     ]
    },
    {
     "name": "stdout",
     "output_type": "stream",
     "text": [
      "tensor([0.0762], device='cuda:0', grad_fn=<AddBackward0>)\n"
     ]
    },
    {
     "name": "stderr",
     "output_type": "stream",
     "text": [
      " 31%|███       | 309/1000 [00:08<00:17, 40.03it/s]"
     ]
    },
    {
     "name": "stdout",
     "output_type": "stream",
     "text": [
      "tensor([0.0725], device='cuda:0', grad_fn=<AddBackward0>)\n"
     ]
    },
    {
     "name": "stderr",
     "output_type": "stream",
     "text": [
      " 41%|████      | 409/1000 [00:11<00:16, 34.92it/s]"
     ]
    },
    {
     "name": "stdout",
     "output_type": "stream",
     "text": [
      "tensor([0.0723], device='cuda:0', grad_fn=<AddBackward0>)\n"
     ]
    },
    {
     "name": "stderr",
     "output_type": "stream",
     "text": [
      " 51%|█████     | 508/1000 [00:14<00:12, 38.77it/s]"
     ]
    },
    {
     "name": "stdout",
     "output_type": "stream",
     "text": [
      "tensor([0.0706], device='cuda:0', grad_fn=<AddBackward0>)\n"
     ]
    },
    {
     "name": "stderr",
     "output_type": "stream",
     "text": [
      " 61%|██████    | 607/1000 [00:17<00:10, 35.84it/s]"
     ]
    },
    {
     "name": "stdout",
     "output_type": "stream",
     "text": [
      "tensor([0.0712], device='cuda:0', grad_fn=<AddBackward0>)\n"
     ]
    },
    {
     "name": "stderr",
     "output_type": "stream",
     "text": [
      " 71%|███████   | 708/1000 [00:19<00:07, 39.09it/s]"
     ]
    },
    {
     "name": "stdout",
     "output_type": "stream",
     "text": [
      "tensor([0.0692], device='cuda:0', grad_fn=<AddBackward0>)\n"
     ]
    },
    {
     "name": "stderr",
     "output_type": "stream",
     "text": [
      " 81%|████████  | 806/1000 [00:22<00:04, 40.78it/s]"
     ]
    },
    {
     "name": "stdout",
     "output_type": "stream",
     "text": [
      "tensor([0.0697], device='cuda:0', grad_fn=<AddBackward0>)\n"
     ]
    },
    {
     "name": "stderr",
     "output_type": "stream",
     "text": [
      " 91%|█████████ | 907/1000 [00:25<00:02, 34.58it/s]"
     ]
    },
    {
     "name": "stdout",
     "output_type": "stream",
     "text": [
      "tensor([0.0684], device='cuda:0', grad_fn=<AddBackward0>)\n"
     ]
    },
    {
     "name": "stderr",
     "output_type": "stream",
     "text": [
      "100%|██████████| 1000/1000 [00:28<00:00, 35.43it/s]"
     ]
    },
    {
     "name": "stdout",
     "output_type": "stream",
     "text": [
      "tensor([0.0681], device='cuda:0', grad_fn=<AddBackward0>)\n",
      "{'target_img_loss': 0.06438, 'overlap_loss': 0.0, 'out_of_bounds_loss': 0.00372}\n"
     ]
    },
    {
     "name": "stderr",
     "output_type": "stream",
     "text": [
      "\n"
     ]
    },
    {
     "data": {
      "image/png": "[encoded data removed]",
      "text/plain": [
       "<PIL.Image.Image image mode=RGB size=448x224 at 0x7F60F3E92AF0>"
      ]
     },
     "execution_count": 485,
     "metadata": {},
     "output_type": "execute_result"
    }
   ],
   "source": [
    "for ii in tqdm(range(1000)):\n",
    "    outputs, losses, scaled_losses, loss = train_flex(\n",
    "        canvas_net=canvas_net, \n",
    "        optim=optim, \n",
    "        loss_funcs=loss_funcs,\n",
    "        loss_weights=loss_weights,\n",
    "        )\n",
    "    if ii % 100 == 0:\n",
    "        print(loss)\n",
    "print(loss)\n",
    "print({k: np.round(float(v),5) for k, v in scaled_losses.items()})\n",
    "img = outputs['img']\n",
    "gdg.to_pil(torch.cat((img, target_img), dim=3))"
   ]
  },
  {
   "cell_type": "code",
   "execution_count": 484,
   "id": "b2bc9b40",
   "metadata": {},
   "outputs": [],
   "source": [
    "optim = torch.optim.Adam(canvas_net.parameters(), lr=3e-4)\n",
    "target_img_loss = TargetImageLoss(target_img=target_img)\n",
    "loss_funcs = {\n",
    "    # 'target_img_loss': target_img_loss,\n",
    "    'overlap_loss': EdgeToEdgeDistanceLoss(safe_distance=0),\n",
    "    'out_of_bounds_loss': OutOfBoundsLoss(left=12,right=212, bottom=12, top=212),\n",
    "    'nima_loss': NIMALoss()\n",
    "    }\n",
    "loss_weights = {\n",
    "    # 'target_img_loss': 1e0,\n",
    "    'overlap_loss': 1e-4,\n",
    "    'out_of_bounds_loss': 1e-2,\n",
    "    'nima_loss': 1e0,\n",
    "}"
   ]
  },
  {
   "cell_type": "code",
   "execution_count": 497,
   "id": "e3f99485",
   "metadata": {},
   "outputs": [
    {
     "name": "stdout",
     "output_type": "stream",
     "text": [
      "tensor([-5.2553], device='cuda:0', grad_fn=<AddBackward0>)\n",
      "{'overlap_loss': 0.09435, 'out_of_bounds_loss': 3e-05, 'nima_loss': -5.34964}\n"
     ]
    },
    {
     "data": {
      "image/png": "[encoded data removed]",
      "text/plain": [
       "<PIL.Image.Image image mode=RGB size=224x224 at 0x7FAD82453E50>"
      ]
     },
     "execution_count": 497,
     "metadata": {},
     "output_type": "execute_result"
    }
   ],
   "source": [
    "outputs, losses, scaled_losses, loss = train_flex(\n",
    "    canvas_net=canvas_net, \n",
    "    optim=optim, \n",
    "    loss_funcs=loss_funcs,\n",
    "    loss_weights=loss_weights,\n",
    "    )\n",
    "print(loss)\n",
    "print({k: np.round(float(v),5) for k, v in scaled_losses.items()})\n",
    "img = outputs['img']\n",
    "# gdg.to_pil(torch.cat((img, target_img), dim=3))\n",
    "gdg.to_pil(img)"
   ]
  },
  {
   "cell_type": "code",
   "execution_count": 498,
   "id": "498ee29c",
   "metadata": {},
   "outputs": [
    {
     "name": "stderr",
     "output_type": "stream",
     "text": [
      "  0%|          | 1/500 [00:00<03:44,  2.22it/s]"
     ]
    },
    {
     "name": "stdout",
     "output_type": "stream",
     "text": [
      "tensor([-5.2346], device='cuda:0', grad_fn=<AddBackward0>)\n"
     ]
    },
    {
     "name": "stderr",
     "output_type": "stream",
     "text": [
      " 20%|██        | 101/500 [00:48<03:08,  2.12it/s]"
     ]
    },
    {
     "name": "stdout",
     "output_type": "stream",
     "text": [
      "tensor([-5.2346], device='cuda:0', grad_fn=<AddBackward0>)\n"
     ]
    },
    {
     "name": "stderr",
     "output_type": "stream",
     "text": [
      " 40%|████      | 201/500 [01:36<02:21,  2.11it/s]"
     ]
    },
    {
     "name": "stdout",
     "output_type": "stream",
     "text": [
      "tensor([-5.2014], device='cuda:0', grad_fn=<AddBackward0>)\n"
     ]
    },
    {
     "name": "stderr",
     "output_type": "stream",
     "text": [
      " 60%|██████    | 301/500 [02:24<01:34,  2.12it/s]"
     ]
    },
    {
     "name": "stdout",
     "output_type": "stream",
     "text": [
      "tensor([-5.2072], device='cuda:0', grad_fn=<AddBackward0>)\n"
     ]
    },
    {
     "name": "stderr",
     "output_type": "stream",
     "text": [
      " 80%|████████  | 401/500 [03:13<00:46,  2.12it/s]"
     ]
    },
    {
     "name": "stdout",
     "output_type": "stream",
     "text": [
      "tensor([-5.1844], device='cuda:0', grad_fn=<AddBackward0>)\n"
     ]
    },
    {
     "name": "stderr",
     "output_type": "stream",
     "text": [
      "100%|██████████| 500/500 [04:00<00:00,  2.08it/s]"
     ]
    },
    {
     "name": "stdout",
     "output_type": "stream",
     "text": [
      "tensor([-5.2010], device='cuda:0', grad_fn=<AddBackward0>)\n",
      "{'overlap_loss': 0.15737, 'out_of_bounds_loss': 3e-05, 'nima_loss': -5.35835}\n"
     ]
    },
    {
     "name": "stderr",
     "output_type": "stream",
     "text": [
      "\n"
     ]
    },
    {
     "data": {
      "image/png": "[encoded data removed]",
      "text/plain": [
       "<PIL.Image.Image image mode=RGB size=448x224 at 0x7FAD8236E940>"
      ]
     },
     "execution_count": 498,
     "metadata": {},
     "output_type": "execute_result"
    }
   ],
   "source": [
    "for ii in tqdm(range(500)):\n",
    "    outputs, losses, scaled_losses, loss = train_flex(\n",
    "    canvas_net=canvas_net, \n",
    "    optim=optim, \n",
    "    loss_funcs=loss_funcs,\n",
    "    loss_weights=loss_weights,\n",
    "    )\n",
    "    if ii % 100 == 0:\n",
    "        print(loss)\n",
    "print(loss)\n",
    "print({k: np.round(float(v),5) for k, v in scaled_losses.items()})\n",
    "img = outputs['img']\n",
    "gdg.to_pil(torch.cat((img, target_img), dim=3))"
   ]
  },
  {
   "cell_type": "code",
   "execution_count": 20,
   "id": "c34c1902",
   "metadata": {},
   "outputs": [],
   "source": [
    "clip_loss = CLIPLoss()"
   ]
  },
  {
   "cell_type": "code",
   "execution_count": 21,
   "id": "3210c17a",
   "metadata": {},
   "outputs": [],
   "source": [
    "clip_loss.set_text_prompts(['Beautiful clouds made out of black circles'])"
   ]
  },
  {
   "cell_type": "code",
   "execution_count": 22,
   "id": "b2bc9b40",
   "metadata": {},
   "outputs": [],
   "source": [
    "optim = torch.optim.Adam(canvas_net.parameters(), lr=3e-4)\n",
    "loss_funcs = {\n",
    "    'overlap_loss': EdgeToEdgeDistanceLoss(safe_distance=3),\n",
    "    'out_of_bounds_loss': OutOfBoundsLoss(left=12,right=212, bottom=12, top=212),\n",
    "    # 'nima_loss': NIMALoss(),\n",
    "    'clip_loss': clip_loss, \n",
    "    }\n",
    "loss_weights = {\n",
    "    'overlap_loss': 1e1,\n",
    "    'out_of_bounds_loss': 1e-2,\n",
    "    # 'nima_loss': 1e0,\n",
    "    'clip_loss': 1e1\n",
    "}"
   ]
  },
  {
   "cell_type": "code",
   "execution_count": 653,
   "id": "e3f99485",
   "metadata": {},
   "outputs": [
    {
     "name": "stdout",
     "output_type": "stream",
     "text": [
      "tensor([5.6381], device='cuda:0', grad_fn=<AddBackward0>)\n",
      "{'overlap_loss': 11.31991, 'out_of_bounds_loss': 0.0, 'nima_loss': -5.68183}\n"
     ]
    },
    {
     "name": "stderr",
     "output_type": "stream",
     "text": [
      "/tmp/ipykernel_894935/1966351761.py:13: UserWarning: torch.nn.utils.clip_grad_norm is now deprecated in favor of torch.nn.utils.clip_grad_norm_.\n",
      "  torch.nn.utils.clip_grad_norm(canvas_net.parameters(), clipping_value)\n"
     ]
    },
    {
     "data": {
      "image/png": "[encoded data removed]",
      "text/plain": [
       "<PIL.Image.Image image mode=RGB size=224x224 at 0x7FDF9F4760D0>"
      ]
     },
     "execution_count": 653,
     "metadata": {},
     "output_type": "execute_result"
    }
   ],
   "source": [
    "outputs, losses, scaled_losses, loss = train_flex(\n",
    "    canvas_net=canvas_net, \n",
    "    optim=optim, \n",
    "    loss_funcs=loss_funcs,\n",
    "    loss_weights=loss_weights,\n",
    "    )\n",
    "print(loss)\n",
    "print({k: np.round(float(v),5) for k, v in scaled_losses.items()})\n",
    "img = outputs['img']\n",
    "# gdg.to_pil(torch.cat((img, target_img), dim=3))\n",
    "gdg.to_pil(img)"
   ]
  },
  {
   "cell_type": "code",
   "execution_count": 654,
   "id": "498ee29c",
   "metadata": {},
   "outputs": [
    {
     "data": {
      "image/png": "[encoded data removed]",
      "text/plain": [
       "<IPython.core.display.Image object>"
      ]
     },
     "metadata": {},
     "output_type": "display_data"
    },
    {
     "name": "stderr",
     "output_type": "stream",
     "text": [
      " 98%|█████████▊| 492/500 [00:51<00:00,  9.68it/s]"
     ]
    },
    {
     "name": "stdout",
     "output_type": "stream",
     "text": [
      "{'overlap_loss': 0.21607, 'out_of_bounds_loss': 0.01856, 'nima_loss': -5.68633}\n"
     ]
    },
    {
     "name": "stderr",
     "output_type": "stream",
     "text": [
      "100%|██████████| 500/500 [00:52<00:00,  9.53it/s]"
     ]
    },
    {
     "name": "stdout",
     "output_type": "stream",
     "text": [
      "tensor([-5.3814], device='cuda:0', grad_fn=<AddBackward0>)\n",
      "{'overlap_loss': 0.24989, 'out_of_bounds_loss': 0.0343, 'nima_loss': -5.66556}\n"
     ]
    },
    {
     "name": "stderr",
     "output_type": "stream",
     "text": [
      "\n"
     ]
    },
    {
     "data": {
      "image/png": "[encoded data removed]",
      "text/plain": [
       "<PIL.Image.Image image mode=RGB size=224x224 at 0x7FDF9555FBE0>"
      ]
     },
     "execution_count": 654,
     "metadata": {},
     "output_type": "execute_result"
    }
   ],
   "source": [
    "for ii in tqdm(range(500)):\n",
    "    outputs, losses, scaled_losses, loss = train_flex(\n",
    "    canvas_net=canvas_net, \n",
    "    optim=optim, \n",
    "    loss_funcs=loss_funcs,\n",
    "    loss_weights=loss_weights,\n",
    "    )\n",
    "    if ii % 10 == 0:\n",
    "        \n",
    "        display.clear_output(wait=True)\n",
    "        temp = NamedTemporaryFile(mode=\"wb\", suffix='.png', delete=False)\n",
    "        with  temp as fp:\n",
    "            gdg.to_pil(outputs['img']).save(fp)\n",
    "        display.display(display.Image(temp.name))\n",
    "        print({k: np.round(float(v),5) for k, v in scaled_losses.items()})\n",
    "print(loss)\n",
    "print({k: np.round(float(v),5) for k, v in scaled_losses.items()})\n",
    "img = outputs['img']\n",
    "gdg.to_pil(img)"
   ]
  },
  {
   "cell_type": "code",
   "execution_count": 222,
   "id": "05764dc9",
   "metadata": {},
   "outputs": [],
   "source": []
  },
  {
   "cell_type": "code",
   "execution_count": 303,
   "id": "c58c1e41",
   "metadata": {},
   "outputs": [
    {
     "name": "stdout",
     "output_type": "stream",
     "text": [
      "saved 20220704-165720_363770-c759e-4904f6 to s3://algorithmic-ink/current_nft_id\n"
     ]
    }
   ],
   "source": [
    "nft_id = fn.new_nft_id()\n",
    "\n",
    "raster_videos_dir = Path('/home/naka/art/raster_videos')\n",
    "nft_dir = raster_videos_dir.joinpath(nft_id)\n",
    "\n",
    "if not nft_dir.exists():\n",
    "    os.mkdir(nft_dir) \n",
    "    \n",
    "frame_counter = 0"
   ]
  },
  {
   "cell_type": "code",
   "execution_count": 341,
   "id": "dde18455",
   "metadata": {},
   "outputs": [],
   "source": [
    "class Mult(nn.Module):\n",
    "    \n",
    "    def __init__(self, factor):\n",
    "        super().__init__()\n",
    "        self.factor = factor\n",
    "        \n",
    "    def forward(self, x):\n",
    "        return x * self.factor\n",
    "    \n",
    "upscale_factor = 5.\n",
    "upscaler_param_transforms = {\n",
    "    'center': Mult(upscale_factor),\n",
    "    'radius': Mult(upscale_factor),\n",
    "    'stroke_width': Mult(upscale_factor),\n",
    "}\n",
    "\n",
    "upscaler = ShapeMaker(\n",
    "    shape_class=dg.Circle, \n",
    "    n_shapes=n_shapes,\n",
    "    param_transforms=upscaler_param_transforms,\n",
    "    base_id=0,\n",
    "    )"
   ]
  },
  {
   "cell_type": "code",
   "execution_count": 342,
   "id": "498ee29c",
   "metadata": {},
   "outputs": [],
   "source": [
    "save_freq = 1\n",
    "frame_counter = 0\n"
   ]
  },
  {
   "cell_type": "code",
   "execution_count": 397,
   "id": "c61a004a",
   "metadata": {},
   "outputs": [],
   "source": [
    "optim = torch.optim.Adam(canvas_net.parameters(), lr=3e-3)\n"
   ]
  },
  {
   "cell_type": "code",
   "execution_count": 398,
   "id": "19362720",
   "metadata": {},
   "outputs": [],
   "source": [
    "clip_loss.set_text_prompts(['Amazing monochrome abstract art'])\n",
    "loss_funcs = {\n",
    "    'overlap_loss': EdgeToEdgeDistanceLoss(safe_distance=0.),\n",
    "    'out_of_bounds_loss': OutOfBoundsLoss(left=0,right=224, bottom=0, top=224),\n",
    "    'nima_loss': NIMALoss(),\n",
    "    'clip_loss': clip_loss, \n",
    "    }\n",
    "loss_weights = {\n",
    "    'overlap_loss': -1e6,\n",
    "    'out_of_bounds_loss': 1e6,\n",
    "    'nima_loss': 1e0,\n",
    "    'clip_loss': 1e0\n",
    "}"
   ]
  },
  {
   "cell_type": "code",
   "execution_count": 401,
   "id": "b78b2bc3",
   "metadata": {},
   "outputs": [
    {
     "data": {
      "image/png": "[encoded data removed]",
      "text/plain": [
       "<IPython.core.display.Image object>"
      ]
     },
     "metadata": {},
     "output_type": "display_data"
    },
    {
     "name": "stderr",
     "output_type": "stream",
     "text": [
      "100%|██████████| 30/30 [00:18<00:00,  1.67it/s]"
     ]
    },
    {
     "name": "stdout",
     "output_type": "stream",
     "text": [
      "{'overlap_loss': -10818398.0, 'out_of_bounds_loss': 0.0, 'nima_loss': -6.23294, 'clip_loss': 0.31468}\n",
      "tensor([-10818404.], device='cuda:0', grad_fn=<AddBackward0>)\n",
      "{'overlap_loss': -10818398.0, 'out_of_bounds_loss': 0.0, 'nima_loss': -6.23294, 'clip_loss': 0.31468}\n"
     ]
    },
    {
     "name": "stderr",
     "output_type": "stream",
     "text": [
      "\n"
     ]
    },
    {
     "data": {
      "image/png": "[encoded data removed]",
      "text/plain": [
       "<PIL.Image.Image image mode=RGB size=224x224 at 0x7FB17C3DF0A0>"
      ]
     },
     "execution_count": 401,
     "metadata": {},
     "output_type": "execute_result"
    }
   ],
   "source": [
    "\n",
    "for ii in tqdm(range(30)):\n",
    "    outputs, losses, scaled_losses, loss = train_flex(\n",
    "    canvas_net=canvas_net, \n",
    "    optim=optim, \n",
    "    loss_funcs=loss_funcs,\n",
    "    loss_weights=loss_weights,\n",
    "    )\n",
    "    if ii % save_freq == 0:\n",
    "        \n",
    "        display.clear_output(wait=True)\n",
    "        temp = NamedTemporaryFile(mode=\"wb\", suffix='.png', delete=False)\n",
    "        with  temp as fp:\n",
    "            gdg.to_pil(outputs['img']).save(fp)\n",
    "        display.display(display.Image(temp.name))\n",
    "        \n",
    "        fp = nft_dir.joinpath(f'{frame_counter:04d}.png')\n",
    "        # gdg.to_pil(outputs['img']).save(fp)\n",
    "        \n",
    "        shape_groups = outputs['shape_groups']\n",
    "        with torch.no_grad():\n",
    "            shapes_tensors = outputs['tensors']['shapes_tensors']\n",
    "            upscaled_shapes_tensors = {key: tensor.clone() for key, tensor in shapes_tensors.items()}\n",
    "            shapes, upscaled_tensors = upscaler.forward(upscaled_shapes_tensors)\n",
    "        canvas = gdg.Canvas(width=int(224*upscale_factor), height=int(224*upscale_factor), draw_white_background=True)\n",
    "        canvas.render(shapes, shape_groups, as_pil=True).save(fp)\n",
    "        \n",
    "        \n",
    "        frame_counter += 1\n",
    "        print({k: np.round(float(v),5) for k, v in scaled_losses.items()})\n",
    "print(loss)\n",
    "print({k: np.round(float(v),5) for k, v in scaled_losses.items()})\n",
    "img = outputs['img']\n",
    "gdg.to_pil(img)"
   ]
  },
  {
   "cell_type": "code",
   "execution_count": 5,
   "id": "799231fe",
   "metadata": {},
   "outputs": [],
   "source": [
    "nft_dir = Path('/home/naka/art/raster_videos/20220704-153306_850908-c759e-4e0e0b')"
   ]
  },
  {
   "cell_type": "code",
   "execution_count": 7,
   "id": "847d581a",
   "metadata": {},
   "outputs": [],
   "source": [
    "nft_id = '20220704-153306_850908-c759e-4e0e0b'"
   ]
  },
  {
   "cell_type": "code",
   "execution_count": null,
   "id": "7dda490e",
   "metadata": {},
   "outputs": [],
   "source": []
  },
  {
   "cell_type": "code",
   "execution_count": 402,
   "id": "4718d125",
   "metadata": {},
   "outputs": [
    {
     "name": "stderr",
     "output_type": "stream",
     "text": [
      "t:   0%|          | 0/1025 [00:00<?, ?it/s, now=None]"
     ]
    },
    {
     "name": "stdout",
     "output_type": "stream",
     "text": [
      "Moviepy - Building video /home/naka/art/raster_videos/20220704-165720_363770-c759e-4904f6/20220704-165720_363770-c759e-4904f6.mp4.\n",
      "Moviepy - Writing video /home/naka/art/raster_videos/20220704-165720_363770-c759e-4904f6/20220704-165720_363770-c759e-4904f6.mp4\n",
      "\n"
     ]
    },
    {
     "name": "stderr",
     "output_type": "stream",
     "text": [
      "                                                                \r"
     ]
    },
    {
     "name": "stdout",
     "output_type": "stream",
     "text": [
      "Moviepy - Done !\n",
      "Moviepy - video ready /home/naka/art/raster_videos/20220704-165720_363770-c759e-4904f6/20220704-165720_363770-c759e-4904f6.mp4\n"
     ]
    },
    {
     "data": {
      "text/plain": [
       "1024"
      ]
     },
     "execution_count": 402,
     "metadata": {},
     "output_type": "execute_result"
    }
   ],
   "source": [
    "filenames = sorted([fp.as_posix() for fp in nft_dir.glob('*.png')])\n",
    "import moviepy\n",
    "from moviepy.video.io.ImageSequenceClip import ImageSequenceClip\n",
    "clipout = ImageSequenceClip(filenames, fps=60)\n",
    "clipout.write_videofile(nft_dir.joinpath(f'{nft_id}.mp4').as_posix())\n",
    "len(filenames)"
   ]
  },
  {
   "cell_type": "code",
   "execution_count": null,
   "id": "574defdf",
   "metadata": {},
   "outputs": [],
   "source": []
  }
 ],
 "metadata": {
  "interpreter": {
   "hash": "8dd23eb8a106e10a9d6673bd6cb60486dc3129d9782f6ed87a7bc18aa7582fa4"
  },
  "kernelspec": {
   "display_name": "Python 3.8.8 64-bit ('genpen': conda)",
   "name": "python3"
  },
  "language_info": {
   "codemirror_mode": {
    "name": "ipython",
    "version": 3
   },
   "file_extension": ".py",
   "mimetype": "text/x-python",
   "name": "python",
   "nbconvert_exporter": "python",
   "pygments_lexer": "ipython3",
   "version": "3.8.8"
  }
 },
 "nbformat": 4,
 "nbformat_minor": 5
}

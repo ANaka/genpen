{
 "cells": [
  {
   "cell_type": "code",
   "execution_count": 1,
   "id": "59f5e1c8-8335-43a2-be12-64bf1581343e",
   "metadata": {},
   "outputs": [],
   "source": [
    "\n",
    "import itertools\n",
    "import numpy as np\n",
    "import os\n",
    "import seaborn as sns\n",
    "from tqdm import tqdm\n",
    "from dataclasses import asdict, dataclass, field\n",
    "import vsketch\n",
    "import shapely.geometry as sg\n",
    "from shapely.geometry import box, MultiLineString, Point, MultiPoint, Polygon, MultiPolygon, LineString\n",
    "import shapely.affinity as sa\n",
    "import shapely.ops as so\n",
    "import matplotlib.pyplot as plt\n",
    "import pandas as pd\n",
    "\n",
    "import vpype_cli\n",
    "from typing import List, Generic\n",
    "from genpen import genpen as gp\n",
    "from genpen.utils import Paper\n",
    "from scipy import stats\n",
    "import geopandas\n",
    "from shapely.errors import TopologicalError\n",
    "import functools\n",
    "import vpype\n",
    "from skimage import io\n",
    "from pathlib import Path\n",
    "\n",
    "from sklearn.preprocessing import minmax_scale\n",
    "from skimage import feature\n",
    "from skimage import exposure\n",
    "from torch import Tensor\n",
    "from torch import nn\n",
    "from skimage import filters\n",
    "from skimage.color import rgb2gray\n",
    "from skimage.transform import rescale, resize, downscale_local_mean\n",
    "from skimage.morphology import disk\n",
    "from numpy.random import default_rng\n",
    "\n",
    "\n",
    "from PIL import Image\n",
    "import attr\n",
    "\n",
    "import cv2\n",
    "from rasterio import features\n",
    "import rasterio\n",
    "\n",
    "import pydiffvg as dg\n",
    "import torch\n",
    "import skimage\n",
    "import numpy as np\n",
    "from torchvision.transforms import functional as TF\n",
    "from IPython import display\n",
    "from copy import deepcopy\n",
    "import fn\n",
    "import torch.nn.functional as F\n",
    "\n",
    "\n",
    "from genpen.diffvg import diffvg as gdg\n",
    "import clip\n",
    "\n",
    "\n",
    "%load_ext autoreload\n",
    "%autoreload 2"
   ]
  },
  {
   "cell_type": "code",
   "execution_count": 2,
   "id": "6d4b0498-c89b-4334-b192-ff2de57bd621",
   "metadata": {},
   "outputs": [],
   "source": [
    "# Use GPU if available\n",
    "\n",
    "device = torch.device('cuda:0' if torch.cuda.is_available() else 'cpu')\n",
    "clip_model, preprocess = clip.load(\"ViT-B/32\", device=device)\n",
    "dg.set_device(device)"
   ]
  },
  {
   "cell_type": "code",
   "execution_count": 17,
   "id": "ae04eb12",
   "metadata": {},
   "outputs": [],
   "source": [
    "from genpen.diffvg.diffvg import (\n",
    "    ParamHead, ShapeGroupMaker, \n",
    "    ShapeMaker, LazySigmoid, \n",
    "    CanvasNet, LazyRelu,\n",
    "    CanvasNIMANet, CanvasCLIPNet, init_weights\n",
    "    )\n",
    "\n",
    "def rescale(x, min_val, max_val):\n",
    "    min_val = torch.tensor(min_val)\n",
    "    max_val = torch.tensor(max_val)\n",
    "    return x * (max_val - min_val) + min_val\n",
    "\n",
    "class Rescaler(nn.Module):\n",
    "    def __init__(self, min_val, max_val):\n",
    "        super().__init__()\n",
    "        self.min_val = min_val\n",
    "        self.max_val = max_val\n",
    "        \n",
    "    def forward(self, x):\n",
    "        return x * (self.max_val - self.min_val) + self.min_val\n",
    "\n",
    "class Reshape(nn.Module):\n",
    "    \n",
    "    def __init__(self, dims):\n",
    "        super().__init__()\n",
    "        self.dims = dims\n",
    "        \n",
    "    def forward(self, x):\n",
    "        return x.view(self.dims)\n",
    "    \n",
    "class SigmoidParameter(nn.Module):\n",
    "    \n",
    "    def __init__(self, n_shapes, n_params):\n",
    "        super().__init__()\n",
    "        self.n_shapes = n_shapes\n",
    "        self.n_params = n_params\n",
    "        self.net = nn.Sequential(\n",
    "            LazySigmoid(n_params*n_shapes),\n",
    "            Reshape((n_shapes, n_params)),\n",
    "        )\n",
    "        \n",
    "    def forward(self, x):\n",
    "        return self.net(x)\n",
    "    \n",
    "class Squeezer(nn.Module):\n",
    "    \n",
    "    def forward(self, x):\n",
    "        return x.squeeze()\n",
    "    \n",
    "def train(canvas_net, optim, loss_weights=None):\n",
    "    \n",
    "    shapes, shape_groups, tensors, img = canvas_net.forward()\n",
    "    optim.zero_grad()\n",
    "    losses = {}\n",
    "    if loss_weights is None:\n",
    "        loss_weights = {\n",
    "            'big_rad_loss': 1,\n",
    "            'overlap_loss': 1,\n",
    "            'distance_loss': 1,\n",
    "            'out_of_bounds_loss': 1,\n",
    "            \n",
    "        }\n",
    "    overlap_buffer = 0\n",
    "    shapes_tensors = tensors['shapes_tensors']\n",
    "    # big rad \n",
    "    losses['big_rad_loss'] = shapes_tensors['radius'].exp().sum()\n",
    "\n",
    "    # prevent overlap\n",
    "    dists = torch.cdist(shapes_tensors['center'], shapes_tensors['center'])\n",
    "    upper_dists = torch.triu(dists)\n",
    "    nonzero_inds = torch.nonzero(upper_dists, as_tuple=True)\n",
    "    dists[nonzero_inds]\n",
    "    summed_rads = torch.atleast_2d(shapes_tensors['radius']).T + torch.atleast_2d(shapes_tensors['radius'])\n",
    "    edge_to_edge_dists = dists[nonzero_inds] - summed_rads[nonzero_inds] - overlap_buffer\n",
    "    losses['overlap_loss'] = F.relu(-edge_to_edge_dists).pow(3).sum()\n",
    "    losses['distance_loss'] = edge_to_edge_dists.pow(2).sum()\n",
    "    scaled_losses = {key: loss*loss_weights[key] for key, loss in losses.items()}\n",
    "    loss = sum(scaled_losses.values())\n",
    "\n",
    "    loss.backward()\n",
    "    optim.step()\n",
    "    \n",
    "    scaled_losses['loss'] = loss\n",
    "    return losses, scaled_losses, shapes, shape_groups, tensors\n",
    "\n",
    "def train_nima(canvas_nima_net, optim, model_ft, canvas):\n",
    "    \n",
    "    optim.zero_grad()\n",
    "    \n",
    "    shapes, shape_groups, tensors, img = canvas_nima_net.forward()\n",
    "    loss = canvas_nima_net.nima_loss(img)\n",
    "\n",
    "    loss.backward()\n",
    "    optim.step()\n",
    "    \n",
    "    return loss, shapes, shape_groups, tensors, img\n",
    "\n",
    "def train_clip(canvas_clip_net, optim):\n",
    "    \n",
    "    optim.zero_grad()\n",
    "    \n",
    "    shapes, shape_groups, tensors, img = canvas_clip_net.forward()\n",
    "    img.retain_grad()\n",
    "    losses = canvas_clip_net.get_clip_losses(img)\n",
    "    loss = torch.sum(*losses)\n",
    "\n",
    "    loss.backward()\n",
    "    optim.step()\n",
    "    \n",
    "    \n",
    "    return loss, losses, shapes, shape_groups, tensors, img\n",
    "\n",
    "def train_img(canvas_net, optim, target_img):\n",
    "    \n",
    "    optim.zero_grad()\n",
    "    \n",
    "    shapes, shape_groups, tensors, img = canvas_net.forward(torch.tensor([0.5], device=canvas_net.device))\n",
    "    \n",
    "    loss = ((target_img - img) ** 2).mean()\n",
    "\n",
    "    loss.backward(retain_graph=True)\n",
    "    optim.step()\n",
    "    \n",
    "    \n",
    "    return loss, shapes, shape_groups, tensors, img"
   ]
  },
  {
   "cell_type": "code",
   "execution_count": null,
   "id": "79b5c493",
   "metadata": {},
   "outputs": [],
   "source": []
  },
  {
   "cell_type": "code",
   "execution_count": 4,
   "id": "f51064d5",
   "metadata": {},
   "outputs": [],
   "source": [
    "# from torchvision import datasets, models, transforms\n",
    "\n",
    "# # Number of classes in the dataset\n",
    "# num_classes = 10\n",
    "\n",
    "# # Weight Path\n",
    "# weight_path = '/home/naka/code/side/ML-Aesthetics-NIMA/weights/dense121_all.pt'\n",
    "\n",
    "# model_ft = models.densenet121(pretrained=True)\n",
    "# num_ftrs = model_ft.classifier.in_features\n",
    "# model_ft.classifier = nn.Sequential(\n",
    "#     nn.Linear(num_ftrs,num_classes),\n",
    "#     nn.Softmax(1)\n",
    "# )   \n",
    "\n",
    "# # Send the model to GPU\n",
    "# device = torch.device(\"cuda\" if torch.cuda.is_available() else \"cpu\")\n",
    "# model_ft = model_ft.to(device)\n",
    "# for param in model_ft.parameters():\n",
    "#     param.requires_grad = False"
   ]
  },
  {
   "cell_type": "code",
   "execution_count": null,
   "id": "35cfc6a4",
   "metadata": {},
   "outputs": [],
   "source": []
  },
  {
   "cell_type": "code",
   "execution_count": 190,
   "id": "f56a05a0",
   "metadata": {},
   "outputs": [
    {
     "name": "stderr",
     "output_type": "stream",
     "text": [
      "/home/naka/anaconda3/envs/genpen/lib/python3.8/site-packages/torch/nn/modules/lazy.py:178: UserWarning: Lazy modules are a new feature under heavy development so changes to the API or functionality can happen at any moment.\n",
      "  warnings.warn('Lazy modules are a new feature under heavy development '\n"
     ]
    }
   ],
   "source": [
    "n_shapes = 100\n",
    "shape_param_head = ParamHead(nets={\n",
    "    'center': SigmoidParameter(n_shapes, 2),\n",
    "    'radius': nn.Sequential(SigmoidParameter(n_shapes, 1), Squeezer()),\n",
    "    'stroke_width': nn.Sequential(SigmoidParameter(n_shapes, 1), Squeezer()),\n",
    "})\n",
    "\n",
    "param_transforms = {\n",
    "    'center': Rescaler(24., 200.),\n",
    "    'radius': Rescaler(4., 5.),\n",
    "    'stroke_width': Rescaler( 0.3, 0.31),\n",
    "}\n",
    "\n",
    "\n",
    "shape_maker = ShapeMaker(\n",
    "    shape_class=dg.Circle, \n",
    "    n_shapes=n_shapes,\n",
    "    param_transforms=param_transforms,\n",
    "    base_id=0,\n",
    "    # init_params={\n",
    "    #     'center': torch.rand(n_shapes, 2)/3,\n",
    "    #     'radius': torch.rand(n_shapes, 1)/3,\n",
    "    #     'stroke_width': torch.rand(n_shapes, 1)/3,\n",
    "    # }\n",
    "    )\n",
    "\n",
    "shape_head = nn.Sequential(shape_param_head, shape_maker)\n",
    "\n",
    "shape_groups_param_head = ParamHead(nets={\n",
    "    'stroke_color': nn.Sequential(SigmoidParameter(1, 4), Squeezer()),  \n",
    "    'fill_color': nn.Sequential(SigmoidParameter(1, 4), Squeezer()),  \n",
    "})\n",
    "shape_groups_maker = ShapeGroupMaker(\n",
    "    shape_ids=shape_maker.ids,\n",
    "    param_transforms={\n",
    "        'stroke_color': lambda x: torch.tensor([1., 1., 1., 1.]),\n",
    "        'fill_color': lambda x: None\n",
    "        }\n",
    "    )\n",
    "shape_groups_head = nn.Sequential(shape_groups_param_head, shape_groups_maker)\n",
    "\n",
    "canvas = gdg.Canvas(width=224, height=224)\n",
    "canvas_net = CanvasNet(\n",
    "    backbone=nn.Sequential(\n",
    "        nn.Linear(1, 128),\n",
    "        nn.ReLU(),\n",
    "        LazyRelu(128),\n",
    "        LazyRelu(128),\n",
    "        LazyRelu(128),\n",
    "    ),\n",
    "    shapes_head=shape_head,\n",
    "    shape_groups_head=shape_groups_head,\n",
    "    canvas=canvas,\n",
    ").to(device)\n",
    "canvas_clip_net = CanvasCLIPNet(canvas_net, perceptor=clip_model).to(device)"
   ]
  },
  {
   "cell_type": "code",
   "execution_count": 29,
   "id": "e5be669d",
   "metadata": {},
   "outputs": [],
   "source": [
    "c = shapes[0]"
   ]
  },
  {
   "cell_type": "code",
   "execution_count": 13,
   "id": "a5c9273a",
   "metadata": {},
   "outputs": [
    {
     "data": {
      "text/plain": [
       "tensor([8.5927], grad_fn=<SelectBackward>)"
      ]
     },
     "execution_count": 13,
     "metadata": {},
     "output_type": "execute_result"
    }
   ],
   "source": [
    "c.radius"
   ]
  },
  {
   "cell_type": "code",
   "execution_count": 30,
   "id": "032616f7",
   "metadata": {},
   "outputs": [
    {
     "data": {
      "text/plain": [
       "tensor(0.4418, grad_fn=<SelectBackward>)"
      ]
     },
     "execution_count": 30,
     "metadata": {},
     "output_type": "execute_result"
    }
   ],
   "source": [
    "c.stroke_width"
   ]
  },
  {
   "cell_type": "code",
   "execution_count": null,
   "id": "9536028b",
   "metadata": {},
   "outputs": [],
   "source": [
    "params = shape_param_head.forward(torch.tensor([1., ]))\n",
    "shapes, params = shape_maker.forward(params)"
   ]
  },
  {
   "cell_type": "code",
   "execution_count": 16,
   "id": "1216b339",
   "metadata": {},
   "outputs": [],
   "source": []
  },
  {
   "cell_type": "code",
   "execution_count": 214,
   "id": "fd73668b",
   "metadata": {},
   "outputs": [
    {
     "data": {
      "image/png": "[encoded data removed]",
      "text/plain": [
       "<PIL.Image.Image image mode=RGB size=224x224 at 0x7F517F2A4670>"
      ]
     },
     "execution_count": 214,
     "metadata": {},
     "output_type": "execute_result"
    }
   ],
   "source": [
    "shapes, shape_groups, tensors, img = canvas_clip_net.forward()\n",
    "canvas_clip_net.canvas_net.apply(init_weights);\n",
    "shapes, shape_groups, tensors, img = canvas_clip_net.forward()\n",
    "\n",
    "canvas.render(shapes, shape_groups, as_pil=True)"
   ]
  },
  {
   "cell_type": "code",
   "execution_count": 22,
   "id": "cce210e6",
   "metadata": {},
   "outputs": [],
   "source": [
    "shapes, shape_groups, tensors, img = canvas_net.forward()"
   ]
  },
  {
   "cell_type": "code",
   "execution_count": 212,
   "id": "46efc1cd",
   "metadata": {},
   "outputs": [
    {
     "data": {
      "image/png": "[encoded data removed]",
      "text/plain": [
       "<PIL.Image.Image image mode=RGB size=224x224 at 0x7F517F2A49A0>"
      ]
     },
     "execution_count": 212,
     "metadata": {},
     "output_type": "execute_result"
    }
   ],
   "source": [
    "optim = torch.optim.Adam(canvas_net.parameters(), lr=1e-3)\n",
    "losses, scaled_losses, shapes, shape_groups, tensors = train(\n",
    "        loss_weights = {\n",
    "            'big_rad_loss': 1e-4,\n",
    "            'overlap_loss': 1,\n",
    "            'distance_loss': 1e1,\n",
    "            'out_of_bounds_loss': 1e0, \n",
    "            },\n",
    "        canvas_net=canvas_net,\n",
    "        optim=optim,\n",
    "    )\n",
    "canvas.render(shapes, shape_groups, as_pil=True)"
   ]
  },
  {
   "cell_type": "code",
   "execution_count": 213,
   "id": "2e001e50",
   "metadata": {},
   "outputs": [
    {
     "data": {
      "image/png": "[encoded data removed]",
      "text/plain": [
       "<PIL.Image.Image image mode=RGB size=224x224 at 0x7F517F2A4070>"
      ]
     },
     "execution_count": 213,
     "metadata": {},
     "output_type": "execute_result"
    }
   ],
   "source": [
    "target_img = canvas.render(shapes, shape_groups).detach()\n",
    "gdg.to_pil(target_img)"
   ]
  },
  {
   "cell_type": "code",
   "execution_count": 215,
   "id": "b2bc9b40",
   "metadata": {},
   "outputs": [],
   "source": [
    "optim = torch.optim.Adam(canvas_net.parameters(), lr=3e-4)"
   ]
  },
  {
   "cell_type": "code",
   "execution_count": null,
   "id": "b9a5e6a6",
   "metadata": {},
   "outputs": [],
   "source": []
  },
  {
   "cell_type": "code",
   "execution_count": 221,
   "id": "498ee29c",
   "metadata": {},
   "outputs": [
    {
     "name": "stdout",
     "output_type": "stream",
     "text": [
      "tensor(0.0378, device='cuda:0', grad_fn=<MeanBackward0>)\n"
     ]
    },
    {
     "data": {
      "image/png": "[encoded data removed]",
      "text/plain": [
       "<PIL.Image.Image image mode=RGB size=224x224 at 0x7F517F217F40>"
      ]
     },
     "execution_count": 221,
     "metadata": {},
     "output_type": "execute_result"
    }
   ],
   "source": [
    "\n",
    "\n",
    "loss, shapes, shape_groups, tensors, img = train_img(canvas_net, optim, target_img)\n",
    "print(loss)\n",
    "gdg.to_pil(img)"
   ]
  },
  {
   "cell_type": "code",
   "execution_count": 224,
   "id": "f0b34d07",
   "metadata": {},
   "outputs": [
    {
     "data": {
      "text/plain": [
       "99"
      ]
     },
     "execution_count": 224,
     "metadata": {},
     "output_type": "execute_result"
    }
   ],
   "source": [
    "ii % 100"
   ]
  },
  {
   "cell_type": "code",
   "execution_count": 225,
   "id": "498ee29c",
   "metadata": {},
   "outputs": [
    {
     "name": "stderr",
     "output_type": "stream",
     "text": [
      "  0%|          | 3/10000 [00:00<06:29, 25.67it/s]"
     ]
    },
    {
     "name": "stdout",
     "output_type": "stream",
     "text": [
      "tensor(0.0247, device='cuda:0', grad_fn=<MeanBackward0>)\n"
     ]
    },
    {
     "name": "stderr",
     "output_type": "stream",
     "text": [
      "  1%|          | 104/10000 [00:04<07:16, 22.68it/s]"
     ]
    },
    {
     "name": "stdout",
     "output_type": "stream",
     "text": [
      "tensor(0.0246, device='cuda:0', grad_fn=<MeanBackward0>)\n"
     ]
    },
    {
     "name": "stderr",
     "output_type": "stream",
     "text": [
      "  2%|▏         | 200/10000 [00:08<06:28, 25.24it/s]"
     ]
    },
    {
     "name": "stdout",
     "output_type": "stream",
     "text": [
      "tensor(0.0245, device='cuda:0', grad_fn=<MeanBackward0>)\n"
     ]
    },
    {
     "name": "stderr",
     "output_type": "stream",
     "text": [
      "  3%|▎         | 304/10000 [00:13<07:04, 22.85it/s]"
     ]
    },
    {
     "name": "stdout",
     "output_type": "stream",
     "text": [
      "tensor(0.0244, device='cuda:0', grad_fn=<MeanBackward0>)\n"
     ]
    },
    {
     "name": "stderr",
     "output_type": "stream",
     "text": [
      "  4%|▍         | 403/10000 [00:17<07:10, 22.31it/s]"
     ]
    },
    {
     "name": "stdout",
     "output_type": "stream",
     "text": [
      "tensor(0.0244, device='cuda:0', grad_fn=<MeanBackward0>)\n"
     ]
    },
    {
     "name": "stderr",
     "output_type": "stream",
     "text": [
      "  5%|▌         | 505/10000 [00:22<06:21, 24.86it/s]"
     ]
    },
    {
     "name": "stdout",
     "output_type": "stream",
     "text": [
      "tensor(0.0243, device='cuda:0', grad_fn=<MeanBackward0>)\n"
     ]
    },
    {
     "name": "stderr",
     "output_type": "stream",
     "text": [
      "  6%|▌         | 604/10000 [00:26<06:14, 25.07it/s]"
     ]
    },
    {
     "name": "stdout",
     "output_type": "stream",
     "text": [
      "tensor(0.0245, device='cuda:0', grad_fn=<MeanBackward0>)\n"
     ]
    },
    {
     "name": "stderr",
     "output_type": "stream",
     "text": [
      "  7%|▋         | 706/10000 [00:31<06:37, 23.37it/s]"
     ]
    },
    {
     "name": "stdout",
     "output_type": "stream",
     "text": [
      "tensor(0.0241, device='cuda:0', grad_fn=<MeanBackward0>)\n"
     ]
    },
    {
     "name": "stderr",
     "output_type": "stream",
     "text": [
      "  8%|▊         | 805/10000 [00:35<06:47, 22.57it/s]"
     ]
    },
    {
     "name": "stdout",
     "output_type": "stream",
     "text": [
      "tensor(0.0242, device='cuda:0', grad_fn=<MeanBackward0>)\n"
     ]
    },
    {
     "name": "stderr",
     "output_type": "stream",
     "text": [
      "  9%|▉         | 904/10000 [00:40<07:16, 20.85it/s]"
     ]
    },
    {
     "name": "stdout",
     "output_type": "stream",
     "text": [
      "tensor(0.0240, device='cuda:0', grad_fn=<MeanBackward0>)\n"
     ]
    },
    {
     "name": "stderr",
     "output_type": "stream",
     "text": [
      " 10%|█         | 1003/10000 [00:44<06:28, 23.13it/s]"
     ]
    },
    {
     "name": "stdout",
     "output_type": "stream",
     "text": [
      "tensor(0.0243, device='cuda:0', grad_fn=<MeanBackward0>)\n"
     ]
    },
    {
     "name": "stderr",
     "output_type": "stream",
     "text": [
      " 11%|█         | 1105/10000 [00:48<06:11, 23.97it/s]"
     ]
    },
    {
     "name": "stdout",
     "output_type": "stream",
     "text": [
      "tensor(0.0239, device='cuda:0', grad_fn=<MeanBackward0>)\n"
     ]
    },
    {
     "name": "stderr",
     "output_type": "stream",
     "text": [
      " 12%|█▏        | 1204/10000 [00:53<05:41, 25.72it/s]"
     ]
    },
    {
     "name": "stdout",
     "output_type": "stream",
     "text": [
      "tensor(0.0240, device='cuda:0', grad_fn=<MeanBackward0>)\n"
     ]
    },
    {
     "name": "stderr",
     "output_type": "stream",
     "text": [
      " 13%|█▎        | 1303/10000 [00:57<07:15, 19.99it/s]"
     ]
    },
    {
     "name": "stdout",
     "output_type": "stream",
     "text": [
      "tensor(0.0242, device='cuda:0', grad_fn=<MeanBackward0>)\n"
     ]
    },
    {
     "name": "stderr",
     "output_type": "stream",
     "text": [
      " 14%|█▍        | 1405/10000 [01:02<07:13, 19.85it/s]"
     ]
    },
    {
     "name": "stdout",
     "output_type": "stream",
     "text": [
      "tensor(0.0239, device='cuda:0', grad_fn=<MeanBackward0>)\n"
     ]
    },
    {
     "name": "stderr",
     "output_type": "stream",
     "text": [
      " 15%|█▌        | 1504/10000 [01:06<06:31, 21.68it/s]"
     ]
    },
    {
     "name": "stdout",
     "output_type": "stream",
     "text": [
      "tensor(0.0240, device='cuda:0', grad_fn=<MeanBackward0>)\n"
     ]
    },
    {
     "name": "stderr",
     "output_type": "stream",
     "text": [
      " 16%|█▌        | 1603/10000 [01:10<05:25, 25.83it/s]"
     ]
    },
    {
     "name": "stdout",
     "output_type": "stream",
     "text": [
      "tensor(0.0241, device='cuda:0', grad_fn=<MeanBackward0>)\n"
     ]
    },
    {
     "name": "stderr",
     "output_type": "stream",
     "text": [
      " 17%|█▋        | 1705/10000 [01:15<05:17, 26.09it/s]"
     ]
    },
    {
     "name": "stdout",
     "output_type": "stream",
     "text": [
      "tensor(0.0242, device='cuda:0', grad_fn=<MeanBackward0>)\n"
     ]
    },
    {
     "name": "stderr",
     "output_type": "stream",
     "text": [
      " 18%|█▊        | 1804/10000 [01:19<06:07, 22.29it/s]"
     ]
    },
    {
     "name": "stdout",
     "output_type": "stream",
     "text": [
      "tensor(0.0241, device='cuda:0', grad_fn=<MeanBackward0>)\n"
     ]
    },
    {
     "name": "stderr",
     "output_type": "stream",
     "text": [
      " 19%|█▉        | 1906/10000 [01:24<05:39, 23.86it/s]"
     ]
    },
    {
     "name": "stdout",
     "output_type": "stream",
     "text": [
      "tensor(0.0240, device='cuda:0', grad_fn=<MeanBackward0>)\n"
     ]
    },
    {
     "name": "stderr",
     "output_type": "stream",
     "text": [
      " 20%|██        | 2005/10000 [01:28<05:43, 23.26it/s]"
     ]
    },
    {
     "name": "stdout",
     "output_type": "stream",
     "text": [
      "tensor(0.0240, device='cuda:0', grad_fn=<MeanBackward0>)\n"
     ]
    },
    {
     "name": "stderr",
     "output_type": "stream",
     "text": [
      " 21%|██        | 2104/10000 [01:33<06:33, 20.06it/s]"
     ]
    },
    {
     "name": "stdout",
     "output_type": "stream",
     "text": [
      "tensor(0.0239, device='cuda:0', grad_fn=<MeanBackward0>)\n"
     ]
    },
    {
     "name": "stderr",
     "output_type": "stream",
     "text": [
      " 22%|██▏       | 2204/10000 [01:37<05:44, 22.60it/s]"
     ]
    },
    {
     "name": "stdout",
     "output_type": "stream",
     "text": [
      "tensor(0.0238, device='cuda:0', grad_fn=<MeanBackward0>)\n"
     ]
    },
    {
     "name": "stderr",
     "output_type": "stream",
     "text": [
      " 23%|██▎       | 2303/10000 [01:41<05:13, 24.55it/s]"
     ]
    },
    {
     "name": "stdout",
     "output_type": "stream",
     "text": [
      "tensor(0.0233, device='cuda:0', grad_fn=<MeanBackward0>)\n"
     ]
    },
    {
     "name": "stderr",
     "output_type": "stream",
     "text": [
      " 24%|██▍       | 2405/10000 [01:46<05:03, 25.02it/s]"
     ]
    },
    {
     "name": "stdout",
     "output_type": "stream",
     "text": [
      "tensor(0.0234, device='cuda:0', grad_fn=<MeanBackward0>)\n"
     ]
    },
    {
     "name": "stderr",
     "output_type": "stream",
     "text": [
      " 25%|██▌       | 2506/10000 [01:51<05:07, 24.35it/s]"
     ]
    },
    {
     "name": "stdout",
     "output_type": "stream",
     "text": [
      "tensor(0.0233, device='cuda:0', grad_fn=<MeanBackward0>)\n"
     ]
    },
    {
     "name": "stderr",
     "output_type": "stream",
     "text": [
      " 26%|██▌       | 2605/10000 [01:55<05:22, 22.90it/s]"
     ]
    },
    {
     "name": "stdout",
     "output_type": "stream",
     "text": [
      "tensor(0.0235, device='cuda:0', grad_fn=<MeanBackward0>)\n"
     ]
    },
    {
     "name": "stderr",
     "output_type": "stream",
     "text": [
      " 27%|██▋       | 2704/10000 [02:00<06:05, 19.94it/s]"
     ]
    },
    {
     "name": "stdout",
     "output_type": "stream",
     "text": [
      "tensor(0.0233, device='cuda:0', grad_fn=<MeanBackward0>)\n"
     ]
    },
    {
     "name": "stderr",
     "output_type": "stream",
     "text": [
      " 28%|██▊       | 2803/10000 [02:04<04:55, 24.38it/s]"
     ]
    },
    {
     "name": "stdout",
     "output_type": "stream",
     "text": [
      "tensor(0.0237, device='cuda:0', grad_fn=<MeanBackward0>)\n"
     ]
    },
    {
     "name": "stderr",
     "output_type": "stream",
     "text": [
      " 29%|██▉       | 2905/10000 [02:08<04:36, 25.63it/s]"
     ]
    },
    {
     "name": "stdout",
     "output_type": "stream",
     "text": [
      "tensor(0.0231, device='cuda:0', grad_fn=<MeanBackward0>)\n"
     ]
    },
    {
     "name": "stderr",
     "output_type": "stream",
     "text": [
      " 30%|███       | 3004/10000 [02:13<04:51, 24.03it/s]"
     ]
    },
    {
     "name": "stdout",
     "output_type": "stream",
     "text": [
      "tensor(0.0229, device='cuda:0', grad_fn=<MeanBackward0>)\n"
     ]
    },
    {
     "name": "stderr",
     "output_type": "stream",
     "text": [
      " 31%|███       | 3106/10000 [02:17<05:09, 22.30it/s]"
     ]
    },
    {
     "name": "stdout",
     "output_type": "stream",
     "text": [
      "tensor(0.0229, device='cuda:0', grad_fn=<MeanBackward0>)\n"
     ]
    },
    {
     "name": "stderr",
     "output_type": "stream",
     "text": [
      " 32%|███▏      | 3202/10000 [02:22<04:50, 23.41it/s]"
     ]
    },
    {
     "name": "stdout",
     "output_type": "stream",
     "text": [
      "tensor(0.0227, device='cuda:0', grad_fn=<MeanBackward0>)\n"
     ]
    },
    {
     "name": "stderr",
     "output_type": "stream",
     "text": [
      " 33%|███▎      | 3305/10000 [02:26<05:02, 22.10it/s]"
     ]
    },
    {
     "name": "stdout",
     "output_type": "stream",
     "text": [
      "tensor(0.0229, device='cuda:0', grad_fn=<MeanBackward0>)\n"
     ]
    },
    {
     "name": "stderr",
     "output_type": "stream",
     "text": [
      " 34%|███▍      | 3404/10000 [02:31<04:19, 25.37it/s]"
     ]
    },
    {
     "name": "stdout",
     "output_type": "stream",
     "text": [
      "tensor(0.0230, device='cuda:0', grad_fn=<MeanBackward0>)\n"
     ]
    },
    {
     "name": "stderr",
     "output_type": "stream",
     "text": [
      " 35%|███▌      | 3506/10000 [02:35<04:32, 23.87it/s]"
     ]
    },
    {
     "name": "stdout",
     "output_type": "stream",
     "text": [
      "tensor(0.0229, device='cuda:0', grad_fn=<MeanBackward0>)\n"
     ]
    },
    {
     "name": "stderr",
     "output_type": "stream",
     "text": [
      " 36%|███▌      | 3605/10000 [02:39<04:05, 26.00it/s]"
     ]
    },
    {
     "name": "stdout",
     "output_type": "stream",
     "text": [
      "tensor(0.0229, device='cuda:0', grad_fn=<MeanBackward0>)\n"
     ]
    },
    {
     "name": "stderr",
     "output_type": "stream",
     "text": [
      " 37%|███▋      | 3704/10000 [02:44<05:22, 19.54it/s]"
     ]
    },
    {
     "name": "stdout",
     "output_type": "stream",
     "text": [
      "tensor(0.0229, device='cuda:0', grad_fn=<MeanBackward0>)\n"
     ]
    },
    {
     "name": "stderr",
     "output_type": "stream",
     "text": [
      " 38%|███▊      | 3806/10000 [02:48<04:07, 25.06it/s]"
     ]
    },
    {
     "name": "stdout",
     "output_type": "stream",
     "text": [
      "tensor(0.0227, device='cuda:0', grad_fn=<MeanBackward0>)\n"
     ]
    },
    {
     "name": "stderr",
     "output_type": "stream",
     "text": [
      " 39%|███▉      | 3902/10000 [02:53<03:54, 25.99it/s]"
     ]
    },
    {
     "name": "stdout",
     "output_type": "stream",
     "text": [
      "tensor(0.0227, device='cuda:0', grad_fn=<MeanBackward0>)\n"
     ]
    },
    {
     "name": "stderr",
     "output_type": "stream",
     "text": [
      " 40%|████      | 4004/10000 [02:57<04:16, 23.36it/s]"
     ]
    },
    {
     "name": "stdout",
     "output_type": "stream",
     "text": [
      "tensor(0.0225, device='cuda:0', grad_fn=<MeanBackward0>)\n"
     ]
    },
    {
     "name": "stderr",
     "output_type": "stream",
     "text": [
      " 41%|████      | 4106/10000 [03:02<03:47, 25.86it/s]"
     ]
    },
    {
     "name": "stdout",
     "output_type": "stream",
     "text": [
      "tensor(0.0226, device='cuda:0', grad_fn=<MeanBackward0>)\n"
     ]
    },
    {
     "name": "stderr",
     "output_type": "stream",
     "text": [
      " 42%|████▏     | 4205/10000 [03:06<04:33, 21.19it/s]"
     ]
    },
    {
     "name": "stdout",
     "output_type": "stream",
     "text": [
      "tensor(0.0225, device='cuda:0', grad_fn=<MeanBackward0>)\n"
     ]
    },
    {
     "name": "stderr",
     "output_type": "stream",
     "text": [
      " 43%|████▎     | 4304/10000 [03:11<04:01, 23.55it/s]"
     ]
    },
    {
     "name": "stdout",
     "output_type": "stream",
     "text": [
      "tensor(0.0226, device='cuda:0', grad_fn=<MeanBackward0>)\n"
     ]
    },
    {
     "name": "stderr",
     "output_type": "stream",
     "text": [
      " 44%|████▍     | 4400/10000 [03:15<03:37, 25.70it/s]"
     ]
    },
    {
     "name": "stdout",
     "output_type": "stream",
     "text": [
      "tensor(0.0224, device='cuda:0', grad_fn=<MeanBackward0>)\n"
     ]
    },
    {
     "name": "stderr",
     "output_type": "stream",
     "text": [
      " 45%|████▌     | 4504/10000 [03:20<04:08, 22.14it/s]"
     ]
    },
    {
     "name": "stdout",
     "output_type": "stream",
     "text": [
      "tensor(0.0225, device='cuda:0', grad_fn=<MeanBackward0>)\n"
     ]
    },
    {
     "name": "stderr",
     "output_type": "stream",
     "text": [
      " 46%|████▌     | 4606/10000 [03:24<03:34, 25.20it/s]"
     ]
    },
    {
     "name": "stdout",
     "output_type": "stream",
     "text": [
      "tensor(0.0224, device='cuda:0', grad_fn=<MeanBackward0>)\n"
     ]
    },
    {
     "name": "stderr",
     "output_type": "stream",
     "text": [
      " 47%|████▋     | 4702/10000 [03:29<04:27, 19.83it/s]"
     ]
    },
    {
     "name": "stdout",
     "output_type": "stream",
     "text": [
      "tensor(0.0225, device='cuda:0', grad_fn=<MeanBackward0>)\n"
     ]
    },
    {
     "name": "stderr",
     "output_type": "stream",
     "text": [
      " 48%|████▊     | 4801/10000 [03:33<03:35, 24.16it/s]"
     ]
    },
    {
     "name": "stdout",
     "output_type": "stream",
     "text": [
      "tensor(0.0224, device='cuda:0', grad_fn=<MeanBackward0>)\n"
     ]
    },
    {
     "name": "stderr",
     "output_type": "stream",
     "text": [
      " 49%|████▉     | 4906/10000 [03:38<03:21, 25.28it/s]"
     ]
    },
    {
     "name": "stdout",
     "output_type": "stream",
     "text": [
      "tensor(0.0226, device='cuda:0', grad_fn=<MeanBackward0>)\n"
     ]
    },
    {
     "name": "stderr",
     "output_type": "stream",
     "text": [
      " 50%|█████     | 5005/10000 [03:42<04:08, 20.09it/s]"
     ]
    },
    {
     "name": "stdout",
     "output_type": "stream",
     "text": [
      "tensor(0.0225, device='cuda:0', grad_fn=<MeanBackward0>)\n"
     ]
    },
    {
     "name": "stderr",
     "output_type": "stream",
     "text": [
      " 51%|█████     | 5104/10000 [03:46<03:34, 22.84it/s]"
     ]
    },
    {
     "name": "stdout",
     "output_type": "stream",
     "text": [
      "tensor(0.0223, device='cuda:0', grad_fn=<MeanBackward0>)\n"
     ]
    },
    {
     "name": "stderr",
     "output_type": "stream",
     "text": [
      " 52%|█████▏    | 5206/10000 [03:51<03:08, 25.41it/s]"
     ]
    },
    {
     "name": "stdout",
     "output_type": "stream",
     "text": [
      "tensor(0.0224, device='cuda:0', grad_fn=<MeanBackward0>)\n"
     ]
    },
    {
     "name": "stderr",
     "output_type": "stream",
     "text": [
      " 53%|█████▎    | 5302/10000 [03:55<02:58, 26.29it/s]"
     ]
    },
    {
     "name": "stdout",
     "output_type": "stream",
     "text": [
      "tensor(0.0222, device='cuda:0', grad_fn=<MeanBackward0>)\n"
     ]
    },
    {
     "name": "stderr",
     "output_type": "stream",
     "text": [
      " 54%|█████▍    | 5404/10000 [04:00<03:11, 23.97it/s]"
     ]
    },
    {
     "name": "stdout",
     "output_type": "stream",
     "text": [
      "tensor(0.0226, device='cuda:0', grad_fn=<MeanBackward0>)\n"
     ]
    },
    {
     "name": "stderr",
     "output_type": "stream",
     "text": [
      " 55%|█████▌    | 5506/10000 [04:04<02:57, 25.26it/s]"
     ]
    },
    {
     "name": "stdout",
     "output_type": "stream",
     "text": [
      "tensor(0.0224, device='cuda:0', grad_fn=<MeanBackward0>)\n"
     ]
    },
    {
     "name": "stderr",
     "output_type": "stream",
     "text": [
      " 56%|█████▌    | 5605/10000 [04:09<03:04, 23.85it/s]"
     ]
    },
    {
     "name": "stdout",
     "output_type": "stream",
     "text": [
      "tensor(0.0226, device='cuda:0', grad_fn=<MeanBackward0>)\n"
     ]
    },
    {
     "name": "stderr",
     "output_type": "stream",
     "text": [
      " 57%|█████▋    | 5704/10000 [04:13<02:49, 25.33it/s]"
     ]
    },
    {
     "name": "stdout",
     "output_type": "stream",
     "text": [
      "tensor(0.0227, device='cuda:0', grad_fn=<MeanBackward0>)\n"
     ]
    },
    {
     "name": "stderr",
     "output_type": "stream",
     "text": [
      " 58%|█████▊    | 5806/10000 [04:17<02:41, 26.01it/s]"
     ]
    },
    {
     "name": "stdout",
     "output_type": "stream",
     "text": [
      "tensor(0.0226, device='cuda:0', grad_fn=<MeanBackward0>)\n"
     ]
    },
    {
     "name": "stderr",
     "output_type": "stream",
     "text": [
      " 59%|█████▉    | 5905/10000 [04:22<02:56, 23.15it/s]"
     ]
    },
    {
     "name": "stdout",
     "output_type": "stream",
     "text": [
      "tensor(0.0225, device='cuda:0', grad_fn=<MeanBackward0>)\n"
     ]
    },
    {
     "name": "stderr",
     "output_type": "stream",
     "text": [
      " 60%|██████    | 6004/10000 [04:26<03:25, 19.43it/s]"
     ]
    },
    {
     "name": "stdout",
     "output_type": "stream",
     "text": [
      "tensor(0.0225, device='cuda:0', grad_fn=<MeanBackward0>)\n"
     ]
    },
    {
     "name": "stderr",
     "output_type": "stream",
     "text": [
      " 61%|██████    | 6103/10000 [04:31<02:45, 23.50it/s]"
     ]
    },
    {
     "name": "stdout",
     "output_type": "stream",
     "text": [
      "tensor(0.0226, device='cuda:0', grad_fn=<MeanBackward0>)\n"
     ]
    },
    {
     "name": "stderr",
     "output_type": "stream",
     "text": [
      " 62%|██████▏   | 6205/10000 [04:35<02:33, 24.76it/s]"
     ]
    },
    {
     "name": "stdout",
     "output_type": "stream",
     "text": [
      "tensor(0.0225, device='cuda:0', grad_fn=<MeanBackward0>)\n"
     ]
    },
    {
     "name": "stderr",
     "output_type": "stream",
     "text": [
      " 63%|██████▎   | 6304/10000 [04:39<02:21, 26.11it/s]"
     ]
    },
    {
     "name": "stdout",
     "output_type": "stream",
     "text": [
      "tensor(0.0225, device='cuda:0', grad_fn=<MeanBackward0>)\n"
     ]
    },
    {
     "name": "stderr",
     "output_type": "stream",
     "text": [
      " 64%|██████▍   | 6406/10000 [04:44<02:21, 25.43it/s]"
     ]
    },
    {
     "name": "stdout",
     "output_type": "stream",
     "text": [
      "tensor(0.0224, device='cuda:0', grad_fn=<MeanBackward0>)\n"
     ]
    },
    {
     "name": "stderr",
     "output_type": "stream",
     "text": [
      " 65%|██████▌   | 6505/10000 [04:48<02:20, 24.88it/s]"
     ]
    },
    {
     "name": "stdout",
     "output_type": "stream",
     "text": [
      "tensor(0.0225, device='cuda:0', grad_fn=<MeanBackward0>)\n"
     ]
    },
    {
     "name": "stderr",
     "output_type": "stream",
     "text": [
      " 66%|██████▌   | 6604/10000 [04:53<03:11, 17.76it/s]"
     ]
    },
    {
     "name": "stdout",
     "output_type": "stream",
     "text": [
      "tensor(0.0223, device='cuda:0', grad_fn=<MeanBackward0>)\n"
     ]
    },
    {
     "name": "stderr",
     "output_type": "stream",
     "text": [
      " 67%|██████▋   | 6706/10000 [04:57<02:38, 20.81it/s]"
     ]
    },
    {
     "name": "stdout",
     "output_type": "stream",
     "text": [
      "tensor(0.0223, device='cuda:0', grad_fn=<MeanBackward0>)\n"
     ]
    },
    {
     "name": "stderr",
     "output_type": "stream",
     "text": [
      " 68%|██████▊   | 6805/10000 [05:01<01:57, 27.23it/s]"
     ]
    },
    {
     "name": "stdout",
     "output_type": "stream",
     "text": [
      "tensor(0.0223, device='cuda:0', grad_fn=<MeanBackward0>)\n"
     ]
    },
    {
     "name": "stderr",
     "output_type": "stream",
     "text": [
      " 69%|██████▉   | 6904/10000 [05:06<02:04, 24.95it/s]"
     ]
    },
    {
     "name": "stdout",
     "output_type": "stream",
     "text": [
      "tensor(0.0224, device='cuda:0', grad_fn=<MeanBackward0>)\n"
     ]
    },
    {
     "name": "stderr",
     "output_type": "stream",
     "text": [
      " 70%|███████   | 7005/10000 [05:10<02:00, 24.90it/s]"
     ]
    },
    {
     "name": "stdout",
     "output_type": "stream",
     "text": [
      "tensor(0.0223, device='cuda:0', grad_fn=<MeanBackward0>)\n"
     ]
    },
    {
     "name": "stderr",
     "output_type": "stream",
     "text": [
      " 71%|███████   | 7103/10000 [05:15<01:57, 24.63it/s]"
     ]
    },
    {
     "name": "stdout",
     "output_type": "stream",
     "text": [
      "tensor(0.0223, device='cuda:0', grad_fn=<MeanBackward0>)\n"
     ]
    },
    {
     "name": "stderr",
     "output_type": "stream",
     "text": [
      " 72%|███████▏  | 7205/10000 [05:19<01:47, 26.02it/s]"
     ]
    },
    {
     "name": "stdout",
     "output_type": "stream",
     "text": [
      "tensor(0.0225, device='cuda:0', grad_fn=<MeanBackward0>)\n"
     ]
    },
    {
     "name": "stderr",
     "output_type": "stream",
     "text": [
      " 73%|███████▎  | 7304/10000 [05:24<02:45, 16.33it/s]"
     ]
    },
    {
     "name": "stdout",
     "output_type": "stream",
     "text": [
      "tensor(0.0221, device='cuda:0', grad_fn=<MeanBackward0>)\n"
     ]
    },
    {
     "name": "stderr",
     "output_type": "stream",
     "text": [
      " 74%|███████▍  | 7403/10000 [05:28<02:03, 21.03it/s]"
     ]
    },
    {
     "name": "stdout",
     "output_type": "stream",
     "text": [
      "tensor(0.0223, device='cuda:0', grad_fn=<MeanBackward0>)\n"
     ]
    },
    {
     "name": "stderr",
     "output_type": "stream",
     "text": [
      " 75%|███████▌  | 7505/10000 [05:33<01:36, 25.76it/s]"
     ]
    },
    {
     "name": "stdout",
     "output_type": "stream",
     "text": [
      "tensor(0.0224, device='cuda:0', grad_fn=<MeanBackward0>)\n"
     ]
    },
    {
     "name": "stderr",
     "output_type": "stream",
     "text": [
      " 76%|███████▌  | 7603/10000 [05:37<01:43, 23.11it/s]"
     ]
    },
    {
     "name": "stdout",
     "output_type": "stream",
     "text": [
      "tensor(0.0222, device='cuda:0', grad_fn=<MeanBackward0>)\n"
     ]
    },
    {
     "name": "stderr",
     "output_type": "stream",
     "text": [
      " 77%|███████▋  | 7703/10000 [05:41<01:41, 22.54it/s]"
     ]
    },
    {
     "name": "stdout",
     "output_type": "stream",
     "text": [
      "tensor(0.0223, device='cuda:0', grad_fn=<MeanBackward0>)\n"
     ]
    },
    {
     "name": "stderr",
     "output_type": "stream",
     "text": [
      " 78%|███████▊  | 7802/10000 [05:46<01:23, 26.40it/s]"
     ]
    },
    {
     "name": "stdout",
     "output_type": "stream",
     "text": [
      "tensor(0.0223, device='cuda:0', grad_fn=<MeanBackward0>)\n"
     ]
    },
    {
     "name": "stderr",
     "output_type": "stream",
     "text": [
      " 79%|███████▉  | 7904/10000 [05:50<01:36, 21.80it/s]"
     ]
    },
    {
     "name": "stdout",
     "output_type": "stream",
     "text": [
      "tensor(0.0222, device='cuda:0', grad_fn=<MeanBackward0>)\n"
     ]
    },
    {
     "name": "stderr",
     "output_type": "stream",
     "text": [
      " 80%|████████  | 8003/10000 [05:55<01:17, 25.72it/s]"
     ]
    },
    {
     "name": "stdout",
     "output_type": "stream",
     "text": [
      "tensor(0.0222, device='cuda:0', grad_fn=<MeanBackward0>)\n"
     ]
    },
    {
     "name": "stderr",
     "output_type": "stream",
     "text": [
      " 81%|████████  | 8105/10000 [05:59<01:23, 22.63it/s]"
     ]
    },
    {
     "name": "stdout",
     "output_type": "stream",
     "text": [
      "tensor(0.0222, device='cuda:0', grad_fn=<MeanBackward0>)\n"
     ]
    },
    {
     "name": "stderr",
     "output_type": "stream",
     "text": [
      " 82%|████████▏ | 8204/10000 [06:03<01:11, 25.03it/s]"
     ]
    },
    {
     "name": "stdout",
     "output_type": "stream",
     "text": [
      "tensor(0.0222, device='cuda:0', grad_fn=<MeanBackward0>)\n"
     ]
    },
    {
     "name": "stderr",
     "output_type": "stream",
     "text": [
      " 83%|████████▎ | 8306/10000 [06:08<01:11, 23.86it/s]"
     ]
    },
    {
     "name": "stdout",
     "output_type": "stream",
     "text": [
      "tensor(0.0223, device='cuda:0', grad_fn=<MeanBackward0>)\n"
     ]
    },
    {
     "name": "stderr",
     "output_type": "stream",
     "text": [
      " 84%|████████▍ | 8405/10000 [06:12<01:02, 25.39it/s]"
     ]
    },
    {
     "name": "stdout",
     "output_type": "stream",
     "text": [
      "tensor(0.0223, device='cuda:0', grad_fn=<MeanBackward0>)\n"
     ]
    },
    {
     "name": "stderr",
     "output_type": "stream",
     "text": [
      " 85%|████████▌ | 8506/10000 [06:17<00:57, 25.92it/s]"
     ]
    },
    {
     "name": "stdout",
     "output_type": "stream",
     "text": [
      "tensor(0.0224, device='cuda:0', grad_fn=<MeanBackward0>)\n"
     ]
    },
    {
     "name": "stderr",
     "output_type": "stream",
     "text": [
      " 86%|████████▌ | 8600/10000 [06:21<00:53, 26.00it/s]"
     ]
    },
    {
     "name": "stdout",
     "output_type": "stream",
     "text": [
      "tensor(0.0223, device='cuda:0', grad_fn=<MeanBackward0>)\n"
     ]
    },
    {
     "name": "stderr",
     "output_type": "stream",
     "text": [
      " 87%|████████▋ | 8705/10000 [06:26<01:05, 19.92it/s]"
     ]
    },
    {
     "name": "stdout",
     "output_type": "stream",
     "text": [
      "tensor(0.0222, device='cuda:0', grad_fn=<MeanBackward0>)\n"
     ]
    },
    {
     "name": "stderr",
     "output_type": "stream",
     "text": [
      " 88%|████████▊ | 8805/10000 [06:30<00:52, 22.59it/s]"
     ]
    },
    {
     "name": "stdout",
     "output_type": "stream",
     "text": [
      "tensor(0.0223, device='cuda:0', grad_fn=<MeanBackward0>)\n"
     ]
    },
    {
     "name": "stderr",
     "output_type": "stream",
     "text": [
      " 89%|████████▉ | 8904/10000 [06:35<00:44, 24.56it/s]"
     ]
    },
    {
     "name": "stdout",
     "output_type": "stream",
     "text": [
      "tensor(0.0222, device='cuda:0', grad_fn=<MeanBackward0>)\n"
     ]
    },
    {
     "name": "stderr",
     "output_type": "stream",
     "text": [
      " 90%|█████████ | 9006/10000 [06:39<00:38, 25.78it/s]"
     ]
    },
    {
     "name": "stdout",
     "output_type": "stream",
     "text": [
      "tensor(0.0222, device='cuda:0', grad_fn=<MeanBackward0>)\n"
     ]
    },
    {
     "name": "stderr",
     "output_type": "stream",
     "text": [
      " 91%|█████████ | 9105/10000 [06:44<00:39, 22.38it/s]"
     ]
    },
    {
     "name": "stdout",
     "output_type": "stream",
     "text": [
      "tensor(0.0223, device='cuda:0', grad_fn=<MeanBackward0>)\n"
     ]
    },
    {
     "name": "stderr",
     "output_type": "stream",
     "text": [
      " 92%|█████████▏| 9204/10000 [06:48<00:32, 24.15it/s]"
     ]
    },
    {
     "name": "stdout",
     "output_type": "stream",
     "text": [
      "tensor(0.0223, device='cuda:0', grad_fn=<MeanBackward0>)\n"
     ]
    },
    {
     "name": "stderr",
     "output_type": "stream",
     "text": [
      " 93%|█████████▎| 9306/10000 [06:53<00:31, 22.36it/s]"
     ]
    },
    {
     "name": "stdout",
     "output_type": "stream",
     "text": [
      "tensor(0.0223, device='cuda:0', grad_fn=<MeanBackward0>)\n"
     ]
    },
    {
     "name": "stderr",
     "output_type": "stream",
     "text": [
      " 94%|█████████▍| 9407/10000 [06:57<00:20, 28.44it/s]"
     ]
    },
    {
     "name": "stdout",
     "output_type": "stream",
     "text": [
      "tensor(0.0222, device='cuda:0', grad_fn=<MeanBackward0>)\n"
     ]
    },
    {
     "name": "stderr",
     "output_type": "stream",
     "text": [
      " 95%|█████████▌| 9506/10000 [07:01<00:19, 25.84it/s]"
     ]
    },
    {
     "name": "stdout",
     "output_type": "stream",
     "text": [
      "tensor(0.0225, device='cuda:0', grad_fn=<MeanBackward0>)\n"
     ]
    },
    {
     "name": "stderr",
     "output_type": "stream",
     "text": [
      " 96%|█████████▌| 9602/10000 [07:05<00:15, 25.76it/s]"
     ]
    },
    {
     "name": "stdout",
     "output_type": "stream",
     "text": [
      "tensor(0.0219, device='cuda:0', grad_fn=<MeanBackward0>)\n"
     ]
    },
    {
     "name": "stderr",
     "output_type": "stream",
     "text": [
      " 97%|█████████▋| 9704/10000 [07:10<00:12, 23.29it/s]"
     ]
    },
    {
     "name": "stdout",
     "output_type": "stream",
     "text": [
      "tensor(0.0220, device='cuda:0', grad_fn=<MeanBackward0>)\n"
     ]
    },
    {
     "name": "stderr",
     "output_type": "stream",
     "text": [
      " 98%|█████████▊| 9800/10000 [07:14<00:08, 23.71it/s]"
     ]
    },
    {
     "name": "stdout",
     "output_type": "stream",
     "text": [
      "tensor(0.0220, device='cuda:0', grad_fn=<MeanBackward0>)\n"
     ]
    },
    {
     "name": "stderr",
     "output_type": "stream",
     "text": [
      " 99%|█████████▉| 9906/10000 [07:19<00:03, 24.42it/s]"
     ]
    },
    {
     "name": "stdout",
     "output_type": "stream",
     "text": [
      "tensor(0.0220, device='cuda:0', grad_fn=<MeanBackward0>)\n"
     ]
    },
    {
     "name": "stderr",
     "output_type": "stream",
     "text": [
      "100%|██████████| 10000/10000 [07:23<00:00, 22.53it/s]"
     ]
    },
    {
     "name": "stdout",
     "output_type": "stream",
     "text": [
      "tensor(0.0220, device='cuda:0', grad_fn=<MeanBackward0>)\n"
     ]
    },
    {
     "name": "stderr",
     "output_type": "stream",
     "text": [
      "\n"
     ]
    },
    {
     "data": {
      "image/png": "[encoded data removed]",
      "text/plain": [
       "<PIL.Image.Image image mode=RGB size=224x224 at 0x7F51BD9A1DF0>"
      ]
     },
     "execution_count": 225,
     "metadata": {},
     "output_type": "execute_result"
    }
   ],
   "source": [
    "for ii in tqdm(range(10000)):\n",
    "    loss, shapes, shape_groups, tensors, img = train_img(canvas_net, optim, target_img)\n",
    "    if ii % 100 == 0:\n",
    "        print(loss)\n",
    "print(loss)\n",
    "gdg.to_pil(img)"
   ]
  },
  {
   "cell_type": "code",
   "execution_count": 13,
   "id": "d1b647d9",
   "metadata": {},
   "outputs": [],
   "source": [
    "canvas_clip_net.set_text_prompts(['a smile made of circles'])"
   ]
  },
  {
   "cell_type": "code",
   "execution_count": 14,
   "id": "41047a1e",
   "metadata": {},
   "outputs": [],
   "source": [
    "shapes, shape_groups, tensors, img = canvas_clip_net.forward()"
   ]
  },
  {
   "cell_type": "code",
   "execution_count": null,
   "id": "b0b1eaf3",
   "metadata": {},
   "outputs": [],
   "source": [
    "from torch import autograd\n",
    "with autograd.detect_anomaly():\n",
    "    loss, shapes, shape_groups, tensors, img = train_clip(canvas_clip_net, optim, )"
   ]
  },
  {
   "cell_type": "code",
   "execution_count": null,
   "id": "82597fd0",
   "metadata": {},
   "outputs": [],
   "source": [
    "optim = torch.optim.Adam(canvas_clip_net.parameters(), lr=1e-2)\n",
    "loss, shapes, shape_groups, tensors, img = train_clip(canvas_clip_net, optim, )\n",
    "print(loss)\n",
    "img"
   ]
  },
  {
   "cell_type": "code",
   "execution_count": 15,
   "id": "e3a8c872",
   "metadata": {},
   "outputs": [],
   "source": []
  },
  {
   "cell_type": "code",
   "execution_count": 181,
   "id": "e4614c9a",
   "metadata": {},
   "outputs": [
    {
     "data": {
      "text/plain": [
       "device(type='cuda', index=0)"
      ]
     },
     "execution_count": 181,
     "metadata": {},
     "output_type": "execute_result"
    }
   ],
   "source": [
    "pydiffvg.get_device()"
   ]
  },
  {
   "cell_type": "code",
   "execution_count": 5,
   "id": "eaa7ff38",
   "metadata": {},
   "outputs": [],
   "source": [
    "import pydiffvg\n",
    "\n",
    "canvas_width, canvas_height = 256, 256\n",
    "circle = pydiffvg.Circle(radius = torch.tensor(40.0),\n",
    "                         center = torch.tensor([128.0, 128.0]),\n",
    "                         stroke_width = torch.tensor(5.0))\n",
    "shapes = [circle]\n",
    "circle_group = pydiffvg.ShapeGroup(shape_ids = torch.tensor([0]),\n",
    "    fill_color = torch.tensor([0.3, 0.6, 0.3, 1.0]),\n",
    "    stroke_color = torch.tensor([0.6, 0.3, 0.6, 0.8]))\n",
    "shape_groups = [circle_group]\n",
    "scene_args = pydiffvg.RenderFunction.serialize_scene(\\\n",
    "    canvas_width, canvas_height, shapes, shape_groups)\n",
    "\n",
    "render = pydiffvg.RenderFunction.apply\n",
    "img = render(256, # width\n",
    "             256, # height\n",
    "             2,   # num_samples_x\n",
    "             2,   # num_samples_y\n",
    "             0,   # seed\n",
    "             None,\n",
    "             *scene_args)\n",
    "\n",
    "# The output image is in linear RGB space. Do Gamma correction before saving the image.\n",
    "target = img.clone()\n"
   ]
  },
  {
   "cell_type": "code",
   "execution_count": 22,
   "id": "0ae9319a",
   "metadata": {},
   "outputs": [],
   "source": [
    "\n",
    "# Move the circle to produce initial guess\n",
    "# normalize radius & center for easier learning rate\n",
    "radius_n = torch.tensor(20.0 / 256.0, requires_grad=False, device='cuda')\n",
    "center_n = torch.tensor([108.0 / 256.0, 138.0 / 256.0], requires_grad=True, device='cuda')\n",
    "fill_color_n = torch.tensor([0.3, 0.2, 0.8, 1.0], requires_grad=True, device='cuda')\n",
    "stroke_color_n = torch.tensor([0.4, 0.7, 0.5, 0.5], requires_grad=True, device='cuda')\n",
    "stroke_width_n = torch.tensor(10.0 / 100.0, requires_grad=True, device='cuda')\n",
    "\n",
    "new_circle = pydiffvg.Circle(\n",
    "    radius = radius_n * 256,\n",
    "    center = center_n * 256,\n",
    "    stroke_width=stroke_width_n * 100,\n",
    "    )\n",
    "shapes = [new_circle]\n",
    "\n",
    "new_circle_group = pydiffvg.ShapeGroup(\n",
    "    shape_ids = torch.tensor([0], device='cuda'),\n",
    "    fill_color=fill_color_n,\n",
    "    stroke_color=stroke_color_n,\n",
    "    )\n",
    "shape_groups = [new_circle_group]\n",
    "\n",
    "scene_args = pydiffvg.RenderFunction.serialize_scene(\\\n",
    "    canvas_width, canvas_height, shapes, shape_groups)\n",
    "img = render(256, # width\n",
    "             256, # height\n",
    "             2,   # num_samples_x\n",
    "             2,   # num_samples_y\n",
    "             1,   # seed\n",
    "             None,\n",
    "             *scene_args)"
   ]
  },
  {
   "cell_type": "code",
   "execution_count": 41,
   "id": "6a779ed2",
   "metadata": {},
   "outputs": [],
   "source": [
    "net = nn.Sequential(\n",
    "    nn.Linear(1, 10),\n",
    "    nn.Linear(10, 2),\n",
    "    nn.Sigmoid(),\n",
    ").apply(init_weights).cuda()"
   ]
  },
  {
   "cell_type": "code",
   "execution_count": 42,
   "id": "2ef7bc70",
   "metadata": {},
   "outputs": [],
   "source": [
    "dummy_input = torch.tensor([1.,]).cuda()"
   ]
  },
  {
   "cell_type": "code",
   "execution_count": 43,
   "id": "553ab65f",
   "metadata": {},
   "outputs": [
    {
     "data": {
      "text/plain": [
       "tensor(0.0781, device='cuda:0')"
      ]
     },
     "execution_count": 43,
     "metadata": {},
     "output_type": "execute_result"
    }
   ],
   "source": [
    "radius_n"
   ]
  },
  {
   "cell_type": "code",
   "execution_count": 190,
   "id": "978ca849",
   "metadata": {},
   "outputs": [],
   "source": [
    "optimizer = torch.optim.Adam(list(net.parameters()), lr=1e-2)"
   ]
  },
  {
   "cell_type": "code",
   "execution_count": 20,
   "id": "23ae8c53",
   "metadata": {},
   "outputs": [
    {
     "data": {
      "text/plain": [
       "tensor([0.0781], device='cuda:0', grad_fn=<ReshapeAliasBackward0>)"
      ]
     },
     "execution_count": 20,
     "metadata": {},
     "output_type": "execute_result"
    }
   ],
   "source": []
  },
  {
   "cell_type": "code",
   "execution_count": 44,
   "id": "6e7e22ce",
   "metadata": {},
   "outputs": [],
   "source": [
    "optimizer = torch.optim.Adam(\n",
    "    list(net.parameters()) + [ radius_n, fill_color_n, stroke_color_n, stroke_width_n], lr=1e-2)"
   ]
  },
  {
   "cell_type": "code",
   "execution_count": 35,
   "id": "8023c2ad",
   "metadata": {},
   "outputs": [],
   "source": [
    "list(net.parameters())[1].grad"
   ]
  },
  {
   "cell_type": "code",
   "execution_count": 39,
   "id": "f84603d9",
   "metadata": {},
   "outputs": [
    {
     "data": {
      "text/plain": [
       "torch.Size([256, 256, 4])"
      ]
     },
     "execution_count": 39,
     "metadata": {},
     "output_type": "execute_result"
    }
   ],
   "source": [
    "img.grad.shape"
   ]
  },
  {
   "cell_type": "code",
   "execution_count": 40,
   "id": "72ea3b43",
   "metadata": {},
   "outputs": [
    {
     "data": {
      "text/plain": [
       "torch.Size([256, 256, 4])"
      ]
     },
     "execution_count": 40,
     "metadata": {},
     "output_type": "execute_result"
    }
   ],
   "source": [
    "target.shape"
   ]
  },
  {
   "cell_type": "code",
   "execution_count": 45,
   "id": "32af6a24",
   "metadata": {},
   "outputs": [
    {
     "name": "stderr",
     "output_type": "stream",
     "text": [
      "100%|██████████| 3/3 [00:00<00:00, 43.17it/s]"
     ]
    },
    {
     "name": "stdout",
     "output_type": "stream",
     "text": [
      "loss: 11615.5078125\n",
      "loss: 11452.974609375\n",
      "loss: 11306.796875\n"
     ]
    },
    {
     "name": "stderr",
     "output_type": "stream",
     "text": [
      "\n"
     ]
    }
   ],
   "source": [
    "for t in tqdm(range(3)):\n",
    "    optimizer.zero_grad()\n",
    "    # Forward pass: render the image.\n",
    "    \n",
    "    new_circle = pydiffvg.Circle(\n",
    "        radius = radius_n * 256,\n",
    "        center = net.forward(dummy_input) * 256,\n",
    "        stroke_width=stroke_width_n * 100,\n",
    "        )\n",
    "    shapes = [new_circle]\n",
    "\n",
    "    new_circle_group = pydiffvg.ShapeGroup(\n",
    "        shape_ids = torch.tensor([0], device='cuda'),\n",
    "        fill_color=fill_color_n,\n",
    "        stroke_color=stroke_color_n,\n",
    "        )\n",
    "    shape_groups = [new_circle_group]\n",
    "\n",
    "    scene_args = pydiffvg.RenderFunction.serialize_scene(\\\n",
    "        canvas_width, canvas_height, shapes, shape_groups)\n",
    "    img = render(256,   # width\n",
    "                    256,   # height\n",
    "                    2,     # num_samples_x\n",
    "                    2,     # num_samples_y\n",
    "                    t+1,   # seed\n",
    "                    None,\n",
    "                    *scene_args)\n",
    "    img.retain_grad()\n",
    "    # Save the intermediate render.\n",
    "    # Compute the loss function. Here it is L2.\n",
    "    loss = (img - target).pow(2).sum()\n",
    "    print('loss:', loss.item())\n",
    "\n",
    "    # Backpropagate the gradients.\n",
    "    loss.backward()\n",
    "\n",
    "    optimizer.step()\n",
    "    gdg.to_pil(img)"
   ]
  },
  {
   "cell_type": "code",
   "execution_count": 29,
   "id": "e0b1fbcf",
   "metadata": {},
   "outputs": [
    {
     "data": {
      "image/png": "[encoded data removed]",
      "text/plain": [
       "<PIL.Image.Image image mode=RGBA size=256x256 at 0x7F0A3D30DD00>"
      ]
     },
     "execution_count": 29,
     "metadata": {},
     "output_type": "execute_result"
    }
   ],
   "source": [
    "gdg.to_pil(target)"
   ]
  }
 ],
 "metadata": {
  "interpreter": {
   "hash": "8dd23eb8a106e10a9d6673bd6cb60486dc3129d9782f6ed87a7bc18aa7582fa4"
  },
  "kernelspec": {
   "display_name": "Python 3.8.8 64-bit ('genpen': conda)",
   "name": "python3"
  },
  "language_info": {
   "codemirror_mode": {
    "name": "ipython",
    "version": 3
   },
   "file_extension": ".py",
   "mimetype": "text/x-python",
   "name": "python",
   "nbconvert_exporter": "python",
   "pygments_lexer": "ipython3",
   "version": "3.8.8"
  }
 },
 "nbformat": 4,
 "nbformat_minor": 5
}

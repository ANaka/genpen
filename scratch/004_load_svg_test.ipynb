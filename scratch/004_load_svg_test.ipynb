{
 "cells": [
  {
   "cell_type": "code",
   "execution_count": null,
   "metadata": {
    "Collapsed": "false"
   },
   "outputs": [],
   "source": [
    "import itertools\n",
    "import numpy as np\n",
    "import os\n",
    "import seaborn as sns\n",
    "from tqdm import tqdm\n",
    "from dataclasses import asdict, dataclass, field\n",
    "import vsketch\n",
    "import shapely.geometry as sg\n",
    "from shapely.geometry import box, MultiLineString, Point, MultiPoint, Polygon, MultiPolygon, LineString\n",
    "import shapely.affinity as sa\n",
    "import shapely.ops as so\n",
    "import matplotlib.pyplot as plt\n",
    "import pandas as pd\n",
    "\n",
    "import vpype_cli\n",
    "from typing import List, Generic\n",
    "from genpen import genpen as gp, utils as utils\n",
    "from scipy import stats as ss\n",
    "import geopandas\n",
    "from shapely.errors import TopologicalError\n",
    "import functools\n",
    "%load_ext autoreload\n",
    "%autoreload 2\n",
    "import vpype"
   ]
  },
  {
   "cell_type": "markdown",
   "metadata": {
    "Collapsed": "false"
   },
   "source": [
    "# try 1"
   ]
  },
  {
   "cell_type": "code",
   "execution_count": null,
   "metadata": {
    "Collapsed": "false"
   },
   "outputs": [],
   "source": [
    "svgpath = '/mnt/c/code/side/plotter_images/future_comes_soon2.svg'\n",
    "doc = vpype.read_multilayer_svg(svgpath, quantization=1)"
   ]
  },
  {
   "cell_type": "code",
   "execution_count": null,
   "metadata": {
    "Collapsed": "false"
   },
   "outputs": [],
   "source": [
    "geometries = {}\n",
    "for k,v in doc.layers.items():\n",
    "    geometries[k] = v.as_mls()"
   ]
  },
  {
   "cell_type": "code",
   "execution_count": null,
   "metadata": {
    "Collapsed": "false"
   },
   "outputs": [],
   "source": [
    "geometries"
   ]
  },
  {
   "cell_type": "code",
   "execution_count": null,
   "metadata": {
    "Collapsed": "false"
   },
   "outputs": [],
   "source": [
    "mls = geometries[1]\n",
    "text_geos = MultiLineString([l for l in mls[4:]])\n",
    "text_geos"
   ]
  },
  {
   "cell_type": "code",
   "execution_count": null,
   "metadata": {
    "Collapsed": "false"
   },
   "outputs": [],
   "source": [
    "page_x_inches: float = 11 # inches\n",
    "page_y_inches: float = 8.5 # inches\n",
    "border:float = 0.\n",
    "\n",
    "buffer_style = 3"
   ]
  },
  {
   "cell_type": "code",
   "execution_count": null,
   "metadata": {
    "Collapsed": "false"
   },
   "outputs": [],
   "source": [
    "px = utils.DistanceConverter(page_x_inches, 'inches').mm\n",
    "py = utils.DistanceConverter(page_y_inches, 'inches').mm\n",
    "page_format = f'{px}mmx{py}mm'\n",
    "drawbox = sg.box(border, border, px-border, py-border)\n",
    "xmin, ymin, xmax, ymax = drawbox.bounds"
   ]
  },
  {
   "cell_type": "code",
   "execution_count": null,
   "metadata": {
    "Collapsed": "false"
   },
   "outputs": [],
   "source": [
    "mp = MultiPolygon(gp.consolidate_polygons([Polygon(ls) for ls in text_geos]))\n",
    "        "
   ]
  },
  {
   "cell_type": "code",
   "execution_count": null,
   "metadata": {
    "Collapsed": "false"
   },
   "outputs": [],
   "source": [
    "smp = gp.scale_like(mp, drawbox)\n",
    "smp = sa.scale(smp, xfact=0.9, yfact=0.9)\n",
    "cmp = gp.center_at(smp, drawbox.centroid)"
   ]
  },
  {
   "cell_type": "code",
   "execution_count": null,
   "metadata": {
    "Collapsed": "false"
   },
   "outputs": [],
   "source": [
    "dp = gp.robust_difference(drawbox, cmp)"
   ]
  },
  {
   "cell_type": "code",
   "execution_count": null,
   "metadata": {
    "Collapsed": "false"
   },
   "outputs": [],
   "source": [
    "stp = gp.ScaleTransPrms(n_iters=200, d_buffer=-0.35, d_translate_factor=0.7, angles=30)\n",
    "stp.d_buffers *= gp.gaussian_random_walk(n=stp.d_buffers.shape[0], step_std=15)"
   ]
  },
  {
   "cell_type": "code",
   "execution_count": null,
   "metadata": {
    "Collapsed": "false"
   },
   "outputs": [],
   "source": [
    "stp.angles = np.linspace(0, np.radians(360*4), len(stp.d_buffers))"
   ]
  },
  {
   "cell_type": "code",
   "execution_count": null,
   "metadata": {
    "Collapsed": "false"
   },
   "outputs": [],
   "source": [
    "scaled = gp.scale_trans(dp, **stp.prms)"
   ]
  },
  {
   "cell_type": "code",
   "execution_count": null,
   "metadata": {
    "Collapsed": "false"
   },
   "outputs": [],
   "source": [
    "layer = gp.merge_LineStrings([p.boundary for p in reversed(scaled)])"
   ]
  },
  {
   "cell_type": "code",
   "execution_count": null,
   "metadata": {
    "Collapsed": "false",
    "jupyter": {
     "outputs_hidden": true
    }
   },
   "outputs": [],
   "source": [
    "sk = vsketch.Vsketch()\n",
    "sk.size(page_format)\n",
    "sk.scale('1mm')\n",
    "sk.penWidth('0.25mm')\n",
    "sk.geometry(layer)\n",
    "sk.display(color_mode='None')"
   ]
  },
  {
   "cell_type": "code",
   "execution_count": null,
   "metadata": {
    "Collapsed": "false"
   },
   "outputs": [],
   "source": [
    "savepath = '/mnt/c/code/side/plotter_images/oned_outputs/0096_future_come_soon.svg'\n",
    "\n",
    "sk.save(savepath)\n",
    "\n",
    "vpype_commands = 'reloop linesimplify --tolerance 0.2mm linemerge --tolerance 0.2mm linesort'\n",
    "vpype_str = f'vpype read -q 0.05mm {savepath} {vpype_commands} write --page-format {page_format} {savepath}'\n",
    "\n",
    "os.system(vpype_str)"
   ]
  },
  {
   "cell_type": "markdown",
   "metadata": {
    "Collapsed": "true"
   },
   "source": [
    "# try 2"
   ]
  },
  {
   "cell_type": "code",
   "execution_count": null,
   "metadata": {
    "Collapsed": "false"
   },
   "outputs": [],
   "source": [
    "svgpath = '/mnt/c/code/side/plotter_images/future_comes_soon3.svg'\n",
    "doc = vpype.read_multilayer_svg(svgpath, quantization=1)"
   ]
  },
  {
   "cell_type": "code",
   "execution_count": null,
   "metadata": {
    "Collapsed": "false"
   },
   "outputs": [],
   "source": [
    "geometries = {}\n",
    "for k,v in doc.layers.items():\n",
    "    geometries[k] = v.as_mls()"
   ]
  },
  {
   "cell_type": "code",
   "execution_count": null,
   "metadata": {
    "Collapsed": "false"
   },
   "outputs": [],
   "source": [
    "mls = geometries[1]\n",
    "text_geos = MultiLineString([l for l in mls[4:]])\n",
    "text_geos"
   ]
  },
  {
   "cell_type": "code",
   "execution_count": null,
   "metadata": {
    "Collapsed": "false"
   },
   "outputs": [],
   "source": [
    "page_x_inches: float = 11 # inches\n",
    "page_y_inches: float = 8.5 # inches\n",
    "border:float = 0.\n",
    "\n",
    "buffer_style = 3"
   ]
  },
  {
   "cell_type": "code",
   "execution_count": null,
   "metadata": {
    "Collapsed": "false"
   },
   "outputs": [],
   "source": [
    "px = utils.DistanceConverter(page_x_inches, 'inches').mm\n",
    "py = utils.DistanceConverter(page_y_inches, 'inches').mm\n",
    "page_format = f'{px}mmx{py}mm'\n",
    "drawbox = sg.box(border, border, px-border, py-border)\n",
    "xmin, ymin, xmax, ymax = drawbox.bounds"
   ]
  },
  {
   "cell_type": "code",
   "execution_count": null,
   "metadata": {
    "Collapsed": "false"
   },
   "outputs": [],
   "source": [
    "mp = so.unary_union(gp.consolidate_polygons([Polygon(ls) for ls in text_geos]))\n",
    "smp = gp.scale_like(mp, drawbox)\n",
    "smp = sa.scale(smp, xfact=0.9, yfact=0.9)\n",
    "cmp = gp.center_at(smp, drawbox.centroid)\n",
    "dp = gp.robust_difference(drawbox, cmp)"
   ]
  },
  {
   "cell_type": "code",
   "execution_count": null,
   "metadata": {
    "Collapsed": "false"
   },
   "outputs": [],
   "source": [
    "pts = gp.get_random_points_in_polygon(dp, n_points=80)\n",
    "border_pts = ([drawbox.boundary.interpolate(i, normalized=True) for i in np.random.uniform(size=60)])\n",
    "corners = [Point(x,y) for x in [xmin, xmax] for y in [ymin, ymax]]\n",
    "text_pts = ([cmp.boundary.interpolate(i, normalized=True) for i in np.random.uniform(size=120)])\n",
    "all_pts = MultiPoint(pts + text_pts + corners +border_pts)"
   ]
  },
  {
   "cell_type": "code",
   "execution_count": null,
   "metadata": {
    "Collapsed": "false"
   },
   "outputs": [],
   "source": [
    "tris = MultiPolygon(so.triangulate(all_pts))"
   ]
  },
  {
   "cell_type": "code",
   "execution_count": null,
   "metadata": {
    "Collapsed": "false"
   },
   "outputs": [],
   "source": [
    "bps = []\n",
    "for p in tris:\n",
    "    d = p.centroid.distance(drawbox.centroid)\n",
    "    buffer_dist = np.interp(d, [0, 175], [-0.3, -3])\n",
    "    bps.append(p.buffer(buffer_dist, join_style=2, cap_style=2))\n",
    "bgps = MultiPolygon(bps)"
   ]
  },
  {
   "cell_type": "code",
   "execution_count": null,
   "metadata": {
    "Collapsed": "false"
   },
   "outputs": [],
   "source": [
    "bgpus = so.unary_union([p.buffer(np.random.choice([0., 1], p=[0.8,0.2]), join_style=2, cap_style=2) for p in bgps])"
   ]
  },
  {
   "cell_type": "code",
   "execution_count": null,
   "metadata": {
    "Collapsed": "false"
   },
   "outputs": [],
   "source": [
    "bps = []\n",
    "for p in bgpus:\n",
    "    d = p.centroid.distance(drawbox.centroid)\n",
    "    buffer_dist = np.interp(d, [0, 175], [-0.1, -0.2])\n",
    "    bps.append(p.buffer(buffer_dist, join_style=2, cap_style=2))\n",
    "bgpus = MultiPolygon(bps)"
   ]
  },
  {
   "cell_type": "code",
   "execution_count": null,
   "metadata": {
    "Collapsed": "false"
   },
   "outputs": [],
   "source": [
    "bg_fills = []\n",
    "for p in tqdm(bgpus):\n",
    "    d = p.centroid.distance(drawbox.centroid)\n",
    "    d_buffer = np.interp(d, [0, 175], [-0.3, -0.55])\n",
    "    angle = np.interp(d, [0, 175], [np.radians(-30), np.radians(-150)])\n",
    "    stp = gp.ScaleTransPrms(n_iters=80, d_buffer=d_buffer, \n",
    "                            d_translate_factor=0.7,\n",
    "                            angles=angle)\n",
    "    db_mults = gp.gaussian_random_walk(n=stp.d_buffers.shape[0], step_std=1.5, step_mu=-0.4)\n",
    "    db_mults[db_mults<0.] = 0.05\n",
    "    stp.d_buffers *= db_mults\n",
    "    scaled = gp.scale_trans(p, **stp.prms, join_style=2, cap_style=2, mitre_limit=30)\n",
    "    fill = gp.merge_LineStrings([f.boundary for f in reversed(scaled)])\n",
    "    bg_fills.append(fill)\n",
    "    \n",
    "bg = dp.intersection(gp.merge_LineStrings(bg_fills))\n",
    "bg"
   ]
  },
  {
   "cell_type": "code",
   "execution_count": null,
   "metadata": {
    "Collapsed": "false"
   },
   "outputs": [],
   "source": [
    "text_hatch = gp.connected_hatchbox(cmp, angle=45, spacing=0.15, dist_thresh=0.25)"
   ]
  },
  {
   "cell_type": "code",
   "execution_count": null,
   "metadata": {
    "Collapsed": "false"
   },
   "outputs": [],
   "source": [
    "sk = vsketch.Vsketch()\n",
    "sk.size(page_format)\n",
    "sk.scale('1mm')\n",
    "sk.penWidth('0.25mm')\n",
    "sk.stroke(1)\n",
    "sk.geometry(bg)\n",
    "sk.stroke(2)\n",
    "sk.geometry(text_hatch)\n",
    "sk.display(color_mode='layer')"
   ]
  },
  {
   "cell_type": "code",
   "execution_count": null,
   "metadata": {
    "Collapsed": "false"
   },
   "outputs": [],
   "source": [
    "savepath = '/mnt/c/code/side/plotter_images/oned_outputs/0097_future_come_soon.svg'\n",
    "\n",
    "sk.save(savepath)\n",
    "\n",
    "vpype_commands = 'reloop linesimplify --tolerance 0.2mm linemerge --tolerance 0.2mm linesort'\n",
    "vpype_str = f'vpype read -q 0.05mm {savepath} {vpype_commands} write --page-format {page_format} {savepath}'\n",
    "\n",
    "os.system(vpype_str)"
   ]
  },
  {
   "cell_type": "code",
   "execution_count": null,
   "metadata": {
    "Collapsed": "false"
   },
   "outputs": [],
   "source": []
  },
  {
   "cell_type": "markdown",
   "metadata": {
    "Collapsed": "false"
   },
   "source": [
    "# try 3"
   ]
  },
  {
   "cell_type": "code",
   "execution_count": null,
   "metadata": {
    "Collapsed": "false"
   },
   "outputs": [],
   "source": [
    "svgpath = '/mnt/c/code/side/plotter_images/future_comes_soon3.svg'\n",
    "doc = vpype.read_multilayer_svg(svgpath, quantization=1)"
   ]
  },
  {
   "cell_type": "code",
   "execution_count": null,
   "metadata": {
    "Collapsed": "false"
   },
   "outputs": [],
   "source": [
    "geometries = {}\n",
    "for k,v in doc.layers.items():\n",
    "    geometries[k] = v.as_mls()"
   ]
  },
  {
   "cell_type": "code",
   "execution_count": null,
   "metadata": {
    "Collapsed": "false"
   },
   "outputs": [],
   "source": [
    "mls = geometries[1]\n",
    "text_geos = MultiLineString([l for l in mls[4:]])\n",
    "text_geos"
   ]
  },
  {
   "cell_type": "code",
   "execution_count": null,
   "metadata": {
    "Collapsed": "false"
   },
   "outputs": [],
   "source": [
    "page_x_inches: float = 11 # inches\n",
    "page_y_inches: float = 8.5 # inches\n",
    "border:float = 0.\n",
    "\n",
    "buffer_style = 3"
   ]
  },
  {
   "cell_type": "code",
   "execution_count": null,
   "metadata": {
    "Collapsed": "false"
   },
   "outputs": [],
   "source": [
    "px = utils.DistanceConverter(page_x_inches, 'inches').mm\n",
    "py = utils.DistanceConverter(page_y_inches, 'inches').mm\n",
    "page_format = f'{px}mmx{py}mm'\n",
    "drawbox = sg.box(border, border, px-border, py-border)\n",
    "xmin, ymin, xmax, ymax = drawbox.bounds"
   ]
  },
  {
   "cell_type": "code",
   "execution_count": null,
   "metadata": {
    "Collapsed": "false"
   },
   "outputs": [],
   "source": [
    "mp = so.unary_union(gp.consolidate_polygons([Polygon(ls) for ls in text_geos]))\n",
    "smp = gp.scale_like(mp, drawbox)\n",
    "smp = sa.scale(smp, xfact=0.9, yfact=0.9)\n",
    "cmp = gp.center_at(smp, drawbox.centroid)\n",
    "cmp = sa.translate(cmp, yoff=10)\n",
    "dp = gp.robust_difference(drawbox, cmp)"
   ]
  },
  {
   "cell_type": "code",
   "execution_count": null,
   "metadata": {
    "Collapsed": "false"
   },
   "outputs": [],
   "source": [
    "pts = gp.get_random_points_in_polygon(dp, n_points=10)\n",
    "border_pts = ([drawbox.boundary.interpolate(i, normalized=True) for i in np.random.uniform(size=10)])\n",
    "corners = [Point(x,y) for x in [xmin, xmax] for y in [ymin, ymax]]\n",
    "text_pts = ([cmp.boundary.interpolate(i, normalized=True) for i in np.random.uniform(size=30)])\n",
    "all_pts = MultiPoint(pts + text_pts + corners +border_pts)\n",
    "tris = MultiPolygon(so.triangulate(all_pts))\n",
    "tris"
   ]
  },
  {
   "cell_type": "code",
   "execution_count": null,
   "metadata": {
    "Collapsed": "false"
   },
   "outputs": [],
   "source": [
    "bps = []\n",
    "for p in tris:\n",
    "    d = p.centroid.distance(drawbox.centroid)\n",
    "    buffer_dist = np.interp(d, [0, 175], [-0.3, -3])\n",
    "    bps.append(p.buffer(buffer_dist, join_style=2, cap_style=2))\n",
    "\n",
    "cpts = gp.get_random_points_in_polygon(dp, n_points=60)\n",
    "bps += [c.buffer(np.random.uniform(7, 38)) for c in cpts]\n",
    "\n",
    "\n",
    "bgps = MultiPolygon(bps)\n",
    "\n",
    "btbs = so.unary_union([p.boundary.buffer(np.random.uniform(0.1, 2), join_style=2, cap_style=2) for p in bgps]).intersection(drawbox)\n",
    "\n",
    "dpd = dp.difference(btbs)"
   ]
  },
  {
   "cell_type": "code",
   "execution_count": null,
   "metadata": {
    "Collapsed": "false"
   },
   "outputs": [],
   "source": [
    "bg_fills = []\n",
    "for p in tqdm(dpd):\n",
    "    d = p.centroid.distance(drawbox.centroid)\n",
    "    d_buffer = np.interp(d, [0, 175], [-0.3, -0.5])\n",
    "    stp = gp.ScaleTransPrms(n_iters=80, d_buffer=d_buffer, \n",
    "                            d_translate_factor=0.5,\n",
    "                            angles=angle)\n",
    "    db_mults = gp.gaussian_random_walk(n=stp.d_buffers.shape[0], step_std=1.5, step_mu=-0.4)\n",
    "    db_mults[db_mults<0.] = 0.05\n",
    "    stp.d_buffers *= db_mults\n",
    "    stp.angles = np.linspace(0, np.radians(360*0.5), len(stp.d_buffers))\n",
    "    scaled = gp.scale_trans(p, **stp.prms, join_style=2, cap_style=2, mitre_limit=30)\n",
    "    \n",
    "    fill = gp.merge_LineStrings([f.boundary for f in reversed(scaled)])\n",
    "    bg_fills.append(fill)\n",
    "    \n",
    "layer = dp.intersection(gp.merge_LineStrings(bg_fills))\n",
    "layer"
   ]
  },
  {
   "cell_type": "code",
   "execution_count": null,
   "metadata": {
    "Collapsed": "false"
   },
   "outputs": [],
   "source": [
    "stp = gp.ScaleTransPrms(n_iters=200, d_buffer=-0.35, d_translate_factor=0.5, angles=np.radians(-45))\n",
    "stp.d_buffers *= gp.gaussian_random_walk(n=stp.d_buffers.shape[0], step_std=15)\n",
    "\n",
    "stp.angles = np.linspace(0, np.radians(360*0.5), len(stp.d_buffers))\n",
    "\n",
    "scaled = gp.scale_trans(dpd, **stp.prms)\n",
    "\n",
    "layer = gp.merge_LineStrings([p.boundary for p in reversed(scaled)])"
   ]
  },
  {
   "cell_type": "code",
   "execution_count": null,
   "metadata": {
    "Collapsed": "false"
   },
   "outputs": [],
   "source": [
    "text_hatch = gp.connected_hatchbox(cmp, angle=90, spacing=0.25, dist_thresh=0.35)"
   ]
  },
  {
   "cell_type": "code",
   "execution_count": null,
   "metadata": {
    "Collapsed": "false"
   },
   "outputs": [],
   "source": [
    "sk = vsketch.Vsketch()\n",
    "sk.size(page_format)\n",
    "sk.scale('1mm')\n",
    "sk.penWidth('0.25mm')\n",
    "sk.stroke(1)\n",
    "sk.geometry(layer)\n",
    "sk.stroke(2)\n",
    "sk.geometry(text_hatch)\n",
    "sk.display(color_mode='layer')"
   ]
  },
  {
   "cell_type": "code",
   "execution_count": null,
   "metadata": {
    "Collapsed": "false"
   },
   "outputs": [],
   "source": [
    "savepath = '/mnt/c/code/side/plotter_images/oned_outputs/0099_future_come_soon.svg'\n",
    "\n",
    "sk.save(savepath)\n",
    "\n",
    "vpype_commands = 'reloop linesimplify --tolerance 0.05mm linemerge --tolerance 0.2mm linesort'\n",
    "vpype_str = f'vpype read -q 0.05mm {savepath} {vpype_commands} write --page-format {page_format} {savepath}'\n",
    "\n",
    "os.system(vpype_str)"
   ]
  },
  {
   "cell_type": "markdown",
   "metadata": {
    "Collapsed": "false"
   },
   "source": [
    "# try 4"
   ]
  },
  {
   "cell_type": "code",
   "execution_count": null,
   "metadata": {
    "Collapsed": "false"
   },
   "outputs": [],
   "source": [
    "page_x_inches: float = 11 # inches\n",
    "page_y_inches: float = 14 # inches\n",
    "border:float = 30.\n",
    "\n",
    "buffer_style = 3"
   ]
  },
  {
   "cell_type": "code",
   "execution_count": null,
   "metadata": {
    "Collapsed": "false"
   },
   "outputs": [],
   "source": [
    "px = utils.DistanceConverter(page_x_inches, 'inches').mm\n",
    "py = utils.DistanceConverter(page_y_inches, 'inches').mm\n",
    "page_format = f'{px}mmx{py}mm'\n",
    "drawbox = sg.box(border, border, px-border, py-border)\n",
    "xmin, ymin, xmax, ymax = drawbox.bounds"
   ]
  },
  {
   "cell_type": "code",
   "execution_count": null,
   "metadata": {
    "Collapsed": "false"
   },
   "outputs": [],
   "source": [
    "svgpath = '/mnt/c/code/side/plotter_images/time2.svg'\n",
    "doc = vpype.read_multilayer_svg(svgpath, quantization=1)"
   ]
  },
  {
   "cell_type": "code",
   "execution_count": null,
   "metadata": {
    "Collapsed": "false"
   },
   "outputs": [],
   "source": [
    "geometries = {}\n",
    "for k,v in doc.layers.items():\n",
    "    geometries[k] = v.as_mls()"
   ]
  },
  {
   "cell_type": "code",
   "execution_count": null,
   "metadata": {
    "Collapsed": "false"
   },
   "outputs": [],
   "source": [
    "mls = geometries[1]\n",
    "text_geos = MultiLineString([l for l in mls[:34]])\n",
    "stars = MultiLineString([l for l in mls[34:]])"
   ]
  },
  {
   "cell_type": "code",
   "execution_count": null,
   "metadata": {
    "Collapsed": "false"
   },
   "outputs": [],
   "source": [
    "text_polys = list(text_geos.buffer(4, cap_style=1, join_style=1))"
   ]
  },
  {
   "cell_type": "code",
   "execution_count": null,
   "metadata": {
    "Collapsed": "false"
   },
   "outputs": [],
   "source": [
    "pbar_start = text_polys[5].centroid.x-15\n",
    "pbar_end = text_polys[6].centroid.x+15\n"
   ]
  },
  {
   "cell_type": "code",
   "execution_count": null,
   "metadata": {
    "Collapsed": "false"
   },
   "outputs": [],
   "source": [
    "pbar = box(minx=pbar_start, miny=610,\n",
    "           maxx=pbar_end, maxy=670)"
   ]
  },
  {
   "cell_type": "code",
   "execution_count": null,
   "metadata": {
    "Collapsed": "false"
   },
   "outputs": [],
   "source": [
    "\n",
    "star_polys = [Polygon(ls) for ls in stars]\n",
    "polys = text_polys + star_polys + [pbar]"
   ]
  },
  {
   "cell_type": "code",
   "execution_count": null,
   "metadata": {
    "Collapsed": "false"
   },
   "outputs": [],
   "source": [
    "so.unary_union(gp.consolidate_polygons(polys))"
   ]
  },
  {
   "cell_type": "code",
   "execution_count": null,
   "metadata": {
    "Collapsed": "false"
   },
   "outputs": [],
   "source": [
    "mp = so.unary_union(gp.consolidate_polygons(polys))\n",
    "smp = gp.scale_like(mp, drawbox)\n",
    "smp = sa.scale(smp, xfact=0.9, yfact=0.9)\n",
    "cmp = gp.center_at(smp, drawbox.centroid)\n",
    "cmp = sa.translate(cmp, yoff=10)\n",
    "dp = gp.robust_difference(drawbox, cmp)"
   ]
  },
  {
   "cell_type": "code",
   "execution_count": null,
   "metadata": {
    "Collapsed": "false"
   },
   "outputs": [],
   "source": [
    "stp = gp.ScaleTransPrms(n_iters=280, d_buffer=-0.4, \n",
    "                            d_translate_factor=0.4,\n",
    "                            angles=0)\n",
    "stp.angles = np.linspace(0, np.radians(360*2), len(stp.d_buffers))\n",
    "db_mults = gp.gaussian_random_walk(n=stp.d_buffers.shape[0], step_std=9.5, step_mu=-0.)\n",
    "db_mults[db_mults<0.] = 0.05\n",
    "stp.d_buffers *= db_mults\n",
    "scaled = gp.scale_trans(dp, **stp.prms, join_style=2, cap_style=2, mitre_limit=30)\n",
    "    \n",
    "fill = gp.merge_LineStrings([f.boundary for f in scaled])"
   ]
  },
  {
   "cell_type": "code",
   "execution_count": null,
   "metadata": {
    "Collapsed": "false"
   },
   "outputs": [],
   "source": [
    "dists = [-f.hausdorff_distance(dp.centroid) for f in fill]"
   ]
  },
  {
   "cell_type": "code",
   "execution_count": null,
   "metadata": {
    "Collapsed": "false"
   },
   "outputs": [],
   "source": [
    "sort_fill = gp.merge_LineStrings([fill[i] for i in np.argsort(dists)])"
   ]
  },
  {
   "cell_type": "code",
   "execution_count": null,
   "metadata": {
    "Collapsed": "false"
   },
   "outputs": [],
   "source": []
  },
  {
   "cell_type": "code",
   "execution_count": null,
   "metadata": {
    "Collapsed": "false"
   },
   "outputs": [],
   "source": [
    "pbstart = pb.bounds[0]\n",
    "pbend = pb.bounds[2]\n",
    "pbwidth = pbend-pbstart"
   ]
  },
  {
   "cell_type": "code",
   "execution_count": null,
   "metadata": {
    "Collapsed": "false"
   },
   "outputs": [],
   "source": [
    "\n",
    "pbar_fill = box(minx=pbstart+1, miny=pb.bounds[1]+1,\n",
    "           maxx=pbstart+pbwidth*0.41-1, maxy=pb.bounds[3]-1)"
   ]
  },
  {
   "cell_type": "code",
   "execution_count": null,
   "metadata": {
    "Collapsed": "false"
   },
   "outputs": [],
   "source": [
    "pbar_hatch = gp.hatchbox(pbar_fill, angle=90, spacing=0.25)"
   ]
  },
  {
   "cell_type": "code",
   "execution_count": null,
   "metadata": {
    "Collapsed": "false"
   },
   "outputs": [],
   "source": [
    "pbar_hatch_r = MultiLineString([ls for ls in reversed(pbar_hatch)])"
   ]
  },
  {
   "cell_type": "code",
   "execution_count": null,
   "metadata": {
    "Collapsed": "false"
   },
   "outputs": [],
   "source": [
    "sk = vsketch.Vsketch()\n",
    "sk.size(page_format)\n",
    "sk.scale('1mm')\n",
    "sk.penWidth('0.25mm')\n",
    "sk.stroke(1)\n",
    "sk.geometry(sort_fill)\n",
    "sk.stroke(2)\n",
    "sk.geometry(pbar_hatch_r)\n",
    "sk.display(color_mode='layer')"
   ]
  },
  {
   "cell_type": "code",
   "execution_count": null,
   "metadata": {
    "Collapsed": "false"
   },
   "outputs": [],
   "source": [
    "savepath = '/mnt/c/code/side/plotter_images/oned_outputs/0123_progress_bar.svg'\n",
    "\n",
    "sk.save(savepath, paper_size=(px, py))\n",
    "\n",
    "# vpype_commands = 'linesimplify --tolerance 0.1mm linemerge --tolerance 0.1mm'\n",
    "# vpype_str = f'vpype read -q 0.05mm {savepath} {vpype_commands} write {savepath}'\n",
    "\n",
    "# os.system(vpype_str)"
   ]
  },
  {
   "cell_type": "code",
   "execution_count": null,
   "metadata": {
    "Collapsed": "false"
   },
   "outputs": [],
   "source": []
  },
  {
   "cell_type": "code",
   "execution_count": null,
   "metadata": {
    "Collapsed": "false"
   },
   "outputs": [],
   "source": []
  },
  {
   "cell_type": "markdown",
   "metadata": {
    "Collapsed": "false"
   },
   "source": [
    "# try 5"
   ]
  },
  {
   "cell_type": "code",
   "execution_count": null,
   "metadata": {
    "Collapsed": "false"
   },
   "outputs": [],
   "source": [
    "page_x_inches: float = 10 # inches\n",
    "page_y_inches: float = 7 # inches\n",
    "border:float = 20.\n",
    "\n",
    "buffer_style = 3"
   ]
  },
  {
   "cell_type": "code",
   "execution_count": null,
   "metadata": {
    "Collapsed": "false"
   },
   "outputs": [],
   "source": [
    "px = utils.DistanceConverter(page_x_inches, 'inches').mm\n",
    "py = utils.DistanceConverter(page_y_inches, 'inches').mm\n",
    "page_format = f'{px}mmx{py}mm'\n",
    "drawbox = sg.box(border, border, px-border, py-border)\n",
    "xmin, ymin, xmax, ymax = drawbox.bounds"
   ]
  },
  {
   "cell_type": "code",
   "execution_count": null,
   "metadata": {
    "Collapsed": "false"
   },
   "outputs": [],
   "source": [
    "svgpath = '/mnt/c/code/side/plotter_images/time3.svg'\n",
    "doc = vpype.read_multilayer_svg(svgpath, quantization=1)"
   ]
  },
  {
   "cell_type": "code",
   "execution_count": null,
   "metadata": {
    "Collapsed": "false"
   },
   "outputs": [],
   "source": [
    "geometries = {}\n",
    "for k,v in doc.layers.items():\n",
    "    geometries[k] = v.as_mls()"
   ]
  },
  {
   "cell_type": "code",
   "execution_count": null,
   "metadata": {
    "Collapsed": "false"
   },
   "outputs": [],
   "source": [
    "mls = geometries[1]\n",
    "text_geos = MultiLineString([l for l in mls[:34]])\n",
    "stars = MultiLineString([l for l in mls[34:]])"
   ]
  },
  {
   "cell_type": "code",
   "execution_count": null,
   "metadata": {
    "Collapsed": "false"
   },
   "outputs": [],
   "source": [
    "pbar_start = text_polys[5].centroid.x-15\n",
    "pbar_end = text_polys[6].centroid.x+15\n"
   ]
  },
  {
   "cell_type": "code",
   "execution_count": null,
   "metadata": {
    "Collapsed": "false"
   },
   "outputs": [],
   "source": [
    "pbary = text_geos[5].centroid.y"
   ]
  },
  {
   "cell_type": "code",
   "execution_count": null,
   "metadata": {
    "Collapsed": "false"
   },
   "outputs": [],
   "source": [
    "text_polys = list(text_geos.buffer(5, cap_style=1, join_style=1))"
   ]
  },
  {
   "cell_type": "code",
   "execution_count": null,
   "metadata": {
    "Collapsed": "false"
   },
   "outputs": [],
   "source": [
    "pbar = box(minx=pbar_start, miny=pbary-20,\n",
    "           maxx=pbar_end, maxy=pbary+40)"
   ]
  },
  {
   "cell_type": "code",
   "execution_count": null,
   "metadata": {
    "Collapsed": "false"
   },
   "outputs": [],
   "source": [
    "\n",
    "star_polys = [Polygon(ls) for ls in stars]\n",
    "polys = text_polys + star_polys + [pbar]"
   ]
  },
  {
   "cell_type": "code",
   "execution_count": null,
   "metadata": {
    "Collapsed": "false"
   },
   "outputs": [],
   "source": [
    "so.unary_union(gp.consolidate_polygons(polys))"
   ]
  },
  {
   "cell_type": "code",
   "execution_count": null,
   "metadata": {
    "Collapsed": "false"
   },
   "outputs": [],
   "source": [
    "mp = so.unary_union(gp.consolidate_polygons(polys))\n",
    "smp = gp.scale_like(mp, drawbox)\n",
    "smp = sa.scale(smp, xfact=0.9, yfact=0.9)\n",
    "cmp = gp.center_at(smp, drawbox.centroid)\n",
    "cmp = sa.translate(cmp, yoff=10)\n",
    "dp = gp.robust_difference(drawbox, cmp)"
   ]
  },
  {
   "cell_type": "code",
   "execution_count": null,
   "metadata": {
    "Collapsed": "false"
   },
   "outputs": [],
   "source": [
    "stp = gp.ScaleTransPrms(n_iters=280, d_buffer=-0.45, \n",
    "                            d_translate_factor=0.4,\n",
    "                            angles=0)\n",
    "stp.angles = np.linspace(0, np.radians(360*0), len(stp.d_buffers))\n",
    "db_mults = gp.gaussian_random_walk(n=stp.d_buffers.shape[0], step_std=9.5, step_mu=-0.)\n",
    "db_mults[db_mults<0.] = 0.05\n",
    "stp.d_buffers *= db_mults\n",
    "scaled = gp.scale_trans(dp, **stp.prms, join_style=2, cap_style=2, mitre_limit=30)\n",
    "    \n",
    "fill = gp.merge_LineStrings([f.boundary for f in scaled])"
   ]
  },
  {
   "cell_type": "code",
   "execution_count": null,
   "metadata": {
    "Collapsed": "false"
   },
   "outputs": [],
   "source": [
    "dists = [-f.hausdorff_distance(dp.centroid) for f in fill]"
   ]
  },
  {
   "cell_type": "code",
   "execution_count": null,
   "metadata": {
    "Collapsed": "false"
   },
   "outputs": [],
   "source": [
    "sort_fill = gp.merge_LineStrings([fill[i] for i in np.argsort(dists)])"
   ]
  },
  {
   "cell_type": "code",
   "execution_count": null,
   "metadata": {
    "Collapsed": "false"
   },
   "outputs": [],
   "source": [
    "pb = polys[-1]"
   ]
  },
  {
   "cell_type": "code",
   "execution_count": null,
   "metadata": {
    "Collapsed": "false"
   },
   "outputs": [],
   "source": [
    "pbstart = pb.bounds[0]\n",
    "pbend = pb.bounds[2]\n",
    "pbwidth = pbend-pbstart"
   ]
  },
  {
   "cell_type": "code",
   "execution_count": null,
   "metadata": {
    "Collapsed": "false"
   },
   "outputs": [],
   "source": [
    "\n",
    "pbar_fill = box(minx=pbstart+1, miny=pb.bounds[1]+1,\n",
    "           maxx=pbstart+pbwidth*0.41-1, maxy=pb.bounds[3]-1)"
   ]
  },
  {
   "cell_type": "code",
   "execution_count": null,
   "metadata": {
    "Collapsed": "false"
   },
   "outputs": [],
   "source": [
    "pbar_hatch = gp.hatchbox(pbar_fill, angle=90, spacing=0.25)"
   ]
  },
  {
   "cell_type": "code",
   "execution_count": null,
   "metadata": {
    "Collapsed": "false"
   },
   "outputs": [],
   "source": [
    "pbar_hatch_r = MultiLineString([ls for ls in reversed(pbar_hatch)])"
   ]
  },
  {
   "cell_type": "code",
   "execution_count": null,
   "metadata": {
    "Collapsed": "false"
   },
   "outputs": [],
   "source": [
    "sk = vsketch.Vsketch()\n",
    "sk.size(page_format)\n",
    "sk.scale('1mm')\n",
    "sk.penWidth('0.25mm')\n",
    "sk.stroke(1)\n",
    "sk.geometry(sort_fill)\n",
    "# sk.stroke(2)\n",
    "# sk.geometry(pbar_hatch_r)\n",
    "sk.display(color_mode='layer')"
   ]
  },
  {
   "cell_type": "code",
   "execution_count": null,
   "metadata": {
    "Collapsed": "false"
   },
   "outputs": [],
   "source": [
    "savepath = '/mnt/c/code/side/plotter_images/oned_outputs/0124_progress_bar.svg'\n",
    "\n",
    "sk.save(savepath, paper_size=(px, py))\n",
    "\n",
    "# vpype_commands = 'linesimplify --tolerance 0.1mm linemerge --tolerance 0.1mm'\n",
    "# vpype_str = f'vpype read -q 0.05mm {savepath} {vpype_commands} write {savepath}'\n",
    "\n",
    "# os.system(vpype_str)"
   ]
  },
  {
   "cell_type": "code",
   "execution_count": null,
   "metadata": {
    "Collapsed": "false"
   },
   "outputs": [],
   "source": []
  },
  {
   "cell_type": "code",
   "execution_count": null,
   "metadata": {
    "Collapsed": "false"
   },
   "outputs": [],
   "source": []
  },
  {
   "cell_type": "markdown",
   "metadata": {
    "Collapsed": "false"
   },
   "source": [
    "# try 6"
   ]
  },
  {
   "cell_type": "code",
   "execution_count": null,
   "metadata": {
    "Collapsed": "false"
   },
   "outputs": [],
   "source": [
    "svgpath = '/mnt/c/code/side/plotter_images/relief_comes_soon.svg'\n",
    "doc = vpype.read_multilayer_svg(svgpath, quantization=1)"
   ]
  },
  {
   "cell_type": "code",
   "execution_count": null,
   "metadata": {
    "Collapsed": "false"
   },
   "outputs": [],
   "source": [
    "geometries = {}\n",
    "for k,v in doc.layers.items():\n",
    "    geometries[k] = v.as_mls()"
   ]
  },
  {
   "cell_type": "code",
   "execution_count": null,
   "metadata": {
    "Collapsed": "false"
   },
   "outputs": [],
   "source": [
    "mls = geometries[1]\n",
    "text_geos = MultiLineString([l for l in mls[4:]]).buffer(5, cap_style=2, join_style=2).boundary\n",
    "text_geos"
   ]
  },
  {
   "cell_type": "code",
   "execution_count": null,
   "metadata": {
    "Collapsed": "false"
   },
   "outputs": [],
   "source": [
    "page_x_inches: float = 11 # inches\n",
    "page_y_inches: float = 8.5 # inches\n",
    "border:float = 0.\n",
    "\n",
    "buffer_style = 3"
   ]
  },
  {
   "cell_type": "code",
   "execution_count": null,
   "metadata": {
    "Collapsed": "false"
   },
   "outputs": [],
   "source": [
    "px = utils.DistanceConverter(page_x_inches, 'inches').mm\n",
    "py = utils.DistanceConverter(page_y_inches, 'inches').mm\n",
    "page_format = f'{px}mmx{py}mm'\n",
    "drawbox = sg.box(border, border, px-border, py-border)\n",
    "xmin, ymin, xmax, ymax = drawbox.bounds"
   ]
  },
  {
   "cell_type": "code",
   "execution_count": null,
   "metadata": {
    "Collapsed": "false"
   },
   "outputs": [],
   "source": [
    "mp = so.unary_union(gp.consolidate_polygons([Polygon(ls) for ls in text_geos]))\n",
    "smp = gp.scale_like(mp, drawbox)\n",
    "smp = sa.scale(smp, xfact=0.9, yfact=0.9)\n",
    "cmp = gp.center_at(smp, drawbox.centroid)\n",
    "cmp = sa.translate(cmp, yoff=10)\n",
    "dp = gp.robust_difference(drawbox, cmp)"
   ]
  },
  {
   "cell_type": "code",
   "execution_count": null,
   "metadata": {
    "Collapsed": "false"
   },
   "outputs": [],
   "source": [
    "pts = gp.get_random_points_in_polygon(dp, n_points=30)\n",
    "border_pts = ([drawbox.boundary.interpolate(i, normalized=True) for i in np.random.uniform(size=10)])\n",
    "corners = [Point(x,y) for x in [xmin, xmax] for y in [ymin, ymax]]\n",
    "text_pts = ([cmp.boundary.interpolate(i, normalized=True) for i in np.random.uniform(size=30)])\n",
    "all_pts = MultiPoint(pts + text_pts + corners +border_pts)\n",
    "tris = MultiPolygon(so.triangulate(all_pts))\n",
    "tris"
   ]
  },
  {
   "cell_type": "code",
   "execution_count": null,
   "metadata": {
    "Collapsed": "false"
   },
   "outputs": [],
   "source": [
    "bps = []\n",
    "for p in tris:\n",
    "    d = p.centroid.distance(drawbox.centroid)\n",
    "    buffer_dist = np.interp(d, [0, 175], [-0.3, -3])\n",
    "    bps.append(p.buffer(buffer_dist, join_style=2, cap_style=2))\n",
    "\n",
    "cpts = gp.get_random_points_in_polygon(dp, n_points=60)\n",
    "bps += [c.buffer(np.random.uniform(7, 38)) for c in cpts]\n",
    "\n",
    "\n",
    "bgps = MultiPolygon(bps)\n",
    "\n",
    "btbs = so.unary_union([p.boundary.buffer(np.random.uniform(0.1, 2), join_style=2, cap_style=2) for p in bgps]).intersection(drawbox)\n",
    "\n",
    "dpd = dp.difference(btbs)"
   ]
  },
  {
   "cell_type": "code",
   "execution_count": null,
   "metadata": {
    "Collapsed": "false"
   },
   "outputs": [],
   "source": [
    "angle = 45"
   ]
  },
  {
   "cell_type": "code",
   "execution_count": null,
   "metadata": {
    "Collapsed": "false"
   },
   "outputs": [],
   "source": [
    "bg_fills = []\n",
    "for p in tqdm(dpd):\n",
    "    d = p.centroid.distance(drawbox.centroid)\n",
    "    d_buffer = np.interp(d, [0, 175], [-0.3, -0.5])\n",
    "    stp = gp.ScaleTransPrms(n_iters=80, d_buffer=d_buffer, \n",
    "                            d_translate_factor=0.5,\n",
    "                            angles=angle)\n",
    "    db_mults = gp.gaussian_random_walk(n=stp.d_buffers.shape[0], step_std=1.5, step_mu=-0.4)\n",
    "    db_mults[db_mults<0.] = 0.05\n",
    "    stp.d_buffers *= db_mults\n",
    "    stp.angles = np.linspace(0, np.radians(360*0.5), len(stp.d_buffers))\n",
    "    scaled = gp.scale_trans(p, **stp.prms, join_style=2, cap_style=2, mitre_limit=30)\n",
    "    \n",
    "    fill = gp.merge_LineStrings([f.boundary for f in reversed(scaled)])\n",
    "    bg_fills.append(fill)\n",
    "    \n",
    "layer = dp.intersection(gp.merge_LineStrings(bg_fills))\n",
    "layer"
   ]
  },
  {
   "cell_type": "code",
   "execution_count": null,
   "metadata": {
    "Collapsed": "false"
   },
   "outputs": [],
   "source": [
    "stp = gp.ScaleTransPrms(n_iters=200, d_buffer=-0.35, d_translate_factor=0.5, angles=np.radians(-45))\n",
    "stp.d_buffers *= gp.gaussian_random_walk(n=stp.d_buffers.shape[0], step_std=15)\n",
    "\n",
    "stp.angles = np.linspace(0, np.radians(360*0.5), len(stp.d_buffers))\n",
    "\n",
    "scaled = gp.scale_trans(dpd, **stp.prms)\n",
    "\n",
    "layer = gp.merge_LineStrings([p.boundary for p in reversed(scaled)])"
   ]
  },
  {
   "cell_type": "code",
   "execution_count": null,
   "metadata": {
    "Collapsed": "false"
   },
   "outputs": [],
   "source": [
    "text_hatch = gp.connected_hatchbox(cmp, angle=-90, spacing=0.3, dist_thresh=0.35)"
   ]
  },
  {
   "cell_type": "code",
   "execution_count": null,
   "metadata": {
    "Collapsed": "false"
   },
   "outputs": [],
   "source": [
    "text_hatch = gp.merge_LineStrings(reversed([ls for ls in text_hatch]))"
   ]
  },
  {
   "cell_type": "code",
   "execution_count": null,
   "metadata": {
    "Collapsed": "false"
   },
   "outputs": [],
   "source": [
    "sk = vsketch.Vsketch()\n",
    "sk.size(page_format)\n",
    "sk.scale('1mm')\n",
    "sk.penWidth('0.25mm')\n",
    "sk.stroke(1)\n",
    "sk.geometry(layer)\n",
    "sk.stroke(2)\n",
    "sk.geometry(text_hatch)\n",
    "sk.display(color_mode='layer')"
   ]
  },
  {
   "cell_type": "code",
   "execution_count": null,
   "metadata": {
    "Collapsed": "false"
   },
   "outputs": [],
   "source": [
    "savepath = '/mnt/c/code/side/plotter_images/oned_outputs/0153_relief_come_soon.svg'\n",
    "\n",
    "sk.save(savepath)\n",
    "\n",
    "vpype_commands = 'reloop linemerge --tolerance 0.2mm '\n",
    "vpype_str = f'vpype read -q 0.05mm {savepath} {vpype_commands} write {savepath}'\n",
    "\n",
    "os.system(vpype_str)"
   ]
  }
 ],
 "metadata": {
  "kernelspec": {
   "display_name": "Python [conda env:genpen]",
   "language": "python",
   "name": "conda-env-genpen-py"
  },
  "language_info": {
   "codemirror_mode": {
    "name": "ipython",
    "version": 3
   },
   "file_extension": ".py",
   "mimetype": "text/x-python",
   "name": "python",
   "nbconvert_exporter": "python",
   "pygments_lexer": "ipython3",
   "version": "3.8.6"
  }
 },
 "nbformat": 4,
 "nbformat_minor": 4
}

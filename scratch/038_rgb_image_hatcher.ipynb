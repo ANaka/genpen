{
 "cells": [
  {
   "cell_type": "code",
   "execution_count": null,
   "id": "dc7ff216-7f83-412f-9325-b70afa0d42d8",
   "metadata": {},
   "outputs": [],
   "source": [
    "\n",
    "import itertools\n",
    "import numpy as np\n",
    "import os\n",
    "import seaborn as sns\n",
    "from tqdm import tqdm\n",
    "from dataclasses import asdict, dataclass, field\n",
    "import vsketch\n",
    "import shapely.geometry as sg\n",
    "from shapely.geometry import box, MultiLineString, Point, MultiPoint, Polygon, MultiPolygon, LineString\n",
    "import shapely.affinity as sa\n",
    "import shapely.ops as so\n",
    "import matplotlib.pyplot as plt\n",
    "import pandas as pd\n",
    "\n",
    "import vpype_cli\n",
    "from typing import List, Generic\n",
    "from genpen import genpen as gp\n",
    "from genpen.utils import Paper\n",
    "from scipy import stats as ss\n",
    "import geopandas\n",
    "from shapely.errors import TopologicalError\n",
    "import functools\n",
    "import vpype\n",
    "from skimage import io\n",
    "from pathlib import Path\n",
    "\n",
    "from sklearn.preprocessing import minmax_scale\n",
    "from skimage import feature\n",
    "from skimage import exposure\n",
    "\n",
    "from skimage import filters\n",
    "from skimage.color import rgb2gray\n",
    "from skimage.transform import rescale, resize, downscale_local_mean\n",
    "from skimage.morphology import disk\n",
    "\n",
    "def local_angle(dx, dy):\n",
    "    \"\"\"Calculate the angles between horizontal and vertical operators.\"\"\"\n",
    "    return np.mod(np.arctan2(dy, dx), np.pi)\n",
    "\n",
    "from PIL import Image\n",
    "\n",
    "\n",
    "import cv2\n",
    "\n",
    "\n"
   ]
  },
  {
   "cell_type": "code",
   "execution_count": null,
   "id": "64f8044e-9673-4eee-b5cd-576d941a84fc",
   "metadata": {},
   "outputs": [],
   "source": [
    "image_path= '/home/naka/art/youknowhowifeel.png'\n",
    "filename = 'charb3.svg'\n",
    "paper_size:str = '19x24 inches'\n",
    "border:float=40  # mm\n",
    "image_rescale_factor:float=0.08\n",
    "smooth_disk_size:int=0\n",
    "hist_clip_limit=0.1\n",
    "hist_nbins=32\n",
    "intensity_min=0.\n",
    "intensity_max=1.\n",
    "hatch_spacing_min=0.6  # mm\n",
    "hatch_spacing_max=1.5 # mm\n",
    "pixel_width=1 # mm\n",
    "pixel_height=1 # mm\n",
    "angle_jitter='0'  # degrees\n",
    "pixel_rotation='0'  # degrees\n",
    "merge_tolerances=[0.5, 0.8, 1.2]  # mm\n",
    "simplify_tolerances=[0.2, 0.4]  # mm\n",
    "savedir='/home/naka/art/plotter_svgs'"
   ]
  },
  {
   "cell_type": "code",
   "execution_count": null,
   "id": "98986c61-aebd-461e-aac4-7fa35cb4bf7f",
   "metadata": {},
   "outputs": [],
   "source": [
    "# make page\n",
    "paper = Paper(paper_size)\n",
    "drawbox = paper.get_drawbox(border)\n",
    "\n",
    "# load\n",
    "img =  io.imread(Path(image_path))"
   ]
  },
  {
   "cell_type": "code",
   "execution_count": null,
   "id": "608f148e-b277-474a-9566-678dbb7b2f1e",
   "metadata": {},
   "outputs": [],
   "source": [
    "image = Image.open(Path(image_path))\n",
    "cmyk_image = np.array(image.convert('CMYK'))[:, :, :3]\n",
    "    "
   ]
  },
  {
   "cell_type": "code",
   "execution_count": null,
   "id": "e4346176-2d53-4be2-8532-c9867b7b046b",
   "metadata": {},
   "outputs": [],
   "source": [
    "img_rescale = rescale(cmyk_image, image_rescale_factor, multichannel=True)\n",
    "        \n",
    "# \n",
    "# img_renorm = exposure.equalize_adapthist(img_rescale, clip_limit=hist_clip_limit, nbins=hist_nbins)\n",
    "img_renorm = img_rescale"
   ]
  },
  {
   "cell_type": "code",
   "execution_count": null,
   "id": "c25acd22-a9f5-4b11-ab55-2a93a28c8bdf",
   "metadata": {},
   "outputs": [],
   "source": [
    "# calc dominant angle\n",
    "selem = disk(smooth_disk_size)\n",
    "filt_img = np.stack([filters.rank.mean(img_renorm[:,:,ii], selem) for ii in range(img_renorm.shape[2])], axis=2)"
   ]
  },
  {
   "cell_type": "code",
   "execution_count": null,
   "id": "21b18304-47fb-414c-9279-938ed194641d",
   "metadata": {},
   "outputs": [],
   "source": [
    "f,ax = plt.subplots(figsize=(10,10))\n",
    "ax.imshow(filt_img)"
   ]
  },
  {
   "cell_type": "code",
   "execution_count": null,
   "id": "99721c58-4322-43d2-909d-739f4266a4c3",
   "metadata": {},
   "outputs": [],
   "source": [
    "angle_farid = np.stack([local_angle(filters.farid_h(filt_img[:, :, ii]), filters.farid_v(filt_img[:, :, ii])) for ii in range(img_renorm.shape[2])], axis=2)"
   ]
  },
  {
   "cell_type": "code",
   "execution_count": null,
   "id": "450d4871-b669-4826-ba5c-20fba9d43e54",
   "metadata": {},
   "outputs": [],
   "source": [
    "plt.imshow(angle_farid)"
   ]
  },
  {
   "cell_type": "code",
   "execution_count": null,
   "id": "3e365232-5ff8-4a5e-a426-1315c87caa28",
   "metadata": {},
   "outputs": [],
   "source": [
    "rhps = []\n",
    "for ii in range(img_renorm.shape[2]):\n",
    "    # make pixel polys\n",
    "    prms = []\n",
    "    for y, row in tqdm(enumerate(img_renorm[:,:, ii])):\n",
    "        for x, intensity in enumerate(row):\n",
    "\n",
    "            p = gp.centered_box(Point(x, y), width=pixel_width, height=pixel_height)\n",
    "            a = np.degrees(angle_farid[y, x, ii])\n",
    "            prm = {\n",
    "                'geometry':p,\n",
    "                'x':x,\n",
    "                'y':y,\n",
    "                'raw_pixel_width':pixel_width,\n",
    "                'raw_pixel_height':pixel_height,\n",
    "                'intensity': intensity,\n",
    "                'angle':a,\n",
    "                'group': 'raw_hatch_pixel',\n",
    "\n",
    "            }\n",
    "            prms.append(prm)\n",
    "    raw_hatch_pixels = geopandas.GeoDataFrame(prms)\n",
    "    rhps.append(raw_hatch_pixels)"
   ]
  },
  {
   "cell_type": "code",
   "execution_count": null,
   "id": "e20646d5-c390-4444-9dbd-ed0942e29dea",
   "metadata": {},
   "outputs": [],
   "source": [
    "fill_sets = []\n",
    "for raw_hatch_pixels in rhps:\n",
    "    #  rescale polys to fit in drawbox\n",
    "    bbox = box(*raw_hatch_pixels.total_bounds)\n",
    "    _, transform = gp.make_like(bbox, drawbox, return_transform=True)\n",
    "    A = gp.AffineMatrix(**transform)\n",
    "    scaled_hatch_pixels = raw_hatch_pixels.copy()\n",
    "    scaled_hatch_pixels['geometry'] = scaled_hatch_pixels.affine_transform(A.A_flat)\n",
    "    scaled_hatch_pixels['scaled_pixel_height'] = scaled_hatch_pixels['geometry'].apply(gp.get_height)\n",
    "    scaled_hatch_pixels['scaled_pixel_width'] = scaled_hatch_pixels['geometry'].apply(gp.get_width)\n",
    "\n",
    "    # distributions etc\n",
    "    angle_jitter_gen = gp.make_callable(eval(angle_jitter))\n",
    "    pixel_rotation_gen = gp.make_callable(eval(pixel_rotation))\n",
    "\n",
    "\n",
    "    scaled_hatch_pixels['angle_jitter'] = angle_jitter_gen(len(scaled_hatch_pixels))\n",
    "    scaled_hatch_pixels['hatch_angle'] = scaled_hatch_pixels['angle'] + scaled_hatch_pixels['angle_jitter']\n",
    "    scaled_hatch_pixels['pixel_rotation'] = pixel_rotation_gen(len(scaled_hatch_pixels))\n",
    "\n",
    "    example_height = scaled_hatch_pixels.loc[0, 'scaled_pixel_height']\n",
    "    example_width = scaled_hatch_pixels.loc[0, 'scaled_pixel_width']\n",
    "    print(f'pixel size = {example_width:.2}x{example_height:.2}mm')\n",
    "\n",
    "    spacing_func = functools.partial(np.interp, xp=[intensity_min, intensity_max], fp=[hatch_spacing_max, hatch_spacing_min, ])\n",
    "    scaled_hatch_pixels['spacing'] = spacing_func(1 - scaled_hatch_pixels['intensity'])\n",
    "    new_rows = []\n",
    "    for i, row in tqdm(scaled_hatch_pixels.iterrows(), total=len(scaled_hatch_pixels)):\n",
    "        r = row.copy()\n",
    "\n",
    "        p = r['geometry']\n",
    "        if abs(r['pixel_rotation']) > np.finfo(float).eps:\n",
    "            p = sa.rotate(p, r['pixel_rotation'])\n",
    "        f = gp.hatchbox(p, spacing=r['spacing'], angle=r['hatch_angle'])\n",
    "        r['geometry'] = f\n",
    "        new_rows.append(r)\n",
    "\n",
    "    fills = geopandas.GeoDataFrame(new_rows)\n",
    "    fills = fills[fills.length > 0.05]\n",
    "    fill_layer = gp.merge_LineStrings(fills.geometry)\n",
    "    fill_sets.append(fill_layer)"
   ]
  },
  {
   "cell_type": "code",
   "execution_count": null,
   "id": "a02df0f7-3ecb-45cc-9998-09d0cd5ce6c9",
   "metadata": {},
   "outputs": [],
   "source": [
    "sk = vsketch.Vsketch()\n",
    "sk.size(paper.page_format_mm)\n",
    "sk.scale('1mm')\n",
    "for ii, fill_layer in enumerate(fill_sets):\n",
    "    sk.stroke(ii+1)\n",
    "    sk.geometry(fill_layer)"
   ]
  },
  {
   "cell_type": "code",
   "execution_count": null,
   "id": "660ebc6a-3b38-4510-8d13-c9e3fb91e691",
   "metadata": {
    "jupyter": {
     "outputs_hidden": true
    },
    "tags": []
   },
   "outputs": [],
   "source": [
    "sk.display()"
   ]
  },
  {
   "cell_type": "code",
   "execution_count": null,
   "id": "c9d79a32-ffd0-42d6-8422-3c2019245c86",
   "metadata": {
    "tags": []
   },
   "outputs": [],
   "source": [
    "sk.vpype('linesort')\n",
    "        \n",
    "for tolerance in merge_tolerances:\n",
    "    sk.vpype(f'linemerge --tolerance {tolerance}mm')\n",
    "\n",
    "for tolerance in simplify_tolerances:\n",
    "    sk.vpype(f'linesimplify --tolerance {tolerance}mm')\n",
    "\n",
    "sk.vpype('linesort')\n",
    "# sk.display()"
   ]
  },
  {
   "cell_type": "code",
   "execution_count": null,
   "id": "c9437dc3-6dcb-4f7e-b94a-5dd717d032f1",
   "metadata": {},
   "outputs": [],
   "source": [
    "savepath = Path(savedir).joinpath(filename).as_posix()\n",
    "sk.save(savepath)"
   ]
  },
  {
   "cell_type": "markdown",
   "id": "d4de804a-f283-411d-b808-40cf36b93ab0",
   "metadata": {},
   "source": [
    "## but wiggly"
   ]
  },
  {
   "cell_type": "code",
   "execution_count": null,
   "id": "3f6ca524-eef3-4af5-bb54-6dd847dfde2e",
   "metadata": {},
   "outputs": [],
   "source": [
    "image_path= '/home/naka/art/wigglesphere2.jpg'\n",
    "filename = 'wigglesphere2.svg'\n",
    "paper_size:str = '200x200 mm'\n",
    "border:float=15  # mm\n",
    "image_rescale_factor:float=0.02\n",
    "smooth_disk_size:int=0\n",
    "hist_clip_limit=0.1\n",
    "hist_nbins=32\n",
    "intensity_min=0.\n",
    "intensity_max=1.\n",
    "hatch_spacing_min=0.35  # mm\n",
    "hatch_spacing_max=1.1 # mm\n",
    "pixel_width=1 # mm\n",
    "pixel_height=1 # mm\n",
    "angle_jitter='ss.norm(loc=10, scale=5).rvs'  # degrees\n",
    "pixel_rotation='0'  # degrees\n",
    "merge_tolerances=[0.3, 0.4,]  # mm\n",
    "simplify_tolerances=[0.2,]  # mm\n",
    "savedir='/home/naka/art/plotter_svgs'"
   ]
  },
  {
   "cell_type": "code",
   "execution_count": null,
   "id": "2c4db6ca-4daf-4d71-b49f-276d0b673d9b",
   "metadata": {},
   "outputs": [],
   "source": [
    "# make page\n",
    "paper = Paper(paper_size)\n",
    "drawbox = paper.get_drawbox(border)\n",
    "\n",
    "# load\n",
    "img =  rgb2gray(io.imread(Path(image_path)))"
   ]
  },
  {
   "cell_type": "code",
   "execution_count": null,
   "id": "6e11a2b7-81bf-48fc-87c1-fd3e6163c3d5",
   "metadata": {},
   "outputs": [],
   "source": [
    "\n",
    "        \n",
    "img_rescale = rescale(img, image_rescale_factor)\n",
    "img_renorm = exposure.equalize_adapthist(img_rescale, clip_limit=hist_clip_limit, nbins=hist_nbins)\n",
    "# img_renorm = img_rescale"
   ]
  },
  {
   "cell_type": "code",
   "execution_count": null,
   "id": "572fe436-b3c2-4630-9ab7-cac67c1f5831",
   "metadata": {},
   "outputs": [],
   "source": [
    "# calc dominant angle\n",
    "selem = disk(smooth_disk_size)\n",
    "filt_img = filters.rank.mean(img_renorm, selem)\n",
    "angle_farid = local_angle(filters.farid_h(filt_img), filters.farid_v(filt_img))"
   ]
  },
  {
   "cell_type": "code",
   "execution_count": null,
   "id": "6fc1b57e-637a-4039-9dbb-252675815195",
   "metadata": {},
   "outputs": [],
   "source": [
    "f,ax = plt.subplots(figsize=(10,10))\n",
    "ax.imshow(filt_img)"
   ]
  },
  {
   "cell_type": "code",
   "execution_count": null,
   "id": "a55d28bb-b01d-4582-bf6b-30c189190228",
   "metadata": {},
   "outputs": [],
   "source": [
    "plt.imshow(angle_farid)"
   ]
  },
  {
   "cell_type": "code",
   "execution_count": null,
   "id": "888b20b5-3374-482e-81fa-f4aa3b8cdd03",
   "metadata": {},
   "outputs": [],
   "source": [
    "# make pixel polys\n",
    "prms = []\n",
    "for y, row in tqdm(enumerate(img_renorm)):\n",
    "    for x, intensity in enumerate(row):\n",
    "\n",
    "        p = gp.centered_box(Point(x, y), width=pixel_width, height=pixel_height)\n",
    "        a = np.degrees(angle_farid[y, x])\n",
    "        prm = {\n",
    "            'geometry':p,\n",
    "            'x':x,\n",
    "            'y':y,\n",
    "            'raw_pixel_width':pixel_width,\n",
    "            'raw_pixel_height':pixel_height,\n",
    "            'intensity': intensity,\n",
    "            'angle':a,\n",
    "            'group': 'raw_hatch_pixel',\n",
    "\n",
    "        }\n",
    "        prms.append(prm)\n",
    "raw_hatch_pixels = geopandas.GeoDataFrame(prms)\n",
    "\n",
    "#  rescale polys to fit in drawbox\n",
    "bbox = box(*raw_hatch_pixels.total_bounds)\n",
    "_, transform = gp.make_like(bbox, drawbox, return_transform=True)\n",
    "A = gp.AffineMatrix(**transform)\n",
    "scaled_hatch_pixels = raw_hatch_pixels.copy()\n",
    "scaled_hatch_pixels['geometry'] = scaled_hatch_pixels.affine_transform(A.A_flat)\n",
    "scaled_hatch_pixels['scaled_pixel_height'] = scaled_hatch_pixels['geometry'].apply(gp.get_height)\n",
    "scaled_hatch_pixels['scaled_pixel_width'] = scaled_hatch_pixels['geometry'].apply(gp.get_width)"
   ]
  },
  {
   "cell_type": "code",
   "execution_count": null,
   "id": "f2f2f198-d833-4387-a1c7-cdb5ce2aeba4",
   "metadata": {},
   "outputs": [],
   "source": [
    "# distributions etc\n",
    "angle_jitter_gen = gp.make_callable(eval(angle_jitter))\n",
    "pixel_rotation_gen = gp.make_callable(eval(pixel_rotation))\n",
    "\n",
    "\n",
    "scaled_hatch_pixels['angle_jitter'] = angle_jitter_gen(len(scaled_hatch_pixels))\n",
    "scaled_hatch_pixels['hatch_angle'] = scaled_hatch_pixels['angle'] + scaled_hatch_pixels['angle_jitter']\n",
    "scaled_hatch_pixels['pixel_rotation'] = pixel_rotation_gen(len(scaled_hatch_pixels))\n",
    "\n",
    "example_height = scaled_hatch_pixels.loc[0, 'scaled_pixel_height']\n",
    "example_width = scaled_hatch_pixels.loc[0, 'scaled_pixel_width']\n",
    "print(f'pixel size = {example_width:.2}x{example_height:.2}mm')"
   ]
  },
  {
   "cell_type": "code",
   "execution_count": null,
   "id": "09f15687-0a32-4731-9a1a-81b45133ffb8",
   "metadata": {},
   "outputs": [],
   "source": [
    "spacing_func = functools.partial(np.interp, xp=[intensity_min, intensity_max], fp=[hatch_spacing_max, hatch_spacing_min, ])\n",
    "scaled_hatch_pixels['spacing'] = spacing_func(1 - scaled_hatch_pixels['intensity'])\n",
    "xjf = ss.norm(loc=0, scale=0.0).rvs\n",
    "yjf = ss.norm(loc=0, scale=0.2).rvs\n",
    "new_rows = []\n",
    "for i, row in tqdm(scaled_hatch_pixels.iterrows(), total=len(scaled_hatch_pixels)):\n",
    "    r = row.copy()\n",
    "\n",
    "    p = r['geometry']\n",
    "    if abs(r['pixel_rotation']) > np.finfo(float).eps:\n",
    "        p = sa.rotate(p, r['pixel_rotation'])\n",
    "#     f = gp.hatchbox(p, spacing=r['spacing'], angle=r['hatch_angle'])\n",
    "    f = gp.BezierHatchFill(\n",
    "        p, xjitter_func=xjf, \n",
    "        yjitter_func=yjf, spacing=r['spacing'], \n",
    "        degrees=r['hatch_angle'], n_nodes_per_line=7, n_eval_points=30)\n",
    "    r['geometry'] = f.fill\n",
    "    new_rows.append(r)"
   ]
  },
  {
   "cell_type": "code",
   "execution_count": null,
   "id": "61fb24ec-4433-4bea-a403-87b2e1ea3f9a",
   "metadata": {},
   "outputs": [],
   "source": [
    "fills = geopandas.GeoDataFrame(new_rows)\n",
    "fills = fills[fills.length > 0]\n",
    "fill_layer = gp.merge_LineStrings(fills.geometry)\n",
    "\n",
    "sk = vsketch.Vsketch()\n",
    "sk.size(paper.page_format_mm)\n",
    "sk.scale('1mm')\n",
    "sk.stroke(1)\n",
    "sk.geometry(fill_layer)"
   ]
  },
  {
   "cell_type": "code",
   "execution_count": null,
   "id": "5f70b5c7-33eb-462d-b60d-080d3817da0f",
   "metadata": {
    "tags": []
   },
   "outputs": [],
   "source": [
    "sk.display()"
   ]
  },
  {
   "cell_type": "code",
   "execution_count": null,
   "id": "69db9c6c-273d-45e1-a48a-7d114fbc68ff",
   "metadata": {
    "tags": []
   },
   "outputs": [],
   "source": [
    "sk.vpype('splitall')\n",
    "        \n",
    "    \n",
    "for tolerance in tqdm(merge_tolerances):\n",
    "    sk.vpype(f'linemerge --tolerance {tolerance}mm')\n",
    "\n",
    "for tolerance in tqdm(simplify_tolerances):\n",
    "    sk.vpype(f'linesimplify --tolerance {tolerance}mm')\n",
    "\n",
    "sk.vpype('linesort')\n",
    "sk.display()"
   ]
  },
  {
   "cell_type": "code",
   "execution_count": null,
   "id": "b0ecd1ea-ef21-44ab-9b8c-81ed113d8e93",
   "metadata": {},
   "outputs": [],
   "source": [
    "savepath = Path(savedir).joinpath(filename).as_posix()\n",
    "sk.save(savepath)"
   ]
  },
  {
   "cell_type": "code",
   "execution_count": null,
   "id": "9c9be7be-f0f6-4dbc-ab4e-db503f7b3c87",
   "metadata": {},
   "outputs": [],
   "source": []
  },
  {
   "cell_type": "markdown",
   "id": "225f8b17-7de8-4d35-8212-03ed72c0001b",
   "metadata": {},
   "source": [
    "## but wiggly"
   ]
  },
  {
   "cell_type": "code",
   "execution_count": null,
   "id": "faca6970-65ad-4a03-b376-123aed0678e8",
   "metadata": {},
   "outputs": [],
   "source": [
    "image_path= '/home/naka/art/joey1.JPG'\n",
    "filename = '005_joeywiggle.svg'\n",
    "paper_size:str = '14x11 inches'\n",
    "border:float=20  # mm\n",
    "image_rescale_factor:float=0.02\n",
    "smooth_disk_size:int=1\n",
    "hist_clip_limit=0.1\n",
    "hist_nbins=32\n",
    "intensity_min=0.\n",
    "intensity_max=1.\n",
    "hatch_spacing_min=0.35  # mm\n",
    "hatch_spacing_max=2.6 # mm\n",
    "pixel_width=1 # mm\n",
    "pixel_height=1 # mm\n",
    "angle_jitter='ss.norm(loc=10, scale=5).rvs'  # degrees\n",
    "pixel_rotation='0'  # degrees\n",
    "merge_tolerances=[0.2, 0.3, 0.4,]  # mm\n",
    "simplify_tolerances=[0.2, ]  # mm\n",
    "savedir='/home/naka/art/plotter_svgs'"
   ]
  },
  {
   "cell_type": "code",
   "execution_count": null,
   "id": "4cdbd8e0-62c2-43d0-bcd3-07e2f1a21c4e",
   "metadata": {},
   "outputs": [],
   "source": [
    "# make page\n",
    "paper = Paper(paper_size)\n",
    "drawbox = paper.get_drawbox(border)\n",
    "\n",
    "# load\n",
    "img =  rgb2gray(io.imread(Path(image_path)))"
   ]
  },
  {
   "cell_type": "code",
   "execution_count": null,
   "id": "e582a493-4203-4269-87e4-44921bb6f929",
   "metadata": {},
   "outputs": [],
   "source": [
    "\n",
    "        \n",
    "img_rescale = rescale(img, image_rescale_factor)\n",
    "img_renorm = exposure.equalize_adapthist(img_rescale, clip_limit=hist_clip_limit, nbins=hist_nbins)\n",
    "# img_renorm = img_rescale"
   ]
  },
  {
   "cell_type": "code",
   "execution_count": null,
   "id": "46328063-65e3-4c61-956e-a51f9e8362e9",
   "metadata": {},
   "outputs": [],
   "source": [
    "# calc dominant angle\n",
    "selem = disk(smooth_disk_size)\n",
    "filt_img = filters.rank.mean(img_renorm, selem)\n",
    "angle_farid = local_angle(filters.farid_h(filt_img), filters.farid_v(filt_img))"
   ]
  },
  {
   "cell_type": "code",
   "execution_count": null,
   "id": "5d530129-eb38-4826-a19e-6fe57cfd8fae",
   "metadata": {},
   "outputs": [],
   "source": [
    "f,ax = plt.subplots(figsize=(10,10))\n",
    "ax.imshow(filt_img)"
   ]
  },
  {
   "cell_type": "code",
   "execution_count": null,
   "id": "87a489f1-eaae-4b7a-b058-9641ffc6c0bb",
   "metadata": {},
   "outputs": [],
   "source": [
    "plt.imshow(angle_farid)"
   ]
  },
  {
   "cell_type": "code",
   "execution_count": null,
   "id": "f11ff071-f2c5-4618-a104-970916002486",
   "metadata": {},
   "outputs": [],
   "source": [
    "# make pixel polys\n",
    "prms = []\n",
    "for y, row in tqdm(enumerate(img_renorm)):\n",
    "    for x, intensity in enumerate(row):\n",
    "\n",
    "        p = gp.centered_box(Point(x, y), width=pixel_width, height=pixel_height)\n",
    "        a = np.degrees(angle_farid[y, x])\n",
    "        prm = {\n",
    "            'geometry':p,\n",
    "            'x':x,\n",
    "            'y':y,\n",
    "            'raw_pixel_width':pixel_width,\n",
    "            'raw_pixel_height':pixel_height,\n",
    "            'intensity': intensity,\n",
    "            'angle':a,\n",
    "            'group': 'raw_hatch_pixel',\n",
    "\n",
    "        }\n",
    "        prms.append(prm)\n",
    "raw_hatch_pixels = geopandas.GeoDataFrame(prms)\n",
    "\n",
    "#  rescale polys to fit in drawbox\n",
    "bbox = box(*raw_hatch_pixels.total_bounds)\n",
    "_, transform = gp.make_like(bbox, drawbox, return_transform=True)\n",
    "A = gp.AffineMatrix(**transform)\n",
    "scaled_hatch_pixels = raw_hatch_pixels.copy()\n",
    "scaled_hatch_pixels['geometry'] = scaled_hatch_pixels.affine_transform(A.A_flat)\n",
    "scaled_hatch_pixels['scaled_pixel_height'] = scaled_hatch_pixels['geometry'].apply(gp.get_height)\n",
    "scaled_hatch_pixels['scaled_pixel_width'] = scaled_hatch_pixels['geometry'].apply(gp.get_width)"
   ]
  },
  {
   "cell_type": "code",
   "execution_count": null,
   "id": "94d87d46-39d1-48b8-aa0b-c3913cd1575e",
   "metadata": {},
   "outputs": [],
   "source": [
    "# distributions etc\n",
    "angle_jitter_gen = gp.make_callable(eval(angle_jitter))\n",
    "pixel_rotation_gen = gp.make_callable(eval(pixel_rotation))\n",
    "\n",
    "\n",
    "scaled_hatch_pixels['angle_jitter'] = angle_jitter_gen(len(scaled_hatch_pixels))\n",
    "scaled_hatch_pixels['hatch_angle'] = scaled_hatch_pixels['angle'] + scaled_hatch_pixels['angle_jitter']\n",
    "scaled_hatch_pixels['pixel_rotation'] = pixel_rotation_gen(len(scaled_hatch_pixels))\n",
    "\n",
    "example_height = scaled_hatch_pixels.loc[0, 'scaled_pixel_height']\n",
    "example_width = scaled_hatch_pixels.loc[0, 'scaled_pixel_width']\n",
    "print(f'pixel size = {example_width:.2}x{example_height:.2}mm')"
   ]
  },
  {
   "cell_type": "code",
   "execution_count": null,
   "id": "b1bfbde9-b19d-4979-8e79-77fc141199c3",
   "metadata": {},
   "outputs": [],
   "source": [
    "spacing_func = functools.partial(np.interp, xp=[intensity_min, intensity_max], fp=[hatch_spacing_max, hatch_spacing_min, ])\n",
    "scaled_hatch_pixels['spacing'] = spacing_func(1 - scaled_hatch_pixels['intensity'])\n",
    "xjf = ss.norm(loc=0, scale=0.0).rvs\n",
    "yjf = ss.norm(loc=0, scale=0.2).rvs\n",
    "new_rows = []\n",
    "for i, row in tqdm(scaled_hatch_pixels.iterrows(), total=len(scaled_hatch_pixels)):\n",
    "    r = row.copy()\n",
    "\n",
    "    p = r['geometry']\n",
    "    if abs(r['pixel_rotation']) > np.finfo(float).eps:\n",
    "        p = sa.rotate(p, r['pixel_rotation'])\n",
    "#     f = gp.hatchbox(p, spacing=r['spacing'], angle=r['hatch_angle'])\n",
    "    f = gp.BezierHatchFill(\n",
    "        p, xjitter_func=xjf, \n",
    "        yjitter_func=yjf, spacing=r['spacing'], \n",
    "        degrees=r['hatch_angle'], n_nodes_per_line=7, n_eval_points=30)\n",
    "    r['geometry'] = f.fill\n",
    "    new_rows.append(r)"
   ]
  },
  {
   "cell_type": "code",
   "execution_count": null,
   "id": "9325b92e-ff7d-4f08-bcd1-8e1ade379238",
   "metadata": {},
   "outputs": [],
   "source": [
    "fills = geopandas.GeoDataFrame(new_rows)\n",
    "fills = fills[fills.length > 0.7]\n",
    "fill_layer = gp.merge_LineStrings(fills.geometry)\n",
    "\n",
    "sk = vsketch.Vsketch()\n",
    "sk.size(paper.page_format_mm)\n",
    "sk.scale('1mm')\n",
    "sk.stroke(1)\n",
    "sk.geometry(fill_layer)"
   ]
  },
  {
   "cell_type": "code",
   "execution_count": null,
   "id": "9ca28bd2-391b-473b-9fbd-fffbe9faf23f",
   "metadata": {
    "tags": []
   },
   "outputs": [],
   "source": [
    "sk.display()"
   ]
  },
  {
   "cell_type": "code",
   "execution_count": null,
   "id": "0fa036cd-7820-4a63-bc27-a6ca6182418d",
   "metadata": {
    "tags": []
   },
   "outputs": [],
   "source": [
    "sk.vpype('splitall')\n",
    "        \n",
    "    \n",
    "for tolerance in tqdm(merge_tolerances):\n",
    "    sk.vpype(f'linemerge --tolerance {tolerance}mm')\n",
    "\n",
    "for tolerance in tqdm(simplify_tolerances):\n",
    "    sk.vpype(f'linesimplify --tolerance {tolerance}mm')\n",
    "\n",
    "sk.vpype('linesort')\n",
    "sk.display()"
   ]
  },
  {
   "cell_type": "code",
   "execution_count": null,
   "id": "059350d3-e51a-4225-b04b-8900a6f0d0c2",
   "metadata": {},
   "outputs": [],
   "source": [
    "savepath = Path(savedir).joinpath(filename).as_posix()\n",
    "sk.save(savepath)"
   ]
  },
  {
   "cell_type": "markdown",
   "id": "e07c2ad4-8ee3-4f39-934b-60969085b670",
   "metadata": {},
   "source": [
    "# mario"
   ]
  },
  {
   "cell_type": "code",
   "execution_count": null,
   "id": "4647d447-afac-4692-844f-b26809e1f503",
   "metadata": {},
   "outputs": [],
   "source": [
    "image_path= '/home/naka/art/mariocrop'\n",
    "filename = '006_mario.svg'\n",
    "paper_size:str = '70x70 mm'\n",
    "border:float=5  # mm\n",
    "image_rescale_factor:float=0.08\n",
    "smooth_disk_size:int=1\n",
    "hist_clip_limit=0.1\n",
    "hist_nbins=32\n",
    "intensity_min=0.\n",
    "intensity_max=1.\n",
    "hatch_spacing_min=0.2  # mm\n",
    "hatch_spacing_max=0.6 # mm\n",
    "pixel_width=1 # mm\n",
    "pixel_height=1 # mm\n",
    "angle_jitter='ss.norm(loc=10, scale=5).rvs'  # degrees\n",
    "pixel_rotation='0'  # degrees\n",
    "merge_tolerances=[0.2, 0.3, 0.4,]  # mm\n",
    "simplify_tolerances=[0.2, ]  # mm\n",
    "savedir='/home/naka/art/plotter_svgs'"
   ]
  },
  {
   "cell_type": "code",
   "execution_count": null,
   "id": "e695e437-2cd8-42ca-b999-b732cce22bb1",
   "metadata": {},
   "outputs": [],
   "source": [
    "# make page\n",
    "paper = Paper(paper_size)\n",
    "drawbox = paper.get_drawbox(border)\n",
    "\n",
    "# load\n",
    "img =  rgb2gray(io.imread(Path(image_path)))"
   ]
  },
  {
   "cell_type": "code",
   "execution_count": null,
   "id": "6a82fd1c-cb48-4717-9ff6-757ec3711970",
   "metadata": {},
   "outputs": [],
   "source": [
    "\n",
    "        \n",
    "img_rescale = rescale(img, image_rescale_factor)\n",
    "img_renorm = exposure.equalize_adapthist(img_rescale, clip_limit=hist_clip_limit, nbins=hist_nbins)\n",
    "# img_renorm = img_rescale"
   ]
  },
  {
   "cell_type": "code",
   "execution_count": null,
   "id": "81f21037-8f56-4497-b52a-a2d5fc100dae",
   "metadata": {},
   "outputs": [],
   "source": [
    "# calc dominant angle\n",
    "selem = disk(smooth_disk_size)\n",
    "filt_img = filters.rank.mean(img_renorm, selem)\n",
    "angle_farid = local_angle(filters.farid_h(filt_img), filters.farid_v(filt_img))"
   ]
  },
  {
   "cell_type": "code",
   "execution_count": null,
   "id": "194b7a92-0ea5-422f-8b89-a8aa0600afe7",
   "metadata": {},
   "outputs": [],
   "source": [
    "f,ax = plt.subplots(figsize=(10,10))\n",
    "ax.imshow(filt_img)"
   ]
  },
  {
   "cell_type": "code",
   "execution_count": null,
   "id": "ef71289f-9a87-4f9f-bdf3-79a8cce5891f",
   "metadata": {},
   "outputs": [],
   "source": [
    "plt.imshow(angle_farid)"
   ]
  },
  {
   "cell_type": "code",
   "execution_count": null,
   "id": "95bf7fe3-ba2d-4663-883e-efc497b437f9",
   "metadata": {},
   "outputs": [],
   "source": [
    "# make pixel polys\n",
    "prms = []\n",
    "for y, row in tqdm(enumerate(img_renorm)):\n",
    "    for x, intensity in enumerate(row):\n",
    "\n",
    "        p = gp.centered_box(Point(x, y), width=pixel_width, height=pixel_height)\n",
    "        a = np.degrees(angle_farid[y, x])\n",
    "        prm = {\n",
    "            'geometry':p,\n",
    "            'x':x,\n",
    "            'y':y,\n",
    "            'raw_pixel_width':pixel_width,\n",
    "            'raw_pixel_height':pixel_height,\n",
    "            'intensity': intensity,\n",
    "            'angle':a,\n",
    "            'group': 'raw_hatch_pixel',\n",
    "\n",
    "        }\n",
    "        prms.append(prm)\n",
    "raw_hatch_pixels = geopandas.GeoDataFrame(prms)\n",
    "\n",
    "#  rescale polys to fit in drawbox\n",
    "bbox = box(*raw_hatch_pixels.total_bounds)\n",
    "_, transform = gp.make_like(bbox, drawbox, return_transform=True)\n",
    "A = gp.AffineMatrix(**transform)\n",
    "scaled_hatch_pixels = raw_hatch_pixels.copy()\n",
    "scaled_hatch_pixels['geometry'] = scaled_hatch_pixels.affine_transform(A.A_flat)\n",
    "scaled_hatch_pixels['scaled_pixel_height'] = scaled_hatch_pixels['geometry'].apply(gp.get_height)\n",
    "scaled_hatch_pixels['scaled_pixel_width'] = scaled_hatch_pixels['geometry'].apply(gp.get_width)"
   ]
  },
  {
   "cell_type": "code",
   "execution_count": null,
   "id": "f1be6a66-fddb-4b95-8fdf-0c0f4b496cc8",
   "metadata": {},
   "outputs": [],
   "source": [
    "# distributions etc\n",
    "angle_jitter_gen = gp.make_callable(eval(angle_jitter))\n",
    "pixel_rotation_gen = gp.make_callable(eval(pixel_rotation))\n",
    "\n",
    "\n",
    "scaled_hatch_pixels['angle_jitter'] = angle_jitter_gen(len(scaled_hatch_pixels))\n",
    "scaled_hatch_pixels['hatch_angle'] = scaled_hatch_pixels['angle'] + scaled_hatch_pixels['angle_jitter']\n",
    "scaled_hatch_pixels['pixel_rotation'] = pixel_rotation_gen(len(scaled_hatch_pixels))\n",
    "\n",
    "example_height = scaled_hatch_pixels.loc[0, 'scaled_pixel_height']\n",
    "example_width = scaled_hatch_pixels.loc[0, 'scaled_pixel_width']\n",
    "print(f'pixel size = {example_width:.2}x{example_height:.2}mm')"
   ]
  },
  {
   "cell_type": "code",
   "execution_count": null,
   "id": "d5d52e84-2aa7-44e5-b8a4-e77618f3896c",
   "metadata": {},
   "outputs": [],
   "source": [
    "spacing_func = functools.partial(np.interp, xp=[intensity_min, intensity_max], fp=[hatch_spacing_max, hatch_spacing_min, ])\n",
    "scaled_hatch_pixels['spacing'] = spacing_func(1 - scaled_hatch_pixels['intensity'])\n",
    "xjf = ss.norm(loc=0, scale=0.0).rvs\n",
    "yjf = ss.norm(loc=0, scale=0.2).rvs\n",
    "new_rows = []\n",
    "for i, row in tqdm(scaled_hatch_pixels.iterrows(), total=len(scaled_hatch_pixels)):\n",
    "    r = row.copy()\n",
    "\n",
    "    p = r['geometry']\n",
    "    if abs(r['pixel_rotation']) > np.finfo(float).eps:\n",
    "        p = sa.rotate(p, r['pixel_rotation'])\n",
    "#     f = gp.hatchbox(p, spacing=r['spacing'], angle=r['hatch_angle'])\n",
    "    f = gp.BezierHatchFill(\n",
    "        p, xjitter_func=xjf, \n",
    "        yjitter_func=yjf, spacing=r['spacing'], \n",
    "        degrees=r['hatch_angle'], n_nodes_per_line=7, n_eval_points=30)\n",
    "    r['geometry'] = f.fill\n",
    "    new_rows.append(r)"
   ]
  },
  {
   "cell_type": "code",
   "execution_count": null,
   "id": "8006045b-74c0-44e2-b359-952df0a8a3bd",
   "metadata": {},
   "outputs": [],
   "source": [
    "fills = geopandas.GeoDataFrame(new_rows)\n",
    "fills = fills[fills.length > 0.7]\n",
    "fill_layer = gp.merge_LineStrings(fills.geometry)\n",
    "\n",
    "sk = vsketch.Vsketch()\n",
    "sk.size(paper.page_format_mm)\n",
    "sk.scale('1mm')\n",
    "sk.stroke(1)\n",
    "sk.geometry(fill_layer)"
   ]
  },
  {
   "cell_type": "code",
   "execution_count": null,
   "id": "92c41f38-ce21-419a-a5ff-2978a0f1edd1",
   "metadata": {
    "tags": []
   },
   "outputs": [],
   "source": [
    "sk.display()"
   ]
  },
  {
   "cell_type": "code",
   "execution_count": null,
   "id": "2f87abc5-e5bb-41b9-b245-762019a3aced",
   "metadata": {
    "tags": []
   },
   "outputs": [],
   "source": [
    "sk.vpype('splitall')\n",
    "        \n",
    "    \n",
    "for tolerance in tqdm(merge_tolerances):\n",
    "    sk.vpype(f'linemerge --tolerance {tolerance}mm')\n",
    "\n",
    "for tolerance in tqdm(simplify_tolerances):\n",
    "    sk.vpype(f'linesimplify --tolerance {tolerance}mm')\n",
    "\n",
    "sk.vpype('linesort')\n",
    "sk.display()"
   ]
  },
  {
   "cell_type": "code",
   "execution_count": null,
   "id": "0d6ac1f9-6ffb-411a-ba07-f8b4c88790fa",
   "metadata": {},
   "outputs": [],
   "source": [
    "savepath = Path(savedir).joinpath(filename).as_posix()\n",
    "sk.save(savepath)"
   ]
  }
 ],
 "metadata": {
  "kernelspec": {
   "display_name": "Python [conda env:genpen]",
   "language": "python",
   "name": "conda-env-genpen-py"
  },
  "language_info": {
   "codemirror_mode": {
    "name": "ipython",
    "version": 3
   },
   "file_extension": ".py",
   "mimetype": "text/x-python",
   "name": "python",
   "nbconvert_exporter": "python",
   "pygments_lexer": "ipython3",
   "version": "3.8.8"
  }
 },
 "nbformat": 4,
 "nbformat_minor": 5
}

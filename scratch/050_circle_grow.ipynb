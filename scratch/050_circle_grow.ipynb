{
 "cells": [
  {
   "cell_type": "code",
   "execution_count": null,
   "id": "410bea1d-8f25-4c2b-966c-cf5ff1ef033e",
   "metadata": {
    "heading_collapsed": "false",
    "tags": []
   },
   "outputs": [],
   "source": [
    "import itertools\n",
    "import numpy as np\n",
    "import os\n",
    "import seaborn as sns\n",
    "from tqdm import tqdm\n",
    "from dataclasses import asdict, dataclass, field\n",
    "import vsketch\n",
    "import shapely.geometry as sg\n",
    "from shapely.geometry import box, MultiLineString, Point, MultiPoint, Polygon, MultiPolygon, LineString\n",
    "import shapely.affinity as sa\n",
    "import shapely.ops as so\n",
    "import matplotlib.pyplot as plt\n",
    "import pandas as pd\n",
    "\n",
    "import vpype_cli\n",
    "from typing import List, Generic\n",
    "from genpen import genpen as gp, utils as utils\n",
    "from scipy import stats as ss\n",
    "import geopandas\n",
    "from shapely.errors import TopologicalError\n",
    "import functools\n",
    "%load_ext autoreload\n",
    "%autoreload 2\n",
    "import vpype\n",
    "from skimage import io\n",
    "from pathlib import Path\n",
    "\n",
    "import bezier\n",
    "\n",
    "from sklearn.preprocessing import minmax_scale\n",
    "from skimage import feature\n",
    "from genpen.utils import Paper\n",
    "\n",
    "from scipy import spatial, stats\n",
    "from scipy.ndimage import gaussian_filter\n",
    "from scipy.integrate import odeint\n",
    "from functools import partial"
   ]
  },
  {
   "cell_type": "code",
   "execution_count": null,
   "id": "0a9451e4-59b7-4055-a0c0-fde5e5fb1f1f",
   "metadata": {},
   "outputs": [],
   "source": []
  },
  {
   "cell_type": "code",
   "execution_count": null,
   "id": "7dba362b-5442-4cf1-8c7d-7ea9285b9777",
   "metadata": {
    "heading_collapsed": "false"
   },
   "outputs": [],
   "source": [
    "# make page\n",
    "paper_size = '11x14 inches'\n",
    "border:float=30\n",
    "paper = Paper(paper_size)\n",
    "\n",
    "drawbox = paper.get_drawbox(border)"
   ]
  },
  {
   "cell_type": "code",
   "execution_count": null,
   "id": "59b1f545-d7d8-417e-8f65-4b24b5d19f9e",
   "metadata": {},
   "outputs": [],
   "source": [
    "\n"
   ]
  },
  {
   "cell_type": "code",
   "execution_count": null,
   "id": "28fbefe2-bab1-4c47-b2d4-f1705d85797b",
   "metadata": {},
   "outputs": [],
   "source": [
    "params = GrowerParams(\n",
    "    rad_func='scale_by_loss',\n",
    "    rad_range=(20, 2),\n",
    "    n_pts_eval_per_iter=15,\n",
    "    n_pts_add_per_iter=3,\n",
    ")\n",
    "g = Grower(poly=drawbox.centroid.buffer(20), params=params)"
   ]
  },
  {
   "cell_type": "code",
   "execution_count": null,
   "id": "1d51ded4-6212-4f39-864e-b97b351977d0",
   "metadata": {
    "collapsed": true,
    "jupyter": {
     "outputs_hidden": true
    },
    "tags": []
   },
   "outputs": [],
   "source": [
    "for ii in tqdm(range(150)):\n",
    "    g.grow()"
   ]
  },
  {
   "cell_type": "code",
   "execution_count": null,
   "id": "5d9195c9-7fc8-4fa9-aeec-65d3f712aabc",
   "metadata": {},
   "outputs": [],
   "source": []
  },
  {
   "cell_type": "code",
   "execution_count": null,
   "id": "713416db-8644-4e72-a912-08c740717e85",
   "metadata": {},
   "outputs": [],
   "source": [
    "lss = gp.make_like(gp.merge_LineStrings([p.buffer(-0.5).boundary for p in g.polys]), drawbox)"
   ]
  },
  {
   "cell_type": "code",
   "execution_count": null,
   "id": "9f2f9524-4464-4e9e-9f4c-2f5fdfd284bf",
   "metadata": {
    "heading_collapsed": "false"
   },
   "outputs": [],
   "source": [
    "sk = vsketch.Vsketch()\n",
    "sk.size(paper.page_format_mm)\n",
    "sk.scale('1mm')\n",
    "sk.penWidth('0.3mm')\n",
    "\n",
    "counter = 0\n",
    "for ls in lss:\n",
    "    counter += 1\n",
    "    sk.stroke(counter)\n",
    "    sk.geometry(ls)\n",
    "    \n",
    "sk.display(color_mode='layer')"
   ]
  },
  {
   "cell_type": "code",
   "execution_count": null,
   "id": "ccfec789-5855-4715-8028-f28ea952a4e2",
   "metadata": {},
   "outputs": [],
   "source": [
    "import fn"
   ]
  },
  {
   "cell_type": "code",
   "execution_count": null,
   "id": "dac76690-65b3-48e4-995f-778a85beb9bd",
   "metadata": {},
   "outputs": [],
   "source": [
    "plot_id = fn.new_plot_id()"
   ]
  },
  {
   "cell_type": "code",
   "execution_count": null,
   "id": "7f2d96f0-5097-4864-956a-26a2fccba500",
   "metadata": {},
   "outputs": [],
   "source": [
    "savedir='/home/naka/art/plotter_svgs'"
   ]
  },
  {
   "cell_type": "code",
   "execution_count": null,
   "id": "f18d2598-c9fb-4c72-a562-883d52b6239a",
   "metadata": {},
   "outputs": [],
   "source": [
    "savepath = Path(savedir).joinpath(f'{plot_id}.svg').as_posix()\n",
    "sk.save(savepath)"
   ]
  },
  {
   "cell_type": "code",
   "execution_count": null,
   "id": "eea2b60e-cdb0-4d24-a2e4-efcb10ef8962",
   "metadata": {},
   "outputs": [],
   "source": []
  },
  {
   "cell_type": "code",
   "execution_count": null,
   "id": "263eb77e-fdd3-466a-b8f1-c3acc8921639",
   "metadata": {},
   "outputs": [],
   "source": [
    "from genpen.axicam import AxiCam"
   ]
  },
  {
   "cell_type": "code",
   "execution_count": null,
   "id": "0c546554-0b68-4799-b664-cee67174361e",
   "metadata": {},
   "outputs": [],
   "source": [
    "ac = AxiCam()"
   ]
  },
  {
   "cell_type": "code",
   "execution_count": null,
   "id": "48a116fb-5c29-4abf-abbd-6a5cdecc7cf0",
   "metadata": {},
   "outputs": [],
   "source": [
    "ac.init_cam()"
   ]
  },
  {
   "cell_type": "code",
   "execution_count": null,
   "id": "d928c28b-bfa4-4532-ad30-517bdc5f422a",
   "metadata": {},
   "outputs": [],
   "source": [
    "ac.cam.video_preview()"
   ]
  },
  {
   "cell_type": "code",
   "execution_count": null,
   "id": "506ee612-1ab2-444f-930d-1914ca1b3756",
   "metadata": {},
   "outputs": [],
   "source": [
    "ac.cam.close()"
   ]
  },
  {
   "cell_type": "code",
   "execution_count": null,
   "id": "fb2bd9c2-bfc9-43e5-a596-b43feb57a4f1",
   "metadata": {},
   "outputs": [],
   "source": [
    "ac.ad.options.speed_penup = 80"
   ]
  },
  {
   "cell_type": "code",
   "execution_count": null,
   "id": "f8fc27b6-083a-4995-8b5b-500d275c9aef",
   "metadata": {},
   "outputs": [],
   "source": [
    "ac.ad.options.accel = 70\n",
    "ac.ad.options.pen_raise_rate = 85"
   ]
  },
  {
   "cell_type": "code",
   "execution_count": null,
   "id": "754513a9-126f-4f59-9161-aa627e1df820",
   "metadata": {},
   "outputs": [],
   "source": [
    "ac.ad.options.speed_pendown = 10\n",
    "ac.ad.update()"
   ]
  },
  {
   "cell_type": "code",
   "execution_count": null,
   "id": "3836528c-5bef-4607-bc4b-bdc4e61f280b",
   "metadata": {},
   "outputs": [],
   "source": [
    "ac.plot_layers(wait_times=0.3, start_layer=0)"
   ]
  },
  {
   "cell_type": "code",
   "execution_count": null,
   "id": "d196b686-e493-4856-a610-a6d1d1b9746a",
   "metadata": {},
   "outputs": [],
   "source": []
  }
 ],
 "metadata": {
  "kernelspec": {
   "display_name": "Python [conda env:genpen]",
   "language": "python",
   "name": "conda-env-genpen-py"
  },
  "language_info": {
   "codemirror_mode": {
    "name": "ipython",
    "version": 3
   },
   "file_extension": ".py",
   "mimetype": "text/x-python",
   "name": "python",
   "nbconvert_exporter": "python",
   "pygments_lexer": "ipython3",
   "version": "3.8.8"
  }
 },
 "nbformat": 4,
 "nbformat_minor": 5
}

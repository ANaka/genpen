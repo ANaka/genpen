{
 "cells": [
  {
   "cell_type": "code",
   "execution_count": null,
   "metadata": {
    "Collapsed": "false"
   },
   "outputs": [],
   "source": [
    "import itertools\n",
    "import numpy as np\n",
    "import os\n",
    "import seaborn as sns\n",
    "from tqdm import tqdm\n",
    "from dataclasses import asdict, dataclass, field\n",
    "import vsketch\n",
    "import shapely.geometry as sg\n",
    "from shapely.geometry import box, MultiLineString, Point, MultiPoint, Polygon, MultiPolygon, LineString\n",
    "import shapely.affinity as sa\n",
    "import shapely.ops as so\n",
    "import matplotlib.pyplot as plt\n",
    "import pandas as pd\n",
    "\n",
    "import vpype_cli\n",
    "from typing import List, Generic\n",
    "from genpen import genpen as gp, utils as utils\n",
    "from scipy import stats as ss\n",
    "import geopandas\n",
    "from shapely.errors import TopologicalError\n",
    "import functools\n",
    "%load_ext autoreload\n",
    "%autoreload 2\n",
    "import vpype\n",
    "from skimage import io\n",
    "from pathlib import Path\n",
    "\n",
    "from sklearn.preprocessing import minmax_scale\n",
    "from skimage import feature\n",
    "from genpen.utils import Paper"
   ]
  },
  {
   "cell_type": "code",
   "execution_count": null,
   "metadata": {
    "Collapsed": "false"
   },
   "outputs": [],
   "source": [
    "def polygonize_circle(circle, n_corners):\n",
    "    angles = np.linspace(0, 1, n_corners+1)\n",
    "    corners = [circle.boundary.interpolate(a, normalized=True) for a in angles]\n",
    "    return Polygon(corners)\n",
    "\n",
    "def reg_polygon(point, radius, n_corners):\n",
    "    circle = point.buffer(radius)\n",
    "    return polygonize_circle(circle, n_corners)\n",
    "\n",
    "@dataclass\n",
    "class RegPolygon(object):\n",
    "    point: Point\n",
    "    radius: float=1.\n",
    "    n_corners: int = 6\n",
    "    rotation: float = 0.  #degrees\n",
    "   \n",
    "    @property\n",
    "    def poly(self):\n",
    "        poly = reg_polygon(self.point, self.radius, self.n_corners)\n",
    "        return sa.rotate(poly, self.rotation)\n",
    "    \n",
    "    @property\n",
    "    def corners(self):\n",
    "        return MultiPoint(self.poly.boundary.coords)[:-1]"
   ]
  },
  {
   "cell_type": "code",
   "execution_count": null,
   "metadata": {
    "Collapsed": "false"
   },
   "outputs": [],
   "source": [
    "@dataclass\n",
    "class StellarSnowflake(object):\n",
    "    point_f0: Point = Point((0,0))\n",
    "    radius_f0: float=1.\n",
    "    n_corners_f0: int = 6\n",
    "    rotation_f0: float = 0.  #degrees\n",
    "    radius_f1: float=0.3\n",
    "    n_corners_f1: int = 6\n",
    "    rotation_f1: float = 0.  #degrees    \n",
    "    \n",
    "    @property\n",
    "    def f0(self):\n",
    "        return RegPolygon(self.point_f0,\n",
    "                          self.radius_f0, self.n_corners_f0, self.rotation_f0)\n",
    "    \n",
    "    @property\n",
    "    def poly_center(self):\n",
    "        return self.f0.poly\n",
    "    \n",
    "    @property\n",
    "    def corner_polys(self):\n",
    "        corner_polys = []\n",
    "        for p in self.f0.corners:\n",
    "            cp = RegPolygon(point=p, \n",
    "                             radius=self.radius_f1, \n",
    "                             n_corners=self.n_corners_f1,\n",
    "                             rotation=self.rotation_f1,\n",
    "                           ).poly\n",
    "            corner_polys.append(cp) \n",
    "        return MultiPolygon(corner_polys)\n",
    "    \n",
    "    @property\n",
    "    def multipolygon(self):\n",
    "        return gp.merge_Polygons([self.poly_center, self.corner_polys])\n",
    "    \n",
    "    @property\n",
    "    def poly(self):\n",
    "        return so.unary_union([self.poly_center, self.corner_polys])"
   ]
  },
  {
   "cell_type": "code",
   "execution_count": null,
   "metadata": {
    "Collapsed": "false"
   },
   "outputs": [],
   "source": [
    "def morsify(ls, buffer_factor=0.01, ):\n",
    "    dilated = ls.buffer(buffer_factor)\n",
    "    eroded = dilated.buffer(-buffer_factor)\n",
    "    return eroded.boundary"
   ]
  },
  {
   "cell_type": "code",
   "execution_count": null,
   "metadata": {
    "Collapsed": "false"
   },
   "outputs": [],
   "source": [
    "# make page\n",
    "paper_size = '5x7 inches'\n",
    "border:float=20\n",
    "paper = Paper('7x5 inches')\n",
    "\n",
    "drawbox = paper.get_drawbox(border)"
   ]
  },
  {
   "cell_type": "code",
   "execution_count": null,
   "metadata": {
    "Collapsed": "false"
   },
   "outputs": [],
   "source": [
    "xs, ys = gp.overlay_grid(drawbox, xstep=55, ystep=200)"
   ]
  },
  {
   "cell_type": "code",
   "execution_count": null,
   "metadata": {
    "Collapsed": "false"
   },
   "outputs": [],
   "source": [
    "points = [Point(x,y) for x,y in itertools.product(xs,ys)]"
   ]
  },
  {
   "cell_type": "code",
   "execution_count": null,
   "metadata": {
    "Collapsed": "false"
   },
   "outputs": [],
   "source": [
    "layers = []\n",
    "n_layers = 5\n",
    "\n",
    "for i in range(n_layers):\n",
    "    fills = []\n",
    "    for point in points:\n",
    "        radius_f0=15\n",
    "        f0f1_rad_ratio = np.random.uniform(0.25, 0.65)\n",
    "        radius_f1 = radius_f0 * f0f1_rad_ratio\n",
    "        rotation_f0 = np.random.uniform(0,180)\n",
    "        rotation_f1 = np.random.uniform(0,180)\n",
    "        sf = StellarSnowflake(\n",
    "            point, \n",
    "            radius_f0=radius_f0, \n",
    "            radius_f1=radius_f1,\n",
    "            rotation_f0 = rotation_f0,\n",
    "            rotation_f1 = rotation_f1,\n",
    "        )\n",
    "\n",
    "        poly_center = sf.poly_center.buffer(-1).buffer(1).buffer(np.random.uniform(-2,-0.5))\n",
    "        corner_polys = sf.corner_polys.buffer(-1).buffer(1).buffer(np.random.uniform(0.2, 1))\n",
    "        p = so.unary_union([poly_center, corner_polys])\n",
    "\n",
    "        hole = RegPolygon(point, radius=np.random.uniform(1,5), n_corners=6, \n",
    "                          rotation=np.random.uniform(0,180)).poly\n",
    "        p = p.difference(hole)\n",
    "\n",
    "\n",
    "        for i in range(1):\n",
    "            d = np.random.uniform(0.5, 2)\n",
    "            p = p.buffer(-d).buffer(d)\n",
    "\n",
    "\n",
    "        stp = gp.ScaleTransPrms(d_buffer=-0.35,angles=-45,d_translate_factor=0.)\n",
    "        P = gp.Poly(p)\n",
    "        P.fill_scale_trans(**stp.prms)\n",
    "\n",
    "        buffer_factor = 1e-4\n",
    "        cs=1\n",
    "        js=1\n",
    "        r = 27\n",
    "        mfills = []\n",
    "        for f in P.fill:\n",
    "            dilated = f.buffer(buffer_factor, cap_style=cs, join_style=js, resolution=r)\n",
    "            eroded = dilated.buffer(-buffer_factor, cap_style=cs, join_style=js, resolution=r)\n",
    "            mfills.append(eroded.boundary)\n",
    "\n",
    "        mfills = gp.merge_LineStrings(mfills)\n",
    "        mfills = gp.merge_LineStrings([f for f in mfills if f.length>0.3])\n",
    "        fills.append(mfills)\n",
    "        \n",
    "    \n",
    "    fill_layer = gp.merge_LineStrings(fills)\n",
    "    layers.append(fill_layer)"
   ]
  },
  {
   "cell_type": "code",
   "execution_count": null,
   "metadata": {
    "Collapsed": "false"
   },
   "outputs": [],
   "source": [
    "\n",
    "sk = vsketch.Vsketch()\n",
    "sk.size(paper.page_format_mm)\n",
    "sk.scale('1mm')\n",
    "for i, layer in enumerate(layers):\n",
    "    sk.stroke(i+1)\n",
    "    sk.geometry(layer)\n",
    "\n",
    "tolerance=0.5\n",
    "sk.vpype(f'linemerge --tolerance {tolerance}mm linesort')\n",
    "\n",
    "sk.display()"
   ]
  },
  {
   "cell_type": "code",
   "execution_count": null,
   "metadata": {
    "Collapsed": "false"
   },
   "outputs": [],
   "source": [
    "savedir='/mnt/c/code/side/plotter_images/oned_outputs'\n",
    "filename = '0148_imperfect_snowflakes_thinpack.svg'"
   ]
  },
  {
   "cell_type": "code",
   "execution_count": null,
   "metadata": {
    "Collapsed": "false"
   },
   "outputs": [],
   "source": [
    "savepath = Path(savedir).joinpath(filename).as_posix()\n",
    "sk.save(savepath)"
   ]
  },
  {
   "cell_type": "code",
   "execution_count": null,
   "metadata": {
    "Collapsed": "false"
   },
   "outputs": [],
   "source": []
  }
 ],
 "metadata": {
  "kernelspec": {
   "display_name": "Python [conda env:genpen]",
   "language": "python",
   "name": "conda-env-genpen-py"
  },
  "language_info": {
   "codemirror_mode": {
    "name": "ipython",
    "version": 3
   },
   "file_extension": ".py",
   "mimetype": "text/x-python",
   "name": "python",
   "nbconvert_exporter": "python",
   "pygments_lexer": "ipython3",
   "version": "3.8.6"
  }
 },
 "nbformat": 4,
 "nbformat_minor": 4
}

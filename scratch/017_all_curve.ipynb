{
 "cells": [
  {
   "cell_type": "code",
   "execution_count": null,
   "metadata": {
    "Collapsed": "false"
   },
   "outputs": [],
   "source": [
    "import itertools\n",
    "import numpy as np\n",
    "import os\n",
    "import seaborn as sns\n",
    "from tqdm import tqdm\n",
    "from dataclasses import asdict, dataclass, field\n",
    "import vsketch\n",
    "import shapely.geometry as sg\n",
    "from shapely.geometry import box, MultiLineString, Point, MultiPoint, Polygon, MultiPolygon, LineString\n",
    "import shapely.affinity as sa\n",
    "import shapely.ops as so\n",
    "import matplotlib.pyplot as plt\n",
    "import pandas as pd\n",
    "\n",
    "import vpype_cli\n",
    "from typing import List, Generic\n",
    "from genpen import genpen as gp, utils as utils\n",
    "from scipy import stats as ss\n",
    "import geopandas\n",
    "from shapely.errors import TopologicalError\n",
    "import functools\n",
    "%load_ext autoreload\n",
    "%autoreload 2\n",
    "import vpype\n",
    "from skimage import io\n",
    "from pathlib import Path\n",
    "\n",
    "import bezier\n",
    "\n",
    "from sklearn.preprocessing import minmax_scale\n",
    "from skimage import feature\n",
    "from genpen.utils import Paper"
   ]
  },
  {
   "cell_type": "code",
   "execution_count": null,
   "metadata": {
    "Collapsed": "false"
   },
   "outputs": [],
   "source": [
    "# make page\n",
    "paper_size = '11x14 inches'\n",
    "border:float=20\n",
    "paper = Paper(paper_size)\n",
    "\n",
    "drawbox = paper.get_drawbox(border)"
   ]
  },
  {
   "cell_type": "code",
   "execution_count": null,
   "metadata": {
    "Collapsed": "false"
   },
   "outputs": [],
   "source": [
    "lines = []\n",
    "\n",
    "node_sets = []\n",
    "n_lines = 1200\n",
    "n_nodes_per_line = 20\n",
    "y_start = 1\n",
    "y_end = 10\n",
    "x_start = 1\n",
    "x_end = 10\n",
    "node_x_centers = np.linspace(x_start, x_end, n_lines)\n",
    "std_scale = 0.02\n",
    "n_eval_points = 250\n",
    "\n",
    "### initialize vals\n",
    "node_ys = np.linspace(y_start, y_end, n_nodes_per_line)\n",
    "centered_node_xs = np.zeros(node_ys.shape)\n",
    "bez_eval_end_center = 1\n",
    "bez_eval_end_noise = 0\n",
    "bez_eval_end_limit = 1.1\n",
    "bez_eval_end_std_scale = 0.01\n",
    "\n",
    "for i, node_x_center in enumerate(node_x_centers):\n",
    "#     node_ys = np.flipud(node_ys)\n",
    "#     centered_node_xs = np.flipud(centered_node_xs)\n",
    "    new_x_noise = np.random.randn(n_nodes_per_line) * std_scale\n",
    "#     bez_eval_end_noise = bez_eval_end_noise + np.random.randn() * bez_eval_end_std_scale\n",
    "    centered_node_xs = centered_node_xs + new_x_noise\n",
    "    node_xs = node_x_center + centered_node_xs\n",
    "    node_xs[0:3] = node_x_center\n",
    "#     node_xs[-1] = node_x_center\n",
    "    nodes = np.asfortranarray([\n",
    "        node_xs,\n",
    "        node_ys,\n",
    "        ])\n",
    "    curve = bezier.Curve(nodes, degree=(nodes.shape[1]-1))\n",
    "#     bez_eval_end = bez_eval_end_center + bez_eval_end_noise\n",
    "#     if bez_eval_end > bez_eval_end_limit:\n",
    "#         bez_eval_end = 1 + np.random.randn()*0.02\n",
    "#     eval_points = np.linspace(0, bez_eval_end, n_eval_points)\n",
    "    eval_points = np.linspace(0, 1, n_eval_points)\n",
    "    x, y = curve.evaluate_multi(eval_points)\n",
    "    if i % 2:\n",
    "        x = np.flipud(x)\n",
    "        y = np.flipud(y)\n",
    "    lines.append(np.stack([x, y]).T)\n",
    "    node_sets.append(np.stack([node_xs, node_ys]).T)"
   ]
  },
  {
   "cell_type": "code",
   "execution_count": null,
   "metadata": {
    "Collapsed": "false"
   },
   "outputs": [],
   "source": [
    "ls = [LineString(l) for l in lines]"
   ]
  },
  {
   "cell_type": "code",
   "execution_count": null,
   "metadata": {
    "Collapsed": "false"
   },
   "outputs": [],
   "source": [
    "mls = gp.make_like(gp.merge_LineStrings(ls), drawbox)"
   ]
  },
  {
   "cell_type": "code",
   "execution_count": null,
   "metadata": {
    "Collapsed": "false"
   },
   "outputs": [],
   "source": [
    "mask = drawbox.centroid.buffer(100)"
   ]
  },
  {
   "cell_type": "code",
   "execution_count": null,
   "metadata": {
    "Collapsed": "false"
   },
   "outputs": [],
   "source": [
    "in_mask = mls.intersection(mask)"
   ]
  },
  {
   "cell_type": "code",
   "execution_count": null,
   "metadata": {
    "Collapsed": "false"
   },
   "outputs": [],
   "source": [
    "in_mask = sa.rotate(in_mask, -90)"
   ]
  },
  {
   "cell_type": "code",
   "execution_count": null,
   "metadata": {
    "Collapsed": "false"
   },
   "outputs": [],
   "source": [
    "split_point = 2100"
   ]
  },
  {
   "cell_type": "code",
   "execution_count": null,
   "metadata": {
    "Collapsed": "false"
   },
   "outputs": [],
   "source": [
    "layer1 = in_mask[:2100]\n",
    "layer2 = in_mask[2100:]"
   ]
  },
  {
   "cell_type": "code",
   "execution_count": null,
   "metadata": {
    "Collapsed": "false"
   },
   "outputs": [],
   "source": [
    "layers = []\n",
    "layers.append(LineString(np.concatenate([np.array(l) for l in layer1])))\n",
    "layers.append(LineString(np.concatenate([np.array(l) for l in layer2])))"
   ]
  },
  {
   "cell_type": "code",
   "execution_count": null,
   "metadata": {
    "Collapsed": "false"
   },
   "outputs": [],
   "source": [
    "sk = vsketch.Vsketch()\n",
    "sk.size(paper.page_format_mm)\n",
    "sk.scale('1mm')\n",
    "sk.penWidth('0.3mm')\n",
    "for i, layer in enumerate(layers):\n",
    "    sk.stroke(i+1)\n",
    "    sk.geometry(layer)\n",
    "\n",
    "sk.penWidth('0.3')\n",
    "# sk.vpype(f'linesimplify --tolerance 0.3mm')\n",
    "\n",
    "sk.display()"
   ]
  },
  {
   "cell_type": "code",
   "execution_count": null,
   "metadata": {
    "Collapsed": "false"
   },
   "outputs": [],
   "source": [
    "sk.save('/mnt/c/code/side/plotter_images/oned_outputs/169_all_curve.svg')"
   ]
  },
  {
   "cell_type": "markdown",
   "metadata": {
    "Collapsed": "false"
   },
   "source": [
    "# lets get more spacing, to work better with staedtlers"
   ]
  },
  {
   "cell_type": "code",
   "execution_count": null,
   "metadata": {
    "Collapsed": "false"
   },
   "outputs": [],
   "source": [
    "# make page\n",
    "paper_size = '11x14 inches'\n",
    "border:float=20\n",
    "paper = Paper(paper_size)\n",
    "\n",
    "drawbox = paper.get_drawbox(border)"
   ]
  },
  {
   "cell_type": "code",
   "execution_count": null,
   "metadata": {
    "Collapsed": "false"
   },
   "outputs": [],
   "source": [
    "lines = []\n",
    "\n",
    "node_sets = []\n",
    "n_lines = 800\n",
    "n_nodes_per_line = 20\n",
    "y_start = 1\n",
    "y_end = 10\n",
    "x_start = 1\n",
    "x_end = 10\n",
    "node_x_centers = np.linspace(x_start, x_end, n_lines)\n",
    "std_scale = 0.025\n",
    "n_eval_points = 250\n",
    "\n",
    "### initialize vals\n",
    "node_ys = np.linspace(y_start, y_end, n_nodes_per_line)\n",
    "centered_node_xs = np.zeros(node_ys.shape)\n",
    "bez_eval_end_center = 1\n",
    "bez_eval_end_noise = 0\n",
    "bez_eval_end_limit = 1.1\n",
    "bez_eval_end_std_scale = 0.01\n",
    "\n",
    "for i, node_x_center in enumerate(node_x_centers):\n",
    "#     node_ys = np.flipud(node_ys)\n",
    "#     centered_node_xs = np.flipud(centered_node_xs)\n",
    "    new_x_noise = np.random.randn(n_nodes_per_line) * std_scale\n",
    "#     bez_eval_end_noise = bez_eval_end_noise + np.random.randn() * bez_eval_end_std_scale\n",
    "    centered_node_xs = centered_node_xs + new_x_noise\n",
    "    node_xs = node_x_center + centered_node_xs\n",
    "    node_xs[0:3] = node_x_center\n",
    "#     node_xs[-1] = node_x_center\n",
    "    nodes = np.asfortranarray([\n",
    "        node_xs,\n",
    "        node_ys,\n",
    "        ])\n",
    "    curve = bezier.Curve(nodes, degree=(nodes.shape[1]-1))\n",
    "#     bez_eval_end = bez_eval_end_center + bez_eval_end_noise\n",
    "#     if bez_eval_end > bez_eval_end_limit:\n",
    "#         bez_eval_end = 1 + np.random.randn()*0.02\n",
    "#     eval_points = np.linspace(0, bez_eval_end, n_eval_points)\n",
    "    eval_points = np.linspace(0, 1, n_eval_points)\n",
    "    x, y = curve.evaluate_multi(eval_points)\n",
    "    if i % 2:\n",
    "        x = np.flipud(x)\n",
    "        y = np.flipud(y)\n",
    "    lines.append(np.stack([x, y]).T)\n",
    "    node_sets.append(np.stack([node_xs, node_ys]).T)"
   ]
  },
  {
   "cell_type": "code",
   "execution_count": null,
   "metadata": {
    "Collapsed": "false"
   },
   "outputs": [],
   "source": [
    "ls = [LineString(l) for l in lines]\n",
    "\n",
    "mls = gp.make_like(gp.merge_LineStrings(ls), drawbox)\n",
    "\n",
    "mask = drawbox.centroid.buffer(100)\n",
    "\n",
    "in_mask = mls.intersection(mask)\n",
    "\n",
    "in_mask = sa.rotate(in_mask, -90)"
   ]
  },
  {
   "cell_type": "code",
   "execution_count": null,
   "metadata": {
    "Collapsed": "false"
   },
   "outputs": [],
   "source": []
  },
  {
   "cell_type": "code",
   "execution_count": null,
   "metadata": {
    "Collapsed": "false"
   },
   "outputs": [],
   "source": [
    "inds = np.arange(len(in_mask))\n",
    "\n",
    "split_inds = np.array_split(inds[200:], 4)"
   ]
  },
  {
   "cell_type": "code",
   "execution_count": null,
   "metadata": {
    "Collapsed": "false"
   },
   "outputs": [],
   "source": [
    "in_mask.geoms[0]"
   ]
  },
  {
   "cell_type": "code",
   "execution_count": null,
   "metadata": {
    "Collapsed": "false"
   },
   "outputs": [],
   "source": [
    "\n",
    "layers = []\n",
    "for ind in split_inds:\n",
    "    layer = [in_mask[i] for i in ind]\n",
    "    layers.append(LineString(np.concatenate([np.array(l) for l in layer])))\n",
    "\n",
    "sk = vsketch.Vsketch()\n",
    "sk.size(paper.page_format_mm)\n",
    "sk.scale('1mm')\n",
    "sk.penWidth('0.3mm')\n",
    "for i, layer in enumerate(layers):\n",
    "    sk.stroke(i+1)\n",
    "    sk.geometry(layer)\n",
    "\n",
    "sk.penWidth('0.3')\n",
    "# sk.vpype(f'linesimplify --tolerance 0.3mm')\n",
    "\n",
    "sk.display()"
   ]
  },
  {
   "cell_type": "code",
   "execution_count": null,
   "metadata": {
    "Collapsed": "false"
   },
   "outputs": [],
   "source": [
    "sk.save('/mnt/c/code/side/plotter_images/oned_outputs/171_all_curve.svg')"
   ]
  }
 ],
 "metadata": {
  "kernelspec": {
   "display_name": "Python [conda env:genpen]",
   "language": "python",
   "name": "conda-env-genpen-py"
  },
  "language_info": {
   "codemirror_mode": {
    "name": "ipython",
    "version": 3
   },
   "file_extension": ".py",
   "mimetype": "text/x-python",
   "name": "python",
   "nbconvert_exporter": "python",
   "pygments_lexer": "ipython3",
   "version": "3.8.6"
  }
 },
 "nbformat": 4,
 "nbformat_minor": 4
}

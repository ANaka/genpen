{
 "cells": [
  {
   "cell_type": "code",
   "execution_count": null,
   "id": "84903d52-975b-40e0-823d-7ccaad8c2d23",
   "metadata": {
    "tags": []
   },
   "outputs": [],
   "source": [
    "\n",
    "import itertools\n",
    "import numpy as np\n",
    "import os\n",
    "import seaborn as sns\n",
    "from tqdm import tqdm\n",
    "from dataclasses import asdict, dataclass, field\n",
    "import vsketch\n",
    "import shapely.geometry as sg\n",
    "from shapely.geometry import box, MultiLineString, Point, MultiPoint, Polygon, MultiPolygon, LineString\n",
    "import shapely.affinity as sa\n",
    "import shapely.ops as so\n",
    "import matplotlib.pyplot as plt\n",
    "import pandas as pd\n",
    "\n",
    "import vpype_cli\n",
    "from typing import List, Generic\n",
    "from genpen import genpen as gp\n",
    "from genpen.utils import Paper\n",
    "from scipy import stats as ss\n",
    "import geopandas\n",
    "from shapely.errors import TopologicalError\n",
    "import functools\n",
    "import vpype\n",
    "from skimage import io\n",
    "from pathlib import Path\n",
    "\n",
    "from sklearn.preprocessing import minmax_scale\n",
    "from skimage import feature\n",
    "from skimage import exposure\n",
    "\n",
    "from skimage import filters\n",
    "from skimage.color import rgb2gray\n",
    "from skimage.transform import rescale, resize, downscale_local_mean\n",
    "from skimage.morphology import disk\n",
    "from pyaxidraw import axidraw   # import module\n",
    "\n",
    "from PIL import Image\n",
    "\n",
    "import fn\n",
    "import cv2\n",
    "\n",
    "from genpen.flow.field import *\n",
    "from genpen.flow.particle import *\n",
    "from genpen.genpen import random_line_subdivide_gen\n",
    "\n",
    "import time\n",
    "from pov import pov\n",
    "\n",
    "%load_ext autoreload\n",
    "%autoreload 2"
   ]
  },
  {
   "cell_type": "code",
   "execution_count": null,
   "id": "7ce2b9e3-8627-4ca3-b3f7-1936bdf58ea4",
   "metadata": {},
   "outputs": [],
   "source": [
    "def shoot_it(linestrings, gun_pts, substring_start_ds, substring_len_ds):\n",
    "    substrings = []\n",
    "    for ii, ls in enumerate(linestrings):\n",
    "        endpt = ls.interpolate(np.random.uniform(), normalized=True)\n",
    "        connection = LineString((gun_pts[ii], endpt))\n",
    "        substring_start_d = substring_start_ds()\n",
    "        substring_end_d = substring_start_d + substring_len_ds()\n",
    "        substring_start = connection.interpolate(substring_start_d, normalized=True)\n",
    "        substring_end = connection.interpolate(substring_end_d, normalized=True)\n",
    "        substring = LineString((substring_start, substring_end))\n",
    "        substrings.append(substring)\n",
    "    substrings = gp.merge_LineStrings(substrings)\n",
    "    return substrings"
   ]
  },
  {
   "cell_type": "markdown",
   "id": "600b8c2f-5f1f-4804-a13e-6d8ec2081fc3",
   "metadata": {},
   "source": [
    "# more complex"
   ]
  },
  {
   "cell_type": "code",
   "execution_count": null,
   "id": "fcbf883f-f6d8-433c-a635-6610db8ab596",
   "metadata": {},
   "outputs": [],
   "source": [
    "\n",
    "paper_size:str = '6x5.99 inches'\n",
    "border:float=15  # mm\n",
    "savedir='/home/naka/art/plotter_svgs'"
   ]
  },
  {
   "cell_type": "code",
   "execution_count": null,
   "id": "3925c076-55f6-4a60-950e-28fe02771628",
   "metadata": {},
   "outputs": [],
   "source": [
    "# make page\n",
    "paper = Paper(paper_size)\n",
    "drawbox = paper.get_drawbox(border)\n"
   ]
  },
  {
   "cell_type": "code",
   "execution_count": null,
   "id": "e0185d73-70c3-44da-920e-dab1d8ce9e5b",
   "metadata": {},
   "outputs": [],
   "source": [
    "center = drawbox.centroid"
   ]
  },
  {
   "cell_type": "code",
   "execution_count": null,
   "id": "2b347c8d-fa5b-4361-b459-0013826a27a2",
   "metadata": {},
   "outputs": [],
   "source": [
    "db = gp.Shape(drawbox)"
   ]
  },
  {
   "cell_type": "code",
   "execution_count": null,
   "id": "aaeeb54b-a92d-4c21-bb05-1e90ef4a30bf",
   "metadata": {},
   "outputs": [],
   "source": [
    "corner = Point(35,center.y)"
   ]
  },
  {
   "cell_type": "code",
   "execution_count": null,
   "id": "bc182a8f-e7ba-499e-ad21-cee73f6f05f9",
   "metadata": {},
   "outputs": [],
   "source": [
    "n_circles = 1\n",
    "xcenter = 100\n",
    "yrange = np.linspace(db.bottom+30, db.top-30, n_circles)"
   ]
  },
  {
   "cell_type": "code",
   "execution_count": null,
   "id": "409bba65-5974-438f-9adf-b21da6bcc4ef",
   "metadata": {},
   "outputs": [],
   "source": [
    "pts = [Point(xcenter, y) for y in yrange]"
   ]
  },
  {
   "cell_type": "code",
   "execution_count": null,
   "id": "9861e0ed-1b71-4280-ad57-6f7db62902dd",
   "metadata": {},
   "outputs": [],
   "source": [
    "radmin = 50\n",
    "radmax = 50\n",
    "rads = np.linspace(radmin, radmax, len(pts))\n",
    "circles = [pt.buffer(d) for d,pt in zip(rads, pts)]"
   ]
  },
  {
   "cell_type": "code",
   "execution_count": null,
   "id": "5f4e0d3b-db0b-4861-b207-0f81369d253d",
   "metadata": {},
   "outputs": [],
   "source": [
    "prms = gp.ScaleTransPrms(n_iters=300)"
   ]
  },
  {
   "cell_type": "code",
   "execution_count": null,
   "id": "10e998cd-4a02-4f4f-8758-de870e0f15f4",
   "metadata": {},
   "outputs": [],
   "source": [
    "cs = [gp.Poly(c) for c in circles]"
   ]
  },
  {
   "cell_type": "code",
   "execution_count": null,
   "id": "59e961c4-95ac-4ba4-9476-732f8757ad74",
   "metadata": {},
   "outputs": [],
   "source": [
    "for c in cs:\n",
    "    c.fill_hatch(angle=0, spacing=0.35)"
   ]
  },
  {
   "cell_type": "code",
   "execution_count": null,
   "id": "d751c2f0-26ea-4df8-9e46-7e0c60f8582b",
   "metadata": {},
   "outputs": [],
   "source": [
    "fillsets = [c.fill for c in cs]\n",
    "shotsets = []\n",
    "for fills in fillsets:\n",
    "    gun_pts = [corner] * len(fills)\n",
    "    substring_start_ds = ss.uniform(loc=0.05, scale=0.25).rvs\n",
    "    substring_len_ds = ss.uniform(loc=0.4, scale=0.3).rvs\n",
    "    shots = shoot_it(\n",
    "        linestrings=fills, \n",
    "        gun_pts=gun_pts, \n",
    "        substring_start_ds=substring_start_ds, \n",
    "        substring_len_ds=substring_len_ds)\n",
    "    shotsets.append(shots)"
   ]
  },
  {
   "cell_type": "code",
   "execution_count": null,
   "id": "30333352-abb6-49ff-98e2-1e384dc1a7a3",
   "metadata": {
    "Collapsed": "false"
   },
   "outputs": [],
   "source": [
    "\n",
    "\n",
    "   \n",
    "sk = vsketch.Vsketch()\n",
    "sk.size(paper.page_format_mm)\n",
    "sk.scale('1mm')\n",
    "sk.penWidth('0.5mm')\n",
    "counter = 1\n",
    "\n",
    "for shots, fills in zip(shotsets, fillsets):\n",
    "    for s,f, in zip(shots, fills):\n",
    "        sk.stroke(counter)\n",
    "        sk.geometry(s)\n",
    "        counter += 1\n",
    "        sk.stroke(counter)\n",
    "        sk.geometry(f)\n",
    "        counter += 1\n",
    "    \n",
    "    \n",
    "# tolerance=0.5\n",
    "sk.display()"
   ]
  },
  {
   "cell_type": "code",
   "execution_count": null,
   "id": "d784f8ec-a936-4876-828d-a37c7514efbf",
   "metadata": {},
   "outputs": [],
   "source": [
    "plot_id = fn.new_plot_id()"
   ]
  },
  {
   "cell_type": "code",
   "execution_count": null,
   "id": "1bd05843-0a85-4f2b-ae92-b0adbd04cf84",
   "metadata": {},
   "outputs": [],
   "source": [
    "savepath = Path(savedir).joinpath(f'{plot_id}.svg').as_posix()\n",
    "sk.save(savepath)"
   ]
  },
  {
   "cell_type": "code",
   "execution_count": null,
   "id": "17633bec-eac8-469f-8f0f-b905b0707284",
   "metadata": {},
   "outputs": [],
   "source": [
    "import signal\n",
    "\n",
    "class GracefulExiter():\n",
    "\n",
    "    def __init__(self):\n",
    "        self.state = False\n",
    "        signal.signal(signal.SIGINT, self.change_state)\n",
    "\n",
    "    def change_state(self, signum, frame):\n",
    "        print(\"exit flag set to True (repeat to exit now)\")\n",
    "        signal.signal(signal.SIGINT, signal.SIG_DFL)\n",
    "        self.state = True\n",
    "\n",
    "    def exit(self):\n",
    "        return self.state"
   ]
  },
  {
   "cell_type": "code",
   "execution_count": null,
   "id": "e444d11f-2294-4671-bb52-ca3dd59885c0",
   "metadata": {},
   "outputs": [],
   "source": [
    "def plot_layer(ad, cam, layer_number, wait_time=1.,):\n",
    "    ad.options.layer = ii\n",
    "    ad.plot_run()\n",
    "    time.sleep(wait_time)\n",
    "    cam.save_image()"
   ]
  },
  {
   "cell_type": "code",
   "execution_count": null,
   "id": "f3b82b03-61f3-4956-be8e-6c0fe3c90b91",
   "metadata": {},
   "outputs": [],
   "source": [
    "doc = vpype.read_multilayer_svg(savepath, 0.1)"
   ]
  },
  {
   "cell_type": "code",
   "execution_count": null,
   "id": "86132ffe-62fb-4c06-be17-c7a9332693fa",
   "metadata": {},
   "outputs": [],
   "source": [
    "n_layers = len(doc.layers)\n",
    "print(n_layers)"
   ]
  },
  {
   "cell_type": "code",
   "execution_count": null,
   "id": "59c09d2e-3e81-479b-a8ac-e3a1c62b7a7f",
   "metadata": {},
   "outputs": [],
   "source": [
    "wait_time = 2.1"
   ]
  },
  {
   "cell_type": "code",
   "execution_count": null,
   "id": "863c799e-f38f-427d-ac87-b6a9e2da1499",
   "metadata": {},
   "outputs": [],
   "source": [
    "from contextlib import closing\n",
    "with closing(pov.Camera()) as cam:\n",
    "    img = cam.get_image()"
   ]
  },
  {
   "cell_type": "code",
   "execution_count": null,
   "id": "29e3025e-e714-4910-a312-6d5daba0b62b",
   "metadata": {},
   "outputs": [],
   "source": [
    "cam = pov.Camera()"
   ]
  },
  {
   "cell_type": "code",
   "execution_count": null,
   "id": "5102bafa-b90e-44a7-a56c-5813fdec2c89",
   "metadata": {},
   "outputs": [],
   "source": [
    "cam.preview()"
   ]
  },
  {
   "cell_type": "code",
   "execution_count": null,
   "id": "477b79c9-f6f8-435c-b58d-ae8a6e903794",
   "metadata": {},
   "outputs": [],
   "source": [
    "ad = axidraw.AxiDraw()   \n",
    "ad.plot_setup(savepath)\n",
    "ad.options.mode = \"layers\"\n",
    "ad.options.units = 2\n",
    "ad.options.speed_pendown = 60\n",
    "ad.options.speed_penup = 60\n",
    "ad.update()"
   ]
  },
  {
   "cell_type": "code",
   "execution_count": null,
   "id": "973928b3-2b48-4179-9228-ddf8b601d1df",
   "metadata": {
    "tags": []
   },
   "outputs": [],
   "source": [
    "timing_info = []\n",
    "stored_exception = None\n",
    "flag = GracefulExiter()\n",
    "for ii in tqdm(range(n_layers)):\n",
    "    timing_info.append(plot_layer(ad, cam, layer_number=ii, wait_time=2.1))\n",
    "    if flag.exit():\n",
    "        break"
   ]
  },
  {
   "cell_type": "code",
   "execution_count": null,
   "id": "4a80a295-7114-445f-be9b-d318b3b3a255",
   "metadata": {},
   "outputs": [],
   "source": [
    "cam.close()"
   ]
  },
  {
   "cell_type": "code",
   "execution_count": null,
   "id": "c1abee30-6d4d-4392-846d-5239b0ccea53",
   "metadata": {},
   "outputs": [],
   "source": [
    "plot_id = fn.get_current_plot_id()"
   ]
  },
  {
   "cell_type": "code",
   "execution_count": null,
   "id": "3e5dc696-80cc-4d6b-9e78-cd4ce31214c0",
   "metadata": {},
   "outputs": [],
   "source": [
    "Path(gp.SVG_SAVEDIR).joinpath(plot_id).with_suffix('.svg')"
   ]
  },
  {
   "cell_type": "markdown",
   "id": "9584ca10-7054-43ac-9910-53249704afe6",
   "metadata": {},
   "source": [
    "# trying refactored version"
   ]
  },
  {
   "cell_type": "code",
   "execution_count": null,
   "id": "6dc68edd-ac29-4ace-9569-36c1eb91dee9",
   "metadata": {},
   "outputs": [],
   "source": [
    "def substring(linestring, substring_start, substring_end):\n",
    "    return LineString((linestring.interpolate(substring_start, normalized=True), linestring.interpolate(substring_end, normalized=True)))"
   ]
  },
  {
   "cell_type": "code",
   "execution_count": null,
   "id": "a04b3ee9-eaa6-44e0-a9d6-3bc862baf30e",
   "metadata": {},
   "outputs": [],
   "source": [
    "def substrings(linestrings, substring_starts, substring_ends):\n",
    "    _substring_starts = gp.make_callable(substring_starts)\n",
    "    _substring_ends = gp.make_callable(substring_ends)\n",
    "    substrings = []\n",
    "    for ii, ls in enumerate(linestrings):\n",
    "        start = _substring_starts()\n",
    "        end = _substring_ends()\n",
    "        substrings.append(substring(ls, start, end))\n",
    "    substrings = gp.merge_LineStrings(substrings)\n",
    "    return substrings"
   ]
  },
  {
   "cell_type": "code",
   "execution_count": null,
   "id": "b0f3698b-99c5-494a-8176-655f397138c4",
   "metadata": {},
   "outputs": [],
   "source": [
    "db = gp.Poly(drawbox)"
   ]
  },
  {
   "cell_type": "code",
   "execution_count": null,
   "id": "ca283f06-5531-4b9b-895f-b7d323c46400",
   "metadata": {},
   "outputs": [],
   "source": [
    "db.top"
   ]
  },
  {
   "cell_type": "code",
   "execution_count": null,
   "id": "1013305d-99d3-457c-849a-21cc76c4b75a",
   "metadata": {},
   "outputs": [],
   "source": [
    "db.p.centroid.y"
   ]
  },
  {
   "cell_type": "code",
   "execution_count": null,
   "id": "78d8729c-4ed2-4eee-bff6-f68c3bcaf810",
   "metadata": {},
   "outputs": [],
   "source": [
    "np.linspace(46, 106, n_lines)"
   ]
  },
  {
   "cell_type": "code",
   "execution_count": null,
   "id": "6584aa39-0947-4a81-8cd6-6a5d433698aa",
   "metadata": {},
   "outputs": [],
   "source": [
    "@dataclass\n",
    "class Streamers:\n",
    "    n_lines: int = 30\n",
    "    xstarts: 'typing.any' = 0.\n",
    "    ystarts: 'typing.any' = 0.\n",
    "    xends: 'typing.any' = 1.\n",
    "    yends: 'typing.any' = 1.\n",
    "        \n",
    "    @property\n",
    "    def lss(self):\n",
    "        xstarts = gp.make_callable(self.xstarts)\n",
    "        ystarts = gp.make_callable(self.ystarts)\n",
    "        xends = gp.make_callable(self.xends)\n",
    "        yends = gp.make_callable(self.yends)\n",
    "        lss = []\n",
    "        for ii in range(n_lines):\n",
    "            pt0 = Point(xstarts(), ystarts())\n",
    "            pt1 = Point(xends(), yends())\n",
    "            ls = LineString((pt0, pt1))\n",
    "            lss.append(ls)\n",
    "\n",
    "        lss = gp.merge_LineStrings(lss)\n",
    "        return lss\n",
    "    \n",
    "@dataclass\n",
    "class Blasters:\n",
    "    lss: sg.MultiLineString = None\n",
    "    n_substring_ints:int = 30\n",
    "    substring_var_start: 'typing.any' = 0.\n",
    "    substring_var_end: 'typing.any' = 0.1\n",
    "    substring_len: 'typing.any' = 0.05\n",
    "    xjitter: 'typing.any' = 0.\n",
    "    yjitter: 'typing.any' = 0.\n",
    "        \n",
    "    @property\n",
    "    def blss(self):\n",
    "        xjitter = gp.make_callable(self.xjitter)\n",
    "        yjitter = gp.make_callable(self.yjitter)\n",
    "        blss = []\n",
    "        for start in np.linspace(0., 1., self.n_substring_ints):\n",
    "            substring_starts = ss.uniform(loc=start, scale=np.interp(start, [0, 1], [self.substring_var_start, self.substring_var_end])).rvs\n",
    "            substring_ends = ss.uniform(loc=start+self.substring_len, scale=np.interp(start, [0, 1], [self.substring_var_start, self.substring_var_end])).rvs\n",
    "            bls = substrings(self.lss, substring_starts, substring_ends)\n",
    "            bls = [sa.translate(ls, xoff=xjitter(), yoff=yjitter()) for ls in bls]\n",
    "            blss.append(bls)\n",
    "        return blss\n",
    "    \n",
    "    "
   ]
  },
  {
   "cell_type": "code",
   "execution_count": null,
   "id": "3e89a0ec-8116-4dc3-8616-169378048ec2",
   "metadata": {},
   "outputs": [],
   "source": [
    "lss0 = Streamers(n_lines=30, xstarts=15, xends=76, ystarts=list(np.linspace(26, 126, n_lines)), yends=list(np.linspace(66, 86, n_lines))).lss\n",
    "blss0 = Blasters(lss=lss0, n_substring_ints=20, substring_var_start=0.0, \n",
    "                 substring_var_end=0.04, substring_len=0.05, yjitter = ss.norm(loc=0, scale=1).rvs,\n",
    "                ).blss"
   ]
  },
  {
   "cell_type": "code",
   "execution_count": null,
   "id": "b08b9cb3-b115-4ec5-9c23-dca26f034ea0",
   "metadata": {},
   "outputs": [],
   "source": [
    "lss1 = Streamers(n_lines=30, xstarts=137, xends=76, ystarts=list(np.linspace(26, 126, n_lines)), yends=list(np.linspace(66, 86, n_lines))).lss\n",
    "blss1 = Blasters(lss=lss1, n_substring_ints=20, substring_var_start=0.0, \n",
    "                 substring_var_end=0.04, substring_len=0.05, yjitter = ss.norm(loc=0, scale=1).rvs,\n",
    "                ).blss"
   ]
  },
  {
   "cell_type": "code",
   "execution_count": null,
   "id": "68252867-55f0-47f2-a349-7178f1db9b68",
   "metadata": {},
   "outputs": [],
   "source": [
    "n_splits_per_blast = 2\n",
    "buffer_dist = 1.5\n",
    "sk = vsketch.Vsketch()\n",
    "sk.size(paper.page_format_mm)\n",
    "sk.scale('1mm')\n",
    "sk.penWidth('0.5mm')\n",
    "counter = 1\n",
    "\n",
    "for b0, b1 in zip(blss0, blss1):\n",
    "    \n",
    "    splits = np.split(np.random.permutation(np.arange(len(b0))), n_splits_per_blast)\n",
    "    for order in splits:\n",
    "        for ii in order:\n",
    "            s = b0[ii]\n",
    "            sk.stroke(counter)\n",
    "            sk.geometry(s)\n",
    "        counter += 1\n",
    "        for ii in order:\n",
    "            s = b1[ii]\n",
    "            sk.stroke(counter)\n",
    "            sk.geometry(s)\n",
    "        counter += 1\n",
    "    \n",
    "    for order in splits:\n",
    "        \n",
    "        poly = gp.merge_LineStrings([b0[ii] for ii in order]).buffer(buffer_dist, cap_style=1, join_style=1)\n",
    "        P = gp.Poly(poly)\n",
    "        prms = gp.ScaleTransPrms(\n",
    "            n_iters=200,\n",
    "            d_buffer=-0.35,\n",
    "            d_translate_factor=0.7,\n",
    "            angles=0,\n",
    "        )\n",
    "        P.fill_scale_trans(**prms.prms)\n",
    "        fill_splits = np.array_split(np.arange(len(P.fill)), n_fill_splits)\n",
    "        for fill_split in fill_splits:\n",
    "            for ii in fill_split:\n",
    "                s = P.fill[ii]\n",
    "                sk.stroke(counter)\n",
    "                sk.geometry(s)\n",
    "            counter += 1\n",
    "            \n",
    "        poly = gp.merge_LineStrings([b1[ii] for ii in order]).buffer(buffer_dist, cap_style=2, join_style=2)\n",
    "        P = gp.Poly(poly)\n",
    "        prms = gp.ScaleTransPrms(\n",
    "            n_iters=200,\n",
    "            d_buffer=-0.35,\n",
    "            d_translate_factor=0.7,\n",
    "            angles=0,\n",
    "        )\n",
    "        P.fill_scale_trans(**prms.prms)\n",
    "        fill_splits = np.array_split(np.arange(len(P.fill)), n_fill_splits)\n",
    "        for fill_split in fill_splits:\n",
    "            for ii in fill_split:\n",
    "                s = P.fill[ii]\n",
    "                sk.stroke(counter)\n",
    "                sk.geometry(s)\n",
    "            counter += 1\n",
    "    \n",
    "sk.display()"
   ]
  },
  {
   "cell_type": "code",
   "execution_count": null,
   "id": "b72d242a-cb5c-462f-b7b7-9742f57c515a",
   "metadata": {},
   "outputs": [],
   "source": [
    "counter"
   ]
  },
  {
   "cell_type": "code",
   "execution_count": null,
   "id": "ea22ebd2-938a-430c-afe5-4fdb2ed5a9a5",
   "metadata": {},
   "outputs": [],
   "source": []
  },
  {
   "cell_type": "code",
   "execution_count": null,
   "id": "233ef18d-27c3-4d32-abc1-c9ff8b8456f1",
   "metadata": {},
   "outputs": [],
   "source": [
    "plot_id = fn.new_plot_id()"
   ]
  },
  {
   "cell_type": "code",
   "execution_count": null,
   "id": "6e8a13be-63ef-49aa-ae45-e40c5c6f7da6",
   "metadata": {},
   "outputs": [],
   "source": [
    "savepath = Path(savedir).joinpath(f'{plot_id}.svg').as_posix()\n",
    "sk.save(savepath)"
   ]
  },
  {
   "cell_type": "markdown",
   "id": "c50a9205-922a-48c7-9362-1fa17caf6c67",
   "metadata": {},
   "source": [
    "## plot"
   ]
  },
  {
   "cell_type": "code",
   "execution_count": null,
   "id": "ba60d4c8-7fc4-4d9c-b441-4902c4e3a179",
   "metadata": {},
   "outputs": [],
   "source": [
    "from genpen.axicam import AxiCam"
   ]
  },
  {
   "cell_type": "code",
   "execution_count": null,
   "id": "6ddb64de-647f-4aa8-8127-7a2d47a57e39",
   "metadata": {},
   "outputs": [],
   "source": [
    "axidraw.AxiDraw()"
   ]
  },
  {
   "cell_type": "code",
   "execution_count": null,
   "id": "01be139b-9af6-49a8-b889-8c6d36a5d8ad",
   "metadata": {},
   "outputs": [],
   "source": [
    "cam"
   ]
  },
  {
   "cell_type": "code",
   "execution_count": null,
   "id": "98532d8d-5334-4929-ae98-4a60d0746911",
   "metadata": {},
   "outputs": [],
   "source": [
    "ac = AxiCam()"
   ]
  },
  {
   "cell_type": "code",
   "execution_count": null,
   "id": "215925cd-60e2-4db4-8076-00c7de3c1713",
   "metadata": {},
   "outputs": [],
   "source": [
    "ac.init_cam()"
   ]
  },
  {
   "cell_type": "code",
   "execution_count": null,
   "id": "12943aad-6a34-4896-83a1-361ca26f9f32",
   "metadata": {},
   "outputs": [],
   "source": [
    "ac.plot_layers(wait_times=0.5)"
   ]
  },
  {
   "cell_type": "markdown",
   "id": "37aaba28-087e-4670-913f-27c173de34c6",
   "metadata": {},
   "source": [
    "# try2"
   ]
  },
  {
   "cell_type": "code",
   "execution_count": null,
   "id": "2638c582-c31b-4d98-a213-90a0ea43f88e",
   "metadata": {},
   "outputs": [],
   "source": [
    "lss0 = Streamers(n_lines=60, xstarts=15, xends=137, ystarts=list(np.linspace(16, 136, n_lines)), yends=list(np.linspace(71, 81, n_lines))).lss\n",
    "blss0 = Blasters(lss=lss0, n_substring_ints=50, substring_var_start=0.0, substring_var_end=0.0, substring_len=0.02,\n",
    "                 yjitter = ss.norm(loc=0, scale=0.).rvs, xjitter = ss.norm(loc=0, scale=0).rvs, \n",
    "                 ).blss"
   ]
  },
  {
   "cell_type": "code",
   "execution_count": null,
   "id": "a6d57c34-a329-4c5a-8988-93959da255ad",
   "metadata": {},
   "outputs": [],
   "source": [
    "lss1 = Streamers(n_lines=70, xstarts=137, xends=15, ystarts=list(np.linspace(16, 136, n_lines)), yends=list(np.linspace(66, 86, n_lines))).lss\n",
    "blss1 = Blasters(lss=lss1, n_substring_ints=50, substring_var_start=0.0, substring_var_end=0.0, substring_len=0.02,\n",
    "                 yjitter = ss.norm(loc=0, scale=0.).rvs, xjitter = ss.norm(loc=0, scale=0).rvs, \n",
    "                 ).blss"
   ]
  },
  {
   "cell_type": "code",
   "execution_count": null,
   "id": "39236dc7-81bb-43d9-a5eb-7fa15256817f",
   "metadata": {},
   "outputs": [],
   "source": [
    "n_splits_per_blast = 9\n",
    "n_fill_splits = 1\n",
    "buffer_dist = 4.5\n",
    "sk = vsketch.Vsketch()\n",
    "sk.size(paper.page_format_mm)\n",
    "sk.scale('1mm')\n",
    "sk.penWidth('0.5mm')\n",
    "counter = 1\n",
    "\n",
    "splits = [np.array_split(np.random.permutation(np.arange(len(b0))), n_splits_per_blast) for b0 in blss0]\n",
    "\n",
    "for split, b0, b1 in zip(splits, blss0, blss1):\n",
    "    \n",
    "    for order in split:\n",
    "        for ii in order:\n",
    "            s = b0[ii]\n",
    "            sk.stroke(counter)\n",
    "            sk.geometry(s)\n",
    "        counter += 1\n",
    "        for ii in order:\n",
    "            s = b1[ii]\n",
    "            sk.stroke(counter)\n",
    "            sk.geometry(s)\n",
    "        counter += 1\n",
    "    \n",
    "sk.display()\n",
    "sk.vpype('linesort')"
   ]
  },
  {
   "cell_type": "code",
   "execution_count": null,
   "id": "7abfe85a-713c-462b-8a3c-c7e3f78a6848",
   "metadata": {},
   "outputs": [],
   "source": [
    "counter"
   ]
  },
  {
   "cell_type": "code",
   "execution_count": null,
   "id": "42fed2a7-9c6e-481e-b2a0-dab7b53f3dc8",
   "metadata": {},
   "outputs": [],
   "source": [
    "plot_id = fn.new_plot_id()"
   ]
  },
  {
   "cell_type": "code",
   "execution_count": null,
   "id": "c43e672f-6807-4fde-8301-325c598fd232",
   "metadata": {},
   "outputs": [],
   "source": [
    "savepath = Path(savedir).joinpath(f'{plot_id}.svg').as_posix()\n",
    "sk.save(savepath)"
   ]
  },
  {
   "cell_type": "markdown",
   "id": "94e6fc56-0a7b-4c08-8bd0-1d2b3a522bbe",
   "metadata": {},
   "source": [
    "## plot"
   ]
  },
  {
   "cell_type": "code",
   "execution_count": null,
   "id": "f399b00c-0a16-4b15-aae8-98be4b9b2eb8",
   "metadata": {},
   "outputs": [],
   "source": [
    "from genpen.axicam import AxiCam"
   ]
  },
  {
   "cell_type": "code",
   "execution_count": null,
   "id": "f8087d96-dc41-45ee-be87-0109c6a57d3c",
   "metadata": {},
   "outputs": [],
   "source": [
    "axidraw.AxiDraw()"
   ]
  },
  {
   "cell_type": "code",
   "execution_count": null,
   "id": "f404cc7e-ab59-41dc-bf4f-8b5571d26f3f",
   "metadata": {},
   "outputs": [],
   "source": [
    "cam"
   ]
  },
  {
   "cell_type": "code",
   "execution_count": null,
   "id": "320d06d7-d266-483c-bd47-bdd157ca5569",
   "metadata": {},
   "outputs": [],
   "source": [
    "ac = AxiCam()"
   ]
  },
  {
   "cell_type": "code",
   "execution_count": null,
   "id": "76dd7140-64e0-4521-a210-b46708ee3e41",
   "metadata": {},
   "outputs": [],
   "source": [
    "ac.init_cam()"
   ]
  },
  {
   "cell_type": "code",
   "execution_count": null,
   "id": "90fd7266-89ad-4c34-82ad-4b5e50f53146",
   "metadata": {},
   "outputs": [],
   "source": [
    "ac.ad.options.speed_pendown = 40\n",
    "ac.ad.options.pen_delay_up = 5\n",
    "ac.ad.update()"
   ]
  },
  {
   "cell_type": "code",
   "execution_count": null,
   "id": "951e332d-de88-4ec5-8fc6-70d803365dd8",
   "metadata": {},
   "outputs": [],
   "source": [
    "ac.plot_layers(wait_times=0.5)"
   ]
  },
  {
   "cell_type": "markdown",
   "id": "17071569-d2a4-46c9-a5e8-17738882dd79",
   "metadata": {},
   "source": [
    "# try3"
   ]
  },
  {
   "cell_type": "code",
   "execution_count": null,
   "id": "f26b9e8a-a34e-4de0-971b-ea02e0aabda7",
   "metadata": {},
   "outputs": [],
   "source": [
    "lss0 = Streamers(n_lines=40, xstarts=15, xends=137, ystarts=list(np.linspace(16, 136, n_lines)), yends=list(np.linspace(56, 96, n_lines))).lss\n",
    "blss0 = Blasters(lss=lss0, n_substring_ints=70, substring_var_start=0.0, yjitter = ss.norm(loc=0, scale=1).rvs, xjitter = ss.norm(loc=0, scale=1).rvs, \n",
    "                 substring_var_end=0.05, substring_len=0.05).blss"
   ]
  },
  {
   "cell_type": "code",
   "execution_count": null,
   "id": "bf05f048-a61f-4ccd-a800-af865484f28e",
   "metadata": {},
   "outputs": [],
   "source": [
    "lss1 = Streamers(n_lines=20, xstarts=137, xends=15, ystarts=list(np.linspace(16, 136, n_lines)), yends=list(np.linspace(66, 86, n_lines))).lss\n",
    "blss1 = Blasters(lss=lss1, n_substring_ints=70, substring_var_start=0.0, yjitter = ss.norm(loc=0, scale=0.5).rvs, xjitter = ss.norm(loc=0, scale=0).rvs, \n",
    "                 substring_var_end=0.05, substring_len=0.05).blss"
   ]
  },
  {
   "cell_type": "code",
   "execution_count": null,
   "id": "f656084c-3efe-4bc7-90fb-4cb2797a6e7f",
   "metadata": {},
   "outputs": [],
   "source": [
    "n_splits_per_blast = 6\n",
    "n_fill_splits = 1\n",
    "buffer_dist = 4.5\n",
    "sk = vsketch.Vsketch()\n",
    "sk.size(paper.page_format_mm)\n",
    "sk.scale('1mm')\n",
    "sk.penWidth('0.5mm')\n",
    "counter = 1\n",
    "\n",
    "splits = [np.array_split(np.random.permutation(np.arange(len(b0))), n_splits_per_blast) for b0 in blss0]\n",
    "\n",
    "for split, b0, b1 in zip(splits, blss0, blss1):\n",
    "    \n",
    "    for order in split:\n",
    "        for ii in order:\n",
    "            s = b0[ii]\n",
    "            sk.stroke(counter)\n",
    "            sk.geometry(s)\n",
    "        counter += 1\n",
    "        for ii in order:\n",
    "            s = b1[ii]\n",
    "            sk.stroke(counter)\n",
    "            sk.geometry(s)\n",
    "        counter += 1\n",
    "    \n",
    "sk.display()"
   ]
  },
  {
   "cell_type": "code",
   "execution_count": null,
   "id": "f948d1f3-40d1-4ffa-a43c-90c86ccb08bc",
   "metadata": {},
   "outputs": [],
   "source": [
    "counter"
   ]
  },
  {
   "cell_type": "code",
   "execution_count": null,
   "id": "9b3cf6dc-ab2e-4efb-a1d1-7d7d167b2641",
   "metadata": {},
   "outputs": [],
   "source": [
    "plot_id = fn.new_plot_id()"
   ]
  },
  {
   "cell_type": "code",
   "execution_count": null,
   "id": "bca9e03e-06dd-497f-a4c4-b1e331667f10",
   "metadata": {},
   "outputs": [],
   "source": [
    "savepath = Path(savedir).joinpath(f'{plot_id}.svg').as_posix()\n",
    "sk.save(savepath)"
   ]
  },
  {
   "cell_type": "markdown",
   "id": "73f51749-768d-4e78-9e13-78d69d048c02",
   "metadata": {},
   "source": [
    "## plot"
   ]
  },
  {
   "cell_type": "code",
   "execution_count": null,
   "id": "22533495-f557-4cd0-bf1f-cebbda6eadff",
   "metadata": {},
   "outputs": [],
   "source": [
    "from genpen.axicam import AxiCam"
   ]
  },
  {
   "cell_type": "code",
   "execution_count": null,
   "id": "ebc513b0-7e1d-45e7-89e6-b8a01882a049",
   "metadata": {},
   "outputs": [],
   "source": [
    "axidraw.AxiDraw()"
   ]
  },
  {
   "cell_type": "code",
   "execution_count": null,
   "id": "220a4a94-857b-4202-8b28-0fbf8a96f1c1",
   "metadata": {},
   "outputs": [],
   "source": [
    "cam"
   ]
  },
  {
   "cell_type": "code",
   "execution_count": null,
   "id": "85284849-0c65-49ec-a8b7-f0c41654f059",
   "metadata": {},
   "outputs": [],
   "source": [
    "ac = AxiCam()"
   ]
  },
  {
   "cell_type": "code",
   "execution_count": null,
   "id": "2b89e048-1dfa-41bc-a9a1-6d06f5e76bf9",
   "metadata": {},
   "outputs": [],
   "source": [
    "ac.init_cam()"
   ]
  },
  {
   "cell_type": "code",
   "execution_count": null,
   "id": "8ed2b82b-95ba-4166-a17e-b337d2900f57",
   "metadata": {},
   "outputs": [],
   "source": [
    "ac.plot_layers(wait_times=0.5)"
   ]
  }
 ],
 "metadata": {
  "kernelspec": {
   "display_name": "Python [conda env:genpen]",
   "language": "python",
   "name": "conda-env-genpen-py"
  },
  "language_info": {
   "codemirror_mode": {
    "name": "ipython",
    "version": 3
   },
   "file_extension": ".py",
   "mimetype": "text/x-python",
   "name": "python",
   "nbconvert_exporter": "python",
   "pygments_lexer": "ipython3",
   "version": "3.8.8"
  }
 },
 "nbformat": 4,
 "nbformat_minor": 5
}

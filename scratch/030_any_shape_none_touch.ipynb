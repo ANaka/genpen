{
 "cells": [
  {
   "cell_type": "code",
   "execution_count": null,
   "metadata": {
    "Collapsed": "false"
   },
   "outputs": [],
   "source": [
    "import itertools\n",
    "import numpy as np\n",
    "import os\n",
    "import seaborn as sns\n",
    "from tqdm import tqdm\n",
    "from dataclasses import asdict, dataclass, field\n",
    "import vsketch\n",
    "import shapely.geometry as sg\n",
    "from shapely.geometry import box, MultiLineString, Point, MultiPoint, Polygon, MultiPolygon, LineString\n",
    "import shapely.affinity as sa\n",
    "import shapely.ops as so\n",
    "import matplotlib.pyplot as plt\n",
    "import pandas as pd\n",
    "\n",
    "import vpype_cli\n",
    "from typing import List, Generic\n",
    "from genpen import genpen as gp, utils as utils\n",
    "from scipy import stats as ss\n",
    "import geopandas\n",
    "from shapely.errors import TopologicalError\n",
    "import functools\n",
    "%load_ext autoreload\n",
    "%autoreload 2\n",
    "import vpype\n",
    "from skimage import io\n",
    "from pathlib import Path\n",
    "\n",
    "import bezier\n",
    "\n",
    "from sklearn.preprocessing import minmax_scale\n",
    "from skimage import feature\n",
    "from genpen.utils import Paper\n",
    "\n",
    "from scipy import spatial, stats\n",
    "from scipy.ndimage import gaussian_filter\n",
    "from scipy.integrate import odeint\n",
    "from scipy.signal import decimate"
   ]
  },
  {
   "cell_type": "code",
   "execution_count": null,
   "metadata": {
    "Collapsed": "false"
   },
   "outputs": [],
   "source": [
    "# make page\n",
    "paper_size = '11x17 inches'\n",
    "border:float=35\n",
    "paper = Paper(paper_size)\n",
    "\n",
    "drawbox = paper.get_drawbox(border)\n",
    "layers = []"
   ]
  },
  {
   "cell_type": "code",
   "execution_count": null,
   "metadata": {
    "Collapsed": "false"
   },
   "outputs": [],
   "source": [
    "prms = gp.NuzzleParams()\n",
    "prms.dilate_multiplier_max=0.15\n",
    "prms.dilate_cap_style = 2\n",
    "prms.dilate_join_style = 2\n",
    "prms.erode_cap_style = 2\n",
    "prms.erode_join_style =2"
   ]
  },
  {
   "cell_type": "code",
   "execution_count": null,
   "metadata": {
    "Collapsed": "false"
   },
   "outputs": [],
   "source": [
    "min_rad = 1.5\n",
    "iter_max = 50"
   ]
  },
  {
   "cell_type": "code",
   "execution_count": null,
   "metadata": {
    "Collapsed": "false"
   },
   "outputs": [],
   "source": [
    "all_circles = []\n",
    "circle_to_fill = drawbox\n"
   ]
  },
  {
   "cell_type": "code",
   "execution_count": null,
   "metadata": {
    "Collapsed": "false"
   },
   "outputs": [],
   "source": [
    "n_fails = 0\n",
    "n_iters = 0\n",
    "while (n_fails < 10) and (n_iters < iter_max):\n",
    "    try:\n",
    "        n_iters += 1\n",
    "        fc_rad = gp.get_rad(circle_to_fill)\n",
    "        rads = np.linspace(fc_rad*0.5, fc_rad*0.07, 15)\n",
    "        rads[rads<min_rad] = min_rad\n",
    "        circles = gp.circle_pack_within_poly(circle_to_fill, rads, progress_bar=False)\n",
    "        if circles.type == 'MultiPolygon':\n",
    "            circles =gp.nuzzle_em(circles, prms, n_iters=20)\n",
    "            circle_to_fill.filled = True\n",
    "            circles = circles.intersection(circle_to_fill)\n",
    "            all_circles += [c.buffer(-0.) for c in circles]\n",
    "        not_yet_filled = [c for c in all_circles if not getattr(c, 'filled', False)]\n",
    "        areas = np.array([c.area for c in not_yet_filled])\n",
    "        areas = areas/areas.sum()\n",
    "        circle_to_fill = np.random.choice(not_yet_filled, p=areas)\n",
    "        n_fails = 0\n",
    "    except:\n",
    "        n_fails += 1\n",
    "MultiPolygon(all_circles).boundary"
   ]
  },
  {
   "cell_type": "code",
   "execution_count": null,
   "metadata": {
    "Collapsed": "false"
   },
   "outputs": [],
   "source": [
    "bottom_level_circles = [c for c in all_circles if not getattr(c, 'filled', False)]"
   ]
  },
  {
   "cell_type": "code",
   "execution_count": null,
   "metadata": {
    "Collapsed": "false"
   },
   "outputs": [],
   "source": [
    "blcb = MultiPolygon(bottom_level_circles).buffer(-0.5).boundary"
   ]
  },
  {
   "cell_type": "code",
   "execution_count": null,
   "metadata": {
    "Collapsed": "false"
   },
   "outputs": [],
   "source": [
    "fill_circles = []\n",
    "for c in all_circles:\n",
    "    if not getattr(c, 'filled', False):\n",
    "        \n",
    "        rad = gp.get_rad(c)\n",
    "        if rad > 0.5:\n",
    "            _c = c.buffer(-0.5)\n",
    "            spacing = np.random.uniform(-0.5, -0.51)\n",
    "            erodes = np.arange(spacing, -rad+0.5, spacing)\n",
    "    #         erodes *= (np.random.randn(*erodes.shape) * 0.01 + 1)\n",
    "            fill_circles += [_c.buffer(b) for b in erodes]\n",
    "\n",
    "fills = MultiPolygon(fill_circles).boundary"
   ]
  },
  {
   "cell_type": "code",
   "execution_count": null,
   "metadata": {
    "Collapsed": "false"
   },
   "outputs": [],
   "source": [
    "sk = vsketch.Vsketch()\n",
    "sk.size(paper.page_format_mm)\n",
    "sk.scale('1mm')\n",
    "sk.penWidth('1mm')\n",
    "\n",
    "\n",
    "\n",
    "sk.stroke(1)\n",
    "sk.geometry(blcb)\n",
    "sk.stroke(2)\n",
    "sk.geometry(fills)\n",
    "\n",
    "for tol in [0.1]:\n",
    "    sk.vpype(f'linesimplify -t {tol}mm linemerge -t {tol}mm')\n",
    "\n",
    "sk.vpype('linesort')\n",
    "\n",
    "sk.display()"
   ]
  },
  {
   "cell_type": "code",
   "execution_count": null,
   "metadata": {
    "Collapsed": "false"
   },
   "outputs": [],
   "source": [
    "sk.save('/mnt/c/code/side/plotter_images/oned_outputs/258_any_shape_none_touch.svg')"
   ]
  },
  {
   "cell_type": "markdown",
   "metadata": {
    "Collapsed": "false"
   },
   "source": [
    "# try 3"
   ]
  },
  {
   "cell_type": "code",
   "execution_count": null,
   "metadata": {
    "Collapsed": "false"
   },
   "outputs": [],
   "source": [
    "# make page\n",
    "paper_size = '11x17 inches'\n",
    "border:float=35\n",
    "paper = Paper(paper_size)\n",
    "\n",
    "drawbox = paper.get_drawbox(border)\n",
    "layers = []"
   ]
  },
  {
   "cell_type": "code",
   "execution_count": null,
   "metadata": {
    "Collapsed": "false"
   },
   "outputs": [],
   "source": [
    "prms = gp.NuzzleParams()\n",
    "prms.dilate_multiplier_max=0.15\n",
    "prms.dilate_cap_style = 2\n",
    "prms.dilate_join_style = 2\n",
    "prms.erode_cap_style = 2\n",
    "prms.erode_join_style =2"
   ]
  },
  {
   "cell_type": "code",
   "execution_count": null,
   "metadata": {
    "Collapsed": "false"
   },
   "outputs": [],
   "source": [
    "min_rad = 1.5\n",
    "iter_max = 10"
   ]
  },
  {
   "cell_type": "code",
   "execution_count": null,
   "metadata": {
    "Collapsed": "false"
   },
   "outputs": [],
   "source": [
    "all_circles = []\n",
    "circle_to_fill = drawbox\n"
   ]
  },
  {
   "cell_type": "code",
   "execution_count": null,
   "metadata": {
    "Collapsed": "false"
   },
   "outputs": [],
   "source": [
    "n_fails = 0\n",
    "n_iters = 0\n",
    "while (n_fails < 10) and (n_iters < iter_max):\n",
    "    try:\n",
    "        n_iters += 1\n",
    "        fc_rad = gp.get_rad(circle_to_fill)\n",
    "        rads = np.linspace(fc_rad*0.5, fc_rad*0.07, 15)\n",
    "        rads[rads<min_rad] = min_rad\n",
    "        circles = gp.circle_pack_within_poly(circle_to_fill, rads, progress_bar=False)\n",
    "        if circles.type == 'MultiPolygon':\n",
    "            circles =gp.nuzzle_em(circles, prms, n_iters=20)\n",
    "            circle_to_fill.filled = True\n",
    "            circles = circles.intersection(circle_to_fill)\n",
    "            all_circles += [c.buffer(-0.) for c in circles]\n",
    "        not_yet_filled = [c for c in all_circles if not getattr(c, 'filled', False)]\n",
    "        areas = np.array([c.area for c in not_yet_filled])\n",
    "        areas = areas/areas.sum()\n",
    "        circle_to_fill = np.random.choice(not_yet_filled, p=areas)\n",
    "        n_fails = 0\n",
    "    except:\n",
    "        n_fails += 1\n",
    "MultiPolygon(all_circles).boundary"
   ]
  },
  {
   "cell_type": "code",
   "execution_count": null,
   "metadata": {
    "Collapsed": "false"
   },
   "outputs": [],
   "source": [
    "bottom_level_circles = [c for c in all_circles if not getattr(c, 'filled', False)]"
   ]
  },
  {
   "cell_type": "code",
   "execution_count": null,
   "metadata": {
    "Collapsed": "false"
   },
   "outputs": [],
   "source": [
    "blcb = MultiPolygon(bottom_level_circles).buffer(-0.5).boundary"
   ]
  },
  {
   "cell_type": "code",
   "execution_count": null,
   "metadata": {
    "Collapsed": "false"
   },
   "outputs": [],
   "source": [
    "fill_circles = []\n",
    "for c in all_circles:\n",
    "    if not getattr(c, 'filled', False):\n",
    "        \n",
    "        rad = gp.get_rad(c)\n",
    "        if rad > 0.5:\n",
    "            _c = c.buffer(-0.5)\n",
    "            spacing = np.random.uniform(-0.5, -0.8)\n",
    "            erodes = np.arange(spacing, -rad+0.5, spacing)\n",
    "    #         erodes *= (np.random.randn(*erodes.shape) * 0.01 + 1)\n",
    "            fill_circles += [_c.buffer(b) for b in erodes]\n",
    "\n",
    "fills = MultiPolygon(fill_circles).boundary"
   ]
  },
  {
   "cell_type": "code",
   "execution_count": null,
   "metadata": {
    "Collapsed": "false"
   },
   "outputs": [],
   "source": [
    "sk = vsketch.Vsketch()\n",
    "sk.size(paper.page_format_mm)\n",
    "sk.scale('1mm')\n",
    "sk.penWidth('1mm')\n",
    "\n",
    "\n",
    "\n",
    "sk.stroke(1)\n",
    "sk.geometry(blcb)\n",
    "sk.stroke(2)\n",
    "sk.geometry(fills)\n",
    "\n",
    "for tol in [0.1]:\n",
    "    sk.vpype(f'linesimplify -t {tol}mm linemerge -t {tol}mm')\n",
    "\n",
    "sk.vpype('linesort')\n",
    "\n",
    "sk.display()"
   ]
  },
  {
   "cell_type": "code",
   "execution_count": null,
   "metadata": {
    "Collapsed": "false"
   },
   "outputs": [],
   "source": [
    "sk.save('/mnt/c/code/side/plotter_images/oned_outputs/259_any_shape_none_touch_flaws.svg')"
   ]
  },
  {
   "cell_type": "markdown",
   "metadata": {
    "Collapsed": "false"
   },
   "source": [
    "# try 4"
   ]
  },
  {
   "cell_type": "code",
   "execution_count": null,
   "metadata": {
    "Collapsed": "false"
   },
   "outputs": [],
   "source": [
    "# make page\n",
    "paper_size = '17x23.5 inches'\n",
    "border:float=35\n",
    "paper = Paper(paper_size)\n",
    "\n",
    "drawbox = paper.get_drawbox(border)\n",
    "layers = []"
   ]
  },
  {
   "cell_type": "code",
   "execution_count": null,
   "metadata": {
    "Collapsed": "false"
   },
   "outputs": [],
   "source": [
    "prms = gp.NuzzleParams()\n",
    "prms.dilate_multiplier_max=0.15\n",
    "prms.dilate_cap_style = 2\n",
    "prms.dilate_join_style = 2\n",
    "prms.erode_cap_style = 2\n",
    "prms.erode_join_style =2"
   ]
  },
  {
   "cell_type": "code",
   "execution_count": null,
   "metadata": {
    "Collapsed": "false"
   },
   "outputs": [],
   "source": [
    "min_rad = 1.5\n",
    "iter_max = 1"
   ]
  },
  {
   "cell_type": "code",
   "execution_count": null,
   "metadata": {
    "Collapsed": "false"
   },
   "outputs": [],
   "source": [
    "all_circles = []\n",
    "circle_to_fill = drawbox\n"
   ]
  },
  {
   "cell_type": "code",
   "execution_count": null,
   "metadata": {
    "Collapsed": "false"
   },
   "outputs": [],
   "source": [
    "n_fails = 0\n",
    "n_iters = 0\n",
    "while (n_fails < 10) and (n_iters < iter_max):\n",
    "    try:\n",
    "        n_iters += 1\n",
    "        fc_rad = gp.get_rad(circle_to_fill)\n",
    "        rads = np.linspace(fc_rad*0.5, fc_rad*0.3, 15)\n",
    "        rads[rads<min_rad] = min_rad\n",
    "        circles = gp.circle_pack_within_poly(circle_to_fill, rads, progress_bar=False)\n",
    "        if circles.type == 'MultiPolygon':\n",
    "            circles =gp.nuzzle_em(circles, prms, n_iters=20)\n",
    "            circle_to_fill.filled = True\n",
    "            circles = circles.intersection(circle_to_fill)\n",
    "            all_circles += [c.buffer(-0.) for c in circles]\n",
    "        not_yet_filled = [c for c in all_circles if not getattr(c, 'filled', False)]\n",
    "        areas = np.array([c.area for c in not_yet_filled])\n",
    "        areas = areas/areas.sum()\n",
    "        circle_to_fill = np.random.choice(not_yet_filled, p=areas)\n",
    "        n_fails = 0\n",
    "    except:\n",
    "        n_fails += 1\n",
    "MultiPolygon(all_circles).boundary"
   ]
  },
  {
   "cell_type": "code",
   "execution_count": null,
   "metadata": {
    "Collapsed": "false"
   },
   "outputs": [],
   "source": [
    "bottom_level_circles = [c for c in all_circles if not getattr(c, 'filled', False)]"
   ]
  },
  {
   "cell_type": "code",
   "execution_count": null,
   "metadata": {
    "Collapsed": "false"
   },
   "outputs": [],
   "source": [
    "blcb = MultiPolygon(bottom_level_circles).buffer(-0.5).boundary"
   ]
  },
  {
   "cell_type": "code",
   "execution_count": null,
   "metadata": {
    "Collapsed": "false"
   },
   "outputs": [],
   "source": [
    "fill_circles = []\n",
    "for c in all_circles:\n",
    "    if not getattr(c, 'filled', False):\n",
    "        \n",
    "        rad = gp.get_rad(c)\n",
    "        if rad > 0.5:\n",
    "            _c = c.buffer(-0.5)\n",
    "            spacing = np.random.uniform(-0.5, -1)\n",
    "            erodes = np.arange(spacing, -rad+0.5, spacing)\n",
    "    #         erodes *= (np.random.randn(*erodes.shape) * 0.01 + 1)\n",
    "            fill_circles += [_c.buffer(b) for b in erodes]\n",
    "\n",
    "fills = MultiPolygon(fill_circles).boundary"
   ]
  },
  {
   "cell_type": "code",
   "execution_count": null,
   "metadata": {
    "Collapsed": "false"
   },
   "outputs": [],
   "source": [
    "sk = vsketch.Vsketch()\n",
    "sk.size(paper.page_format_mm)\n",
    "sk.scale('1mm')\n",
    "sk.penWidth('1mm')\n",
    "\n",
    "\n",
    "\n",
    "sk.stroke(1)\n",
    "sk.geometry(blcb)\n",
    "sk.stroke(2)\n",
    "sk.geometry(fills)\n",
    "\n",
    "for tol in [0.2, 0.4, 0.8, 1.]:\n",
    "    sk.vpype(f'linesimplify -t {tol}mm linemerge -t {tol}mm')\n",
    "\n",
    "sk.vpype('linesort')\n",
    "\n",
    "sk.display()"
   ]
  },
  {
   "cell_type": "code",
   "execution_count": null,
   "metadata": {
    "Collapsed": "false"
   },
   "outputs": [],
   "source": [
    "sk.save('/mnt/c/code/side/plotter_images/oned_outputs/260_any_shape_none_touch_flaws.svg')"
   ]
  }
 ],
 "metadata": {
  "kernelspec": {
   "display_name": "Python [conda env:genpen]",
   "language": "python",
   "name": "conda-env-genpen-py"
  },
  "language_info": {
   "codemirror_mode": {
    "name": "ipython",
    "version": 3
   },
   "file_extension": ".py",
   "mimetype": "text/x-python",
   "name": "python",
   "nbconvert_exporter": "python",
   "pygments_lexer": "ipython3",
   "version": "3.8.6"
  }
 },
 "nbformat": 4,
 "nbformat_minor": 4
}

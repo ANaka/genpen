{
 "cells": [
  {
   "cell_type": "code",
   "execution_count": null,
   "id": "4f7cf369-3858-4cea-ae2e-bbf53b077541",
   "metadata": {
    "Collapsed": "false"
   },
   "outputs": [],
   "source": [
    "import itertools\n",
    "import numpy as np\n",
    "import os\n",
    "import seaborn as sns\n",
    "from tqdm import tqdm\n",
    "from dataclasses import asdict, dataclass, field\n",
    "import vsketch\n",
    "import shapely.geometry as sg\n",
    "from shapely.geometry import box, MultiLineString, Point, MultiPoint, Polygon, MultiPolygon, LineString\n",
    "import shapely.affinity as sa\n",
    "import shapely.ops as so\n",
    "import matplotlib.pyplot as plt\n",
    "import pandas as pd\n",
    "\n",
    "import vpype_cli\n",
    "from typing import List, Generic\n",
    "from genpen import genpen as gp, utils as utils\n",
    "from scipy import stats as ss\n",
    "import geopandas\n",
    "from shapely.errors import TopologicalError\n",
    "import functools\n",
    "%load_ext autoreload\n",
    "%autoreload 2\n",
    "import vpype\n",
    "from skimage import io\n",
    "from pathlib import Path\n",
    "\n",
    "import bezier\n",
    "\n",
    "from sklearn.preprocessing import minmax_scale\n",
    "from skimage import feature\n",
    "from genpen.utils import Paper\n",
    "\n",
    "from scipy import spatial, stats\n",
    "from scipy.ndimage import gaussian_filter\n",
    "from scipy.integrate import odeint\n",
    "from functools import partial\n",
    "\n",
    "from genpen.grower import *\n",
    "import fn\n",
    "from genpen.axicam import AxiCam"
   ]
  },
  {
   "cell_type": "code",
   "execution_count": null,
   "id": "3168bebe-63ae-4c37-a0eb-d31c292ae4d8",
   "metadata": {
    "Collapsed": "false"
   },
   "outputs": [],
   "source": [
    "# make page\n",
    "paper_size = '11x14 inches'\n",
    "border:float=40\n",
    "paper = Paper(paper_size)\n",
    "\n",
    "drawbox = paper.get_drawbox(border)"
   ]
  },
  {
   "cell_type": "code",
   "execution_count": null,
   "id": "4ce317e1-f129-4410-a5d4-41c26ede9771",
   "metadata": {
    "Collapsed": "false"
   },
   "outputs": [],
   "source": [
    "xpix = 3300\n",
    "ypix = 4200\n",
    "\n",
    "drawbox = box(0, 0, xpix, ypix)\n",
    "\n",
    "all_circles = []\n",
    "circle_to_fill = drawbox\n",
    "# init\n",
    "fc_rad = gp.get_rad(circle_to_fill)\n",
    "x = circle_to_fill.centroid.x\n",
    "rad_mults = (0.5, 0.1)\n",
    "# rads = np.linspace(fc_rad*rad_mults[0], fc_rad*rad_mults[1], 30)\n",
    "rads = [540, 270, 200, 100]\n",
    "circles = gp.circle_pack_within_poly(circle_to_fill, rads, progress_bar=False)\n",
    "all_circles += list(circles)\n",
    "circle_to_fill.filled = True\n",
    "not_yet_filled = [c for c in all_circles if not getattr(c, 'filled', False)]\n",
    "areas = np.array([c.area for c in not_yet_filled])\n",
    "areas = areas/areas.sum()\n",
    "circle_to_fill = np.random.choice(not_yet_filled, p=areas)\n",
    "circles"
   ]
  },
  {
   "cell_type": "code",
   "execution_count": null,
   "id": "e0aa12db-edb7-4b66-80e8-0c4b8a25041f",
   "metadata": {
    "Collapsed": "false"
   },
   "outputs": [],
   "source": [
    "min_rad = 100\n",
    "iter_max = 10\n",
    "rad_mults = (0.5, 0.1)\n",
    "\n",
    "n_fails = 0\n",
    "n_iters = 0\n",
    "pbar = tqdm(total=iter_max)\n",
    "while (n_fails < 20) and (n_iters < iter_max):\n",
    "    try:\n",
    "#         pbar.update()\n",
    "        n_iters += 1\n",
    "        fc_rad = gp.get_rad(circle_to_fill)\n",
    "        \n",
    "        rads = np.linspace(fc_rad*rad_mults[0], fc_rad*rad_mults[1], 30)\n",
    "        rads[rads<min_rad] = min_rad\n",
    "        circles = gp.circle_pack_within_poly(circle_to_fill, rads, progress_bar=False)\n",
    "        circle_to_fill.filled = True\n",
    "        all_circles += list(circles)\n",
    "        not_yet_filled = [c for c in all_circles if not getattr(c, 'filled', False) and gp.get_rad(c) > min_rad]\n",
    "        areas = np.array([c.area for c in not_yet_filled]) ** 2\n",
    "        areas = areas/areas.sum()\n",
    "        circle_to_fill = np.random.choice(not_yet_filled, p=areas)\n",
    "        n_fails = 0\n",
    "    except KeyboardInterrupt:\n",
    "        break\n",
    "    except:\n",
    "        n_fails += 1\n",
    "        circle_to_fill = np.random.choice(not_yet_filled, p=areas)\n",
    "        \n",
    "print(f'total iters = {n_iters}')\n",
    "print(f'total fails = {n_fails}')\n",
    "MultiPolygon(all_circles).boundary"
   ]
  },
  {
   "cell_type": "code",
   "execution_count": null,
   "id": "ec50bd6f-2a8a-4f5f-835a-42b98df7e9aa",
   "metadata": {
    "Collapsed": "false"
   },
   "outputs": [],
   "source": [
    "bottom_circles = MultiPolygon([c for c in all_circles if not getattr(c, 'filled', False)])\n",
    "bottom_circles"
   ]
  },
  {
   "cell_type": "code",
   "execution_count": null,
   "id": "bbf60386-dac3-45bf-b02f-609fbde7e8ae",
   "metadata": {},
   "outputs": [],
   "source": [
    "from rasterio import features"
   ]
  },
  {
   "cell_type": "code",
   "execution_count": null,
   "id": "0ab8226e-10af-4463-a00f-4894bc2671f8",
   "metadata": {},
   "outputs": [],
   "source": [
    "db = gp.Shape(drawbox)"
   ]
  },
  {
   "cell_type": "code",
   "execution_count": null,
   "id": "c73c879d-e85c-40a7-8a3b-36118a3de1c8",
   "metadata": {},
   "outputs": [],
   "source": [
    "dpmm = 20"
   ]
  },
  {
   "cell_type": "code",
   "execution_count": null,
   "id": "72147ad0-28d2-4666-ab6b-af328bfdb327",
   "metadata": {},
   "outputs": [],
   "source": [
    "out_shape = (np.array((db.width, db.height)) * dpmm).astype(int)"
   ]
  },
  {
   "cell_type": "code",
   "execution_count": null,
   "id": "67a4d09e-eb86-471d-9d20-f4c85f95897f",
   "metadata": {},
   "outputs": [],
   "source": [
    "out_shape = (ypix, xpix)"
   ]
  },
  {
   "cell_type": "code",
   "execution_count": null,
   "id": "e95a3607-c970-4905-a014-3f2b1e4fcaf8",
   "metadata": {},
   "outputs": [],
   "source": [
    "circles"
   ]
  },
  {
   "cell_type": "code",
   "execution_count": null,
   "id": "8bcebf12-ccd5-452d-afbb-18bb93d8dde3",
   "metadata": {},
   "outputs": [],
   "source": [
    "rastered = features.rasterize(list(all_circles), out_shape=out_shape)"
   ]
  },
  {
   "cell_type": "code",
   "execution_count": null,
   "id": "a12a6f49-2782-4f3f-b1d2-1a2faef3e5d2",
   "metadata": {},
   "outputs": [],
   "source": [
    "dfs = []\n",
    "for ii, circle in enumerate(tqdm(all_circles)):\n",
    "    row, col = np.where(features.rasterize([circle], out_shape=out_shape))\n",
    "    _df = pd.DataFrame({'row': ii, 'col': jj})\n",
    "    _df['poly'] = ii\n",
    "    dfs.append(_df)"
   ]
  },
  {
   "cell_type": "code",
   "execution_count": null,
   "id": "ca1f15c2-a8e2-4b02-8d05-c5b31ca099fe",
   "metadata": {},
   "outputs": [],
   "source": []
  },
  {
   "cell_type": "code",
   "execution_count": null,
   "id": "0856f731-4818-4966-9b9c-33afd37892d4",
   "metadata": {},
   "outputs": [],
   "source": [
    "df = pd.concat(dfs)"
   ]
  },
  {
   "cell_type": "code",
   "execution_count": null,
   "id": "2b8fd415-1fef-4aac-ae19-6a55fd40a172",
   "metadata": {},
   "outputs": [],
   "source": [
    "df.to_csv('circle_inds.csv')"
   ]
  },
  {
   "cell_type": "code",
   "execution_count": null,
   "id": "357e7b33-a077-4977-90b6-43f11327a77e",
   "metadata": {
    "tags": []
   },
   "outputs": [],
   "source": [
    "all_circles"
   ]
  },
  {
   "cell_type": "code",
   "execution_count": null,
   "id": "c335d9e7-e946-4f27-ac4f-0b10673c1dcb",
   "metadata": {},
   "outputs": [],
   "source": [
    "dfs = []\n",
    "for ii, circle in enumerate(tqdm(all_circles)):\n",
    "    _df = pd.DataFrame({'x': circle.centroid.x, 'y': circle.centroid.y, 'rad': gp.get_rad(circle)}, index=[ii])\n",
    "    dfs.append(_df)\n",
    "\n",
    "df = pd.concat(dfs)"
   ]
  },
  {
   "cell_type": "code",
   "execution_count": null,
   "id": "b62ea953-1106-4b96-9200-ee7bea11234b",
   "metadata": {},
   "outputs": [],
   "source": [
    "df.to_csv('circle_summary.csv')"
   ]
  },
  {
   "cell_type": "markdown",
   "id": "429c4984-1ad6-4e8b-a7e1-986e43fc4d94",
   "metadata": {},
   "source": [
    "# flowbeam"
   ]
  },
  {
   "cell_type": "code",
   "execution_count": null,
   "id": "a16dcdf0-ee7a-42a7-a8fe-e39872e0ae2d",
   "metadata": {
    "Collapsed": "false"
   },
   "outputs": [],
   "source": [
    "paper_size = '20x10 inches'\n",
    "border:float=30\n",
    "paper = utils.Paper(paper_size)\n",
    "\n",
    "drawbox = paper.get_drawbox(border)\n",
    "buffer_style = 2"
   ]
  },
  {
   "cell_type": "code",
   "execution_count": null,
   "id": "5b5adb07-d71c-4f75-827e-c54ffb706293",
   "metadata": {},
   "outputs": [],
   "source": [
    "from genpen.flow import field, particle"
   ]
  },
  {
   "cell_type": "code",
   "execution_count": null,
   "id": "54babe82-0ab5-462f-9fe1-be8e8c8e0477",
   "metadata": {
    "Collapsed": "false"
   },
   "outputs": [],
   "source": [
    "\n",
    "poly = drawbox.buffer(-0)\n",
    "pg = field.PerlinGrid(poly, lod=4, falloff=None, noise_scale=0.0063, noiseSeed=5)"
   ]
  },
  {
   "cell_type": "code",
   "execution_count": null,
   "id": "494be2c2-0ae6-45fc-8ead-07dde786ce3e",
   "metadata": {},
   "outputs": [],
   "source": [
    "db = gp.Shape(poly)"
   ]
  },
  {
   "cell_type": "code",
   "execution_count": null,
   "id": "47e2b8b2-54d6-4a42-b3db-3905c14dc39c",
   "metadata": {
    "Collapsed": "false"
   },
   "outputs": [],
   "source": [
    "(xcs, ycs), _ = gp.overlay_grid(pg.p, xstep=24, ystep=14)\n",
    "start_points = []\n",
    "for x,y in itertools.product(xcs,ycs):\n",
    "    pos = Point(x+np.random.randn()*1.6, y+np.random.randn()*4.6)\n",
    "    start_points.append(pos)"
   ]
  },
  {
   "cell_type": "code",
   "execution_count": null,
   "id": "5f6d76c2-9a12-4786-9116-e339d21cded3",
   "metadata": {},
   "outputs": [],
   "source": [
    "# spiral_angle_max = np.pi * 10\n",
    "# spiral_angle_min = 0\n",
    "# spiral_angle_spacing = np.pi * 0.0501\n",
    "# sp_angle_range = np.arange(spiral_angle_min, spiral_angle_max, spiral_angle_spacing)\n",
    "# spiral_distances = np.linspace(0, 40, len(sp_angle_range))\n",
    "\n",
    "# start_points = [Point(np.cos(a) * d, np.sin(a) * d) for a, d in zip(sp_angle_range, spiral_distances)]"
   ]
  },
  {
   "cell_type": "code",
   "execution_count": null,
   "id": "3c9bed7d-c2be-4ac9-a0c0-f50c281320d7",
   "metadata": {},
   "outputs": [],
   "source": [
    "start_points = gp.make_like(MultiPoint(start_points), db.p)"
   ]
  },
  {
   "cell_type": "code",
   "execution_count": null,
   "id": "6cc79b9c-d0cd-4d4c-8363-004d08c185b8",
   "metadata": {
    "tags": []
   },
   "outputs": [],
   "source": [
    "poly = db.p\n",
    "pts = []\n",
    "lss = []\n",
    "n_steps = 55\n",
    "for pt in tqdm(start_points):\n",
    "    \n",
    "    vp = particle.VectorParticle(pos=pt, grid=pg, stepsize=1, momentum_factor=np.random.uniform(0,0))\n",
    "    for ii in range(n_steps):\n",
    "        vp.step()\n",
    "    if len(vp.pts) > 1:\n",
    "        ls = gp.merge_LineStrings([LineString(vp.pts)])\n",
    "    lss.append(ls)"
   ]
  },
  {
   "cell_type": "code",
   "execution_count": null,
   "id": "b86ec23b-10d8-4c2b-872f-5d5d9ee649df",
   "metadata": {},
   "outputs": [],
   "source": [
    "gp.merge_LineStrings(lss)"
   ]
  },
  {
   "cell_type": "code",
   "execution_count": null,
   "id": "a229e489-9c5c-4941-84d2-57f1ee99a07d",
   "metadata": {},
   "outputs": [],
   "source": [
    "buffer_gen = ss.uniform(loc=6, scale=5).rvs"
   ]
  },
  {
   "cell_type": "code",
   "execution_count": null,
   "id": "75fdbc98-20c7-4d52-a0a3-764c2215eee8",
   "metadata": {},
   "outputs": [],
   "source": [
    "polys = []\n",
    "all_polys = Polygon()\n",
    "for ii, l in enumerate(tqdm(lss[:])):\n",
    "    p = l.buffer(1, cap_style=2, join_style=2)\n",
    "    p = p.buffer(buffer_gen(), cap_style=2, join_style=2)\n",
    "    visible_area = p.difference(all_polys).buffer(1e-6)\n",
    "    polys.append(visible_area)\n",
    "    all_polys = so.unary_union([all_polys, visible_area])"
   ]
  },
  {
   "cell_type": "code",
   "execution_count": null,
   "id": "ebd7d068-fea3-429c-a85c-6b250f85eba2",
   "metadata": {
    "tags": []
   },
   "outputs": [],
   "source": [
    "gp.merge_Polygons(polys)"
   ]
  }
 ],
 "metadata": {
  "kernelspec": {
   "display_name": "Python [conda env:genpen]",
   "language": "python",
   "name": "conda-env-genpen-py"
  },
  "language_info": {
   "codemirror_mode": {
    "name": "ipython",
    "version": 3
   },
   "file_extension": ".py",
   "mimetype": "text/x-python",
   "name": "python",
   "nbconvert_exporter": "python",
   "pygments_lexer": "ipython3",
   "version": "3.8.8"
  }
 },
 "nbformat": 4,
 "nbformat_minor": 5
}

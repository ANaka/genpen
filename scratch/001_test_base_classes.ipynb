{
 "cells": [
  {
   "cell_type": "code",
   "execution_count": null,
   "metadata": {
    "Collapsed": "false"
   },
   "outputs": [],
   "source": [
    "import itertools\n",
    "import numpy as np\n",
    "import os\n",
    "import seaborn as sns\n",
    "from tqdm import tqdm\n",
    "from dataclasses import asdict, dataclass, field\n",
    "import vsketch\n",
    "import shapely.geometry as sg\n",
    "import shapely.affinity as sa\n",
    "import shapely.ops as so\n",
    "import matplotlib.pyplot as plt\n",
    "import pandas as pd\n",
    "\n",
    "import vpype_cli\n",
    "from typing import List, Generic\n",
    "from genpen import genpen as gp\n",
    "from scipy import stats as ss\n",
    "import geopandas\n",
    "import functools\n",
    "%load_ext autoreload\n",
    "%autoreload 2"
   ]
  },
  {
   "cell_type": "markdown",
   "metadata": {
    "Collapsed": "false"
   },
   "source": [
    "# parameters and object generation\n",
    "\n",
    "typically the full process is something like\n",
    "1. generate collections of static parameters\n",
    "2. start loop over static params\n",
    "3. for each loop\n",
    "    - calculate dynamic params\n",
    "    - pass full params to object/geometry generator function\n",
    "    - update global geometries\n",
    "    - log params (and attach to individual geometry)\n",
    "    \n",
    "would be nice to be able to define static params and procedure for calculating dynamic params all at start\n",
    "would be nice to be collecting everything in GeoDataFrame"
   ]
  },
  {
   "cell_type": "code",
   "execution_count": null,
   "metadata": {
    "Collapsed": "false"
   },
   "outputs": [],
   "source": [
    "u0 = ss.uniform(loc=1)"
   ]
  },
  {
   "cell_type": "code",
   "execution_count": null,
   "metadata": {
    "Collapsed": "false"
   },
   "outputs": [],
   "source": [
    "u0.rvs()"
   ]
  },
  {
   "cell_type": "code",
   "execution_count": null,
   "metadata": {
    "Collapsed": "false"
   },
   "outputs": [],
   "source": [
    "@dataclass\n",
    "class HatchCircle(gp.DataClassBase):\n",
    "    x: float\n",
    "    y: float\n",
    "    rad: float\n",
    "    hatch_angle: float\n",
    "    hatch_spacing: float\n",
    "    \n",
    "    def __post_init__(self):\n",
    "        self.P = gp.Poly(sg.Point((self.x, self.y)).buffer(self.rad))\n",
    "        self.hatches = self.P.hatch(angle=self.hatch_angle, spacing=self.hatch_spacing)\n",
    "\n",
    "\n",
    "class MetaPrms(object):\n",
    "    \n",
    "    def __init__(\n",
    "        self,\n",
    "        n_circles: int,\n",
    "        xmin: float,\n",
    "        xmax: float,\n",
    "        ymin: float,\n",
    "        ymax: float,\n",
    "        radloc: float,\n",
    "        radscale: float,\n",
    "        hatch_angle: float,\n",
    "        hatch_spacing: float,\n",
    "        ):\n",
    "\n",
    "        self.df = pd.DataFrame({\n",
    "            'x': np.linspace(xmin, xmax, n_circles),\n",
    "            'y': np.linspace(ymin, ymax, n_circles),\n",
    "            'rad': ss.uniform(loc=radloc, scale=radscale).rvs(n_circles),\n",
    "            'hatch_angle': [hatch_angle] * n_circles,\n",
    "            'hatch_spacing': [hatch_spacing] * n_circles,\n",
    "        }\n",
    "        )\n",
    "    \n",
    "        "
   ]
  },
  {
   "cell_type": "code",
   "execution_count": null,
   "metadata": {
    "Collapsed": "false"
   },
   "outputs": [],
   "source": [
    "mprms = MetaPrms(\n",
    "    n_circles=10,\n",
    "    xmin=0,\n",
    "    xmax=10,\n",
    "    ymin=0,\n",
    "    ymax=8.5,\n",
    "    radloc=3,\n",
    "    radscale=0.1,\n",
    "    hatch_angle=45,\n",
    "    hatch_spacing=0.4\n",
    ")"
   ]
  },
  {
   "cell_type": "code",
   "execution_count": null,
   "metadata": {
    "Collapsed": "false"
   },
   "outputs": [],
   "source": [
    "geoms = []\n",
    "for i, row in mprms.df.iterrows():\n",
    "    geoms.append(HatchCircle(**row.to_dict()).P.p)"
   ]
  },
  {
   "cell_type": "code",
   "execution_count": null,
   "metadata": {
    "Collapsed": "false"
   },
   "outputs": [],
   "source": [
    "df = mprms.df.copy()"
   ]
  },
  {
   "cell_type": "code",
   "execution_count": null,
   "metadata": {
    "Collapsed": "false"
   },
   "outputs": [],
   "source": [
    "df['geometry'] = geoms\n",
    "df = geopandas.GeoDataFrame(df)"
   ]
  },
  {
   "cell_type": "code",
   "execution_count": null,
   "metadata": {
    "Collapsed": "false"
   },
   "outputs": [],
   "source": [
    "df.unary_union"
   ]
  },
  {
   "cell_type": "code",
   "execution_count": null,
   "metadata": {
    "Collapsed": "false"
   },
   "outputs": [],
   "source": [
    "hc = HatchCircle(x=1, y=0, rad=3, hatch_angle=45, hatch_spacing=0.5)"
   ]
  },
  {
   "cell_type": "code",
   "execution_count": null,
   "metadata": {
    "Collapsed": "false"
   },
   "outputs": [],
   "source": [
    "hc.P.p"
   ]
  },
  {
   "cell_type": "code",
   "execution_count": null,
   "metadata": {
    "Collapsed": "false"
   },
   "outputs": [],
   "source": [
    "centers = np.linspace(1,10,10)\n",
    "rads = "
   ]
  },
  {
   "cell_type": "code",
   "execution_count": null,
   "metadata": {
    "Collapsed": "false"
   },
   "outputs": [],
   "source": [
    "for c in centers:\n",
    "    Point(c).buffer"
   ]
  },
  {
   "cell_type": "code",
   "execution_count": null,
   "metadata": {
    "Collapsed": "false"
   },
   "outputs": [],
   "source": [
    "?ss.uniform"
   ]
  }
 ],
 "metadata": {
  "kernelspec": {
   "display_name": "Python [conda env:genpen]",
   "language": "python",
   "name": "conda-env-genpen-py"
  },
  "language_info": {
   "codemirror_mode": {
    "name": "ipython",
    "version": 3
   },
   "file_extension": ".py",
   "mimetype": "text/x-python",
   "name": "python",
   "nbconvert_exporter": "python",
   "pygments_lexer": "ipython3",
   "version": "3.8.6"
  }
 },
 "nbformat": 4,
 "nbformat_minor": 4
}

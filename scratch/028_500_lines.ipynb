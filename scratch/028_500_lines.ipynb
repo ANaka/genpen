{
 "cells": [
  {
   "cell_type": "code",
   "execution_count": null,
   "metadata": {
    "Collapsed": "false"
   },
   "outputs": [],
   "source": [
    "import itertools\n",
    "import numpy as np\n",
    "import os\n",
    "import seaborn as sns\n",
    "from tqdm import tqdm\n",
    "from dataclasses import asdict, dataclass, field\n",
    "import vsketch\n",
    "import shapely.geometry as sg\n",
    "from shapely.geometry import box, MultiLineString, Point, MultiPoint, Polygon, MultiPolygon, LineString\n",
    "import shapely.affinity as sa\n",
    "import shapely.ops as so\n",
    "import matplotlib.pyplot as plt\n",
    "import pandas as pd\n",
    "\n",
    "import vpype_cli\n",
    "from typing import List, Generic\n",
    "from genpen import genpen as gp, utils as utils\n",
    "from scipy import stats as ss\n",
    "import geopandas\n",
    "from shapely.errors import TopologicalError\n",
    "import functools\n",
    "%load_ext autoreload\n",
    "%autoreload 2\n",
    "import vpype\n",
    "from skimage import io\n",
    "from pathlib import Path\n",
    "\n",
    "import bezier\n",
    "\n",
    "from sklearn.preprocessing import minmax_scale\n",
    "from skimage import feature\n",
    "from genpen.utils import Paper\n",
    "\n",
    "from scipy import spatial, stats\n",
    "from scipy.ndimage import gaussian_filter\n",
    "from scipy.integrate import odeint"
   ]
  },
  {
   "cell_type": "code",
   "execution_count": null,
   "metadata": {
    "Collapsed": "false"
   },
   "outputs": [],
   "source": [
    "# make page\n",
    "paper_size = '14x11 inches'\n",
    "border:float=10\n",
    "paper = Paper(paper_size)\n",
    "\n",
    "drawbox = paper.get_drawbox(border)"
   ]
  },
  {
   "cell_type": "code",
   "execution_count": null,
   "metadata": {
    "Collapsed": "false"
   },
   "outputs": [],
   "source": [
    "lines = []\n",
    "\n",
    "node_sets = []\n",
    "n_lines = 500\n",
    "n_nodes_per_line = 40\n",
    "y_start = 0\n",
    "y_end = 14\n",
    "x_start = 0\n",
    "x_end = 10\n",
    "node_x_centers = np.linspace(x_start, x_end, n_lines)\n",
    "std_scale = 0.09\n",
    "n_eval_points = 80\n",
    "\n",
    "### initialize vals\n",
    "node_ys = np.linspace(y_start, y_end, n_nodes_per_line)\n",
    "centered_node_xs = np.zeros(node_ys.shape)\n",
    "bez_eval_end_center = 1\n",
    "bez_eval_end_noise = 0\n",
    "bez_eval_end_limit = 1.\n",
    "bez_eval_end_std_scale = 0.01\n",
    "\n",
    "for i, node_x_center in enumerate(node_x_centers):\n",
    "    new_x_noise = np.random.randn(n_nodes_per_line) * std_scale\n",
    "    centered_node_xs = centered_node_xs + new_x_noise\n",
    "    node_xs = node_x_center + centered_node_xs\n",
    "    node_xs[:3] = node_x_center\n",
    "    node_xs[-3:] = node_x_center\n",
    "    nodes = np.asfortranarray([\n",
    "        node_xs,\n",
    "        node_ys,\n",
    "        ])\n",
    "    curve = bezier.Curve(nodes, degree=(nodes.shape[1]-1))\n",
    "    eval_start = np.random.uniform(0, 0.03)\n",
    "    eval_end = np.random.uniform(0.97, 1.)\n",
    "    eval_points = np.linspace(eval_start, eval_end, n_eval_points)\n",
    "    x, y = curve.evaluate_multi(eval_points)\n",
    "    if i % 2:\n",
    "        x = np.flipud(x)\n",
    "        y = np.flipud(y)\n",
    "    lines.append(np.stack([x, y]).T)\n",
    "    node_sets.append(np.stack([node_xs, node_ys]).T)"
   ]
  },
  {
   "cell_type": "code",
   "execution_count": null,
   "metadata": {
    "Collapsed": "false"
   },
   "outputs": [],
   "source": [
    "ls = [LineString(l) for l in lines]\n",
    "\n",
    "mls = gp.make_like(gp.merge_LineStrings(ls), drawbox)\n",
    "\n",
    "mask = drawbox\n",
    "\n",
    "in_mask = mls.intersection(mask)\n",
    "\n",
    "in_mask = sa.rotate(in_mask, -90)\n",
    "\n",
    "split_point = 500\n",
    "\n",
    "layer1 = in_mask[:split_point]\n",
    "layer2 = in_mask[split_point:]\n",
    "\n",
    "layers = []\n",
    "layers.append(LineString(np.concatenate([np.array(l) for l in layer1])))\n",
    "layers.append(LineString(np.concatenate([np.array(l) for l in layer2])))\n",
    "\n",
    "# layers = [in_mask]"
   ]
  },
  {
   "cell_type": "code",
   "execution_count": null,
   "metadata": {
    "Collapsed": "false"
   },
   "outputs": [],
   "source": [
    "sk = vsketch.Vsketch()\n",
    "sk.size(paper.page_format_mm)\n",
    "sk.scale('1mm')\n",
    "sk.penWidth('0.3mm')\n",
    "for i, layer in enumerate(layers):\n",
    "    sk.stroke(i+1)\n",
    "    sk.geometry(layer)\n",
    "\n",
    "sk.penWidth('0.3')\n",
    "sk.vpype('linesort')\n",
    "\n",
    "sk.display(color_mode='none')"
   ]
  },
  {
   "cell_type": "code",
   "execution_count": null,
   "metadata": {
    "Collapsed": "false"
   },
   "outputs": [],
   "source": [
    "sk.save('/mnt/c/code/side/plotter_images/oned_outputs/246_500_lines.svg')"
   ]
  },
  {
   "cell_type": "code",
   "execution_count": null,
   "metadata": {
    "Collapsed": "false"
   },
   "outputs": [],
   "source": []
  },
  {
   "cell_type": "code",
   "execution_count": null,
   "metadata": {
    "Collapsed": "false"
   },
   "outputs": [],
   "source": [
    "# make page\n",
    "paper_size = '17x23.5 inches'\n",
    "border:float=55\n",
    "paper = Paper(paper_size)\n",
    "\n",
    "drawbox = paper.get_drawbox(border)"
   ]
  },
  {
   "cell_type": "code",
   "execution_count": null,
   "metadata": {
    "Collapsed": "false"
   },
   "outputs": [],
   "source": [
    "def oscillator(y, t, a, b, c, d):\n",
    "    v, u = y\n",
    "    dvdt = np.sin(v) + (a * v) + (b * u)\n",
    "    dudt = np.cos(u) + (c * v) + (d * u)\n",
    "    dydt = [dvdt, dudt]\n",
    "    return dydt\n",
    "\n",
    "def oscillator2(y, t, a, b, c, d):\n",
    "    v, u = y\n",
    "    dvdt = np.sin(v) + np.sin(u) + (a * v) + (b * u)\n",
    "    dudt = np.cos(u) + np.cos(u) ** 2 + (c * v) + (d * u)\n",
    "    dydt = [dvdt, dudt]\n",
    "    return dydt"
   ]
  },
  {
   "cell_type": "code",
   "execution_count": null,
   "metadata": {
    "Collapsed": "false"
   },
   "outputs": [],
   "source": [
    "def ode(y, t, a, b, c, d):\n",
    "    v, u = y\n",
    "    dvdt = np.sin(v)  + np.cos(u * v) + (a * v) + (b * u)\n",
    "    dudt = np.cos(u) + np.sin(u * v) + (c * v) + (d * u)\n",
    "    dydt = [dvdt, dudt]\n",
    "    return dydt"
   ]
  },
  {
   "cell_type": "code",
   "execution_count": null,
   "metadata": {
    "Collapsed": "false"
   },
   "outputs": [],
   "source": [
    "center = drawbox.centroid"
   ]
  },
  {
   "cell_type": "code",
   "execution_count": null,
   "metadata": {
    "Collapsed": "false"
   },
   "outputs": [],
   "source": [
    "n_lines = 500\n",
    "thetas = np.linspace(0, np.pi*10, n_lines)\n",
    "radii = np.linspace(.5, 4.5, n_lines)"
   ]
  },
  {
   "cell_type": "code",
   "execution_count": null,
   "metadata": {
    "Collapsed": "false"
   },
   "outputs": [],
   "source": [
    "pts = []\n",
    "for theta, radius in zip(thetas, radii):\n",
    "    x = np.cos(theta) * radius\n",
    "    y = np.sin(theta) * radius\n",
    "    pts.append(Point(x, y))"
   ]
  },
  {
   "cell_type": "code",
   "execution_count": null,
   "metadata": {
    "Collapsed": "false"
   },
   "outputs": [],
   "source": [
    "lfs = []\n",
    "\n",
    "\n",
    "t_max = 3.7\n",
    "t = np.linspace(0, t_max, 1801)\n",
    "a = -0.4\n",
    "b = 0.3\n",
    "c = 0.75\n",
    "d = -0.2\n",
    "\n",
    "\n",
    "\n",
    "for pt in tqdm(pts):\n",
    "    sol = odeint(ode, [pt.x, pt.y], t, args=(a, b, c, d))\n",
    "    lfs.append(LineString(sol))\n",
    "    \n",
    "\n",
    "lines = gp.make_like(MultiLineString(lfs), drawbox)"
   ]
  },
  {
   "cell_type": "code",
   "execution_count": null,
   "metadata": {
    "Collapsed": "false"
   },
   "outputs": [],
   "source": [
    "sk = vsketch.Vsketch()\n",
    "sk.size(paper.page_format_mm)\n",
    "sk.scale('1mm')\n",
    "sk.penWidth('0.3mm')\n",
    "\n",
    "sk.geometry(lines)\n",
    "\n",
    "sk.penWidth('0.3')\n",
    "sk.vpype('linesimplify linesort ')\n",
    "\n",
    "sk.display(color_mode='none')"
   ]
  },
  {
   "cell_type": "code",
   "execution_count": null,
   "metadata": {
    "Collapsed": "false"
   },
   "outputs": [],
   "source": [
    "sk.save('/mnt/c/code/side/plotter_images/oned_outputs/247_500_lines.svg')"
   ]
  },
  {
   "cell_type": "markdown",
   "metadata": {
    "Collapsed": "false"
   },
   "source": [
    "# Try 2"
   ]
  },
  {
   "cell_type": "code",
   "execution_count": null,
   "metadata": {
    "Collapsed": "false"
   },
   "outputs": [],
   "source": [
    "# make page\n",
    "paper_size = '17x23.5 inches'\n",
    "border:float=55\n",
    "paper = Paper(paper_size)\n",
    "\n",
    "drawbox = paper.get_drawbox(border)"
   ]
  },
  {
   "cell_type": "code",
   "execution_count": null,
   "metadata": {
    "Collapsed": "false"
   },
   "outputs": [],
   "source": [
    "center = drawbox.centroid"
   ]
  },
  {
   "cell_type": "code",
   "execution_count": null,
   "metadata": {
    "Collapsed": "false"
   },
   "outputs": [],
   "source": [
    "n_lines = 500\n",
    "thetas = np.linspace(0, np.pi*10, n_lines)\n",
    "radii = np.linspace(.75, 3.45, n_lines)"
   ]
  },
  {
   "cell_type": "code",
   "execution_count": null,
   "metadata": {
    "Collapsed": "false"
   },
   "outputs": [],
   "source": [
    "pts = []\n",
    "for theta, radius in zip(thetas, radii):\n",
    "    x = np.cos(theta) * radius - 3.3\n",
    "    y = np.sin(theta) * radius + 0.5\n",
    "    pts.append(Point(x, y))"
   ]
  },
  {
   "cell_type": "code",
   "execution_count": null,
   "metadata": {
    "Collapsed": "false"
   },
   "outputs": [],
   "source": [
    "def ode2(y, t, a, b, c, d):\n",
    "    v, u = y\n",
    "    dvdt = np.sin(u * v + (a * v) + (b * u))\n",
    "    dudt = np.cos(u) + np.sin(u * v) + (c * v) + (d * u)\n",
    "    dydt = [dvdt, dudt]\n",
    "    return dydt"
   ]
  },
  {
   "cell_type": "code",
   "execution_count": null,
   "metadata": {
    "Collapsed": "false"
   },
   "outputs": [],
   "source": [
    "lfs = []\n",
    "\n",
    "\n",
    "t_max = 2.7\n",
    "t = np.linspace(0, t_max, 1801)\n",
    "a = -0.2\n",
    "b = -0.2\n",
    "c = 0.04\n",
    "d = -0.25\n",
    "\n",
    "\n",
    "\n",
    "for pt in tqdm(pts):\n",
    "    sol = odeint(ode2, [pt.x, pt.y], t, args=(a, b, c, d))\n",
    "    lfs.append(LineString(sol))\n",
    "    \n",
    "\n",
    "lines = gp.make_like(MultiLineString(lfs), drawbox)"
   ]
  },
  {
   "cell_type": "code",
   "execution_count": null,
   "metadata": {
    "Collapsed": "false"
   },
   "outputs": [],
   "source": [
    "layers = []\n",
    "layers.append(lines[:250])\n",
    "layers.append(lines[250:])"
   ]
  },
  {
   "cell_type": "code",
   "execution_count": null,
   "metadata": {
    "Collapsed": "false"
   },
   "outputs": [],
   "source": [
    "sk = vsketch.Vsketch()\n",
    "sk.size(paper.page_format_mm)\n",
    "sk.scale('1mm')\n",
    "sk.penWidth('0.3mm')\n",
    "\n",
    "for i, layer in enumerate(layers):\n",
    "    sk.stroke(i+1)\n",
    "    sk.geometry(layer)\n",
    "\n",
    "sk.penWidth('0.3')\n",
    "sk.vpype('linesimplify')\n",
    "\n",
    "sk.display(color_mode='layer')"
   ]
  },
  {
   "cell_type": "code",
   "execution_count": null,
   "metadata": {
    "Collapsed": "false"
   },
   "outputs": [],
   "source": [
    "sk.save('/mnt/c/code/side/plotter_images/oned_outputs/249_500_lines.svg')"
   ]
  },
  {
   "cell_type": "code",
   "execution_count": null,
   "metadata": {
    "Collapsed": "false"
   },
   "outputs": [],
   "source": []
  },
  {
   "cell_type": "markdown",
   "metadata": {
    "Collapsed": "false"
   },
   "source": [
    "# Try 3"
   ]
  },
  {
   "cell_type": "code",
   "execution_count": null,
   "metadata": {
    "Collapsed": "false"
   },
   "outputs": [],
   "source": [
    "# make page\n",
    "paper_size = '17x23.5 inches'\n",
    "border:float=35\n",
    "paper = Paper(paper_size)\n",
    "\n",
    "drawbox = paper.get_drawbox(border)"
   ]
  },
  {
   "cell_type": "code",
   "execution_count": null,
   "metadata": {
    "Collapsed": "false"
   },
   "outputs": [],
   "source": [
    "center = drawbox.centroid"
   ]
  },
  {
   "cell_type": "code",
   "execution_count": null,
   "metadata": {
    "Collapsed": "false"
   },
   "outputs": [],
   "source": [
    "n_lines = 3500\n",
    "thetas = np.linspace(0, np.pi*14, n_lines)\n",
    "radii = np.linspace(.5, 5.45, n_lines)"
   ]
  },
  {
   "cell_type": "code",
   "execution_count": null,
   "metadata": {
    "Collapsed": "false"
   },
   "outputs": [],
   "source": [
    "pts = []\n",
    "for theta, radius in zip(thetas, radii):\n",
    "    x = np.cos(theta) * radius - 3.3\n",
    "    y = np.sin(theta) * radius + 0.5\n",
    "    pts.append(Point(x, y))"
   ]
  },
  {
   "cell_type": "code",
   "execution_count": null,
   "metadata": {
    "Collapsed": "false"
   },
   "outputs": [],
   "source": [
    "def ode2(y, t, a, b, c, d):\n",
    "    v, u = y\n",
    "    dvdt = np.sin(u * v + (a * v) + (b * u))\n",
    "    dudt = np.cos(u) + np.sin(u * v) + np.cos(c * v) + (d * u)\n",
    "    dydt = [dvdt, dudt]\n",
    "    return dydt"
   ]
  },
  {
   "cell_type": "code",
   "execution_count": null,
   "metadata": {
    "Collapsed": "false"
   },
   "outputs": [],
   "source": [
    "lfs = []\n",
    "\n",
    "\n",
    "t_max = 2.7\n",
    "t = np.linspace(0, t_max, 701)\n",
    "a = -0.2\n",
    "b = -0.25\n",
    "c = 0.04\n",
    "d = -0.25\n",
    "\n",
    "\n",
    "\n",
    "for pt in tqdm(pts):\n",
    "    sol = odeint(ode2, [pt.x, pt.y], t, args=(a, b, c, d))\n",
    "    lfs.append(LineString(sol))\n",
    "    \n",
    "\n",
    "lines = gp.make_like(MultiLineString(lfs), drawbox)"
   ]
  },
  {
   "cell_type": "code",
   "execution_count": null,
   "metadata": {
    "Collapsed": "false"
   },
   "outputs": [],
   "source": [
    "lbs = lines.buffer(0.07, cap_style=2, join_style=2).boundary"
   ]
  },
  {
   "cell_type": "code",
   "execution_count": null,
   "metadata": {
    "Collapsed": "false"
   },
   "outputs": [],
   "source": [
    "lbs = gp.merge_LineStrings([l for l in lbs if l.length > 0.9])"
   ]
  },
  {
   "cell_type": "code",
   "execution_count": null,
   "metadata": {
    "Collapsed": "false"
   },
   "outputs": [],
   "source": [
    "n_layers = 1\n",
    "layer_inds = np.split(np.arange(len(lbs)), n_layers)"
   ]
  },
  {
   "cell_type": "code",
   "execution_count": null,
   "metadata": {
    "Collapsed": "false"
   },
   "outputs": [],
   "source": [
    "layers = []\n",
    "for ind_set in layer_inds:\n",
    "    layer = [lbs[i] for i in ind_set]\n",
    "    layers.append(gp.merge_LineStrings(layer))\n",
    "    "
   ]
  },
  {
   "cell_type": "code",
   "execution_count": null,
   "metadata": {
    "Collapsed": "false"
   },
   "outputs": [],
   "source": [
    "sk = vsketch.Vsketch()\n",
    "sk.size(paper.page_format_mm)\n",
    "sk.scale('1mm')\n",
    "sk.penWidth('0.3mm')\n",
    "\n",
    "for i, layer in enumerate(layers):\n",
    "    sk.stroke(i+1)\n",
    "    sk.geometry(layer)\n",
    "\n",
    "sk.penWidth('0.3')\n",
    "sk.vpype('linesimplify')\n",
    "\n",
    "sk.display(color_mode='layer')"
   ]
  },
  {
   "cell_type": "code",
   "execution_count": null,
   "metadata": {
    "Collapsed": "false"
   },
   "outputs": [],
   "source": [
    "sk.save('/mnt/c/code/side/plotter_images/oned_outputs/251_3500_lines.svg')"
   ]
  }
 ],
 "metadata": {
  "kernelspec": {
   "display_name": "Python [conda env:genpen]",
   "language": "python",
   "name": "conda-env-genpen-py"
  },
  "language_info": {
   "codemirror_mode": {
    "name": "ipython",
    "version": 3
   },
   "file_extension": ".py",
   "mimetype": "text/x-python",
   "name": "python",
   "nbconvert_exporter": "python",
   "pygments_lexer": "ipython3",
   "version": "3.8.8"
  }
 },
 "nbformat": 4,
 "nbformat_minor": 4
}

{
 "cells": [
  {
   "cell_type": "code",
   "execution_count": null,
   "id": "7bc8588d-91d6-48c2-b732-778ace6122a2",
   "metadata": {},
   "outputs": [],
   "source": [
    "from pathlib import Path\n",
    "\n",
    "import shutil\n",
    "from tqdm import tqdm\n",
    "import numpy as np\n",
    "from datetime import datetime\n",
    "import pandas as pd\n",
    "\n",
    "import pytz\n",
    "tz = pytz.timezone('US/Pacific')"
   ]
  },
  {
   "cell_type": "code",
   "execution_count": null,
   "id": "6fea6f43-b45a-41a4-b3b4-fcdc43696a1e",
   "metadata": {},
   "outputs": [],
   "source": [
    "root  = '/media/naka/3461-6230/DCIM/'"
   ]
  },
  {
   "cell_type": "code",
   "execution_count": null,
   "id": "a71cce2c-4a64-4602-b008-63a4626b1708",
   "metadata": {},
   "outputs": [],
   "source": [
    "# root  = '/home/naka/art/timelapse_temp3'"
   ]
  },
  {
   "cell_type": "code",
   "execution_count": null,
   "id": "c56adc5e-66df-41bd-bfbb-2842a130b058",
   "metadata": {},
   "outputs": [],
   "source": [
    "fps = Path(root).glob('**/*.JPG')\n",
    "results = []\n",
    "for f in fps:\n",
    "    ctime = f.stat().st_ctime\n",
    "    pt_time = tz.localize(datetime.fromtimestamp(ctime))\n",
    "    utc_time = pt_time.astimezone(pytz.utc)\n",
    "    results.append({\n",
    "        'filename': f.name,\n",
    "        'filepath': f.as_posix(),\n",
    "        'path': f,\n",
    "        'ctime': ctime,\n",
    "        'mtime': datetime.fromtimestamp(f.stat().st_mtime),\n",
    "        'created_at_pt': pt_time,\n",
    "        'created_at_utc': utc_time,\n",
    "        't_photo': datetime.fromtimestamp(ctime),\n",
    "    })\n",
    "    \n",
    "photo_times = pd.DataFrame(results)"
   ]
  },
  {
   "cell_type": "code",
   "execution_count": null,
   "id": "3a95a5cc-c94b-40f6-acaf-44f5d3e05d86",
   "metadata": {},
   "outputs": [],
   "source": [
    "draw_times = pd.read_csv('/home/naka/art/axidraw_timing/test.csv', index_col=0)\n",
    "draw_times['t_start'] = pd.to_datetime(draw_times['t_start'])\n",
    "draw_times['t_end'] = pd.to_datetime(draw_times['t_end'])\n",
    "\n",
    "draw_times['t_middle'] = draw_times.loc[:, ['t_start', 't_end']].mean(axis=1)\n",
    "draw_times['duration'] = draw_times['t_end'] - draw_times['t_start']\n",
    "draw_times['t_middle'] = draw_times['t_start'] + draw_times['duration']/2\n",
    "\n",
    "draw_times = draw_times.set_index('t_middle')"
   ]
  },
  {
   "cell_type": "code",
   "execution_count": null,
   "id": "ffc5ceb9-dab9-4d6e-965e-307204e21149",
   "metadata": {},
   "outputs": [],
   "source": [
    "photo_times = photo_times.iloc[1::2].reset_index(drop=True)"
   ]
  },
  {
   "cell_type": "code",
   "execution_count": null,
   "id": "b6406961-770a-4972-b2de-3b2115d8c470",
   "metadata": {},
   "outputs": [],
   "source": [
    "offset = np.timedelta64(-1900, 'ms')\n",
    "closest_photos = []\n",
    "for ii, row in draw_times.iterrows():\n",
    "    dtdf = photo_times.copy()\n",
    "    dtdf['dt'] = (dtdf['t_photo'] - row['t_end']) + offset\n",
    "    dtdf['abs_dt'] = dtdf['dt'].abs()\n",
    "    dtdf['close_enough'] = dtdf['dt'].abs() < np.timedelta64(1, 's')\n",
    "    \n",
    "    try:\n",
    "        closest = dtdf.query('close_enough').sort_values('abs_dt').index[0]\n",
    "        result_row = dtdf.loc[closest]\n",
    "    except:\n",
    "        ind = dtdf.sort_values('abs_dt').index[0]\n",
    "        closest = dtdf.index[ind]\n",
    "        result_row = dtdf.loc[closest]\n",
    "        \n",
    "    result_row = result_row\n",
    "    result_row.name = ii\n",
    "    closest_photos.append(result_row)\n",
    "df = pd.DataFrame(closest_photos)"
   ]
  },
  {
   "cell_type": "code",
   "execution_count": null,
   "id": "df89f2fc-3bc0-4434-ac05-6acd738cea1b",
   "metadata": {},
   "outputs": [],
   "source": [
    "target_dir = Path('/home/naka/art/timelapse_temp')"
   ]
  },
  {
   "cell_type": "code",
   "execution_count": null,
   "id": "f6cc2a8c-cd85-4c3d-9f06-96317df43c2e",
   "metadata": {},
   "outputs": [],
   "source": [
    "for p in tqdm(df['path']):\n",
    "    try:\n",
    "        shutil.copy(p, target_dir.joinpath(p.name))\n",
    "    \n",
    "    except KeyboardInterrupt:\n",
    "        break\n",
    "    \n",
    "    except:\n",
    "        pass"
   ]
  },
  {
   "cell_type": "code",
   "execution_count": null,
   "id": "c3c39f41-d2d2-447f-a17e-93fa145c9c6a",
   "metadata": {},
   "outputs": [],
   "source": [
    "shutil.copy(p, target_dir.joinpath(p.name))"
   ]
  }
 ],
 "metadata": {
  "kernelspec": {
   "display_name": "Python [conda env:genpen]",
   "language": "python",
   "name": "conda-env-genpen-py"
  },
  "language_info": {
   "codemirror_mode": {
    "name": "ipython",
    "version": 3
   },
   "file_extension": ".py",
   "mimetype": "text/x-python",
   "name": "python",
   "nbconvert_exporter": "python",
   "pygments_lexer": "ipython3",
   "version": "3.8.8"
  }
 },
 "nbformat": 4,
 "nbformat_minor": 5
}

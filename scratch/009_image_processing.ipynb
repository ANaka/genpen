{
 "cells": [
  {
   "cell_type": "code",
   "execution_count": null,
   "metadata": {
    "Collapsed": "false"
   },
   "outputs": [],
   "source": [
    "import itertools\n",
    "import numpy as np\n",
    "import os\n",
    "import seaborn as sns\n",
    "from tqdm import tqdm\n",
    "from dataclasses import asdict, dataclass, field\n",
    "import vsketch\n",
    "import shapely.geometry as sg\n",
    "from shapely.geometry import box, MultiLineString, Point, MultiPoint, Polygon, MultiPolygon, LineString\n",
    "import shapely.affinity as sa\n",
    "import shapely.ops as so\n",
    "import matplotlib.pyplot as plt\n",
    "import pandas as pd\n",
    "\n",
    "import vpype_cli\n",
    "from typing import List, Generic\n",
    "from genpen import genpen as gp, utils as utils\n",
    "from scipy import stats as ss\n",
    "import geopandas\n",
    "from shapely.errors import TopologicalError\n",
    "import functools\n",
    "%load_ext autoreload\n",
    "%autoreload 2\n",
    "import vpype\n",
    "from skimage import io\n",
    "from pathlib import Path\n",
    "\n",
    "from sklearn.preprocessing import minmax_scale\n",
    "from skimage import feature\n",
    "from genpen.utils import Paper"
   ]
  },
  {
   "cell_type": "code",
   "execution_count": null,
   "metadata": {
    "Collapsed": "false"
   },
   "outputs": [],
   "source": [
    "from skimage import exposure\n",
    "\n",
    "from skimage import filters\n",
    "from skimage.color import rgb2gray\n",
    "from skimage.transform import rescale, resize, downscale_local_mean\n",
    "from skimage.morphology import disk\n",
    "\n",
    "def angle(dx, dy):\n",
    "    \"\"\"Calculate the angles between horizontal and vertical operators.\"\"\"\n",
    "    return np.mod(np.arctan2(dy, dx), np.pi)\n"
   ]
  },
  {
   "cell_type": "code",
   "execution_count": null,
   "metadata": {
    "Collapsed": "false"
   },
   "outputs": [],
   "source": [
    "page_x_inches: float = 11 # inches\n",
    "page_y_inches: float = 17 # inches\n",
    "border:float = 30.\n"
   ]
  },
  {
   "cell_type": "code",
   "execution_count": null,
   "metadata": {
    "Collapsed": "false"
   },
   "outputs": [],
   "source": [
    "px = utils.DistanceConverter(page_x_inches, 'inches').mm\n",
    "py = utils.DistanceConverter(page_y_inches, 'inches').mm\n",
    "page_format = f'{px}mmx{py}mm'\n",
    "drawbox = sg.box(border, border, px-border, py-border)\n",
    "\n",
    "xmin, ymin, xmax, ymax = drawbox.bounds\n",
    "\n",
    "start_area = drawbox.buffer(-10, cap_style=3, join_style=3)\n"
   ]
  },
  {
   "cell_type": "code",
   "execution_count": null,
   "metadata": {
    "Collapsed": "false"
   },
   "outputs": [],
   "source": [
    "image_path = Path('/mnt/c/code/side/plotter_images/test2.jpg')"
   ]
  },
  {
   "cell_type": "code",
   "execution_count": null,
   "metadata": {
    "Collapsed": "false"
   },
   "outputs": [],
   "source": [
    "img = io.imread(image_path)\n",
    "img = rgb2gray(img)\n",
    "\n",
    "img = rescale(img, 1)\n",
    "\n",
    "# x, y = np.mgrid[-10:10:255j, -10:10:255j]\n",
    "# img = np.sin(x ** 2 + y ** 2)"
   ]
  },
  {
   "cell_type": "code",
   "execution_count": null,
   "metadata": {
    "Collapsed": "false"
   },
   "outputs": [],
   "source": [
    "selem = disk(2)\n",
    "img = filters.rank.mean(img/img.max(), selem)"
   ]
  },
  {
   "cell_type": "code",
   "execution_count": null,
   "metadata": {
    "Collapsed": "false"
   },
   "outputs": [],
   "source": [
    "angle_farid = angle(filters.farid_h(img),\n",
    "                    filters.farid_v(img))"
   ]
  },
  {
   "cell_type": "code",
   "execution_count": null,
   "metadata": {
    "Collapsed": "false"
   },
   "outputs": [],
   "source": [
    "plt.imshow(img)"
   ]
  },
  {
   "cell_type": "code",
   "execution_count": null,
   "metadata": {
    "Collapsed": "false"
   },
   "outputs": [],
   "source": [
    "plt.imshow(angle_farid)"
   ]
  },
  {
   "cell_type": "code",
   "execution_count": null,
   "metadata": {
    "Collapsed": "false"
   },
   "outputs": [],
   "source": [
    "class ImageFlowField(object):\n",
    "\n",
    "    def __init__(self, img, shape=None):\n",
    "        img = img.T\n",
    "        if shape == None:\n",
    "            shape = img.shape\n",
    "        self.p = box(0, 0, shape[1], shape[0])\n",
    "        self.xbins, self.ybins = gp.overlay_grid(self.p, 1, 1)\n",
    "        self.gxs, self.gys = np.meshgrid(self.xbins, self.ybins)\n",
    "\n",
    "        self.z = resize(img, shape)\n",
    "        self.a = np.interp(self.z, [self.z.min(), self.z.max()], [np.pi, 0])\n"
   ]
  },
  {
   "cell_type": "code",
   "execution_count": null,
   "metadata": {
    "Collapsed": "false"
   },
   "outputs": [],
   "source": [
    "flo = ImageFlowField(angle_farid)"
   ]
  },
  {
   "cell_type": "code",
   "execution_count": null,
   "metadata": {
    "Collapsed": "false"
   },
   "outputs": [],
   "source": [
    "f,ax = plt.subplots(figsize=(10,10))\n",
    "ax.quiver(np.cos(flo.a), np.sin(flo.a), scale=100)"
   ]
  },
  {
   "cell_type": "code",
   "execution_count": null,
   "metadata": {
    "Collapsed": "false"
   },
   "outputs": [],
   "source": [
    "intensity_vec = flo.z.ravel()"
   ]
  },
  {
   "cell_type": "code",
   "execution_count": null,
   "metadata": {
    "Collapsed": "false"
   },
   "outputs": [],
   "source": [
    "n_points = 1000"
   ]
  },
  {
   "cell_type": "code",
   "execution_count": null,
   "metadata": {
    "Collapsed": "false"
   },
   "outputs": [],
   "source": [
    "choice_inds = np.random.choice(len(intensity_vec), size=n_points, p=intensity_vec/intensity_vec.sum())"
   ]
  },
  {
   "cell_type": "code",
   "execution_count": null,
   "metadata": {
    "Collapsed": "false"
   },
   "outputs": [],
   "source": [
    "choice_vec = np.zeros_like(intensity_vec)\n",
    "choice_vec[choice_inds] = 1\n",
    "choice_locs = choice_vec.reshape(flo.z.shape)\n",
    "\n",
    "ycs, xcs = np.where(choice_locs)"
   ]
  },
  {
   "cell_type": "code",
   "execution_count": null,
   "metadata": {
    "Collapsed": "false"
   },
   "outputs": [],
   "source": [
    "# xcs, ycs = gp.overlay_grid(flo.p.buffer(-10), xstep=3, ystep=3)\n",
    "start_pts = [Point(x,y) for x,y in zip(xcs, ycs)]\n",
    "\n",
    "start_pts = [p for p in start_pts if flo.p.contains(p)]"
   ]
  },
  {
   "cell_type": "code",
   "execution_count": null,
   "metadata": {
    "Collapsed": "false"
   },
   "outputs": [],
   "source": [
    "sg.GeometryCollection(start_pts + [flo.p.boundary])"
   ]
  },
  {
   "cell_type": "code",
   "execution_count": null,
   "metadata": {
    "Collapsed": "false"
   },
   "outputs": [],
   "source": [
    "particles = [gp.Particle(pos=p, grid=flo, stepsize=0.7) for p in start_pts]"
   ]
  },
  {
   "cell_type": "code",
   "execution_count": null,
   "metadata": {
    "Collapsed": "false"
   },
   "outputs": [],
   "source": [
    "for p in particles:\n",
    "    for i in range(560):\n",
    "        p.step()"
   ]
  },
  {
   "cell_type": "code",
   "execution_count": null,
   "metadata": {
    "Collapsed": "false"
   },
   "outputs": [],
   "source": [
    "mls = MultiLineString([p.line for p in particles if p.line.length>0])"
   ]
  },
  {
   "cell_type": "code",
   "execution_count": null,
   "metadata": {
    "Collapsed": "false"
   },
   "outputs": [],
   "source": [
    "sg.GeometryCollection([mls]+ [flo.p.boundary])"
   ]
  },
  {
   "cell_type": "code",
   "execution_count": null,
   "metadata": {
    "Collapsed": "false"
   },
   "outputs": [],
   "source": [
    "mls = gp.make_like(mls, drawbox)"
   ]
  },
  {
   "cell_type": "code",
   "execution_count": null,
   "metadata": {
    "Collapsed": "false"
   },
   "outputs": [],
   "source": [
    "buffers = mls.buffer(0.05, cap_style=2, join_style=2).boundary"
   ]
  },
  {
   "cell_type": "code",
   "execution_count": null,
   "metadata": {
    "Collapsed": "false"
   },
   "outputs": [],
   "source": [
    "sk = vsketch.Vsketch()\n",
    "sk.size(page_format)\n",
    "sk.scale('1mm')\n",
    "sk.penWidth('0.25mm')\n",
    "# sk.geometry(mls)\n",
    "sk.geometry(buffers)\n",
    "sk.display(color_mode='None')"
   ]
  },
  {
   "cell_type": "code",
   "execution_count": null,
   "metadata": {
    "Collapsed": "false"
   },
   "outputs": [],
   "source": []
  },
  {
   "cell_type": "code",
   "execution_count": null,
   "metadata": {
    "Collapsed": "false"
   },
   "outputs": [],
   "source": [
    "savepath = '/mnt/c/code/side/plotter_images/oned_outputs/0113_louie_flow.svg'\n",
    "\n",
    "sk.save(savepath)\n",
    "\n",
    "vpype_commands = 'reloop linesimplify --tolerance 0.05mm linemerge --tolerance 0.3mm linesort'\n",
    "vpype_str = f'vpype read -q 0.05mm {savepath} {vpype_commands} write {savepath}'\n",
    "\n",
    "os.system(vpype_str)"
   ]
  },
  {
   "cell_type": "markdown",
   "metadata": {
    "Collapsed": "false"
   },
   "source": [
    "## just intensity"
   ]
  },
  {
   "cell_type": "code",
   "execution_count": null,
   "metadata": {
    "Collapsed": "false"
   },
   "outputs": [],
   "source": [
    "page_x_inches: float = 17 # inches\n",
    "page_y_inches: float = 11 # inches\n",
    "border:float = 30.\n"
   ]
  },
  {
   "cell_type": "code",
   "execution_count": null,
   "metadata": {
    "Collapsed": "false"
   },
   "outputs": [],
   "source": [
    "px = utils.DistanceConverter(page_x_inches, 'inches').mm\n",
    "py = utils.DistanceConverter(page_y_inches, 'inches').mm\n",
    "page_format = f'{px}mmx{py}mm'\n",
    "drawbox = sg.box(border, border, px-border, py-border)\n",
    "\n",
    "xmin, ymin, xmax, ymax = drawbox.bounds\n"
   ]
  },
  {
   "cell_type": "code",
   "execution_count": null,
   "metadata": {
    "Collapsed": "false"
   },
   "outputs": [],
   "source": [
    "selem = disk(2)\n",
    "img = filters.rank.mean(img/img.max(), selem)"
   ]
  },
  {
   "cell_type": "code",
   "execution_count": null,
   "metadata": {
    "Collapsed": "false"
   },
   "outputs": [],
   "source": [
    "img = io.imread(image_path)\n",
    "img = rgb2gray(img)\n",
    "\n",
    "img = rescale(img, 0.5)\n",
    "\n",
    "# x, y = np.mgrid[-10:10:255j, -10:10:255j]\n",
    "# img = np.sin(x ** 2 + y ** 2)"
   ]
  },
  {
   "cell_type": "code",
   "execution_count": null,
   "metadata": {
    "Collapsed": "false"
   },
   "outputs": [],
   "source": [
    "def sample_points_from_matrix(matrix, n_points):\n",
    "    vec = matrix.ravel()\n",
    "    choice_inds = np.random.choice(len(vec), size=n_points, p=vec/vec.sum())\n",
    "    choice_vec = np.zeros_like(vec)\n",
    "    choice_vec[choice_inds] = 1\n",
    "    choice_locs = choice_vec.reshape(matrix.shape)\n",
    "    ycs, xcs = np.where(choice_locs)\n",
    "    return [Point(x, y) for x,y in zip(xcs, ycs)]"
   ]
  },
  {
   "cell_type": "code",
   "execution_count": null,
   "metadata": {
    "Collapsed": "false"
   },
   "outputs": [],
   "source": [
    "pts = sample_points_from_matrix(img**2, n_points=12000)"
   ]
  },
  {
   "cell_type": "code",
   "execution_count": null,
   "metadata": {
    "Collapsed": "false"
   },
   "outputs": [],
   "source": [
    "pts = gp.make_like(MultiPoint(pts), drawbox)"
   ]
  },
  {
   "cell_type": "code",
   "execution_count": null,
   "metadata": {
    "Collapsed": "false"
   },
   "outputs": [],
   "source": [
    "cs = MultiLineString([pt.buffer(0.9, resolution=4).boundary for pt in pts])"
   ]
  },
  {
   "cell_type": "code",
   "execution_count": null,
   "metadata": {
    "Collapsed": "false"
   },
   "outputs": [],
   "source": [
    "csb = so.unary_union([c.buffer(0.1) for c in cs])"
   ]
  },
  {
   "cell_type": "code",
   "execution_count": null,
   "metadata": {
    "Collapsed": "false"
   },
   "outputs": [],
   "source": [
    "tris = MultiPolygon(so.triangulate(MultiPoint(pts)))\n",
    "# tris = gp.make_like(tris, drawbox)"
   ]
  },
  {
   "cell_type": "code",
   "execution_count": null,
   "metadata": {
    "Collapsed": "false"
   },
   "outputs": [],
   "source": [
    "sns.displot([np.log10(t.area) for t in tris])"
   ]
  },
  {
   "cell_type": "code",
   "execution_count": null,
   "metadata": {
    "Collapsed": "false"
   },
   "outputs": [],
   "source": [
    "# tris = tris.buffer(-0.2, join_style=2, cap_style=2, resolution=2)\n",
    "ftris = MultiPolygon([p for p in tris if p.area <5])"
   ]
  },
  {
   "cell_type": "code",
   "execution_count": null,
   "metadata": {
    "Collapsed": "false"
   },
   "outputs": [],
   "source": [
    "uftris = so.unary_union(ftris)"
   ]
  },
  {
   "cell_type": "code",
   "execution_count": null,
   "metadata": {
    "Collapsed": "false"
   },
   "outputs": [],
   "source": [
    "stp = gp.ScaleTransPrms(n_iters=100, d_buffer=-0.3, d_translate_factor=0.6, angles=np.radians(-60))\n",
    "stp.d_buffers *= gp.gaussian_random_walk(n=stp.d_buffers.shape[0], step_std=10)\n",
    "\n",
    "all_fills = []\n",
    "for p in uftris:\n",
    "    fills = gp.scale_trans(p, **stp.prms)\n",
    "    mfills = gp.merge_LineStrings([f.boundary for f in fills])\n",
    "    all_fills.append(mfills)\n",
    "\n",
    "fill_layer = gp.merge_LineStrings(all_fills)"
   ]
  },
  {
   "cell_type": "code",
   "execution_count": null,
   "metadata": {
    "Collapsed": "false"
   },
   "outputs": [],
   "source": [
    "sk = vsketch.Vsketch()\n",
    "sk.size(page_format)\n",
    "sk.scale('1mm')\n",
    "sk.penWidth('0.25mm')\n",
    "# sk.geometry(csb.boundary)\n",
    "# sk.geometry(fill_layer)\n",
    "sk.geometry(ftris.boundary)\n",
    "sk.display(color_mode='None')"
   ]
  },
  {
   "cell_type": "code",
   "execution_count": null,
   "metadata": {
    "Collapsed": "false"
   },
   "outputs": [],
   "source": [
    "savepath = '/mnt/c/code/side/plotter_images/oned_outputs/0115_louie_delauney_flat.svg'\n",
    "\n",
    "sk.save(savepath)\n",
    "\n",
    "vpype_commands = 'reloop linesimplify --tolerance 0.05mm linemerge --tolerance 0.3mm linesort'\n",
    "vpype_str = f'vpype read -q 0.05mm {savepath} {vpype_commands} write {savepath}'\n",
    "\n",
    "os.system(vpype_str)"
   ]
  },
  {
   "cell_type": "code",
   "execution_count": null,
   "metadata": {
    "Collapsed": "false"
   },
   "outputs": [],
   "source": []
  },
  {
   "cell_type": "code",
   "execution_count": null,
   "metadata": {
    "Collapsed": "false"
   },
   "outputs": [],
   "source": []
  },
  {
   "cell_type": "markdown",
   "metadata": {
    "Collapsed": "true"
   },
   "source": [
    "## just intensity"
   ]
  },
  {
   "cell_type": "code",
   "execution_count": null,
   "metadata": {
    "Collapsed": "false"
   },
   "outputs": [],
   "source": [
    "page_x_inches: float = 17 # inches\n",
    "page_y_inches: float = 11 # inches\n",
    "border:float = 30.\n"
   ]
  },
  {
   "cell_type": "code",
   "execution_count": null,
   "metadata": {
    "Collapsed": "false"
   },
   "outputs": [],
   "source": [
    "px = utils.DistanceConverter(page_x_inches, 'inches').mm\n",
    "py = utils.DistanceConverter(page_y_inches, 'inches').mm\n",
    "page_format = f'{px}mmx{py}mm'\n",
    "drawbox = sg.box(border, border, px-border, py-border)\n",
    "\n",
    "xmin, ymin, xmax, ymax = drawbox.bounds\n"
   ]
  },
  {
   "cell_type": "code",
   "execution_count": null,
   "metadata": {
    "Collapsed": "false"
   },
   "outputs": [],
   "source": [
    "img = io.imread(image_path)\n",
    "img = rgb2gray(img)\n",
    "\n",
    "img = rescale(img, 0.95)\n",
    "\n",
    "# x, y = np.mgrid[-10:10:255j, -10:10:255j]\n",
    "# img = np.sin(x ** 2 + y ** 2)"
   ]
  },
  {
   "cell_type": "code",
   "execution_count": null,
   "metadata": {
    "Collapsed": "false"
   },
   "outputs": [],
   "source": [
    "def sample_points_from_matrix(matrix, n_points):\n",
    "    vec = matrix.ravel()\n",
    "    choice_inds = np.random.choice(len(vec), size=n_points, p=vec/vec.sum())\n",
    "    choice_vec = np.zeros_like(vec)\n",
    "    choice_vec[choice_inds] = 1\n",
    "    choice_locs = choice_vec.reshape(matrix.shape)\n",
    "    ycs, xcs = np.where(choice_locs)\n",
    "    return [Point(x, y) for x,y in zip(xcs, ycs)]"
   ]
  },
  {
   "cell_type": "code",
   "execution_count": null,
   "metadata": {
    "Collapsed": "false"
   },
   "outputs": [],
   "source": [
    "pts = sample_points_from_matrix(img**2, n_points=12000)"
   ]
  },
  {
   "cell_type": "code",
   "execution_count": null,
   "metadata": {
    "Collapsed": "false"
   },
   "outputs": [],
   "source": [
    "pts = gp.make_like(MultiPoint(pts), drawbox)"
   ]
  },
  {
   "cell_type": "code",
   "execution_count": null,
   "metadata": {
    "Collapsed": "false"
   },
   "outputs": [],
   "source": [
    "cs = MultiLineString([pt.buffer(0.9, resolution=4).boundary for pt in pts])"
   ]
  },
  {
   "cell_type": "code",
   "execution_count": null,
   "metadata": {
    "Collapsed": "false"
   },
   "outputs": [],
   "source": [
    "csb = so.unary_union([c.buffer(0.1) for c in cs])"
   ]
  },
  {
   "cell_type": "code",
   "execution_count": null,
   "metadata": {
    "Collapsed": "false"
   },
   "outputs": [],
   "source": [
    "tris = MultiPolygon(so.triangulate(MultiPoint(pts)))\n",
    "tris = tris.buffer(-0.25, join_style=2, cap_style=2, resolution=2)"
   ]
  },
  {
   "cell_type": "code",
   "execution_count": null,
   "metadata": {
    "Collapsed": "false"
   },
   "outputs": [],
   "source": [
    "def split_LineString(ls):\n",
    "    vertices = len(ls.coords)-1\n",
    "    return [LineString((ls.coords[i], ls.coords[i+1])) for i in range(vertices)]"
   ]
  },
  {
   "cell_type": "code",
   "execution_count": null,
   "metadata": {
    "Collapsed": "false"
   },
   "outputs": [],
   "source": [
    "all_lines = []\n",
    "for ls in tri_edges:\n",
    "    all_lines += split_LineString(ls)"
   ]
  },
  {
   "cell_type": "code",
   "execution_count": null,
   "metadata": {
    "Collapsed": "false"
   },
   "outputs": [],
   "source": [
    "max_length = 15\n",
    "flines = MultiLineString([l for l in all_lines if l.length<max_length])"
   ]
  },
  {
   "cell_type": "code",
   "execution_count": null,
   "metadata": {
    "Collapsed": "false"
   },
   "outputs": [],
   "source": [
    "# tris = tris.buffer(-0.2, join_style=2, cap_style=2, resolution=2)\n",
    "ftris = MultiPolygon([p for p in tris if p.area <1])"
   ]
  },
  {
   "cell_type": "code",
   "execution_count": null,
   "metadata": {
    "Collapsed": "false"
   },
   "outputs": [],
   "source": [
    "uftris = so.unary_union(ftris)"
   ]
  },
  {
   "cell_type": "code",
   "execution_count": null,
   "metadata": {
    "Collapsed": "false"
   },
   "outputs": [],
   "source": [
    "stp = gp.ScaleTransPrms(n_iters=100, d_buffer=-0.3, d_translate_factor=0.6, angles=np.radians(-60))\n",
    "stp.d_buffers *= gp.gaussian_random_walk(n=stp.d_buffers.shape[0], step_std=10)\n",
    "\n",
    "all_fills = []\n",
    "for p in rts:\n",
    "    fills = gp.scale_trans(p, **stp.prms)\n",
    "    mfills = gp.merge_LineStrings([f.boundary for f in fills])\n",
    "    all_fills.append(mfills)\n",
    "\n",
    "fill_layer = gp.merge_LineStrings(all_fills)"
   ]
  },
  {
   "cell_type": "code",
   "execution_count": null,
   "metadata": {
    "Collapsed": "false"
   },
   "outputs": [],
   "source": [
    "sk = vsketch.Vsketch()\n",
    "sk.size(page_format)\n",
    "sk.scale('1mm')\n",
    "sk.penWidth('0.25mm')\n",
    "# sk.geometry(csb.boundary)\n",
    "# sk.geometry(fill_layer)\n",
    "# sk.geometry(ftris.boundary)\n",
    "sk.geometry(flines)\n",
    "sk.display(color_mode='None')"
   ]
  },
  {
   "cell_type": "code",
   "execution_count": null,
   "metadata": {
    "Collapsed": "false"
   },
   "outputs": [],
   "source": [
    "savepath = '/mnt/c/code/side/plotter_images/oned_outputs/0115_louie_delauney_flat.svg'\n",
    "\n",
    "sk.save(savepath)\n",
    "\n",
    "vpype_commands = 'reloop linesimplify --tolerance 0.05mm linemerge --tolerance 0.3mm linesort'\n",
    "vpype_str = f'vpype read -q 0.05mm {savepath} {vpype_commands} write {savepath}'\n",
    "\n",
    "os.system(vpype_str)"
   ]
  },
  {
   "cell_type": "markdown",
   "metadata": {
    "Collapsed": "false"
   },
   "source": [
    "## intensity pixel remap"
   ]
  },
  {
   "cell_type": "code",
   "execution_count": null,
   "metadata": {
    "Collapsed": "false"
   },
   "outputs": [],
   "source": [
    "image_path = Path('/mnt/c/code/side/plotter_images/louiehat.jpg')"
   ]
  },
  {
   "cell_type": "code",
   "execution_count": null,
   "metadata": {
    "Collapsed": "false"
   },
   "outputs": [],
   "source": [
    "page_x_inches: float = 17 # inches\n",
    "page_y_inches: float = 11 # inches\n",
    "border:float = 15.\n"
   ]
  },
  {
   "cell_type": "code",
   "execution_count": null,
   "metadata": {
    "Collapsed": "false"
   },
   "outputs": [],
   "source": [
    "size_string = '11.7×16.5 inches'"
   ]
  },
  {
   "cell_type": "code",
   "execution_count": null,
   "metadata": {
    "Collapsed": "false"
   },
   "outputs": [],
   "source": [
    "size, units = size_string.split(' ')"
   ]
  },
  {
   "cell_type": "code",
   "execution_count": null,
   "metadata": {
    "Collapsed": "false"
   },
   "outputs": [],
   "source": [
    "size.split('x')"
   ]
  },
  {
   "cell_type": "code",
   "execution_count": null,
   "metadata": {
    "Collapsed": "false"
   },
   "outputs": [],
   "source": [
    "ppr = utils.Paper('A3')"
   ]
  },
  {
   "cell_type": "code",
   "execution_count": null,
   "metadata": {
    "Collapsed": "false"
   },
   "outputs": [],
   "source": [
    "px = utils.DistanceConverter(page_x_inches, 'inches').mm\n",
    "py = utils.DistanceConverter(page_y_inches, 'inches').mm\n",
    "page_format = f'{px}mmx{py}mm'\n",
    "drawbox = sg.box(border, border, px-xborder, py-yborder)\n",
    "\n",
    "xmin, ymin, xmax, ymax = drawbox.bounds\n"
   ]
  },
  {
   "cell_type": "code",
   "execution_count": null,
   "metadata": {
    "Collapsed": "false"
   },
   "outputs": [],
   "source": [
    "img =  rgb2gray(io.imread(image_path))\n",
    "img = rgb2gray(img)\n",
    "\n",
    "img = rescale(img, 0.125)\n"
   ]
  },
  {
   "cell_type": "code",
   "execution_count": null,
   "metadata": {
    "Collapsed": "false"
   },
   "outputs": [],
   "source": [
    "# Contrast stretching\n",
    "# p2, p98 = np.percentile(img, (2, 99))\n",
    "# img_rescale = exposure.rescale_intensity(img, in_range=(p2, p98)) * 0.8 +0.1\n",
    "\n",
    "img_rescale = exposure.equalize_adapthist(img, clip_limit=0.1, nbins=32) * 0.79 +0.2\n",
    "\n",
    "selem = disk(2)\n",
    "filt_img = filters.rank.mean(img_rescale, selem)\n",
    "\n",
    "angle_farid = angle(filters.farid_h(filt_img),\n",
    "                    filters.farid_v(filt_img))\n",
    "\n",
    "f, axs = plt.subplots(1,3, figsize=(12,8))\n",
    "axs[0].imshow(img)\n",
    "axs[1].imshow(img_rescale)\n",
    "axs[2].imshow(angle_farid)"
   ]
  },
  {
   "cell_type": "code",
   "execution_count": null,
   "metadata": {
    "Collapsed": "false"
   },
   "outputs": [],
   "source": [
    "df = geopandas.GeoDataFrame({'geometry':polys})"
   ]
  },
  {
   "cell_type": "code",
   "execution_count": null,
   "metadata": {
    "Collapsed": "false"
   },
   "outputs": [],
   "source": [
    "pixel_width=0.9\n",
    "pixel_height=0.9"
   ]
  },
  {
   "cell_type": "code",
   "execution_count": null,
   "metadata": {
    "Collapsed": "false"
   },
   "outputs": [],
   "source": [
    "prms = []\n",
    "for y, row in tqdm(enumerate(img_rescale)):\n",
    "    for x, intensity in enumerate(row):\n",
    "        \n",
    "        p = gp.centered_box(Point(x, y), width=pixel_width, height=pixel_height)\n",
    "        a = angle_farid[y, x]\n",
    "        prm = {\n",
    "            'geometry':p,\n",
    "            'x':x,\n",
    "            'y':y,\n",
    "            'raw_pixel_width':pixel_width,\n",
    "            'raw_pixel_height':pixel_height,\n",
    "            'intensity': intensity,\n",
    "            'angle':a,\n",
    "            'group': 'raw_hatch_pixel',\n",
    "            \n",
    "        }\n",
    "        prms.append(prm)\n",
    "raw_hatch_pixels = geopandas.GeoDataFrame(prms)"
   ]
  },
  {
   "cell_type": "code",
   "execution_count": null,
   "metadata": {
    "Collapsed": "false"
   },
   "outputs": [],
   "source": [
    "import yaml"
   ]
  },
  {
   "cell_type": "code",
   "execution_count": null,
   "metadata": {
    "Collapsed": "false"
   },
   "outputs": [],
   "source": [
    "@dataclass\n",
    "class RasterHatchParam(gp.DataClassBase):\n",
    "    image_path: str = None"
   ]
  },
  {
   "cell_type": "code",
   "execution_count": null,
   "metadata": {
    "Collapsed": "false"
   },
   "outputs": [],
   "source": [
    "rhp = RasterHatchParam(image_path='/mnt/c/code/side/plotter_images/louiehat.jpg')"
   ]
  },
  {
   "cell_type": "code",
   "execution_count": null,
   "metadata": {
    "Collapsed": "false"
   },
   "outputs": [],
   "source": [
    "rhp.angle_jitter_gen = angle_jitter_gen"
   ]
  },
  {
   "cell_type": "code",
   "execution_count": null,
   "metadata": {
    "Collapsed": "false"
   },
   "outputs": [],
   "source": [
    "with open('/mnt/c/data/test_param.yaml', mode='w') as ff:\n",
    "    ff.write(yaml.dump(rhp))\n"
   ]
  },
  {
   "cell_type": "code",
   "execution_count": null,
   "metadata": {
    "Collapsed": "false",
    "jupyter": {
     "outputs_hidden": true
    }
   },
   "outputs": [],
   "source": [
    "with open('/mnt/c/data/test_param.yaml', mode=\"r\") as fx:\n",
    "    y = yaml.load(fx)"
   ]
  },
  {
   "cell_type": "code",
   "execution_count": null,
   "metadata": {
    "Collapsed": "false"
   },
   "outputs": [],
   "source": [
    "bbox = box(*raw_hatch_pixels.total_bounds)\n",
    "_, transform = gp.make_like(bbox, drawbox, return_transform=True)\n",
    "A = gp.AffineMatrix(**transform)"
   ]
  },
  {
   "cell_type": "code",
   "execution_count": null,
   "metadata": {
    "Collapsed": "false"
   },
   "outputs": [],
   "source": [
    "scaled_hatch_pixels = raw_hatch_pixels.copy()\n",
    "scaled_hatch_pixels['geometry'] = scaled_hatch_pixels.affine_transform(A.A_flat)\n",
    "scaled_hatch_pixels['scaled_pixel_height'] = scaled_hatch_pixels['geometry'].apply(gp.get_height)\n",
    "scaled_hatch_pixels['scaled_pixel_width'] = scaled_hatch_pixels['geometry'].apply(gp.get_width)"
   ]
  },
  {
   "cell_type": "code",
   "execution_count": null,
   "metadata": {
    "Collapsed": "false"
   },
   "outputs": [],
   "source": [
    "angle_jitter_gen = gp.make_callable(ss.norm(loc=0, scale=10).rvs)\n",
    "pixel_rotation_gen = gp.make_callable(0)"
   ]
  },
  {
   "cell_type": "code",
   "execution_count": null,
   "metadata": {
    "Collapsed": "false"
   },
   "outputs": [],
   "source": [
    "new_rows = []\n",
    "for i, row in tqdm(scaled_hatch_pixels.iterrows(), total=len(scaled_hatch_pixels)):\n",
    "    r = row.copy()\n",
    "    r['angle_jitter'] = angle_jitter_gen()\n",
    "    r['hatch_angle'] = r['angle'] + r['angle_jitter']\n",
    "    r['pixel_rotation'] = pixel_rotation_gen()\n",
    "    p = r['geometry']\n",
    "    r['spacing'] = r['intensity']  # could be a transformation though\n",
    "    if abs(r['pixel_rotation']) > np.finfo(float).eps:\n",
    "        p = sa.rotate(p, r['pixel_rotation'])\n",
    "    f = gp.hatchbox(p, spacing=r['spacing'], angle=r['hatch_angle'])\n",
    "    r['geometry'] = f\n",
    "    new_rows.append(r)\n",
    "    \n",
    "fills = geopandas.GeoDataFrame(new_rows)\n",
    "fills = fills[fills.length > 0]"
   ]
  },
  {
   "cell_type": "code",
   "execution_count": null,
   "metadata": {
    "Collapsed": "false"
   },
   "outputs": [],
   "source": [
    "sk = vsketch.Vsketch()\n",
    "sk.size(page_format)\n",
    "sk.scale('1mm')\n",
    "sk.penWidth('0.25mm')\n",
    "sk.stroke(1)\n",
    "sk.geometry(fills)"
   ]
  },
  {
   "cell_type": "code",
   "execution_count": null,
   "metadata": {
    "Collapsed": "false"
   },
   "outputs": [],
   "source": [
    "for tolerance in np.linspace(0.3, 0.9, 6):\n",
    "    sk.vpype(f'linemerge --tolerance {tolerance}mm')"
   ]
  },
  {
   "cell_type": "code",
   "execution_count": null,
   "metadata": {
    "Collapsed": "false"
   },
   "outputs": [],
   "source": [
    "sk.vpype('linesimplify --tolerance 0.2mm')"
   ]
  },
  {
   "cell_type": "code",
   "execution_count": null,
   "metadata": {
    "Collapsed": "false"
   },
   "outputs": [],
   "source": [
    "%%time\n",
    "sk.vpype('linesort')"
   ]
  },
  {
   "cell_type": "code",
   "execution_count": null,
   "metadata": {
    "Collapsed": "false"
   },
   "outputs": [],
   "source": [
    "sk.display(color_mode='None')"
   ]
  },
  {
   "cell_type": "code",
   "execution_count": null,
   "metadata": {
    "Collapsed": "false"
   },
   "outputs": [],
   "source": [
    "savepath = '/mnt/c/code/side/plotter_images/oned_outputs/0138_louie_flow_high_res_jittered_angle.svg'\n",
    "\n",
    "sk.save(savepath)\n"
   ]
  },
  {
   "cell_type": "code",
   "execution_count": null,
   "metadata": {
    "Collapsed": "false"
   },
   "outputs": [],
   "source": []
  },
  {
   "cell_type": "code",
   "execution_count": null,
   "metadata": {
    "Collapsed": "false"
   },
   "outputs": [],
   "source": [
    "image_path='/mnt/c/code/side/plotter_images/joey_bun.jpg'\n",
    "filename='138_joeybun_test.svg'"
   ]
  },
  {
   "cell_type": "code",
   "execution_count": null,
   "metadata": {
    "Collapsed": "false"
   },
   "outputs": [],
   "source": [
    "paper_size:str = '11x17 inches'\n",
    "border:float=20  # mm\n",
    "image_rescale_factor:float=0.04\n",
    "farid_disk_size:int=2\n",
    "hist_clip_limit=0.1\n",
    "hist_nbins=32\n",
    "hatch_spacing_min=0.2  # mm\n",
    "hatch_spacing_max=1.  # mm\n",
    "pixel_width=0.9  # mm\n",
    "pixel_height=0.9  # mm\n",
    "angle_jitter='0'\n",
    "pixel_rotation='0'\n",
    "merge_tolerances=[0.3, 0.4, 0.5]  # mm\n",
    "simplify_tolerances=[0.2]  # mm\n",
    "savedir='/mnt/c/code/side/plotter_images/oned_outputs'"
   ]
  },
  {
   "cell_type": "code",
   "execution_count": null,
   "metadata": {
    "Collapsed": "false"
   },
   "outputs": [],
   "source": [
    "def local_angle(dx, dy):\n",
    "    \"\"\"Calculate the angles between horizontal and vertical operators.\"\"\"\n",
    "    return np.mod(np.arctan2(dy, dx), np.pi)\n",
    "\n",
    "# make page\n",
    "paper = Paper(paper_size)\n",
    "drawbox = paper.get_drawbox(border)\n",
    "\n",
    "# load\n",
    "img =  rgb2gray(io.imread(Path(image_path)))\n",
    "img_rescale = rescale(img, image_rescale_factor)\n",
    "\n",
    "# \n",
    "img_contrast_adj = exposure.equalize_adapthist(img_rescale, clip_limit=hist_clip_limit, nbins=hist_nbins)\n",
    "img_renorm = img_contrast_adj * (hatch_spacing_max - hatch_spacing_min) + hatch_spacing_min\n",
    "\n",
    "# calc dominant angle\n",
    "selem = disk(2)\n",
    "filt_img = filters.rank.mean(img_renorm, selem)\n",
    "angle_farid = local_angle(filters.farid_h(filt_img), filters.farid_v(filt_img))\n",
    "\n",
    "# make pixel polys\n",
    "prms = []\n",
    "for y, row in tqdm(enumerate(img_renorm)):\n",
    "    for x, intensity in enumerate(row):\n",
    "\n",
    "        p = gp.centered_box(Point(x, y), width=pixel_width, height=pixel_height)\n",
    "        a = angle_farid[y, x]\n",
    "        prm = {\n",
    "            'geometry':p,\n",
    "            'x':x,\n",
    "            'y':y,\n",
    "            'raw_pixel_width':pixel_width,\n",
    "            'raw_pixel_height':pixel_height,\n",
    "            'intensity': intensity,\n",
    "            'angle':a,\n",
    "            'group': 'raw_hatch_pixel',\n",
    "\n",
    "        }\n",
    "        prms.append(prm)\n",
    "raw_hatch_pixels = geopandas.GeoDataFrame(prms)\n",
    "\n",
    "#  rescale polys to fit in drawbox\n",
    "bbox = box(*raw_hatch_pixels.total_bounds)\n",
    "_, transform = gp.make_like(bbox, drawbox, return_transform=True)\n",
    "A = gp.AffineMatrix(**transform)\n",
    "scaled_hatch_pixels = raw_hatch_pixels.copy()\n",
    "scaled_hatch_pixels['geometry'] = scaled_hatch_pixels.affine_transform(A.A_flat)\n",
    "scaled_hatch_pixels['scaled_pixel_height'] = scaled_hatch_pixels['geometry'].apply(gp.get_height)\n",
    "scaled_hatch_pixels['scaled_pixel_width'] = scaled_hatch_pixels['geometry'].apply(gp.get_width)\n",
    "\n",
    "# distributions etc\n",
    "angle_jitter_gen = gp.make_callable(eval(angle_jitter))\n",
    "pixel_rotation_gen = gp.make_callable(eval(pixel_rotation))\n",
    "\n",
    "\n",
    "new_rows = []\n",
    "for i, row in tqdm(scaled_hatch_pixels.iterrows(), total=len(scaled_hatch_pixels)):\n",
    "    r = row.copy()\n",
    "    r['angle_jitter'] = angle_jitter_gen()\n",
    "    r['hatch_angle'] = r['angle'] + r['angle_jitter']\n",
    "    r['pixel_rotation'] = pixel_rotation_gen()\n",
    "    p = r['geometry']\n",
    "    r['spacing'] = r['intensity']  # could be a transformation though\n",
    "    if abs(r['pixel_rotation']) > np.finfo(float).eps:\n",
    "        p = sa.rotate(p, r['pixel_rotation'])\n",
    "    f = gp.hatchbox(p, spacing=r['spacing'], angle=r['hatch_angle'])\n",
    "    r['geometry'] = f\n",
    "    new_rows.append(r)\n",
    "\n",
    "fills = geopandas.GeoDataFrame(new_rows)\n",
    "fills = fills[fills.length > 0]"
   ]
  },
  {
   "cell_type": "code",
   "execution_count": null,
   "metadata": {
    "Collapsed": "false"
   },
   "outputs": [],
   "source": [
    "fill_layer = gp.merge_LineStrings(fills.geometry)"
   ]
  },
  {
   "cell_type": "code",
   "execution_count": null,
   "metadata": {
    "Collapsed": "false"
   },
   "outputs": [],
   "source": [
    "fills"
   ]
  },
  {
   "cell_type": "markdown",
   "metadata": {
    "Collapsed": "false"
   },
   "source": [
    "debug"
   ]
  },
  {
   "cell_type": "code",
   "execution_count": null,
   "metadata": {
    "Collapsed": "false"
   },
   "outputs": [],
   "source": [
    "border=20\n",
    "paper_size:str = '14x11 inches'  \n",
    "        # make page\n",
    "paper = Paper(paper_size)\n",
    "drawbox = paper.get_drawbox(border)"
   ]
  },
  {
   "cell_type": "code",
   "execution_count": null,
   "metadata": {
    "Collapsed": "false"
   },
   "outputs": [],
   "source": [
    "image_path = '/mnt/c/code/side/plotter_images/205_subdivide.png'\n",
    "image_rescale_factor = 0.01\n",
    "smooth_disk_size:int=2\n",
    "hist_clip_limit=0.1\n",
    "hist_nbins=32\n",
    "hatch_spacing_min=0.3  # mm\n",
    "hatch_spacing_max=1.  # mm\n",
    "pixel_width=0.9  # mm\n",
    "pixel_height=0.9 # mm"
   ]
  },
  {
   "cell_type": "code",
   "execution_count": null,
   "metadata": {
    "Collapsed": "false"
   },
   "outputs": [],
   "source": [
    "angle_jitter='0'  # degrees\n",
    "pixel_rotation='0' # degrees\n",
    "merge_tolerances=[0.3, 0.4, 0.5]  # mm\n",
    "simplify_tolerances=[0.2]  # mm"
   ]
  },
  {
   "cell_type": "code",
   "execution_count": null,
   "metadata": {
    "Collapsed": "false"
   },
   "outputs": [],
   "source": [
    "def local_angle(dx, dy):\n",
    "    \"\"\"Calculate the angles between horizontal and vertical operators.\"\"\"\n",
    "    return np.mod(np.arctan2(dy, dx), np.pi)"
   ]
  },
  {
   "cell_type": "code",
   "execution_count": null,
   "metadata": {
    "Collapsed": "false"
   },
   "outputs": [],
   "source": [
    "# load\n",
    "img =  rgb2gray(io.imread(Path(image_path)))\n",
    "img_rescale = rescale(img, image_rescale_factor)\n",
    "\n",
    "# \n",
    "img_renorm = exposure.equalize_adapthist(img_rescale, clip_limit=hist_clip_limit, nbins=hist_nbins)\n",
    "\n",
    "# calc dominant angle\n",
    "selem = disk(smooth_disk_size)\n",
    "filt_img = filters.rank.mean(img_renorm, selem)\n",
    "angle_farid = local_angle(filters.farid_h(filt_img), filters.farid_v(filt_img))"
   ]
  },
  {
   "cell_type": "code",
   "execution_count": null,
   "metadata": {
    "Collapsed": "false"
   },
   "outputs": [],
   "source": [
    "# make pixel polys\n",
    "prms = []\n",
    "for y, row in tqdm(enumerate(img_renorm)):\n",
    "    for x, intensity in enumerate(row):\n",
    "\n",
    "        p = gp.centered_box(Point(x, y), width=pixel_width, height=pixel_height)\n",
    "        a = np.degrees(angle_farid[y, x])\n",
    "        prm = {\n",
    "            'geometry':p,\n",
    "            'x':x,\n",
    "            'y':y,\n",
    "            'raw_pixel_width':pixel_width,\n",
    "            'raw_pixel_height':pixel_height,\n",
    "            'intensity': intensity,\n",
    "            'angle':a,\n",
    "            'group': 'raw_hatch_pixel',\n",
    "\n",
    "        }\n",
    "        prms.append(prm)\n",
    "raw_hatch_pixels = geopandas.GeoDataFrame(prms)"
   ]
  },
  {
   "cell_type": "code",
   "execution_count": null,
   "metadata": {
    "Collapsed": "false"
   },
   "outputs": [],
   "source": [
    "#  rescale polys to fit in drawbox\n",
    "bbox = box(*raw_hatch_pixels.total_bounds)\n",
    "_, transform = gp.make_like(bbox, drawbox, return_transform=True)\n",
    "A = gp.AffineMatrix(**transform)\n",
    "scaled_hatch_pixels = raw_hatch_pixels.copy()\n",
    "scaled_hatch_pixels['geometry'] = scaled_hatch_pixels.affine_transform(A.A_flat)\n",
    "scaled_hatch_pixels['scaled_pixel_height'] = scaled_hatch_pixels['geometry'].apply(gp.get_height)\n",
    "scaled_hatch_pixels['scaled_pixel_width'] = scaled_hatch_pixels['geometry'].apply(gp.get_width)\n",
    "\n",
    "# distributions etc\n",
    "angle_jitter_gen = gp.make_callable(eval(angle_jitter))\n",
    "pixel_rotation_gen = gp.make_callable(eval(pixel_rotation))\n",
    "\n",
    "\n",
    "scaled_hatch_pixels['angle_jitter'] = angle_jitter_gen(len(scaled_hatch_pixels))\n",
    "scaled_hatch_pixels['hatch_angle'] = scaled_hatch_pixels['angle'] + scaled_hatch_pixels['angle_jitter']\n",
    "scaled_hatch_pixels['pixel_rotation'] = pixel_rotation_gen(len(scaled_hatch_pixels))"
   ]
  },
  {
   "cell_type": "code",
   "execution_count": null,
   "metadata": {
    "Collapsed": "false"
   },
   "outputs": [],
   "source": [
    "spacing_func = functools.partial(np.interp, xp=[0, 1], fp=[hatch_spacing_min, hatch_spacing_max])"
   ]
  },
  {
   "cell_type": "code",
   "execution_count": null,
   "metadata": {
    "Collapsed": "false"
   },
   "outputs": [],
   "source": [
    "scaled_hatch_pixels['spacing'] = spacing_func(scaled_hatch_pixels['intensity'])"
   ]
  },
  {
   "cell_type": "code",
   "execution_count": null,
   "metadata": {
    "Collapsed": "false"
   },
   "outputs": [],
   "source": [
    "scaled_hatch_pixels['spacing']"
   ]
  },
  {
   "cell_type": "code",
   "execution_count": null,
   "metadata": {
    "Collapsed": "false"
   },
   "outputs": [],
   "source": [
    "r['spacing'] = r['intensity']"
   ]
  }
 ],
 "metadata": {
  "kernelspec": {
   "display_name": "Python [conda env:genpen]",
   "language": "python",
   "name": "conda-env-genpen-py"
  },
  "language_info": {
   "codemirror_mode": {
    "name": "ipython",
    "version": 3
   },
   "file_extension": ".py",
   "mimetype": "text/x-python",
   "name": "python",
   "nbconvert_exporter": "python",
   "pygments_lexer": "ipython3",
   "version": "3.8.8"
  }
 },
 "nbformat": 4,
 "nbformat_minor": 4
}

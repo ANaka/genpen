{
 "cells": [
  {
   "cell_type": "code",
   "execution_count": null,
   "metadata": {
    "Collapsed": "false"
   },
   "outputs": [],
   "source": [
    "import bezier\n",
    "import numpy as np\n",
    "import matplotlib.pyplot as plt\n",
    "from matplotlib.collections import LineCollection\n",
    "import networkx as nx\n",
    "from pathlib import Path\n",
    "from tqdm import tqdm\n",
    "import pandas as pd\n",
    "import itertools\n",
    "import functools\n",
    "from dataclasses import asdict, dataclass, field\n",
    "import vsketch\n",
    "import shapely.geometry as sg\n",
    "from shapely.geometry import box, MultiLineString, Point, MultiPoint, Polygon, MultiPolygon, LineString\n",
    "import shapely.affinity as sa\n",
    "import shapely.ops as so\n",
    "from genpen import genpen as gp, utils as utils\n",
    "from scipy import stats as ss\n",
    "import geopandas\n",
    "%load_ext autoreload\n",
    "%autoreload 2"
   ]
  },
  {
   "cell_type": "code",
   "execution_count": null,
   "metadata": {
    "Collapsed": "false"
   },
   "outputs": [],
   "source": [
    "class GraphGram(object):\n",
    "    \n",
    "    def __init__(self, graph, xoff=0, yoff=0, scale=1, layout_method='kamada_kawai_layout'):\n",
    "        self.graph = graph\n",
    "        self._nodes = None\n",
    "        self.xoff = xoff\n",
    "        self.yoff = yoff\n",
    "        self.scale = scale\n",
    "        self.layout_method = layout_method\n",
    "    \n",
    "    @property\n",
    "    def center(self):\n",
    "        return np.array((self.xoff, self.yoff))\n",
    "    \n",
    "    @property\n",
    "    def edges(self):\n",
    "        return list(self.graph.edges)\n",
    "    \n",
    "    @property\n",
    "    def layout_function(self):\n",
    "        try:\n",
    "            f = getattr(nx.layout, self.layout_method)\n",
    "        except AttributeError:\n",
    "            layout_functions = [a for a in dir(nx.layout) if 'layout' in a]\n",
    "            error_string = f'''{self.layout_method} not found in networkx.layout module; \n",
    "\n",
    "choose from {layout_functions}\n",
    "            '''\n",
    "            print(error_string)\n",
    "        return f\n",
    "    \n",
    "    @functools.lru_cache\n",
    "    def get_layout(self, *args, **kwargs):\n",
    "        self._nodes = self.layout_function(\n",
    "            self.graph,\n",
    "            scale=self.scale,\n",
    "            center=self.center,\n",
    "            *args, **kwargs)\n",
    "    \n",
    "    @property\n",
    "    def nodes(self):\n",
    "        if self._nodes is None:\n",
    "            self.get_layout()\n",
    "        return self._nodes\n",
    "    \n",
    "    @property\n",
    "    def node_pts(self):\n",
    "        return {k:Point(xy) for k, xy in self.nodes.items()}\n",
    "    \n",
    "    @property\n",
    "    def pts(self):\n",
    "        return MultiPoint([p for p in self.node_pts.values()])\n",
    "    \n",
    "    @property\n",
    "    def lines(self):\n",
    "        lines = []\n",
    "        for n0,n1 in self.edges:\n",
    "            p0 = self.node_pts[n0]\n",
    "            p1 = self.node_pts[n1]\n",
    "            lines.append(LineString([p0, p1]))\n",
    "        return MultiLineString(lines)    \n",
    "        "
   ]
  },
  {
   "cell_type": "markdown",
   "metadata": {
    "Collapsed": "false"
   },
   "source": [
    "# strogatz"
   ]
  },
  {
   "cell_type": "code",
   "execution_count": null,
   "metadata": {
    "Collapsed": "false"
   },
   "outputs": [],
   "source": [
    "# make page\n",
    "paper_size = '11x17 inches'\n",
    "border:float=20\n",
    "paper = utils.Paper(paper_size)\n",
    "\n",
    "drawbox = paper.get_drawbox(border)"
   ]
  },
  {
   "cell_type": "code",
   "execution_count": null,
   "metadata": {
    "Collapsed": "false"
   },
   "outputs": [],
   "source": [
    "DEGREE = 13\n",
    "SCALE = 15\n",
    "(xbins, ybins), (xs, ys) = gp.overlay_grid(drawbox, xstep=40, ystep=40, flatmesh=True)"
   ]
  },
  {
   "cell_type": "code",
   "execution_count": null,
   "metadata": {
    "Collapsed": "false"
   },
   "outputs": [],
   "source": [
    "p_gen = lambda x: np.interp(x, [xs.min(), xs.max()], [0.2, 1.] )\n",
    "_p_gen = gp.make_callable(p_gen)"
   ]
  },
  {
   "cell_type": "code",
   "execution_count": null,
   "metadata": {
    "Collapsed": "false"
   },
   "outputs": [],
   "source": [
    "k_gen = 3\n",
    "_k_gen = gp.make_callable(k_gen)"
   ]
  },
  {
   "cell_type": "code",
   "execution_count": null,
   "metadata": {
    "Collapsed": "false"
   },
   "outputs": [],
   "source": [
    "df = pd.DataFrame({\n",
    "    'x':xs,\n",
    "    'y':ys,\n",
    "    'k':_k_gen(xs),\n",
    "    'p':_p_gen(xs)\n",
    "})\n",
    "df['k'] = df['k'].astype(int)"
   ]
  },
  {
   "cell_type": "code",
   "execution_count": null,
   "metadata": {
    "Collapsed": "false"
   },
   "outputs": [],
   "source": [
    "new_rows = []\n",
    "for i, row in df.iterrows():\n",
    "    k = row['k'].astype(int)\n",
    "    G = nx.connected_watts_strogatz_graph(n=DEGREE, k=k, p=row['p'])\n",
    "    gg = GraphGram(graph=G, layout_method='kamada_kawai_layout',\n",
    "                   xoff=row['x'], yoff=row['y'], scale=SCALE)\n",
    "    new_row = row.to_dict()\n",
    "    new_row['geometry'] = gg.lines\n",
    "    new_rows.append(new_row)\n",
    "    \n",
    "gdf = geopandas.GeoDataFrame(new_rows)\n",
    "layers = []\n",
    "layers.append(gp.merge_LineStrings(gdf.geometry))"
   ]
  },
  {
   "cell_type": "code",
   "execution_count": null,
   "metadata": {
    "Collapsed": "false"
   },
   "outputs": [],
   "source": [
    "sk = vsketch.Vsketch()\n",
    "sk.size(paper.page_format_mm)\n",
    "sk.scale('1mm')\n",
    "for i, layer in enumerate(layers):\n",
    "    sk.stroke(i+1)\n",
    "    sk.geometry(layer)\n",
    "\n",
    "tolerance=0.5\n",
    "sk.vpype(f'linesort')\n",
    "\n",
    "sk.display()"
   ]
  },
  {
   "cell_type": "code",
   "execution_count": null,
   "metadata": {
    "Collapsed": "false"
   },
   "outputs": [],
   "source": [
    "savedir='/mnt/c/code/side/plotter_images/oned_outputs'\n",
    "filename = '0149_graph_test.svg'"
   ]
  },
  {
   "cell_type": "code",
   "execution_count": null,
   "metadata": {
    "Collapsed": "false"
   },
   "outputs": [],
   "source": [
    "savepath = Path(savedir).joinpath(filename).as_posix()\n",
    "sk.save(savepath)"
   ]
  },
  {
   "cell_type": "markdown",
   "metadata": {
    "Collapsed": "false"
   },
   "source": [
    "# strogatz"
   ]
  },
  {
   "cell_type": "code",
   "execution_count": null,
   "metadata": {
    "Collapsed": "false"
   },
   "outputs": [],
   "source": [
    "# make page\n",
    "paper_size = '11x17 inches'\n",
    "border:float=18\n",
    "paper = utils.Paper(paper_size)\n",
    "\n",
    "drawbox = paper.get_drawbox(border)"
   ]
  },
  {
   "cell_type": "code",
   "execution_count": null,
   "metadata": {
    "Collapsed": "false"
   },
   "outputs": [],
   "source": [
    "DEGREE = 33\n",
    "SCALE = 8\n",
    "(xbins, ybins), (xs, ys) = gp.overlay_grid(drawbox, xstep=20, ystep=20, flatmesh=True)"
   ]
  },
  {
   "cell_type": "code",
   "execution_count": null,
   "metadata": {
    "Collapsed": "false"
   },
   "outputs": [],
   "source": [
    "p_gen = lambda x: np.interp(x, [xs.min(), xs.max()], [0., 0.6] )\n",
    "_p_gen = gp.make_callable(p_gen)"
   ]
  },
  {
   "cell_type": "code",
   "execution_count": null,
   "metadata": {
    "Collapsed": "false"
   },
   "outputs": [],
   "source": [
    "k_gen = 2\n",
    "_k_gen = gp.make_callable(k_gen)"
   ]
  },
  {
   "cell_type": "code",
   "execution_count": null,
   "metadata": {
    "Collapsed": "false"
   },
   "outputs": [],
   "source": [
    "df = pd.DataFrame({\n",
    "    'x':xs,\n",
    "    'y':ys,\n",
    "    'k':_k_gen(xs),\n",
    "    'p':_p_gen(xs)\n",
    "})\n",
    "df['k'] = df['k'].astype(int)"
   ]
  },
  {
   "cell_type": "code",
   "execution_count": null,
   "metadata": {
    "Collapsed": "false"
   },
   "outputs": [],
   "source": [
    "new_rows = []\n",
    "for i, row in df.iterrows():\n",
    "    k = row['k'].astype(int)\n",
    "    G = nx.connected_watts_strogatz_graph(n=DEGREE, k=k, p=row['p'])\n",
    "    gg = GraphGram(graph=G, layout_method='spring_layout',\n",
    "                   xoff=row['x'], yoff=row['y'], scale=SCALE)\n",
    "    \n",
    "    bezs = []\n",
    "    for ls in gg.lines:\n",
    "        bez = gp.LineString_to_jittered_bezier(\n",
    "            ls, xstd=0., ystd=0., normalized=True, n_eval_points=2)\n",
    "        bezs.append(bez)\n",
    "    bezs = gp.merge_LineStrings(bezs)\n",
    "    new_row = row.to_dict()\n",
    "    new_row['geometry'] = bezs\n",
    "    new_rows.append(new_row)\n",
    "    \n",
    "gdf = geopandas.GeoDataFrame(new_rows)\n",
    "layers = []\n",
    "layers.append(gp.merge_LineStrings(gdf.geometry))"
   ]
  },
  {
   "cell_type": "code",
   "execution_count": null,
   "metadata": {
    "Collapsed": "false"
   },
   "outputs": [],
   "source": [
    "sk = vsketch.Vsketch()\n",
    "sk.size(paper.page_format_mm)\n",
    "sk.scale('1mm')\n",
    "for i, layer in enumerate(layers):\n",
    "    sk.stroke(i+1)\n",
    "    sk.geometry(layer)\n",
    "\n",
    "tolerance= 0.5\n",
    "sk.vpype(f'linemerge --tolerance {tolerance}mm linesort')\n",
    "\n",
    "sk.display()"
   ]
  },
  {
   "cell_type": "code",
   "execution_count": null,
   "metadata": {
    "Collapsed": "false"
   },
   "outputs": [],
   "source": [
    "savedir='/mnt/c/code/side/plotter_images/oned_outputs'\n",
    "filename = '0151_strogatz_graphs.svg'"
   ]
  },
  {
   "cell_type": "code",
   "execution_count": null,
   "metadata": {
    "Collapsed": "false"
   },
   "outputs": [],
   "source": [
    "savepath = Path(savedir).joinpath(filename).as_posix()\n",
    "sk.save(savepath)"
   ]
  },
  {
   "cell_type": "markdown",
   "metadata": {
    "Collapsed": "false"
   },
   "source": [
    "# binary tree"
   ]
  },
  {
   "cell_type": "code",
   "execution_count": null,
   "metadata": {
    "Collapsed": "false"
   },
   "outputs": [],
   "source": [
    "# make page\n",
    "paper_size = '11x17 inches'\n",
    "border:float=18\n",
    "paper = utils.Paper(paper_size)\n",
    "\n",
    "drawbox = paper.get_drawbox(border)"
   ]
  },
  {
   "cell_type": "code",
   "execution_count": null,
   "metadata": {
    "Collapsed": "false"
   },
   "outputs": [],
   "source": [
    "DEGREE = 33\n",
    "SCALE = 20\n",
    "(xbins, ybins), (xs, ys) = gp.overlay_grid(drawbox, xstep=50, ystep=50, flatmesh=True)"
   ]
  },
  {
   "cell_type": "code",
   "execution_count": null,
   "metadata": {
    "Collapsed": "false"
   },
   "outputs": [],
   "source": [
    "r_gen = lambda x: int(np.interp(x, [xs.min(), xs.max()], [2, 8] ))\n",
    "_r_gen = gp.make_callable(r_gen)"
   ]
  },
  {
   "cell_type": "code",
   "execution_count": null,
   "metadata": {
    "Collapsed": "false"
   },
   "outputs": [],
   "source": [
    "k_gen = 3\n",
    "_k_gen = gp.make_callable(k_gen)"
   ]
  },
  {
   "cell_type": "code",
   "execution_count": null,
   "metadata": {
    "Collapsed": "false"
   },
   "outputs": [],
   "source": [
    "df = pd.DataFrame({\n",
    "    'x':xs,\n",
    "    'y':ys,\n",
    "    'k':_k_gen(xs),\n",
    "    'p':_p_gen(xs)\n",
    "})\n",
    "df['k'] = df['k'].astype(int)"
   ]
  },
  {
   "cell_type": "code",
   "execution_count": null,
   "metadata": {
    "Collapsed": "false"
   },
   "outputs": [],
   "source": [
    "nx.number_of_nonisomorphic_trees(10)"
   ]
  },
  {
   "cell_type": "code",
   "execution_count": null,
   "metadata": {
    "Collapsed": "false"
   },
   "outputs": [],
   "source": [
    "new_rows = []\n",
    "for i, row in df.iterrows():\n",
    "    k = row['k'].astype(int)\n",
    "    G = nx.connected_watts_strogatz_graph(n=DEGREE, k=k, p=row['p'])\n",
    "    gg = GraphGram(graph=G, layout_method='spectral_layout',\n",
    "                   xoff=row['x'], yoff=row['y'], scale=SCALE)\n",
    "    \n",
    "    bezs = []\n",
    "    for ls in gg.lines:\n",
    "        bez = gp.LineString_to_jittered_bezier(\n",
    "            ls, xstd=0., ystd=0., normalized=True, n_eval_points=2)\n",
    "        bezs.append(bez)\n",
    "    bezs = gp.merge_LineStrings(bezs)\n",
    "    new_row = row.to_dict()\n",
    "    new_row['geometry'] = bezs\n",
    "    new_rows.append(new_row)\n",
    "    \n",
    "gdf = geopandas.GeoDataFrame(new_rows)\n",
    "layers = []\n",
    "layers.append(gp.merge_LineStrings(gdf.geometry))"
   ]
  },
  {
   "cell_type": "code",
   "execution_count": null,
   "metadata": {
    "Collapsed": "false"
   },
   "outputs": [],
   "source": [
    "sk = vsketch.Vsketch()\n",
    "sk.size(paper.page_format_mm)\n",
    "sk.scale('1mm')\n",
    "for i, layer in enumerate(layers):\n",
    "    sk.stroke(i+1)\n",
    "    sk.geometry(layer)\n",
    "\n",
    "tolerance= 0.5\n",
    "sk.vpype(f'linemerge --tolerance {tolerance}mm linesort')\n",
    "\n",
    "sk.display()"
   ]
  },
  {
   "cell_type": "code",
   "execution_count": null,
   "metadata": {
    "Collapsed": "false"
   },
   "outputs": [],
   "source": []
  },
  {
   "cell_type": "code",
   "execution_count": null,
   "metadata": {
    "Collapsed": "false"
   },
   "outputs": [],
   "source": [
    "savedir='/mnt/c/code/side/plotter_images/oned_outputs'\n",
    "filename = '0151_strogatz_graphs.svg'"
   ]
  },
  {
   "cell_type": "code",
   "execution_count": null,
   "metadata": {
    "Collapsed": "false"
   },
   "outputs": [],
   "source": [
    "savepath = Path(savedir).joinpath(filename).as_posix()\n",
    "sk.save(savepath)"
   ]
  },
  {
   "cell_type": "markdown",
   "metadata": {
    "Collapsed": "false"
   },
   "source": [
    "# strogatz"
   ]
  },
  {
   "cell_type": "code",
   "execution_count": null,
   "metadata": {
    "Collapsed": "false"
   },
   "outputs": [],
   "source": [
    "# make page\n",
    "paper_size = '23.42x16.92 inches'\n",
    "border:float=35\n",
    "paper = utils.Paper(paper_size)\n",
    "\n",
    "drawbox = paper.get_drawbox(border)"
   ]
  },
  {
   "cell_type": "code",
   "execution_count": null,
   "metadata": {
    "Collapsed": "false"
   },
   "outputs": [],
   "source": [
    "DEGREE = 33\n",
    "SCALE = 8\n",
    "(xbins, ybins), (xs, ys) = gp.overlay_grid(drawbox, xstep=20, ystep=20, flatmesh=True)"
   ]
  },
  {
   "cell_type": "code",
   "execution_count": null,
   "metadata": {
    "Collapsed": "false"
   },
   "outputs": [],
   "source": [
    "p_gen = lambda x: np.interp(x, [xs.min(), xs.max()], [0., 0.6] )\n",
    "_p_gen = gp.make_callable(p_gen)"
   ]
  },
  {
   "cell_type": "code",
   "execution_count": null,
   "metadata": {
    "Collapsed": "false"
   },
   "outputs": [],
   "source": [
    "k_gen = 2\n",
    "_k_gen = gp.make_callable(k_gen)"
   ]
  },
  {
   "cell_type": "code",
   "execution_count": null,
   "metadata": {
    "Collapsed": "false"
   },
   "outputs": [],
   "source": [
    "df = pd.DataFrame({\n",
    "    'x':xs,\n",
    "    'y':ys,\n",
    "    'k':_k_gen(xs),\n",
    "    'p':_p_gen(xs)\n",
    "})\n",
    "df['k'] = df['k'].astype(int)"
   ]
  },
  {
   "cell_type": "code",
   "execution_count": null,
   "metadata": {
    "Collapsed": "false"
   },
   "outputs": [],
   "source": [
    "new_rows = []\n",
    "for i, row in df.iterrows():\n",
    "    k = row['k'].astype(int)\n",
    "    G = nx.connected_watts_strogatz_graph(n=DEGREE, k=k, p=row['p'])\n",
    "    gg = GraphGram(graph=G, layout_method='spring_layout',\n",
    "                   xoff=row['x'], yoff=row['y'], scale=SCALE)\n",
    "    \n",
    "    bezs = []\n",
    "    for ls in gg.lines:\n",
    "        bez = gp.LineString_to_jittered_bezier(\n",
    "            ls, xstd=0., ystd=0., normalized=True, n_eval_points=2)\n",
    "        bezs.append(bez)\n",
    "    bezs = gp.merge_LineStrings(bezs)\n",
    "    new_row = row.to_dict()\n",
    "    new_row['geometry'] = bezs\n",
    "    new_rows.append(new_row)\n",
    "    \n",
    "gdf = geopandas.GeoDataFrame(new_rows)\n",
    "layers = []\n",
    "layers.append(gp.merge_LineStrings(gdf.geometry))"
   ]
  },
  {
   "cell_type": "code",
   "execution_count": null,
   "metadata": {
    "Collapsed": "false"
   },
   "outputs": [],
   "source": [
    "sk = vsketch.Vsketch()\n",
    "sk.size(paper.page_format_mm)\n",
    "sk.scale('1mm')\n",
    "for i, layer in enumerate(layers):\n",
    "    sk.stroke(i+1)\n",
    "    sk.geometry(layer)\n",
    "\n",
    "tolerance= 0.5\n",
    "sk.vpype(f'linemerge --tolerance {tolerance}mm linesort')\n",
    "\n",
    "sk.display()"
   ]
  },
  {
   "cell_type": "code",
   "execution_count": null,
   "metadata": {
    "Collapsed": "false"
   },
   "outputs": [],
   "source": [
    "savedir='/mnt/c/code/side/plotter_images/oned_outputs'\n",
    "filename = '0151_strogatz_graphs.svg'"
   ]
  },
  {
   "cell_type": "code",
   "execution_count": null,
   "metadata": {
    "Collapsed": "false"
   },
   "outputs": [],
   "source": [
    "savepath = Path(savedir).joinpath(filename).as_posix()\n",
    "sk.save(savepath)"
   ]
  }
 ],
 "metadata": {
  "kernelspec": {
   "display_name": "Python [conda env:genpen]",
   "language": "python",
   "name": "conda-env-genpen-py"
  },
  "language_info": {
   "codemirror_mode": {
    "name": "ipython",
    "version": 3
   },
   "file_extension": ".py",
   "mimetype": "text/x-python",
   "name": "python",
   "nbconvert_exporter": "python",
   "pygments_lexer": "ipython3",
   "version": "3.8.8"
  }
 },
 "nbformat": 4,
 "nbformat_minor": 4
}

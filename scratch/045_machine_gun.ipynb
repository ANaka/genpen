{
 "cells": [
  {
   "cell_type": "code",
   "execution_count": null,
   "id": "b0f12abf-6772-4e65-bb6e-f5d7942ae08f",
   "metadata": {
    "tags": []
   },
   "outputs": [],
   "source": [
    "\n",
    "import itertools\n",
    "import numpy as np\n",
    "import os\n",
    "import seaborn as sns\n",
    "from tqdm import tqdm\n",
    "from dataclasses import asdict, dataclass, field\n",
    "import vsketch\n",
    "import shapely.geometry as sg\n",
    "from shapely.geometry import box, MultiLineString, Point, MultiPoint, Polygon, MultiPolygon, LineString\n",
    "import shapely.affinity as sa\n",
    "import shapely.ops as so\n",
    "import matplotlib.pyplot as plt\n",
    "import pandas as pd\n",
    "\n",
    "import vpype_cli\n",
    "from typing import List, Generic\n",
    "from genpen import genpen as gp\n",
    "from genpen.utils import Paper\n",
    "from scipy import stats as ss\n",
    "import geopandas\n",
    "from shapely.errors import TopologicalError\n",
    "import functools\n",
    "import vpype\n",
    "from skimage import io\n",
    "from pathlib import Path\n",
    "\n",
    "from sklearn.preprocessing import minmax_scale\n",
    "from skimage import feature\n",
    "from skimage import exposure\n",
    "\n",
    "from skimage import filters\n",
    "from skimage.color import rgb2gray\n",
    "from skimage.transform import rescale, resize, downscale_local_mean\n",
    "from skimage.morphology import disk\n",
    "from pyaxidraw import axidraw   # import module\n",
    "\n",
    "from PIL import Image\n",
    "\n",
    "import fn\n",
    "import cv2\n",
    "\n",
    "from genpen.flow.field import *\n",
    "from genpen.flow.particle import *\n",
    "from genpen.genpen import random_line_subdivide_gen\n",
    "\n",
    "import time\n",
    "\n",
    "%load_ext autoreload\n",
    "%autoreload 2"
   ]
  },
  {
   "cell_type": "markdown",
   "id": "4f740a8b-0977-4068-ab96-03773819eb72",
   "metadata": {},
   "source": [
    "# more complex"
   ]
  },
  {
   "cell_type": "code",
   "execution_count": null,
   "id": "8e7dc4a4-045a-4b3d-817c-27b43a92012e",
   "metadata": {},
   "outputs": [],
   "source": [
    "\n",
    "paper_size:str = '6x5.99 inches'\n",
    "border:float=15  # mm\n",
    "savedir='/home/naka/art/plotter_svgs'"
   ]
  },
  {
   "cell_type": "code",
   "execution_count": null,
   "id": "cd237a7b-addf-419a-92d4-2d718531a6ab",
   "metadata": {},
   "outputs": [],
   "source": [
    "# make page\n",
    "paper = Paper(paper_size)\n",
    "drawbox = paper.get_drawbox(border)\n"
   ]
  },
  {
   "cell_type": "code",
   "execution_count": null,
   "id": "e3ae3359-bcec-4bd2-adc5-21e79d24071e",
   "metadata": {},
   "outputs": [],
   "source": [
    "center = drawbox.centroid"
   ]
  },
  {
   "cell_type": "code",
   "execution_count": null,
   "id": "38e48209-fca5-4a85-ae21-255f72d6e482",
   "metadata": {},
   "outputs": [],
   "source": [
    "db = gp.Shape(drawbox)"
   ]
  },
  {
   "cell_type": "code",
   "execution_count": null,
   "id": "e402270c-96f8-40b5-bcc9-d8f498916f53",
   "metadata": {},
   "outputs": [],
   "source": [
    "drawbox.bounds"
   ]
  },
  {
   "cell_type": "code",
   "execution_count": null,
   "id": "85ca4548-705a-4a5c-a020-200ef0297c56",
   "metadata": {},
   "outputs": [],
   "source": []
  },
  {
   "cell_type": "code",
   "execution_count": null,
   "id": "b98af9ab-4ebd-41f6-a8c5-13042f811d7f",
   "metadata": {},
   "outputs": [],
   "source": [
    "corner = Point(35,center.y)"
   ]
  },
  {
   "cell_type": "code",
   "execution_count": null,
   "id": "2e0895f1-029a-4778-b5e5-8b351cb953c0",
   "metadata": {},
   "outputs": [],
   "source": [
    "n_circles = 3\n",
    "xcenter = 100\n",
    "yrange = np.linspace(db.bottom+30, db.top-30, n_circles)"
   ]
  },
  {
   "cell_type": "code",
   "execution_count": null,
   "id": "e41696c5-f523-4129-9d0f-4630c06d370d",
   "metadata": {},
   "outputs": [],
   "source": [
    "pts = [Point(xcenter, y) for y in yrange]"
   ]
  },
  {
   "cell_type": "code",
   "execution_count": null,
   "id": "e510a09b-31cd-4e96-9aef-ad45f4f99089",
   "metadata": {},
   "outputs": [],
   "source": [
    "radmin = 20\n",
    "radmax = 20\n",
    "rads = np.linspace(radmin, radmax, len(pts))\n",
    "circles = [pt.buffer(d) for d,pt in zip(rads, pts)]"
   ]
  },
  {
   "cell_type": "code",
   "execution_count": null,
   "id": "7af35e46-a67a-4d00-b393-934e14707cad",
   "metadata": {},
   "outputs": [],
   "source": [
    "prms = gp.ScaleTransPrms(n_iters=300)"
   ]
  },
  {
   "cell_type": "code",
   "execution_count": null,
   "id": "c1ffe4ec-32e0-4f30-8aaf-efe2c1ebb052",
   "metadata": {},
   "outputs": [],
   "source": [
    "cs = [gp.Poly(c) for c in circles]"
   ]
  },
  {
   "cell_type": "code",
   "execution_count": null,
   "id": "8524e7c4-2052-475b-8d54-366dd4aab871",
   "metadata": {},
   "outputs": [],
   "source": [
    "for c in cs:\n",
    "    c.fill_hatch(angle=0, spacing=0.25)"
   ]
  },
  {
   "cell_type": "code",
   "execution_count": null,
   "id": "2db0101c-e7cb-423e-84e1-08ef61e3c17d",
   "metadata": {},
   "outputs": [],
   "source": [
    "fillsets"
   ]
  },
  {
   "cell_type": "code",
   "execution_count": null,
   "id": "12d83651-3862-41c4-9071-2696dc19fb6f",
   "metadata": {},
   "outputs": [],
   "source": [
    "fillsets = [c.fill for c in cs]\n",
    "shotsets = []\n",
    "for fills in fillsets:\n",
    "    gun_pts = [corner] * len(fills)\n",
    "    substring_start_ds = ss.uniform(loc=0.05, scale=0.25).rvs\n",
    "    substring_len_ds = ss.uniform(loc=0.4, scale=0.3).rvs\n",
    "    shots = shoot_it(\n",
    "        linestrings=fills, \n",
    "        gun_pts=gun_pts, \n",
    "        substring_start_ds=substring_start_ds, \n",
    "        substring_len_ds=substring_len_ds)\n",
    "    shotsets.append(shots)"
   ]
  },
  {
   "cell_type": "code",
   "execution_count": null,
   "id": "17f74cf2-904d-4b63-a1df-d0da0ce14eb5",
   "metadata": {},
   "outputs": [],
   "source": [
    "def shoot_it(linestrings, gun_pts, substring_start_ds, substring_len_ds):\n",
    "    substrings = []\n",
    "    for ii, ls in enumerate(linestrings):\n",
    "        endpt = ls.interpolate(np.random.uniform(), normalized=True)\n",
    "        connection = LineString((gun_pts[ii], endpt))\n",
    "        substring_start_d = substring_start_ds()\n",
    "        substring_end_d = substring_start_d + substring_len_ds()\n",
    "        substring_start = connection.interpolate(substring_start_d, normalized=True)\n",
    "        substring_end = connection.interpolate(substring_end_d, normalized=True)\n",
    "        substring = LineString((substring_start, substring_end))\n",
    "        substrings.append(substring)\n",
    "    substrings = gp.merge_LineStrings(substrings)\n",
    "    return substrings"
   ]
  },
  {
   "cell_type": "code",
   "execution_count": null,
   "id": "9c034ac6-bdf8-4710-80aa-5218b23b7734",
   "metadata": {
    "Collapsed": "false"
   },
   "outputs": [],
   "source": [
    "\n",
    "\n",
    "   \n",
    "sk = vsketch.Vsketch()\n",
    "sk.size(paper.page_format_mm)\n",
    "sk.scale('1mm')\n",
    "sk.penWidth('0.5mm')\n",
    "counter = 1\n",
    "\n",
    "for shots, fills in zip(shotsets, fillsets):\n",
    "    for s,f, in zip(shots, fills):\n",
    "        sk.stroke(counter)\n",
    "        sk.geometry(s)\n",
    "        counter += 1\n",
    "        sk.stroke(counter)\n",
    "        sk.geometry(f)\n",
    "        counter += 1\n",
    "    \n",
    "    \n",
    "# tolerance=0.5\n",
    "sk.display()"
   ]
  },
  {
   "cell_type": "code",
   "execution_count": null,
   "id": "9c89ff22-85d9-4db6-aced-e51a906ffa22",
   "metadata": {},
   "outputs": [],
   "source": [
    "filename = fn.Fn(postfix='-machine_gun.svg', git_sha_size=5, pid_sha_size=6).name(utc=False, milli=False)"
   ]
  },
  {
   "cell_type": "code",
   "execution_count": null,
   "id": "88719114-b11d-4eb3-88d3-4f1230461f8b",
   "metadata": {},
   "outputs": [],
   "source": [
    "savepath = Path(savedir).joinpath(filename).as_posix()\n",
    "sk.save(savepath)"
   ]
  },
  {
   "cell_type": "code",
   "execution_count": null,
   "id": "3a315944-43ca-427c-b065-dfc32ebc41e7",
   "metadata": {},
   "outputs": [],
   "source": []
  }
 ],
 "metadata": {
  "kernelspec": {
   "display_name": "Python [conda env:genpen]",
   "language": "python",
   "name": "conda-env-genpen-py"
  },
  "language_info": {
   "codemirror_mode": {
    "name": "ipython",
    "version": 3
   },
   "file_extension": ".py",
   "mimetype": "text/x-python",
   "name": "python",
   "nbconvert_exporter": "python",
   "pygments_lexer": "ipython3",
   "version": "3.8.8"
  }
 },
 "nbformat": 4,
 "nbformat_minor": 5
}

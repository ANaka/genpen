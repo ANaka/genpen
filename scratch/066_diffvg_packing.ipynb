{
 "cells": [
  {
   "cell_type": "code",
   "execution_count": 1,
   "id": "59f5e1c8-8335-43a2-be12-64bf1581343e",
   "metadata": {},
   "outputs": [],
   "source": [
    "\n",
    "import itertools\n",
    "import numpy as np\n",
    "import os\n",
    "import seaborn as sns\n",
    "from tqdm import tqdm\n",
    "from dataclasses import asdict, dataclass, field\n",
    "import vsketch\n",
    "import shapely.geometry as sg\n",
    "from shapely.geometry import box, MultiLineString, Point, MultiPoint, Polygon, MultiPolygon, LineString\n",
    "import shapely.affinity as sa\n",
    "import shapely.ops as so\n",
    "import matplotlib.pyplot as plt\n",
    "import pandas as pd\n",
    "\n",
    "import vpype_cli\n",
    "from typing import List, Generic\n",
    "from genpen import genpen as gp\n",
    "from genpen.utils import Paper\n",
    "from scipy import stats\n",
    "import geopandas\n",
    "from shapely.errors import TopologicalError\n",
    "import functools\n",
    "import vpype\n",
    "from skimage import io\n",
    "from pathlib import Path\n",
    "\n",
    "from sklearn.preprocessing import minmax_scale\n",
    "from skimage import feature\n",
    "from skimage import exposure\n",
    "from torch import Tensor\n",
    "from torch import nn\n",
    "from skimage import filters\n",
    "from skimage.color import rgb2gray\n",
    "from skimage.transform import rescale, resize, downscale_local_mean\n",
    "from skimage.morphology import disk\n",
    "from numpy.random import default_rng\n",
    "\n",
    "\n",
    "from PIL import Image\n",
    "import attr\n",
    "\n",
    "import cv2\n",
    "from rasterio import features\n",
    "import rasterio\n",
    "%load_ext autoreload\n",
    "%autoreload 2"
   ]
  },
  {
   "cell_type": "code",
   "execution_count": 2,
   "id": "7b7ad548-3d23-4200-b68d-6d16933f9b76",
   "metadata": {},
   "outputs": [],
   "source": [
    "import pydiffvg as dg\n",
    "import torch\n",
    "import skimage\n",
    "import numpy as np\n",
    "from torchvision.transforms import functional as TF\n",
    "from IPython import display\n",
    "from copy import deepcopy\n",
    "import fn\n",
    "import torch.nn.functional as F"
   ]
  },
  {
   "cell_type": "code",
   "execution_count": 3,
   "id": "4198d501",
   "metadata": {},
   "outputs": [],
   "source": [
    "import torch\n",
    "import contextlib\n",
    "\n",
    "# https://github.com/aliutkus/torchinterp1d/blob/master/torchinterp1d/interp1d.py\n",
    "\n",
    "class Interp1d(torch.autograd.Function):\n",
    "    def __call__(self, x, y, xnew, out=None):\n",
    "        return self.forward(x, y, xnew, out)\n",
    "\n",
    "    def forward(ctx, x, y, xnew, out=None):\n",
    "        \"\"\"\n",
    "        Linear 1D interpolation on the GPU for Pytorch.\n",
    "        This function returns interpolated values of a set of 1-D functions at\n",
    "        the desired query points `xnew`.\n",
    "        This function is working similarly to Matlab™ or scipy functions with\n",
    "        the `linear` interpolation mode on, except that it parallelises over\n",
    "        any number of desired interpolation problems.\n",
    "        The code will run on GPU if all the tensors provided are on a cuda\n",
    "        device.\n",
    "        Parameters\n",
    "        ----------\n",
    "        x : (N, ) or (D, N) Pytorch Tensor\n",
    "            A 1-D or 2-D tensor of real values.\n",
    "        y : (N,) or (D, N) Pytorch Tensor\n",
    "            A 1-D or 2-D tensor of real values. The length of `y` along its\n",
    "            last dimension must be the same as that of `x`\n",
    "        xnew : (P,) or (D, P) Pytorch Tensor\n",
    "            A 1-D or 2-D tensor of real values. `xnew` can only be 1-D if\n",
    "            _both_ `x` and `y` are 1-D. Otherwise, its length along the first\n",
    "            dimension must be the same as that of whichever `x` and `y` is 2-D.\n",
    "        out : Pytorch Tensor, same shape as `xnew`\n",
    "            Tensor for the output. If None: allocated automatically.\n",
    "        \"\"\"\n",
    "        # making the vectors at least 2D\n",
    "        is_flat = {}\n",
    "        require_grad = {}\n",
    "        v = {}\n",
    "        device = []\n",
    "        eps = torch.finfo(y.dtype).eps\n",
    "        for name, vec in {'x': x, 'y': y, 'xnew': xnew}.items():\n",
    "            assert len(vec.shape) <= 2, 'interp1d: all inputs must be '\\\n",
    "                                        'at most 2-D.'\n",
    "            if len(vec.shape) == 1:\n",
    "                v[name] = vec[None, :]\n",
    "            else:\n",
    "                v[name] = vec\n",
    "            is_flat[name] = v[name].shape[0] == 1\n",
    "            require_grad[name] = vec.requires_grad\n",
    "            device = list(set(device + [str(vec.device)]))\n",
    "        assert len(device) == 1, 'All parameters must be on the same device.'\n",
    "        device = device[0]\n",
    "\n",
    "        # Checking for the dimensions\n",
    "        assert (v['x'].shape[1] == v['y'].shape[1]\n",
    "                and (\n",
    "                     v['x'].shape[0] == v['y'].shape[0]\n",
    "                     or v['x'].shape[0] == 1\n",
    "                     or v['y'].shape[0] == 1\n",
    "                    )\n",
    "                ), (\"x and y must have the same number of columns, and either \"\n",
    "                    \"the same number of row or one of them having only one \"\n",
    "                    \"row.\")\n",
    "\n",
    "        reshaped_xnew = False\n",
    "        if ((v['x'].shape[0] == 1) and (v['y'].shape[0] == 1)\n",
    "           and (v['xnew'].shape[0] > 1)):\n",
    "            # if there is only one row for both x and y, there is no need to\n",
    "            # loop over the rows of xnew because they will all have to face the\n",
    "            # same interpolation problem. We should just stack them together to\n",
    "            # call interp1d and put them back in place afterwards.\n",
    "            original_xnew_shape = v['xnew'].shape\n",
    "            v['xnew'] = v['xnew'].contiguous().view(1, -1)\n",
    "            reshaped_xnew = True\n",
    "\n",
    "        # identify the dimensions of output and check if the one provided is ok\n",
    "        D = max(v['x'].shape[0], v['xnew'].shape[0])\n",
    "        shape_ynew = (D, v['xnew'].shape[-1])\n",
    "        if out is not None:\n",
    "            if out.numel() != shape_ynew[0]*shape_ynew[1]:\n",
    "                # The output provided is of incorrect shape.\n",
    "                # Going for a new one\n",
    "                out = None\n",
    "            else:\n",
    "                ynew = out.reshape(shape_ynew)\n",
    "        if out is None:\n",
    "            ynew = torch.zeros(*shape_ynew, device=device)\n",
    "\n",
    "        # moving everything to the desired device in case it was not there\n",
    "        # already (not handling the case things do not fit entirely, user will\n",
    "        # do it if required.)\n",
    "        for name in v:\n",
    "            v[name] = v[name].to(device)\n",
    "\n",
    "        # calling searchsorted on the x values.\n",
    "        ind = ynew.long()\n",
    "\n",
    "        # expanding xnew to match the number of rows of x in case only one xnew is\n",
    "        # provided\n",
    "        if v['xnew'].shape[0] == 1:\n",
    "            v['xnew'] = v['xnew'].expand(v['x'].shape[0], -1)\n",
    "\n",
    "        torch.searchsorted(v['x'].contiguous(),\n",
    "                           v['xnew'].contiguous(), out=ind)\n",
    "\n",
    "        # the `-1` is because searchsorted looks for the index where the values\n",
    "        # must be inserted to preserve order. And we want the index of the\n",
    "        # preceeding value.\n",
    "        ind -= 1\n",
    "        # we clamp the index, because the number of intervals is x.shape-1,\n",
    "        # and the left neighbour should hence be at most number of intervals\n",
    "        # -1, i.e. number of columns in x -2\n",
    "        ind = torch.clamp(ind, 0, v['x'].shape[1] - 1 - 1)\n",
    "\n",
    "        # helper function to select stuff according to the found indices.\n",
    "        def sel(name):\n",
    "            if is_flat[name]:\n",
    "                return v[name].contiguous().view(-1)[ind]\n",
    "            return torch.gather(v[name], 1, ind)\n",
    "\n",
    "        # activating gradient storing for everything now\n",
    "        enable_grad = False\n",
    "        saved_inputs = []\n",
    "        for name in ['x', 'y', 'xnew']:\n",
    "            if require_grad[name]:\n",
    "                enable_grad = True\n",
    "                saved_inputs += [v[name]]\n",
    "            else:\n",
    "                saved_inputs += [None, ]\n",
    "        # assuming x are sorted in the dimension 1, computing the slopes for\n",
    "        # the segments\n",
    "        is_flat['slopes'] = is_flat['x']\n",
    "        # now we have found the indices of the neighbors, we start building the\n",
    "        # output. Hence, we start also activating gradient tracking\n",
    "        with torch.enable_grad() if enable_grad else contextlib.suppress():\n",
    "            v['slopes'] = (\n",
    "                    (v['y'][:, 1:]-v['y'][:, :-1])\n",
    "                    /\n",
    "                    (eps + (v['x'][:, 1:]-v['x'][:, :-1]))\n",
    "                )\n",
    "\n",
    "            # now build the linear interpolation\n",
    "            ynew = sel('y') + sel('slopes')*(\n",
    "                                    v['xnew'] - sel('x'))\n",
    "\n",
    "            if reshaped_xnew:\n",
    "                ynew = ynew.view(original_xnew_shape)\n",
    "\n",
    "        ctx.save_for_backward(ynew, *saved_inputs)\n",
    "        return ynew\n",
    "\n",
    "    @staticmethod\n",
    "    def backward(ctx, grad_out):\n",
    "        inputs = ctx.saved_tensors[1:]\n",
    "        gradients = torch.autograd.grad(\n",
    "                        ctx.saved_tensors[0],\n",
    "                        [i for i in inputs if i is not None],\n",
    "                        grad_out, retain_graph=True)\n",
    "        result = [None, ] * 5\n",
    "        pos = 0\n",
    "        for index in range(len(inputs)):\n",
    "            if inputs[index] is not None:\n",
    "                result[index] = gradients[pos]\n",
    "                pos += 1\n",
    "        return (*result,)"
   ]
  },
  {
   "cell_type": "code",
   "execution_count": 4,
   "id": "fe9d8070-9a47-4e8d-90ee-ef4d3d992606",
   "metadata": {},
   "outputs": [],
   "source": [
    "def finalize_image(img, gamma = 2.2, normalize = False, as_Image=False):\n",
    "    if not isinstance(img, np.ndarray):\n",
    "        img = img.data.numpy()\n",
    "    if normalize:\n",
    "        img_rng = np.max(img) - np.min(img)\n",
    "        if img_rng > 0:\n",
    "            img = (img - np.min(img)) / img_rng\n",
    "    img = np.clip(img, 0.0, 1.0)\n",
    "    if img.ndim==2:\n",
    "        #repeat along the third dimension\n",
    "        img=np.expand_dims(img,2)\n",
    "    img[:, :, :3] = np.power(img[:, :, :3], 1.0/gamma)\n",
    "    img = (img * 255).astype(np.uint8)\n",
    "    if as_Image:\n",
    "        img = Image.fromarray(img)\n",
    "    return img"
   ]
  },
  {
   "cell_type": "code",
   "execution_count": 5,
   "id": "1d547ad4-93ac-476d-b7f4-a9f078742032",
   "metadata": {},
   "outputs": [],
   "source": [
    "class LineTensor(object):\n",
    "    \n",
    "    def __init__(\n",
    "        self,\n",
    "        linestring,\n",
    "    ):\n",
    "        self.init_ls = linestring\n",
    "        self.pts = [p for p in self.init_ls.coords]\n",
    "        self.tensor = torch.tensor(self.pts, requires_grad=True)\n",
    "        self.init_loc_pt = self.ls.centroid\n",
    "        self.init_loc_tensor = torch.tensor(np.array(self.init_loc_pt), requires_grad=True)\n",
    "        \n",
    "    @property\n",
    "    def ls(self):\n",
    "        return LineString(self.tensor.cpu().data.numpy())"
   ]
  },
  {
   "cell_type": "markdown",
   "id": "ebbddd94-e46f-47b2-a4a9-ceed953d47aa",
   "metadata": {},
   "source": [
    "# diffvg"
   ]
  },
  {
   "cell_type": "code",
   "execution_count": null,
   "id": "e28874d7-f548-4947-87f5-637e2e7fb2cc",
   "metadata": {},
   "outputs": [],
   "source": []
  },
  {
   "cell_type": "code",
   "execution_count": 6,
   "id": "6d4b0498-c89b-4334-b192-ff2de57bd621",
   "metadata": {},
   "outputs": [],
   "source": [
    "# Use GPU if available\n",
    "dg.set_use_gpu(torch.cuda.is_available())"
   ]
  },
  {
   "cell_type": "code",
   "execution_count": 7,
   "id": "3304d9a5-5afd-4f2e-9e00-fcc66ae993b7",
   "metadata": {},
   "outputs": [],
   "source": [
    "width = 1200\n",
    "height = 1600\n",
    "drawbox = box(0, 0, width, height)\n",
    "db = gp.Shape(drawbox)"
   ]
  },
  {
   "cell_type": "code",
   "execution_count": 8,
   "id": "9a9bd3a0-b368-488c-83a6-e2738e46afea",
   "metadata": {},
   "outputs": [],
   "source": [
    "drawbox = box(0, 0, width, height)\n",
    "db = gp.Shape(drawbox)"
   ]
  },
  {
   "cell_type": "code",
   "execution_count": 9,
   "id": "d9c7d985-7558-4e6d-8644-ebb70a6b4e3a",
   "metadata": {},
   "outputs": [],
   "source": [
    "out_shape = np.array((db.height, db.width)).round().astype(int)"
   ]
  },
  {
   "cell_type": "code",
   "execution_count": 10,
   "id": "675499ce-8610-44ee-9356-45ae41bf6b5f",
   "metadata": {},
   "outputs": [
    {
     "name": "stdout",
     "output_type": "stream",
     "text": [
      "saved 20220705-203847_835329-c759e-badc37 to s3://algorithmic-ink/current_nft_id\n"
     ]
    }
   ],
   "source": [
    "nft_id = fn.new_nft_id()\n",
    "\n",
    "raster_videos_dir = Path('/home/naka/art/raster_videos')\n",
    "nft_dir = raster_videos_dir.joinpath(nft_id)\n",
    "\n",
    "if not nft_dir.exists():\n",
    "    os.mkdir(nft_dir) \n",
    "    "
   ]
  },
  {
   "cell_type": "markdown",
   "id": "12835c76-4d62-4b0e-a5b8-f1df4fa4ce7e",
   "metadata": {},
   "source": [
    "# single"
   ]
  },
  {
   "cell_type": "code",
   "execution_count": 11,
   "id": "6ece9c36",
   "metadata": {},
   "outputs": [
    {
     "data": {
      "image/svg+xml": "<svg xmlns=\"http://www.w3.org/2000/svg\" xmlns:xlink=\"http://www.w3.org/1999/xlink\" />",
      "text/plain": [
       "<shapely.geometry.point.Point at 0x7fd400031df0>"
      ]
     },
     "execution_count": 11,
     "metadata": {},
     "output_type": "execute_result"
    }
   ],
   "source": [
    "Point()"
   ]
  },
  {
   "cell_type": "code",
   "execution_count": 11,
   "id": "984d109b",
   "metadata": {},
   "outputs": [],
   "source": [
    "@attr.define()\n",
    "class CircleP(object):\n",
    "    center: Tensor = Tensor((0., 0.))\n",
    "    radius: Tensor = Tensor((1.,))\n",
    "    stroke_width: Tensor = Tensor((1.,))\n",
    "    color: Tensor = Tensor((1., 1., 1., 1.))\n",
    "    \n",
    "    \n",
    "    def requires_grad(self, requires_grad=True):\n",
    "        self.center.requires_grad = requires_grad\n",
    "        self.radius.requires_grad = requires_grad\n",
    "        self.stroke_width.requires_grad = requires_grad\n",
    "        self.color.requires_grad = requires_grad\n",
    "        return self"
   ]
  },
  {
   "cell_type": "code",
   "execution_count": 12,
   "id": "6c378ec2",
   "metadata": {},
   "outputs": [],
   "source": [
    "CANVAS_WIDTH = 800\n",
    "CANVAS_HEIGHT = 800\n",
    "DRAW_WHITE_BACKGROUND = False"
   ]
  },
  {
   "cell_type": "code",
   "execution_count": 13,
   "id": "40e07c4a",
   "metadata": {},
   "outputs": [],
   "source": [
    "def render_circles(cc, multiplier=1):\n",
    "    \"\"\"Render circles to image.\n",
    "\n",
    "    Args:\n",
    "      centers: points defining the lines\n",
    "      stroke_widths: the widths of the lines\n",
    "      all_colors: line colours\n",
    "      multiplier: scale factor to enlarge drawing\n",
    "\n",
    "    Returns:\n",
    "      image with lines drawn\n",
    "    \"\"\"\n",
    "    # Store `centers` definitions as shapes, colours and widths.\n",
    "    shapes = []\n",
    "    shape_groups = []\n",
    "    for c in cc:\n",
    "      center = c.center.contiguous().cpu()\n",
    "      radius = c.radius.cpu()\n",
    "      width = c.stroke_width.cpu()\n",
    "      color = c.color.cpu()\n",
    "      path = dg.Circle(\n",
    "          radius=radius*multiplier, \n",
    "          center=center * multiplier,\n",
    "          stroke_width=width * multiplier\n",
    "          )\n",
    "      shapes.append(path)\n",
    "      path_group = dg.ShapeGroup(\n",
    "          shape_ids=torch.tensor([len(shapes) - 1]),\n",
    "          fill_color=None,\n",
    "          stroke_color=color)\n",
    "      shape_groups.append(path_group)\n",
    "\n",
    "    # Rasterize the image.\n",
    "    scene_args = dg.RenderFunction.serialize_scene(\n",
    "        CANVAS_WIDTH * multiplier,\n",
    "        CANVAS_HEIGHT * multiplier,\n",
    "        shapes, shape_groups)\n",
    "    img = dg.RenderFunction.apply(\n",
    "        CANVAS_WIDTH * multiplier,\n",
    "        CANVAS_HEIGHT * multiplier,\n",
    "        2, 2, 0, None, *scene_args)\n",
    "    if DRAW_WHITE_BACKGROUND:\n",
    "      w, h = img.shape[0], img.shape[1]\n",
    "      img = img[:, :, 3:4] * img[:, :, :3] + (\n",
    "          torch.ones(w, h, 3, device=dg.get_device()) * (1-img[:, :, 3:4]))\n",
    "    else:\n",
    "      img = img[:, :, :3]\n",
    "    img = img.unsqueeze(0)\n",
    "\n",
    "    return img"
   ]
  },
  {
   "cell_type": "code",
   "execution_count": 14,
   "id": "6448b5d8",
   "metadata": {},
   "outputs": [],
   "source": [
    "def to_pil(img):\n",
    "    return TF.to_pil_image(img.detach().cpu().squeeze().permute(2, 0, 1))"
   ]
  },
  {
   "cell_type": "code",
   "execution_count": 15,
   "id": "37526cd7",
   "metadata": {},
   "outputs": [],
   "source": [
    "class CircleCollection(nn.Module):\n",
    "    \n",
    "    def __init__(self, centers, radii, stroke_widths, colors):\n",
    "        super().__init__()\n",
    "        self.centers = centers\n",
    "        self.radii = radii\n",
    "        self.stroke_widths = stroke_widths\n",
    "        self.colors = colors\n",
    "        \n",
    "    @classmethod\n",
    "    def from_arrays(cls, centers, radii, stroke_widths, colors):\n",
    "        centers = torch.tensor(centers, requires_grad=True)\n",
    "        radii = torch.tensor(radii, requires_grad=True)\n",
    "        stroke_widths = torch.tensor(stroke_widths, requires_grad=True)\n",
    "        colors = torch.tensor(colors, requires_grad=True)\n",
    "        return cls(centers, radii, stroke_widths, colors)\n",
    "        \n",
    "    @property\n",
    "    def n_circles(self):\n",
    "        return self.centers.shape[0]\n",
    "    \n",
    "    def requires_grad(self, requires_grad=True):\n",
    "        self.centers.requires_grad = requires_grad\n",
    "        self.radii.requires_grad = requires_grad\n",
    "        self.stroke_widths.requires_grad = requires_grad\n",
    "        self.colors.requires_grad = requires_grad\n",
    "        return self\n",
    "    \n",
    "    def __getitem__(self, ii):\n",
    "        return CircleP(self.centers[ii], self.radii[ii], self.stroke_widths[ii], self.colors[ii])\n",
    "    \n",
    "    def __iter__(self):\n",
    "        for ii in range(self.n_circles):\n",
    "            yield self[ii]\n",
    "        \n",
    "    def to_circle_ps(self):\n",
    "        circle_ps = []\n",
    "        for ii in range(self.centers.shape[0]):\n",
    "            circle_ps.append(CircleP(\n",
    "                center=self.centers[ii],\n",
    "                radius=self.radii[ii],\n",
    "                stroke_width=self.stroke_widths[ii],\n",
    "                color=self.colors[ii]\n",
    "            ))\n",
    "        return circle_ps\n",
    "        "
   ]
  },
  {
   "cell_type": "code",
   "execution_count": 17,
   "id": "16aaa513",
   "metadata": {},
   "outputs": [
    {
     "data": {
      "text/plain": [
       "0.26622633316160993"
      ]
     },
     "execution_count": 17,
     "metadata": {},
     "output_type": "execute_result"
    }
   ],
   "source": [
    "stats.beta(a=1, b=3).rvs()"
   ]
  },
  {
   "cell_type": "code",
   "execution_count": 18,
   "id": "059a78cf",
   "metadata": {},
   "outputs": [
    {
     "ename": "NameError",
     "evalue": "name 'n_circles' is not defined",
     "output_type": "error",
     "traceback": [
      "\u001b[0;31m---------------------------------------------------------------------------\u001b[0m",
      "\u001b[0;31mNameError\u001b[0m                                 Traceback (most recent call last)",
      "\u001b[1;32m/home/naka/code/side/genpen/scratch/066_diffvg_packing.ipynb Cell 21'\u001b[0m in \u001b[0;36m<cell line: 1>\u001b[0;34m()\u001b[0m\n\u001b[0;32m----> <a href='vscode-notebook-cell:/home/naka/code/side/genpen/scratch/066_diffvg_packing.ipynb#ch0000020?line=0'>1</a>\u001b[0m n_outputs \u001b[39m=\u001b[39m n_circles\n",
      "\u001b[0;31mNameError\u001b[0m: name 'n_circles' is not defined"
     ]
    }
   ],
   "source": [
    "n_outputs = n_circles"
   ]
  },
  {
   "cell_type": "code",
   "execution_count": 16,
   "id": "42388b2e",
   "metadata": {},
   "outputs": [],
   "source": [
    "def LazyRelu(input_size):\n",
    "    return nn.Sequential(\n",
    "        nn.LazyLinear(input_size),\n",
    "        nn.ReLU(),\n",
    "    )\n",
    "    \n",
    "def LazyHardsigmoid(input_size):\n",
    "    return nn.Sequential(\n",
    "        nn.LazyLinear(input_size),\n",
    "        nn.Hardsigmoid(),\n",
    "    )\n",
    "    \n",
    "def LazyTanh(input_size):\n",
    "    return nn.Sequential(\n",
    "        nn.LazyLinear(input_size),\n",
    "        nn.Tanh(),\n",
    "    )"
   ]
  },
  {
   "cell_type": "code",
   "execution_count": 17,
   "id": "ba91dfce",
   "metadata": {},
   "outputs": [],
   "source": [
    "def init_weights(m):\n",
    "    if isinstance(m, nn.Linear):\n",
    "        torch.nn.init.xavier_uniform(m.weight)\n",
    "        m.bias.data.fill_(0.01)"
   ]
  },
  {
   "cell_type": "code",
   "execution_count": 18,
   "id": "dfbd6882",
   "metadata": {},
   "outputs": [],
   "source": [
    "class CircleNet(nn.Module):\n",
    "    \n",
    "    \n",
    "    def __init__(\n",
    "        self, \n",
    "        n_circles,\n",
    "        x_range,\n",
    "        y_range,\n",
    "        rad_range,\n",
    "        init_centers=None,\n",
    "        init_radii=None,\n",
    "        ):\n",
    "        super().__init__()\n",
    "        self.n_circles = n_circles\n",
    "        self.xmin, self.xmax = x_range\n",
    "        self.ymin, self.ymax = y_range\n",
    "        self.radmin, self.radmax = rad_range\n",
    "        \n",
    "        if init_centers is None:\n",
    "            xs = torch.rand(n_circles, 1) * (self.xmax - self.xmin) + self.xmin\n",
    "            ys = torch.rand(n_circles, 1) * (self.ymax - self.ymin) + self.ymin\n",
    "            init_centers = torch.cat([xs, ys], axis=1)\n",
    "        self.init_centers = init_centers\n",
    "        \n",
    "        if init_radii is None:\n",
    "            init_radii = torch.rand(n_circles) * (self.radmax - self.radmin) + self.radmin\n",
    "        self.init_radii = init_radii\n",
    "        \n",
    "        self.net =nn.Sequential(\n",
    "            nn.Linear(0, 128),\n",
    "            nn.ReLU(),\n",
    "            LazyRelu(128),\n",
    "            LazyRelu(128),\n",
    "            LazyRelu(128),\n",
    "        )\n",
    "        \n",
    "        \n",
    "        self.x_outputs = LazyTanh(self.n_circles)\n",
    "        self.y_outputs = LazyTanh(self.n_circles)\n",
    "        self.radius_outputs = LazyTanh(self.n_circles)\n",
    "        \n",
    "        \n",
    "    def initialize_weights(self):\n",
    "        self.forward()\n",
    "        self.net.apply(init_weights)\n",
    "        self.x_outputs.apply(init_weights)\n",
    "        self.y_outputs.apply(init_weights)\n",
    "        self.radius_outputs.apply(init_weights)\n",
    "        \n",
    "    def get_net_output(self):\n",
    "        return self.net(Tensor())\n",
    "        \n",
    "    def get_radii(self, x):\n",
    "        return self.radius_outputs(x) * (self.radmax - self.radmin) * 0.5 + self.init_radii\n",
    "    \n",
    "    def get_xs(self, x):\n",
    "        return self.x_outputs(x).unsqueeze(1) * (self.xmax - self.xmin) * 0.5\n",
    "    \n",
    "    def get_ys(self, x):\n",
    "        return self.y_outputs(x).unsqueeze(1) * (self.ymax - self.ymin) * 0.5 \n",
    "    \n",
    "    def get_centers(self, x):\n",
    "        return torch.cat([self.get_xs(x), self.get_ys(x)], axis=1) + self.init_centers\n",
    "    \n",
    "    def forward(self):\n",
    "        x = self.get_net_output()\n",
    "        centers = self.get_centers(x)\n",
    "        radii = self.get_radii(x)\n",
    "        colors = torch.ones((self.n_circles,4))\n",
    "        stroke_widths = torch.ones((self.n_circles,1)) * 0.4\n",
    "\n",
    "        cc = CircleCollection(centers=centers, radii=radii, stroke_widths=stroke_widths, colors=colors)\n",
    "        return cc\n",
    "        "
   ]
  },
  {
   "cell_type": "code",
   "execution_count": 19,
   "id": "28c2d48f",
   "metadata": {},
   "outputs": [
    {
     "ename": "NameError",
     "evalue": "name 'cc' is not defined",
     "output_type": "error",
     "traceback": [
      "\u001b[0;31m---------------------------------------------------------------------------\u001b[0m",
      "\u001b[0;31mNameError\u001b[0m                                 Traceback (most recent call last)",
      "\u001b[1;32m/home/naka/code/side/genpen/scratch/066_diffvg_packing.ipynb Cell 25'\u001b[0m in \u001b[0;36m<cell line: 1>\u001b[0;34m()\u001b[0m\n\u001b[0;32m----> <a href='vscode-notebook-cell:/home/naka/code/side/genpen/scratch/066_diffvg_packing.ipynb#ch0000024?line=0'>1</a>\u001b[0m cc\u001b[39m.\u001b[39mcenters\n",
      "\u001b[0;31mNameError\u001b[0m: name 'cc' is not defined"
     ]
    }
   ],
   "source": [
    "cc.centers"
   ]
  },
  {
   "cell_type": "code",
   "execution_count": 20,
   "id": "bdacce15",
   "metadata": {},
   "outputs": [
    {
     "name": "stderr",
     "output_type": "stream",
     "text": [
      "/home/naka/anaconda3/envs/genpen/lib/python3.8/site-packages/torch/nn/init.py:403: UserWarning: Initializing zero-element tensors is a no-op\n",
      "  warnings.warn(\"Initializing zero-element tensors is a no-op\")\n",
      "/home/naka/anaconda3/envs/genpen/lib/python3.8/site-packages/torch/nn/modules/lazy.py:178: UserWarning: Lazy modules are a new feature under heavy development so changes to the API or functionality can happen at any moment.\n",
      "  warnings.warn('Lazy modules are a new feature under heavy development '\n",
      "/tmp/ipykernel_24983/239054705.py:3: UserWarning: nn.init.xavier_uniform is now deprecated in favor of nn.init.xavier_uniform_.\n",
      "  torch.nn.init.xavier_uniform(m.weight)\n"
     ]
    },
    {
     "data": {
      "image/png": "[encoded data removed]",
      "text/plain": [
       "<PIL.Image.Image image mode=RGB size=800x800 at 0x7F87E15EDFA0>"
      ]
     },
     "execution_count": 20,
     "metadata": {},
     "output_type": "execute_result"
    }
   ],
   "source": [
    "n_circles = 1\n",
    "rad_range = (0.1,450)\n",
    "x_range = (CANVAS_WIDTH*0.1, CANVAS_WIDTH*0.9)\n",
    "y_range = (CANVAS_HEIGHT*0.1, CANVAS_HEIGHT*0.9)\n",
    "\n",
    "xs = torch.rand(n_circles, 1) * (x_range[1] - x_range[0])  + x_range[0] \n",
    "ys = torch.rand(n_circles, 1) * (y_range[1] - y_range[0]) + y_range[0]\n",
    "init_centers = torch.cat([xs, ys], axis=1)\n",
    "\n",
    "init_radii = torch.rand(n_circles) * 200 + 1\n",
    "\n",
    "model = CircleNet(\n",
    "    n_circles=n_circles,\n",
    "    x_range=x_range,\n",
    "    y_range=y_range,\n",
    "    rad_range=rad_range,\n",
    "    init_centers=init_centers,\n",
    "    init_radii=init_radii,\n",
    " \n",
    " )\n",
    "model.initialize_weights()\n",
    "cc = model.forward()\n",
    "img = render_circles(cc)\n",
    "to_pil(img)"
   ]
  },
  {
   "cell_type": "code",
   "execution_count": 21,
   "id": "90bf3dfc",
   "metadata": {},
   "outputs": [],
   "source": [
    "multiplier=1\n",
    "shapes = []\n",
    "shape_groups = []\n",
    "for c in cc:\n",
    "    center = c.center.contiguous().cpu()\n",
    "    radius = c.radius.cpu()\n",
    "    width = c.stroke_width.cpu()\n",
    "    color = c.color.cpu()\n",
    "    path = dg.Circle(\n",
    "        radius=radius*multiplier, \n",
    "        center=center * multiplier,\n",
    "        stroke_width=width * multiplier\n",
    "        )\n",
    "    shapes.append(path)\n",
    "    path_group = dg.ShapeGroup(\n",
    "        shape_ids=torch.tensor([len(shapes) - 1]),\n",
    "        fill_color=None,\n",
    "        stroke_color=color)\n",
    "    shape_groups.append(path_group)\n",
    "\n",
    "# Rasterize the image.\n",
    "scene_args = dg.RenderFunction.serialize_scene(\n",
    "    CANVAS_WIDTH * multiplier,\n",
    "    CANVAS_HEIGHT * multiplier,\n",
    "    shapes, shape_groups)\n",
    "img = dg.RenderFunction.apply(\n",
    "    CANVAS_WIDTH * multiplier,\n",
    "    CANVAS_HEIGHT * multiplier,\n",
    "    2, 2, 0, None, *scene_args)\n",
    "if DRAW_WHITE_BACKGROUND:\n",
    "    w, h = img.shape[0], img.shape[1]\n",
    "    img = img[:, :, 3:4] * img[:, :, :3] + (\n",
    "        torch.ones(w, h, 3, device=dg.get_device()) * (1-img[:, :, 3:4]))\n",
    "else:\n",
    "    img = img[:, :, :3]\n",
    "img = img.unsqueeze(0)"
   ]
  },
  {
   "cell_type": "code",
   "execution_count": 57,
   "id": "7c9a18fa",
   "metadata": {},
   "outputs": [
    {
     "data": {
      "text/plain": [
       "[800,\n",
       " 800,\n",
       " 1,\n",
       " 1,\n",
       " <OutputType.color: 1>,\n",
       " False,\n",
       " tensor([], device='cuda:0'),\n",
       " ShapeType.circle,\n",
       " tensor(77.7758, grad_fn=<MulBackward0>),\n",
       " tensor([521.7693, 485.2891], grad_fn=<MulBackward0>),\n",
       " tensor([0.4000]),\n",
       " tensor([0], dtype=torch.int32),\n",
       " None,\n",
       " ColorType.constant,\n",
       " tensor([1., 1., 1., 1.]),\n",
       " True,\n",
       " tensor([[1., 0., 0.],\n",
       "         [0., 1., 0.],\n",
       "         [0., 0., 1.]]),\n",
       " FilterType.box,\n",
       " tensor(0.5000)]"
      ]
     },
     "execution_count": 57,
     "metadata": {},
     "output_type": "execute_result"
    }
   ],
   "source": [
    "scene_args"
   ]
  },
  {
   "cell_type": "code",
   "execution_count": 22,
   "id": "e64a2c04",
   "metadata": {},
   "outputs": [],
   "source": [
    "def train(loss_weights=None):\n",
    "    \n",
    "    cc = model.forward()\n",
    "    \n",
    "    if loss_weights is None:\n",
    "        loss_weights = {\n",
    "            'big_rad_loss': 1,\n",
    "            'overlap_loss': 1,\n",
    "            'distance_loss': 1,\n",
    "            'out_of_bounds_loss': 1,\n",
    "            \n",
    "        }\n",
    "    optim.zero_grad()\n",
    "    losses = {}\n",
    "    overlap_buffer = 0\n",
    "\n",
    "    # desired rad size\n",
    "    # target_rad_loss = (target_radius - cc.radii).pow(2).sum()\n",
    "    \n",
    "    # big rad \n",
    "    losses['big_rad_loss'] = (-cc.radii).exp().sum()\n",
    "\n",
    "    # prevent overlap\n",
    "    dists = torch.cdist(cc.centers, cc.centers)\n",
    "    upper_dists = torch.triu(dists)\n",
    "    nonzero_inds = torch.nonzero(upper_dists, as_tuple=True)\n",
    "    dists[nonzero_inds]\n",
    "    summed_rads = cc.radii.unsqueeze(0).T + cc.radii.unsqueeze(0)\n",
    "    edge_to_edge_dists = dists[nonzero_inds] - summed_rads[nonzero_inds] - overlap_buffer\n",
    "    losses['overlap_loss'] = F.relu(-edge_to_edge_dists).pow(3).sum()\n",
    "    losses['distance_loss'] = edge_to_edge_dists.pow(2).sum()\n",
    "\n",
    "    # out of bounds\n",
    "    xs = cc.centers[:, 0]\n",
    "    ys = cc.centers[:, 1]\n",
    "    left_edge_dist = F.relu(-((xs - cc.radii) - xmin))\n",
    "    right_edge_dist = F.relu(-((xmax - (xs + cc.radii))))\n",
    "    bottom_edge_dist = F.relu(-((ys - cc.radii) - ymin))\n",
    "    top_edge_dist = F.relu(-(ymax - (ys + cc.radii)))\n",
    "    losses['out_of_bounds_loss'] = (left_edge_dist + right_edge_dist + bottom_edge_dist + top_edge_dist).pow(2).sum()\n",
    "    \n",
    "    #maximize skewnewss\n",
    "    # losses['skewness_loss'] = -(moment(cc.radii, n=3).pow(2))\n",
    "    # losses['variance_loss'] = -(moment(cc.radii, n=2).pow(2))\n",
    "\n",
    "    scaled_losses = {key: loss*loss_weights[key] for key, loss in losses.items()}\n",
    "    loss = sum(scaled_losses.values())\n",
    "\n",
    "    loss.backward()\n",
    "    optim.step()\n",
    "    \n",
    "    scaled_losses['loss'] = loss\n",
    "    return losses, scaled_losses, cc"
   ]
  },
  {
   "cell_type": "code",
   "execution_count": 23,
   "id": "70c33d8c",
   "metadata": {},
   "outputs": [],
   "source": [
    "\n",
    "optim = torch.optim.Adam(model.parameters(), lr=1e-4)\n"
   ]
  },
  {
   "cell_type": "code",
   "execution_count": 2492,
   "id": "675499ce-8610-44ee-9356-45ae41bf6b5f",
   "metadata": {},
   "outputs": [
    {
     "name": "stdout",
     "output_type": "stream",
     "text": [
      "saved 20220115-152135_807294-08f81-a0a461 to s3://algorithmic-ink/current_nft_id\n"
     ]
    }
   ],
   "source": [
    "nft_id = fn.new_nft_id()\n",
    "\n",
    "raster_videos_dir = Path('/home/naka/art/raster_videos')\n",
    "nft_dir = raster_videos_dir.joinpath(nft_id)\n",
    "\n",
    "if not nft_dir.exists():\n",
    "    os.mkdir(nft_dir) \n",
    "    \n",
    "frame_counter = 0"
   ]
  },
  {
   "cell_type": "code",
   "execution_count": 2562,
   "id": "35283afb",
   "metadata": {},
   "outputs": [
    {
     "data": {
      "image/png": "[encoded data removed]",
      "text/plain": [
       "<IPython.core.display.Image object>"
      ]
     },
     "metadata": {},
     "output_type": "display_data"
    },
    {
     "name": "stderr",
     "output_type": "stream",
     "text": [
      "100%|██████████| 100/100 [00:04<00:00, 23.79it/s]"
     ]
    },
    {
     "name": "stdout",
     "output_type": "stream",
     "text": [
      "big_rad_loss 93898462461952.0\n",
      "overlap_loss 176843936235520.0\n",
      "distance_loss -15521936.0\n",
      "out_of_bounds_loss 977350.5\n",
      "loss 270742373531648.0\n"
     ]
    },
    {
     "name": "stderr",
     "output_type": "stream",
     "text": [
      "\n"
     ]
    }
   ],
   "source": [
    "\n",
    "display_freq=10\n",
    "for ii in tqdm(range(100)):\n",
    "    losses, scaled_losses, cc = train(\n",
    "        loss_weights = {\n",
    "            'big_rad_loss': 1e13,\n",
    "            'overlap_loss': 1e9,\n",
    "            'distance_loss': -1e-4,\n",
    "            'out_of_bounds_loss': 1e0,\n",
    "                \n",
    "            }\n",
    "    )\n",
    "    if ii % display_freq == 0:\n",
    "        \n",
    "        display.clear_output(wait=True)\n",
    "        img = render_circles(cc.to_circle_ps())\n",
    "        fp = nft_dir.joinpath(f'{frame_counter:04d}.png')\n",
    "        to_pil(img).save(fp)\n",
    "        display.display(display.Image(fp))\n",
    "        frame_counter += 1\n",
    "        \n",
    "for k,v in scaled_losses.items():\n",
    "    print(k, float(v))\n",
    "\n",
    "# img = render_circles(cc.to_circle_ps())\n",
    "# to_pil(img)"
   ]
  },
  {
   "cell_type": "code",
   "execution_count": 2467,
   "id": "ab6d374d",
   "metadata": {},
   "outputs": [
    {
     "data": {
      "text/plain": [
       "PosixPath('/home/naka/art/raster_videos/20220115-150952_169288-08f81-f7fd2a')"
      ]
     },
     "execution_count": 2467,
     "metadata": {},
     "output_type": "execute_result"
    }
   ],
   "source": [
    "nft_dir"
   ]
  },
  {
   "cell_type": "code",
   "execution_count": 2563,
   "id": "67631692-1a85-4877-809a-b11b1047349d",
   "metadata": {},
   "outputs": [],
   "source": [
    "filenames = sorted([fp.as_posix() for fp in nft_dir.glob('*.png')])\n",
    "import moviepy\n",
    "from moviepy.video.io.ImageSequenceClip import ImageSequenceClip\n",
    "clipout = ImageSequenceClip(filenames, fps=30)\n",
    "clipout.write_videofile(nft_dir.joinpath(f'{nft_id}.mp4').as_posix())\n",
    "len(filenames)"
   ]
  },
  {
   "cell_type": "code",
   "execution_count": 1817,
   "id": "8375fac0",
   "metadata": {},
   "outputs": [
    {
     "data": {
      "text/plain": [
       "torch.Size([1, 10])"
      ]
     },
     "execution_count": 1817,
     "metadata": {},
     "output_type": "execute_result"
    }
   ],
   "source": [
    "x = model.get_net_output()\n",
    "model.get_xs(x).shape"
   ]
  },
  {
   "cell_type": "code",
   "execution_count": 1818,
   "id": "0085ccb2",
   "metadata": {},
   "outputs": [
    {
     "data": {
      "text/plain": [
       "tensor([0.0000, 0.0000, 0.0592, 0.0312, 0.0000, 0.0079, 0.0069, 0.0367, 0.0115,\n",
       "        0.0093], grad_fn=<ReluBackward0>)"
      ]
     },
     "execution_count": 1818,
     "metadata": {},
     "output_type": "execute_result"
    }
   ],
   "source": [
    "model.radius_outputs(x)"
   ]
  },
  {
   "cell_type": "code",
   "execution_count": 24,
   "id": "bdacce15",
   "metadata": {},
   "outputs": [],
   "source": [
    "n_circles = 100\n",
    "init_rad_range = (0.001,1)\n",
    "init_x_range = (CANVAS_WIDTH*0.1, CANVAS_WIDTH*0.9)\n",
    "init_y_range = (CANVAS_HEIGHT*0.1, CANVAS_HEIGHT*0.9)\n",
    "xmin, xmax = init_x_range\n",
    "ymin, ymax = init_y_range\n",
    "\n",
    "net = nn.Sequential(\n",
    "    nn.Linear(0, n_circles),\n",
    "    nn.ReLU(),\n",
    "    nn.LazyLinear(n_circles),\n",
    "    nn.ReLU(),\n",
    "    nn.LazyLinear(n_circles),\n",
    "    nn.ReLU(),\n",
    ")\n",
    "\n",
    "xs = torch.rand(n_circles, 2) * (xmax - xmin) + xmin\n",
    "ys = torch.rand(n_circles, 2) * (ymax - ymin) + ymin\n",
    "\n",
    "centers = torch.cat([xs, ys], axis=1)\n",
    "radii = torch.rand(n_circles) * (init_rad_range[1] - init_rad_range[0]) + init_rad_range[0]\n",
    "colors = torch.ones((n_circles,4))\n",
    "stroke_widths = torch.ones((n_circles,1)) * 1\n",
    "\n",
    "cc = CircleCollection(centers=centers, radii=radii, stroke_widths=stroke_widths, colors=colors)"
   ]
  },
  {
   "cell_type": "code",
   "execution_count": 25,
   "id": "24a212cb",
   "metadata": {},
   "outputs": [],
   "source": [
    "n_circles = 100\n",
    "init_rad_range = (0.001,1)\n",
    "init_x_range = (CANVAS_WIDTH*0.1, CANVAS_WIDTH*0.9)\n",
    "init_y_range = (CANVAS_HEIGHT*0.1, CANVAS_HEIGHT*0.9)\n",
    "xmin, xmax = init_x_range\n",
    "ymin, ymax = init_y_range\n",
    "\n",
    "xs = np.interp(np.random.rand(n_circles), [0, 1], init_x_range)\n",
    "ys = np.interp(np.random.rand(n_circles), [0, 1], init_y_range)\n",
    "centers = [(x, y) for x, y in zip(xs, ys)]\n",
    "radii = np.interp(stats.beta(a=1, b=3).rvs(n_circles), (0, 1), init_rad_range)\n",
    "colors = np.ones((n_circles,4))\n",
    "stroke_widths = np.ones((n_circles,1)) * 1\n",
    "\n",
    "cc = CircleCollection.from_arrays(centers=centers, radii=radii, stroke_widths=stroke_widths, colors=colors)"
   ]
  },
  {
   "cell_type": "code",
   "execution_count": 26,
   "id": "33b2e79b",
   "metadata": {},
   "outputs": [
    {
     "data": {
      "image/png": "[encoded data removed]",
      "text/plain": [
       "<PIL.Image.Image image mode=RGB size=800x800 at 0x7F87E16B7A30>"
      ]
     },
     "execution_count": 26,
     "metadata": {},
     "output_type": "execute_result"
    }
   ],
   "source": [
    "img = render_circles(cc)\n",
    "to_pil(img)\n"
   ]
  },
  {
   "cell_type": "code",
   "execution_count": 1441,
   "id": "7e86395b",
   "metadata": {},
   "outputs": [],
   "source": [
    "def moment(t, n):\n",
    "    return (((t - t.mean()) ** n).sum() / (t.std() ** n))"
   ]
  },
  {
   "cell_type": "code",
   "execution_count": null,
   "id": "9003d920",
   "metadata": {},
   "outputs": [
    {
     "name": "stderr",
     "output_type": "stream",
     "text": [
      "100%|██████████| 100/100 [00:01<00:00, 54.65it/s]\n"
     ]
    }
   ],
   "source": [
    "n_steps = 100\n",
    "for ii in tqdm(range(n_steps)):\n",
    "    train()"
   ]
  },
  {
   "cell_type": "code",
   "execution_count": 503,
   "id": "0e1e51a2",
   "metadata": {},
   "outputs": [
    {
     "data": {
      "text/plain": [
       "<function torch.nn.functional.relu(input: torch.Tensor, inplace: bool = False) -> torch.Tensor>"
      ]
     },
     "execution_count": 503,
     "metadata": {},
     "output_type": "execute_result"
    }
   ],
   "source": [
    "F.relu"
   ]
  },
  {
   "cell_type": "code",
   "execution_count": null,
   "id": "e1d1b737",
   "metadata": {},
   "outputs": [
    {
     "ename": "ValueError",
     "evalue": "can't optimize a non-leaf Tensor",
     "output_type": "error",
     "traceback": [
      "\u001b[0;31m---------------------------------------------------------------------------\u001b[0m\n",
      "\u001b[0;31mValueError\u001b[0m                                Traceback (most recent call last)\n",
      "\u001b[0;32m<ipython-input-1623-ee356d73eb21>\u001b[0m in \u001b[0;36m<module>\u001b[0;34m\u001b[0m\n",
      "\u001b[0;32m----> 1\u001b[0;31m optim = torch.optim.Adam([\n",
      "\u001b[0m\u001b[1;32m      2\u001b[0m     \u001b[0mcc\u001b[0m\u001b[0;34m.\u001b[0m\u001b[0mcenters\u001b[0m\u001b[0;34m,\u001b[0m\u001b[0;34m\u001b[0m\u001b[0;34m\u001b[0m\u001b[0m\n",
      "\u001b[1;32m      3\u001b[0m     \u001b[0mcc\u001b[0m\u001b[0;34m.\u001b[0m\u001b[0mradii\u001b[0m\u001b[0;34m,\u001b[0m\u001b[0;34m\u001b[0m\u001b[0;34m\u001b[0m\u001b[0m\n",
      "\u001b[1;32m      4\u001b[0m     ], lr=1e-1)\n",
      "\n",
      "\u001b[0;32m~/anaconda3/envs/genpen/lib/python3.8/site-packages/torch/optim/adam.py\u001b[0m in \u001b[0;36m__init__\u001b[0;34m(self, params, lr, betas, eps, weight_decay, amsgrad)\u001b[0m\n",
      "\u001b[1;32m     46\u001b[0m         defaults = dict(lr=lr, betas=betas, eps=eps,\n",
      "\u001b[1;32m     47\u001b[0m                         weight_decay=weight_decay, amsgrad=amsgrad)\n",
      "\u001b[0;32m---> 48\u001b[0;31m         \u001b[0msuper\u001b[0m\u001b[0;34m(\u001b[0m\u001b[0mAdam\u001b[0m\u001b[0;34m,\u001b[0m \u001b[0mself\u001b[0m\u001b[0;34m)\u001b[0m\u001b[0;34m.\u001b[0m\u001b[0m__init__\u001b[0m\u001b[0;34m(\u001b[0m\u001b[0mparams\u001b[0m\u001b[0;34m,\u001b[0m \u001b[0mdefaults\u001b[0m\u001b[0;34m)\u001b[0m\u001b[0;34m\u001b[0m\u001b[0;34m\u001b[0m\u001b[0m\n",
      "\u001b[0m\u001b[1;32m     49\u001b[0m \u001b[0;34m\u001b[0m\u001b[0m\n",
      "\u001b[1;32m     50\u001b[0m     \u001b[0;32mdef\u001b[0m \u001b[0m__setstate__\u001b[0m\u001b[0;34m(\u001b[0m\u001b[0mself\u001b[0m\u001b[0;34m,\u001b[0m \u001b[0mstate\u001b[0m\u001b[0;34m)\u001b[0m\u001b[0;34m:\u001b[0m\u001b[0;34m\u001b[0m\u001b[0;34m\u001b[0m\u001b[0m\n",
      "\n",
      "\u001b[0;32m~/anaconda3/envs/genpen/lib/python3.8/site-packages/torch/optim/optimizer.py\u001b[0m in \u001b[0;36m__init__\u001b[0;34m(self, params, defaults)\u001b[0m\n",
      "\u001b[1;32m     52\u001b[0m \u001b[0;34m\u001b[0m\u001b[0m\n",
      "\u001b[1;32m     53\u001b[0m         \u001b[0;32mfor\u001b[0m \u001b[0mparam_group\u001b[0m \u001b[0;32min\u001b[0m \u001b[0mparam_groups\u001b[0m\u001b[0;34m:\u001b[0m\u001b[0;34m\u001b[0m\u001b[0;34m\u001b[0m\u001b[0m\n",
      "\u001b[0;32m---> 54\u001b[0;31m             \u001b[0mself\u001b[0m\u001b[0;34m.\u001b[0m\u001b[0madd_param_group\u001b[0m\u001b[0;34m(\u001b[0m\u001b[0mparam_group\u001b[0m\u001b[0;34m)\u001b[0m\u001b[0;34m\u001b[0m\u001b[0;34m\u001b[0m\u001b[0m\n",
      "\u001b[0m\u001b[1;32m     55\u001b[0m \u001b[0;34m\u001b[0m\u001b[0m\n",
      "\u001b[1;32m     56\u001b[0m     \u001b[0;32mdef\u001b[0m \u001b[0m__getstate__\u001b[0m\u001b[0;34m(\u001b[0m\u001b[0mself\u001b[0m\u001b[0;34m)\u001b[0m\u001b[0;34m:\u001b[0m\u001b[0;34m\u001b[0m\u001b[0;34m\u001b[0m\u001b[0m\n",
      "\n",
      "\u001b[0;32m~/anaconda3/envs/genpen/lib/python3.8/site-packages/torch/optim/optimizer.py\u001b[0m in \u001b[0;36madd_param_group\u001b[0;34m(self, param_group)\u001b[0m\n",
      "\u001b[1;32m    255\u001b[0m                                 \"but one of the params is \" + torch.typename(param))\n",
      "\u001b[1;32m    256\u001b[0m             \u001b[0;32mif\u001b[0m \u001b[0;32mnot\u001b[0m \u001b[0mparam\u001b[0m\u001b[0;34m.\u001b[0m\u001b[0mis_leaf\u001b[0m\u001b[0;34m:\u001b[0m\u001b[0;34m\u001b[0m\u001b[0;34m\u001b[0m\u001b[0m\n",
      "\u001b[0;32m--> 257\u001b[0;31m                 \u001b[0;32mraise\u001b[0m \u001b[0mValueError\u001b[0m\u001b[0;34m(\u001b[0m\u001b[0;34m\"can't optimize a non-leaf Tensor\"\u001b[0m\u001b[0;34m)\u001b[0m\u001b[0;34m\u001b[0m\u001b[0;34m\u001b[0m\u001b[0m\n",
      "\u001b[0m\u001b[1;32m    258\u001b[0m \u001b[0;34m\u001b[0m\u001b[0m\n",
      "\u001b[1;32m    259\u001b[0m         \u001b[0;32mfor\u001b[0m \u001b[0mname\u001b[0m\u001b[0;34m,\u001b[0m \u001b[0mdefault\u001b[0m \u001b[0;32min\u001b[0m \u001b[0mself\u001b[0m\u001b[0;34m.\u001b[0m\u001b[0mdefaults\u001b[0m\u001b[0;34m.\u001b[0m\u001b[0mitems\u001b[0m\u001b[0;34m(\u001b[0m\u001b[0;34m)\u001b[0m\u001b[0;34m:\u001b[0m\u001b[0;34m\u001b[0m\u001b[0;34m\u001b[0m\u001b[0m\n",
      "\n",
      "\u001b[0;31mValueError\u001b[0m: can't optimize a non-leaf Tensor"
     ]
    }
   ],
   "source": [
    "optim = torch.optim.Adam([\n",
    "    cc.centers, \n",
    "    cc.radii,\n",
    "    ], lr=1e-1)"
   ]
  },
  {
   "cell_type": "code",
   "execution_count": 27,
   "id": "35a5a9ec-88b9-429c-b0bf-42c1dcd414ce",
   "metadata": {},
   "outputs": [
    {
     "ename": "NameError",
     "evalue": "name 'SpinLine' is not defined",
     "output_type": "error",
     "traceback": [
      "\u001b[0;31m---------------------------------------------------------------------------\u001b[0m",
      "\u001b[0;31mNameError\u001b[0m                                 Traceback (most recent call last)",
      "\u001b[1;32m/home/naka/code/side/genpen/scratch/066_diffvg_packing.ipynb Cell 44'\u001b[0m in \u001b[0;36m<cell line: 10>\u001b[0;34m()\u001b[0m\n\u001b[1;32m     <a href='vscode-notebook-cell:/home/naka/code/side/genpen/scratch/066_diffvg_packing.ipynb#ch0000043?line=14'>15</a>\u001b[0m         length \u001b[39m=\u001b[39m \u001b[39m8.\u001b[39m \u001b[39m+\u001b[39m np\u001b[39m.\u001b[39msin(radius \u001b[39m*\u001b[39m angular_loc_deg) \u001b[39m*\u001b[39m \u001b[39m90\u001b[39m \u001b[39m+\u001b[39m np\u001b[39m.\u001b[39msin(angular_loc_deg\u001b[39m*\u001b[39m\u001b[39m0.001\u001b[39m) \u001b[39m*\u001b[39m \u001b[39m40\u001b[39m \u001b[39m+\u001b[39m np\u001b[39m.\u001b[39msin(\u001b[39m0.00013\u001b[39m \u001b[39m*\u001b[39m angular_loc_deg) \u001b[39m*\u001b[39m \u001b[39m70\u001b[39m\n\u001b[1;32m     <a href='vscode-notebook-cell:/home/naka/code/side/genpen/scratch/066_diffvg_packing.ipynb#ch0000043?line=15'>16</a>\u001b[0m         rad \u001b[39m=\u001b[39m radius \u001b[39m+\u001b[39m np\u001b[39m.\u001b[39msin(t \u001b[39m*\u001b[39m angular_loc_deg) \u001b[39m*\u001b[39m \u001b[39m20\u001b[39m\n\u001b[0;32m---> <a href='vscode-notebook-cell:/home/naka/code/side/genpen/scratch/066_diffvg_packing.ipynb#ch0000043?line=16'>17</a>\u001b[0m         sl \u001b[39m=\u001b[39m SpinLine(offset_xy\u001b[39m=\u001b[39mcenter, angular_loc_deg\u001b[39m=\u001b[39mangular_loc_deg, radial_loc\u001b[39m=\u001b[39mrad, rotation_deg\u001b[39m=\u001b[39mrotation_deg, length\u001b[39m=\u001b[39mlength)\n\u001b[1;32m     <a href='vscode-notebook-cell:/home/naka/code/side/genpen/scratch/066_diffvg_packing.ipynb#ch0000043?line=17'>18</a>\u001b[0m         sls\u001b[39m.\u001b[39mappend(LineString(sl\u001b[39m.\u001b[39mcoords))\n\u001b[1;32m     <a href='vscode-notebook-cell:/home/naka/code/side/genpen/scratch/066_diffvg_packing.ipynb#ch0000043?line=19'>20</a>\u001b[0m gp\u001b[39m.\u001b[39mmerge_LineStrings(sls)\n",
      "\u001b[0;31mNameError\u001b[0m: name 'SpinLine' is not defined"
     ]
    }
   ],
   "source": [
    "t=0.00\n",
    "center = np.array(db.p.centroid.xy).ravel()\n",
    "n_circles = 7\n",
    "max_rad = (db.width/2) * 0.8\n",
    "min_rad = (db.width/2) * 0.05\n",
    "radii = np.linspace(min_rad, max_rad, n_circles)\n",
    "loc_xy_spacing = 55\n",
    "sls = []\n",
    "\n",
    "for radius in radii:\n",
    "    circumference = radius * 360\n",
    "    angular_locs = np.arange(0, circumference, loc_xy_spacing) / radius\n",
    "    for angular_loc_deg in angular_locs:\n",
    "        rotation_deg = angular_loc_deg * 4 + 60 * np.sin(0.01 * angular_loc_deg * t + 0.02*radius) + np.sin(0.00013 * angular_loc_deg) * 20\n",
    "        length = 8. + np.sin(radius * angular_loc_deg) * 90 + np.sin(angular_loc_deg*0.001) * 40 + np.sin(0.00013 * angular_loc_deg) * 70\n",
    "        rad = radius + np.sin(t * angular_loc_deg) * 20\n",
    "        sl = SpinLine(offset_xy=center, angular_loc_deg=angular_loc_deg, radial_loc=rad, rotation_deg=rotation_deg, length=length)\n",
    "        sls.append(LineString(sl.coords))\n",
    "\n",
    "gp.merge_LineStrings(sls)\n",
    "\n",
    "lts = [LineTensor(ls) for ls in sls]\n",
    "\n",
    "canvas_width, canvas_height = width, height\n",
    "num_control_points = torch.tensor([0])\n",
    "shapes = []\n",
    "shape_groups = []\n",
    "for ii, lt in enumerate(lts):\n",
    "    path = dg.Path(num_control_points = num_control_points,\n",
    "                         points = lt.tensor,\n",
    "                         is_closed = False,\n",
    "                         stroke_width = torch.tensor(0.1))\n",
    "    shapes.append(path)\n",
    "    path_group = dg.ShapeGroup(shape_ids = torch.tensor([ii]),\n",
    "                                     fill_color = torch.tensor([0.0, 0.0, 0.0, 0.0]),\n",
    "                                     stroke_color = torch.tensor([1., 1., 1., 1]))\n",
    "    shape_groups.append(path_group)\n",
    "\n",
    "\n",
    "scene_args = dg.RenderFunction.serialize_scene(\\\n",
    "    canvas_width, canvas_height, shapes, shape_groups)\n",
    "render = dg.RenderFunction.apply\n",
    "img = render(canvas_width, # width\n",
    "             canvas_height, # height\n",
    "             2,   # num_samples_x\n",
    "             2,   # num_samples_y\n",
    "             0,   # seed\n",
    "             None, # background_image\n",
    "             *scene_args)\n",
    "# target = img.clone()\n",
    "\n",
    "angle_targets = [torch.tensor(0) for shape in shapes]\n",
    "\n",
    "# init\n",
    "rendered_img = finalize_image(img.cpu(), as_Image=True)\n",
    "\n",
    "img = render(canvas_width, # width\n",
    "             canvas_height, # height\n",
    "             2,   # num_samples_x\n",
    "             2,   # num_samples_y\n",
    "             0,   # seed\n",
    "             None, # background_image\n",
    "             *scene_args)\n",
    "img = finalize_image(img.cpu(), as_Image=True)\n",
    "\n",
    "\n",
    "background = Image.new('RGBA', img.size, (0, 0, 0))\n",
    "\n",
    "alpha_composite = Image.alpha_composite(background, img)\n",
    "alpha_composite"
   ]
  },
  {
   "cell_type": "code",
   "execution_count": null,
   "id": "af111d85-44fa-4c0b-afe9-9fa1e9af2088",
   "metadata": {},
   "outputs": [],
   "source": [
    "quality_val = 100\n",
    "now = fn.get_time()\n",
    "filepath = nft_dir.joinpath(f'{nft_id}_{now}_0000.jpeg')\n",
    "alpha_composite.convert('RGB').save(filepath, quality=quality_val)"
   ]
  },
  {
   "cell_type": "code",
   "execution_count": null,
   "id": "eaa7ff38",
   "metadata": {},
   "outputs": [],
   "source": []
  }
 ],
 "metadata": {
  "interpreter": {
   "hash": "8dd23eb8a106e10a9d6673bd6cb60486dc3129d9782f6ed87a7bc18aa7582fa4"
  },
  "kernelspec": {
   "display_name": "Python 3.8.8 64-bit ('genpen': conda)",
   "name": "python3"
  },
  "language_info": {
   "codemirror_mode": {
    "name": "ipython",
    "version": 3
   },
   "file_extension": ".py",
   "mimetype": "text/x-python",
   "name": "python",
   "nbconvert_exporter": "python",
   "pygments_lexer": "ipython3",
   "version": "3.8.8"
  }
 },
 "nbformat": 4,
 "nbformat_minor": 5
}

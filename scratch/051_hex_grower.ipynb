{
 "cells": [
  {
   "cell_type": "code",
   "execution_count": null,
   "id": "7421b6e6-95f4-449b-8bb4-1019fd5d9e55",
   "metadata": {
    "heading_collapsed": "false",
    "tags": []
   },
   "outputs": [],
   "source": [
    "import itertools\n",
    "import numpy as np\n",
    "import os\n",
    "import seaborn as sns\n",
    "from tqdm import tqdm\n",
    "from dataclasses import asdict, dataclass, field\n",
    "import vsketch\n",
    "import shapely.geometry as sg\n",
    "from shapely.geometry import box, MultiLineString, Point, MultiPoint, Polygon, MultiPolygon, LineString\n",
    "import shapely.affinity as sa\n",
    "import shapely.ops as so\n",
    "import matplotlib.pyplot as plt\n",
    "import pandas as pd\n",
    "\n",
    "import vpype_cli\n",
    "from typing import List, Generic\n",
    "from genpen import genpen as gp, utils as utils\n",
    "from scipy import stats as ss\n",
    "import geopandas\n",
    "from shapely.errors import TopologicalError\n",
    "import functools\n",
    "%load_ext autoreload\n",
    "%autoreload 2\n",
    "import vpype\n",
    "from skimage import io\n",
    "from pathlib import Path\n",
    "\n",
    "import bezier\n",
    "\n",
    "from sklearn.preprocessing import minmax_scale\n",
    "from skimage import feature\n",
    "from genpen.utils import Paper\n",
    "\n",
    "from scipy import spatial, stats\n",
    "from scipy.ndimage import gaussian_filter\n",
    "from scipy.integrate import odeint\n",
    "from functools import partial\n",
    "\n",
    "from genpen.grower import *\n",
    "import fn\n",
    "from genpen.axicam import AxiCam"
   ]
  },
  {
   "cell_type": "code",
   "execution_count": null,
   "id": "1ddf0d55-e8a0-4345-963d-1c3ff6a7ba4f",
   "metadata": {
    "heading_collapsed": "false"
   },
   "outputs": [],
   "source": [
    "# make page\n",
    "paper_size = '11x14 inches'\n",
    "border:float=40\n",
    "paper = Paper(paper_size)\n",
    "\n",
    "drawbox = paper.get_drawbox(border)"
   ]
  },
  {
   "cell_type": "code",
   "execution_count": null,
   "id": "97628357-74db-4d26-b1b9-5385805daab2",
   "metadata": {},
   "outputs": [],
   "source": [
    "params = GrowerParams(\n",
    "    rad_func='loss_scaled_rad',\n",
    "    rad_range=(30, 5),\n",
    "    n_pts_eval_per_iter=14,\n",
    "    n_pts_add_per_iter=1,\n",
    "    pt_to_poly_func='buffer_pt',\n",
    "    n_corners=7,\n",
    ")\n",
    "g = Grower(poly=drawbox.centroid.buffer(5), params=params)"
   ]
  },
  {
   "cell_type": "code",
   "execution_count": null,
   "id": "1aca9913-cdd5-4139-a94e-945095c3f1b2",
   "metadata": {
    "tags": []
   },
   "outputs": [],
   "source": [
    "for ii in tqdm(range(1)):\n",
    "    g.grow()"
   ]
  },
  {
   "cell_type": "code",
   "execution_count": null,
   "id": "45a5419d-ac4a-4007-9438-ca825769b826",
   "metadata": {},
   "outputs": [],
   "source": [
    "polys = gp.make_like(gp.merge_Polygons([p.buffer(-0.1, cap_style=2, join_style=2) for p in g.polys]), drawbox)"
   ]
  },
  {
   "cell_type": "code",
   "execution_count": null,
   "id": "2a8bc6af-5b4d-49c8-9aea-0e839d7be7b8",
   "metadata": {},
   "outputs": [],
   "source": [
    "fills = []\n",
    "for poly in polys:\n",
    "    prms = gp.ScaleTransPrms(\n",
    "        n_iters=200,\n",
    "        d_buffer=ss.uniform(loc=-5.5, scale=1.3).rvs(),\n",
    "        d_translate_factor=0.6,\n",
    "        angles=ss.uniform(loc=0, scale=180).rvs(),\n",
    "    )\n",
    "    p = gp.Poly(poly)\n",
    "    p.fill_scale_trans(**prms.prms)\n",
    "    fills.append(p.fill)"
   ]
  },
  {
   "cell_type": "code",
   "execution_count": null,
   "id": "165aa2aa-637e-46cb-ab6b-0d0d532df5a7",
   "metadata": {
    "tags": []
   },
   "outputs": [],
   "source": [
    "lss = gp.merge_LineStrings(fills)"
   ]
  },
  {
   "cell_type": "code",
   "execution_count": null,
   "id": "6318aa7c-ca2b-4c86-b437-e9af36dd9f67",
   "metadata": {},
   "outputs": [],
   "source": [
    "lss"
   ]
  },
  {
   "cell_type": "code",
   "execution_count": null,
   "id": "ecaa353d-49dd-4698-bcab-b98bd75dcc74",
   "metadata": {
    "heading_collapsed": "false"
   },
   "outputs": [],
   "source": [
    "sk = vsketch.Vsketch()\n",
    "sk.size(paper.page_format_mm)\n",
    "sk.scale('1mm')\n",
    "sk.penWidth('0.3mm')\n",
    "\n",
    "counter = 0\n",
    "for ls in lss:\n",
    "    counter += 1\n",
    "    sk.stroke(counter)\n",
    "    sk.geometry(ls)\n",
    "    \n",
    "sk.display(color_mode='layer')"
   ]
  },
  {
   "cell_type": "code",
   "execution_count": null,
   "id": "72de4e56-85f3-4f72-b28d-87935cc28d00",
   "metadata": {},
   "outputs": [],
   "source": [
    "import fn"
   ]
  },
  {
   "cell_type": "code",
   "execution_count": null,
   "id": "54303957-24af-4b95-87db-f72840648f88",
   "metadata": {},
   "outputs": [],
   "source": [
    "plot_id = fn.new_plot_id()"
   ]
  },
  {
   "cell_type": "code",
   "execution_count": null,
   "id": "0f1ef810-57bd-48a3-8777-250dc0a8e181",
   "metadata": {},
   "outputs": [],
   "source": [
    "savedir='/home/naka/art/plotter_svgs'"
   ]
  },
  {
   "cell_type": "code",
   "execution_count": null,
   "id": "50096e33-5e7d-4315-94ea-4ed70fada06c",
   "metadata": {},
   "outputs": [],
   "source": [
    "savepath = Path(savedir).joinpath(f'{plot_id}.svg').as_posix()\n",
    "sk.save(savepath)"
   ]
  },
  {
   "cell_type": "code",
   "execution_count": null,
   "id": "5c03b9fa-40ba-49fb-acb1-3a5fefab5826",
   "metadata": {},
   "outputs": [],
   "source": [
    "from genpen.axicam import AxiCam"
   ]
  },
  {
   "cell_type": "code",
   "execution_count": null,
   "id": "e7d5f78f-beb5-4390-8b6b-7bdc1d332521",
   "metadata": {},
   "outputs": [],
   "source": [
    "ac = AxiCam()"
   ]
  },
  {
   "cell_type": "code",
   "execution_count": null,
   "id": "e1afb79e-48a6-45df-8540-dcc58639072a",
   "metadata": {},
   "outputs": [],
   "source": [
    "ac.init_cam()"
   ]
  },
  {
   "cell_type": "code",
   "execution_count": null,
   "id": "10eecdc2-19ec-4d2f-a626-1f949e8d0be6",
   "metadata": {},
   "outputs": [],
   "source": [
    "ac.cam.video_preview()"
   ]
  },
  {
   "cell_type": "code",
   "execution_count": null,
   "id": "d8567b84-2f0d-48f6-b200-a605be253fb3",
   "metadata": {},
   "outputs": [],
   "source": [
    "ac.cam.close()"
   ]
  },
  {
   "cell_type": "code",
   "execution_count": null,
   "id": "b294ed2a-0a8a-4572-948d-2af1ea0bd23a",
   "metadata": {},
   "outputs": [],
   "source": [
    "ac.ad.options.speed_penup = 80"
   ]
  },
  {
   "cell_type": "code",
   "execution_count": null,
   "id": "466f636b-b985-40af-bae8-9d49659379c6",
   "metadata": {},
   "outputs": [],
   "source": [
    "ac.ad.options.accel = 70\n",
    "ac.ad.options.pen_raise_rate = 85"
   ]
  },
  {
   "cell_type": "code",
   "execution_count": null,
   "id": "76d5aea4-97e6-47f5-aa70-58baccbae61f",
   "metadata": {},
   "outputs": [],
   "source": [
    "ac.ad.options.speed_pendown = 10\n",
    "ac.ad.update()"
   ]
  },
  {
   "cell_type": "code",
   "execution_count": null,
   "id": "bc6e9061-8148-4ca6-a7b7-04e9a9999512",
   "metadata": {},
   "outputs": [],
   "source": [
    "ac.plot_layers(wait_times=0.3, start_layer=0)"
   ]
  },
  {
   "cell_type": "markdown",
   "id": "775c4c89-6874-40ad-8844-6e1027a7b2b7",
   "metadata": {},
   "source": [
    "# try 2"
   ]
  },
  {
   "cell_type": "code",
   "execution_count": null,
   "id": "f8a00090-184e-4db5-868f-8eb433a1371f",
   "metadata": {},
   "outputs": [],
   "source": [
    "rads = list(np.linspace(30, 1, 50))"
   ]
  },
  {
   "cell_type": "code",
   "execution_count": null,
   "id": "3fb46a18-5ee8-41b1-abc1-5063171a7f0e",
   "metadata": {},
   "outputs": [],
   "source": [
    "rads = [10] * 3 + [3] * 67\n",
    "rads = rads * 3"
   ]
  },
  {
   "cell_type": "code",
   "execution_count": null,
   "id": "dc99cc96-aa30-41d1-9d2b-066327a42336",
   "metadata": {},
   "outputs": [],
   "source": [
    "params = GrowerParams(\n",
    "    rad_func='static_rads',\n",
    "    rads=rads,\n",
    "    n_pts_eval_per_iter=20,\n",
    "    n_pts_add_per_iter=1,\n",
    "    pt_to_poly_func='reg_poly',\n",
    "    n_corners=8,\n",
    ")\n",
    "g = Grower(poly=drawbox.centroid.buffer(5), params=params)"
   ]
  },
  {
   "cell_type": "code",
   "execution_count": null,
   "id": "f8aced84-35dd-43a9-9704-b1c50a77c954",
   "metadata": {
    "tags": []
   },
   "outputs": [],
   "source": [
    "for ii in tqdm(range(210)):\n",
    "    g.grow()"
   ]
  },
  {
   "cell_type": "code",
   "execution_count": null,
   "id": "b2bf0d93-b119-4450-bb5e-b0a9eb81cdbb",
   "metadata": {},
   "outputs": [],
   "source": [
    "polys = gp.make_like(gp.merge_Polygons([p.buffer(-0.1, cap_style=2, join_style=2) for p in g.polys]), drawbox)"
   ]
  },
  {
   "cell_type": "code",
   "execution_count": null,
   "id": "5f770c54-ff61-4d76-8e89-286ed3e7b2ef",
   "metadata": {},
   "outputs": [],
   "source": [
    "fills = []\n",
    "for poly in polys:\n",
    "    prms = gp.ScaleTransPrms(\n",
    "        n_iters=200,\n",
    "        d_buffer=ss.uniform(loc=-0.8, scale=0.7).rvs(),\n",
    "        d_translate_factor=0.6,\n",
    "        angles=ss.uniform(loc=0, scale=180).rvs(),\n",
    "    )\n",
    "    p = gp.Poly(poly)\n",
    "    p.fill_scale_trans(**prms.prms)\n",
    "    fills.append(p.fill)"
   ]
  },
  {
   "cell_type": "code",
   "execution_count": null,
   "id": "711569bf-94ba-4dec-963f-93ad2ee262be",
   "metadata": {
    "tags": []
   },
   "outputs": [],
   "source": [
    "lss = gp.merge_LineStrings(fills)"
   ]
  },
  {
   "cell_type": "code",
   "execution_count": null,
   "id": "6d1a843a-6410-42db-a321-2e94d69a3c5a",
   "metadata": {},
   "outputs": [],
   "source": [
    "lss"
   ]
  },
  {
   "cell_type": "code",
   "execution_count": null,
   "id": "ea2fbc26-8de4-491c-9fca-bbebf7a74410",
   "metadata": {
    "heading_collapsed": "false"
   },
   "outputs": [],
   "source": [
    "sk = vsketch.Vsketch()\n",
    "sk.size(paper.page_format_mm)\n",
    "sk.scale('1mm')\n",
    "sk.penWidth('0.3mm')\n",
    "\n",
    "counter = 0\n",
    "for ls in lss:\n",
    "    counter += 1\n",
    "    sk.stroke(counter)\n",
    "    sk.geometry(ls)\n",
    "    \n",
    "sk.display(color_mode='layer')"
   ]
  },
  {
   "cell_type": "code",
   "execution_count": null,
   "id": "01fac2f4-87ad-4879-adb0-5b41d85214e7",
   "metadata": {},
   "outputs": [],
   "source": [
    "import fn"
   ]
  },
  {
   "cell_type": "code",
   "execution_count": null,
   "id": "10fdd132-0beb-439b-8586-d97b5a2669d1",
   "metadata": {},
   "outputs": [],
   "source": [
    "plot_id = fn.new_plot_id()"
   ]
  },
  {
   "cell_type": "code",
   "execution_count": null,
   "id": "34e3361c-a572-44fc-92a4-b17a59b4b65e",
   "metadata": {},
   "outputs": [],
   "source": [
    "savedir='/home/naka/art/plotter_svgs'"
   ]
  },
  {
   "cell_type": "code",
   "execution_count": null,
   "id": "ed834bd7-5186-4d43-bbc9-02843e0b24b4",
   "metadata": {},
   "outputs": [],
   "source": [
    "savepath = Path(savedir).joinpath(f'{plot_id}.svg').as_posix()\n",
    "sk.save(savepath)"
   ]
  },
  {
   "cell_type": "code",
   "execution_count": null,
   "id": "fdea548f-5952-49b0-8282-5ab7c6620ba6",
   "metadata": {},
   "outputs": [],
   "source": [
    "from genpen.axicam import AxiCam"
   ]
  },
  {
   "cell_type": "code",
   "execution_count": null,
   "id": "7bf79b1e-1e59-44f4-afb5-14cccc2ec63e",
   "metadata": {},
   "outputs": [],
   "source": [
    "ac = AxiCam()"
   ]
  },
  {
   "cell_type": "code",
   "execution_count": null,
   "id": "de60f63c-c7ac-4d7e-8bc8-08c64ae4bfe5",
   "metadata": {},
   "outputs": [],
   "source": [
    "ac.init_cam()"
   ]
  },
  {
   "cell_type": "code",
   "execution_count": null,
   "id": "5b43c746-be9f-4cdf-9c94-63594e97a5b6",
   "metadata": {},
   "outputs": [],
   "source": [
    "ac.cam.video_preview()"
   ]
  },
  {
   "cell_type": "code",
   "execution_count": null,
   "id": "2c5bbbce-b4c3-419c-af17-548742d2b63f",
   "metadata": {},
   "outputs": [],
   "source": [
    "ac.cam.close()"
   ]
  },
  {
   "cell_type": "code",
   "execution_count": null,
   "id": "da973fbb-a557-4e9d-94ad-bbb4dbe5e28d",
   "metadata": {},
   "outputs": [],
   "source": [
    "ac.ad.options.speed_penup = 80"
   ]
  },
  {
   "cell_type": "code",
   "execution_count": null,
   "id": "13a6a771-1ca7-464c-af36-a9b3f4ced8af",
   "metadata": {},
   "outputs": [],
   "source": [
    "ac.ad.options.accel = 70\n",
    "ac.ad.options.pen_raise_rate = 85"
   ]
  },
  {
   "cell_type": "code",
   "execution_count": null,
   "id": "4c832a83-44c0-418e-b426-56c7fe131f1f",
   "metadata": {},
   "outputs": [],
   "source": [
    "ac.ad.options.speed_pendown = 60\n",
    "ac.ad.update()"
   ]
  },
  {
   "cell_type": "code",
   "execution_count": null,
   "id": "dbc2aec5-b9e6-438c-87b1-a76a14c06118",
   "metadata": {},
   "outputs": [],
   "source": [
    "ac.plot_layers(wait_times=0.3, start_layer=0)"
   ]
  },
  {
   "cell_type": "code",
   "execution_count": null,
   "id": "a8aa789c-3754-488e-a3bd-c69483ddd970",
   "metadata": {
    "heading_collapsed": "false"
   },
   "outputs": [],
   "source": [
    "# make page\n",
    "paper_size = '11x14 inches'\n",
    "border:float=40\n",
    "paper = Paper(paper_size)\n",
    "\n",
    "drawbox = paper.get_drawbox(border)"
   ]
  },
  {
   "cell_type": "code",
   "execution_count": null,
   "id": "e1d157d1-8824-4817-b048-402ed8bb66b2",
   "metadata": {},
   "outputs": [],
   "source": [
    "params = GrowerParams(\n",
    "    rad_func='loss_scaled_rad',\n",
    "    rad_range=(30, 5),\n",
    "    n_pts_eval_per_iter=14,\n",
    "    n_pts_add_per_iter=1,\n",
    "    pt_to_poly_func='buffer_pt',\n",
    "    n_corners=7,\n",
    ")\n",
    "g = Grower(poly=drawbox.centroid.buffer(5), params=params)"
   ]
  },
  {
   "cell_type": "code",
   "execution_count": null,
   "id": "1d2b2906-43d4-4728-b534-c4aecd78fbe8",
   "metadata": {
    "tags": []
   },
   "outputs": [],
   "source": [
    "for ii in tqdm(range(1)):\n",
    "    g.grow()"
   ]
  },
  {
   "cell_type": "code",
   "execution_count": null,
   "id": "91d37ba1-94dc-4932-a520-994a0168e442",
   "metadata": {},
   "outputs": [],
   "source": [
    "polys = gp.make_like(gp.merge_Polygons([p.buffer(-0.1, cap_style=2, join_style=2) for p in g.polys]), drawbox)"
   ]
  },
  {
   "cell_type": "code",
   "execution_count": null,
   "id": "2072fe04-9439-4afd-8388-0dc3f50c0bb5",
   "metadata": {},
   "outputs": [],
   "source": [
    "fills = []\n",
    "for poly in polys:\n",
    "    prms = gp.ScaleTransPrms(\n",
    "        n_iters=200,\n",
    "        d_buffer=ss.uniform(loc=-5.5, scale=1.3).rvs(),\n",
    "        d_translate_factor=0.6,\n",
    "        angles=ss.uniform(loc=0, scale=180).rvs(),\n",
    "    )\n",
    "    p = gp.Poly(poly)\n",
    "    p.fill_scale_trans(**prms.prms)\n",
    "    fills.append(p.fill)"
   ]
  },
  {
   "cell_type": "code",
   "execution_count": null,
   "id": "69a94b17-78c9-430e-be8b-73c5fa7ccae0",
   "metadata": {
    "tags": []
   },
   "outputs": [],
   "source": [
    "lss = gp.merge_LineStrings(fills)"
   ]
  },
  {
   "cell_type": "code",
   "execution_count": null,
   "id": "4e8c2c1f-7d0f-44bf-994b-32fdcab8ec37",
   "metadata": {},
   "outputs": [],
   "source": [
    "lss"
   ]
  },
  {
   "cell_type": "code",
   "execution_count": null,
   "id": "4fbcf4ce-99ac-4f44-9615-9a3483fa9041",
   "metadata": {
    "heading_collapsed": "false"
   },
   "outputs": [],
   "source": [
    "sk = vsketch.Vsketch()\n",
    "sk.size(paper.page_format_mm)\n",
    "sk.scale('1mm')\n",
    "sk.penWidth('0.3mm')\n",
    "\n",
    "counter = 0\n",
    "for ls in lss:\n",
    "    counter += 1\n",
    "    sk.stroke(counter)\n",
    "    sk.geometry(ls)\n",
    "    \n",
    "sk.display(color_mode='layer')"
   ]
  },
  {
   "cell_type": "code",
   "execution_count": null,
   "id": "4369b0e9-e9ad-4b81-b3e7-6e6ebffb1549",
   "metadata": {},
   "outputs": [],
   "source": [
    "import fn"
   ]
  },
  {
   "cell_type": "code",
   "execution_count": null,
   "id": "8df4fa81-bb3d-4ce1-ad96-0ec14790bbc4",
   "metadata": {},
   "outputs": [],
   "source": [
    "plot_id = fn.new_plot_id()"
   ]
  },
  {
   "cell_type": "code",
   "execution_count": null,
   "id": "9c08c2e9-ab2d-42f6-a244-a92d910a6a4a",
   "metadata": {},
   "outputs": [],
   "source": [
    "savedir='/home/naka/art/plotter_svgs'"
   ]
  },
  {
   "cell_type": "code",
   "execution_count": null,
   "id": "4c8b02dc-ceae-4dfb-8918-4f9be7814b18",
   "metadata": {},
   "outputs": [],
   "source": [
    "savepath = Path(savedir).joinpath(f'{plot_id}.svg').as_posix()\n",
    "sk.save(savepath)"
   ]
  },
  {
   "cell_type": "code",
   "execution_count": null,
   "id": "62b72659-31b3-4d90-9c10-cd1fc3c9b523",
   "metadata": {},
   "outputs": [],
   "source": [
    "from genpen.axicam import AxiCam"
   ]
  },
  {
   "cell_type": "code",
   "execution_count": null,
   "id": "1a8560bb-2243-411d-b275-638d0afeed31",
   "metadata": {},
   "outputs": [],
   "source": [
    "ac = AxiCam()"
   ]
  },
  {
   "cell_type": "code",
   "execution_count": null,
   "id": "2acdc0e3-a2df-4c85-9769-7527d43cdffc",
   "metadata": {},
   "outputs": [],
   "source": [
    "ac.init_cam()"
   ]
  },
  {
   "cell_type": "code",
   "execution_count": null,
   "id": "c48f2088-7f0e-4f7a-96c6-d20522509da9",
   "metadata": {},
   "outputs": [],
   "source": [
    "ac.cam.video_preview()"
   ]
  },
  {
   "cell_type": "code",
   "execution_count": null,
   "id": "17aba9ea-9c29-4628-ac68-680ff9b623dd",
   "metadata": {},
   "outputs": [],
   "source": [
    "ac.cam.close()"
   ]
  },
  {
   "cell_type": "code",
   "execution_count": null,
   "id": "eeb1f7ce-9278-4011-af73-76c4d9503947",
   "metadata": {},
   "outputs": [],
   "source": [
    "ac.ad.options.speed_penup = 80"
   ]
  },
  {
   "cell_type": "code",
   "execution_count": null,
   "id": "0b91a267-9942-4103-bc91-e51ea8360ae8",
   "metadata": {},
   "outputs": [],
   "source": [
    "ac.ad.options.accel = 70\n",
    "ac.ad.options.pen_raise_rate = 85"
   ]
  },
  {
   "cell_type": "code",
   "execution_count": null,
   "id": "afb2f151-7ca3-48d3-a6f3-e56033994f83",
   "metadata": {},
   "outputs": [],
   "source": [
    "ac.ad.options.speed_pendown = 10\n",
    "ac.ad.update()"
   ]
  },
  {
   "cell_type": "code",
   "execution_count": null,
   "id": "34587df4-6f6b-4798-aa29-a7b275505fc0",
   "metadata": {},
   "outputs": [],
   "source": [
    "ac.plot_layers(wait_times=0.3, start_layer=0)"
   ]
  },
  {
   "cell_type": "markdown",
   "id": "1abba01d-f48b-4838-875f-cb9ca558f1a6",
   "metadata": {},
   "source": [
    "# target"
   ]
  },
  {
   "cell_type": "code",
   "execution_count": null,
   "id": "ae3e509b-37f8-405b-9f09-e4280108b032",
   "metadata": {
    "heading_collapsed": "false"
   },
   "outputs": [],
   "source": [
    "# make page\n",
    "paper_size = '11x14 inches'\n",
    "border:float=30\n",
    "paper = Paper(paper_size)\n",
    "\n",
    "drawbox = paper.get_drawbox(border)"
   ]
  },
  {
   "cell_type": "code",
   "execution_count": null,
   "id": "de3e2302-7767-44e1-8aff-9435babe0238",
   "metadata": {},
   "outputs": [],
   "source": [
    "drawbox.bounds"
   ]
  },
  {
   "cell_type": "code",
   "execution_count": null,
   "id": "e0462332-6c35-4102-a759-2b53962c1154",
   "metadata": {},
   "outputs": [],
   "source": [
    "target.xy"
   ]
  },
  {
   "cell_type": "code",
   "execution_count": null,
   "id": "31e2386f-77bb-4809-ae3d-768dd9a5906e",
   "metadata": {},
   "outputs": [],
   "source": [
    "\n",
    "init_poly = Point(140, 75).buffer(0.3)\n",
    "target = Point(140, 185)"
   ]
  },
  {
   "cell_type": "code",
   "execution_count": null,
   "id": "32232482-3d2d-41ea-8a19-971ff0814a85",
   "metadata": {},
   "outputs": [],
   "source": [
    "gs = []\n",
    "init_poly = Point(140, 185).buffer(0.1)"
   ]
  },
  {
   "cell_type": "code",
   "execution_count": null,
   "id": "868c14f9-77b5-486d-9620-c6b41cf3af35",
   "metadata": {},
   "outputs": [],
   "source": [
    "params = GrowerParams(\n",
    "    rad_func='loss_scaled_rad',\n",
    "    rad_range=(7, 2),\n",
    "    n_pts_eval_per_iter=40,\n",
    "    n_pts_add_per_iter=2,\n",
    "    pt_to_poly_func='buffer_pt',\n",
    "    loss_func='distance_from_target',\n",
    "    loss_range=(0, 15),\n",
    "    halt_condition_func='above_loss_threshold',\n",
    "    n_corners=6,\n",
    "    loss_threshold=10\n",
    ")\n",
    "g = Grower(poly=init_poly, params=params, target=target)\n",
    "g.grow(130)\n",
    "init_poly = g.agg_poly\n",
    "gs.append(g)\n",
    "\n",
    "\n",
    "params = GrowerParams(\n",
    "    rad_func='loss_scaled_rad',\n",
    "    rad_range=(15, 1),\n",
    "    n_pts_eval_per_iter=40,\n",
    "    n_pts_add_per_iter=5,\n",
    "    pt_to_poly_func='reg_poly',\n",
    "    loss_func='distance_from_target',\n",
    "    loss_range=(10, 30),\n",
    "    halt_condition_func='above_loss_threshold',\n",
    "    n_corners=6,\n",
    "    loss_threshold=30\n",
    ")\n",
    "g = Grower(poly=init_poly, params=params, target=target)\n",
    "g.grow(180)\n",
    "init_poly = g.agg_poly\n",
    "_ = g.polys.pop(0)\n",
    "gs.append(g)\n",
    "\n",
    "\n",
    "\n",
    "params = GrowerParams(\n",
    "    rad_func='loss_scaled_rad',\n",
    "    rad_range=(15, 1),\n",
    "    n_pts_eval_per_iter=40,\n",
    "    n_pts_add_per_iter=5,\n",
    "    pt_to_poly_func='buffer_pt',\n",
    "    loss_func='distance_from_target',\n",
    "    loss_range=(30, 55),\n",
    "    halt_condition_func='above_loss_threshold',\n",
    "    n_corners=6,\n",
    "    loss_threshold=55\n",
    ")\n",
    "g = Grower(poly=init_poly, params=params, target=target)\n",
    "\n",
    "g.grow(180)\n",
    "\n",
    "init_poly = g.agg_poly\n",
    "_ = g.polys.pop(0)\n",
    "gs.append(g)\n",
    "\n",
    "params = GrowerParams(\n",
    "    rad_func='loss_scaled_rad',\n",
    "    rad_range=(8, 1),\n",
    "    n_pts_eval_per_iter=40,\n",
    "    n_pts_add_per_iter=10,\n",
    "    pt_to_poly_func='reg_poly',\n",
    "    loss_func='distance_from_target',\n",
    "    loss_range=(55, 70),\n",
    "    halt_condition_func='above_loss_threshold',\n",
    "    n_corners=6,\n",
    "    loss_threshold=70\n",
    ")\n",
    "g = Grower(poly=init_poly, params=params, target=target)\n",
    "\n",
    "g.grow(180)\n",
    "\n",
    "init_poly = g.agg_poly\n",
    "_ = g.polys.pop(0)\n",
    "gs.append(g)\n",
    "\n",
    "params = GrowerParams(\n",
    "    rad_func='loss_scaled_rad',\n",
    "    rad_range=(20, 1),\n",
    "    n_pts_eval_per_iter=40,\n",
    "    n_pts_add_per_iter=5,\n",
    "    pt_to_poly_func='buffer_pt',\n",
    "    loss_func='distance_from_target',\n",
    "    loss_range=(70, 105),\n",
    "    halt_condition_func='above_loss_threshold',\n",
    "    n_corners=6,\n",
    "    loss_threshold=105\n",
    ")\n",
    "g = Grower(poly=init_poly, params=params, target=target)\n",
    "\n",
    "g.grow(180)\n",
    "\n",
    "init_poly = g.agg_poly\n",
    "_ = g.polys.pop(0)\n",
    "gs.append(g)"
   ]
  },
  {
   "cell_type": "code",
   "execution_count": null,
   "id": "a30cb130-57a8-467e-ad7d-08a3519773c2",
   "metadata": {},
   "outputs": [],
   "source": [
    "polys = gp.make_like(gp.merge_Polygons([p.buffer(-0.1, cap_style=2, join_style=2) for p in g.polys]), drawbox)"
   ]
  },
  {
   "cell_type": "code",
   "execution_count": null,
   "id": "5268df0b-45a5-49d4-ad47-1bcf3a3833a0",
   "metadata": {},
   "outputs": [],
   "source": [
    "target = Point(30, 300)"
   ]
  },
  {
   "cell_type": "code",
   "execution_count": null,
   "id": "6508bcbf-d105-439d-97dd-b98da7c70500",
   "metadata": {},
   "outputs": [],
   "source": [
    "ds = []\n",
    "for g in gs:\n",
    "    for poly in g.polys:\n",
    "        d = poly.distance(target)\n",
    "        ds.append(d)"
   ]
  },
  {
   "cell_type": "code",
   "execution_count": null,
   "id": "75c1e53c-2d3e-4932-9eb9-cd20005e56a5",
   "metadata": {},
   "outputs": [],
   "source": [
    "fills = []\n",
    "for g in gs:\n",
    "    for poly in g.polys:\n",
    "        d = poly.distance(target)\n",
    "        prms = gp.ScaleTransPrms(\n",
    "            n_iters=200,\n",
    "            d_buffer=np.interp(d, (50, 250), (-0.9, -0.25)),\n",
    "            d_translate_factor=0.6,\n",
    "            angles=np.pi * 3/4,\n",
    "        )\n",
    "        p = gp.Poly(poly)\n",
    "        p.fill_scale_trans(**prms.prms)\n",
    "        fills.append(p.fill)"
   ]
  },
  {
   "cell_type": "code",
   "execution_count": null,
   "id": "04fbeb36-e86d-4d4a-825a-d6b932656a2e",
   "metadata": {
    "heading_collapsed": "false"
   },
   "outputs": [],
   "source": [
    "sk = vsketch.Vsketch()\n",
    "sk.size(paper.page_format_mm)\n",
    "sk.scale('1mm')\n",
    "sk.penWidth('0.3mm')\n",
    "\n",
    "counter = 0\n",
    "for g in gs:\n",
    "    for ls in g.mpoly.boundary:\n",
    "        counter += 1\n",
    "        sk.stroke(counter)\n",
    "        sk.geometry(ls)\n",
    "        \n",
    "for fill in fills:\n",
    "    counter += 1\n",
    "    sk.stroke(counter)\n",
    "    sk.geometry(fill)\n",
    "    \n",
    "    \n",
    "sk.display(color_mode='layer')"
   ]
  },
  {
   "cell_type": "code",
   "execution_count": null,
   "id": "fa95e7be-3980-47ab-9beb-64033bd099c2",
   "metadata": {},
   "outputs": [],
   "source": []
  },
  {
   "cell_type": "code",
   "execution_count": null,
   "id": "5a7ae163-5986-4275-904e-6528a7aa681d",
   "metadata": {},
   "outputs": [],
   "source": [
    "plot_id = fn.new_plot_id()"
   ]
  },
  {
   "cell_type": "code",
   "execution_count": null,
   "id": "ff0d3c4f-25ec-4698-a366-b99c4b5b4534",
   "metadata": {},
   "outputs": [],
   "source": [
    "savedir='/home/naka/art/plotter_svgs'"
   ]
  },
  {
   "cell_type": "code",
   "execution_count": null,
   "id": "fae15d0a-7eb8-4378-a462-82dfec5e53ff",
   "metadata": {},
   "outputs": [],
   "source": [
    "savepath = Path(savedir).joinpath(f'{plot_id}.svg').as_posix()\n",
    "sk.save(savepath)"
   ]
  },
  {
   "cell_type": "code",
   "execution_count": null,
   "id": "e6b63e2f-0c14-4052-aeb8-1e1ca205beac",
   "metadata": {},
   "outputs": [],
   "source": [
    "ac = AxiCam()"
   ]
  },
  {
   "cell_type": "code",
   "execution_count": null,
   "id": "346d3fa9-33e9-4da1-9383-13902e9cec60",
   "metadata": {},
   "outputs": [],
   "source": [
    "ac.init_cam()"
   ]
  },
  {
   "cell_type": "code",
   "execution_count": null,
   "id": "0fd09fff-497f-4374-9ecb-00840cf4cd97",
   "metadata": {},
   "outputs": [],
   "source": [
    "ac.cam.video_preview()"
   ]
  },
  {
   "cell_type": "code",
   "execution_count": null,
   "id": "b8a9ff32-7278-4813-8b82-938a125f8992",
   "metadata": {},
   "outputs": [],
   "source": [
    "ac.cam.close()"
   ]
  },
  {
   "cell_type": "code",
   "execution_count": null,
   "id": "38869618-4ba9-40ca-9e1a-7f65f62224bf",
   "metadata": {},
   "outputs": [],
   "source": [
    "ac.ad.options.speed_penup = 80"
   ]
  },
  {
   "cell_type": "code",
   "execution_count": null,
   "id": "d15a2193-eef9-4ee4-8e17-8c7930458485",
   "metadata": {},
   "outputs": [],
   "source": [
    "ac.ad.options.accel = 40\n",
    "ac.ad.options.pen_raise_rate = 85"
   ]
  },
  {
   "cell_type": "code",
   "execution_count": null,
   "id": "20c5920d-d003-4398-8573-a1a22627c236",
   "metadata": {},
   "outputs": [],
   "source": [
    "ac.ad.options.speed_pendown = 55\n",
    "ac.ad.update()"
   ]
  },
  {
   "cell_type": "code",
   "execution_count": null,
   "id": "958634eb-7966-43c4-b1b6-e9553d4be1a9",
   "metadata": {},
   "outputs": [],
   "source": [
    "ac.plot_layers(wait_times=0.3, start_layer=21)"
   ]
  },
  {
   "cell_type": "code",
   "execution_count": null,
   "id": "2fdbd865-1bc9-4fb8-a901-ac8e8814b350",
   "metadata": {},
   "outputs": [],
   "source": []
  },
  {
   "cell_type": "markdown",
   "id": "9771f1c6-ccf0-4c8c-8f5c-c254331a2712",
   "metadata": {},
   "source": [
    "# target"
   ]
  },
  {
   "cell_type": "code",
   "execution_count": null,
   "id": "89beff62-986b-4cd1-a266-5144c7a7e177",
   "metadata": {
    "heading_collapsed": "false"
   },
   "outputs": [],
   "source": [
    "# make page\n",
    "paper_size = '11x14 inches'\n",
    "border:float=50\n",
    "paper = Paper(paper_size)\n",
    "\n",
    "drawbox = paper.get_drawbox(border)"
   ]
  },
  {
   "cell_type": "code",
   "execution_count": null,
   "id": "0a0430cc-2dd2-44c4-8a49-d46ab0109c72",
   "metadata": {},
   "outputs": [],
   "source": [
    "drawbox.bounds"
   ]
  },
  {
   "cell_type": "code",
   "execution_count": null,
   "id": "3369396a-57c0-4d5e-8b5e-fc08d39526f0",
   "metadata": {},
   "outputs": [],
   "source": [
    "circ = drawbox.centroid.buffer(55)\n",
    "xgen = ss.uniform(loc=0.3, scale=0.02).rvs\n",
    "split_func = functools.partial(gp.split_along_longest_side_of_min_rectangle, xgen=xgen)\n",
    "splits = gp.recursive_split_frac_buffer(\n",
    "    circ, \n",
    "    split_func=split_func,\n",
    "    p_continue=0.85, \n",
    "    depth=0, \n",
    "    depth_limit=6,\n",
    "    buffer_frac=-0.0\n",
    ")\n",
    "\n",
    "\n",
    "bps = MultiPolygon([p for p in splits])"
   ]
  },
  {
   "cell_type": "code",
   "execution_count": null,
   "id": "f13253ce-fd9d-4e36-82f4-72810f0cd482",
   "metadata": {},
   "outputs": [],
   "source": [
    "bps"
   ]
  },
  {
   "cell_type": "code",
   "execution_count": null,
   "id": "7acc0854-fd8e-4c47-9267-ad52bb173e00",
   "metadata": {},
   "outputs": [],
   "source": [
    "keep_bps = np.random.choice(bps, int(len(bps)*0.6))"
   ]
  },
  {
   "cell_type": "code",
   "execution_count": null,
   "id": "002d92c7-5245-4a4a-b8f9-2491059afb9c",
   "metadata": {
    "tags": []
   },
   "outputs": [],
   "source": [
    "circs = gp.circle_pack_within_poly(poly=circ, rads=np.linspace(7, 3, 10))\n"
   ]
  },
  {
   "cell_type": "code",
   "execution_count": null,
   "id": "125f05e1-40e1-41f5-8928-d0021f80d76d",
   "metadata": {},
   "outputs": [],
   "source": [
    "middle_circs = circs.intersection(gp.merge_Polygons(keep_bps))\n",
    "middle_circs"
   ]
  },
  {
   "cell_type": "code",
   "execution_count": null,
   "id": "ae0927f6-10fa-4b91-93ed-1590c95b1bcd",
   "metadata": {},
   "outputs": [],
   "source": [
    "gs = []"
   ]
  },
  {
   "cell_type": "code",
   "execution_count": null,
   "id": "3d797ea4-9d6e-437e-a2b7-09be0c09cca6",
   "metadata": {},
   "outputs": [],
   "source": [
    "init_poly = circ"
   ]
  },
  {
   "cell_type": "code",
   "execution_count": null,
   "id": "692e8c1c-3d65-4950-bd05-a49027573dd6",
   "metadata": {
    "tags": []
   },
   "outputs": [],
   "source": [
    "params = GrowerParams(\n",
    "#     rad_func='loss_scaled_rad',\n",
    "#     rad_range=(4, 1),\n",
    "    rads=ss.uniform(loc=3, scale=6).rvs,\n",
    "#     rads=1,\n",
    "    n_pts_eval_per_iter=4,\n",
    "    n_pts_add_per_iter=2,\n",
    "    pt_to_poly_func='reg_poly',\n",
    "    loss_func='negative_distance_from_target',\n",
    "    rotations=ss.uniform(loc=0, scale=360).rvs,\n",
    "    loss_range=(0, 7),\n",
    "    halt_condition_func='below_loss_threshold',\n",
    "    n_corners=6,\n",
    "    loss_threshold=-120\n",
    ")\n",
    "g = Grower(poly=init_poly, params=params, target=drawbox.centroid)\n",
    "g.grow(130)\n",
    "init_poly = g.agg_poly\n",
    "gs.append(g)"
   ]
  },
  {
   "cell_type": "code",
   "execution_count": null,
   "id": "07c8921d-45d6-4c2d-a1d6-a5d42d879b8f",
   "metadata": {},
   "outputs": [],
   "source": [
    "g.mpoly"
   ]
  },
  {
   "cell_type": "code",
   "execution_count": null,
   "id": "344f7aad-0692-4033-b568-f15a1d93e85d",
   "metadata": {},
   "outputs": [],
   "source": [
    "polys = g.polys\n",
    "_ = polys.pop(0)"
   ]
  },
  {
   "cell_type": "code",
   "execution_count": null,
   "id": "ef024a21-912b-467e-b0b3-f3728aadc25b",
   "metadata": {},
   "outputs": [],
   "source": [
    "polys = gp.make_like(gp.merge_Polygons([p.buffer(-0.1, cap_style=2, join_style=2) for p in g.polys]), drawbox)"
   ]
  },
  {
   "cell_type": "code",
   "execution_count": null,
   "id": "f9cd44da-4a30-485d-b2f2-d2646d12fe1e",
   "metadata": {},
   "outputs": [],
   "source": [
    "target = Point(30, 300)"
   ]
  },
  {
   "cell_type": "code",
   "execution_count": null,
   "id": "725e3f59-de8e-4150-85cf-d3060aadacaf",
   "metadata": {},
   "outputs": [],
   "source": [
    "ds = []\n",
    "for g in gs:\n",
    "    for poly in g.polys:\n",
    "        d = poly.distance(target)\n",
    "        ds.append(d)"
   ]
  },
  {
   "cell_type": "code",
   "execution_count": null,
   "id": "a4b1bfc0-ebe2-489c-bcee-cfedd2eb7f97",
   "metadata": {},
   "outputs": [],
   "source": [
    "fills = []\n",
    "for g in gs:\n",
    "    for poly in g.polys:\n",
    "        d = poly.distance(target)\n",
    "        prms = gp.ScaleTransPrms(\n",
    "            n_iters=200,\n",
    "            d_buffer=np.interp(d, (50, 250), (-0.9, -0.25)),\n",
    "            d_translate_factor=0.6,\n",
    "            angles=np.pi * 3/4,\n",
    "        )\n",
    "        p = gp.Poly(poly)\n",
    "        p.fill_scale_trans(**prms.prms)\n",
    "        fills.append(p.fill)"
   ]
  },
  {
   "cell_type": "code",
   "execution_count": null,
   "id": "90c73e8c-01a4-4463-abbc-c27b8ca93629",
   "metadata": {
    "heading_collapsed": "false"
   },
   "outputs": [],
   "source": [
    "sk = vsketch.Vsketch()\n",
    "sk.size(paper.page_format_mm)\n",
    "sk.scale('1mm')\n",
    "sk.penWidth('0.3mm')\n",
    "\n",
    "counter = 0\n",
    "for g in gs:\n",
    "    for ls in g.mpoly.boundary:\n",
    "        counter += 1\n",
    "        sk.stroke(counter)\n",
    "        sk.geometry(ls)\n",
    "        \n",
    "for fill in fills:\n",
    "    counter += 1\n",
    "    sk.stroke(counter)\n",
    "    sk.geometry(fill)\n",
    "    \n",
    "    \n",
    "sk.display(color_mode='layer')"
   ]
  },
  {
   "cell_type": "code",
   "execution_count": null,
   "id": "9a88f7de-a6cb-4150-bc58-1efe8fc91b30",
   "metadata": {},
   "outputs": [],
   "source": []
  },
  {
   "cell_type": "code",
   "execution_count": null,
   "id": "488ffff3-deaf-40bc-a62f-548906dbda8c",
   "metadata": {},
   "outputs": [],
   "source": [
    "plot_id = fn.new_plot_id()"
   ]
  },
  {
   "cell_type": "code",
   "execution_count": null,
   "id": "e51723a1-1493-42e1-9340-e80d55c2350c",
   "metadata": {},
   "outputs": [],
   "source": [
    "savedir='/home/naka/art/plotter_svgs'"
   ]
  },
  {
   "cell_type": "code",
   "execution_count": null,
   "id": "b45871b0-53c4-41ec-9202-558a49d8c030",
   "metadata": {},
   "outputs": [],
   "source": [
    "savepath = Path(savedir).joinpath(f'{plot_id}.svg').as_posix()\n",
    "sk.save(savepath)"
   ]
  },
  {
   "cell_type": "code",
   "execution_count": null,
   "id": "ec9b0c1e-b371-4ec8-911c-aeab2aeafcdb",
   "metadata": {},
   "outputs": [],
   "source": [
    "ac = AxiCam()"
   ]
  },
  {
   "cell_type": "code",
   "execution_count": null,
   "id": "6a378743-9ad9-4fbe-b011-c23bcae4f5d8",
   "metadata": {},
   "outputs": [],
   "source": [
    "ac.init_cam()"
   ]
  },
  {
   "cell_type": "code",
   "execution_count": null,
   "id": "367cbe3f-12a0-4099-82ff-00774f7c2843",
   "metadata": {},
   "outputs": [],
   "source": [
    "ac.cam.video_preview()"
   ]
  },
  {
   "cell_type": "code",
   "execution_count": null,
   "id": "c9ba9c58-f132-4fab-aaa0-642991c3841d",
   "metadata": {},
   "outputs": [],
   "source": [
    "ac.cam.close()"
   ]
  },
  {
   "cell_type": "code",
   "execution_count": null,
   "id": "3126f5ec-10ad-4e0f-9f49-0911e4f515c6",
   "metadata": {},
   "outputs": [],
   "source": [
    "ac.ad.options.speed_penup = 80"
   ]
  },
  {
   "cell_type": "code",
   "execution_count": null,
   "id": "372ea199-a902-4328-963a-f6079d376b0e",
   "metadata": {},
   "outputs": [],
   "source": [
    "ac.ad.options.accel = 40\n",
    "ac.ad.options.pen_raise_rate = 85"
   ]
  },
  {
   "cell_type": "code",
   "execution_count": null,
   "id": "22da142a-9a19-4c60-b8b9-538af618ddaf",
   "metadata": {},
   "outputs": [],
   "source": [
    "ac.ad.options.speed_pendown = 55\n",
    "ac.ad.update()"
   ]
  },
  {
   "cell_type": "code",
   "execution_count": null,
   "id": "2cdf25dc-0a02-4d22-bd03-4cf2fa9a45c7",
   "metadata": {},
   "outputs": [],
   "source": [
    "ac.plot_layers(wait_times=0.3, start_layer=21)"
   ]
  },
  {
   "cell_type": "markdown",
   "id": "91082f84-0a98-4fb6-8397-135a57a682f8",
   "metadata": {},
   "source": [
    "# for the poetiques"
   ]
  },
  {
   "cell_type": "code",
   "execution_count": null,
   "id": "7e5e464b-7c08-46de-ba86-4e707df445ef",
   "metadata": {
    "heading_collapsed": "false"
   },
   "outputs": [],
   "source": [
    "# make page\n",
    "paper_size = '6x6 inches'\n",
    "border:float=20\n",
    "paper = Paper(paper_size)\n",
    "\n",
    "drawbox = paper.get_drawbox(border)"
   ]
  },
  {
   "cell_type": "code",
   "execution_count": null,
   "id": "dda78f74-cb04-4883-a53a-4bfc0c724ee6",
   "metadata": {},
   "outputs": [],
   "source": [
    "params = GrowerParams(\n",
    "    rad_func='loss_scaled_rad',\n",
    "    rad_range=(20, 10),\n",
    "    n_pts_eval_per_iter=14,\n",
    "    n_pts_add_per_iter=1,\n",
    "    pt_to_poly_func='buffer_pt',\n",
    "    n_corners=7,\n",
    ")\n",
    "g = Grower(poly=drawbox.centroid.buffer(0.2), params=params)"
   ]
  },
  {
   "cell_type": "code",
   "execution_count": null,
   "id": "63f34e96-90b8-4a67-8436-3ca16cda3e91",
   "metadata": {
    "tags": []
   },
   "outputs": [],
   "source": [
    "\n",
    "g.grow(1)"
   ]
  },
  {
   "cell_type": "code",
   "execution_count": null,
   "id": "2676eee1-31fb-404c-b1bd-8b3eaf53f322",
   "metadata": {},
   "outputs": [],
   "source": [
    "polys = gp.make_like(gp.merge_Polygons([p.buffer(-0.1, cap_style=2, join_style=2) for p in g.polys]), drawbox)"
   ]
  },
  {
   "cell_type": "code",
   "execution_count": null,
   "id": "ea45a8f4-0e20-4770-a82d-eb5ac0faf6d0",
   "metadata": {},
   "outputs": [],
   "source": [
    "fills = []\n",
    "\n",
    "for poly in polys:\n",
    "    prms = gp.ScaleTransPrms(\n",
    "        n_iters=200,\n",
    "        d_buffer=ss.uniform(loc=-3, scale=0.3).rvs(),\n",
    "        d_translate_factor=0.8,\n",
    "        angles=ss.uniform(loc=0, scale=180).rvs(),\n",
    "    )\n",
    "    p = gp.Poly(poly)\n",
    "    p.fill_scale_trans(**prms.prms)\n",
    "    fills.append(p.fill)\n",
    "    \n",
    "for poly in polys:\n",
    "    prms = gp.ScaleTransPrms(\n",
    "        n_iters=200,\n",
    "        d_buffer=ss.uniform(loc=-3, scale=0.3).rvs(),\n",
    "        d_translate_factor=0.8,\n",
    "        angles=ss.uniform(loc=0, scale=180).rvs(),\n",
    "    )\n",
    "    p = gp.Poly(poly)\n",
    "    p.fill_scale_trans(**prms.prms)\n",
    "    fills.append(p.fill)"
   ]
  },
  {
   "cell_type": "code",
   "execution_count": null,
   "id": "274a186e-7cb7-431f-9853-09a342f06f48",
   "metadata": {
    "tags": []
   },
   "outputs": [],
   "source": [
    "lss = gp.merge_LineStrings(fills)"
   ]
  },
  {
   "cell_type": "code",
   "execution_count": null,
   "id": "62a59982-7abf-4bb3-bf7a-7c7f3fa9bb74",
   "metadata": {},
   "outputs": [],
   "source": [
    "lss"
   ]
  },
  {
   "cell_type": "code",
   "execution_count": null,
   "id": "0abe0d3c-94e5-4de3-945b-2bb39b1cf80b",
   "metadata": {
    "heading_collapsed": "false"
   },
   "outputs": [],
   "source": [
    "sk = vsketch.Vsketch()\n",
    "sk.size(paper.page_format_mm)\n",
    "sk.scale('1mm')\n",
    "sk.penWidth('0.3mm')\n",
    "\n",
    "counter = 0\n",
    "for ls in fills:\n",
    "    counter += 1\n",
    "    sk.stroke(counter)\n",
    "    sk.geometry(ls)\n",
    "    \n",
    "sk.display(color_mode='layer')"
   ]
  },
  {
   "cell_type": "code",
   "execution_count": null,
   "id": "67b51e87-a34b-4e65-8b4e-fcf2338fe0ad",
   "metadata": {},
   "outputs": [],
   "source": [
    "import fn"
   ]
  },
  {
   "cell_type": "code",
   "execution_count": null,
   "id": "358dc464-fe5f-4133-a325-690e5c46e765",
   "metadata": {},
   "outputs": [],
   "source": [
    "plot_id = fn.new_plot_id()"
   ]
  },
  {
   "cell_type": "code",
   "execution_count": null,
   "id": "18b55f9a-1d97-4f8f-8ef1-13bc4756db6f",
   "metadata": {},
   "outputs": [],
   "source": [
    "savedir='/home/naka/art/plotter_svgs'"
   ]
  },
  {
   "cell_type": "code",
   "execution_count": null,
   "id": "b717855d-68c7-4e67-90ff-bc66546f329f",
   "metadata": {},
   "outputs": [],
   "source": [
    "savepath = Path(savedir).joinpath(f'{plot_id}.svg').as_posix()\n",
    "sk.save(savepath)"
   ]
  },
  {
   "cell_type": "code",
   "execution_count": null,
   "id": "d5ed4220-82cc-4e1b-acfa-6af806caa35c",
   "metadata": {},
   "outputs": [],
   "source": []
  }
 ],
 "metadata": {
  "kernelspec": {
   "display_name": "Python [conda env:genpen]",
   "language": "python",
   "name": "conda-env-genpen-py"
  },
  "language_info": {
   "codemirror_mode": {
    "name": "ipython",
    "version": 3
   },
   "file_extension": ".py",
   "mimetype": "text/x-python",
   "name": "python",
   "nbconvert_exporter": "python",
   "pygments_lexer": "ipython3",
   "version": "3.8.8"
  }
 },
 "nbformat": 4,
 "nbformat_minor": 5
}

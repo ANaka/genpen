{
 "cells": [
  {
   "cell_type": "code",
   "execution_count": null,
   "metadata": {
    "Collapsed": "false"
   },
   "outputs": [],
   "source": [
    "import itertools\n",
    "import numpy as np\n",
    "import os\n",
    "from tqdm import tqdm\n",
    "import vsketch\n",
    "import shapely.geometry as sg\n",
    "from shapely.geometry import box, MultiLineString, Point, MultiPoint, Polygon, MultiPolygon, LineString\n",
    "import shapely.affinity as sa\n",
    "import shapely.ops as so\n",
    "import matplotlib.pyplot as plt\n",
    "import pandas as pd\n",
    "\n",
    "\n",
    "from genpen import genpen as gp, utils as utils\n",
    "from scipy import stats as ss\n",
    "import geopandas\n",
    "import functools\n",
    "\n",
    "%load_ext autoreload\n",
    "%autoreload 2\n",
    "\n",
    "from genpen.utils import Paper\n",
    "import bezier"
   ]
  },
  {
   "cell_type": "code",
   "execution_count": null,
   "metadata": {
    "Collapsed": "false"
   },
   "outputs": [],
   "source": [
    "# make page\n",
    "paper_size = '17x11 inches'\n",
    "border:float=35\n",
    "paper = Paper(paper_size)\n",
    "\n",
    "drawbox = paper.get_drawbox(border)"
   ]
  },
  {
   "cell_type": "code",
   "execution_count": null,
   "metadata": {
    "Collapsed": "false"
   },
   "outputs": [],
   "source": [
    "def random_line_subdivide(poly, x0=None, x1=None):\n",
    "    if x0 is None:\n",
    "        x0 = np.random.uniform(0,1)\n",
    "    if x1 is None:\n",
    "        x1 = (x0 + 0.5) % 1\n",
    "    return LineString([poly.boundary.interpolate(x, normalized=True) for x in [x0, x1]])"
   ]
  },
  {
   "cell_type": "code",
   "execution_count": null,
   "metadata": {
    "Collapsed": "false"
   },
   "outputs": [],
   "source": [
    "def random_bezier_subdivide(poly, x0=None, x1=None, n_eval_points=50):\n",
    "    if x0 is None:\n",
    "        x0 = np.random.uniform(0.2, 0.4)\n",
    "    if x1 is None:\n",
    "        x1 = np.random.uniform(0.6, 0.8)\n",
    "    line = np.asfortranarray(random_line_subdivide(poly, x0, x1))\n",
    "    bez_array = np.stack([line[0], poly.centroid, line[1]]).T\n",
    "    curve1 = bezier.Curve(bez_array, degree=2)\n",
    "    bez = curve1.evaluate_multi(np.linspace(0., 1., n_eval_points))\n",
    "    return sg.asLineString(bez.T)"
   ]
  },
  {
   "cell_type": "code",
   "execution_count": null,
   "metadata": {
    "Collapsed": "false"
   },
   "outputs": [],
   "source": [
    "def split_along_longest_side_of_min_rectangle(poly, xgen=None):\n",
    "    if xgen is None:\n",
    "        xgen = gp.make_callable(0.5)\n",
    "    mrrc = poly.minimum_rotated_rectangle.boundary.coords\n",
    "    sides = [LineString([mrrc[i], mrrc[i+1]]) for i in range(4)]\n",
    "    longest_sides = [sides[i] for i in np.argsort([-l.length for l in sides])[:2]]\n",
    "    bps = [ls.interpolate(xgen(), normalized=True)for ls in longest_sides]\n",
    "\n",
    "    return LineString([so.nearest_points(bp, poly.boundary)[1] for bp in bps])"
   ]
  },
  {
   "cell_type": "code",
   "execution_count": null,
   "metadata": {
    "Collapsed": "false"
   },
   "outputs": [],
   "source": [
    "def recursive_split(poly, split_func=random_line_subdivide, p_continue=0.7, depth=0, depth_limit=15, buffer_kwargs=None):\n",
    "    \n",
    "    if buffer_kwargs is None:\n",
    "        buffer_kwargs = {'distance':0}\n",
    "    polys = list(poly.difference(split_func(poly).buffer(1e-6)))\n",
    "    split_polys = []\n",
    "    \n",
    "    for i, p in enumerate(polys):\n",
    "        continue_draw = np.random.binomial(n=1, p=p_continue)\n",
    "        \n",
    "        if continue_draw and (depth<depth_limit):\n",
    "            \n",
    "            split_polys += recursive_split(\n",
    "                p, split_func=split_func, p_continue=p_continue, \n",
    "                depth=depth+1, depth_limit=depth_limit,\n",
    "                buffer_kwargs=buffer_kwargs\n",
    "            ) \n",
    "        else:\n",
    "            split_polys.append(p.buffer(**buffer_kwargs))\n",
    "    return split_polys"
   ]
  },
  {
   "cell_type": "code",
   "execution_count": null,
   "metadata": {
    "Collapsed": "false"
   },
   "outputs": [],
   "source": [
    "def recursive_split_frac_buffer(poly, split_func=random_line_subdivide, p_continue=0.7, depth=0, depth_limit=15, buffer_kwargs=None, buffer_frac=-0.1):\n",
    "    try:\n",
    "        if buffer_kwargs is None:\n",
    "            buffer_kwargs = {'join_style':2, 'cap_style':2}\n",
    "        polys = list(poly.difference(split_func(poly).buffer(1e-6)))\n",
    "        split_polys = []\n",
    "\n",
    "        for i, p in enumerate(polys):\n",
    "            continue_draw = np.random.binomial(n=1, p=p_continue)\n",
    "            distance=p.centroid.distance(p.boundary)*buffer_frac\n",
    "            bp = p.buffer(distance=distance, **buffer_kwargs)\n",
    "            if continue_draw and (depth<depth_limit):\n",
    "\n",
    "                split_polys += recursive_split_frac_buffer(\n",
    "                    bp, split_func=split_func, p_continue=p_continue, \n",
    "                    depth=depth+1, depth_limit=depth_limit,\n",
    "                    buffer_kwargs=buffer_kwargs, buffer_frac=buffer_frac\n",
    "                ) \n",
    "            else:\n",
    "\n",
    "                split_polys.append(bp)\n",
    "        return split_polys\n",
    "    except:\n",
    "        return [poly]"
   ]
  },
  {
   "cell_type": "code",
   "execution_count": null,
   "metadata": {
    "Collapsed": "false"
   },
   "outputs": [],
   "source": [
    "xgen = ss.uniform(loc=0.4, scale=0.02).rvs\n",
    "split_func = functools.partial(split_along_longest_side_of_min_rectangle, xgen=xgen)\n",
    "splits = recursive_split_frac_buffer(\n",
    "    drawbox, \n",
    "    split_func=split_func,\n",
    "    p_continue=0.93, \n",
    "    depth=0, \n",
    "    depth_limit=12,\n",
    "    buffer_frac=-0.01\n",
    ")\n",
    "\n",
    "bps = MultiPolygon([p for p in splits])\n",
    "\n",
    "nbps = []\n",
    "for p in bps:\n",
    "    xbounds = drawbox.bounds[0], drawbox.bounds[2]\n",
    "    d = np.interp(p.centroid.x, xbounds,  [-0.1, -1.4],)\n",
    "    nbps.append(p.buffer(d, cap_style=2, join_style=2))\n",
    "bps = MultiPolygon(nbps)    \n",
    "\n",
    "sk = vsketch.Vsketch()\n",
    "sk.size(paper.page_format_mm)\n",
    "sk.scale('1mm')\n",
    "sk.penWidth('0.5mm')\n",
    "sk.geometry(bps.boundary)\n",
    "\n",
    "# tolerance=0.5\n",
    "\n",
    "sk.display()"
   ]
  },
  {
   "cell_type": "code",
   "execution_count": null,
   "metadata": {
    "Collapsed": "false"
   },
   "outputs": [],
   "source": [
    "\n",
    "sk.vpype('linemerge --tolerance 0.1 linemerge --tolerance 0.1 linesort')\n",
    "sk.save('/mnt/c/code/side/plotter_images/oned_outputs/207_subdivide.svg')"
   ]
  },
  {
   "cell_type": "code",
   "execution_count": null,
   "metadata": {
    "Collapsed": "false"
   },
   "outputs": [],
   "source": [
    "split_func = functools.partial(random_bezier_subdivide, x0=0.1, x1=0.7, n_eval_points=20)\n",
    "splits = recursive_split_frac_buffer(\n",
    "    drawbox, \n",
    "    split_func=split_func, \n",
    "    p_continue=0.96, \n",
    "    depth=0, \n",
    "    depth_limit=12,\n",
    "    buffer_frac=-0.02\n",
    ")\n",
    "\n",
    "\n",
    "bps = MultiPolygon([p for p in splits])\n",
    "\n",
    "nbps = []\n",
    "for p in bps:\n",
    "    xbounds = drawbox.bounds[0], drawbox.bounds[2]\n",
    "    d = np.interp(p.centroid.x, xbounds,  [-0.1, -1.4],)\n",
    "    nbps.append(p.buffer(d, cap_style=2, join_style=2))\n",
    "bps = MultiPolygon(nbps)    \n",
    "sk = vsketch.Vsketch()\n",
    "sk.size(paper.page_format_mm)\n",
    "sk.scale('1mm')\n",
    "sk.penWidth('0.5mm')\n",
    "sk.geometry(bps.boundary)\n",
    "\n",
    "# tolerance=0.5\n",
    "\n",
    "sk.display()"
   ]
  },
  {
   "cell_type": "code",
   "execution_count": null,
   "metadata": {
    "Collapsed": "false"
   },
   "outputs": [],
   "source": [
    "\n",
    "sk.vpype('linemerge --tolerance 0.1 linemerge --tolerance 0.1 linesort')\n",
    "sk.save('/mnt/c/code/side/plotter_images/oned_outputs/208_subdivide.svg')"
   ]
  },
  {
   "cell_type": "code",
   "execution_count": null,
   "metadata": {
    "Collapsed": "false"
   },
   "outputs": [],
   "source": [
    "split_func = functools.partial(random_bezier_subdivide, x0=0.3, x1=0.7, n_eval_points=20)\n",
    "splits = recursive_split_frac_buffer(\n",
    "    drawbox, \n",
    "    split_func=split_func, \n",
    "    p_continue=0.99, \n",
    "    depth=0, \n",
    "    depth_limit=13,\n",
    "    buffer_frac=-0.01\n",
    ")\n",
    "\n",
    "bps = MultiPolygon([p for p in splits])\n",
    "nbps = []\n",
    "for p in bps:\n",
    "    xbounds = drawbox.bounds[0], drawbox.bounds[2]\n",
    "    d = np.interp(p.centroid.x, xbounds,  [-0.1, -0.6],)\n",
    "    nbps.append(p.buffer(d, cap_style=2, join_style=2))\n",
    "bps = MultiPolygon(nbps)   \n",
    "\n",
    "sk = vsketch.Vsketch()\n",
    "sk.size(paper.page_format_mm)\n",
    "sk.scale('1mm')\n",
    "sk.penWidth('0.5mm')\n",
    "sk.geometry(bps.boundary)\n",
    "\n",
    "# tolerance=0.5\n",
    "\n",
    "sk.display()"
   ]
  },
  {
   "cell_type": "code",
   "execution_count": null,
   "metadata": {
    "Collapsed": "false"
   },
   "outputs": [],
   "source": [
    "\n",
    "sk.vpype('linemerge --tolerance 0.1 linemerge --tolerance 0.1 linesort')\n",
    "sk.save('/mnt/c/code/side/plotter_images/oned_outputs/210_subdivide.svg')"
   ]
  },
  {
   "cell_type": "markdown",
   "metadata": {
    "Collapsed": "false"
   },
   "source": [
    "# depth dependent\n",
    "getting pretty dumb to keep repeating this, hard to handle namespace tho it should probs be a class"
   ]
  },
  {
   "cell_type": "code",
   "execution_count": null,
   "metadata": {
    "Collapsed": "false"
   },
   "outputs": [],
   "source": [
    "def recursive_split_frac_buffer_depth(poly, p_continue=0.7, depth=0, depth_limit=15, buffer_kwargs=None, buffer_frac=-0.1):\n",
    "    try:\n",
    "        if buffer_kwargs is None:\n",
    "            buffer_kwargs = {'join_style':2, 'cap_style':2}\n",
    "        xgen = ss.uniform(loc=0.2 + 0.00*depth, scale=0.8+0.00*depth).rvs\n",
    "        split_func = functools.partial(split_along_longest_side_of_min_rectangle, xgen=xgen)\n",
    "        polys = list(poly.difference(split_func(poly).buffer(1e-6)))\n",
    "        split_polys = []\n",
    "\n",
    "        for i, p in enumerate(polys):\n",
    "            continue_draw = np.random.binomial(n=1, p=p_continue)\n",
    "            distance=p.centroid.distance(p.boundary)*buffer_frac\n",
    "            bp = p.buffer(distance=distance, **buffer_kwargs)\n",
    "            if continue_draw and (depth<depth_limit):\n",
    "\n",
    "                split_polys += recursive_split_frac_buffer(\n",
    "                    bp, split_func=split_func, p_continue=p_continue, \n",
    "                    depth=depth+1, depth_limit=depth_limit,\n",
    "                    buffer_kwargs=buffer_kwargs, buffer_frac=buffer_frac\n",
    "                ) \n",
    "            else:\n",
    "\n",
    "                split_polys.append(bp)\n",
    "        return split_polys\n",
    "    except:\n",
    "        return [poly]"
   ]
  },
  {
   "cell_type": "code",
   "execution_count": null,
   "metadata": {
    "Collapsed": "false"
   },
   "outputs": [],
   "source": [
    "xgen = ss.uniform(loc=0.45, scale=0.3).rvs\n",
    "split_func = functools.partial(split_along_longest_side_of_min_rectangle, xgen=xgen)\n",
    "splits = recursive_split_frac_buffer(\n",
    "    drawbox, \n",
    "    split_func=split_func,\n",
    "    p_continue=0.93, \n",
    "    depth=0, \n",
    "    depth_limit=12,\n",
    "    buffer_frac=-0.02\n",
    ")\n"
   ]
  },
  {
   "cell_type": "code",
   "execution_count": null,
   "metadata": {
    "Collapsed": "false"
   },
   "outputs": [],
   "source": [
    "bps = MultiPolygon([p for p in splits])"
   ]
  },
  {
   "cell_type": "code",
   "execution_count": null,
   "metadata": {
    "Collapsed": "false"
   },
   "outputs": [],
   "source": [
    "stp = gp.ScaleTransPrms(n_iters = 20, d_buffer=-0.15, d_translate_factor=0.2)\n",
    "\n",
    "big_bps = [gp.Poly(p) for p in bps if p.area>100]\n",
    "\n",
    "for p in big_bps:\n",
    "    p.fill_scale_trans(**stp.prms)\n",
    "\n",
    "fills = gp.merge_LineStrings([p.fill for p in big_bps])"
   ]
  },
  {
   "cell_type": "code",
   "execution_count": null,
   "metadata": {
    "Collapsed": "false"
   },
   "outputs": [],
   "source": [
    "sk = vsketch.Vsketch()\n",
    "sk.size(paper.page_format_mm)\n",
    "sk.scale('1mm')\n",
    "sk.penWidth('0.5mm')\n",
    "sk.stroke(1)\n",
    "sk.geometry(bps.boundary)\n",
    "sk.stroke(2)\n",
    "sk.geometry(fills)\n",
    "\n",
    "sk.display(color_mode='none')"
   ]
  },
  {
   "cell_type": "code",
   "execution_count": null,
   "metadata": {
    "Collapsed": "false"
   },
   "outputs": [],
   "source": [
    "\n",
    "sk.vpype('linemerge --tolerance 0.1 linemerge --tolerance 0.1 linesort')\n",
    "sk.save('/mnt/c/code/side/plotter_images/oned_outputs/204_subdivide.svg')"
   ]
  },
  {
   "cell_type": "code",
   "execution_count": null,
   "metadata": {
    "Collapsed": "false"
   },
   "outputs": [],
   "source": [
    "xgen = ss.uniform(loc=0.4, scale=0.4).rvs\n",
    "split_func = functools.partial(split_along_longest_side_of_min_rectangle, xgen=xgen)\n",
    "splits = recursive_split_frac_buffer(\n",
    "    drawbox, \n",
    "    split_func=split_func,\n",
    "    p_continue=0.97, \n",
    "    depth=0, \n",
    "    depth_limit=12,\n",
    "    buffer_frac=-0.0\n",
    ")\n"
   ]
  },
  {
   "cell_type": "code",
   "execution_count": null,
   "metadata": {
    "Collapsed": "false"
   },
   "outputs": [],
   "source": [
    "bps = MultiPolygon([p for p in splits])\n",
    "\n",
    "nbps = []\n",
    "for p in bps:\n",
    "    xbounds = drawbox.bounds[0], drawbox.bounds[2]\n",
    "    d = np.interp(p.centroid.x, xbounds,  [-0.1, -1.1],)\n",
    "    nbps.append(p.buffer(d, cap_style=2, join_style=2))\n",
    "bps = MultiPolygon(nbps)    "
   ]
  },
  {
   "cell_type": "code",
   "execution_count": null,
   "metadata": {
    "Collapsed": "false"
   },
   "outputs": [],
   "source": [
    "sk = vsketch.Vsketch()\n",
    "sk.size(paper.page_format_mm)\n",
    "sk.scale('1mm')\n",
    "sk.penWidth('0.5mm')\n",
    "sk.stroke(1)\n",
    "sk.geometry(bps.boundary)\n",
    "sk.stroke(2)\n",
    "# sk.geometry(fills)\n",
    "\n",
    "sk.display(color_mode='none')"
   ]
  },
  {
   "cell_type": "code",
   "execution_count": null,
   "metadata": {
    "Collapsed": "false"
   },
   "outputs": [],
   "source": [
    "\n",
    "sk.vpype('linemerge --tolerance 0.1 linemerge --tolerance 0.1 linesort')\n",
    "sk.save('/mnt/c/code/side/plotter_images/oned_outputs/205_subdivide.svg')"
   ]
  },
  {
   "cell_type": "code",
   "execution_count": null,
   "metadata": {
    "Collapsed": "false"
   },
   "outputs": [],
   "source": [
    "xgen = ss.uniform(loc=0.5, scale=0.3).rvs\n",
    "split_func = functools.partial(split_along_longest_side_of_min_rectangle, xgen=xgen)\n",
    "splits = recursive_split_frac_buffer(\n",
    "    drawbox, \n",
    "    split_func=split_func,\n",
    "    p_continue=0.96, \n",
    "    depth=0, \n",
    "    depth_limit=13,\n",
    "    buffer_frac=-0.01\n",
    ")\n"
   ]
  },
  {
   "cell_type": "code",
   "execution_count": null,
   "metadata": {
    "Collapsed": "false"
   },
   "outputs": [],
   "source": [
    "bps = MultiPolygon([p for p in splits])\n",
    "\n",
    "nbps = []\n",
    "for p in bps:\n",
    "    xbounds = drawbox.bounds[0], drawbox.bounds[2]\n",
    "    d = np.interp(p.centroid.x, xbounds,  [-0.15, -1.6],)\n",
    "    nbps.append(p.buffer(d, cap_style=2, join_style=2))\n",
    "bps = MultiPolygon(nbps)    "
   ]
  },
  {
   "cell_type": "code",
   "execution_count": null,
   "metadata": {
    "Collapsed": "false"
   },
   "outputs": [],
   "source": [
    "\n",
    "\n",
    "fbps = []\n",
    "for _p in bps:\n",
    "    area = np.log10(_p.area)\n",
    "    p = gp.Poly(_p)\n",
    "    n_iters = int(np.interp(area, [-3, 4.3], [1, 230]))\n",
    "    stp = gp.ScaleTransPrms(n_iters = n_iters, d_buffer=-0.25, d_translate_factor=0.7, angles=np.random.uniform(0,np.pi*2))\n",
    "    db_mults = gp.gaussian_random_walk(n=stp.d_buffers.shape[0], step_std=4.5, step_mu=0.)\n",
    "    db_mults[db_mults<0.] = 0.05\n",
    "    stp.d_buffers *= db_mults\n",
    "    stp.angles = np.linspace(0, np.radians(360*0.7), len(stp.d_buffers))\n",
    "    p.fill_scale_trans(**stp.prms)\n",
    "    fbps.append(p)\n",
    "\n",
    "fills = gp.merge_LineStrings([p.fill for p in fbps])"
   ]
  },
  {
   "cell_type": "code",
   "execution_count": null,
   "metadata": {
    "Collapsed": "false"
   },
   "outputs": [],
   "source": [
    "sk = vsketch.Vsketch()\n",
    "sk.size(paper.page_format_mm)\n",
    "sk.scale('1mm')\n",
    "sk.penWidth('0.5mm')\n",
    "sk.stroke(1)\n",
    "sk.geometry(bps.boundary)\n",
    "sk.stroke(2)\n",
    "sk.geometry(fills)\n",
    "\n",
    "sk.display(color_mode='none')"
   ]
  },
  {
   "cell_type": "code",
   "execution_count": null,
   "metadata": {
    "Collapsed": "false"
   },
   "outputs": [],
   "source": [
    "\n",
    "sk.vpype('linemerge --tolerance 0.1 linemerge --tolerance 0.1 linesimplify --tolerance 0.1 linesort')\n",
    "sk.save('/mnt/c/code/side/plotter_images/oned_outputs/212_subdivide.svg')"
   ]
  },
  {
   "cell_type": "code",
   "execution_count": null,
   "metadata": {
    "Collapsed": "false"
   },
   "outputs": [],
   "source": [
    "np."
   ]
  },
  {
   "cell_type": "code",
   "execution_count": null,
   "metadata": {
    "Collapsed": "false"
   },
   "outputs": [],
   "source": [
    "\n",
    "split_func = functools.partial(random_bezier_subdivide, x0=0.3, x1=0.7, n_eval_points=20)\n",
    "splits = recursive_split_frac_buffer(\n",
    "    drawbox, \n",
    "    split_func=split_func, \n",
    "    p_continue=0.99, \n",
    "    depth=0, \n",
    "    depth_limit=13,\n",
    "    buffer_frac=-0.01\n",
    ")\n",
    "\n"
   ]
  },
  {
   "cell_type": "code",
   "execution_count": null,
   "metadata": {
    "Collapsed": "false"
   },
   "outputs": [],
   "source": [
    "bps = MultiPolygon([p for p in splits])\n",
    "\n",
    "nbps = []\n",
    "for p in bps:\n",
    "    xbounds = drawbox.bounds[0], drawbox.bounds[2]\n",
    "    d = np.interp(p.centroid.x, xbounds,  [-0.2, -0.45],)\n",
    "    nbps.append(p.buffer(d, cap_style=2, join_style=2))\n",
    "bps = MultiPolygon(nbps)    "
   ]
  },
  {
   "cell_type": "code",
   "execution_count": null,
   "metadata": {
    "Collapsed": "false"
   },
   "outputs": [],
   "source": [
    "3 + 4 - 10"
   ]
  },
  {
   "cell_type": "code",
   "execution_count": null,
   "metadata": {
    "Collapsed": "false"
   },
   "outputs": [],
   "source": [
    "3.1 + 4.1 - 9.9"
   ]
  },
  {
   "cell_type": "code",
   "execution_count": null,
   "metadata": {
    "Collapsed": "false"
   },
   "outputs": [],
   "source": [
    "3.2 + 4.2 - 9.8"
   ]
  },
  {
   "cell_type": "code",
   "execution_count": null,
   "metadata": {
    "Collapsed": "false"
   },
   "outputs": [],
   "source": [
    "\n",
    "\n",
    "fbps = []\n",
    "for _p in bps:\n",
    "    area = np.log10(_p.area)\n",
    "    p = gp.Poly(_p)\n",
    "    n_iters = int(np.interp(area, [-3, 4.3], [1, 230]))\n",
    "    stp = gp.ScaleTransPrms(n_iters = n_iters, d_buffer=-0.25, d_translate_factor=0.7, angles=np.random.uniform(0,np.pi*2))\n",
    "    db_mults = gp.gaussian_random_walk(n=stp.d_buffers.shape[0], step_std=4.5, step_mu=0.)\n",
    "    db_mults[db_mults<0.] = 0.05\n",
    "    stp.d_buffers *= db_mults\n",
    "    stp.angles = np.linspace(0, np.radians(360*0.7), len(stp.d_buffers))\n",
    "    p.fill_scale_trans(**stp.prms)\n",
    "    fbps.append(p)\n",
    "\n",
    "fills = gp.merge_LineStrings([p.fill for p in fbps])"
   ]
  },
  {
   "cell_type": "code",
   "execution_count": null,
   "metadata": {
    "Collapsed": "false"
   },
   "outputs": [],
   "source": [
    "sk = vsketch.Vsketch()\n",
    "sk.size(paper.page_format_mm)\n",
    "sk.scale('1mm')\n",
    "sk.penWidth('0.5mm')\n",
    "sk.stroke(1)\n",
    "sk.geometry(bps.boundary)\n",
    "sk.stroke(2)\n",
    "sk.geometry(fills)\n",
    "\n",
    "sk.display(color_mode='none')"
   ]
  },
  {
   "cell_type": "code",
   "execution_count": null,
   "metadata": {
    "Collapsed": "false"
   },
   "outputs": [],
   "source": []
  },
  {
   "cell_type": "code",
   "execution_count": null,
   "metadata": {
    "Collapsed": "false"
   },
   "outputs": [],
   "source": [
    "\n",
    "sk.vpype('linemerge --tolerance 0.1 linemerge --tolerance 0.1 linesimplify --tolerance 0.1 linesort')\n",
    "sk.save('/mnt/c/code/side/plotter_images/oned_outputs/226_subdivide.svg')"
   ]
  }
 ],
 "metadata": {
  "kernelspec": {
   "display_name": "Python [conda env:genpen]",
   "language": "python",
   "name": "conda-env-genpen-py"
  },
  "language_info": {
   "codemirror_mode": {
    "name": "ipython",
    "version": 3
   },
   "file_extension": ".py",
   "mimetype": "text/x-python",
   "name": "python",
   "nbconvert_exporter": "python",
   "pygments_lexer": "ipython3",
   "version": "3.8.8"
  }
 },
 "nbformat": 4,
 "nbformat_minor": 4
}

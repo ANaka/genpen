{
 "cells": [
  {
   "cell_type": "code",
   "execution_count": 1,
   "id": "598b954e-e6a6-436f-afc5-674904fbb7fe",
   "metadata": {
    "Collapsed": "false"
   },
   "outputs": [],
   "source": [
    "import itertools\n",
    "import numpy as np\n",
    "import os\n",
    "import seaborn as sns\n",
    "from tqdm import tqdm\n",
    "from dataclasses import asdict, dataclass, field\n",
    "import vsketch\n",
    "import shapely.geometry as sg\n",
    "from shapely.geometry import box, MultiLineString, Point, MultiPoint, Polygon, MultiPolygon, LineString\n",
    "import shapely.affinity as sa\n",
    "import shapely.ops as so\n",
    "import matplotlib.pyplot as plt\n",
    "import pandas as pd\n",
    "\n",
    "import vpype_cli\n",
    "from typing import List, Generic\n",
    "from genpen import genpen as gp, utils as utils\n",
    "from scipy import stats as ss\n",
    "import geopandas\n",
    "from shapely.errors import TopologicalError\n",
    "import functools\n",
    "%load_ext autoreload\n",
    "%autoreload 2\n",
    "import vpype\n",
    "from skimage import io\n",
    "from pathlib import Path\n",
    "import fn\n",
    "import bezier\n",
    "\n",
    "from sklearn.preprocessing import minmax_scale\n",
    "from skimage import feature\n",
    "from genpen.utils import Paper\n",
    "from genpen.genpen import *\n",
    "from genpen import subdivide as sd\n",
    "from functools import partial\n",
    "from genpen.grower import Grower, GrowerParams"
   ]
  },
  {
   "cell_type": "code",
   "execution_count": 3,
   "id": "1b7f12d4-5123-4b80-9c58-a8b1f9a1444b",
   "metadata": {
    "Collapsed": "false"
   },
   "outputs": [],
   "source": [
    "# make page\n",
    "paper_size = 'A2'\n",
    "border:float=45\n",
    "paper = Paper(paper_size)\n",
    "\n",
    "drawbox = paper.get_drawbox(border)"
   ]
  },
  {
   "cell_type": "code",
   "execution_count": null,
   "id": "0710aec0-4905-47f5-bc22-612684a65357",
   "metadata": {},
   "outputs": [],
   "source": []
  },
  {
   "cell_type": "code",
   "execution_count": null,
   "id": "4b52cee6-e77f-41f3-a976-b1df8c3bfab2",
   "metadata": {},
   "outputs": [],
   "source": [
    "drawbox.bounds"
   ]
  },
  {
   "cell_type": "code",
   "execution_count": null,
   "id": "ab8b6cef-9ae9-49ad-8763-52e6106bc948",
   "metadata": {},
   "outputs": [],
   "source": [
    "drawbox"
   ]
  },
  {
   "cell_type": "code",
   "execution_count": null,
   "id": "1c7cd877-5359-44ce-8a90-85002fd2cd0e",
   "metadata": {},
   "outputs": [],
   "source": [
    "split_func = functools.partial(sd.split_random_bezier, x0=0.2, x1=0.75, n_eval_points=50)\n",
    "\n",
    "xgen = ss.uniform(loc=0.4, scale=0.01).rvs\n",
    "split_func = functools.partial(sd.split_along_longest_side_of_min_rectangle, xgen=xgen)\n",
    "\n",
    "# x0gen = ss.uniform(loc=0.15, scale=0.01).rvs\n",
    "# x1gen = ss.uniform(loc=0.65, scale=0.01).rvs\n",
    "# split_func = functools.partial(sd.split_random_line_gen, x0gen=x0gen, x1gen=x1gen)"
   ]
  },
  {
   "cell_type": "code",
   "execution_count": null,
   "id": "bf59395e-70e0-4e43-a531-0b4d656d956b",
   "metadata": {},
   "outputs": [],
   "source": [
    "target = Point(140, 325)\n",
    "target = drawbox.centroid"
   ]
  },
  {
   "cell_type": "code",
   "execution_count": null,
   "id": "2e7e9c1a-7441-4d80-8d50-67508b36b56b",
   "metadata": {},
   "outputs": [],
   "source": [
    "dist_from_center = partial(sd.distance_from_pt, target=target, p_range=(0.99, 0.3,), d_range=(0, 200))\n",
    "cp = sd.ContinuePolicy(dist_from_center)\n",
    "polys = sd.very_flex_rule_recursive_split(poly=drawbox, split_func=split_func, continue_func=cp, depth_limit=14, buffer_kwargs={'distance':1e-6})\n",
    "\n",
    "\n",
    "bps = gp.merge_Polygons(polys)"
   ]
  },
  {
   "cell_type": "code",
   "execution_count": null,
   "id": "81314064-0151-45d1-8cd3-fae7129756d6",
   "metadata": {
    "Collapsed": "false"
   },
   "outputs": [],
   "source": [
    "\n",
    "   \n",
    "sk = vsketch.Vsketch()\n",
    "sk.size(paper.page_format_mm)\n",
    "sk.scale('1mm')\n",
    "sk.penWidth('0.5mm')\n",
    "sk.geometry(bps.boundary)\n",
    "\n",
    "# tolerance=0.5\n",
    "\n",
    "sk.display()"
   ]
  },
  {
   "cell_type": "code",
   "execution_count": null,
   "id": "f23df540-a39b-43d3-95ae-8331c9f0920b",
   "metadata": {
    "Collapsed": "false"
   },
   "outputs": [],
   "source": [
    "n_layers = 1"
   ]
  },
  {
   "cell_type": "code",
   "execution_count": null,
   "id": "0c0c8649-d406-4ce8-8cb7-d5bcc9f37aab",
   "metadata": {},
   "outputs": [],
   "source": [
    "layers = []"
   ]
  },
  {
   "cell_type": "code",
   "execution_count": null,
   "id": "68d9ee88-a1c6-4fa3-971c-5b8e5acc1cbb",
   "metadata": {
    "Collapsed": "false"
   },
   "outputs": [],
   "source": [
    "\n",
    "for ii in range(n_layers):\n",
    "    fills = []\n",
    "    for p in bps:\n",
    "        xjitter_func = 0\n",
    "        yjitter_func = ss.norm(loc=0, scale=np.random.uniform(0.005, 0.01)).rvs\n",
    "        bhf = BezierHatchFill(\n",
    "            spacing=np.random.uniform(0.2, 0.22),\n",
    "            degrees=np.random.uniform(40,60),\n",
    "            poly_to_fill=p, \n",
    "            xjitter_func=xjitter_func, \n",
    "            yjitter_func=yjitter_func,\n",
    "            fill_inscribe_buffer=1.4,\n",
    "            n_nodes_per_line=5,\n",
    "            n_eval_points=6,\n",
    "        )\n",
    "        fills.append(bhf.p)\n",
    "\n",
    "    fills = [f for f in fills if f.length > 0]\n",
    "    layer = gp.merge_LineStrings(fills)\n",
    "    layers.append(layer)"
   ]
  },
  {
   "cell_type": "code",
   "execution_count": null,
   "id": "65abdd4f-2e05-47c8-a67b-d497682b5836",
   "metadata": {
    "Collapsed": "false"
   },
   "outputs": [],
   "source": [
    "sk = vsketch.Vsketch()\n",
    "sk.size(paper.page_format_mm)\n",
    "sk.scale('1mm')\n",
    "sk.penWidth('0.3mm')\n",
    "for i, layer in enumerate(layers):\n",
    "    sk.stroke(i+1)\n",
    "    sk.geometry(layer)\n",
    "\n",
    "for tolerance in [0.1, 0.3, 0.5, 0.7]:\n",
    "    sk.vpype(f'linemerge --tolerance {tolerance}mm')\n",
    "sk.vpype('linesimplify --tolerance 0.1 linesort')\n",
    "\n",
    "sk.display(color_mode='layer')"
   ]
  },
  {
   "cell_type": "code",
   "execution_count": null,
   "id": "49e20cc9-cdb3-42c7-be08-2a41ad85a81c",
   "metadata": {},
   "outputs": [],
   "source": []
  },
  {
   "cell_type": "code",
   "execution_count": null,
   "id": "2b59701b-65c3-4a20-bf35-1cba62afc0f3",
   "metadata": {},
   "outputs": [],
   "source": [
    "plot_id = fn.new_plot_id()"
   ]
  },
  {
   "cell_type": "code",
   "execution_count": null,
   "id": "a394cf00-5f75-4e78-9bcc-4a274ff97a5b",
   "metadata": {},
   "outputs": [],
   "source": [
    "savedir='/home/naka/art/plotter_svgs'"
   ]
  },
  {
   "cell_type": "code",
   "execution_count": null,
   "id": "bf9d154e-aead-48b5-a458-50653368e076",
   "metadata": {},
   "outputs": [],
   "source": [
    "savepath = Path(savedir).joinpath(f'{plot_id}.svg').as_posix()\n",
    "sk.save(savepath)"
   ]
  },
  {
   "cell_type": "code",
   "execution_count": null,
   "id": "5640c0d0-bba8-4a8b-912b-4345b72cbe89",
   "metadata": {},
   "outputs": [],
   "source": []
  },
  {
   "cell_type": "code",
   "execution_count": null,
   "id": "3a8da316-392c-4d1d-bf78-31769e96c199",
   "metadata": {},
   "outputs": [],
   "source": []
  },
  {
   "cell_type": "markdown",
   "id": "c5f0db91-25cb-4594-815a-4e1d267c0d2e",
   "metadata": {},
   "source": [
    "# more interesting initialization"
   ]
  },
  {
   "cell_type": "code",
   "execution_count": null,
   "id": "2b20cdf2-2bd9-4d60-a97c-8e2bca055ecd",
   "metadata": {
    "Collapsed": "false"
   },
   "outputs": [],
   "source": [
    "# make page\n",
    "paper_size = 'A2'\n",
    "border:float=45\n",
    "paper = Paper(paper_size)\n",
    "\n",
    "drawbox = paper.get_drawbox(border)"
   ]
  },
  {
   "cell_type": "code",
   "execution_count": null,
   "id": "315f6fb6-7fb0-453b-bd9f-e3dcaa74dc7c",
   "metadata": {},
   "outputs": [],
   "source": [
    "params = GrowerParams(\n",
    "    rad_func='loss_scaled_rad',\n",
    "    rad_range=(70, 60),\n",
    "    loss_range=(40, 100),\n",
    "    n_pts_eval_per_iter=55,\n",
    "    n_pts_add_per_iter=1,\n",
    "    pt_to_poly_func='buffer_pt'\n",
    ")\n",
    "g = Grower(poly=drawbox.centroid.buffer(0.1), params=params)"
   ]
  },
  {
   "cell_type": "code",
   "execution_count": null,
   "id": "f7aaca10-d33f-4c4a-82a6-4ff4f18c07f9",
   "metadata": {
    "tags": []
   },
   "outputs": [],
   "source": [
    "g.grow(6)"
   ]
  },
  {
   "cell_type": "code",
   "execution_count": null,
   "id": "ac16cbc5-f48d-4fe6-8da4-20e720982039",
   "metadata": {},
   "outputs": [],
   "source": [
    "# polys = g.mpoly.buffer(-5)\n",
    "# polys = g.mpoly\n",
    "\n",
    "polys = gp.make_like(g.mpoly, drawbox)"
   ]
  },
  {
   "cell_type": "code",
   "execution_count": null,
   "id": "6b93c75d-803e-4140-b171-445860784bdd",
   "metadata": {},
   "outputs": [],
   "source": [
    "bg = drawbox.difference(polys)"
   ]
  },
  {
   "cell_type": "code",
   "execution_count": null,
   "id": "fc4ba53f-1ec1-4bf2-b0c6-021684d4ae6d",
   "metadata": {},
   "outputs": [],
   "source": [
    "polys = list(polys)\n",
    "# polys.append(bg)"
   ]
  },
  {
   "cell_type": "code",
   "execution_count": null,
   "id": "88c55c01-c3ce-40a6-9868-5601fad2b1ec",
   "metadata": {},
   "outputs": [],
   "source": [
    "# split_func = functools.partial(sd.split_random_bezier, x0=0.2, x1=0.75, n_eval_points=50)\n",
    "\n",
    "xgen = ss.uniform(loc=0.5, scale=0.01).rvs\n",
    "split_func = functools.partial(sd.split_along_longest_side_of_min_rectangle, xgen=xgen)\n",
    "\n",
    "# x0gen = ss.uniform(loc=0.15, scale=0.01).rvs\n",
    "# x1gen = ss.uniform(loc=0.65, scale=0.01).rvs\n",
    "# split_func = functools.partial(sd.split_random_line_gen, x0gen=x0gen, x1gen=x1gen)"
   ]
  },
  {
   "cell_type": "code",
   "execution_count": null,
   "id": "9c062bc2-9b56-4df3-b544-44db8c8d186b",
   "metadata": {},
   "outputs": [],
   "source": [
    "target = Point(140, 325)\n",
    "# target = drawbox.centroid"
   ]
  },
  {
   "cell_type": "code",
   "execution_count": null,
   "id": "8233fdb9-a623-4ab9-a485-59118aba1720",
   "metadata": {},
   "outputs": [],
   "source": [
    "xgen = ss.uniform(loc=0.4, scale=0.01).rvs\n",
    "split_func = functools.partial(sd.split_along_longest_side_of_min_rectangle, xgen=xgen)\n",
    "split_polys = []\n",
    "for poly in polys:\n",
    "    dist_from_center = partial(sd.distance_from_pt, target=target, p_range=(0.99, 0.3,), d_range=(0, 200))\n",
    "    cp = sd.ContinuePolicy(dist_from_center)\n",
    "    sps = sd.very_flex_rule_recursive_split(poly=poly, split_func=split_func, continue_func=cp, depth_limit=2, buffer_kwargs={'distance':1e-6})\n",
    "    split_polys.append(sps)\n",
    "    \n",
    "xgen = ss.uniform(loc=0.5, scale=0.01).rvs\n",
    "split_func = functools.partial(sd.split_along_longest_side_of_min_rectangle, xgen=xgen)\n",
    "dist_from_center = partial(sd.distance_from_pt, target=target, p_range=(0.99, 0.3,), d_range=(0, 200))\n",
    "cp = sd.ContinuePolicy(dist_from_center)\n",
    "sps = sd.very_flex_rule_recursive_split(poly=bg, split_func=split_func, continue_func=cp, depth_limit=5, buffer_kwargs={'distance':1e-6})\n",
    "split_polys.append(sps)\n",
    "\n",
    "\n",
    "bps = gp.merge_Polygons(split_polys)"
   ]
  },
  {
   "cell_type": "code",
   "execution_count": null,
   "id": "8f0bb1db-996f-4d78-b817-53567cdc1a3c",
   "metadata": {
    "Collapsed": "false"
   },
   "outputs": [],
   "source": [
    "\n",
    "   \n",
    "sk = vsketch.Vsketch()\n",
    "sk.size(paper.page_format_mm)\n",
    "sk.scale('1mm')\n",
    "sk.penWidth('0.5mm')\n",
    "sk.geometry(bps.boundary)\n",
    "\n",
    "# tolerance=0.5\n",
    "\n",
    "sk.display()"
   ]
  },
  {
   "cell_type": "code",
   "execution_count": null,
   "id": "33184e90-6c31-4536-881d-d1d7c5eef2e7",
   "metadata": {
    "Collapsed": "false"
   },
   "outputs": [],
   "source": [
    "n_layers = 1"
   ]
  },
  {
   "cell_type": "code",
   "execution_count": null,
   "id": "64ad402c-87a4-4467-8f15-c843d75c6ffa",
   "metadata": {},
   "outputs": [],
   "source": [
    "layers = []"
   ]
  },
  {
   "cell_type": "code",
   "execution_count": null,
   "id": "6af8b0ea-1d8d-43dd-a1d3-28b54f75fba7",
   "metadata": {
    "Collapsed": "false"
   },
   "outputs": [],
   "source": [
    "\n",
    "for ii in range(n_layers):\n",
    "    fills = []\n",
    "    for p in bps:\n",
    "        xjitter_func = 0\n",
    "        yjitter_func = ss.norm(loc=0, scale=np.random.uniform(0.001, 0.005)).rvs\n",
    "        bhf = BezierHatchFill(\n",
    "            spacing=np.random.uniform(0.2, 0.21),\n",
    "            degrees=np.random.uniform(40,60),\n",
    "            poly_to_fill=p, \n",
    "            xjitter_func=xjitter_func, \n",
    "            yjitter_func=yjitter_func,\n",
    "            fill_inscribe_buffer=1.4,\n",
    "            n_nodes_per_line=5,\n",
    "            n_eval_points=6,\n",
    "        )\n",
    "        fills.append(bhf.p)\n",
    "\n",
    "    fills = [f for f in fills if f.length > 0]\n",
    "    layer = gp.merge_LineStrings(fills)\n",
    "    layers.append(layer)"
   ]
  },
  {
   "cell_type": "code",
   "execution_count": null,
   "id": "4c33f7e4-565f-457a-83cd-8dfe2b0841a7",
   "metadata": {
    "Collapsed": "false"
   },
   "outputs": [],
   "source": [
    "sk = vsketch.Vsketch()\n",
    "sk.size(paper.page_format_mm)\n",
    "sk.scale('1mm')\n",
    "sk.penWidth('0.3mm')\n",
    "for i, layer in enumerate(layers):\n",
    "    sk.stroke(i+1)\n",
    "    sk.geometry(layer)\n",
    "\n",
    "for tolerance in [0.1, 0.3, 0.5, 0.7]:\n",
    "    sk.vpype(f'linemerge --tolerance {tolerance}mm')\n",
    "sk.vpype('linesimplify --tolerance 0.1 linesort')\n",
    "\n",
    "sk.display(color_mode='layer')"
   ]
  },
  {
   "cell_type": "code",
   "execution_count": null,
   "id": "95ca55c6-9ea2-4349-a059-0a6132eee20b",
   "metadata": {},
   "outputs": [],
   "source": []
  },
  {
   "cell_type": "code",
   "execution_count": null,
   "id": "e2bca4a1-5ac9-42dc-9170-c4154e19e597",
   "metadata": {},
   "outputs": [],
   "source": [
    "plot_id = fn.new_plot_id()"
   ]
  },
  {
   "cell_type": "code",
   "execution_count": null,
   "id": "1e5de186-bcfd-49d7-bc18-e2c19ee87913",
   "metadata": {},
   "outputs": [],
   "source": [
    "savedir='/home/naka/art/plotter_svgs'"
   ]
  },
  {
   "cell_type": "code",
   "execution_count": null,
   "id": "982858a4-daf3-4f80-b6de-a98a05d181c7",
   "metadata": {},
   "outputs": [],
   "source": [
    "savepath = Path(savedir).joinpath(f'{plot_id}.svg').as_posix()\n",
    "sk.save(savepath)"
   ]
  },
  {
   "cell_type": "markdown",
   "id": "280a7530-cbf9-4807-babe-7d4776645c22",
   "metadata": {},
   "source": [
    "# more interesting initialization"
   ]
  },
  {
   "cell_type": "code",
   "execution_count": null,
   "id": "05dc96ee-2125-4cee-bc64-557b0fe61d97",
   "metadata": {
    "Collapsed": "false"
   },
   "outputs": [],
   "source": [
    "# make page\n",
    "paper_size = '6x6 inches'\n",
    "border:float=15\n",
    "paper = Paper(paper_size)\n",
    "\n",
    "drawbox = paper.get_drawbox(border)"
   ]
  },
  {
   "cell_type": "code",
   "execution_count": null,
   "id": "e5a77785-ff9e-4919-8ff3-efafb7bbc379",
   "metadata": {},
   "outputs": [],
   "source": [
    "params = GrowerParams(\n",
    "    rad_func='loss_scaled_rad',\n",
    "    rad_range=(20, 10),\n",
    "    loss_range=(20, 100),\n",
    "    n_pts_eval_per_iter=55,\n",
    "    n_pts_add_per_iter=1,\n",
    "    pt_to_poly_func='reg_poly'\n",
    ")\n",
    "g = Grower(poly=drawbox.centroid.buffer(40), params=params)"
   ]
  },
  {
   "cell_type": "code",
   "execution_count": null,
   "id": "df18b006-613e-4302-b32a-6700ce8cc791",
   "metadata": {
    "tags": []
   },
   "outputs": [],
   "source": [
    "g.grow(2)"
   ]
  },
  {
   "cell_type": "code",
   "execution_count": null,
   "id": "4267d548-dc83-4542-bf95-90b7686265c9",
   "metadata": {},
   "outputs": [],
   "source": [
    "# polys = g.mpoly.buffer(-1)\n",
    "polys = g.mpoly\n",
    "\n",
    "# polys = gp.make_like(g.mpoly, drawbox)"
   ]
  },
  {
   "cell_type": "code",
   "execution_count": null,
   "id": "31cda867-2265-495a-99f4-ab9d2b336993",
   "metadata": {},
   "outputs": [],
   "source": [
    "bg = drawbox.difference(g.agg_poly)"
   ]
  },
  {
   "cell_type": "code",
   "execution_count": null,
   "id": "54cdd6b2-2965-4569-82a2-d44402b01391",
   "metadata": {},
   "outputs": [],
   "source": [
    "polys = gp.merge_Polygons(polys)\n",
    "# polys.append(bg)"
   ]
  },
  {
   "cell_type": "code",
   "execution_count": null,
   "id": "8626a66b-910b-4ba0-adb8-ecd40ee7a856",
   "metadata": {},
   "outputs": [],
   "source": [
    "# split_func = functools.partial(sd.split_random_bezier, x0=0.2, x1=0.75, n_eval_points=50)\n",
    "\n",
    "xgen = ss.uniform(loc=0.5, scale=0.01).rvs\n",
    "split_func = functools.partial(sd.split_along_longest_side_of_min_rectangle, xgen=xgen)\n",
    "\n",
    "# x0gen = ss.uniform(loc=0.15, scale=0.01).rvs\n",
    "# x1gen = ss.uniform(loc=0.65, scale=0.01).rvs\n",
    "# split_func = functools.partial(sd.split_random_line_gen, x0gen=x0gen, x1gen=x1gen)"
   ]
  },
  {
   "cell_type": "code",
   "execution_count": null,
   "id": "45329004-a2e5-42df-9f66-23855b72e65c",
   "metadata": {},
   "outputs": [],
   "source": [
    "# target = Point(140, 325)\n",
    "target = drawbox.centroid"
   ]
  },
  {
   "cell_type": "code",
   "execution_count": null,
   "id": "5f11fd86-47ec-4d51-9a0c-f9dc7cfac06c",
   "metadata": {},
   "outputs": [],
   "source": [
    "split_polys =[]\n",
    "    \n",
    "x0gen = ss.uniform(loc=0.15, scale=0.01).rvs\n",
    "x1gen = ss.uniform(loc=0.65, scale=0.1).rvs\n",
    "split_func = functools.partial(sd.split_random_line_gen, x0gen=x0gen, x1gen=x1gen)\n",
    "dist_from_center = partial(sd.distance_from_pt, target=target, p_range=(1, 0.3,), d_range=(0, 20))\n",
    "cp = sd.ContinuePolicy(dist_from_center)\n",
    "\n",
    "sps = sd.very_flex_rule_recursive_split(poly=drawbox, split_func=split_func, continue_func=cp, depth_limit=2, buffer_kwargs={'distance':1e-6})\n",
    "sps = gp.merge_Polygons(sps)\n",
    "split_polys.append(sps)\n",
    "\n",
    "\n",
    "bps = gp.merge_Polygons(split_polys)"
   ]
  },
  {
   "cell_type": "code",
   "execution_count": null,
   "id": "195386a1-e238-4741-81f7-a65c741068cf",
   "metadata": {
    "Collapsed": "false"
   },
   "outputs": [],
   "source": [
    "\n",
    "   \n",
    "sk = vsketch.Vsketch()\n",
    "sk.size(paper.page_format_mm)\n",
    "sk.scale('1mm')\n",
    "sk.penWidth('0.5mm')\n",
    "sk.geometry(bps.boundary)\n",
    "\n",
    "# tolerance=0.5\n",
    "\n",
    "sk.display()"
   ]
  },
  {
   "cell_type": "code",
   "execution_count": null,
   "id": "6a62f9ed-8dcd-4af3-a1e0-82b3c756986b",
   "metadata": {
    "Collapsed": "false"
   },
   "outputs": [],
   "source": [
    "n_layers = 1"
   ]
  },
  {
   "cell_type": "code",
   "execution_count": null,
   "id": "4cc01a80-1933-4792-be87-94b80ba20237",
   "metadata": {},
   "outputs": [],
   "source": [
    "layers = []"
   ]
  },
  {
   "cell_type": "code",
   "execution_count": null,
   "id": "9db1d50a-d6d3-464f-bb2a-fa4a7803238f",
   "metadata": {
    "Collapsed": "false"
   },
   "outputs": [],
   "source": [
    "\n",
    "for ii in range(n_layers):\n",
    "    fills = []\n",
    "    for p in bps:\n",
    "        xjitter_func = 0\n",
    "        yjitter_func = ss.norm(loc=0, scale=np.random.uniform(0.001, 0.005)).rvs\n",
    "        bhf = BezierHatchFill(\n",
    "            spacing=np.random.uniform(0.2, 0.21),\n",
    "            degrees=np.random.uniform(40,60),\n",
    "            poly_to_fill=p, \n",
    "            xjitter_func=xjitter_func, \n",
    "            yjitter_func=yjitter_func,\n",
    "            fill_inscribe_buffer=1.4,\n",
    "            n_nodes_per_line=5,\n",
    "            n_eval_points=6,\n",
    "        )\n",
    "        fills.append(bhf.p)\n",
    "\n",
    "    fills = [f for f in fills if f.length > 0]\n",
    "    layer = gp.merge_LineStrings(fills)\n",
    "    layers.append(layer)"
   ]
  },
  {
   "cell_type": "code",
   "execution_count": null,
   "id": "9fd84613-f3db-4745-ab10-1d9f8904aed0",
   "metadata": {
    "Collapsed": "false"
   },
   "outputs": [],
   "source": [
    "\n",
    "for ii in range(n_layers):\n",
    "    fills = []\n",
    "    for p in bps:\n",
    "        xjitter_func = 0\n",
    "        yjitter_func = ss.norm(loc=0, scale=np.random.uniform(0.001, 0.005)).rvs\n",
    "        bhf = BezierHatchFill(\n",
    "            spacing=np.random.uniform(0.2, 0.21),\n",
    "            degrees=np.random.uniform(20,40),\n",
    "            poly_to_fill=p, \n",
    "            xjitter_func=xjitter_func, \n",
    "            yjitter_func=yjitter_func,\n",
    "            fill_inscribe_buffer=1.4,\n",
    "            n_nodes_per_line=5,\n",
    "            n_eval_points=6,\n",
    "        )\n",
    "        fills.append(bhf.p)\n",
    "\n",
    "    fills = [f for f in fills if f.length > 0]\n",
    "    layer = gp.merge_LineStrings(fills)\n",
    "    layers.append(layer)"
   ]
  },
  {
   "cell_type": "code",
   "execution_count": null,
   "id": "d904d9ad-580d-42e0-923b-93ab24f28793",
   "metadata": {
    "Collapsed": "false"
   },
   "outputs": [],
   "source": [
    "sk = vsketch.Vsketch()\n",
    "sk.size(paper.page_format_mm)\n",
    "sk.scale('1mm')\n",
    "sk.penWidth('0.3mm')\n",
    "for i, layer in enumerate(layers):\n",
    "    sk.stroke(i+1)\n",
    "    sk.geometry(layer)\n",
    "\n",
    "for tolerance in [0.1, 0.3, 0.5, 0.7]:\n",
    "    sk.vpype(f'linemerge --tolerance {tolerance}mm')\n",
    "sk.vpype('linesimplify --tolerance 0.1 linesort')\n",
    "\n",
    "sk.display(color_mode='layer')"
   ]
  },
  {
   "cell_type": "code",
   "execution_count": null,
   "id": "ac8b07a0-ccaa-4c82-bcf3-3c9189d30070",
   "metadata": {},
   "outputs": [],
   "source": []
  },
  {
   "cell_type": "code",
   "execution_count": null,
   "id": "521c25db-ba58-4f42-8b07-8a67d33e9610",
   "metadata": {},
   "outputs": [],
   "source": [
    "plot_id = fn.new_plot_id()"
   ]
  },
  {
   "cell_type": "code",
   "execution_count": null,
   "id": "c4469248-326e-43cc-b94f-2ba3fa285fbc",
   "metadata": {},
   "outputs": [],
   "source": [
    "savedir='/home/naka/art/plotter_svgs'"
   ]
  },
  {
   "cell_type": "code",
   "execution_count": null,
   "id": "7b68b58c-e308-438e-be40-13ff6116faf5",
   "metadata": {},
   "outputs": [],
   "source": [
    "savepath = Path(savedir).joinpath(f'{plot_id}.svg').as_posix()\n",
    "sk.save(savepath)"
   ]
  },
  {
   "cell_type": "code",
   "execution_count": null,
   "id": "29d0d84a-74b4-41f9-8330-84da205c7553",
   "metadata": {},
   "outputs": [],
   "source": []
  },
  {
   "cell_type": "markdown",
   "id": "52268f48-df2d-4d33-92f9-390d52864692",
   "metadata": {},
   "source": [
    "# remove"
   ]
  },
  {
   "cell_type": "code",
   "execution_count": null,
   "id": "3ec16a32-bcbb-4557-8f37-a7dc73258a0b",
   "metadata": {},
   "outputs": [],
   "source": []
  },
  {
   "cell_type": "code",
   "execution_count": 2,
   "id": "1ce152b4-67ea-4fa7-94a6-6dcc7d465a56",
   "metadata": {
    "Collapsed": "false"
   },
   "outputs": [],
   "source": [
    "# make page\n",
    "paper_size = '5x7 inches'\n",
    "border:float=10\n",
    "paper = Paper(paper_size)\n",
    "\n",
    "drawbox = paper.get_drawbox(border)"
   ]
  },
  {
   "cell_type": "code",
   "execution_count": 3,
   "id": "31016ab9-df0e-4ebd-8abe-765576f59c17",
   "metadata": {},
   "outputs": [],
   "source": [
    "poly = drawbox"
   ]
  },
  {
   "cell_type": "code",
   "execution_count": 4,
   "id": "3f633947-d460-4fb3-9758-f04e222d244a",
   "metadata": {},
   "outputs": [],
   "source": [
    "# split_func = functools.partial(sd.split_random_bezier, x0=0.2, x1=0.75, n_eval_points=50)\n",
    "\n",
    "xgen = ss.uniform(loc=0.5, scale=0.01).rvs\n",
    "split_func = functools.partial(sd.split_along_longest_side_of_min_rectangle, xgen=xgen)\n",
    "\n",
    "# x0gen = ss.uniform(loc=0.15, scale=0.01).rvs\n",
    "# x1gen = ss.uniform(loc=0.65, scale=0.01).rvs\n",
    "# split_func = functools.partial(sd.split_random_line_gen, x0gen=x0gen, x1gen=x1gen)"
   ]
  },
  {
   "cell_type": "code",
   "execution_count": 5,
   "id": "eac412c5-9c24-402c-ba11-f5fb6f988a6f",
   "metadata": {},
   "outputs": [],
   "source": [
    "# target = Point(140, 325)\n",
    "target = drawbox.centroid"
   ]
  },
  {
   "cell_type": "code",
   "execution_count": 6,
   "id": "a570a89d-de8f-4739-81a0-c3af21915486",
   "metadata": {},
   "outputs": [
    {
     "data": {
      "text/plain": [
       "(10.0, 10.0, 117.0, 167.79999999999998)"
      ]
     },
     "execution_count": 6,
     "metadata": {},
     "output_type": "execute_result"
    }
   ],
   "source": [
    "drawbox.bounds"
   ]
  },
  {
   "cell_type": "code",
   "execution_count": 7,
   "id": "9afa34a6-25ab-4bce-a9df-88c084d73cd4",
   "metadata": {},
   "outputs": [],
   "source": [
    "split_polys =[]\n",
    "    \n",
    "x0gen = ss.uniform(loc=0.25, scale=0.01).rvs\n",
    "x1gen = ss.uniform(loc=0.75, scale=0.1).rvs\n",
    "# split_func = functools.partial(sd.split_random_line_gen, x0gen=x0gen, x1gen=x1gen)\n",
    "xgen = ss.uniform(loc=0.6, scale=0.001).rvs\n",
    "split_func = functools.partial(sd.split_along_longest_side_of_min_rectangle, xgen=xgen)\n",
    "dist_from_center = partial(sd.distance_from_pt, target=target, p_range=(1, 0.1,), d_range=(0, 60))\n",
    "cp = sd.ContinuePolicy(dist_from_center)\n",
    "\n",
    "sps = sd.very_flex_rule_recursive_split(poly=poly, split_func=split_func, continue_func=cp, depth_limit=5, buffer_kwargs={'distance':1e-6})\n",
    "sps = gp.merge_Polygons(sps)\n",
    "split_polys.append(sps)\n",
    "\n",
    "\n",
    "bps = gp.merge_Polygons(split_polys)"
   ]
  },
  {
   "cell_type": "code",
   "execution_count": 8,
   "id": "9e7051f7-e9c8-4758-b28a-8c38075f532d",
   "metadata": {},
   "outputs": [],
   "source": [
    "bps = gp.make_like(bps, drawbox)"
   ]
  },
  {
   "cell_type": "code",
   "execution_count": 9,
   "id": "39c6781a-a5ad-475a-b4f6-9b04e1502366",
   "metadata": {
    "Collapsed": "false"
   },
   "outputs": [
    {
     "data": {
      "text/html": [
       "<div id=\"container\" style=\"width: 80%; height: 682.0px;\">\n",
       "            <svg id=\"svg_display_3602\" width=\"490.00000000000006px\"\n",
       "                    height=682.0\n",
       "                    viewBox=\"0 0 490.00000000000006 682.0\">\n",
       "                \n",
       "        <polygon points=\"480.00000000000006,10\n",
       "            490.00000000000006,10\n",
       "            490.00000000000006,682.0\n",
       "            10,682.0\n",
       "            10,672.0\n",
       "            480.00000000000006,672.0\"\n",
       "            style=\"fill:black;stroke:none;opacity:0.3;\" />\n",
       "        <rect width=\"480.00000000000006\" height=\"672.0\"\n",
       "            style=\"fill:none;stroke-width:1;stroke:rgb(0,0,0)\" />\n",
       "    \n",
       "                <?xml version=\"1.0\" encoding=\"utf-8\" ?>\n",
       "<svg xmlns=\"http://www.w3.org/2000/svg\" xmlns:cc=\"http://creativecommons.org/ns#\" xmlns:dc=\"http://purl.org/dc/elements/1.1/\" xmlns:ev=\"http://www.w3.org/2001/xml-events\" xmlns:inkscape=\"http://www.inkscape.org/namespaces/inkscape\" xmlns:rdf=\"http://www.w3.org/1999/02/22-rdf-syntax-ns#\" xmlns:sodipodi=\"http://sodipodi.sourceforge.net/DTD/sodipodi-0.dtd\" xmlns:xlink=\"http://www.w3.org/1999/xlink\" baseProfile=\"tiny\" height=\"17.78cm\" version=\"1.2\" viewBox=\"0 0 480.00000000000006 672.0\" width=\"12.7cm\">\n",
       "  <metadata>\n",
       "    <rdf:RDF>\n",
       "      <cc:Work>\n",
       "        <dc:format>image/svg+xml</dc:format>\n",
       "        <dc:source/>\n",
       "        <dc:date>2021-09-22T22:29:23.093859</dc:date>\n",
       "      </cc:Work>\n",
       "    </rdf:RDF>\n",
       "  </metadata>\n",
       "  <defs/>\n",
       "  <g fill=\"none\" id=\"layer1\" inkscape:groupmode=\"layer\" inkscape:label=\"1\" stroke=\"#00f\" style=\"display:inline\">\n",
       "    <polygon points=\"262.0421,126.3608 262.0421,126.3608 339.2019,143.722 339.2019,143.722 339.2019,143.722 339.2019,143.722 339.2019,143.722 339.2019,143.722 339.2019,143.722 339.2019,143.722 339.2019,143.722 339.2019,143.722 339.2019,143.722 339.2019,143.722 339.2019,143.722 339.2019,143.722 339.2019,143.722 339.2019,143.722 339.2019,143.722 339.2019,143.722 370.2008,37.7953 370.2008,37.7953 370.2008,37.7953 370.2008,37.7953 370.2008,37.7953 370.2008,37.7953 370.2008,37.7953 370.2008,37.7953 370.2008,37.7953 370.2008,37.7953 370.2008,37.7953 370.2008,37.7953 370.2008,37.7953 370.2008,37.7953 370.2008,37.7953 370.2008,37.7953 370.2008,37.7953 370.2008,37.7953 370.2008,37.7953 370.2008,37.7953 280.7623,37.7953 280.7623,37.7953 280.7623,37.7953 280.7623,37.7953 280.7623,37.7953 280.7623,37.7953 280.7623,37.7953 280.7623,37.7953 280.7623,37.7953 280.7623,37.7953 280.7623,37.7953 280.7623,37.7953 280.7623,37.7953 280.7623,37.7953 280.7623,37.7953 280.7623,37.7953 280.7623,37.7953 280.7623,37.7953 280.7623,37.7953 262.0421,126.3608 262.0421,126.3608 262.0421,126.3608 262.0421,126.3608 262.0421,126.3608 262.0421,126.3608 262.0421,126.3608 262.0421,126.3608 262.0421,126.3608 262.0421,126.3608 262.0421,126.3608 262.0421,126.3608 262.0421,126.3608 262.0421,126.3608 262.0421,126.3608 262.0421,126.3608\"/>\n",
       "    <polygon points=\"370.2008,37.7953 370.2008,37.7953 339.2019,143.722 339.2019,143.722 339.2019,143.722 339.2019,143.722 339.2019,143.722 339.2019,143.722 339.2019,143.722 339.2019,143.722 339.2019,143.722 339.2019,143.722 339.2019,143.722 339.2019,143.722 339.2019,143.722 339.2019,143.722 339.2019,143.722 339.2019,143.722 339.202,143.722 339.202,143.722 442.2047,166.8981 442.2047,166.8981 442.2047,166.8981 442.2047,166.8981 442.2047,166.8981 442.2047,166.8981 442.2047,166.8981 442.2047,166.8981 442.2047,166.8981 442.2047,166.8981 442.2047,166.8981 442.2047,166.8981 442.2047,166.8981 442.2047,166.8981 442.2047,166.8981 442.2047,166.8981 442.2047,166.8981 442.2047,166.8981 442.2047,166.8981 442.2047,37.7953 442.2047,37.7953 442.2047,37.7953 442.2047,37.7953 442.2047,37.7953 442.2047,37.7953 442.2047,37.7953 442.2047,37.7953 442.2047,37.7953 442.2047,37.7953 442.2047,37.7953 442.2047,37.7953 442.2047,37.7953 442.2047,37.7953 442.2047,37.7953 442.2047,37.7953 442.2047,37.7953 370.2008,37.7953 370.2008,37.7953 370.2008,37.7953 370.2008,37.7953 370.2008,37.7953 370.2008,37.7953 370.2008,37.7953 370.2008,37.7953 370.2008,37.7953 370.2008,37.7953 370.2008,37.7953 370.2008,37.7953 370.2008,37.7953 370.2008,37.7953 370.2008,37.7953 370.2008,37.7953 370.2008,37.7953\"/>\n",
       "    <polygon points=\"249.156,187.3254 249.156,187.3254 327.055,213.7344 327.055,213.7344 327.055,213.7344 327.055,213.7344 327.055,213.7344 327.055,213.7344 327.055,213.7344 327.055,213.7344 327.055,213.7344 327.055,213.7344 327.055,213.7344 327.055,213.7344 327.055,213.7344 327.055,213.7344 327.055,213.7344 327.055,213.7344 327.055,213.7344 327.055,213.7344 381.1995,153.1717 381.1995,153.1717 381.1995,153.1717 381.1995,153.1717 381.1995,153.1717 381.1995,153.1717 381.1995,153.1717 381.1995,153.1717 381.1995,153.1717 381.1995,153.1717 381.1995,153.1717 381.1995,153.1717 381.1995,153.1717 381.1995,153.1717 381.1995,153.1717 381.1995,153.1717 381.1995,153.1717 381.1995,153.1717 381.1995,153.1717 381.1995,153.1717 381.1995,153.1717 381.1995,153.1717 262.0421,126.3608 262.0421,126.3608 262.0421,126.3608 262.0421,126.3608 262.0421,126.3608 262.0421,126.3608 262.0421,126.3608 262.0421,126.3608 262.0421,126.3608 262.0421,126.3608 262.0421,126.3608 262.0421,126.3608 262.0421,126.3608 262.0421,126.3608 262.0421,126.3608 262.0421,126.3608 262.0421,126.3608 249.156,187.3254 249.156,187.3254 249.156,187.3254 249.156,187.3254 249.156,187.3254 249.156,187.3254 249.156,187.3254 249.156,187.3254 249.156,187.3254 249.156,187.3254 249.156,187.3254 249.156,187.3254 249.156,187.3254 249.156,187.3254 249.156,187.3254 249.156,187.3254\"/>\n",
       "    <polygon points=\"381.1995,153.1717 381.1995,153.1717 327.055,213.7344 327.055,213.7344 327.055,213.7344 327.055,213.7344 327.055,213.7344 327.055,213.7344 327.055,213.7344 327.055,213.7344 327.055,213.7344 327.055,213.7344 327.055,213.7344 327.055,213.7344 327.055,213.7344 327.055,213.7344 327.055,213.7344 327.055,213.7344 327.055,213.7344 327.055,213.7344 327.055,213.7344 327.055,213.7344 327.055,213.7344 442.2047,252.772 442.2047,252.772 442.2047,252.772 442.2047,252.772 442.2047,252.772 442.2047,252.772 442.2047,252.772 442.2047,252.772 442.2047,252.772 442.2047,252.772 442.2047,252.772 442.2047,252.772 442.2047,252.772 442.2047,252.772 442.2047,252.772 442.2047,252.772 442.2047,252.772 442.2047,252.772 442.2047,252.772 442.2047,252.772 442.2047,166.8981 442.2047,166.8981 442.2047,166.8981 442.2047,166.8981 442.2047,166.8981 442.2047,166.8981 442.2047,166.8981 442.2047,166.8981 442.2047,166.8981 442.2047,166.8981 442.2047,166.8981 442.2047,166.8981 442.2047,166.8981 442.2047,166.8981 442.2047,166.8981 442.2047,166.8981 442.2047,166.8981 442.2047,166.8981 442.2047,166.8981 381.1995,153.1717 381.1995,153.1717 381.1995,153.1717 381.1995,153.1717 381.1995,153.1717 381.1995,153.1717 381.1995,153.1717 381.1995,153.1717 381.1995,153.1717 381.1995,153.1717 381.1995,153.1717 381.1995,153.1717 381.1995,153.1717 381.1995,153.1717 381.1995,153.1717 381.1995,153.1717 381.1995,153.1717\"/>\n",
       "    <polygon points=\"258.7573,341.589 258.7573,341.589 258.7573,341.589 289.597,288.9582 289.597,288.9582 289.597,288.9582 289.597,288.9582 289.597,288.9582 289.597,288.9582 289.597,288.9582 289.597,288.9582 289.597,288.9582 289.597,288.9582 289.597,288.9582 289.597,288.9582 289.597,288.9582 289.597,288.9582 289.597,288.9582 289.597,288.9582 289.597,288.9582 289.597,288.9582 289.597,288.9582 237.3043,243.3958 237.3043,243.3958 237.3043,243.3958 237.3043,243.3958 237.3043,243.3958 237.3043,243.3958 237.3043,243.3958 237.3043,243.3958 237.3043,243.3958 237.3043,243.3958 237.3043,243.3958 237.3043,243.3958 237.3043,243.3958 237.3043,243.3958 237.3043,243.3958 237.3043,243.3958 237.3043,243.3958 237.3043,243.3958 237.3043,243.3958 237.3043,243.3958 237.3043,243.3958 237.3043,243.3958 219.0422,329.7943 219.0422,329.7943 219.0422,329.7943 219.0422,329.7943 219.0422,329.7943 219.0422,329.7943 219.0422,329.7943 219.0422,329.7943 219.0422,329.7944 219.0422,329.7944 219.0422,329.7944 219.0422,329.7944 219.0422,329.7944 219.0422,329.7944 219.0422,329.7944 219.0422,329.7944 219.0422,329.7944 219.0422,329.7944 258.7573,341.589 258.7573,341.589 258.7573,341.589 258.7573,341.589 258.7573,341.589 258.7573,341.589 258.7573,341.589 258.7573,341.589 258.7573,341.589 258.7573,341.589 258.7573,341.589 258.7573,341.589 258.7573,341.589 258.7573,341.589 258.7573,341.589 258.7573,341.589\"/>\n",
       "    <polygon points=\"237.3043,243.3958 237.3043,243.3958 237.3043,243.3958 289.597,288.9582 289.597,288.9582 289.597,288.9582 289.597,288.9582 289.597,288.9582 289.597,288.9582 289.597,288.9582 289.597,288.9582 289.597,288.9582 289.597,288.9582 289.597,288.9582 289.597,288.9582 289.597,288.9582 289.597,288.9582 289.597,288.9582 289.597,288.9582 289.597,288.9582 289.597,288.9582 289.597,288.9582 332.5782,215.6069 332.5782,215.6069 332.5782,215.6069 332.5782,215.6069 332.5782,215.6069 332.5782,215.6069 332.5782,215.6069 332.5782,215.6069 332.5782,215.6069 332.5782,215.6069 332.5782,215.6069 332.5782,215.6069 332.5782,215.6069 332.5782,215.6069 332.5782,215.6069 332.5782,215.6069 332.5782,215.6069 332.5782,215.6069 332.5782,215.6069 249.156,187.3254 249.156,187.3254 249.156,187.3254 249.156,187.3254 249.156,187.3254 249.156,187.3254 249.156,187.3254 249.156,187.3254 249.156,187.3254 249.156,187.3254 249.156,187.3254 249.156,187.3254 249.156,187.3254 249.156,187.3254 249.156,187.3254 249.156,187.3254 249.156,187.3254 249.156,187.3254 237.3043,243.3958 237.3043,243.3958 237.3043,243.3958 237.3043,243.3958 237.3043,243.3958 237.3043,243.3958 237.3043,243.3958 237.3043,243.3958 237.3043,243.3958 237.3043,243.3958 237.3043,243.3958 237.3043,243.3958 237.3043,243.3958 237.3043,243.3958 237.3043,243.3958 237.3043,243.3958\"/>\n",
       "    <polygon points=\"301.5681,354.303 301.5681,354.303 301.5681,354.303 332.9336,310.8989 332.9336,310.8989 332.9336,310.8989 332.9336,310.8989 332.9336,310.8989 332.9336,310.8989 332.9336,310.8989 332.9336,310.8989 332.9336,310.8989 332.9336,310.8989 332.9336,310.8989 332.9336,310.8989 332.9336,310.8989 332.9336,310.8989 332.9336,310.8989 332.9336,310.8989 332.9336,310.8989 332.9336,310.8989 332.9336,310.8989 306.6456,259.8633 306.6456,259.8633 306.6456,259.8633 306.6456,259.8633 306.6456,259.8633 306.6456,259.8633 306.6456,259.8633 306.6456,259.8633 306.6456,259.8633 306.6456,259.8633 306.6456,259.8633 306.6456,259.8633 306.6456,259.8633 306.6456,259.8633 306.6456,259.8633 306.6456,259.8633 306.6455,259.8633 306.6455,259.8633 306.6455,259.8633 306.6455,259.8633 306.6455,259.8633 306.6455,259.8633 306.6455,259.8633 258.7573,341.589 258.7573,341.589 258.7573,341.589 258.7573,341.589 258.7573,341.589 258.7573,341.589 258.7573,341.589 258.7573,341.589 258.7573,341.589 258.7573,341.589 258.7573,341.589 258.7573,341.589 258.7573,341.589 258.7573,341.589 258.7573,341.589 258.7573,341.589 258.7573,341.589 258.7573,341.589 258.7573,341.589 301.5681,354.303 301.5681,354.303 301.5681,354.303 301.5681,354.303 301.5681,354.303 301.5681,354.303 301.5681,354.303 301.5681,354.303 301.5681,354.303 301.5681,354.303 301.5681,354.303 301.5681,354.303 301.5681,354.303 301.5681,354.303 301.5681,354.303 301.5681,354.303\"/>\n",
       "    <polygon points=\"306.6456,259.8633 306.6456,259.8633 332.9336,310.8989 332.9336,310.8989 332.9336,310.8989 332.9336,310.8989 332.9336,310.8989 332.9336,310.8989 332.9336,310.8989 332.9336,310.8989 332.9336,310.8989 332.9336,310.8989 332.9336,310.8989 332.9336,310.8989 332.9336,310.8989 332.9336,310.8989 332.9336,310.8989 332.9336,310.8989 332.9336,310.8989 332.9336,310.8989 332.9336,310.8989 332.9336,310.8989 332.9336,310.8989 332.9336,310.8989 388.175,234.4551 388.175,234.4551 388.175,234.4551 388.175,234.4551 388.175,234.4551 388.175,234.4551 388.175,234.4551 388.175,234.4551 388.175,234.4551 388.175,234.4551 388.175,234.4551 388.175,234.4551 388.175,234.4551 388.175,234.4551 388.175,234.4551 388.175,234.4551 388.175,234.4551 388.175,234.4551 388.175,234.4551 388.175,234.4551 332.5782,215.6069 332.5782,215.6069 332.5782,215.6069 332.5782,215.6069 332.5782,215.6069 332.5782,215.6069 332.5782,215.6069 332.5782,215.6069 332.5782,215.6069 332.5782,215.6069 332.5782,215.6069 332.5782,215.6069 332.5782,215.6069 332.5782,215.6069 332.5782,215.6069 332.5782,215.6069 332.5782,215.6069 332.5782,215.6069 306.6456,259.8633 306.6456,259.8633 306.6456,259.8633 306.6456,259.8633 306.6456,259.8633 306.6456,259.8633 306.6456,259.8633 306.6456,259.8633 306.6456,259.8633 306.6456,259.8633 306.6456,259.8633 306.6456,259.8633 306.6456,259.8633 306.6456,259.8633 306.6456,259.8633 306.6456,259.8633 306.6456,259.8633\"/>\n",
       "    <polygon points=\"442.2047,252.772 442.2047,252.772 425.3188,247.0474 425.3188,247.0474 425.3188,247.0474 425.3188,247.0474 425.3188,247.0474 425.3188,247.0474 425.3188,247.0474 425.3188,247.0474 425.3188,247.0474 425.3188,247.0474 425.3188,247.0474 425.3188,247.0474 425.3188,247.0474 425.3188,247.0474 425.3188,247.0474 425.3188,247.0474 425.3188,247.0474 425.3188,247.0474 425.3188,247.0474 357.8213,371.0091 357.8213,371.0091 357.8213,371.0091 357.8213,371.0091 357.8213,371.0091 357.8213,371.0091 357.8213,371.0091 357.8213,371.0091 357.8213,371.0091 357.8213,371.0091 357.8213,371.0091 357.8213,371.0091 357.8213,371.0091 357.8213,371.0091 357.8213,371.0091 357.8213,371.0091 357.8213,371.0091 357.8213,371.0091 357.8213,371.0091 442.2047,396.0694 442.2047,396.0694 442.2047,396.0694 442.2047,396.0694 442.2047,396.0694 442.2047,396.0694 442.2047,396.0694 442.2047,396.0694 442.2047,396.0694 442.2047,396.0694 442.2047,396.0694 442.2047,396.0694 442.2047,396.0694 442.2047,396.0694 442.2047,396.0693 442.2047,396.0693 442.2047,396.0693 442.2047,396.0693 442.2047,396.0693 442.2047,396.0693 442.2047,252.772 442.2047,252.772 442.2047,252.772 442.2047,252.772 442.2047,252.772 442.2047,252.772 442.2047,252.772 442.2047,252.772 442.2047,252.772 442.2047,252.772 442.2047,252.772 442.2047,252.772 442.2047,252.772 442.2047,252.772 442.2047,252.772 442.2047,252.772 442.2047,252.772\"/>\n",
       "    <polygon points=\"355.0792,280.2536 355.0792,280.2536 381.2682,327.9481 381.2682,327.9481 381.2682,327.9481 381.2682,327.9481 381.2682,327.9481 381.2682,327.9481 381.2682,327.9481 381.2682,327.9481 381.2682,327.9481 381.2682,327.9481 381.2682,327.9481 381.2682,327.9481 381.2682,327.9481 381.2682,327.9481 381.2682,327.9481 381.2682,327.9481 381.2682,327.9481 381.2682,327.9481 381.2682,327.9481 381.2682,327.9481 381.2682,327.9481 381.2682,327.9481 381.2682,327.9481 425.3188,247.0474 425.3188,247.0474 425.3188,247.0474 425.3188,247.0474 425.3188,247.0474 425.3188,247.0474 425.3188,247.0474 425.3188,247.0474 425.3188,247.0474 425.3188,247.0474 425.3188,247.0474 425.3188,247.0474 425.3188,247.0474 425.3188,247.0474 425.3188,247.0474 425.3188,247.0474 425.3188,247.0474 425.3188,247.0474 425.3188,247.0474 388.175,234.4551 388.175,234.4551 388.175,234.4551 388.175,234.4551 388.175,234.4551 388.175,234.4551 388.175,234.4551 388.175,234.4551 388.175,234.4551 388.175,234.4551 388.175,234.4551 388.175,234.4551 388.175,234.4551 388.175,234.4551 388.175,234.4551 388.175,234.4551 388.175,234.4551 388.175,234.4551 388.175,234.4551 355.0792,280.2536 355.0792,280.2536 355.0792,280.2536 355.0792,280.2536 355.0792,280.2536 355.0792,280.2536 355.0792,280.2536 355.0792,280.2536 355.0792,280.2536 355.0792,280.2536 355.0792,280.2536 355.0792,280.2536 355.0792,280.2536 355.0792,280.2536 355.0792,280.2536 355.0792,280.2536 355.0792,280.2536\"/>\n",
       "    <polygon points=\"301.5681,354.303 301.5681,354.303 301.5681,354.303 301.5681,354.303 301.5681,354.303 301.5681,354.303 301.5681,354.303 301.5681,354.303 301.5681,354.303 301.5681,354.303 301.5681,354.303 301.5681,354.303 301.5681,354.303 301.5681,354.303 301.5681,354.303 301.5681,354.303 301.5681,354.303 301.5681,354.303 301.5681,354.303 301.5681,354.303 357.8213,371.0091 357.8213,371.0091 357.8213,371.0091 357.8213,371.0091 357.8213,371.0091 357.8213,371.0091 357.8213,371.0091 357.8213,371.0091 357.8213,371.0091 357.8213,371.0091 357.8213,371.0091 357.8213,371.0091 357.8213,371.0091 357.8213,371.0091 357.8213,371.0091 357.8213,371.0091 357.8213,371.0091 357.8213,371.0091 357.8213,371.0091 381.2682,327.9481 381.2682,327.9481 381.2682,327.9481 381.2682,327.9481 381.2682,327.9481 381.2682,327.9481 381.2682,327.9481 381.2682,327.9481 381.2682,327.9481 381.2682,327.9481 381.2682,327.9481 381.2682,327.9481 381.2682,327.9481 381.2682,327.9481 381.2682,327.9481 381.2682,327.9481 381.2682,327.9481 381.2682,327.9481 381.2682,327.9481 355.0792,280.2536 355.0792,280.2536 355.0792,280.2536 355.0792,280.2536 355.0792,280.2536 355.0792,280.2536 355.0792,280.2536 355.0792,280.2536 355.0792,280.2536 355.0792,280.2536 355.0791,280.2536 355.0791,280.2536 355.0791,280.2536 355.0791,280.2536 355.0791,280.2536 355.0791,280.2536 355.0791,280.2536 355.0791,280.2536 355.0791,280.2536 355.0791,280.2536 355.0791,280.2536 355.0791,280.2536\"/>\n",
       "    <polygon points=\"37.7953,154.5837 37.7953,154.5837 37.7953,154.5837 141.2467,180.0407 141.2467,180.0407 141.2467,180.0407 141.2467,180.0407 141.2467,180.0407 141.2467,180.0407 141.2467,180.0407 141.2467,180.0407 141.2467,180.0407 141.2467,180.0407 141.2467,180.0407 141.2467,180.0407 141.2467,180.0407 141.2467,180.0407 141.2467,180.0407 141.2467,180.0407 141.2467,180.0407 141.2467,180.0407 183.6687,37.7953 183.6687,37.7953 183.6687,37.7953 183.6687,37.7953 183.6687,37.7953 183.6687,37.7953 183.6687,37.7953 183.6687,37.7953 183.6687,37.7953 183.6687,37.7953 183.6687,37.7953 183.6687,37.7953 183.6687,37.7953 183.6687,37.7953 183.6687,37.7953 183.6687,37.7953 183.6687,37.7953 183.6687,37.7953 183.6687,37.7953 183.6687,37.7953 37.7953,37.7953 37.7953,37.7953 37.7953,37.7953 37.7953,37.7953 37.7953,37.7953 37.7953,37.7953 37.7953,37.7953 37.7953,37.7953 37.7953,37.7953 37.7953,37.7953 37.7953,37.7953 37.7953,37.7953 37.7953,37.7953 37.7953,37.7953 37.7953,37.7953 37.7953,37.7953 37.7953,37.7953 37.7953,154.5837 37.7953,154.5837 37.7953,154.5837 37.7953,154.5837 37.7953,154.5837 37.7953,154.5837 37.7953,154.5837 37.7953,154.5837 37.7953,154.5837 37.7953,154.5837 37.7953,154.5837 37.7953,154.5837 37.7953,154.5837 37.7953,154.5837 37.7953,154.5837 37.7953,154.5837\"/>\n",
       "    <polygon points=\"183.6687,37.7953 183.6687,37.7953 141.2467,180.0407 141.2467,180.0407 141.2467,180.0407 141.2467,180.0407 141.2467,180.0407 141.2467,180.0407 141.2467,180.0407 141.2467,180.0407 141.2467,180.0407 141.2467,180.0407 141.2467,180.0407 141.2467,180.0407 141.2467,180.0407 141.2467,180.0407 141.2467,180.0407 141.2467,180.0407 141.2467,180.0407 245.2844,205.6419 245.2844,205.6419 245.2844,205.6419 245.2844,205.6419 245.2844,205.6419 245.2844,205.6419 245.2844,205.6419 245.2844,205.6419 245.2844,205.6419 245.2844,205.6419 245.2844,205.6419 245.2844,205.6419 245.2844,205.6419 245.2844,205.6419 245.2844,205.6419 245.2844,205.6419 245.2844,205.6419 280.7623,37.7953 280.7623,37.7953 280.7623,37.7953 280.7623,37.7953 280.7623,37.7953 280.7623,37.7953 280.7623,37.7953 280.7623,37.7953 280.7623,37.7953 280.7623,37.7953 280.7623,37.7953 280.7623,37.7953 280.7623,37.7953 280.7623,37.7953 280.7623,37.7953 280.7623,37.7953 280.7623,37.7953 280.7623,37.7953 280.7623,37.7953 183.6687,37.7953 183.6687,37.7953 183.6687,37.7953 183.6687,37.7953 183.6687,37.7953 183.6687,37.7953 183.6687,37.7953 183.6687,37.7953 183.6687,37.7953 183.6687,37.7953 183.6687,37.7953 183.6687,37.7953 183.6687,37.7953 183.6687,37.7953 183.6687,37.7953 183.6687,37.7953 183.6687,37.7953\"/>\n",
       "    <polygon points=\"37.7953,275.9675 37.7953,275.9675 60.2166,282.6262 60.2166,282.6262 60.2166,282.6262 60.2166,282.6262 60.2166,282.6262 60.2166,282.6262 60.2166,282.6262 60.2166,282.6262 60.2166,282.6262 60.2166,282.6262 60.2166,282.6262 60.2166,282.6262 60.2166,282.6262 60.2166,282.6262 60.2166,282.6262 60.2166,282.6262 60.2166,282.6262 60.2166,282.6262 60.2166,282.6262 83.2163,235.9431 83.2163,235.9431 83.2163,235.9431 83.2163,235.9431 83.2163,235.9431 83.2163,235.9431 83.2163,235.9431 83.2163,235.9431 83.2163,235.9431 83.2163,235.9431 83.2163,235.9431 83.2163,235.9431 83.2163,235.9431 83.2163,235.9431 83.2163,235.9431 83.2163,235.9431 83.2163,235.9431 83.2163,235.9431 37.7953,200.7104 37.7953,200.7104 37.7953,200.7104 37.7953,200.7104 37.7953,200.7104 37.7953,200.7104 37.7953,200.7104 37.7953,200.7104 37.7953,200.7104 37.7953,200.7104 37.7953,200.7104 37.7953,200.7104 37.7953,200.7104 37.7953,200.7104 37.7953,200.7104 37.7953,200.7104 37.7953,200.7104 37.7953,200.7104 37.7953,200.7104 37.7953,200.7104 37.7953,200.7104 37.7953,200.7104 37.7953,200.7104 37.7953,200.7104 37.7953,275.9675 37.7953,275.9675 37.7953,275.9675 37.7953,275.9675 37.7953,275.9675 37.7953,275.9675 37.7953,275.9675 37.7953,275.9675 37.7953,275.9675 37.7953,275.9675 37.7953,275.9675 37.7953,275.9675 37.7953,275.9675 37.7953,275.9675 37.7953,275.9675 37.7953,275.9675 37.7953,275.9675\"/>\n",
       "    <polygon points=\"37.7953,200.7104 37.7953,200.7104 83.2163,235.9431 83.2163,235.9431 83.2163,235.9431 83.2163,235.9431 83.2163,235.9431 83.2163,235.9431 83.2163,235.9431 83.2163,235.9431 83.2163,235.9431 83.2163,235.9431 83.2163,235.9431 83.2163,235.9431 83.2163,235.9431 83.2163,235.9431 83.2163,235.9431 83.2163,235.9431 83.2163,235.9431 83.2163,235.9431 83.2163,235.9431 114.0548,173.3494 114.0548,173.3494 114.0548,173.3494 114.0548,173.3494 114.0548,173.3494 114.0548,173.3494 114.0548,173.3494 114.0548,173.3494 114.0548,173.3494 114.0548,173.3494 114.0548,173.3494 114.0548,173.3494 114.0548,173.3494 114.0548,173.3494 114.0548,173.3494 114.0548,173.3494 114.0548,173.3494 114.0548,173.3494 114.0548,173.3494 37.7953,154.5837 37.7953,154.5837 37.7953,154.5837 37.7953,154.5837 37.7953,154.5837 37.7953,154.5837 37.7953,154.5837 37.7953,154.5837 37.7953,154.5837 37.7953,154.5837 37.7953,154.5837 37.7953,154.5837 37.7953,154.5837 37.7953,154.5837 37.7953,154.5837 37.7953,154.5837 37.7953,154.5837 37.7953,154.5837 37.7953,154.5837 37.7953,200.7104 37.7953,200.7104 37.7953,200.7104 37.7953,200.7104 37.7953,200.7104 37.7953,200.7104 37.7953,200.7104 37.7953,200.7104 37.7953,200.7104 37.7953,200.7104 37.7953,200.7104 37.7953,200.7104 37.7953,200.7104 37.7953,200.7104 37.7953,200.7104 37.7953,200.7104 37.7953,200.7104\"/>\n",
       "    <polygon points=\"93.7499,292.5849 93.7499,292.5849 93.7499,292.5849 93.7499,292.5849 93.7499,292.5849 93.7499,292.5849 93.7499,292.5849 93.7499,292.5849 93.7499,292.5849 93.7499,292.5849 93.7499,292.5849 93.7499,292.5849 93.7499,292.5849 93.7499,292.5849 93.7499,292.5849 93.7499,292.5849 93.7499,292.5849 93.7499,292.5849 93.7499,292.5849 164.8034,185.8374 164.8034,185.8374 164.8034,185.8374 164.8034,185.8374 164.8034,185.8374 164.8034,185.8374 164.8034,185.8374 164.8034,185.8374 164.8034,185.8374 164.8034,185.8374 164.8034,185.8374 164.8034,185.8374 164.8034,185.8374 164.8034,185.8374 164.8034,185.8374 164.8034,185.8374 164.8034,185.8374 164.8034,185.8374 164.8034,185.8374 164.8034,185.8374 164.8034,185.8374 114.0548,173.3494 114.0548,173.3494 114.0548,173.3494 114.0548,173.3494 114.0548,173.3494 114.0548,173.3494 114.0548,173.3494 114.0548,173.3494 114.0548,173.3494 114.0548,173.3494 114.0548,173.3494 114.0548,173.3494 114.0548,173.3494 114.0548,173.3494 114.0548,173.3494 114.0548,173.3494 114.0548,173.3494 114.0548,173.3494 114.0548,173.3494 60.2166,282.6262 60.2166,282.6262 60.2166,282.6262 60.2166,282.6262 60.2166,282.6262 60.2166,282.6262 60.2166,282.6262 60.2166,282.6262 60.2166,282.6262 60.2166,282.6262 60.2166,282.6262 60.2166,282.6262 60.2166,282.6262 60.2166,282.6262 60.2166,282.6262 60.2166,282.6262 60.2166,282.6262 60.2166,282.6262 60.2166,282.6262\"/>\n",
       "    <polygon points=\"204.4767,195.6001 204.4767,195.6001 179.2431,242.1515 179.2431,242.1515 179.2431,242.1515 179.2431,242.1515 179.2431,242.1515 179.2431,242.1515 179.2431,242.1515 179.2431,242.1515 179.2431,242.1515 179.2431,242.1515 179.2431,242.1515 179.2431,242.1515 179.2431,242.1515 179.2431,242.1515 179.2431,242.1515 179.2431,242.1515 179.2431,242.1515 179.2431,242.1515 179.2431,242.1515 229.4505,280.5526 229.4505,280.5526 229.4505,280.5526 229.4505,280.5526 229.4505,280.5526 229.4505,280.5526 229.4505,280.5526 229.4505,280.5526 229.4505,280.5526 229.4505,280.5526 229.4505,280.5526 229.4505,280.5526 229.4505,280.5526 229.4505,280.5526 229.4505,280.5526 229.4505,280.5526 229.4505,280.5526 229.4505,280.5526 229.4505,280.5526 229.4505,280.5526 229.4505,280.5526 229.4505,280.5526 245.2844,205.6419 245.2844,205.6419 245.2844,205.6419 245.2844,205.6419 245.2844,205.6419 245.2844,205.6419 245.2844,205.6419 245.2844,205.6419 245.2844,205.6419 245.2844,205.6419 245.2844,205.6419 245.2844,205.6419 245.2844,205.6419 245.2844,205.6419 245.2844,205.6419 245.2844,205.6419 245.2844,205.6419 245.2844,205.6419 204.4767,195.6001 204.4767,195.6001 204.4767,195.6001 204.4767,195.6001 204.4767,195.6001 204.4767,195.6001 204.4767,195.6001 204.4767,195.6001 204.4767,195.6001 204.4767,195.6001 204.4767,195.6001 204.4767,195.6001 204.4767,195.6001 204.4767,195.6001 204.4767,195.6001 204.4767,195.6001 204.4767,195.6001\"/>\n",
       "    <polygon points=\"143.8414,307.4612 143.8414,307.4612 143.8414,307.4612 143.8414,307.4612 143.8414,307.4612 143.8414,307.4612 143.8414,307.4612 143.8414,307.4612 143.8414,307.4612 143.8414,307.4612 143.8414,307.4612 143.8414,307.4612 143.8414,307.4612 143.8414,307.4612 143.8414,307.4612 143.8414,307.4612 143.8414,307.4612 143.8414,307.4612 143.8414,307.4612 219.0422,329.7944 219.0422,329.7944 219.0422,329.7944 219.0422,329.7944 219.0422,329.7944 219.0422,329.7944 219.0422,329.7944 219.0422,329.7944 219.0422,329.7943 219.0422,329.7943 219.0422,329.7943 219.0422,329.7943 219.0422,329.7943 219.0422,329.7943 219.0422,329.7943 219.0422,329.7943 219.0422,329.7943 219.0422,329.7943 229.4505,280.5526 229.4505,280.5526 229.4505,280.5526 229.4505,280.5526 229.4505,280.5526 229.4505,280.5526 229.4505,280.5526 229.4505,280.5526 229.4505,280.5526 229.4505,280.5526 229.4505,280.5526 229.4505,280.5526 229.4505,280.5526 229.4505,280.5526 229.4505,280.5526 229.4505,280.5526 229.4505,280.5526 229.4505,280.5526 229.4505,280.5526 179.2431,242.1515 179.2431,242.1515 179.2431,242.1515 179.2431,242.1515 179.2431,242.1515 179.2431,242.1515 179.2431,242.1515 179.2431,242.1515 179.2431,242.1515 179.2431,242.1515 179.2431,242.1515 179.2431,242.1515 179.2431,242.1515 179.2431,242.1515 179.2431,242.1515 179.2431,242.1515 179.2431,242.1515 179.2431,242.1515 179.2431,242.1515\"/>\n",
       "    <polygon points=\"139.4989,223.8538 139.4989,223.8538 164.9637,268.4944 164.9637,268.4944 164.9637,268.4944 164.9637,268.4944 164.9637,268.4944 164.9637,268.4944 164.9637,268.4944 164.9637,268.4944 164.9637,268.4944 164.9637,268.4944 164.9637,268.4944 164.9637,268.4944 164.9637,268.4944 164.9637,268.4944 164.9637,268.4944 164.9637,268.4944 164.9637,268.4944 164.9637,268.4944 164.9637,268.4944 164.9637,268.4944 164.9637,268.4944 164.9637,268.4944 164.9637,268.4944 204.4767,195.6001 204.4767,195.6001 204.4767,195.6001 204.4767,195.6001 204.4767,195.6001 204.4767,195.6001 204.4767,195.6001 204.4767,195.6001 204.4767,195.6001 204.4767,195.6001 204.4767,195.6001 204.4767,195.6001 204.4767,195.6001 204.4767,195.6001 204.4767,195.6001 204.4767,195.6001 204.4767,195.6001 204.4767,195.6001 204.4767,195.6001 204.4767,195.6001 164.8034,185.8374 164.8034,185.8374 164.8034,185.8374 164.8034,185.8374 164.8034,185.8374 164.8034,185.8374 164.8034,185.8374 164.8034,185.8374 164.8034,185.8374 164.8034,185.8374 164.8034,185.8374 164.8034,185.8374 164.8034,185.8374 164.8034,185.8374 164.8034,185.8374 164.8034,185.8374 164.8034,185.8374 164.8034,185.8374 164.8034,185.8374 139.4989,223.8538 139.4989,223.8538 139.4989,223.8538 139.4989,223.8538 139.4989,223.8538 139.4989,223.8538 139.4989,223.8538 139.4989,223.8538 139.4989,223.8538 139.4989,223.8538 139.4989,223.8538 139.4989,223.8538 139.4989,223.8538 139.4989,223.8538 139.4989,223.8538 139.4989,223.8538 139.4989,223.8538\"/>\n",
       "    <polygon points=\"93.7499,292.5849 93.7499,292.5849 93.7499,292.5849 93.7499,292.5849 93.7499,292.5849 93.7499,292.5849 93.7499,292.5849 93.7499,292.5849 93.7499,292.5849 93.7499,292.5849 93.7499,292.5849 93.7499,292.5849 93.7499,292.5849 93.7499,292.5849 93.7499,292.5849 93.7499,292.5849 93.7499,292.5849 93.7499,292.5849 93.7499,292.5849 93.7499,292.5849 143.8414,307.4612 143.8414,307.4612 143.8414,307.4612 143.8414,307.4612 143.8414,307.4612 143.8414,307.4612 143.8414,307.4612 143.8414,307.4612 143.8414,307.4612 143.8414,307.4612 143.8414,307.4612 143.8414,307.4612 143.8414,307.4612 143.8414,307.4612 143.8414,307.4612 143.8414,307.4612 143.8414,307.4612 143.8414,307.4612 143.8414,307.4612 164.9637,268.4944 164.9637,268.4944 164.9637,268.4944 164.9637,268.4944 164.9637,268.4944 164.9637,268.4944 164.9637,268.4944 164.9637,268.4944 164.9637,268.4944 164.9637,268.4944 164.9637,268.4944 164.9637,268.4944 164.9637,268.4944 164.9637,268.4944 164.9637,268.4944 164.9637,268.4944 164.9637,268.4944 164.9637,268.4944 164.9637,268.4944 139.4989,223.8538 139.4989,223.8538 139.4989,223.8538 139.4989,223.8538 139.4989,223.8538 139.4989,223.8538 139.4989,223.8538 139.4989,223.8538 139.4989,223.8538 139.4989,223.8538 139.4989,223.8538 139.4989,223.8538 139.4989,223.8538 139.4989,223.8538 139.4989,223.8538 139.4989,223.8538 139.4989,223.8538 139.4989,223.8538 139.4989,223.8538 139.4989,223.8538 139.4989,223.8538 139.4989,223.8538\"/>\n",
       "    <polygon points=\"199.4284,634.2047 199.4284,634.2047 199.4284,634.2047 218.1686,545.401 218.1686,545.401 218.1686,545.401 218.1686,545.401 218.1686,545.401 218.1686,545.401 218.1686,545.401 218.1686,545.401 218.1686,545.401 218.1686,545.401 218.1686,545.401 218.1686,545.401 218.1686,545.401 218.1686,545.401 218.1686,545.401 218.1686,545.401 218.1686,545.401 218.1686,545.401 37.7953,504.9422 37.7953,504.9422 37.7953,504.9422 37.7953,504.9422 37.7953,504.9422 37.7953,504.9422 37.7953,504.9422 37.7953,504.9422 37.7953,504.9422 37.7953,504.9422 37.7953,504.9422 37.7953,504.9422 37.7953,504.9422 37.7953,504.9422 37.7953,504.9422 37.7953,504.9422 37.7953,504.9422 37.7953,504.9422 37.7953,504.9422 37.7953,634.2047 37.7953,634.2047 37.7953,634.2047 37.7953,634.2047 37.7953,634.2047 37.7953,634.2047 37.7953,634.2047 37.7953,634.2047 37.7953,634.2047 37.7953,634.2047 37.7953,634.2047 37.7953,634.2047 37.7953,634.2047 37.7953,634.2047 37.7953,634.2047 37.7953,634.2047 37.7953,634.2047 199.4284,634.2047 199.4284,634.2047 199.4284,634.2047 199.4284,634.2047 199.4284,634.2047 199.4284,634.2047 199.4284,634.2047 199.4284,634.2047 199.4284,634.2047 199.4284,634.2047 199.4284,634.2047 199.4284,634.2047 199.4284,634.2047 199.4284,634.2047 199.4284,634.2047 199.4284,634.2047\"/>\n",
       "    <polygon points=\"37.7953,504.9422 37.7953,504.9422 37.7953,504.9422 218.1686,545.401 218.1686,545.401 218.1686,545.401 218.1686,545.401 218.1686,545.401 218.1686,545.401 218.1686,545.401 218.1686,545.401 218.1686,545.401 218.1686,545.401 218.1686,545.401 218.1686,545.401 218.1686,545.401 218.1686,545.401 218.1686,545.401 218.1686,545.401 218.1686,545.401 231.0,484.5968 231.0,484.5968 231.0,484.5967 231.0,484.5967 231.0,484.5967 231.0,484.5967 231.0,484.5967 231.0,484.5967 231.0,484.5967 231.0,484.5967 231.0,484.5967 231.0,484.5967 231.0,484.5967 231.0,484.5967 231.0,484.5967 231.0,484.5967 231.0,484.5967 231.0,484.5967 37.7953,418.9331 37.7953,418.9331 37.7953,418.9331 37.7953,418.9331 37.7953,418.9331 37.7953,418.9331 37.7953,418.9331 37.7953,418.9331 37.7953,418.9331 37.7953,418.9331 37.7953,418.9331 37.7953,418.9331 37.7953,418.9331 37.7953,418.9331 37.7953,418.9331 37.7953,418.9331 37.7953,418.9331 37.7953,418.9331 37.7953,418.9331 37.7953,418.9331 37.7953,504.9422 37.7953,504.9422 37.7953,504.9422 37.7953,504.9422 37.7953,504.9422 37.7953,504.9422 37.7953,504.9422 37.7953,504.9422 37.7953,504.9422 37.7953,504.9422 37.7953,504.9422 37.7953,504.9422 37.7953,504.9422 37.7953,504.9422 37.7953,504.9422 37.7953,504.9422\"/>\n",
       "    <polygon points=\"221.4883,330.5208 221.4883,330.5208 221.4883,330.5208 190.5902,383.0021 190.5902,383.0021 190.5902,383.0021 190.5902,383.0021 190.5902,383.0021 190.5902,383.0021 190.5902,383.0021 190.5902,383.0021 190.5902,383.0021 190.5902,383.0021 190.5902,383.0021 190.5902,383.0021 190.5902,383.0021 190.5902,383.0021 190.5902,383.0021 190.5902,383.0021 190.5902,383.0021 190.5902,383.0021 190.5902,383.0021 242.8262,428.5562 242.8262,428.5562 242.8262,428.5562 242.8262,428.5562 242.8262,428.5562 242.8262,428.5562 242.8262,428.5562 242.8262,428.5562 242.8262,428.5562 242.8262,428.5562 242.8262,428.5562 242.8262,428.5562 242.8262,428.5562 242.8262,428.5562 242.8262,428.5562 242.8262,428.5562 242.8262,428.5562 242.8262,428.5562 242.8262,428.5562 242.8262,428.5562 242.8262,428.5562 242.8262,428.5562 261.036,342.2657 261.036,342.2657 261.036,342.2657 261.036,342.2657 261.036,342.2657 261.036,342.2657 261.036,342.2657 261.036,342.2657 261.036,342.2657 261.036,342.2657 261.036,342.2657 261.036,342.2657 261.036,342.2657 261.036,342.2657 261.036,342.2657 261.036,342.2657 261.036,342.2657 261.036,342.2657 221.4883,330.5208 221.4883,330.5208 221.4883,330.5208 221.4883,330.5208 221.4883,330.5208 221.4883,330.5208 221.4883,330.5208 221.4883,330.5208 221.4883,330.5208 221.4883,330.5208 221.4883,330.5208 221.4883,330.5208 221.4883,330.5208 221.4883,330.5208 221.4883,330.5208 221.4883,330.5208\"/>\n",
       "    <polygon points=\"147.4873,456.2136 147.4873,456.2136 147.4873,456.2136 147.4873,456.2136 147.4873,456.2136 147.4873,456.2136 147.4873,456.2136 147.4873,456.2136 147.4873,456.2136 147.4873,456.2136 147.4873,456.2136 147.4873,456.2136 147.4873,456.2136 147.4873,456.2136 147.4873,456.2136 147.4873,456.2136 147.4873,456.2136 147.4873,456.2136 147.4873,456.2136 231.0,484.5967 231.0,484.5967 231.0,484.5967 231.0,484.5967 231.0,484.5967 231.0,484.5967 231.0,484.5967 231.0,484.5967 231.0,484.5967 231.0,484.5967 231.0,484.5967 231.0,484.5967 231.0,484.5967 231.0,484.5967 231.0,484.5967 231.0,484.5967 231.0,484.5967 231.0,484.5967 242.8262,428.5562 242.8262,428.5562 242.8262,428.5562 242.8262,428.5562 242.8262,428.5562 242.8262,428.5562 242.8262,428.5562 242.8262,428.5562 242.8262,428.5562 242.8262,428.5562 242.8262,428.5562 242.8262,428.5562 242.8262,428.5562 242.8262,428.5562 242.8262,428.5562 242.8262,428.5562 242.8262,428.5562 242.8262,428.5562 242.8262,428.5562 190.5902,383.0021 190.5902,383.0021 190.5902,383.0021 190.5902,383.0021 190.5902,383.0021 190.5902,383.0021 190.5902,383.0021 190.5902,383.0021 190.5902,383.0021 190.5902,383.0021 190.5902,383.0021 190.5902,383.0021 190.5902,383.0021 190.5902,383.0021 190.5902,383.0021 190.5902,383.0021 190.5902,383.0021 190.5902,383.0021 190.5902,383.0021\"/>\n",
       "    <polygon points=\"147.2844,360.9708 147.2844,360.9708 173.4493,412.1166 173.4493,412.1166 173.4493,412.1166 173.4493,412.1166 173.4493,412.1166 173.4493,412.1166 173.4493,412.1166 173.4493,412.1166 173.4493,412.1166 173.4493,412.1166 173.4493,412.1166 173.4493,412.1166 173.4493,412.1166 173.4493,412.1166 173.4493,412.1166 173.4493,412.1166 173.4493,412.1166 173.4493,412.1166 173.4493,412.1166 173.4493,412.1166 173.4493,412.1166 173.4493,412.1166 173.4493,412.1166 221.4883,330.5208 221.4883,330.5208 221.4883,330.5208 221.4883,330.5208 221.4883,330.5208 221.4883,330.5208 221.4883,330.5208 221.4883,330.5208 221.4883,330.5208 221.4883,330.5208 221.4883,330.5208 221.4883,330.5208 221.4883,330.5208 221.4883,330.5208 221.4883,330.5208 221.4883,330.5208 221.4883,330.5208 221.4883,330.5208 221.4883,330.5208 178.5728,317.7757 178.5728,317.7757 178.5728,317.7757 178.5728,317.7757 178.5728,317.7757 178.5728,317.7757 178.5728,317.7757 178.5728,317.7757 178.5728,317.7757 178.5728,317.7757 178.5728,317.7757 178.5728,317.7757 178.5728,317.7757 178.5728,317.7757 178.5728,317.7757 178.5728,317.7757 178.5728,317.7757 178.5728,317.7757 178.5728,317.7757 147.2844,360.9708 147.2844,360.9708 147.2844,360.9708 147.2844,360.9708 147.2844,360.9708 147.2844,360.9708 147.2844,360.9708 147.2844,360.9708 147.2844,360.9708 147.2844,360.9708 147.2844,360.9708 147.2844,360.9708 147.2844,360.9708 147.2844,360.9708 147.2844,360.9708 147.2844,360.9708 147.2844,360.9708\"/>\n",
       "    <polygon points=\"91.964,437.3432 91.964,437.3432 91.964,437.3432 91.964,437.3432 91.964,437.3432 91.964,437.3432 91.964,437.3432 91.964,437.3432 91.964,437.3432 91.964,437.3432 91.964,437.3432 91.964,437.3432 91.964,437.3432 91.964,437.3432 91.964,437.3432 91.964,437.3432 91.964,437.3432 91.964,437.3432 91.964,437.3432 91.964,437.3432 147.4873,456.2136 147.4873,456.2136 147.4873,456.2136 147.4873,456.2136 147.4873,456.2136 147.4873,456.2136 147.4873,456.2136 147.4873,456.2136 147.4873,456.2136 147.4873,456.2136 147.4873,456.2136 147.4873,456.2136 147.4873,456.2136 147.4873,456.2136 147.4873,456.2136 147.4873,456.2136 147.4873,456.2136 147.4873,456.2136 173.4493,412.1166 173.4493,412.1166 173.4493,412.1166 173.4493,412.1166 173.4493,412.1166 173.4493,412.1166 173.4493,412.1166 173.4493,412.1166 173.4493,412.1166 173.4493,412.1166 173.4493,412.1166 173.4493,412.1166 173.4493,412.1166 173.4493,412.1166 173.4493,412.1166 173.4493,412.1166 173.4493,412.1166 173.4493,412.1166 173.4493,412.1166 147.2844,360.9708 147.2844,360.9708 147.2844,360.9708 147.2844,360.9708 147.2844,360.9708 147.2844,360.9708 147.2844,360.9708 147.2844,360.9708 147.2844,360.9708 147.2844,360.9708 147.2844,360.9708 147.2844,360.9708 147.2844,360.9708 147.2844,360.9708 147.2844,360.9708 147.2844,360.9708 147.2844,360.9708 147.2844,360.9708 147.2844,360.9708 147.2844,360.9708 147.2844,360.9708 147.2844,360.9708\"/>\n",
       "    <polygon points=\"37.7953,418.9331 37.7953,418.9331 37.7953,418.9331 54.914,424.7511 54.914,424.7511 54.914,424.7511 54.914,424.7511 54.914,424.7511 54.914,424.7511 54.914,424.7511 54.914,424.7511 54.914,424.7511 54.914,424.7511 54.914,424.7511 54.914,424.7511 54.914,424.7511 54.914,424.7511 54.914,424.7511 54.914,424.7511 54.914,424.7511 54.914,424.7511 54.914,424.7511 83.574,372.1262 83.574,372.1262 83.574,372.1262 83.574,372.1262 83.574,372.1262 83.574,372.1262 83.574,372.1262 83.574,372.1262 83.574,372.1262 83.574,372.1262 83.574,372.1262 83.574,372.1262 83.574,372.1262 83.574,372.1262 83.574,372.1262 83.574,372.1262 83.574,372.1262 83.574,372.1262 83.574,372.1262 37.7953,328.6751 37.7953,328.6751 37.7953,328.6751 37.7953,328.6751 37.7953,328.6751 37.7953,328.6751 37.7953,328.6751 37.7953,328.6751 37.7953,328.6751 37.7953,328.6751 37.7953,328.6751 37.7953,328.6751 37.7953,328.6751 37.7953,328.6751 37.7953,328.6751 37.7953,328.6751 37.7953,328.6751 37.7953,328.6751 37.7953,328.6751 37.7953,328.6751 37.7953,328.6751 37.7953,328.6751 37.7953,328.6751 37.7953,328.6751 37.7953,328.6751 37.7953,418.9331 37.7953,418.9331 37.7953,418.9331 37.7953,418.9331 37.7953,418.9331 37.7953,418.9331 37.7953,418.9331 37.7953,418.9331 37.7953,418.9331 37.7953,418.9331 37.7953,418.9331 37.7953,418.9331 37.7953,418.9331 37.7953,418.9331 37.7953,418.9331 37.7953,418.9331\"/>\n",
       "    <polygon points=\"37.7953,328.6751 37.7953,328.6751 83.574,372.1262 83.574,372.1262 83.574,372.1262 83.574,372.1262 83.574,372.1262 83.574,372.1262 83.574,372.1262 83.574,372.1262 83.574,372.1262 83.574,372.1262 83.574,372.1262 83.574,372.1262 83.574,372.1262 83.574,372.1262 83.574,372.1262 83.574,372.1262 83.574,372.1262 83.574,372.1262 83.574,372.1262 83.574,372.1262 122.2787,301.0574 122.2787,301.0574 122.2787,301.0574 122.2787,301.0574 122.2787,301.0574 122.2787,301.0574 122.2787,301.0574 122.2787,301.0574 122.2787,301.0574 122.2787,301.0574 122.2787,301.0574 122.2787,301.0574 122.2787,301.0574 122.2787,301.0574 122.2787,301.0574 122.2787,301.0574 122.2787,301.0574 122.2787,301.0574 122.2787,301.0574 37.7953,275.9675 37.7953,275.9675 37.7953,275.9675 37.7953,275.9675 37.7953,275.9675 37.7953,275.9675 37.7953,275.9675 37.7953,275.9675 37.7953,275.9675 37.7953,275.9675 37.7953,275.9675 37.7953,275.9675 37.7953,275.9675 37.7953,275.9675 37.7953,275.9675 37.7953,275.9675 37.7953,275.9675 37.7953,275.9675 37.7953,275.9675 37.7953,275.9675 37.7953,328.6751 37.7953,328.6751 37.7953,328.6751 37.7953,328.6751 37.7953,328.6751 37.7953,328.6751 37.7953,328.6751 37.7953,328.6751 37.7953,328.6751 37.7953,328.6751 37.7953,328.6751 37.7953,328.6751 37.7953,328.6751 37.7953,328.6751 37.7953,328.6751 37.7953,328.6751 37.7953,328.6751\"/>\n",
       "    <polygon points=\"91.964,437.3432 91.964,437.3432 91.964,437.3432 125.0887,391.613 125.0887,391.613 125.0887,391.613 125.0887,391.613 125.0887,391.613 125.0887,391.613 125.0887,391.613 125.0887,391.613 125.0887,391.613 125.0887,391.613 125.0887,391.613 125.0887,391.613 125.0887,391.613 125.0887,391.613 125.0886,391.613 125.0886,391.613 125.0886,391.613 125.0886,391.613 125.0886,391.613 98.8912,344.0011 98.8912,344.0011 98.8912,344.0011 98.8912,344.0011 98.8912,344.0011 98.8912,344.0011 98.8912,344.0011 98.8912,344.0011 98.8912,344.0011 98.8912,344.0011 98.8912,344.0011 98.8912,344.0011 98.8912,344.0011 98.8912,344.0011 98.8912,344.0011 98.8912,344.0011 98.8912,344.0011 98.8912,344.0011 98.8912,344.0011 98.8912,344.0011 98.8912,344.0011 98.8912,344.0011 98.8912,344.0011 54.914,424.7511 54.914,424.7511 54.914,424.7511 54.914,424.7511 54.914,424.7511 54.914,424.7511 54.914,424.7511 54.914,424.7511 54.914,424.7511 54.914,424.7511 54.914,424.7511 54.914,424.7511 54.914,424.7511 54.914,424.7511 54.914,424.7511 54.914,424.7511 54.914,424.7511 54.914,424.7511 54.914,424.7511 91.964,437.3432 91.964,437.3432 91.964,437.3432 91.964,437.3432 91.964,437.3432 91.964,437.3432 91.964,437.3432 91.964,437.3432 91.964,437.3432 91.964,437.3432 91.964,437.3432 91.964,437.3432 91.964,437.3432 91.964,437.3432 91.964,437.3432 91.964,437.3432\"/>\n",
       "    <polygon points=\"98.8912,344.0011 98.8912,344.0011 125.0886,391.613 125.0886,391.613 125.0886,391.613 125.0886,391.613 125.0886,391.613 125.0886,391.613 125.0887,391.613 125.0887,391.613 125.0887,391.613 125.0887,391.613 125.0887,391.613 125.0887,391.613 125.0887,391.613 125.0887,391.613 125.0887,391.613 125.0887,391.613 125.0887,391.613 125.0887,391.613 125.0887,391.613 125.0887,391.613 125.0887,391.613 178.5728,317.7757 178.5728,317.7757 178.5728,317.7757 178.5728,317.7757 178.5728,317.7757 178.5728,317.7757 178.5728,317.7757 178.5728,317.7757 178.5728,317.7757 178.5728,317.7757 178.5728,317.7757 178.5728,317.7757 178.5728,317.7757 178.5728,317.7757 178.5728,317.7757 178.5728,317.7757 178.5728,317.7757 178.5728,317.7757 178.5728,317.7757 178.5728,317.7757 122.2787,301.0574 122.2787,301.0574 122.2787,301.0574 122.2787,301.0574 122.2787,301.0574 122.2787,301.0574 122.2787,301.0574 122.2787,301.0574 122.2787,301.0574 122.2787,301.0574 122.2787,301.0574 122.2787,301.0574 122.2787,301.0574 122.2787,301.0574 122.2787,301.0574 122.2787,301.0574 122.2787,301.0574 122.2787,301.0574 122.2787,301.0574 98.8912,344.0011 98.8912,344.0011 98.8912,344.0011 98.8912,344.0011 98.8912,344.0011 98.8912,344.0011 98.8912,344.0011 98.8912,344.0011 98.8912,344.0011 98.8912,344.0011 98.8912,344.0011 98.8912,344.0011 98.8912,344.0011 98.8912,344.0011 98.8912,344.0011 98.8912,344.0011 98.8912,344.0011\"/>\n",
       "    <polygon points=\"442.2047,566.5284 442.2047,566.5284 394.7279,541.6605 394.7279,541.6605 394.7279,541.6605 394.7279,541.6605 394.7279,541.6605 394.7279,541.6605 394.7279,541.6605 394.7279,541.6605 394.7279,541.6605 394.7279,541.6605 394.7279,541.6605 394.7279,541.6605 394.7279,541.6605 394.7279,541.6605 394.7279,541.6605 394.7279,541.6605 394.7279,541.6605 394.7279,541.6605 352.5613,634.2047 352.5613,634.2047 352.5613,634.2047 352.5613,634.2047 352.5613,634.2047 352.5613,634.2047 352.5613,634.2047 352.5613,634.2047 352.5613,634.2047 352.5613,634.2047 352.5613,634.2047 352.5613,634.2047 352.5613,634.2047 352.5613,634.2047 352.5613,634.2047 352.5613,634.2047 352.5613,634.2047 352.5613,634.2047 352.5613,634.2047 352.5613,634.2047 352.5613,634.2047 442.2047,634.2047 442.2047,634.2047 442.2047,634.2047 442.2047,634.2047 442.2047,634.2047 442.2047,634.2047 442.2047,634.2047 442.2047,634.2047 442.2047,634.2047 442.2047,634.2047 442.2047,634.2047 442.2047,634.2047 442.2047,634.2047 442.2047,634.2047 442.2047,634.2047 442.2047,634.2047 442.2047,634.2047 442.2047,566.5284 442.2047,566.5284 442.2047,566.5284 442.2047,566.5284 442.2047,566.5284 442.2047,566.5284 442.2047,566.5284 442.2047,566.5284 442.2047,566.5284 442.2047,566.5284 442.2047,566.5284 442.2047,566.5284 442.2047,566.5284 442.2047,566.5284 442.2047,566.5284 442.2047,566.5284 442.2047,566.5284\"/>\n",
       "    <polygon points=\"321.861,503.4934 321.861,503.4934 321.861,503.4934 321.861,503.4934 321.861,503.4934 321.861,503.4934 321.861,503.4934 321.861,503.4934 321.861,503.4934 321.861,503.4934 321.861,503.4934 321.861,503.4934 321.861,503.4934 321.861,503.4934 321.861,503.4934 321.861,503.4934 321.861,503.4934 321.861,503.4934 321.861,503.4934 321.861,503.4934 296.4781,634.2047 296.4781,634.2047 296.4781,634.2047 296.4781,634.2047 296.4781,634.2047 296.4781,634.2047 296.4781,634.2047 296.4781,634.2047 296.4781,634.2047 296.4781,634.2047 296.4781,634.2047 296.4781,634.2047 296.4781,634.2047 296.4781,634.2047 296.4781,634.2047 296.4781,634.2047 296.4781,634.2047 296.4781,634.2047 296.4781,634.2047 352.5613,634.2047 352.5613,634.2047 352.5613,634.2047 352.5613,634.2047 352.5613,634.2047 352.5613,634.2047 352.5613,634.2047 352.5613,634.2047 352.5613,634.2047 352.5613,634.2047 352.5613,634.2047 352.5613,634.2047 352.5613,634.2047 352.5613,634.2047 352.5613,634.2047 352.5613,634.2047 352.5613,634.2047 352.5613,634.2047 352.5613,634.2047 394.7279,541.6605 394.7279,541.6605 394.7279,541.6605 394.7279,541.6605 394.7279,541.6605 394.7279,541.6605 394.7279,541.6605 394.7279,541.6605 394.7279,541.6605 394.7279,541.6605 394.7279,541.6605 394.7279,541.6605 394.7279,541.6605 394.7279,541.6605 394.7279,541.6605 394.7279,541.6605 394.7279,541.6605 394.7279,541.6605\"/>\n",
       "    <polygon points=\"221.6762,528.7795 221.6762,528.7795 221.6762,528.7795 221.6762,528.7795 221.6762,528.7795 221.6762,528.7795 221.6762,528.7795 221.6762,528.7795 221.6762,528.7795 221.6762,528.7795 221.6762,528.7795 221.6762,528.7795 221.6762,528.7795 221.6762,528.7795 221.6762,528.7795 221.6762,528.7795 221.6762,528.7795 221.6762,528.7795 221.6762,528.7795 306.2965,583.644 306.2965,583.644 306.2965,583.644 306.2965,583.644 306.2965,583.644 306.2965,583.644 306.2965,583.644 306.2965,583.644 306.2965,583.644 306.2965,583.644 306.2965,583.644 306.2965,583.644 306.2965,583.644 306.2965,583.644 306.2965,583.644 306.2965,583.644 306.2965,583.644 306.2965,583.644 306.2965,583.644 306.2965,583.644 306.2965,583.644 321.861,503.4934 321.861,503.4934 321.861,503.4934 321.861,503.4934 321.861,503.4934 321.861,503.4934 321.861,503.4934 321.861,503.4934 321.861,503.4934 321.861,503.4934 321.861,503.4934 321.861,503.4934 321.861,503.4934 321.861,503.4934 321.861,503.4934 321.861,503.4934 321.861,503.4934 321.861,503.4934 321.861,503.4934 236.4529,458.7573 236.4529,458.7573 236.4529,458.7573 236.4529,458.7573 236.4529,458.7573 236.4529,458.7573 236.4529,458.7573 236.4529,458.7573 236.4529,458.7573 236.4529,458.7573 236.4529,458.7573 236.4529,458.7573 236.4529,458.7573 236.4529,458.7573 236.4529,458.7573 236.4529,458.7573 236.4529,458.7573 236.4529,458.7573 236.4529,458.7573 236.4529,458.7573\"/>\n",
       "    <polygon points=\"199.4284,634.2047 199.4284,634.2047 199.4284,634.2047 199.4284,634.2047 199.4284,634.2047 199.4284,634.2047 199.4284,634.2047 199.4284,634.2047 199.4284,634.2047 199.4284,634.2047 199.4284,634.2047 199.4284,634.2047 199.4284,634.2047 199.4284,634.2047 199.4284,634.2047 199.4284,634.2047 199.4284,634.2047 199.4284,634.2047 199.4284,634.2047 296.4781,634.2047 296.4781,634.2047 296.4781,634.2047 296.4781,634.2047 296.4781,634.2047 296.4781,634.2047 296.4781,634.2047 296.4781,634.2047 296.4781,634.2047 296.4781,634.2047 296.4781,634.2047 296.4781,634.2047 296.4781,634.2047 296.4781,634.2047 296.4781,634.2047 296.4781,634.2047 296.4781,634.2047 296.4781,634.2047 296.4781,634.2047 306.2965,583.644 306.2965,583.644 306.2965,583.644 306.2965,583.644 306.2965,583.644 306.2965,583.644 306.2965,583.644 306.2965,583.644 306.2965,583.644 306.2965,583.644 306.2965,583.644 306.2965,583.644 306.2965,583.644 306.2965,583.644 306.2965,583.644 306.2965,583.644 306.2965,583.644 306.2965,583.644 306.2965,583.644 221.6762,528.7795 221.6762,528.7795 221.6762,528.7795 221.6762,528.7795 221.6762,528.7795 221.6762,528.7795 221.6762,528.7795 221.6762,528.7795 221.6762,528.7795 221.6762,528.7795 221.6762,528.7795 221.6762,528.7795 221.6762,528.7795 221.6762,528.7795 221.6762,528.7795 221.6762,528.7795 221.6762,528.7795 221.6762,528.7795 221.6762,528.7795 221.6762,528.7795 221.6762,528.7795\"/>\n",
       "    <polygon points=\"397.7233,382.8592 397.7233,382.8592 318.1277,501.5379 318.1277,501.5379 318.1277,501.5379 318.1277,501.5379 318.1277,501.5379 318.1277,501.5379 318.1277,501.5379 318.1277,501.5379 318.1277,501.5379 318.1277,501.5379 318.1277,501.5379 318.1277,501.5379 318.1277,501.5379 318.1277,501.5379 318.1277,501.5379 318.1277,501.5379 318.1277,501.5379 318.1277,501.5379 442.2047,566.5284 442.2047,566.5284 442.2047,566.5284 442.2047,566.5284 442.2047,566.5284 442.2047,566.5284 442.2047,566.5284 442.2047,566.5284 442.2047,566.5284 442.2047,566.5284 442.2047,566.5284 442.2047,566.5284 442.2047,566.5284 442.2047,566.5284 442.2047,566.5284 442.2047,566.5284 442.2047,566.5284 442.2047,566.5284 442.2047,566.5284 442.2047,566.5284 442.2047,566.5284 442.2047,566.5284 442.2047,396.0694 442.2047,396.0694 442.2047,396.0694 442.2047,396.0694 442.2047,396.0694 442.2047,396.0694 442.2047,396.0694 442.2047,396.0694 442.2047,396.0694 442.2047,396.0694 442.2047,396.0694 442.2047,396.0694 442.2047,396.0694 442.2047,396.0694 442.2047,396.0694 442.2047,396.0694 442.2047,396.0694 442.2047,396.0694 442.2047,396.0694 397.7233,382.8592 397.7233,382.8592 397.7233,382.8592 397.7233,382.8592 397.7233,382.8592 397.7233,382.8592 397.7233,382.8592 397.7233,382.8592 397.7233,382.8592 397.7233,382.8592 397.7233,382.8592 397.7233,382.8592 397.7233,382.8592 397.7233,382.8592 397.7233,382.8592 397.7233,382.8592\"/>\n",
       "    <polygon points=\"236.4529,458.7573 236.4529,458.7573 280.6194,481.8914 280.6194,481.8914 280.6194,481.8914 280.6194,481.8914 280.6194,481.8914 280.6194,481.8914 280.6194,481.8914 280.6194,481.8914 280.6194,481.8914 280.6194,481.8914 280.6194,481.8914 280.6194,481.8914 280.6194,481.8914 280.6194,481.8914 280.6194,481.8914 280.6194,481.8914 280.6194,481.8914 280.6194,481.8914 307.165,432.9281 307.165,432.9281 307.165,432.9281 307.165,432.9281 307.165,432.9281 307.165,432.9281 307.165,432.9281 307.165,432.9281 307.165,432.9281 307.165,432.9281 307.165,432.9281 307.165,432.9281 307.165,432.9281 307.165,432.9281 307.165,432.9281 307.165,432.9281 307.165,432.9281 307.165,432.9281 250.5,392.1929 250.5,392.1929 250.5,392.1929 250.5,392.1929 250.5,392.1929 250.5,392.1929 250.5,392.1929 250.5,392.1929 250.5,392.1929 250.5,392.1929 250.5,392.1929 250.5,392.1929 250.5,392.1929 250.5,392.1929 250.5,392.1929 250.5,392.1929 250.5,392.1929 250.5,392.1929 250.5,392.1929 250.5,392.1929 250.5,392.1929 236.4529,458.7573 236.4529,458.7573 236.4529,458.7573 236.4529,458.7573 236.4529,458.7573 236.4529,458.7573 236.4529,458.7573 236.4529,458.7573 236.4529,458.7573 236.4529,458.7573 236.4529,458.7573 236.4529,458.7573 236.4529,458.7573 236.4529,458.7573 236.4529,458.7573 236.4529,458.7573 236.4529,458.7573\"/>\n",
       "    <polygon points=\"250.5,392.1929 250.5,392.1929 250.5,392.1929 307.165,432.9281 307.165,432.9281 307.165,432.9281 307.165,432.9281 307.165,432.9281 307.165,432.9281 307.165,432.9281 307.165,432.9281 307.165,432.9281 307.165,432.9281 307.165,432.9281 307.165,432.9281 307.165,432.9281 307.165,432.9281 307.165,432.9281 307.165,432.9281 307.165,432.9281 307.165,432.9281 343.1041,366.6384 343.1041,366.6384 343.1041,366.6384 343.1041,366.6384 343.1041,366.6384 343.1041,366.6384 343.1041,366.6384 343.1041,366.6384 343.1041,366.6384 343.1041,366.6384 343.1041,366.6384 343.1041,366.6384 343.1041,366.6384 343.1041,366.6384 343.1041,366.6384 343.1041,366.6384 343.1041,366.6384 343.1041,366.6384 343.1041,366.6384 261.036,342.2657 261.036,342.2657 261.036,342.2657 261.036,342.2657 261.036,342.2657 261.036,342.2657 261.036,342.2657 261.036,342.2657 261.036,342.2657 261.036,342.2657 261.036,342.2657 261.036,342.2657 261.036,342.2657 261.036,342.2657 261.036,342.2657 261.036,342.2657 261.036,342.2657 261.036,342.2657 250.5,392.1929 250.5,392.1929 250.5,392.1929 250.5,392.1929 250.5,392.1929 250.5,392.1929 250.5,392.1929 250.5,392.1929 250.5,392.1929 250.5,392.1929 250.5,392.1929 250.5,392.1929 250.5,392.1929 250.5,392.1929 250.5,392.1929 250.5,392.1929\"/>\n",
       "    <polygon points=\"318.1277,501.5379 318.1277,501.5379 350.1783,453.7499 350.1783,453.7499 350.1783,453.7499 350.1783,453.7499 350.1783,453.7499 350.1783,453.7499 350.1783,453.7499 350.1783,453.7499 350.1783,453.7499 350.1783,453.7499 350.1783,453.7499 350.1783,453.7499 350.1783,453.7499 350.1783,453.7499 350.1783,453.7499 350.1783,453.7499 350.1783,453.7499 350.1783,453.7499 350.1783,453.7499 321.5188,406.4526 321.5188,406.4526 321.5188,406.4526 321.5188,406.4526 321.5188,406.4526 321.5188,406.4526 321.5188,406.4526 321.5188,406.4526 321.5188,406.4526 321.5188,406.4526 321.5188,406.4526 321.5188,406.4526 321.5188,406.4526 321.5188,406.4526 321.5188,406.4526 321.5188,406.4526 321.5188,406.4526 321.5188,406.4526 321.5188,406.4526 321.5188,406.4526 321.5188,406.4526 321.5188,406.4526 280.6194,481.8914 280.6194,481.8914 280.6194,481.8914 280.6194,481.8914 280.6194,481.8914 280.6194,481.8914 280.6194,481.8914 280.6194,481.8914 280.6194,481.8914 280.6194,481.8914 280.6194,481.8914 280.6194,481.8914 280.6194,481.8914 280.6194,481.8914 280.6194,481.8914 280.6194,481.8914 280.6194,481.8914 318.1277,501.5379 318.1277,501.5379 318.1277,501.5379 318.1277,501.5379 318.1277,501.5379 318.1277,501.5379 318.1277,501.5379 318.1277,501.5379 318.1277,501.5379 318.1277,501.5379 318.1277,501.5379 318.1277,501.5379 318.1277,501.5379 318.1277,501.5379 318.1277,501.5379 318.1277,501.5379\"/>\n",
       "    <polygon points=\"321.5188,406.4526 321.5188,406.4526 321.5188,406.4526 350.1783,453.7499 350.1783,453.7499 350.1783,453.7499 350.1783,453.7499 350.1783,453.7499 350.1783,453.7499 350.1783,453.7499 350.1783,453.7499 350.1783,453.7499 350.1783,453.7499 350.1783,453.7499 350.1783,453.7499 350.1783,453.7499 350.1783,453.7499 350.1783,453.7499 350.1783,453.7499 350.1783,453.7499 350.1783,453.7499 350.1783,453.7499 350.1783,453.7499 350.1783,453.7499 397.7233,382.8592 397.7233,382.8592 397.7233,382.8592 397.7233,382.8592 397.7233,382.8592 397.7233,382.8592 397.7233,382.8592 397.7233,382.8592 397.7233,382.8592 397.7233,382.8592 397.7233,382.8592 397.7233,382.8592 397.7233,382.8592 397.7233,382.8592 397.7233,382.8592 397.7233,382.8592 397.7233,382.8592 397.7233,382.8592 397.7233,382.8592 397.7233,382.8592 343.1041,366.6384 343.1041,366.6384 343.1041,366.6384 343.1041,366.6384 343.1041,366.6384 343.1041,366.6384 343.1041,366.6384 343.1041,366.6384 343.1041,366.6384 343.1041,366.6384 343.1041,366.6384 343.1041,366.6384 343.1041,366.6384 343.1041,366.6384 343.1041,366.6384 343.1041,366.6384 343.1041,366.6384 343.1041,366.6384 343.1041,366.6384 321.5188,406.4526 321.5188,406.4526 321.5188,406.4526 321.5188,406.4526 321.5188,406.4526 321.5188,406.4526 321.5188,406.4526 321.5188,406.4526 321.5188,406.4526 321.5188,406.4526 321.5188,406.4526 321.5188,406.4526 321.5188,406.4526 321.5188,406.4526 321.5188,406.4526 321.5188,406.4526\"/>\n",
       "  </g>\n",
       "</svg>\n",
       "\n",
       "            </svg>\n",
       "        </div>\n",
       "        <script src=\"http://ariutta.github.io/svg-pan-zoom/dist/svg-pan-zoom.min.js\"></script>\n",
       "        <script>\n",
       "            svgPanZoom('#svg_display_3602', {\n",
       "                zoomEnabled: true,\n",
       "                controlIconsEnabled: true,\n",
       "                center: true,\n",
       "                zoomScaleSensitivity: 0.3,\n",
       "                contain: true,\n",
       "            });\n",
       "          </script>\n",
       "        "
      ]
     },
     "metadata": {},
     "output_type": "display_data"
    }
   ],
   "source": [
    "\n",
    "   \n",
    "sk = vsketch.Vsketch()\n",
    "sk.size(paper.page_format_mm)\n",
    "sk.scale('1mm')\n",
    "sk.penWidth('0.5mm')\n",
    "sk.geometry(bps.boundary)\n",
    "\n",
    "# tolerance=0.5\n",
    "\n",
    "sk.display()"
   ]
  },
  {
   "cell_type": "code",
   "execution_count": 428,
   "id": "a7a665d8-9c38-4a4f-8b1c-e893cd749b95",
   "metadata": {
    "Collapsed": "false"
   },
   "outputs": [],
   "source": [
    "n_layers = 1"
   ]
  },
  {
   "cell_type": "code",
   "execution_count": 451,
   "id": "3cb589b0-6f97-4862-98c0-0f5593f4fd15",
   "metadata": {},
   "outputs": [],
   "source": [
    "layers = []"
   ]
  },
  {
   "cell_type": "code",
   "execution_count": 452,
   "id": "fe2a053c-55d1-4f9d-9c70-88d0c7938c82",
   "metadata": {
    "Collapsed": "false"
   },
   "outputs": [],
   "source": [
    "\n",
    "for ii in range(n_layers):\n",
    "    fills = []\n",
    "    for p in bps:\n",
    "        xjitter_func = 0\n",
    "        yjitter_func = ss.norm(loc=0, scale=np.random.uniform(0.001, 0.005)).rvs\n",
    "        d = p.distance(drawbox.centroid)\n",
    "        angle= (np.interp(d, (0, 160), (0, 360)) // 30) * 30\n",
    "        bhf = BezierHatchFill(\n",
    "            spacing=np.random.uniform(0.2, 0.21),\n",
    "            degrees=angle,\n",
    "            poly_to_fill=p,\n",
    "            xjitter_func=xjitter_func, \n",
    "            yjitter_func=yjitter_func,\n",
    "            fill_inscribe_buffer=1.4,\n",
    "            n_nodes_per_line=5,\n",
    "            n_eval_points=6,\n",
    "        )\n",
    "        fills.append(bhf.p)\n",
    "\n",
    "    fills = [f for f in fills if f.length > 0]\n",
    "    layer = gp.merge_LineStrings(fills)\n",
    "    layers.append(layer)"
   ]
  },
  {
   "cell_type": "code",
   "execution_count": 453,
   "id": "e0884218-3a66-4cb9-ab38-79b1e769d91a",
   "metadata": {
    "Collapsed": "false"
   },
   "outputs": [],
   "source": [
    "sk = vsketch.Vsketch()\n",
    "sk.size(paper.page_format_mm)\n",
    "sk.scale('1mm')\n",
    "sk.penWidth('0.08mm')\n",
    "for i, layer in enumerate(layers):\n",
    "    sk.stroke(i+1)\n",
    "    sk.geometry(layer)\n",
    "\n",
    "for tolerance in [0.05, 0.1, 0.2,  0.3, 0.5, 0.7]:\n",
    "    sk.vpype(f'linemerge --tolerance {tolerance}mm')\n",
    "sk.vpype('linesimplify --tolerance 0.1 linesort')\n",
    "\n",
    "# sk.display(color_mode='layer')"
   ]
  },
  {
   "cell_type": "code",
   "execution_count": 454,
   "id": "bdd34fb7-4711-4892-87bb-275d698d847e",
   "metadata": {},
   "outputs": [],
   "source": [
    "def vsketch_to_shapely(sketch):\n",
    "    return [[LineString([Point(pt.real, pt.imag) for pt in lc]) for lc in layer] for layer in sketch.document.layers.values()]"
   ]
  },
  {
   "cell_type": "code",
   "execution_count": 455,
   "id": "807b3fad-7366-4ca6-9c43-ee63b99786a3",
   "metadata": {},
   "outputs": [],
   "source": [
    "layer = sk.document.layers[1]"
   ]
  },
  {
   "cell_type": "code",
   "execution_count": 456,
   "id": "70aa655e-375a-4481-8e99-21b2dc69c9ad",
   "metadata": {},
   "outputs": [],
   "source": [
    "mls = gp.make_like(MultiLineString([LineString([Point(pt.real, pt.imag) for pt in lc]) for lc in layer]), drawbox)"
   ]
  },
  {
   "cell_type": "code",
   "execution_count": 457,
   "id": "40d33a8b-f894-4c97-ba67-6db8ed5007ba",
   "metadata": {
    "tags": []
   },
   "outputs": [],
   "source": [
    "ds = [ls.distance(drawbox.centroid) for ls in mls]"
   ]
  },
  {
   "cell_type": "code",
   "execution_count": 458,
   "id": "4bc31515-d94e-4d81-b481-ca3b611d6f73",
   "metadata": {},
   "outputs": [],
   "source": [
    "ds = np.array(ds) ** 0.5\n",
    "ds = ds/ ds.sum()"
   ]
  },
  {
   "cell_type": "code",
   "execution_count": 459,
   "id": "1bf47fc8-a4b8-48f1-b838-dd2d10e4cbbf",
   "metadata": {},
   "outputs": [
    {
     "name": "stderr",
     "output_type": "stream",
     "text": [
      "<ipython-input-459-6edad6b45b36>:3: FutureWarning: The input object of type 'LineString' is an array-like implementing one of the corresponding protocols (`__array__`, `__array_interface__` or `__array_struct__`); but not a sequence (or 0-D). In the future, this object will be coerced as if it was first converted using `np.array(obj)`. To retain the old behaviour, you have to either modify the type 'LineString', or assign to an empty array created with `np.empty(correct_shape, dtype=object)`.\n",
      "  pmls = MultiLineString(list(np.random.choice(mls, size=n_keep, replace=False, p=ds)))\n",
      "<ipython-input-459-6edad6b45b36>:3: VisibleDeprecationWarning: Creating an ndarray from ragged nested sequences (which is a list-or-tuple of lists-or-tuples-or ndarrays with different lengths or shapes) is deprecated. If you meant to do this, you must specify 'dtype=object' when creating the ndarray.\n",
      "  pmls = MultiLineString(list(np.random.choice(mls, size=n_keep, replace=False, p=ds)))\n"
     ]
    }
   ],
   "source": [
    "frac_keep = 0.85\n",
    "n_keep = int(frac_keep * len(mls))\n",
    "pmls = MultiLineString(list(np.random.choice(mls, size=n_keep, replace=False, p=ds)))\n",
    "rlayers = [pmls]"
   ]
  },
  {
   "cell_type": "code",
   "execution_count": 460,
   "id": "38c56d97-b699-42f3-be4d-197229276771",
   "metadata": {},
   "outputs": [
    {
     "data": {
      "text/html": [
       "<div id=\"container\" style=\"width: 80%; height: 682.0px;\">\n",
       "            <svg id=\"svg_display_987\" width=\"490.00000000000006px\"\n",
       "                    height=682.0\n",
       "                    viewBox=\"0 0 490.00000000000006 682.0\">\n",
       "                \n",
       "        <polygon points=\"480.00000000000006,10\n",
       "            490.00000000000006,10\n",
       "            490.00000000000006,682.0\n",
       "            10,682.0\n",
       "            10,672.0\n",
       "            480.00000000000006,672.0\"\n",
       "            style=\"fill:black;stroke:none;opacity:0.3;\" />\n",
       "        <rect width=\"480.00000000000006\" height=\"672.0\"\n",
       "            style=\"fill:none;stroke-width:1;stroke:rgb(0,0,0)\" />\n",
       "    \n",
       "                <?xml version=\"1.0\" encoding=\"utf-8\" ?>\n",
       "<svg xmlns=\"http://www.w3.org/2000/svg\" xmlns:cc=\"http://creativecommons.org/ns#\" xmlns:dc=\"http://purl.org/dc/elements/1.1/\" xmlns:ev=\"http://www.w3.org/2001/xml-events\" xmlns:inkscape=\"http://www.inkscape.org/namespaces/inkscape\" xmlns:rdf=\"http://www.w3.org/1999/02/22-rdf-syntax-ns#\" xmlns:sodipodi=\"http://sodipodi.sourceforge.net/DTD/sodipodi-0.dtd\" xmlns:xlink=\"http://www.w3.org/1999/xlink\" baseProfile=\"tiny\" height=\"17.78cm\" version=\"1.2\" viewBox=\"0 0 480.00000000000006 672.0\" width=\"12.7cm\">\n",
       "  <metadata>\n",
       "    <rdf:RDF>\n",
       "      <cc:Work>\n",
       "        <dc:format>image/svg+xml</dc:format>\n",
       "        <dc:source/>\n",
       "        <dc:date>2021-09-19T22:27:38.606652</dc:date>\n",
       "      </cc:Work>\n",
       "    </rdf:RDF>\n",
       "  </metadata>\n",
       "  <defs/>\n",
       "  <g fill=\"none\" id=\"layer1\" inkscape:groupmode=\"layer\" inkscape:label=\"1\" stroke=\"#00f\" style=\"display:inline\">\n",
       "    <polyline points=\"442.2047,207.4732 415.2264,160.7502 415.5282,160.8177 442.2047,114.6097 442.2047,116.1628 416.268,160.9831 442.2047,205.9145 442.2047,204.3687 417.2917,161.2121 417.1342,161.1769 442.2047,117.7416 442.2047,119.3043 417.9322,161.3553 418.3129,161.4405 442.2047,202.8264 442.2047,201.2823 419.3339,161.6688 419.5127,161.7088 442.2047,122.3902 442.2047,120.85 418.7239,161.5324\"/>\n",
       "    <polyline points=\"421.8913,162.2408 442.2047,127.0513 442.2047,125.5107 421.1059,162.0651 421.3953,162.1299 442.2047,198.1804 442.2047,199.7491 420.3079,161.8867 442.2047,123.9519\"/>\n",
       "    <line x1=\"442.2047\" x2=\"411.5469\" y1=\"106.8333\" y2=\"159.9272\"/>\n",
       "    <polyline points=\"414.7391,160.6412 442.2047,113.0661 442.2047,111.5103 413.9426,160.463 414.2023,160.5211 442.2047,209.0257 442.2047,210.572 413.1506,160.2859 442.2047,109.9619 442.2047,108.4158 412.3551,160.108 412.1442,160.0608 442.2047,212.1367 442.2047,213.7187 411.1004,159.8274 410.7498,159.749 442.2047,105.2797 442.2047,103.7123 409.9474,159.5695 442.2047,215.2644 442.2047,216.8251 409.0369,159.3659 409.1458,159.3902 442.2047,102.151 442.2047,100.6087 408.3519,159.2127 408.0229,159.1391 442.2047,218.3586\"/>\n",
       "    <polyline points=\"442.2047,229.1284 400.8668,157.5386 401.1787,157.6084 442.2047,86.5796 442.2047,88.1599 401.8858,157.7665 442.2047,227.5955 442.2047,226.048 402.9192,157.9976 402.7784,157.9661 442.2047,89.721 442.2047,91.2653 403.5717,158.1436 403.9475,158.2276 442.2047,224.4971 442.2047,222.9584 404.9622,158.4546 405.1575,158.4982 442.2047,94.367 442.2047,92.816 404.3652,158.321\"/>\n",
       "    <polyline points=\"407.5525,159.0339 442.2047,99.0408 442.2047,97.4765 406.7557,158.8557 407.0003,158.9104 442.2047,219.8943 442.2047,221.4184 405.9597,158.6777 442.2047,95.9186\"/>\n",
       "    <polyline points=\"442.2047,81.9026 398.7799,157.0719 442.2047,232.2035 442.2047,230.6701 399.8404,157.309 399.5753,157.2498 442.2047,83.4383 442.2047,85.0021 400.3728,157.4281\"/>\n",
       "    <polyline points=\"397.1983,156.7181 442.2047,78.7988 442.2047,80.3384 397.9829,156.8936 397.7933,156.8512 442.2047,233.7621 442.2047,235.3063 396.7665,156.6216 396.4021,156.5401 442.2047,77.2445 442.2047,75.6841 395.6058,156.362 442.2047,236.8845 442.2047,238.425 394.6828,156.1555 394.8109,156.1842 398.2627,150.2288 442.2047,74.1293 442.2047,72.5624 394.0105,156.0052 393.6557,155.9258 442.2047,239.9725\"/>\n",
       "    <polyline points=\"442.2047,244.618 390.5625,155.234 390.8012,155.2874 442.2047,66.3264 442.2047,67.8817 391.5888,155.4636 442.2047,243.0681 442.2047,241.5243 392.6241,155.6951 392.4036,155.6458 442.2047,69.4272 442.2047,70.9893 393.2113,155.8264\"/>\n",
       "    <polyline points=\"390.0062,155.1096 442.2047,64.7852 442.2047,63.2222 389.2068,154.9308 389.5478,155.0071 442.2047,246.1575 442.2047,247.6979 388.4074,154.752 442.2047,61.6536\"/>\n",
       "    <polyline points=\"442.2047,53.8784 384.3782,153.8509 441.3751,252.4759 442.2047,252.816 442.2047,252.3453 385.4109,154.0818 385.2447,154.0447 442.2047,55.4283 442.2047,56.999 386.0399,154.2225 386.4445,154.313 442.2047,250.8081 442.2047,249.237 387.4913,154.5471 387.614,154.5746 392.1717,146.7121 442.2047,60.0888 442.2047,58.5504 386.8291,154.399\"/>\n",
       "    <polyline points=\"382.8529,153.5097 442.2047,50.7033 442.2047,52.2809 383.6512,153.6883 383.3369,153.618 440.2564,252.0955 439.1339,251.7138 382.3138,153.3892 382.0528,153.3308 442.2047,49.1177 442.2047,47.5493 381.2488,153.151 438.0175,251.3342 442.2047,253.7151 442.2047,254.6083 434.372,250.0947 434.6664,250.1948 378.2159,152.4727 378.0403,152.4334 442.2047,41.3263 442.2047,42.8757 378.8478,152.614 379.2512,152.7042 435.7836,250.5746 436.8928,250.9518 380.2642,152.9308 380.4488,152.9721 386.1042,143.2091 442.2047,45.9905 442.2047,44.4254 379.6488,152.7931\"/>\n",
       "    <polyline points=\"375.6509,151.899 441.5373,37.7953 440.6555,37.7953 374.8636,151.7229 375.1556,151.7882 431.3518,249.0678 432.4564,249.4434 376.1722,152.0156 376.441,152.0757 442.2047,38.1973 442.2047,39.7405 377.1906,152.2433 433.5581,249.8179\"/>\n",
       "    <polyline points=\"425.8508,247.1973 370.0485,150.646 435.2839,37.7953 436.1821,37.7953 370.89,150.8342 371.0726,150.875 426.9487,247.5706 426.8131,247.5245 442.2047,256.3929 442.2047,255.5048 430.2474,248.6922 374.0712,151.5457 439.7503,37.7953 438.8604,37.7953 380.0324,139.7035 373.2777,151.3682 373.1208,151.3331 429.1493,248.3189 428.0429,247.9427 372.0928,151.1032 371.684,151.0118 437.075,37.7953 437.9807,37.7953 372.4907,151.1922\"/>\n",
       "    <polyline points=\"368.4942,150.2984 433.4885,37.7953 434.3798,37.7953 369.2923,150.4769 369.0204,150.416 424.7509,246.8233 423.653,246.45 368.0036,150.1886 367.6959,150.1198 432.5949,37.7953 431.6958,37.7953 366.888,149.9391 422.5314,246.0687 423.0648,246.25 442.2047,257.2795 442.2047,258.1749 419.1783,244.9285 363.8648,149.263 363.7086,149.2281 428.094,37.7953 428.9835,37.7953 364.4985,149.4047 364.9004,149.4946 420.2962,245.3086 421.4099,245.6873 365.9294,149.7247 366.0905,149.7608 430.7885,37.7953 429.878,37.7953 365.2906,149.5819\"/>\n",
       "    <polyline points=\"361.3063,148.6908 425.4118,37.7953 424.5213,37.7953 360.5194,148.5148 360.7818,148.5735 415.8361,243.7921 415.5011,243.6782 442.2047,259.0711 442.2047,259.967 411.3738,242.2748 356.7008,147.6607 356.52,147.6203 420.0272,37.7953 419.1211,37.7953 355.6801,147.4324 410.2629,241.8971 409.1633,241.5232 354.667,147.2059 354.906,147.2593 418.2149,37.7953 417.313,37.7953 354.1052,147.0802\"/>\n",
       "    <polyline points=\"350.1148,146.1878 412.7934,37.7953 413.6891,37.7953 350.9082,146.3652 350.5878,146.2935 404.7733,240.0305\"/>\n",
       "    <polyline points=\"393.615,236.2365 340.3004,143.9927 340.5821,144.0557 402.0388,37.7953 402.9313,37.7953 341.3305,144.2231 394.7301,236.6156 395.8483,236.9958 342.3628,144.454 342.1755,144.4121 403.8134,37.7953 404.7276,37.7953 342.9761,144.5911 343.3935,144.6845 396.962,237.3746 396.7795,237.3125 442.2047,263.49 442.2047,262.6171 400.3151,238.5147 346.4909,145.3772 346.1387,145.2985 408.3074,37.7953 407.4233,37.7953 345.3615,145.1246 399.2098,238.1388 398.0821,237.7554 344.4266,144.9156 344.5675,144.9471 406.5341,37.7953 405.634,37.7953 343.7699,144.7687\"/>\n",
       "    <polyline points=\"346.9289,145.4752 409.1928,37.7953 410.0969,37.7953 347.7269,145.6537 347.5186,145.6071 401.4323,238.8945 402.5529,239.2755 348.5332,145.834 410.9976,37.7953 411.8862,37.7953 349.3184,146.0096 349.5666,146.0651 403.6661,239.6541 404.2126,239.8399 442.2047,261.7298 442.2047,260.8391 407.9829,241.1219 353.6386,146.9759 353.308,146.9019 416.4065,37.7953 415.5077,37.7953 352.5018,146.7216 406.9735,240.7786 405.872,240.4041 351.6073,146.5215 351.713,146.5452 414.6004,37.7953\"/>\n",
       "    <polyline points=\"399.3706,37.7953 338.1966,143.5222 391.3783,235.476 390.259,235.0954 337.2104,143.3016 337.3985,143.3437 398.4745,37.7953 397.5583,37.7953 336.5926,143.1635\"/>\n",
       "    <polyline points=\"332.6057,142.2718 393.0494,37.7953 392.1382,37.7953 331.7994,142.0914 332.0724,142.1525 384.6889,233.2014 385.0534,233.3254 262.8638,233.2083 239.3992,233.1522 239.4298,233.0081 200.5705,232.9545 119.6982,232.9607 119.5617,233.1657 119.6112,148.0025 119.4349,147.9101 119.4277,37.7953 118.6598,37.7953 118.6585,147.5033 118.8396,147.5982 118.7896,234.3252 118.6513,234.5329 239.102,234.5548 239.0729,234.6925 320.5133,234.8369 387.6717,234.8855 387.7592,234.7643 442.2047,266.1698 442.2047,267.053 387.3137,235.3816 387.1097,235.6642 262.8638,235.5218 238.9095,235.4637 238.9378,235.3302 200.5705,235.2887 118.1345,235.3089 118.0178,235.4842 118.0602,147.1898 117.8894,147.1004 117.8858,37.7953 117.1096,37.7953 117.1118,146.6929 117.2747,146.7783 117.2382,236.6548 117.0963,236.8679 238.6085,236.8839 238.584,236.9998 262.8638,237.0586 386.0089,237.1896 442.2047,269.7284 442.2047,268.8462 386.4051,236.6405 386.5549,236.4329 262.8638,236.2797 238.7492,236.2203 238.7741,236.1026 117.6161,236.0873\"/>\n",
       "    <polyline points=\"116.0729,238.4049 238.2829,238.4206 238.2569,238.5432 262.8638,238.6014 384.8851,238.7468 385.0525,238.5148 442.2047,271.5082 442.2047,270.6125 385.5068,237.8853 262.8638,237.8288 200.5705,237.6008 116.5857,237.6347 116.4673,237.8125 116.3366,37.7953\"/>\n",
       "    <polyline points=\"140.3288,37.7953 140.3746,201.9113 222.5137,201.9186 222.9082,202.1253 169.6147,109.9167 169.3874,111.0835 221.6018,201.4409 221.0507,201.1521 140.8901,201.1372\"/>\n",
       "    <polyline points=\"142.4375,198.8134 216.5868,198.8132 168.4743,115.7702 168.7023,114.5998 217.7149,199.4043 218.0882,199.5998 141.9153,199.5976 141.8827,37.7953 141.1073,37.7953 141.1882,200.6895 141.4055,200.3631 219.5631,200.3727 219.0084,200.082 168.93,113.4313 168.9916,37.7953 169.7639,37.7953 169.7813,109.0616 169.8409,108.756 224.2008,202.8026 223.9856,202.6898 139.8637,202.6785 139.6519,202.9965 139.5517,37.7953 138.7744,37.7953 138.7606,158.0359 138.9349,158.1272 138.8301,204.2305 226.9441,204.2399 170.2982,106.4087 170.069,107.5849 225.505,203.4859 139.3414,203.4628\"/>\n",
       "    <polyline points=\"137.7946,205.7856 229.9227,205.8006 229.4201,205.5373 170.7521,104.079\"/>\n",
       "    <line x1=\"169.1597\" x2=\"220.3003\" y1=\"112.2523\" y2=\"200.7589\"/>\n",
       "    <polyline points=\"209.9034,195.3114 167.3341,121.6224 167.1074,122.7862 208.6088,194.6331 209.1287,194.9055 145.0347,194.9132 144.9815,37.7953 144.2091,37.7953 144.2893,196.0326 144.5013,195.7142 145.8969,195.7129 210.6488,195.702 211.2036,195.9926 167.5617,120.4542 167.4587,120.9832 167.4456,37.7953 168.2153,37.7953 168.2315,117.0166 215.1328,198.0514 142.9542,198.0374 142.7423,198.3556 142.6532,37.7953 143.437,37.7953 143.4675,197.2666 213.6293,197.2636 213.8257,197.3665 168.0164,118.1202 167.7889,119.2882 212.5141,196.6793 212.1384,196.4825 143.9814,196.495\"/>\n",
       "    <polyline points=\"145.5533,194.1344 207.6458,194.1286 207.3099,193.9526 166.88,123.9532\"/>\n",
       "    <polyline points=\"165.2779,132.1763 198.2114,189.1853 198.7236,189.4537 148.6724,189.4505\"/>\n",
       "    <polyline points=\"150.2392,187.0977 194.3406,187.1573 164.5948,135.6828 164.8261,134.4954 195.7244,187.8823 149.7157,187.8838 149.6267,37.7953 148.857,37.7953 148.8404,163.3172 148.9857,163.3934 148.9588,189.0205 149.1878,188.6766 197.242,188.6774 196.9302,188.514 165.0534,133.3285 165.1166,37.7953 164.3439,37.7953 164.3493,136.9426 193.0469,186.4794 192.733,186.3149 150.7606,186.3147 150.5066,186.6961 150.5326,164.2039 150.3805,164.1242 150.4031,37.7953 151.1795,37.7953 151.1635,164.5344 151.3068,164.6095 151.2778,185.538 191.2439,185.5347 191.7327,185.7908 164.1358,138.0388 163.9068,139.2142 190.4256,185.1059\"/>\n",
       "    <polyline points=\"199.5192,189.8706 165.5086,130.9925 165.7354,129.8282 200.807,190.5453 200.225,190.2404 148.1451,190.2424 148.079,37.7953 147.3078,37.7953 147.3939,191.3704 147.6233,191.026 201.7198,191.0236 202.1098,191.2279 165.9633,128.6586 165.9044,128.9608 165.8932,37.7953 166.6683,37.7953 166.6494,125.1369 206.015,193.2741 206.1927,193.3672 146.0612,193.3718 145.8479,193.692 145.7629,37.7953 146.5415,37.7953 146.5839,192.5868 204.7139,192.5924 166.4203,126.3128 166.1923,127.483 203.4141,191.9113 203.2148,191.8069 147.1039,191.8059\"/>\n",
       "    <polyline points=\"151.7902,184.7686 189.7837,184.7696 189.1354,184.43 163.681,140.373\"/>\n",
       "    <polyline points=\"161.3964,152.0992 176.1428,177.6224 176.3807,177.7471 156.467,177.7454 156.7251,177.3578 156.7372,167.4548 156.5905,167.3779 156.5995,37.7953 157.3732,37.7953 157.3574,167.7797 157.5146,167.8621 157.5051,176.1866 173.5453,176.2614 160.9399,154.4423 160.7136,155.604 172.2555,175.5857 171.9349,175.4177 158.0171,175.4177 156.9897,176.9605 174.8806,176.9611 161.1679,153.2722 161.2492,37.7953 160.4754,37.7953 160.464,156.885 160.4846,156.7793 170.9542,174.9038 170.4674,174.6488 158.5288,174.6492 158.2815,175.0207 158.289,168.2679 158.133,168.1861 158.1463,37.7953 158.9218,37.7953 158.8915,164.9561 161.8965,170.158 161.3845,170.3609 161.385,169.89 161.1226,170.7542 163.1946,170.8382 159.1198,163.7843 159.3433,162.6371 164.5208,171.5331 160.6035,171.5336 160.6141,169.4861 158.6621,166.1339 158.4352,167.2982 159.3018,168.7985 159.0568,168.6701 159.0464,173.872 168.9853,173.8722 168.3662,173.5479 160.0288,159.1189 160.2573,157.946 169.6646,174.2281\"/>\n",
       "    <polyline points=\"160.0858,172.3111 166.005,172.3107 165.756,172.1802 159.5701,161.473\"/>\n",
       "    <polyline points=\"159.8317,169.0761 159.828,172.6983 159.5607,173.0997 167.5113,173.0999 167.0573,172.8621 159.7989,160.2988 159.6915,160.8502 159.6996,37.7953 162.0226,37.7953 162.0137,148.9309 162.0864,148.5574 180.0624,179.6761\"/>\n",
       "    <polyline points=\"155.4293,179.3037 179.3541,179.305 178.7543,178.9907 161.8558,149.7413 161.6264,150.9189 177.449,178.3068 177.8666,178.5256 155.949,178.5233 155.9686,167.0521 155.8168,166.9725 155.8238,37.7953 155.0461,37.7953 155.0395,166.5653 155.1802,166.639 155.165,179.7007 154.9113,180.0816 180.834,180.0804 181.3618,180.3569 162.315,147.3842 162.5417,146.2205 182.6515,181.0327 182.3252,180.8617 154.3865,180.8697 154.4037,166.2322 154.2613,166.1576 154.275,37.7953 153.5041,37.7953 153.4875,165.7521 153.6276,165.8255 153.6071,182.0402 153.3547,182.4192 185.2908,182.4155 162.9983,143.8768 163.225,142.7134 186.5405,183.0703 186.7763,183.1939 152.8366,183.1971 152.8591,165.4228 152.7144,165.3471 152.7269,37.7953 151.9519,37.7953 152.0544,184.3718 152.3163,183.9785 188.2784,183.9809 187.8268,183.7443 163.4507,141.5549 163.567,140.9583 163.5687,37.7953 162.7927,37.7953 162.7683,145.0575 183.948,181.712 153.874,181.6393\"/>\n",
       "    <polyline points=\"136.2338,208.1294 234.415,208.1543 234.6276,208.2658 171.6663,99.3864 171.8915,98.2304 235.9356,208.9511 135.7101,208.9158 135.8252,156.4979 135.6766,156.42 135.6774,37.7953 136.4468,37.7953 136.545,207.662 136.7546,207.3474 145.8969,207.3394 232.9269,207.3746 233.333,207.5874 171.4366,100.5652 171.3297,101.1142 171.3136,37.7953 170.541,37.7953 170.523,105.2547 228.1077,204.8496 228.4325,205.0198 138.3107,205.0105 138.0955,205.3337 137.9965,37.7953 137.2237,37.7953 137.2156,157.2264 137.3771,157.311 137.2738,206.5677 231.43,206.5903 232.0237,206.9014 171.2064,101.747 170.9784,102.9176 230.7204,206.2186\"/>\n",
       "    <polyline points=\"241.1422,211.6791 172.8056,93.539 172.8597,37.7953 172.0889,37.7953 172.1058,97.1308 237.2449,209.6371 237.4283,209.7332 135.187,209.7014 134.9948,209.99 134.9063,37.7953 134.1284,37.7953 134.1308,155.6101 134.2783,155.6874 134.1505,211.2579 240.4451,211.3139 239.851,211.0026 172.5784,94.705 172.349,95.8822 238.561,210.3266 238.9418,210.5262 134.6625,210.4891\"/>\n",
       "    <polyline points=\"133.1221,212.8022 243.4081,212.8663 243.8038,212.3651 323.9781,212.5586 323.3783,212.3546 275.5687,129.5152 275.1547,129.4227 328.1622,37.7953 327.2599,37.7953 274.3683,129.2468 274.5485,129.2871 322.2683,211.9772 320.0469,211.2219 272.5008,128.8291 272.7747,128.8904 325.4752,37.7953 326.3583,37.7953 273.5251,129.0582 321.1512,211.5974 321.7243,211.7922 243.9681,211.5894 243.9292,211.7729 173.49,90.0258 173.2621,91.1955 243.6858,212.9219 243.6391,213.142 326.2789,213.3409 325.5984,213.1095 277.566,129.962 330.8766,37.7953 331.7857,37.7953 278.3673,130.1412 278.628,130.1995 326.7191,213.4906 328.929,214.242 280.6704,130.6563 334.4848,37.7953 335.3894,37.7953 281.5699,130.8574 281.709,130.8886 330.0529,214.6241 332.2929,215.3858 283.7735,131.3503 283.9324,131.3858 338.0763,37.7953 338.9701,37.7953 284.7289,131.564 333.4092,215.7653 333.1035,215.6614 243.147,215.4647 243.2058,215.1872 131.5676,215.1366\"/>\n",
       "    <polyline points=\"130.0128,217.4714 242.7168,217.4948 242.652,217.801 340.1032,218.0414 290.9867,132.9635 291.1061,132.9902 346.1904,37.7953 345.2874,37.7953 290.3015,132.8103 289.9444,132.7304 338.9786,217.659 341.2264,218.4233 291.8999,133.1678 347.0822,37.7953\"/>\n",
       "    <polyline points=\"353.4028,37.7953 297.5029,134.4209 297.1385,134.3394 346.7728,220.3092 242.1654,220.0974 242.2251,219.8155 128.4788,219.775\"/>\n",
       "    <polyline points=\"126.9188,222.1176 241.7301,222.1517 241.6755,222.4093 353.435,222.5745 303.2613,135.7088 303.0956,135.6717 359.7337,37.7953 360.6349,37.7953 303.8989,135.8514 304.2857,135.9379 354.5581,222.9564\"/>\n",
       "    <polyline points=\"343.4456,219.1779 294.0606,133.651 294.3119,133.7072 349.8069,37.7953 350.6995,37.7953 295.0888,133.881 344.5539,219.5547 242.3257,219.3409 242.3895,219.0397 200.5705,218.9763 128.9915,219.005 128.8217,219.2601 128.8784,152.8581 128.7125,152.7712 128.7025,37.7953 127.9297,37.7953 127.9408,152.3668 128.1055,152.4531 127.9623,220.5506 242.0599,220.5952 242.0038,220.8599 348.9859,221.0617 299.0928,134.7765 355.2095,37.7953 354.3115,37.7953 298.3031,134.5999 298.15,134.5656 347.8746,220.6839 345.6642,219.9323 296.1128,134.11 295.9115,134.065 351.6,37.7953 352.4983,37.7953 296.7088,134.2433\"/>\n",
       "    <polyline points=\"293.5174,133.5295 348.8986,37.7953 347.9955,37.7953 292.7106,133.3491 293.0358,133.4218 342.3412,218.8024 242.4889,218.5708 242.5533,218.2667 129.5003,218.2411 129.6415,153.2579 129.4859,153.1764 129.482,37.7953 130.2552,37.7953 130.3627,216.946 130.5331,216.6901 242.8801,216.7245 242.8175,217.0196 337.8645,217.2802 288.913,132.4997 288.7078,132.4538 343.4762,37.7953 344.3781,37.7953 289.511,132.6335\"/>\n",
       "    <polyline points=\"286.3244,131.9208 340.7762,37.7953 339.8673,37.7953 285.5286,131.7428 285.833,131.8109 334.5217,216.1436 336.7474,216.9004 287.8822,132.2692 342.5655,37.7953 341.674,37.7953 287.1141,132.0974 286.8586,132.0403 335.6299,216.5204 242.9841,216.2335 243.0422,215.9591 131.0469,215.9186 131.1905,154.0695 131.0384,153.9898 131.0334,37.7953 131.8086,37.7953 131.9143,214.616 132.0807,214.3661 243.3697,214.4138 243.314,214.6767 330.778,214.8706 331.1631,215.0016 282.7353,131.1181 282.3655,131.0354 336.2872,37.7953 337.1776,37.7953 283.1446,131.2096\"/>\n",
       "    <polyline points=\"279.1687,130.3204 332.6863,37.7953 333.5809,37.7953 279.9643,130.4983 279.6408,130.426 327.8288,213.8679 328.5212,214.1033 243.4763,213.9104 243.5342,213.6373 132.5991,213.5877 132.7427,154.8828 132.5839,154.7996 132.5832,37.7953 133.3561,37.7953 133.4534,212.3047 133.6352,212.0317 200.5705,212.0261 241.9339,212.0939 242.445,212.3617 173.0346,92.3634\"/>\n",
       "    <polyline points=\"174.634,84.1543 245.114,206.1815 305.7457,206.3592 305.5972,206.3087 261.3315,129.6429 261.4221,129.2157 208.5115,37.7953 207.614,37.7953 261.1787,130.3641 261.0904,130.7808 304.4752,205.9272\"/>\n",
       "    <polyline points=\"285.5238,199.4833 257.0034,150.0695 257.0463,149.867 192.1999,37.7953 191.3023,37.7953 256.8032,151.0146 256.7628,151.2049 284.4017,199.1018 285.0226,199.3129 246.5906,199.2127 176.0096,77.0936 175.964,77.3275 175.9511,37.7953 176.728,37.7953 176.6933,73.5841 247.3186,195.7766 247.2468,196.1157 275.8711,196.2012 275.4986,196.0745 184.0666,37.7953 183.5408,38.438 274.3821,195.6949\"/>\n",
       "    <polyline points=\"254.4219,188.9081 250.2919,181.7446 250.2311,182.0314 179.4314,59.5302 179.2036,60.6997 249.9864,183.186 250.0503,182.8846 253.3047,188.5282 252.937,188.4032 248.884,188.3889\"/>\n",
       "    <polyline points=\"244.2948,210.0477 317.1664,210.2424 316.7256,210.0926 269.4395,128.1444 269.5904,128.1782 321.8861,37.7953 320.9887,37.7953 268.7952,128.0003\"/>\n",
       "    <polyline points=\"271.9811,128.7129 324.5791,37.7953 323.6866,37.7953 271.1881,128.5355 271.4945,128.604 318.9483,210.8483 319.4387,211.0151 244.133,210.8114 244.1693,210.6402 173.7172,88.8598 173.6425,89.2429 173.6274,37.7953 174.3979,37.7953 174.4043,85.3328 244.8951,207.2145 244.9522,206.945 308.0001,207.1257 307.8214,207.065 262.7421,128.9785 261.8139,127.3665 261.9105,126.9107 210.3348,37.7953 211.231,37.7953 262.151,125.7756 262.2482,125.3169 312.8934,37.7953 311.9863,37.7953 262.7664,122.871 262.8784,122.3425 213.9374,37.7953 213.0364,37.7953 262.6357,123.4879 262.3934,124.6315 212.1373,37.7953\"/>\n",
       "    <polyline points=\"209.4213,37.7953 261.6647,128.0707 261.5738,128.4997 306.7131,206.6881 308.9192,207.4382 262.2188,126.5295 262.4214,126.5748 313.7893,37.7953 314.6787,37.7953 263.2139,126.7521 310.0392,207.8191 310.3239,207.9159 244.7871,207.7242 245.279,205.4026 303.4339,205.5731 260.8502,131.9145 260.9373,131.5037 206.7171,37.7953 205.8233,37.7953 260.696,132.6424 260.6102,133.0474 302.2374,205.1663 300.0058,204.4075 260.1314,135.3068 260.21,134.9358 204.0195,37.7953 204.9214,37.7953 260.454,133.7843 260.3705,134.1787 301.1297,204.7896 245.4427,204.6301 245.3809,204.922 174.862,82.9839 175.0915,81.806 245.6096,203.8423 298.9023,204.0323 259.891,136.4413 259.9653,136.0909 203.107,37.7953 202.1974,37.7953 259.7208,137.2448 259.649,137.5836 297.7798,203.6506 295.5655,202.8977 259.1675,139.8562 259.2327,139.5484 200.3763,37.7953 201.2863,37.7953 259.4748,138.4056 259.4098,138.7127 296.6798,203.2766 245.7722,203.0749 246.2633,200.7574 289.6409,200.8832 289.9696,200.995 257.9667,145.5233 258.0153,145.294 195.8222,37.7953 194.9232,37.7953 257.7744,146.4307 257.7232,146.6722 288.8545,200.6158 287.7339,200.2348 257.483,147.8059 257.532,147.5746 194.0167,37.7953 193.1218,37.7953 257.2896,148.7188 257.2426,148.9407 286.6332,199.8606 287.3461,200.103 246.4265,199.9869 246.3504,200.3465 175.7793,78.2754 175.5497,79.4539 246.1002,201.5272 292.2202,201.7603 258.4499,143.2427 258.5002,143.0056 197.6441,37.7953 196.7343,37.7953 258.2596,144.1407 258.2102,144.3742 291.093,201.377 293.3511,202.1448 258.6924,142.0981 258.7449,141.8504 198.5564,37.7953 199.4687,37.7953 258.9871,140.7077 258.9303,140.9757 294.459,202.5215 245.9355,202.3045 245.8665,202.6298 175.3201,80.6327 175.1895,81.3027 175.1739,37.7953\"/>\n",
       "    <polyline points=\"181.9447,46.6304 266.721,193.09 247.9012,193.0271 248.3917,190.7124 259.9647,190.7927 180.5726,53.6727 180.5926,37.7953 181.3692,37.7953 181.3744,49.5572 181.2613,50.1377 263.2997,191.9267 261.0753,191.1703 180.8025,52.4929 181.0307,51.3217 262.1927,191.5503 248.2265,191.4921 248.292,191.1828 177.6077,68.8909 177.5095,69.3949 177.4968,37.7953 178.2669,37.7953 178.2768,65.4566 249.0174,187.7592 249.0484,187.6129 250.629,187.6184 249.9789,187.3973 249.3318,186.2756 249.2613,186.6084 178.5191,64.2131 178.7478,63.0389 249.5016,185.4742 249.5703,185.15 251.0831,187.7728 252.1986,188.1521 249.8112,184.0128 249.7436,184.3322 178.9758,61.8688 179.0448,37.7953 179.8194,37.7953 179.827,57.5 179.8889,57.182 250.722,179.7143 250.7735,179.4717 256.6524,189.6665 258.8511,190.4141 251.2483,177.2307 251.2082,177.4201 180.3445,54.8434 180.1167,56.013 250.9674,178.5563 251.0104,178.3533 257.7508,190.04 248.5382,190.0208 177.8377,67.7102 178.0628,66.5549 248.7751,188.903 248.7225,189.1514 255.2034,189.1738 255.5357,189.2868 250.5321,180.6109 250.4764,180.8739 179.6609,58.3522\"/>\n",
       "    <polyline points=\"176.9211,72.4148 247.564,194.6186 271.2985,194.6464 271.0549,194.5636 182.8572,41.9463 182.9266,37.7953 182.1513,37.7953 182.1545,45.5531 267.7417,193.4371 265.5204,192.6818 181.7164,47.8021 181.49,48.964 264.457,192.3202 248.0494,192.3277 177.3767,70.0764 177.1487,71.2468 247.8048,193.482 247.7385,193.7953 268.9954,193.8633 268.8411,193.8109 182.4014,44.286 182.6286,43.1197 269.9452,194.1863 272.1621,194.9401 183.0852,40.7763 183.3134,39.6049 273.263,195.3144 273.6043,195.4305 247.4093,195.3488 246.9176,197.6692 280.4816,197.7689 279.932,197.582 242.9975,133.3849 187.6937,37.7953 186.7925,37.7953 278.8225,197.2048 276.6156,196.4544 184.9707,37.7953 185.8743,37.7953 277.7195,196.8297 278.1692,196.9826 247.0718,196.9417 176.4622,74.7706 176.2362,75.9303 246.8317,198.0748 246.7548,198.4378 282.7585,198.5431 282.1571,198.3386 256.2809,153.4795 256.3137,153.3243 189.4945,37.7953 188.5919,37.7953 243.6724,132.9952 281.0407,197.959 283.2863,198.7225 256.5224,152.3394 256.5592,152.1659 190.3983,37.7953\"/>\n",
       "    <polyline points=\"218.4474,37.7953 264.0882,116.6326 264.5776,114.3231 220.2705,37.7953 219.3612,37.7953 264.3208,115.5353 309.2996,37.7953 308.3899,37.7953 264.8204,113.1775 221.1828,37.7953 222.075,37.7953 265.0582,112.0548 265.5436,109.7642 223.8813,37.7953 222.9795,37.7953 265.3021,110.9037 265.3729,110.5698 307.4823,37.7953 306.575,37.7953 265.9015,108.0748 265.7879,108.6112 224.7935,37.7953 225.6936,37.7953 266.0299,107.4689 266.2715,106.3289 226.5946,37.7953\"/>\n",
       "    <polyline points=\"232.9391,37.7953 267.9713,98.3066 302.9738,37.7953 303.8672,37.7953 267.4643,100.6993 231.1226,37.7953 232.0344,37.7953 267.7301,99.4452 268.2153,97.1551 233.8539,37.7953 234.7556,37.7953 268.4576,96.0116 302.0757,37.7953 301.1772,37.7953 269.0131,93.3899 268.9431,93.72 236.5685,37.7953 235.6661,37.7953 268.7017,94.8594 269.1849,92.5792 237.4669,37.7953 238.3673,37.7953 269.4284,91.4298 269.5293,90.9536 300.2822,37.7953 299.3823,37.7953 270.0482,88.5049 270.1572,87.9901 241.088,37.7953 240.1796,37.7953 269.9152,89.1324 269.671,90.2847 239.2725,37.7953\"/>\n",
       "    <polyline points=\"247.4393,37.7953 271.858,79.9631 272.3457,77.6616 249.2653,37.7953 248.3543,37.7953 272.1021,78.8114 295.7891,37.7953 296.6818,37.7953 271.6054,81.1554 246.5269,37.7953 245.616,37.7953 271.3718,82.258 270.8825,84.5672 243.795,37.7953 244.7054,37.7953 271.1262,83.4171 271.0836,83.6182 297.5883,37.7953 298.4882,37.7953 270.5628,86.076 270.6396,85.7137 242.8886,37.7953 241.9899,37.7953 270.3993,86.8479\"/>\n",
       "    <polyline points=\"267.2413,101.752 230.2089,37.7953 229.3156,37.7953 267.0008,102.8867 266.9428,103.1608 304.7707,37.7953 305.671,37.7953 266.4184,105.6356 266.5149,105.1799 227.5073,37.7953 228.408,37.7953 266.7571,104.0372\"/>\n",
       "    <polyline points=\"263.6039,118.9185 216.6361,37.7953 217.5406,37.7953 263.845,117.7807 263.8045,117.9716 310.1906,37.7953 311.0892,37.7953 263.2832,120.432 263.362,120.0602 215.7351,37.7953 214.8344,37.7953 263.1194,121.2053\"/>\n",
       "    <polyline points=\"264.8023,127.1073 316.4822,37.7953 315.5851,37.7953 264.0148,126.9312 264.2732,126.989 311.1604,208.2003 313.3817,208.9556 266.3327,127.4496 318.2903,37.7953 317.3857,37.7953 265.6042,127.2866 265.3009,127.2188 312.2732,208.5787 312.6019,208.6904 244.6218,208.5046 244.6552,208.3468 174.1765,86.5025 173.9469,87.681 244.4132,209.4887 244.459,209.2726 314.8853,209.4668 314.5075,209.3384 267.377,127.6831 267.2056,127.6448 319.1892,37.7953 320.0926,37.7953 268.0042,127.8234 268.4037,127.9128 315.6135,209.7144 317.8413,210.4719 270.3886,128.3567 322.7891,37.7953\"/>\n",
       "    <line x1=\"361.5406\" x2=\"304.698\" y1=\"37.7953\" y2=\"136.0301\"/>\n",
       "    <polyline points=\"307.9073,136.7479 365.1637,37.7953 364.2614,37.7953 307.1072,136.569 307.3622,136.626 357.9148,224.0977 241.3497,223.947 241.4014,223.7031 200.5705,223.6396 125.8916,223.6601 125.7199,223.9181 125.606,37.7953 124.8382,37.7953 124.8456,150.7451 124.9973,150.8246 124.8614,225.2072 241.071,225.2624 241.0217,225.4949 362.4083,225.6256 311.4598,137.5424 311.1061,137.4633 368.7643,37.7953 367.8647,37.7953 310.3051,137.2842 310.4476,137.316 361.2646,225.2367 363.5001,225.9968 312.4941,137.7737 312.7089,137.8218 370.5746,37.7953 369.669,37.7953 311.9101,137.6431\"/>\n",
       "    <polyline points=\"315.0851,138.3532 373.273,37.7953 374.1661,37.7953 315.878,138.5306 315.6009,138.4686 366.9591,227.173 240.6952,227.036 240.7463,226.7947 123.8388,226.7428\"/>\n",
       "    <polyline points=\"125.3822,224.4252 241.2355,224.4861 241.1855,224.7219 360.1514,224.8582 309.4306,137.0886 366.9533,37.7953 366.0528,37.7953 308.6927,136.9236 308.4005,136.8582 359.0371,224.4793 356.8094,223.7219 306.2967,136.3877 363.3545,37.7953 362.4493,37.7953 305.4999,136.2095 305.3093,136.1668 355.6797,223.3377 241.5144,223.1698 241.5669,222.9221 126.408,222.8847 126.555,151.6407 126.3932,151.556 126.3816,37.7953 127.1573,37.7953 127.2743,221.5837 127.4446,221.328 200.5705,221.3111 241.896,221.3687 241.8407,221.6299 351.2077,221.8171 301.217,135.2516 301.48,135.3104 357.9161,37.7953 358.8266,37.7953 302.2281,135.4777 352.3176,222.1946 350.0989,221.4401 300.1905,135.022 299.8879,134.9543 356.1174,37.7953 357.0234,37.7953 300.6892,135.1335\"/>\n",
       "    <polyline points=\"318.2599,139.0633 376.8498,37.7953 375.9588,37.7953 317.47,138.8866 317.6706,138.9315 369.2022,227.9356 240.5357,227.7888 240.5815,227.5724 123.3208,227.5208 123.4257,227.3631 123.4715,150.0251 123.3019,149.9363 123.2916,37.7953 124.0705,37.7953 124.1786,226.2326 124.3577,225.9637 200.5705,225.9564 240.9105,226.0198 240.8596,226.2603 364.6694,226.3944 313.5008,137.9989 371.4744,37.7953 372.3782,37.7953 314.299,138.1774 314.5689,138.2378 365.7314,226.7555 367.9537,227.5111 316.6334,138.6995 375.0675,37.7953\"/>\n",
       "    <polyline points=\"280.095,37.7953 280.6062,38.6763 280.1182,40.9795 278.2713,37.7953 279.1803,37.7953 280.3614,39.8315 281.4174,37.7953 282.3165,37.7953 279.8739,42.1326 277.3587,37.7953 276.454,37.7953 279.632,43.2742 279.1469,45.5635 274.6409,37.7953 275.5451,37.7953 279.3856,44.4369 283.224,37.7953 284.1365,37.7953 278.8574,46.9296 278.9007,46.7254 273.7224,37.7953 272.8199,37.7953 278.6586,47.8682 278.1695,50.1761 270.9938,37.7953 271.9055,37.7953 278.4136,49.0244 278.3368,49.3865 285.0369,37.7953 285.943,37.7953 277.8113,51.867 277.9284,51.314 270.0899,37.7953 269.176,37.7953 277.6834,52.4704 277.4383,53.6273 268.2612,37.7953\"/>\n",
       "    <polyline points=\"254.694,37.7953 273.8026,70.7857 274.0458,69.6382 255.6037,37.7953 256.4971,37.7953 274.2854,68.5072 274.1977,68.9211 292.1962,37.7953 293.0978,37.7953 273.6749,71.3883 273.5608,71.9271 253.7886,37.7953 252.8853,37.7953 273.3186,73.0702 272.8329,75.3622 251.0836,37.7953 250.1784,37.7953 272.5896,76.5106 294.8953,37.7953 293.996,37.7953 273.1568,73.8338 273.0752,74.2186 251.9813,37.7953\"/>\n",
       "    <polyline points=\"276.9501,55.9311 266.4396,37.7953 267.3478,37.7953 277.1931,54.7844 277.2916,54.3194 286.8393,37.7953 287.7364,37.7953 276.7095,57.0667 265.5428,37.7953 264.6469,37.7953 276.4695,58.1994 275.9818,60.5012 262.8295,37.7953 263.7453,37.7953 276.2272,59.3428 288.6377,37.7953 289.514,37.7953 275.7386,61.6487 261.9226,37.7953 261.0214,37.7953 275.4971,62.7885 275.0143,65.0671 259.2172,37.7953 260.1126,37.7953 275.2354,64.0236 290.3954,37.7953 291.2918,37.7953 274.7192,66.4602 274.7713,66.2139 258.3112,37.7953 257.406,37.7953 274.5285,67.3597\"/>\n",
       "    <polyline points=\"275.9568,129.6021 329.06,37.7953 329.9738,37.7953 276.7635,129.7825 276.5908,129.7439 324.4897,212.7325\"/>\n",
       "    <polyline points=\"374.6251,229.7796 322.8143,140.0819 323.0437,140.1332 382.2482,37.7953 381.3402,37.7953 322.2301,139.9512\"/>\n",
       "    <polyline points=\"325.4326,140.6675 384.9475,37.7953 385.8473,37.7953 326.2197,140.8435 325.9087,140.774 377.974,230.9183 378.2201,231.0019 262.8638,230.9059 239.8868,230.8512 239.9238,230.6766 200.5705,230.6302 121.2376,230.6491 121.104,230.8497 121.1548,148.8113 120.986,148.7228 120.9772,37.7953 120.2065,37.7953 120.2151,148.3189 120.3867,148.4088 120.3442,231.9906 120.209,232.1937 200.5705,232.1831 239.5935,232.2356 239.5627,232.3809 262.8638,232.4362 382.7631,232.5466 382.4473,232.4393 330.0084,141.6909 330.1981,141.7333 390.3482,37.7953 391.2389,37.7953 331.0024,141.9132 383.567,232.82 385.8022,233.58 333.1034,142.3831 333.4053,142.4506 393.9511,37.7953 394.8442,37.7953 334.1372,142.6143 386.9208,233.9603 387.3573,234.1087 262.8638,233.9807 239.2361,233.922 239.2655,233.7835 119.1747,233.7468\"/>\n",
       "    <polyline points=\"120.72,231.4263 239.7579,231.4593 239.7229,231.6249 380.5009,231.7774 380.2193,231.6817 327.9563,141.2319 327.8135,141.2 387.65,37.7953 386.7455,37.7953 326.938,141.0042 379.1009,231.3014 376.8632,230.5405 324.8773,140.5433 324.6383,140.4898 384.0556,37.7953 383.1556,37.7953 323.8304,140.3091 375.7363,230.1574 375.92,230.2199 240.0478,230.0913 240.0858,229.9118 121.7613,229.8627 121.8761,229.6903 121.9253,149.215 121.7623,149.1296 121.7478,37.7953 122.5179,37.7953 122.5304,149.532 122.6951,149.6183 122.6459,228.5342 122.799,228.3043 200.5705,228.2986 240.4149,228.3588 240.3712,228.5649 371.4545,228.7015 371.2813,228.6426 319.7248,139.3909 319.8386,139.4164 378.636,37.7953 377.7319,37.7953 319.0488,139.2397 318.7075,139.1634 370.1832,228.2692 372.3924,229.0204 320.6458,139.5969 379.5389,37.7953 380.4459,37.7953 321.4411,139.7748 321.7944,139.8538 373.5156,229.4023 373.6935,229.4628 240.2097,229.3273 240.2488,229.1429 122.2759,229.0899\"/>\n",
       "    <polyline points=\"114.5287,240.7238 200.5705,240.6921 383.2495,241.0131 442.2047,275.0488 442.2047,275.9372 382.7935,241.6449 382.6608,241.8288 262.8638,241.6808 237.6054,241.6182 237.6269,241.5167 114.0155,241.4944 114.1312,241.3207 114.1731,145.1532 114.0024,145.0638 114.0109,37.7953 113.2362,37.7953 113.2311,144.6596 113.4123,144.7546 113.3696,242.4643 113.4942,242.2772 200.5705,242.2504 382.0946,242.6133 381.8879,242.8998 442.2047,277.7225 442.2047,276.8423 382.3362,242.2786\"/>\n",
       "    <polyline points=\"379.6162,246.0475 442.2047,282.164 442.2047,283.0562 379.1588,246.6814 379.3108,246.4707 200.5705,246.1466 110.9018,246.1702 111.0496,245.9482 111.0903,143.538 110.9094,143.4432 110.9153,37.7953 110.1417,37.7953 110.1352,143.0375 110.3247,143.1368 110.2857,247.0954 110.3866,246.9439 200.5705,246.9251 378.7591,247.2352 442.2047,283.9415 442.2047,284.8293 378.256,247.9323 109.8692,247.7208\"/>\n",
       "    <polyline points=\"108.3179,250.0504 235.8164,250.0615 376.5224,250.3345 376.4293,250.4634 442.2047,288.4173 442.2047,289.3068 375.9779,251.0889 235.6535,250.8302 107.8054,250.82 107.949,250.6044 108.0017,141.9197 107.8053,141.8168 107.8237,37.7953 107.0486,37.7953 107.0295,141.4103 107.2257,141.5131 107.1926,251.7402 107.286,251.6 145.8969,251.5642 320.5133,251.8118 375.4292,251.8492 375.5159,251.7291 442.2047,290.1957 442.2047,291.1023 375.0556,252.367 374.8824,252.6069 235.3235,252.3876 106.7645,252.3831\"/>\n",
       "    <polyline points=\"105.2153,254.7095 373.2562,254.8602 442.2047,294.65 442.2047,295.5296 372.8026,255.4888 372.6621,255.6834 104.6975,255.4871 104.8712,255.2262 104.9076,140.2985 104.7124,140.1962 104.725,37.7953 103.9459,37.7953 103.9348,139.7888 104.1374,139.8949 104.1008,256.3832 104.1855,256.256 145.8969,256.2172 372.0978,256.4653 371.8943,256.7474 442.2047,297.3291 442.2047,296.4322 372.3439,256.1244\"/>\n",
       "    <polyline points=\"374.6054,252.9907 442.2047,291.9834 442.2047,292.8798 374.1499,253.6218 374.323,253.382 200.5705,253.1256 106.2497,253.1562 106.4297,252.8858 106.4614,141.1126 106.2579,141.006 106.276,37.7953 105.5022,37.7953 105.4896,140.6035 105.69,140.7084 105.6532,254.0519 105.7347,253.9296 200.5705,253.9008 373.7698,254.1485 373.7038,254.24 442.2047,293.7611\"/>\n",
       "    <polyline points=\"442.2047,287.5191 376.8877,249.8282 377.0777,249.565 200.5705,249.251 108.8361,249.2722 108.7327,249.4275 108.7869,142.331 108.5825,142.224 108.5936,37.7953 109.3707,37.7953 109.3616,142.6322 109.5587,142.7354 109.5129,248.2559 109.355,248.493 200.5705,248.4734 377.6356,248.7919 377.8031,248.5599 442.2047,285.7216 442.2047,286.6107 377.3464,249.1927\"/>\n",
       "    <polyline points=\"367.3499,263.0442 442.2047,306.2098 442.2047,305.3237 367.8018,262.4181 367.6428,262.6385 233.1892,262.4605 100.0369,262.4859 100.2379,262.184 100.2655,137.8662 100.0649,137.7611 100.0808,37.7953 99.3007,37.7953 99.2961,137.3583 99.4875,137.4586 99.4708,263.336 200.5705,263.2202 367.0845,263.4121 366.8931,263.6773 442.2047,307.0952\"/>\n",
       "    <line x1=\"442.2047\" x2=\"345.0714\" y1=\"349.8246\" y2=\"293.9144\"/>\n",
       "    <polyline points=\"347.3482,290.7595 442.2047,345.3888 442.2047,344.5016 347.8009,290.1322 347.632,290.3662 227.3007,290.2513 227.255,290.4668 86.246,290.499 165.2711,336.3446 165.1771,336.4749 314.2047,336.6846 390.4453,380.5672 390.1184,380.4704 442.2047,470.8495 442.2047,469.2845 391.2217,380.7971 392.3215,381.1227 442.2047,467.6681 442.2047,466.0841 393.3985,381.4416 393.6693,381.5218 314.6667,336.0444 314.7521,335.926 165.7276,335.7111 89.3932,291.4309 88.9466,291.2986 227.092,291.2362 227.1357,291.0299 347.0618,291.1563 346.8953,291.387 442.2047,346.2697 442.2047,347.169 346.4375,292.0214 346.5025,291.9313 226.971,291.8073 226.9256,292.0215 91.5706,292.0756 92.5389,292.3623 166.1835,335.0786 166.289,334.9323 315.3113,335.1512 315.1232,335.4119 396.8526,382.4643 396.6979,382.4185 442.2047,461.351 442.2047,459.7782 397.8132,382.7487 398.9248,383.0778 442.2047,458.1937 442.2047,456.6095 400.0552,383.4125 315.577,334.783\"/>\n",
       "    <polyline points=\"317.8353,331.6539 415.8999,388.1039 415.3622,387.9447 442.2047,434.4752 442.2047,432.8774 416.4772,388.2748 417.5413,388.5898 442.2047,431.3367\"/>\n",
       "    <polyline points=\"442.2047,443.9933 408.7504,385.987 407.662,385.6648 442.2047,445.5801\"/>\n",
       "    <polyline points=\"442.2047,462.9357 395.5966,382.0924 394.5243,381.7749 442.2047,464.505\"/>\n",
       "    <polyline points=\"442.2047,472.415 389.0279,380.1475 387.9411,379.8257 408.5662,415.8238 442.2047,473.9914\"/>\n",
       "    <polyline points=\"442.2047,485.0652 403.7774,418.5886 383.6844,383.5077 383.5417,383.7215 326.737,383.7853 131.1097,383.741 37.7953,329.5009 37.7953,328.6143 131.5991,383.0619 159.5931,382.9439 252.3933,383.0544 378.4294,382.9599 384.0551,382.9523 384.1718,382.7775 404.4626,418.1931 442.2047,483.4732 442.2047,481.8863 405.1448,417.7992 384.6597,382.0464 384.569,382.1824 275.0446,382.2788 132.2199,382.2005 132.0543,382.4303 37.7953,327.7103 37.7953,326.811 132.514,381.7926\"/>\n",
       "    <polyline points=\"134.7796,378.6492 37.7953,322.3476 37.7953,321.4732 135.2294,378.0251 135.0055,378.3357 217.1822,378.3088 253.3654,378.4463 382.9133,378.3371 384.0753,378.6811 313.2994,337.939 313.0887,338.2309 164.0609,338.0235 163.9092,338.234 76.8412,287.7144 77.0348,287.7718 76.9298,226.7416 77.0353,125.6947 76.8563,125.6009 76.8718,37.7953 77.6418,37.7953 77.627,126.0047 77.8044,126.0977 77.7053,226.7416 77.8147,288.0027 78.5909,288.2325 78.4761,226.7416 78.5823,126.5053 78.4007,126.4101 78.4158,37.7953 79.1875,37.7953 79.3801,288.4662\"/>\n",
       "    <polyline points=\"73.1574,286.6237 73.0509,226.7416 73.1665,123.6676 72.9755,123.5676 73.0004,37.7953 72.2258,37.7953 72.2007,123.1616 72.3974,123.2647 72.2777,226.7416 72.3933,286.3975 71.6311,286.1718 71.6226,284.4069 71.5061,226.7416 71.618,122.8563 71.4259,122.7556 71.4479,37.7953 70.6693,37.7953 70.6518,122.35 70.8407,122.449 70.735,226.7416 70.8658,285.9452 70.5586,285.8543 162.941,339.5774 311.9879,339.7562 374.4577,375.8336 375.1057,376.0254 253.8527,376.1362 159.5931,375.9889 136.6768,376.0169 136.5896,376.1379 37.7953,318.7689 37.7953,317.8844 137.0411,375.5115 137.2394,375.2364 159.5931,375.2097 254.0178,375.3537 372.502,375.2545\"/>\n",
       "    <polyline points=\"381.2019,387.227 400.3047,420.5936 442.2047,493.0496 442.2047,494.6568 399.612,420.9935 380.7124,387.9604 380.9555,387.5961 128.3228,387.6075 128.4282,387.4613 37.7953,334.8544 37.7953,333.9615 128.8789,386.8359 381.4738,386.8196 381.6951,386.4881 400.9966,420.1942 442.2047,491.4481 442.2047,489.8646 401.6891,419.7943 382.1925,385.7429 381.9925,386.0426 251.7412,386.1459 159.5931,386.0235 129.4409,386.0563 129.3343,386.2042 37.7953,333.0613 37.7953,332.1927 129.7803,385.5853 129.999,385.2819 378.4294,385.2801 382.505,385.2746 382.6863,385.003 402.3788,419.3961 442.2047,488.2759 442.2047,486.6861 403.0728,418.9954 383.1813,384.2614 383.0256,384.4947 326.737,384.559 130.5539,384.5121 130.6897,384.3236 37.7953,330.4011 37.7953,331.294 130.2388,384.9493\"/>\n",
       "    <polyline points=\"125.2325,391.8951 37.7953,341.1738 37.7953,342.0666 124.7749,392.5299 124.971,392.2579 377.8649,392.2266 377.7606,392.3829 395.502,423.3664 442.2047,504.095 442.2047,505.721 394.808,423.7671 377.2631,393.1283 377.3461,393.0038 159.5931,392.9895 124.4196,393.0229 124.3169,393.1654 37.7953,342.9699 37.7953,343.8815 123.8541,393.8075 376.8379,393.7653 376.7656,393.8735 394.116,424.1666 442.2047,507.309 442.2047,508.9108 393.4269,424.5645 376.3232,394.5364 123.2994,394.5771 123.3945,394.4451 37.7953,344.7866 37.7953,345.6745 122.9383,395.0781 122.7362,395.3586 375.8135,395.3 392.7292,424.9674 442.2047,510.5118 442.2047,512.0612 392.0516,425.3585 375.3034,396.0642 159.5931,396.0941 122.1759,396.1359 122.0334,396.3336 37.7953,347.4624 37.7953,348.3636 121.576,396.9682 374.7899,396.8336 391.3647,425.7551 442.2047,513.635 442.2047,515.2076 374.2896,397.5831 121.0597,397.6846 121.1238,397.5956 37.7953,349.2527 37.7953,350.1499 120.6641,398.2334 120.4992,398.4622 275.0446,398.4737 373.8003,398.3163 442.2047,516.7975 441.0893,517.3418 373.3801,634.2047 372.4902,634.2047 440.3042,517.1476 440.6585,517.2352 372.8117,399.7974 372.7231,399.9301 159.5931,399.9546 119.3925,399.9976 119.3128,400.1083 37.7953,352.8085 37.7953,353.7095 118.8408,400.7631 326.737,400.7507 372.2068,400.7037 372.3154,400.5409 439.6032,516.9742 371.5982,634.2047 370.7121,634.2047 438.7502,516.7631 438.5382,516.7107 371.8332,401.2633 371.6933,401.4729 118.2738,401.5497 118.399,401.3761 37.7953,354.6057\"/>\n",
       "    <line x1=\"37.7953\" x2=\"122.4831\" y1=\"346.5814\" y2=\"395.7097\"/>\n",
       "    <polyline points=\"120.2181,398.8522 37.7953,351.0306 37.7953,351.9211 119.7619,399.4851 119.9503,399.2237 275.0446,399.2452 373.2377,399.1591 373.3082,399.0535 389.3036,426.9451 441.7126,517.496 441.8706,517.5351 374.26,634.2047 375.1436,634.2047 442.2047,518.4867 442.2047,520.0205 376.0291,634.2047 376.9134,634.2047 442.2047,521.52 442.2047,523.0925 377.7998,634.2047 378.6745,634.2047 442.2047,524.6413 442.2047,526.1905 379.5615,634.2047 380.4688,634.2047 442.2047,527.7376 442.2047,529.2872 381.3612,634.2047 382.2347,634.2047 442.2047,530.821 442.2047,532.3569 383.1267,634.2047 384.0092,634.2047 442.2047,533.8795 442.2047,535.4243 384.8952,634.2047 385.7694,634.2047 442.2047,536.9465 442.2047,538.4815 386.6638,634.2047 387.5492,634.2047 442.2047,540.0274 442.2047,541.5593 388.4403,634.2047 389.3186,634.2047 442.2047,543.0693 442.2047,544.5926 390.1948,634.2047 391.0862,634.2047 442.2047,546.1127 442.2047,547.6354 391.9582,634.2047 392.8334,634.2047 442.2047,549.1586 442.2047,550.683 393.7195,634.2047 394.5987,634.2047 442.2047,552.1999 442.2047,553.745 395.4925,634.2047 396.3896,634.2047 442.2047,555.3076 442.2047,556.8438 397.2739,634.2047 398.1538,634.2047 442.2047,558.3659 442.2047,559.8844 399.0372,634.2047 399.914,634.2047 442.2047,561.417 442.2047,562.9306 400.7969,634.2047 401.6934,634.2047 442.2047,564.4805 442.2047,566.0155 402.5877,634.2047 403.4801,634.2047 442.2047,567.5532 442.2047,569.0932 404.3711,634.2047 405.2606,634.2047 442.2047,570.6449 442.2047,572.1908 406.1583,634.2047 407.0399,634.2047 442.2047,573.7104 442.2047,575.2516 407.9351,634.2047 408.8336,634.2047 442.2047,576.7885 442.2047,578.2981 409.7192,634.2047 410.5932,634.2047 442.2047,579.8148 442.2047,581.3278 411.4686,634.2047 412.3529,634.2047 442.2047,582.8482 442.2047,584.3818 413.2462,634.2047 414.1428,634.2047 442.2047,585.9291 442.2047,587.4434 415.0231,634.2047 415.906,634.2047 442.2047,588.9604 442.2047,590.5088 416.8007,634.2047 417.6858,634.2047 442.2047,592.0276 442.2047,593.5255 418.5554,634.2047 419.4443,634.2047 442.2047,595.0496 442.2047,596.5488 420.31,634.2047 421.1969,634.2047 442.2047,598.0684 442.2047,599.5999 422.0833,634.2047 422.9698,634.2047 442.2047,601.1303 442.2047,602.6641 423.8683,634.2047 424.7505,634.2047 442.2047,604.185 442.2047,605.7155 425.6417,634.2047 426.5455,634.2047 442.2047,607.268 442.2047,608.7931 427.4319,634.2047 428.3195,634.2047 442.2047,610.3223 442.2047,611.8304 429.1955,634.2047 430.0815,634.2047 442.2047,613.3556 442.2047,614.8661 430.9608,634.2047 431.8453,634.2047 442.2047,616.3857 442.2047,617.9205 432.7359,634.2047 433.6346,634.2047 442.2047,619.4697 442.2047,621.0063 434.5294,634.2047 435.4121,634.2047 442.2047,622.5241 442.2047,624.0509 436.2995,634.2047 437.1921,634.2047 442.2047,625.585 442.2047,627.0887 438.0661,634.2047 438.9596,634.2047 442.2047,628.6242 442.2047,630.1695 439.859,634.2047 440.7333,634.2047 442.2047,631.6736 442.2047,633.1731 441.6049,634.2047\"/>\n",
       "    <line x1=\"369.8246\" x2=\"437.9828\" y1=\"634.2047\" y2=\"516.5733\"/>\n",
       "    <polyline points=\"434.8658,515.8021 366.2602,634.2047 367.1446,634.2047 435.6415,515.994 435.3587,515.924 370.3691,403.4569 370.1487,403.787 116.5844,403.8936 37.7953,358.178 37.7953,357.279 117.0386,403.2635 117.1561,403.1005 159.5931,403.0497 370.6658,403.0124 370.8569,402.7261 436.4244,516.1877 368.0424,634.2047 368.9283,634.2047 437.1952,516.3784 437.485,516.4501 371.3452,401.9944 371.1803,402.2416 117.7161,402.3235 117.5006,402.6226 37.7953,356.3839 37.7953,355.4938 117.9516,401.9968\"/>\n",
       "    <polyline points=\"115.2085,405.8026 37.7953,360.8804 37.7953,361.7878 114.7437,406.4475 114.9135,406.2119 159.5931,406.1478 368.602,406.1044 368.4005,406.4062 382.4559,430.8986 431.149,514.8825 430.9855,514.8421 361.8215,634.2047 360.9372,634.2047 430.2127,514.6509 381.7691,431.2951 367.9069,407.1458 368.0872,406.8757 159.5931,406.9268 114.2963,407.0682 37.7953,362.675 37.7953,363.5602 113.7963,407.7619 367.5723,407.6472 367.4178,407.8786 381.0851,431.6901 429.0139,514.3543 428.6596,514.2666 359.1571,634.2047 358.265,634.2047 427.9484,514.0907 380.4045,432.083 366.928,408.6124 367.0543,408.4232 113.2428,408.5299 113.3831,408.3353 37.7953,364.4646 37.7953,365.3652 112.9262,408.9691\"/>\n",
       "    <polyline points=\"110.1825,412.7758 37.7953,370.7466 37.7953,371.6485 109.7192,413.4186 109.876,413.2011 159.5931,413.1149 363.9867,413.019 400.4281,476.0802 421.7085,512.5469 351.2259,634.2047 352.1059,634.2047 422.4791,512.7375 422.6278,512.7743 364.4747,412.288 110.4394,412.4194 110.6408,412.1399 37.7953,369.8548 37.7953,368.964 111.0921,411.5138 111.0003,411.6412 364.9812,411.5292 377.6554,433.6702 423.6962,513.0387 424.0192,513.1186 353.868,634.2047 352.9938,634.2047 423.2401,512.9258 420.9326,512.3549 350.335,634.2047 349.4402,634.2047 420.1371,512.1581 420.5033,512.2487 363.495,413.7558 363.4269,413.8578 326.737,413.8859 159.5931,413.8899 109.2627,414.052 37.7953,372.5437 37.7953,373.4505 108.7634,414.7448 362.9125,414.6285 363.008,414.4854 419.4513,511.9884 348.5391,634.2047 347.6494,634.2047 418.5726,511.771 418.369,511.7207 362.5212,415.2147 362.3988,415.3982 108.212,415.5098 108.3461,415.3237 37.7953,374.3402 37.7953,375.2391 107.8874,415.9601\"/>\n",
       "    <polyline points=\"105.137,419.7761 37.7953,380.6556 37.7953,381.5527 104.6857,420.4023 104.8623,420.1572 159.5931,420.0724 359.3021,420.0377 359.0663,420.391 410.8416,509.8583 338.7778,634.2047 337.9075,634.2047 409.9993,509.6499 409.7578,509.5902 368.7325,438.8219 358.5742,421.1281 358.7874,420.8087 159.5931,420.8537 104.2338,421.0293 37.7953,382.4551 37.7953,383.3583 103.7505,421.6997 358.2713,421.5821 358.0812,421.8669 368.0468,439.2177 408.7014,509.3288 408.4488,509.2663 336.151,634.2047 335.2611,634.2047 407.6772,509.0754 367.3588,439.6149 357.5866,422.6079 357.7526,422.3591 103.1967,422.468 103.3229,422.293 37.7953,384.2689 37.7953,385.1637 102.8676,422.9247\"/>\n",
       "    <line x1=\"100.1431\" x2=\"37.7953\" y1=\"426.7048\" y2=\"390.5475\"/>\n",
       "    <polyline points=\"37.7953,387.8625 101.5003,424.8217 356.2065,424.6756 356.1117,424.8176 365.2978,440.8048 404.5558,508.3032 331.7319,634.2047 332.612,634.2047 405.3463,508.4988 405.4898,508.5343 365.9814,440.4102 356.5996,424.0866 356.7179,423.9093 159.5931,423.9472 102.0744,424.0252 101.9613,424.1822 37.7953,386.958 37.7953,386.064 102.4136,423.5546 102.6327,423.2506 357.2346,423.1352 357.0966,423.342 366.6751,440.0097 406.5618,508.7995 406.9017,508.8836 334.3766,634.2047 333.4994,634.2047 406.1239,508.6911 403.7876,508.1131 330.8539,634.2047 329.9776,634.2047 403.0172,507.9225 403.3642,508.0084 364.6092,441.2024 355.6175,425.558 355.692,425.4464 100.9547,425.5787 101.0481,425.4491 37.7953,388.7544 37.7953,389.6422 100.6024,426.0675 100.3937,426.3571 355.1804,426.2129 363.9197,441.6005 402.2913,507.7429 329.0877,634.2047 328.2095,634.2047 401.4628,507.538 401.2112,507.4757 354.6659,426.9837 159.5931,427.0496 99.8338,427.1338 99.6978,427.3225 37.7953,391.4253 37.7953,392.3309 99.2425,427.9542 354.1549,427.7494 400.1546,507.2143 399.915,507.155 326.4279,634.2047 325.5302,634.2047 399.1443,506.9643 353.6588,428.4926 98.7173,428.683 98.7873,428.5858 37.7953,393.2296 37.7953,394.129 98.3289,429.2219 98.1636,429.4512 353.1721,429.2217 398.032,506.6892 398.3633,506.7711 324.6294,634.2047 323.7458,634.2047 397.5892,506.5796 395.2532,506.0016 321.0618,634.2047\"/>\n",
       "    <line x1=\"327.3105\" x2=\"400.6855\" y1=\"634.2047\" y2=\"507.3456\"/>\n",
       "    <line x1=\"409.2268\" x2=\"337.0237\" y1=\"509.4588\" y2=\"634.2047\"/>\n",
       "    <polyline points=\"339.6881,634.2047 411.5625,510.0367 411.8954,510.1191 359.5598,419.6516\"/>\n",
       "    <polyline points=\"369.3672,404.958 383.8051,430.1197 433.324,515.4206 364.4863,634.2047 365.3646,634.2047 434.0913,515.6105 434.2822,515.6577 369.8718,404.2019 369.63,404.5642 116.0449,404.6422 116.1358,404.516 37.7953,359.0715 37.7953,359.9742 115.6758,405.1542 115.4833,405.4214 369.1174,405.3323 368.8871,405.6773 383.1338,430.5072 432.1923,515.1406 432.5553,515.2305 363.6147,634.2047 362.7211,634.2047 431.7748,515.0374 429.4327,514.4579 360.0461,634.2047\"/>\n",
       "    <polyline points=\"311.3625,634.2047 386.7179,503.89 389.0219,504.46 313.9983,634.2047 314.8739,634.2047 389.7979,504.652 389.492,504.5763 349.2436,435.1075 349.0108,435.4563 93.7068,435.6346 93.7895,435.5199 37.7953,403.0593 37.7953,403.9511 93.3394,436.1444 93.153,436.403 348.4948,436.2293 348.2542,436.5899 387.313,504.0372 387.4707,504.0762 312.2415,634.2047 313.1185,634.2047 388.2383,504.2661 388.396,504.3051 348.7429,435.8576\"/>\n",
       "    <polyline points=\"338.4672,451.2528 365.9446,498.7505 365.4547,498.6293 369.835,506.2211 369.3889,506.9576 364.4382,498.3778 364.8685,498.4843 337.9686,451.9999 338.2094,451.6391 237.9289,451.6219 237.8834,451.8375 133.3997,451.8295 132.974,451.6847 182.7107,537.7494 182.8952,537.7908 127.262,634.2047 126.3788,634.2047 182.1098,537.6146\"/>\n",
       "    <polyline points=\"185.2266,538.3141 129.9013,634.2047 130.7818,634.2047 186.0089,538.4897 185.7397,538.4293 136.2191,452.7883 138.4116,453.534 187.7539,538.8813 187.5629,538.8385 132.544,634.2047 131.6649,634.2047 186.7846,538.6638 137.3114,453.1598 137.943,453.3746 237.5576,453.3821 237.6029,453.1672 337.1838,453.1756 336.992,453.463 362.7423,497.9582 362.3873,497.8704 368.4893,508.4427 368.9394,507.6996 363.4133,498.1242 363.8123,498.223 337.4831,452.7273 337.6957,452.4087 237.7651,452.3983 237.7205,452.6098 135.689,452.608 135.1352,452.4197 184.7262,538.2018 184.4468,538.1391 129.0192,634.2047 128.1323,634.2047 183.7347,537.9793 134.0548,452.0522\"/>\n",
       "    <polyline points=\"156.9862,459.851 204.891,542.7276 204.7578,542.6977 151.9313,634.2047 152.8177,634.2047 205.5356,542.8723 205.871,542.9476 158.075,460.2213 236.0906,460.3362 236.1459,460.0743 332.5678,460.0915 364.4634,515.0893 364.0148,515.8299 332.0693,460.8383 235.983,460.8463 235.9259,461.1168 160.635,461.0919 160.2363,460.9564 207.8757,543.3975 155.4526,634.2047 154.568,634.2047 207.0968,543.2227 206.8669,543.1711 159.1526,460.5878 161.3432,461.3328 208.9038,543.6282 208.6573,543.5729 156.3389,634.2047 157.2172,634.2047 209.4284,543.746\"/>\n",
       "    <line x1=\"206.3196\" x2=\"153.6982\" y1=\"543.0482\" y2=\"634.2047\"/>\n",
       "    <line x1=\"145.768\" x2=\"199.3008\" y1=\"634.2047\" y2=\"541.4729\"/>\n",
       "    <line x1=\"195.384\" x2=\"141.3603\" y1=\"540.5938\" y2=\"634.2047\"/>\n",
       "    <polyline points=\"135.1763,634.2047 189.9074,539.3647 140.601,454.2785 141.6998,454.6523 190.8068,539.5665 190.6889,539.5401 136.0599,634.2047 136.9335,634.2047 191.4659,539.7145 191.7825,539.7855 142.7725,455.0171 142.4883,454.9204 237.2296,454.937 237.2782,454.7066 336.1556,454.7162 336.0079,454.9375 360.5966,497.4274 360.3556,497.3678 367.5978,509.9145 368.044,509.178 361.3719,497.6192 361.6826,497.6961 336.5051,454.1926 336.6687,453.9474 237.44,453.9393 237.3951,454.1525 140.1972,454.1412 139.5124,453.9083 188.7681,539.1089 189.1242,539.1889 134.2974,634.2047 133.4141,634.2047 188.3389,539.0126\"/>\n",
       "    <polyline points=\"178.2103,536.7393 121.9686,634.2047 122.8595,634.2047 178.9881,536.9139 178.6822,536.8452 128.587,450.1927 238.2116,450.2819 238.2529,450.0862 339.2352,450.1023 339.4559,449.7716 368.0954,499.2826 368.5274,499.3895 371.1839,503.994 370.7327,504.739 367.4993,499.1352 367.0224,499.0172 338.9616,450.5122 338.7243,450.8676 238.0917,450.8499 238.0454,451.0697 131.15,451.0644 130.7739,450.9364 180.7054,537.2994 180.5475,537.2639 124.622,634.2047 125.5041,634.2047 181.3309,537.4397 181.6957,537.5216 131.8599,451.3058 129.6734,450.5622 179.7644,537.0881 123.737,634.2047\"/>\n",
       "    <polyline points=\"119.3274,634.2047 175.8651,536.213 175.6621,536.1674 125.3282,449.0844 127.4993,449.8228 177.6731,536.6188 177.4265,536.5634 121.0848,634.2047 120.2109,634.2047 176.6774,536.3953 126.4359,449.4611 238.3764,449.5005 238.4149,449.3179 339.7492,449.3322 339.9428,449.0421 369.1634,499.5469 369.5529,499.6432 371.6342,503.2507 372.0795,502.5156 370.5671,499.8941 370.2395,499.8131 340.4359,448.3032 340.2674,448.5557 124.2244,448.709 174.6417,535.9384 174.3036,535.8625 117.5727,634.2047 118.4523,634.2047 175.0808,536.037\"/>\n",
       "    <polyline points=\"171.1665,535.1584 114.0406,634.2047 114.9298,634.2047 171.9486,535.3339 171.6362,535.2638 120.9285,447.5881 123.1167,448.3323 173.6333,535.7121 173.5173,535.686 116.6855,634.2047 115.8099,634.2047 172.7333,535.5101 122.0124,447.9567 340.7798,447.7881 340.9202,447.5777 371.2909,500.0732 371.5798,500.1447 372.5242,501.7813 372.9715,501.0428 372.5989,500.3968 372.3623,500.3383 341.4132,446.8391 341.2922,447.0204 119.7731,447.1952 170.6153,535.0347 170.3845,534.9829 113.149,634.2047 112.2655,634.2047 169.6172,534.8107 118.7525,446.848 116.5773,446.1083 167.6024,534.3585 167.2657,534.2829 109.6293,634.2047\"/>\n",
       "    <polyline points=\"50.5443,634.2047 114.9703,522.5456 115.0973,522.5742 59.6671,426.7536 58.6028,426.3916 114.1876,522.37 49.6585,634.2047 48.7884,634.2047 113.4098,522.1954 113.103,522.1266 57.5209,426.0237 55.3272,425.2776 111.096,521.6761 46.1454,634.2047 45.2705,634.2047 110.2864,521.4944 110.0825,521.4486 54.2376,424.907 52.0423,424.1604 108.0731,520.9976 107.9436,520.9686 42.6162,634.2047 41.7306,634.2047 107.1663,520.7941 50.9208,423.779 48.7458,423.0393 105.037,520.3162 104.8262,520.2689 39.0959,634.2047 38.2172,634.2047 104.0477,520.0942 47.632,422.6605 46.5668,422.2983 103.0147,519.8623 103.2578,519.9169 37.7953,633.4082\"/>\n",
       "    <polyline points=\"37.7953,628.7974 100.9071,519.3893 101.0453,519.4203 44.4057,421.5633 43.3321,421.1982 100.127,519.2142 37.7953,627.2823 37.7953,625.7675 99.355,519.0409 99.0478,518.972 42.2508,420.8305 37.7953,418.3065 37.7953,417.4071 45.7732,422.0284 45.4995,421.9353 102.0191,519.6389 101.6949,519.5661 37.7953,630.3357 37.7953,631.8591 102.4761,519.7414\"/>\n",
       "    <polyline points=\"98.5724,518.8653 37.7953,624.2513 37.7953,622.7277 97.7902,518.6897 98.0533,518.7488 41.1733,420.464 40.0876,420.0948 97.0651,518.527 37.7953,621.1984 37.7953,619.6764 96.2293,518.3394 96.0636,518.3022 38.963,419.7123 37.7953,419.1948 95.0633,518.0777 94.6709,517.9896 37.7953,616.6266 37.7953,615.0989 93.8918,517.8148 94.0375,517.8475 37.7953,420.7244 37.7953,422.2194 93.1173,517.6409 37.7953,613.572 37.7953,612.049 92.3414,517.4668 92.0433,517.3999 37.7953,423.6972\"/>\n",
       "    <polyline points=\"37.7953,434.2508 85.024,515.8244 85.3337,515.894 37.7953,598.3084 37.7953,599.8435 86.1138,516.0691 37.7953,432.7459 37.7953,431.2628 86.9907,516.2659 37.7953,601.377 37.7953,602.8979 87.6701,516.4184 88.0014,516.4927 37.7953,429.7306 37.7953,428.2328 89.0043,516.7178 89.2188,516.7659 37.7953,605.9404 37.7953,604.4255 88.4471,516.5928\"/>\n",
       "    <polyline points=\"91.5628,517.292 37.7953,610.5252 37.7953,608.9987 90.7774,517.1158 91.0399,517.1747 37.7953,425.209 37.7953,426.7453 90.0162,516.9449 37.7953,607.4642\"/>\n",
       "    <line x1=\"37.7953\" x2=\"95.452\" y1=\"618.1519\" y2=\"518.1649\"/>\n",
       "    <polyline points=\"84.5386,515.7155 37.7953,596.7576 37.7953,595.2422 83.7599,515.5407 84.011,515.5971 37.7953,435.7685 37.7953,437.253 83.0255,515.3759 37.7953,593.7362\"/>\n",
       "    <line x1=\"37.7953\" x2=\"74.4088\" y1=\"576.9257\" y2=\"513.442\"/>\n",
       "    <polyline points=\"77.5238,514.1411 37.7953,583.0231 37.7953,581.498 76.7473,513.9668 77.0204,514.0281 37.7953,446.281 37.7953,447.7688 76.0349,513.8069 37.7953,579.962 37.7953,578.4575 75.192,513.6178 75.028,513.5809 37.7953,449.2822 37.7953,450.7914 74.0242,513.3556 73.6313,513.2675 37.7953,575.3967 37.7953,573.8728 72.8542,513.0931 73.0292,513.1323 37.7953,452.298 37.7953,453.7992 72.0661,512.9162 37.7953,572.3256 37.7953,570.7991 71.2874,512.7414 71.0004,512.677 37.7953,455.3199\"/>\n",
       "    <polyline points=\"37.7953,465.8463 63.9971,511.1051 64.2984,511.1728 37.7953,557.0964 37.7953,558.6149 65.0725,511.3465 37.7953,464.3899 37.7953,462.8634 65.9793,511.55 65.8594,511.5231 37.7953,560.1571 37.7953,561.6779 66.63,511.6961 66.9857,511.7759 37.7953,461.3472 37.7953,459.8629 67.973,511.9975 68.1823,512.0445 37.7953,564.7118 37.7953,563.2003 67.409,511.8709\"/>\n",
       "    <polyline points=\"70.5209,512.5694 37.7953,569.2975 37.7953,567.7648 69.7419,512.3945 70.0104,512.4548 37.7953,456.8014 37.7953,458.3497 68.9833,512.2243 37.7953,566.2426\"/>\n",
       "    <line x1=\"37.7953\" x2=\"60.4038\" y1=\"549.4821\" y2=\"510.2987\"/>\n",
       "    <polyline points=\"63.5154,510.997 37.7953,555.5595 37.7953,554.0561 62.7424,510.8235 62.9852,510.878 37.7953,467.3574 37.7953,468.8564 61.9863,510.6538 37.7953,552.5389 37.7953,551.0204 61.1914,510.4754 61.0073,510.4341 37.7953,470.33 37.7953,471.8505 59.9999,510.208 59.6268,510.1243 37.7953,547.9573 37.7953,546.4189 58.841,509.9479 58.9937,509.9822 37.7953,473.3642 37.7953,474.8516 58.0597,509.7725 37.7953,544.8949 37.7953,543.3572 57.2722,509.5958 56.9979,509.5342 37.7953,476.3851\"/>\n",
       "    <polyline points=\"37.7953,486.9645 49.9391,507.9499 50.2426,508.0181 37.7953,529.5929 37.7953,531.1256 51.0251,508.1937 37.7953,485.4391 37.7953,483.9595 51.9418,508.3994 51.8017,508.368 37.7953,532.6442 37.7953,534.1733 52.5849,508.5438 52.9402,508.6235 37.7953,482.462 37.7953,480.9392 53.9573,508.8518 54.1483,508.8947 37.7953,537.2354 37.7953,538.7533 54.974,509.08 37.7953,479.4114 37.7953,477.9331 55.961,509.3015 55.7062,509.2443 37.7953,540.2893 37.7953,541.8296 56.4933,509.421\"/>\n",
       "    <line x1=\"53.3636\" x2=\"37.7953\" y1=\"508.7185\" y2=\"535.6984\"/>\n",
       "    <line x1=\"37.7953\" x2=\"46.3303\" y1=\"521.9353\" y2=\"507.14\"/>\n",
       "    <polyline points=\"49.4585,507.8421 37.7953,528.0622 37.7953,526.536 48.6794,507.6672 48.931,507.7237 37.7953,488.4823 37.7953,490.0159 47.9105,507.4946 37.7953,524.9913 37.7953,523.4656 47.1108,507.3152 46.906,507.2692 37.7953,491.5242 37.7953,493.0282 45.9063,507.0448 45.5506,506.965 37.7953,520.4106 37.7953,518.8784 44.769,506.7896 44.9145,506.8222 37.7953,494.5184 37.7953,496.0138 43.9932,506.6154 37.7953,517.3585\"/>\n",
       "    <polyline points=\"42.4314,506.2649 37.7953,514.3026 37.7953,515.8214 43.2072,506.439 42.9001,506.3701 37.7953,497.541 37.7953,499.0488 41.8971,506.145 41.6581,506.0914 37.7953,512.7888 37.7953,511.2602 40.8905,505.9191 37.7953,500.5646 37.7953,502.1125 39.862,505.6882 40.0983,505.7413 37.7953,509.7342 37.7953,508.1928 39.3112,505.5646 37.7953,505.137 37.7953,506.6764 38.5368,505.3908 38.8445,505.4598 37.7953,503.6445\"/>\n",
       "    <polyline points=\"81.4365,515.0193 37.7953,590.696 37.7953,592.2002 82.2097,515.1928 82.017,515.1496 37.7953,438.77 37.7953,440.2832 81.0241,514.9267 80.6507,514.8429 37.7953,589.1645 37.7953,587.6355 79.8689,514.6674 80.0266,514.7028 37.7953,441.7776 37.7953,443.2849 79.0839,514.4912 37.7953,586.0863 37.7953,584.5488 78.297,514.3146 78.0331,514.2554 37.7953,444.7637\"/>\n",
       "    <polyline points=\"61.8664,427.5016 117.1356,523.0316 117.3103,523.0709 53.2075,634.2047 54.0749,634.2047 118.1505,523.2594 62.9565,427.8723 65.1439,428.6162 120.1834,523.7157 120.4299,523.771 56.7267,634.2047 57.6069,634.2047 121.2146,523.9471 66.2415,428.9895 67.3239,429.3576 122.2214,524.1731 121.9906,524.1213 58.4895,634.2047 59.3764,634.2047 122.7683,524.2959\"/>\n",
       "    <polyline points=\"119.6553,523.5972 55.8449,634.2047 54.9595,634.2047 118.8732,523.4216 119.1721,523.4887 64.0459,428.2428 64.5438,428.4121 37.7953,412.9136 37.7953,412.0073 68.4304,429.7339 123.2348,524.4005 123.5644,524.4745 60.2725,634.2047 61.1493,634.2047 124.3364,524.6478 69.5339,430.1092 70.6268,430.4809 125.2597,524.855 125.1122,524.8219 62.0262,634.2047 62.9117,634.2047 125.8974,524.9981 126.2656,525.0808 71.7601,430.8663 72.0658,430.9703 37.7953,411.1116 37.7953,410.2128 76.1732,432.3672 130.3082,525.9881 130.583,526.0498 68.1941,634.2047 67.3344,634.2047 129.8033,525.8748\"/>\n",
       "    <polyline points=\"132.9151,526.5732 70.8418,634.2047 71.7201,634.2047 133.6924,526.7477 133.3317,526.6667 79.4653,433.4868 79.588,433.5285 37.7953,409.3095 37.7953,408.4213 83.2841,434.7855 82.7115,434.5908 136.3441,527.3428 136.0349,527.2734 74.3725,634.2047 75.2548,634.2047 136.8127,527.448\"/>\n",
       "    <polyline points=\"139.9478,528.1516 78.7843,634.2047 77.9076,634.2047 139.1712,527.9773 139.3968,528.028 85.9953,435.7076 84.8957,435.3336 138.3885,527.8017 77.0213,634.2047 76.1385,634.2047 137.6012,527.625 137.3654,527.572 83.8109,434.9647 81.6178,434.2188 135.3352,527.1164 73.4813,634.2047 72.6,634.2047 134.4685,526.9219 134.3285,526.8904 80.5432,433.8534 78.3633,433.112 132.2993,526.435 132.1358,526.3983 69.9577,634.2047 69.0715,634.2047 131.3534,526.2227 77.247,432.7324 75.0637,431.9899 129.284,525.7582 129.0241,525.6999 66.4472,634.2047 65.5598,634.2047 128.2929,525.5358 73.9679,431.6172 72.876,431.2458 127.2799,525.3084 127.4733,525.3518 64.6774,634.2047 63.7903,634.2047 126.6839,525.1747\"/>\n",
       "    <polyline points=\"116.5272,522.8951 52.3167,634.2047 51.4373,634.2047 115.7545,522.7217 116.1209,522.8039 60.7798,427.132 37.7953,413.8122 37.7953,414.7222 56.9791,425.8394 56.4219,425.6499 112.1153,521.9049 111.856,521.8467 47.0277,634.2047 47.9086,634.2047 112.6296,522.0203\"/>\n",
       "    <polyline points=\"143.8315,529.0233 83.1964,634.2047 84.081,634.2047 144.6128,529.1987 144.4343,529.1586 91.4283,437.5553 92.8843,436.7757 37.7953,404.843 37.7953,405.7317 92.4322,437.4031 92.5903,437.1836 102.0039,437.1675 347.9852,436.9928 347.7601,437.33 386.2402,503.7718 385.944,503.6985 310.4706,634.2047 309.5886,634.2047 385.1817,503.5099 347.2767,438.0543 347.473,437.7602 92.5364,437.9322 145.4389,529.3841 84.9612,634.2047 85.8436,634.2047 146.1779,529.5499 146.4404,529.6089 93.6311,438.3045 95.8304,439.0524 148.5135,530.0741 88.4769,634.2047 89.3522,634.2047 149.296,530.2498 149.4773,530.2905 96.9277,439.4256 346.4348,439.3157 346.3021,439.5145 383.034,502.9785 382.8572,502.9348 306.9203,634.2047 306.0212,634.2047 382.0792,502.7423 350.9142,449.1093 345.8143,440.2454 345.9204,440.0864 99.1249,440.1729 151.6311,530.7739 92.0052,634.2047 92.8959,634.2047 152.5119,530.9715 100.2273,440.5478 102.4107,441.2904 154.5048,531.4188 154.7667,531.4776 95.5396,634.2047 96.4257,634.2047 155.5433,531.6519 103.5129,441.6652 103.9233,441.8048 344.8916,441.6277 349.5401,449.9026 379.8374,502.1877 303.3637,634.2047 302.4714,634.2047 378.9816,501.9759 378.7684,501.9232 344.3807,442.3932 106.1737,442.5701 105.6658,442.3974 157.5303,532.0979 157.8761,532.1755 99.0587,634.2047 99.9365,634.2047 158.6597,532.3514 106.7565,442.7683 108.9151,443.5024 160.5338,532.772 160.2125,532.6999 101.7006,634.2047 100.8203,634.2047 159.5287,532.5464 107.8174,443.1291 108.4618,443.3483 343.8677,443.1617 377.7227,501.6645 377.4203,501.5897 300.6731,634.2047 299.8001,634.2047 376.6512,501.3994 343.3732,443.9026 110.7171,444.1153 110.0078,443.8741 161.5263,532.9948 161.7796,533.0516 103.4663,634.2047 102.5843,634.2047 160.9994,532.8765\"/>\n",
       "    <polyline points=\"164.1349,533.5802 106.1156,634.2047 106.9901,634.2047 164.912,533.7547 164.5619,533.6761 113.2985,444.9932 112.9584,444.8775 239.3553,444.8601 239.391,444.6909 342.8868,444.6313 375.59,501.1369 375.8783,501.2082 298.9098,634.2047 298.0295,634.2047 375.1058,501.017\"/>\n",
       "    <line x1=\"378.1955\" x2=\"301.572\" y1=\"501.7815\" y2=\"634.2047\"/>\n",
       "    <polyline points=\"289.1121,634.2047 196.1303,473.1636 193.9516,472.4227 287.3575,634.2047 288.2358,634.2047 199.797,481.0042 195.0464,472.795 194.8733,472.7361 233.4823,472.7005 309.9089,605.1557 309.461,605.8951 233.2481,473.8107 233.3097,473.5189 197.1423,473.5078 289.9859,634.2047 290.8591,634.2047 198.3195,473.9082 200.5085,474.6526 292.6807,634.2047 300.6562,620.4314 300.5044,620.682 220.1954,481.348 219.8951,481.2458 231.6779,481.2542 231.6034,481.6074 306.3204,611.0801 305.8712,611.8218 231.3717,482.7056 224.4564,482.7971 302.2943,617.7269 302.7407,616.99 225.6269,483.1952 227.7972,483.9333 303.6345,615.5143 303.1889,616.2501 226.7077,483.5627 231.1888,483.5729 231.1379,483.8141 305.4249,612.5586 304.9734,613.304 230.9031,484.9272 231.0283,484.3337 228.888,484.3043 304.0813,614.7767 304.5279,614.0395 229.9926,484.6799\"/>\n",
       "    <polyline points=\"231.5155,482.024 222.1682,482.0189 222.3931,482.0954 301.394,619.2134 300.9489,619.9482 221.2959,481.7222 223.4435,482.4526 301.8438,618.4708\"/>\n",
       "    <polyline points=\"300.0589,621.4175 219.0756,480.9671 216.8841,480.2218 299.1702,622.8847 299.6108,622.1573 217.9771,480.5935 217.6299,480.4755 231.8421,480.4757 306.7711,610.336 307.2177,609.5987 232.0754,479.3702 232.0036,479.7102 215.3541,479.7015 214.6795,479.472 298.2732,624.3656 298.7214,623.6257 215.7831,479.8474\"/>\n",
       "    <polyline points=\"209.2225,477.6162 296.0313,628.0668 295.5872,628.8001 208.1509,477.2517 208.5152,477.3756 232.4941,477.3851 232.5423,477.1566 308.113,608.1207 307.6647,608.8607 232.3318,478.1547 210.7846,478.1474 210.3281,477.9922 296.4836,627.3201 296.9302,626.5828 211.4381,478.3697 213.5817,479.0987 297.829,625.0989 297.3803,625.8398 212.5089,478.7338 213.0705,478.9249 232.1674,478.9337 232.6579,476.6085 205.9779,476.5127 294.6907,630.2801 295.1383,629.5412 207.0673,476.8832 204.8836,476.1405 294.2487,631.0099 293.8033,631.7453 203.781,475.7656 232.8194,475.843 232.7774,476.0421 308.5611,607.3808 309.0095,606.6407 233.0111,474.9342 232.9838,475.0638 201.5981,475.0232 292.9085,633.2224 293.3579,632.4805 202.6706,475.3879\"/>\n",
       "    <polyline points=\"241.1786,467.8825 315.2762,596.2947 315.7229,595.5572 242.1977,468.1347 243.2056,468.384 316.1718,594.8161 316.6134,594.0869 244.2258,468.6364 243.9246,468.5619 326.8993,468.5841 326.7447,468.8157 340.4297,492.4379 339.9693,492.324 358.6484,524.6895 359.0918,523.9575 340.9762,492.5732 341.4818,492.6982 327.2269,468.0933 327.4154,467.8109 240.789,467.7861 240.1672,467.6323 314.832,597.028 314.3814,597.7719 239.1552,467.3819 238.1227,467.1265 313.9349,598.5091\"/>\n",
       "    <polyline points=\"319.7453,588.9164 251.3384,470.3961 252.3586,470.6485 320.1888,588.1843 320.6395,587.4401 253.2755,470.8754 325.3644,470.8837 325.2831,471.0055 337.2422,491.6493 336.9059,491.5661 357.3025,526.9115 357.749,526.1744 337.9239,491.818 338.3118,491.914 325.7745,470.2693 325.875,470.1187 250.1784,470.1091 250.3232,470.145 319.2988,589.6535 318.8489,590.3963 249.311,469.8945 248.2983,469.644 318.3966,591.143 317.953,591.8753 247.2854,469.3934 247.0911,469.3453 326.3851,469.3545 326.2569,469.5465 339.3612,492.1736 338.944,492.0704 358.1977,525.4336\"/>\n",
       "    <polyline points=\"361.7799,519.5196 347.0959,494.0872 346.7766,494.0082 329.6574,464.4518 329.4791,464.7189 235.1711,464.6951 235.1066,465.0009 172.0943,464.9892 269.9011,634.2047 269.0275,634.2047 218.0272,545.9645 217.794,547.0699 268.157,634.2047 267.2871,634.2047 217.5612,548.1734 217.6245,547.8734 167.8079,634.2047 166.9252,634.2047 218.0185,545.674 171.114,464.6558 168.9213,463.91 215.9467,545.209 215.6818,545.1495 164.2817,634.2047 163.3969,634.2047 214.9443,544.984 167.8306,463.5391 167.5125,463.4309 235.4344,463.4469 235.4942,463.1635 330.5075,463.1783 330.6155,463.0163 348.8744,494.5272 349.1376,494.5923 362.6749,518.0419 362.2297,518.777 348.1221,494.3411 347.8193,494.2662 330.135,463.7363 329.9952,463.9458 235.3335,463.9254 235.2699,464.2267 169.8084,464.2117 170.0219,464.2844 216.9573,545.4358 217.2404,545.4993 166.0406,634.2047 165.1602,634.2047 216.4582,545.3238\"/>\n",
       "    <polyline points=\"213.3327,544.6223 161.6354,634.2047 162.5155,634.2047 214.1126,544.7973 213.9345,544.7573 166.7468,463.1705 165.656,462.7995 212.9282,544.5315 212.5555,544.4478 160.748,634.2047 159.8609,634.2047 211.7752,544.2727 211.9302,544.3075 164.5904,462.4372 165.2169,462.6502 235.5988,462.6674 235.6567,462.3929 331.0241,462.4042 331.1001,462.2903 363.124,517.3006 363.5688,516.5662 331.5788,461.5732 235.8209,461.6145 235.763,461.8892 162.9031,461.8633 162.4178,461.6983 209.9019,543.8523 210.2103,543.9215 158.1007,634.2047 158.9857,634.2047 210.9984,544.0984 163.5081,462.0691\"/>\n",
       "    <polyline points=\"111.0977,444.2447 162.5664,533.2282 104.3534,634.2047 105.2377,634.2047 163.3481,533.4036 163.5468,533.4482 112.2133,444.6241 114.3904,445.3645 165.6988,533.9312 107.8714,634.2047 108.7491,634.2047 166.5774,534.1284 115.4737,445.733 115.2416,445.654 239.192,445.6344 239.2292,445.4579 342.3228,445.4764 342.3935,445.3704 374.5102,500.8697 374.3365,500.8267 297.1314,634.2047 296.2538,634.2047 373.5672,500.6364 341.9109,446.0934 341.8046,446.2528 239.0643,446.2394 239.0296,446.4039 117.5026,446.423 117.6507,446.4734 168.6126,534.5852 168.8234,534.6325 111.3832,634.2047 110.5049,634.2047 168.0449,534.4578\"/>\n",
       "    <polyline points=\"157.0955,532.0003 98.1746,634.2047 97.2982,634.2047 156.3174,531.8257 156.5187,531.8708 104.5919,442.0321\"/>\n",
       "    <polyline points=\"98.026,439.7992 150.493,530.5184 150.8542,530.5995 91.1127,634.2047 90.2346,634.2047 150.0729,530.4241\"/>\n",
       "    <polyline points=\"146.9595,529.7254 86.7138,634.2047 87.5965,634.2047 147.7362,529.8997 147.4559,529.8368 94.719,438.6745 346.9544,438.5373 346.7921,438.7804 352.2801,448.3207 384.1067,503.2439 384.4048,503.3177 308.6882,634.2047 307.802,634.2047 383.6329,503.1267 381.3035,502.5504 305.137,634.2047 304.2595,634.2047 380.5351,502.3603 380.8951,502.4494 350.2281,449.5054 345.3241,440.9797 345.4059,440.8572 240.2048,440.8331 240.1762,440.9688 101.6692,441.0382 101.3105,440.9162 153.4949,531.1922 153.2028,531.1266 93.7776,634.2047 94.6567,634.2047 153.9819,531.3015\"/>\n",
       "    <polyline points=\"217.3269,549.284 266.4084,634.2047 265.5236,634.2047 217.119,550.2695 168.6889,634.2047 169.5668,634.2047 216.6267,552.6032 263.7911,634.2047 264.6521,634.2047 216.8569,551.512 216.3938,553.7072 262.9208,634.2047\"/>\n",
       "    <line x1=\"256.7965\" x2=\"214.7542\" y1=\"634.2047\" y2=\"561.4799\"/>\n",
       "    <polyline points=\"215.9239,555.9351 261.1757,634.2047 262.0468,634.2047 216.1589,554.8211 170.4526,634.2047 171.3408,634.2047 215.5939,557.4991 215.6931,557.0288 260.3066,634.2047 259.4327,634.2047 215.4611,558.1286 215.2238,559.2536 258.5533,634.2047 257.6787,634.2047 214.9901,560.3615 215.0839,559.9168 172.2228,634.2047 173.1074,634.2047 214.5737,562.3357 214.5203,562.5887 255.9184,634.2047 255.0407,634.2047 214.2841,563.7082 213.8175,565.9203 253.2902,634.2047 254.166,634.2047 214.0627,564.7576 173.9862,634.2047 174.8744,634.2047 213.5834,567.0299 252.4108,634.2047 251.5315,634.2047 213.3472,568.1497 212.8793,570.3675 249.7796,634.2047 250.6531,634.2047 213.1123,569.263 213.0428,569.5925 175.7578,634.2047 176.6437,634.2047 212.5374,571.9884 212.6425,571.4902 248.8966,634.2047 248.019,634.2047 212.4088,572.5981 212.1733,573.7143 247.1333,634.2047\"/>\n",
       "    <polyline points=\"233.9875,634.2047 208.6586,590.3753 208.1907,592.5935 232.2397,634.2047 233.1129,634.2047 208.424,591.4875 208.474,591.2504 183.7004,634.2047 182.8181,634.2047 208.9815,588.845 208.8949,589.2553 234.8693,634.2047 235.7493,634.2047 209.1291,588.145 209.3644,587.0297 236.6249,634.2047 237.4941,634.2047 209.5967,585.9284 209.4869,586.4493 181.9415,634.2047 181.0662,634.2047 209.9901,584.0634 210.0652,583.7079 239.25,634.2047 238.3779,634.2047 209.8325,584.8106 210.3007,582.5911 240.1301,634.2047 242.7597,634.2047 211.015,579.2052 179.2868,634.2047 180.1797,634.2047 210.5338,581.4865 241.0071,634.2047 241.8809,634.2047 210.7687,580.373 211.2343,578.1657 243.6265,634.2047 244.4985,634.2047 211.4682,577.0571 211.5237,576.7936 178.4013,634.2047 177.5207,634.2047 212.0325,574.3818 211.9372,574.8337 246.251,634.2047 245.3744,634.2047 211.7029,575.9443\"/>\n",
       "    <polyline points=\"207.7207,594.8214 230.4788,634.2047 231.37,634.2047 207.9688,593.6455 184.5795,634.2047 185.4558,634.2047 207.4861,595.9339 229.598,634.2047 228.7257,634.2047 207.2535,597.0361 206.7835,599.2645 226.9716,634.2047 227.8531,634.2047 207.0199,598.1437 206.9498,598.4758 186.3465,634.2047 187.2262,634.2047 206.4415,600.8854 206.5487,600.3772 226.0907,634.2047 225.2176,634.2047 206.315,601.4852 206.0818,602.5905 224.3441,634.2047 223.4729,634.2047 205.8499,603.6901 205.934,603.2915 188.1086,634.2047 188.9955,634.2047 205.4225,605.7158 205.3829,605.9039 221.73,634.2047 220.8676,634.2047 205.1515,607.0006 205.6166,604.7958 222.6026,634.2047 219.9887,634.2047 204.9164,608.115 189.8781,634.2047 190.7619,634.2047 204.4474,610.3386 218.2362,634.2047 219.108,634.2047 204.6805,609.2334 204.2137,611.446 217.3636,634.2047 216.4952,634.2047 203.9812,612.5485 203.8963,612.9509 191.645,634.2047 192.5343,634.2047 203.3835,615.3819 203.2765,615.889 213.8588,634.2047 212.979,634.2047 203.0411,617.0049 202.5724,619.2268 211.2251,634.2047 212.1075,634.2047 202.8081,618.1092 202.8778,617.7788 193.4083,634.2047 194.2862,634.2047 202.3712,620.1807 202.3398,620.3293 210.3549,634.2047 209.4884,634.2047 202.108,621.4281 201.6392,623.6504 207.7363,634.2047 208.6114,634.2047 201.8734,622.5401 195.1598,634.2047 196.0423,634.2047 201.4023,624.7733 206.8503,634.2047 205.9693,634.2047 201.1667,625.8904 200.701,628.098 204.2293,634.2047 205.0948,634.2047 200.9325,627.0004 200.8455,627.4128 196.9295,634.2047 197.812,634.2047 200.3364,629.8263 200.2342,630.311 202.4844,634.2047 203.352,634.2047 200.4663,629.2105 199.9987,631.427 201.6042,634.2047 200.7261,634.2047 199.7639,632.5404 199.8249,632.2512 198.6986,634.2047 199.5282,633.6575 199.8446,634.2047\"/>\n",
       "    <polyline points=\"203.5127,614.7693 214.742,634.2047 215.6208,634.2047 203.7475,613.6564\"/>\n",
       "    <polyline points=\"245.2495,468.8897 317.057,593.3546 317.5063,592.6129 246.2612,469.14\"/>\n",
       "    <polyline points=\"263.5488,473.4171 325.1141,580.0527 325.5574,579.321 264.5622,473.6678\"/>\n",
       "    <polyline points=\"292.0528,480.4692 337.6188,559.4081 338.0677,558.6671 293.0785,480.7229\"/>\n",
       "    <polyline points=\"310.3906,485.0061 345.6723,546.1123 346.1162,545.3795 311.4014,485.2561\"/>\n",
       "    <polyline points=\"317.5206,486.7701 348.7992,540.9499 348.3569,541.6802 316.5112,486.5203 317.0004,486.6414 315.9998,484.9139 316.1096,484.7494 309.354,484.7496 345.2247,546.8514 344.7737,547.5958 308.3455,484.5001 307.3157,484.2453 344.3222,548.3413 343.8808,549.07 306.2468,483.9809 316.6228,483.9805 316.4963,484.1701 318.0819,486.909 318.5415,487.0226 349.2488,540.2078 349.6905,539.4786 319.5489,487.2719 319.1503,487.1733 316.9865,483.4357 317.1296,483.2213 303.1808,483.2223 342.5461,551.2736 342.0927,552.022 302.2352,482.9884 301.2259,482.7386 341.6515,552.7505 340.7593,554.2234 299.1988,482.2371 298.1745,481.9837 340.3102,554.9648 339.8683,555.6944 297.1608,481.7329 296.9766,481.6873 318.1536,481.6871 317.968,481.965 321.2883,487.7022 321.5869,487.7761 350.5831,538.0049 350.1375,538.7405 320.57,487.5245 320.2292,487.4402 317.4816,482.6938 317.6424,482.453 300.0709,482.4529 300.2094,482.4872 341.2041,553.4891 294.4646,634.2047 295.3611,634.2047 361.3366,520.2514 346.0734,493.8342 345.7111,493.7446 329.1693,465.1831 328.9626,465.4928 235.0082,465.467 234.9436,465.7737 174.373,465.7641 271.6552,634.2047 270.7768,634.2047 173.3291,465.4091 175.5079,466.1501 272.5409,634.2047 273.4194,634.2047 176.6298,466.5317 234.7803,466.5478 234.8455,466.2384 328.4441,466.2696 328.685,465.9087 344.6504,493.4822 345.0626,493.5842 360.8874,520.9931 360.4389,521.7335 344.0417,493.3316 343.5865,493.219 328.1978,466.6386\"/>\n",
       "    <line x1=\"366.4761\" x2=\"370.2833\" y1=\"498.882\" y2=\"505.4809\"/>\n",
       "    <polyline points=\"412.3336,510.2275 340.5674,634.2047 341.4641,634.2047 413.1198,510.422 412.9593,510.3823 360.0563,418.9077 359.8168,419.2665 105.4225,419.38 105.5974,419.1373 37.7953,379.7557 37.7953,378.8568 106.0571,418.4995 105.9759,418.6122 360.332,418.4947 360.5511,418.1664 414.0445,510.6507 413.9006,510.6151 342.3793,634.2047 343.2494,634.2047 414.6831,510.8088\"/>\n",
       "    <polyline points=\"417.8085,511.582 346.7773,634.2047 345.8913,634.2047 417.0224,511.3875 417.2918,511.4542 362.0379,415.9389 361.8819,416.1726 107.6535,416.2846 107.4295,416.5954 37.7953,376.1377 37.7953,377.0468 106.9711,417.2315 107.0921,417.0635 159.5931,416.9858 361.3633,416.9496 361.5438,416.6791 416.2417,511.1943 345.0087,634.2047 344.1308,634.2047 415.4677,511.0029 415.1231,510.9176 361.0474,417.4228 360.8496,417.7192 106.5102,417.8709 37.7953,377.9537\"/>\n",
       "    <polyline points=\"37.7953,368.0603 111.5492,410.8796 365.501,410.7503 378.3366,433.2769 424.7906,513.3094 354.7601,634.2047 355.6362,634.2047 425.5569,513.499 425.8415,513.5694 379.0381,432.8719 365.9474,410.0816 366.0228,409.9686 159.5931,410.0049 112.1258,410.0796 112.0069,410.2446 37.7953,367.1612 37.7953,366.2643 112.4673,409.6058 112.6865,409.3017 366.5399,409.1938 366.4414,409.3414 379.7267,432.4743 426.8983,513.8309 427.0986,513.8804 357.3798,634.2047 356.5109,634.2047 426.335,513.6915\"/>\n",
       "    <polyline points=\"347.9114,542.4156 315.4919,486.2682 315.9339,486.3775 315.5107,485.6467 315.5924,485.5243 312.4302,485.5107 346.5685,544.6327 347.0149,543.8959 313.4494,485.7628 314.4669,486.0146 347.4601,543.1608\"/>\n",
       "    <polyline points=\"442.2047,413.9449 429.6603,392.1781 430.7702,392.5067 442.2047,412.3463\"/>\n",
       "    <polyline points=\"442.2047,398.2619 440.5602,395.4053 439.4628,395.0804 442.2047,399.8426 442.2047,401.4004 438.3807,394.7601 320.989,327.2839 320.8669,327.4531 219.4329,327.3832 219.3583,327.7351 211.9872,327.7288 212.9446,328.0123 171.2951,327.9866 171.1955,328.1248 127.2584,302.6421 128.0718,302.8829 224.6281,302.8646 224.6824,302.6082 338.7177,302.7183 442.2047,362.359 442.2047,363.2517 338.2597,303.3529 338.1371,303.5227 224.5195,303.3768 224.4638,303.6398 130.4063,303.5741 171.654,327.4887 171.8539,327.2113 210.3304,327.2383 209.3159,326.9379 219.5256,326.9459 219.6037,326.5773 321.4476,326.6484 441.6586,395.7306 442.2047,396.6816\"/>\n",
       "    <polyline points=\"442.2047,380.1073 329.6319,315.308 329.7774,315.1063 222.0583,314.9924 221.9994,315.2707 169.8617,315.2562\"/>\n",
       "    <polyline points=\"176.6593,320.5443 165.0916,313.8439 164.6448,313.7116 222.3268,313.7255 222.3865,313.4439 330.893,313.5606 330.9968,313.4167 442.2047,377.437 442.2047,376.5542 331.4523,312.7855 222.5497,312.6734 222.4907,312.9517 161.9062,312.9007 176.2011,321.18 176.3357,320.9933 189.2677,321.002 188.2618,320.7042 220.8438,320.7244 220.9132,320.3971 325.8933,320.4884 325.9949,320.3476 442.2047,387.2266 442.2047,388.0991 325.5336,320.9867 325.3366,321.2598 220.7492,321.1707 220.6785,321.5045 190.9076,321.4875 191.8952,321.78 175.7407,321.8187 158.7112,311.9547 159.4066,312.1606 222.6558,312.173 222.7107,311.9137 331.9917,312.0381 331.9081,312.154 355.3565,325.6946 442.2047,375.6696 442.2047,374.7864 332.362,311.525 332.5478,311.2676 222.8751,311.1378 222.8201,311.3971 156.7809,311.3832\"/>\n",
       "    <polyline points=\"164.3643,337.6026 79.9847,288.6452 80.1547,288.6955 80.0351,226.7416 80.1326,127.3175 79.9514,127.2226 79.9642,37.7953 80.7377,37.7953 80.9088,284.4069 80.9286,288.9247 81.7114,289.1564 81.5121,37.7953\"/>\n",
       "    <polyline points=\"68.3384,37.7953 68.3228,121.1297 68.5207,121.2335 68.4086,226.7416 68.5356,285.2553 69.3163,285.4865 69.1856,226.7416 69.2962,121.6398 69.1025,121.5383 69.1155,37.7953 69.8868,37.7953 69.8755,121.9433 70.0744,122.0475 69.9562,226.7416 70.0891,285.7152\"/>\n",
       "    <polyline points=\"86.5614,282.722 228.9027,282.6906 228.9364,282.5313 353.246,282.5872 442.2047,333.8602 442.2047,332.9644 353.7333,281.912 229.0986,281.7659 229.0679,281.9111 87.0777,281.9466 86.9239,37.7953 87.6962,37.7953 87.8511,280.7851 87.5895,281.1779 229.2348,281.1234 229.2626,280.992 354.2817,281.1521 354.1555,281.327 442.2047,332.0773 442.2047,331.1937 354.6134,280.6925 354.8419,280.3759 229.4258,280.2218 229.3989,280.3487 88.0981,280.4143\"/>\n",
       "    <polyline points=\"89.6781,278.0416 229.9165,277.9059 356.5055,278.0707 356.4408,278.1604 442.2047,327.6104 442.2047,328.5246 355.9747,278.8062 229.7531,278.6769 229.7297,278.7873 89.1494,278.8355 89.411,278.4427 89.2362,37.7953 88.4633,37.7953 88.6223,279.6271 229.5641,279.5689 229.5913,279.4405 355.3995,279.6033 355.5197,279.4367 442.2047,329.4053 442.2047,330.286 355.072,280.057\"/>\n",
       "    <polyline points=\"360.0825,273.1143 442.2047,320.458 442.2047,319.5661 360.5345,272.488 360.3766,272.7068 231.0583,272.5172 93.2697,272.6481 93.2748,134.2035 93.1074,134.1157 93.104,37.7953 93.8785,37.7953 94.0426,271.4875 93.8184,271.8241 360.989,271.8582 442.2047,318.6737 442.2047,317.7775 361.4903,271.1635 231.3815,270.9918 94.332,271.0528\"/>\n",
       "    <polyline points=\"95.8977,268.7016 231.8758,268.659 363.1677,268.8393 363.2543,268.7193 442.2047,314.2208 442.2047,315.0947 362.8071,269.339 362.6139,269.6067 231.712,269.4323 95.3773,269.4831 95.5961,269.1546 95.4313,37.7953 94.6521,37.7953 94.8226,270.3161 231.5452,270.2195 362.0504,270.3874 361.8944,270.6037 442.2047,316.8904 442.2047,315.9946 362.3469,269.9766\"/>\n",
       "    <polyline points=\"365.0813,266.1878 442.2047,310.6502 442.2047,309.7817 365.5327,265.5622 365.4057,265.7382 232.5336,265.5543 97.9129,265.6754 97.928,136.6415 97.7427,136.5444 97.7549,37.7953 98.5305,37.7953 98.5197,136.9515 98.706,137.0492 98.6903,264.5081 98.4829,264.8196 365.9892,264.9297 442.2047,308.8835 442.2047,307.9869 366.4374,264.3086 366.5224,264.1909 200.5705,264.0004 98.9932,264.0532\"/>\n",
       "    <polyline points=\"102.1122,259.3695 369.8659,259.558 370.0851,259.2543 442.2047,300.8764 442.2047,299.9901 370.5401,258.6238 370.426,258.7819 145.8969,258.5515 102.6305,258.5911 102.5518,258.7093 102.5915,139.0849 102.3818,138.9751 102.4004,37.7953 103.1756,37.7953 103.1592,139.3824 103.3621,139.4887 103.3244,257.5491 103.1449,257.8187 370.991,257.999 442.2047,299.1064 442.2047,298.2214 371.4384,257.3791 371.5362,257.2435 103.6663,257.0357\"/>\n",
       "    <polyline points=\"111.4237,245.3864 200.5705,245.3631 379.8764,245.687 380.0755,245.4111 442.2047,281.2728 442.2047,280.3755 380.5345,244.7752 380.4232,244.9293 145.8969,244.569 111.9423,244.6076 111.8213,244.7894 111.8618,143.9422 111.679,143.8464 111.6838,37.7953 112.4612,37.7953 112.4572,144.2541 112.6355,144.3476 112.5995,243.6208 112.459,243.8317 200.5705,243.8001 380.9896,244.1445 442.2047,279.4805 442.2047,278.5994 381.4395,243.521 381.5414,243.3799 200.5705,243.0207 112.9818,243.0467\"/>\n",
       "    <polyline points=\"44.486,278.1346 44.4797,108.6371 44.3063,108.5463 44.3232,37.7953 43.5469,37.7953 43.5298,108.1394 43.6986,108.2278 43.7022,277.9025 42.9354,277.6755 42.924,107.822 42.7547,107.7333 42.7722,37.7953\"/>\n",
       "    <line x1=\"37.7953\" x2=\"147.5294\" y1=\"297.3277\" y2=\"360.9598\"/>\n",
       "    <polyline points=\"149.8225,357.7783 37.7953,292.8519 37.7953,291.9447 150.279,357.145 150.0952,357.3999 257.7869,357.4866 257.7502,357.6603 312.9631,357.626 314.0105,357.9362 303.3178,351.77\"/>\n",
       "    <polyline points=\"302.5135,354.5321 152.3299,354.2995 152.5391,354.0093 37.7953,287.4635 37.7953,286.5666 152.9917,353.3813 152.8875,353.5259 258.6024,353.6209 258.5668,353.7894 301.9562,353.6566 304.464,355.1096 305.108,355.3003 159.5931,355.0765 151.766,355.0819 151.6338,355.2652 37.7953,289.2582 37.7953,288.3661 152.0899,354.6325\"/>\n",
       "    <polyline points=\"154.8141,350.8528 37.7953,282.9767 37.7953,282.0885 155.2651,350.2271 155.1166,350.4332 259.2565,350.5199 259.2142,350.7203 289.5622,350.6975 289.1123,350.5642 304.2156,350.5259 320.6984,359.9164 257.266,359.9559 257.2997,359.7958 148.4159,359.7299 37.7953,295.5313 37.7953,296.4457 147.9821,360.3318 147.8534,360.5103 323.4287,360.7247 304.6667,349.9008 304.7366,349.804 259.3774,349.9471 259.4194,349.7477 155.6769,349.6558 37.7953,281.2001 37.7953,280.314 156.1756,348.9639 259.5812,348.981 259.5409,349.1719 305.2901,349.037 305.124,349.2672 326.6325,361.6733 325.8737,361.4487 256.9413,361.495 256.9707,361.3557 217.1822,361.2949 147.2961,361.2835 147.0764,361.5883 37.7953,298.2378 37.7953,299.1448 146.6081,362.238 146.7383,362.0574 159.5931,362.0451 256.8073,362.1304 256.7788,362.2656 328.4578,362.2138 329.8251,362.6186 305.5799,348.6355\"/>\n",
       "    <polyline points=\"310.5657,341.7269 364.8845,372.9991 159.5931,372.8872 138.8529,372.9977 37.7953,314.3338 37.7953,313.4382 139.3094,372.3645 139.4777,372.1309 159.5931,372.1073 254.67,372.2618 362.099,372.1743 310.1184,342.3468 310.3199,342.0675 161.2711,341.8942 161.1789,342.0221 57.6779,282.0405 57.5625,226.7416 57.6661,115.5461 57.4748,115.4459 57.4861,37.7953 58.2609,37.7953 58.2476,115.8508 58.4339,115.9485 58.3288,226.7416 58.4432,282.2671 59.2172,282.4963 59.1059,226.7416 59.2057,116.3528 59.0245,116.2579 59.0351,37.7953 59.8157,37.7953 59.7971,116.6627 59.9813,116.7592 59.8761,226.7416 59.9857,282.7238 60.7644,282.9544 60.664,226.7416 60.7669,117.1708 60.5665,117.0658 60.5816,37.7953 61.3543,37.7953 61.3401,117.4712 61.5392,117.5755 61.4269,226.7416 61.5279,283.1804 61.1589,283.0712 161.6302,341.396 161.8226,341.1291 310.8746,341.2988 311.0272,341.0875 368.1031,373.9521 367.3048,373.7157 254.3437,373.8085 138.3573,373.6855 37.7953,315.2373 37.7953,316.1272 137.9403,374.2639 137.7979,374.4615 254.1807,374.5817 369.9075,374.4863 371.2773,374.8919 311.4837,340.4549 162.3852,340.3484 162.5383,340.1361 67.4102,284.9221 67.7632,285.0266 67.6367,226.7416 67.7571,120.8333 67.5423,120.7208 67.5581,37.7953 66.7894,37.7953 66.7723,120.3174 66.984,120.4283 66.8621,226.7416 66.9848,284.7961 66.2119,284.5673 66.2111,284.4069 66.0874,226.7416 66.2026,120.0189 65.9985,119.9119 66.0133,37.7953 65.2388,37.7953 65.2225,119.5053 65.4333,119.6158 65.3059,226.7416 65.4256,284.3345 63.8681,283.8733 63.7639,226.7416 63.8891,118.8067 63.6728,118.6934 63.6885,37.7953 62.9103,37.7953 62.8981,118.2875 63.102,118.3943 62.9789,226.7416 63.0844,283.6413 62.3071,283.4111 62.2036,226.7416 62.3222,117.9857 62.1196,117.8796 62.1334,37.7953 64.4637,37.7953 64.4483,119.0997 64.6573,119.2092 64.5299,226.7416 64.639,284.1016 64.3151,284.0057 162.0859,340.7638\"/>\n",
       "    <line x1=\"144.7819\" x2=\"37.7953\" y1=\"364.7717\" y2=\"302.7167\"/>\n",
       "    <polyline points=\"37.7953,300.0467 146.146,362.8792 331.0313,362.9757\"/>\n",
       "    <polyline points=\"356.8994,370.6348 254.9949,370.7219 140.5904,370.5872 140.6833,370.4582 37.7953,310.7376\"/>\n",
       "    <line x1=\"37.7953\" x2=\"137.4949\" y1=\"317.0009\" y2=\"374.8818\"/>\n",
       "    <polyline points=\"97.8756,429.8507 37.7953,395.0236 37.7953,395.9137 97.4244,430.4767 97.6044,430.227 352.6076,430.0674 352.6749,429.9666 396.9512,506.4217 396.805,506.3856 322.8545,634.2047 321.9645,634.2047 396.0381,506.1958 395.8891,506.159 352.1804,430.7075 352.0919,430.8401 242.314,430.8345 242.2884,430.9558 159.5931,430.9308 97.0461,431.0016 96.9691,431.1084 37.7953,396.8084 37.7953,397.6934 96.4934,431.7684 351.5809,431.6057 351.6911,431.4406 394.8324,505.8975 394.4741,505.8089 320.1816,634.2047 319.2999,634.2047 393.7581,505.6317 351.1968,432.1812 351.0682,432.3738 95.9279,432.553 96.0649,432.3629 37.7953,398.5854 37.7953,399.4702 95.6115,432.9921\"/>\n",
       "    <polyline points=\"89.2605,436.8181 142.4284,528.7084 142.2782,528.6747 81.4295,634.2047 82.31,634.2047 143.0525,528.8485 143.4369,528.9347 90.3459,437.1872 90.723,437.3154 37.7953,406.6333 37.7953,407.5383 87.076,436.0751 140.4168,528.2569 140.7241,528.3259 79.6725,634.2047 80.5466,634.2047 141.5005,528.5001 88.1668,436.4461\"/>\n",
       "    <polyline points=\"322.8052,324.7673 442.2047,393.4455 442.2047,392.5575 323.2599,324.1372 323.1071,324.349 220.0964,324.2516 220.0204,324.6105 201.4077,324.5964 202.4366,324.9011 173.4705,324.9685 142.9825,307.2977 143.6915,307.5077 223.642,307.5185 223.6978,307.2551 335.3548,307.3781 335.5355,307.1277 442.2047,368.6068 442.2047,369.4738 335.0798,307.7591\"/>\n",
       "    <line x1=\"332.813\" x2=\"442.2047\" y1=\"310.9001\" y2=\"373.8976\"/>\n",
       "    <line x1=\"442.2047\" x2=\"337.8103\" y1=\"364.1267\" y2=\"303.9756\"/>\n",
       "    <line x1=\"340.0899\" x2=\"442.2047\" y1=\"300.817\" y2=\"359.6611\"/>\n",
       "    <polyline points=\"418.051,244.5452 362.8292,149.0314 427.2018,37.7953 426.3011,37.7953 362.1114,148.8708 361.8067,148.8027 416.9448,244.1691 414.7227,243.4135 359.7166,148.3352 423.6215,37.7953 422.748,37.7953 358.9237,148.1579 358.738,148.1164 413.6157,243.0371 412.4793,242.6507 357.7115,147.8868 357.3279,147.801 420.9476,37.7953 421.8464,37.7953 358.1241,147.9791\"/>\n",
       "    <polyline points=\"329.4082,141.5566 389.4491,37.7953 388.5418,37.7953 328.6059,141.3772 328.9851,141.462 381.3294,232.0591\"/>\n",
       "    <polyline points=\"442.2047,196.6277 422.429,162.3611 422.6923,162.4199 442.2047,128.6192 442.2047,130.1661 423.4528,162.59 442.2047,195.0796 442.2047,193.5351 424.4834,162.8205 424.2841,162.776 442.2047,131.733 442.2047,133.3015 425.0884,162.9558\"/>\n",
       "    <polyline points=\"429.0366,163.8389 442.2047,141.0347 442.2047,142.5881 429.8308,164.0165 429.6141,163.968 442.2047,185.7898 442.2047,187.3207 428.6003,163.7413 428.2384,163.6603 442.2047,139.4699 442.2047,137.9261 427.4507,163.4842 442.2047,188.873 442.2047,190.4258 426.5467,163.282 426.664,163.3082 442.2047,136.3848 442.2047,134.8617 425.8858,163.1342 425.5199,163.0524 442.2047,191.9785\"/>\n",
       "    <polyline points=\"442.2047,181.1586 432.6838,164.6546 433.0142,164.7285 442.2047,148.8186 442.2047,150.3857 433.8157,164.9077 433.709,164.8839 442.2047,179.6155 442.2047,178.0761 434.6119,165.0858 442.2047,151.9427 442.2047,153.5136 435.4156,165.2656 435.7457,165.3394 442.2047,176.5385 442.2047,174.9898 436.7715,165.5688 437.0152,165.6233 442.2047,156.6426 442.2047,155.086 436.2196,165.4454\"/>\n",
       "    <polyline points=\"432.223,164.5515 442.2047,147.2684 442.2047,145.7157 431.4295,164.374 431.6586,164.4253 442.2047,182.7013 442.2047,184.2445 430.63,164.1952 442.2047,144.1513\"/>\n",
       "    <polyline points=\"442.2047,158.2132 437.7936,165.7974 442.2047,173.4478 442.2047,171.9072 438.8136,166.0255 438.6167,165.9815 442.2047,159.7717 442.2047,161.3074 439.4026,166.1573 439.8317,166.2532 442.2047,170.3701 442.2047,168.8203 440.8575,166.4827 440.991,166.5125 442.2047,164.4119 442.2047,162.872 440.2031,166.3363 442.2047,165.9746 441.7905,166.6913 442.2047,167.2762\"/>\n",
       "    <polyline points=\"330.0965,314.6641 442.2047,379.2101 442.2047,378.3315 330.5412,314.048 330.3348,314.334 222.2226,314.2171 222.1635,314.4963 167.2446,314.4813 168.2795,314.7877 177.1184,319.9073 176.8979,320.2133 186.6323,320.2217 185.6214,319.9224 221.0094,319.943 221.0768,319.625 326.4542,319.7112 442.2047,386.314 442.2047,385.423 326.9119,319.0769 327.0071,318.945 221.2397,318.8561 221.1765,319.1541 182.9549,319.1329 184.0108,319.4455 177.4553,319.4398 177.5672,319.2845 171.4014,315.7121 172.4769,316.0305 221.8343,316.0499 221.8938,315.769 329.2195,315.8794 442.2047,380.9953 442.2047,381.8768 328.7275,316.5612 221.7279,316.5519 221.6691,316.8296 175.112,316.8107 174.5164,316.6344 178.0119,318.6676 181.3938,318.6707 180.3173,318.3519 221.3425,318.3706 221.4008,318.0956 327.5463,318.1978 327.3668,318.4466 442.2047,384.5452 442.2047,383.6548 327.819,317.8199\"/>\n",
       "  </g>\n",
       "</svg>\n",
       "\n",
       "            </svg>\n",
       "        </div>\n",
       "        <script src=\"http://ariutta.github.io/svg-pan-zoom/dist/svg-pan-zoom.min.js\"></script>\n",
       "        <script>\n",
       "            svgPanZoom('#svg_display_987', {\n",
       "                zoomEnabled: true,\n",
       "                controlIconsEnabled: true,\n",
       "                center: true,\n",
       "                zoomScaleSensitivity: 0.3,\n",
       "                contain: true,\n",
       "            });\n",
       "          </script>\n",
       "        "
      ]
     },
     "metadata": {},
     "output_type": "display_data"
    }
   ],
   "source": [
    "sk = vsketch.Vsketch()\n",
    "sk.size(paper.page_format_mm)\n",
    "sk.scale('1mm')\n",
    "sk.penWidth('0.08mm')\n",
    "for i, layer in enumerate(rlayers):\n",
    "    sk.stroke(i+1)\n",
    "    sk.geometry(layer)\n",
    "\n",
    "for tolerance in [0.05, 0.1, 0.2,  0.3, 0.5, 0.7]:\n",
    "    sk.vpype(f'linemerge --tolerance {tolerance}mm')\n",
    "    sk.vpype('linesimplify --tolerance 0.1 linesort')\n",
    "\n",
    "sk.display(color_mode='layer')"
   ]
  },
  {
   "cell_type": "code",
   "execution_count": 461,
   "id": "80270456-a0c4-48f4-afe2-293f2c6aa0f4",
   "metadata": {},
   "outputs": [
    {
     "name": "stdout",
     "output_type": "stream",
     "text": [
      "saved 20210919-222738_681190-4e22b-c04daf to s3://algorithmic-ink/current_plot_id\n"
     ]
    }
   ],
   "source": [
    "plot_id = fn.new_plot_id()"
   ]
  },
  {
   "cell_type": "code",
   "execution_count": 462,
   "id": "0b32277a-fbd5-4dc5-860d-3cc6563f2b34",
   "metadata": {},
   "outputs": [],
   "source": [
    "savedir='/home/naka/art/plotter_svgs'"
   ]
  },
  {
   "cell_type": "code",
   "execution_count": 463,
   "id": "5c0e70ff-b945-4a02-b9af-c71dd67761db",
   "metadata": {},
   "outputs": [],
   "source": [
    "savepath = Path(savedir).joinpath(f'{plot_id}.svg').as_posix()\n",
    "sk.save(savepath)"
   ]
  },
  {
   "cell_type": "code",
   "execution_count": 386,
   "id": "c3c18ccd-4ed7-498c-8983-b87768dc8fa7",
   "metadata": {},
   "outputs": [
    {
     "name": "stdout",
     "output_type": "stream",
     "text": [
      "========= Stats ========= \n",
      "Current page size: (480.00000000000006, 672.0)\n",
      "Layer 1\n",
      "  Length: 235223.69629586654\n",
      "  Pen-up length: 3783.959338661928\n",
      "  Total length: 239007.65563452846\n",
      "  Mean pen-up length: 20.127443290754936\n",
      "  Median pen-up length: 8.334235320949919\n",
      "  Path count: 189\n",
      "  Segment count: 4776\n",
      "  Mean segment length: 49.25119269176435\n",
      "  Bounds: (37.795275590551185, 37.79527738494348, 442.2047244094489, 634.204722615056)\n",
      "Totals\n",
      "  Layer count: 1\n",
      "  Length: 235223.69629586654\n",
      "  Pen-up length: 3783.959338661928\n",
      "  Total length: 239007.65563452846\n",
      "  Path count: 189\n",
      "  Segment count: 4776\n",
      "  Mean segment length: 49.25119269176435\n",
      "  Bounds: (37.795275590551185, 37.79527738494348, 442.2047244094489, 634.204722615056)\n",
      "========================= \n"
     ]
    }
   ],
   "source": [
    "sk.vpype('stat')"
   ]
  },
  {
   "cell_type": "code",
   "execution_count": 337,
   "id": "927c947c-5323-41b5-8103-f735a0baa7ce",
   "metadata": {},
   "outputs": [
    {
     "data": {
      "text/plain": [
       "260761.31700853925"
      ]
     },
     "execution_count": 337,
     "metadata": {},
     "output_type": "execute_result"
    }
   ],
   "source": [
    "pmls.length"
   ]
  }
 ],
 "metadata": {
  "kernelspec": {
   "display_name": "Python [conda env:genpen]",
   "language": "python",
   "name": "conda-env-genpen-py"
  },
  "language_info": {
   "codemirror_mode": {
    "name": "ipython",
    "version": 3
   },
   "file_extension": ".py",
   "mimetype": "text/x-python",
   "name": "python",
   "nbconvert_exporter": "python",
   "pygments_lexer": "ipython3",
   "version": "3.8.8"
  }
 },
 "nbformat": 4,
 "nbformat_minor": 5
}

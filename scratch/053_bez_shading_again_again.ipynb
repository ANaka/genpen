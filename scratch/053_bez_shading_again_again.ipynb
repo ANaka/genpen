{
 "cells": [
  {
   "cell_type": "code",
   "execution_count": null,
   "id": "598b954e-e6a6-436f-afc5-674904fbb7fe",
   "metadata": {
    "Collapsed": "false"
   },
   "outputs": [],
   "source": [
    "import itertools\n",
    "import numpy as np\n",
    "import os\n",
    "import seaborn as sns\n",
    "from tqdm import tqdm\n",
    "from dataclasses import asdict, dataclass, field\n",
    "import vsketch\n",
    "import shapely.geometry as sg\n",
    "from shapely.geometry import box, MultiLineString, Point, MultiPoint, Polygon, MultiPolygon, LineString\n",
    "import shapely.affinity as sa\n",
    "import shapely.ops as so\n",
    "import matplotlib.pyplot as plt\n",
    "import pandas as pd\n",
    "\n",
    "import vpype_cli\n",
    "from typing import List, Generic\n",
    "from genpen import genpen as gp, utils as utils\n",
    "from scipy import stats as ss\n",
    "import geopandas\n",
    "from shapely.errors import TopologicalError\n",
    "import functools\n",
    "%load_ext autoreload\n",
    "%autoreload 2\n",
    "import vpype\n",
    "from skimage import io\n",
    "from pathlib import Path\n",
    "import fn\n",
    "import bezier\n",
    "\n",
    "from sklearn.preprocessing import minmax_scale\n",
    "from skimage import feature\n",
    "from genpen.utils import Paper\n",
    "from genpen.genpen import *\n",
    "from genpen import subdivide as sd\n",
    "from functools import partial\n",
    "from genpen.grower import Grower, GrowerParams"
   ]
  },
  {
   "cell_type": "code",
   "execution_count": null,
   "id": "1b7f12d4-5123-4b80-9c58-a8b1f9a1444b",
   "metadata": {
    "Collapsed": "false"
   },
   "outputs": [],
   "source": [
    "# make page\n",
    "paper_size = 'A2'\n",
    "border:float=45\n",
    "paper = Paper(paper_size)\n",
    "\n",
    "drawbox = paper.get_drawbox(border)"
   ]
  },
  {
   "cell_type": "code",
   "execution_count": null,
   "id": "0710aec0-4905-47f5-bc22-612684a65357",
   "metadata": {},
   "outputs": [],
   "source": []
  },
  {
   "cell_type": "code",
   "execution_count": null,
   "id": "4b52cee6-e77f-41f3-a976-b1df8c3bfab2",
   "metadata": {},
   "outputs": [],
   "source": [
    "drawbox.bounds"
   ]
  },
  {
   "cell_type": "code",
   "execution_count": null,
   "id": "ab8b6cef-9ae9-49ad-8763-52e6106bc948",
   "metadata": {},
   "outputs": [],
   "source": [
    "drawbox"
   ]
  },
  {
   "cell_type": "code",
   "execution_count": null,
   "id": "1c7cd877-5359-44ce-8a90-85002fd2cd0e",
   "metadata": {},
   "outputs": [],
   "source": [
    "split_func = functools.partial(sd.split_random_bezier, x0=0.2, x1=0.75, n_eval_points=50)\n",
    "\n",
    "xgen = ss.uniform(loc=0.4, scale=0.01).rvs\n",
    "split_func = functools.partial(sd.split_along_longest_side_of_min_rectangle, xgen=xgen)\n",
    "\n",
    "# x0gen = ss.uniform(loc=0.15, scale=0.01).rvs\n",
    "# x1gen = ss.uniform(loc=0.65, scale=0.01).rvs\n",
    "# split_func = functools.partial(sd.split_random_line_gen, x0gen=x0gen, x1gen=x1gen)"
   ]
  },
  {
   "cell_type": "code",
   "execution_count": null,
   "id": "bf59395e-70e0-4e43-a531-0b4d656d956b",
   "metadata": {},
   "outputs": [],
   "source": [
    "target = Point(140, 325)\n",
    "target = drawbox.centroid"
   ]
  },
  {
   "cell_type": "code",
   "execution_count": null,
   "id": "2e7e9c1a-7441-4d80-8d50-67508b36b56b",
   "metadata": {},
   "outputs": [],
   "source": [
    "dist_from_center = partial(sd.distance_from_pt, target=target, p_range=(0.99, 0.3,), d_range=(0, 200))\n",
    "cp = sd.ContinuePolicy(dist_from_center)\n",
    "polys = sd.very_flex_rule_recursive_split(poly=drawbox, split_func=split_func, continue_func=cp, depth_limit=14, buffer_kwargs={'distance':1e-6})\n",
    "\n",
    "\n",
    "bps = gp.merge_Polygons(polys)"
   ]
  },
  {
   "cell_type": "code",
   "execution_count": null,
   "id": "81314064-0151-45d1-8cd3-fae7129756d6",
   "metadata": {
    "Collapsed": "false"
   },
   "outputs": [],
   "source": [
    "\n",
    "   \n",
    "sk = vsketch.Vsketch()\n",
    "sk.size(paper.page_format_mm)\n",
    "sk.scale('1mm')\n",
    "sk.penWidth('0.5mm')\n",
    "sk.geometry(bps.boundary)\n",
    "\n",
    "# tolerance=0.5\n",
    "\n",
    "sk.display()"
   ]
  },
  {
   "cell_type": "code",
   "execution_count": null,
   "id": "f23df540-a39b-43d3-95ae-8331c9f0920b",
   "metadata": {
    "Collapsed": "false"
   },
   "outputs": [],
   "source": [
    "n_layers = 1"
   ]
  },
  {
   "cell_type": "code",
   "execution_count": null,
   "id": "0c0c8649-d406-4ce8-8cb7-d5bcc9f37aab",
   "metadata": {},
   "outputs": [],
   "source": [
    "layers = []"
   ]
  },
  {
   "cell_type": "code",
   "execution_count": null,
   "id": "68d9ee88-a1c6-4fa3-971c-5b8e5acc1cbb",
   "metadata": {
    "Collapsed": "false"
   },
   "outputs": [],
   "source": [
    "\n",
    "for ii in range(n_layers):\n",
    "    fills = []\n",
    "    for p in bps:\n",
    "        xjitter_func = 0\n",
    "        yjitter_func = ss.norm(loc=0, scale=np.random.uniform(0.005, 0.01)).rvs\n",
    "        bhf = BezierHatchFill(\n",
    "            spacing=np.random.uniform(0.2, 0.22),\n",
    "            degrees=np.random.uniform(40,60),\n",
    "            poly_to_fill=p, \n",
    "            xjitter_func=xjitter_func, \n",
    "            yjitter_func=yjitter_func,\n",
    "            fill_inscribe_buffer=1.4,\n",
    "            n_nodes_per_line=5,\n",
    "            n_eval_points=6,\n",
    "        )\n",
    "        fills.append(bhf.p)\n",
    "\n",
    "    fills = [f for f in fills if f.length > 0]\n",
    "    layer = gp.merge_LineStrings(fills)\n",
    "    layers.append(layer)"
   ]
  },
  {
   "cell_type": "code",
   "execution_count": null,
   "id": "65abdd4f-2e05-47c8-a67b-d497682b5836",
   "metadata": {
    "Collapsed": "false"
   },
   "outputs": [],
   "source": [
    "sk = vsketch.Vsketch()\n",
    "sk.size(paper.page_format_mm)\n",
    "sk.scale('1mm')\n",
    "sk.penWidth('0.3mm')\n",
    "for i, layer in enumerate(layers):\n",
    "    sk.stroke(i+1)\n",
    "    sk.geometry(layer)\n",
    "\n",
    "for tolerance in [0.1, 0.3, 0.5, 0.7]:\n",
    "    sk.vpype(f'linemerge --tolerance {tolerance}mm')\n",
    "sk.vpype('linesimplify --tolerance 0.1 linesort')\n",
    "\n",
    "sk.display(color_mode='layer')"
   ]
  },
  {
   "cell_type": "code",
   "execution_count": null,
   "id": "49e20cc9-cdb3-42c7-be08-2a41ad85a81c",
   "metadata": {},
   "outputs": [],
   "source": []
  },
  {
   "cell_type": "code",
   "execution_count": null,
   "id": "2b59701b-65c3-4a20-bf35-1cba62afc0f3",
   "metadata": {},
   "outputs": [],
   "source": [
    "plot_id = fn.new_plot_id()"
   ]
  },
  {
   "cell_type": "code",
   "execution_count": null,
   "id": "a394cf00-5f75-4e78-9bcc-4a274ff97a5b",
   "metadata": {},
   "outputs": [],
   "source": [
    "savedir='/home/naka/art/plotter_svgs'"
   ]
  },
  {
   "cell_type": "code",
   "execution_count": null,
   "id": "bf9d154e-aead-48b5-a458-50653368e076",
   "metadata": {},
   "outputs": [],
   "source": [
    "savepath = Path(savedir).joinpath(f'{plot_id}.svg').as_posix()\n",
    "sk.save(savepath)"
   ]
  },
  {
   "cell_type": "code",
   "execution_count": null,
   "id": "5640c0d0-bba8-4a8b-912b-4345b72cbe89",
   "metadata": {},
   "outputs": [],
   "source": []
  },
  {
   "cell_type": "code",
   "execution_count": null,
   "id": "3a8da316-392c-4d1d-bf78-31769e96c199",
   "metadata": {},
   "outputs": [],
   "source": []
  },
  {
   "cell_type": "markdown",
   "id": "c5f0db91-25cb-4594-815a-4e1d267c0d2e",
   "metadata": {},
   "source": [
    "# more interesting initialization"
   ]
  },
  {
   "cell_type": "code",
   "execution_count": null,
   "id": "2b20cdf2-2bd9-4d60-a97c-8e2bca055ecd",
   "metadata": {
    "Collapsed": "false"
   },
   "outputs": [],
   "source": [
    "# make page\n",
    "paper_size = 'A2'\n",
    "border:float=45\n",
    "paper = Paper(paper_size)\n",
    "\n",
    "drawbox = paper.get_drawbox(border)"
   ]
  },
  {
   "cell_type": "code",
   "execution_count": null,
   "id": "315f6fb6-7fb0-453b-bd9f-e3dcaa74dc7c",
   "metadata": {},
   "outputs": [],
   "source": [
    "params = GrowerParams(\n",
    "    rad_func='loss_scaled_rad',\n",
    "    rad_range=(70, 60),\n",
    "    loss_range=(40, 100),\n",
    "    n_pts_eval_per_iter=55,\n",
    "    n_pts_add_per_iter=1,\n",
    "    pt_to_poly_func='buffer_pt'\n",
    ")\n",
    "g = Grower(poly=drawbox.centroid.buffer(0.1), params=params)"
   ]
  },
  {
   "cell_type": "code",
   "execution_count": null,
   "id": "f7aaca10-d33f-4c4a-82a6-4ff4f18c07f9",
   "metadata": {
    "tags": []
   },
   "outputs": [],
   "source": [
    "g.grow(6)"
   ]
  },
  {
   "cell_type": "code",
   "execution_count": null,
   "id": "ac16cbc5-f48d-4fe6-8da4-20e720982039",
   "metadata": {},
   "outputs": [],
   "source": [
    "# polys = g.mpoly.buffer(-5)\n",
    "# polys = g.mpoly\n",
    "\n",
    "polys = gp.make_like(g.mpoly, drawbox)"
   ]
  },
  {
   "cell_type": "code",
   "execution_count": null,
   "id": "6b93c75d-803e-4140-b171-445860784bdd",
   "metadata": {},
   "outputs": [],
   "source": [
    "bg = drawbox.difference(polys)"
   ]
  },
  {
   "cell_type": "code",
   "execution_count": null,
   "id": "fc4ba53f-1ec1-4bf2-b0c6-021684d4ae6d",
   "metadata": {},
   "outputs": [],
   "source": [
    "polys = list(polys)\n",
    "# polys.append(bg)"
   ]
  },
  {
   "cell_type": "code",
   "execution_count": null,
   "id": "88c55c01-c3ce-40a6-9868-5601fad2b1ec",
   "metadata": {},
   "outputs": [],
   "source": [
    "# split_func = functools.partial(sd.split_random_bezier, x0=0.2, x1=0.75, n_eval_points=50)\n",
    "\n",
    "xgen = ss.uniform(loc=0.5, scale=0.01).rvs\n",
    "split_func = functools.partial(sd.split_along_longest_side_of_min_rectangle, xgen=xgen)\n",
    "\n",
    "# x0gen = ss.uniform(loc=0.15, scale=0.01).rvs\n",
    "# x1gen = ss.uniform(loc=0.65, scale=0.01).rvs\n",
    "# split_func = functools.partial(sd.split_random_line_gen, x0gen=x0gen, x1gen=x1gen)"
   ]
  },
  {
   "cell_type": "code",
   "execution_count": null,
   "id": "9c062bc2-9b56-4df3-b544-44db8c8d186b",
   "metadata": {},
   "outputs": [],
   "source": [
    "target = Point(140, 325)\n",
    "# target = drawbox.centroid"
   ]
  },
  {
   "cell_type": "code",
   "execution_count": null,
   "id": "8233fdb9-a623-4ab9-a485-59118aba1720",
   "metadata": {},
   "outputs": [],
   "source": [
    "xgen = ss.uniform(loc=0.4, scale=0.01).rvs\n",
    "split_func = functools.partial(sd.split_along_longest_side_of_min_rectangle, xgen=xgen)\n",
    "split_polys = []\n",
    "for poly in polys:\n",
    "    dist_from_center = partial(sd.distance_from_pt, target=target, p_range=(0.99, 0.3,), d_range=(0, 200))\n",
    "    cp = sd.ContinuePolicy(dist_from_center)\n",
    "    sps = sd.very_flex_rule_recursive_split(poly=poly, split_func=split_func, continue_func=cp, depth_limit=2, buffer_kwargs={'distance':1e-6})\n",
    "    split_polys.append(sps)\n",
    "    \n",
    "xgen = ss.uniform(loc=0.5, scale=0.01).rvs\n",
    "split_func = functools.partial(sd.split_along_longest_side_of_min_rectangle, xgen=xgen)\n",
    "dist_from_center = partial(sd.distance_from_pt, target=target, p_range=(0.99, 0.3,), d_range=(0, 200))\n",
    "cp = sd.ContinuePolicy(dist_from_center)\n",
    "sps = sd.very_flex_rule_recursive_split(poly=bg, split_func=split_func, continue_func=cp, depth_limit=5, buffer_kwargs={'distance':1e-6})\n",
    "split_polys.append(sps)\n",
    "\n",
    "\n",
    "bps = gp.merge_Polygons(split_polys)"
   ]
  },
  {
   "cell_type": "code",
   "execution_count": null,
   "id": "8f0bb1db-996f-4d78-b817-53567cdc1a3c",
   "metadata": {
    "Collapsed": "false"
   },
   "outputs": [],
   "source": [
    "\n",
    "   \n",
    "sk = vsketch.Vsketch()\n",
    "sk.size(paper.page_format_mm)\n",
    "sk.scale('1mm')\n",
    "sk.penWidth('0.5mm')\n",
    "sk.geometry(bps.boundary)\n",
    "\n",
    "# tolerance=0.5\n",
    "\n",
    "sk.display()"
   ]
  },
  {
   "cell_type": "code",
   "execution_count": null,
   "id": "33184e90-6c31-4536-881d-d1d7c5eef2e7",
   "metadata": {
    "Collapsed": "false"
   },
   "outputs": [],
   "source": [
    "n_layers = 1"
   ]
  },
  {
   "cell_type": "code",
   "execution_count": null,
   "id": "64ad402c-87a4-4467-8f15-c843d75c6ffa",
   "metadata": {},
   "outputs": [],
   "source": [
    "layers = []"
   ]
  },
  {
   "cell_type": "code",
   "execution_count": null,
   "id": "6af8b0ea-1d8d-43dd-a1d3-28b54f75fba7",
   "metadata": {
    "Collapsed": "false"
   },
   "outputs": [],
   "source": [
    "\n",
    "for ii in range(n_layers):\n",
    "    fills = []\n",
    "    for p in bps:\n",
    "        xjitter_func = 0\n",
    "        yjitter_func = ss.norm(loc=0, scale=np.random.uniform(0.001, 0.005)).rvs\n",
    "        bhf = BezierHatchFill(\n",
    "            spacing=np.random.uniform(0.2, 0.21),\n",
    "            degrees=np.random.uniform(40,60),\n",
    "            poly_to_fill=p, \n",
    "            xjitter_func=xjitter_func, \n",
    "            yjitter_func=yjitter_func,\n",
    "            fill_inscribe_buffer=1.4,\n",
    "            n_nodes_per_line=5,\n",
    "            n_eval_points=6,\n",
    "        )\n",
    "        fills.append(bhf.p)\n",
    "\n",
    "    fills = [f for f in fills if f.length > 0]\n",
    "    layer = gp.merge_LineStrings(fills)\n",
    "    layers.append(layer)"
   ]
  },
  {
   "cell_type": "code",
   "execution_count": null,
   "id": "4c33f7e4-565f-457a-83cd-8dfe2b0841a7",
   "metadata": {
    "Collapsed": "false"
   },
   "outputs": [],
   "source": [
    "sk = vsketch.Vsketch()\n",
    "sk.size(paper.page_format_mm)\n",
    "sk.scale('1mm')\n",
    "sk.penWidth('0.3mm')\n",
    "for i, layer in enumerate(layers):\n",
    "    sk.stroke(i+1)\n",
    "    sk.geometry(layer)\n",
    "\n",
    "for tolerance in [0.1, 0.3, 0.5, 0.7]:\n",
    "    sk.vpype(f'linemerge --tolerance {tolerance}mm')\n",
    "sk.vpype('linesimplify --tolerance 0.1 linesort')\n",
    "\n",
    "sk.display(color_mode='layer')"
   ]
  },
  {
   "cell_type": "code",
   "execution_count": null,
   "id": "95ca55c6-9ea2-4349-a059-0a6132eee20b",
   "metadata": {},
   "outputs": [],
   "source": []
  },
  {
   "cell_type": "code",
   "execution_count": null,
   "id": "e2bca4a1-5ac9-42dc-9170-c4154e19e597",
   "metadata": {},
   "outputs": [],
   "source": [
    "plot_id = fn.new_plot_id()"
   ]
  },
  {
   "cell_type": "code",
   "execution_count": null,
   "id": "1e5de186-bcfd-49d7-bc18-e2c19ee87913",
   "metadata": {},
   "outputs": [],
   "source": [
    "savedir='/home/naka/art/plotter_svgs'"
   ]
  },
  {
   "cell_type": "code",
   "execution_count": null,
   "id": "982858a4-daf3-4f80-b6de-a98a05d181c7",
   "metadata": {},
   "outputs": [],
   "source": [
    "savepath = Path(savedir).joinpath(f'{plot_id}.svg').as_posix()\n",
    "sk.save(savepath)"
   ]
  },
  {
   "cell_type": "markdown",
   "id": "280a7530-cbf9-4807-babe-7d4776645c22",
   "metadata": {},
   "source": [
    "# more interesting initialization"
   ]
  },
  {
   "cell_type": "code",
   "execution_count": null,
   "id": "05dc96ee-2125-4cee-bc64-557b0fe61d97",
   "metadata": {
    "Collapsed": "false"
   },
   "outputs": [],
   "source": [
    "# make page\n",
    "paper_size = '6x6 inches'\n",
    "border:float=15\n",
    "paper = Paper(paper_size)\n",
    "\n",
    "drawbox = paper.get_drawbox(border)"
   ]
  },
  {
   "cell_type": "code",
   "execution_count": null,
   "id": "e5a77785-ff9e-4919-8ff3-efafb7bbc379",
   "metadata": {},
   "outputs": [],
   "source": [
    "params = GrowerParams(\n",
    "    rad_func='loss_scaled_rad',\n",
    "    rad_range=(20, 10),\n",
    "    loss_range=(20, 100),\n",
    "    n_pts_eval_per_iter=55,\n",
    "    n_pts_add_per_iter=1,\n",
    "    pt_to_poly_func='reg_poly'\n",
    ")\n",
    "g = Grower(poly=drawbox.centroid.buffer(40), params=params)"
   ]
  },
  {
   "cell_type": "code",
   "execution_count": null,
   "id": "df18b006-613e-4302-b32a-6700ce8cc791",
   "metadata": {
    "tags": []
   },
   "outputs": [],
   "source": [
    "g.grow(2)"
   ]
  },
  {
   "cell_type": "code",
   "execution_count": null,
   "id": "4267d548-dc83-4542-bf95-90b7686265c9",
   "metadata": {},
   "outputs": [],
   "source": [
    "# polys = g.mpoly.buffer(-1)\n",
    "polys = g.mpoly\n",
    "\n",
    "# polys = gp.make_like(g.mpoly, drawbox)"
   ]
  },
  {
   "cell_type": "code",
   "execution_count": null,
   "id": "31cda867-2265-495a-99f4-ab9d2b336993",
   "metadata": {},
   "outputs": [],
   "source": [
    "bg = drawbox.difference(g.agg_poly)"
   ]
  },
  {
   "cell_type": "code",
   "execution_count": null,
   "id": "54cdd6b2-2965-4569-82a2-d44402b01391",
   "metadata": {},
   "outputs": [],
   "source": [
    "polys = gp.merge_Polygons(polys)\n",
    "# polys.append(bg)"
   ]
  },
  {
   "cell_type": "code",
   "execution_count": null,
   "id": "8626a66b-910b-4ba0-adb8-ecd40ee7a856",
   "metadata": {},
   "outputs": [],
   "source": [
    "# split_func = functools.partial(sd.split_random_bezier, x0=0.2, x1=0.75, n_eval_points=50)\n",
    "\n",
    "xgen = ss.uniform(loc=0.5, scale=0.01).rvs\n",
    "split_func = functools.partial(sd.split_along_longest_side_of_min_rectangle, xgen=xgen)\n",
    "\n",
    "# x0gen = ss.uniform(loc=0.15, scale=0.01).rvs\n",
    "# x1gen = ss.uniform(loc=0.65, scale=0.01).rvs\n",
    "# split_func = functools.partial(sd.split_random_line_gen, x0gen=x0gen, x1gen=x1gen)"
   ]
  },
  {
   "cell_type": "code",
   "execution_count": null,
   "id": "45329004-a2e5-42df-9f66-23855b72e65c",
   "metadata": {},
   "outputs": [],
   "source": [
    "# target = Point(140, 325)\n",
    "target = drawbox.centroid"
   ]
  },
  {
   "cell_type": "code",
   "execution_count": null,
   "id": "5f11fd86-47ec-4d51-9a0c-f9dc7cfac06c",
   "metadata": {},
   "outputs": [],
   "source": [
    "split_polys =[]\n",
    "    \n",
    "x0gen = ss.uniform(loc=0.15, scale=0.01).rvs\n",
    "x1gen = ss.uniform(loc=0.65, scale=0.1).rvs\n",
    "split_func = functools.partial(sd.split_random_line_gen, x0gen=x0gen, x1gen=x1gen)\n",
    "dist_from_center = partial(sd.distance_from_pt, target=target, p_range=(1, 0.3,), d_range=(0, 20))\n",
    "cp = sd.ContinuePolicy(dist_from_center)\n",
    "\n",
    "sps = sd.very_flex_rule_recursive_split(poly=drawbox, split_func=split_func, continue_func=cp, depth_limit=2, buffer_kwargs={'distance':1e-6})\n",
    "sps = gp.merge_Polygons(sps)\n",
    "split_polys.append(sps)\n",
    "\n",
    "\n",
    "bps = gp.merge_Polygons(split_polys)"
   ]
  },
  {
   "cell_type": "code",
   "execution_count": null,
   "id": "195386a1-e238-4741-81f7-a65c741068cf",
   "metadata": {
    "Collapsed": "false"
   },
   "outputs": [],
   "source": [
    "\n",
    "   \n",
    "sk = vsketch.Vsketch()\n",
    "sk.size(paper.page_format_mm)\n",
    "sk.scale('1mm')\n",
    "sk.penWidth('0.5mm')\n",
    "sk.geometry(bps.boundary)\n",
    "\n",
    "# tolerance=0.5\n",
    "\n",
    "sk.display()"
   ]
  },
  {
   "cell_type": "code",
   "execution_count": null,
   "id": "6a62f9ed-8dcd-4af3-a1e0-82b3c756986b",
   "metadata": {
    "Collapsed": "false"
   },
   "outputs": [],
   "source": [
    "n_layers = 1"
   ]
  },
  {
   "cell_type": "code",
   "execution_count": null,
   "id": "4cc01a80-1933-4792-be87-94b80ba20237",
   "metadata": {},
   "outputs": [],
   "source": [
    "layers = []"
   ]
  },
  {
   "cell_type": "code",
   "execution_count": null,
   "id": "9db1d50a-d6d3-464f-bb2a-fa4a7803238f",
   "metadata": {
    "Collapsed": "false"
   },
   "outputs": [],
   "source": [
    "\n",
    "for ii in range(n_layers):\n",
    "    fills = []\n",
    "    for p in bps:\n",
    "        xjitter_func = 0\n",
    "        yjitter_func = ss.norm(loc=0, scale=np.random.uniform(0.001, 0.005)).rvs\n",
    "        bhf = BezierHatchFill(\n",
    "            spacing=np.random.uniform(0.2, 0.21),\n",
    "            degrees=np.random.uniform(40,60),\n",
    "            poly_to_fill=p, \n",
    "            xjitter_func=xjitter_func, \n",
    "            yjitter_func=yjitter_func,\n",
    "            fill_inscribe_buffer=1.4,\n",
    "            n_nodes_per_line=5,\n",
    "            n_eval_points=6,\n",
    "        )\n",
    "        fills.append(bhf.p)\n",
    "\n",
    "    fills = [f for f in fills if f.length > 0]\n",
    "    layer = gp.merge_LineStrings(fills)\n",
    "    layers.append(layer)"
   ]
  },
  {
   "cell_type": "code",
   "execution_count": null,
   "id": "9fd84613-f3db-4745-ab10-1d9f8904aed0",
   "metadata": {
    "Collapsed": "false"
   },
   "outputs": [],
   "source": [
    "\n",
    "for ii in range(n_layers):\n",
    "    fills = []\n",
    "    for p in bps:\n",
    "        xjitter_func = 0\n",
    "        yjitter_func = ss.norm(loc=0, scale=np.random.uniform(0.001, 0.005)).rvs\n",
    "        bhf = BezierHatchFill(\n",
    "            spacing=np.random.uniform(0.2, 0.21),\n",
    "            degrees=np.random.uniform(20,40),\n",
    "            poly_to_fill=p, \n",
    "            xjitter_func=xjitter_func, \n",
    "            yjitter_func=yjitter_func,\n",
    "            fill_inscribe_buffer=1.4,\n",
    "            n_nodes_per_line=5,\n",
    "            n_eval_points=6,\n",
    "        )\n",
    "        fills.append(bhf.p)\n",
    "\n",
    "    fills = [f for f in fills if f.length > 0]\n",
    "    layer = gp.merge_LineStrings(fills)\n",
    "    layers.append(layer)"
   ]
  },
  {
   "cell_type": "code",
   "execution_count": null,
   "id": "d904d9ad-580d-42e0-923b-93ab24f28793",
   "metadata": {
    "Collapsed": "false"
   },
   "outputs": [],
   "source": [
    "sk = vsketch.Vsketch()\n",
    "sk.size(paper.page_format_mm)\n",
    "sk.scale('1mm')\n",
    "sk.penWidth('0.3mm')\n",
    "for i, layer in enumerate(layers):\n",
    "    sk.stroke(i+1)\n",
    "    sk.geometry(layer)\n",
    "\n",
    "for tolerance in [0.1, 0.3, 0.5, 0.7]:\n",
    "    sk.vpype(f'linemerge --tolerance {tolerance}mm')\n",
    "sk.vpype('linesimplify --tolerance 0.1 linesort')\n",
    "\n",
    "sk.display(color_mode='layer')"
   ]
  },
  {
   "cell_type": "code",
   "execution_count": null,
   "id": "ac8b07a0-ccaa-4c82-bcf3-3c9189d30070",
   "metadata": {},
   "outputs": [],
   "source": []
  },
  {
   "cell_type": "code",
   "execution_count": null,
   "id": "521c25db-ba58-4f42-8b07-8a67d33e9610",
   "metadata": {},
   "outputs": [],
   "source": [
    "plot_id = fn.new_plot_id()"
   ]
  },
  {
   "cell_type": "code",
   "execution_count": null,
   "id": "c4469248-326e-43cc-b94f-2ba3fa285fbc",
   "metadata": {},
   "outputs": [],
   "source": [
    "savedir='/home/naka/art/plotter_svgs'"
   ]
  },
  {
   "cell_type": "code",
   "execution_count": null,
   "id": "7b68b58c-e308-438e-be40-13ff6116faf5",
   "metadata": {},
   "outputs": [],
   "source": [
    "savepath = Path(savedir).joinpath(f'{plot_id}.svg').as_posix()\n",
    "sk.save(savepath)"
   ]
  },
  {
   "cell_type": "code",
   "execution_count": null,
   "id": "29d0d84a-74b4-41f9-8330-84da205c7553",
   "metadata": {},
   "outputs": [],
   "source": []
  }
 ],
 "metadata": {
  "kernelspec": {
   "display_name": "Python [conda env:genpen]",
   "language": "python",
   "name": "conda-env-genpen-py"
  },
  "language_info": {
   "codemirror_mode": {
    "name": "ipython",
    "version": 3
   },
   "file_extension": ".py",
   "mimetype": "text/x-python",
   "name": "python",
   "nbconvert_exporter": "python",
   "pygments_lexer": "ipython3",
   "version": "3.8.8"
  }
 },
 "nbformat": 4,
 "nbformat_minor": 5
}

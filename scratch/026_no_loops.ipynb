{
 "cells": [
  {
   "cell_type": "code",
   "execution_count": null,
   "metadata": {
    "Collapsed": "false"
   },
   "outputs": [],
   "source": [
    "import itertools\n",
    "import numpy as np\n",
    "import os\n",
    "from tqdm import tqdm\n",
    "import vsketch\n",
    "import shapely.geometry as sg\n",
    "from shapely.geometry import box, MultiLineString, Point, MultiPoint, Polygon, MultiPolygon, LineString\n",
    "import shapely.affinity as sa\n",
    "import shapely.ops as so\n",
    "import matplotlib.pyplot as plt\n",
    "import pandas as pd\n",
    "import seaborn as sns\n",
    "\n",
    "from genpen import genpen as gp, utils as utils\n",
    "from scipy import stats as ss\n",
    "import geopandas\n",
    "import functools\n",
    "\n",
    "%load_ext autoreload\n",
    "%autoreload 2\n",
    "\n",
    "from genpen.utils import Paper\n",
    "import bezier\n",
    "from dataclasses import asdict, dataclass, field"
   ]
  },
  {
   "cell_type": "code",
   "execution_count": null,
   "metadata": {
    "Collapsed": "false"
   },
   "outputs": [],
   "source": [
    "# make page\n",
    "paper_size = '11x17 inches'\n",
    "border:float=35\n",
    "paper = Paper(paper_size)\n",
    "drawbox = paper.get_drawbox(border)"
   ]
  },
  {
   "cell_type": "code",
   "execution_count": null,
   "metadata": {
    "Collapsed": "false"
   },
   "outputs": [],
   "source": [
    "theta = np.linspace(0, np.pi * 70, 5000)\n",
    "x = np.cos(theta) ** 4 * np.sin(theta) - (theta * 0.002)\n",
    "y = theta * 0.005 * np.sin(0.99 * theta) + (theta * 0.002)\n",
    "ls = LineString(np.stack([x,y]).T * 150)\n"
   ]
  },
  {
   "cell_type": "code",
   "execution_count": null,
   "metadata": {
    "Collapsed": "false"
   },
   "outputs": [],
   "source": [
    "sk = vsketch.Vsketch()\n",
    "sk.size(paper.page_format_mm)\n",
    "sk.scale('1mm')\n",
    "sk.geometry(ls)\n",
    "\n",
    "sk.display(color_mode='none')"
   ]
  },
  {
   "cell_type": "code",
   "execution_count": null,
   "metadata": {
    "Collapsed": "false"
   },
   "outputs": [],
   "source": [
    "sk.save('/mnt/c/code/side/plotter_images/oned_outputs/237_no_loops.svg')"
   ]
  },
  {
   "cell_type": "code",
   "execution_count": null,
   "metadata": {
    "Collapsed": "false"
   },
   "outputs": [],
   "source": [
    "# make page\n",
    "paper_size = '11x17 inches'\n",
    "border:float=35\n",
    "paper = Paper(paper_size)\n",
    "drawbox = paper.get_drawbox(border)"
   ]
  },
  {
   "cell_type": "code",
   "execution_count": null,
   "metadata": {
    "Collapsed": "false"
   },
   "outputs": [],
   "source": [
    "theta = np.linspace(0, np.pi * 450, 40000)\n",
    "x = np.cos(theta) ** 7 * np.sin(theta) - (theta * 0.004)\n",
    "y = theta * 0.0045 * np.sin(0.99 * theta) + (theta * 0.002)\n",
    "ls = LineString(np.stack([x,y]).T * 25)\n"
   ]
  },
  {
   "cell_type": "code",
   "execution_count": null,
   "metadata": {
    "Collapsed": "false"
   },
   "outputs": [],
   "source": [
    "sk = vsketch.Vsketch()\n",
    "sk.size(paper.page_format_mm)\n",
    "sk.scale('1mm')\n",
    "sk.geometry(ls)\n",
    "\n",
    "sk.display(color_mode='none')"
   ]
  },
  {
   "cell_type": "code",
   "execution_count": null,
   "metadata": {
    "Collapsed": "false"
   },
   "outputs": [],
   "source": [
    "sk.save('/mnt/c/code/side/plotter_images/oned_outputs/239_no_loops.svg')"
   ]
  },
  {
   "cell_type": "code",
   "execution_count": null,
   "metadata": {
    "Collapsed": "false"
   },
   "outputs": [],
   "source": []
  },
  {
   "cell_type": "code",
   "execution_count": null,
   "metadata": {
    "Collapsed": "false"
   },
   "outputs": [],
   "source": [
    "# make page\n",
    "paper_size = '11x17 inches'\n",
    "border:float=35\n",
    "paper = Paper(paper_size)\n",
    "drawbox = paper.get_drawbox(border)"
   ]
  },
  {
   "cell_type": "code",
   "execution_count": null,
   "metadata": {
    "Collapsed": "false"
   },
   "outputs": [],
   "source": [
    "lss = []\n",
    "\n",
    "theta = np.linspace(0, np.pi * 550, 40000)\n",
    "y = np.cos(theta* 0.005) * np.cos(theta) ** 7 * np.sin(theta) - (theta * 0.018)\n",
    "x = theta * 0.0025 * np.sin(0.99 * theta) + (theta * 0.004) \n",
    "ls = gp.make_like(LineString(np.stack([x,y]).T), drawbox)\n",
    "lss.append(ls)\n",
    "\n",
    "theta = np.linspace(0, np.pi * 550, 40000)\n",
    "y = np.cos(theta* 0.005) * np.cos(theta) ** 7 * np.sin(theta) - (theta * 0.018)\n",
    "x = -1 * (theta * 0.0025 * np.sin(0.99 * theta) + (theta * 0.004) )\n",
    "ls = gp.make_like(LineString(np.stack([x,y]).T), drawbox)\n",
    "lss.append(ls)\n",
    "\n",
    "theta = np.linspace(0, np.pi * 550, 40000)\n",
    "y = np.cos(theta* 0.003) * np.cos(theta) ** 7 * np.sin(theta) - (theta * 0.015)\n",
    "x = theta * 0.0025 * np.sin(0.99 * theta)\n",
    "ls = gp.make_like(LineString(np.stack([x,y]).T), drawbox)\n",
    "lss.append(ls)"
   ]
  },
  {
   "cell_type": "code",
   "execution_count": null,
   "metadata": {
    "Collapsed": "false"
   },
   "outputs": [],
   "source": [
    "sk = vsketch.Vsketch()\n",
    "sk.size(paper.page_format_mm)\n",
    "sk.scale('1mm')\n",
    "for i, layer in enumerate(lss):\n",
    "    sk.stroke(i + 1)\n",
    "    sk.geometry(layer)\n",
    "sk.display(color_mode='none')"
   ]
  },
  {
   "cell_type": "code",
   "execution_count": null,
   "metadata": {
    "Collapsed": "false"
   },
   "outputs": [],
   "source": [
    "sk.save('/mnt/c/code/side/plotter_images/oned_outputs/240_no_loops.svg')"
   ]
  }
 ],
 "metadata": {
  "kernelspec": {
   "display_name": "Python [conda env:genpen]",
   "language": "python",
   "name": "conda-env-genpen-py"
  },
  "language_info": {
   "codemirror_mode": {
    "name": "ipython",
    "version": 3
   },
   "file_extension": ".py",
   "mimetype": "text/x-python",
   "name": "python",
   "nbconvert_exporter": "python",
   "pygments_lexer": "ipython3",
   "version": "3.8.6"
  }
 },
 "nbformat": 4,
 "nbformat_minor": 4
}

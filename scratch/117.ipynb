{
 "cells": [
  {
   "cell_type": "code",
   "execution_count": null,
   "metadata": {
    "Collapsed": "false"
   },
   "outputs": [],
   "source": [
    "import itertools\n",
    "import numpy as np\n",
    "import os\n",
    "import seaborn as sns\n",
    "from tqdm import tqdm\n",
    "from dataclasses import asdict, dataclass, field\n",
    "import vsketch\n",
    "import shapely.geometry as sg\n",
    "from shapely.geometry import box, MultiLineString, Point, MultiPoint, Polygon, MultiPolygon, LineString\n",
    "import shapely.affinity as sa\n",
    "import shapely.ops as so\n",
    "import matplotlib.pyplot as plt\n",
    "import pandas as pd\n",
    "\n",
    "import vpype_cli\n",
    "from typing import List, Generic\n",
    "from genpen import genpen as gp, utils as utils\n",
    "from scipy import stats as ss\n",
    "import geopandas\n",
    "from shapely.errors import TopologicalError\n",
    "import functools\n",
    "%load_ext autoreload\n",
    "%autoreload 2"
   ]
  },
  {
   "cell_type": "code",
   "execution_count": null,
   "metadata": {
    "Collapsed": "false"
   },
   "outputs": [],
   "source": [
    "%%time\n",
    "import decimal\n",
    "\n",
    "\n",
    "def pi():\n",
    "    \"\"\"\n",
    "    Compute Pi to the current precision.\n",
    "\n",
    "    Examples\n",
    "    --------\n",
    "    >>> print(pi())\n",
    "    3.141592653589793238462643383\n",
    "\n",
    "    Notes\n",
    "    -----\n",
    "    Taken from https://docs.python.org/3/library/decimal.html#recipes\n",
    "    \"\"\"\n",
    "    decimal.getcontext().prec += 2  # extra digits for intermediate steps\n",
    "    three = decimal.Decimal(3)      # substitute \"three=3.0\" for regular floats\n",
    "    lasts, t, s, n, na, d, da = 0, three, 3, 1, 0, 0, 24\n",
    "    while s != lasts:\n",
    "        lasts = s\n",
    "        n, na = n + na, na + 8\n",
    "        d, da = d + da, da + 32\n",
    "        t = (t * n) / d\n",
    "        s += t\n",
    "    decimal.getcontext().prec -= 2\n",
    "    return +s               # unary plus applies the new precision\n",
    "\n",
    "decimal.getcontext().prec = 100000\n",
    "pi = pi()"
   ]
  },
  {
   "cell_type": "code",
   "execution_count": null,
   "metadata": {
    "Collapsed": "false"
   },
   "outputs": [],
   "source": [
    "import requests"
   ]
  },
  {
   "cell_type": "code",
   "execution_count": null,
   "metadata": {
    "Collapsed": "false"
   },
   "outputs": [],
   "source": [
    "url = 'http://introcs.cs.princeton.edu/data/pi-10million.txt'\n",
    "\n",
    "r = requests.get(url)\n",
    "\n",
    "pi_string = r.text\n",
    "\n",
    "n_digits = len(pi_string)\n",
    "\n",
    "pi_digits = np.zeros(n_digits)\n",
    "\n",
    "for i, dig in tqdm(enumerate(pi_string)):\n",
    "    pi_digits[i] = int(dig)\n",
    "\n",
    "pi_digits = pi_digits.astype(int)\n",
    "\n",
    "pi_stack = np.stack([pi_digits, np.roll(pi_digits, -1), np.roll(pi_digits, -2)])\n",
    "\n",
    "pidf = pd.DataFrame(pi_stack.T.astype(int))"
   ]
  },
  {
   "cell_type": "code",
   "execution_count": null,
   "metadata": {
    "Collapsed": "false"
   },
   "outputs": [],
   "source": [
    "pidf['is_1'] = pidf[0] == 1\n",
    "pidf['is_7'] = pidf[0] == 7\n",
    "pidf['is_11'] = pidf['is_1'] & (pidf[1] == 1)\n",
    "pidf['is_17'] = pidf['is_1'] & (pidf[1] == 7)\n",
    "pidf['is_117'] = pidf['is_11'] & (pidf[2] == 7)"
   ]
  },
  {
   "cell_type": "code",
   "execution_count": null,
   "metadata": {
    "Collapsed": "false"
   },
   "outputs": [],
   "source": [
    "mat11 = pidf['is_11'].values.reshape((4000, 2500))\n",
    "mat17 = pidf['is_17'].values.reshape((4000, 2500))\n",
    "mat117 = pidf['is_117'].values.reshape((4000, 2500))"
   ]
  },
  {
   "cell_type": "code",
   "execution_count": null,
   "metadata": {
    "Collapsed": "false"
   },
   "outputs": [],
   "source": [
    "xs, ys = np.nonzero(mat11)\n",
    "p11s = MultiPoint([Point(x,y) for x,y in zip(xs, ys)])\n",
    "c11s = MultiLineString([p.buffer(2.5, resolution=2).boundary for p in p11s])    "
   ]
  },
  {
   "cell_type": "code",
   "execution_count": null,
   "metadata": {
    "Collapsed": "false"
   },
   "outputs": [],
   "source": [
    "xs, ys = np.nonzero(mat17)\n",
    "p17s = MultiPoint([Point(x,y) for x,y in zip(xs, ys)])\n",
    "c17s = MultiLineString([p.buffer(2.5, resolution=2).boundary for p in p17s])    "
   ]
  },
  {
   "cell_type": "code",
   "execution_count": null,
   "metadata": {
    "Collapsed": "false"
   },
   "outputs": [],
   "source": [
    "page_x_inches: float = 17. # inches\n",
    "page_y_inches: float = 11 # inches\n",
    "border:float = 0.\n",
    "\n",
    "\n",
    "\n",
    "px = utils.DistanceConverter(page_x_inches, 'inches').mm\n",
    "py = utils.DistanceConverter(page_y_inches, 'inches').mm\n",
    "page_format = f'{px}mmx{py}mm'\n",
    "drawbox = sg.box(border, border, px-border, py-border)\n",
    "\n",
    "xmin, ymin, xmax, ymax = drawbox.bounds\n"
   ]
  },
  {
   "cell_type": "code",
   "execution_count": null,
   "metadata": {
    "Collapsed": "false"
   },
   "outputs": [],
   "source": [
    "drawbox = drawbox.buffer(-20)"
   ]
  },
  {
   "cell_type": "code",
   "execution_count": null,
   "metadata": {
    "Collapsed": "false"
   },
   "outputs": [],
   "source": [
    "xs, ys = np.nonzero(mat117)\n",
    "p117s = MultiPoint([Point(x,y) for x,y in zip(xs, ys)])\n",
    "c117s = MultiLineString([p.buffer(10, resolution=4).boundary for p in p117s])    "
   ]
  },
  {
   "cell_type": "code",
   "execution_count": null,
   "metadata": {
    "Collapsed": "false"
   },
   "outputs": [],
   "source": [
    "sc117s = gp.center_at(gp.scale_like(c117s, drawbox), drawbox.centroid)"
   ]
  },
  {
   "cell_type": "code",
   "execution_count": null,
   "metadata": {
    "Collapsed": "false"
   },
   "outputs": [],
   "source": [
    "tris = so.triangulate(p117s, edges=True)"
   ]
  },
  {
   "cell_type": "code",
   "execution_count": null,
   "metadata": {
    "Collapsed": "false"
   },
   "outputs": [],
   "source": [
    "sc_tris = gp.center_at(gp.scale_like(MultiLineString(tris), drawbox), drawbox.centroid)"
   ]
  },
  {
   "cell_type": "code",
   "execution_count": null,
   "metadata": {
    "Collapsed": "false"
   },
   "outputs": [],
   "source": [
    "sc_tris"
   ]
  },
  {
   "cell_type": "code",
   "execution_count": null,
   "metadata": {
    "Collapsed": "false",
    "jupyter": {
     "outputs_hidden": true
    }
   },
   "outputs": [],
   "source": [
    "sk = vsketch.Vsketch()\n",
    "sk.size(page_format)\n",
    "\n",
    "sk.scale('1mm')\n",
    "sk.stroke(1)\n",
    "sk.geometry(sc_tris)\n",
    "# sk.stroke(2)\n",
    "# sk.geometry(c11s)\n",
    "# sk.stroke(3)\n",
    "# sk.geometry(c17s)\n",
    "sk.display(color_mode='layer')"
   ]
  },
  {
   "cell_type": "code",
   "execution_count": null,
   "metadata": {
    "Collapsed": "false"
   },
   "outputs": [],
   "source": [
    "savepath = '/mnt/c/code/side/plotter_images/oned_outputs/0104_117_lattice.svg'\n",
    "\n",
    "sk.save(savepath)"
   ]
  },
  {
   "cell_type": "code",
   "execution_count": null,
   "metadata": {
    "Collapsed": "false"
   },
   "outputs": [],
   "source": [
    "vpype_commands = 'reloop splitall linesimplify --tolerance 0.2mm linemerge --tolerance 0.2mm linesort'\n",
    "vpype_str = f'vpype read -q 0.1mm {savepath} {vpype_commands} write {savepath}'\n",
    "\n",
    "os.system(vpype_str)"
   ]
  },
  {
   "cell_type": "code",
   "execution_count": null,
   "metadata": {
    "Collapsed": "false"
   },
   "outputs": [],
   "source": [
    "page_x_inches: float = 14. # inches\n",
    "page_y_inches: float = 11 # inches\n",
    "border:float = 20.\n",
    "\n",
    "\n",
    "\n",
    "px = utils.DistanceConverter(page_x_inches, 'inches').mm\n",
    "py = utils.DistanceConverter(page_y_inches, 'inches').mm\n",
    "page_format = f'{px}mmx{py}mm'\n",
    "drawbox = sg.box(border, border, px-border, py-border)\n",
    "\n",
    "xmin, ymin, xmax, ymax = drawbox.bounds"
   ]
  },
  {
   "cell_type": "code",
   "execution_count": null,
   "metadata": {
    "Collapsed": "false"
   },
   "outputs": [],
   "source": [
    "def calc_r(theta, phi):\n",
    "    return phi ** (theta * 2 / np.pi)"
   ]
  },
  {
   "cell_type": "code",
   "execution_count": null,
   "metadata": {
    "Collapsed": "false"
   },
   "outputs": [],
   "source": [
    "f = functools.partial(calc_r, phi=1.005)"
   ]
  },
  {
   "cell_type": "code",
   "execution_count": null,
   "metadata": {
    "Collapsed": "false"
   },
   "outputs": [],
   "source": [
    "thetas = np.linspace(0, np.pi*100, n_digits)\n",
    "r = f(thetas) - 0.99"
   ]
  },
  {
   "cell_type": "code",
   "execution_count": null,
   "metadata": {
    "Collapsed": "false"
   },
   "outputs": [],
   "source": [
    "xs = np.cos(thetas) * r\n",
    "ys = np.sin(thetas) * r"
   ]
  },
  {
   "cell_type": "code",
   "execution_count": null,
   "metadata": {
    "Collapsed": "false"
   },
   "outputs": [],
   "source": [
    "where_117 = np.nonzero(pidf['is_117'].values)[0]"
   ]
  },
  {
   "cell_type": "code",
   "execution_count": null,
   "metadata": {
    "Collapsed": "false"
   },
   "outputs": [],
   "source": [
    "x117s = xs[pidf['is_117']]\n",
    "y117s = ys[pidf['is_117']]"
   ]
  },
  {
   "cell_type": "code",
   "execution_count": null,
   "metadata": {
    "Collapsed": "false"
   },
   "outputs": [],
   "source": [
    "spiral_line = np.stack([xs, ys]).T"
   ]
  },
  {
   "cell_type": "code",
   "execution_count": null,
   "metadata": {
    "Collapsed": "false"
   },
   "outputs": [],
   "source": [
    "dashes = []\n",
    "for i in tqdm(range(0, len(where_117)-1, 2)):\n",
    "    start = where_117[i]\n",
    "    stop = where_117[i+1]\n",
    "    dashes.append(spiral_line[start:stop, :])"
   ]
  },
  {
   "cell_type": "code",
   "execution_count": null,
   "metadata": {
    "Collapsed": "false"
   },
   "outputs": [],
   "source": [
    "mls = MultiLineString([LineString(d) for d in dashes])"
   ]
  },
  {
   "cell_type": "code",
   "execution_count": null,
   "metadata": {
    "Collapsed": "false"
   },
   "outputs": [],
   "source": [
    "smls = gp.center_at(gp.scale_like(mls, drawbox), drawbox.centroid)"
   ]
  },
  {
   "cell_type": "code",
   "execution_count": null,
   "metadata": {
    "Collapsed": "false"
   },
   "outputs": [],
   "source": [
    "bmls = [p.buffer(np.random.uniform(0.5, 18.5), resolution=1, cap_style=2, join_style=2) for p in smls]\n",
    "bmls = so.unary_union(MultiPolygon(bmls)).boundary\n",
    "bmls = gp.center_at(gp.scale_like(bmls, drawbox), drawbox.centroid)"
   ]
  },
  {
   "cell_type": "code",
   "execution_count": null,
   "metadata": {
    "Collapsed": "false"
   },
   "outputs": [],
   "source": [
    "ub = [p.buffer(1, resolution=1, cap_style=2, join_style=2) for p in smls]\n",
    "ub = so.unary_union(MultiPolygon(ub)).boundary\n",
    "ub = gp.center_at(gp.scale_like(ub, drawbox), drawbox.centroid)"
   ]
  },
  {
   "cell_type": "code",
   "execution_count": null,
   "metadata": {
    "Collapsed": "false"
   },
   "outputs": [],
   "source": [
    "bmls = [p.buffer(np.random.uniform(0.1, 0.5), resolution=1, cap_style=2, join_style=2) for p in bmls]\n",
    "bmls = so.unary_union(MultiPolygon(bmls)).boundary\n",
    "bmls = gp.center_at(gp.scale_like(bmls, drawbox), drawbox.centroid)"
   ]
  },
  {
   "cell_type": "code",
   "execution_count": null,
   "metadata": {
    "Collapsed": "false"
   },
   "outputs": [],
   "source": [
    "sk = vsketch.Vsketch()\n",
    "sk.size(page_format)\n",
    "\n",
    "sk.scale('1mm')\n",
    "sk.stroke(2)\n",
    "sk.geometry(smls)\n",
    "# sk.stroke(3)\n",
    "# sk.geometry(bmls)\n",
    "for t in [0.3, 0.3, 0.3, 0.4, 0.5, 1, 2, 3,]:\n",
    "    print(t)\n",
    "    sk.vpype(f'linemerge --tolerance {t}')\n",
    "\n",
    "for t in [0.3, 0.3, 0.3, 0.4, 0.5, ]:\n",
    "    print(t)\n",
    "    sk.vpype(f'linesimplify --tolerance {t}')\n",
    "\n",
    "    \n",
    "sk.display(color_mode='layer')\n",
    "savepath = '/mnt/c/code/side/plotter_images/oned_outputs/0178_spiral.svg'\n",
    "\n",
    "sk.save(savepath)"
   ]
  },
  {
   "cell_type": "code",
   "execution_count": null,
   "metadata": {
    "Collapsed": "false"
   },
   "outputs": [],
   "source": []
  },
  {
   "cell_type": "code",
   "execution_count": null,
   "metadata": {
    "Collapsed": "false"
   },
   "outputs": [],
   "source": [
    "\n",
    "p117s = MultiPoint([Point(x,y) for x,y in zip(x117s, y117s)])  \n",
    "sp117s = gp.center_at(gp.scale_like(p117s, drawbox), drawbox.centroid)"
   ]
  },
  {
   "cell_type": "code",
   "execution_count": null,
   "metadata": {
    "Collapsed": "false"
   },
   "outputs": [],
   "source": [
    "bs = [p.buffer(np.random.uniform(0.2, 1.5), resolution=1) for p in sp117s]\n",
    "bs = so.unary_union(MultiPolygon(bs)).boundary"
   ]
  }
 ],
 "metadata": {
  "kernelspec": {
   "display_name": "Python [conda env:genpen]",
   "language": "python",
   "name": "conda-env-genpen-py"
  },
  "language_info": {
   "codemirror_mode": {
    "name": "ipython",
    "version": 3
   },
   "file_extension": ".py",
   "mimetype": "text/x-python",
   "name": "python",
   "nbconvert_exporter": "python",
   "pygments_lexer": "ipython3",
   "version": "3.8.6"
  }
 },
 "nbformat": 4,
 "nbformat_minor": 4
}

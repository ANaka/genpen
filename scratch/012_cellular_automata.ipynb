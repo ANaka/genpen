{
 "cells": [
  {
   "cell_type": "code",
   "execution_count": null,
   "metadata": {
    "Collapsed": "false"
   },
   "outputs": [],
   "source": [
    "import itertools\n",
    "import numpy as np\n",
    "import os\n",
    "import seaborn as sns\n",
    "from tqdm import tqdm\n",
    "from dataclasses import asdict, dataclass, field\n",
    "import vsketch\n",
    "import shapely.geometry as sg\n",
    "from shapely.geometry import box, MultiLineString, Point, MultiPoint, Polygon, MultiPolygon, LineString\n",
    "import shapely.affinity as sa\n",
    "import shapely.ops as so\n",
    "import matplotlib.pyplot as plt\n",
    "import pandas as pd\n",
    "\n",
    "import vpype_cli\n",
    "from typing import List, Generic\n",
    "from genpen import genpen as gp, utils as utils\n",
    "from scipy import stats as ss\n",
    "import geopandas\n",
    "from shapely.errors import TopologicalError\n",
    "import functools\n",
    "%load_ext autoreload\n",
    "%autoreload 2\n",
    "import vpype\n",
    "from skimage import io\n",
    "from pathlib import Path\n",
    "\n",
    "from sklearn.preprocessing import minmax_scale\n",
    "from skimage import feature\n",
    "from genpen.utils import Paper"
   ]
  },
  {
   "cell_type": "code",
   "execution_count": null,
   "metadata": {
    "Collapsed": "false"
   },
   "outputs": [],
   "source": [
    "def rule30(left, center, right):\n",
    "    return left != (center | right)\n",
    "\n",
    "def run_automata(vector, n_iterations, padtype='constant'):\n",
    "    vectors = []\n",
    "    for iteration in range(n_iterations):\n",
    "        vectors.append(vector)\n",
    "        if padtype == 'constant':\n",
    "            padfunc = functools.partial(np.pad, pad_width=1, mode='constant', constant_values=0)\n",
    "        elif padtype == 'wrap':\n",
    "            padfunc = functools.partial(np.pad, pad_width=1, mode='wrap')\n",
    "        padded = padfunc(vector).astype(bool)\n",
    "            \n",
    "        new_vector = np.zeros_like(vector)\n",
    "\n",
    "        for ii in range(1, len(padded)-1):\n",
    "            left = padded[ii-1]\n",
    "            center = padded[ii]\n",
    "            right = padded[ii+1]\n",
    "            new_val = rule30(left, center, right)\n",
    "            new_vector[ii-1] = new_val\n",
    "        vector = new_vector\n",
    "    return (1-np.stack(vectors).astype('uint8')) * 255"
   ]
  },
  {
   "cell_type": "code",
   "execution_count": null,
   "metadata": {
    "Collapsed": "false"
   },
   "outputs": [],
   "source": [
    "scale = 0.35"
   ]
  },
  {
   "cell_type": "code",
   "execution_count": null,
   "metadata": {
    "Collapsed": "false"
   },
   "outputs": [],
   "source": [
    "print((11 * scale, 17 * scale))"
   ]
  },
  {
   "cell_type": "code",
   "execution_count": null,
   "metadata": {
    "Collapsed": "false"
   },
   "outputs": [],
   "source": [
    "n_cols = 15\n",
    "n_iterations = 3\n",
    "\n",
    "init_vector = np.zeros(n_cols)\n",
    "init_vector[np.floor(n_cols/2).astype(int)] = 1"
   ]
  },
  {
   "cell_type": "code",
   "execution_count": null,
   "metadata": {
    "Collapsed": "false"
   },
   "outputs": [],
   "source": [
    "np.nonzero(255-output)"
   ]
  },
  {
   "cell_type": "code",
   "execution_count": null,
   "metadata": {
    "Collapsed": "false"
   },
   "outputs": [],
   "source": []
  },
  {
   "cell_type": "code",
   "execution_count": null,
   "metadata": {
    "Collapsed": "false"
   },
   "outputs": [],
   "source": [
    "output = run_automata(init_vector, n_iterations, padtype='constant')\n",
    "plt.matshow(output)"
   ]
  },
  {
   "cell_type": "code",
   "execution_count": null,
   "metadata": {
    "Collapsed": "false"
   },
   "outputs": [],
   "source": [
    "io.imsave('/mnt/c/code/side/plotter_images/bounded_rule30.jpeg', output, quality=100)"
   ]
  },
  {
   "cell_type": "code",
   "execution_count": null,
   "metadata": {
    "Collapsed": "false"
   },
   "outputs": [],
   "source": [
    "n_cols = 38\n",
    "n_iterations = 64\n",
    "\n",
    "init_vector = np.zeros(n_cols)\n",
    "# init_vector[20] = 1\n",
    "init_vector[35] = 1"
   ]
  },
  {
   "cell_type": "code",
   "execution_count": null,
   "metadata": {
    "Collapsed": "false"
   },
   "outputs": [],
   "source": [
    "output = run_automata(init_vector, n_iterations, padtype='constant')\n",
    "plt.matshow(output)"
   ]
  },
  {
   "cell_type": "code",
   "execution_count": null,
   "metadata": {
    "Collapsed": "false"
   },
   "outputs": [],
   "source": [
    "io.imsave('/mnt/c/code/side/plotter_images/bounded_rule30_2.jpeg', output, quality=100)"
   ]
  },
  {
   "cell_type": "code",
   "execution_count": null,
   "metadata": {
    "Collapsed": "false"
   },
   "outputs": [],
   "source": []
  },
  {
   "cell_type": "code",
   "execution_count": null,
   "metadata": {
    "Collapsed": "false"
   },
   "outputs": [],
   "source": [
    "from skimage import filters\n",
    "from skimage.color import rgb2gray\n",
    "from skimage.transform import rescale, resize, downscale_local_mean\n",
    "from skimage.morphology import disk\n",
    "from sklearn.preprocessing import minmax_scale\n",
    "from skimage import feature\n",
    "from skimage import exposure"
   ]
  },
  {
   "cell_type": "code",
   "execution_count": null,
   "metadata": {
    "Collapsed": "false"
   },
   "outputs": [],
   "source": [
    "\n",
    "def local_angle(dx, dy):\n",
    "    \"\"\"Calculate the angles between horizontal and vertical operators.\"\"\"\n",
    "    return np.mod(np.arctan2(dy, dx), np.pi)"
   ]
  },
  {
   "cell_type": "code",
   "execution_count": null,
   "metadata": {
    "Collapsed": "false"
   },
   "outputs": [],
   "source": [
    "image_path = '/mnt/c/code/side/plotter_images/bounded_rule30.jpeg'\n",
    "image_rescale_factor = 1\n",
    "hist_clip_limit = 0.1\n",
    "hist_nbins = 32\n",
    "hatch_spacing_min = 0.3\n",
    "hatch_spacing_max = 1\n",
    "farid_disk_size = 0"
   ]
  },
  {
   "cell_type": "code",
   "execution_count": null,
   "metadata": {
    "Collapsed": "false"
   },
   "outputs": [],
   "source": [
    "img =  rgb2gray(io.imread(Path(image_path)))\n",
    "img_rescale = rescale(img, image_rescale_factor)\n",
    "# \n",
    "img_contrast_adj = exposure.equalize_adapthist(img_rescale, clip_limit=hist_clip_limit, nbins=hist_nbins)\n",
    "img_renorm = img_contrast_adj * (hatch_spacing_max - 0.01 - hatch_spacing_min) + hatch_spacing_min\n",
    "\n",
    "# calc dominant angle\n",
    "selem = disk(farid_disk_size)\n",
    "filt_img = filters.rank.mean(img_renorm, selem)\n",
    "angle_farid = local_angle(filters.farid_h(filt_img), filters.farid_v(filt_img))\n",
    "plt.matshow(filt_img.T)"
   ]
  },
  {
   "cell_type": "code",
   "execution_count": null,
   "metadata": {
    "Collapsed": "false"
   },
   "outputs": [],
   "source": []
  },
  {
   "cell_type": "code",
   "execution_count": null,
   "metadata": {
    "Collapsed": "false"
   },
   "outputs": [],
   "source": []
  }
 ],
 "metadata": {
  "kernelspec": {
   "display_name": "Python [conda env:genpen]",
   "language": "python",
   "name": "conda-env-genpen-py"
  },
  "language_info": {
   "codemirror_mode": {
    "name": "ipython",
    "version": 3
   },
   "file_extension": ".py",
   "mimetype": "text/x-python",
   "name": "python",
   "nbconvert_exporter": "python",
   "pygments_lexer": "ipython3",
   "version": "3.8.6"
  }
 },
 "nbformat": 4,
 "nbformat_minor": 4
}

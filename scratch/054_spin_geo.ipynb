{
 "cells": [
  {
   "cell_type": "code",
   "execution_count": null,
   "id": "2ceddf1a-b75c-4c71-aa84-85d26b654915",
   "metadata": {
    "Collapsed": "false"
   },
   "outputs": [],
   "source": [
    "import itertools\n",
    "import numpy as np\n",
    "import os\n",
    "import seaborn as sns\n",
    "from tqdm import tqdm\n",
    "from dataclasses import asdict, dataclass, field\n",
    "import vsketch\n",
    "import shapely.geometry as sg\n",
    "from shapely.geometry import box, MultiLineString, Point, MultiPoint, Polygon, MultiPolygon, LineString\n",
    "import shapely.affinity as sa\n",
    "import shapely.ops as so\n",
    "import matplotlib.pyplot as plt\n",
    "import pandas as pd\n",
    "\n",
    "import vpype_cli\n",
    "from typing import List, Generic\n",
    "from genpen import genpen as gp, utils as utils\n",
    "from scipy import stats as ss\n",
    "import geopandas\n",
    "from shapely.errors import TopologicalError\n",
    "import functools\n",
    "%load_ext autoreload\n",
    "%autoreload 2\n",
    "import vpype\n",
    "from skimage import io\n",
    "from pathlib import Path\n",
    "\n",
    "import bezier\n",
    "\n",
    "from sklearn.preprocessing import minmax_scale\n",
    "from skimage import feature\n",
    "from genpen.utils import Paper\n",
    "\n",
    "from scipy import spatial, stats\n",
    "from scipy.ndimage import gaussian_filter\n",
    "from scipy.integrate import odeint\n",
    "from functools import partial\n",
    "\n",
    "from genpen.grower import *\n",
    "import fn\n",
    "from genpen.axicam import AxiCam\n",
    "\n",
    "from sklearn.preprocessing import minmax_scale\n",
    "from skimage import feature\n",
    "from skimage import exposure\n",
    "\n",
    "from skimage import filters\n",
    "from skimage.color import rgb2gray\n",
    "from skimage.transform import rescale, resize, downscale_local_mean\n",
    "from skimage.morphology import disk\n",
    "\n",
    "def local_angle(dx, dy):\n",
    "    \"\"\"Calculate the angles between horizontal and vertical operators.\"\"\"\n",
    "    return np.mod(np.arctan2(dy, dx), np.pi)\n",
    "\n",
    "from PIL import Image\n",
    "\n",
    "\n",
    "import cv2\n"
   ]
  },
  {
   "cell_type": "code",
   "execution_count": null,
   "id": "a1c6dbd8-054e-4f47-b0d6-22e98d8ae0c8",
   "metadata": {
    "Collapsed": "false"
   },
   "outputs": [],
   "source": [
    "# make page\n",
    "paper_size = '6x6 inches'\n",
    "border:float=20\n",
    "paper = Paper(paper_size)\n",
    "\n",
    "drawbox = paper.get_drawbox(border)"
   ]
  },
  {
   "cell_type": "code",
   "execution_count": null,
   "id": "2c2bd50d-4cc9-469f-9b95-5b92f5d63fa6",
   "metadata": {},
   "outputs": [],
   "source": [
    "(xbins, ybins), (xs, ys) = gp.overlay_grid(poly=drawbox, xstep=3, ystep=3, flatmesh=True)"
   ]
  },
  {
   "cell_type": "code",
   "execution_count": null,
   "id": "c817b09e-b5a9-4e62-be72-1b417f6e53b8",
   "metadata": {},
   "outputs": [],
   "source": [
    "pts = [Point(x, y) for x,y in zip(xs, ys)]"
   ]
  },
  {
   "cell_type": "code",
   "execution_count": null,
   "id": "0e24c75d-fdbc-4b30-a0f7-06b2a0096b57",
   "metadata": {},
   "outputs": [],
   "source": [
    "T_x = 0.045\n",
    "T_y = 0.33\n",
    "radius = 6"
   ]
  },
  {
   "cell_type": "code",
   "execution_count": null,
   "id": "d1222d70-8ac7-4885-b6ae-9c513a72cc68",
   "metadata": {
    "tags": []
   },
   "outputs": [],
   "source": [
    "rpolys = []\n",
    "for ii, pt in enumerate(pts):\n",
    "    angle = np.cos(T_x * pt.x) + np.sin(T_y * pt.y**0.5)\n",
    "    poly = gp.RegPolygon(\n",
    "        pt,\n",
    "        radius=radius,\n",
    "        n_corners=4,\n",
    "        rotation=np.degrees(angle),\n",
    "    )\n",
    "    rpolys.append(poly.poly)"
   ]
  },
  {
   "cell_type": "code",
   "execution_count": null,
   "id": "8b880726-cf89-4014-8893-604f6d1d1754",
   "metadata": {},
   "outputs": [],
   "source": [
    "polys = gp.merge_Polygons(rpolys)"
   ]
  },
  {
   "cell_type": "code",
   "execution_count": null,
   "id": "9abb3aca-b24e-43fa-9a74-6ebbfd57b2bd",
   "metadata": {},
   "outputs": [],
   "source": [
    "lss = polys.boundary"
   ]
  },
  {
   "cell_type": "code",
   "execution_count": null,
   "id": "ab7e5231-2b88-4cb2-9982-a8c727b06780",
   "metadata": {
    "Collapsed": "false"
   },
   "outputs": [],
   "source": [
    "sk = vsketch.Vsketch()\n",
    "sk.size(paper.page_format_mm)\n",
    "sk.scale('1mm')\n",
    "sk.penWidth('0.3mm')\n",
    "\n",
    "sk.geometry(lss)\n",
    "\n",
    "# counter = 0\n",
    "# for ls in lss:\n",
    "#     counter += 1\n",
    "#     sk.stroke(counter)\n",
    "#     sk.geometry(ls)\n",
    "    \n",
    "sk.display(color_mode='layer')"
   ]
  },
  {
   "cell_type": "code",
   "execution_count": null,
   "id": "05a79754-6cb3-4b07-be6b-319ee0ed7b3d",
   "metadata": {},
   "outputs": [],
   "source": [
    "sk.vpype('splitall linemerge linesort')"
   ]
  },
  {
   "cell_type": "code",
   "execution_count": null,
   "id": "c12aad14-4b81-4518-8564-c40cccf27b5f",
   "metadata": {},
   "outputs": [],
   "source": [
    "plot_id = fn.new_plot_id()"
   ]
  },
  {
   "cell_type": "code",
   "execution_count": null,
   "id": "624481e3-3e60-4ac3-94f0-475b41374325",
   "metadata": {},
   "outputs": [],
   "source": [
    "savedir='/home/naka/art/plotter_svgs'"
   ]
  },
  {
   "cell_type": "code",
   "execution_count": null,
   "id": "4e7a3af7-e089-417d-af58-75a100345e22",
   "metadata": {},
   "outputs": [],
   "source": [
    "savepath = Path(savedir).joinpath(f'{plot_id}.svg').as_posix()\n",
    "sk.save(savepath)"
   ]
  },
  {
   "cell_type": "code",
   "execution_count": null,
   "id": "1c044e8b-ad50-4d75-bd7d-5e0bce01ad7e",
   "metadata": {},
   "outputs": [],
   "source": []
  },
  {
   "cell_type": "markdown",
   "id": "d80e3d22-6ce8-403a-b1a0-378e8bd859cf",
   "metadata": {},
   "source": [
    "# image seed"
   ]
  },
  {
   "cell_type": "code",
   "execution_count": null,
   "id": "ab857f10-e94c-47e9-8917-4f7035563e97",
   "metadata": {},
   "outputs": [],
   "source": [
    "image_path= '/home/naka/art/vqgan_clip/tasteful_nudes.png'\n",
    "paper_size:str = '14x17 inches'\n",
    "border:float=40  # mm\n",
    "image_rescale_factor:float=0.2\n",
    "smooth_disk_size:int=0\n",
    "hist_clip_limit=0.1\n",
    "hist_nbins=32\n",
    "intensity_min=0.\n",
    "intensity_max=1.\n",
    "hatch_spacing_min=0.6  # mm\n",
    "hatch_spacing_max=1.5 # mm\n",
    "pixel_width=1 # mm\n",
    "pixel_height=1 # mm\n",
    "angle_jitter='0'  # degrees\n",
    "pixel_rotation='0'  # degrees\n",
    "merge_tolerances=[0.5, 0.8, 1.2]  # mm\n",
    "simplify_tolerances=[0.2, 0.4]  # mm\n",
    "savedir='/home/naka/art/plotter_svgs'"
   ]
  },
  {
   "cell_type": "code",
   "execution_count": null,
   "id": "8429fe5e-81c9-42b3-9fd8-3f8ec1cc120f",
   "metadata": {},
   "outputs": [],
   "source": [
    "# make page\n",
    "paper = Paper(paper_size)\n",
    "drawbox = paper.get_drawbox(border)\n",
    "db = gp.Poly(drawbox)\n",
    "# load\n",
    "# img =  io.imread(Path(image_path))"
   ]
  },
  {
   "cell_type": "code",
   "execution_count": null,
   "id": "cdc61ff9-3528-4fdc-9003-8d612e946332",
   "metadata": {},
   "outputs": [],
   "source": [
    "img =  rgb2gray(io.imread(Path(image_path)))\n",
    "img_rescale = rescale(img, image_rescale_factor)"
   ]
  },
  {
   "cell_type": "code",
   "execution_count": null,
   "id": "f20c957a-84bc-4b8c-8f59-27ccd59e9058",
   "metadata": {},
   "outputs": [],
   "source": [
    "\n",
    "        \n",
    "# \n",
    "# img_renorm = exposure.equalize_adapthist(img_rescale, clip_limit=hist_clip_limit, nbins=hist_nbins)\n",
    "img_renorm = img_rescale"
   ]
  },
  {
   "cell_type": "code",
   "execution_count": null,
   "id": "2d876bf5-f16f-4ecf-8084-526d0363029a",
   "metadata": {},
   "outputs": [],
   "source": [
    "# calc dominant angle\n",
    "selem = disk(smooth_disk_size)\n",
    "filt_img = filters.rank.mean(img_renorm, selem)"
   ]
  },
  {
   "cell_type": "code",
   "execution_count": null,
   "id": "a752d8f3-00d2-4773-b5e9-bb936f359679",
   "metadata": {},
   "outputs": [],
   "source": [
    "f,ax = plt.subplots(figsize=(10,10))\n",
    "ax.imshow(filt_img)"
   ]
  },
  {
   "cell_type": "code",
   "execution_count": null,
   "id": "0255a54a-3b1b-4a8c-999a-ffbe2da730a3",
   "metadata": {},
   "outputs": [],
   "source": [
    "prms = []\n",
    "for ii, row in enumerate(filt_img):\n",
    "    for jj, intensity in enumerate(row):\n",
    "        x = np.interp(jj, (0, filt_img.shape[1]), (db.left, db.right))\n",
    "        y = np.interp(ii, (0, filt_img.shape[0]), (db.bottom, db.top))\n",
    "        pt = Point(x, y)\n",
    "        \n",
    "        prm = {\n",
    "            'geometry':pt,\n",
    "            'x':x,\n",
    "            'y':y,\n",
    "            'ii':ii,\n",
    "            'jj':jj,\n",
    "            'intensity': intensity,\n",
    "        }\n",
    "        prms.append(prm)\n",
    "geodf = geopandas.GeoDataFrame(prms)"
   ]
  },
  {
   "cell_type": "code",
   "execution_count": null,
   "id": "066c11e1-edb3-432b-a747-0544238abf33",
   "metadata": {},
   "outputs": [],
   "source": [
    "x_spacing = geodf['x'].diff().dropna().median()\n",
    "y_spacing = geodf['y'].diff().dropna().median()\n",
    "pix_spacing = np.max((x_spacing, y_spacing))"
   ]
  },
  {
   "cell_type": "code",
   "execution_count": null,
   "id": "f0cded4c-b3bd-4e54-9436-3787311214cf",
   "metadata": {},
   "outputs": [],
   "source": [
    "geodf['radius'] = np.interp(geodf.intensity, (0, 255), (pix_spacing*0.9, 0))\n",
    "geodf['rotation'] = np.interp(geodf.intensity, (0, 255), (np.pi*4, 0))\n",
    "geodf['fill_spacing'] = np.interp(geodf.intensity, (0, 255), (-0.15, -0.7))"
   ]
  },
  {
   "cell_type": "code",
   "execution_count": null,
   "id": "1a6dbfb3-b8a8-4744-bfee-ec4843d05acd",
   "metadata": {},
   "outputs": [],
   "source": [
    "polys = []\n",
    "fills = []\n",
    "for ii, row in geodf.iterrows():\n",
    "    poly = gp.RegPolygon(\n",
    "        row['geometry'],\n",
    "        radius = x_spacing*0.7,\n",
    "        n_corners=4,\n",
    "        rotation=45\n",
    "    )\n",
    "    p = gp.Poly(poly.poly)\n",
    "\n",
    "    prms = gp.ScaleTransPrms(\n",
    "        n_iters=200,\n",
    "        d_buffer=row['fill_spacing'],\n",
    "        d_translate_factor=0.4,\n",
    "        angles=row['rotation'],\n",
    "    )\n",
    "    p.fill_scale_trans(**prms.prms)\n",
    "    polys.append(p.p)\n",
    "    fills.append(p.fill)"
   ]
  },
  {
   "cell_type": "code",
   "execution_count": null,
   "id": "1861fb6c-411e-4ce3-8695-79cd28454b45",
   "metadata": {},
   "outputs": [],
   "source": [
    "fills = gp.merge_LineStrings(fills)"
   ]
  },
  {
   "cell_type": "code",
   "execution_count": null,
   "id": "9df95e48-260c-41cf-8158-0ddc51576091",
   "metadata": {},
   "outputs": [],
   "source": [
    "fills = gp.make_like(fills, drawbox)"
   ]
  },
  {
   "cell_type": "code",
   "execution_count": null,
   "id": "8e4e0862-c7f9-4e43-8d00-400ae63f7c74",
   "metadata": {
    "Collapsed": "false"
   },
   "outputs": [],
   "source": [
    "sk = vsketch.Vsketch()\n",
    "sk.size(paper.page_format_mm)\n",
    "sk.scale('1mm')\n",
    "sk.penWidth('0.3mm')\n",
    "\n",
    "sk.geometry(fills)\n",
    "\n",
    "# counter = 0\n",
    "# for ls in lss:\n",
    "#     counter += 1\n",
    "#     sk.stroke(counter)\n",
    "#     sk.geometry(ls)\n",
    "    \n",
    "sk.display(color_mode='layer')"
   ]
  },
  {
   "cell_type": "code",
   "execution_count": null,
   "id": "c4d56ca0-8905-4478-bd1b-87ca5f4b783d",
   "metadata": {},
   "outputs": [],
   "source": []
  },
  {
   "cell_type": "code",
   "execution_count": null,
   "id": "4939b469-313c-465e-a2de-fc425e2ac0b0",
   "metadata": {},
   "outputs": [],
   "source": [
    "sk.vpype('splitall linemerge linesort')"
   ]
  },
  {
   "cell_type": "code",
   "execution_count": null,
   "id": "5340ea65-3935-4818-8b9f-42ae8320b62c",
   "metadata": {},
   "outputs": [],
   "source": [
    "plot_id = fn.new_plot_id()"
   ]
  },
  {
   "cell_type": "code",
   "execution_count": null,
   "id": "63235458-cfce-4beb-ba29-a23f8c63f921",
   "metadata": {},
   "outputs": [],
   "source": [
    "savedir='/home/naka/art/plotter_svgs'"
   ]
  },
  {
   "cell_type": "code",
   "execution_count": null,
   "id": "6d65c4e8-4caa-4097-872a-beeeee986b25",
   "metadata": {},
   "outputs": [],
   "source": [
    "savepath = Path(savedir).joinpath(f'{plot_id}.svg').as_posix()\n",
    "sk.save(savepath)"
   ]
  },
  {
   "cell_type": "code",
   "execution_count": null,
   "id": "175460c5-8c80-4165-bd88-95116eb2552c",
   "metadata": {},
   "outputs": [],
   "source": []
  },
  {
   "cell_type": "markdown",
   "id": "a4b147f1-c922-4316-90bd-5d8eb4096dc7",
   "metadata": {},
   "source": []
  },
  {
   "cell_type": "code",
   "execution_count": null,
   "id": "80eeafd7-dce3-4dc6-8f45-784bfab82c8b",
   "metadata": {
    "Collapsed": "false"
   },
   "outputs": [],
   "source": [
    "# make page\n",
    "paper_size = '14x17 inches'\n",
    "border:float=30\n",
    "paper = Paper(paper_size)\n",
    "\n",
    "drawbox = paper.get_drawbox(border)"
   ]
  },
  {
   "cell_type": "code",
   "execution_count": null,
   "id": "800557cb-ba7f-4f72-b6a9-808f3fa91d76",
   "metadata": {},
   "outputs": [],
   "source": [
    "step_size = 6"
   ]
  },
  {
   "cell_type": "code",
   "execution_count": null,
   "id": "cfdee0c8-b2dd-464a-ac46-2e935da777dd",
   "metadata": {},
   "outputs": [],
   "source": [
    "(xbins, ybins), (xs, ys) = gp.overlay_grid(poly=drawbox, xstep=step_size, ystep=step_size, flatmesh=True)"
   ]
  },
  {
   "cell_type": "code",
   "execution_count": null,
   "id": "6489b183-bd85-456e-97e0-8077fdc57200",
   "metadata": {},
   "outputs": [],
   "source": [
    "pts = [Point(x, y) for x,y in zip(xs, ys)]"
   ]
  },
  {
   "cell_type": "code",
   "execution_count": null,
   "id": "1a9ebaf8-dd12-4064-be35-8971696ba897",
   "metadata": {},
   "outputs": [],
   "source": [
    "T_x = 0.045\n",
    "T_y = 0.33\n",
    "radius = 3.3"
   ]
  },
  {
   "cell_type": "code",
   "execution_count": null,
   "id": "8a3f7eed-bcca-4628-86f7-d45ec509435d",
   "metadata": {},
   "outputs": [],
   "source": [
    "prms = []\n",
    "for ii, pt in enumerate(pts):\n",
    "    intensity = np.cos(T_x * pt.x) + np.sin(T_y * pt.y**0.5)\n",
    "    \n",
    "    prm = {\n",
    "        'geometry':pt,\n",
    "        'intensity': intensity,\n",
    "    }\n",
    "    prms.append(prm)\n",
    "geodf = geopandas.GeoDataFrame(prms)"
   ]
  },
  {
   "cell_type": "code",
   "execution_count": null,
   "id": "a781f12d-0303-493b-8429-1916e9aab95c",
   "metadata": {},
   "outputs": [],
   "source": [
    "geodf['radius'] = np.interp(geodf.intensity, (-2, 2), (radius, radius))\n",
    "geodf['rotation'] = np.interp(geodf.intensity, (-2, 2), (np.pi*4, 0))\n",
    "geodf['fill_spacing'] = np.interp(geodf.intensity, (-2, 2), (-0.5, -1.4))"
   ]
  },
  {
   "cell_type": "code",
   "execution_count": null,
   "id": "1bec417e-c6ac-4475-900b-ce8cd1ef7ff3",
   "metadata": {},
   "outputs": [],
   "source": [
    "polys = []\n",
    "fills = []\n",
    "for ii, row in geodf.iterrows():\n",
    "    poly = gp.RegPolygon(\n",
    "        row['geometry'],\n",
    "        radius = row['radius'],\n",
    "        n_corners=4,\n",
    "        rotation=45\n",
    "    )\n",
    "    p = gp.Poly(poly.poly)\n",
    "\n",
    "    prms = gp.ScaleTransPrms(\n",
    "        n_iters=200,\n",
    "        d_buffer=row['fill_spacing'],\n",
    "        d_translate_factor=0.8,\n",
    "        angles=row['rotation'],\n",
    "    )\n",
    "    p.fill_scale_trans(**prms.prms)\n",
    "    polys.append(p.p)\n",
    "    fills.append(p.fill)"
   ]
  },
  {
   "cell_type": "code",
   "execution_count": null,
   "id": "7e642ef2-e7ea-4421-9d1a-de2fea92e7e2",
   "metadata": {},
   "outputs": [],
   "source": [
    "fills = gp.merge_LineStrings(fills)"
   ]
  },
  {
   "cell_type": "code",
   "execution_count": null,
   "id": "ba3685a3-babf-4100-a04d-eeed73fa6d61",
   "metadata": {},
   "outputs": [],
   "source": [
    "fills = gp.make_like(fills, drawbox)"
   ]
  },
  {
   "cell_type": "code",
   "execution_count": null,
   "id": "75912d01-d132-4fa9-9b05-a12f8a6988f3",
   "metadata": {
    "Collapsed": "false"
   },
   "outputs": [],
   "source": [
    "sk = vsketch.Vsketch()\n",
    "sk.size(paper.page_format_mm)\n",
    "sk.scale('1mm')\n",
    "sk.penWidth('0.3mm')\n",
    "\n",
    "sk.geometry(fills)\n",
    "\n",
    "# counter = 0\n",
    "# for ls in lss:\n",
    "#     counter += 1\n",
    "#     sk.stroke(counter)\n",
    "#     sk.geometry(ls)\n",
    "    \n",
    "sk.display(color_mode='layer')"
   ]
  },
  {
   "cell_type": "code",
   "execution_count": null,
   "id": "70e5106c-c8cb-4d5a-963f-a63d5c4399f5",
   "metadata": {},
   "outputs": [],
   "source": [
    "sk.vpype('splitall linemerge linesort')"
   ]
  },
  {
   "cell_type": "code",
   "execution_count": null,
   "id": "2c95de44-8d1d-49c2-9dc7-a120e0572bf9",
   "metadata": {},
   "outputs": [],
   "source": [
    "plot_id = fn.new_plot_id()"
   ]
  },
  {
   "cell_type": "code",
   "execution_count": null,
   "id": "51577e5b-33dd-4303-82ee-01dea3e6ea92",
   "metadata": {},
   "outputs": [],
   "source": [
    "savedir='/home/naka/art/plotter_svgs'"
   ]
  },
  {
   "cell_type": "code",
   "execution_count": null,
   "id": "612c2918-95ac-4a9c-ad79-e638cdd996f3",
   "metadata": {},
   "outputs": [],
   "source": [
    "savepath = Path(savedir).joinpath(f'{plot_id}.svg').as_posix()\n",
    "sk.save(savepath)"
   ]
  },
  {
   "cell_type": "markdown",
   "id": "a9aa0add-9140-406b-b539-8f3b45c84078",
   "metadata": {},
   "source": [
    "# postcard"
   ]
  },
  {
   "cell_type": "code",
   "execution_count": null,
   "id": "fcb6671a-4327-4e41-8a65-4a82840bef9e",
   "metadata": {},
   "outputs": [],
   "source": [
    "image_path= '/home/naka/art/vqgan_clip/20210816_014617_books_rising_out_of_the_watervray_unreal_engine_style0091.png'\n",
    "paper_size = '14x11 inches'\n",
    "border:float=10\n",
    "image_rescale_factor:float=0.5\n",
    "smooth_disk_size:int=0\n",
    "hist_clip_limit=0.1\n",
    "hist_nbins=32\n",
    "intensity_min=0.\n",
    "intensity_max=1.\n",
    "hatch_spacing_min=0.6  # mm\n",
    "hatch_spacing_max=1.5 # mm\n",
    "pixel_width=1 # mm\n",
    "pixel_height=1 # mm\n",
    "angle_jitter='0'  # degrees\n",
    "pixel_rotation='0'  # degrees\n",
    "merge_tolerances=[0.5, 0.8, 1.2]  # mm\n",
    "simplify_tolerances=[0.2, 0.4]  # mm\n",
    "savedir='/home/naka/art/plotter_svgs'"
   ]
  },
  {
   "cell_type": "code",
   "execution_count": null,
   "id": "34af6f00-b126-49a1-84e1-726119f61210",
   "metadata": {},
   "outputs": [],
   "source": [
    "# make page\n",
    "paper = Paper(paper_size)\n",
    "drawbox = paper.get_drawbox(border)\n",
    "db = gp.Poly(drawbox)\n",
    "# load\n",
    "# img =  io.imread(Path(image_path))"
   ]
  },
  {
   "cell_type": "code",
   "execution_count": null,
   "id": "abcdbbee-0dbe-466c-8785-cb7e34de1786",
   "metadata": {},
   "outputs": [],
   "source": [
    "img =  rgb2gray(io.imread(Path(image_path)))\n",
    "img_rescale = rescale(img, image_rescale_factor)"
   ]
  },
  {
   "cell_type": "code",
   "execution_count": null,
   "id": "9aceffbd-97a7-494d-a86b-286b6ea009ac",
   "metadata": {},
   "outputs": [],
   "source": [
    "\n",
    "        \n",
    "# \n",
    "# img_renorm = exposure.equalize_adapthist(img_rescale, clip_limit=hist_clip_limit, nbins=hist_nbins)\n",
    "img_renorm = img_rescale"
   ]
  },
  {
   "cell_type": "code",
   "execution_count": null,
   "id": "e415d380-2506-4b39-966b-7baf43d2e8a0",
   "metadata": {},
   "outputs": [],
   "source": [
    "# calc dominant angle\n",
    "selem = disk(smooth_disk_size)\n",
    "filt_img = filters.rank.mean(img_renorm, selem)"
   ]
  },
  {
   "cell_type": "code",
   "execution_count": null,
   "id": "d7a2f672-d6c8-442e-995e-25cb0f94fc27",
   "metadata": {},
   "outputs": [],
   "source": [
    "f,ax = plt.subplots(figsize=(10,10))\n",
    "ax.imshow(filt_img)"
   ]
  },
  {
   "cell_type": "code",
   "execution_count": null,
   "id": "1f2266d8-305c-4e75-9749-d993900bf422",
   "metadata": {},
   "outputs": [],
   "source": [
    "prms = []\n",
    "for ii, row in enumerate(filt_img):\n",
    "    for jj, intensity in enumerate(row):\n",
    "        x = np.interp(jj, (0, filt_img.shape[1]), (db.left, db.right))\n",
    "        y = np.interp(ii, (0, filt_img.shape[0]), (db.bottom, db.top))\n",
    "        pt = Point(x, y)\n",
    "        \n",
    "        prm = {\n",
    "            'geometry':pt,\n",
    "            'x':x,\n",
    "            'y':y,\n",
    "            'ii':ii,\n",
    "            'jj':jj,\n",
    "            'intensity': intensity,\n",
    "        }\n",
    "        prms.append(prm)\n",
    "geodf = geopandas.GeoDataFrame(prms)"
   ]
  },
  {
   "cell_type": "code",
   "execution_count": null,
   "id": "f7aa3203-308d-41d2-8d20-70c4b9c4b08e",
   "metadata": {},
   "outputs": [],
   "source": [
    "x_spacing = geodf['x'].diff().dropna().median()\n",
    "y_spacing = geodf['y'].diff().dropna().median()\n",
    "pix_spacing = np.max((x_spacing, y_spacing))\n",
    "print(pix_spacing)"
   ]
  },
  {
   "cell_type": "code",
   "execution_count": null,
   "id": "9fec8c1f-d586-4431-833d-9af2adba2dd3",
   "metadata": {},
   "outputs": [],
   "source": [
    "geodf['radius'] = np.interp(geodf.intensity, (0, 255), (pix_spacing*0.9, 0))\n",
    "geodf['rotation'] = np.interp(geodf.intensity, (0, 255), (np.pi*4, 0))\n",
    "geodf['fill_spacing'] = np.interp(geodf.intensity, (0, 255), (-0.17, -0.65))"
   ]
  },
  {
   "cell_type": "code",
   "execution_count": null,
   "id": "5fc5cf73-5278-4918-a72c-4ca1ba8cd738",
   "metadata": {},
   "outputs": [],
   "source": [
    "polys = []\n",
    "fills = []\n",
    "for ii, row in geodf.iterrows():\n",
    "    poly = gp.RegPolygon(\n",
    "        row['geometry'],\n",
    "        radius = x_spacing*0.7,\n",
    "        n_corners=4,\n",
    "        rotation=45\n",
    "    )\n",
    "    p = gp.Poly(poly.poly)\n",
    "\n",
    "    prms = gp.ScaleTransPrms(\n",
    "        n_iters=200,\n",
    "        d_buffer=row['fill_spacing'],\n",
    "        d_translate_factor=0.4,\n",
    "        angles=row['rotation'],\n",
    "    )\n",
    "    p.fill_scale_trans(**prms.prms)\n",
    "    polys.append(p.p)\n",
    "    fills.append(p.fill)"
   ]
  },
  {
   "cell_type": "code",
   "execution_count": null,
   "id": "6fc8e4a9-0a97-4833-a298-200921ab5fdd",
   "metadata": {},
   "outputs": [],
   "source": [
    "fills = gp.merge_LineStrings(fills)"
   ]
  },
  {
   "cell_type": "code",
   "execution_count": null,
   "id": "d0185cad-8eb9-4532-a0b2-41f5759795f4",
   "metadata": {},
   "outputs": [],
   "source": [
    "fills = gp.make_like(fills, drawbox)"
   ]
  },
  {
   "cell_type": "code",
   "execution_count": null,
   "id": "92880c3c-759c-4973-ae99-bcfe457f7c6a",
   "metadata": {
    "Collapsed": "false"
   },
   "outputs": [],
   "source": [
    "sk = vsketch.Vsketch()\n",
    "sk.size(paper.page_format_mm)\n",
    "sk.scale('1mm')\n",
    "sk.penWidth('0.3mm')\n",
    "\n",
    "sk.geometry(fills)\n",
    "\n",
    "# counter = 0\n",
    "# for ls in lss:\n",
    "#     counter += 1\n",
    "#     sk.stroke(counter)\n",
    "#     sk.geometry(ls)\n",
    "    \n",
    "sk.display(color_mode='layer')"
   ]
  },
  {
   "cell_type": "code",
   "execution_count": null,
   "id": "aed42f00-19c1-4552-803d-ecb5f9c3b728",
   "metadata": {},
   "outputs": [],
   "source": [
    "sk.vpype('splitall linemerge linesort')"
   ]
  },
  {
   "cell_type": "code",
   "execution_count": null,
   "id": "95f96062-a959-44ea-85a3-02bdbbb7af34",
   "metadata": {},
   "outputs": [],
   "source": [
    "plot_id = fn.new_plot_id()"
   ]
  },
  {
   "cell_type": "code",
   "execution_count": null,
   "id": "942f30c9-0db7-4155-b74f-1c837dfea089",
   "metadata": {},
   "outputs": [],
   "source": [
    "savedir='/home/naka/art/plotter_svgs'"
   ]
  },
  {
   "cell_type": "code",
   "execution_count": null,
   "id": "67478f2e-a62d-470f-bec9-73dadecd2161",
   "metadata": {},
   "outputs": [],
   "source": [
    "savepath = Path(savedir).joinpath(f'{plot_id}.svg').as_posix()\n",
    "sk.save(savepath)"
   ]
  },
  {
   "cell_type": "code",
   "execution_count": null,
   "id": "96879dc7-5603-4b7a-a4bb-d6e5b67eda37",
   "metadata": {},
   "outputs": [],
   "source": [
    "11 * 14"
   ]
  },
  {
   "cell_type": "markdown",
   "id": "095dd8bc-8f5e-4788-af8b-f39decdd0c32",
   "metadata": {},
   "source": [
    "# "
   ]
  },
  {
   "cell_type": "code",
   "execution_count": null,
   "id": "cb5d83bf-8bd5-430e-aa4b-926f972ab5aa",
   "metadata": {},
   "outputs": [],
   "source": [
    "11/14"
   ]
  },
  {
   "cell_type": "code",
   "execution_count": null,
   "id": "2bac8cc2-0755-4d4c-a978-d257128628eb",
   "metadata": {},
   "outputs": [],
   "source": [
    "540 * 540"
   ]
  },
  {
   "cell_type": "code",
   "execution_count": null,
   "id": "457a5959-e615-41fd-ac11-7a12c0bc2a50",
   "metadata": {},
   "outputs": [],
   "source": [
    "540 * 0.78"
   ]
  }
 ],
 "metadata": {
  "kernelspec": {
   "display_name": "Python [conda env:genpen]",
   "language": "python",
   "name": "conda-env-genpen-py"
  },
  "language_info": {
   "codemirror_mode": {
    "name": "ipython",
    "version": 3
   },
   "file_extension": ".py",
   "mimetype": "text/x-python",
   "name": "python",
   "nbconvert_exporter": "python",
   "pygments_lexer": "ipython3",
   "version": "3.8.8"
  }
 },
 "nbformat": 4,
 "nbformat_minor": 5
}

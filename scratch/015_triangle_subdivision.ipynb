{
 "cells": [
  {
   "cell_type": "code",
   "execution_count": null,
   "metadata": {
    "Collapsed": "false"
   },
   "outputs": [],
   "source": [
    "import itertools\n",
    "import numpy as np\n",
    "import os\n",
    "import seaborn as sns\n",
    "from tqdm import tqdm\n",
    "from dataclasses import asdict, dataclass, field\n",
    "import vsketch\n",
    "import shapely.geometry as sg\n",
    "from shapely.geometry import box, MultiLineString, Point, MultiPoint, Polygon, MultiPolygon, LineString\n",
    "import shapely.affinity as sa\n",
    "import shapely.ops as so\n",
    "import matplotlib.pyplot as plt\n",
    "import pandas as pd\n",
    "\n",
    "import vpype_cli\n",
    "from typing import List, Generic\n",
    "from genpen import genpen as gp, utils as utils\n",
    "from scipy import stats as ss\n",
    "import geopandas\n",
    "from shapely.errors import TopologicalError\n",
    "import functools\n",
    "%load_ext autoreload\n",
    "%autoreload 2\n",
    "import vpype\n",
    "from skimage import io\n",
    "from pathlib import Path\n",
    "\n",
    "from sklearn.preprocessing import minmax_scale\n",
    "from skimage import feature\n",
    "from genpen.utils import Paper"
   ]
  },
  {
   "cell_type": "code",
   "execution_count": null,
   "metadata": {
    "Collapsed": "false"
   },
   "outputs": [],
   "source": [
    "# make page\n",
    "paper_size = '11x14 inches'\n",
    "border:float=20\n",
    "paper = Paper(paper_size)\n",
    "\n",
    "drawbox = paper.get_drawbox(border)"
   ]
  },
  {
   "cell_type": "code",
   "execution_count": null,
   "metadata": {
    "Collapsed": "false"
   },
   "outputs": [],
   "source": [
    "def poly_to_edges(poly):\n",
    "    bcoords = poly.boundary.coords\n",
    "    n_edges = len(bcoords)-1\n",
    "    edges = [LineString((bcoords[i], bcoords[i+1])) for i in range(n_edges)]\n",
    "    return edges"
   ]
  },
  {
   "cell_type": "code",
   "execution_count": null,
   "metadata": {
    "Collapsed": "false"
   },
   "outputs": [],
   "source": [
    "def inscribe_poly(edges, interp_distances):\n",
    "    pts = [edge.interpolate(d, normalized=True) for edge,d in zip(edges, interp_distances)]\n",
    "    return Polygon(pts)"
   ]
  },
  {
   "cell_type": "code",
   "execution_count": null,
   "metadata": {
    "Collapsed": "false"
   },
   "outputs": [],
   "source": [
    "def subdivide_poly(poly, interp_distances):\n",
    "    edges = poly_to_edges(poly)\n",
    "    inscribed_poly = inscribe_poly(edges, interp_distances)\n",
    "    subdivided_poly = gp.merge_Polygons([poly.difference(inscribed_poly), inscribed_poly]).buffer(-0.001)\n",
    "    return [p for p in subdivided_poly]"
   ]
  },
  {
   "cell_type": "code",
   "execution_count": null,
   "metadata": {
    "Collapsed": "false"
   },
   "outputs": [],
   "source": [
    "def subdivide_gdf_row(parent_row, distances):\n",
    "    current_generation = parent_row['generation'] + 1\n",
    "    poly = parent_row['geometry']\n",
    "    new_polys = subdivide_poly(poly, distances)\n",
    "    ids =[id(p) for p in new_polys]\n",
    "    ndf = geopandas.GeoDataFrame({\n",
    "        'geometry':new_polys,\n",
    "        'id':ids,\n",
    "    })\n",
    "    ndf['distances'] = [distances] * len(ndf)\n",
    "    ndf['generation'] = current_generation\n",
    "    ndf['subdivided'] = False\n",
    "    ndf['parent'] = parent_row['id']\n",
    "    return ndf"
   ]
  },
  {
   "cell_type": "code",
   "execution_count": null,
   "metadata": {
    "Collapsed": "false"
   },
   "outputs": [],
   "source": [
    "def subdivide_rows(df, index, distances):\n",
    "    ndfs = []\n",
    "    for i in index:\n",
    "        parent_row = df.iloc[i, :]\n",
    "        ndf = subdivide_gdf_row(parent_row, distances)\n",
    "        ndfs.append(ndf)\n",
    "        df.loc[i, 'subdivided'] = True\n",
    "        merged = df.append(pd.concat(ndfs)).reset_index(drop=True)\n",
    "    return geopandas.GeoDataFrame(merged)"
   ]
  },
  {
   "cell_type": "code",
   "execution_count": null,
   "metadata": {
    "Collapsed": "false"
   },
   "outputs": [],
   "source": [
    "drawbox.bounds"
   ]
  },
  {
   "cell_type": "code",
   "execution_count": null,
   "metadata": {
    "Collapsed": "false"
   },
   "outputs": [],
   "source": [
    "# initialize\n",
    "trcp = gp.RecursiveCirclePacker(drawbox.buffer(20), rad_seq_start=0.25,\n",
    "    rad_seq_end=0.22, min_allowed_rad=2, n_rads=10, )\n",
    "trcp.run(1)\n",
    "vertices = MultiPoint([c.centroid for c in trcp.unfilled_circles])\n",
    "tris = so.triangulate(vertices)\n",
    "gp.merge_Polygons(tris)\n",
    "\n",
    "\n",
    "# # initialize\n",
    "lower_left = (20.0, 20.0)\n",
    "top = (130, 335)\n",
    "lower_right = (260, 20)\n",
    "tris = [Polygon([lower_left, top, lower_right]),]"
   ]
  },
  {
   "cell_type": "code",
   "execution_count": null,
   "metadata": {
    "Collapsed": "false"
   },
   "outputs": [],
   "source": [
    "\n",
    "ids =[id(tri) for tri in tris]\n",
    "parents_df = geopandas.GeoDataFrame({\n",
    "    'geometry': tris,\n",
    "    'id': ids,\n",
    "    'distances': [[None]] * len(tris),\n",
    "    'generation': [0] * len(tris),\n",
    "    'subdivided': [False] * len(tris),\n",
    "    'parent': [None] * len(tris),\n",
    "    },\n",
    ")"
   ]
  },
  {
   "cell_type": "code",
   "execution_count": null,
   "metadata": {
    "Collapsed": "false"
   },
   "outputs": [],
   "source": [
    "child_dfs = []\n",
    "for _, _df in parents_df.iterrows():\n",
    "    df = _df.to_frame().T\n",
    "    distances = [0.7, 0.7, 0.7]\n",
    "    n_generations = 3\n",
    "    for generation in range(n_generations):\n",
    "        index = np.flatnonzero(df['generation'] == generation)\n",
    "        df = subdivide_rows(df, index, distances)\n",
    "        \n",
    "    child_dfs.append(df)\n",
    "    \n",
    "all_df = pd.concat(child_dfs)\n",
    "all_df = geopandas.GeoDataFrame(all_df)"
   ]
  },
  {
   "cell_type": "code",
   "execution_count": null,
   "metadata": {
    "Collapsed": "false"
   },
   "outputs": [],
   "source": [
    "bottom = all_df.query('subdivided == False')"
   ]
  },
  {
   "cell_type": "code",
   "execution_count": null,
   "metadata": {
    "Collapsed": "false"
   },
   "outputs": [],
   "source": [
    "layers = []\n",
    "for gen, group in bottom.groupby('generation'):\n",
    "    layer = gp.merge_Polygons([ls for ls in group.geometry if ls is not None]).buffer(-0.5, cap_style=2, join_style=2).boundary      \n",
    "    layers.append(layer)"
   ]
  },
  {
   "cell_type": "code",
   "execution_count": null,
   "metadata": {
    "Collapsed": "false"
   },
   "outputs": [],
   "source": [
    "layers = []\n",
    "for gen, group in bottom.groupby('generation'):\n",
    "    layer = gp.merge_LineStrings([ls for ls in group.boundary if ls is not None])\n",
    "    layers.append(layer)"
   ]
  },
  {
   "cell_type": "code",
   "execution_count": null,
   "metadata": {
    "Collapsed": "false"
   },
   "outputs": [],
   "source": [
    "sk = vsketch.Vsketch()\n",
    "sk.size(paper.page_format_mm)\n",
    "sk.scale('1mm')\n",
    "sk.penWidth('0.1mm')\n",
    "for i, layer in enumerate(layers):\n",
    "    sk.stroke(i+1)\n",
    "    sk.geometry(layer)\n",
    "\n",
    "# tolerance=0.5\n",
    "# sk.vpype(f'linemerge --tolerance {tolerance}mm linesort')\n",
    "\n",
    "sk.display()"
   ]
  },
  {
   "cell_type": "code",
   "execution_count": null,
   "metadata": {
    "Collapsed": "false"
   },
   "outputs": [],
   "source": [
    "sk.vpype(f'linemerge --tolerance 0.1mm linesort')"
   ]
  },
  {
   "cell_type": "code",
   "execution_count": null,
   "metadata": {
    "Collapsed": "false"
   },
   "outputs": [],
   "source": [
    "sk.save('/mnt/c/code/side/plotter_images/oned_outputs/163_triangle_subdivision.svg')"
   ]
  },
  {
   "cell_type": "markdown",
   "metadata": {
    "Collapsed": "false"
   },
   "source": [
    "# division"
   ]
  },
  {
   "cell_type": "code",
   "execution_count": null,
   "metadata": {
    "Collapsed": "false"
   },
   "outputs": [],
   "source": [
    "# make page\n",
    "paper_size = '17x11 inches'\n",
    "border:float=20\n",
    "paper = Paper(paper_size)\n",
    "\n",
    "drawbox = paper.get_drawbox(border)"
   ]
  },
  {
   "cell_type": "code",
   "execution_count": null,
   "metadata": {
    "Collapsed": "false"
   },
   "outputs": [],
   "source": [
    "states = geopandas.read_file('/mnt/c/data/side/maps/cb_2018_us_state_20m/cb_2018_us_state_20m.shp')\n",
    "\n",
    "continental = ~states['NAME'].isin(['Hawaii', 'Alaska', 'Puerto Rico'])\n",
    "\n",
    "cnt = states.loc[continental,:].unary_union.centroid\n"
   ]
  },
  {
   "cell_type": "code",
   "execution_count": null,
   "metadata": {
    "Collapsed": "false"
   },
   "outputs": [],
   "source": [
    "\n",
    "states['geometry'] = states['geometry'].scale(xfact=1.3, yfact=-1.5, origin=cnt)\n",
    "us_poly = gp.make_like(states.loc[continental,:].unary_union, drawbox)"
   ]
  },
  {
   "cell_type": "code",
   "execution_count": null,
   "metadata": {
    "Collapsed": "false"
   },
   "outputs": [],
   "source": [
    "start_poly = us_poly.buffer(50)"
   ]
  },
  {
   "cell_type": "code",
   "execution_count": null,
   "metadata": {
    "Collapsed": "false"
   },
   "outputs": [],
   "source": [
    "border_pts = [start_poly.boundary.interpolate(i, normalized=True) for i in np.linspace(0, 1, 10)]"
   ]
  },
  {
   "cell_type": "code",
   "execution_count": null,
   "metadata": {
    "Collapsed": "false"
   },
   "outputs": [],
   "source": [
    "trcp = gp.RecursiveCirclePacker(start_poly, rad_seq_start=0.18,\n",
    "    rad_seq_end=0.18, min_allowed_rad=2, n_rads=10, )\n",
    "trcp.run(1)\n",
    "vertices = MultiPoint([c.centroid for c in trcp.unfilled_circles] + border_pts)\n",
    "tris = so.triangulate(vertices)"
   ]
  },
  {
   "cell_type": "code",
   "execution_count": null,
   "metadata": {
    "Collapsed": "false"
   },
   "outputs": [],
   "source": [
    "def choose_among_valid_and_subdivide_recursive(df, valid, distances, n_iters, n_per_iter=None):\n",
    "    if valid.sum() > 0:\n",
    "        p = df[valid].area / df[valid].area.sum()\n",
    "        if n_per_iter==None:\n",
    "            n_per_iter = len(df[valid])\n",
    "        id_choices = np.random.choice(df.loc[valid, 'id'], size=n_per_iter, p=p, replace=False)\n",
    "        index = np.flatnonzero(df['id'].isin(id_choices))\n",
    "        \n",
    "        \n",
    "        if n_iters == 0:\n",
    "            return df\n",
    "        elif n_iters > 0:\n",
    "            df = subdivide_rows(df, index, distances)\n",
    "            n_iters -= 1\n",
    "            valid = (df['generation'] < max_generation) & (df['parent'].isin(id_choices))\n",
    "            return choose_among_valid_and_subdivide_recursive(df, valid, distances, n_iters)\n",
    "    else:\n",
    "        return df"
   ]
  },
  {
   "cell_type": "code",
   "execution_count": null,
   "metadata": {
    "Collapsed": "false"
   },
   "outputs": [],
   "source": [
    "\n",
    "ids =[id(tri) for tri in tris]\n",
    "df = geopandas.GeoDataFrame({\n",
    "    'geometry': tris,\n",
    "    'id': ids,\n",
    "    'distances': [[None]] * len(tris),\n",
    "    'generation': [0] * len(tris),\n",
    "    'subdivided': [False] * len(tris),\n",
    "    'parent': [None] * len(tris),\n",
    "    },\n",
    ")"
   ]
  },
  {
   "cell_type": "code",
   "execution_count": null,
   "metadata": {
    "Collapsed": "false"
   },
   "outputs": [],
   "source": [
    "max_generation = 7\n",
    "n_subdivisions = 200\n",
    "distances = [0.3, 0.7, 0.3]"
   ]
  },
  {
   "cell_type": "code",
   "execution_count": null,
   "metadata": {
    "Collapsed": "false"
   },
   "outputs": [],
   "source": [
    "valid = (df['generation'] < max_generation) & ~df['subdivided']\n",
    "df = choose_among_valid_and_subdivide_recursive(df, valid, distances, n_iters=1, n_per_iter=None)"
   ]
  },
  {
   "cell_type": "code",
   "execution_count": null,
   "metadata": {
    "Collapsed": "false"
   },
   "outputs": [],
   "source": [
    "for i in range(n_subdivisions):\n",
    "    valid = (df['generation'] < max_generation) & ~df['subdivided']\n",
    "    df = choose_among_valid_and_subdivide_recursive(df, valid, distances, n_iters=np.random.randint(1,4), n_per_iter=1)"
   ]
  },
  {
   "cell_type": "code",
   "execution_count": null,
   "metadata": {
    "Collapsed": "false"
   },
   "outputs": [],
   "source": [
    "# valid = (df['generation'] < max_generation) & ~df['subdivided']\n",
    "# df = choose_among_valid_and_subdivide_recursive(df, valid, distances, n_iters=3, n_per_iter=2)\n",
    "\n",
    "layers = []\n",
    "bottom = df.query('subdivided == False')\n",
    "for gen, group in bottom.groupby('generation'):\n",
    "    layer = gp.merge_LineStrings([ls for ls in group.boundary if ls is not None])\n",
    "    layers.append(layer)\n",
    "\n",
    "sk = vsketch.Vsketch()\n",
    "sk.size(paper.page_format_mm)\n",
    "sk.scale('1mm')\n",
    "sk.penWidth('0.1mm')\n",
    "for i, layer in enumerate(layers):\n",
    "    sk.stroke(i+1)\n",
    "    sk.geometry(layer)\n",
    "sk.display()"
   ]
  },
  {
   "cell_type": "code",
   "execution_count": null,
   "metadata": {
    "Collapsed": "false"
   },
   "outputs": [],
   "source": [
    "for i in df['id']:\n",
    "    # top level\n",
    "    valid = (df['generation'] < max_generation) & ~df['subdivided']\n",
    "    df = choose_among_valid_and_subdivide_recursive(df, valid, distances, n_iters=1, id_choice=i)\n",
    "        \n",
    "    "
   ]
  },
  {
   "cell_type": "code",
   "execution_count": null,
   "metadata": {
    "Collapsed": "false"
   },
   "outputs": [],
   "source": [
    "valid = (df['generation'] < max_generation) & ~df['subdivided']\n",
    "df = choose_among_valid_and_subdivide_recursive(df, valid, distances, n_iters=3)"
   ]
  },
  {
   "cell_type": "code",
   "execution_count": null,
   "metadata": {
    "Collapsed": "false"
   },
   "outputs": [],
   "source": [
    "layers = []\n",
    "bottom = df.query('subdivided == False')\n",
    "for gen, group in bottom.groupby('generation'):\n",
    "    layer = gp.merge_LineStrings([ls for ls in group.boundary if ls is not None])\n",
    "    diff_layer = layer.intersection(us_poly)\n",
    "    layers.append(diff_layer)"
   ]
  },
  {
   "cell_type": "code",
   "execution_count": null,
   "metadata": {
    "Collapsed": "false"
   },
   "outputs": [],
   "source": [
    "sk = vsketch.Vsketch()\n",
    "sk.size(paper.page_format_mm)\n",
    "sk.scale('1mm')\n",
    "sk.penWidth('0.1mm')\n",
    "for i, layer in enumerate(layers):\n",
    "    sk.stroke(i+1)\n",
    "    sk.geometry(layer)\n",
    "sk.display()"
   ]
  },
  {
   "cell_type": "code",
   "execution_count": null,
   "metadata": {
    "Collapsed": "false"
   },
   "outputs": [],
   "source": [
    "tolerance=0.1\n",
    "sk.vpype(f'splitall linemerge --tolerance {tolerance}mm linemerge --tolerance {tolerance}mm linesort')"
   ]
  },
  {
   "cell_type": "code",
   "execution_count": null,
   "metadata": {
    "Collapsed": "false"
   },
   "outputs": [],
   "source": [
    "sk.save('/mnt/c/code/side/plotter_images/oned_outputs/162_subdivision.svg')"
   ]
  },
  {
   "cell_type": "markdown",
   "metadata": {
    "Collapsed": "false"
   },
   "source": [
    "## circle"
   ]
  },
  {
   "cell_type": "code",
   "execution_count": null,
   "metadata": {
    "Collapsed": "false"
   },
   "outputs": [],
   "source": [
    "class PolygonGrowth(object):\n",
    "    \n",
    "    def __init__(self, polygon):\n",
    "        self.polygons = [polygon]\n",
    "        self.growth = polygon\n",
    "        self.growth = Polygon(self.growth.exterior)\n",
    "        self.obj_func = None\n",
    "        \n",
    "    def _repr_svg_(self):\n",
    "        return self.growth._repr_svg_()\n",
    "        \n",
    "    @property\n",
    "    def lines(self):\n",
    "        lss = []\n",
    "        for p in self.polygons:\n",
    "            b = p.boundary\n",
    "            if b.type == 'LineString':\n",
    "                lss.append(b)\n",
    "            elif b.type == 'MultiLineString':\n",
    "                lss += list(b)\n",
    "        return MultiLineString(lss)\n",
    "        \n",
    "    def calc_polygon_diff(self, polygon):\n",
    "        return polygon.difference(self.growth)\n",
    "        \n",
    "    def add_polygon_diff(self, polygon):\n",
    "        polygon_diff = self.calc_polygon_diff(polygon)\n",
    "        self.polygons.append(polygon_diff)\n",
    "        self.growth = so.unary_union([self.growth, polygon_diff])\n",
    "        self.growth = Polygon(self.growth.boundary)\n",
    "        \n",
    "    def get_boundary_point(self, boundary_loc=None):\n",
    "        if boundary_loc is None:\n",
    "            boundary_loc = np.random.rand()\n",
    "        return self.growth.boundary.interpolate(boundary_loc, normalized=True)\n",
    "    \n",
    "    def get_random_boundary_points(self, n):\n",
    "        return MultiPoint([self.get_boundary_point() for i in range(n)])\n",
    "    \n",
    "    def get_boundary_points(self, boundary_locs):\n",
    "        return MultiPoint([self.get_boundary_point(b) for b in boundary_locs])\n",
    "    \n",
    "    def grow_random_circle_diff(self, rad):\n",
    "        self.add_polygon_diff(self.get_boundary_point().buffer(rad))\n",
    "        \n",
    "    def buffer_growth(self, d):\n",
    "        self.growth = self.growth.buffer(d)\n",
    "        self.growth = Polygon(self.growth.exterior)\n",
    "        \n",
    "    def filter_points_by_distance(self, points, target_point, descending=True, n_filtered_points=1):\n",
    "        dists = [target_point.distance(p) for p in points]\n",
    "        if descending:\n",
    "            ordered = np.argsort(dists)\n",
    "        else:\n",
    "            ordered = np.argsort(-dists)\n",
    "        return MultiPoint([points[i] for i in ordered[:n_filtered_points]])\n",
    "    \n",
    "    def get_LineFactory(self):\n",
    "        lf = LineFactory()\n",
    "        for line in self.lines:\n",
    "            lf.add_line(np.asarray(line.xy))\n",
    "        return lf\n",
    "    \n",
    "    \n",
    "class TargetPointGrowth(PolygonGrowth):\n",
    "    \n",
    "    def grow_circle_diff(self, target_point, rad, n_checks, **kwargs):\n",
    "        points = self.get_random_boundary_points(n=n_checks)\n",
    "        fps = self.filter_points_by_distance(points, target_point, **kwargs)\n",
    "        for fp in fps:\n",
    "            self.add_polygon_diff(fp.buffer(rad))\n",
    "            \n",
    "            "
   ]
  },
  {
   "cell_type": "code",
   "execution_count": null,
   "metadata": {
    "Collapsed": "false"
   },
   "outputs": [],
   "source": [
    "target_point = drawbox.centroid\n",
    "max_rads = [40, ]\n",
    "min_rads = [1,]\n",
    "circles_per_wave = [100, ]\n",
    "check_ns_per_wave = [ 250, ]\n",
    "tps = [target_point ]\n",
    "\n",
    "rads = []\n",
    "check_ns = []\n",
    "\n",
    "for max_rad, min_rad, n_circles, check_n in zip(max_rads, min_rads, circles_per_wave, check_ns_per_wave):\n",
    "    rads.append(np.logspace(np.log10(max_rad), np.log10(min_rad), int(n_circles)))\n",
    "    check_ns.append(np.repeat(check_n, n_circles))\n",
    "\n",
    "\n",
    "target_points = []\n",
    "for tp, n_circles_per_wave in zip(tps, circles_per_wave):\n",
    "    target_points += [tp] * n_circles_per_wave\n",
    "\n",
    "rads = np.concatenate(rads)\n",
    "check_ns = np.concatenate(check_ns)\n",
    "init_rad = rads[0]"
   ]
  },
  {
   "cell_type": "code",
   "execution_count": null,
   "metadata": {
    "Collapsed": "false"
   },
   "outputs": [],
   "source": [
    "## initialize\n",
    "start_circle = drawbox.centroid.buffer(init_rad)\n",
    "main_orb = TargetPointGrowth(start_circle)"
   ]
  },
  {
   "cell_type": "code",
   "execution_count": null,
   "metadata": {
    "Collapsed": "false"
   },
   "outputs": [],
   "source": [
    "for i, rad in enumerate(tqdm(rads)):\n",
    "    n_checks = check_ns[i]\n",
    "    target_point = target_points[i]\n",
    "    try:\n",
    "        main_orb.grow_circle_diff(target_point=target_point, rad=rad, n_checks=n_checks)\n",
    "    except:\n",
    "        pass\n"
   ]
  },
  {
   "cell_type": "code",
   "execution_count": null,
   "metadata": {
    "Collapsed": "false"
   },
   "outputs": [],
   "source": [
    "main_orb_triangles = so.triangulate(MultiPoint([l.centroid for l in main_orb.lines]), edges=False)"
   ]
  },
  {
   "cell_type": "code",
   "execution_count": null,
   "metadata": {
    "Collapsed": "false"
   },
   "outputs": [],
   "source": [
    "# main_orb_triangles = MultiPolygon([t.buffer((t.bounds[1] - t.bounds[0]) * -0.000 - 0.00 ) for t in main_orb_triangles if t.within(main_orb.growth)])"
   ]
  },
  {
   "cell_type": "code",
   "execution_count": null,
   "metadata": {
    "Collapsed": "false"
   },
   "outputs": [],
   "source": [
    "# # function dis\n",
    "# main_orb_hatches = []\n",
    "# for t in main_orb_triangles:\n",
    "#     h = hatch.hatchbox(t, (t.bounds[1] - t.bounds[0]) * 90, 0.02)\n",
    "#     if h.length > 0:\n",
    "#         if h.type == 'MultiLineString':\n",
    "#             h = merge_MultiLineStrings(hatch.connect_hatchlines(h, 0.025))\n",
    "#         main_orb_hatches.append(h)\n",
    "# main_orb_hatches = merge_MultiLineStrings(main_orb_hatches)"
   ]
  },
  {
   "cell_type": "code",
   "execution_count": null,
   "metadata": {
    "Collapsed": "false"
   },
   "outputs": [],
   "source": [
    "tris = main_orb_triangles"
   ]
  },
  {
   "cell_type": "code",
   "execution_count": null,
   "metadata": {
    "Collapsed": "false"
   },
   "outputs": [],
   "source": [
    "\n",
    "ids =[id(tri) for tri in tris]\n",
    "df = geopandas.GeoDataFrame({\n",
    "    'geometry': tris,\n",
    "    'id': ids,\n",
    "    'distances': [[None]] * len(tris),\n",
    "    'generation': [0] * len(tris),\n",
    "    'subdivided': [False] * len(tris),\n",
    "    'parent': [None] * len(tris),\n",
    "    },\n",
    ")\n",
    "max_generation=7"
   ]
  },
  {
   "cell_type": "code",
   "execution_count": null,
   "metadata": {
    "Collapsed": "false"
   },
   "outputs": [],
   "source": [
    "distances = [0.3, 0.5, 0.3]"
   ]
  },
  {
   "cell_type": "code",
   "execution_count": null,
   "metadata": {
    "Collapsed": "false"
   },
   "outputs": [],
   "source": [
    "n_subdivisions = 340"
   ]
  },
  {
   "cell_type": "code",
   "execution_count": null,
   "metadata": {
    "Collapsed": "false"
   },
   "outputs": [],
   "source": [
    "\n",
    "for i in tqdm(range(n_subdivisions)):\n",
    "    try:\n",
    "        valid = (df['generation'] < max_generation) & ~df['subdivided']\n",
    "        df = choose_among_valid_and_subdivide_recursive(df, valid, distances, n_iters=np.random.randint(1,4), n_per_iter=1)\n",
    "    except:\n",
    "        pass"
   ]
  },
  {
   "cell_type": "code",
   "execution_count": null,
   "metadata": {
    "Collapsed": "false"
   },
   "outputs": [],
   "source": [
    "layers = []\n",
    "for gen, group in df.groupby('generation'):\n",
    "    layer = gp.merge_Polygons([ls for ls in group.geometry if ls is not None]).buffer(-0.2, cap_style=2, join_style=2).boundary\n",
    "    layers.append(layer)"
   ]
  },
  {
   "cell_type": "code",
   "execution_count": null,
   "metadata": {
    "Collapsed": "false"
   },
   "outputs": [],
   "source": [
    "layers = []\n",
    "for gen, group in df.groupby('generation'):\n",
    "    layer = gp.merge_LineStrings([ls for ls in group.boundary if ls is not None])\n",
    "    layers.append(layer)"
   ]
  },
  {
   "cell_type": "code",
   "execution_count": null,
   "metadata": {
    "Collapsed": "false"
   },
   "outputs": [],
   "source": [
    "sk = vsketch.Vsketch()\n",
    "sk.size(paper.page_format_mm)\n",
    "sk.scale('1mm')\n",
    "sk.penWidth('0.1mm')\n",
    "for i, layer in enumerate(layers):\n",
    "    sk.stroke(i+1)\n",
    "    sk.geometry(layer)\n",
    "\n",
    "# tolerance=0.5\n",
    "# sk.vpype(f'linemerge --tolerance {tolerance}mm linesort')\n",
    "\n",
    "sk.display()"
   ]
  },
  {
   "cell_type": "code",
   "execution_count": null,
   "metadata": {
    "Collapsed": "false"
   },
   "outputs": [],
   "source": [
    "sk.vpype(f'splitall linemerge --tolerance 0.05mm linemerge --tolerance 0.05mm linemerge --tolerance 0.05mm linesort')"
   ]
  },
  {
   "cell_type": "code",
   "execution_count": null,
   "metadata": {
    "Collapsed": "false"
   },
   "outputs": [],
   "source": [
    "sk.save('/mnt/c/code/side/plotter_images/oned_outputs/166_triangle_subdivision.svg')"
   ]
  }
 ],
 "metadata": {
  "kernelspec": {
   "display_name": "Python [conda env:genpen]",
   "language": "python",
   "name": "conda-env-genpen-py"
  },
  "language_info": {
   "codemirror_mode": {
    "name": "ipython",
    "version": 3
   },
   "file_extension": ".py",
   "mimetype": "text/x-python",
   "name": "python",
   "nbconvert_exporter": "python",
   "pygments_lexer": "ipython3",
   "version": "3.8.6"
  }
 },
 "nbformat": 4,
 "nbformat_minor": 4
}

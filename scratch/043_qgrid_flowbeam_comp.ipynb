{
 "cells": [
  {
   "cell_type": "code",
   "execution_count": null,
   "id": "cf148587-6b71-418b-aabb-925d3c2a2404",
   "metadata": {
    "tags": []
   },
   "outputs": [],
   "source": [
    "\n",
    "import itertools\n",
    "import numpy as np\n",
    "import os\n",
    "import seaborn as sns\n",
    "from tqdm import tqdm\n",
    "from dataclasses import asdict, dataclass, field\n",
    "import vsketch\n",
    "import shapely.geometry as sg\n",
    "from shapely.geometry import box, MultiLineString, Point, MultiPoint, Polygon, MultiPolygon, LineString\n",
    "import shapely.affinity as sa\n",
    "import shapely.ops as so\n",
    "import matplotlib.pyplot as plt\n",
    "import pandas as pd\n",
    "\n",
    "import vpype_cli\n",
    "from typing import List, Generic\n",
    "from genpen import genpen as gp\n",
    "from genpen.utils import Paper\n",
    "from scipy import stats as ss\n",
    "import geopandas\n",
    "from shapely.errors import TopologicalError\n",
    "import functools\n",
    "import vpype\n",
    "from skimage import io\n",
    "from pathlib import Path\n",
    "\n",
    "from sklearn.preprocessing import minmax_scale\n",
    "from skimage import feature\n",
    "from skimage import exposure\n",
    "\n",
    "from skimage import filters\n",
    "from skimage.color import rgb2gray\n",
    "from skimage.transform import rescale, resize, downscale_local_mean\n",
    "from skimage.morphology import disk\n",
    "from pyaxidraw import axidraw   # import module\n",
    "\n",
    "from PIL import Image\n",
    "\n",
    "import fn\n",
    "import cv2\n",
    "\n",
    "from genpen.flow.field import *\n",
    "from genpen.flow.particle import *\n",
    "from genpen.genpen import random_line_subdivide_gen\n",
    "\n",
    "import time\n",
    "\n",
    "%load_ext autoreload\n",
    "%autoreload 2"
   ]
  },
  {
   "cell_type": "markdown",
   "id": "8a185742-26db-4d38-b613-8a9bf4c641d4",
   "metadata": {},
   "source": [
    "# more complex"
   ]
  },
  {
   "cell_type": "code",
   "execution_count": null,
   "id": "ae41a635-a9d3-4c46-a668-d35df202f17a",
   "metadata": {},
   "outputs": [],
   "source": [
    "image_path= '/home/naka/art/wigglesphere.jpg'\n",
    "filename = 'qgrid_flowbeam.svg'\n",
    "paper_size:str = '6x5.99 inches'\n",
    "border:float=15  # mm\n",
    "image_rescale_factor:float=0.04\n",
    "smooth_disk_size:int=1\n",
    "hist_clip_limit=0.1\n",
    "hist_nbins=32\n",
    "intensity_min=0.\n",
    "intensity_max=1.\n",
    "hatch_spacing_min=0.35  # mm\n",
    "hatch_spacing_max=1.1 # mm\n",
    "pixel_width=1 # mm\n",
    "pixel_height=1 # mm\n",
    "angle_jitter='ss.norm(loc=10, scale=0).rvs'  # degrees\n",
    "pixel_rotation='0'  # degrees\n",
    "merge_tolerances=[0.3, 0.4,]  # mm\n",
    "simplify_tolerances=[0.2,]  # mm\n",
    "savedir='/home/naka/art/plotter_svgs'"
   ]
  },
  {
   "cell_type": "code",
   "execution_count": null,
   "id": "ca360e3f-6f17-4993-8899-9bc097ffa9db",
   "metadata": {},
   "outputs": [],
   "source": [
    "# make page\n",
    "paper = Paper(paper_size)\n",
    "drawbox = paper.get_drawbox(border)\n"
   ]
  },
  {
   "cell_type": "code",
   "execution_count": null,
   "id": "8ed05f50-40e1-4d9b-ae77-4e6dc626c011",
   "metadata": {
    "Collapsed": "false"
   },
   "outputs": [],
   "source": [
    "x0gen = ss.uniform(loc=0.4, scale=0.3).rvs\n",
    "x1gen = ss.uniform(loc=0.2, scale=0.1).rvs\n",
    "split_func = functools.partial(gp.split_along_longest_side_of_min_rectangle, xgen=x0gen)\n",
    "splits = gp.recursive_split_frac_buffer(\n",
    "    drawbox, \n",
    "    split_func=split_func,\n",
    "    p_continue=0.9, \n",
    "    depth=0, \n",
    "    depth_limit=10,\n",
    "    buffer_frac=-0.0\n",
    ")\n",
    "\n",
    "bps = MultiPolygon([p for p in splits])\n",
    "\n",
    "   \n",
    "sk = vsketch.Vsketch()\n",
    "sk.size(paper.page_format_mm)\n",
    "sk.scale('1mm')\n",
    "sk.penWidth('0.5mm')\n",
    "sk.geometry(bps.boundary)\n",
    "\n",
    "# tolerance=0.5\n",
    "\n",
    "sk.display()"
   ]
  },
  {
   "cell_type": "code",
   "execution_count": null,
   "id": "27229820-2601-492d-891b-6171f0cc24bb",
   "metadata": {},
   "outputs": [],
   "source": [
    "all_bps = gp.Shape(bps)"
   ]
  },
  {
   "cell_type": "code",
   "execution_count": null,
   "id": "e298bc95-fd68-4523-b91d-14e807d03ba4",
   "metadata": {},
   "outputs": [],
   "source": [
    "# make pixel polys\n",
    "prms = []\n",
    "for bp in tqdm(bps):\n",
    "\n",
    "#     a = np.random.uniform(0, 240)\n",
    "    dist_from_center = bp.centroid.distance(bps.centroid)\n",
    "    a = np.interp(dist_from_center, [0, 150], [0, 1020])\n",
    "    prm = {\n",
    "        'geometry':bp,\n",
    "        'raw_pixel_width':pixel_width,\n",
    "        'raw_pixel_height':pixel_height,\n",
    "        'angle':a,\n",
    "        'group': 'raw_hatch_pixel',\n",
    "        'magnitude': np.random.uniform(0.3, 2),\n",
    "\n",
    "    }\n",
    "    prms.append(prm)\n",
    "raw_hatch_pixels = geopandas.GeoDataFrame(prms)"
   ]
  },
  {
   "cell_type": "code",
   "execution_count": null,
   "id": "7291cc83-58dc-45a8-bdbe-e1bd0de73ba6",
   "metadata": {},
   "outputs": [],
   "source": [
    "#  rescale polys to fit in drawbox\n",
    "bbox = box(*raw_hatch_pixels.total_bounds)\n",
    "_, transform = gp.make_like(bbox, drawbox, return_transform=True)\n",
    "A = gp.AffineMatrix(**transform)\n",
    "scaled_hatch_pixels = raw_hatch_pixels.copy()\n",
    "scaled_hatch_pixels['geometry'] = scaled_hatch_pixels.affine_transform(A.A_flat)\n",
    "scaled_hatch_pixels['scaled_pixel_height'] = scaled_hatch_pixels['geometry'].apply(gp.get_height)\n",
    "scaled_hatch_pixels['scaled_pixel_width'] = scaled_hatch_pixels['geometry'].apply(gp.get_width)"
   ]
  },
  {
   "cell_type": "code",
   "execution_count": null,
   "id": "65c996a9-7a23-4b88-806f-f33919008b39",
   "metadata": {},
   "outputs": [],
   "source": [
    "new_drawbox = so.unary_union(scaled_hatch_pixels.geometry)\n",
    "db = gp.Poly(new_drawbox)"
   ]
  },
  {
   "cell_type": "code",
   "execution_count": null,
   "id": "3e174948-fdbf-40ca-aca3-d1002089466d",
   "metadata": {},
   "outputs": [],
   "source": [
    "# scaled_hatch_pixels['angle'] = np.interp(scaled_hatch_pixels.geometry.centroid.y, [db.bottom, db.top], [0, 680]) + np.random.randn(len(scaled_hatch_pixels)) * 5"
   ]
  },
  {
   "cell_type": "code",
   "execution_count": null,
   "id": "3c7da760-3240-44e4-8119-9c5a103292f4",
   "metadata": {},
   "outputs": [],
   "source": [
    "scaled_hatch_pixels['angle'] = scaled_hatch_pixels['angle'] // 5 * 5"
   ]
  },
  {
   "cell_type": "code",
   "execution_count": null,
   "id": "8b45c296-a0ec-44f1-8d89-0081f39aa7ce",
   "metadata": {},
   "outputs": [],
   "source": [
    "# scaled_hatch_pixels['angle'] = np.interp(scaled_hatch_pixels['angle'], xp=[0, 180], fp=[30, 150])"
   ]
  },
  {
   "cell_type": "code",
   "execution_count": null,
   "id": "33e1be0e-aaa6-4ed6-ad32-7435165da801",
   "metadata": {},
   "outputs": [],
   "source": [
    "qpg = NoisyQuantizedPiecewiseGrid(scaled_hatch_pixels, xstep=5, ystep=5, noise_scale=0.1, noise_mult=0.5, verbose=False)\n",
    "qpg.make_grid()"
   ]
  },
  {
   "cell_type": "code",
   "execution_count": null,
   "id": "aadb6c5e-6bfa-4f1e-9fdf-c1c593d4a31f",
   "metadata": {},
   "outputs": [],
   "source": [
    "spiral_angle_max = np.pi * 40\n",
    "spiral_angle_min = 0\n",
    "spiral_angle_spacing = np.pi * 0.1001\n",
    "sp_angle_range = np.arange(spiral_angle_min, spiral_angle_max, spiral_angle_spacing)\n",
    "spiral_distances = np.linspace(0, 100, len(sp_angle_range))\n",
    "\n",
    "start_points = [Point(np.cos(a) * d, np.sin(a) * d) for a, d in zip(sp_angle_range, spiral_distances)]"
   ]
  },
  {
   "cell_type": "code",
   "execution_count": null,
   "id": "798adb67-83b4-4b66-9c4f-8a29e6250c76",
   "metadata": {},
   "outputs": [],
   "source": [
    "start_points = gp.make_like(MultiPoint(start_points), db.p)"
   ]
  },
  {
   "cell_type": "code",
   "execution_count": null,
   "id": "573e9f73-6058-4501-aae8-787e22f55d89",
   "metadata": {
    "tags": []
   },
   "outputs": [],
   "source": [
    "poly = new_drawbox\n",
    "pts = []\n",
    "lss = []\n",
    "n_steps = 19\n",
    "for pt in tqdm(start_points):\n",
    "    \n",
    "    vp = VectorParticle(pos=pt, grid=qpg, stepsize=1, momentum_factor=np.random.uniform(0,0))\n",
    "    for ii in range(n_steps):\n",
    "        vp.step()\n",
    "    if len(vp.pts) > 1:\n",
    "        ls = gp.merge_LineStrings([LineString(vp.pts)])\n",
    "    lss.append(ls)"
   ]
  },
  {
   "cell_type": "code",
   "execution_count": null,
   "id": "d1b496ea-87b2-48b7-a39e-f48fb255f43e",
   "metadata": {},
   "outputs": [],
   "source": [
    "buffer_gen = ss.uniform(loc=0.5, scale=0.5).rvs\n",
    "d_buffer_gen = functools.partial(np.random.uniform, low=-0.35, high=-0.30)\n",
    "d_translate_factor_gen = ss.uniform(loc=0.6, scale=0.8).rvs"
   ]
  },
  {
   "cell_type": "code",
   "execution_count": null,
   "id": "681a0eb4-919b-4e2d-9155-add6ac43aa9a",
   "metadata": {},
   "outputs": [],
   "source": [
    "fills = []\n",
    "all_polys = Polygon()\n",
    "for ii, l in enumerate(tqdm(lss[:])):\n",
    "    p = l.buffer(0.5, cap_style=2, join_style=2)\n",
    "    p = p.buffer(buffer_gen(), cap_style=2, join_style=2)\n",
    "    angles_gen = gp.make_callable(sp_angle_range[ii])\n",
    "#     angles_gen = gp.make_callable(-90)\n",
    "    stp = gp.ScaleTransPrms(d_buffer=d_buffer_gen(),angles=angles_gen(),d_translate_factor=d_translate_factor_gen(), n_iters=300)\n",
    "    stp.d_buffers += np.random.uniform(-0.05, 0.05, size=stp.d_buffers.shape)\n",
    "    P = gp.Poly(p)\n",
    "    P.fill_scale_trans(**stp.prms)\n",
    "    visible_area = p.difference(all_polys)\n",
    "    visible_fill = P.fill.intersection(visible_area.buffer(1e-6))\n",
    "    \n",
    "    fills.append(visible_fill)\n",
    "    all_polys = so.unary_union([all_polys, p])"
   ]
  },
  {
   "cell_type": "code",
   "execution_count": null,
   "id": "92daa73c-14de-4c69-9425-816cefeb168b",
   "metadata": {},
   "outputs": [],
   "source": [
    "blss = gp.merge_LineStrings([f for f in fills if f.length > 0.1])\n"
   ]
  },
  {
   "cell_type": "code",
   "execution_count": null,
   "id": "09fc4ee3-7798-44f8-b119-177da7e58436",
   "metadata": {},
   "outputs": [],
   "source": [
    "blss = blss.intersection(drawbox)"
   ]
  },
  {
   "cell_type": "code",
   "execution_count": null,
   "id": "af4d6a96-9bbb-4b89-ad08-fba826a7c93f",
   "metadata": {
    "Collapsed": "false"
   },
   "outputs": [],
   "source": [
    "n_layers = 1"
   ]
  },
  {
   "cell_type": "code",
   "execution_count": null,
   "id": "7def91dd-1180-4b86-ac04-562ebdd36dc6",
   "metadata": {
    "Collapsed": "false"
   },
   "outputs": [],
   "source": [
    "layers = []\n",
    "for ii in range(n_layers):\n",
    "    fills = []\n",
    "    for p in bps:\n",
    "        xjitter_func = 0\n",
    "        yjitter_func = ss.norm(loc=0, scale=np.random.uniform(0.1, 1.5)).rvs\n",
    "        dist_from_center = bp.centroid.distance(bps.centroid)\n",
    "        a = np.interp(dist_from_center, [0, 150], [0, 1020])\n",
    "        bhf = gp.BezierHatchFill(\n",
    "            spacing=np.random.uniform(0.4, 1.4),\n",
    "            degrees=a,\n",
    "            poly_to_fill=p, \n",
    "            xjitter_func=xjitter_func, \n",
    "            yjitter_func=yjitter_func,\n",
    "            fill_inscribe_buffer=1.4,\n",
    "            n_nodes_per_line=15,\n",
    "            n_eval_points=100,\n",
    "        )\n",
    "        fills.append(bhf.p)\n",
    "\n",
    "    fills = [f for f in fills if f.length > 0]\n",
    "    layer = gp.merge_LineStrings(fills)\n",
    "    layers.append(layer)"
   ]
  },
  {
   "cell_type": "code",
   "execution_count": null,
   "id": "04814d9e-823d-4c15-8304-e2429ed2cabd",
   "metadata": {
    "Collapsed": "false"
   },
   "outputs": [],
   "source": [
    "sk = vsketch.Vsketch()\n",
    "sk.size(paper.page_format_mm)\n",
    "sk.scale('1mm')\n",
    "sk.penWidth('0.3mm')\n",
    "for i, layer in enumerate(layers):\n",
    "    sk.stroke(i+1)\n",
    "    sk.geometry(layer)\n",
    "\n",
    "# sk.stroke(len(layers)+2)\n",
    "# sk.geometry(blss)\n",
    "    \n",
    "sk.display(color_mode='layer')"
   ]
  },
  {
   "cell_type": "code",
   "execution_count": null,
   "id": "f3c3570b-7f70-4b56-8ac7-455e224964a4",
   "metadata": {},
   "outputs": [],
   "source": [
    "filename = '0002_qgrid_bhatch.svg'"
   ]
  },
  {
   "cell_type": "code",
   "execution_count": null,
   "id": "db883655-36d3-4af9-b5b1-747d51539a95",
   "metadata": {},
   "outputs": [],
   "source": [
    "sk.vpype('linemerge -t 0.4 linesimplify linesort')"
   ]
  },
  {
   "cell_type": "code",
   "execution_count": null,
   "id": "e6b8bf8e-0a48-479e-b81d-aa735be44b32",
   "metadata": {},
   "outputs": [],
   "source": [
    "savepath = Path(savedir).joinpath(filename).as_posix()\n",
    "sk.save(savepath)"
   ]
  },
  {
   "cell_type": "code",
   "execution_count": null,
   "id": "f383f905-f470-4bdf-8257-ae99cde570cb",
   "metadata": {},
   "outputs": [],
   "source": [
    "sk = vsketch.Vsketch()\n",
    "sk.size(paper.page_format_mm)\n",
    "sk.scale('1mm')\n",
    "sk.stroke(1)\n",
    "sk.geometry(blss)\n",
    "    \n",
    "sk.display()"
   ]
  },
  {
   "cell_type": "code",
   "execution_count": null,
   "id": "fdb9e88e-2c22-40a0-9df7-e829c1a329e3",
   "metadata": {},
   "outputs": [],
   "source": []
  },
  {
   "cell_type": "markdown",
   "id": "0aad3bbd-932a-464c-add3-574f440b13b0",
   "metadata": {},
   "source": [
    "# circle fluffs"
   ]
  },
  {
   "cell_type": "code",
   "execution_count": null,
   "id": "e48d2c0a-8d09-42a7-9795-e91eeed28a68",
   "metadata": {},
   "outputs": [],
   "source": [
    "image_path= '/home/naka/art/wigglesphere.jpg'\n",
    "filename = 'qgrid_flowbeam.svg'\n",
    "paper_size:str = '6x5.99 inches'\n",
    "border:float=15  # mm\n",
    "image_rescale_factor:float=0.04\n",
    "smooth_disk_size:int=1\n",
    "hist_clip_limit=0.1\n",
    "hist_nbins=32\n",
    "intensity_min=0.\n",
    "intensity_max=1.\n",
    "hatch_spacing_min=0.35  # mm\n",
    "hatch_spacing_max=1.1 # mm\n",
    "pixel_width=1 # mm\n",
    "pixel_height=1 # mm\n",
    "angle_jitter='ss.norm(loc=10, scale=0).rvs'  # degrees\n",
    "pixel_rotation='0'  # degrees\n",
    "merge_tolerances=[0.3, 0.4,]  # mm\n",
    "simplify_tolerances=[0.2,]  # mm\n",
    "savedir='/home/naka/art/plotter_svgs'"
   ]
  },
  {
   "cell_type": "code",
   "execution_count": null,
   "id": "3e0a634f-fe40-45b3-a0a4-df575a896611",
   "metadata": {},
   "outputs": [],
   "source": [
    "# make page\n",
    "paper = Paper(paper_size)\n",
    "drawbox = paper.get_drawbox(border)\n"
   ]
  },
  {
   "cell_type": "code",
   "execution_count": null,
   "id": "9f0373c3-cbb7-4171-a22c-a1a91db6e051",
   "metadata": {},
   "outputs": [],
   "source": [
    "bps = gp.circle_pack_within_poly(drawbox, rads=[20, 10, 5, 2.5])"
   ]
  },
  {
   "cell_type": "code",
   "execution_count": null,
   "id": "b02d7b7d-0573-46d4-a3a4-1a4aee03e49d",
   "metadata": {},
   "outputs": [],
   "source": [
    "bps2 = gp.circle_pack_within_poly(drawbox, rads=[20, 10, 5,])"
   ]
  },
  {
   "cell_type": "code",
   "execution_count": null,
   "id": "9e3cbbc3-0ac9-4810-9257-1216826004d2",
   "metadata": {},
   "outputs": [],
   "source": [
    "bps = bps.difference(bps2.boundary.buffer(0.5))"
   ]
  },
  {
   "cell_type": "code",
   "execution_count": null,
   "id": "7f85cf76-e47e-4a1a-b254-75f063bee823",
   "metadata": {
    "Collapsed": "false"
   },
   "outputs": [],
   "source": [
    "n_layers = 1"
   ]
  },
  {
   "cell_type": "code",
   "execution_count": null,
   "id": "2c683f1a-4e6e-458e-b0da-f223c8c8e937",
   "metadata": {
    "Collapsed": "false"
   },
   "outputs": [],
   "source": [
    "layers = []\n",
    "for ii in range(n_layers):\n",
    "    fills = []\n",
    "    for p in bps:\n",
    "        xjitter_func = 0\n",
    "        yjitter_func = ss.norm(loc=0, scale=np.random.uniform(0.1, 1.5)).rvs\n",
    "        dist_from_center = p.centroid.distance(bps.centroid)\n",
    "        a = np.interp(dist_from_center, [0, 150], [0, 1020])\n",
    "        bhf = gp.BezierHatchFill(\n",
    "            spacing=np.random.uniform(0.4, 1.4),\n",
    "            degrees=a,\n",
    "            poly_to_fill=p, \n",
    "            xjitter_func=xjitter_func, \n",
    "            yjitter_func=yjitter_func,\n",
    "            fill_inscribe_buffer=1.4,\n",
    "            n_nodes_per_line=15,\n",
    "            n_eval_points=100,\n",
    "        )\n",
    "        fills.append(bhf.p)\n",
    "\n",
    "    fills = [f for f in fills if f.length > 0]\n",
    "    layer = gp.merge_LineStrings(fills)\n",
    "    layers.append(layer)"
   ]
  },
  {
   "cell_type": "code",
   "execution_count": null,
   "id": "ad498568-f972-4ed7-aa68-e099228a5b0a",
   "metadata": {
    "Collapsed": "false"
   },
   "outputs": [],
   "source": [
    "sk = vsketch.Vsketch()\n",
    "sk.size(paper.page_format_mm)\n",
    "sk.scale('1mm')\n",
    "sk.penWidth('0.3mm')\n",
    "for i, layer in enumerate(layers):\n",
    "    sk.stroke(i+1)\n",
    "    sk.geometry(layer)\n",
    "\n",
    "# sk.stroke(len(layers)+2)\n",
    "# sk.geometry(blss)\n",
    "    \n",
    "sk.display(color_mode='layer')"
   ]
  },
  {
   "cell_type": "code",
   "execution_count": null,
   "id": "86ec5c28-2b6c-4c86-97da-00d3873434e6",
   "metadata": {},
   "outputs": [],
   "source": []
  },
  {
   "cell_type": "code",
   "execution_count": null,
   "id": "7861df1f-5b2d-47b3-898f-0e34bcb1493b",
   "metadata": {},
   "outputs": [],
   "source": [
    "filename = '0004_circle_bhatch.svg'"
   ]
  },
  {
   "cell_type": "code",
   "execution_count": null,
   "id": "e1b0f012-92c1-4405-9fee-91c82406f980",
   "metadata": {},
   "outputs": [],
   "source": [
    "sk.vpype('linemerge -t 0.4 linesimplify linesort')"
   ]
  },
  {
   "cell_type": "code",
   "execution_count": null,
   "id": "5db8b637-38fc-4426-bd6f-8b49815f1212",
   "metadata": {},
   "outputs": [],
   "source": [
    "savepath = Path(savedir).joinpath(filename).as_posix()\n",
    "sk.save(savepath)"
   ]
  },
  {
   "cell_type": "code",
   "execution_count": null,
   "id": "936c8c81-8f04-4885-a200-3ee3a749593f",
   "metadata": {},
   "outputs": [],
   "source": []
  },
  {
   "cell_type": "markdown",
   "id": "f2aa8b4e-e326-40ae-b193-05644ced6393",
   "metadata": {},
   "source": []
  },
  {
   "cell_type": "markdown",
   "id": "0f559bfb-0901-4026-a61a-cd52532f8dd9",
   "metadata": {},
   "source": [
    "# circle fluffs"
   ]
  },
  {
   "cell_type": "code",
   "execution_count": null,
   "id": "692a0a02-b9cb-4e55-901e-94c72301332f",
   "metadata": {},
   "outputs": [],
   "source": [
    "image_path= '/home/naka/art/wigglesphere.jpg'\n",
    "\n",
    "paper_size:str = '6x5.99 inches'\n",
    "border:float=15  # mm\n",
    "image_rescale_factor:float=0.04\n",
    "smooth_disk_size:int=1\n",
    "hist_clip_limit=0.1\n",
    "hist_nbins=32\n",
    "intensity_min=0.\n",
    "intensity_max=1.\n",
    "hatch_spacing_min=0.35  # mm\n",
    "hatch_spacing_max=1.1 # mm\n",
    "pixel_width=1 # mm\n",
    "pixel_height=1 # mm\n",
    "angle_jitter='ss.norm(loc=10, scale=0).rvs'  # degrees\n",
    "pixel_rotation='0'  # degrees\n",
    "merge_tolerances=[0.3, 0.4,]  # mm\n",
    "simplify_tolerances=[0.2,]  # mm\n",
    "savedir='/home/naka/art/plotter_svgs'"
   ]
  },
  {
   "cell_type": "code",
   "execution_count": null,
   "id": "8c1fe8f8-96e7-4364-a949-8b03aca91c8d",
   "metadata": {},
   "outputs": [],
   "source": [
    "# make page\n",
    "paper = Paper(paper_size)\n",
    "drawbox = paper.get_drawbox(border)\n"
   ]
  },
  {
   "cell_type": "code",
   "execution_count": null,
   "id": "f14f0df2-0736-45bc-a338-1b7c1a393202",
   "metadata": {},
   "outputs": [],
   "source": [
    "bps = gp.circle_pack_within_poly(drawbox, rads=[20, 10, 5, 2.5])"
   ]
  },
  {
   "cell_type": "code",
   "execution_count": null,
   "id": "21a8adc1-4c4f-4ff3-9d28-9cada5021f23",
   "metadata": {},
   "outputs": [],
   "source": [
    "bps2 = gp.circle_pack_within_poly(drawbox, rads=[20, 10, 5,])"
   ]
  },
  {
   "cell_type": "code",
   "execution_count": null,
   "id": "f738ec8d-b299-435c-b1a1-c9bae1f91b86",
   "metadata": {},
   "outputs": [],
   "source": [
    "bps = bps.difference(bps2.boundary.buffer(0.5))"
   ]
  },
  {
   "cell_type": "code",
   "execution_count": null,
   "id": "aa239e99-2246-40dd-ba89-c43295b97b40",
   "metadata": {
    "Collapsed": "false"
   },
   "outputs": [],
   "source": [
    "n_layers = 1"
   ]
  },
  {
   "cell_type": "code",
   "execution_count": null,
   "id": "bf29ecd2-96df-4b7c-8542-b28a01edf36f",
   "metadata": {
    "Collapsed": "false"
   },
   "outputs": [],
   "source": [
    "layers = []\n",
    "for ii in range(n_layers):\n",
    "    fills = []\n",
    "    for p in bps:\n",
    "        xjitter_func = 0\n",
    "        yjitter_func = ss.norm(loc=0, scale=np.random.uniform(0.1, 1.5)).rvs\n",
    "        dist_from_center = p.centroid.distance(bps.centroid)\n",
    "        a = np.interp(dist_from_center, [0, 150], [0, 1020])\n",
    "        bhf = gp.BezierHatchFill(\n",
    "            spacing=np.random.uniform(0.4, 1.4),\n",
    "            degrees=a,\n",
    "            poly_to_fill=p, \n",
    "            xjitter_func=xjitter_func, \n",
    "            yjitter_func=yjitter_func,\n",
    "            fill_inscribe_buffer=1.4,\n",
    "            n_nodes_per_line=15,\n",
    "            n_eval_points=100,\n",
    "        )\n",
    "        fills.append(bhf.p)\n",
    "\n",
    "    fills = [f for f in fills if f.length > 0]\n",
    "    layer = gp.merge_LineStrings(fills)\n",
    "    layers.append(layer)"
   ]
  },
  {
   "cell_type": "code",
   "execution_count": null,
   "id": "1b90a0ac-a14d-4626-9f42-6d244baa5574",
   "metadata": {},
   "outputs": [],
   "source": [
    "mlayers = [layer.buffer(0.001).buffer(-0.001).boundary for layer in layers]"
   ]
  },
  {
   "cell_type": "code",
   "execution_count": null,
   "id": "31d4f89f-36f0-40a7-870a-daa9fd98c1b6",
   "metadata": {},
   "outputs": [],
   "source": [
    "mlayers = [gp.merge_LineStrings([l for l in layer if l.length > 0.2]) for layer in mlayers]"
   ]
  },
  {
   "cell_type": "code",
   "execution_count": null,
   "id": "4a15aecc-9721-4567-a626-2ab004281625",
   "metadata": {},
   "outputs": [],
   "source": [
    "sns.displot([np.log10(l.length) for l in mlayers[0]])"
   ]
  },
  {
   "cell_type": "code",
   "execution_count": null,
   "id": "ffc2048f-1175-4e85-9d3b-8ddba12a2955",
   "metadata": {
    "Collapsed": "false"
   },
   "outputs": [],
   "source": [
    "sk = vsketch.Vsketch()\n",
    "sk.size(paper.page_format_mm)\n",
    "sk.scale('1mm')\n",
    "sk.penWidth('0.3mm')\n",
    "for i, layer in enumerate(mlayers):\n",
    "    sk.stroke(i+1)\n",
    "    sk.geometry(layer)\n",
    "\n",
    "# sk.stroke(len(layers)+2)\n",
    "# sk.geometry(blss)\n",
    "    \n",
    "sk.display(color_mode='layer')"
   ]
  },
  {
   "cell_type": "code",
   "execution_count": null,
   "id": "40e9a756-4ded-426c-aebd-1a1c80017317",
   "metadata": {},
   "outputs": [],
   "source": [
    "filename = fn.Fn(postfix='-circle_bez_morsed.svg', git_sha_size=5, pid_sha_size=6).name(utc=False, milli=False)"
   ]
  },
  {
   "cell_type": "code",
   "execution_count": null,
   "id": "00582bd7-7334-40c0-8595-35a5f42a9084",
   "metadata": {},
   "outputs": [],
   "source": [
    "sk.vpype('splitall linemerge -t 0.1 linesimplify linemerge -t 0.3 linesimplify linemerge -t 0.5 linesimplify linesort')"
   ]
  },
  {
   "cell_type": "code",
   "execution_count": null,
   "id": "8b5f2c5b-c1c5-4387-83a8-5d5637ad7c82",
   "metadata": {},
   "outputs": [],
   "source": [
    "sk.display(color_mode='layer')"
   ]
  },
  {
   "cell_type": "code",
   "execution_count": null,
   "id": "1afd82ab-c446-4518-a76b-b4bea50635ec",
   "metadata": {},
   "outputs": [],
   "source": [
    "savepath = Path(savedir).joinpath(filename).as_posix()\n",
    "sk.save(savepath)"
   ]
  },
  {
   "cell_type": "markdown",
   "id": "fb29f542-cca8-4643-a8fd-308da3622f66",
   "metadata": {},
   "source": [
    "# particles?"
   ]
  },
  {
   "cell_type": "code",
   "execution_count": null,
   "id": "ce5d2e3c-e5a4-4884-8883-ddf7ef7b6a42",
   "metadata": {},
   "outputs": [],
   "source": [
    "# make pixel polys\n",
    "prms = []\n",
    "for bp in tqdm(bps):\n",
    "\n",
    "#     a = np.random.uniform(0, 240)\n",
    "    dist_from_center = bp.centroid.distance(bps.centroid)\n",
    "    a = np.interp(dist_from_center, [0, 150], [0, 1020])\n",
    "    prm = {\n",
    "        'geometry':bp,\n",
    "        'raw_pixel_width':pixel_width,\n",
    "        'raw_pixel_height':pixel_height,\n",
    "        'angle':a,\n",
    "        'group': 'raw_hatch_pixel',\n",
    "        'magnitude': np.random.uniform(0.3, 2),\n",
    "\n",
    "    }\n",
    "    prms.append(prm)\n",
    "raw_hatch_pixels = geopandas.GeoDataFrame(prms)"
   ]
  },
  {
   "cell_type": "code",
   "execution_count": null,
   "id": "38d53f43-f060-447b-b598-1e0cf95f2e3e",
   "metadata": {},
   "outputs": [],
   "source": [
    "#  rescale polys to fit in drawbox\n",
    "bbox = box(*raw_hatch_pixels.total_bounds)\n",
    "_, transform = gp.make_like(bbox, drawbox, return_transform=True)\n",
    "A = gp.AffineMatrix(**transform)\n",
    "scaled_hatch_pixels = raw_hatch_pixels.copy()\n",
    "scaled_hatch_pixels['geometry'] = scaled_hatch_pixels.affine_transform(A.A_flat)\n",
    "scaled_hatch_pixels['scaled_pixel_height'] = scaled_hatch_pixels['geometry'].apply(gp.get_height)\n",
    "scaled_hatch_pixels['scaled_pixel_width'] = scaled_hatch_pixels['geometry'].apply(gp.get_width)"
   ]
  },
  {
   "cell_type": "code",
   "execution_count": null,
   "id": "0063925b-1e96-4a17-9ca8-d59cc9cc2f70",
   "metadata": {},
   "outputs": [],
   "source": [
    "new_drawbox = so.unary_union(scaled_hatch_pixels.geometry)\n",
    "db = gp.Poly(new_drawbox)"
   ]
  },
  {
   "cell_type": "code",
   "execution_count": null,
   "id": "e2e54c74-9f8d-4026-a170-b86b0274921c",
   "metadata": {},
   "outputs": [],
   "source": [
    "qpg = NoisyQuantizedPiecewiseGrid(scaled_hatch_pixels, xstep=5, ystep=5, noise_scale=0.1, noise_mult=1.5, verbose=False)\n",
    "qpg.make_grid()"
   ]
  },
  {
   "cell_type": "code",
   "execution_count": null,
   "id": "da878ed5-a733-4730-a273-cebd271189c4",
   "metadata": {},
   "outputs": [],
   "source": [
    "start_points = []\n",
    "for bp in scaled_hatch_pixels['geometry']:\n",
    "    start_points += gp.get_random_points_in_polygon(bp, bp.area//4+5) "
   ]
  },
  {
   "cell_type": "code",
   "execution_count": null,
   "id": "f6cae822-918d-444a-96d7-a7772a3d8154",
   "metadata": {},
   "outputs": [],
   "source": [
    "start_points = gp.make_like(MultiPoint(start_points), db.p)"
   ]
  },
  {
   "cell_type": "code",
   "execution_count": null,
   "id": "3277ca4a-283a-454c-8ea4-48922372dd4e",
   "metadata": {
    "tags": []
   },
   "outputs": [],
   "source": [
    "poly = new_drawbox\n",
    "pts = []\n",
    "lss = []\n",
    "n_steps = 12\n",
    "for pt in tqdm(start_points):\n",
    "    \n",
    "    vp = VectorParticle(pos=pt, grid=qpg, stepsize=1, momentum_factor=np.random.uniform(0,0))\n",
    "    for ii in range(n_steps):\n",
    "        vp.step()\n",
    "    if len(vp.pts) > 1:\n",
    "        ls = gp.merge_LineStrings([LineString(vp.pts)])\n",
    "        lss.append(ls)"
   ]
  },
  {
   "cell_type": "code",
   "execution_count": null,
   "id": "31a7a1be-59da-441f-a425-fb3b96e68c86",
   "metadata": {},
   "outputs": [],
   "source": [
    "lss = gp.merge_LineStrings([f for f in lss if f.length > 0.1])"
   ]
  },
  {
   "cell_type": "code",
   "execution_count": null,
   "id": "f274f18a-c4f0-4ea5-8e98-4befd9157646",
   "metadata": {},
   "outputs": [],
   "source": [
    "\n",
    "    "
   ]
  },
  {
   "cell_type": "code",
   "execution_count": null,
   "id": "3c10ecc3-9e74-4acf-b8f1-e8535e9a1f34",
   "metadata": {},
   "outputs": [],
   "source": [
    "split_inds = np.array_split(np.arange(len(lss)), 1000)"
   ]
  },
  {
   "cell_type": "code",
   "execution_count": null,
   "id": "2f2403d1-e8f3-4334-9ea0-0e29c065a046",
   "metadata": {},
   "outputs": [],
   "source": [
    "layers = []\n",
    "for split_ind in split_inds:\n",
    "    ls = gp.merge_LineStrings([lss[ii] for ii in split_ind])\n",
    "    layers.append(ls)"
   ]
  },
  {
   "cell_type": "code",
   "execution_count": null,
   "id": "644cec28-68e0-4681-ba92-a9cbddce767d",
   "metadata": {},
   "outputs": [],
   "source": [
    "filename = fn.Fn(postfix='-circle_bez_morsed.svg', git_sha_size=5, pid_sha_size=6).name(utc=False, milli=False)"
   ]
  },
  {
   "cell_type": "code",
   "execution_count": null,
   "id": "9cb04312-5bef-4101-9c25-5f219ea20362",
   "metadata": {
    "Collapsed": "false"
   },
   "outputs": [],
   "source": [
    "sk = vsketch.Vsketch()\n",
    "sk.size(paper.page_format_mm)\n",
    "sk.scale('1mm')\n",
    "sk.penWidth('0.3mm')\n",
    "# sk.geometry(lss)\n",
    "# sk.stroke(2)\n",
    "# sk.geometry(bps.boundary)\n",
    "for ii, l in enumerate(layers):\n",
    "    sk.stroke(ii + 1)\n",
    "    sk.geometry(l)\n",
    "    \n",
    "# sk.stroke(len(layers)+2)\n",
    "# sk.geometry(blss)\n",
    "    \n",
    "sk.display(color_mode='layer')"
   ]
  },
  {
   "cell_type": "code",
   "execution_count": null,
   "id": "f6fc28c3-f8be-46e2-b166-9a18502b4447",
   "metadata": {},
   "outputs": [],
   "source": [
    "sk.vpype('splitall linemerge -t 0.1 linesimplify linemerge -t 0.2 linesort')"
   ]
  },
  {
   "cell_type": "code",
   "execution_count": null,
   "id": "d62bd7ba-5c0f-4d4c-961d-e4674fb8a96f",
   "metadata": {},
   "outputs": [],
   "source": [
    "sk.display(color_mode='layer')"
   ]
  },
  {
   "cell_type": "code",
   "execution_count": null,
   "id": "6a5eb5c0-86e4-4745-a0c8-489c117944bc",
   "metadata": {},
   "outputs": [],
   "source": [
    "savepath = Path(savedir).joinpath(filename).as_posix()\n",
    "sk.save(savepath)"
   ]
  },
  {
   "cell_type": "code",
   "execution_count": null,
   "id": "b256c7d7-e11f-4c03-8920-abe5405b7545",
   "metadata": {},
   "outputs": [],
   "source": []
  },
  {
   "cell_type": "code",
   "execution_count": null,
   "id": "38af74c7-b527-4247-9688-1b9bf5b01999",
   "metadata": {
    "Collapsed": "false"
   },
   "outputs": [],
   "source": [
    "n_layers = 1"
   ]
  },
  {
   "cell_type": "code",
   "execution_count": null,
   "id": "18d960fa-0ac6-4557-984c-a31894aa76c1",
   "metadata": {},
   "outputs": [],
   "source": [
    "sns.displot([p.centroid.distance(bps.centroid) for p in bps])"
   ]
  },
  {
   "cell_type": "code",
   "execution_count": null,
   "id": "f808367d-5b72-489b-9786-b7c7d9939bee",
   "metadata": {
    "Collapsed": "false"
   },
   "outputs": [],
   "source": [
    "\n",
    "fills = []\n",
    "for p in bps:\n",
    "    xjitter_func = 0\n",
    "    yjitter_func = ss.norm(loc=0, scale=np.random.uniform(0.1, 1.5)).rvs\n",
    "    dist_from_center = p.centroid.distance(bps.centroid)\n",
    "    a = np.interp(dist_from_center, [0, 80], [0, 180])\n",
    "    bhf = gp.BezierHatchFill(\n",
    "        spacing=np.random.uniform(0.3, 0.9),\n",
    "        degrees=a,\n",
    "        poly_to_fill=p, \n",
    "        xjitter_func=xjitter_func, \n",
    "        yjitter_func=yjitter_func,\n",
    "        fill_inscribe_buffer=1.4,\n",
    "        n_nodes_per_line=15,\n",
    "        n_eval_points=100,\n",
    "    )\n",
    "    fills.append(bhf.p)\n",
    "\n",
    "fills = [f for f in fills if f.length > 0]\n",
    "lss = gp.merge_LineStrings(fills)"
   ]
  },
  {
   "cell_type": "code",
   "execution_count": null,
   "id": "ab4fd3cd-7957-4971-a6cc-eb973190db61",
   "metadata": {},
   "outputs": [],
   "source": []
  },
  {
   "cell_type": "code",
   "execution_count": null,
   "id": "2c8b3023-e52d-480b-b8c6-c92299e5f938",
   "metadata": {},
   "outputs": [],
   "source": [
    "split_inds = np.array_split(np.arange(len(lss)), 1000)"
   ]
  },
  {
   "cell_type": "code",
   "execution_count": null,
   "id": "26120fae-b73f-4acb-8b87-13dc6553dcbe",
   "metadata": {},
   "outputs": [],
   "source": [
    "layers = []\n",
    "for split_ind in split_inds:\n",
    "    ls = gp.merge_LineStrings([lss[ii] for ii in split_ind])\n",
    "    layers.append(ls)"
   ]
  },
  {
   "cell_type": "code",
   "execution_count": null,
   "id": "a7af1c42-92f5-4168-9667-99c60654a7ff",
   "metadata": {},
   "outputs": [],
   "source": [
    "filename = fn.Fn(postfix='-circle_bez_morsed.svg', git_sha_size=5, pid_sha_size=6).name(utc=False, milli=False)"
   ]
  },
  {
   "cell_type": "code",
   "execution_count": null,
   "id": "4ff764fe-9115-498a-bb73-bbbd70a7de6b",
   "metadata": {
    "Collapsed": "false"
   },
   "outputs": [],
   "source": [
    "sk = vsketch.Vsketch()\n",
    "sk.size(paper.page_format_mm)\n",
    "sk.scale('1mm')\n",
    "sk.penWidth('0.3mm')\n",
    "# sk.geometry(lss)\n",
    "# sk.stroke(2)\n",
    "# sk.geometry(bps.boundary)\n",
    "for ii, l in enumerate(layers):\n",
    "    sk.stroke(ii + 1)\n",
    "    sk.geometry(l)\n",
    "    \n",
    "# sk.stroke(len(layers)+2)\n",
    "# sk.geometry(blss)\n",
    "    \n",
    "sk.display(color_mode='layer')"
   ]
  },
  {
   "cell_type": "code",
   "execution_count": null,
   "id": "fff7e893-d58b-40e0-8d26-4379c91133c1",
   "metadata": {},
   "outputs": [],
   "source": [
    "sk.vpype('splitall linemerge -t 0.1 linesimplify linemerge -t 0.2 linesort')"
   ]
  },
  {
   "cell_type": "code",
   "execution_count": null,
   "id": "a639830d-c49b-4451-954c-5c57c34b87c9",
   "metadata": {},
   "outputs": [],
   "source": [
    "sk.display(color_mode='layer')"
   ]
  },
  {
   "cell_type": "code",
   "execution_count": null,
   "id": "c1eccbc5-efaf-4792-9d71-871c9062c5c9",
   "metadata": {},
   "outputs": [],
   "source": [
    "savepath = Path(savedir).joinpath(filename).as_posix()\n",
    "sk.save(savepath)"
   ]
  },
  {
   "cell_type": "code",
   "execution_count": null,
   "id": "80bd8ff8-520e-4a43-a800-1c85661aec14",
   "metadata": {},
   "outputs": [],
   "source": []
  }
 ],
 "metadata": {
  "kernelspec": {
   "display_name": "Python [conda env:genpen]",
   "language": "python",
   "name": "conda-env-genpen-py"
  },
  "language_info": {
   "codemirror_mode": {
    "name": "ipython",
    "version": 3
   },
   "file_extension": ".py",
   "mimetype": "text/x-python",
   "name": "python",
   "nbconvert_exporter": "python",
   "pygments_lexer": "ipython3",
   "version": "3.8.8"
  }
 },
 "nbformat": 4,
 "nbformat_minor": 5
}

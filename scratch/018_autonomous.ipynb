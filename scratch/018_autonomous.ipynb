{
 "cells": [
  {
   "cell_type": "code",
   "execution_count": null,
   "metadata": {
    "Collapsed": "false"
   },
   "outputs": [],
   "source": [
    "import itertools\n",
    "import numpy as np\n",
    "import os\n",
    "import seaborn as sns\n",
    "from tqdm import tqdm\n",
    "from dataclasses import asdict, dataclass, field\n",
    "import vsketch\n",
    "import shapely.geometry as sg\n",
    "from shapely.geometry import box, MultiLineString, Point, MultiPoint, Polygon, MultiPolygon, LineString\n",
    "import shapely.affinity as sa\n",
    "import shapely.ops as so\n",
    "import matplotlib.pyplot as plt\n",
    "import pandas as pd\n",
    "\n",
    "import vpype_cli\n",
    "from typing import List, Generic\n",
    "from genpen import genpen as gp, utils as utils\n",
    "from scipy import stats as ss\n",
    "import geopandas\n",
    "from shapely.errors import TopologicalError\n",
    "import functools\n",
    "%load_ext autoreload\n",
    "%autoreload 2\n",
    "import vpype\n",
    "from skimage import io\n",
    "from pathlib import Path\n",
    "\n",
    "from sklearn.preprocessing import minmax_scale\n",
    "from skimage import feature\n",
    "from genpen.utils import Paper"
   ]
  },
  {
   "cell_type": "code",
   "execution_count": null,
   "metadata": {
    "Collapsed": "false"
   },
   "outputs": [],
   "source": [
    "class PolygonGrowth(object):\n",
    "    \n",
    "    def __init__(self, polygon):\n",
    "        self.polygons = [polygon]\n",
    "        self.growth = polygon\n",
    "        self.growth = Polygon(self.growth.exterior)\n",
    "        self.obj_func = None\n",
    "        \n",
    "    def _repr_svg_(self):\n",
    "        return self.growth._repr_svg_()\n",
    "        \n",
    "    @property\n",
    "    def lines(self):\n",
    "        lss = []\n",
    "        for p in self.polygons:\n",
    "            b = p.boundary\n",
    "            if b.type == 'LineString':\n",
    "                lss.append(b)\n",
    "            elif b.type == 'MultiLineString':\n",
    "                lss += list(b)\n",
    "        return MultiLineString(lss)\n",
    "        \n",
    "    def calc_polygon_diff(self, polygon):\n",
    "        return polygon.difference(self.growth)\n",
    "        \n",
    "    def add_polygon_diff(self, polygon):\n",
    "        polygon_diff = self.calc_polygon_diff(polygon)\n",
    "        self.polygons.append(polygon_diff)\n",
    "        self.growth = so.unary_union([self.growth, polygon_diff])\n",
    "        self.growth = Polygon(self.growth.boundary)\n",
    "        \n",
    "    def get_boundary_point(self, boundary_loc=None):\n",
    "        if boundary_loc is None:\n",
    "            boundary_loc = np.random.rand()\n",
    "        return self.growth.boundary.interpolate(boundary_loc, normalized=True)\n",
    "    \n",
    "    def get_random_boundary_points(self, n):\n",
    "        return MultiPoint([self.get_boundary_point() for i in range(n)])\n",
    "    \n",
    "    def get_boundary_points(self, boundary_locs):\n",
    "        return MultiPoint([self.get_boundary_point(b) for b in boundary_locs])\n",
    "    \n",
    "    def grow_random_circle_diff(self, rad):\n",
    "        self.add_polygon_diff(self.get_boundary_point().buffer(rad))\n",
    "        \n",
    "    def buffer_growth(self, d):\n",
    "        self.growth = self.growth.buffer(d)\n",
    "        self.growth = Polygon(self.growth.exterior)\n",
    "        \n",
    "    def filter_points_by_distance(self, points, target_point, descending=True, n_filtered_points=1):\n",
    "        dists = [target_point.distance(p) for p in points]\n",
    "        if descending:\n",
    "            ordered = np.argsort(dists)\n",
    "        else:\n",
    "            ordered = np.argsort(-dists)\n",
    "        return MultiPoint([points[i] for i in ordered[:n_filtered_points]])\n",
    "    \n",
    "    def get_LineFactory(self):\n",
    "        lf = LineFactory()\n",
    "        for line in self.lines:\n",
    "            lf.add_line(np.asarray(line.xy))\n",
    "        return lf\n",
    "    \n",
    "    \n",
    "class TargetPointGrowth(PolygonGrowth):\n",
    "    \n",
    "    def grow_circle_diff(self, target_point, rad, n_checks, **kwargs):\n",
    "        points = self.get_random_boundary_points(n=n_checks)\n",
    "        fps = self.filter_points_by_distance(points, target_point, **kwargs)\n",
    "        for fp in fps:\n",
    "            self.add_polygon_diff(fp.buffer(rad))\n",
    "            \n",
    "            "
   ]
  },
  {
   "cell_type": "markdown",
   "metadata": {
    "Collapsed": "false"
   },
   "source": [
    "# nfl"
   ]
  },
  {
   "cell_type": "code",
   "execution_count": null,
   "metadata": {
    "Collapsed": "false"
   },
   "outputs": [],
   "source": [
    "df = pd.read_csv('/mnt/c/data/side/nfl_games.csv')"
   ]
  },
  {
   "cell_type": "code",
   "execution_count": null,
   "metadata": {
    "Collapsed": "false"
   },
   "outputs": [],
   "source": [
    "groups = df.groupby(['score_home', 'score_away'])"
   ]
  },
  {
   "cell_type": "code",
   "execution_count": null,
   "metadata": {
    "Collapsed": "false"
   },
   "outputs": [],
   "source": [
    "# make page\n",
    "paper_size = '11x14 inches'\n",
    "border:float=20\n",
    "paper = Paper(paper_size)\n",
    "\n",
    "drawbox = paper.get_drawbox(border)"
   ]
  },
  {
   "cell_type": "code",
   "execution_count": null,
   "metadata": {
    "Collapsed": "false"
   },
   "outputs": [],
   "source": [
    "yard_scale = 0.0003\n",
    "n_checks = 30"
   ]
  },
  {
   "cell_type": "code",
   "execution_count": null,
   "metadata": {
    "Collapsed": "false"
   },
   "outputs": [],
   "source": [
    "mlss = []\n",
    "f = 0\n",
    "for score, group in groups:\n",
    "    ## initialize\n",
    "    tp = Point(score)\n",
    "    start_circle = tp.buffer(0.01)\n",
    "    main_orb = TargetPointGrowth(start_circle)\n",
    "#     main_orb.buffer_growth(0.1)\n",
    "    for i, row in group.iterrows():\n",
    "        try:\n",
    "            total_yards = row['yards_home'] + row['yards_away']\n",
    "            rad = total_yards * yard_scale\n",
    "            main_orb.grow_circle_diff(target_point=tp, rad=rad, n_checks=n_checks)\n",
    "            main_orb.buffer_growth(0.3)\n",
    "        except:\n",
    "            f+=1\n",
    "    polys = gp.merge_Polygons(main_orb.polygons[1:])\n",
    "    mlss.append(polys)"
   ]
  },
  {
   "cell_type": "code",
   "execution_count": null,
   "metadata": {
    "Collapsed": "false"
   },
   "outputs": [],
   "source": [
    "all_mlss = gp.make_like(gp.merge_Polygons(mlss), drawbox)"
   ]
  },
  {
   "cell_type": "code",
   "execution_count": null,
   "metadata": {
    "Collapsed": "false"
   },
   "outputs": [],
   "source": [
    "buffs = gp.merge_Polygons([p.buffer(0.1) for p in all_mlss])"
   ]
  },
  {
   "cell_type": "code",
   "execution_count": null,
   "metadata": {
    "Collapsed": "false"
   },
   "outputs": [],
   "source": [
    "bb = all_mlss.boundary.buffer(0.1, cap_style=2, join_style=2)"
   ]
  },
  {
   "cell_type": "code",
   "execution_count": null,
   "metadata": {},
   "outputs": [],
   "source": [
    "sk = vsketch.Vsketch()\n",
    "sk.size(paper.page_format_mm)\n",
    "sk.scale('1mm')\n",
    "sk.penWidth('0.1mm')\n",
    "sk.geometry(all_mlss.buffer(0.1).boundary)\n",
    "\n",
    "# tolerance=0.5\n",
    "# sk.vpype(f'linemerge --tolerance {tolerance}mm linesort')\n",
    "\n",
    "sk.display()"
   ]
  },
  {
   "cell_type": "code",
   "execution_count": null,
   "metadata": {
    "Collapsed": "false"
   },
   "outputs": [],
   "source": [
    "pts = MultiPoint([Point(score) for score, group in groups])"
   ]
  },
  {
   "cell_type": "code",
   "execution_count": null,
   "metadata": {
    "Collapsed": "false"
   },
   "outputs": [],
   "source": [
    "tris = gp.make_like(gp.merge_Polygons(so.triangulate(pts)), drawbox)"
   ]
  },
  {
   "cell_type": "code",
   "execution_count": null,
   "metadata": {
    "Collapsed": "false"
   },
   "outputs": [],
   "source": [
    "tribs = tris.buffer(-0.2).boundary"
   ]
  },
  {
   "cell_type": "code",
   "execution_count": null,
   "metadata": {},
   "outputs": [],
   "source": [
    "sk = vsketch.Vsketch()\n",
    "sk.size(paper.page_format_mm)\n",
    "sk.scale('1mm')\n",
    "sk.penWidth('0.1mm')\n",
    "sk.geometry(tribs)\n",
    "\n",
    "sk.display()"
   ]
  },
  {
   "cell_type": "code",
   "execution_count": null,
   "metadata": {
    "Collapsed": "false"
   },
   "outputs": [],
   "source": []
  },
  {
   "cell_type": "code",
   "execution_count": null,
   "metadata": {
    "Collapsed": "false"
   },
   "outputs": [],
   "source": [
    "target_point = drawbox.centroid\n",
    "max_rads = [40, ]\n",
    "min_rads = [1,]\n",
    "circles_per_wave = [100, ]\n",
    "check_ns_per_wave = [ 250, ]\n",
    "tps = [target_point ]\n",
    "\n",
    "rads = []\n",
    "check_ns = []\n",
    "\n",
    "for max_rad, min_rad, n_circles, check_n in zip(max_rads, min_rads, circles_per_wave, check_ns_per_wave):\n",
    "    rads.append(np.logspace(np.log10(max_rad), np.log10(min_rad), int(n_circles)))\n",
    "    check_ns.append(np.repeat(check_n, n_circles))\n",
    "\n",
    "\n",
    "target_points = []\n",
    "for tp, n_circles_per_wave in zip(tps, circles_per_wave):\n",
    "    target_points += [tp] * n_circles_per_wave\n",
    "\n",
    "rads = np.concatenate(rads)\n",
    "check_ns = np.concatenate(check_ns)\n",
    "init_rad = rads[0]"
   ]
  },
  {
   "cell_type": "code",
   "execution_count": null,
   "metadata": {
    "Collapsed": "false"
   },
   "outputs": [],
   "source": []
  },
  {
   "cell_type": "code",
   "execution_count": null,
   "metadata": {
    "Collapsed": "false"
   },
   "outputs": [],
   "source": [
    "for i, rad in enumerate(tqdm(rads)):\n",
    "    n_checks = check_ns[i]\n",
    "    target_point = target_points[i]\n",
    "    try:\n",
    "        main_orb.grow_circle_diff(target_point=target_point, rad=rad, n_checks=n_checks)\n",
    "    except:\n",
    "        pass\n"
   ]
  },
  {
   "cell_type": "markdown",
   "metadata": {
    "Collapsed": "false"
   },
   "source": [
    "# photos"
   ]
  },
  {
   "cell_type": "code",
   "execution_count": null,
   "metadata": {
    "Collapsed": "false"
   },
   "outputs": [],
   "source": []
  },
  {
   "cell_type": "code",
   "execution_count": null,
   "metadata": {
    "Collapsed": "false"
   },
   "outputs": [],
   "source": [
    "from skimage import exposure\n",
    "\n",
    "from skimage import filters\n",
    "from skimage.color import rgb2gray\n",
    "from skimage.transform import rescale, resize, downscale_local_mean\n",
    "from skimage.morphology import disk"
   ]
  },
  {
   "cell_type": "code",
   "execution_count": null,
   "metadata": {
    "Collapsed": "false"
   },
   "outputs": [],
   "source": [
    "img"
   ]
  },
  {
   "cell_type": "code",
   "execution_count": null,
   "metadata": {
    "Collapsed": "false"
   },
   "outputs": [],
   "source": [
    "image_path = '/mnt/c/Users/alex/Pictures/Camera Roll/1-11-2021/DSC04194.JPG'\n",
    "img0 = rgb2gray(io.imread(image_path))\n",
    "\n",
    "image_path = '/mnt/c/Users/alex/Pictures/Camera Roll/1-11-2021/DSC04196.JPG'\n",
    "img1 = rgb2gray(io.imread(image_path))\n",
    "\n",
    "img = img1 - img0\n",
    "\n",
    "# img = rescale(img, 0.06)\n",
    "\n",
    "# x, y = np.mgrid[-10:10:255j, -10:10:255j]\n",
    "# img = np.sin(x ** 2 + y ** 2)"
   ]
  },
  {
   "cell_type": "code",
   "execution_count": null,
   "metadata": {
    "Collapsed": "false"
   },
   "outputs": [],
   "source": [
    "cimg = img[:3000, :4000]"
   ]
  },
  {
   "cell_type": "code",
   "execution_count": null,
   "metadata": {
    "Collapsed": "false"
   },
   "outputs": [],
   "source": [
    "def local_angle(dx, dy):\n",
    "    \"\"\"Calculate the angles between horizontal and vertical operators.\"\"\"\n",
    "    return np.mod(np.arctan2(dy, dx), np.pi)"
   ]
  },
  {
   "cell_type": "code",
   "execution_count": null,
   "metadata": {
    "Collapsed": "false"
   },
   "outputs": [],
   "source": [
    "selem = disk(2)\n",
    "filt_img = filters.rank.mean(cimg, selem)\n",
    "angle_farid = local_angle(filters.farid_h(filt_img), filters.farid_v(filt_img))"
   ]
  },
  {
   "cell_type": "code",
   "execution_count": null,
   "metadata": {
    "Collapsed": "false"
   },
   "outputs": [],
   "source": [
    "f, ax = plt.subplots(figsize=(12,10))\n",
    "ax.imshow(cimg, cmap = 'RdPu', )"
   ]
  },
  {
   "cell_type": "code",
   "execution_count": null,
   "metadata": {
    "Collapsed": "false"
   },
   "outputs": [],
   "source": [
    "io.imsave('/mnt/c/data/side/tree_wind_difference_ds.jpeg', img)"
   ]
  },
  {
   "cell_type": "code",
   "execution_count": null,
   "metadata": {
    "Collapsed": "false"
   },
   "outputs": [],
   "source": []
  }
 ],
 "metadata": {
  "kernelspec": {
   "display_name": "Python [conda env:genpen]",
   "language": "python",
   "name": "conda-env-genpen-py"
  },
  "language_info": {
   "codemirror_mode": {
    "name": "ipython",
    "version": 3
   },
   "file_extension": ".py",
   "mimetype": "text/x-python",
   "name": "python",
   "nbconvert_exporter": "python",
   "pygments_lexer": "ipython3",
   "version": "3.8.6"
  }
 },
 "nbformat": 4,
 "nbformat_minor": 4
}

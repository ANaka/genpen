{
 "cells": [
  {
   "cell_type": "code",
   "execution_count": null,
   "metadata": {
    "Collapsed": "false"
   },
   "outputs": [],
   "source": [
    "import itertools\n",
    "import numpy as np\n",
    "import os\n",
    "import seaborn as sns\n",
    "from tqdm import tqdm\n",
    "from dataclasses import asdict, dataclass, field\n",
    "import vsketch\n",
    "import shapely.geometry as sg\n",
    "from shapely.geometry import box, MultiLineString, Point, MultiPoint, Polygon, MultiPolygon, LineString\n",
    "import shapely.affinity as sa\n",
    "import shapely.ops as so\n",
    "import matplotlib.pyplot as plt\n",
    "import pandas as pd\n",
    "\n",
    "import vpype_cli\n",
    "from typing import List, Generic\n",
    "from genpen import genpen as gp, utils as utils\n",
    "from scipy import stats as ss\n",
    "import geopandas\n",
    "from shapely.errors import TopologicalError\n",
    "import functools\n",
    "%load_ext autoreload\n",
    "%autoreload 2\n",
    "import vpype\n",
    "from skimage import io\n",
    "from pathlib import Path\n",
    "\n",
    "import bezier\n",
    "\n",
    "from sklearn.preprocessing import minmax_scale\n",
    "from skimage import feature\n",
    "from genpen.utils import Paper"
   ]
  },
  {
   "cell_type": "code",
   "execution_count": null,
   "metadata": {
    "Collapsed": "false"
   },
   "outputs": [],
   "source": [
    "from genpen.genpen import *"
   ]
  },
  {
   "cell_type": "code",
   "execution_count": null,
   "metadata": {
    "Collapsed": "false"
   },
   "outputs": [],
   "source": [
    "# make page\n",
    "paper_size = '11x14 inches'\n",
    "border:float=30\n",
    "paper = Paper(paper_size)\n",
    "\n",
    "drawbox = paper.get_drawbox(border)"
   ]
  },
  {
   "cell_type": "markdown",
   "metadata": {
    "Collapsed": "false"
   },
   "source": [
    "# start with an interesting pattern?"
   ]
  },
  {
   "cell_type": "code",
   "execution_count": null,
   "metadata": {
    "Collapsed": "false"
   },
   "outputs": [],
   "source": [
    "polys = MultiPolygon(so.triangulate(points, tolerance=0.5))\n",
    "polys"
   ]
  },
  {
   "cell_type": "markdown",
   "metadata": {
    "Collapsed": "false"
   },
   "source": [
    "## do the shading"
   ]
  },
  {
   "cell_type": "code",
   "execution_count": null,
   "metadata": {
    "Collapsed": "false"
   },
   "outputs": [],
   "source": [
    "class Fill(Shape):\n",
    "    \n",
    "    def __init__(self):\n",
    "        self._p = p\n",
    "        \n",
    "    def _repr_svg_(self):\n",
    "        return self.fill._repr_svg_()\n",
    "    \n",
    "    @property\n",
    "    def boundary(self):\n",
    "        return self._p.boundary\n",
    "    \n",
    "    @property\n",
    "    def fill(self):\n",
    "        return self.fill_poly(self._p)\n",
    "    \n",
    "    @property\n",
    "    def _all_geoms(self):\n",
    "        return sg.GeometryCollection([self.boundary, self.fill])\n",
    "\n",
    "class Angle(object):\n",
    "    \n",
    "    @property\n",
    "    def deg(self):\n",
    "        return self._deg\n",
    "    \n",
    "    @deg.setter\n",
    "    def deg(self, deg):\n",
    "        self._deg = deg\n",
    "        self._rad = np.deg2rad(deg)\n",
    "    \n",
    "    @property\n",
    "    def rad(self):\n",
    "        return self._rad\n",
    "    \n",
    "    @rad.setter\n",
    "    def rad(self, rad):\n",
    "        self._deg = np.rad2deg(rad)\n",
    "        self._rad = rad\n",
    "        \n",
    "    \n",
    "    def __init__(self, deg=None, rad=None):\n",
    "        if (deg is not None) and (rad is not None):\n",
    "            print('WARNING: arguments entered for both deg and rad; defaulting to using deg')\n",
    "        if deg is not None:\n",
    "            self.deg = deg\n",
    "        elif rad is not None:\n",
    "            self.rad = rad\n",
    "            \n",
    "            \n",
    "    def __repr__(self):\n",
    "        return f'deg = {self.deg} \\nrad = {self.rad:.3}'\n",
    "\n",
    "@dataclass\n",
    "class Filler(DataClassBase):\n",
    "        \n",
    "    def fill_poly(self, poly):\n",
    "        return self.fill_func(poly)\n",
    "    \n",
    "    \n",
    "    \n",
    "@dataclass  \n",
    "class HatchFill(Shape):\n",
    "    \n",
    "    def __init__(\n",
    "        self,\n",
    "        poly_to_fill:sg.Polygon,\n",
    "        degrees:float=0.,\n",
    "        spacing:float=0.5,  # usually mm\n",
    "        alternate_direction:bool=True,\n",
    "        fill_inscribe_buffer=1.1,\n",
    "    ):\n",
    "        self._ptf = poly_to_fill\n",
    "        self.degrees = degrees\n",
    "        self.spacing = spacing\n",
    "        self.alternate_direction = alternate_direction\n",
    "        self.fill_inscribe_buffer = fill_inscribe_buffer\n",
    "    \n",
    "    @property\n",
    "    def angle(self):\n",
    "        return Angle(deg=self.degrees)\n",
    "    \n",
    "    @property\n",
    "    def inscribe_radius(self):\n",
    "        d_from_furthest_vertex_to_centroid = self._ptf.hausdorff_distance(self._ptf.centroid)\n",
    "        return d_from_furthest_vertex_to_centroid * self.fill_inscribe_buffer\n",
    "    \n",
    "    @property\n",
    "    def inscribe_diameter(self):\n",
    "        return self.inscribe_radius * 2\n",
    "    \n",
    "    @property\n",
    "    def envelope_inscribe(self):\n",
    "        return self._ptf.centroid.buffer(self.inscribe_radius)\n",
    "    \n",
    "    @property\n",
    "    def envelope(self):\n",
    "        # rotating geom around centroid will always be inside this\n",
    "        return Shape(box(*self.envelope_inscribe.bounds))\n",
    "    \n",
    "    @property\n",
    "    def _e(self):\n",
    "        return self.envelope\n",
    "    \n",
    "    @property\n",
    "    def spacings(self):\n",
    "        try:\n",
    "            len(self.spacing) > 1\n",
    "            spacings = self.spacing\n",
    "        except TypeError:\n",
    "            # if spacing is a number, make list of uniform spacings\n",
    "            spacings = np.arange(0, self.inscribe_diameter, self.spacing)\n",
    "        return spacings\n",
    "    \n",
    "    @property\n",
    "    def lines(self):\n",
    "        left = self.envelope.left\n",
    "        right = self.envelope.right\n",
    "        top = self.envelope.top\n",
    "        lines = []\n",
    "        for ii, _spacing in enumerate(spacings):\n",
    "            y = top - _spacing\n",
    "            line = LineString(((left, y), (right, y)))\n",
    "            lines.append(line)\n",
    "            \n",
    "        if self.alternate_direction:\n",
    "            for i in range(len(lines)):\n",
    "                if i % 2:\n",
    "                    lines[i] = reverse_LineString(lines[i])\n",
    "        \n",
    "        return sg.MultiLineString(lines)\n",
    "    \n",
    "    @property\n",
    "    def rotated_lines(self):\n",
    "        return sa.rotate(self.lines, self.angle.deg, origin=self._ptf.centroid, use_radians=False)\n",
    "    \n",
    "    @property\n",
    "    def fill(self):\n",
    "        return self._ptf.intersection(self.rotated_lines)\n",
    "    \n",
    "    @property\n",
    "    def _p(self):\n",
    "        return self.fill\n",
    "        \n",
    "    \n",
    "    \n",
    "\n",
    "@dataclass  \n",
    "class BezierHatchFill(HatchFill):\n",
    "    \n",
    "    def __init__(\n",
    "        self,\n",
    "        poly_to_fill:sg.Polygon,\n",
    "        xjitter_func,\n",
    "        yjitter_func,\n",
    "        degrees:float=0.,\n",
    "        spacing:float=0.5,  # usually mm\n",
    "        alternate_direction:bool=True,\n",
    "        fill_inscribe_buffer=1.01,\n",
    "        n_nodes_per_line=20,\n",
    "        n_eval_points=100,\n",
    "        \n",
    "    ):\n",
    "        self._ptf = poly_to_fill\n",
    "        self.degrees = degrees\n",
    "        self.spacing = spacing\n",
    "        self.alternate_direction = alternate_direction\n",
    "        self.fill_inscribe_buffer = fill_inscribe_buffer\n",
    "        self.n_nodes_per_line = n_nodes_per_line\n",
    "        self.init_nodes = None\n",
    "        self.xjitter_func = make_callable(xjitter_func)\n",
    "        self.yjitter_func = make_callable(yjitter_func)\n",
    "        self.n_eval_points = n_eval_points\n",
    "    \n",
    "    def initialize_nodes(self):\n",
    "        # here to be expanded\n",
    "        self.init_node_xs = np.linspace(self._e.left, self._e.right, self.n_nodes_per_line)\n",
    "        self.init_node_ys = np.zeros_like(self.init_node_xs)\n",
    "        self.init_nodes = np.stack([self.init_node_xs, self.init_node_ys])\n",
    "    \n",
    "    @property\n",
    "    def node_sets(self):\n",
    "        if self.init_nodes is None:\n",
    "            self.initialize_nodes()\n",
    "        xs = self.init_node_xs.copy()\n",
    "        ys = self.init_node_ys.copy()\n",
    "        nodes = np.stack([xs, ys])\n",
    "        node_sets = [nodes.copy()]\n",
    "        for ii in range(1, len(self.spacings)):\n",
    "            xs += self.xjitter_func(xs.shape)\n",
    "            ys += self.yjitter_func(ys.shape)\n",
    "            nodes = np.stack([xs, ys])\n",
    "            node_sets.append(nodes)\n",
    "        return node_sets\n",
    "        \n",
    "    @property\n",
    "    def ft_node_sets(self):\n",
    "        return [np.asfortranarray(n) for n in self.node_sets]\n",
    "    \n",
    "    @property\n",
    "    def curves(self):\n",
    "        curves = []\n",
    "        for node_set in self.ft_node_sets:\n",
    "            curve = bezier.Curve(node_set, degree=(node_set.shape[1]-1))\n",
    "            curves.append(curve)\n",
    "        return curves\n",
    "    \n",
    "    @property\n",
    "    def _interpolated_curves(self):\n",
    "        i_curves = []\n",
    "        for curve in self.curves:\n",
    "            eval_points = np.linspace(0, 1, self.n_eval_points)\n",
    "            x, y = curve.evaluate_multi(eval_points)\n",
    "            i_curves.append(np.stack([x, y]).T)\n",
    "        return i_curves\n",
    "    \n",
    "    @property\n",
    "    def lines(self):\n",
    "        lines = []\n",
    "        \n",
    "        for ii, curve in enumerate(self._interpolated_curves):\n",
    "            spacing = self.spacings[ii]\n",
    "            y = self._e.top - spacing\n",
    "            _curve = curve.copy()\n",
    "            _curve[:, 1] += y\n",
    "            line = LineString(_curve)\n",
    "            lines.append(line)\n",
    "            \n",
    "        if self.alternate_direction:\n",
    "            for i in range(len(lines)):\n",
    "                if i % 2:\n",
    "                    lines[i] = reverse_LineString(lines[i])\n",
    "        \n",
    "        lines = [l for l in lines if l.length > 0]\n",
    "        \n",
    "        return sg.MultiLineString(lines)\n",
    "    \n",
    "    "
   ]
  },
  {
   "cell_type": "code",
   "execution_count": null,
   "metadata": {
    "Collapsed": "false"
   },
   "outputs": [],
   "source": [
    "bhf = BezierHatchFill(\n",
    "    spacing=1.,\n",
    "    poly_to_fill=poly_to_fill, \n",
    "    xjitter_func=xjitter_func, \n",
    "    yjitter_func=yjitter_func)"
   ]
  },
  {
   "cell_type": "code",
   "execution_count": null,
   "metadata": {
    "Collapsed": "false"
   },
   "outputs": [],
   "source": [
    "n_layers = 1"
   ]
  },
  {
   "cell_type": "code",
   "execution_count": null,
   "metadata": {
    "Collapsed": "false"
   },
   "outputs": [],
   "source": [
    "layers = []\n",
    "for ii in range(n_layers):\n",
    "    fills = []\n",
    "    for p in polys:\n",
    "        xjitter_func = 0\n",
    "        yjitter_func = ss.norm(loc=0, scale=np.random.uniform(1., 3.5)).rvs\n",
    "        bhf = BezierHatchFill(\n",
    "            spacing=np.random.uniform(0.4, 1.5),\n",
    "            degrees=np.random.uniform(0,180),\n",
    "            poly_to_fill=p, \n",
    "            xjitter_func=xjitter_func, \n",
    "            yjitter_func=yjitter_func)\n",
    "        fills.append(bhf.p)\n",
    "\n",
    "    fills = [f for f in fills if f.length > 0]\n",
    "    layer = gp.merge_LineStrings(fills)\n",
    "    layers.append(layer)"
   ]
  },
  {
   "cell_type": "code",
   "execution_count": null,
   "metadata": {
    "Collapsed": "false"
   },
   "outputs": [],
   "source": [
    "sk = vsketch.Vsketch()\n",
    "sk.size(paper.page_format_mm)\n",
    "sk.scale('1mm')\n",
    "sk.penWidth('0.3mm')\n",
    "for i, layer in enumerate(layers):\n",
    "    sk.stroke(i+1)\n",
    "    sk.geometry(layer)\n",
    "\n",
    "sk.penWidth('0.3')\n",
    "sk.vpype(f'linemerge --tolerance 0.3mm linesort')\n",
    "\n",
    "sk.display(color_mode='layer')"
   ]
  },
  {
   "cell_type": "code",
   "execution_count": null,
   "metadata": {
    "Collapsed": "false"
   },
   "outputs": [],
   "source": [
    "sk.save('/mnt/c/code/side/plotter_images/oned_outputs/262_bez_hatch.svg')"
   ]
  },
  {
   "cell_type": "markdown",
   "metadata": {
    "Collapsed": "false"
   },
   "source": [
    "# with subdivide"
   ]
  },
  {
   "cell_type": "code",
   "execution_count": null,
   "metadata": {
    "Collapsed": "false"
   },
   "outputs": [],
   "source": [
    "def random_line_subdivide(poly, x0=None, x1=None):\n",
    "    if x0 is None:\n",
    "        x0 = np.random.uniform(0,1)\n",
    "    if x1 is None:\n",
    "        x1 = (x0 + 0.5) % 1\n",
    "    return LineString([poly.boundary.interpolate(x, normalized=True) for x in [x0, x1]])\n",
    "\n",
    "def random_bezier_subdivide(poly, x0=None, x1=None, n_eval_points=50):\n",
    "    if x0 is None:\n",
    "        x0 = np.random.uniform(0.2, 0.4)\n",
    "    if x1 is None:\n",
    "        x1 = np.random.uniform(0.6, 0.8)\n",
    "    line = np.asfortranarray(random_line_subdivide(poly, x0, x1))\n",
    "    bez_array = np.stack([line[0], poly.centroid, line[1]]).T\n",
    "    curve1 = bezier.Curve(bez_array, degree=2)\n",
    "    bez = curve1.evaluate_multi(np.linspace(0., 1., n_eval_points))\n",
    "    return sg.asLineString(bez.T)\n",
    "\n",
    "def split_along_longest_side_of_min_rectangle(poly, xgen=None):\n",
    "    if xgen is None:\n",
    "        xgen = gp.make_callable(0.5)\n",
    "    mrrc = poly.minimum_rotated_rectangle.boundary.coords\n",
    "    sides = [LineString([mrrc[i], mrrc[i+1]]) for i in range(4)]\n",
    "    longest_sides = [sides[i] for i in np.argsort([-l.length for l in sides])[:2]]\n",
    "    bps = [ls.interpolate(xgen(), normalized=True)for ls in longest_sides]\n",
    "\n",
    "    return LineString([so.nearest_points(bp, poly.boundary)[1] for bp in bps])\n",
    "\n",
    "def recursive_split(poly, split_func=random_line_subdivide, p_continue=0.7, depth=0, depth_limit=15, buffer_kwargs=None):\n",
    "    \n",
    "    if buffer_kwargs is None:\n",
    "        buffer_kwargs = {'distance':0}\n",
    "    polys = list(poly.difference(split_func(poly).buffer(1e-6)))\n",
    "    split_polys = []\n",
    "    \n",
    "    for i, p in enumerate(polys):\n",
    "        continue_draw = np.random.binomial(n=1, p=p_continue)\n",
    "        \n",
    "        if continue_draw and (depth<depth_limit):\n",
    "            \n",
    "            split_polys += recursive_split(\n",
    "                p, split_func=split_func, p_continue=p_continue, \n",
    "                depth=depth+1, depth_limit=depth_limit,\n",
    "                buffer_kwargs=buffer_kwargs\n",
    "            ) \n",
    "        else:\n",
    "            split_polys.append(p.buffer(**buffer_kwargs))\n",
    "    return split_polys\n",
    "\n",
    "def recursive_split_frac_buffer(poly, split_func=random_line_subdivide, p_continue=0.7, depth=0, depth_limit=15, buffer_kwargs=None, buffer_frac=-0.1):\n",
    "    try:\n",
    "        if buffer_kwargs is None:\n",
    "            buffer_kwargs = {'join_style':2, 'cap_style':2}\n",
    "        polys = list(poly.difference(split_func(poly).buffer(1e-6)))\n",
    "        split_polys = []\n",
    "\n",
    "        for i, p in enumerate(polys):\n",
    "            continue_draw = np.random.binomial(n=1, p=p_continue)\n",
    "            distance=p.centroid.distance(p.boundary)*buffer_frac\n",
    "            bp = p.buffer(distance=distance, **buffer_kwargs)\n",
    "            if continue_draw and (depth<depth_limit):\n",
    "\n",
    "                split_polys += recursive_split_frac_buffer(\n",
    "                    bp, split_func=split_func, p_continue=p_continue, \n",
    "                    depth=depth+1, depth_limit=depth_limit,\n",
    "                    buffer_kwargs=buffer_kwargs, buffer_frac=buffer_frac\n",
    "                ) \n",
    "            else:\n",
    "\n",
    "                split_polys.append(bp)\n",
    "        return split_polys\n",
    "    except:\n",
    "        return [poly]"
   ]
  },
  {
   "cell_type": "code",
   "execution_count": null,
   "metadata": {
    "Collapsed": "false"
   },
   "outputs": [],
   "source": [
    "xgen = ss.uniform(loc=0.4, scale=0.02).rvs\n",
    "split_func = functools.partial(split_along_longest_side_of_min_rectangle, xgen=xgen)\n",
    "splits = recursive_split_frac_buffer(\n",
    "    drawbox, \n",
    "    split_func=split_func,\n",
    "    p_continue=0.85, \n",
    "    depth=0, \n",
    "    depth_limit=10,\n",
    "    buffer_frac=-0.0\n",
    ")\n",
    "\n",
    "bps = MultiPolygon([p for p in splits])\n",
    "\n",
    "\n",
    "sk = vsketch.Vsketch()\n",
    "sk.size(paper.page_format_mm)\n",
    "sk.scale('1mm')\n",
    "sk.penWidth('0.5mm')\n",
    "sk.geometry(bps.boundary)\n",
    "\n",
    "# tolerance=0.5\n",
    "\n",
    "sk.display()"
   ]
  },
  {
   "cell_type": "code",
   "execution_count": null,
   "metadata": {
    "Collapsed": "false"
   },
   "outputs": [],
   "source": [
    "n_layers = 1"
   ]
  },
  {
   "cell_type": "code",
   "execution_count": null,
   "metadata": {
    "Collapsed": "false"
   },
   "outputs": [],
   "source": [
    "layers = []\n",
    "for ii in range(n_layers):\n",
    "    fills = []\n",
    "    for p in bps:\n",
    "        xjitter_func = 0\n",
    "        yjitter_func = ss.norm(loc=0, scale=np.random.uniform(0.2, 3.)).rvs\n",
    "        bhf = BezierHatchFill(\n",
    "            spacing=np.random.uniform(0.2, 0.8),\n",
    "            degrees=np.random.uniform(0,180),\n",
    "            poly_to_fill=p, \n",
    "            xjitter_func=xjitter_func, \n",
    "            yjitter_func=yjitter_func,\n",
    "            fill_inscribe_buffer=1.4,\n",
    "            n_nodes_per_line=15,\n",
    "            n_eval_points=50,\n",
    "        )\n",
    "        fills.append(bhf.p)\n",
    "\n",
    "    fills = [f for f in fills if f.length > 0]\n",
    "    layer = gp.merge_LineStrings(fills)\n",
    "    layers.append(layer)"
   ]
  },
  {
   "cell_type": "code",
   "execution_count": null,
   "metadata": {
    "Collapsed": "false"
   },
   "outputs": [],
   "source": [
    "sk = vsketch.Vsketch()\n",
    "sk.size(paper.page_format_mm)\n",
    "sk.scale('1mm')\n",
    "sk.penWidth('0.3mm')\n",
    "for i, layer in enumerate(layers):\n",
    "    sk.stroke(i+1)\n",
    "    sk.geometry(layer)\n",
    "\n",
    "sk.penWidth('0.3')\n",
    "for tolerance in [0.3, 0.6, 1.2]:\n",
    "    sk.vpype(f'linemerge --tolerance {tolerance}mm')\n",
    "sk.vpype('linesimplify --tolerance 0.1 linesort')\n",
    "\n",
    "sk.display(color_mode='layer')"
   ]
  },
  {
   "cell_type": "code",
   "execution_count": null,
   "metadata": {
    "Collapsed": "false"
   },
   "outputs": [],
   "source": [
    "split_func = functools.partial(random_bezier_subdivide, x0=0.1, x1=0.9, n_eval_points=20)\n",
    "splits = recursive_split_frac_buffer(\n",
    "    drawbox, \n",
    "    split_func=split_func, \n",
    "    p_continue=0.9, \n",
    "    depth=0, \n",
    "    depth_limit=8,\n",
    "    buffer_frac=-0.0\n",
    ")\n",
    "\n",
    "\n",
    "bps = MultiPolygon([p for p in splits])\n",
    "\n",
    "   \n",
    "sk = vsketch.Vsketch()\n",
    "sk.size(paper.page_format_mm)\n",
    "sk.scale('1mm')\n",
    "sk.penWidth('0.5mm')\n",
    "sk.geometry(bps.boundary)\n",
    "\n",
    "# tolerance=0.5\n",
    "\n",
    "sk.display()"
   ]
  },
  {
   "cell_type": "code",
   "execution_count": null,
   "metadata": {
    "Collapsed": "false"
   },
   "outputs": [],
   "source": [
    "n_layers = 2\n",
    "\n",
    "inds = np.arange(len(bps))\n",
    "split_bps = np.array_split(bps, n_layers)\n",
    "\n",
    "layers = []\n",
    "for ii in range(n_layers):\n",
    "    this_bps = split_bps[ii]\n",
    "    fills = []\n",
    "    for p in this_bps:\n",
    "        xjitter_func = 0\n",
    "        yjitter_func = ss.norm(loc=0, scale=np.random.uniform(0.2, 3.)).rvs\n",
    "        bhf = BezierHatchFill(\n",
    "            spacing=np.random.uniform(0.2, 1.),\n",
    "            degrees=np.random.uniform(0,180),\n",
    "            poly_to_fill=p, \n",
    "            xjitter_func=xjitter_func, \n",
    "            yjitter_func=yjitter_func,\n",
    "            fill_inscribe_buffer=1.4,\n",
    "            n_nodes_per_line=15,\n",
    "            n_eval_points=100,\n",
    "        )\n",
    "        fills.append(bhf.p)\n",
    "\n",
    "    fills = [f for f in fills if f.length > 0]\n",
    "    layer = gp.merge_LineStrings(fills)\n",
    "    layers.append(layer)"
   ]
  },
  {
   "cell_type": "code",
   "execution_count": null,
   "metadata": {
    "Collapsed": "false"
   },
   "outputs": [],
   "source": [
    "sk = vsketch.Vsketch()\n",
    "sk.size(paper.page_format_mm)\n",
    "sk.scale('1mm')\n",
    "sk.penWidth('0.3mm')\n",
    "for i, layer in enumerate(layers):\n",
    "    sk.stroke(i+1)\n",
    "    sk.geometry(layer)\n",
    "\n",
    "sk.penWidth('0.3')\n",
    "sk.vpype('linesimplify --tolerance 0.1')\n",
    "for tolerance in [0.1, 0.2, 0.3, 0.6,]:\n",
    "    sk.vpype(f'linemerge --tolerance {tolerance}mm')\n",
    "sk.vpype('linesimplify --tolerance 0.1 linesort')\n",
    "\n",
    "sk.display(color_mode='layer')"
   ]
  },
  {
   "cell_type": "code",
   "execution_count": null,
   "metadata": {
    "Collapsed": "false"
   },
   "outputs": [],
   "source": []
  },
  {
   "cell_type": "code",
   "execution_count": null,
   "metadata": {
    "Collapsed": "false"
   },
   "outputs": [],
   "source": [
    "sk.save('/mnt/c/code/side/plotter_images/oned_outputs/268_subdivide_bez_hatch.svg')"
   ]
  },
  {
   "cell_type": "code",
   "execution_count": null,
   "metadata": {
    "Collapsed": "false"
   },
   "outputs": [],
   "source": []
  },
  {
   "cell_type": "code",
   "execution_count": null,
   "metadata": {
    "Collapsed": "false"
   },
   "outputs": [],
   "source": [
    "# make page\n",
    "paper_size = '6x6 inches'\n",
    "border:float=20\n",
    "paper = Paper(paper_size)\n",
    "\n",
    "drawbox = paper.get_drawbox(border)"
   ]
  },
  {
   "cell_type": "code",
   "execution_count": null,
   "metadata": {
    "Collapsed": "false"
   },
   "outputs": [],
   "source": [
    "circ = drawbox.centroid.buffer(55)"
   ]
  },
  {
   "cell_type": "code",
   "execution_count": null,
   "metadata": {
    "Collapsed": "false"
   },
   "outputs": [],
   "source": [
    "xgen = ss.uniform(loc=0.3, scale=0.02).rvs\n",
    "split_func = functools.partial(random_bezier_subdivide, x0=0.3, x1=0.9, n_eval_points=20)\n",
    "splits = recursive_split_frac_buffer(\n",
    "    circ, \n",
    "    split_func=split_func,\n",
    "    p_continue=0.85, \n",
    "    depth=0, \n",
    "    depth_limit=3,\n",
    "    buffer_frac=-0.0\n",
    ")\n",
    "\n",
    "\n",
    "bps = MultiPolygon([p for p in splits])\n",
    "\n",
    "   \n",
    "sk = vsketch.Vsketch()\n",
    "sk.size(paper.page_format_mm)\n",
    "sk.scale('1mm')\n",
    "sk.penWidth('0.5mm')\n",
    "sk.geometry(bps.boundary)\n",
    "\n",
    "# tolerance=0.5\n",
    "\n",
    "sk.display()"
   ]
  },
  {
   "cell_type": "code",
   "execution_count": null,
   "metadata": {
    "Collapsed": "false"
   },
   "outputs": [],
   "source": [
    "n_layers = 2\n",
    "\n",
    "inds = np.arange(len(bps))\n",
    "split_bps = np.array_split(bps, n_layers)\n",
    "\n",
    "layers = []\n",
    "for ii in range(n_layers):\n",
    "    this_bps = split_bps[ii]\n",
    "    fills = []\n",
    "    for p in this_bps:\n",
    "        xjitter_func = 0\n",
    "        yjitter_func = ss.norm(loc=0, scale=np.random.uniform(0.2, 1.2)).rvs\n",
    "        bhf = BezierHatchFill(\n",
    "            spacing=np.random.uniform(0.2, 0.6),\n",
    "            degrees=np.random.uniform(-90,90),\n",
    "            poly_to_fill=p, \n",
    "            xjitter_func=xjitter_func, \n",
    "            yjitter_func=yjitter_func,\n",
    "            fill_inscribe_buffer=1.4,\n",
    "            n_nodes_per_line=15,\n",
    "            n_eval_points=100,\n",
    "        )\n",
    "        fills.append(bhf.p)\n",
    "\n",
    "    fills = [f for f in fills if f.length > 0]\n",
    "    layer = gp.merge_LineStrings(fills)\n",
    "    layers.append(layer)"
   ]
  },
  {
   "cell_type": "code",
   "execution_count": null,
   "metadata": {
    "Collapsed": "false"
   },
   "outputs": [],
   "source": [
    "sk = vsketch.Vsketch()\n",
    "sk.size(paper.page_format_mm)\n",
    "sk.scale('1mm')\n",
    "sk.penWidth('0.3mm')\n",
    "for i, layer in enumerate(layers):\n",
    "    sk.stroke(i+1)\n",
    "    sk.geometry(layer)\n",
    "\n",
    "sk.penWidth('0.3')\n",
    "sk.vpype('linesimplify --tolerance 0.1')\n",
    "for tolerance in [0.1, 0.2, 0.3,]:\n",
    "    sk.vpype(f'linemerge --tolerance {tolerance}mm')\n",
    "sk.vpype('linesimplify --tolerance 0.1 linesort')\n",
    "\n",
    "sk.display(color_mode='layer')"
   ]
  },
  {
   "cell_type": "code",
   "execution_count": null,
   "metadata": {
    "Collapsed": "false"
   },
   "outputs": [],
   "source": [
    "sk.save('/mnt/c/code/side/plotter_images/oned_outputs/272_subdivide_bez_hatch.svg')"
   ]
  },
  {
   "cell_type": "code",
   "execution_count": null,
   "metadata": {
    "Collapsed": "false"
   },
   "outputs": [],
   "source": [
    "# make page\n",
    "paper_size = '6x6 inches'\n",
    "border:float=20\n",
    "paper = Paper(paper_size)\n",
    "\n",
    "drawbox = paper.get_drawbox(border)"
   ]
  },
  {
   "cell_type": "code",
   "execution_count": null,
   "metadata": {
    "Collapsed": "false"
   },
   "outputs": [],
   "source": [
    "circ = drawbox.centroid.buffer(55)"
   ]
  },
  {
   "cell_type": "code",
   "execution_count": null,
   "metadata": {
    "Collapsed": "false"
   },
   "outputs": [],
   "source": [
    "xgen = ss.uniform(loc=0.3, scale=0.02).rvs\n",
    "split_func = functools.partial(random_bezier_subdivide, x0=0.3, x1=0.8, n_eval_points=20)\n",
    "splits = recursive_split_frac_buffer(\n",
    "    circ, \n",
    "    split_func=split_func,\n",
    "    p_continue=0.85, \n",
    "    depth=0, \n",
    "    depth_limit=5,\n",
    "    buffer_frac=-0.0\n",
    ")\n",
    "\n",
    "\n",
    "bps = MultiPolygon([p for p in splits])\n",
    "\n",
    "   \n",
    "sk = vsketch.Vsketch()\n",
    "sk.size(paper.page_format_mm)\n",
    "sk.scale('1mm')\n",
    "sk.penWidth('0.5mm')\n",
    "sk.geometry(bps.boundary)\n",
    "\n",
    "# tolerance=0.5\n",
    "\n",
    "sk.display()"
   ]
  },
  {
   "cell_type": "code",
   "execution_count": null,
   "metadata": {
    "Collapsed": "false"
   },
   "outputs": [],
   "source": [
    "n_layers = 1\n",
    "\n",
    "inds = np.arange(len(bps))\n",
    "split_bps = np.array_split(bps, n_layers)\n",
    "\n",
    "layers = []\n",
    "for ii in range(n_layers):\n",
    "    this_bps = split_bps[ii]\n",
    "    fills = []\n",
    "    for p in this_bps:\n",
    "        xjitter_func = 0\n",
    "        yjitter_func = ss.norm(loc=0, scale=np.random.uniform(0.2, 1.2)).rvs\n",
    "        bhf = BezierHatchFill(\n",
    "            spacing=np.random.uniform(0.2, 0.6),\n",
    "            degrees=np.random.uniform(-90,90),\n",
    "            poly_to_fill=p, \n",
    "            xjitter_func=xjitter_func, \n",
    "            yjitter_func=yjitter_func,\n",
    "            fill_inscribe_buffer=1.4,\n",
    "            n_nodes_per_line=15,\n",
    "            n_eval_points=100,\n",
    "        )\n",
    "        fills.append(bhf.p)\n",
    "\n",
    "    fills = [f for f in fills if f.length > 0]\n",
    "    layer = gp.merge_LineStrings(fills)\n",
    "    layers.append(layer)"
   ]
  },
  {
   "cell_type": "code",
   "execution_count": null,
   "metadata": {
    "Collapsed": "false"
   },
   "outputs": [],
   "source": [
    "sk = vsketch.Vsketch()\n",
    "sk.size(paper.page_format_mm)\n",
    "sk.scale('1mm')\n",
    "sk.penWidth('0.3mm')\n",
    "for i, layer in enumerate(layers):\n",
    "    sk.stroke(i+1)\n",
    "    sk.geometry(layer)\n",
    "\n",
    "sk.penWidth('0.3')\n",
    "sk.vpype('linesimplify --tolerance 0.1')\n",
    "for tolerance in [0.1, 0.2, 0.3,]:\n",
    "    sk.vpype(f'linemerge --tolerance {tolerance}mm')\n",
    "sk.vpype('linesimplify --tolerance 0.1 linesort')\n",
    "\n",
    "sk.display(color_mode='layer')"
   ]
  },
  {
   "cell_type": "code",
   "execution_count": null,
   "metadata": {
    "Collapsed": "false"
   },
   "outputs": [],
   "source": [
    "sk.save('/mnt/c/code/side/plotter_images/oned_outputs/273_subdivide_bez_hatch.svg')"
   ]
  },
  {
   "cell_type": "markdown",
   "metadata": {
    "Collapsed": "false"
   },
   "source": [
    "# postcard"
   ]
  },
  {
   "cell_type": "code",
   "execution_count": null,
   "metadata": {
    "Collapsed": "false"
   },
   "outputs": [],
   "source": [
    "# make page\n",
    "paper_size = '7x5 inches'\n",
    "border:float=10\n",
    "paper = Paper(paper_size)\n",
    "\n",
    "drawbox = paper.get_drawbox(border)"
   ]
  },
  {
   "cell_type": "code",
   "execution_count": null,
   "metadata": {
    "Collapsed": "false"
   },
   "outputs": [],
   "source": [
    "xgen = ss.uniform(loc=0.3, scale=0.02).rvs\n",
    "split_func = functools.partial(random_bezier_subdivide, x0=0.3, x1=0.9, n_eval_points=20)\n",
    "splits = recursive_split_frac_buffer(\n",
    "    drawbox, \n",
    "    split_func=split_func,\n",
    "    p_continue=0.85, \n",
    "    depth=0, \n",
    "    depth_limit=3,\n",
    "    buffer_frac=-0.0\n",
    ")\n",
    "\n",
    "\n",
    "bps = MultiPolygon([p for p in splits])\n",
    "\n",
    "   \n",
    "sk = vsketch.Vsketch()\n",
    "sk.size(paper.page_format_mm)\n",
    "sk.scale('1mm')\n",
    "sk.penWidth('0.5mm')\n",
    "sk.geometry(bps.boundary)\n",
    "\n",
    "# tolerance=0.5\n",
    "\n",
    "sk.display()"
   ]
  },
  {
   "cell_type": "code",
   "execution_count": null,
   "metadata": {
    "Collapsed": "false"
   },
   "outputs": [],
   "source": [
    "n_layers = 2\n",
    "\n",
    "inds = np.arange(len(bps))\n",
    "split_bps = np.array_split(bps, n_layers)\n",
    "\n",
    "layers = []\n",
    "for ii in range(n_layers):\n",
    "    this_bps = split_bps[ii]\n",
    "    fills = []\n",
    "    for p in this_bps:\n",
    "        xjitter_func = 0\n",
    "        yjitter_func = ss.norm(loc=0, scale=np.random.uniform(0.2, 1.2)).rvs\n",
    "        bhf = BezierHatchFill(\n",
    "            spacing=np.random.uniform(0.2, 0.6),\n",
    "            degrees=np.random.uniform(-90,90),\n",
    "            poly_to_fill=p, \n",
    "            xjitter_func=xjitter_func, \n",
    "            yjitter_func=yjitter_func,\n",
    "            fill_inscribe_buffer=1.4,\n",
    "            n_nodes_per_line=15,\n",
    "            n_eval_points=100,\n",
    "        )\n",
    "        fills.append(bhf.p)\n",
    "\n",
    "    fills = [f for f in fills if f.length > 0]\n",
    "    layer = gp.merge_LineStrings(fills)\n",
    "    layers.append(layer)"
   ]
  },
  {
   "cell_type": "code",
   "execution_count": null,
   "metadata": {
    "Collapsed": "false"
   },
   "outputs": [],
   "source": [
    "sk = vsketch.Vsketch()\n",
    "sk.size(paper.page_format_mm)\n",
    "sk.scale('1mm')\n",
    "sk.penWidth('0.3mm')\n",
    "for i, layer in enumerate(layers):\n",
    "    sk.stroke(i+1)\n",
    "    sk.geometry(layer)\n",
    "\n",
    "sk.penWidth('0.3')\n",
    "sk.vpype('linesimplify --tolerance 0.1')\n",
    "for tolerance in [0.1, 0.2, 0.3,]:\n",
    "    sk.vpype(f'linemerge --tolerance {tolerance}mm')\n",
    "sk.vpype('linesimplify --tolerance 0.1 linesort')\n",
    "\n",
    "sk.display(color_mode='layer')"
   ]
  },
  {
   "cell_type": "code",
   "execution_count": null,
   "metadata": {
    "Collapsed": "false"
   },
   "outputs": [],
   "source": [
    "sk.save('/mnt/c/code/side/plotter_images/oned_outputs/275_subdivide_bez_hatch_postcard.svg')"
   ]
  },
  {
   "cell_type": "markdown",
   "metadata": {
    "Collapsed": "false"
   },
   "source": [
    "# postcard"
   ]
  },
  {
   "cell_type": "code",
   "execution_count": null,
   "metadata": {
    "Collapsed": "false"
   },
   "outputs": [],
   "source": [
    "# make page\n",
    "paper_size = '14x11 inches'\n",
    "border:float=20\n",
    "paper = Paper(paper_size)\n",
    "\n",
    "drawbox = paper.get_drawbox(border)"
   ]
  },
  {
   "cell_type": "code",
   "execution_count": null,
   "metadata": {
    "Collapsed": "false"
   },
   "outputs": [],
   "source": [
    "xgen = ss.uniform(loc=0.3, scale=0.02).rvs\n",
    "split_func = functools.partial(split_along_longest_side_of_min_rectangle, xgen=xgen)\n",
    "splits = recursive_split_frac_buffer(\n",
    "    drawbox, \n",
    "    split_func=split_func,\n",
    "    p_continue=0.85, \n",
    "    depth=0, \n",
    "    depth_limit=7,\n",
    "    buffer_frac=-0.0\n",
    ")\n",
    "\n",
    "bps = MultiPolygon([p for p in splits])\n",
    "\n",
    "   \n",
    "sk = vsketch.Vsketch()\n",
    "sk.size(paper.page_format_mm)\n",
    "sk.scale('1mm')\n",
    "sk.penWidth('0.5mm')\n",
    "sk.geometry(bps.boundary)\n",
    "\n",
    "# tolerance=0.5\n",
    "\n",
    "sk.display()"
   ]
  },
  {
   "cell_type": "code",
   "execution_count": null,
   "metadata": {
    "Collapsed": "false"
   },
   "outputs": [],
   "source": [
    "n_layers = 2\n",
    "\n",
    "inds = np.arange(len(bps))\n",
    "split_bps = np.array_split(bps, n_layers)\n",
    "\n",
    "layers = []\n",
    "for ii in range(n_layers):\n",
    "    this_bps = split_bps[ii]\n",
    "    fills = []\n",
    "    for p in this_bps:\n",
    "        xjitter_func = 0\n",
    "        yjitter_func = ss.norm(loc=0, scale=np.random.uniform(0.2, 1.2)).rvs\n",
    "        bhf = BezierHatchFill(\n",
    "            spacing=np.random.uniform(0.2, 0.5),\n",
    "            degrees=np.random.uniform(-90,90),\n",
    "            poly_to_fill=p, \n",
    "            xjitter_func=xjitter_func, \n",
    "            yjitter_func=yjitter_func,\n",
    "            fill_inscribe_buffer=1.4,\n",
    "            n_nodes_per_line=15,\n",
    "            n_eval_points=100,\n",
    "        )\n",
    "        fills.append(bhf.p)\n",
    "\n",
    "    fills = [f for f in fills if f.length > 0]\n",
    "    layer = gp.merge_LineStrings(fills)\n",
    "    layers.append(layer)"
   ]
  },
  {
   "cell_type": "code",
   "execution_count": null,
   "metadata": {
    "Collapsed": "false"
   },
   "outputs": [],
   "source": [
    "sk = vsketch.Vsketch()\n",
    "sk.size(paper.page_format_mm)\n",
    "sk.scale('1mm')\n",
    "sk.penWidth('0.3mm')\n",
    "for i, layer in enumerate(layers):\n",
    "    sk.stroke(i+1)\n",
    "    sk.geometry(layer)\n",
    "\n",
    "sk.penWidth('0.3')\n",
    "sk.vpype('linesimplify --tolerance 0.1')\n",
    "for tolerance in [0.1, 0.2, 0.3,0.6]:\n",
    "    sk.vpype(f'linemerge --tolerance {tolerance}mm')\n",
    "sk.vpype('linesimplify --tolerance 0.1 linesort')\n",
    "\n",
    "sk.display(color_mode='layer')"
   ]
  },
  {
   "cell_type": "code",
   "execution_count": null,
   "metadata": {
    "Collapsed": "false"
   },
   "outputs": [],
   "source": [
    "sk.save('/code/side/plotter_images/oned_outputs/276_subdivide_bez_hatch.svg')"
   ]
  },
  {
   "cell_type": "code",
   "execution_count": null,
   "metadata": {
    "Collapsed": "false"
   },
   "outputs": [],
   "source": [
    "# make page\n",
    "paper_size = '6x6 inches'\n",
    "border:float=20\n",
    "paper = Paper(paper_size)\n",
    "\n",
    "drawbox = paper.get_drawbox(border)"
   ]
  },
  {
   "cell_type": "code",
   "execution_count": null,
   "metadata": {
    "Collapsed": "false"
   },
   "outputs": [],
   "source": [
    "circ = drawbox.centroid.buffer(55)"
   ]
  },
  {
   "cell_type": "code",
   "execution_count": null,
   "metadata": {
    "Collapsed": "false"
   },
   "outputs": [],
   "source": [
    "xgen = ss.uniform(loc=0.3, scale=0.02).rvs\n",
    "split_func = functools.partial(split_along_longest_side_of_min_rectangle, xgen=xgen)\n",
    "splits = recursive_split_frac_buffer(\n",
    "    circ, \n",
    "    split_func=split_func,\n",
    "    p_continue=0.85, \n",
    "    depth=0, \n",
    "    depth_limit=7,\n",
    "    buffer_frac=-0.0\n",
    ")\n",
    "\n",
    "\n",
    "bps = MultiPolygon([p for p in splits])\n",
    "\n",
    "   \n",
    "sk = vsketch.Vsketch()\n",
    "sk.size(paper.page_format_mm)\n",
    "sk.scale('1mm')\n",
    "sk.penWidth('0.5mm')\n",
    "sk.geometry(bps.boundary)\n",
    "\n",
    "# tolerance=0.5\n",
    "\n",
    "sk.display()"
   ]
  },
  {
   "cell_type": "code",
   "execution_count": null,
   "metadata": {
    "Collapsed": "false"
   },
   "outputs": [],
   "source": [
    "for bp in bps:\n",
    "    choice = np.random.choice(n_layers)\n",
    "    layers[choice].append"
   ]
  },
  {
   "cell_type": "code",
   "execution_count": null,
   "metadata": {
    "Collapsed": "false"
   },
   "outputs": [],
   "source": [
    "n_layers = 3\n",
    "\n",
    "inds = np.arange(len(bps))\n",
    "split_bps = np.random.choice(n_layers,size=len(bps))\n",
    "\n",
    "layers = []\n",
    "for ii in range(n_layers):\n",
    "    this_bps = np.where(split_bps==ii)[0]\n",
    "    fills = []\n",
    "    for ind in this_bps:\n",
    "        p = bps[ind]\n",
    "        xjitter_func = 0\n",
    "        yjitter_func = ss.norm(loc=0, scale=np.random.uniform(0.2, 1.2)).rvs\n",
    "        bhf = BezierHatchFill(\n",
    "            spacing=np.random.uniform(0.2, 0.4),\n",
    "            degrees=np.random.uniform(-90,90),\n",
    "            poly_to_fill=p, \n",
    "            xjitter_func=xjitter_func, \n",
    "            yjitter_func=yjitter_func,\n",
    "            fill_inscribe_buffer=1.4,\n",
    "            n_nodes_per_line=15,\n",
    "            n_eval_points=100,\n",
    "        )\n",
    "        fills.append(bhf.p)\n",
    "\n",
    "    fills = [f for f in fills if f.length > 0]\n",
    "    layer = gp.merge_LineStrings(fills)\n",
    "    layers.append(layer)"
   ]
  },
  {
   "cell_type": "code",
   "execution_count": null,
   "metadata": {
    "Collapsed": "false"
   },
   "outputs": [],
   "source": [
    "sk = vsketch.Vsketch()\n",
    "sk.size(paper.page_format_mm)\n",
    "sk.scale('1mm')\n",
    "sk.penWidth('0.3mm')\n",
    "for i, layer in enumerate(layers):\n",
    "    sk.stroke(i+1)\n",
    "    sk.geometry(layer)\n",
    "\n",
    "sk.penWidth('0.3')\n",
    "sk.vpype('linesimplify --tolerance 0.1')\n",
    "for tolerance in [0.1, 0.2, 0.3,]:\n",
    "    sk.vpype(f'linemerge --tolerance {tolerance}mm')\n",
    "sk.vpype('linesimplify --tolerance 0.1 linesort')\n",
    "\n",
    "sk.display(color_mode='layer')"
   ]
  },
  {
   "cell_type": "code",
   "execution_count": null,
   "metadata": {
    "Collapsed": "false"
   },
   "outputs": [],
   "source": [
    "sk.save('/mnt/c/code/side/plotter_images/oned_outputs/277_subdivide_bez_hatch.svg')"
   ]
  },
  {
   "cell_type": "code",
   "execution_count": null,
   "metadata": {
    "Collapsed": "false"
   },
   "outputs": [],
   "source": []
  }
 ],
 "metadata": {
  "kernelspec": {
   "display_name": "Python [conda env:genpen]",
   "language": "python",
   "name": "conda-env-genpen-py"
  },
  "language_info": {
   "codemirror_mode": {
    "name": "ipython",
    "version": 3
   },
   "file_extension": ".py",
   "mimetype": "text/x-python",
   "name": "python",
   "nbconvert_exporter": "python",
   "pygments_lexer": "ipython3",
   "version": "3.8.8"
  }
 },
 "nbformat": 4,
 "nbformat_minor": 4
}

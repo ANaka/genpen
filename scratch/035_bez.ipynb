{
 "cells": [
  {
   "cell_type": "code",
   "execution_count": null,
   "metadata": {
    "Collapsed": "false"
   },
   "outputs": [],
   "source": [
    "import itertools\n",
    "import numpy as np\n",
    "import os\n",
    "import seaborn as sns\n",
    "from tqdm import tqdm\n",
    "from dataclasses import asdict, dataclass, field\n",
    "import vsketch\n",
    "import shapely.geometry as sg\n",
    "from shapely.geometry import box, MultiLineString, Point, MultiPoint, Polygon, MultiPolygon, LineString\n",
    "import shapely.affinity as sa\n",
    "import shapely.ops as so\n",
    "import matplotlib.pyplot as plt\n",
    "import pandas as pd\n",
    "import networkx as nx\n",
    "import vpype_cli\n",
    "from typing import List, Generic\n",
    "from genpen import genpen as gp, utils as utils\n",
    "from scipy import stats as ss\n",
    "import geopandas\n",
    "from shapely.errors import TopologicalError\n",
    "import bezier\n",
    "import functools\n",
    "%load_ext autoreload\n",
    "%autoreload 2"
   ]
  },
  {
   "cell_type": "code",
   "execution_count": null,
   "metadata": {},
   "outputs": [],
   "source": [
    "class BezierCurve(object):\n",
    "    \n",
    "    def __init__(\n",
    "        self,\n",
    "        nodes=None,\n",
    "        degree=None,\n",
    "        n_eval_points=100,\n",
    "    ):\n",
    "        nodes = nodes.transpose(np.argsort(np.array(nodes.shape)-2))  # hacky, to get in right orientation\n",
    "        self._nodes = nodes\n",
    "        self._degree = degree\n",
    "        self.n_eval_points = n_eval_points\n",
    "        \n",
    "    @property\n",
    "    def degree(self):\n",
    "        if self._degree is None:\n",
    "            self._degree = self.nodes.shape[1]-1\n",
    "        return self._degree\n",
    "    \n",
    "    @property\n",
    "    def nodes(self):\n",
    "        return self._nodes\n",
    "    \n",
    "    @property\n",
    "    def _fortran_nodes(self):\n",
    "        return np.asfortranarray(self.nodes)\n",
    "    \n",
    "    @property\n",
    "    def _curve(self):\n",
    "        return bezier.Curve(self._fortran_nodes, self.degree)\n",
    "    \n",
    "    @property\n",
    "    def eval_points(self):\n",
    "        return np.linspace(0, 1, self.n_eval_points)\n",
    "    \n",
    "    @property\n",
    "    def evaluated_curve(self):\n",
    "        x, y = self._curve.evaluate_multi(self.eval_points)\n",
    "        return np.stack([x, y]).T\n",
    "    \n",
    "    @property\n",
    "    def linestring(self):\n",
    "        return LineString(self.evaluated_curve)"
   ]
  },
  {
   "cell_type": "code",
   "execution_count": null,
   "metadata": {},
   "outputs": [],
   "source": [
    "class PerlinGrid(object):\n",
    "\n",
    "    def __init__(self, poly, xstep=0.1, ystep=0.1, lod=4, falloff=None, noiseSeed=71, noise_scale=0.001, output_range=(0, np.pi*2)):\n",
    "\n",
    "        self.p = poly\n",
    "\n",
    "        self.vsk = vsketch.Vsketch()\n",
    "        self.lod = lod\n",
    "        self.falloff = falloff\n",
    "        self.noiseSeed = noiseSeed\n",
    "        self.noise_scale = noise_scale\n",
    "        self.vsk.noiseSeed(self.noiseSeed)\n",
    "        self.vsk.noiseDetail(lod=self.lod, falloff=self.falloff)\n",
    "        self.output_range = output_range\n",
    "        \n",
    "    def noise(self, x, y):\n",
    "        x = x * self.noise_scale\n",
    "        y = y * self.noise_scale\n",
    "        output = self.vsk.noise(x=x, y=y)\n",
    "        return np.interp(output, [0, 1], self.output_range)\n",
    "\n",
    "\n",
    "# Cell\n",
    "class Particle(object):\n",
    "\n",
    "    def __init__(self, pos, grid, stepsize=1):\n",
    "        self.pos = Point(pos)\n",
    "        self.grid = grid\n",
    "        self.stepsize = stepsize\n",
    "        self.n_step = 0\n",
    "        self.pts = [self.pos]\n",
    "        self.in_bounds = True\n",
    "\n",
    "    @property\n",
    "    def x(self):\n",
    "        return self.pos.x\n",
    "    \n",
    "    @property\n",
    "    def y(self):\n",
    "        return self.pos.y\n",
    "    \n",
    "    @property\n",
    "    def xy(self):\n",
    "        return np.array([self.x, self.y])\n",
    "\n",
    "    @property\n",
    "    def line(self):\n",
    "        return LineString(self.pts)\n",
    "\n",
    "    def get_angle(self):\n",
    "        self.a = self.grid.noise(x=self.x, y=self.y)\n",
    "\n",
    "    def check_if_in_bounds(self):\n",
    "        self.in_bounds = self.grid.p.contains(self.pos)\n",
    "\n",
    "    def calc_step(self):\n",
    "        self.get_angle()\n",
    "        self.dx = np.cos(self.a) * self.stepsize\n",
    "        self.dy = np.sin(self.a) * self.stepsize\n",
    "\n",
    "\n",
    "    def step(self):\n",
    "        self.check_if_in_bounds()\n",
    "        if self.in_bounds:\n",
    "            self.calc_step()\n",
    "            self.pos = sa.translate(self.pos, xoff=self.dx, yoff=self.dy)\n",
    "            self.pts.append(self.pos)"
   ]
  },
  {
   "cell_type": "code",
   "execution_count": null,
   "metadata": {},
   "outputs": [],
   "source": []
  },
  {
   "cell_type": "code",
   "execution_count": null,
   "metadata": {
    "Collapsed": "false"
   },
   "outputs": [],
   "source": [
    "paper_size = '11x14 inches'\n",
    "border:float=20\n",
    "paper = utils.Paper(paper_size)\n",
    "\n",
    "drawbox = paper.get_drawbox(border)\n",
    "buffer_style = 2"
   ]
  },
  {
   "cell_type": "code",
   "execution_count": null,
   "metadata": {
    "Collapsed": "false"
   },
   "outputs": [],
   "source": [
    "\n",
    "poly = drawbox\n",
    "pg = PerlinGrid(poly, xstep=1, ystep=1, lod=10, falloff=None, noise_scale=0.053, noiseSeed=5)"
   ]
  },
  {
   "cell_type": "code",
   "execution_count": null,
   "metadata": {},
   "outputs": [],
   "source": [
    "start_point = pg.p.centroid\n",
    "start_buffer = 10\n",
    "n_nodes = 400\n",
    "n_steps = 260\n",
    "circ = start_point.buffer(start_buffer).boundary\n",
    "pts = [circ.interpolate(d, normalized=True) for d in np.linspace(0., 1., n_nodes)]\n",
    "particles = [Particle(pos=pos, grid=pg, stepsize=1) for pos in pts if pg.p.contains(pos)]\n",
    "    \n",
    "\n",
    "\n",
    "linestrings = []\n",
    "_ls = LineString([p.pos for p in particles])\n",
    "nodes = np.array(_ls)\n",
    "ls = BezierCurve(nodes).linestring\n",
    "linestrings.append(ls)\n",
    "\n",
    "for ii in tqdm(range(n_steps)):\n",
    "    for p in particles:\n",
    "        p.pos = sa.translate(p.pos, xoff=0.3, yoff=0.1)\n",
    "        p.step()\n",
    "\n",
    "    _ls = LineString([p.pos for p in particles])\n",
    "    nodes = np.array(_ls)\n",
    "    ls = BezierCurve(nodes = nodes).linestring\n",
    "    linestrings.append(ls)\n",
    "\n",
    "layer = MultiLineString(linestrings)\n",
    "\n",
    "layer = gp.make_like(layer, drawbox)"
   ]
  },
  {
   "cell_type": "code",
   "execution_count": null,
   "metadata": {},
   "outputs": [],
   "source": [
    "lb = layer.buffer(0.25, join_style=2, cap_style=2).boundary"
   ]
  },
  {
   "cell_type": "code",
   "execution_count": null,
   "metadata": {
    "Collapsed": "false"
   },
   "outputs": [],
   "source": [
    "sk = vsketch.Vsketch()\n",
    "sk.size(paper.page_format_mm)\n",
    "sk.scale('1mm')\n",
    "sk.penWidth('0.25mm')\n",
    "sk.stroke(1)\n",
    "sk.geometry(lb)\n",
    "sk.vpype('linesimplify splitall linemerge -t 0.4 linesort')\n",
    "sk.display(color_mode='layer')"
   ]
  },
  {
   "cell_type": "code",
   "execution_count": null,
   "metadata": {},
   "outputs": [],
   "source": [
    "savepath = '/Users/naka/code/side/plotter_images/oned_outputs/0342_perlin_repeater_buffered_less.svg'\n",
    "\n",
    "sk.save(savepath)"
   ]
  },
  {
   "cell_type": "markdown",
   "metadata": {},
   "source": [
    "## try 2"
   ]
  },
  {
   "cell_type": "code",
   "execution_count": null,
   "metadata": {
    "Collapsed": "false"
   },
   "outputs": [],
   "source": [
    "paper_size = '11x14 inches'\n",
    "border:float=35\n",
    "paper = utils.Paper(paper_size)\n",
    "\n",
    "drawbox = paper.get_drawbox(border)\n",
    "buffer_style = 2"
   ]
  },
  {
   "cell_type": "code",
   "execution_count": null,
   "metadata": {
    "Collapsed": "false"
   },
   "outputs": [],
   "source": [
    "\n",
    "poly = drawbox\n",
    "pg = PerlinGrid(poly, xstep=1, ystep=1, lod=10, falloff=None, noise_scale=0.053, noiseSeed=5)"
   ]
  },
  {
   "cell_type": "code",
   "execution_count": null,
   "metadata": {},
   "outputs": [],
   "source": [
    "start_point = pg.p.centroid\n",
    "start_buffer = 10\n",
    "n_nodes = 400\n",
    "n_steps = 70\n",
    "circ = start_point.buffer(start_buffer).boundary\n",
    "pts = [circ.interpolate(d, normalized=True) for d in np.linspace(0., 1., n_nodes)]\n",
    "particles = [Particle(pos=pos, grid=pg, stepsize=1) for pos in pts if pg.p.contains(pos)]\n",
    "    \n",
    "\n",
    "\n",
    "linestrings = []\n",
    "_ls = LineString([p.pos for p in particles])\n",
    "nodes = np.array(_ls)\n",
    "ls = BezierCurve(nodes).linestring\n",
    "linestrings.append(ls)\n",
    "\n",
    "for ii in tqdm(range(n_steps)):\n",
    "    for p in particles:\n",
    "        p.pos = sa.translate(p.pos, xoff=1.3, yoff=0.4)\n",
    "        p.step()\n",
    "\n",
    "    _ls = LineString([p.pos for p in particles])\n",
    "    nodes = np.array(_ls)\n",
    "    ls = BezierCurve(nodes = nodes).linestring\n",
    "    \n",
    "    linestrings.append(ls)\n",
    "\n",
    "layer = MultiLineString(linestrings)\n",
    "\n",
    "layer = gp.make_like(layer, drawbox)"
   ]
  },
  {
   "cell_type": "code",
   "execution_count": null,
   "metadata": {},
   "outputs": [],
   "source": [
    "buffer_gen = ss.uniform(loc=1, scale=6).rvs\n",
    "d_buffer_gen = functools.partial(np.random.uniform, low=-0.8, high=-0.2)\n",
    "angles_gen = ss.uniform(loc=0, scale=360).rvs\n",
    "angles_gen = gp.make_callable(80)\n",
    "d_translate_factor_gen = ss.uniform(loc=0.2, scale=0.6).rvs"
   ]
  },
  {
   "cell_type": "code",
   "execution_count": null,
   "metadata": {},
   "outputs": [],
   "source": [
    "fills = []\n",
    "all_polys = Polygon()\n",
    "for l in layer:\n",
    "    p = l.buffer(0.5, cap_style=2, join_style=3)\n",
    "    p = p.buffer(buffer_gen(), cap_style=2, join_style=2)\n",
    "    \n",
    "    stp = gp.ScaleTransPrms(d_buffer=d_buffer_gen(),angles=angles_gen(),d_translate_factor=d_translate_factor_gen(), n_iters=300)\n",
    "    stp.d_buffers += np.random.uniform(-0.15, 0.15, size=stp.d_buffers.shape)\n",
    "    P = gp.Poly(p)\n",
    "    P.fill_scale_trans(**stp.prms)\n",
    "    visible_area = p.difference(all_polys)\n",
    "    visible_fill = P.fill.intersection(visible_area.buffer(1e-6))\n",
    "        \n",
    "    \n",
    "    fills.append(visible_fill)\n",
    "    all_polys = so.unary_union([all_polys, p])"
   ]
  },
  {
   "cell_type": "code",
   "execution_count": null,
   "metadata": {},
   "outputs": [],
   "source": [
    "L1 = gp.merge_LineStrings([f for f in fills if f.length > 0.1])"
   ]
  },
  {
   "cell_type": "code",
   "execution_count": null,
   "metadata": {},
   "outputs": [],
   "source": [
    "buffer_gen = ss.uniform(loc=1, scale=6).rvs\n",
    "d_buffer_gen = functools.partial(np.random.uniform, low=-2, high=-1.2)\n",
    "angles_gen = ss.uniform(loc=0, scale=360).rvs\n",
    "angles_gen = gp.make_callable(80)\n",
    "d_translate_factor_gen = ss.uniform(loc=0.2, scale=0.6).rvs"
   ]
  },
  {
   "cell_type": "code",
   "execution_count": null,
   "metadata": {},
   "outputs": [],
   "source": [
    "fills = []\n",
    "all_polys = Polygon()\n",
    "for l in layer:\n",
    "    p = l.buffer(0.5, cap_style=2, join_style=3)\n",
    "    p = p.buffer(buffer_gen(), cap_style=2, join_style=2)\n",
    "    \n",
    "    stp = gp.ScaleTransPrms(d_buffer=d_buffer_gen(),angles=angles_gen(),d_translate_factor=d_translate_factor_gen(), n_iters=300)\n",
    "    stp.d_buffers += np.random.uniform(-0.15, 0.15, size=stp.d_buffers.shape)\n",
    "    P = gp.Poly(p)\n",
    "    P.fill_scale_trans(**stp.prms)\n",
    "    visible_area = p.difference(all_polys)\n",
    "    visible_fill = P.fill.intersection(visible_area.buffer(1e-6))\n",
    "        \n",
    "    \n",
    "    fills.append(visible_fill)\n",
    "    all_polys = so.unary_union([all_polys, p])"
   ]
  },
  {
   "cell_type": "code",
   "execution_count": null,
   "metadata": {},
   "outputs": [],
   "source": [
    "L2 = gp.merge_LineStrings([f for f in fills if f.length > 0.1])"
   ]
  },
  {
   "cell_type": "code",
   "execution_count": null,
   "metadata": {
    "Collapsed": "false"
   },
   "outputs": [],
   "source": [
    "sk = vsketch.Vsketch()\n",
    "sk.size(paper.page_format_mm)\n",
    "sk.scale('1mm')\n",
    "sk.penWidth('0.25mm')\n",
    "sk.stroke(1)\n",
    "sk.geometry(L1)\n",
    "sk.stroke(2)\n",
    "sk.geometry(L1)\n",
    "sk.vpype('linesimplify linemerge linesort')\n",
    "sk.display(color_mode='layer')"
   ]
  },
  {
   "cell_type": "code",
   "execution_count": null,
   "metadata": {},
   "outputs": [],
   "source": [
    "savepath = '/Users/naka/code/side/plotter_images/oned_outputs/0345_perlin_repeater_buffered_fills_2color.svg'\n",
    "\n",
    "sk.save(savepath)"
   ]
  },
  {
   "cell_type": "code",
   "execution_count": null,
   "metadata": {},
   "outputs": [],
   "source": []
  },
  {
   "cell_type": "markdown",
   "metadata": {},
   "source": [
    "## try 2"
   ]
  },
  {
   "cell_type": "code",
   "execution_count": null,
   "metadata": {
    "Collapsed": "false"
   },
   "outputs": [],
   "source": [
    "paper_size = '11x14 inches'\n",
    "border:float=35\n",
    "paper = utils.Paper(paper_size)\n",
    "\n",
    "drawbox = paper.get_drawbox(border)\n",
    "buffer_style = 2"
   ]
  },
  {
   "cell_type": "code",
   "execution_count": null,
   "metadata": {
    "Collapsed": "false"
   },
   "outputs": [],
   "source": [
    "\n",
    "poly = drawbox\n",
    "pg = PerlinGrid(poly, xstep=1, ystep=1, lod=10, falloff=None, noise_scale=0.053, noiseSeed=5)"
   ]
  },
  {
   "cell_type": "code",
   "execution_count": null,
   "metadata": {},
   "outputs": [],
   "source": [
    "start_point = pg.p.centroid\n",
    "start_buffer = 10\n",
    "n_nodes = 400\n",
    "n_steps = 70\n",
    "circ = start_point.buffer(start_buffer).boundary\n",
    "pts = [circ.interpolate(d, normalized=True) for d in np.linspace(0., 1., n_nodes)]\n",
    "particles = [Particle(pos=pos, grid=pg, stepsize=1) for pos in pts if pg.p.contains(pos)]\n",
    "    \n",
    "\n",
    "\n",
    "linestrings = []\n",
    "_ls = LineString([p.pos for p in particles])\n",
    "nodes = np.array(_ls)\n",
    "ls = BezierCurve(nodes).linestring\n",
    "linestrings.append(ls)\n",
    "\n",
    "for ii in tqdm(range(n_steps)):\n",
    "    for p in particles:\n",
    "        p.pos = sa.translate(p.pos, xoff=1.3, yoff=0.4)\n",
    "        p.step()\n",
    "\n",
    "    _ls = LineString([p.pos for p in particles])\n",
    "    nodes = np.array(_ls)\n",
    "    ls = BezierCurve(nodes = nodes).linestring\n",
    "    \n",
    "    linestrings.append(ls)\n",
    "\n",
    "layer = MultiLineString(linestrings)\n",
    "\n",
    "layer = gp.make_like(layer, drawbox)"
   ]
  },
  {
   "cell_type": "code",
   "execution_count": null,
   "metadata": {},
   "outputs": [],
   "source": [
    "layer = layer.buffer(0.01, join_style=2, cap_style=2).buffer(-0.01).boundary"
   ]
  },
  {
   "cell_type": "code",
   "execution_count": null,
   "metadata": {},
   "outputs": [],
   "source": [
    "layer = [l for l in layer if l.length>0.1]"
   ]
  },
  {
   "cell_type": "code",
   "execution_count": null,
   "metadata": {},
   "outputs": [],
   "source": [
    "buffer_gen = ss.uniform(loc=1, scale=6).rvs\n",
    "d_buffer_gen = functools.partial(np.random.uniform, low=-0.8, high=-0.2)\n",
    "angles_gen = ss.uniform(loc=0, scale=360).rvs\n",
    "angles_gen = gp.make_callable(80)\n",
    "d_translate_factor_gen = ss.uniform(loc=0.2, scale=0.6).rvs"
   ]
  },
  {
   "cell_type": "code",
   "execution_count": null,
   "metadata": {},
   "outputs": [],
   "source": [
    "fills = []\n",
    "all_polys = Polygon()\n",
    "for l in tqdm(layer):\n",
    "    p = l.buffer(0.5, cap_style=2, join_style=3)\n",
    "    p = p.buffer(buffer_gen(), cap_style=2, join_style=2)\n",
    "    \n",
    "    stp = gp.ScaleTransPrms(d_buffer=d_buffer_gen(),angles=angles_gen(),d_translate_factor=d_translate_factor_gen(), n_iters=300)\n",
    "    stp.d_buffers += np.random.uniform(-0.15, 0.15, size=stp.d_buffers.shape)\n",
    "    P = gp.Poly(p)\n",
    "    P.fill_scale_trans(**stp.prms)\n",
    "    visible_area = p.difference(all_polys)\n",
    "    visible_fill = P.fill.intersection(visible_area.buffer(1e-6))\n",
    "        \n",
    "    \n",
    "    fills.append(visible_fill)\n",
    "    all_polys = so.unary_union([all_polys, p])"
   ]
  },
  {
   "cell_type": "code",
   "execution_count": null,
   "metadata": {},
   "outputs": [],
   "source": [
    "L1 = gp.merge_LineStrings([f for f in fills if f.length > 0.1])"
   ]
  },
  {
   "cell_type": "code",
   "execution_count": null,
   "metadata": {
    "Collapsed": "false"
   },
   "outputs": [],
   "source": [
    "sk = vsketch.Vsketch()\n",
    "sk.size(paper.page_format_mm)\n",
    "sk.scale('1mm')\n",
    "sk.penWidth('0.25mm')\n",
    "sk.stroke(1)\n",
    "sk.geometry(L1)\n",
    "# sk.stroke(2)\n",
    "# sk.geometry(L1)\n",
    "sk.vpype('linesimplify linemerge linesort')\n",
    "sk.display(color_mode='layer')"
   ]
  },
  {
   "cell_type": "code",
   "execution_count": null,
   "metadata": {},
   "outputs": [],
   "source": [
    "savepath = '/Users/naka/code/side/plotter_images/oned_outputs/0346_perlin_repeater_buffered_fills_spikedout.svg'\n",
    "\n",
    "sk.save(savepath)"
   ]
  },
  {
   "cell_type": "markdown",
   "metadata": {},
   "source": [
    "## try 2"
   ]
  },
  {
   "cell_type": "code",
   "execution_count": null,
   "metadata": {
    "Collapsed": "false"
   },
   "outputs": [],
   "source": [
    "paper_size = '11x14 inches'\n",
    "border:float=35\n",
    "paper = utils.Paper(paper_size)\n",
    "\n",
    "drawbox = paper.get_drawbox(border)\n",
    "buffer_style = 2"
   ]
  },
  {
   "cell_type": "code",
   "execution_count": null,
   "metadata": {
    "Collapsed": "false"
   },
   "outputs": [],
   "source": [
    "\n",
    "poly = drawbox\n",
    "pg = PerlinGrid(poly, xstep=1, ystep=1, lod=10, falloff=None, noise_scale=0.053, noiseSeed=5)"
   ]
  },
  {
   "cell_type": "code",
   "execution_count": null,
   "metadata": {},
   "outputs": [],
   "source": [
    "start_point = pg.p.centroid\n",
    "start_buffer = 6\n",
    "n_nodes = 200\n",
    "\n",
    "circ = start_point.buffer(start_buffer).boundary\n",
    "pts = [circ.interpolate(d, normalized=True) for d in np.linspace(0.1, 0.99, n_nodes)]\n",
    "particles = [Particle(pos=pos, grid=pg, stepsize=1) for pos in pts if pg.p.contains(pos)]\n",
    "    \n",
    "\n",
    "\n",
    "_ls = LineString([p.pos for p in particles])\n",
    "nodes = np.array(_ls)\n",
    "ls = BezierCurve(nodes).linestring\n",
    "linestrings.append(ls)"
   ]
  },
  {
   "cell_type": "code",
   "execution_count": null,
   "metadata": {},
   "outputs": [],
   "source": [
    "n_steps = 80\n",
    "linestrings = []\n",
    "for ii in tqdm(range(n_steps)):\n",
    "    for p in particles:\n",
    "        p.pos = sa.translate(p.pos, xoff=0., yoff=1)\n",
    "        p.step()\n",
    "\n",
    "    _ls = LineString([p.pos for p in particles])\n",
    "    nodes = np.array(_ls)\n",
    "    ls = BezierCurve(nodes = nodes).linestring\n",
    "    \n",
    "    linestrings.append(ls)\n",
    "\n",
    "layer = MultiLineString(linestrings)\n",
    "\n",
    "layer = gp.make_like(layer, drawbox)"
   ]
  },
  {
   "cell_type": "code",
   "execution_count": null,
   "metadata": {},
   "outputs": [],
   "source": [
    "d=1e-1\n",
    "mlayer = layer.buffer(d, join_style=1, cap_style=1).buffer(-d).boundary"
   ]
  },
  {
   "cell_type": "code",
   "execution_count": null,
   "metadata": {},
   "outputs": [],
   "source": [
    "mlayer = [l for l in mlayer if l.length>0.01]"
   ]
  },
  {
   "cell_type": "code",
   "execution_count": null,
   "metadata": {},
   "outputs": [],
   "source": [
    "buffer_gen = ss.uniform(loc=1, scale=6).rvs\n",
    "d_buffer_gen = functools.partial(np.random.uniform, low=-0.8, high=-0.2)\n",
    "angles_gen = ss.uniform(loc=0, scale=360).rvs\n",
    "angles_gen = gp.make_callable(80)\n",
    "d_translate_factor_gen = ss.uniform(loc=0.2, scale=0.6).rvs"
   ]
  },
  {
   "cell_type": "code",
   "execution_count": null,
   "metadata": {},
   "outputs": [],
   "source": [
    "buffer_gen = functools.partial(np.interp, xp=[-2, 1], fp=[1,3])\n",
    "d_buffer_gen = functools.partial(np.interp, xp=[-1, 1], fp=[-0.2, -0.7])"
   ]
  },
  {
   "cell_type": "code",
   "execution_count": null,
   "metadata": {},
   "outputs": [],
   "source": [
    "fills = []\n",
    "all_polys = Polygon()\n",
    "for l in tqdm(mlayer):\n",
    "#     p = l.buffer(0.5, cap_style=2, join_style=3)\n",
    "    p = l.buffer(buffer_gen(np.log10(l.length)), cap_style=2, join_style=2)\n",
    "    \n",
    "    stp = gp.ScaleTransPrms(\n",
    "        d_buffer=d_buffer_gen(np.log10(l.length)),\n",
    "        angles=angles_gen(),\n",
    "        d_translate_factor=d_translate_factor_gen(), \n",
    "        n_iters=300)\n",
    "    stp.d_buffers += np.random.uniform(-0.15, 0.15, size=stp.d_buffers.shape)\n",
    "    P = gp.Poly(p)\n",
    "    P.fill_scale_trans(**stp.prms)\n",
    "    visible_area = p.difference(all_polys)\n",
    "    visible_fill = P.fill.intersection(visible_area.buffer(1e-6))\n",
    "        \n",
    "    \n",
    "    fills.append(visible_fill)\n",
    "    all_polys = so.unary_union([all_polys, p])"
   ]
  },
  {
   "cell_type": "code",
   "execution_count": null,
   "metadata": {},
   "outputs": [],
   "source": [
    "L2 = gp.merge_LineStrings([f for f in fills if f.length > 0.1])"
   ]
  },
  {
   "cell_type": "code",
   "execution_count": null,
   "metadata": {},
   "outputs": [],
   "source": [
    "n_steps = 55\n",
    "linestrings = []\n",
    "for ii in tqdm(range(n_steps)):\n",
    "    for p in particles:\n",
    "        p.pos = sa.translate(p.pos, xoff=0., yoff=0.6)\n",
    "        p.step()\n",
    "\n",
    "    _ls = LineString([p.pos for p in particles])\n",
    "    nodes = np.array(_ls)\n",
    "    ls = BezierCurve(nodes = nodes).linestring\n",
    "    \n",
    "    linestrings.append(ls)\n",
    "\n",
    "layer = MultiLineString(linestrings)\n",
    "\n",
    "layer = gp.make_like(layer, drawbox)"
   ]
  },
  {
   "cell_type": "code",
   "execution_count": null,
   "metadata": {},
   "outputs": [],
   "source": [
    "buffer_gen = ss.uniform(loc=1, scale=6).rvs\n",
    "d_buffer_gen = functools.partial(np.random.uniform, low=-0.8, high=-0.2)\n",
    "angles_gen = ss.uniform(loc=0, scale=360).rvs\n",
    "angles_gen = gp.make_callable(80)\n",
    "d_translate_factor_gen = ss.uniform(loc=0.2, scale=0.6).rvs"
   ]
  },
  {
   "cell_type": "code",
   "execution_count": null,
   "metadata": {},
   "outputs": [],
   "source": [
    "fills = []\n",
    "# all_polys = Polygon()\n",
    "for l in tqdm(layer):\n",
    "    p = l.buffer(0.5, cap_style=2, join_style=3)\n",
    "    p = p.buffer(buffer_gen(), cap_style=2, join_style=2)\n",
    "    \n",
    "    stp = gp.ScaleTransPrms(d_buffer=d_buffer_gen(),angles=angles_gen(),d_translate_factor=d_translate_factor_gen(), n_iters=300)\n",
    "    stp.d_buffers += np.random.uniform(-0.15, 0.15, size=stp.d_buffers.shape)\n",
    "    P = gp.Poly(p)\n",
    "    P.fill_scale_trans(**stp.prms)\n",
    "    visible_area = p.difference(all_polys)\n",
    "    visible_fill = P.fill.intersection(visible_area.buffer(1e-6))\n",
    "        \n",
    "    \n",
    "    fills.append(visible_fill)\n",
    "    all_polys = so.unary_union([all_polys, p])"
   ]
  },
  {
   "cell_type": "code",
   "execution_count": null,
   "metadata": {},
   "outputs": [],
   "source": [
    "L1 = gp.merge_LineStrings([f for f in fills if f.length > 0.1])"
   ]
  },
  {
   "cell_type": "code",
   "execution_count": null,
   "metadata": {
    "Collapsed": "false"
   },
   "outputs": [],
   "source": [
    "sk = vsketch.Vsketch()\n",
    "sk.size(paper.page_format_mm)\n",
    "sk.scale('1mm')\n",
    "sk.penWidth('0.25mm')\n",
    "sk.stroke(1)\n",
    "sk.geometry(L1)\n",
    "sk.stroke(2)\n",
    "sk.geometry(L2)\n",
    "sk.vpype('linesimplify linemerge linesort')\n",
    "sk.display(color_mode='layer')"
   ]
  },
  {
   "cell_type": "code",
   "execution_count": null,
   "metadata": {},
   "outputs": [],
   "source": [
    "savepath = '/Users/naka/code/side/plotter_images/oned_outputs/0348_perlin_repeater_buffered_fills_spikedout_2col.svg'\n",
    "\n",
    "sk.save(savepath)"
   ]
  },
  {
   "cell_type": "code",
   "execution_count": null,
   "metadata": {},
   "outputs": [],
   "source": []
  }
 ],
 "metadata": {
  "kernelspec": {
   "display_name": "Python [conda env:genpen]",
   "language": "python",
   "name": "conda-env-genpen-py"
  },
  "language_info": {
   "codemirror_mode": {
    "name": "ipython",
    "version": 3
   },
   "file_extension": ".py",
   "mimetype": "text/x-python",
   "name": "python",
   "nbconvert_exporter": "python",
   "pygments_lexer": "ipython3",
   "version": "3.8.8"
  }
 },
 "nbformat": 4,
 "nbformat_minor": 4
}

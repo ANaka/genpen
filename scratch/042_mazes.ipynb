{
 "cells": [
  {
   "cell_type": "code",
   "execution_count": null,
   "id": "b26b06c0-f3c9-41b7-9275-922328d4f047",
   "metadata": {
    "tags": []
   },
   "outputs": [],
   "source": [
    "\n",
    "import itertools\n",
    "import numpy as np\n",
    "import os\n",
    "import seaborn as sns\n",
    "from tqdm import tqdm\n",
    "from dataclasses import asdict, dataclass, field\n",
    "import vsketch\n",
    "import shapely.geometry as sg\n",
    "from shapely.geometry import box, MultiLineString, Point, MultiPoint, Polygon, MultiPolygon, LineString\n",
    "import shapely.affinity as sa\n",
    "import shapely.ops as so\n",
    "import matplotlib.pyplot as plt\n",
    "import pandas as pd\n",
    "\n",
    "import vpype_cli\n",
    "from typing import List, Generic\n",
    "from genpen import genpen as gp\n",
    "from genpen.utils import Paper\n",
    "from scipy import stats as ss\n",
    "import geopandas\n",
    "from shapely.errors import TopologicalError\n",
    "import functools\n",
    "import vpype\n",
    "from skimage import io\n",
    "from pathlib import Path\n",
    "\n",
    "from sklearn.preprocessing import minmax_scale\n",
    "from skimage import feature\n",
    "from skimage import exposure\n",
    "\n",
    "from skimage import filters\n",
    "from skimage.color import rgb2gray\n",
    "from skimage.transform import rescale, resize, downscale_local_mean\n",
    "from skimage.morphology import disk\n",
    "from pyaxidraw import axidraw   # import module\n",
    "\n",
    "from PIL import Image\n",
    "\n",
    "\n",
    "import cv2\n",
    "\n",
    "from genpen.flow.field import *\n",
    "from genpen.flow.particle import *\n",
    "\n",
    "import time\n",
    "import fn\n",
    "from genpen.axicam import AxiCam\n",
    "%load_ext autoreload\n",
    "%autoreload 2"
   ]
  },
  {
   "cell_type": "code",
   "execution_count": null,
   "id": "81ce3273-eec2-452a-b470-53f4711e4612",
   "metadata": {
    "Collapsed": "false"
   },
   "outputs": [],
   "source": [
    "\n",
    "def scaled_copy_shade(poly, scale_factors=None, n_scales=8):\n",
    "    if scale_factors is None:\n",
    "        scale_factors = np.linspace(0., 1., n_scales)\n",
    "    scaled_boundaries = [sa.scale(poly.boundary, xfact=sf, yfact=sf) for sf in scale_factors]\n",
    "    return MultiLineString(scaled_boundaries)\n",
    "\n",
    "\n",
    "def hollow_and_shade(poly, scale_factors=None, n_scales=8):\n",
    "    shades = scaled_copy_shade(poly, scale_factors=scale_factors, n_scales=n_scales)\n",
    "    shade_mls = gp.merge_LineStrings(shades)\n",
    "    return MultiLineString([poly.boundary] + list(shade_mls))\n",
    "\n",
    "\n",
    "def hollow_and_morse_shade(poly, scale_factors=None, n_scales=8, buffer_factor=0.01):\n",
    "    shades = scaled_copy_shade(poly, scale_factors=scale_factors, n_scales=n_scales)\n",
    "    shade_mls = gp.merge_LineStrings([morsify(s, buffer_factor=buffer_factor) for s in shades])\n",
    "    return MultiLineString([poly.boundary] + list(shade_mls))\n",
    "\n",
    "\n",
    "def morsify(ls, buffer_factor=0.01):\n",
    "    return ls.buffer(buffer_factor).buffer(-buffer_factor).boundary"
   ]
  },
  {
   "cell_type": "code",
   "execution_count": null,
   "id": "5344119d-c84b-4e7e-b4b7-7033104a1726",
   "metadata": {},
   "outputs": [],
   "source": [
    "\n",
    "# filename = 'vp_test29.svg'\n",
    "paper_size:str = '6x6 inches'\n",
    "border:float=10  # mm\n",
    "\n",
    "savedir='/home/naka/art/plotter_svgs'"
   ]
  },
  {
   "cell_type": "code",
   "execution_count": null,
   "id": "23d2db59-2d6d-4120-93c4-c4e0fe5ebdbd",
   "metadata": {},
   "outputs": [],
   "source": [
    "# make page\n",
    "paper = Paper(paper_size)\n",
    "drawbox = paper.get_drawbox(border)\n"
   ]
  },
  {
   "cell_type": "code",
   "execution_count": null,
   "id": "df1e7c07-c18c-4431-bd6b-2b4527eb5c33",
   "metadata": {
    "Collapsed": "false"
   },
   "outputs": [],
   "source": [
    "\n",
    "xs = np.linspace(0, 6, 4) \n",
    "ys = np.linspace(0, 6, 4)\n",
    "\n",
    "points = []\n",
    "for x in xs:\n",
    "    for y in ys:\n",
    "        points.append(Point(x,y))"
   ]
  },
  {
   "cell_type": "code",
   "execution_count": null,
   "id": "795317dc-fb35-4ebc-b5a9-a56addc96418",
   "metadata": {
    "Collapsed": "false"
   },
   "outputs": [],
   "source": [
    "circles = [gp.RegPolygon(p, radius=0.4, n_corners=6, rotation=np.random.uniform(360)).poly.buffer(1.2) for p in points]"
   ]
  },
  {
   "cell_type": "code",
   "execution_count": null,
   "id": "94836c2e-a3bc-4e23-b9dd-d0a251ddb205",
   "metadata": {
    "Collapsed": "false"
   },
   "outputs": [],
   "source": [
    "\n",
    "sgen = lambda: np.random.randint(low=8,high=40)\n",
    "bgen = lambda: np.random.uniform(0.01, 0.05)\n",
    "bcs = gp.merge_LineStrings([hollow_and_morse_shade(c, n_scales=sgen(), buffer_factor=bgen()) for c in circles])"
   ]
  },
  {
   "cell_type": "code",
   "execution_count": null,
   "id": "54dd0c14-89c7-4628-bec0-1c877d664da9",
   "metadata": {
    "Collapsed": "false"
   },
   "outputs": [],
   "source": [
    "bcs = MultiLineString([l for l in bcs if l.length>0.01])\n",
    "bcs = gp.make_like(bcs, drawbox)"
   ]
  },
  {
   "cell_type": "code",
   "execution_count": null,
   "id": "6549e030-2de4-4500-9b09-b1444c3eef0b",
   "metadata": {},
   "outputs": [],
   "source": [
    "bcs = bcs.buffer(0.6, cap_style=2, join_style=2).boundary"
   ]
  },
  {
   "cell_type": "code",
   "execution_count": null,
   "id": "0308af1b-ae0a-4ceb-bcc4-b1475c6e56e1",
   "metadata": {},
   "outputs": [],
   "source": [
    "bcs = MultiLineString([l for l in bcs if l.length>1])"
   ]
  },
  {
   "cell_type": "code",
   "execution_count": null,
   "id": "84794f18-1fb1-4c51-ab0f-c4ae56c33c9e",
   "metadata": {},
   "outputs": [],
   "source": [
    "sk = vsketch.Vsketch()\n",
    "sk.size(paper.page_format_mm)\n",
    "sk.scale('1mm')\n",
    "sk.stroke(1)\n",
    "\n",
    "sk.geometry(bcs)\n",
    "    \n",
    "sk.display(color_mode='none')"
   ]
  },
  {
   "cell_type": "code",
   "execution_count": null,
   "id": "4008e441-6369-4597-b420-c95766b25811",
   "metadata": {},
   "outputs": [],
   "source": [
    "drawbox.bounds"
   ]
  },
  {
   "cell_type": "code",
   "execution_count": null,
   "id": "f40894d5-d17d-4594-9ba7-35f93cfdd958",
   "metadata": {},
   "outputs": [],
   "source": [
    "filename = 'mazes.svg'"
   ]
  },
  {
   "cell_type": "code",
   "execution_count": null,
   "id": "557f4e13-6971-43bf-944f-b19e82fad895",
   "metadata": {},
   "outputs": [],
   "source": [
    "sk.vpype('linemerge linesimplify linesort')"
   ]
  },
  {
   "cell_type": "code",
   "execution_count": null,
   "id": "490841da-3535-4dd9-be39-385c130fc57c",
   "metadata": {},
   "outputs": [],
   "source": [
    "savepath = Path(savedir).joinpath(filename).as_posix()\n",
    "sk.save(savepath)"
   ]
  },
  {
   "cell_type": "code",
   "execution_count": null,
   "id": "a5d36407-100e-4e35-ac11-ab00b88a7173",
   "metadata": {},
   "outputs": [],
   "source": [
    "bcs = gp.make_like(bcs, drawbox)"
   ]
  },
  {
   "cell_type": "code",
   "execution_count": null,
   "id": "59dd7700-0a91-424e-9422-af035380e5fa",
   "metadata": {},
   "outputs": [],
   "source": []
  },
  {
   "cell_type": "code",
   "execution_count": null,
   "id": "e722cecc-15e5-4e2f-807e-8e8ef5d36679",
   "metadata": {
    "Collapsed": "false"
   },
   "outputs": [],
   "source": [
    "sk = vsketch.Vsketch()\n",
    "sk.size(paper.page_format_mm)\n",
    "sk.scale('1mm')\n",
    "sk.penWidth('0.3mm')\n",
    "\n",
    "counter = 0\n",
    "for ls in bcs:\n",
    "    counter += 1\n",
    "    sk.stroke(counter)\n",
    "    sk.geometry(ls)\n",
    "    \n",
    "\n",
    "sk.display(color_mode='layer')"
   ]
  },
  {
   "cell_type": "code",
   "execution_count": null,
   "id": "70fe275e-2837-4160-9247-082b2d3f6a51",
   "metadata": {},
   "outputs": [],
   "source": []
  },
  {
   "cell_type": "code",
   "execution_count": null,
   "id": "0d1cdd9e-b693-41cf-bbc0-907132fce326",
   "metadata": {},
   "outputs": [],
   "source": [
    "plot_id = fn.new_plot_id()"
   ]
  },
  {
   "cell_type": "code",
   "execution_count": null,
   "id": "492268d5-27ed-47c5-b8f7-c23a23500c70",
   "metadata": {},
   "outputs": [],
   "source": [
    "savedir='/home/naka/art/plotter_svgs'"
   ]
  },
  {
   "cell_type": "code",
   "execution_count": null,
   "id": "fa3d045f-4b61-4652-99a6-293cede69c37",
   "metadata": {},
   "outputs": [],
   "source": [
    "savepath = Path(savedir).joinpath(f'{plot_id}.svg').as_posix()\n",
    "sk.save(savepath)"
   ]
  },
  {
   "cell_type": "code",
   "execution_count": null,
   "id": "f96b88e3-7a20-4b7a-952a-76b99199124b",
   "metadata": {},
   "outputs": [],
   "source": []
  },
  {
   "cell_type": "code",
   "execution_count": null,
   "id": "ba75dc0d-e415-4c61-8158-8a39190ceca4",
   "metadata": {},
   "outputs": [],
   "source": []
  },
  {
   "cell_type": "code",
   "execution_count": null,
   "id": "61817e58-e3cf-480c-af8a-ebac5c3b9f83",
   "metadata": {},
   "outputs": [],
   "source": [
    "ac = AxiCam()"
   ]
  },
  {
   "cell_type": "code",
   "execution_count": null,
   "id": "bb8f4138-e8e9-452e-a43f-e8ce50bb3da1",
   "metadata": {},
   "outputs": [],
   "source": [
    "ac.init_cam()"
   ]
  },
  {
   "cell_type": "code",
   "execution_count": null,
   "id": "fa2deb30-863f-424e-8680-f7846ca59f8a",
   "metadata": {},
   "outputs": [],
   "source": []
  },
  {
   "cell_type": "code",
   "execution_count": null,
   "id": "07987154-9ffd-4447-ac8b-89aab854576b",
   "metadata": {},
   "outputs": [],
   "source": [
    "ac.cam.video_preview()"
   ]
  },
  {
   "cell_type": "code",
   "execution_count": null,
   "id": "dedf4b66-a2b4-453e-950b-5d27d6faeb4f",
   "metadata": {},
   "outputs": [],
   "source": [
    "ac.cam.close()"
   ]
  },
  {
   "cell_type": "code",
   "execution_count": null,
   "id": "d2b42423-3f5c-4f5f-bb7a-b613800ad10e",
   "metadata": {},
   "outputs": [],
   "source": [
    "ac.ad.options.speed_penup = 80"
   ]
  },
  {
   "cell_type": "code",
   "execution_count": null,
   "id": "c5fd3e7f-8302-4039-9c5d-cc296a2f2607",
   "metadata": {},
   "outputs": [],
   "source": [
    "ac.ad.options.accel = 70\n",
    "ac.ad.options.pen_raise_rate = 85"
   ]
  },
  {
   "cell_type": "code",
   "execution_count": null,
   "id": "738f0830-2fb0-4cfa-a260-4be055e76405",
   "metadata": {},
   "outputs": [],
   "source": [
    "ac.ad.options.speed_pendown = 60\n",
    "ac.ad.update()"
   ]
  },
  {
   "cell_type": "code",
   "execution_count": null,
   "id": "d11f6a92-5be8-44c3-ac92-9be58fc596ec",
   "metadata": {},
   "outputs": [],
   "source": [
    "ac.toggle_pen()"
   ]
  },
  {
   "cell_type": "code",
   "execution_count": null,
   "id": "81ee7ab9-0134-4cf4-8ad5-17c89f53651c",
   "metadata": {},
   "outputs": [],
   "source": [
    "ac.plot_layers(wait_times=0.3, start_layer=0)"
   ]
  },
  {
   "cell_type": "code",
   "execution_count": null,
   "id": "6f5181e9-2246-48b9-a317-b996907bdf27",
   "metadata": {},
   "outputs": [],
   "source": [
    "ac.cam.get_video(wait_time=3)"
   ]
  }
 ],
 "metadata": {
  "kernelspec": {
   "display_name": "Python [conda env:genpen]",
   "language": "python",
   "name": "conda-env-genpen-py"
  },
  "language_info": {
   "codemirror_mode": {
    "name": "ipython",
    "version": 3
   },
   "file_extension": ".py",
   "mimetype": "text/x-python",
   "name": "python",
   "nbconvert_exporter": "python",
   "pygments_lexer": "ipython3",
   "version": "3.8.8"
  }
 },
 "nbformat": 4,
 "nbformat_minor": 5
}

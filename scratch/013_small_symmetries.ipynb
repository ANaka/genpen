{
 "cells": [
  {
   "cell_type": "code",
   "execution_count": null,
   "metadata": {
    "Collapsed": "false"
   },
   "outputs": [],
   "source": [
    "import itertools\n",
    "import numpy as np\n",
    "import os\n",
    "import seaborn as sns\n",
    "from tqdm import tqdm\n",
    "from dataclasses import asdict, dataclass, field\n",
    "import vsketch\n",
    "import shapely.geometry as sg\n",
    "from shapely.geometry import box, MultiLineString, Point, MultiPoint, Polygon, MultiPolygon, LineString\n",
    "import shapely.affinity as sa\n",
    "import shapely.ops as so\n",
    "import matplotlib.pyplot as plt\n",
    "import pandas as pd\n",
    "\n",
    "import vpype_cli\n",
    "from typing import List, Generic\n",
    "from genpen import genpen as gp, utils as utils\n",
    "from scipy import stats as ss\n",
    "import geopandas\n",
    "from shapely.errors import TopologicalError\n",
    "import functools\n",
    "%load_ext autoreload\n",
    "%autoreload 2\n",
    "import vpype\n",
    "from skimage import io\n",
    "from pathlib import Path\n",
    "\n",
    "from sklearn.preprocessing import minmax_scale\n",
    "from skimage import feature\n",
    "from genpen.utils import Paper"
   ]
  },
  {
   "cell_type": "code",
   "execution_count": null,
   "metadata": {
    "Collapsed": "false"
   },
   "outputs": [],
   "source": [
    "# make page\n",
    "paper_size = '5x7 inches'\n",
    "border:float=20\n",
    "paper = Paper('7x5 inches')\n",
    "\n",
    "drawbox = paper.get_drawbox(border)"
   ]
  },
  {
   "cell_type": "code",
   "execution_count": null,
   "metadata": {
    "Collapsed": "false"
   },
   "outputs": [],
   "source": [
    "(xbins, ybins), (xs, ys) = gp.overlay_grid(drawbox, xstep=35, ystep=30, flatmesh=True)"
   ]
  },
  {
   "cell_type": "code",
   "execution_count": null,
   "metadata": {
    "Collapsed": "false"
   },
   "outputs": [],
   "source": [
    "points = [Point(x,y) for x,y in itertools.product(xs,ys)]"
   ]
  },
  {
   "cell_type": "code",
   "execution_count": null,
   "metadata": {
    "Collapsed": "false"
   },
   "outputs": [],
   "source": []
  },
  {
   "cell_type": "code",
   "execution_count": null,
   "metadata": {
    "Collapsed": "false"
   },
   "outputs": [],
   "source": [
    "point = Point((0,0))\n",
    "rp = "
   ]
  },
  {
   "cell_type": "code",
   "execution_count": null,
   "metadata": {
    "Collapsed": "false"
   },
   "outputs": [],
   "source": [
    "gp.RegPolygon(point=point, radius=1, n_corners=8).corners"
   ]
  },
  {
   "cell_type": "code",
   "execution_count": null,
   "metadata": {
    "Collapsed": "false"
   },
   "outputs": [],
   "source": [
    "p = point.buffer(np.random.uniform(3, 5))\n",
    "stp = gp.ScaleTransPrms(d_buffer=-0.5,angles=-45,d_translate_factor=0.)\n",
    "P = gp.Poly(p)\n",
    "P.fill_scale_trans(**stp.prms)\n",
    "\n",
    "buffer_factor = 1e-4\n",
    "cs=2\n",
    "js=1\n",
    "r = 4\n",
    "mfills = []\n",
    "for f in P.fill:\n",
    "    dilated = f.buffer(buffer_factor, cap_style=cs, join_style=js, resolution=r)\n",
    "    eroded = dilated.buffer(-buffer_factor, cap_style=cs, join_style=js, resolution=r)\n",
    "    mfills.append(eroded)\n",
    "\n",
    "mfills = gp.merge_Polygons(mfills)\n",
    "mfills.buffer(0.2, cap_style=2, join_style=1, resolution=4).boundary"
   ]
  },
  {
   "cell_type": "code",
   "execution_count": null,
   "metadata": {
    "Collapsed": "false"
   },
   "outputs": [],
   "source": [
    "mazes = []\n",
    "for point in points:\n",
    "    p = point.buffer(np.random.uniform(8, 16))\n",
    "    stp = gp.ScaleTransPrms(d_buffer=-3,angles=-45,d_translate_factor=0.)\n",
    "    P = gp.Poly(p)\n",
    "    P.fill_scale_trans(**stp.prms)\n",
    "\n",
    "    buffer_factor = 1e-4\n",
    "    cs=2\n",
    "    js=1\n",
    "    r = 4\n",
    "    mfills = []\n",
    "    for f in P.fill:\n",
    "        dilated = f.buffer(buffer_factor, cap_style=cs, join_style=js, resolution=r)\n",
    "        eroded = dilated.buffer(-buffer_factor, cap_style=cs, join_style=js, resolution=r)\n",
    "        mfills.append(eroded)\n",
    "\n",
    "    mfills = gp.merge_Polygons(mfills)\n",
    "    buffs = mfills.buffer(0.2, cap_style=2, join_style=1, resolution=4).boundary\n",
    "    filtered_buffs = gp.merge_LineStrings([f for f in buffs if f.length>0.1])\n",
    "    mazes.append(filtered_buffs)\n",
    "mazes = gp.merge_LineStrings(mazes)"
   ]
  },
  {
   "cell_type": "code",
   "execution_count": null,
   "metadata": {
    "Collapsed": "false"
   },
   "outputs": [],
   "source": [
    "filtered_buffs"
   ]
  },
  {
   "cell_type": "code",
   "execution_count": null,
   "metadata": {
    "Collapsed": "false"
   },
   "outputs": [],
   "source": [
    "layers = []\n",
    "layers.append(mazes)"
   ]
  },
  {
   "cell_type": "code",
   "execution_count": null,
   "metadata": {
    "Collapsed": "false"
   },
   "outputs": [],
   "source": [
    "sk = vsketch.Vsketch()\n",
    "sk.size(paper.page_format_mm)\n",
    "sk.scale('1mm')\n",
    "sk.penWidth('0.1mm')\n",
    "for i, layer in enumerate(layers):\n",
    "    sk.stroke(i+1)\n",
    "    sk.geometry(layer)\n",
    "\n",
    "# tolerance=0.5\n",
    "# sk.vpype(f'linemerge --tolerance {tolerance}mm linesort')\n",
    "\n",
    "sk.display()"
   ]
  },
  {
   "cell_type": "code",
   "execution_count": null,
   "metadata": {
    "Collapsed": "false"
   },
   "outputs": [],
   "source": []
  }
 ],
 "metadata": {
  "kernelspec": {
   "display_name": "Python [conda env:genpen]",
   "language": "python",
   "name": "conda-env-genpen-py"
  },
  "language_info": {
   "codemirror_mode": {
    "name": "ipython",
    "version": 3
   },
   "file_extension": ".py",
   "mimetype": "text/x-python",
   "name": "python",
   "nbconvert_exporter": "python",
   "pygments_lexer": "ipython3",
   "version": "3.8.6"
  }
 },
 "nbformat": 4,
 "nbformat_minor": 4
}

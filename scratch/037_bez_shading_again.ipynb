{
 "cells": [
  {
   "cell_type": "code",
   "execution_count": null,
   "id": "598b954e-e6a6-436f-afc5-674904fbb7fe",
   "metadata": {
    "Collapsed": "false"
   },
   "outputs": [],
   "source": [
    "import itertools\n",
    "import numpy as np\n",
    "import os\n",
    "import seaborn as sns\n",
    "from tqdm import tqdm\n",
    "from dataclasses import asdict, dataclass, field\n",
    "import vsketch\n",
    "import shapely.geometry as sg\n",
    "from shapely.geometry import box, MultiLineString, Point, MultiPoint, Polygon, MultiPolygon, LineString\n",
    "import shapely.affinity as sa\n",
    "import shapely.ops as so\n",
    "import matplotlib.pyplot as plt\n",
    "import pandas as pd\n",
    "\n",
    "import vpype_cli\n",
    "from typing import List, Generic\n",
    "from genpen import genpen as gp, utils as utils\n",
    "from scipy import stats as ss\n",
    "import geopandas\n",
    "from shapely.errors import TopologicalError\n",
    "import functools\n",
    "%load_ext autoreload\n",
    "%autoreload 2\n",
    "import vpype\n",
    "from skimage import io\n",
    "from pathlib import Path\n",
    "\n",
    "import bezier\n",
    "\n",
    "from sklearn.preprocessing import minmax_scale\n",
    "from skimage import feature\n",
    "from genpen.utils import Paper\n",
    "from genpen.genpen import *"
   ]
  },
  {
   "cell_type": "code",
   "execution_count": null,
   "id": "1b7f12d4-5123-4b80-9c58-a8b1f9a1444b",
   "metadata": {
    "Collapsed": "false"
   },
   "outputs": [],
   "source": [
    "# make page\n",
    "paper_size = '11x14 inches'\n",
    "border:float=30\n",
    "paper = Paper(paper_size)\n",
    "\n",
    "drawbox = paper.get_drawbox(border)"
   ]
  },
  {
   "cell_type": "code",
   "execution_count": null,
   "id": "f3adff50-36ed-4758-bf15-cdaac501a7cc",
   "metadata": {},
   "outputs": [],
   "source": [
    "layers = []"
   ]
  },
  {
   "cell_type": "code",
   "execution_count": null,
   "id": "34aa9fc0-82b4-4b8f-bdc9-0490f1be2d3f",
   "metadata": {},
   "outputs": [],
   "source": [
    "sk.document.bounds()"
   ]
  },
  {
   "cell_type": "code",
   "execution_count": null,
   "id": "d12ca730-9f30-4eb7-939a-135423f475fd",
   "metadata": {},
   "outputs": [],
   "source": [
    "import vpype as vp"
   ]
  },
  {
   "cell_type": "code",
   "execution_count": null,
   "id": "71b896ab-7bdc-4481-8d5e-d0260454c4fc",
   "metadata": {},
   "outputs": [],
   "source": [
    "vp.convert_page_size('11x14in')"
   ]
  },
  {
   "cell_type": "code",
   "execution_count": null,
   "id": "2e7e9c1a-7441-4d80-8d50-67508b36b56b",
   "metadata": {},
   "outputs": [],
   "source": []
  },
  {
   "cell_type": "code",
   "execution_count": null,
   "id": "81314064-0151-45d1-8cd3-fae7129756d6",
   "metadata": {
    "Collapsed": "false"
   },
   "outputs": [],
   "source": [
    "xgen = ss.uniform(loc=0.6, scale=0.2).rvs\n",
    "split_func = functools.partial(split_along_longest_side_of_min_rectangle, xgen=xgen)\n",
    "splits = recursive_split_frac_buffer(\n",
    "    drawbox, \n",
    "    split_func=split_func,\n",
    "    p_continue=0.85, \n",
    "    depth=0, \n",
    "    depth_limit=3,\n",
    "    buffer_frac=-0.0\n",
    ")\n",
    "\n",
    "bps = MultiPolygon([p for p in splits])\n",
    "\n",
    "   \n",
    "sk = vsketch.Vsketch()\n",
    "sk.size(paper.page_format_mm)\n",
    "sk.scale('1mm')\n",
    "sk.penWidth('0.5mm')\n",
    "sk.geometry(bps.boundary)\n",
    "\n",
    "# tolerance=0.5\n",
    "\n",
    "sk.display()"
   ]
  },
  {
   "cell_type": "code",
   "execution_count": null,
   "id": "f23df540-a39b-43d3-95ae-8331c9f0920b",
   "metadata": {
    "Collapsed": "false"
   },
   "outputs": [],
   "source": [
    "n_layers = 1"
   ]
  },
  {
   "cell_type": "code",
   "execution_count": null,
   "id": "68d9ee88-a1c6-4fa3-971c-5b8e5acc1cbb",
   "metadata": {
    "Collapsed": "false"
   },
   "outputs": [],
   "source": [
    "\n",
    "for ii in range(n_layers):\n",
    "    fills = []\n",
    "    for p in bps:\n",
    "        xjitter_func = 0\n",
    "        yjitter_func = ss.norm(loc=0, scale=np.random.uniform(0.01, 0.3)).rvs\n",
    "        bhf = BezierHatchFill(\n",
    "            spacing=np.random.uniform(0.2, 0.35),\n",
    "            degrees=np.random.uniform(40,60),\n",
    "            poly_to_fill=p, \n",
    "            xjitter_func=xjitter_func, \n",
    "            yjitter_func=yjitter_func,\n",
    "            fill_inscribe_buffer=1.4,\n",
    "            n_nodes_per_line=15,\n",
    "            n_eval_points=100,\n",
    "        )\n",
    "        fills.append(bhf.p)\n",
    "\n",
    "    fills = [f for f in fills if f.length > 0]\n",
    "    layer = gp.merge_LineStrings(fills)\n",
    "    layers.append(layer)"
   ]
  },
  {
   "cell_type": "code",
   "execution_count": null,
   "id": "2cb7212c-7753-46d6-82bb-372b680ec59b",
   "metadata": {
    "Collapsed": "false"
   },
   "outputs": [],
   "source": [
    "xgen = ss.uniform(loc=0.6, scale=0.02).rvs\n",
    "split_func = functools.partial(split_along_longest_side_of_min_rectangle, xgen=xgen)\n",
    "splits = recursive_split_frac_buffer(\n",
    "    drawbox, \n",
    "    split_func=split_func,\n",
    "    p_continue=0.85, \n",
    "    depth=0, \n",
    "    depth_limit=3,\n",
    "    buffer_frac=-0.0\n",
    ")\n",
    "\n",
    "bps = MultiPolygon([p for p in splits])\n",
    "\n",
    "   \n",
    "sk = vsketch.Vsketch()\n",
    "sk.size(paper.page_format_mm)\n",
    "sk.scale('1mm')\n",
    "sk.penWidth('0.5mm')\n",
    "sk.geometry(bps.boundary)\n",
    "\n",
    "# tolerance=0.5\n",
    "\n",
    "sk.display()"
   ]
  },
  {
   "cell_type": "code",
   "execution_count": null,
   "id": "46389a54-541b-4438-9d56-ca20305e418e",
   "metadata": {
    "Collapsed": "false"
   },
   "outputs": [],
   "source": [
    "n_layers = 1"
   ]
  },
  {
   "cell_type": "code",
   "execution_count": null,
   "id": "ec296e41-c0f4-4420-91cd-b66e342ef85d",
   "metadata": {
    "Collapsed": "false"
   },
   "outputs": [],
   "source": [
    "\n",
    "for ii in range(n_layers):\n",
    "    fills = []\n",
    "    for p in bps:\n",
    "        xjitter_func = 0\n",
    "        yjitter_func = ss.norm(loc=0, scale=np.random.uniform(0.01, 0.3)).rvs\n",
    "        bhf = BezierHatchFill(\n",
    "            spacing=np.random.uniform(0.2, 0.35),\n",
    "            degrees=np.random.uniform(40,60),\n",
    "            poly_to_fill=p, \n",
    "            xjitter_func=xjitter_func, \n",
    "            yjitter_func=yjitter_func,\n",
    "            fill_inscribe_buffer=1.4,\n",
    "            n_nodes_per_line=15,\n",
    "            n_eval_points=100,\n",
    "        )\n",
    "        fills.append(bhf.p)\n",
    "\n",
    "    fills = [f for f in fills if f.length > 0]\n",
    "    layer = gp.merge_LineStrings(fills)\n",
    "    layers.append(layer)"
   ]
  },
  {
   "cell_type": "code",
   "execution_count": null,
   "id": "65abdd4f-2e05-47c8-a67b-d497682b5836",
   "metadata": {
    "Collapsed": "false"
   },
   "outputs": [],
   "source": [
    "sk = vsketch.Vsketch()\n",
    "sk.size(paper.page_format_mm)\n",
    "sk.scale('1mm')\n",
    "sk.penWidth('0.3mm')\n",
    "for i, layer in enumerate(layers):\n",
    "    sk.stroke(i+1)\n",
    "    sk.geometry(layer)\n",
    "\n",
    "# sk.penWidth('0.2')\n",
    "# for tolerance in [0.1, 0.3, 1.5]:\n",
    "#     sk.vpype(f'linemerge --tolerance {tolerance}mm')\n",
    "# sk.vpype('linesimplify --tolerance 0.1 linesort')\n",
    "\n",
    "sk.display(color_mode='layer')"
   ]
  },
  {
   "cell_type": "code",
   "execution_count": null,
   "id": "f7ded524-5bc8-430d-86b5-ce19a05728fb",
   "metadata": {
    "Collapsed": "false"
   },
   "outputs": [],
   "source": [
    "sk.save('/home/naka/art/plotter_svgs/0002_subdivide_bez_shading.svg')"
   ]
  },
  {
   "cell_type": "markdown",
   "id": "21241ecd-628e-4f12-bfe2-06bec49cb14c",
   "metadata": {},
   "source": [
    "simpler, draw bezs one by one"
   ]
  },
  {
   "cell_type": "code",
   "execution_count": null,
   "id": "47dce466-2bcd-49f7-92da-501b1f3c34ec",
   "metadata": {
    "Collapsed": "false"
   },
   "outputs": [],
   "source": [
    "# make page\n",
    "paper_size = '11x14 inches'\n",
    "border:float=30\n",
    "paper = Paper(paper_size)\n",
    "\n",
    "drawbox = paper.get_drawbox(border)"
   ]
  },
  {
   "cell_type": "code",
   "execution_count": null,
   "id": "a30172eb-f52e-4d38-8522-5fa01f8ad508",
   "metadata": {},
   "outputs": [],
   "source": [
    "db = Shape(drawbox)"
   ]
  },
  {
   "cell_type": "code",
   "execution_count": null,
   "id": "c24ea4bc-24f9-4985-a9f6-5760238d70d7",
   "metadata": {},
   "outputs": [],
   "source": [
    "yspacing = 0.2"
   ]
  },
  {
   "cell_type": "code",
   "execution_count": null,
   "id": "f29be81e-7e56-49e8-a605-a118acfe7d08",
   "metadata": {},
   "outputs": [],
   "source": [
    "ystarts = np.arange(db.bottom, db.top, yspacing)"
   ]
  },
  {
   "cell_type": "code",
   "execution_count": null,
   "id": "d5abaedc-5a14-41fc-8e78-0f586c7f2979",
   "metadata": {},
   "outputs": [],
   "source": [
    "xjitter_func = 0.\n",
    "yjitter_func = ss.norm(loc=0, scale=np.random.uniform(0.01, 0.3)).rvs\n",
    "bhf = BezierHatchFill(\n",
    "    spacing=0.4,\n",
    "    degrees=0,\n",
    "    poly_to_fill=drawbox, \n",
    "    xjitter_func=xjitter_func, \n",
    "    yjitter_func=yjitter_func,\n",
    "    fill_inscribe_buffer=1.4,\n",
    "    n_nodes_per_line=20,\n",
    "    n_eval_points=100,\n",
    "    alternate_direction=False\n",
    ")"
   ]
  },
  {
   "cell_type": "code",
   "execution_count": null,
   "id": "50e096d5-dea4-409d-b00d-ba14249fb7dd",
   "metadata": {},
   "outputs": [],
   "source": [
    "bhf.lines[0].length"
   ]
  },
  {
   "cell_type": "code",
   "execution_count": null,
   "id": "eedcd6ae-8f7e-48ba-a24e-1b77215d5e7f",
   "metadata": {},
   "outputs": [],
   "source": [
    "lines = bhf.lines.intersection(drawbox)"
   ]
  },
  {
   "cell_type": "code",
   "execution_count": null,
   "id": "550a7331-d242-440d-88a9-16a019d4de5e",
   "metadata": {},
   "outputs": [],
   "source": [
    "lines = MultiLineString([l for l in lines if l.length > 200])"
   ]
  },
  {
   "cell_type": "code",
   "execution_count": null,
   "id": "b1b912d8-bfe3-4a35-a66d-9ac43d5ff386",
   "metadata": {},
   "outputs": [],
   "source": [
    "n_lines = len(lines)"
   ]
  },
  {
   "cell_type": "code",
   "execution_count": null,
   "id": "1cdebf64-102a-47e2-a9a4-3926392a7e90",
   "metadata": {},
   "outputs": [],
   "source": [
    "eval_starts = gaussian_random_walk(n=n_lines, step_init=0.05, step_mu=0.01, step_std=0.5, scale=True)\n",
    "eval_ends = gaussian_random_walk(n=n_lines, step_init=0.95, step_mu=-0.01, step_std=0.5, scale=True)"
   ]
  },
  {
   "cell_type": "code",
   "execution_count": null,
   "id": "5182fbff-a2bb-4fe4-b7df-f2890455fc3d",
   "metadata": {},
   "outputs": [],
   "source": [
    "clipped_lines = []\n",
    "for ii,(line, start, end) in enumerate(zip(lines, eval_starts, eval_ends)):\n",
    "    eval_points = np.linspace(start, end, n_eval_points)\n",
    "    pts = [line.interpolate(p, normalized=True) for p in eval_points]\n",
    "    if ii % 2 == 0:\n",
    "        pts = list(reversed(pts))\n",
    "    clipped_line = LineString(pts)\n",
    "    clipped_lines.append(clipped_line)\n",
    "    \n",
    "clines = MultiLineString(clipped_lines)"
   ]
  },
  {
   "cell_type": "code",
   "execution_count": null,
   "id": "9e1499fd-f949-4dba-90be-a6f70da93fc8",
   "metadata": {},
   "outputs": [],
   "source": [
    "layers = [clines]"
   ]
  },
  {
   "cell_type": "code",
   "execution_count": null,
   "id": "0588ca8a-9e22-4862-8934-b4d574fe5a39",
   "metadata": {
    "Collapsed": "false"
   },
   "outputs": [],
   "source": [
    "sk = vsketch.Vsketch()\n",
    "sk.size(paper.page_format_mm)\n",
    "sk.scale('1mm')\n",
    "sk.penWidth('0.3mm')\n",
    "for i, layer in enumerate(layers):\n",
    "    sk.stroke(i+1)\n",
    "    sk.geometry(layer)\n",
    "\n",
    "# sk.penWidth('0.2')\n",
    "# for tolerance in [0.1, 0.3, 1.5]:\n",
    "#     sk.vpype(f'linemerge --tolerance {tolerance}mm')\n",
    "# sk.vpype('linesimplify --tolerance 0.1 linesort')\n",
    "\n",
    "sk.display(color_mode='layer')"
   ]
  },
  {
   "cell_type": "code",
   "execution_count": null,
   "id": "f5473a9e-f902-4f3e-9ecb-e807c84b0ff1",
   "metadata": {
    "Collapsed": "false"
   },
   "outputs": [],
   "source": [
    "sk.save('/home/naka/art/plotter_svgs/0001_bez_shading.svg')"
   ]
  },
  {
   "cell_type": "markdown",
   "id": "1887abf8-78aa-43fb-821f-ead17d1d5a31",
   "metadata": {},
   "source": [
    "# more overlappers"
   ]
  },
  {
   "cell_type": "code",
   "execution_count": null,
   "id": "c52eba72-5198-4b0f-88f2-42c4ca48ae0a",
   "metadata": {},
   "outputs": [],
   "source": []
  },
  {
   "cell_type": "code",
   "execution_count": null,
   "id": "6d3caea6-6c61-48fe-8900-f274dfc213c6",
   "metadata": {
    "Collapsed": "false"
   },
   "outputs": [],
   "source": [
    "# make page\n",
    "paper_size = '11x14 inches'\n",
    "border:float=35\n",
    "paper = Paper(paper_size)\n",
    "\n",
    "drawbox = paper.get_drawbox(border)"
   ]
  },
  {
   "cell_type": "code",
   "execution_count": null,
   "id": "e4fb5f7e-d888-4043-b440-417cfb63b97d",
   "metadata": {},
   "outputs": [],
   "source": [
    "layers = []"
   ]
  },
  {
   "cell_type": "code",
   "execution_count": null,
   "id": "363aa9a9-3f6c-43fe-92af-996172106ba2",
   "metadata": {
    "Collapsed": "false"
   },
   "outputs": [],
   "source": [
    "xgen = ss.uniform(loc=0.4, scale=0.1).rvs\n",
    "split_func = functools.partial(split_along_longest_side_of_min_rectangle, xgen=xgen)\n",
    "splits = recursive_split_frac_buffer(\n",
    "    drawbox, \n",
    "    split_func=split_func,\n",
    "    p_continue=0.85, \n",
    "    depth=0, \n",
    "    depth_limit=3,\n",
    "    buffer_frac=-0.0\n",
    ")\n",
    "\n",
    "bps = MultiPolygon([p for p in splits])\n",
    "\n",
    "   \n",
    "sk = vsketch.Vsketch()\n",
    "sk.size(paper.page_format_mm)\n",
    "sk.scale('1mm')\n",
    "sk.penWidth('0.5mm')\n",
    "sk.geometry(bps.boundary)\n",
    "\n",
    "# tolerance=0.5\n",
    "\n",
    "sk.display()"
   ]
  },
  {
   "cell_type": "code",
   "execution_count": null,
   "id": "00929b4e-1c04-4cdc-9a52-82d5817e27a8",
   "metadata": {
    "Collapsed": "false"
   },
   "outputs": [],
   "source": [
    "n_layers = 1"
   ]
  },
  {
   "cell_type": "code",
   "execution_count": null,
   "id": "0b120ed6-08a9-4cc7-b3bd-ac3a4c8502b2",
   "metadata": {
    "Collapsed": "false"
   },
   "outputs": [],
   "source": [
    "\n",
    "for ii in range(n_layers):\n",
    "    fills = []\n",
    "    for p in bps:\n",
    "        xjitter_func = 0\n",
    "        yjitter_func = ss.norm(loc=0, scale=np.random.uniform(0.01, 0.6)).rvs\n",
    "        bhf = BezierHatchFill(\n",
    "            spacing=np.random.uniform(0.2, 0.35),\n",
    "            degrees=np.random.uniform(10,90),\n",
    "            poly_to_fill=p, \n",
    "            xjitter_func=xjitter_func, \n",
    "            yjitter_func=yjitter_func,\n",
    "            fill_inscribe_buffer=1.4,\n",
    "            n_nodes_per_line=15,\n",
    "            n_eval_points=100,\n",
    "        )\n",
    "        fills.append(bhf.p)\n",
    "\n",
    "    fills = [f for f in fills if f.length > 0]\n",
    "    layer = gp.merge_LineStrings(fills)\n",
    "    layers.append(layer)"
   ]
  },
  {
   "cell_type": "code",
   "execution_count": null,
   "id": "6890061e-cdd2-4707-bbaf-be24e1cfcff1",
   "metadata": {
    "Collapsed": "false"
   },
   "outputs": [],
   "source": [
    "xgen = ss.uniform(loc=0.6, scale=0.02).rvs\n",
    "\n",
    "split_func = functools.partial(random_bezier_subdivide, x0=0.15, x1=0.85, n_eval_points=50)\n",
    "splits = recursive_split_frac_buffer(\n",
    "    drawbox, \n",
    "    split_func=split_func,\n",
    "    p_continue=0.85, \n",
    "    depth=0, \n",
    "    depth_limit=4,\n",
    "    buffer_frac=-0.0\n",
    ")\n",
    "\n",
    "bps = MultiPolygon([p for p in splits])\n",
    "\n",
    "   \n",
    "sk = vsketch.Vsketch()\n",
    "sk.size(paper.page_format_mm)\n",
    "sk.scale('1mm')\n",
    "sk.penWidth('0.5mm')\n",
    "sk.geometry(bps.boundary)\n",
    "\n",
    "# tolerance=0.5\n",
    "\n",
    "sk.display()"
   ]
  },
  {
   "cell_type": "code",
   "execution_count": null,
   "id": "07ea4b41-3b7b-4ea5-a889-bd448018c40a",
   "metadata": {
    "Collapsed": "false"
   },
   "outputs": [],
   "source": [
    "n_layers = 1"
   ]
  },
  {
   "cell_type": "code",
   "execution_count": null,
   "id": "1ba1d2a3-766c-4277-b113-815b1caee71e",
   "metadata": {
    "Collapsed": "false"
   },
   "outputs": [],
   "source": [
    "\n",
    "for ii in range(n_layers):\n",
    "    fills = []\n",
    "    for p in bps:\n",
    "        xjitter_func = 0\n",
    "        yjitter_func = ss.norm(loc=0, scale=np.random.uniform(0.01, 0.7)).rvs\n",
    "        bhf = BezierHatchFill(\n",
    "            spacing=np.random.uniform(0.2, 0.35),\n",
    "            degrees=np.random.uniform(40,60),\n",
    "            poly_to_fill=p, \n",
    "            xjitter_func=xjitter_func, \n",
    "            yjitter_func=yjitter_func,\n",
    "            fill_inscribe_buffer=1.4,\n",
    "            n_nodes_per_line=15,\n",
    "            n_eval_points=100,\n",
    "        )\n",
    "        fills.append(bhf.p)\n",
    "\n",
    "    fills = [f for f in fills if f.length > 0]\n",
    "    layer = gp.merge_LineStrings(fills)\n",
    "    layers.append(layer)"
   ]
  },
  {
   "cell_type": "code",
   "execution_count": null,
   "id": "f41f4015-a96a-447b-9e4f-a814a9aa8771",
   "metadata": {
    "Collapsed": "false"
   },
   "outputs": [],
   "source": [
    "sk = vsketch.Vsketch()\n",
    "sk.size(paper.page_format_mm)\n",
    "sk.scale('1mm')\n",
    "sk.penWidth('0.3mm')\n",
    "for i, layer in enumerate(layers):\n",
    "    sk.stroke(i+1)\n",
    "    sk.geometry(layer)\n",
    "\n",
    "# sk.penWidth('0.2')\n",
    "# for tolerance in [0.1, 0.3, 1.5]:\n",
    "#     sk.vpype(f'linemerge --tolerance {tolerance}mm')\n",
    "# sk.vpype('linesimplify --tolerance 0.1 linesort')\n",
    "\n",
    "sk.display(color_mode='layer')"
   ]
  },
  {
   "cell_type": "code",
   "execution_count": null,
   "id": "62884647-6a19-4522-8f29-39e9943cd405",
   "metadata": {
    "Collapsed": "false"
   },
   "outputs": [],
   "source": [
    "sk.save('/home/naka/art/plotter_svgs/0003_subdivide_bez_shading.svg')"
   ]
  },
  {
   "cell_type": "code",
   "execution_count": null,
   "id": "56f7bd19-1256-4f27-b8c0-b3cf4c26deb1",
   "metadata": {},
   "outputs": [],
   "source": []
  },
  {
   "cell_type": "code",
   "execution_count": null,
   "id": "4b16fbe1-122b-4aaf-8f74-9cd9f5df85be",
   "metadata": {
    "Collapsed": "false"
   },
   "outputs": [],
   "source": [
    "# make page\n",
    "paper_size = '14x11 inches'\n",
    "border:float=35\n",
    "paper = Paper(paper_size)\n",
    "\n",
    "drawbox = paper.get_drawbox(border)"
   ]
  },
  {
   "cell_type": "code",
   "execution_count": null,
   "id": "2e0ea77b-5e1c-446a-a60f-a51fdc00d1b8",
   "metadata": {},
   "outputs": [],
   "source": [
    "layers = []"
   ]
  },
  {
   "cell_type": "code",
   "execution_count": null,
   "id": "9e57141a-aa74-4cd6-abc0-4a8a23d7e599",
   "metadata": {
    "Collapsed": "false"
   },
   "outputs": [],
   "source": [
    "xgen = ss.uniform(loc=0.3, scale=0.1).rvs\n",
    "split_func = functools.partial(split_along_longest_side_of_min_rectangle, xgen=xgen)\n",
    "splits = recursive_split_frac_buffer(\n",
    "    drawbox, \n",
    "    split_func=split_func,\n",
    "    p_continue=0.7, \n",
    "    depth=0, \n",
    "    depth_limit=5,\n",
    "    buffer_frac=-0.0\n",
    ")\n",
    "\n",
    "bps = MultiPolygon([p for p in splits])\n",
    "\n",
    "   \n",
    "sk = vsketch.Vsketch()\n",
    "sk.size(paper.page_format_mm)\n",
    "sk.scale('1mm')\n",
    "sk.penWidth('0.5mm')\n",
    "sk.geometry(bps.boundary)\n",
    "\n",
    "# tolerance=0.5\n",
    "\n",
    "sk.display()"
   ]
  },
  {
   "cell_type": "code",
   "execution_count": null,
   "id": "e8a5ae59-1e44-4a89-a5d5-8590e50a7cb2",
   "metadata": {
    "Collapsed": "false"
   },
   "outputs": [],
   "source": [
    "n_layers = 1"
   ]
  },
  {
   "cell_type": "code",
   "execution_count": null,
   "id": "7a25576b-7b11-414c-88fc-87f647f4cf88",
   "metadata": {
    "Collapsed": "false"
   },
   "outputs": [],
   "source": [
    "\n",
    "for ii in range(n_layers):\n",
    "    fills = []\n",
    "    for p in bps:\n",
    "        xjitter_func = 0\n",
    "        yjitter_func = ss.norm(loc=0, scale=np.random.uniform(0.01, 0.4)).rvs\n",
    "        bhf = BezierHatchFill(\n",
    "            spacing=np.random.uniform(0.18, 0.35),\n",
    "            degrees=np.random.uniform(35,55),\n",
    "            poly_to_fill=p, \n",
    "            xjitter_func=xjitter_func, \n",
    "            yjitter_func=yjitter_func,\n",
    "            fill_inscribe_buffer=1.4,\n",
    "            n_nodes_per_line=15,\n",
    "            n_eval_points=100,\n",
    "        )\n",
    "        fills.append(bhf.p)\n",
    "\n",
    "    fills = [f for f in fills if f.length > 0]\n",
    "    layer = gp.merge_LineStrings(fills)\n",
    "    layers.append(layer)"
   ]
  },
  {
   "cell_type": "code",
   "execution_count": null,
   "id": "1cba6109-515d-4c38-a9f0-aa46ea5e26ca",
   "metadata": {
    "Collapsed": "false"
   },
   "outputs": [],
   "source": [
    "xgen = ss.uniform(loc=0.3, scale=0.1).rvs\n",
    "split_func = functools.partial(split_along_longest_side_of_min_rectangle, xgen=xgen)\n",
    "splits = recursive_split_frac_buffer(\n",
    "    drawbox, \n",
    "    split_func=split_func,\n",
    "    p_continue=0.7, \n",
    "    depth=0, \n",
    "    depth_limit=5,\n",
    "    buffer_frac=-0.0\n",
    ")\n",
    "\n",
    "bps = MultiPolygon([p for p in splits])\n",
    "\n",
    "   \n",
    "sk = vsketch.Vsketch()\n",
    "sk.size(paper.page_format_mm)\n",
    "sk.scale('1mm')\n",
    "sk.penWidth('0.5mm')\n",
    "sk.geometry(bps.boundary)\n",
    "\n",
    "# tolerance=0.5\n",
    "\n",
    "sk.display()"
   ]
  },
  {
   "cell_type": "code",
   "execution_count": null,
   "id": "f17f333f-33be-4546-a8ef-a7900db34874",
   "metadata": {
    "Collapsed": "false"
   },
   "outputs": [],
   "source": [
    "\n",
    "for ii in range(n_layers):\n",
    "    fills = []\n",
    "    for p in bps:\n",
    "        xjitter_func = 0\n",
    "        yjitter_func = ss.norm(loc=0, scale=np.random.uniform(0.01, 0.4)).rvs\n",
    "        bhf = BezierHatchFill(\n",
    "            spacing=np.random.uniform(0.2, 0.35),\n",
    "            degrees=np.random.uniform(35,55),\n",
    "            poly_to_fill=p, \n",
    "            xjitter_func=xjitter_func, \n",
    "            yjitter_func=yjitter_func,\n",
    "            fill_inscribe_buffer=1.4,\n",
    "            n_nodes_per_line=15,\n",
    "            n_eval_points=100,\n",
    "        )\n",
    "        fills.append(bhf.p)\n",
    "\n",
    "    fills = [f for f in fills if f.length > 0]\n",
    "    layer = gp.merge_LineStrings(fills)\n",
    "    layers.append(layer)"
   ]
  },
  {
   "cell_type": "code",
   "execution_count": null,
   "id": "a00bb3de-dab5-4fc1-8a06-0342ad81085c",
   "metadata": {
    "Collapsed": "false"
   },
   "outputs": [],
   "source": [
    "sk = vsketch.Vsketch()\n",
    "sk.size(paper.page_format_mm)\n",
    "sk.scale('1mm')\n",
    "sk.penWidth('0.3mm')\n",
    "for i, layer in enumerate(layers):\n",
    "    sk.stroke(i+1)\n",
    "    sk.geometry(layer)\n",
    "\n",
    "# sk.penWidth('0.2')\n",
    "# for tolerance in [0.1, 0.3, 1.5]:\n",
    "#     sk.vpype(f'linemerge --tolerance {tolerance}mm')\n",
    "# sk.vpype('linesimplify --tolerance 0.1 linesort')\n",
    "\n",
    "sk.display(color_mode='layer')"
   ]
  },
  {
   "cell_type": "code",
   "execution_count": null,
   "id": "5db2c908-6ccf-4c59-ae15-d37baa0c4025",
   "metadata": {
    "Collapsed": "false"
   },
   "outputs": [],
   "source": [
    "sk.save('/home/naka/art/plotter_svgs/0004_subdivide_bez_shading.svg')"
   ]
  },
  {
   "cell_type": "code",
   "execution_count": null,
   "id": "3b2b85bc-8c3d-4e6e-b6f4-43d35297f4f8",
   "metadata": {},
   "outputs": [],
   "source": []
  },
  {
   "cell_type": "code",
   "execution_count": null,
   "id": "2a3eb7ef-df7c-46f4-a76f-acbe6d3aa95d",
   "metadata": {
    "Collapsed": "false"
   },
   "outputs": [],
   "source": [
    "# make page\n",
    "paper_size = '14x11 inches'\n",
    "border:float=35\n",
    "paper = Paper(paper_size)\n",
    "\n",
    "drawbox = paper.get_drawbox(border)"
   ]
  },
  {
   "cell_type": "code",
   "execution_count": null,
   "id": "52a54fc0-b07e-4f9b-a94f-680ebb3a7c79",
   "metadata": {},
   "outputs": [],
   "source": [
    "layers = []"
   ]
  },
  {
   "cell_type": "code",
   "execution_count": null,
   "id": "07c78833-0699-4567-906a-ce9c0e4f69b1",
   "metadata": {
    "Collapsed": "false"
   },
   "outputs": [],
   "source": [
    "xgen = ss.uniform(loc=0.6, scale=0.02).rvs\n",
    "\n",
    "split_func = functools.partial(random_bezier_subdivide, x0=0.5, x1=0.85, n_eval_points=50)\n",
    "splits = recursive_split_frac_buffer(\n",
    "    drawbox, \n",
    "    split_func=split_func,\n",
    "    p_continue=0.85, \n",
    "    depth=0, \n",
    "    depth_limit=2,\n",
    "    buffer_frac=-0.0\n",
    ")\n",
    "\n",
    "bps = MultiPolygon([p for p in splits])\n",
    "\n",
    "   \n",
    "sk = vsketch.Vsketch()\n",
    "sk.size(paper.page_format_mm)\n",
    "sk.scale('1mm')\n",
    "sk.penWidth('0.5mm')\n",
    "sk.geometry(bps.boundary)\n",
    "\n",
    "# tolerance=0.5\n",
    "\n",
    "sk.display()"
   ]
  },
  {
   "cell_type": "code",
   "execution_count": null,
   "id": "f6aa6c51-898a-4587-b892-f6bc2c5068ba",
   "metadata": {
    "Collapsed": "false"
   },
   "outputs": [],
   "source": [
    "n_layers = 1"
   ]
  },
  {
   "cell_type": "code",
   "execution_count": null,
   "id": "dc7a948d-a1f5-43dc-89bc-f13dc076da4e",
   "metadata": {
    "Collapsed": "false"
   },
   "outputs": [],
   "source": [
    "\n",
    "for ii in range(n_layers):\n",
    "    fills = []\n",
    "    for p in bps:\n",
    "        xjitter_func = 0\n",
    "        yjitter_func = ss.norm(loc=0, scale=np.random.uniform(0.01, 0.9)).rvs\n",
    "        bhf = BezierHatchFill(\n",
    "            spacing=np.random.uniform(0.2, 0.35),\n",
    "            degrees=30,\n",
    "            poly_to_fill=p, \n",
    "            xjitter_func=xjitter_func, \n",
    "            yjitter_func=yjitter_func,\n",
    "            fill_inscribe_buffer=1.4,\n",
    "            n_nodes_per_line=15,\n",
    "            n_eval_points=100,\n",
    "        )\n",
    "        fills.append(bhf.p)\n",
    "\n",
    "    fills = [f for f in fills if f.length > 0]\n",
    "    layer = gp.merge_LineStrings(fills)\n",
    "    layers.append(layer)"
   ]
  },
  {
   "cell_type": "code",
   "execution_count": null,
   "id": "e62ceea2-0511-4e66-9065-57a916ce58bd",
   "metadata": {
    "Collapsed": "false"
   },
   "outputs": [],
   "source": [
    "xgen = ss.uniform(loc=0.7, scale=0.02).rvs\n",
    "\n",
    "split_func = functools.partial(random_bezier_subdivide, x0=0.15, x1=0.85, n_eval_points=50)\n",
    "splits = recursive_split_frac_buffer(\n",
    "    drawbox, \n",
    "    split_func=split_func,\n",
    "    p_continue=0.85, \n",
    "    depth=0, \n",
    "    depth_limit=2,\n",
    "    buffer_frac=-0.0\n",
    ")\n",
    "\n",
    "bps = MultiPolygon([p for p in splits])\n",
    "\n",
    "   \n",
    "sk = vsketch.Vsketch()\n",
    "sk.size(paper.page_format_mm)\n",
    "sk.scale('1mm')\n",
    "sk.penWidth('0.5mm')\n",
    "sk.geometry(bps.boundary)\n",
    "\n",
    "# tolerance=0.5\n",
    "\n",
    "sk.display()"
   ]
  },
  {
   "cell_type": "code",
   "execution_count": null,
   "id": "b93b004f-5f04-4a34-a9dc-2a8c27fc28ff",
   "metadata": {
    "Collapsed": "false"
   },
   "outputs": [],
   "source": [
    "n_layers = 1"
   ]
  },
  {
   "cell_type": "code",
   "execution_count": null,
   "id": "16d5474b-6bb6-496b-9e7c-00b5e7c29a0b",
   "metadata": {
    "Collapsed": "false"
   },
   "outputs": [],
   "source": [
    "\n",
    "for ii in range(n_layers):\n",
    "    fills = []\n",
    "    for p in bps:\n",
    "        xjitter_func = 0\n",
    "        yjitter_func = ss.norm(loc=0, scale=np.random.uniform(0.01, 0.6)).rvs\n",
    "        bhf = BezierHatchFill(\n",
    "            spacing=np.random.uniform(0.2, 0.35),\n",
    "            degrees=30,\n",
    "            poly_to_fill=p, \n",
    "            xjitter_func=xjitter_func, \n",
    "            yjitter_func=yjitter_func,\n",
    "            fill_inscribe_buffer=1.4,\n",
    "            n_nodes_per_line=15,\n",
    "            n_eval_points=100,\n",
    "        )\n",
    "        fills.append(bhf.p)\n",
    "\n",
    "    fills = [f for f in fills if f.length > 0]\n",
    "    layer = gp.merge_LineStrings(fills)\n",
    "    layers.append(layer)"
   ]
  },
  {
   "cell_type": "code",
   "execution_count": null,
   "id": "6feabab5-b295-43bf-b66b-84de62acc441",
   "metadata": {
    "Collapsed": "false"
   },
   "outputs": [],
   "source": [
    "sk = vsketch.Vsketch()\n",
    "sk.size(paper.page_format_mm)\n",
    "sk.scale('1mm')\n",
    "sk.penWidth('0.3mm')\n",
    "for i, layer in enumerate(layers):\n",
    "    sk.stroke(i+1)\n",
    "    sk.geometry(layer)\n",
    "\n",
    "# sk.penWidth('0.2')\n",
    "# for tolerance in [0.1, 0.3, 1.5]:\n",
    "#     sk.vpype(f'linemerge --tolerance {tolerance}mm')\n",
    "# sk.vpype('linesimplify --tolerance 0.1 linesort')\n",
    "\n",
    "sk.display(color_mode='layer')"
   ]
  },
  {
   "cell_type": "code",
   "execution_count": null,
   "id": "ceefdb52-cf17-463e-839e-eab61be59eb9",
   "metadata": {
    "Collapsed": "false"
   },
   "outputs": [],
   "source": [
    "sk.save('/home/naka/art/plotter_svgs/0005_subdivide_bez_shading.svg')"
   ]
  }
 ],
 "metadata": {
  "kernelspec": {
   "display_name": "Python [conda env:genpen]",
   "language": "python",
   "name": "conda-env-genpen-py"
  },
  "language_info": {
   "codemirror_mode": {
    "name": "ipython",
    "version": 3
   },
   "file_extension": ".py",
   "mimetype": "text/x-python",
   "name": "python",
   "nbconvert_exporter": "python",
   "pygments_lexer": "ipython3",
   "version": "3.8.8"
  }
 },
 "nbformat": 4,
 "nbformat_minor": 5
}

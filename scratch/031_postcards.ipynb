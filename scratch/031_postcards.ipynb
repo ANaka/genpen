{
 "cells": [
  {
   "cell_type": "code",
   "execution_count": null,
   "metadata": {
    "Collapsed": "false"
   },
   "outputs": [],
   "source": [
    "import itertools\n",
    "import numpy as np\n",
    "import os\n",
    "import seaborn as sns\n",
    "from tqdm import tqdm\n",
    "from dataclasses import asdict, dataclass, field\n",
    "import vsketch\n",
    "import shapely.geometry as sg\n",
    "from shapely.geometry import box, MultiLineString, Point, MultiPoint, Polygon, MultiPolygon, LineString\n",
    "import shapely.affinity as sa\n",
    "import shapely.ops as so\n",
    "import matplotlib.pyplot as plt\n",
    "import pandas as pd\n",
    "\n",
    "import vpype_cli\n",
    "from typing import List, Generic\n",
    "from genpen import genpen as gp, utils as utils\n",
    "from scipy import stats as ss\n",
    "import geopandas\n",
    "from shapely.errors import TopologicalError\n",
    "import functools\n",
    "%load_ext autoreload\n",
    "%autoreload 2"
   ]
  },
  {
   "cell_type": "markdown",
   "metadata": {
    "Collapsed": "false",
    "toc-hr-collapsed": true,
    "toc-nb-collapsed": true
   },
   "source": [
    "# Try 7"
   ]
  },
  {
   "cell_type": "code",
   "execution_count": null,
   "metadata": {
    "Collapsed": "false"
   },
   "outputs": [],
   "source": [
    "paper_size = '7x5 inches'\n",
    "border:float=10\n",
    "paper = utils.Paper(paper_size)\n",
    "\n",
    "drawbox = paper.get_drawbox(border)\n",
    "buffer_style = 2"
   ]
  },
  {
   "cell_type": "code",
   "execution_count": null,
   "metadata": {
    "Collapsed": "false"
   },
   "outputs": [],
   "source": [
    "new, old = gp.split_poly(drawbox, gp.random_line_subdivide(drawbox, x0=0.87, x1=0.35))\n",
    "\n",
    "bg_polys = [new] + gp.split_poly(old, gp.random_line_subdivide(old, x0=0.03, x1=0.69))\n",
    "\n",
    "bg_right, bg_mid, bg_left = bg_polys\n",
    "MultiPolygon(bg_polys)"
   ]
  },
  {
   "cell_type": "code",
   "execution_count": null,
   "metadata": {
    "Collapsed": "false"
   },
   "outputs": [],
   "source": [
    "xgen = ss.uniform(loc=0.55, scale=0.1).rvs\n",
    "split_func = functools.partial(gp.split_along_longest_side_of_min_rectangle, xgen=xgen)\n",
    "splits = gp.recursive_split_frac_buffer(\n",
    "    drawbox, \n",
    "    split_func=split_func,\n",
    "    p_continue=0.99, \n",
    "    depth=0, \n",
    "    depth_limit=4,\n",
    "    buffer_frac=-0.0\n",
    ")\n",
    "\n",
    "bps = MultiPolygon([p for p in splits])\n",
    "bps"
   ]
  },
  {
   "cell_type": "code",
   "execution_count": null,
   "metadata": {
    "Collapsed": "false"
   },
   "outputs": [],
   "source": [
    "bg_bps_left = [so.unary_union([bp for bp in bps if bp.within(bg_left)]).buffer(0.1)]\n",
    "bg_bps_right = [so.unary_union([bp for bp in bps if bp.within(bg_right)]).buffer(0.1)]"
   ]
  },
  {
   "cell_type": "code",
   "execution_count": null,
   "metadata": {
    "Collapsed": "false"
   },
   "outputs": [],
   "source": [
    "bg_bps_left = [bg_left]\n",
    "bg_bps_right = [bg_right]\n",
    "brush_left = [bg_left]"
   ]
  },
  {
   "cell_type": "code",
   "execution_count": null,
   "metadata": {
    "Collapsed": "false"
   },
   "outputs": [],
   "source": [
    "bg_layers = []\n",
    "for bg_bps in [bg_bps_left, bg_bps_right, brush_left]:\n",
    "    fills = []\n",
    "    for p in bg_bps:\n",
    "        xjitter_func = 0\n",
    "        yjitter_func = ss.norm(loc=0, scale=np.random.uniform(0.2, 1.)).rvs\n",
    "        bhf = gp.BezierHatchFill(\n",
    "            spacing=np.random.uniform(0.2, 0.5),\n",
    "            degrees=np.random.uniform(10, 40),\n",
    "            poly_to_fill=p, \n",
    "            xjitter_func=xjitter_func, \n",
    "            yjitter_func=yjitter_func,\n",
    "            fill_inscribe_buffer=1.4,\n",
    "            n_nodes_per_line=15,\n",
    "            n_eval_points=50,\n",
    "        )\n",
    "        fills.append(bhf.p)\n",
    "\n",
    "    fills = [f for f in fills if f.length > 0]\n",
    "    layer = gp.merge_LineStrings(fills)\n",
    "    bg_layers.append(layer)"
   ]
  },
  {
   "cell_type": "code",
   "execution_count": null,
   "metadata": {
    "Collapsed": "false"
   },
   "outputs": [],
   "source": [
    "sk = vsketch.Vsketch()\n",
    "sk.size(paper.page_format_mm)\n",
    "sk.scale('1mm')\n",
    "sk.penWidth('0.3mm')\n",
    "for i, layer in enumerate(bg_layers):\n",
    "    sk.stroke(i+1)\n",
    "    sk.geometry(layer)\n",
    "\n",
    "sk.penWidth('0.3')\n",
    "for tolerance in [0.3, 0.6, 1.2]:\n",
    "    sk.vpype(f'linemerge --tolerance {tolerance}mm')\n",
    "sk.vpype('linesimplify --tolerance 0.1 linesort')\n",
    "sk.display()"
   ]
  },
  {
   "cell_type": "code",
   "execution_count": null,
   "metadata": {
    "Collapsed": "false"
   },
   "outputs": [],
   "source": [
    "# init\n",
    "rcp = gp.RecursiveCirclePacker(\n",
    "    drawbox, \n",
    "    rad_seq_start=0.6,\n",
    "    rad_seq_end=0.08,\n",
    "    min_allowed_rad=3,\n",
    "    n_rads=10,\n",
    ")\n",
    "rcp.run(1)"
   ]
  },
  {
   "cell_type": "code",
   "execution_count": null,
   "metadata": {
    "Collapsed": "false"
   },
   "outputs": [],
   "source": [
    "rcp.rad_seq_start=0.6\n",
    "rcp.rad_seq_end=0.08\n",
    "rcp.n_rads=80\n",
    "rcp.run(10, progress_bar=True)\n",
    "rcp.unfilled_circles"
   ]
  },
  {
   "cell_type": "markdown",
   "metadata": {
    "Collapsed": "false"
   },
   "source": [
    "## lattice 1"
   ]
  },
  {
   "cell_type": "code",
   "execution_count": null,
   "metadata": {
    "Collapsed": "false"
   },
   "outputs": [],
   "source": [
    "trcp = gp.RecursiveCirclePacker(drawbox.buffer(20), rad_seq_start=0.13,\n",
    "    rad_seq_end=0.13, min_allowed_rad=2, n_rads=10, )\n",
    "trcp.run(1)\n",
    "trcp.min_allowed_rad=5\n",
    "trcp.rad_seq_start=0.29\n",
    "trcp.rad_seq_end=0.18\n",
    "trcp.run(3)\n",
    "\n",
    "length_filter_gen = ss.uniform(96, 185).rvs\n",
    "buffer_size_gen = ss.uniform(1.1, 2.).rvs\n",
    "tri_vertices = MultiPoint([c.centroid for c in trcp.unfilled_circles])\n",
    "trils = MultiLineString(so.triangulate(tri_vertices, edges=True))\n",
    "\n",
    "filt_trils = MultiLineString([l for l in trils if l.length<length_filter_gen()])\n",
    "tris = [f.buffer(buffer_size_gen(), cap_style=2, join_style=3) for f in filt_trils]\n",
    "tris = so.unary_union(tris)\n",
    "tris"
   ]
  },
  {
   "cell_type": "code",
   "execution_count": null,
   "metadata": {
    "Collapsed": "false"
   },
   "outputs": [],
   "source": [
    "occluded_tris = tris.intersection(rcp.unfilled_circles).buffer(-1e-6)"
   ]
  },
  {
   "cell_type": "code",
   "execution_count": null,
   "metadata": {
    "Collapsed": "false"
   },
   "outputs": [],
   "source": [
    "stp = gp.ScaleTransPrms(d_buffer=-0.18,angles=-45,)\n",
    "stp.d_buffers += np.random.uniform(-0.03, 0.03, size=stp.d_buffers.shape)"
   ]
  },
  {
   "cell_type": "code",
   "execution_count": null,
   "metadata": {
    "Collapsed": "false"
   },
   "outputs": [],
   "source": [
    "fills = []\n",
    "for p in occluded_tris:\n",
    "    P = gp.Poly(p)\n",
    "    P.fill_scale_trans(**stp.prms)\n",
    "    fills.append(P.fill)"
   ]
  },
  {
   "cell_type": "code",
   "execution_count": null,
   "metadata": {
    "Collapsed": "false"
   },
   "outputs": [],
   "source": [
    "layer1 = gp.merge_LineStrings(fills)"
   ]
  },
  {
   "cell_type": "code",
   "execution_count": null,
   "metadata": {
    "Collapsed": "false"
   },
   "outputs": [],
   "source": [
    "all_polys = occluded_tris"
   ]
  },
  {
   "cell_type": "markdown",
   "metadata": {
    "Collapsed": "false"
   },
   "source": [
    "## lattice 2"
   ]
  },
  {
   "cell_type": "code",
   "execution_count": null,
   "metadata": {
    "Collapsed": "false"
   },
   "outputs": [],
   "source": [
    "trcp = gp.RecursiveCirclePacker(drawbox.buffer(20), rad_seq_start=0.16,\n",
    "    rad_seq_end=0.16, min_allowed_rad=2, n_rads=10, )\n",
    "trcp.run(1)\n",
    "trcp.min_allowed_rad=5\n",
    "trcp.rad_seq_start=0.3\n",
    "trcp.rad_seq_end=0.3\n",
    "trcp.run(4)\n",
    "\n",
    "length_filter_gen = ss.uniform(96, 185).rvs\n",
    "buffer_size_gen = ss.uniform(1.1, 1.7).rvs\n",
    "tri_vertices = MultiPoint([c.centroid for c in trcp.unfilled_circles])\n",
    "trils = MultiLineString(so.triangulate(tri_vertices, edges=True))\n",
    "\n",
    "filt_trils = MultiLineString([l for l in trils if l.length<length_filter_gen()])\n",
    "tris = [f.buffer(buffer_size_gen(), cap_style=2, join_style=3) for f in filt_trils]\n",
    "tris = so.unary_union(tris)\n",
    "tris"
   ]
  },
  {
   "cell_type": "code",
   "execution_count": null,
   "metadata": {
    "Collapsed": "false"
   },
   "outputs": [],
   "source": [
    "int_tris = tris.intersection(rcp.unfilled_circles)"
   ]
  },
  {
   "cell_type": "code",
   "execution_count": null,
   "metadata": {
    "Collapsed": "false"
   },
   "outputs": [],
   "source": [
    "occluded_tris = gp.robust_difference(int_tris, all_polys, buffer_distance=-1e-6)"
   ]
  },
  {
   "cell_type": "code",
   "execution_count": null,
   "metadata": {
    "Collapsed": "false"
   },
   "outputs": [],
   "source": [
    "stp = gp.ScaleTransPrms(d_buffer=-0.28,angles=-45,)\n",
    "stp.d_buffers += np.random.uniform(-0.03, 0.03, size=stp.d_buffers.shape)"
   ]
  },
  {
   "cell_type": "code",
   "execution_count": null,
   "metadata": {
    "Collapsed": "false"
   },
   "outputs": [],
   "source": [
    "fills = []\n",
    "for p in occluded_tris:\n",
    "    P = gp.Poly(p)\n",
    "    P.fill_scale_trans(**stp.prms)\n",
    "    fills.append(P.fill)"
   ]
  },
  {
   "cell_type": "code",
   "execution_count": null,
   "metadata": {
    "Collapsed": "false"
   },
   "outputs": [],
   "source": [
    "layer2 = gp.merge_LineStrings(fills)"
   ]
  },
  {
   "cell_type": "code",
   "execution_count": null,
   "metadata": {
    "Collapsed": "false"
   },
   "outputs": [],
   "source": [
    "all_polys = so.unary_union([all_polys, occluded_tris]).buffer(-1e-6)"
   ]
  },
  {
   "cell_type": "markdown",
   "metadata": {
    "Collapsed": "false"
   },
   "source": [
    "## lattice3"
   ]
  },
  {
   "cell_type": "code",
   "execution_count": null,
   "metadata": {
    "Collapsed": "false"
   },
   "outputs": [],
   "source": [
    "trcp = gp.RecursiveCirclePacker(drawbox.buffer(10), rad_seq_start=0.15,\n",
    "    rad_seq_end=0.15, min_allowed_rad=2, n_rads=10, )\n",
    "trcp.run(1)\n",
    "trcp.min_allowed_rad=5\n",
    "trcp.rad_seq_start=0.2\n",
    "trcp.rad_seq_end=0.2\n",
    "trcp.run(4)"
   ]
  },
  {
   "cell_type": "code",
   "execution_count": null,
   "metadata": {
    "Collapsed": "false"
   },
   "outputs": [],
   "source": [
    "length_filter_gen = ss.uniform(96, 185).rvs\n",
    "buffer_size_gen = ss.uniform(0.8, 1.4).rvs\n",
    "tri_vertices = MultiPoint([c.centroid for c in trcp.unfilled_circles])\n",
    "trils = MultiLineString(so.triangulate(tri_vertices, edges=True))\n",
    "\n",
    "filt_trils = MultiLineString([l for l in trils if l.length<length_filter_gen()])\n",
    "tris = [f.buffer(buffer_size_gen(), cap_style=2, join_style=3) for f in filt_trils]\n",
    "tris = so.unary_union(tris)"
   ]
  },
  {
   "cell_type": "code",
   "execution_count": null,
   "metadata": {
    "Collapsed": "false"
   },
   "outputs": [],
   "source": [
    "int_tris = tris.intersection(rcp.unfilled_circles)\n",
    "occluded_tris = gp.robust_difference(int_tris, all_polys, buffer_distance=-1e-6)"
   ]
  },
  {
   "cell_type": "code",
   "execution_count": null,
   "metadata": {
    "Collapsed": "false"
   },
   "outputs": [],
   "source": [
    "stp = gp.ScaleTransPrms(d_buffer=-0.38,angles=-45,)\n",
    "stp.d_buffers += np.random.uniform(-0.03, 0.03, size=stp.d_buffers.shape)"
   ]
  },
  {
   "cell_type": "code",
   "execution_count": null,
   "metadata": {
    "Collapsed": "false"
   },
   "outputs": [],
   "source": [
    "fills = []\n",
    "for p in occluded_tris:\n",
    "    P = gp.Poly(p)\n",
    "    P.fill_scale_trans(**stp.prms)\n",
    "    fills.append(P.fill)"
   ]
  },
  {
   "cell_type": "code",
   "execution_count": null,
   "metadata": {
    "Collapsed": "false"
   },
   "outputs": [],
   "source": [
    "layer3 = gp.merge_LineStrings(fills)"
   ]
  },
  {
   "cell_type": "code",
   "execution_count": null,
   "metadata": {
    "Collapsed": "false"
   },
   "outputs": [],
   "source": [
    "all_polys = gp.merge_Polygons([all_polys, occluded_tris])"
   ]
  },
  {
   "cell_type": "code",
   "execution_count": null,
   "metadata": {
    "Collapsed": "false"
   },
   "outputs": [],
   "source": []
  },
  {
   "cell_type": "code",
   "execution_count": null,
   "metadata": {
    "Collapsed": "false"
   },
   "outputs": [],
   "source": [
    "\n",
    "sk.stroke(4)\n",
    "sk.geometry(layer1)\n",
    "sk.stroke(5)\n",
    "sk.geometry(layer2)\n",
    "sk.stroke(6)\n",
    "sk.geometry(layer3)\n",
    "sk.display(color_mode='layer')"
   ]
  },
  {
   "cell_type": "code",
   "execution_count": null,
   "metadata": {
    "Collapsed": "false"
   },
   "outputs": [],
   "source": [
    "savepath = '/mnt/c/code/side/plotter_images/oned_outputs/0284_cpack_beams.svg'\n",
    "\n",
    "sk.save(savepath)\n",
    "\n",
    "vpype_commands = 'reloop linesimplify --tolerance 0.1mm linemerge --tolerance 0.1mm linesort'\n",
    "vpype_str = f'vpype read -q 0.05mm {savepath} {vpype_commands} write {savepath}'\n",
    "\n",
    "os.system(vpype_str)"
   ]
  },
  {
   "cell_type": "code",
   "execution_count": null,
   "metadata": {
    "Collapsed": "false"
   },
   "outputs": [],
   "source": []
  },
  {
   "cell_type": "markdown",
   "metadata": {
    "Collapsed": "false",
    "toc-hr-collapsed": true,
    "toc-nb-collapsed": true
   },
   "source": [
    "# Try 8"
   ]
  },
  {
   "cell_type": "code",
   "execution_count": null,
   "metadata": {
    "Collapsed": "false"
   },
   "outputs": [],
   "source": [
    "paper_size = '7x5 inches'\n",
    "border:float=10\n",
    "paper = utils.Paper(paper_size)\n",
    "\n",
    "drawbox = paper.get_drawbox(border)\n",
    "buffer_style = 2"
   ]
  },
  {
   "cell_type": "code",
   "execution_count": null,
   "metadata": {
    "Collapsed": "false"
   },
   "outputs": [],
   "source": [
    "xgen = ss.uniform(loc=0.55, scale=0.1).rvs\n",
    "split_func = functools.partial(gp.split_along_longest_side_of_min_rectangle, xgen=xgen)\n",
    "splits = gp.recursive_split_frac_buffer(\n",
    "    drawbox, \n",
    "    split_func=split_func,\n",
    "    p_continue=0.8, \n",
    "    depth=0, \n",
    "    depth_limit=6,\n",
    "    buffer_frac=-0.0\n",
    ")\n",
    "\n",
    "bps = MultiPolygon([p for p in splits])\n",
    "bps"
   ]
  },
  {
   "cell_type": "code",
   "execution_count": null,
   "metadata": {
    "Collapsed": "false"
   },
   "outputs": [],
   "source": [
    "bg_bps_left = [bps]"
   ]
  },
  {
   "cell_type": "code",
   "execution_count": null,
   "metadata": {
    "Collapsed": "false"
   },
   "outputs": [],
   "source": [
    "bg_layers = []\n",
    "for bg_bps in bg_bps_left:\n",
    "    fills = []\n",
    "    for p in bg_bps:\n",
    "        xjitter_func = 0\n",
    "        yjitter_func = ss.norm(loc=0, scale=np.random.uniform(0.2, 1.)).rvs\n",
    "        bhf = gp.BezierHatchFill(\n",
    "            spacing=np.random.uniform(0.4, 0.7),\n",
    "            degrees=np.random.uniform(10, 140),\n",
    "            poly_to_fill=p, \n",
    "            xjitter_func=xjitter_func, \n",
    "            yjitter_func=yjitter_func,\n",
    "            fill_inscribe_buffer=1.4,\n",
    "            n_nodes_per_line=15,\n",
    "            n_eval_points=50,\n",
    "        )\n",
    "        fills.append(bhf.p)\n",
    "\n",
    "    fills = [f for f in fills if f.length > 0]\n",
    "    layer = gp.merge_LineStrings(fills)\n",
    "    bg_layers.append(layer)"
   ]
  },
  {
   "cell_type": "code",
   "execution_count": null,
   "metadata": {
    "Collapsed": "false"
   },
   "outputs": [],
   "source": [
    "sk = vsketch.Vsketch()\n",
    "sk.size(paper.page_format_mm)\n",
    "sk.scale('1mm')\n",
    "sk.penWidth('0.3mm')\n",
    "for i, layer in enumerate(bg_layers):\n",
    "    sk.stroke(i+1)\n",
    "    sk.geometry(layer)\n",
    "\n",
    "sk.penWidth('0.3')\n",
    "for tolerance in [0.3, 0.6, 1.2]:\n",
    "    sk.vpype(f'linemerge --tolerance {tolerance}mm')\n",
    "sk.vpype('linesimplify --tolerance 0.1 linesort')\n",
    "sk.display()"
   ]
  },
  {
   "cell_type": "code",
   "execution_count": null,
   "metadata": {
    "Collapsed": "false"
   },
   "outputs": [],
   "source": [
    "# init\n",
    "rcp = gp.RecursiveCirclePacker(\n",
    "    drawbox, \n",
    "    rad_seq_start=0.6,\n",
    "    rad_seq_end=0.08,\n",
    "    min_allowed_rad=3,\n",
    "    n_rads=10,\n",
    ")\n",
    "rcp.run(1)"
   ]
  },
  {
   "cell_type": "code",
   "execution_count": null,
   "metadata": {
    "Collapsed": "false"
   },
   "outputs": [],
   "source": [
    "rcp.rad_seq_start=0.6\n",
    "rcp.rad_seq_end=0.08\n",
    "rcp.n_rads=80\n",
    "rcp.run(10, progress_bar=True)\n",
    "rcp.unfilled_circles"
   ]
  },
  {
   "cell_type": "markdown",
   "metadata": {
    "Collapsed": "false"
   },
   "source": [
    "## lattice 1"
   ]
  },
  {
   "cell_type": "code",
   "execution_count": null,
   "metadata": {
    "Collapsed": "false"
   },
   "outputs": [],
   "source": [
    "trcp = gp.RecursiveCirclePacker(drawbox.buffer(20), rad_seq_start=0.13,\n",
    "    rad_seq_end=0.13, min_allowed_rad=2, n_rads=10, )\n",
    "trcp.run(1)\n",
    "trcp.min_allowed_rad=5\n",
    "trcp.rad_seq_start=0.29\n",
    "trcp.rad_seq_end=0.18\n",
    "trcp.run(3)\n",
    "\n",
    "length_filter_gen = ss.uniform(96, 185).rvs\n",
    "buffer_size_gen = ss.uniform(1.1, 2.).rvs\n",
    "tri_vertices = MultiPoint([c.centroid for c in trcp.unfilled_circles])\n",
    "trils = MultiLineString(so.triangulate(tri_vertices, edges=True))\n",
    "\n",
    "filt_trils = MultiLineString([l for l in trils if l.length<length_filter_gen()])\n",
    "tris = [f.buffer(buffer_size_gen(), cap_style=2, join_style=3) for f in filt_trils]\n",
    "tris = so.unary_union(tris)\n",
    "tris"
   ]
  },
  {
   "cell_type": "code",
   "execution_count": null,
   "metadata": {
    "Collapsed": "false"
   },
   "outputs": [],
   "source": [
    "occluded_tris = tris.intersection(rcp.unfilled_circles).buffer(-1e-6)"
   ]
  },
  {
   "cell_type": "code",
   "execution_count": null,
   "metadata": {
    "Collapsed": "false"
   },
   "outputs": [],
   "source": [
    "stp = gp.ScaleTransPrms(d_buffer=-0.14,angles=-45,)\n",
    "stp.d_buffers += np.random.uniform(-0.03, 0.03, size=stp.d_buffers.shape)"
   ]
  },
  {
   "cell_type": "code",
   "execution_count": null,
   "metadata": {
    "Collapsed": "false"
   },
   "outputs": [],
   "source": [
    "fills = []\n",
    "for p in occluded_tris:\n",
    "    P = gp.Poly(p)\n",
    "    P.fill_scale_trans(**stp.prms)\n",
    "    fills.append(P.fill)"
   ]
  },
  {
   "cell_type": "code",
   "execution_count": null,
   "metadata": {
    "Collapsed": "false"
   },
   "outputs": [],
   "source": [
    "layer1 = gp.merge_LineStrings(fills)"
   ]
  },
  {
   "cell_type": "code",
   "execution_count": null,
   "metadata": {
    "Collapsed": "false"
   },
   "outputs": [],
   "source": [
    "all_polys = occluded_tris"
   ]
  },
  {
   "cell_type": "markdown",
   "metadata": {
    "Collapsed": "false"
   },
   "source": [
    "## lattice 2"
   ]
  },
  {
   "cell_type": "code",
   "execution_count": null,
   "metadata": {
    "Collapsed": "false"
   },
   "outputs": [],
   "source": [
    "trcp = gp.RecursiveCirclePacker(drawbox.buffer(20), rad_seq_start=0.16,\n",
    "    rad_seq_end=0.16, min_allowed_rad=2, n_rads=10, )\n",
    "trcp.run(1)\n",
    "trcp.min_allowed_rad=5\n",
    "trcp.rad_seq_start=0.3\n",
    "trcp.rad_seq_end=0.3\n",
    "trcp.run(4)\n",
    "\n",
    "length_filter_gen = ss.uniform(96, 185).rvs\n",
    "buffer_size_gen = ss.uniform(1.1, 1.7).rvs\n",
    "tri_vertices = MultiPoint([c.centroid for c in trcp.unfilled_circles])\n",
    "trils = MultiLineString(so.triangulate(tri_vertices, edges=True))\n",
    "\n",
    "filt_trils = MultiLineString([l for l in trils if l.length<length_filter_gen()])\n",
    "tris = [f.buffer(buffer_size_gen(), cap_style=2, join_style=3) for f in filt_trils]\n",
    "tris = so.unary_union(tris)\n",
    "tris"
   ]
  },
  {
   "cell_type": "code",
   "execution_count": null,
   "metadata": {
    "Collapsed": "false"
   },
   "outputs": [],
   "source": [
    "int_tris = tris.intersection(rcp.unfilled_circles)"
   ]
  },
  {
   "cell_type": "code",
   "execution_count": null,
   "metadata": {
    "Collapsed": "false"
   },
   "outputs": [],
   "source": [
    "occluded_tris = gp.robust_difference(int_tris, all_polys, buffer_distance=-1e-6)"
   ]
  },
  {
   "cell_type": "code",
   "execution_count": null,
   "metadata": {
    "Collapsed": "false"
   },
   "outputs": [],
   "source": [
    "stp = gp.ScaleTransPrms(d_buffer=-0.28,angles=-45,)\n",
    "stp.d_buffers += np.random.uniform(-0.03, 0.03, size=stp.d_buffers.shape)"
   ]
  },
  {
   "cell_type": "code",
   "execution_count": null,
   "metadata": {
    "Collapsed": "false"
   },
   "outputs": [],
   "source": [
    "fills = []\n",
    "for p in occluded_tris:\n",
    "    P = gp.Poly(p)\n",
    "    P.fill_scale_trans(**stp.prms)\n",
    "    fills.append(P.fill)"
   ]
  },
  {
   "cell_type": "code",
   "execution_count": null,
   "metadata": {
    "Collapsed": "false"
   },
   "outputs": [],
   "source": [
    "layer2 = gp.merge_LineStrings(fills)"
   ]
  },
  {
   "cell_type": "code",
   "execution_count": null,
   "metadata": {
    "Collapsed": "false"
   },
   "outputs": [],
   "source": [
    "all_polys = so.unary_union([all_polys, occluded_tris]).buffer(-1e-6)"
   ]
  },
  {
   "cell_type": "markdown",
   "metadata": {
    "Collapsed": "false"
   },
   "source": [
    "## lattice3"
   ]
  },
  {
   "cell_type": "code",
   "execution_count": null,
   "metadata": {
    "Collapsed": "false"
   },
   "outputs": [],
   "source": [
    "trcp = gp.RecursiveCirclePacker(drawbox.buffer(10), rad_seq_start=0.15,\n",
    "    rad_seq_end=0.15, min_allowed_rad=2, n_rads=10, )\n",
    "trcp.run(1)\n",
    "trcp.min_allowed_rad=5\n",
    "trcp.rad_seq_start=0.2\n",
    "trcp.rad_seq_end=0.2\n",
    "trcp.run(4)"
   ]
  },
  {
   "cell_type": "code",
   "execution_count": null,
   "metadata": {
    "Collapsed": "false"
   },
   "outputs": [],
   "source": [
    "length_filter_gen = ss.uniform(96, 185).rvs\n",
    "buffer_size_gen = ss.uniform(0.8, 1.4).rvs\n",
    "tri_vertices = MultiPoint([c.centroid for c in trcp.unfilled_circles])\n",
    "trils = MultiLineString(so.triangulate(tri_vertices, edges=True))\n",
    "\n",
    "filt_trils = MultiLineString([l for l in trils if l.length<length_filter_gen()])\n",
    "tris = [f.buffer(buffer_size_gen(), cap_style=2, join_style=3) for f in filt_trils]\n",
    "tris = so.unary_union(tris)"
   ]
  },
  {
   "cell_type": "code",
   "execution_count": null,
   "metadata": {
    "Collapsed": "false"
   },
   "outputs": [],
   "source": [
    "int_tris = tris.intersection(rcp.unfilled_circles)\n",
    "occluded_tris = gp.robust_difference(int_tris, all_polys, buffer_distance=-1e-6)"
   ]
  },
  {
   "cell_type": "code",
   "execution_count": null,
   "metadata": {
    "Collapsed": "false"
   },
   "outputs": [],
   "source": [
    "stp = gp.ScaleTransPrms(d_buffer=-0.38,angles=-45,)\n",
    "stp.d_buffers += np.random.uniform(-0.03, 0.03, size=stp.d_buffers.shape)"
   ]
  },
  {
   "cell_type": "code",
   "execution_count": null,
   "metadata": {
    "Collapsed": "false"
   },
   "outputs": [],
   "source": [
    "fills = []\n",
    "for p in occluded_tris:\n",
    "    P = gp.Poly(p)\n",
    "    P.fill_scale_trans(**stp.prms)\n",
    "    fills.append(P.fill)"
   ]
  },
  {
   "cell_type": "code",
   "execution_count": null,
   "metadata": {
    "Collapsed": "false"
   },
   "outputs": [],
   "source": [
    "layer3 = gp.merge_LineStrings(fills)"
   ]
  },
  {
   "cell_type": "code",
   "execution_count": null,
   "metadata": {
    "Collapsed": "false"
   },
   "outputs": [],
   "source": [
    "all_polys = gp.merge_Polygons([all_polys, occluded_tris])"
   ]
  },
  {
   "cell_type": "code",
   "execution_count": null,
   "metadata": {
    "Collapsed": "false"
   },
   "outputs": [],
   "source": [
    "bg_layer = gp.robust_difference(bg_layers[0], all_polys)"
   ]
  },
  {
   "cell_type": "code",
   "execution_count": null,
   "metadata": {
    "Collapsed": "false"
   },
   "outputs": [],
   "source": [
    "bg_layer"
   ]
  },
  {
   "cell_type": "code",
   "execution_count": null,
   "metadata": {
    "Collapsed": "false"
   },
   "outputs": [],
   "source": []
  },
  {
   "cell_type": "code",
   "execution_count": null,
   "metadata": {
    "Collapsed": "false"
   },
   "outputs": [],
   "source": [
    "sk = vsketch.Vsketch()\n",
    "sk.size(paper.page_format_mm)\n",
    "sk.scale('1mm')\n",
    "sk.penWidth('0.3mm')\n",
    "sk.stroke(1)\n",
    "sk.geometry(bg_layer)\n",
    "sk.stroke(4)\n",
    "sk.geometry(layer1)\n",
    "sk.stroke(5)\n",
    "sk.geometry(layer2)\n",
    "sk.stroke(6)\n",
    "sk.geometry(layer3)\n",
    "sk.penWidth('0.3')\n",
    "for tolerance in [0.1, 0.2, 0.3]:\n",
    "    sk.vpype(f'linemerge --tolerance {tolerance}mm')\n",
    "sk.vpype('linesimplify --tolerance 0.1 linesort')\n",
    "\n",
    "sk.display(color_mode='none')"
   ]
  },
  {
   "cell_type": "code",
   "execution_count": null,
   "metadata": {
    "Collapsed": "false"
   },
   "outputs": [],
   "source": [
    "savepath = '/mnt/c/code/side/plotter_images/oned_outputs/0287_cpack_beams.svg'\n",
    "\n",
    "sk.save(savepath)\n"
   ]
  },
  {
   "cell_type": "markdown",
   "metadata": {
    "Collapsed": "false",
    "toc-hr-collapsed": true,
    "toc-nb-collapsed": true
   },
   "source": [
    "# Try 9"
   ]
  },
  {
   "cell_type": "code",
   "execution_count": null,
   "metadata": {
    "Collapsed": "false"
   },
   "outputs": [],
   "source": [
    "paper_size = '7x5 inches'\n",
    "border:float=10\n",
    "paper = utils.Paper(paper_size)\n",
    "\n",
    "drawbox = paper.get_drawbox(border)\n",
    "buffer_style = 2"
   ]
  },
  {
   "cell_type": "code",
   "execution_count": null,
   "metadata": {
    "Collapsed": "false"
   },
   "outputs": [],
   "source": [
    "xgen = ss.uniform(loc=0.3, scale=0.25).rvs\n",
    "split_func = functools.partial(gp.split_along_longest_side_of_min_rectangle, xgen=xgen)\n",
    "splits = gp.recursive_split_frac_buffer(\n",
    "    drawbox, \n",
    "    split_func=split_func,\n",
    "    p_continue=0.8, \n",
    "    depth=0, \n",
    "    depth_limit=9,\n",
    "    buffer_frac=-0.0\n",
    ")\n",
    "\n",
    "bps = MultiPolygon([p for p in splits])\n",
    "bps"
   ]
  },
  {
   "cell_type": "code",
   "execution_count": null,
   "metadata": {
    "Collapsed": "false"
   },
   "outputs": [],
   "source": [
    "bg_bps_left = [bps]"
   ]
  },
  {
   "cell_type": "code",
   "execution_count": null,
   "metadata": {
    "Collapsed": "false"
   },
   "outputs": [],
   "source": [
    "bg_layers = []\n",
    "for bg_bps in bg_bps_left:\n",
    "    fills = []\n",
    "    for p in bg_bps:\n",
    "        xjitter_func = 0\n",
    "        yjitter_func = ss.norm(loc=0, scale=np.random.uniform(0.2, 1.)).rvs\n",
    "        bhf = gp.BezierHatchFill(\n",
    "            spacing=np.random.uniform(0.12, 0.6),\n",
    "            degrees=np.random.uniform(10, 140),\n",
    "            poly_to_fill=p, \n",
    "            xjitter_func=xjitter_func, \n",
    "            yjitter_func=yjitter_func,\n",
    "            fill_inscribe_buffer=1.4,\n",
    "            n_nodes_per_line=15,\n",
    "            n_eval_points=30,\n",
    "        )\n",
    "        fills.append(bhf.p)\n",
    "\n",
    "    fills = [f for f in fills if f.length > 0]\n",
    "    layer = gp.merge_LineStrings(fills)\n",
    "    bg_layers.append(layer)"
   ]
  },
  {
   "cell_type": "code",
   "execution_count": null,
   "metadata": {
    "Collapsed": "false"
   },
   "outputs": [],
   "source": [
    "sk = vsketch.Vsketch()\n",
    "sk.size(paper.page_format_mm)\n",
    "sk.scale('1mm')\n",
    "sk.penWidth('0.3mm')\n",
    "for i, layer in enumerate(bg_layers):\n",
    "    sk.stroke(i+1)\n",
    "    sk.geometry(layer)\n",
    "\n",
    "sk.penWidth('0.3')\n",
    "# for tolerance in [0.3, 0.6, 1.2]:\n",
    "#     sk.vpype(f'linemerge --tolerance {tolerance}mm')\n",
    "# sk.vpype('linesimplify --tolerance 0.1 linesort')\n",
    "sk.display()"
   ]
  },
  {
   "cell_type": "code",
   "execution_count": null,
   "metadata": {
    "Collapsed": "false"
   },
   "outputs": [],
   "source": [
    "# init\n",
    "rcp = gp.RecursiveCirclePacker(\n",
    "    drawbox, \n",
    "    rad_seq_start=0.6,\n",
    "    rad_seq_end=0.08,\n",
    "    min_allowed_rad=3,\n",
    "    n_rads=10,\n",
    ")\n",
    "rcp.run(1)"
   ]
  },
  {
   "cell_type": "code",
   "execution_count": null,
   "metadata": {
    "Collapsed": "false"
   },
   "outputs": [],
   "source": [
    "rcp.rad_seq_start=0.6\n",
    "rcp.rad_seq_end=0.08\n",
    "rcp.n_rads=80\n",
    "rcp.run(10, progress_bar=True)\n",
    "rcp.unfilled_circles"
   ]
  },
  {
   "cell_type": "markdown",
   "metadata": {
    "Collapsed": "false"
   },
   "source": [
    "## lattice 1"
   ]
  },
  {
   "cell_type": "code",
   "execution_count": null,
   "metadata": {
    "Collapsed": "false"
   },
   "outputs": [],
   "source": [
    "trcp = gp.RecursiveCirclePacker(drawbox.buffer(20), rad_seq_start=0.13,\n",
    "    rad_seq_end=0.13, min_allowed_rad=2, n_rads=10, )\n",
    "trcp.run(1)\n",
    "trcp.min_allowed_rad=5\n",
    "trcp.rad_seq_start=0.29\n",
    "trcp.rad_seq_end=0.18\n",
    "trcp.run(3)\n",
    "\n",
    "length_filter_gen = ss.uniform(96, 185).rvs\n",
    "buffer_size_gen = ss.uniform(1.1, 2.).rvs\n",
    "tri_vertices = MultiPoint([c.centroid for c in trcp.unfilled_circles])\n",
    "trils = MultiLineString(so.triangulate(tri_vertices, edges=True))\n",
    "\n",
    "filt_trils = MultiLineString([l for l in trils if l.length<length_filter_gen()])\n",
    "tris = [f.buffer(buffer_size_gen(), cap_style=2, join_style=3) for f in filt_trils]\n",
    "tris = so.unary_union(tris)\n",
    "tris"
   ]
  },
  {
   "cell_type": "code",
   "execution_count": null,
   "metadata": {
    "Collapsed": "false"
   },
   "outputs": [],
   "source": [
    "occluded_tris = tris.intersection(rcp.unfilled_circles).buffer(-1e-6)"
   ]
  },
  {
   "cell_type": "code",
   "execution_count": null,
   "metadata": {
    "Collapsed": "false"
   },
   "outputs": [],
   "source": [
    "stp = gp.ScaleTransPrms(d_buffer=-0.19,angles=-45,)\n",
    "stp.d_buffers += np.random.uniform(-0.06, 0.12, size=stp.d_buffers.shape)"
   ]
  },
  {
   "cell_type": "code",
   "execution_count": null,
   "metadata": {
    "Collapsed": "false"
   },
   "outputs": [],
   "source": [
    "fills = []\n",
    "for p in occluded_tris:\n",
    "    P = gp.Poly(p)\n",
    "    P.fill_scale_trans(**stp.prms)\n",
    "    fills.append(P.fill)"
   ]
  },
  {
   "cell_type": "code",
   "execution_count": null,
   "metadata": {
    "Collapsed": "false"
   },
   "outputs": [],
   "source": [
    "layer1 = gp.merge_LineStrings(fills)"
   ]
  },
  {
   "cell_type": "code",
   "execution_count": null,
   "metadata": {
    "Collapsed": "false"
   },
   "outputs": [],
   "source": [
    "all_polys = occluded_tris"
   ]
  },
  {
   "cell_type": "markdown",
   "metadata": {
    "Collapsed": "false"
   },
   "source": [
    "## lattice 2"
   ]
  },
  {
   "cell_type": "code",
   "execution_count": null,
   "metadata": {
    "Collapsed": "false"
   },
   "outputs": [],
   "source": [
    "trcp = gp.RecursiveCirclePacker(drawbox.buffer(20), rad_seq_start=0.16,\n",
    "    rad_seq_end=0.16, min_allowed_rad=2, n_rads=10, )\n",
    "trcp.run(1)\n",
    "trcp.min_allowed_rad=5\n",
    "trcp.rad_seq_start=0.3\n",
    "trcp.rad_seq_end=0.3\n",
    "trcp.run(4)\n",
    "\n",
    "length_filter_gen = ss.uniform(96, 185).rvs\n",
    "buffer_size_gen = ss.uniform(1.1, 1.7).rvs\n",
    "tri_vertices = MultiPoint([c.centroid for c in trcp.unfilled_circles])\n",
    "trils = MultiLineString(so.triangulate(tri_vertices, edges=True))\n",
    "\n",
    "filt_trils = MultiLineString([l for l in trils if l.length<length_filter_gen()])\n",
    "tris = [f.buffer(buffer_size_gen(), cap_style=2, join_style=3) for f in filt_trils]\n",
    "tris = so.unary_union(tris)\n",
    "tris"
   ]
  },
  {
   "cell_type": "code",
   "execution_count": null,
   "metadata": {
    "Collapsed": "false"
   },
   "outputs": [],
   "source": [
    "int_tris = tris.intersection(rcp.unfilled_circles)"
   ]
  },
  {
   "cell_type": "code",
   "execution_count": null,
   "metadata": {
    "Collapsed": "false"
   },
   "outputs": [],
   "source": [
    "occluded_tris = gp.robust_difference(int_tris, all_polys, buffer_distance=-1e-6)"
   ]
  },
  {
   "cell_type": "code",
   "execution_count": null,
   "metadata": {
    "Collapsed": "false"
   },
   "outputs": [],
   "source": [
    "stp = gp.ScaleTransPrms(d_buffer=-0.28,angles=-45,)\n",
    "stp.d_buffers += np.random.uniform(-0.08, 0.08, size=stp.d_buffers.shape)"
   ]
  },
  {
   "cell_type": "code",
   "execution_count": null,
   "metadata": {
    "Collapsed": "false"
   },
   "outputs": [],
   "source": [
    "fills = []\n",
    "for p in occluded_tris:\n",
    "    P = gp.Poly(p)\n",
    "    P.fill_scale_trans(**stp.prms)\n",
    "    fills.append(P.fill)"
   ]
  },
  {
   "cell_type": "code",
   "execution_count": null,
   "metadata": {
    "Collapsed": "false"
   },
   "outputs": [],
   "source": [
    "layer2 = gp.merge_LineStrings(fills)"
   ]
  },
  {
   "cell_type": "code",
   "execution_count": null,
   "metadata": {
    "Collapsed": "false"
   },
   "outputs": [],
   "source": [
    "all_polys = so.unary_union([all_polys, occluded_tris]).buffer(-1e-6)"
   ]
  },
  {
   "cell_type": "markdown",
   "metadata": {
    "Collapsed": "false"
   },
   "source": [
    "## lattice3"
   ]
  },
  {
   "cell_type": "code",
   "execution_count": null,
   "metadata": {
    "Collapsed": "false"
   },
   "outputs": [],
   "source": [
    "trcp = gp.RecursiveCirclePacker(drawbox.buffer(10), rad_seq_start=0.15,\n",
    "    rad_seq_end=0.15, min_allowed_rad=2, n_rads=10, )\n",
    "trcp.run(1)\n",
    "trcp.min_allowed_rad=5\n",
    "trcp.rad_seq_start=0.2\n",
    "trcp.rad_seq_end=0.2\n",
    "trcp.run(1)"
   ]
  },
  {
   "cell_type": "code",
   "execution_count": null,
   "metadata": {
    "Collapsed": "false"
   },
   "outputs": [],
   "source": [
    "length_filter_gen = ss.uniform(96, 185).rvs\n",
    "buffer_size_gen = ss.uniform(0.4, 0.8).rvs\n",
    "tri_vertices = MultiPoint([c.centroid for c in trcp.unfilled_circles])\n",
    "trils = MultiLineString(so.triangulate(tri_vertices, edges=True))\n",
    "\n",
    "filt_trils = MultiLineString([l for l in trils if l.length<length_filter_gen()])\n",
    "tris = [f.buffer(buffer_size_gen(), cap_style=2, join_style=3) for f in filt_trils]\n",
    "tris = so.unary_union(tris)"
   ]
  },
  {
   "cell_type": "code",
   "execution_count": null,
   "metadata": {
    "Collapsed": "false"
   },
   "outputs": [],
   "source": [
    "int_tris = tris.intersection(rcp.unfilled_circles)\n",
    "occluded_tris = gp.robust_difference(int_tris, all_polys, buffer_distance=-1e-6)"
   ]
  },
  {
   "cell_type": "code",
   "execution_count": null,
   "metadata": {
    "Collapsed": "false"
   },
   "outputs": [],
   "source": [
    "stp = gp.ScaleTransPrms(d_buffer=-0.38,angles=-45,)\n",
    "stp.d_buffers += np.random.uniform(-0.09, 0.09, size=stp.d_buffers.shape)"
   ]
  },
  {
   "cell_type": "code",
   "execution_count": null,
   "metadata": {
    "Collapsed": "false"
   },
   "outputs": [],
   "source": [
    "fills = []\n",
    "for p in occluded_tris:\n",
    "    P = gp.Poly(p)\n",
    "    P.fill_scale_trans(**stp.prms)\n",
    "    fills.append(P.fill)"
   ]
  },
  {
   "cell_type": "code",
   "execution_count": null,
   "metadata": {
    "Collapsed": "false"
   },
   "outputs": [],
   "source": [
    "layer3 = gp.merge_LineStrings(fills)"
   ]
  },
  {
   "cell_type": "code",
   "execution_count": null,
   "metadata": {
    "Collapsed": "false"
   },
   "outputs": [],
   "source": [
    "all_polys = gp.merge_Polygons([all_polys, occluded_tris])"
   ]
  },
  {
   "cell_type": "code",
   "execution_count": null,
   "metadata": {
    "Collapsed": "false",
    "jupyter": {
     "outputs_hidden": true
    }
   },
   "outputs": [],
   "source": [
    "bg_layer = gp.robust_difference(bg_layers[0], all_polys)"
   ]
  },
  {
   "cell_type": "code",
   "execution_count": null,
   "metadata": {
    "Collapsed": "false"
   },
   "outputs": [],
   "source": [
    "sk = vsketch.Vsketch()\n",
    "sk.size(paper.page_format_mm)\n",
    "sk.scale('1mm')\n",
    "sk.penWidth('0.3mm')\n",
    "sk.stroke(1)\n",
    "sk.geometry(bg_layer)\n",
    "sk.stroke(1)\n",
    "sk.geometry(layer1)\n",
    "sk.stroke(1)\n",
    "sk.geometry(layer2)\n",
    "sk.stroke(1)\n",
    "sk.geometry(layer3)\n",
    "sk.penWidth('0.3')\n",
    "sk.vpype('splitall')\n",
    "# for tolerance in [0.2,]:\n",
    "#     sk.vpype(f'linemerge --tolerance {tolerance}mm linesimplify --tolerance 0.1')\n",
    "sk.vpype('linesimplify --tolerance 0.1 linesort')\n",
    "\n",
    "sk.display(color_mode='none')"
   ]
  },
  {
   "cell_type": "code",
   "execution_count": null,
   "metadata": {
    "Collapsed": "false"
   },
   "outputs": [],
   "source": [
    "savepath = '/mnt/c/code/side/plotter_images/oned_outputs/0293_cpack_beams.svg'\n",
    "\n",
    "sk.save(savepath)\n"
   ]
  },
  {
   "cell_type": "markdown",
   "metadata": {
    "Collapsed": "false"
   },
   "source": [
    "# Try 10"
   ]
  },
  {
   "cell_type": "code",
   "execution_count": null,
   "metadata": {
    "Collapsed": "false"
   },
   "outputs": [],
   "source": [
    "paper_size = '7x5 inches'\n",
    "border:float=10\n",
    "paper = utils.Paper(paper_size)\n",
    "\n",
    "drawbox = paper.get_drawbox(border)\n",
    "buffer_style = 2"
   ]
  },
  {
   "cell_type": "code",
   "execution_count": null,
   "metadata": {
    "Collapsed": "false"
   },
   "outputs": [],
   "source": [
    "xgen = ss.uniform(loc=0.35, scale=0.25).rvs\n",
    "split_func = functools.partial(gp.split_along_longest_side_of_min_rectangle, xgen=xgen)\n",
    "splits = gp.recursive_split_frac_buffer(\n",
    "    drawbox, \n",
    "    split_func=split_func,\n",
    "    p_continue=0.8, \n",
    "    depth=0, \n",
    "    depth_limit=7,\n",
    "    buffer_frac=-0.0\n",
    ")\n",
    "\n",
    "bps = MultiPolygon([p for p in splits])\n",
    "bps\n"
   ]
  },
  {
   "cell_type": "code",
   "execution_count": null,
   "metadata": {
    "Collapsed": "false"
   },
   "outputs": [],
   "source": [
    "bg_bps_left = [bps]"
   ]
  },
  {
   "cell_type": "code",
   "execution_count": null,
   "metadata": {
    "Collapsed": "false"
   },
   "outputs": [],
   "source": [
    "bg_layers = []\n",
    "for bg_bps in bg_bps_left:\n",
    "    fills = []\n",
    "    for p in bg_bps:\n",
    "        xjitter_func = 0\n",
    "        yjitter_func = ss.norm(loc=0, scale=np.random.uniform(0.15, 0.8)).rvs\n",
    "        bhf = gp.BezierHatchFill(\n",
    "            spacing=np.random.uniform(0.3, 0.45),\n",
    "            degrees=np.random.uniform(10, 170),\n",
    "            poly_to_fill=p, \n",
    "            xjitter_func=xjitter_func, \n",
    "            yjitter_func=yjitter_func,\n",
    "            fill_inscribe_buffer=1.2,\n",
    "            n_nodes_per_line=15,\n",
    "            n_eval_points=40,\n",
    "        )\n",
    "        fills.append(bhf.p)\n",
    "\n",
    "    fills = [f for f in fills if f.length > 0]\n",
    "    layer = gp.merge_LineStrings(fills)\n",
    "    bg_layers.append(layer)"
   ]
  },
  {
   "cell_type": "code",
   "execution_count": null,
   "metadata": {
    "Collapsed": "false"
   },
   "outputs": [],
   "source": [
    "sk = vsketch.Vsketch()\n",
    "sk.size(paper.page_format_mm)\n",
    "sk.scale('1mm')\n",
    "sk.penWidth('0.3mm')\n",
    "for i, layer in enumerate(bg_layers):\n",
    "    sk.stroke(i+1)\n",
    "    sk.geometry(layer)\n",
    "\n",
    "sk.penWidth('0.3')\n",
    "# for tolerance in [0.3, 0.6, 1.2]:\n",
    "#     sk.vpype(f'linemerge --tolerance {tolerance}mm')\n",
    "# sk.vpype('linesimplify --tolerance 0.1 linesort')\n",
    "sk.display()"
   ]
  },
  {
   "cell_type": "code",
   "execution_count": null,
   "metadata": {
    "Collapsed": "false"
   },
   "outputs": [],
   "source": [
    "# init\n",
    "rcp = gp.RecursiveCirclePacker(\n",
    "    drawbox, \n",
    "    rad_seq_start=0.55,\n",
    "    rad_seq_end=0.09,\n",
    "    min_allowed_rad=10,\n",
    "    n_rads=20,\n",
    ")\n",
    "rcp.run(1)"
   ]
  },
  {
   "cell_type": "code",
   "execution_count": null,
   "metadata": {
    "Collapsed": "false"
   },
   "outputs": [],
   "source": [
    "rcp.rad_seq_start=0.4\n",
    "rcp.rad_seq_end=0.1\n",
    "rcp.n_rads=80\n",
    "rcp.run(4, progress_bar=True)\n",
    "rcp.unfilled_circles"
   ]
  },
  {
   "cell_type": "markdown",
   "metadata": {
    "Collapsed": "false"
   },
   "source": [
    "## lattice 1"
   ]
  },
  {
   "cell_type": "code",
   "execution_count": null,
   "metadata": {
    "Collapsed": "false"
   },
   "outputs": [],
   "source": [
    "trcp = gp.RecursiveCirclePacker(drawbox.buffer(20), rad_seq_start=0.13,\n",
    "    rad_seq_end=0.13, min_allowed_rad=4, n_rads=10, )\n",
    "trcp.run(1)\n",
    "trcp.min_allowed_rad=5\n",
    "trcp.rad_seq_start=0.29\n",
    "trcp.rad_seq_end=0.18\n",
    "trcp.run(3)\n",
    "\n",
    "length_filter_gen = ss.uniform(96, 185).rvs\n",
    "buffer_size_gen = ss.uniform(0.8, 1.7).rvs\n",
    "tri_vertices = MultiPoint([c.centroid for c in trcp.unfilled_circles])\n",
    "trils = MultiLineString(so.triangulate(tri_vertices, edges=True))\n",
    "\n",
    "filt_trils = MultiLineString([l for l in trils if l.length<length_filter_gen()])\n",
    "tris = [f.buffer(buffer_size_gen(), cap_style=2, join_style=3) for f in filt_trils]\n",
    "tris = so.unary_union(tris)\n",
    "tris"
   ]
  },
  {
   "cell_type": "code",
   "execution_count": null,
   "metadata": {
    "Collapsed": "false"
   },
   "outputs": [],
   "source": [
    "occluded_tris = tris.intersection(rcp.unfilled_circles)"
   ]
  },
  {
   "cell_type": "code",
   "execution_count": null,
   "metadata": {
    "Collapsed": "false"
   },
   "outputs": [],
   "source": [
    "stp = gp.ScaleTransPrms(d_buffer=-0.25,angles=-45,)\n",
    "stp.d_buffers += np.random.uniform(-0.03, 0.03, size=stp.d_buffers.shape)"
   ]
  },
  {
   "cell_type": "code",
   "execution_count": null,
   "metadata": {
    "Collapsed": "false"
   },
   "outputs": [],
   "source": [
    "fills = []\n",
    "for p in occluded_tris:\n",
    "    P = gp.Poly(p)\n",
    "    P.fill_scale_trans(**stp.prms)\n",
    "    fills.append(P.fill)"
   ]
  },
  {
   "cell_type": "code",
   "execution_count": null,
   "metadata": {
    "Collapsed": "false"
   },
   "outputs": [],
   "source": [
    "layer1 = gp.merge_LineStrings(fills)"
   ]
  },
  {
   "cell_type": "code",
   "execution_count": null,
   "metadata": {
    "Collapsed": "false"
   },
   "outputs": [],
   "source": [
    "all_polys = occluded_tris"
   ]
  },
  {
   "cell_type": "markdown",
   "metadata": {
    "Collapsed": "false"
   },
   "source": [
    "## lattice 2"
   ]
  },
  {
   "cell_type": "code",
   "execution_count": null,
   "metadata": {
    "Collapsed": "false"
   },
   "outputs": [],
   "source": [
    "trcp = gp.RecursiveCirclePacker(drawbox.buffer(20), rad_seq_start=0.16,\n",
    "    rad_seq_end=0.16, min_allowed_rad=2, n_rads=10, )\n",
    "trcp.run(1)\n",
    "trcp.min_allowed_rad=5\n",
    "trcp.rad_seq_start=0.3\n",
    "trcp.rad_seq_end=0.3\n",
    "trcp.run(4)\n",
    "\n",
    "length_filter_gen = ss.uniform(96, 185).rvs\n",
    "buffer_size_gen = ss.uniform(1.1, 1.7).rvs\n",
    "tri_vertices = MultiPoint([c.centroid for c in trcp.unfilled_circles])\n",
    "trils = MultiLineString(so.triangulate(tri_vertices, edges=True))\n",
    "\n",
    "filt_trils = MultiLineString([l for l in trils if l.length<length_filter_gen()])\n",
    "tris = [f.buffer(buffer_size_gen(), cap_style=2, join_style=3) for f in filt_trils]\n",
    "tris = so.unary_union(tris)\n",
    "tris"
   ]
  },
  {
   "cell_type": "code",
   "execution_count": null,
   "metadata": {
    "Collapsed": "false"
   },
   "outputs": [],
   "source": [
    "int_tris = tris.intersection(rcp.unfilled_circles).buffer(0.5)"
   ]
  },
  {
   "cell_type": "code",
   "execution_count": null,
   "metadata": {
    "Collapsed": "false"
   },
   "outputs": [],
   "source": [
    "occluded_tris = gp.robust_difference(int_tris, all_polys, buffer_distance=-1e-6)"
   ]
  },
  {
   "cell_type": "code",
   "execution_count": null,
   "metadata": {
    "Collapsed": "false"
   },
   "outputs": [],
   "source": [
    "stp = gp.ScaleTransPrms(d_buffer=-0.3,angles=-45,)\n",
    "stp.d_buffers += np.random.uniform(-0.03, 0.03, size=stp.d_buffers.shape)"
   ]
  },
  {
   "cell_type": "code",
   "execution_count": null,
   "metadata": {
    "Collapsed": "false"
   },
   "outputs": [],
   "source": [
    "fills = []\n",
    "for p in occluded_tris:\n",
    "    P = gp.Poly(p)\n",
    "    P.fill_scale_trans(**stp.prms)\n",
    "    fills.append(P.fill)"
   ]
  },
  {
   "cell_type": "code",
   "execution_count": null,
   "metadata": {
    "Collapsed": "false"
   },
   "outputs": [],
   "source": [
    "layer2 = gp.merge_LineStrings(fills)"
   ]
  },
  {
   "cell_type": "code",
   "execution_count": null,
   "metadata": {
    "Collapsed": "false"
   },
   "outputs": [],
   "source": [
    "all_polys = so.unary_union([all_polys, occluded_tris])"
   ]
  },
  {
   "cell_type": "markdown",
   "metadata": {
    "Collapsed": "false"
   },
   "source": [
    "## lattice3"
   ]
  },
  {
   "cell_type": "code",
   "execution_count": null,
   "metadata": {
    "Collapsed": "false"
   },
   "outputs": [],
   "source": [
    "trcp = gp.RecursiveCirclePacker(drawbox.buffer(10), rad_seq_start=0.15,\n",
    "    rad_seq_end=0.15, min_allowed_rad=2, n_rads=10, )\n",
    "trcp.run(1)\n",
    "trcp.min_allowed_rad=5\n",
    "trcp.rad_seq_start=0.2\n",
    "trcp.rad_seq_end=0.2\n",
    "trcp.run(1)"
   ]
  },
  {
   "cell_type": "code",
   "execution_count": null,
   "metadata": {
    "Collapsed": "false"
   },
   "outputs": [],
   "source": [
    "length_filter_gen = ss.uniform(96, 185).rvs\n",
    "buffer_size_gen = ss.uniform(0.4, 1.2).rvs\n",
    "tri_vertices = MultiPoint([c.centroid for c in trcp.unfilled_circles])\n",
    "trils = MultiLineString(so.triangulate(tri_vertices, edges=True))\n",
    "\n",
    "filt_trils = MultiLineString([l for l in trils if l.length<length_filter_gen()])\n",
    "tris = [f.buffer(buffer_size_gen(), cap_style=2, join_style=3) for f in filt_trils]\n",
    "tris = so.unary_union(tris)"
   ]
  },
  {
   "cell_type": "code",
   "execution_count": null,
   "metadata": {
    "Collapsed": "false"
   },
   "outputs": [],
   "source": [
    "int_tris = tris.intersection(rcp.unfilled_circles).buffer(2.3)\n",
    "occluded_tris = gp.robust_difference(int_tris, all_polys, buffer_distance=-1e-6)"
   ]
  },
  {
   "cell_type": "code",
   "execution_count": null,
   "metadata": {
    "Collapsed": "false"
   },
   "outputs": [],
   "source": [
    "stp = gp.ScaleTransPrms(d_buffer=-0.38,angles=-45,)\n",
    "stp.d_buffers += np.random.uniform(-0.03, 0.03, size=stp.d_buffers.shape)"
   ]
  },
  {
   "cell_type": "code",
   "execution_count": null,
   "metadata": {
    "Collapsed": "false"
   },
   "outputs": [],
   "source": [
    "fills = []\n",
    "for p in occluded_tris:\n",
    "    P = gp.Poly(p)\n",
    "    P.fill_scale_trans(**stp.prms)\n",
    "    fills.append(P.fill)"
   ]
  },
  {
   "cell_type": "code",
   "execution_count": null,
   "metadata": {
    "Collapsed": "false"
   },
   "outputs": [],
   "source": [
    "layer3 = gp.merge_LineStrings(fills)"
   ]
  },
  {
   "cell_type": "code",
   "execution_count": null,
   "metadata": {
    "Collapsed": "false"
   },
   "outputs": [],
   "source": [
    "all_polys = gp.merge_Polygons([all_polys, occluded_tris])"
   ]
  },
  {
   "cell_type": "code",
   "execution_count": null,
   "metadata": {
    "Collapsed": "false"
   },
   "outputs": [],
   "source": [
    "mbg = gp.merge_LineStrings([l for l in bg_layers[0] if l.length>0.05])"
   ]
  },
  {
   "cell_type": "code",
   "execution_count": null,
   "metadata": {
    "Collapsed": "false"
   },
   "outputs": [],
   "source": [
    "bg_layer = gp.robust_difference(mbg, all_polys.buffer(1e-6))"
   ]
  },
  {
   "cell_type": "code",
   "execution_count": null,
   "metadata": {
    "Collapsed": "false"
   },
   "outputs": [],
   "source": [
    "sk = vsketch.Vsketch()\n",
    "sk.size(paper.page_format_mm)\n",
    "sk.scale('1mm')\n",
    "sk.penWidth('0.3mm')\n",
    "sk.stroke(1)\n",
    "sk.geometry(bg_layer)\n",
    "for tolerance in [0.1, 0.2, 0.4, 0.8]:\n",
    "    sk.vpype(f'linemerge --tolerance {tolerance}mm')\n",
    "sk.display(color_mode='none')"
   ]
  },
  {
   "cell_type": "code",
   "execution_count": null,
   "metadata": {
    "Collapsed": "false"
   },
   "outputs": [],
   "source": [
    "sk.stroke(2)\n",
    "sk.geometry(layer1)\n",
    "sk.stroke(3)\n",
    "sk.geometry(layer2)\n",
    "sk.stroke(4)\n",
    "sk.geometry(layer3)\n",
    "sk.penWidth('0.3')\n",
    "\n",
    "# tolerance=0.1\n",
    "# sk.vpype(f'linesimplify --tolerance {tolerance}')\n",
    "# for tolerance in [0.1, 0.2, 0.4]:\n",
    "#     sk.vpype(f'linemerge --tolerance {tolerance}mm')\n",
    "sk.display(color_mode='none')"
   ]
  },
  {
   "cell_type": "code",
   "execution_count": null,
   "metadata": {
    "Collapsed": "false"
   },
   "outputs": [],
   "source": [
    "savepath = '/mnt/c/code/side/plotter_images/oned_outputs/0301_cpack_beams.svg'\n",
    "\n",
    "sk.save(savepath)\n"
   ]
  },
  {
   "cell_type": "code",
   "execution_count": null,
   "metadata": {
    "Collapsed": "false"
   },
   "outputs": [],
   "source": []
  },
  {
   "cell_type": "markdown",
   "metadata": {
    "Collapsed": "false"
   },
   "source": [
    "# Try 11"
   ]
  },
  {
   "cell_type": "code",
   "execution_count": null,
   "metadata": {
    "Collapsed": "false"
   },
   "outputs": [],
   "source": [
    "paper_size = '7x5 inches'\n",
    "border:float=10\n",
    "paper = utils.Paper(paper_size)\n",
    "\n",
    "drawbox = paper.get_drawbox(border)\n",
    "buffer_style = 2"
   ]
  },
  {
   "cell_type": "code",
   "execution_count": null,
   "metadata": {
    "Collapsed": "false"
   },
   "outputs": [],
   "source": [
    "xgen = ss.uniform(loc=0.35, scale=0.25).rvs\n",
    "split_func = functools.partial(gp.split_along_longest_side_of_min_rectangle, xgen=xgen)\n",
    "splits = gp.recursive_split_frac_buffer(\n",
    "    drawbox, \n",
    "    split_func=split_func,\n",
    "    p_continue=0.8, \n",
    "    depth=0, \n",
    "    depth_limit=7,\n",
    "    buffer_frac=-0.0\n",
    ")\n",
    "\n",
    "bps = MultiPolygon([p for p in splits])\n",
    "bps\n"
   ]
  },
  {
   "cell_type": "code",
   "execution_count": null,
   "metadata": {
    "Collapsed": "false"
   },
   "outputs": [],
   "source": [
    "bg_bps_left = [bps]"
   ]
  },
  {
   "cell_type": "code",
   "execution_count": null,
   "metadata": {
    "Collapsed": "false"
   },
   "outputs": [],
   "source": [
    "bg_layers = []\n",
    "for bg_bps in bg_bps_left:\n",
    "    fills = []\n",
    "    for p in bg_bps:\n",
    "        xjitter_func = 0\n",
    "        yjitter_func = ss.norm(loc=0, scale=np.random.uniform(0.15, 0.8)).rvs\n",
    "        bhf = gp.BezierHatchFill(\n",
    "            spacing=np.random.uniform(0.3, 0.45),\n",
    "            degrees=np.random.uniform(10, 170),\n",
    "            poly_to_fill=p, \n",
    "            xjitter_func=xjitter_func, \n",
    "            yjitter_func=yjitter_func,\n",
    "            fill_inscribe_buffer=1.2,\n",
    "            n_nodes_per_line=15,\n",
    "            n_eval_points=40,\n",
    "        )\n",
    "        fills.append(bhf.p)\n",
    "\n",
    "    fills = [f for f in fills if f.length > 0]\n",
    "    layer = gp.merge_LineStrings(fills)\n",
    "    bg_layers.append(layer)"
   ]
  },
  {
   "cell_type": "code",
   "execution_count": null,
   "metadata": {
    "Collapsed": "false"
   },
   "outputs": [],
   "source": [
    "sk = vsketch.Vsketch()\n",
    "sk.size(paper.page_format_mm)\n",
    "sk.scale('1mm')\n",
    "sk.penWidth('0.3mm')\n",
    "for i, layer in enumerate(bg_layers):\n",
    "    sk.stroke(i+1)\n",
    "    sk.geometry(layer)\n",
    "\n",
    "sk.penWidth('0.3')\n",
    "# for tolerance in [0.3, 0.6, 1.2]:\n",
    "#     sk.vpype(f'linemerge --tolerance {tolerance}mm')\n",
    "# sk.vpype('linesimplify --tolerance 0.1 linesort')\n",
    "sk.display()"
   ]
  },
  {
   "cell_type": "code",
   "execution_count": null,
   "metadata": {
    "Collapsed": "false"
   },
   "outputs": [],
   "source": [
    "# init\n",
    "rcp = gp.RecursiveCirclePacker(\n",
    "    drawbox, \n",
    "    rad_seq_start=0.6,\n",
    "    rad_seq_end=0.09,\n",
    "    min_allowed_rad=10,\n",
    "    n_rads=20,\n",
    ")\n",
    "rcp.run(1)"
   ]
  },
  {
   "cell_type": "code",
   "execution_count": null,
   "metadata": {
    "Collapsed": "false"
   },
   "outputs": [],
   "source": [
    "rcp.rad_seq_start=0.55\n",
    "rcp.rad_seq_end=0.1\n",
    "rcp.n_rads=80\n",
    "rcp.run(4, progress_bar=True)\n",
    "rcp.unfilled_circles"
   ]
  },
  {
   "cell_type": "markdown",
   "metadata": {
    "Collapsed": "false"
   },
   "source": [
    "## lattice 1"
   ]
  },
  {
   "cell_type": "code",
   "execution_count": null,
   "metadata": {
    "Collapsed": "false"
   },
   "outputs": [],
   "source": [
    "trcp = gp.RecursiveCirclePacker(drawbox.buffer(20), rad_seq_start=0.13,\n",
    "    rad_seq_end=0.13, min_allowed_rad=4, n_rads=10, )\n",
    "trcp.run(1)\n",
    "trcp.min_allowed_rad=5\n",
    "trcp.rad_seq_start=0.29\n",
    "trcp.rad_seq_end=0.18\n",
    "trcp.run(3)\n",
    "\n",
    "length_filter_gen = ss.uniform(96, 185).rvs\n",
    "buffer_size_gen = ss.uniform(0.8, 1.7).rvs\n",
    "tri_vertices = MultiPoint([c.centroid for c in trcp.unfilled_circles])\n",
    "trils = MultiLineString(so.triangulate(tri_vertices, edges=True))\n",
    "\n",
    "filt_trils = MultiLineString([l for l in trils if l.length<length_filter_gen()])\n",
    "tris = [f.buffer(buffer_size_gen(), cap_style=2, join_style=3) for f in filt_trils]\n",
    "tris = so.unary_union(tris)\n",
    "tris"
   ]
  },
  {
   "cell_type": "code",
   "execution_count": null,
   "metadata": {
    "Collapsed": "false"
   },
   "outputs": [],
   "source": [
    "occluded_tris = tris.intersection(rcp.unfilled_circles)"
   ]
  },
  {
   "cell_type": "code",
   "execution_count": null,
   "metadata": {
    "Collapsed": "false"
   },
   "outputs": [],
   "source": [
    "stp = gp.ScaleTransPrms(d_buffer=-0.2,angles=-45, d_translate_factor=0.65)\n",
    "stp.d_buffers += np.random.uniform(-0.03, 0.03, size=stp.d_buffers.shape)"
   ]
  },
  {
   "cell_type": "code",
   "execution_count": null,
   "metadata": {
    "Collapsed": "false"
   },
   "outputs": [],
   "source": [
    "fills = []\n",
    "for p in occluded_tris:\n",
    "    P = gp.Poly(p)\n",
    "    P.fill_scale_trans(**stp.prms)\n",
    "    fills.append(P.fill)"
   ]
  },
  {
   "cell_type": "code",
   "execution_count": null,
   "metadata": {
    "Collapsed": "false"
   },
   "outputs": [],
   "source": [
    "layer1 = gp.merge_LineStrings(fills)"
   ]
  },
  {
   "cell_type": "code",
   "execution_count": null,
   "metadata": {
    "Collapsed": "false"
   },
   "outputs": [],
   "source": [
    "all_polys = occluded_tris"
   ]
  },
  {
   "cell_type": "markdown",
   "metadata": {
    "Collapsed": "false"
   },
   "source": [
    "## lattice 2"
   ]
  },
  {
   "cell_type": "code",
   "execution_count": null,
   "metadata": {
    "Collapsed": "false"
   },
   "outputs": [],
   "source": [
    "trcp = gp.RecursiveCirclePacker(drawbox.buffer(20), rad_seq_start=0.16,\n",
    "    rad_seq_end=0.16, min_allowed_rad=2, n_rads=10, )\n",
    "trcp.run(1)\n",
    "trcp.min_allowed_rad=5\n",
    "trcp.rad_seq_start=0.3\n",
    "trcp.rad_seq_end=0.3\n",
    "trcp.run(4)\n",
    "\n",
    "length_filter_gen = ss.uniform(96, 185).rvs\n",
    "buffer_size_gen = ss.uniform(1.1, 1.7).rvs\n",
    "tri_vertices = MultiPoint([c.centroid for c in trcp.unfilled_circles])\n",
    "trils = MultiLineString(so.triangulate(tri_vertices, edges=True))\n",
    "\n",
    "filt_trils = MultiLineString([l for l in trils if l.length<length_filter_gen()])\n",
    "tris = [f.buffer(buffer_size_gen(), cap_style=2, join_style=3) for f in filt_trils]\n",
    "tris = so.unary_union(tris)\n",
    "tris"
   ]
  },
  {
   "cell_type": "code",
   "execution_count": null,
   "metadata": {
    "Collapsed": "false"
   },
   "outputs": [],
   "source": [
    "int_tris = tris.intersection(rcp.unfilled_circles).buffer(0.5)"
   ]
  },
  {
   "cell_type": "code",
   "execution_count": null,
   "metadata": {
    "Collapsed": "false"
   },
   "outputs": [],
   "source": [
    "occluded_tris = gp.robust_difference(int_tris, all_polys, buffer_distance=-1e-6)"
   ]
  },
  {
   "cell_type": "code",
   "execution_count": null,
   "metadata": {
    "Collapsed": "false"
   },
   "outputs": [],
   "source": [
    "stp = gp.ScaleTransPrms(d_buffer=-0.25,angles=-45,d_translate_factor=0.65)\n",
    "stp.d_buffers += np.random.uniform(-0.03, 0.03, size=stp.d_buffers.shape)"
   ]
  },
  {
   "cell_type": "code",
   "execution_count": null,
   "metadata": {
    "Collapsed": "false"
   },
   "outputs": [],
   "source": [
    "fills = []\n",
    "for p in occluded_tris:\n",
    "    P = gp.Poly(p)\n",
    "    P.fill_scale_trans(**stp.prms)\n",
    "    fills.append(P.fill)"
   ]
  },
  {
   "cell_type": "code",
   "execution_count": null,
   "metadata": {
    "Collapsed": "false"
   },
   "outputs": [],
   "source": [
    "layer2 = gp.merge_LineStrings(fills)"
   ]
  },
  {
   "cell_type": "code",
   "execution_count": null,
   "metadata": {
    "Collapsed": "false"
   },
   "outputs": [],
   "source": [
    "all_polys = so.unary_union([all_polys, occluded_tris])"
   ]
  },
  {
   "cell_type": "markdown",
   "metadata": {
    "Collapsed": "false"
   },
   "source": [
    "## lattice3"
   ]
  },
  {
   "cell_type": "code",
   "execution_count": null,
   "metadata": {
    "Collapsed": "false"
   },
   "outputs": [],
   "source": [
    "trcp = gp.RecursiveCirclePacker(drawbox.buffer(10), rad_seq_start=0.15,\n",
    "    rad_seq_end=0.15, min_allowed_rad=2, n_rads=10, )\n",
    "trcp.run(1)\n",
    "trcp.min_allowed_rad=5\n",
    "trcp.rad_seq_start=0.2\n",
    "trcp.rad_seq_end=0.2\n",
    "trcp.run(1)"
   ]
  },
  {
   "cell_type": "code",
   "execution_count": null,
   "metadata": {
    "Collapsed": "false"
   },
   "outputs": [],
   "source": [
    "length_filter_gen = ss.uniform(96, 185).rvs\n",
    "buffer_size_gen = ss.uniform(0.4, 1.2).rvs\n",
    "tri_vertices = MultiPoint([c.centroid for c in trcp.unfilled_circles])\n",
    "trils = MultiLineString(so.triangulate(tri_vertices, edges=True))\n",
    "\n",
    "filt_trils = MultiLineString([l for l in trils if l.length<length_filter_gen()])\n",
    "tris = [f.buffer(buffer_size_gen(), cap_style=2, join_style=3) for f in filt_trils]\n",
    "tris = so.unary_union(tris)"
   ]
  },
  {
   "cell_type": "code",
   "execution_count": null,
   "metadata": {
    "Collapsed": "false"
   },
   "outputs": [],
   "source": [
    "int_tris = tris.intersection(rcp.unfilled_circles).buffer(5.3)\n",
    "occluded_tris = gp.robust_difference(int_tris, all_polys, buffer_distance=-1e-6)"
   ]
  },
  {
   "cell_type": "code",
   "execution_count": null,
   "metadata": {
    "Collapsed": "false"
   },
   "outputs": [],
   "source": [
    "stp = gp.ScaleTransPrms(d_buffer=-0.3,angles=-45,d_translate_factor=0.65)\n",
    "stp.d_buffers += np.random.uniform(-0.03, 0.03, size=stp.d_buffers.shape)"
   ]
  },
  {
   "cell_type": "code",
   "execution_count": null,
   "metadata": {
    "Collapsed": "false"
   },
   "outputs": [],
   "source": [
    "fills = []\n",
    "for p in occluded_tris:\n",
    "    P = gp.Poly(p)\n",
    "    P.fill_scale_trans(**stp.prms)\n",
    "    fills.append(P.fill)"
   ]
  },
  {
   "cell_type": "code",
   "execution_count": null,
   "metadata": {
    "Collapsed": "false"
   },
   "outputs": [],
   "source": [
    "layer3 = gp.merge_LineStrings(fills)"
   ]
  },
  {
   "cell_type": "code",
   "execution_count": null,
   "metadata": {
    "Collapsed": "false"
   },
   "outputs": [],
   "source": [
    "all_polys = gp.merge_Polygons([all_polys, occluded_tris])"
   ]
  },
  {
   "cell_type": "code",
   "execution_count": null,
   "metadata": {
    "Collapsed": "false"
   },
   "outputs": [],
   "source": [
    "mbg = gp.merge_LineStrings([l for l in bg_layers[0] if l.length>0.05])"
   ]
  },
  {
   "cell_type": "code",
   "execution_count": null,
   "metadata": {
    "Collapsed": "false"
   },
   "outputs": [],
   "source": [
    "bg_layer = gp.robust_difference(mbg, all_polys.buffer(1e-6))"
   ]
  },
  {
   "cell_type": "code",
   "execution_count": null,
   "metadata": {
    "Collapsed": "false"
   },
   "outputs": [],
   "source": [
    "sk = vsketch.Vsketch()\n",
    "sk.size(paper.page_format_mm)\n",
    "sk.scale('1mm')\n",
    "sk.penWidth('0.3mm')\n",
    "sk.stroke(1)\n",
    "sk.geometry(bg_layer)\n",
    "for tolerance in [0.1, 0.2, 0.4, 0.8]:\n",
    "    sk.vpype(f'linemerge --tolerance {tolerance}mm')\n",
    "sk.display(color_mode='none')"
   ]
  },
  {
   "cell_type": "code",
   "execution_count": null,
   "metadata": {
    "Collapsed": "false"
   },
   "outputs": [],
   "source": [
    "sk = vsketch.Vsketch()\n",
    "sk.size(paper.page_format_mm)\n",
    "sk.scale('1mm')\n",
    "sk.penWidth('0.3mm')\n",
    "sk.stroke(2)\n",
    "sk.geometry(layer1)\n",
    "sk.stroke(3)\n",
    "sk.geometry(layer2)\n",
    "sk.stroke(4)\n",
    "sk.geometry(layer3)\n",
    "sk.penWidth('0.3')\n",
    "\n",
    "tolerance=0.1\n",
    "sk.vpype(f'linesimplify --tolerance {tolerance}')\n",
    "for tolerance in [0.1, 0.2, 0.4]:\n",
    "    sk.vpype(f'linemerge --tolerance {tolerance}mm')\n",
    "sk.vpype('linesort')\n",
    "sk.display(color_mode='none')"
   ]
  },
  {
   "cell_type": "code",
   "execution_count": null,
   "metadata": {
    "Collapsed": "false"
   },
   "outputs": [],
   "source": [
    "savepath = '/Users/naka/code/side/plotter_images/oned_outputs/0315_cpack_beams_postcard.svg'\n",
    "\n",
    "sk.save(savepath)\n"
   ]
  },
  {
   "cell_type": "code",
   "execution_count": null,
   "metadata": {},
   "outputs": [],
   "source": []
  }
 ],
 "metadata": {
  "kernelspec": {
   "display_name": "Python [conda env:genpen]",
   "language": "python",
   "name": "conda-env-genpen-py"
  },
  "language_info": {
   "codemirror_mode": {
    "name": "ipython",
    "version": 3
   },
   "file_extension": ".py",
   "mimetype": "text/x-python",
   "name": "python",
   "nbconvert_exporter": "python",
   "pygments_lexer": "ipython3",
   "version": "3.8.8"
  }
 },
 "nbformat": 4,
 "nbformat_minor": 4
}

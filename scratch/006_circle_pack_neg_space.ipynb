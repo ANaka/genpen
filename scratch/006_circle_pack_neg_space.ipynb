{
 "cells": [
  {
   "cell_type": "code",
   "execution_count": null,
   "metadata": {
    "Collapsed": "false"
   },
   "outputs": [],
   "source": [
    "import itertools\n",
    "import numpy as np\n",
    "import os\n",
    "import seaborn as sns\n",
    "from tqdm import tqdm\n",
    "from dataclasses import asdict, dataclass, field\n",
    "import vsketch\n",
    "import shapely.geometry as sg\n",
    "from shapely.geometry import box, MultiLineString, Point, MultiPoint, Polygon, MultiPolygon, LineString\n",
    "import shapely.affinity as sa\n",
    "import shapely.ops as so\n",
    "import matplotlib.pyplot as plt\n",
    "import pandas as pd\n",
    "\n",
    "import vpype_cli\n",
    "from typing import List, Generic\n",
    "from genpen import genpen as gp, utils as utils\n",
    "from scipy import stats as ss\n",
    "import geopandas\n",
    "from shapely.errors import TopologicalError\n",
    "import functools\n",
    "%load_ext autoreload\n",
    "%autoreload 2"
   ]
  },
  {
   "cell_type": "markdown",
   "metadata": {
    "Collapsed": "false"
   },
   "source": [
    "# Try 1"
   ]
  },
  {
   "cell_type": "code",
   "execution_count": null,
   "metadata": {
    "Collapsed": "false"
   },
   "outputs": [],
   "source": [
    "page_x_inches: float = 17. # inches\n",
    "page_y_inches: float = 11 # inches\n",
    "border:float = 20.\n",
    "\n",
    "buffer_style = 2"
   ]
  },
  {
   "cell_type": "code",
   "execution_count": null,
   "metadata": {
    "Collapsed": "false"
   },
   "outputs": [],
   "source": [
    "px = utils.DistanceConverter(page_x_inches, 'inches').mm\n",
    "py = utils.DistanceConverter(page_y_inches, 'inches').mm\n",
    "page_format = f'{px}mmx{py}mm'\n",
    "drawbox = sg.box(border, border, px-border, py-border)\n",
    "\n",
    "xmin, ymin, xmax, ymax = drawbox.bounds\n"
   ]
  },
  {
   "cell_type": "code",
   "execution_count": null,
   "metadata": {
    "Collapsed": "false"
   },
   "outputs": [],
   "source": [
    "all_circles = []\n",
    "circle_to_fill = drawbox\n",
    "# init\n",
    "fc_rad = gp.get_rad(circle_to_fill)\n",
    "x = circle_to_fill.centroid.x\n",
    "rad_mults = (0.45, 0.08)\n",
    "rads = np.linspace(fc_rad*rad_mults[0], fc_rad*rad_mults[1], 20)\n",
    "circles = gp.circle_pack_within_poly(circle_to_fill, rads, progress_bar=False)\n",
    "all_circles += list(circles)\n",
    "circle_to_fill.filled = True\n",
    "not_yet_filled = [c for c in all_circles if not getattr(c, 'filled', False)]\n",
    "areas = np.array([c.area for c in not_yet_filled])\n",
    "areas = areas/areas.sum()\n",
    "circle_to_fill = np.random.choice(not_yet_filled, p=areas)\n",
    "circles"
   ]
  },
  {
   "cell_type": "code",
   "execution_count": null,
   "metadata": {
    "Collapsed": "false"
   },
   "outputs": [],
   "source": [
    "min_rad = 1\n",
    "iter_max = 10\n",
    "rad_mults = (0.7, 0.06)"
   ]
  },
  {
   "cell_type": "code",
   "execution_count": null,
   "metadata": {
    "Collapsed": "false"
   },
   "outputs": [],
   "source": [
    "n_fails = 0\n",
    "n_iters = 0\n",
    "pbar = tqdm(total=iter_max)\n",
    "while (n_fails < 20) and (n_iters < iter_max):\n",
    "    try:\n",
    "#         pbar.update()\n",
    "        n_iters += 1\n",
    "        fc_rad = gp.get_rad(circle_to_fill)\n",
    "        \n",
    "        rads = np.linspace(fc_rad*rad_mults[0], fc_rad*rad_mults[1], 80)\n",
    "        rads[rads<min_rad] = min_rad\n",
    "        circles = gp.circle_pack_within_poly(circle_to_fill, rads, progress_bar=False)\n",
    "        circle_to_fill.filled = True\n",
    "        all_circles += list(circles)\n",
    "        not_yet_filled = [c for c in all_circles if not getattr(c, 'filled', False)]\n",
    "        areas = np.array([c.area for c in not_yet_filled])\n",
    "        areas = areas/areas.sum()\n",
    "        circle_to_fill = np.random.choice(not_yet_filled, p=areas)\n",
    "        n_fails = 0\n",
    "    except:\n",
    "        n_fails += 1\n",
    "        circle_to_fill = np.random.choice(not_yet_filled, p=areas)\n",
    "        \n",
    "print(f'total iters = {n_iters}')\n",
    "print(f'total fails = {n_fails}')\n",
    "MultiPolygon(all_circles).boundary"
   ]
  },
  {
   "cell_type": "code",
   "execution_count": null,
   "metadata": {
    "Collapsed": "false"
   },
   "outputs": [],
   "source": [
    "bottom_circles = MultiPolygon([c for c in all_circles if not getattr(c, 'filled', False)])\n",
    "bottom_circles"
   ]
  },
  {
   "cell_type": "code",
   "execution_count": null,
   "metadata": {
    "Collapsed": "false"
   },
   "outputs": [],
   "source": [
    "all_circles = []\n",
    "circle_to_fill = drawbox\n",
    "# init\n",
    "fc_rad = gp.get_rad(circle_to_fill)\n",
    "x = circle_to_fill.centroid.x\n",
    "rad_mults = (0.15, 0.08)\n",
    "rads = np.linspace(fc_rad*rad_mults[0], fc_rad*rad_mults[1], 10)\n",
    "circles = gp.circle_pack_within_poly(circle_to_fill, rads, progress_bar=False)\n",
    "all_circles += list(circles)\n",
    "circle_to_fill.filled = True\n",
    "not_yet_filled = [c for c in all_circles if not getattr(c, 'filled', False)]\n",
    "areas = np.array([c.area for c in not_yet_filled])\n",
    "areas = areas/areas.sum()\n",
    "circle_to_fill = np.random.choice(not_yet_filled, p=areas)\n",
    "circles"
   ]
  },
  {
   "cell_type": "code",
   "execution_count": null,
   "metadata": {
    "Collapsed": "false"
   },
   "outputs": [],
   "source": [
    "min_rad = 1\n",
    "iter_max = 5\n",
    "rad_mults = (0.25, 0.25)"
   ]
  },
  {
   "cell_type": "code",
   "execution_count": null,
   "metadata": {
    "Collapsed": "false"
   },
   "outputs": [],
   "source": [
    "n_fails = 0\n",
    "n_iters = 0\n",
    "pbar = tqdm(total=iter_max)\n",
    "while (n_fails < 20) and (n_iters < iter_max):\n",
    "    try:\n",
    "#         pbar.update()\n",
    "        n_iters += 1\n",
    "        fc_rad = gp.get_rad(circle_to_fill)\n",
    "        \n",
    "        rads = np.linspace(fc_rad*rad_mults[0], fc_rad*rad_mults[1], 80)\n",
    "        rads[rads<min_rad] = min_rad\n",
    "        circles = gp.circle_pack_within_poly(circle_to_fill, rads, progress_bar=False)\n",
    "        circle_to_fill.filled = True\n",
    "        all_circles += list(circles)\n",
    "        not_yet_filled = [c for c in all_circles if not getattr(c, 'filled', False)]\n",
    "        areas = np.array([c.area for c in not_yet_filled])\n",
    "        areas = areas/areas.sum()\n",
    "        circle_to_fill = np.random.choice(not_yet_filled, p=areas)\n",
    "        n_fails = 0\n",
    "    except:\n",
    "        n_fails += 1\n",
    "        circle_to_fill = np.random.choice(not_yet_filled, p=areas)\n",
    "        \n",
    "print(f'total iters = {n_iters}')\n",
    "print(f'total fails = {n_fails}')\n",
    "MultiPolygon(all_circles).boundary"
   ]
  },
  {
   "cell_type": "code",
   "execution_count": null,
   "metadata": {
    "Collapsed": "false"
   },
   "outputs": [],
   "source": [
    "tri_vertices = MultiPoint([c.centroid for c in all_circles if not getattr(c, 'filled', False)])"
   ]
  },
  {
   "cell_type": "code",
   "execution_count": null,
   "metadata": {
    "Collapsed": "false"
   },
   "outputs": [],
   "source": [
    "trils = MultiLineString(so.triangulate(tri_vertices, edges=True))"
   ]
  },
  {
   "cell_type": "code",
   "execution_count": null,
   "metadata": {
    "Collapsed": "false"
   },
   "outputs": [],
   "source": [
    "length_filters = np.random.uniform(96, 185, size=len(trils))\n",
    "tri_buffer = 2.3\n",
    "ftrils = MultiLineString([l for l, lf in zip(trils, length_filters) if l.length<lf])\n",
    "tris = ftrils.buffer(tri_buffer, cap_style=2, join_style=3)\n",
    "tris"
   ]
  },
  {
   "cell_type": "code",
   "execution_count": null,
   "metadata": {
    "Collapsed": "false"
   },
   "outputs": [],
   "source": [
    "stp = gp.ScaleTransPrms(\n",
    "    d_buffer=-0.3, \n",
    "    angles=-60,\n",
    "\n",
    ")\n",
    "tri_fill = gp.scale_trans(tris, **stp.prms)"
   ]
  },
  {
   "cell_type": "code",
   "execution_count": null,
   "metadata": {
    "Collapsed": "false"
   },
   "outputs": [],
   "source": [
    "tri_layer = gp.merge_LineStrings([p.boundary for p in tri_fill])"
   ]
  },
  {
   "cell_type": "code",
   "execution_count": null,
   "metadata": {
    "Collapsed": "false"
   },
   "outputs": [],
   "source": [
    "layer = tri_layer.intersection(bottom_circles)"
   ]
  },
  {
   "cell_type": "code",
   "execution_count": null,
   "metadata": {
    "Collapsed": "false"
   },
   "outputs": [],
   "source": [
    "sk = vsketch.Vsketch()\n",
    "sk.size(page_format)\n",
    "\n",
    "sk.scale('1mm')\n",
    "sk.stroke(1)\n",
    "sk.geometry(layer)\n",
    "sk.display(color_mode='none')"
   ]
  },
  {
   "cell_type": "code",
   "execution_count": null,
   "metadata": {
    "Collapsed": "false"
   },
   "outputs": [],
   "source": [
    "savepath = '/mnt/c/code/side/plotter_images/oned_outputs/0108_waka_waka.svg'\n",
    "\n",
    "sk.save(savepath)\n",
    "\n",
    "vpype_commands = 'reloop linesimplify --tolerance 0.1mm linemerge --tolerance 0.3mm linesort'\n",
    "vpype_str = f'vpype read -q 0.05mm {savepath} {vpype_commands} write {savepath}'\n",
    "\n",
    "os.system(vpype_str)"
   ]
  },
  {
   "cell_type": "code",
   "execution_count": null,
   "metadata": {
    "Collapsed": "false"
   },
   "outputs": [],
   "source": []
  },
  {
   "cell_type": "markdown",
   "metadata": {
    "Collapsed": "true"
   },
   "source": [
    "# try 2"
   ]
  },
  {
   "cell_type": "code",
   "execution_count": null,
   "metadata": {
    "Collapsed": "false"
   },
   "outputs": [],
   "source": [
    "page_x_inches: float = 17. # inches\n",
    "page_y_inches: float = 11 # inches\n",
    "border:float = 20.\n",
    "\n",
    "buffer_style = 2"
   ]
  },
  {
   "cell_type": "code",
   "execution_count": null,
   "metadata": {
    "Collapsed": "false"
   },
   "outputs": [],
   "source": [
    "px = utils.DistanceConverter(page_x_inches, 'inches').mm\n",
    "py = utils.DistanceConverter(page_y_inches, 'inches').mm\n",
    "page_format = f'{px}mmx{py}mm'\n",
    "drawbox = sg.box(border, border, px-border, py-border)\n",
    "\n",
    "xmin, ymin, xmax, ymax = drawbox.bounds\n"
   ]
  },
  {
   "cell_type": "code",
   "execution_count": null,
   "metadata": {
    "Collapsed": "false"
   },
   "outputs": [],
   "source": []
  },
  {
   "cell_type": "code",
   "execution_count": null,
   "metadata": {
    "Collapsed": "false"
   },
   "outputs": [],
   "source": [
    "all_circles = []\n",
    "circle_to_fill = drawbox\n",
    "# init\n",
    "fc_rad = gp.get_rad(circle_to_fill)\n",
    "x = circle_to_fill.centroid.x\n",
    "rad_mults = (0.48, 0.05)\n",
    "rads = np.linspace(fc_rad*rad_mults[0], fc_rad*rad_mults[1], 30)\n",
    "circles = gp.circle_pack_within_poly(circle_to_fill, rads, progress_bar=False)\n",
    "all_circles += list(circles)\n",
    "circle_to_fill.filled = True\n",
    "not_yet_filled = [c for c in all_circles if not getattr(c, 'filled', False)]\n",
    "areas = np.array([c.area for c in not_yet_filled])\n",
    "areas = areas/areas.sum()\n",
    "circle_to_fill = np.random.choice(not_yet_filled, p=areas)\n",
    "circles"
   ]
  },
  {
   "cell_type": "code",
   "execution_count": null,
   "metadata": {
    "Collapsed": "false"
   },
   "outputs": [],
   "source": [
    "min_rad = 1\n",
    "iter_max = 10\n",
    "rad_mults = (0.7, 0.05)"
   ]
  },
  {
   "cell_type": "code",
   "execution_count": null,
   "metadata": {
    "Collapsed": "false"
   },
   "outputs": [],
   "source": [
    "n_fails = 0\n",
    "n_iters = 0\n",
    "pbar = tqdm(total=iter_max)\n",
    "while (n_fails < 20) and (n_iters < iter_max):\n",
    "    try:\n",
    "#         pbar.update()\n",
    "        n_iters += 1\n",
    "        fc_rad = gp.get_rad(circle_to_fill)\n",
    "        \n",
    "        rads = np.linspace(fc_rad*rad_mults[0], fc_rad*rad_mults[1], 80)\n",
    "        rads[rads<min_rad] = min_rad\n",
    "        circles = gp.circle_pack_within_poly(circle_to_fill, rads, progress_bar=False)\n",
    "        circle_to_fill.filled = True\n",
    "        all_circles += list(circles)\n",
    "        not_yet_filled = [c for c in all_circles if not getattr(c, 'filled', False)]\n",
    "        areas = np.array([c.area for c in not_yet_filled])\n",
    "        areas = areas/areas.sum()\n",
    "        circle_to_fill = np.random.choice(not_yet_filled, p=areas)\n",
    "        n_fails = 0\n",
    "    except:\n",
    "        n_fails += 1\n",
    "        circle_to_fill = np.random.choice(not_yet_filled, p=areas)\n",
    "        \n",
    "print(f'total iters = {n_iters}')\n",
    "print(f'total fails = {n_fails}')\n",
    "MultiPolygon(all_circles).boundary"
   ]
  },
  {
   "cell_type": "code",
   "execution_count": null,
   "metadata": {
    "Collapsed": "false"
   },
   "outputs": [],
   "source": [
    "bottom_circles = MultiPolygon([c for c in all_circles if not getattr(c, 'filled', False)])\n",
    "bottom_circles"
   ]
  },
  {
   "cell_type": "code",
   "execution_count": null,
   "metadata": {
    "Collapsed": "false"
   },
   "outputs": [],
   "source": [
    "all_circles = []\n",
    "circle_to_fill = drawbox.buffer(10)\n",
    "# init\n",
    "fc_rad = gp.get_rad(circle_to_fill)\n",
    "x = circle_to_fill.centroid.x\n",
    "rad_mults = (0.15, 0.08)\n",
    "rads = np.linspace(fc_rad*rad_mults[0], fc_rad*rad_mults[1], 10)\n",
    "circles = gp.circle_pack_within_poly(circle_to_fill, rads, progress_bar=False)\n",
    "all_circles += list(circles)\n",
    "circle_to_fill.filled = True\n",
    "not_yet_filled = [c for c in all_circles if not getattr(c, 'filled', False)]\n",
    "areas = np.array([c.area for c in not_yet_filled])\n",
    "areas = areas/areas.sum()\n",
    "circle_to_fill = np.random.choice(not_yet_filled, p=areas)\n",
    "circles"
   ]
  },
  {
   "cell_type": "code",
   "execution_count": null,
   "metadata": {
    "Collapsed": "false"
   },
   "outputs": [],
   "source": [
    "min_rad = 5\n",
    "iter_max = 15\n",
    "rad_mults = (0.3, 0.2)"
   ]
  },
  {
   "cell_type": "code",
   "execution_count": null,
   "metadata": {
    "Collapsed": "false"
   },
   "outputs": [],
   "source": [
    "n_fails = 0\n",
    "n_iters = 0\n",
    "pbar = tqdm(total=iter_max)\n",
    "while (n_fails < 20) and (n_iters < iter_max):\n",
    "    try:\n",
    "#         pbar.update()\n",
    "        n_iters += 1\n",
    "        fc_rad = gp.get_rad(circle_to_fill)\n",
    "        \n",
    "        rads = np.linspace(fc_rad*rad_mults[0], fc_rad*rad_mults[1], 80)\n",
    "        rads[rads<min_rad] = min_rad\n",
    "        circles = gp.circle_pack_within_poly(circle_to_fill, rads, progress_bar=False)\n",
    "        circle_to_fill.filled = True\n",
    "        all_circles += list(circles)\n",
    "        not_yet_filled = [c for c in all_circles if not getattr(c, 'filled', False)]\n",
    "        areas = np.array([c.area for c in not_yet_filled])\n",
    "        areas = areas/areas.sum()\n",
    "        circle_to_fill = np.random.choice(not_yet_filled, p=areas)\n",
    "        n_fails = 0\n",
    "    except:\n",
    "        n_fails += 1\n",
    "        circle_to_fill = np.random.choice(not_yet_filled, p=areas)\n",
    "        \n",
    "print(f'total iters = {n_iters}')\n",
    "print(f'total fails = {n_fails}')\n",
    "MultiPolygon(all_circles).boundary"
   ]
  },
  {
   "cell_type": "code",
   "execution_count": null,
   "metadata": {
    "Collapsed": "false"
   },
   "outputs": [],
   "source": [
    "tri_vertices = MultiPoint([c.centroid for c in all_circles if not getattr(c, 'filled', False)])\n",
    "\n",
    "trils = MultiLineString(so.triangulate(tri_vertices, edges=True))\n",
    "\n",
    "length_filters = np.random.uniform(96, 185, size=len(trils))\n",
    "ftrils = MultiLineString([l for l, lf in zip(trils, length_filters) if l.length<lf])\n",
    "tris = [f.buffer(np.random.uniform(1, 2.5), cap_style=2, join_style=3) for f in ftrils]\n",
    "tris = gp.Poly(so.unary_union(tris))\n",
    "\n",
    "stp = gp.ScaleTransPrms(\n",
    "    d_buffer=-0.25, \n",
    "    angles=-60,\n",
    "\n",
    ")\n",
    "stp.d_buffers += np.random.uniform(-0.03, 0.03, size=stp.d_buffers.shape)\n",
    "tris.fill_scale_trans(**stp.prms)\n",
    "tri_lattice1 = tris"
   ]
  },
  {
   "cell_type": "code",
   "execution_count": null,
   "metadata": {
    "Collapsed": "false"
   },
   "outputs": [],
   "source": [
    "all_circles = []\n",
    "circle_to_fill = drawbox.buffer(10)\n",
    "# init\n",
    "fc_rad = gp.get_rad(circle_to_fill)\n",
    "x = circle_to_fill.centroid.x\n",
    "rad_mults = (0.15, 0.08)\n",
    "rads = np.linspace(fc_rad*rad_mults[0], fc_rad*rad_mults[1], 10)\n",
    "circles = gp.circle_pack_within_poly(circle_to_fill, rads, progress_bar=False)\n",
    "all_circles += list(circles)\n",
    "circle_to_fill.filled = True\n",
    "not_yet_filled = [c for c in all_circles if not getattr(c, 'filled', False)]\n",
    "areas = np.array([c.area for c in not_yet_filled])\n",
    "areas = areas/areas.sum()\n",
    "circle_to_fill = np.random.choice(not_yet_filled, p=areas)\n",
    "circles"
   ]
  },
  {
   "cell_type": "code",
   "execution_count": null,
   "metadata": {
    "Collapsed": "false"
   },
   "outputs": [],
   "source": [
    "min_rad = 5\n",
    "iter_max = 25\n",
    "rad_mults = (0.18, 0.18)"
   ]
  },
  {
   "cell_type": "code",
   "execution_count": null,
   "metadata": {
    "Collapsed": "false"
   },
   "outputs": [],
   "source": [
    "n_fails = 0\n",
    "n_iters = 0\n",
    "pbar = tqdm(total=iter_max)\n",
    "while (n_fails < 20) and (n_iters < iter_max):\n",
    "    try:\n",
    "#         pbar.update()\n",
    "        n_iters += 1\n",
    "        fc_rad = gp.get_rad(circle_to_fill)\n",
    "        \n",
    "        rads = np.linspace(fc_rad*rad_mults[0], fc_rad*rad_mults[1], 80)\n",
    "        rads[rads<min_rad] = min_rad\n",
    "        circles = gp.circle_pack_within_poly(circle_to_fill, rads, progress_bar=False)\n",
    "        circle_to_fill.filled = True\n",
    "        all_circles += list(circles)\n",
    "        not_yet_filled = [c for c in all_circles if not getattr(c, 'filled', False)]\n",
    "        areas = np.array([c.area for c in not_yet_filled])\n",
    "        areas = areas/areas.sum()\n",
    "        circle_to_fill = np.random.choice(not_yet_filled, p=areas)\n",
    "        n_fails = 0\n",
    "    except:\n",
    "        n_fails += 1\n",
    "        circle_to_fill = np.random.choice(not_yet_filled, p=areas)\n",
    "        \n",
    "print(f'total iters = {n_iters}')\n",
    "print(f'total fails = {n_fails}')\n",
    "MultiPolygon(all_circles).boundary"
   ]
  },
  {
   "cell_type": "code",
   "execution_count": null,
   "metadata": {
    "Collapsed": "false"
   },
   "outputs": [],
   "source": [
    "tri_vertices = MultiPoint([c.centroid for c in all_circles if not getattr(c, 'filled', False)])\n",
    "\n",
    "trils = MultiLineString(so.triangulate(tri_vertices, edges=True))\n",
    "\n",
    "length_filters = np.random.uniform(96, 185, size=len(trils))\n",
    "ftrils = MultiLineString([l for l, lf in zip(trils, length_filters) if l.length<lf])\n",
    "tris = [f.buffer(np.random.uniform(1, 2.2), cap_style=2, join_style=3) for f in ftrils]\n",
    "tris = gp.Poly(so.unary_union(tris))\n",
    "\n",
    "stp = gp.ScaleTransPrms(\n",
    "    d_buffer=-0.35, \n",
    "    angles=-60,\n",
    "\n",
    ")\n",
    "stp.d_buffers += np.random.uniform(-0.03, 0.03, size=stp.d_buffers.shape)\n",
    "tris.fill_scale_trans(**stp.prms)\n",
    "tri_lattice2 = tris"
   ]
  },
  {
   "cell_type": "code",
   "execution_count": null,
   "metadata": {
    "Collapsed": "false"
   },
   "outputs": [],
   "source": [
    "layer1 = tri_lattice1.fill.intersection(bottom_circles)\n",
    "layer2 = tri_lattice2.fill.difference(tri_lattice1.p).intersection(bottom_circles)"
   ]
  },
  {
   "cell_type": "code",
   "execution_count": null,
   "metadata": {
    "Collapsed": "false"
   },
   "outputs": [],
   "source": [
    "sk = vsketch.Vsketch()\n",
    "sk.size(page_format)\n",
    "\n",
    "sk.scale('1mm')\n",
    "sk.stroke(1)\n",
    "sk.geometry(layer1)\n",
    "sk.stroke(2)\n",
    "sk.geometry(layer2)\n",
    "sk.display(color_mode='layer')"
   ]
  },
  {
   "cell_type": "code",
   "execution_count": null,
   "metadata": {
    "Collapsed": "false"
   },
   "outputs": [],
   "source": [
    "savepath = '/mnt/c/code/side/plotter_images/oned_outputs/0118_waka_waka.svg'\n",
    "\n",
    "sk.save(savepath)\n",
    "\n",
    "vpype_commands = 'reloop linesimplify --tolerance 0.1mm linemerge --tolerance 0.1mm linesort'\n",
    "vpype_str = f'vpype read -q 0.05mm {savepath} {vpype_commands} write {savepath}'\n",
    "\n",
    "os.system(vpype_str)"
   ]
  },
  {
   "cell_type": "code",
   "execution_count": null,
   "metadata": {
    "Collapsed": "false"
   },
   "outputs": [],
   "source": []
  },
  {
   "cell_type": "markdown",
   "metadata": {
    "Collapsed": "true"
   },
   "source": [
    "# try 3"
   ]
  },
  {
   "cell_type": "code",
   "execution_count": null,
   "metadata": {
    "Collapsed": "false"
   },
   "outputs": [],
   "source": [
    "page_x_inches: float = 17. # inches\n",
    "page_y_inches: float = 11 # inches\n",
    "border:float = 20.\n",
    "\n",
    "buffer_style = 2"
   ]
  },
  {
   "cell_type": "code",
   "execution_count": null,
   "metadata": {
    "Collapsed": "false"
   },
   "outputs": [],
   "source": [
    "px = utils.DistanceConverter(page_x_inches, 'inches').mm\n",
    "py = utils.DistanceConverter(page_y_inches, 'inches').mm\n",
    "page_format = f'{px}mmx{py}mm'\n",
    "drawbox = sg.box(border, border, px-border, py-border)\n",
    "\n",
    "xmin, ymin, xmax, ymax = drawbox.bounds\n"
   ]
  },
  {
   "cell_type": "code",
   "execution_count": null,
   "metadata": {
    "Collapsed": "false"
   },
   "outputs": [],
   "source": [
    "all_circles = []\n",
    "circle_to_fill = drawbox\n",
    "# init\n",
    "fc_rad = gp.get_rad(circle_to_fill)\n",
    "x = circle_to_fill.centroid.x\n",
    "rad_mults = (0.48, 0.05)\n",
    "rads = np.linspace(fc_rad*rad_mults[0], fc_rad*rad_mults[1], 30)\n",
    "circles = gp.circle_pack_within_poly(circle_to_fill, rads, progress_bar=False)\n",
    "all_circles += list(circles)\n",
    "circle_to_fill.filled = True\n",
    "not_yet_filled = [c for c in all_circles if not getattr(c, 'filled', False)]\n",
    "areas = np.array([c.area for c in not_yet_filled])\n",
    "areas = areas/areas.sum()\n",
    "circle_to_fill = np.random.choice(not_yet_filled, p=areas)\n",
    "circles"
   ]
  },
  {
   "cell_type": "code",
   "execution_count": null,
   "metadata": {
    "Collapsed": "false"
   },
   "outputs": [],
   "source": [
    "min_rad = 2\n",
    "iter_max = 50\n",
    "rad_mults = (0.7, 0.05)"
   ]
  },
  {
   "cell_type": "code",
   "execution_count": null,
   "metadata": {
    "Collapsed": "false"
   },
   "outputs": [],
   "source": [
    "n_fails = 0\n",
    "n_iters = 0\n",
    "pbar = tqdm(total=iter_max)\n",
    "while (n_fails < 20) and (n_iters < iter_max):\n",
    "    try:\n",
    "#         pbar.update()\n",
    "        n_iters += 1\n",
    "        fc_rad = gp.get_rad(circle_to_fill)\n",
    "        \n",
    "        rads = np.linspace(fc_rad*rad_mults[0], fc_rad*rad_mults[1], 80)\n",
    "        rads[rads<min_rad] = min_rad\n",
    "        circles = gp.circle_pack_within_poly(circle_to_fill, rads, progress_bar=False)\n",
    "        circle_to_fill.filled = True\n",
    "        all_circles += list(circles)\n",
    "        not_yet_filled = [c for c in all_circles if not getattr(c, 'filled', False)]\n",
    "        areas = np.array([c.area for c in not_yet_filled])\n",
    "        areas = areas/areas.sum()\n",
    "        circle_to_fill = np.random.choice(not_yet_filled, p=areas)\n",
    "        n_fails = 0\n",
    "    except:\n",
    "        n_fails += 1\n",
    "        circle_to_fill = np.random.choice(not_yet_filled, p=areas)\n",
    "        \n",
    "print(f'total iters = {n_iters}')\n",
    "print(f'total fails = {n_fails}')\n",
    "MultiPolygon(all_circles).boundary"
   ]
  },
  {
   "cell_type": "code",
   "execution_count": null,
   "metadata": {
    "Collapsed": "false"
   },
   "outputs": [],
   "source": [
    "bottom_circles = MultiPolygon([c for c in all_circles if not getattr(c, 'filled', False)])\n",
    "bottom_circles"
   ]
  },
  {
   "cell_type": "code",
   "execution_count": null,
   "metadata": {
    "Collapsed": "false"
   },
   "outputs": [],
   "source": [
    "all_circles = []\n",
    "circle_to_fill = drawbox.buffer(10)\n",
    "# init\n",
    "fc_rad = gp.get_rad(circle_to_fill)\n",
    "x = circle_to_fill.centroid.x\n",
    "rad_mults = (0.15, 0.08)\n",
    "rads = np.linspace(fc_rad*rad_mults[0], fc_rad*rad_mults[1], 10)\n",
    "circles = gp.circle_pack_within_poly(circle_to_fill, rads, progress_bar=False)\n",
    "all_circles += list(circles)\n",
    "circle_to_fill.filled = True\n",
    "not_yet_filled = [c for c in all_circles if not getattr(c, 'filled', False)]\n",
    "areas = np.array([c.area for c in not_yet_filled])\n",
    "areas = areas/areas.sum()\n",
    "circle_to_fill = np.random.choice(not_yet_filled, p=areas)\n",
    "circles"
   ]
  },
  {
   "cell_type": "code",
   "execution_count": null,
   "metadata": {
    "Collapsed": "false"
   },
   "outputs": [],
   "source": [
    "min_rad = 5\n",
    "iter_max = 15\n",
    "rad_mults = (0.3, 0.2)"
   ]
  },
  {
   "cell_type": "code",
   "execution_count": null,
   "metadata": {
    "Collapsed": "false"
   },
   "outputs": [],
   "source": [
    "n_fails = 0\n",
    "n_iters = 0\n",
    "pbar = tqdm(total=iter_max)\n",
    "while (n_fails < 20) and (n_iters < iter_max):\n",
    "    try:\n",
    "#         pbar.update()\n",
    "        n_iters += 1\n",
    "        fc_rad = gp.get_rad(circle_to_fill)\n",
    "        \n",
    "        rads = np.linspace(fc_rad*rad_mults[0], fc_rad*rad_mults[1], 80)\n",
    "        rads[rads<min_rad] = min_rad\n",
    "        circles = gp.circle_pack_within_poly(circle_to_fill, rads, progress_bar=False)\n",
    "        circle_to_fill.filled = True\n",
    "        all_circles += list(circles)\n",
    "        not_yet_filled = [c for c in all_circles if not getattr(c, 'filled', False)]\n",
    "        areas = np.array([c.area for c in not_yet_filled])\n",
    "        areas = areas/areas.sum()\n",
    "        circle_to_fill = np.random.choice(not_yet_filled, p=areas)\n",
    "        n_fails = 0\n",
    "    except:\n",
    "        n_fails += 1\n",
    "        circle_to_fill = np.random.choice(not_yet_filled, p=areas)\n",
    "        \n",
    "print(f'total iters = {n_iters}')\n",
    "print(f'total fails = {n_fails}')\n",
    "MultiPolygon(all_circles).boundary"
   ]
  },
  {
   "cell_type": "code",
   "execution_count": null,
   "metadata": {
    "Collapsed": "false"
   },
   "outputs": [],
   "source": [
    "tri_vertices = MultiPoint([c.centroid for c in all_circles if not getattr(c, 'filled', False)])\n",
    "\n",
    "trils = MultiLineString(so.triangulate(tri_vertices, edges=True))\n",
    "\n",
    "length_filters = np.random.uniform(96, 185, size=len(trils))\n",
    "ftrils = MultiLineString([l for l, lf in zip(trils, length_filters) if l.length<lf])\n",
    "tris = [f.buffer(np.random.uniform(1.2, 3), cap_style=2, join_style=3) for f in ftrils]\n",
    "tris = gp.Poly(so.unary_union(tris))\n",
    "\n",
    "stp = gp.ScaleTransPrms(\n",
    "    d_buffer=-0.22, \n",
    "    angles=-60,\n",
    "\n",
    ")\n",
    "stp.d_buffers += np.random.uniform(-0.03, 0.03, size=stp.d_buffers.shape)\n",
    "tris.fill_scale_trans(**stp.prms)\n",
    "tri_lattice1 = tris"
   ]
  },
  {
   "cell_type": "code",
   "execution_count": null,
   "metadata": {
    "Collapsed": "false"
   },
   "outputs": [],
   "source": [
    "all_circles = []\n",
    "circle_to_fill = drawbox.buffer(10)\n",
    "# init\n",
    "fc_rad = gp.get_rad(circle_to_fill)\n",
    "x = circle_to_fill.centroid.x\n",
    "rad_mults = (0.15, 0.08)\n",
    "rads = np.linspace(fc_rad*rad_mults[0], fc_rad*rad_mults[1], 10)\n",
    "circles = gp.circle_pack_within_poly(circle_to_fill, rads, progress_bar=False)\n",
    "all_circles += list(circles)\n",
    "circle_to_fill.filled = True\n",
    "not_yet_filled = [c for c in all_circles if not getattr(c, 'filled', False)]\n",
    "areas = np.array([c.area for c in not_yet_filled])\n",
    "areas = areas/areas.sum()\n",
    "circle_to_fill = np.random.choice(not_yet_filled, p=areas)\n",
    "circles"
   ]
  },
  {
   "cell_type": "code",
   "execution_count": null,
   "metadata": {
    "Collapsed": "false"
   },
   "outputs": [],
   "source": [
    "min_rad = 5\n",
    "iter_max = 15\n",
    "rad_mults = (0.18, 0.18)"
   ]
  },
  {
   "cell_type": "code",
   "execution_count": null,
   "metadata": {
    "Collapsed": "false"
   },
   "outputs": [],
   "source": [
    "n_fails = 0\n",
    "n_iters = 0\n",
    "pbar = tqdm(total=iter_max)\n",
    "while (n_fails < 20) and (n_iters < iter_max):\n",
    "    try:\n",
    "#         pbar.update()\n",
    "        n_iters += 1\n",
    "        fc_rad = gp.get_rad(circle_to_fill)\n",
    "        \n",
    "        rads = np.linspace(fc_rad*rad_mults[0], fc_rad*rad_mults[1], 80)\n",
    "        rads[rads<min_rad] = min_rad\n",
    "        circles = gp.circle_pack_within_poly(circle_to_fill, rads, progress_bar=False)\n",
    "        circle_to_fill.filled = True\n",
    "        all_circles += list(circles)\n",
    "        not_yet_filled = [c for c in all_circles if not getattr(c, 'filled', False)]\n",
    "        areas = np.array([c.area for c in not_yet_filled])\n",
    "        areas = areas/areas.sum()\n",
    "        circle_to_fill = np.random.choice(not_yet_filled, p=areas)\n",
    "        n_fails = 0\n",
    "    except:\n",
    "        n_fails += 1\n",
    "        circle_to_fill = np.random.choice(not_yet_filled, p=areas)\n",
    "        \n",
    "print(f'total iters = {n_iters}')\n",
    "print(f'total fails = {n_fails}')\n",
    "MultiPolygon(all_circles).boundary"
   ]
  },
  {
   "cell_type": "code",
   "execution_count": null,
   "metadata": {
    "Collapsed": "false"
   },
   "outputs": [],
   "source": [
    "tri_vertices = MultiPoint([c.centroid for c in all_circles if not getattr(c, 'filled', False)])\n",
    "\n",
    "trils = MultiLineString(so.triangulate(tri_vertices, edges=True))\n",
    "\n",
    "length_filters = np.random.uniform(96, 185, size=len(trils))\n",
    "ftrils = MultiLineString([l for l, lf in zip(trils, length_filters) if l.length<lf])\n",
    "tris = [f.buffer(np.random.uniform(1, 2.5), cap_style=2, join_style=3) for f in ftrils]\n",
    "tris = gp.Poly(so.unary_union(tris))\n",
    "\n",
    "stp = gp.ScaleTransPrms(\n",
    "    d_buffer=-0.25, \n",
    "    angles=-60,\n",
    "\n",
    ")\n",
    "stp.d_buffers += np.random.uniform(-0.03, 0.03, size=stp.d_buffers.shape)\n",
    "tris.fill_scale_trans(**stp.prms)\n",
    "tri_lattice2 = tris"
   ]
  },
  {
   "cell_type": "code",
   "execution_count": null,
   "metadata": {
    "Collapsed": "false"
   },
   "outputs": [],
   "source": [
    "all_circles = []\n",
    "circle_to_fill = drawbox.buffer(10)\n",
    "# init\n",
    "fc_rad = gp.get_rad(circle_to_fill)\n",
    "x = circle_to_fill.centroid.x\n",
    "rad_mults = (0.15, 0.08)\n",
    "rads = np.linspace(fc_rad*rad_mults[0], fc_rad*rad_mults[1], 10)\n",
    "circles = gp.circle_pack_within_poly(circle_to_fill, rads, progress_bar=False)\n",
    "all_circles += list(circles)\n",
    "circle_to_fill.filled = True\n",
    "not_yet_filled = [c for c in all_circles if not getattr(c, 'filled', False)]\n",
    "areas = np.array([c.area for c in not_yet_filled])\n",
    "areas = areas/areas.sum()\n",
    "circle_to_fill = np.random.choice(not_yet_filled, p=areas)\n",
    "circles"
   ]
  },
  {
   "cell_type": "code",
   "execution_count": null,
   "metadata": {
    "Collapsed": "false"
   },
   "outputs": [],
   "source": [
    "min_rad = 5\n",
    "iter_max = 20\n",
    "rad_mults = (0.18, 0.18)"
   ]
  },
  {
   "cell_type": "code",
   "execution_count": null,
   "metadata": {
    "Collapsed": "false"
   },
   "outputs": [],
   "source": [
    "n_fails = 0\n",
    "n_iters = 0\n",
    "pbar = tqdm(total=iter_max)\n",
    "while (n_fails < 20) and (n_iters < iter_max):\n",
    "    try:\n",
    "#         pbar.update()\n",
    "        n_iters += 1\n",
    "        fc_rad = gp.get_rad(circle_to_fill)\n",
    "        \n",
    "        rads = np.linspace(fc_rad*rad_mults[0], fc_rad*rad_mults[1], 80)\n",
    "        rads[rads<min_rad] = min_rad\n",
    "        circles = gp.circle_pack_within_poly(circle_to_fill, rads, progress_bar=False)\n",
    "        circle_to_fill.filled = True\n",
    "        all_circles += list(circles)\n",
    "        not_yet_filled = [c for c in all_circles if not getattr(c, 'filled', False)]\n",
    "        areas = np.array([c.area for c in not_yet_filled])\n",
    "        areas = areas/areas.sum()\n",
    "        circle_to_fill = np.random.choice(not_yet_filled, p=areas)\n",
    "        n_fails = 0\n",
    "    except:\n",
    "        n_fails += 1\n",
    "        circle_to_fill = np.random.choice(not_yet_filled, p=areas)\n",
    "        \n",
    "print(f'total iters = {n_iters}')\n",
    "print(f'total fails = {n_fails}')\n",
    "MultiPolygon(all_circles).boundary"
   ]
  },
  {
   "cell_type": "code",
   "execution_count": null,
   "metadata": {
    "Collapsed": "false"
   },
   "outputs": [],
   "source": [
    "tri_vertices = MultiPoint([c.centroid for c in all_circles if not getattr(c, 'filled', False)])\n",
    "\n",
    "trils = MultiLineString(so.triangulate(tri_vertices, edges=True))\n",
    "\n",
    "length_filters = np.random.uniform(96, 185, size=len(trils))\n",
    "ftrils = MultiLineString([l for l, lf in zip(trils, length_filters) if l.length<lf])\n",
    "tris = [f.buffer(np.random.uniform(0.8, 1.8), cap_style=2, join_style=3) for f in ftrils]\n",
    "tris = gp.Poly(so.unary_union(tris))\n",
    "\n",
    "stp = gp.ScaleTransPrms(\n",
    "    d_buffer=-0.35, \n",
    "    angles=-60,\n",
    "\n",
    ")\n",
    "stp.d_buffers += np.random.uniform(-0.03, 0.03, size=stp.d_buffers.shape)\n",
    "tris.fill_scale_trans(**stp.prms)\n",
    "tri_lattice3 = tris"
   ]
  },
  {
   "cell_type": "code",
   "execution_count": null,
   "metadata": {
    "Collapsed": "false"
   },
   "outputs": [],
   "source": [
    "layer1 = tri_lattice1.fill.intersection(bottom_circles)\n",
    "layer2 = tri_lattice2.fill.difference(tri_lattice1.p).intersection(bottom_circles)\n",
    "layer3 = tri_lattice3.fill.difference(tri_lattice1.p).difference(tri_lattice2.p).intersection(bottom_circles)"
   ]
  },
  {
   "cell_type": "code",
   "execution_count": null,
   "metadata": {
    "Collapsed": "false"
   },
   "outputs": [],
   "source": [
    "sk = vsketch.Vsketch()\n",
    "sk.size(page_format)\n",
    "\n",
    "sk.scale('1mm')\n",
    "sk.stroke(1)\n",
    "sk.geometry(layer1)\n",
    "sk.stroke(2)\n",
    "sk.geometry(layer2)\n",
    "sk.stroke(3)\n",
    "sk.geometry(layer3)\n",
    "sk.display(color_mode='layer')"
   ]
  },
  {
   "cell_type": "code",
   "execution_count": null,
   "metadata": {
    "Collapsed": "false"
   },
   "outputs": [],
   "source": [
    "savepath = '/mnt/c/code/side/plotter_images/oned_outputs/0119_waka_waka.svg'\n",
    "\n",
    "sk.save(savepath)\n",
    "\n",
    "vpype_commands = 'reloop linesimplify --tolerance 0.1mm linemerge --tolerance 0.25mm linesort'\n",
    "vpype_str = f'vpype read -q 0.05mm {savepath} {vpype_commands} write {savepath}'\n",
    "\n",
    "os.system(vpype_str)"
   ]
  },
  {
   "cell_type": "markdown",
   "metadata": {
    "Collapsed": "false"
   },
   "source": [
    "# Try 4"
   ]
  },
  {
   "cell_type": "code",
   "execution_count": null,
   "metadata": {
    "Collapsed": "false"
   },
   "outputs": [],
   "source": [
    "page_x_inches: float = 17. # inches\n",
    "page_y_inches: float = 11 # inches\n",
    "border:float = 20.\n",
    "\n",
    "buffer_style = 2"
   ]
  },
  {
   "cell_type": "code",
   "execution_count": null,
   "metadata": {
    "Collapsed": "false"
   },
   "outputs": [],
   "source": [
    "px = utils.DistanceConverter(page_x_inches, 'inches').mm\n",
    "py = utils.DistanceConverter(page_y_inches, 'inches').mm\n",
    "page_format = f'{px}mmx{py}mm'\n",
    "drawbox = sg.box(border, border, px-border, py-border)\n",
    "\n",
    "xmin, ymin, xmax, ymax = drawbox.bounds\n"
   ]
  },
  {
   "cell_type": "code",
   "execution_count": null,
   "metadata": {
    "Collapsed": "false"
   },
   "outputs": [],
   "source": [
    "# init\n",
    "rcp = gp.RecursiveCirclePacker(\n",
    "    drawbox, \n",
    "    rad_seq_start=0.48,\n",
    "    rad_seq_end=0.05,\n",
    "    min_allowed_rad=2,\n",
    "    n_rads=30,\n",
    ")\n",
    "rcp.run(1)"
   ]
  },
  {
   "cell_type": "code",
   "execution_count": null,
   "metadata": {
    "Collapsed": "false"
   },
   "outputs": [],
   "source": [
    "rcp.rad_seq_start=0.6\n",
    "rcp.rad_seq_end=0.04\n",
    "rcp.n_rads=80\n",
    "rcp.run(50, progress_bar=True)\n",
    "rcp.unfilled_circles"
   ]
  },
  {
   "cell_type": "markdown",
   "metadata": {
    "Collapsed": "false"
   },
   "source": [
    "## lattice 1"
   ]
  },
  {
   "cell_type": "code",
   "execution_count": null,
   "metadata": {
    "Collapsed": "false"
   },
   "outputs": [],
   "source": [
    "trcp = gp.RecursiveCirclePacker(drawbox.buffer(20), rad_seq_start=0.16,\n",
    "    rad_seq_end=0.16, min_allowed_rad=2, n_rads=10, )\n",
    "trcp.run(1)\n",
    "trcp.min_allowed_rad=5\n",
    "trcp.rad_seq_start=0.29\n",
    "trcp.rad_seq_end=0.18\n",
    "trcp.run(3)\n",
    "\n",
    "length_filter_gen = ss.uniform(96, 185).rvs\n",
    "buffer_size_gen = ss.uniform(2.1, 2.8).rvs\n",
    "tri_vertices = MultiPoint([c.centroid for c in trcp.unfilled_circles])\n",
    "trils = MultiLineString(so.triangulate(tri_vertices, edges=True))\n",
    "\n",
    "filt_trils = MultiLineString([l for l in trils if l.length<length_filter_gen()])\n",
    "tris = [f.buffer(buffer_size_gen(), cap_style=2, join_style=3) for f in filt_trils]\n",
    "tris = so.unary_union(tris)\n",
    "tris"
   ]
  },
  {
   "cell_type": "code",
   "execution_count": null,
   "metadata": {
    "Collapsed": "false"
   },
   "outputs": [],
   "source": [
    "occluded_tris = tris.intersection(rcp.unfilled_circles).buffer(-1e-6)"
   ]
  },
  {
   "cell_type": "code",
   "execution_count": null,
   "metadata": {
    "Collapsed": "false"
   },
   "outputs": [],
   "source": [
    "stp = gp.ScaleTransPrms(d_buffer=-0.25,angles=-45,)\n",
    "stp.d_buffers += np.random.uniform(-0.03, 0.03, size=stp.d_buffers.shape)"
   ]
  },
  {
   "cell_type": "code",
   "execution_count": null,
   "metadata": {
    "Collapsed": "false"
   },
   "outputs": [],
   "source": [
    "fills = []\n",
    "for p in occluded_tris:\n",
    "    P = gp.Poly(p)\n",
    "    P.fill_scale_trans(**stp.prms)\n",
    "    fills.append(P.fill)"
   ]
  },
  {
   "cell_type": "code",
   "execution_count": null,
   "metadata": {
    "Collapsed": "false"
   },
   "outputs": [],
   "source": [
    "layer1 = gp.merge_LineStrings(fills)"
   ]
  },
  {
   "cell_type": "code",
   "execution_count": null,
   "metadata": {
    "Collapsed": "false"
   },
   "outputs": [],
   "source": [
    "all_polys = occluded_tris"
   ]
  },
  {
   "cell_type": "markdown",
   "metadata": {
    "Collapsed": "false"
   },
   "source": [
    "## lattice 2"
   ]
  },
  {
   "cell_type": "code",
   "execution_count": null,
   "metadata": {
    "Collapsed": "false"
   },
   "outputs": [],
   "source": [
    "trcp = gp.RecursiveCirclePacker(drawbox.buffer(20), rad_seq_start=0.16,\n",
    "    rad_seq_end=0.16, min_allowed_rad=2, n_rads=10, )\n",
    "trcp.run(1)\n",
    "trcp.min_allowed_rad=5\n",
    "trcp.rad_seq_start=0.3\n",
    "trcp.rad_seq_end=0.3\n",
    "trcp.run(4)\n",
    "\n",
    "length_filter_gen = ss.uniform(96, 185).rvs\n",
    "buffer_size_gen = ss.uniform(1.4, 2.2).rvs\n",
    "tri_vertices = MultiPoint([c.centroid for c in trcp.unfilled_circles])\n",
    "trils = MultiLineString(so.triangulate(tri_vertices, edges=True))\n",
    "\n",
    "filt_trils = MultiLineString([l for l in trils if l.length<length_filter_gen()])\n",
    "tris = [f.buffer(buffer_size_gen(), cap_style=2, join_style=3) for f in filt_trils]\n",
    "tris = so.unary_union(tris)\n",
    "tris"
   ]
  },
  {
   "cell_type": "code",
   "execution_count": null,
   "metadata": {
    "Collapsed": "false"
   },
   "outputs": [],
   "source": [
    "int_tris = tris.intersection(rcp.unfilled_circles)"
   ]
  },
  {
   "cell_type": "code",
   "execution_count": null,
   "metadata": {
    "Collapsed": "false"
   },
   "outputs": [],
   "source": [
    "occluded_tris = gp.robust_difference(int_tris, all_polys, buffer_distance=-1e-6)"
   ]
  },
  {
   "cell_type": "code",
   "execution_count": null,
   "metadata": {
    "Collapsed": "false"
   },
   "outputs": [],
   "source": [
    "stp = gp.ScaleTransPrms(d_buffer=-0.25,angles=-45,)\n",
    "stp.d_buffers += np.random.uniform(-0.03, 0.03, size=stp.d_buffers.shape)"
   ]
  },
  {
   "cell_type": "code",
   "execution_count": null,
   "metadata": {
    "Collapsed": "false"
   },
   "outputs": [],
   "source": [
    "fills = []\n",
    "for p in occluded_tris:\n",
    "    P = gp.Poly(p)\n",
    "    P.fill_scale_trans(**stp.prms)\n",
    "    fills.append(P.fill)"
   ]
  },
  {
   "cell_type": "code",
   "execution_count": null,
   "metadata": {
    "Collapsed": "false"
   },
   "outputs": [],
   "source": [
    "layer2 = gp.merge_LineStrings(fills)"
   ]
  },
  {
   "cell_type": "code",
   "execution_count": null,
   "metadata": {
    "Collapsed": "false"
   },
   "outputs": [],
   "source": [
    "all_polys = so.unary_union([all_polys, occluded_tris]).buffer(-1e-6)"
   ]
  },
  {
   "cell_type": "markdown",
   "metadata": {
    "Collapsed": "false"
   },
   "source": [
    "## lattice3"
   ]
  },
  {
   "cell_type": "code",
   "execution_count": null,
   "metadata": {
    "Collapsed": "false"
   },
   "outputs": [],
   "source": [
    "trcp = gp.RecursiveCirclePacker(drawbox.buffer(10), rad_seq_start=0.15,\n",
    "    rad_seq_end=0.15, min_allowed_rad=2, n_rads=10, )\n",
    "trcp.run(1)\n",
    "trcp.min_allowed_rad=5\n",
    "trcp.rad_seq_start=0.2\n",
    "trcp.rad_seq_end=0.2\n",
    "trcp.run(4)"
   ]
  },
  {
   "cell_type": "code",
   "execution_count": null,
   "metadata": {
    "Collapsed": "false"
   },
   "outputs": [],
   "source": [
    "length_filter_gen = ss.uniform(96, 185).rvs\n",
    "buffer_size_gen = ss.uniform(1.5, 1.8).rvs\n",
    "tri_vertices = MultiPoint([c.centroid for c in trcp.unfilled_circles])\n",
    "trils = MultiLineString(so.triangulate(tri_vertices, edges=True))\n",
    "\n",
    "filt_trils = MultiLineString([l for l in trils if l.length<length_filter_gen()])\n",
    "tris = [f.buffer(buffer_size_gen(), cap_style=2, join_style=3) for f in filt_trils]\n",
    "tris = so.unary_union(tris)"
   ]
  },
  {
   "cell_type": "code",
   "execution_count": null,
   "metadata": {
    "Collapsed": "false"
   },
   "outputs": [],
   "source": [
    "int_tris = tris.intersection(rcp.unfilled_circles)\n",
    "occluded_tris = gp.robust_difference(int_tris, all_polys, buffer_distance=-1e-6)"
   ]
  },
  {
   "cell_type": "code",
   "execution_count": null,
   "metadata": {
    "Collapsed": "false"
   },
   "outputs": [],
   "source": [
    "stp = gp.ScaleTransPrms(d_buffer=-0.25,angles=-45,)\n",
    "stp.d_buffers += np.random.uniform(-0.03, 0.03, size=stp.d_buffers.shape)"
   ]
  },
  {
   "cell_type": "code",
   "execution_count": null,
   "metadata": {
    "Collapsed": "false"
   },
   "outputs": [],
   "source": [
    "fills = []\n",
    "for p in occluded_tris:\n",
    "    P = gp.Poly(p)\n",
    "    P.fill_scale_trans(**stp.prms)\n",
    "    fills.append(P.fill)"
   ]
  },
  {
   "cell_type": "code",
   "execution_count": null,
   "metadata": {
    "Collapsed": "false"
   },
   "outputs": [],
   "source": [
    "layer3 = gp.merge_LineStrings(fills)"
   ]
  },
  {
   "cell_type": "code",
   "execution_count": null,
   "metadata": {
    "Collapsed": "false"
   },
   "outputs": [],
   "source": [
    "all_polys = gp.merge_Polygons([all_polys, occluded_tris])"
   ]
  },
  {
   "cell_type": "code",
   "execution_count": null,
   "metadata": {
    "Collapsed": "false"
   },
   "outputs": [],
   "source": [
    "sk = vsketch.Vsketch()\n",
    "sk.size(page_format)\n",
    "\n",
    "sk.scale('1mm')\n",
    "sk.stroke(1)\n",
    "sk.geometry(layer1)\n",
    "sk.stroke(2)\n",
    "sk.geometry(layer2)\n",
    "sk.stroke(3)\n",
    "sk.geometry(layer3)\n",
    "sk.display(color_mode='none')"
   ]
  },
  {
   "cell_type": "code",
   "execution_count": null,
   "metadata": {
    "Collapsed": "false"
   },
   "outputs": [],
   "source": []
  },
  {
   "cell_type": "code",
   "execution_count": null,
   "metadata": {
    "Collapsed": "false"
   },
   "outputs": [],
   "source": [
    "savepath = '/mnt/c/code/side/plotter_images/oned_outputs/0120_waka_waka.svg'\n",
    "\n",
    "sk.save(savepath)\n",
    "\n",
    "vpype_commands = 'reloop linesimplify --tolerance 0.1mm linemerge --tolerance 0.1mm linesort'\n",
    "vpype_str = f'vpype read -q 0.05mm {savepath} {vpype_commands} write {savepath}'\n",
    "\n",
    "os.system(vpype_str)"
   ]
  },
  {
   "cell_type": "code",
   "execution_count": null,
   "metadata": {
    "Collapsed": "false"
   },
   "outputs": [],
   "source": []
  },
  {
   "cell_type": "code",
   "execution_count": null,
   "metadata": {
    "Collapsed": "false"
   },
   "outputs": [],
   "source": []
  },
  {
   "cell_type": "markdown",
   "metadata": {
    "Collapsed": "false"
   },
   "source": [
    "# Try 5"
   ]
  },
  {
   "cell_type": "code",
   "execution_count": null,
   "metadata": {
    "Collapsed": "false"
   },
   "outputs": [],
   "source": [
    "page_x_inches: float = 17. # inches\n",
    "page_y_inches: float = 11 # inches\n",
    "border:float = 20.\n",
    "\n",
    "buffer_style = 2"
   ]
  },
  {
   "cell_type": "code",
   "execution_count": null,
   "metadata": {
    "Collapsed": "false"
   },
   "outputs": [],
   "source": [
    "px = utils.DistanceConverter(page_x_inches, 'inches').mm\n",
    "py = utils.DistanceConverter(page_y_inches, 'inches').mm\n",
    "page_format = f'{px}mmx{py}mm'\n",
    "drawbox = sg.box(border, border, px-border, py-border)\n",
    "\n",
    "xmin, ymin, xmax, ymax = drawbox.bounds\n"
   ]
  },
  {
   "cell_type": "code",
   "execution_count": null,
   "metadata": {
    "Collapsed": "false"
   },
   "outputs": [],
   "source": [
    "# init\n",
    "rcp = gp.RecursiveCirclePacker(\n",
    "    drawbox, \n",
    "    rad_seq_start=0.48,\n",
    "    rad_seq_end=0.05,\n",
    "    min_allowed_rad=2,\n",
    "    n_rads=30,\n",
    ")\n",
    "rcp.run(1)"
   ]
  },
  {
   "cell_type": "code",
   "execution_count": null,
   "metadata": {
    "Collapsed": "false"
   },
   "outputs": [],
   "source": [
    "rcp.rad_seq_start=0.7\n",
    "rcp.rad_seq_end=0.09\n",
    "rcp.n_rads=80\n",
    "rcp.run(10, progress_bar=True)\n",
    "rcp.unfilled_circles"
   ]
  },
  {
   "cell_type": "markdown",
   "metadata": {
    "Collapsed": "false"
   },
   "source": [
    "## lattice 1"
   ]
  },
  {
   "cell_type": "code",
   "execution_count": null,
   "metadata": {
    "Collapsed": "false"
   },
   "outputs": [],
   "source": [
    "trcp = gp.RecursiveCirclePacker(drawbox.buffer(20), rad_seq_start=0.12,\n",
    "    rad_seq_end=0.12, min_allowed_rad=2, n_rads=10, )\n",
    "trcp.run(1)\n",
    "trcp.min_allowed_rad=5\n",
    "trcp.rad_seq_start=0.29\n",
    "trcp.rad_seq_end=0.18\n",
    "trcp.run(3)"
   ]
  },
  {
   "cell_type": "code",
   "execution_count": null,
   "metadata": {
    "Collapsed": "false"
   },
   "outputs": [],
   "source": [
    "\n",
    "def map_on_xrange(ls, xp, fp, *args, **kwargs):\n",
    "    return np.interp(ls.centroid.x, xp=xp, fp=fp)\n",
    "xp = [drawbox.bounds[0], drawbox.bounds[2]]"
   ]
  },
  {
   "cell_type": "code",
   "execution_count": null,
   "metadata": {
    "Collapsed": "false"
   },
   "outputs": [],
   "source": [
    "vertices = MultiPoint([c.centroid for c in trcp.unfilled_circles])"
   ]
  },
  {
   "cell_type": "code",
   "execution_count": null,
   "metadata": {
    "Collapsed": "false"
   },
   "outputs": [],
   "source": [
    "DL = gp.DelauneyLattice(\n",
    "    vertices=vertices,\n",
    "    max_length_filter_gen=lambda *args: ss.uniform(96, 185).rvs(),\n",
    "    min_length_filter_gen=gp.make_callable(0),\n",
    "    buffer_size_gen=functools.partial(map_on_xrange, xp=xp, fp=[0.8, 2.5]),\n",
    "    buffer_individually=True,\n",
    ")"
   ]
  },
  {
   "cell_type": "code",
   "execution_count": null,
   "metadata": {
    "Collapsed": "false"
   },
   "outputs": [],
   "source": [
    "occluded_tris = so.unary_union(DL.polys).intersection(rcp.unfilled_circles).buffer(1e-6)"
   ]
  },
  {
   "cell_type": "code",
   "execution_count": null,
   "metadata": {
    "Collapsed": "false"
   },
   "outputs": [],
   "source": [
    "stp = gp.ScaleTransPrms(d_buffer=-0.35,angles=-45,)\n",
    "stp.d_buffers += np.random.uniform(-0.03, 0.03, size=stp.d_buffers.shape)"
   ]
  },
  {
   "cell_type": "code",
   "execution_count": null,
   "metadata": {
    "Collapsed": "false"
   },
   "outputs": [],
   "source": [
    "fills = []\n",
    "for p in occluded_tris:\n",
    "    P = gp.Poly(p)\n",
    "    P.fill_scale_trans(**stp.prms)\n",
    "    fills.append(P.fill)"
   ]
  },
  {
   "cell_type": "code",
   "execution_count": null,
   "metadata": {
    "Collapsed": "false"
   },
   "outputs": [],
   "source": [
    "layer1 = gp.merge_LineStrings(fills)"
   ]
  },
  {
   "cell_type": "code",
   "execution_count": null,
   "metadata": {
    "Collapsed": "false"
   },
   "outputs": [],
   "source": [
    "all_polys = occluded_tris"
   ]
  },
  {
   "cell_type": "markdown",
   "metadata": {
    "Collapsed": "true"
   },
   "source": [
    "## lattice 2"
   ]
  },
  {
   "cell_type": "code",
   "execution_count": null,
   "metadata": {
    "Collapsed": "false"
   },
   "outputs": [],
   "source": [
    "trcp = gp.RecursiveCirclePacker(drawbox.buffer(20), rad_seq_start=0.10,\n",
    "    rad_seq_end=0.10, min_allowed_rad=2, n_rads=10, )\n",
    "trcp.run(1)\n",
    "trcp.min_allowed_rad=5\n",
    "trcp.rad_seq_start=0.3\n",
    "trcp.rad_seq_end=0.3\n",
    "trcp.run(4)\n"
   ]
  },
  {
   "cell_type": "code",
   "execution_count": null,
   "metadata": {
    "Collapsed": "false"
   },
   "outputs": [],
   "source": [
    "vertices = MultiPoint([c.centroid for c in trcp.unfilled_circles])"
   ]
  },
  {
   "cell_type": "code",
   "execution_count": null,
   "metadata": {
    "Collapsed": "false"
   },
   "outputs": [],
   "source": [
    "DL = gp.DelauneyLattice(\n",
    "    vertices=vertices,\n",
    "    max_length_filter_gen=lambda *args: ss.uniform(96, 185).rvs(),\n",
    "    min_length_filter_gen=gp.make_callable(0),\n",
    "    buffer_size_gen=functools.partial(map_on_xrange, xp=xp, fp=[2.5, 0.8]),\n",
    "    buffer_individually=True,\n",
    ")"
   ]
  },
  {
   "cell_type": "code",
   "execution_count": null,
   "metadata": {
    "Collapsed": "false"
   },
   "outputs": [],
   "source": [
    "int_tris = so.unary_union(DL.polys).intersection(rcp.unfilled_circles).buffer(-1e-6)"
   ]
  },
  {
   "cell_type": "code",
   "execution_count": null,
   "metadata": {
    "Collapsed": "false"
   },
   "outputs": [],
   "source": [
    "occluded_tris = gp.robust_difference(int_tris, all_polys, buffer_distance=1e-6)"
   ]
  },
  {
   "cell_type": "code",
   "execution_count": null,
   "metadata": {
    "Collapsed": "false"
   },
   "outputs": [],
   "source": [
    "stp = gp.ScaleTransPrms(d_buffer=-0.35,angles=-45,)\n",
    "stp.d_buffers += np.random.uniform(-0.03, 0.03, size=stp.d_buffers.shape)"
   ]
  },
  {
   "cell_type": "code",
   "execution_count": null,
   "metadata": {
    "Collapsed": "false"
   },
   "outputs": [],
   "source": [
    "fills = []\n",
    "for p in occluded_tris:\n",
    "    P = gp.Poly(p)\n",
    "    P.fill_scale_trans(**stp.prms)\n",
    "    fills.append(P.fill)"
   ]
  },
  {
   "cell_type": "code",
   "execution_count": null,
   "metadata": {
    "Collapsed": "false"
   },
   "outputs": [],
   "source": [
    "layer2 = gp.merge_LineStrings(fills)"
   ]
  },
  {
   "cell_type": "code",
   "execution_count": null,
   "metadata": {
    "Collapsed": "false"
   },
   "outputs": [],
   "source": [
    "all_polys = so.unary_union([all_polys, occluded_tris]).buffer(1e-6)"
   ]
  },
  {
   "cell_type": "code",
   "execution_count": null,
   "metadata": {
    "Collapsed": "false"
   },
   "outputs": [],
   "source": [
    "all_polys"
   ]
  },
  {
   "cell_type": "markdown",
   "metadata": {
    "Collapsed": "false"
   },
   "source": [
    "## lattice3"
   ]
  },
  {
   "cell_type": "code",
   "execution_count": null,
   "metadata": {
    "Collapsed": "false"
   },
   "outputs": [],
   "source": [
    "trcp = gp.RecursiveCirclePacker(drawbox.buffer(20), rad_seq_start=0.16,\n",
    "    rad_seq_end=0.16, min_allowed_rad=2, n_rads=10, )\n",
    "trcp.run(1)\n",
    "trcp.min_allowed_rad=5\n",
    "trcp.rad_seq_start=0.3\n",
    "trcp.rad_seq_end=0.3\n",
    "trcp.run(4)\n"
   ]
  },
  {
   "cell_type": "code",
   "execution_count": null,
   "metadata": {
    "Collapsed": "false"
   },
   "outputs": [],
   "source": [
    "vertices = MultiPoint([c.centroid for c in trcp.unfilled_circles])"
   ]
  },
  {
   "cell_type": "code",
   "execution_count": null,
   "metadata": {
    "Collapsed": "false"
   },
   "outputs": [],
   "source": [
    "DL = DelauneyLattice(\n",
    "    vertices=vertices,\n",
    "    max_length_filter_gen=lambda *args: ss.uniform(96, 185).rvs(),\n",
    "    min_length_filter_gen=gp.make_callable(0),\n",
    "    buffer_size_gen=functools.partial(map_on_xrange, xp=xp, fp=[0.5, 2]),\n",
    "    buffer_individually=True,\n",
    ")"
   ]
  },
  {
   "cell_type": "code",
   "execution_count": null,
   "metadata": {
    "Collapsed": "false"
   },
   "outputs": [],
   "source": [
    "int_tris = so.unary_union(DL.polys).intersection(rcp.unfilled_circles).buffer(1e-6)"
   ]
  },
  {
   "cell_type": "code",
   "execution_count": null,
   "metadata": {
    "Collapsed": "false"
   },
   "outputs": [],
   "source": [
    "occluded_tris = gp.robust_difference(int_tris, all_polys, buffer_distance=1e-6)"
   ]
  },
  {
   "cell_type": "code",
   "execution_count": null,
   "metadata": {
    "Collapsed": "false"
   },
   "outputs": [],
   "source": [
    "stp = gp.ScaleTransPrms(d_buffer=-0.35,angles=-45,)\n",
    "stp.d_buffers += np.random.uniform(-0.03, 0.03, size=stp.d_buffers.shape)"
   ]
  },
  {
   "cell_type": "code",
   "execution_count": null,
   "metadata": {
    "Collapsed": "false"
   },
   "outputs": [],
   "source": [
    "fills = []\n",
    "for p in occluded_tris:\n",
    "    P = gp.Poly(p)\n",
    "    P.fill_scale_trans(**stp.prms)\n",
    "    fills.append(P.fill)"
   ]
  },
  {
   "cell_type": "code",
   "execution_count": null,
   "metadata": {
    "Collapsed": "false"
   },
   "outputs": [],
   "source": [
    "layer3 = gp.merge_LineStrings(fills)"
   ]
  },
  {
   "cell_type": "code",
   "execution_count": null,
   "metadata": {
    "Collapsed": "false"
   },
   "outputs": [],
   "source": [
    "all_polys = so.unary_union([all_polys, occluded_tris]).buffer(1e-6)"
   ]
  },
  {
   "cell_type": "code",
   "execution_count": null,
   "metadata": {
    "Collapsed": "false"
   },
   "outputs": [],
   "source": [
    "sk = vsketch.Vsketch()\n",
    "sk.size(page_format)\n",
    "\n",
    "sk.scale('1mm')\n",
    "sk.stroke(1)\n",
    "sk.geometry(layer1)\n",
    "sk.stroke(2)\n",
    "sk.geometry(layer2)\n",
    "sk.stroke(3)\n",
    "sk.geometry(layer3)\n",
    "sk.display(color_mode='none')"
   ]
  },
  {
   "cell_type": "code",
   "execution_count": null,
   "metadata": {
    "Collapsed": "false"
   },
   "outputs": [],
   "source": []
  },
  {
   "cell_type": "code",
   "execution_count": null,
   "metadata": {
    "Collapsed": "false"
   },
   "outputs": [],
   "source": [
    "savepath = '/mnt/c/code/side/plotter_images/oned_outputs/0120_waka_waka.svg'\n",
    "\n",
    "sk.save(savepath)\n",
    "\n",
    "vpype_commands = 'reloop linesimplify --tolerance 0.1mm linemerge --tolerance 0.1mm linesort'\n",
    "vpype_str = f'vpype read -q 0.05mm {savepath} {vpype_commands} write {savepath}'\n",
    "\n",
    "os.system(vpype_str)"
   ]
  },
  {
   "cell_type": "markdown",
   "metadata": {
    "Collapsed": "false"
   },
   "source": [
    "# Try 6"
   ]
  },
  {
   "cell_type": "code",
   "execution_count": null,
   "metadata": {
    "Collapsed": "false"
   },
   "outputs": [],
   "source": [
    "page_x_inches: float = 17. # inches\n",
    "page_y_inches: float = 11 # inches\n",
    "border:float = 20.\n",
    "\n",
    "buffer_style = 2"
   ]
  },
  {
   "cell_type": "code",
   "execution_count": null,
   "metadata": {
    "Collapsed": "false"
   },
   "outputs": [],
   "source": [
    "px = utils.DistanceConverter(page_x_inches, 'inches').mm\n",
    "py = utils.DistanceConverter(page_y_inches, 'inches').mm\n",
    "page_format = f'{px}mmx{py}mm'\n",
    "drawbox = sg.box(border, border, px-border, py-border)\n",
    "\n",
    "xmin, ymin, xmax, ymax = drawbox.bounds\n"
   ]
  },
  {
   "cell_type": "code",
   "execution_count": null,
   "metadata": {
    "Collapsed": "false"
   },
   "outputs": [],
   "source": [
    "# init\n",
    "rcp = gp.RecursiveCirclePacker(\n",
    "    drawbox, \n",
    "    rad_seq_start=0.5,\n",
    "    rad_seq_end=0.1,\n",
    "    min_allowed_rad=2,\n",
    "    n_rads=90,\n",
    ")\n",
    "rcp.run(1)"
   ]
  },
  {
   "cell_type": "code",
   "execution_count": null,
   "metadata": {
    "Collapsed": "false"
   },
   "outputs": [],
   "source": [
    "rcp.rad_seq_start=0.5\n",
    "rcp.rad_seq_end=0.1\n",
    "rcp.n_rads=80\n",
    "rcp.run(3, progress_bar=True)\n",
    "rcp.unfilled_circles"
   ]
  },
  {
   "cell_type": "code",
   "execution_count": null,
   "metadata": {
    "Collapsed": "false"
   },
   "outputs": [],
   "source": [
    "# init\n",
    "rcp2 = gp.RecursiveCirclePacker(\n",
    "    drawbox, \n",
    "    rad_seq_start=0.4,\n",
    "    rad_seq_end=0.1,\n",
    "    min_allowed_rad=2,\n",
    "    n_rads=90,\n",
    ")\n",
    "rcp2.run(1)"
   ]
  },
  {
   "cell_type": "code",
   "execution_count": null,
   "metadata": {
    "Collapsed": "false"
   },
   "outputs": [],
   "source": [
    "rcp2.rad_seq_start=0.4\n",
    "rcp2.rad_seq_end=0.1\n",
    "rcp2.n_rads=80\n",
    "rcp2.run(3, progress_bar=True)\n",
    "rcp2.unfilled_circles"
   ]
  },
  {
   "cell_type": "code",
   "execution_count": null,
   "metadata": {
    "Collapsed": "false"
   },
   "outputs": [],
   "source": [
    "# init\n",
    "rcp3 = gp.RecursiveCirclePacker(\n",
    "    drawbox, \n",
    "    rad_seq_start=0.4,\n",
    "    rad_seq_end=0.1,\n",
    "    min_allowed_rad=2,\n",
    "    n_rads=90,\n",
    ")\n",
    "rcp3.run(1)"
   ]
  },
  {
   "cell_type": "code",
   "execution_count": null,
   "metadata": {
    "Collapsed": "false"
   },
   "outputs": [],
   "source": [
    "rcp3.rad_seq_start=0.4\n",
    "rcp3.rad_seq_end=0.1\n",
    "rcp3.n_rads=80\n",
    "rcp3.run(5, progress_bar=True)\n",
    "rcp3.unfilled_circles"
   ]
  },
  {
   "cell_type": "code",
   "execution_count": null,
   "metadata": {
    "Collapsed": "false"
   },
   "outputs": [],
   "source": [
    "d1 = rcp.unfilled_circles.intersection(rcp2.unfilled_circles).buffer(4, cap_style=2).difference(rcp3.unfilled_boundary.buffer(3))"
   ]
  },
  {
   "cell_type": "code",
   "execution_count": null,
   "metadata": {
    "Collapsed": "false"
   },
   "outputs": [],
   "source": [
    "stp = gp.ScaleTransPrms(d_buffer=-1.25,angles=-45,)\n",
    "stp.d_buffers += np.random.uniform(-0.15, 0.15, size=stp.d_buffers.shape)\n",
    "stp.angles = np.linspace(np.radians(720), 0,  stp.d_buffers.shape[0])\n",
    "fills = []\n",
    "for p in d1:\n",
    "    P = gp.Poly(p)\n",
    "    P.fill_scale_trans(**stp.prms)\n",
    "    fills.append(P.fill)\n",
    "\n",
    "layer1 = gp.merge_LineStrings(fills)"
   ]
  },
  {
   "cell_type": "code",
   "execution_count": null,
   "metadata": {
    "Collapsed": "false"
   },
   "outputs": [],
   "source": [
    "morse_lss = []\n",
    "for ls in tqdm(layer1):\n",
    "    morsed = ls.buffer(1e-7).buffer(-1e-7).boundary\n",
    "    morse_lss.append(morsed)"
   ]
  },
  {
   "cell_type": "code",
   "execution_count": null,
   "metadata": {
    "Collapsed": "false"
   },
   "outputs": [],
   "source": [
    "filt_lss = [ls for ls in morse_lss if ls.length > 0.1]"
   ]
  },
  {
   "cell_type": "code",
   "execution_count": null,
   "metadata": {
    "Collapsed": "false"
   },
   "outputs": [],
   "source": [
    "layer2 = gp.merge_LineStrings(filt_lss)"
   ]
  },
  {
   "cell_type": "code",
   "execution_count": null,
   "metadata": {
    "Collapsed": "false"
   },
   "outputs": [],
   "source": [
    "layer3 = gp.merge_LineStrings([ls for ls in layer2 if ls.length > 0.5])"
   ]
  },
  {
   "cell_type": "code",
   "execution_count": null,
   "metadata": {
    "Collapsed": "false"
   },
   "outputs": [],
   "source": [
    "sns.displot([np.log10(ls.length) for ls in filt_lss])"
   ]
  },
  {
   "cell_type": "code",
   "execution_count": null,
   "metadata": {
    "Collapsed": "false"
   },
   "outputs": [],
   "source": [
    "sns.displot([np.log10(ls.length) for ls in layer3])"
   ]
  },
  {
   "cell_type": "code",
   "execution_count": null,
   "metadata": {
    "Collapsed": "false"
   },
   "outputs": [],
   "source": [
    "sk = vsketch.Vsketch()\n",
    "sk.size(page_format)\n",
    "\n",
    "sk.scale('1mm')\n",
    "# sk.stroke(1)\n",
    "# sk.geometry(layer1)\n",
    "sk.stroke(2)\n",
    "sk.geometry(layer3)\n",
    "sk.display(color_mode='none')"
   ]
  },
  {
   "cell_type": "code",
   "execution_count": null,
   "metadata": {
    "Collapsed": "false"
   },
   "outputs": [],
   "source": []
  },
  {
   "cell_type": "code",
   "execution_count": null,
   "metadata": {
    "Collapsed": "false"
   },
   "outputs": [],
   "source": [
    "from time import sleep"
   ]
  },
  {
   "cell_type": "code",
   "execution_count": null,
   "metadata": {
    "Collapsed": "false"
   },
   "outputs": [],
   "source": [
    "pbar = tqdm(total = 76)\n",
    "for i in range(31):\n",
    "    sleep(0.1)\n",
    "    pbar.update()"
   ]
  },
  {
   "cell_type": "code",
   "execution_count": null,
   "metadata": {
    "Collapsed": "false"
   },
   "outputs": [],
   "source": [
    "5.256e5"
   ]
  },
  {
   "cell_type": "code",
   "execution_count": null,
   "metadata": {
    "Collapsed": "false"
   },
   "outputs": [],
   "source": [
    "1/525600."
   ]
  },
  {
   "cell_type": "code",
   "execution_count": null,
   "metadata": {
    "Collapsed": "false"
   },
   "outputs": [],
   "source": [
    "spy = 1/(525600 * 60)\n"
   ]
  },
  {
   "cell_type": "code",
   "execution_count": null,
   "metadata": {
    "Collapsed": "false"
   },
   "outputs": [],
   "source": [
    "import pandas as pd"
   ]
  },
  {
   "cell_type": "code",
   "execution_count": null,
   "metadata": {
    "Collapsed": "false"
   },
   "outputs": [],
   "source": [
    "td = pd.to_timedelta(secs_remaining, unit='S')"
   ]
  },
  {
   "cell_type": "code",
   "execution_count": null,
   "metadata": {
    "Collapsed": "false"
   },
   "outputs": [],
   "source": [
    "td += pd.to_timedelta(127, unit='m')"
   ]
  },
  {
   "cell_type": "code",
   "execution_count": null,
   "metadata": {
    "Collapsed": "false"
   },
   "outputs": [],
   "source": [
    "from string import Template\n",
    "\n",
    "class DeltaTemplate(Template):\n",
    "    delimiter = \"%\"\n",
    "\n",
    "def strfdelta(tdelta, fmt):\n",
    "    \n",
    "    days = tdelta.days\n",
    "    d = {}\n",
    "    d['Y'], rem = divmod(days, 365)\n",
    "    d['D'] = rem\n",
    "    \n",
    "    hours, rem = divmod(tdelta.seconds, 3600)\n",
    "    minutes, seconds = divmod(rem, 60)\n",
    "    \n",
    "    d[\"H\"] = '{:02d}'.format(hours)\n",
    "    d[\"M\"] = '{:02d}'.format(minutes)\n",
    "    d[\"S\"] = '{:02d}'.format(seconds)\n",
    "    t = DeltaTemplate(fmt)\n",
    "    return t.substitute(**d)"
   ]
  },
  {
   "cell_type": "code",
   "execution_count": null,
   "metadata": {
    "Collapsed": "false"
   },
   "outputs": [],
   "source": [
    "strfdelta(td,'%Y:%H:%M:%S')"
   ]
  },
  {
   "cell_type": "code",
   "execution_count": null,
   "metadata": {
    "Collapsed": "false"
   },
   "outputs": [],
   "source": [
    "td.isoformat()"
   ]
  },
  {
   "cell_type": "code",
   "execution_count": null,
   "metadata": {
    "Collapsed": "false"
   },
   "outputs": [],
   "source": [
    "sr = pd.to_timedelta(secs_remaining, unit='S')\n",
    "strfdelta(sr,'%Y:%D:%H:%M:%S')"
   ]
  },
  {
   "cell_type": "code",
   "execution_count": null,
   "metadata": {
    "Collapsed": "false"
   },
   "outputs": [],
   "source": [
    "def iso8601(tdelta):\n",
    "    ts = tdelta.total_seconds()\n",
    "    d = int(ts // 86400)\n",
    "    s = round(ts % 60, 6)\n",
    "    hms = int(ts // 3600 % 24), int(ts // 60 % 60), s if s % 1 != 0 else int(s)\n",
    "    t = ''.join([str(p[0]) + p[1] for p in zip(hms, ['H', 'M', 'S']) if p[0]])\n",
    "    sep = 'T' if any(hms) else ''\n",
    "    return 'P' + (str(d) + 'D' if d else '') + sep + (t if ts else 'T0S')"
   ]
  },
  {
   "cell_type": "code",
   "execution_count": null,
   "metadata": {
    "Collapsed": "false"
   },
   "outputs": [],
   "source": [
    "iso8601(sr)"
   ]
  },
  {
   "cell_type": "code",
   "execution_count": null,
   "metadata": {
    "Collapsed": "false"
   },
   "outputs": [],
   "source": [
    "se = pd.to_timedelta(secs_elapsed, unit='S')\n",
    "strfdelta(se,'%Y:%D:%H:%M:%S')"
   ]
  },
  {
   "cell_type": "code",
   "execution_count": null,
   "metadata": {
    "Collapsed": "false"
   },
   "outputs": [],
   "source": [
    "secs_elapsed = 31 * spy**-1 + 7623"
   ]
  },
  {
   "cell_type": "code",
   "execution_count": null,
   "metadata": {
    "Collapsed": "false"
   },
   "outputs": [],
   "source": [
    "secs_elapsed"
   ]
  },
  {
   "cell_type": "code",
   "execution_count": null,
   "metadata": {
    "Collapsed": "false"
   },
   "outputs": [],
   "source": [
    "total_secs = (76 * spy**-1) + 812399"
   ]
  },
  {
   "cell_type": "code",
   "execution_count": null,
   "metadata": {
    "Collapsed": "false"
   },
   "outputs": [],
   "source": [
    "total_secs"
   ]
  },
  {
   "cell_type": "code",
   "execution_count": null,
   "metadata": {
    "Collapsed": "false"
   },
   "outputs": [],
   "source": [
    "secs_remaining = total_secs - secs_elapsed"
   ]
  },
  {
   "cell_type": "code",
   "execution_count": null,
   "metadata": {
    "Collapsed": "false"
   },
   "outputs": [],
   "source": [
    "secs_remaining"
   ]
  },
  {
   "cell_type": "code",
   "execution_count": null,
   "metadata": {
    "Collapsed": "false"
   },
   "outputs": [],
   "source": [
    "savepath = '/mnt/c/code/side/plotter_images/oned_outputs/0121_morsed_circle_pack_diffs.svg'\n",
    "\n",
    "sk.save(savepath)\n",
    "\n",
    "vpype_commands = 'reloop linesimplify --tolerance 0.1mm linemerge --tolerance 0.2mm linesort'\n",
    "vpype_str = f'vpype read -q 0.05mm {savepath} {vpype_commands} write {savepath}'\n",
    "\n",
    "os.system(vpype_str)"
   ]
  },
  {
   "cell_type": "markdown",
   "metadata": {
    "Collapsed": "false"
   },
   "source": [
    "# Try 6"
   ]
  },
  {
   "cell_type": "code",
   "execution_count": null,
   "metadata": {
    "Collapsed": "false"
   },
   "outputs": [],
   "source": [
    "page_x_inches: float = 14. # inches\n",
    "page_y_inches: float = 11 # inches\n",
    "border:float = 30.\n",
    "\n",
    "buffer_style = 2"
   ]
  },
  {
   "cell_type": "code",
   "execution_count": null,
   "metadata": {
    "Collapsed": "false"
   },
   "outputs": [],
   "source": [
    "px = utils.DistanceConverter(page_x_inches, 'inches').mm\n",
    "py = utils.DistanceConverter(page_y_inches, 'inches').mm\n",
    "page_format = f'{px}mmx{py}mm'\n",
    "drawbox = sg.box(border, border, px-border, py-border)\n",
    "\n",
    "xmin, ymin, xmax, ymax = drawbox.bounds\n"
   ]
  },
  {
   "cell_type": "code",
   "execution_count": null,
   "metadata": {
    "Collapsed": "false"
   },
   "outputs": [],
   "source": [
    "# init\n",
    "rcp = gp.RecursiveCirclePacker(\n",
    "    drawbox, \n",
    "    rad_seq_start=0.48,\n",
    "    rad_seq_end=0.05,\n",
    "    min_allowed_rad=2,\n",
    "    n_rads=30,\n",
    ")\n",
    "rcp.run(1)"
   ]
  },
  {
   "cell_type": "code",
   "execution_count": null,
   "metadata": {
    "Collapsed": "false"
   },
   "outputs": [],
   "source": [
    "rcp.rad_seq_start=0.6\n",
    "rcp.rad_seq_end=0.04\n",
    "rcp.n_rads=80\n",
    "rcp.run(50, progress_bar=True)\n",
    "rcp.unfilled_circles"
   ]
  },
  {
   "cell_type": "markdown",
   "metadata": {
    "Collapsed": "false"
   },
   "source": [
    "## lattice 1"
   ]
  },
  {
   "cell_type": "code",
   "execution_count": null,
   "metadata": {
    "Collapsed": "false"
   },
   "outputs": [],
   "source": [
    "trcp = gp.RecursiveCirclePacker(drawbox.buffer(20), rad_seq_start=0.16,\n",
    "    rad_seq_end=0.16, min_allowed_rad=2, n_rads=10, )\n",
    "trcp.run(1)\n",
    "trcp.min_allowed_rad=5\n",
    "trcp.rad_seq_start=0.29\n",
    "trcp.rad_seq_end=0.18\n",
    "trcp.run(3)\n",
    "\n",
    "length_filter_gen = ss.uniform(96, 185).rvs\n",
    "buffer_size_gen = ss.uniform(2.1, 2.8).rvs\n",
    "tri_vertices = MultiPoint([c.centroid for c in trcp.unfilled_circles])\n",
    "trils = MultiLineString(so.triangulate(tri_vertices, edges=True))\n",
    "\n",
    "filt_trils = MultiLineString([l for l in trils if l.length<length_filter_gen()])\n",
    "tris = [f.buffer(buffer_size_gen(), cap_style=2, join_style=3) for f in filt_trils]\n",
    "tris = so.unary_union(tris)\n",
    "tris"
   ]
  },
  {
   "cell_type": "code",
   "execution_count": null,
   "metadata": {
    "Collapsed": "false"
   },
   "outputs": [],
   "source": [
    "occluded_tris = tris.intersection(rcp.unfilled_circles).buffer(-1e-6)"
   ]
  },
  {
   "cell_type": "code",
   "execution_count": null,
   "metadata": {
    "Collapsed": "false"
   },
   "outputs": [],
   "source": [
    "stp = gp.ScaleTransPrms(d_buffer=-0.25,angles=-45,)\n",
    "stp.d_buffers += np.random.uniform(-0.03, 0.03, size=stp.d_buffers.shape)"
   ]
  },
  {
   "cell_type": "code",
   "execution_count": null,
   "metadata": {
    "Collapsed": "false"
   },
   "outputs": [],
   "source": [
    "fills = []\n",
    "for p in occluded_tris:\n",
    "    P = gp.Poly(p)\n",
    "    P.fill_scale_trans(**stp.prms)\n",
    "    fills.append(P.fill)"
   ]
  },
  {
   "cell_type": "code",
   "execution_count": null,
   "metadata": {
    "Collapsed": "false"
   },
   "outputs": [],
   "source": [
    "layer1 = gp.merge_LineStrings(fills)"
   ]
  },
  {
   "cell_type": "code",
   "execution_count": null,
   "metadata": {
    "Collapsed": "false"
   },
   "outputs": [],
   "source": [
    "all_polys = occluded_tris"
   ]
  },
  {
   "cell_type": "markdown",
   "metadata": {
    "Collapsed": "false"
   },
   "source": [
    "## lattice 2"
   ]
  },
  {
   "cell_type": "code",
   "execution_count": null,
   "metadata": {
    "Collapsed": "false"
   },
   "outputs": [],
   "source": [
    "trcp = gp.RecursiveCirclePacker(drawbox.buffer(20), rad_seq_start=0.16,\n",
    "    rad_seq_end=0.16, min_allowed_rad=2, n_rads=10, )\n",
    "trcp.run(1)\n",
    "trcp.min_allowed_rad=5\n",
    "trcp.rad_seq_start=0.3\n",
    "trcp.rad_seq_end=0.3\n",
    "trcp.run(4)\n",
    "\n",
    "length_filter_gen = ss.uniform(96, 185).rvs\n",
    "buffer_size_gen = ss.uniform(1.4, 2.2).rvs\n",
    "tri_vertices = MultiPoint([c.centroid for c in trcp.unfilled_circles])\n",
    "trils = MultiLineString(so.triangulate(tri_vertices, edges=True))\n",
    "\n",
    "filt_trils = MultiLineString([l for l in trils if l.length<length_filter_gen()])\n",
    "tris = [f.buffer(buffer_size_gen(), cap_style=2, join_style=3) for f in filt_trils]\n",
    "tris = so.unary_union(tris)\n",
    "tris"
   ]
  },
  {
   "cell_type": "code",
   "execution_count": null,
   "metadata": {
    "Collapsed": "false"
   },
   "outputs": [],
   "source": [
    "int_tris = tris.intersection(rcp.unfilled_circles)"
   ]
  },
  {
   "cell_type": "code",
   "execution_count": null,
   "metadata": {
    "Collapsed": "false"
   },
   "outputs": [],
   "source": [
    "occluded_tris = gp.robust_difference(int_tris, all_polys, buffer_distance=-1e-6)"
   ]
  },
  {
   "cell_type": "code",
   "execution_count": null,
   "metadata": {
    "Collapsed": "false"
   },
   "outputs": [],
   "source": [
    "stp = gp.ScaleTransPrms(d_buffer=-0.25,angles=-45,)\n",
    "stp.d_buffers += np.random.uniform(-0.03, 0.03, size=stp.d_buffers.shape)"
   ]
  },
  {
   "cell_type": "code",
   "execution_count": null,
   "metadata": {
    "Collapsed": "false"
   },
   "outputs": [],
   "source": [
    "fills = []\n",
    "for p in occluded_tris:\n",
    "    P = gp.Poly(p)\n",
    "    P.fill_scale_trans(**stp.prms)\n",
    "    fills.append(P.fill)"
   ]
  },
  {
   "cell_type": "code",
   "execution_count": null,
   "metadata": {
    "Collapsed": "false"
   },
   "outputs": [],
   "source": [
    "layer2 = gp.merge_LineStrings(fills)"
   ]
  },
  {
   "cell_type": "code",
   "execution_count": null,
   "metadata": {
    "Collapsed": "false"
   },
   "outputs": [],
   "source": [
    "all_polys = so.unary_union([all_polys, occluded_tris]).buffer(-1e-6)"
   ]
  },
  {
   "cell_type": "markdown",
   "metadata": {
    "Collapsed": "false"
   },
   "source": [
    "## lattice3"
   ]
  },
  {
   "cell_type": "code",
   "execution_count": null,
   "metadata": {
    "Collapsed": "false"
   },
   "outputs": [],
   "source": [
    "trcp = gp.RecursiveCirclePacker(drawbox.buffer(10), rad_seq_start=0.15,\n",
    "    rad_seq_end=0.15, min_allowed_rad=2, n_rads=10, )\n",
    "trcp.run(1)\n",
    "trcp.min_allowed_rad=5\n",
    "trcp.rad_seq_start=0.2\n",
    "trcp.rad_seq_end=0.2\n",
    "trcp.run(4)"
   ]
  },
  {
   "cell_type": "code",
   "execution_count": null,
   "metadata": {
    "Collapsed": "false"
   },
   "outputs": [],
   "source": [
    "length_filter_gen = ss.uniform(96, 185).rvs\n",
    "buffer_size_gen = ss.uniform(1.5, 1.8).rvs\n",
    "tri_vertices = MultiPoint([c.centroid for c in trcp.unfilled_circles])\n",
    "trils = MultiLineString(so.triangulate(tri_vertices, edges=True))\n",
    "\n",
    "filt_trils = MultiLineString([l for l in trils if l.length<length_filter_gen()])\n",
    "tris = [f.buffer(buffer_size_gen(), cap_style=2, join_style=3) for f in filt_trils]\n",
    "tris = so.unary_union(tris)"
   ]
  },
  {
   "cell_type": "code",
   "execution_count": null,
   "metadata": {
    "Collapsed": "false"
   },
   "outputs": [],
   "source": [
    "int_tris = tris.intersection(rcp.unfilled_circles)\n",
    "occluded_tris = gp.robust_difference(int_tris, all_polys, buffer_distance=-1e-6)"
   ]
  },
  {
   "cell_type": "code",
   "execution_count": null,
   "metadata": {
    "Collapsed": "false"
   },
   "outputs": [],
   "source": [
    "stp = gp.ScaleTransPrms(d_buffer=-0.25,angles=-45,)\n",
    "stp.d_buffers += np.random.uniform(-0.03, 0.03, size=stp.d_buffers.shape)"
   ]
  },
  {
   "cell_type": "code",
   "execution_count": null,
   "metadata": {
    "Collapsed": "false"
   },
   "outputs": [],
   "source": [
    "fills = []\n",
    "for p in occluded_tris:\n",
    "    P = gp.Poly(p)\n",
    "    P.fill_scale_trans(**stp.prms)\n",
    "    fills.append(P.fill)"
   ]
  },
  {
   "cell_type": "code",
   "execution_count": null,
   "metadata": {
    "Collapsed": "false"
   },
   "outputs": [],
   "source": [
    "layer3 = gp.merge_LineStrings(fills)"
   ]
  },
  {
   "cell_type": "code",
   "execution_count": null,
   "metadata": {
    "Collapsed": "false"
   },
   "outputs": [],
   "source": [
    "all_polys = gp.merge_Polygons([all_polys, occluded_tris])"
   ]
  },
  {
   "cell_type": "code",
   "execution_count": null,
   "metadata": {
    "Collapsed": "false"
   },
   "outputs": [],
   "source": [
    "sk = vsketch.Vsketch()\n",
    "sk.size(page_format)\n",
    "\n",
    "sk.scale('1mm')\n",
    "sk.stroke(1)\n",
    "sk.geometry(layer1)\n",
    "sk.stroke(2)\n",
    "sk.geometry(layer2)\n",
    "sk.stroke(3)\n",
    "sk.geometry(layer3)\n",
    "sk.display(color_mode='layer')"
   ]
  },
  {
   "cell_type": "code",
   "execution_count": null,
   "metadata": {
    "Collapsed": "false"
   },
   "outputs": [],
   "source": []
  },
  {
   "cell_type": "code",
   "execution_count": null,
   "metadata": {
    "Collapsed": "false"
   },
   "outputs": [],
   "source": [
    "savepath = '/mnt/c/code/side/plotter_images/oned_outputs/0274_cpack_beams.svg'\n",
    "\n",
    "sk.save(savepath)\n",
    "\n",
    "vpype_commands = 'reloop linesimplify --tolerance 0.1mm linemerge --tolerance 0.1mm linesort'\n",
    "vpype_str = f'vpype read -q 0.05mm {savepath} {vpype_commands} write {savepath}'\n",
    "\n",
    "os.system(vpype_str)"
   ]
  },
  {
   "cell_type": "code",
   "execution_count": null,
   "metadata": {
    "Collapsed": "false"
   },
   "outputs": [],
   "source": []
  },
  {
   "cell_type": "markdown",
   "metadata": {
    "Collapsed": "false",
    "jupyter": {
     "source_hidden": true
    }
   },
   "source": [
    "# Try 7"
   ]
  },
  {
   "cell_type": "code",
   "execution_count": null,
   "metadata": {
    "Collapsed": "false"
   },
   "outputs": [],
   "source": [
    "page_x_inches: float = 7. # inches\n",
    "page_y_inches: float = 5 # inches\n",
    "border:float = 15.\n",
    "\n",
    "buffer_style = 2"
   ]
  },
  {
   "cell_type": "code",
   "execution_count": null,
   "metadata": {
    "Collapsed": "false"
   },
   "outputs": [],
   "source": [
    "px = utils.DistanceConverter(page_x_inches, 'inches').mm\n",
    "py = utils.DistanceConverter(page_y_inches, 'inches').mm\n",
    "page_format = f'{px}mmx{py}mm'\n",
    "drawbox = sg.box(border, border, px-border, py-border)\n",
    "\n",
    "xmin, ymin, xmax, ymax = drawbox.bounds\n"
   ]
  },
  {
   "cell_type": "code",
   "execution_count": null,
   "metadata": {
    "Collapsed": "false"
   },
   "outputs": [],
   "source": [
    "# init\n",
    "rcp = gp.RecursiveCirclePacker(\n",
    "    drawbox, \n",
    "    rad_seq_start=0.48,\n",
    "    rad_seq_end=0.05,\n",
    "    min_allowed_rad=2,\n",
    "    n_rads=30,\n",
    ")\n",
    "rcp.run(1)"
   ]
  },
  {
   "cell_type": "code",
   "execution_count": null,
   "metadata": {
    "Collapsed": "false"
   },
   "outputs": [],
   "source": [
    "rcp.rad_seq_start=0.6\n",
    "rcp.rad_seq_end=0.04\n",
    "rcp.n_rads=80\n",
    "rcp.run(50, progress_bar=True)\n",
    "rcp.unfilled_circles"
   ]
  },
  {
   "cell_type": "markdown",
   "metadata": {
    "Collapsed": "false"
   },
   "source": [
    "## lattice 1"
   ]
  },
  {
   "cell_type": "code",
   "execution_count": null,
   "metadata": {
    "Collapsed": "false"
   },
   "outputs": [],
   "source": [
    "trcp = gp.RecursiveCirclePacker(drawbox.buffer(20), rad_seq_start=0.16,\n",
    "    rad_seq_end=0.16, min_allowed_rad=2, n_rads=10, )\n",
    "trcp.run(1)\n",
    "trcp.min_allowed_rad=5\n",
    "trcp.rad_seq_start=0.29\n",
    "trcp.rad_seq_end=0.18\n",
    "trcp.run(3)\n",
    "\n",
    "length_filter_gen = ss.uniform(96, 185).rvs\n",
    "buffer_size_gen = ss.uniform(2.1, 2.8).rvs\n",
    "tri_vertices = MultiPoint([c.centroid for c in trcp.unfilled_circles])\n",
    "trils = MultiLineString(so.triangulate(tri_vertices, edges=True))\n",
    "\n",
    "filt_trils = MultiLineString([l for l in trils if l.length<length_filter_gen()])\n",
    "tris = [f.buffer(buffer_size_gen(), cap_style=2, join_style=3) for f in filt_trils]\n",
    "tris = so.unary_union(tris)\n",
    "tris"
   ]
  },
  {
   "cell_type": "code",
   "execution_count": null,
   "metadata": {
    "Collapsed": "false"
   },
   "outputs": [],
   "source": [
    "occluded_tris = tris.intersection(rcp.unfilled_circles).buffer(-1e-6)"
   ]
  },
  {
   "cell_type": "code",
   "execution_count": null,
   "metadata": {
    "Collapsed": "false"
   },
   "outputs": [],
   "source": [
    "stp = gp.ScaleTransPrms(d_buffer=-0.25,angles=-45,)\n",
    "stp.d_buffers += np.random.uniform(-0.03, 0.03, size=stp.d_buffers.shape)"
   ]
  },
  {
   "cell_type": "code",
   "execution_count": null,
   "metadata": {
    "Collapsed": "false"
   },
   "outputs": [],
   "source": [
    "fills = []\n",
    "for p in occluded_tris:\n",
    "    P = gp.Poly(p)\n",
    "    P.fill_scale_trans(**stp.prms)\n",
    "    fills.append(P.fill)"
   ]
  },
  {
   "cell_type": "code",
   "execution_count": null,
   "metadata": {
    "Collapsed": "false"
   },
   "outputs": [],
   "source": [
    "layer1 = gp.merge_LineStrings(fills)"
   ]
  },
  {
   "cell_type": "code",
   "execution_count": null,
   "metadata": {
    "Collapsed": "false"
   },
   "outputs": [],
   "source": [
    "all_polys = occluded_tris"
   ]
  },
  {
   "cell_type": "markdown",
   "metadata": {
    "Collapsed": "false"
   },
   "source": [
    "## lattice 2"
   ]
  },
  {
   "cell_type": "code",
   "execution_count": null,
   "metadata": {
    "Collapsed": "false"
   },
   "outputs": [],
   "source": [
    "trcp = gp.RecursiveCirclePacker(drawbox.buffer(20), rad_seq_start=0.16,\n",
    "    rad_seq_end=0.16, min_allowed_rad=2, n_rads=10, )\n",
    "trcp.run(1)\n",
    "trcp.min_allowed_rad=5\n",
    "trcp.rad_seq_start=0.3\n",
    "trcp.rad_seq_end=0.3\n",
    "trcp.run(4)\n",
    "\n",
    "length_filter_gen = ss.uniform(96, 185).rvs\n",
    "buffer_size_gen = ss.uniform(1.4, 2.2).rvs\n",
    "tri_vertices = MultiPoint([c.centroid for c in trcp.unfilled_circles])\n",
    "trils = MultiLineString(so.triangulate(tri_vertices, edges=True))\n",
    "\n",
    "filt_trils = MultiLineString([l for l in trils if l.length<length_filter_gen()])\n",
    "tris = [f.buffer(buffer_size_gen(), cap_style=2, join_style=3) for f in filt_trils]\n",
    "tris = so.unary_union(tris)\n",
    "tris"
   ]
  },
  {
   "cell_type": "code",
   "execution_count": null,
   "metadata": {
    "Collapsed": "false"
   },
   "outputs": [],
   "source": [
    "int_tris = tris.intersection(rcp.unfilled_circles)"
   ]
  },
  {
   "cell_type": "code",
   "execution_count": null,
   "metadata": {
    "Collapsed": "false"
   },
   "outputs": [],
   "source": [
    "occluded_tris = gp.robust_difference(int_tris, all_polys, buffer_distance=-1e-6)"
   ]
  },
  {
   "cell_type": "code",
   "execution_count": null,
   "metadata": {
    "Collapsed": "false"
   },
   "outputs": [],
   "source": [
    "stp = gp.ScaleTransPrms(d_buffer=-0.25,angles=-45,)\n",
    "stp.d_buffers += np.random.uniform(-0.03, 0.03, size=stp.d_buffers.shape)"
   ]
  },
  {
   "cell_type": "code",
   "execution_count": null,
   "metadata": {
    "Collapsed": "false"
   },
   "outputs": [],
   "source": [
    "fills = []\n",
    "for p in occluded_tris:\n",
    "    P = gp.Poly(p)\n",
    "    P.fill_scale_trans(**stp.prms)\n",
    "    fills.append(P.fill)"
   ]
  },
  {
   "cell_type": "code",
   "execution_count": null,
   "metadata": {
    "Collapsed": "false"
   },
   "outputs": [],
   "source": [
    "layer2 = gp.merge_LineStrings(fills)"
   ]
  },
  {
   "cell_type": "code",
   "execution_count": null,
   "metadata": {
    "Collapsed": "false"
   },
   "outputs": [],
   "source": [
    "all_polys = so.unary_union([all_polys, occluded_tris]).buffer(-1e-6)"
   ]
  },
  {
   "cell_type": "markdown",
   "metadata": {
    "Collapsed": "false"
   },
   "source": [
    "## lattice3"
   ]
  },
  {
   "cell_type": "code",
   "execution_count": null,
   "metadata": {
    "Collapsed": "false"
   },
   "outputs": [],
   "source": [
    "trcp = gp.RecursiveCirclePacker(drawbox.buffer(10), rad_seq_start=0.15,\n",
    "    rad_seq_end=0.15, min_allowed_rad=2, n_rads=10, )\n",
    "trcp.run(1)\n",
    "trcp.min_allowed_rad=5\n",
    "trcp.rad_seq_start=0.2\n",
    "trcp.rad_seq_end=0.2\n",
    "trcp.run(4)"
   ]
  },
  {
   "cell_type": "code",
   "execution_count": null,
   "metadata": {
    "Collapsed": "false"
   },
   "outputs": [],
   "source": [
    "length_filter_gen = ss.uniform(96, 185).rvs\n",
    "buffer_size_gen = ss.uniform(1.5, 1.8).rvs\n",
    "tri_vertices = MultiPoint([c.centroid for c in trcp.unfilled_circles])\n",
    "trils = MultiLineString(so.triangulate(tri_vertices, edges=True))\n",
    "\n",
    "filt_trils = MultiLineString([l for l in trils if l.length<length_filter_gen()])\n",
    "tris = [f.buffer(buffer_size_gen(), cap_style=2, join_style=3) for f in filt_trils]\n",
    "tris = so.unary_union(tris)"
   ]
  },
  {
   "cell_type": "code",
   "execution_count": null,
   "metadata": {
    "Collapsed": "false"
   },
   "outputs": [],
   "source": [
    "int_tris = tris.intersection(rcp.unfilled_circles)\n",
    "occluded_tris = gp.robust_difference(int_tris, all_polys, buffer_distance=-1e-6)"
   ]
  },
  {
   "cell_type": "code",
   "execution_count": null,
   "metadata": {
    "Collapsed": "false"
   },
   "outputs": [],
   "source": [
    "stp = gp.ScaleTransPrms(d_buffer=-0.25,angles=-45,)\n",
    "stp.d_buffers += np.random.uniform(-0.03, 0.03, size=stp.d_buffers.shape)"
   ]
  },
  {
   "cell_type": "code",
   "execution_count": null,
   "metadata": {
    "Collapsed": "false"
   },
   "outputs": [],
   "source": [
    "fills = []\n",
    "for p in occluded_tris:\n",
    "    P = gp.Poly(p)\n",
    "    P.fill_scale_trans(**stp.prms)\n",
    "    fills.append(P.fill)"
   ]
  },
  {
   "cell_type": "code",
   "execution_count": null,
   "metadata": {
    "Collapsed": "false"
   },
   "outputs": [],
   "source": [
    "layer3 = gp.merge_LineStrings(fills)"
   ]
  },
  {
   "cell_type": "code",
   "execution_count": null,
   "metadata": {
    "Collapsed": "false"
   },
   "outputs": [],
   "source": [
    "all_polys = gp.merge_Polygons([all_polys, occluded_tris])"
   ]
  },
  {
   "cell_type": "code",
   "execution_count": null,
   "metadata": {
    "Collapsed": "false"
   },
   "outputs": [],
   "source": [
    "sk = vsketch.Vsketch()\n",
    "sk.size(page_format)\n",
    "\n",
    "sk.scale('1mm')\n",
    "sk.stroke(1)\n",
    "sk.geometry(layer1)\n",
    "sk.stroke(2)\n",
    "sk.geometry(layer2)\n",
    "sk.stroke(3)\n",
    "sk.geometry(layer3)\n",
    "sk.display(color_mode='layer')"
   ]
  },
  {
   "cell_type": "code",
   "execution_count": null,
   "metadata": {
    "Collapsed": "false"
   },
   "outputs": [],
   "source": []
  },
  {
   "cell_type": "code",
   "execution_count": null,
   "metadata": {
    "Collapsed": "false"
   },
   "outputs": [],
   "source": [
    "savepath = '/mnt/c/code/side/plotter_images/oned_outputs/0278_cpack_beams.svg'\n",
    "\n",
    "sk.save(savepath)\n",
    "\n",
    "vpype_commands = 'reloop linesimplify --tolerance 0.1mm linemerge --tolerance 0.1mm linesort'\n",
    "vpype_str = f'vpype read -q 0.05mm {savepath} {vpype_commands} write {savepath}'\n",
    "\n",
    "os.system(vpype_str)"
   ]
  },
  {
   "cell_type": "code",
   "execution_count": null,
   "metadata": {
    "Collapsed": "false"
   },
   "outputs": [],
   "source": []
  }
 ],
 "metadata": {
  "kernelspec": {
   "display_name": "Python [conda env:genpen]",
   "language": "python",
   "name": "conda-env-genpen-py"
  },
  "language_info": {
   "codemirror_mode": {
    "name": "ipython",
    "version": 3
   },
   "file_extension": ".py",
   "mimetype": "text/x-python",
   "name": "python",
   "nbconvert_exporter": "python",
   "pygments_lexer": "ipython3",
   "version": "3.8.8"
  }
 },
 "nbformat": 4,
 "nbformat_minor": 4
}

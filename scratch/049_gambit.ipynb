{
 "cells": [
  {
   "cell_type": "code",
   "execution_count": null,
   "id": "410bea1d-8f25-4c2b-966c-cf5ff1ef033e",
   "metadata": {
    "Collapsed": "false"
   },
   "outputs": [],
   "source": [
    "import itertools\n",
    "import numpy as np\n",
    "import os\n",
    "import seaborn as sns\n",
    "from tqdm import tqdm\n",
    "from dataclasses import asdict, dataclass, field\n",
    "import vsketch\n",
    "import shapely.geometry as sg\n",
    "from shapely.geometry import box, MultiLineString, Point, MultiPoint, Polygon, MultiPolygon, LineString\n",
    "import shapely.affinity as sa\n",
    "import shapely.ops as so\n",
    "import matplotlib.pyplot as plt\n",
    "import pandas as pd\n",
    "\n",
    "import vpype_cli\n",
    "from typing import List, Generic\n",
    "from genpen import genpen as gp, utils as utils\n",
    "from scipy import stats as ss\n",
    "import geopandas\n",
    "from shapely.errors import TopologicalError\n",
    "import functools\n",
    "%load_ext autoreload\n",
    "%autoreload 2\n",
    "import vpype\n",
    "from skimage import io\n",
    "from pathlib import Path\n",
    "\n",
    "import bezier\n",
    "\n",
    "from sklearn.preprocessing import minmax_scale\n",
    "from skimage import feature\n",
    "from genpen.utils import Paper\n",
    "\n",
    "from scipy import spatial, stats\n",
    "from scipy.ndimage import gaussian_filter\n",
    "from scipy.integrate import odeint\n",
    "from functools import partial\n",
    "\n",
    "import fn\n",
    "from genpen.axicam import AxiCam"
   ]
  },
  {
   "cell_type": "code",
   "execution_count": null,
   "id": "7dba362b-5442-4cf1-8c7d-7ea9285b9777",
   "metadata": {
    "Collapsed": "false"
   },
   "outputs": [],
   "source": [
    "# make page\n",
    "paper_size = '6x6 inches'\n",
    "border:float=10\n",
    "paper = Paper(paper_size)\n",
    "\n",
    "drawbox = paper.get_drawbox(border)"
   ]
  },
  {
   "cell_type": "code",
   "execution_count": null,
   "id": "bc82361c-f5bd-4dee-a720-e427543f9868",
   "metadata": {
    "Collapsed": "false"
   },
   "outputs": [],
   "source": [
    "center = drawbox.centroid"
   ]
  },
  {
   "cell_type": "code",
   "execution_count": null,
   "id": "3ada84be-c4db-448d-af61-0fe0540e23ce",
   "metadata": {},
   "outputs": [],
   "source": [
    "def quadrant_split(square_poly):\n",
    "    sq = gp.Poly(square_poly)\n",
    "    upper_left = box(minx=sq.left, miny=sq.p.centroid.y, maxx=sq.p.centroid.x, maxy=sq.top, ccw=True)\n",
    "    upper_right = box(minx=sq.p.centroid.x, miny=sq.p.centroid.y, maxx=sq.right, maxy=sq.top, ccw=True)\n",
    "    lower_right = box(minx=sq.p.centroid.x, miny=sq.bottom, maxx=sq.right, maxy=sq.p.centroid.y, ccw=True)\n",
    "    lower_left = box(minx=sq.left, miny=sq.bottom, maxx=sq.p.centroid.x, maxy=sq.p.centroid.y, ccw=True)\n",
    "    quadrants = gp.merge_Polygons([upper_left, upper_right, lower_right, lower_left])\n",
    "    return quadrants\n",
    "\n",
    "def permit_by_index(i, p, allowed_indices):\n",
    "    return i in allowed_indices\n",
    "\n",
    "def bino_draw(i, p, p_continue=1):\n",
    "    return np.random.binomial(n=1, p=p_continue)\n",
    "\n",
    "\n",
    "def permit_all(i, p):\n",
    "    return True\n",
    "\n",
    "def flex_rule_recursive_split(poly, split_func, continue_func, depth=0, depth_limit=15, buffer_kwargs=None):\n",
    "    \n",
    "    if buffer_kwargs is None:\n",
    "        buffer_kwargs = {'distance':0}\n",
    "    polys = split_func(poly)\n",
    "    split_polys = []\n",
    "    for i, p in enumerate(polys):\n",
    "        continue_draw = continue_func(i=i, p=p)\n",
    "        \n",
    "        if continue_draw and (depth<depth_limit):\n",
    "            \n",
    "            split_polys += flex_rule_recursive_split(\n",
    "                p, split_func=split_func, continue_func=continue_func, \n",
    "                depth=depth+1, depth_limit=depth_limit,\n",
    "                buffer_kwargs=buffer_kwargs\n",
    "            ) \n",
    "        else:\n",
    "            split_polys.append(p.buffer(**buffer_kwargs))\n",
    "    return split_polys"
   ]
  },
  {
   "cell_type": "code",
   "execution_count": null,
   "id": "8ed3ff8b-1930-48ea-82ef-ef3640335ad8",
   "metadata": {},
   "outputs": [],
   "source": []
  },
  {
   "cell_type": "code",
   "execution_count": null,
   "id": "e2361ed4-0512-4f2f-a9a1-c313820240fd",
   "metadata": {},
   "outputs": [],
   "source": [
    "upper_left_and_lower_right = partial(permit_by_index, allowed_indices=[0, 2])"
   ]
  },
  {
   "cell_type": "code",
   "execution_count": null,
   "id": "ee018f1b-34d7-4787-bfff-a8fb46dd94bc",
   "metadata": {},
   "outputs": [],
   "source": [
    "all_but_lower_left = partial(permit_by_index, allowed_indices=[0,1, 2])"
   ]
  },
  {
   "cell_type": "code",
   "execution_count": null,
   "id": "6520da21-efff-4940-99d3-0bbc4b31abf9",
   "metadata": {},
   "outputs": [],
   "source": [
    "high_p = partial(bino_draw, p_continue=0.9)\n",
    "low_p = partial(bino_draw, p_continue=0.7)"
   ]
  },
  {
   "cell_type": "code",
   "execution_count": null,
   "id": "9224a4b4-055e-4d11-9f07-b4652d70301f",
   "metadata": {},
   "outputs": [],
   "source": [
    "polys = flex_rule_recursive_split(poly=drawbox, split_func=quadrant_split, continue_func=permit_all, depth_limit=2, buffer_kwargs={'distance':1e-6})"
   ]
  },
  {
   "cell_type": "code",
   "execution_count": null,
   "id": "a1d00e9c-2bda-4d58-989f-368843855ccf",
   "metadata": {},
   "outputs": [],
   "source": [
    "black_squares = gp.merge_Polygons(polys[::2])"
   ]
  },
  {
   "cell_type": "code",
   "execution_count": null,
   "id": "85b882c3-32ba-43fe-ab1e-c72fa3b4f675",
   "metadata": {},
   "outputs": [],
   "source": [
    "white_squares = gp.merge_Polygons(polys[1::2])"
   ]
  },
  {
   "cell_type": "code",
   "execution_count": null,
   "id": "fc8e876b-d3bf-4fbf-86cd-69ea88504545",
   "metadata": {},
   "outputs": [],
   "source": [
    "top_bs_subs = []\n",
    "for bs in black_squares:\n",
    "    top_bs_subs += flex_rule_recursive_split(poly=bs, split_func=quadrant_split, \n",
    "                                             continue_func=permit_all, \n",
    "                                             depth_limit=0)"
   ]
  },
  {
   "cell_type": "code",
   "execution_count": null,
   "id": "a3a38563-d43e-47c6-9a93-7a33cbc45fcd",
   "metadata": {},
   "outputs": [],
   "source": [
    "\n",
    "bs_subs = []\n",
    "for bs in top_bs_subs:\n",
    "    bs_subs += flex_rule_recursive_split(poly=bs, split_func=quadrant_split, \n",
    "                                             continue_func=high_p, \n",
    "                                             depth_limit=3)\n",
    "    \n",
    "    \n",
    "bs_subs = gp.merge_Polygons([bs_subs, top_bs_subs])"
   ]
  },
  {
   "cell_type": "code",
   "execution_count": null,
   "id": "9a19761c-84b6-4907-86d9-087ed6fa3d9e",
   "metadata": {},
   "outputs": [],
   "source": [
    "size_order = np.argsort([-b.area for b in bs_subs])\n",
    "bs_subs = gp.merge_Polygons([bs_subs[ii] for ii in size_order])"
   ]
  },
  {
   "cell_type": "code",
   "execution_count": null,
   "id": "12a0532b-993f-4b02-bc7e-0bb4d7dc501c",
   "metadata": {
    "Collapsed": "false"
   },
   "outputs": [],
   "source": [
    "sk = vsketch.Vsketch()\n",
    "sk.size(paper.page_format_mm)\n",
    "sk.scale('1mm')\n",
    "sk.penWidth('0.3mm')\n",
    "\n",
    "sk.geometry(white_squares.boundary)\n",
    "sk.geometry(black_squares.boundary)\n",
    "sk.geometry(bs_subs.boundary)\n",
    "\n",
    "sk.display(color_mode='layer')"
   ]
  },
  {
   "cell_type": "code",
   "execution_count": null,
   "id": "9f2f9524-4464-4e9e-9f4c-2f5fdfd284bf",
   "metadata": {
    "Collapsed": "false"
   },
   "outputs": [],
   "source": [
    "sk = vsketch.Vsketch()\n",
    "sk.size(paper.page_format_mm)\n",
    "sk.scale('1mm')\n",
    "sk.penWidth('0.3mm')\n",
    "\n",
    "counter = 0\n",
    "for ls in white_squares.boundary:\n",
    "    counter += 1\n",
    "    sk.stroke(counter)\n",
    "    sk.geometry(ls)\n",
    "    \n",
    "for ls in black_squares.boundary:\n",
    "    counter += 1\n",
    "    sk.stroke(counter)\n",
    "    sk.geometry(ls)\n",
    "    \n",
    "for ls in bs_subs.boundary:\n",
    "    counter += 1\n",
    "    sk.stroke(counter)\n",
    "    sk.geometry(ls)\n",
    "    \n",
    "\n",
    "sk.display(color_mode='layer')"
   ]
  },
  {
   "cell_type": "code",
   "execution_count": null,
   "id": "ccfec789-5855-4715-8028-f28ea952a4e2",
   "metadata": {},
   "outputs": [],
   "source": []
  },
  {
   "cell_type": "code",
   "execution_count": null,
   "id": "dac76690-65b3-48e4-995f-778a85beb9bd",
   "metadata": {},
   "outputs": [],
   "source": [
    "plot_id = fn.new_plot_id()"
   ]
  },
  {
   "cell_type": "code",
   "execution_count": null,
   "id": "7f2d96f0-5097-4864-956a-26a2fccba500",
   "metadata": {},
   "outputs": [],
   "source": [
    "savedir='/home/naka/art/plotter_svgs'"
   ]
  },
  {
   "cell_type": "code",
   "execution_count": null,
   "id": "f18d2598-c9fb-4c72-a562-883d52b6239a",
   "metadata": {},
   "outputs": [],
   "source": [
    "savepath = Path(savedir).joinpath(f'{plot_id}.svg').as_posix()\n",
    "sk.save(savepath)"
   ]
  },
  {
   "cell_type": "code",
   "execution_count": null,
   "id": "eea2b60e-cdb0-4d24-a2e4-efcb10ef8962",
   "metadata": {},
   "outputs": [],
   "source": []
  },
  {
   "cell_type": "code",
   "execution_count": null,
   "id": "263eb77e-fdd3-466a-b8f1-c3acc8921639",
   "metadata": {},
   "outputs": [],
   "source": []
  },
  {
   "cell_type": "code",
   "execution_count": null,
   "id": "0c546554-0b68-4799-b664-cee67174361e",
   "metadata": {},
   "outputs": [],
   "source": [
    "ac = AxiCam()"
   ]
  },
  {
   "cell_type": "code",
   "execution_count": null,
   "id": "48a116fb-5c29-4abf-abbd-6a5cdecc7cf0",
   "metadata": {},
   "outputs": [],
   "source": [
    "ac.init_cam()"
   ]
  },
  {
   "cell_type": "code",
   "execution_count": null,
   "id": "d928c28b-bfa4-4532-ad30-517bdc5f422a",
   "metadata": {},
   "outputs": [],
   "source": [
    "ac.cam.video_preview()"
   ]
  },
  {
   "cell_type": "code",
   "execution_count": null,
   "id": "506ee612-1ab2-444f-930d-1914ca1b3756",
   "metadata": {},
   "outputs": [],
   "source": [
    "ac.cam.close()"
   ]
  },
  {
   "cell_type": "code",
   "execution_count": null,
   "id": "fb2bd9c2-bfc9-43e5-a596-b43feb57a4f1",
   "metadata": {},
   "outputs": [],
   "source": [
    "ac.ad.options.speed_penup = 80"
   ]
  },
  {
   "cell_type": "code",
   "execution_count": null,
   "id": "f8fc27b6-083a-4995-8b5b-500d275c9aef",
   "metadata": {},
   "outputs": [],
   "source": [
    "ac.ad.options.accel = 70\n",
    "ac.ad.options.pen_raise_rate = 85"
   ]
  },
  {
   "cell_type": "code",
   "execution_count": null,
   "id": "754513a9-126f-4f59-9161-aa627e1df820",
   "metadata": {},
   "outputs": [],
   "source": [
    "ac.ad.options.speed_pendown = 10\n",
    "ac.ad.update()"
   ]
  },
  {
   "cell_type": "code",
   "execution_count": null,
   "id": "3836528c-5bef-4607-bc4b-bdc4e61f280b",
   "metadata": {},
   "outputs": [],
   "source": [
    "ac.plot_layers(wait_times=0.3, start_layer=0)"
   ]
  },
  {
   "cell_type": "markdown",
   "id": "03a5e24c-a2c1-4c2a-a6d2-bdd60073d307",
   "metadata": {},
   "source": [
    "# more itnerestin"
   ]
  },
  {
   "cell_type": "code",
   "execution_count": null,
   "id": "7eb63f97-ea99-442d-900d-400ae142ce59",
   "metadata": {},
   "outputs": [],
   "source": [
    "class ContinuePolicy(object):\n",
    "    \n",
    "    def __init__(self, policy):\n",
    "        self.policy = policy\n",
    "        \n",
    "    def __call__(self, i, p, depth, poly):\n",
    "        return self.policy(i, p, depth, poly)\n",
    "\n",
    "def even_odd(i, p, depth, poly):\n",
    "    lookup = {\n",
    "        0: [0, 2],\n",
    "        1: [1, 3]\n",
    "    }\n",
    "    mod = depth % 2\n",
    "    return i in lookup.get(mod)\n",
    "\n",
    "def mod4(i, p, depth, poly):\n",
    "    lookup = {\n",
    "        0: [0],\n",
    "        1: [1],\n",
    "        2: [2],\n",
    "        3: [3]\n",
    "    }\n",
    "    mod = depth % 4\n",
    "    return i in lookup.get(mod)\n",
    "\n",
    "def permit_by_index_depth_dependent(i, p, allowed_index_lookup):\n",
    "    return \n",
    "\n",
    "def very_flex_rule_recursive_split(poly, split_func, continue_func, depth=0, depth_limit=15, buffer_kwargs=None):\n",
    "    \n",
    "    if buffer_kwargs is None:\n",
    "        buffer_kwargs = {'distance':0}\n",
    "    polys = split_func(poly)\n",
    "    split_polys = []\n",
    "    for i, p in enumerate(polys):\n",
    "        continue_draw = continue_func(i, p, depth, poly)\n",
    "        \n",
    "        if continue_draw and (depth<depth_limit):\n",
    "            \n",
    "            split_polys += very_flex_rule_recursive_split(\n",
    "                p, split_func=split_func, continue_func=continue_func, \n",
    "                depth=depth+1, depth_limit=depth_limit,\n",
    "                buffer_kwargs=buffer_kwargs\n",
    "            ) \n",
    "        else:\n",
    "            split_polys.append(p.buffer(**buffer_kwargs))\n",
    "    return split_polys\n",
    "\n",
    "def distance_from_pt(i, p, depth, poly, target, p_range, d_range):\n",
    "    d = poly.distance(target)\n",
    "    p_continue = np.interp(d, d_range, p_range)\n",
    "    return np.random.binomial(n=1, p=p_continue)"
   ]
  },
  {
   "cell_type": "code",
   "execution_count": null,
   "id": "7683c82e-25b8-4ee5-ab74-b747cfb935ae",
   "metadata": {},
   "outputs": [],
   "source": [
    "upper_left_and_lower_right = partial(permit_by_index, allowed_indices=[0, 2])"
   ]
  },
  {
   "cell_type": "code",
   "execution_count": null,
   "id": "213bf975-75f2-4db9-aa89-b4ea4eb69d7d",
   "metadata": {},
   "outputs": [],
   "source": [
    "all_but_lower_left = partial(permit_by_index, allowed_indices=[0,1, 2])"
   ]
  },
  {
   "cell_type": "code",
   "execution_count": null,
   "id": "4872d12e-de01-42b0-9330-15c502361a26",
   "metadata": {},
   "outputs": [],
   "source": [
    "high_p = partial(bino_draw, p_continue=0.9)\n",
    "low_p = partial(bino_draw, p_continue=0.7)"
   ]
  },
  {
   "cell_type": "code",
   "execution_count": null,
   "id": "74756374-9870-4dff-8ca8-f0567c949c96",
   "metadata": {},
   "outputs": [],
   "source": [
    "polys = flex_rule_recursive_split(poly=drawbox, split_func=quadrant_split, continue_func=permit_all, depth_limit=2, buffer_kwargs={'distance':1e-6})\n",
    "\n",
    "black_squares = gp.merge_Polygons(polys[::2])\n",
    "\n",
    "white_squares = gp.merge_Polygons(polys[1::2])\n",
    "\n",
    "dist_from_center = partial(distance_from_pt, target=drawbox.centroid, p_range=(1., 0.35,), d_range=(35, 75))\n",
    "\n",
    "cp = ContinuePolicy(dist_from_center)\n",
    "\n",
    "top_bs_subs = []\n",
    "# for bs in black_squares:\n",
    "#     top_bs_subs += very_flex_rule_recursive_split(poly=bs, split_func=quadrant_split, \n",
    "#                                              continue_func=cp, \n",
    "#                                              depth_limit=0)\n",
    "\n",
    "\n",
    "bs_subs = []\n",
    "for bs in black_squares:\n",
    "    bs_subs += very_flex_rule_recursive_split(poly=bs, split_func=quadrant_split, \n",
    "                                             continue_func=cp, \n",
    "                                             depth_limit=4)\n",
    "    \n",
    "    \n",
    "bs_subs = gp.merge_Polygons([bs_subs, top_bs_subs])"
   ]
  },
  {
   "cell_type": "code",
   "execution_count": null,
   "id": "303f0e49-d3ae-4e71-bc53-35e9e38792ae",
   "metadata": {},
   "outputs": [],
   "source": [
    "size_order = np.argsort([-b.area for b in bs_subs])\n",
    "bs_subs = gp.merge_Polygons([bs_subs[ii] for ii in size_order])"
   ]
  },
  {
   "cell_type": "code",
   "execution_count": null,
   "id": "94f236d5-5944-45ad-9798-2b298401a9ed",
   "metadata": {
    "Collapsed": "false"
   },
   "outputs": [],
   "source": [
    "sk = vsketch.Vsketch()\n",
    "sk.size(paper.page_format_mm)\n",
    "sk.scale('1mm')\n",
    "sk.penWidth('0.3mm')\n",
    "\n",
    "# sk.geometry(white_squares.boundary)\n",
    "sk.geometry(black_squares.boundary)\n",
    "sk.geometry(bs_subs.boundary)\n",
    "\n",
    "sk.display(color_mode='layer')"
   ]
  },
  {
   "cell_type": "code",
   "execution_count": null,
   "id": "b649fc1e-fce4-41ab-ae75-de7a55d675b1",
   "metadata": {},
   "outputs": [],
   "source": [
    "import fn"
   ]
  },
  {
   "cell_type": "code",
   "execution_count": null,
   "id": "11358a61-951f-4329-85f3-efb00d4c4447",
   "metadata": {},
   "outputs": [],
   "source": [
    "plot_id = fn.new_plot_id()"
   ]
  },
  {
   "cell_type": "code",
   "execution_count": null,
   "id": "0d3fb700-d742-4bd8-8abf-2cf9f5781ef1",
   "metadata": {},
   "outputs": [],
   "source": [
    "savedir='/home/naka/art/plotter_svgs'"
   ]
  },
  {
   "cell_type": "code",
   "execution_count": null,
   "id": "8f8ef0d9-dbc3-40af-8347-8fdbdfde4a7a",
   "metadata": {},
   "outputs": [],
   "source": [
    "savepath = Path(savedir).joinpath(f'{plot_id}.svg').as_posix()\n",
    "sk.save(savepath)"
   ]
  },
  {
   "cell_type": "code",
   "execution_count": null,
   "id": "327224e8-c2ec-4f8c-adff-c7b952a281bc",
   "metadata": {},
   "outputs": [],
   "source": [
    "ac = AxiCam()"
   ]
  },
  {
   "cell_type": "code",
   "execution_count": null,
   "id": "af99054c-f11c-4410-beb5-317bb8651b91",
   "metadata": {},
   "outputs": [],
   "source": [
    "ac.init_cam()"
   ]
  },
  {
   "cell_type": "code",
   "execution_count": null,
   "id": "3386c7f7-f337-46c5-96e0-80a2e77f4706",
   "metadata": {},
   "outputs": [],
   "source": [
    "ac.cam.video_preview()"
   ]
  },
  {
   "cell_type": "code",
   "execution_count": null,
   "id": "ce3e452e-c888-4f6c-914a-ef965e43c708",
   "metadata": {},
   "outputs": [],
   "source": [
    "ac.cam.get_video(5)"
   ]
  },
  {
   "cell_type": "markdown",
   "id": "ecedf470-682e-46e7-9ea8-d8aa45432faf",
   "metadata": {},
   "source": [
    "# more itnerestin"
   ]
  },
  {
   "cell_type": "code",
   "execution_count": null,
   "id": "64d179b3-397c-4a84-9fe4-38ac18b5782c",
   "metadata": {},
   "outputs": [],
   "source": [
    "class ContinuePolicy(object):\n",
    "    \n",
    "    def __init__(self, policy):\n",
    "        self.policy = policy\n",
    "        \n",
    "    def __call__(self, i, p, depth, poly):\n",
    "        return self.policy(i, p, depth, poly)\n",
    "\n",
    "def even_odd(i, p, depth, poly):\n",
    "    lookup = {\n",
    "        0: [0, 2],\n",
    "        1: [1, 3]\n",
    "    }\n",
    "    mod = depth % 2\n",
    "    return i in lookup.get(mod)\n",
    "\n",
    "def mod4(i, p, depth, poly):\n",
    "    lookup = {\n",
    "        0: [0],\n",
    "        1: [1],\n",
    "        2: [2],\n",
    "        3: [3]\n",
    "    }\n",
    "    mod = depth % 4\n",
    "    return i in lookup.get(mod)\n",
    "\n",
    "def permit_by_index_depth_dependent(i, p, allowed_index_lookup):\n",
    "    return \n",
    "\n",
    "def very_flex_rule_recursive_split(poly, split_func, continue_func, depth=0, depth_limit=15, buffer_kwargs=None):\n",
    "    \n",
    "    if buffer_kwargs is None:\n",
    "        buffer_kwargs = {'distance':0}\n",
    "    polys = split_func(poly)\n",
    "    split_polys = []\n",
    "    for i, p in enumerate(polys):\n",
    "        continue_draw = continue_func(i, p, depth, poly)\n",
    "        \n",
    "        if continue_draw and (depth<depth_limit):\n",
    "            \n",
    "            split_polys += very_flex_rule_recursive_split(\n",
    "                p, split_func=split_func, continue_func=continue_func, \n",
    "                depth=depth+1, depth_limit=depth_limit,\n",
    "                buffer_kwargs=buffer_kwargs\n",
    "            ) \n",
    "        else:\n",
    "            split_polys.append(p.buffer(**buffer_kwargs))\n",
    "    return split_polys\n",
    "\n",
    "def distance_from_pt(i, p, depth, poly, target, p_range, d_range):\n",
    "    d = poly.distance(target)\n",
    "    p_continue = np.interp(d, d_range, p_range)\n",
    "    return np.random.binomial(n=1, p=p_continue)"
   ]
  },
  {
   "cell_type": "code",
   "execution_count": null,
   "id": "4f74c8f0-365f-472e-a626-017f306d015c",
   "metadata": {
    "Collapsed": "false"
   },
   "outputs": [],
   "source": [
    "# make page\n",
    "paper_size = '11x14 inches'\n",
    "border:float=30\n",
    "paper = Paper(paper_size)\n",
    "\n",
    "drawbox = paper.get_drawbox(border)"
   ]
  },
  {
   "cell_type": "code",
   "execution_count": null,
   "id": "2c5cfcf0-c3f3-44c8-8fb1-ffaa39f29b69",
   "metadata": {
    "Collapsed": "false"
   },
   "outputs": [],
   "source": [
    "center = drawbox.centroid"
   ]
  },
  {
   "cell_type": "code",
   "execution_count": null,
   "id": "83440149-6a3c-477e-95eb-02b246a69517",
   "metadata": {},
   "outputs": [],
   "source": [
    "drawbox.bounds"
   ]
  },
  {
   "cell_type": "code",
   "execution_count": null,
   "id": "5ffa4bc1-083a-4d73-9d6a-65abe50eaf3a",
   "metadata": {},
   "outputs": [],
   "source": [
    "polys = flex_rule_recursive_split(poly=drawbox, split_func=quadrant_split, continue_func=permit_all, depth_limit=3, buffer_kwargs={'distance':1e-6})\n",
    "\n",
    "black_squares = gp.merge_Polygons(polys[::2])\n",
    "\n",
    "white_squares = gp.merge_Polygons(polys[1::2])\n",
    "\n",
    "dist_from_center = partial(distance_from_pt, target=drawbox.centroid, p_range=(0.95, 0.1,), d_range=(15, 130))\n",
    "\n",
    "cp = ContinuePolicy(dist_from_center)\n",
    "\n",
    "top_bs_subs = []\n",
    "# for bs in black_squares:\n",
    "#     top_bs_subs += very_flex_rule_recursive_split(poly=bs, split_func=quadrant_split, \n",
    "#                                              continue_func=cp, \n",
    "#                                              depth_limit=0)\n",
    "\n",
    "\n",
    "bs_subs = []\n",
    "for bs in black_squares:\n",
    "    bs_subs += very_flex_rule_recursive_split(poly=bs, split_func=quadrant_split, \n",
    "                                             continue_func=cp, \n",
    "                                             depth_limit=2)\n",
    "    \n",
    "\n",
    "\n",
    "# dist_from_center = partial(distance_from_pt, target=drawbox.centroid, p_range=(0.1, 0.95), d_range=(15, 130))\n",
    "# cp = ContinuePolicy(dist_from_center)\n",
    "# ws_subs = []\n",
    "# for ws in white_squares:\n",
    "#     ws_subs += very_flex_rule_recursive_split(poly=ws, split_func=quadrant_split, \n",
    "#                                              continue_func=cp, \n",
    "#                                              depth_limit=3)\n",
    "    \n",
    "    \n",
    "bs_subs = gp.merge_Polygons([bs_subs, top_bs_subs])\n",
    "ws_subs = gp.merge_Polygons([ws_subs])"
   ]
  },
  {
   "cell_type": "code",
   "execution_count": null,
   "id": "81d868d7-f4bd-45f3-8d97-c1da88ae14f1",
   "metadata": {
    "jupyter": {
     "outputs_hidden": true
    },
    "tags": []
   },
   "outputs": [],
   "source": []
  },
  {
   "cell_type": "code",
   "execution_count": null,
   "id": "fd6e5962-8d29-48c3-b2df-000edd4a72e5",
   "metadata": {},
   "outputs": [],
   "source": [
    "coords = []\n",
    "for bs in bs_subs:\n",
    "    coords += [Point(c) for c in bs.boundary.coords]"
   ]
  },
  {
   "cell_type": "code",
   "execution_count": null,
   "id": "b35c1010-0414-408c-874c-15d6b62b256b",
   "metadata": {},
   "outputs": [],
   "source": [
    "cps = MultiPoint(coords)"
   ]
  },
  {
   "cell_type": "code",
   "execution_count": null,
   "id": "0da4cd61-98a4-4031-864a-fd4281a5f2d3",
   "metadata": {
    "Collapsed": "false",
    "tags": []
   },
   "outputs": [],
   "source": [
    "sk = vsketch.Vsketch()\n",
    "sk.size(paper.page_format_mm)\n",
    "sk.scale('1mm')\n",
    "sk.penWidth('0.3mm')\n",
    "\n",
    "sk.geometry\n",
    "# sk.geometry(white_squares.boundary)\n",
    "# sk.geometry(black_squares.boundary)\n",
    "# sk.geometry(bs_subs.boundary)\n",
    "# sk.geometry(ws_subs.boundary)\n",
    "sk.geometry(gp.merge_LineStrings(so.triangulate(cps, edges=True)))\n",
    "\n",
    "sk.display(color_mode='layer')"
   ]
  },
  {
   "cell_type": "code",
   "execution_count": null,
   "id": "fd0ae4c5-3839-41a2-b251-20504c73fcdb",
   "metadata": {},
   "outputs": [],
   "source": [
    "import fn"
   ]
  },
  {
   "cell_type": "code",
   "execution_count": null,
   "id": "ed07e1fe-807c-47c2-9401-f8753505d187",
   "metadata": {},
   "outputs": [],
   "source": [
    "plot_id = fn.new_plot_id()"
   ]
  },
  {
   "cell_type": "code",
   "execution_count": null,
   "id": "55b837ab-5280-44a7-8248-8b4294006239",
   "metadata": {},
   "outputs": [],
   "source": [
    "savedir='/home/naka/art/plotter_svgs'"
   ]
  },
  {
   "cell_type": "code",
   "execution_count": null,
   "id": "5c5ccc81-8362-40fe-acdc-f00a45e23b15",
   "metadata": {},
   "outputs": [],
   "source": [
    "savepath = Path(savedir).joinpath(f'{plot_id}.svg').as_posix()\n",
    "sk.save(savepath)"
   ]
  },
  {
   "cell_type": "code",
   "execution_count": null,
   "id": "331aafbf-f86d-48a9-ada3-8a1c9203079f",
   "metadata": {},
   "outputs": [],
   "source": []
  }
 ],
 "metadata": {
  "kernelspec": {
   "display_name": "Python [conda env:genpen]",
   "language": "python",
   "name": "conda-env-genpen-py"
  },
  "language_info": {
   "codemirror_mode": {
    "name": "ipython",
    "version": 3
   },
   "file_extension": ".py",
   "mimetype": "text/x-python",
   "name": "python",
   "nbconvert_exporter": "python",
   "pygments_lexer": "ipython3",
   "version": "3.8.8"
  }
 },
 "nbformat": 4,
 "nbformat_minor": 5
}

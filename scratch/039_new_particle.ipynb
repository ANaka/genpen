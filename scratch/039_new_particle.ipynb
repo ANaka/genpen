{
 "cells": [
  {
   "cell_type": "code",
   "execution_count": null,
   "id": "9ef916fc-3ea7-4938-9e6f-706062ebf107",
   "metadata": {},
   "outputs": [],
   "source": [
    "\n",
    "import itertools\n",
    "import numpy as np\n",
    "import os\n",
    "import seaborn as sns\n",
    "from tqdm import tqdm\n",
    "from dataclasses import asdict, dataclass, field\n",
    "import vsketch\n",
    "import shapely.geometry as sg\n",
    "from shapely.geometry import box, MultiLineString, Point, MultiPoint, Polygon, MultiPolygon, LineString\n",
    "import shapely.affinity as sa\n",
    "import shapely.ops as so\n",
    "import matplotlib.pyplot as plt\n",
    "import pandas as pd\n",
    "\n",
    "import vpype_cli\n",
    "from typing import List, Generic\n",
    "from genpen import genpen as gp\n",
    "from genpen.utils import Paper\n",
    "from scipy import stats as ss\n",
    "import geopandas\n",
    "from shapely.errors import TopologicalError\n",
    "import functools\n",
    "import vpype\n",
    "from skimage import io\n",
    "from pathlib import Path\n",
    "\n",
    "from sklearn.preprocessing import minmax_scale\n",
    "from skimage import feature\n",
    "from skimage import exposure\n",
    "\n",
    "from skimage import filters\n",
    "from skimage.color import rgb2gray\n",
    "from skimage.transform import rescale, resize, downscale_local_mean\n",
    "from skimage.morphology import disk\n",
    "\n",
    "def local_angle(dx, dy):\n",
    "    \"\"\"Calculate the angles between horizontal and vertical operators.\"\"\"\n",
    "    return np.mod(np.arctan2(dy, dx), np.pi)\n",
    "\n",
    "from PIL import Image\n",
    "\n",
    "\n",
    "import cv2\n",
    "\n",
    "from genpen.flow.field import *\n",
    "from genpen.flow.particle import *\n",
    "\n",
    "\n",
    "\n",
    "%load_ext autoreload\n",
    "%autoreload 2"
   ]
  },
  {
   "cell_type": "code",
   "execution_count": null,
   "id": "30c9899e-a2b1-4170-95f0-b76e122c2cb0",
   "metadata": {},
   "outputs": [],
   "source": []
  },
  {
   "cell_type": "code",
   "execution_count": null,
   "id": "01a6155c-1dd5-4a7f-9cb8-2f3f30081c01",
   "metadata": {},
   "outputs": [],
   "source": [
    "image_path= '/home/naka/art/wigglesphere.jpg'\n",
    "filename = 'vp_test3.svg'\n",
    "paper_size:str = '11x14 inches'\n",
    "border:float=20  # mm\n",
    "image_rescale_factor:float=0.04\n",
    "smooth_disk_size:int=1\n",
    "hist_clip_limit=0.1\n",
    "hist_nbins=32\n",
    "intensity_min=0.\n",
    "intensity_max=1.\n",
    "hatch_spacing_min=0.35  # mm\n",
    "hatch_spacing_max=1.1 # mm\n",
    "pixel_width=1 # mm\n",
    "pixel_height=1 # mm\n",
    "angle_jitter='ss.norm(loc=10, scale=0).rvs'  # degrees\n",
    "pixel_rotation='0'  # degrees\n",
    "merge_tolerances=[0.3, 0.4,]  # mm\n",
    "simplify_tolerances=[0.2,]  # mm\n",
    "savedir='/home/naka/art/plotter_svgs'"
   ]
  },
  {
   "cell_type": "code",
   "execution_count": null,
   "id": "174319ac-c761-4621-85af-7e259a3af3ab",
   "metadata": {},
   "outputs": [],
   "source": [
    "# make page\n",
    "paper = Paper(paper_size)\n",
    "drawbox = paper.get_drawbox(border)vector + self.pg.noise(pt.x, pt.y) * self.noise_mult\n",
    "\n",
    "# load\n",
    "img =  rgb2gray(io.imread(Path(image_path)))"
   ]
  },
  {
   "cell_type": "code",
   "execution_count": null,
   "id": "7aa926da-9cc6-4bad-8e23-516d49b390a1",
   "metadata": {},
   "outputs": [],
   "source": [
    "\n",
    "        \n",
    "img_rescale = rescale(img, image_rescale_factor)\n",
    "img_renorm = exposure.equalize_adapthist(img_rescale, clip_limit=hist_clip_limit, nbins=hist_nbins)\n",
    "# img_renorm = img_rescale"
   ]
  },
  {
   "cell_type": "code",
   "execution_count": null,
   "id": "888e7cdb-64cf-40f1-81db-0e58c4a71696",
   "metadata": {},
   "outputs": [],
   "source": [
    "# calc dominant angle\n",
    "selem = disk(smooth_disk_size)\n",
    "filt_img = filters.rank.mean(img_renorm, selem)\n",
    "angle_farid = local_angle(filters.farid_h(filt_img), filters.farid_v(filt_img))"
   ]
  },
  {
   "cell_type": "code",
   "execution_count": null,
   "id": "d42cdb11-39cb-4065-bb5f-004ee2297eb6",
   "metadata": {},
   "outputs": [],
   "source": [
    "angle_farid.max()"
   ]
  },
  {
   "cell_type": "code",
   "execution_count": null,
   "id": "f27bc459-3708-4c30-b98f-7048c9c96c9e",
   "metadata": {},
   "outputs": [],
   "source": [
    "remapped_angle_farid = np.interp(angle_farid, xp=[0, np.pi], fp=[np.pi * 0.25, np.pi * 0.75])"
   ]
  },
  {
   "cell_type": "code",
   "execution_count": null,
   "id": "c2436303-21ba-4543-b781-d5bb566c040f",
   "metadata": {},
   "outputs": [],
   "source": [
    "from scipy.ndimage import gaussian_filter"
   ]
  },
  {
   "cell_type": "code",
   "execution_count": null,
   "id": "b44847f7-e63d-416c-82d5-53541a803448",
   "metadata": {},
   "outputs": [],
   "source": [
    "smoothed_angle = gaussian_filter(remapped_angle_farid, sigma=1)"
   ]
  },
  {
   "cell_type": "code",
   "execution_count": null,
   "id": "7913737b-318f-43e4-a49d-b634781de6aa",
   "metadata": {},
   "outputs": [],
   "source": [
    "plt.imshow(smoothed_angle)"
   ]
  },
  {
   "cell_type": "code",
   "execution_count": null,
   "id": "bea8fa5c-f69e-4998-b4d1-e8181e8ca17a",
   "metadata": {},
   "outputs": [],
   "source": [
    "# make pixel polys\n",
    "prms = []\n",
    "for y, row in tqdm(enumerate(img_renorm)):\n",
    "    for x, intensity in enumerate(row):\n",
    "\n",
    "        p = gp.centered_box(Point(x, y), width=pixel_width, height=pixel_height)\n",
    "        a = np.degrees(smoothed_angle[y, x])\n",
    "        prm = {\n",
    "            'geometry':p,\n",
    "            'x':x,\n",
    "            'y':y,\n",
    "            'raw_pixel_width':pixel_width,\n",
    "            'raw_pixel_height':pixel_height,\n",
    "            'intensity': intensity,\n",
    "            'angle':a,\n",
    "            'group': 'raw_hatch_pixel',\n",
    "\n",
    "        }\n",
    "        prms.append(prm)\n",
    "raw_hatch_pixels = geopandas.GeoDataFrame(prms)"
   ]
  },
  {
   "cell_type": "code",
   "execution_count": null,
   "id": "79a76dab-71e1-4f7f-b258-817115e80e2a",
   "metadata": {},
   "outputs": [],
   "source": [
    "#  rescale polys to fit in drawbox\n",
    "bbox = box(*raw_hatch_pixels.total_bounds)\n",
    "_, transform = gp.make_like(bbox, drawbox, return_transform=True)\n",
    "A = gp.AffineMatrix(**transform)\n",
    "scaled_hatch_pixels = raw_hatch_pixels.copy()\n",
    "scaled_hatch_pixels['geometry'] = scaled_hatch_pixels.affine_transform(A.A_flat)\n",
    "scaled_hatch_pixels['scaled_pixel_height'] = scaled_hatch_pixels['geometry'].apply(gp.get_height)\n",
    "scaled_hatch_pixels['scaled_pixel_width'] = scaled_hatch_pixels['geometry'].apply(gp.get_width)"
   ]
  },
  {
   "cell_type": "code",
   "execution_count": null,
   "id": "c79d788e-5df6-4977-8efb-83e71f6fba62",
   "metadata": {},
   "outputs": [],
   "source": [
    "scaled_hatch_pixels['angle'] = scaled_hatch_pixels['angle'] // 15 * 15"
   ]
  },
  {
   "cell_type": "code",
   "execution_count": null,
   "id": "c20e2c56-4804-4f68-938b-4ae8e8c5e994",
   "metadata": {},
   "outputs": [],
   "source": [
    "# scaled_hatch_pixels['angle'] = np.interp(scaled_hatch_pixels['angle'], xp=[0, 180], fp=[30, 150])"
   ]
  },
  {
   "cell_type": "code",
   "execution_count": null,
   "id": "d80ece7f-d49e-499e-a460-0a0077fb8c30",
   "metadata": {},
   "outputs": [],
   "source": [
    "new_drawbox = so.unary_union(scaled_hatch_pixels.geometry)\n",
    "db = gp.Poly(new_drawbox)"
   ]
  },
  {
   "cell_type": "code",
   "execution_count": null,
   "id": "9ae89e91-1178-49e1-8ed9-d18acb04a7c9",
   "metadata": {},
   "outputs": [],
   "source": [
    "qpg = QuantizedPiecewiseGrid(scaled_hatch_pixels, xstep=5, ystep=5)\n",
    "qpg.make_grid()"
   ]
  },
  {
   "cell_type": "code",
   "execution_count": null,
   "id": "f4d7857e-d861-449e-9369-f0c4fb5c23b2",
   "metadata": {},
   "outputs": [],
   "source": [
    "# # evenly spaced grid\n",
    "# bins, grid = gp.overlay_grid(new_drawbox, xstep=2.5, ystep=2.5, flatmesh=True)\n",
    "# xs, ys = grid\n",
    "# pts = [Point(x,y) for x,y in zip(xs, ys)]\n",
    "\n",
    "# # random\n",
    "# pts = gp.get_random_points_in_polygon(new_drawbox, 4000)\n",
    "\n",
    "n_points = 5000\n",
    "pts = []\n",
    "pix_p =  np.interp(scaled_hatch_pixels['intensity'], [0, 1], [0.9, 0.1])\n",
    "pix_p /= pix_p.sum()\n",
    "for ii in range(n_points):\n",
    "    pix = np.random.choice(scaled_hatch_pixels.index, p=pix_p)\n",
    "    pt = gp.get_random_point_in_polygon(scaled_hatch_pixels.loc[pix, 'geometry'])\n",
    "    pts.append(pt)\n",
    "\n",
    "# # circle    \n",
    "# rad = 50\n",
    "# n_points = 100\n",
    "# circ = new_drawbox.centroid.buffer(rad).boundary\n",
    "# pts = [circ.interpolate(d, normalized=True) for d in np.linspace(0, 1, n_points)]"
   ]
  },
  {
   "cell_type": "code",
   "execution_count": null,
   "id": "6690fcb7-f795-4023-aaa1-253b3f4d60a9",
   "metadata": {},
   "outputs": [],
   "source": [
    "vps = []\n",
    "for p in pts:\n",
    "    vp = VectorParticle(pos=p, vector=np.array([0, 1]), grid = qpg, stepsize=1)\n",
    "    vp.momentum_factor = np.interp(vp.y, [db.bottom, db.top], [2, 2])\n",
    "    vps.append(vp)"
   ]
  },
  {
   "cell_type": "code",
   "execution_count": null,
   "id": "cdf46df5-7744-4f55-b932-a9709ab743be",
   "metadata": {
    "tags": []
   },
   "outputs": [],
   "source": [
    "for vp in tqdm(vps):\n",
    "    for ii in range(29):\n",
    "        vp.momentum_factor = np.interp(vp.y, [db.bottom, db.top], [2, 2])\n",
    "        vp.step()"
   ]
  },
  {
   "cell_type": "code",
   "execution_count": null,
   "id": "05ae1ed5-d4e2-46a4-9d6e-6d678dbe41ae",
   "metadata": {},
   "outputs": [],
   "source": [
    "vps = [vp for vp in vps if len(vp.pts) > 1]\n",
    "\n",
    "lss = [LineString(vp.pts) for vp in vps]\n",
    "\n",
    "lss = gp.merge_LineStrings(lss)\n",
    "\n",
    "# blss = lss.buffer(0.01, join_style=2, cap_style=2).boundary"
   ]
  },
  {
   "cell_type": "code",
   "execution_count": null,
   "id": "965eba81-de2d-4680-b2a7-762979f4bc88",
   "metadata": {},
   "outputs": [],
   "source": [
    "sk = vsketch.Vsketch()\n",
    "sk.size(paper.page_format_mm)\n",
    "sk.scale('1mm')\n",
    "sk.stroke(1)\n",
    "sk.geometry(lss)\n",
    "sk.display()"
   ]
  },
  {
   "cell_type": "code",
   "execution_count": null,
   "id": "121825a8-f3dc-4f5f-99e6-6495829195b0",
   "metadata": {},
   "outputs": [],
   "source": [
    "merge_tolerances = [0.2, 0.3, 0.4, 0.5, 0.6]\n",
    "simplify_tolerances = [0.2]"
   ]
  },
  {
   "cell_type": "code",
   "execution_count": null,
   "id": "0dc83d62-8be1-4aa7-a8a8-b72ba4f60885",
   "metadata": {},
   "outputs": [],
   "source": [
    "# sk.vpype('splitall')\n",
    "        \n",
    "    \n",
    "for tolerance in tqdm(merge_tolerances):\n",
    "    sk.vpype(f'linemerge --tolerance {tolerance}mm')\n",
    "\n",
    "for tolerance in tqdm(simplify_tolerances):\n",
    "    sk.vpype(f'linesimplify --tolerance {tolerance}mm')\n",
    "\n",
    "sk.vpype('linesort')\n",
    "sk.display()"
   ]
  },
  {
   "cell_type": "code",
   "execution_count": null,
   "id": "f6ae46f5-0b82-408b-8235-721f030a65eb",
   "metadata": {},
   "outputs": [],
   "source": [
    "savepath = Path(savedir).joinpath(filename).as_posix()\n",
    "sk.save(savepath)"
   ]
  },
  {
   "cell_type": "markdown",
   "id": "f508690f-ea22-485d-b13a-bc795a3b4698",
   "metadata": {},
   "source": [
    "# w subdivide"
   ]
  },
  {
   "cell_type": "code",
   "execution_count": null,
   "id": "61b97185-dc32-4bb4-a5bb-29c9e4afc1f3",
   "metadata": {},
   "outputs": [],
   "source": [
    "image_path= '/home/naka/art/wigglesphere.jpg'\n",
    "filename = 'vp_test12.svg'\n",
    "paper_size:str = '11x14 inches'\n",
    "border:float=20  # mm\n",
    "image_rescale_factor:float=0.04\n",
    "smooth_disk_size:int=1\n",
    "hist_clip_limit=0.1\n",
    "hist_nbins=32\n",
    "intensity_min=0.\n",
    "intensity_max=1.\n",
    "hatch_spacing_min=0.35  # mm\n",
    "hatch_spacing_max=1.1 # mm\n",
    "pixel_width=1 # mm\n",
    "pixel_height=1 # mm\n",
    "angle_jitter='ss.norm(loc=10, scale=0).rvs'  # degrees\n",
    "pixel_rotation='0'  # degrees\n",
    "merge_tolerances=[0.3, 0.4,]  # mm\n",
    "simplify_tolerances=[0.2,]  # mm\n",
    "savedir='/home/naka/art/plotter_svgs'"
   ]
  },
  {
   "cell_type": "code",
   "execution_count": null,
   "id": "44121926-22bb-4a07-bc77-73b0a1f49e41",
   "metadata": {},
   "outputs": [],
   "source": [
    "# make page\n",
    "paper = Paper(paper_size)\n",
    "drawbox = paper.get_drawbox(border)\n",
    "\n",
    "# load\n",
    "img =  rgb2gray(io.imread(Path(image_path)))"
   ]
  },
  {
   "cell_type": "code",
   "execution_count": null,
   "id": "500804f8-fb74-4c38-aad8-44eec01a656e",
   "metadata": {
    "Collapsed": "false"
   },
   "outputs": [],
   "source": [
    "xgen = ss.uniform(loc=0.45, scale=0.0).rvs\n",
    "split_func = functools.partial(gp.split_along_longest_side_of_min_rectangle, xgen=xgen)\n",
    "splits = gp.recursive_split_frac_buffer(\n",
    "    drawbox, \n",
    "    split_func=split_func,\n",
    "    p_continue=0.8, \n",
    "    depth=0, \n",
    "    depth_limit=3,\n",
    "    buffer_frac=-0.0\n",
    ")\n",
    "# split_func = functools.partial(gp.random_bezier_subdivide, x0=0.19, x1=0.85, n_eval_points=50)\n",
    "# splits = gp.recursive_split_frac_buffer(\n",
    "#     drawbox, \n",
    "#     split_func=split_func,\n",
    "#     p_continue=0.7, \n",
    "#     depth=0, \n",
    "#     depth_limit=8,\n",
    "#     buffer_frac=-0.0\n",
    "# )\n",
    "\n",
    "\n",
    "bps = MultiPolygon([p for p in splits])\n",
    "\n",
    "   \n",
    "sk = vsketch.Vsketch()\n",
    "sk.size(paper.page_format_mm)\n",
    "sk.scale('1mm')\n",
    "sk.penWidth('0.5mm')\n",
    "sk.geometry(bps.boundary)\n",
    "\n",
    "# tolerance=0.5\n",
    "\n",
    "sk.display()"
   ]
  },
  {
   "cell_type": "code",
   "execution_count": null,
   "id": "9a8dd9eb-2e21-433e-96d4-94c605260d24",
   "metadata": {},
   "outputs": [],
   "source": []
  },
  {
   "cell_type": "code",
   "execution_count": null,
   "id": "ce58d658-a2cd-42f8-a4db-7d461b975794",
   "metadata": {},
   "outputs": [],
   "source": [
    "# make pixel polys\n",
    "prms = []\n",
    "for bp in tqdm(bps):\n",
    "\n",
    "    a = np.random.uniform(0, 240)\n",
    "    prm = {\n",
    "        'geometry':bp,\n",
    "        'raw_pixel_width':pixel_width,\n",
    "        'raw_pixel_height':pixel_height,\n",
    "        'angle':a,\n",
    "        'group': 'raw_hatch_pixel',\n",
    "        'intensity': 1,\n",
    "\n",
    "    }\n",
    "    prms.append(prm)\n",
    "raw_hatch_pixels = geopandas.GeoDataFrame(prms)"
   ]
  },
  {
   "cell_type": "code",
   "execution_count": null,
   "id": "49a8a33d-d2f8-44a3-8f54-7b277299f49e",
   "metadata": {},
   "outputs": [],
   "source": [
    "#  rescale polys to fit in drawbox\n",
    "bbox = box(*raw_hatch_pixels.total_bounds)\n",
    "_, transform = gp.make_like(bbox, drawbox, return_transform=True)\n",
    "A = gp.AffineMatrix(**transform)\n",
    "scaled_hatch_pixels = raw_hatch_pixels.copy()\n",
    "scaled_hatch_pixels['geometry'] = scaled_hatch_pixels.affine_transform(A.A_flat)\n",
    "scaled_hatch_pixels['scaled_pixel_height'] = scaled_hatch_pixels['geometry'].apply(gp.get_height)\n",
    "scaled_hatch_pixels['scaled_pixel_width'] = scaled_hatch_pixels['geometry'].apply(gp.get_width)"
   ]
  },
  {
   "cell_type": "code",
   "execution_count": null,
   "id": "596264d0-89b1-4e58-b31b-d83c54c36551",
   "metadata": {},
   "outputs": [],
   "source": [
    "new_drawbox = so.unary_union(scaled_hatch_pixels.geometry)\n",
    "db = gp.Poly(new_drawbox)"
   ]
  },
  {
   "cell_type": "code",
   "execution_count": null,
   "id": "ca648d07-ab8e-4de7-a57c-2368a25400e7",
   "metadata": {},
   "outputs": [],
   "source": [
    "scaled_hatch_pixels['angle'] = np.interp(scaled_hatch_pixels.geometry.centroid.y, [db.bottom, db.top], [0, 680]) + np.random.randn(len(scaled_hatch_pixels)) * 5"
   ]
  },
  {
   "cell_type": "code",
   "execution_count": null,
   "id": "d7c0505c-171f-4335-959e-6fae2237ac88",
   "metadata": {},
   "outputs": [],
   "source": [
    "scaled_hatch_pixels['angle'] = scaled_hatch_pixels['angle'] // 5 * 5"
   ]
  },
  {
   "cell_type": "code",
   "execution_count": null,
   "id": "4d9e513b-ae78-4b56-9c78-925df0016968",
   "metadata": {},
   "outputs": [],
   "source": [
    "# scaled_hatch_pixels['angle'] = np.interp(scaled_hatch_pixels['angle'], xp=[0, 180], fp=[30, 150])"
   ]
  },
  {
   "cell_type": "code",
   "execution_count": null,
   "id": "6068f987-54ff-45d5-94a6-b3caae6b0dca",
   "metadata": {},
   "outputs": [],
   "source": [
    "qpg = NoisyQuantizedPiecewiseGrid(scaled_hatch_pixels, xstep=5, ystep=5, noise_scale=0.0001, noise_mult=1, verbose=True)\n",
    "\n",
    "qpg.make_grid()\n",
    "\n",
    "# qpg = QuantizedPiecewiseGrid(scaled_hatch_pixels, xstep=5, ystep=5)\n",
    "# qpg.make_grid()"
   ]
  },
  {
   "cell_type": "code",
   "execution_count": null,
   "id": "ac76fcb2-c919-49e2-8705-06307762c794",
   "metadata": {},
   "outputs": [],
   "source": [
    "# # evenly spaced grid\n",
    "# bins, grid = gp.overlay_grid(new_drawbox, xstep=2.5, ystep=2.5, flatmesh=True)\n",
    "# xs, ys = grid\n",
    "# pts = [Point(x,y) for x,y in zip(xs, ys)]\n",
    "\n",
    "# # random\n",
    "# pts = gp.get_random_points_in_polygon(new_drawbox, 4000)\n",
    "\n",
    "# n_points = 5000\n",
    "# pts = []\n",
    "# pix_p =  np.interp(scaled_hatch_pixels['intensity'], [0, 1], [0.9, 0.1])\n",
    "# pix_p /= pix_p.sum()\n",
    "# for ii in range(n_points):\n",
    "#     pix = np.random.choice(scaled_hatch_pixels.index, p=pix_p)\n",
    "#     pt = gp.get_random_point_in_polygon(scaled_hatch_pixels.loc[pix, 'geometry'])\n",
    "#     pts.append(pt)\n",
    "\n",
    "# # circle    \n",
    "# rad = 50\n",
    "# n_points = 100\n",
    "# circ = new_drawbox.centroid.buffer(rad).boundary\n",
    "# pts = [circ.interpolate(d, normalized=True) for d in np.linspace(0, 1, n_points)]"
   ]
  },
  {
   "cell_type": "code",
   "execution_count": null,
   "id": "28ba26e7-3b1f-4001-bdd4-3f7675275c68",
   "metadata": {},
   "outputs": [],
   "source": [
    "def get_random_line_in_polygon(polygon, max_dist=None, min_dist=None):\n",
    "    pt0 = gp.get_random_point_in_polygon(polygon)\n",
    "    pt1 = gp.get_random_point_in_polygon(polygon)\n",
    "    \n",
    "    if max_dist is not None:\n",
    "        while pt0.distance(pt1) > max_dist:\n",
    "            pt1 = gp.get_random_point_in_polygon(polygon)\n",
    "            \n",
    "    if min_dist is not None:\n",
    "        while pt0.distance(pt1) < min_dist:\n",
    "            pt1 = gp.get_random_point_in_polygon(polygon)\n",
    "    \n",
    "    return LineString([pt0, pt1])"
   ]
  },
  {
   "cell_type": "code",
   "execution_count": null,
   "id": "a7469e4d-7fc5-41d1-befb-6e16de7722a6",
   "metadata": {},
   "outputs": [],
   "source": [
    "qpg = NoisyQuantizedPiecewiseGrid(scaled_hatch_pixels, xstep=5, ystep=5, noise_scale=0.1, noise_mult=0.8, verbose=False)\n",
    "qpg.make_grid()"
   ]
  },
  {
   "cell_type": "code",
   "execution_count": null,
   "id": "350558b0-d02f-484a-b81a-e99b62932a59",
   "metadata": {
    "tags": []
   },
   "outputs": [],
   "source": [
    "poly = new_drawbox\n",
    "pts = []\n",
    "lss = []\n",
    "n_lines = 900\n",
    "for ii in tqdm(range(n_lines)):\n",
    "    ls = get_random_line_in_polygon(poly, min_dist = 10, max_dist=400)\n",
    "    new_pts = [ls.interpolate(d) for d in np.linspace(0, ls.length, np.random.randint(1,32))]\n",
    "    vps = [VectorParticle(pos=pt, vector=np.random.uniform(-1,1,size=2), grid=qpg, stepsize=1, momentum_factor=np.random.uniform(0,0)) for pt in new_pts]\n",
    "    for vp in vps:\n",
    "        for ii in range(10):\n",
    "            vp.step()\n",
    "    vps = [vp for vp in vps if len(vp.pts) > 1]\n",
    "    ls = gp.merge_LineStrings([LineString(vp.pts) for vp in vps])\n",
    "    lss.append(ls)"
   ]
  },
  {
   "cell_type": "code",
   "execution_count": null,
   "id": "7bc91110-930f-4a9e-b3fb-a37896a7c3a4",
   "metadata": {},
   "outputs": [],
   "source": [
    "blss = gp.merge_LineStrings(lss).buffer(0.1, cap_style=2, join_style=2)"
   ]
  },
  {
   "cell_type": "code",
   "execution_count": null,
   "id": "baeb3efb-2559-4e12-a51d-56f33d459818",
   "metadata": {
    "tags": []
   },
   "outputs": [],
   "source": [
    "poly = new_drawbox\n",
    "pts = []\n",
    "lss = []\n",
    "n_lines = 900\n",
    "for ii in tqdm(range(n_lines)):\n",
    "    ls = get_random_line_in_polygon(poly, min_dist = 10, max_dist=400)\n",
    "    new_pts = [ls.interpolate(d) for d in np.linspace(0, ls.length, np.random.randint(1,32))]\n",
    "    vps = [VectorParticle(pos=pt, vector=np.random.uniform(-1,1,size=2), grid=qpg, stepsize=1, momentum_factor=np.random.uniform(0,0)) for pt in new_pts]\n",
    "    for vp in vps:\n",
    "        for ii in range(10):\n",
    "            vp.step()\n",
    "    vps = [vp for vp in vps if len(vp.pts) > 1]\n",
    "    ls = gp.merge_LineStrings([LineString(vp.pts) for vp in vps])\n",
    "    lss.append(ls)"
   ]
  },
  {
   "cell_type": "code",
   "execution_count": null,
   "id": "117f4300-0655-4418-9145-c7e356b2ec12",
   "metadata": {},
   "outputs": [],
   "source": [
    "blss2 = gp.merge_LineStrings(lss).buffer(0.1, cap_style=2, join_style=2)"
   ]
  },
  {
   "cell_type": "code",
   "execution_count": null,
   "id": "ff38994a-b095-46bc-bb04-fb70b0eb379a",
   "metadata": {},
   "outputs": [],
   "source": [
    "sk = vsketch.Vsketch()\n",
    "sk.size(paper.page_format_mm)\n",
    "sk.scale('1mm')\n",
    "# for ii, ls in enumerate(lss):\n",
    "#     sk.stroke(ii + 1)\n",
    "#     sk.geometry(ls)\n",
    "sk.stroke(1)\n",
    "sk.geometry(blss)\n",
    "sk.stroke(2)\n",
    "sk.geometry(blss2)\n",
    "    \n",
    "sk.display()"
   ]
  },
  {
   "cell_type": "code",
   "execution_count": null,
   "id": "23bdf564-9a4e-4578-ae75-5e7f383882a2",
   "metadata": {},
   "outputs": [],
   "source": [
    "merge_tolerances = [0.2, 0.3, 0.4, 0.5, 1]\n",
    "simplify_tolerances = [0.2]"
   ]
  },
  {
   "cell_type": "code",
   "execution_count": null,
   "id": "b48b78f0-10a5-47ee-b487-2ef7cf1afc31",
   "metadata": {
    "jupyter": {
     "outputs_hidden": true
    },
    "tags": []
   },
   "outputs": [],
   "source": [
    "sk.vpype('splitall')\n",
    "        \n",
    "    \n",
    "for tolerance in tqdm(merge_tolerances):\n",
    "    sk.vpype(f'linemerge --tolerance {tolerance}mm')\n",
    "\n",
    "for tolerance in tqdm(simplify_tolerances):\n",
    "    sk.vpype(f'linesimplify --tolerance {tolerance}mm')\n",
    "\n",
    "sk.vpype('linesort')\n",
    "sk.display()"
   ]
  },
  {
   "cell_type": "code",
   "execution_count": null,
   "id": "1f6557e9-b570-451f-a837-1a6ecf40456b",
   "metadata": {},
   "outputs": [],
   "source": [
    "savepath = Path(savedir).joinpath(filename).as_posix()\n",
    "sk.save(savepath)"
   ]
  },
  {
   "cell_type": "code",
   "execution_count": null,
   "id": "faa8289a-d7cb-4e18-89f5-ba1d61103a51",
   "metadata": {},
   "outputs": [],
   "source": []
  },
  {
   "cell_type": "markdown",
   "id": "b3c050d1-861b-4de0-af16-c88f92f85e60",
   "metadata": {},
   "source": [
    "# w subdivide"
   ]
  },
  {
   "cell_type": "code",
   "execution_count": null,
   "id": "f7c6e950-9d09-49d9-9577-98d9fef8fab1",
   "metadata": {},
   "outputs": [],
   "source": [
    "image_path= '/home/naka/art/wigglesphere.jpg'\n",
    "filename = 'vp_test14.svg'\n",
    "paper_size:str = '11x14 inches'\n",
    "border:float=20  # mm\n",
    "image_rescale_factor:float=0.04\n",
    "smooth_disk_size:int=1\n",
    "hist_clip_limit=0.1\n",
    "hist_nbins=32\n",
    "intensity_min=0.\n",
    "intensity_max=1.\n",
    "hatch_spacing_min=0.35  # mm\n",
    "hatch_spacing_max=1.1 # mm\n",
    "pixel_width=1 # mm\n",
    "pixel_height=1 # mm\n",
    "angle_jitter='ss.norm(loc=10, scale=0).rvs'  # degrees\n",
    "pixel_rotation='0'  # degrees\n",
    "merge_tolerances=[0.3, 0.4,]  # mm\n",
    "simplify_tolerances=[0.2,]  # mm\n",
    "savedir='/home/naka/art/plotter_svgs'"
   ]
  },
  {
   "cell_type": "code",
   "execution_count": null,
   "id": "8fb9777b-35f5-41c0-a916-748e3e293e69",
   "metadata": {},
   "outputs": [],
   "source": [
    "# make page\n",
    "paper = Paper(paper_size)\n",
    "drawbox = paper.get_drawbox(border)\n",
    "\n",
    "# load\n",
    "img =  rgb2gray(io.imread(Path(image_path)))"
   ]
  },
  {
   "cell_type": "code",
   "execution_count": null,
   "id": "ed4c39c8-8a27-4ca0-b15d-9c126930d898",
   "metadata": {
    "Collapsed": "false"
   },
   "outputs": [],
   "source": [
    "xgen = ss.uniform(loc=0.5, scale=0.05).rvs\n",
    "split_func = functools.partial(gp.split_along_longest_side_of_min_rectangle, xgen=xgen)\n",
    "splits = gp.recursive_split_frac_buffer(\n",
    "    drawbox, \n",
    "    split_func=split_func,\n",
    "    p_continue=1, \n",
    "    depth=0, \n",
    "    depth_limit=7,\n",
    "    buffer_frac=-0.0\n",
    ")\n",
    "# split_func = functools.partial(gp.random_bezier_subdivide, x0=0.19, x1=0.85, n_eval_points=50)\n",
    "# splits = gp.recursive_split_frac_buffer(\n",
    "#     drawbox, \n",
    "#     split_func=split_func,\n",
    "#     p_continue=0.7, \n",
    "#     depth=0, \n",
    "#     depth_limit=8,\n",
    "#     buffer_frac=-0.0\n",
    "# )\n",
    "\n",
    "\n",
    "bps = MultiPolygon([p for p in splits])\n",
    "\n",
    "   \n",
    "sk = vsketch.Vsketch()\n",
    "sk.size(paper.page_format_mm)\n",
    "sk.scale('1mm')\n",
    "sk.penWidth('0.5mm')\n",
    "sk.geometry(bps.boundary)\n",
    "\n",
    "# tolerance=0.5\n",
    "\n",
    "sk.display()"
   ]
  },
  {
   "cell_type": "code",
   "execution_count": null,
   "id": "af50a285-6e0e-459a-92e1-7ab7c7ef5e4f",
   "metadata": {},
   "outputs": [],
   "source": [
    "all_bps = gp.Shape(bps)"
   ]
  },
  {
   "cell_type": "code",
   "execution_count": null,
   "id": "45e4567b-3e30-4a32-8d58-147fc8de1778",
   "metadata": {},
   "outputs": [],
   "source": [
    "# make pixel polys\n",
    "prms = []\n",
    "for bp in tqdm(bps):\n",
    "\n",
    "#     a = np.random.uniform(0, 240)\n",
    "    dist_from_center = bp.centroid.distance(bps.centroid)\n",
    "    a = np.interp(dist_from_center, [0, 150], [0, 1020])\n",
    "    prm = {\n",
    "        'geometry':bp,\n",
    "        'raw_pixel_width':pixel_width,\n",
    "        'raw_pixel_height':pixel_height,\n",
    "        'angle':a,\n",
    "        'group': 'raw_hatch_pixel',\n",
    "        'magnitude': np.random.uniform(0.3, 2),\n",
    "\n",
    "    }\n",
    "    prms.append(prm)\n",
    "raw_hatch_pixels = geopandas.GeoDataFrame(prms)"
   ]
  },
  {
   "cell_type": "code",
   "execution_count": null,
   "id": "7ff4d09e-dca4-4959-b088-42accd7167f6",
   "metadata": {},
   "outputs": [],
   "source": [
    "#  rescale polys to fit in drawbox\n",
    "bbox = box(*raw_hatch_pixels.total_bounds)\n",
    "_, transform = gp.make_like(bbox, drawbox, return_transform=True)\n",
    "A = gp.AffineMatrix(**transform)\n",
    "scaled_hatch_pixels = raw_hatch_pixels.copy()\n",
    "scaled_hatch_pixels['geometry'] = scaled_hatch_pixels.affine_transform(A.A_flat)\n",
    "scaled_hatch_pixels['scaled_pixel_height'] = scaled_hatch_pixels['geometry'].apply(gp.get_height)\n",
    "scaled_hatch_pixels['scaled_pixel_width'] = scaled_hatch_pixels['geometry'].apply(gp.get_width)"
   ]
  },
  {
   "cell_type": "code",
   "execution_count": null,
   "id": "0a8e36de-234e-4431-a771-d00e5f0a051e",
   "metadata": {},
   "outputs": [],
   "source": [
    "new_drawbox = so.unary_union(scaled_hatch_pixels.geometry)\n",
    "db = gp.Poly(new_drawbox)"
   ]
  },
  {
   "cell_type": "code",
   "execution_count": null,
   "id": "dc73a586-8334-4829-bf8e-ad11450e7aab",
   "metadata": {},
   "outputs": [],
   "source": [
    "# scaled_hatch_pixels['angle'] = np.interp(scaled_hatch_pixels.geometry.centroid.y, [db.bottom, db.top], [0, 680]) + np.random.randn(len(scaled_hatch_pixels)) * 5"
   ]
  },
  {
   "cell_type": "code",
   "execution_count": null,
   "id": "79f224e0-7877-4658-86db-3ac4b8d12e83",
   "metadata": {},
   "outputs": [],
   "source": [
    "scaled_hatch_pixels['angle'] = scaled_hatch_pixels['angle'] // 5 * 5"
   ]
  },
  {
   "cell_type": "code",
   "execution_count": null,
   "id": "7e2a50ec-8a64-4208-ab6a-7f09d31eecb1",
   "metadata": {},
   "outputs": [],
   "source": [
    "# scaled_hatch_pixels['angle'] = np.interp(scaled_hatch_pixels['angle'], xp=[0, 180], fp=[30, 150])"
   ]
  },
  {
   "cell_type": "code",
   "execution_count": null,
   "id": "37580df4-2a0f-42c9-9d8e-550271b18b6b",
   "metadata": {},
   "outputs": [],
   "source": [
    "def get_random_line_in_polygon(polygon, max_dist=None, min_dist=None):\n",
    "    pt0 = gp.get_random_point_in_polygon(polygon)\n",
    "    pt1 = gp.get_random_point_in_polygon(polygon)\n",
    "    \n",
    "    if max_dist is not None:\n",
    "        while pt0.distance(pt1) > max_dist:\n",
    "            pt1 = gp.get_random_point_in_polygon(polygon)\n",
    "            \n",
    "    if min_dist is not None:\n",
    "        while pt0.distance(pt1) < min_dist:\n",
    "            pt1 = gp.get_random_point_in_polygon(polygon)\n",
    "    \n",
    "    return LineString([pt0, pt1])"
   ]
  },
  {
   "cell_type": "code",
   "execution_count": null,
   "id": "9499c4ca-ba6d-4ef3-8973-efcbfac6fc71",
   "metadata": {},
   "outputs": [],
   "source": [
    "qpg = NoisyQuantizedPiecewiseGrid(scaled_hatch_pixels, xstep=5, ystep=5, noise_scale=0.1, noise_mult=0.5, verbose=False)\n",
    "qpg.make_grid()"
   ]
  },
  {
   "cell_type": "code",
   "execution_count": null,
   "id": "4eb15caa-0c90-4453-937b-08350f456d3f",
   "metadata": {
    "tags": []
   },
   "outputs": [],
   "source": [
    "poly = new_drawbox\n",
    "pts = []\n",
    "lss = []\n",
    "n_lines = 6000\n",
    "for ii in tqdm(range(n_lines)):\n",
    "    ls = get_random_line_in_polygon(poly, min_dist = 10, max_dist=400)\n",
    "    new_pts = [ls.interpolate(d) for d in np.linspace(0, ls.length, np.random.randint(1,2))]\n",
    "    vps = [VectorParticle(pos=pt, grid=qpg, stepsize=1, momentum_factor=np.random.uniform(0,0)) for pt in new_pts]\n",
    "    for vp in vps:\n",
    "        for ii in range(15):\n",
    "            vp.step()\n",
    "    vps = [vp for vp in vps if len(vp.pts) > 1]\n",
    "    ls = gp.merge_LineStrings([LineString(vp.pts) for vp in vps])\n",
    "    lss.append(ls)"
   ]
  },
  {
   "cell_type": "code",
   "execution_count": null,
   "id": "303b80f7-f04c-49db-b4b6-dad27a8b7316",
   "metadata": {},
   "outputs": [],
   "source": [
    "blss = gp.merge_LineStrings(lss).buffer(0.2, cap_style=2, join_style=2)"
   ]
  },
  {
   "cell_type": "code",
   "execution_count": null,
   "id": "67bd442f-ba44-4a1a-b6b0-4a5459e57702",
   "metadata": {},
   "outputs": [],
   "source": [
    "sk = vsketch.Vsketch()\n",
    "sk.size(paper.page_format_mm)\n",
    "sk.scale('1mm')\n",
    "# for ii, ls in enumerate(lss):\n",
    "#     sk.stroke(ii + 1)\n",
    "#     sk.geometry(ls)\n",
    "sk.stroke(1)\n",
    "sk.geometry(blss)\n",
    "    \n",
    "sk.display()"
   ]
  },
  {
   "cell_type": "code",
   "execution_count": null,
   "id": "8d9e817e-a2b2-411c-a5d9-9f9692aff8a4",
   "metadata": {},
   "outputs": [],
   "source": [
    "merge_tolerances = [0.2, 0.3, 0.4, 0.5, 1]\n",
    "simplify_tolerances = [0.2]"
   ]
  },
  {
   "cell_type": "code",
   "execution_count": null,
   "id": "827575f1-e635-4539-b7de-5d56c51bd210",
   "metadata": {
    "jupyter": {
     "outputs_hidden": true
    },
    "tags": []
   },
   "outputs": [],
   "source": [
    "sk.vpype('splitall')\n",
    "        \n",
    "    \n",
    "for tolerance in tqdm(merge_tolerances):\n",
    "    sk.vpype(f'linemerge --tolerance {tolerance}mm')\n",
    "\n",
    "for tolerance in tqdm(simplify_tolerances):\n",
    "    sk.vpype(f'linesimplify --tolerance {tolerance}mm')\n",
    "\n",
    "sk.vpype('linesort')\n",
    "sk.display()"
   ]
  },
  {
   "cell_type": "code",
   "execution_count": null,
   "id": "8fd2a352-79a3-4f04-80af-9cfb94d56cff",
   "metadata": {},
   "outputs": [],
   "source": [
    "savepath = Path(savedir).joinpath(filename).as_posix()\n",
    "sk.save(savepath)"
   ]
  },
  {
   "cell_type": "code",
   "execution_count": null,
   "id": "42f8b943-4da1-4dbd-82e6-8efc591ae2c5",
   "metadata": {},
   "outputs": [],
   "source": []
  },
  {
   "cell_type": "markdown",
   "id": "e13ddbc8-4aa1-4c8f-887c-5b1b56cb4a59",
   "metadata": {},
   "source": [
    "# spiral start"
   ]
  },
  {
   "cell_type": "code",
   "execution_count": null,
   "id": "a634fe20-bae1-4d7e-81e8-cee47cb4db3c",
   "metadata": {},
   "outputs": [],
   "source": [
    "image_path= '/home/naka/art/wigglesphere.jpg'\n",
    "filename = 'vp_test15.svg'\n",
    "paper_size:str = '11x14 inches'\n",
    "border:float=20  # mm\n",
    "image_rescale_factor:float=0.04\n",
    "smooth_disk_size:int=1\n",
    "hist_clip_limit=0.1\n",
    "hist_nbins=32\n",
    "intensity_min=0.\n",
    "intensity_max=1.\n",
    "hatch_spacing_min=0.35  # mm\n",
    "hatch_spacing_max=1.1 # mm\n",
    "pixel_width=1 # mm\n",
    "pixel_height=1 # mm\n",
    "angle_jitter='ss.norm(loc=10, scale=0).rvs'  # degrees\n",
    "pixel_rotation='0'  # degrees\n",
    "merge_tolerances=[0.3, 0.4,]  # mm\n",
    "simplify_tolerances=[0.2,]  # mm\n",
    "savedir='/home/naka/art/plotter_svgs'"
   ]
  },
  {
   "cell_type": "code",
   "execution_count": null,
   "id": "e1addeef-a802-4726-983c-9323ca8cb9e6",
   "metadata": {},
   "outputs": [],
   "source": [
    "# make page\n",
    "paper = Paper(paper_size)\n",
    "drawbox = paper.get_drawbox(border)\n",
    "\n",
    "# load\n",
    "img =  rgb2gray(io.imread(Path(image_path)))"
   ]
  },
  {
   "cell_type": "code",
   "execution_count": null,
   "id": "67f35524-f768-496c-b4f6-e32b8e3ea764",
   "metadata": {
    "Collapsed": "false"
   },
   "outputs": [],
   "source": [
    "xgen = ss.uniform(loc=0.5, scale=0.05).rvs\n",
    "split_func = functools.partial(gp.split_along_longest_side_of_min_rectangle, xgen=xgen)\n",
    "splits = gp.recursive_split_frac_buffer(\n",
    "    drawbox, \n",
    "    split_func=split_func,\n",
    "    p_continue=1, \n",
    "    depth=0, \n",
    "    depth_limit=7,\n",
    "    buffer_frac=-0.0\n",
    ")\n",
    "# split_func = functools.partial(gp.random_bezier_subdivide, x0=0.19, x1=0.85, n_eval_points=50)\n",
    "# splits = gp.recursive_split_frac_buffer(\n",
    "#     drawbox, \n",
    "#     split_func=split_func,\n",
    "#     p_continue=0.7, \n",
    "#     depth=0, \n",
    "#     depth_limit=8,\n",
    "#     buffer_frac=-0.0\n",
    "# )\n",
    "\n",
    "\n",
    "bps = MultiPolygon([p for p in splits])\n",
    "\n",
    "   \n",
    "sk = vsketch.Vsketch()\n",
    "sk.size(paper.page_format_mm)\n",
    "sk.scale('1mm')\n",
    "sk.penWidth('0.5mm')\n",
    "sk.geometry(bps.boundary)\n",
    "\n",
    "# tolerance=0.5\n",
    "\n",
    "sk.display()"
   ]
  },
  {
   "cell_type": "code",
   "execution_count": null,
   "id": "1796a0de-337f-4ea5-b591-070015cfbbfc",
   "metadata": {},
   "outputs": [],
   "source": [
    "all_bps = gp.Shape(bps)"
   ]
  },
  {
   "cell_type": "code",
   "execution_count": null,
   "id": "eec02e6b-d040-46ed-a56a-207f11c40d7e",
   "metadata": {},
   "outputs": [],
   "source": [
    "# make pixel polys\n",
    "prms = []\n",
    "for bp in tqdm(bps):\n",
    "\n",
    "#     a = np.random.uniform(0, 240)\n",
    "    dist_from_center = bp.centroid.distance(bps.centroid)\n",
    "    a = np.interp(dist_from_center, [0, 150], [0, 1020])\n",
    "    prm = {\n",
    "        'geometry':bp,\n",
    "        'raw_pixel_width':pixel_width,\n",
    "        'raw_pixel_height':pixel_height,\n",
    "        'angle':a,\n",
    "        'group': 'raw_hatch_pixel',\n",
    "        'magnitude': np.random.uniform(0.3, 2),\n",
    "\n",
    "    }\n",
    "    prms.append(prm)\n",
    "raw_hatch_pixels = geopandas.GeoDataFrame(prms)"
   ]
  },
  {
   "cell_type": "code",
   "execution_count": null,
   "id": "b6b080db-94ce-41ea-a5f0-2d723c90e1c3",
   "metadata": {},
   "outputs": [],
   "source": [
    "#  rescale polys to fit in drawbox\n",
    "bbox = box(*raw_hatch_pixels.total_bounds)\n",
    "_, transform = gp.make_like(bbox, drawbox, return_transform=True)\n",
    "A = gp.AffineMatrix(**transform)\n",
    "scaled_hatch_pixels = raw_hatch_pixels.copy()\n",
    "scaled_hatch_pixels['geometry'] = scaled_hatch_pixels.affine_transform(A.A_flat)\n",
    "scaled_hatch_pixels['scaled_pixel_height'] = scaled_hatch_pixels['geometry'].apply(gp.get_height)\n",
    "scaled_hatch_pixels['scaled_pixel_width'] = scaled_hatch_pixels['geometry'].apply(gp.get_width)"
   ]
  },
  {
   "cell_type": "code",
   "execution_count": null,
   "id": "39a94149-cb5c-4622-83f3-c2b31d196de1",
   "metadata": {},
   "outputs": [],
   "source": [
    "new_drawbox = so.unary_union(scaled_hatch_pixels.geometry)\n",
    "db = gp.Poly(new_drawbox)"
   ]
  },
  {
   "cell_type": "code",
   "execution_count": null,
   "id": "bd65c752-bee3-49de-845f-42b01411c6e9",
   "metadata": {},
   "outputs": [],
   "source": [
    "# scaled_hatch_pixels['angle'] = np.interp(scaled_hatch_pixels.geometry.centroid.y, [db.bottom, db.top], [0, 680]) + np.random.randn(len(scaled_hatch_pixels)) * 5"
   ]
  },
  {
   "cell_type": "code",
   "execution_count": null,
   "id": "ac841c31-73a6-4e96-ad82-aab341734f74",
   "metadata": {},
   "outputs": [],
   "source": [
    "scaled_hatch_pixels['angle'] = scaled_hatch_pixels['angle'] // 5 * 5"
   ]
  },
  {
   "cell_type": "code",
   "execution_count": null,
   "id": "a1c2309f-d627-47d0-9c29-bad194eba652",
   "metadata": {},
   "outputs": [],
   "source": [
    "# scaled_hatch_pixels['angle'] = np.interp(scaled_hatch_pixels['angle'], xp=[0, 180], fp=[30, 150])"
   ]
  },
  {
   "cell_type": "code",
   "execution_count": null,
   "id": "0d924def-fb56-4765-95a5-4010a361b10d",
   "metadata": {},
   "outputs": [],
   "source": [
    "qpg = NoisyQuantizedPiecewiseGrid(scaled_hatch_pixels, xstep=5, ystep=5, noise_scale=0.1, noise_mult=0.5, verbose=False)\n",
    "qpg.make_grid()"
   ]
  },
  {
   "cell_type": "code",
   "execution_count": null,
   "id": "b747ba2d-65de-41c1-8070-36d9b6e62f12",
   "metadata": {},
   "outputs": [],
   "source": [
    "spiral_angle_max = np.pi * 200\n",
    "spiral_angle_min = 0\n",
    "spiral_angle_spacing = np.pi * 0.053\n",
    "sp_angle_range = np.arange(spiral_angle_min, spiral_angle_max, spiral_angle_spacing)\n",
    "spiral_distances = np.linspace(0, 100, len(sp_angle_range))\n",
    "\n",
    "start_points = [Point(np.cos(a) * d, np.sin(a) * d) for a, d in zip(sp_angle_range, spiral_distances)]"
   ]
  },
  {
   "cell_type": "code",
   "execution_count": null,
   "id": "fc18bde3-be9a-44e4-b897-5c863df9de0c",
   "metadata": {},
   "outputs": [],
   "source": [
    "start_points = gp.make_like(MultiPoint(start_points), db.p)"
   ]
  },
  {
   "cell_type": "code",
   "execution_count": null,
   "id": "9bb29bf4-4d08-4e5b-ae01-6239afa84d7b",
   "metadata": {
    "tags": []
   },
   "outputs": [],
   "source": [
    "poly = new_drawbox\n",
    "pts = []\n",
    "lss = []\n",
    "n_steps = 8\n",
    "for pt in tqdm(start_points):\n",
    "    \n",
    "    vp = VectorParticle(pos=pt, grid=qpg, stepsize=1, momentum_factor=np.random.uniform(0,0))\n",
    "    for ii in range(n_steps):\n",
    "        vp.step()\n",
    "    if len(vp.pts) > 1:\n",
    "        ls = gp.merge_LineStrings([LineString(vp.pts)])\n",
    "    lss.append(ls)"
   ]
  },
  {
   "cell_type": "code",
   "execution_count": null,
   "id": "461e05d5-a585-484c-83d7-7d0ec9d9e967",
   "metadata": {},
   "outputs": [],
   "source": [
    "for ls in lss:\n",
    "    ls"
   ]
  },
  {
   "cell_type": "code",
   "execution_count": null,
   "id": "dd560308-57ef-42e6-a35f-d6a3b3b449f3",
   "metadata": {},
   "outputs": [],
   "source": [
    "blss = gp.merge_LineStrings(lss).buffer(0.25, cap_style=2, join_style=2)"
   ]
  },
  {
   "cell_type": "code",
   "execution_count": null,
   "id": "53d49372-5ef2-4626-8fe1-d2f056b1c632",
   "metadata": {},
   "outputs": [],
   "source": [
    "sk = vsketch.Vsketch()\n",
    "sk.size(paper.page_format_mm)\n",
    "sk.scale('1mm')\n",
    "# for ii, ls in enumerate(lss):\n",
    "#     sk.stroke(ii + 1)\n",
    "#     sk.geometry(ls)\n",
    "sk.stroke(1)\n",
    "sk.geometry(blss)\n",
    "    \n",
    "sk.display()"
   ]
  },
  {
   "cell_type": "code",
   "execution_count": null,
   "id": "15c06a16-b424-4b4b-824d-907b93ded346",
   "metadata": {},
   "outputs": [],
   "source": [
    "merge_tolerances = [0.2, 0.3, 0.4, 0.5, 1]\n",
    "simplify_tolerances = [0.2]"
   ]
  },
  {
   "cell_type": "code",
   "execution_count": null,
   "id": "59accad4-2707-4307-b68f-dbe878a8adfd",
   "metadata": {
    "jupyter": {
     "outputs_hidden": true
    },
    "tags": []
   },
   "outputs": [],
   "source": [
    "sk.vpype('splitall')\n",
    "        \n",
    "    \n",
    "for tolerance in tqdm(merge_tolerances):\n",
    "    sk.vpype(f'linemerge --tolerance {tolerance}mm')\n",
    "\n",
    "for tolerance in tqdm(simplify_tolerances):\n",
    "    sk.vpype(f'linesimplify --tolerance {tolerance}mm')\n",
    "\n",
    "sk.vpype('linesort')\n",
    "sk.display()"
   ]
  },
  {
   "cell_type": "code",
   "execution_count": null,
   "id": "babe3b90-6853-4446-88e4-cbf064fbc933",
   "metadata": {},
   "outputs": [],
   "source": [
    "filename = 'vp_test17.svg'"
   ]
  },
  {
   "cell_type": "code",
   "execution_count": null,
   "id": "d79e39ac-f4fd-4a36-96d0-913419784fae",
   "metadata": {},
   "outputs": [],
   "source": [
    "savepath = Path(savedir).joinpath(filename).as_posix()\n",
    "sk.save(savepath)"
   ]
  },
  {
   "cell_type": "code",
   "execution_count": null,
   "id": "07693607-0f46-47f5-8198-fcdd6fe6c525",
   "metadata": {},
   "outputs": [],
   "source": []
  },
  {
   "cell_type": "markdown",
   "id": "736e76e2-a934-4bd1-a213-0f9a99e8482a",
   "metadata": {},
   "source": [
    "# spiral start buffer shaded"
   ]
  },
  {
   "cell_type": "code",
   "execution_count": null,
   "id": "fa01c3c7-0f5d-47ea-9cb4-63ca360dcb8d",
   "metadata": {},
   "outputs": [],
   "source": [
    "image_path= '/home/naka/art/wigglesphere.jpg'\n",
    "filename = 'vp_test18.svg'\n",
    "paper_size:str = '11x14 inches'\n",
    "border:float=20  # mm\n",
    "image_rescale_factor:float=0.04\n",
    "smooth_disk_size:int=1\n",
    "hist_clip_limit=0.1\n",
    "hist_nbins=32\n",
    "intensity_min=0.\n",
    "intensity_max=1.\n",
    "hatch_spacing_min=0.35  # mm\n",
    "hatch_spacing_max=1.1 # mm\n",
    "pixel_width=1 # mm\n",
    "pixel_height=1 # mm\n",
    "angle_jitter='ss.norm(loc=10, scale=0).rvs'  # degrees\n",
    "pixel_rotation='0'  # degrees\n",
    "merge_tolerances=[0.3, 0.4,]  # mm\n",
    "simplify_tolerances=[0.2,]  # mm\n",
    "savedir='/home/naka/art/plotter_svgs'"
   ]
  },
  {
   "cell_type": "code",
   "execution_count": null,
   "id": "8f1b1efc-f788-4d83-91e0-47919dec695b",
   "metadata": {},
   "outputs": [],
   "source": [
    "# make page\n",
    "paper = Paper(paper_size)\n",
    "drawbox = paper.get_drawbox(border)\n",
    "\n",
    "# load\n",
    "img =  rgb2gray(io.imread(Path(image_path)))"
   ]
  },
  {
   "cell_type": "code",
   "execution_count": null,
   "id": "9127332d-0549-4a7a-864e-fff6d4b8f9d8",
   "metadata": {
    "Collapsed": "false"
   },
   "outputs": [],
   "source": [
    "xgen = ss.uniform(loc=0.5, scale=0.05).rvs\n",
    "split_func = functools.partial(gp.split_along_longest_side_of_min_rectangle, xgen=xgen)\n",
    "splits = gp.recursive_split_frac_buffer(\n",
    "    drawbox, \n",
    "    split_func=split_func,\n",
    "    p_continue=1, \n",
    "    depth=0, \n",
    "    depth_limit=7,\n",
    "    buffer_frac=-0.0\n",
    ")\n",
    "# split_func = functools.partial(gp.random_bezier_subdivide, x0=0.19, x1=0.85, n_eval_points=50)\n",
    "# splits = gp.recursive_split_frac_buffer(\n",
    "#     drawbox, \n",
    "#     split_func=split_func,\n",
    "#     p_continue=0.7, \n",
    "#     depth=0, \n",
    "#     depth_limit=8,\n",
    "#     buffer_frac=-0.0\n",
    "# )\n",
    "\n",
    "\n",
    "bps = MultiPolygon([p for p in splits])\n",
    "\n",
    "   \n",
    "sk = vsketch.Vsketch()\n",
    "sk.size(paper.page_format_mm)\n",
    "sk.scale('1mm')\n",
    "sk.penWidth('0.5mm')\n",
    "sk.geometry(bps.boundary)\n",
    "\n",
    "# tolerance=0.5\n",
    "\n",
    "sk.display()"
   ]
  },
  {
   "cell_type": "code",
   "execution_count": null,
   "id": "621a0be9-3e1e-43fc-ab6f-80174ed8a4a6",
   "metadata": {},
   "outputs": [],
   "source": [
    "all_bps = gp.Shape(bps)"
   ]
  },
  {
   "cell_type": "code",
   "execution_count": null,
   "id": "3dc1bd20-2dc1-448c-a4c0-1372d9bbf9eb",
   "metadata": {},
   "outputs": [],
   "source": [
    "# make pixel polys\n",
    "prms = []\n",
    "for bp in tqdm(bps):\n",
    "\n",
    "#     a = np.random.uniform(0, 240)\n",
    "    dist_from_center = bp.centroid.distance(bps.centroid)\n",
    "    a = np.interp(dist_from_center, [0, 150], [0, 1020])\n",
    "    prm = {\n",
    "        'geometry':bp,\n",
    "        'raw_pixel_width':pixel_width,\n",
    "        'raw_pixel_height':pixel_height,\n",
    "        'angle':a,\n",
    "        'group': 'raw_hatch_pixel',\n",
    "        'magnitude': np.random.uniform(0.3, 2),\n",
    "\n",
    "    }\n",
    "    prms.append(prm)\n",
    "raw_hatch_pixels = geopandas.GeoDataFrame(prms)"
   ]
  },
  {
   "cell_type": "code",
   "execution_count": null,
   "id": "7c936502-6271-4476-8d8a-9f2fbe8f8d53",
   "metadata": {},
   "outputs": [],
   "source": [
    "#  rescale polys to fit in drawbox\n",
    "bbox = box(*raw_hatch_pixels.total_bounds)\n",
    "_, transform = gp.make_like(bbox, drawbox, return_transform=True)\n",
    "A = gp.AffineMatrix(**transform)\n",
    "scaled_hatch_pixels = raw_hatch_pixels.copy()\n",
    "scaled_hatch_pixels['geometry'] = scaled_hatch_pixels.affine_transform(A.A_flat)\n",
    "scaled_hatch_pixels['scaled_pixel_height'] = scaled_hatch_pixels['geometry'].apply(gp.get_height)\n",
    "scaled_hatch_pixels['scaled_pixel_width'] = scaled_hatch_pixels['geometry'].apply(gp.get_width)"
   ]
  },
  {
   "cell_type": "code",
   "execution_count": null,
   "id": "281317d3-ac89-418d-bf3f-9953675afb53",
   "metadata": {},
   "outputs": [],
   "source": [
    "new_drawbox = so.unary_union(scaled_hatch_pixels.geometry)\n",
    "db = gp.Poly(new_drawbox)"
   ]
  },
  {
   "cell_type": "code",
   "execution_count": null,
   "id": "e6219470-4507-4216-96f5-d5e3c9de1272",
   "metadata": {},
   "outputs": [],
   "source": [
    "# scaled_hatch_pixels['angle'] = np.interp(scaled_hatch_pixels.geometry.centroid.y, [db.bottom, db.top], [0, 680]) + np.random.randn(len(scaled_hatch_pixels)) * 5"
   ]
  },
  {
   "cell_type": "code",
   "execution_count": null,
   "id": "8058d579-b21b-4e59-9e61-9c5739505d6e",
   "metadata": {},
   "outputs": [],
   "source": [
    "scaled_hatch_pixels['angle'] = scaled_hatch_pixels['angle'] // 5 * 5"
   ]
  },
  {
   "cell_type": "code",
   "execution_count": null,
   "id": "dec11f54-deb2-472d-b355-628f879c85f3",
   "metadata": {},
   "outputs": [],
   "source": [
    "# scaled_hatch_pixels['angle'] = np.interp(scaled_hatch_pixels['angle'], xp=[0, 180], fp=[30, 150])"
   ]
  },
  {
   "cell_type": "code",
   "execution_count": null,
   "id": "64e5a5f7-fcb5-4ba2-8169-e4ca9ad153d2",
   "metadata": {},
   "outputs": [],
   "source": [
    "qpg = NoisyQuantizedPiecewiseGrid(scaled_hatch_pixels, xstep=5, ystep=5, noise_scale=0.1, noise_mult=0.5, verbose=False)\n",
    "qpg.make_grid()"
   ]
  },
  {
   "cell_type": "code",
   "execution_count": null,
   "id": "40f50d12-5ceb-4ee0-bd8c-d75a8450f974",
   "metadata": {},
   "outputs": [],
   "source": [
    "spiral_angle_max = np.pi * 200\n",
    "spiral_angle_min = 0\n",
    "spiral_angle_spacing = np.pi * 0.063\n",
    "sp_angle_range = np.arange(spiral_angle_min, spiral_angle_max, spiral_angle_spacing)\n",
    "spiral_distances = np.linspace(0, 100, len(sp_angle_range))\n",
    "\n",
    "start_points = [Point(np.cos(a) * d, np.sin(a) * d) for a, d in zip(sp_angle_range, spiral_distances)]"
   ]
  },
  {
   "cell_type": "code",
   "execution_count": null,
   "id": "82f5472b-c746-4601-aa53-2dc6ec03d791",
   "metadata": {},
   "outputs": [],
   "source": [
    "start_points = gp.make_like(MultiPoint(start_points), db.p)"
   ]
  },
  {
   "cell_type": "code",
   "execution_count": null,
   "id": "b2f9dfce-715c-4a38-a07d-60104a4c0bb2",
   "metadata": {
    "tags": []
   },
   "outputs": [],
   "source": [
    "poly = new_drawbox\n",
    "pts = []\n",
    "lss = []\n",
    "n_steps = 5\n",
    "for pt in tqdm(start_points):\n",
    "    \n",
    "    vp = VectorParticle(pos=pt, grid=qpg, stepsize=1, momentum_factor=np.random.uniform(0,0))\n",
    "    for ii in range(n_steps):\n",
    "        vp.step()\n",
    "    if len(vp.pts) > 1:\n",
    "        ls = gp.merge_LineStrings([LineString(vp.pts)])\n",
    "    lss.append(ls)"
   ]
  },
  {
   "cell_type": "code",
   "execution_count": null,
   "id": "4d8d1514-80e9-4db0-92bc-6e1d1c46668e",
   "metadata": {},
   "outputs": [],
   "source": [
    "buffer_gen = ss.uniform(loc=1, scale=1.1).rvs\n",
    "d_buffer_gen = functools.partial(np.random.uniform, low=-0.35, high=-0.25)\n",
    "d_translate_factor_gen = ss.uniform(loc=0.6, scale=0.8).rvs"
   ]
  },
  {
   "cell_type": "code",
   "execution_count": null,
   "id": "51f07ea2-37ea-4734-8a87-19e108aa2646",
   "metadata": {},
   "outputs": [],
   "source": [
    "fills = []\n",
    "all_polys = Polygon()\n",
    "for ii, l in enumerate(tqdm(lss[:])):\n",
    "    p = l.buffer(0.1, cap_style=2, join_style=3)\n",
    "    p = p.buffer(buffer_gen(), cap_style=2, join_style=2)\n",
    "    angles_gen = gp.make_callable(sp_angle_range[ii]-90)\n",
    "    stp = gp.ScaleTransPrms(d_buffer=d_buffer_gen(),angles=angles_gen(),d_translate_factor=d_translate_factor_gen(), n_iters=300)\n",
    "    stp.d_buffers += np.random.uniform(-0.05, 0.05, size=stp.d_buffers.shape)\n",
    "    P = gp.Poly(p)\n",
    "    P.fill_scale_trans(**stp.prms)\n",
    "    visible_area = p.difference(all_polys)\n",
    "    visible_fill = P.fill.intersection(visible_area.buffer(1e-6))\n",
    "    \n",
    "    fills.append(visible_fill)\n",
    "    all_polys = so.unary_union([all_polys, p])"
   ]
  },
  {
   "cell_type": "code",
   "execution_count": null,
   "id": "8c611771-3b2a-4af4-aa07-a3f49bb3f699",
   "metadata": {},
   "outputs": [],
   "source": [
    "blss = gp.merge_LineStrings([f for f in fills if f.length > 0.1])"
   ]
  },
  {
   "cell_type": "code",
   "execution_count": null,
   "id": "43e29dd9-ca83-4aab-a86c-1649aa1a8ac2",
   "metadata": {},
   "outputs": [],
   "source": [
    "sk = vsketch.Vsketch()\n",
    "sk.size(paper.page_format_mm)\n",
    "sk.scale('1mm')\n",
    "# for ii, ls in enumerate(lss):\n",
    "#     sk.stroke(ii + 1)\n",
    "#     sk.geometry(ls)\n",
    "sk.stroke(1)\n",
    "sk.geometry(blss)\n",
    "    \n",
    "sk.display()"
   ]
  },
  {
   "cell_type": "code",
   "execution_count": null,
   "id": "f5f2f504-4d87-4c04-a41c-cfc777da4496",
   "metadata": {},
   "outputs": [],
   "source": [
    "merge_tolerances = [0.2, 0.3, 0.4, 0.5, 1]\n",
    "simplify_tolerances = [0.2]"
   ]
  },
  {
   "cell_type": "code",
   "execution_count": null,
   "id": "6a77bc71-41d6-4c20-a404-2298fffe621b",
   "metadata": {
    "jupyter": {
     "outputs_hidden": true
    },
    "tags": []
   },
   "outputs": [],
   "source": [
    "sk.vpype('splitall')\n",
    "        \n",
    "    \n",
    "for tolerance in tqdm(merge_tolerances):\n",
    "    sk.vpype(f'linemerge --tolerance {tolerance}mm')\n",
    "\n",
    "for tolerance in tqdm(simplify_tolerances):\n",
    "    sk.vpype(f'linesimplify --tolerance {tolerance}mm')\n",
    "\n",
    "sk.vpype('linesort')\n",
    "sk.display()"
   ]
  },
  {
   "cell_type": "code",
   "execution_count": null,
   "id": "c7f7c724-23f7-43e1-9472-598afb994b9b",
   "metadata": {},
   "outputs": [],
   "source": [
    "filename = 'vp_test28.svg'"
   ]
  },
  {
   "cell_type": "code",
   "execution_count": null,
   "id": "1fdc9f38-dc30-4f26-8d01-cf973364b5aa",
   "metadata": {},
   "outputs": [],
   "source": [
    "savepath = Path(savedir).joinpath(filename).as_posix()\n",
    "sk.save(savepath)"
   ]
  },
  {
   "cell_type": "code",
   "execution_count": null,
   "id": "709b6a5f-20d8-458c-aa11-d8970ae7fcea",
   "metadata": {},
   "outputs": [],
   "source": []
  }
 ],
 "metadata": {
  "kernelspec": {
   "display_name": "Python [conda env:genpen]",
   "language": "python",
   "name": "conda-env-genpen-py"
  },
  "language_info": {
   "codemirror_mode": {
    "name": "ipython",
    "version": 3
   },
   "file_extension": ".py",
   "mimetype": "text/x-python",
   "name": "python",
   "nbconvert_exporter": "python",
   "pygments_lexer": "ipython3",
   "version": "3.8.8"
  }
 },
 "nbformat": 4,
 "nbformat_minor": 5
}

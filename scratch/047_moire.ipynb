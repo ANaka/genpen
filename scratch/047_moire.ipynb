{
 "cells": [
  {
   "cell_type": "code",
   "execution_count": null,
   "id": "38973256-557d-42a7-bd93-0fb62ed1d2c8",
   "metadata": {
    "Collapsed": "false"
   },
   "outputs": [],
   "source": [
    "import itertools\n",
    "import numpy as np\n",
    "import os\n",
    "import seaborn as sns\n",
    "from tqdm import tqdm\n",
    "from dataclasses import asdict, dataclass, field\n",
    "import vsketch\n",
    "import shapely.geometry as sg\n",
    "from shapely.geometry import box, MultiLineString, Point, MultiPoint, Polygon, MultiPolygon, LineString\n",
    "import shapely.affinity as sa\n",
    "import shapely.ops as so\n",
    "import matplotlib.pyplot as plt\n",
    "import pandas as pd\n",
    "\n",
    "import vpype_cli\n",
    "from typing import List, Generic\n",
    "from genpen import genpen as gp, utils as utils\n",
    "from scipy import stats as ss\n",
    "import geopandas\n",
    "from shapely.errors import TopologicalError\n",
    "import functools\n",
    "%load_ext autoreload\n",
    "%autoreload 2\n",
    "import vpype\n",
    "from skimage import io\n",
    "from pathlib import Path\n",
    "\n",
    "import bezier\n",
    "\n",
    "from sklearn.preprocessing import minmax_scale\n",
    "from skimage import feature\n",
    "from genpen.utils import Paper\n",
    "\n",
    "from scipy import spatial, stats\n",
    "from scipy.ndimage import gaussian_filter\n",
    "from scipy.integrate import odeint"
   ]
  },
  {
   "cell_type": "code",
   "execution_count": null,
   "id": "b0fec0b4-f987-487e-8f96-eaaa4764c955",
   "metadata": {
    "Collapsed": "false"
   },
   "outputs": [],
   "source": [
    "# make page\n",
    "paper_size = '8x8 inches'\n",
    "border:float=20\n",
    "paper = Paper(paper_size)\n",
    "\n",
    "drawbox = paper.get_drawbox(border)"
   ]
  },
  {
   "cell_type": "code",
   "execution_count": null,
   "id": "74b4239b-1912-4f3f-a4d9-4725ce6fff34",
   "metadata": {
    "Collapsed": "false"
   },
   "outputs": [],
   "source": [
    "center = drawbox.centroid"
   ]
  },
  {
   "cell_type": "code",
   "execution_count": null,
   "id": "2f812e73-0457-43d8-ab34-9d3d501894be",
   "metadata": {
    "Collapsed": "false"
   },
   "outputs": [],
   "source": [
    "n_lines = 490\n",
    "thetas = np.linspace(0, np.pi*2, n_lines)\n",
    "radii = np.linspace(12, 12, n_lines)"
   ]
  },
  {
   "cell_type": "code",
   "execution_count": null,
   "id": "1e343730-4a1b-4f69-8609-e3849b88ebbd",
   "metadata": {
    "Collapsed": "false"
   },
   "outputs": [],
   "source": [
    "pts = []\n",
    "for theta, radius in zip(thetas, radii):\n",
    "    x = np.cos(theta) * radius - 0\n",
    "    y = np.sin(theta) * radius + 0.\n",
    "    pts.append(Point(x, y))"
   ]
  },
  {
   "cell_type": "code",
   "execution_count": null,
   "id": "1e69bbb0-b3da-4909-b86c-b1e3b628fe4d",
   "metadata": {},
   "outputs": [],
   "source": [
    "def ode(y, t, a, b, c, d):\n",
    "    v, u = y\n",
    "    dvdt = np.sin(b * u) + v * c\n",
    "    dudt = np.cos(a * v * u) + u  * d\n",
    "    dydt = [dvdt, dudt]\n",
    "    return dydt"
   ]
  },
  {
   "cell_type": "code",
   "execution_count": null,
   "id": "d5e13550-378c-463c-b280-f5cb7bee8c76",
   "metadata": {},
   "outputs": [],
   "source": [
    "\n",
    "\n",
    "t_max = 10.7\n",
    "t = np.linspace(0, t_max, 121)\n",
    "a = 0.2\n",
    "b = 0.95\n",
    "c = - 0.4\n",
    "d = -0.1\n",
    "\n",
    "all_polys = Polygon()\n",
    "\n",
    "break_dist = 0.05\n",
    "\n",
    "lines = []\n",
    "lfs = MultiLineString()\n",
    "for ii, pt in enumerate(tqdm(pts)):\n",
    "    sol = odeint(ode, [pt.x, pt.y], t, args=(a, b, c, d))\n",
    "    mpt = MultiPoint(sol)\n",
    "    if ii == 0:\n",
    "        ls = LineString(mpt)\n",
    "        lfs = gp.merge_LineStrings([lfs, ls])\n",
    "        lines.append(ls)\n",
    "    else:\n",
    "        allowed_counter = 0\n",
    "        for _pt in mpt:\n",
    "            dist = _pt.distance(lfs)\n",
    "            if dist < break_dist:\n",
    "                break\n",
    "            allowed_counter += 1\n",
    "    if allowed_counter > 1:\n",
    "        ls = LineString(mpt[:allowed_counter])\n",
    "        lfs = gp.merge_LineStrings([lfs, ls])\n",
    "        lines.append(ls)\n",
    "        \n",
    "lbs0 = gp.merge_LineStrings([l for l in lines if l.length > 0.9])     \n",
    "lbs0 = gp.make_like(gp.merge_LineStrings(lbs0), drawbox)\n",
    "\n",
    "\n",
    "\n",
    "t_max = 10.7\n",
    "t = np.linspace(0, t_max, 121)\n",
    "a = 0.2\n",
    "b = 0.95\n",
    "c = - 0.6\n",
    "d = -0.2\n",
    "\n",
    "all_polys = Polygon()\n",
    "break_dist = 0.05\n",
    "\n",
    "lines = []\n",
    "lfs = MultiLineString()\n",
    "for ii, pt in enumerate(tqdm(pts)):\n",
    "    sol = odeint(ode, [pt.x, pt.y], t, args=(a, b, c, d))\n",
    "    mpt = MultiPoint(sol)\n",
    "    if ii == 0:\n",
    "        ls = LineString(mpt)\n",
    "        lfs = gp.merge_LineStrings([lfs, ls])\n",
    "        lines.append(ls)\n",
    "    else:\n",
    "        allowed_counter = 0\n",
    "        for _pt in mpt:\n",
    "            dist = _pt.distance(lfs)\n",
    "            if dist < break_dist:\n",
    "                break\n",
    "            allowed_counter += 1\n",
    "    if allowed_counter > 1:\n",
    "        ls = LineString(mpt[:allowed_counter])\n",
    "        lfs = gp.merge_LineStrings([lfs, ls])\n",
    "        lines.append(ls)\n",
    "\n",
    "lbs1 = gp.merge_LineStrings([l for l in lines if l.length > 0.9])     \n",
    "lbs1 = gp.make_like(gp.merge_LineStrings(lbs1), drawbox)\n",
    "lbs1 = sa.rotate(lbs1, 180)"
   ]
  },
  {
   "cell_type": "code",
   "execution_count": null,
   "id": "fadc326a-a730-46fe-b061-4afaafbf5492",
   "metadata": {
    "Collapsed": "false"
   },
   "outputs": [],
   "source": [
    "sk = vsketch.Vsketch()\n",
    "sk.size(paper.page_format_mm)\n",
    "sk.scale('1mm')\n",
    "sk.penWidth('0.3mm')\n",
    "\n",
    "sk.geometry(lbs0)\n",
    "sk.geometry(lbs1)\n",
    "sk.vpype('linesimplify')\n",
    "\n",
    "sk.display(color_mode='layer')"
   ]
  },
  {
   "cell_type": "code",
   "execution_count": null,
   "id": "be5821bc-6574-4c7f-9eff-4cbeef5d5136",
   "metadata": {
    "Collapsed": "false"
   },
   "outputs": [],
   "source": []
  },
  {
   "cell_type": "code",
   "execution_count": null,
   "id": "f10b2b05-4b9c-44e5-88a0-2c1aa52ce0bf",
   "metadata": {
    "Collapsed": "false"
   },
   "outputs": [],
   "source": [
    "sk = vsketch.Vsketch()\n",
    "sk.size(paper.page_format_mm)\n",
    "sk.scale('1mm')\n",
    "sk.penWidth('0.3mm')\n",
    "\n",
    "counter = 0\n",
    "for ls in lbs0:\n",
    "    counter += 1\n",
    "    sk.stroke(counter)\n",
    "    sk.geometry(ls)\n",
    "    \n",
    "for ls in lbs1:\n",
    "    counter += 1\n",
    "    sk.stroke(counter)\n",
    "    sk.geometry(ls)\n",
    "\n",
    "sk.display(color_mode='layer')"
   ]
  },
  {
   "cell_type": "code",
   "execution_count": null,
   "id": "b5ea4ef5-8b05-4da0-862e-78d066dec3e7",
   "metadata": {},
   "outputs": [],
   "source": [
    "import fn"
   ]
  },
  {
   "cell_type": "code",
   "execution_count": null,
   "id": "d413107c-8eb4-4f12-a0f7-26ca558fcc9e",
   "metadata": {},
   "outputs": [],
   "source": [
    "plot_id = fn.new_plot_id()"
   ]
  },
  {
   "cell_type": "code",
   "execution_count": null,
   "id": "31c800a5-d29b-41e6-ad63-86e95f0d9e6a",
   "metadata": {},
   "outputs": [],
   "source": [
    "savedir='/home/naka/art/plotter_svgs'"
   ]
  },
  {
   "cell_type": "code",
   "execution_count": null,
   "id": "270f6bb6-0079-44f9-8073-a490793b0afe",
   "metadata": {},
   "outputs": [],
   "source": [
    "savepath = Path(savedir).joinpath(f'{plot_id}.svg').as_posix()\n",
    "sk.save(savepath)"
   ]
  },
  {
   "cell_type": "code",
   "execution_count": null,
   "id": "d0002cd7-81e0-49f4-8cd4-2d9233b7c5d2",
   "metadata": {},
   "outputs": [],
   "source": []
  },
  {
   "cell_type": "code",
   "execution_count": null,
   "id": "29eaa6ad-dc28-4d24-9afe-4f2def4ead09",
   "metadata": {},
   "outputs": [],
   "source": [
    "from genpen.axicam import AxiCam"
   ]
  },
  {
   "cell_type": "code",
   "execution_count": null,
   "id": "584294cc-e394-464d-a358-c6557d2c8de5",
   "metadata": {},
   "outputs": [],
   "source": [
    "cam"
   ]
  },
  {
   "cell_type": "code",
   "execution_count": null,
   "id": "0b8f9086-9c0b-4d5c-95ce-7a03a9d5ed98",
   "metadata": {},
   "outputs": [],
   "source": [
    "ac = AxiCam()"
   ]
  },
  {
   "cell_type": "code",
   "execution_count": null,
   "id": "f124f848-cb6f-472b-85d9-aeba0e4cfc70",
   "metadata": {},
   "outputs": [],
   "source": [
    "ac.init_cam()"
   ]
  },
  {
   "cell_type": "code",
   "execution_count": null,
   "id": "ce167453-67b9-415a-8282-397ee1e3a01f",
   "metadata": {},
   "outputs": [],
   "source": [
    "ac.cam.close()"
   ]
  },
  {
   "cell_type": "code",
   "execution_count": null,
   "id": "815816c6-000f-4430-8309-71f28f415306",
   "metadata": {},
   "outputs": [],
   "source": [
    "ac.ad.options.speed_pendown = 10\n",
    "ac.ad.update()"
   ]
  },
  {
   "cell_type": "code",
   "execution_count": null,
   "id": "009610c0-8660-4daa-b6ab-a10335fbde89",
   "metadata": {},
   "outputs": [],
   "source": [
    "ac.plot_layers(wait_times=0.5)"
   ]
  },
  {
   "cell_type": "code",
   "execution_count": null,
   "id": "fa5a023c-f230-49ed-bab4-9d018ce1f0f9",
   "metadata": {},
   "outputs": [],
   "source": []
  },
  {
   "cell_type": "code",
   "execution_count": null,
   "id": "2af7e719-7a30-4495-bca0-55d0f933da7c",
   "metadata": {},
   "outputs": [],
   "source": []
  }
 ],
 "metadata": {
  "kernelspec": {
   "display_name": "Python [conda env:genpen]",
   "language": "python",
   "name": "conda-env-genpen-py"
  },
  "language_info": {
   "codemirror_mode": {
    "name": "ipython",
    "version": 3
   },
   "file_extension": ".py",
   "mimetype": "text/x-python",
   "name": "python",
   "nbconvert_exporter": "python",
   "pygments_lexer": "ipython3",
   "version": "3.8.8"
  }
 },
 "nbformat": 4,
 "nbformat_minor": 5
}

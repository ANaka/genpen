{
 "cells": [
  {
   "cell_type": "code",
   "execution_count": null,
   "metadata": {
    "Collapsed": "false"
   },
   "outputs": [],
   "source": [
    "import itertools\n",
    "import numpy as np\n",
    "import os\n",
    "import seaborn as sns\n",
    "from tqdm import tqdm\n",
    "from dataclasses import asdict, dataclass, field\n",
    "import vsketch\n",
    "import shapely.geometry as sg\n",
    "from shapely.geometry import box, MultiLineString, Point, MultiPoint, Polygon, MultiPolygon, LineString\n",
    "import shapely.affinity as sa\n",
    "import shapely.ops as so\n",
    "import matplotlib.pyplot as plt\n",
    "import pandas as pd\n",
    "\n",
    "import vpype_cli\n",
    "from typing import List, Generic\n",
    "from genpen import genpen as gp, utils as utils\n",
    "from scipy import stats as ss\n",
    "import geopandas\n",
    "from shapely.errors import TopologicalError\n",
    "import functools\n",
    "%load_ext autoreload\n",
    "%autoreload 2"
   ]
  },
  {
   "cell_type": "code",
   "execution_count": null,
   "metadata": {
    "Collapsed": "false"
   },
   "outputs": [],
   "source": [
    "page_x_inches: float = 11. # inches\n",
    "page_y_inches: float = 8.5 # inches\n",
    "border:float = 0.\n",
    "\n",
    "buffer_style = 2"
   ]
  },
  {
   "cell_type": "code",
   "execution_count": null,
   "metadata": {
    "Collapsed": "false"
   },
   "outputs": [],
   "source": [
    "px = utils.DistanceConverter(page_x_inches, 'inches').mm\n",
    "py = utils.DistanceConverter(page_y_inches, 'inches').mm\n",
    "page_format = f'{px}mmx{py}mm'\n",
    "drawbox = sg.box(border, border, px-border, py-border)\n",
    "\n",
    "xmin, ymin, xmax, ymax = drawbox.bounds\n"
   ]
  },
  {
   "cell_type": "code",
   "execution_count": null,
   "metadata": {
    "Collapsed": "false"
   },
   "outputs": [],
   "source": [
    "p = gp.get_random_point_in_polygon(drawbox)"
   ]
  },
  {
   "cell_type": "code",
   "execution_count": null,
   "metadata": {
    "Collapsed": "false"
   },
   "outputs": [],
   "source": [
    "drawbox.bounds"
   ]
  },
  {
   "cell_type": "code",
   "execution_count": null,
   "metadata": {
    "Collapsed": "false"
   },
   "outputs": [],
   "source": [
    "MultiPoint(start_points)"
   ]
  },
  {
   "cell_type": "code",
   "execution_count": null,
   "metadata": {
    "Collapsed": "false"
   },
   "outputs": [],
   "source": [
    "xcs, ycs = gp.overlay_grid(drawbox.buffer(-30), xstep=25, ystep=25)\n",
    "start_points = [Point(x,y) for x,y in itertools.product(xcs, ycs)]"
   ]
  },
  {
   "cell_type": "code",
   "execution_count": null,
   "metadata": {
    "Collapsed": "false"
   },
   "outputs": [],
   "source": [
    "grams = []\n",
    "for p in tqdm(start_points):\n",
    "    width = 2\n",
    "    height = 2\n",
    "    sq = gp.centered_box(p, width=width, height=height)\n",
    "\n",
    "    angle = np.random.uniform(360)\n",
    "    sq = sa.rotate(sq, angle)\n",
    "    trans_angle = np.random.uniform(np.pi*2)\n",
    "    l = sq.boundary\n",
    "    d_buffer = np.random.uniform(0.2, 0.4)\n",
    "    d_translate = 0.1\n",
    "    ls = []\n",
    "    breakpoint=np.random.uniform(0, 0.6)\n",
    "    for i in range(40):\n",
    "        sl = so.substring(l, 0., breakpoint, normalized=True)\n",
    "        jsl = gp.LineString_to_jittered_bezier(sl, n_midpoints=1, xstd=0.015, ystd=0.015, normalized=True)\n",
    "        rsl = so.substring(l, breakpoint, 1, normalized=True)\n",
    "        coords = list(jsl.coords) + list(rsl.coords)\n",
    "        sq = Polygon(coords).buffer(d_buffer, cap_style=2, join_style=2)\n",
    "        xoff = np.cos(trans_angle) * d_translate\n",
    "        yoff = np.sin(trans_angle) * d_translate\n",
    "        sq = sa.translate(sq, xoff=xoff, yoff=yoff)\n",
    "        l = sq.boundary\n",
    "        ls.append(l)\n",
    "    gram = MultiLineString(ls)\n",
    "    grams.append(gram)"
   ]
  },
  {
   "cell_type": "code",
   "execution_count": null,
   "metadata": {
    "Collapsed": "false"
   },
   "outputs": [],
   "source": [
    "layer = gp.merge_LineStrings(grams)"
   ]
  },
  {
   "cell_type": "code",
   "execution_count": null,
   "metadata": {
    "Collapsed": "false"
   },
   "outputs": [],
   "source": [
    "sk = vsketch.Vsketch()\n",
    "sk.size(page_format)\n",
    "sk.scale('1mm')\n",
    "sk.penWidth('0.25mm')\n",
    "sk.geometry(layer)\n",
    "sk.display(color_mode='none')"
   ]
  },
  {
   "cell_type": "code",
   "execution_count": null,
   "metadata": {
    "Collapsed": "false"
   },
   "outputs": [],
   "source": [
    "savepath = '/mnt/c/code/side/plotter_images/oned_outputs/0103_substring_jitter.svg'\n",
    "\n",
    "sk.save(savepath)"
   ]
  },
  {
   "cell_type": "code",
   "execution_count": null,
   "metadata": {
    "Collapsed": "false"
   },
   "outputs": [],
   "source": [
    "vpype_commands = 'reloop linesimplify --tolerance 0.01mm linemerge --tolerance 0.1mm reloop linesort'\n",
    "vpype_str = f'vpype read -q 0.05mm {savepath} {vpype_commands} write {savepath}'\n",
    "\n",
    "os.system(vpype_str)"
   ]
  },
  {
   "cell_type": "code",
   "execution_count": null,
   "metadata": {
    "Collapsed": "false"
   },
   "outputs": [],
   "source": []
  },
  {
   "cell_type": "code",
   "execution_count": null,
   "metadata": {
    "Collapsed": "false"
   },
   "outputs": [],
   "source": [
    "p = drawbox.centroid\n",
    "width = 20\n",
    "height = 20\n",
    "c = gp.centered_box(p, width=width, height=height)\n",
    "c = sa.rotate(c, angle=np.random.uniform(360))\n",
    "l = c.boundary\n",
    "ls = []\n"
   ]
  },
  {
   "cell_type": "code",
   "execution_count": null,
   "metadata": {
    "Collapsed": "false"
   },
   "outputs": [],
   "source": [
    "sl.type"
   ]
  },
  {
   "cell_type": "code",
   "execution_count": null,
   "metadata": {
    "Collapsed": "false"
   },
   "outputs": [],
   "source": [
    "sl = so.substring(l, 0., breakpoint, normalized=True)\n",
    "jsl = gp.LineString_to_jittered_bezier(sl, n_midpoints=2, xstd=0.001, ystd=0.002, normalized=True)\n",
    "jsl"
   ]
  },
  {
   "cell_type": "code",
   "execution_count": null,
   "metadata": {
    "Collapsed": "false"
   },
   "outputs": [],
   "source": [
    "rsl = so.substring(l, breakpoint, 1, normalized=True)"
   ]
  },
  {
   "cell_type": "code",
   "execution_count": null,
   "metadata": {
    "Collapsed": "false"
   },
   "outputs": [],
   "source": [
    "\n",
    "d_buffer = 0.25\n",
    "d_translate=0.15\n",
    "breakpoint = np.random.uniform(0.15,0.85)\n",
    "angle = np.random.uniform(0, np.pi*2)\n",
    "for i in range(1):\n",
    "    sl = so.substring(l, 0., breakpoint, normalized=True)\n",
    "    jsl = gp.LineString_to_jittered_bezier(sl, n_midpoints=2, xstd=0.001, ystd=0.002, normalized=True)\n",
    "    rsl = so.substring(l, breakpoint, 1, normalized=True)\n",
    "    coords = list(jsl.coords) + list(rsl.coords)\n",
    "    c = Polygon(coords).buffer(d_buffer, cap_style=2, join_style=2)\n",
    "    xoff = np.cos(angle) * d_translate\n",
    "    yoff = np.sin(angle) * d_translate\n",
    "    c = sa.translate(c, xoff=xoff, yoff=yoff)\n",
    "    l = c.boundary\n",
    "    ls.append(l)\n",
    "layer = MultiLineString(ls)"
   ]
  },
  {
   "cell_type": "code",
   "execution_count": null,
   "metadata": {
    "Collapsed": "false"
   },
   "outputs": [],
   "source": [
    "sk = vsketch.Vsketch()\n",
    "sk.size(page_format)\n",
    "sk.scale('1mm')\n",
    "sk.penWidth('0.25mm')\n",
    "sk.geometry(layer)\n",
    "sk.display(color_mode='none')"
   ]
  },
  {
   "cell_type": "code",
   "execution_count": null,
   "metadata": {
    "Collapsed": "false"
   },
   "outputs": [],
   "source": [
    "ls = LineString([(50,50), (50, 10)])"
   ]
  },
  {
   "cell_type": "code",
   "execution_count": null,
   "metadata": {
    "Collapsed": "false"
   },
   "outputs": [],
   "source": [
    "jls = gp.LineString_to_jittered_bezier(ls, n_midpoints=15, xbias=0., xstd=0.03, ybias=0., ystd=0., normalized=True, n_eval_points=50)"
   ]
  },
  {
   "cell_type": "code",
   "execution_count": null,
   "metadata": {
    "Collapsed": "false"
   },
   "outputs": [],
   "source": [
    "n_points = len(jls.coords)"
   ]
  },
  {
   "cell_type": "code",
   "execution_count": null,
   "metadata": {
    "Collapsed": "false",
    "jupyter": {
     "outputs_hidden": true
    }
   },
   "outputs": [],
   "source": [
    "gp.gaussian_random_walk(100, )"
   ]
  },
  {
   "cell_type": "code",
   "execution_count": null,
   "metadata": {
    "Collapsed": "false"
   },
   "outputs": [],
   "source": [
    "curve1 = bezier.Curve(np.asfortranarray(jitter_ls).T, degree=n_midpoints+1)\n",
    "bez = curve1.evaluate_multi(np.linspace(0., 1., n_eval_points))\n",
    "sg.asLineString(bez.T)"
   ]
  }
 ],
 "metadata": {
  "kernelspec": {
   "display_name": "Python [conda env:genpen]",
   "language": "python",
   "name": "conda-env-genpen-py"
  },
  "language_info": {
   "codemirror_mode": {
    "name": "ipython",
    "version": 3
   },
   "file_extension": ".py",
   "mimetype": "text/x-python",
   "name": "python",
   "nbconvert_exporter": "python",
   "pygments_lexer": "ipython3",
   "version": "3.8.6"
  }
 },
 "nbformat": 4,
 "nbformat_minor": 4
}

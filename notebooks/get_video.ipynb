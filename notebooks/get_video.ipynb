{
 "cells": [
  {
   "cell_type": "code",
   "execution_count": 1,
   "id": "3a4b6a8e-04d4-4c5a-a9b8-aaa53ab81e92",
   "metadata": {},
   "outputs": [],
   "source": [
    "import fn\n",
    "from genpen.axicam import AxiCam"
   ]
  },
  {
   "cell_type": "code",
   "execution_count": 2,
   "id": "05b136d2-f659-4b6e-9ea8-558995d019d1",
   "metadata": {},
   "outputs": [],
   "source": [
    "# plot_id = fn.new_plot_id()"
   ]
  },
  {
   "cell_type": "code",
   "execution_count": 3,
   "id": "addb07cd-47b7-4f5e-b835-f73f52e5a80e",
   "metadata": {},
   "outputs": [],
   "source": [
    "ac = AxiCam()"
   ]
  },
  {
   "cell_type": "code",
   "execution_count": 4,
   "id": "353527d3-b7ef-465d-8174-919597dd9d95",
   "metadata": {},
   "outputs": [
    {
     "data": {
      "text/plain": [
       "<pov.pov.Camera at 0x7fc844a701f0>"
      ]
     },
     "execution_count": 4,
     "metadata": {},
     "output_type": "execute_result"
    }
   ],
   "source": [
    "ac.init_cam()"
   ]
  },
  {
   "cell_type": "code",
   "execution_count": 5,
   "id": "f0d0b542-ae97-4c39-be4d-354e7f0b6797",
   "metadata": {},
   "outputs": [
    {
     "name": "stdout",
     "output_type": "stream",
     "text": [
      "hit q to quit\n"
     ]
    }
   ],
   "source": [
    "ac.cam.video_preview()"
   ]
  },
  {
   "cell_type": "code",
   "execution_count": 6,
   "id": "bed00258-cf8e-433b-a5f4-a0e355e4210b",
   "metadata": {},
   "outputs": [
    {
     "name": "stdout",
     "output_type": "stream",
     "text": [
      "hit q to quit\n"
     ]
    }
   ],
   "source": [
    "ac.cam.get_video(6, duration= 225 * 60)"
   ]
  },
  {
   "cell_type": "code",
   "execution_count": null,
   "id": "3dd0c2fa-4b3c-423b-9f35-3af61f26e310",
   "metadata": {},
   "outputs": [],
   "source": []
  }
 ],
 "metadata": {
  "kernelspec": {
   "display_name": "Python [conda env:genpen]",
   "language": "python",
   "name": "conda-env-genpen-py"
  },
  "language_info": {
   "codemirror_mode": {
    "name": "ipython",
    "version": 3
   },
   "file_extension": ".py",
   "mimetype": "text/x-python",
   "name": "python",
   "nbconvert_exporter": "python",
   "pygments_lexer": "ipython3",
   "version": "3.8.8"
  }
 },
 "nbformat": 4,
 "nbformat_minor": 5
}
